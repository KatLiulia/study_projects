{
 "cells": [
  {
   "cell_type": "markdown",
   "metadata": {
    "toc": true
   },
   "source": [
    "<h1>Содержание<span class=\"tocSkip\"></span></h1>\n",
    "<div class=\"toc\"><ul class=\"toc-item\"><li><span><a href=\"#Описание-проекта\" data-toc-modified-id=\"Описание-проекта-1\"><span class=\"toc-item-num\">1&nbsp;&nbsp;</span>Описание проекта</a></span><ul class=\"toc-item\"><li><span><a href=\"#Признаки\" data-toc-modified-id=\"Признаки-1.1\"><span class=\"toc-item-num\">1.1&nbsp;&nbsp;</span>Признаки</a></span></li><li><span><a href=\"#Целевой-признак\" data-toc-modified-id=\"Целевой-признак-1.2\"><span class=\"toc-item-num\">1.2&nbsp;&nbsp;</span>Целевой признак</a></span></li></ul></li><li><span><a href=\"#Подготовка-данных\" data-toc-modified-id=\"Подготовка-данных-2\"><span class=\"toc-item-num\">2&nbsp;&nbsp;</span>Подготовка данных</a></span></li><li><span><a href=\"#Исследование-задачи\" data-toc-modified-id=\"Исследование-задачи-3\"><span class=\"toc-item-num\">3&nbsp;&nbsp;</span>Исследование задачи</a></span></li><li><span><a href=\"#Борьба-с-дисбалансом\" data-toc-modified-id=\"Борьба-с-дисбалансом-4\"><span class=\"toc-item-num\">4&nbsp;&nbsp;</span>Борьба с дисбалансом</a></span><ul class=\"toc-item\"><li><span><a href=\"#Взвешивание-классов\" data-toc-modified-id=\"Взвешивание-классов-4.1\"><span class=\"toc-item-num\">4.1&nbsp;&nbsp;</span>Взвешивание классов</a></span></li><li><span><a href=\"#Увеличение-выборки\" data-toc-modified-id=\"Увеличение-выборки-4.2\"><span class=\"toc-item-num\">4.2&nbsp;&nbsp;</span>Увеличение выборки</a></span></li><li><span><a href=\"#Уменьшение-выборки\" data-toc-modified-id=\"Уменьшение-выборки-4.3\"><span class=\"toc-item-num\">4.3&nbsp;&nbsp;</span>Уменьшение выборки</a></span></li></ul></li><li><span><a href=\"#Подбор-гиперпараметров\" data-toc-modified-id=\"Подбор-гиперпараметров-5\"><span class=\"toc-item-num\">5&nbsp;&nbsp;</span>Подбор гиперпараметров</a></span></li><li><span><a href=\"#Тестирование-модели\" data-toc-modified-id=\"Тестирование-модели-6\"><span class=\"toc-item-num\">6&nbsp;&nbsp;</span>Тестирование модели</a></span></li><li><span><a href=\"#Чек-лист-готовности-проекта\" data-toc-modified-id=\"Чек-лист-готовности-проекта-7\"><span class=\"toc-item-num\">7&nbsp;&nbsp;</span>Чек-лист готовности проекта</a></span></li></ul></div>"
   ]
  },
  {
   "cell_type": "markdown",
   "metadata": {},
   "source": [
    "# Прогнозирование оттока клиентов Банка"
   ]
  },
  {
   "cell_type": "code",
   "execution_count": 1,
   "metadata": {},
   "outputs": [],
   "source": [
    "import pandas as pd\n",
    "import matplotlib.pyplot as plt\n",
    "\n",
    "from sklearn.linear_model import LogisticRegression\n",
    "from sklearn.ensemble import RandomForestClassifier\n",
    "from sklearn.preprocessing import StandardScaler\n",
    "from sklearn.utils import shuffle\n",
    "\n",
    "from sklearn.metrics import roc_auc_score\n",
    "from sklearn.metrics import roc_curve \n",
    "from sklearn.metrics import f1_score\n",
    "from sklearn.metrics import confusion_matrix\n",
    "\n",
    "from sklearn.model_selection import train_test_split\n",
    "from sklearn.model_selection import GridSearchCV"
   ]
  },
  {
   "cell_type": "markdown",
   "metadata": {},
   "source": [
    "## Описание проекта"
   ]
  },
  {
   "cell_type": "markdown",
   "metadata": {},
   "source": [
    "Из Банка стали уходить клиенты. Банковские маркетологи посчитали: сохранять текущих клиентов дешевле, чем привлекать новых.\n",
    "\n",
    "Нужно спрогнозировать, уйдёт клиент из банка в ближайшее время или нет. Вам предоставлены исторические данные о поведении клиентов и расторжении договоров с банком. \n",
    "\n",
    "Постройте модель с предельно большим значением *F1*-меры. Чтобы сдать проект успешно, нужно довести метрику до 0.59. Дополнительно измеряйте *AUC-ROC*, сравнивайте её значение с *F1*-мерой.\n",
    "\n",
    "Источник данных: [https://www.kaggle.com/barelydedicated/bank-customer-churn-modeling](https://www.kaggle.com/barelydedicated/bank-customer-churn-modeling)"
   ]
  },
  {
   "cell_type": "markdown",
   "metadata": {},
   "source": [
    "### Признаки\n",
    "\n",
    "- `RowNumber` — индекс строки в данных\n",
    "- `CustomerId`— уникальный идентификатор клиента\n",
    "- `Surname` — фамилия\n",
    "- `CreditScore` — кредитный рейтинг\n",
    "- `Geography` — страна проживания\n",
    "- `Gender` — пол\n",
    "- `Age` — возраст\n",
    "- `Tenure` — сколько лет человек является клиентом банка\n",
    "- `Balance` — баланс на счёте\n",
    "- `NumOfProducts` — количество продуктов банка, используемых клиентом\n",
    "- `HasCrCard` — наличие кредитной карты\n",
    "- `IsActiveMember` — активность клиента\n",
    "- `EstimatedSalary` — предполагаемая зарплата\n",
    "\n",
    "### Целевой признак\n",
    "\n",
    "- `Exited` — факт ухода клиента"
   ]
  },
  {
   "cell_type": "code",
   "execution_count": 2,
   "metadata": {},
   "outputs": [],
   "source": [
    "df_churn = pd.read_csv('/datasets/Churn.csv')"
   ]
  },
  {
   "cell_type": "code",
   "execution_count": 3,
   "metadata": {},
   "outputs": [
    {
     "data": {
      "text/html": [
       "<div>\n",
       "<style scoped>\n",
       "    .dataframe tbody tr th:only-of-type {\n",
       "        vertical-align: middle;\n",
       "    }\n",
       "\n",
       "    .dataframe tbody tr th {\n",
       "        vertical-align: top;\n",
       "    }\n",
       "\n",
       "    .dataframe thead th {\n",
       "        text-align: right;\n",
       "    }\n",
       "</style>\n",
       "<table border=\"1\" class=\"dataframe\">\n",
       "  <thead>\n",
       "    <tr style=\"text-align: right;\">\n",
       "      <th></th>\n",
       "      <th>RowNumber</th>\n",
       "      <th>CustomerId</th>\n",
       "      <th>Surname</th>\n",
       "      <th>CreditScore</th>\n",
       "      <th>Geography</th>\n",
       "      <th>Gender</th>\n",
       "      <th>Age</th>\n",
       "      <th>Tenure</th>\n",
       "      <th>Balance</th>\n",
       "      <th>NumOfProducts</th>\n",
       "      <th>HasCrCard</th>\n",
       "      <th>IsActiveMember</th>\n",
       "      <th>EstimatedSalary</th>\n",
       "      <th>Exited</th>\n",
       "    </tr>\n",
       "  </thead>\n",
       "  <tbody>\n",
       "    <tr>\n",
       "      <th>0</th>\n",
       "      <td>1</td>\n",
       "      <td>15634602</td>\n",
       "      <td>Hargrave</td>\n",
       "      <td>619</td>\n",
       "      <td>France</td>\n",
       "      <td>Female</td>\n",
       "      <td>42</td>\n",
       "      <td>2.0</td>\n",
       "      <td>0.00</td>\n",
       "      <td>1</td>\n",
       "      <td>1</td>\n",
       "      <td>1</td>\n",
       "      <td>101348.88</td>\n",
       "      <td>1</td>\n",
       "    </tr>\n",
       "    <tr>\n",
       "      <th>1</th>\n",
       "      <td>2</td>\n",
       "      <td>15647311</td>\n",
       "      <td>Hill</td>\n",
       "      <td>608</td>\n",
       "      <td>Spain</td>\n",
       "      <td>Female</td>\n",
       "      <td>41</td>\n",
       "      <td>1.0</td>\n",
       "      <td>83807.86</td>\n",
       "      <td>1</td>\n",
       "      <td>0</td>\n",
       "      <td>1</td>\n",
       "      <td>112542.58</td>\n",
       "      <td>0</td>\n",
       "    </tr>\n",
       "    <tr>\n",
       "      <th>2</th>\n",
       "      <td>3</td>\n",
       "      <td>15619304</td>\n",
       "      <td>Onio</td>\n",
       "      <td>502</td>\n",
       "      <td>France</td>\n",
       "      <td>Female</td>\n",
       "      <td>42</td>\n",
       "      <td>8.0</td>\n",
       "      <td>159660.80</td>\n",
       "      <td>3</td>\n",
       "      <td>1</td>\n",
       "      <td>0</td>\n",
       "      <td>113931.57</td>\n",
       "      <td>1</td>\n",
       "    </tr>\n",
       "    <tr>\n",
       "      <th>3</th>\n",
       "      <td>4</td>\n",
       "      <td>15701354</td>\n",
       "      <td>Boni</td>\n",
       "      <td>699</td>\n",
       "      <td>France</td>\n",
       "      <td>Female</td>\n",
       "      <td>39</td>\n",
       "      <td>1.0</td>\n",
       "      <td>0.00</td>\n",
       "      <td>2</td>\n",
       "      <td>0</td>\n",
       "      <td>0</td>\n",
       "      <td>93826.63</td>\n",
       "      <td>0</td>\n",
       "    </tr>\n",
       "    <tr>\n",
       "      <th>4</th>\n",
       "      <td>5</td>\n",
       "      <td>15737888</td>\n",
       "      <td>Mitchell</td>\n",
       "      <td>850</td>\n",
       "      <td>Spain</td>\n",
       "      <td>Female</td>\n",
       "      <td>43</td>\n",
       "      <td>2.0</td>\n",
       "      <td>125510.82</td>\n",
       "      <td>1</td>\n",
       "      <td>1</td>\n",
       "      <td>1</td>\n",
       "      <td>79084.10</td>\n",
       "      <td>0</td>\n",
       "    </tr>\n",
       "  </tbody>\n",
       "</table>\n",
       "</div>"
      ],
      "text/plain": [
       "   RowNumber  CustomerId   Surname  CreditScore Geography  Gender  Age  \\\n",
       "0          1    15634602  Hargrave          619    France  Female   42   \n",
       "1          2    15647311      Hill          608     Spain  Female   41   \n",
       "2          3    15619304      Onio          502    France  Female   42   \n",
       "3          4    15701354      Boni          699    France  Female   39   \n",
       "4          5    15737888  Mitchell          850     Spain  Female   43   \n",
       "\n",
       "   Tenure    Balance  NumOfProducts  HasCrCard  IsActiveMember  \\\n",
       "0     2.0       0.00              1          1               1   \n",
       "1     1.0   83807.86              1          0               1   \n",
       "2     8.0  159660.80              3          1               0   \n",
       "3     1.0       0.00              2          0               0   \n",
       "4     2.0  125510.82              1          1               1   \n",
       "\n",
       "   EstimatedSalary  Exited  \n",
       "0        101348.88       1  \n",
       "1        112542.58       0  \n",
       "2        113931.57       1  \n",
       "3         93826.63       0  \n",
       "4         79084.10       0  "
      ]
     },
     "execution_count": 3,
     "metadata": {},
     "output_type": "execute_result"
    }
   ],
   "source": [
    "df_churn.head()"
   ]
  },
  {
   "cell_type": "code",
   "execution_count": 4,
   "metadata": {},
   "outputs": [
    {
     "name": "stdout",
     "output_type": "stream",
     "text": [
      "<class 'pandas.core.frame.DataFrame'>\n",
      "RangeIndex: 10000 entries, 0 to 9999\n",
      "Data columns (total 14 columns):\n",
      " #   Column           Non-Null Count  Dtype  \n",
      "---  ------           --------------  -----  \n",
      " 0   RowNumber        10000 non-null  int64  \n",
      " 1   CustomerId       10000 non-null  int64  \n",
      " 2   Surname          10000 non-null  object \n",
      " 3   CreditScore      10000 non-null  int64  \n",
      " 4   Geography        10000 non-null  object \n",
      " 5   Gender           10000 non-null  object \n",
      " 6   Age              10000 non-null  int64  \n",
      " 7   Tenure           9091 non-null   float64\n",
      " 8   Balance          10000 non-null  float64\n",
      " 9   NumOfProducts    10000 non-null  int64  \n",
      " 10  HasCrCard        10000 non-null  int64  \n",
      " 11  IsActiveMember   10000 non-null  int64  \n",
      " 12  EstimatedSalary  10000 non-null  float64\n",
      " 13  Exited           10000 non-null  int64  \n",
      "dtypes: float64(3), int64(8), object(3)\n",
      "memory usage: 1.1+ MB\n"
     ]
    }
   ],
   "source": [
    "df_churn.info()"
   ]
  },
  {
   "cell_type": "markdown",
   "metadata": {},
   "source": [
    "Первичные выводы:\n",
    "\n",
    "- в столбце `Tenure` присутствуют пропуски;\n",
    "\n",
    "- `Geography` и `Gender` можно преобразовать в столбцы с численными переменными;\n",
    "\n",
    "- для столбцов `Age`, `Tenure`, `Balance`, `NumOfProducts`, `EstimatedSalary` можно будет произвести масштабирование признаков; "
   ]
  },
  {
   "cell_type": "markdown",
   "metadata": {},
   "source": [
    "## Подготовка данных"
   ]
  },
  {
   "cell_type": "markdown",
   "metadata": {},
   "source": [
    "Приведем названия столбцов к \"змеиному\" регистру:"
   ]
  },
  {
   "cell_type": "code",
   "execution_count": 5,
   "metadata": {},
   "outputs": [
    {
     "data": {
      "text/plain": [
       "Index(['rownumber', 'customerid', 'surname', 'creditscore', 'geography',\n",
       "       'gender', 'age', 'tenure', 'balance', 'numofproducts', 'hascrcard',\n",
       "       'isactivemember', 'estimatedsalary', 'exited'],\n",
       "      dtype='object')"
      ]
     },
     "execution_count": 5,
     "metadata": {},
     "output_type": "execute_result"
    }
   ],
   "source": [
    "df_churn.columns.str.lower()"
   ]
  },
  {
   "cell_type": "code",
   "execution_count": 6,
   "metadata": {},
   "outputs": [],
   "source": [
    "df_churn.columns = ['row_number', 'customer_id', 'surname', 'credit_score', 'geography',\n",
    "       'gender', 'age', 'tenure', 'balance', 'num_of_products', 'has_cr_card',\n",
    "       'is_active_member', 'estimated_salary', 'exited']"
   ]
  },
  {
   "cell_type": "markdown",
   "metadata": {},
   "source": [
    "Заменим пропуски в столбце `tenure` медианными значениями в зависимости от возраста:"
   ]
  },
  {
   "cell_type": "code",
   "execution_count": 7,
   "metadata": {},
   "outputs": [
    {
     "data": {
      "text/plain": [
       "0.0909"
      ]
     },
     "execution_count": 7,
     "metadata": {},
     "output_type": "execute_result"
    }
   ],
   "source": [
    "df_churn['tenure'].isna().mean()"
   ]
  },
  {
   "cell_type": "code",
   "execution_count": 8,
   "metadata": {},
   "outputs": [],
   "source": [
    "df_churn['tenure'] = df_churn['tenure'].fillna(df_churn.groupby('age')['tenure'].transform('median'))"
   ]
  },
  {
   "cell_type": "markdown",
   "metadata": {},
   "source": [
    "Преобразуем категориальные признаки в численные с помощью техники прямого кодирования:\n"
   ]
  },
  {
   "cell_type": "code",
   "execution_count": 9,
   "metadata": {},
   "outputs": [
    {
     "data": {
      "text/plain": [
       "array(['Female', 'Male'], dtype=object)"
      ]
     },
     "execution_count": 9,
     "metadata": {},
     "output_type": "execute_result"
    }
   ],
   "source": [
    "df_churn['gender'].unique()"
   ]
  },
  {
   "cell_type": "code",
   "execution_count": 10,
   "metadata": {},
   "outputs": [
    {
     "data": {
      "text/plain": [
       "array(['France', 'Spain', 'Germany'], dtype=object)"
      ]
     },
     "execution_count": 10,
     "metadata": {},
     "output_type": "execute_result"
    }
   ],
   "source": [
    "df_churn['geography'].unique()"
   ]
  },
  {
   "cell_type": "markdown",
   "metadata": {},
   "source": [
    "Чтобы избежать дамми-ловушки, используем аргумент `drop_first`:"
   ]
  },
  {
   "cell_type": "code",
   "execution_count": 11,
   "metadata": {},
   "outputs": [],
   "source": [
    "df_churn = pd.get_dummies(df_churn, columns=['gender', 'geography'], drop_first=True)"
   ]
  },
  {
   "cell_type": "markdown",
   "metadata": {},
   "source": [
    "Переименуем новые столбцы:"
   ]
  },
  {
   "cell_type": "code",
   "execution_count": 12,
   "metadata": {},
   "outputs": [],
   "source": [
    "df_churn.columns = df_churn.columns.str.lower()"
   ]
  },
  {
   "cell_type": "code",
   "execution_count": 13,
   "metadata": {},
   "outputs": [
    {
     "data": {
      "text/html": [
       "<div>\n",
       "<style scoped>\n",
       "    .dataframe tbody tr th:only-of-type {\n",
       "        vertical-align: middle;\n",
       "    }\n",
       "\n",
       "    .dataframe tbody tr th {\n",
       "        vertical-align: top;\n",
       "    }\n",
       "\n",
       "    .dataframe thead th {\n",
       "        text-align: right;\n",
       "    }\n",
       "</style>\n",
       "<table border=\"1\" class=\"dataframe\">\n",
       "  <thead>\n",
       "    <tr style=\"text-align: right;\">\n",
       "      <th></th>\n",
       "      <th>row_number</th>\n",
       "      <th>customer_id</th>\n",
       "      <th>surname</th>\n",
       "      <th>credit_score</th>\n",
       "      <th>age</th>\n",
       "      <th>tenure</th>\n",
       "      <th>balance</th>\n",
       "      <th>num_of_products</th>\n",
       "      <th>has_cr_card</th>\n",
       "      <th>is_active_member</th>\n",
       "      <th>estimated_salary</th>\n",
       "      <th>exited</th>\n",
       "      <th>gender_male</th>\n",
       "      <th>geography_germany</th>\n",
       "      <th>geography_spain</th>\n",
       "    </tr>\n",
       "  </thead>\n",
       "  <tbody>\n",
       "    <tr>\n",
       "      <th>0</th>\n",
       "      <td>1</td>\n",
       "      <td>15634602</td>\n",
       "      <td>Hargrave</td>\n",
       "      <td>619</td>\n",
       "      <td>42</td>\n",
       "      <td>2.0</td>\n",
       "      <td>0.00</td>\n",
       "      <td>1</td>\n",
       "      <td>1</td>\n",
       "      <td>1</td>\n",
       "      <td>101348.88</td>\n",
       "      <td>1</td>\n",
       "      <td>0</td>\n",
       "      <td>0</td>\n",
       "      <td>0</td>\n",
       "    </tr>\n",
       "    <tr>\n",
       "      <th>1</th>\n",
       "      <td>2</td>\n",
       "      <td>15647311</td>\n",
       "      <td>Hill</td>\n",
       "      <td>608</td>\n",
       "      <td>41</td>\n",
       "      <td>1.0</td>\n",
       "      <td>83807.86</td>\n",
       "      <td>1</td>\n",
       "      <td>0</td>\n",
       "      <td>1</td>\n",
       "      <td>112542.58</td>\n",
       "      <td>0</td>\n",
       "      <td>0</td>\n",
       "      <td>0</td>\n",
       "      <td>1</td>\n",
       "    </tr>\n",
       "    <tr>\n",
       "      <th>2</th>\n",
       "      <td>3</td>\n",
       "      <td>15619304</td>\n",
       "      <td>Onio</td>\n",
       "      <td>502</td>\n",
       "      <td>42</td>\n",
       "      <td>8.0</td>\n",
       "      <td>159660.80</td>\n",
       "      <td>3</td>\n",
       "      <td>1</td>\n",
       "      <td>0</td>\n",
       "      <td>113931.57</td>\n",
       "      <td>1</td>\n",
       "      <td>0</td>\n",
       "      <td>0</td>\n",
       "      <td>0</td>\n",
       "    </tr>\n",
       "    <tr>\n",
       "      <th>3</th>\n",
       "      <td>4</td>\n",
       "      <td>15701354</td>\n",
       "      <td>Boni</td>\n",
       "      <td>699</td>\n",
       "      <td>39</td>\n",
       "      <td>1.0</td>\n",
       "      <td>0.00</td>\n",
       "      <td>2</td>\n",
       "      <td>0</td>\n",
       "      <td>0</td>\n",
       "      <td>93826.63</td>\n",
       "      <td>0</td>\n",
       "      <td>0</td>\n",
       "      <td>0</td>\n",
       "      <td>0</td>\n",
       "    </tr>\n",
       "    <tr>\n",
       "      <th>4</th>\n",
       "      <td>5</td>\n",
       "      <td>15737888</td>\n",
       "      <td>Mitchell</td>\n",
       "      <td>850</td>\n",
       "      <td>43</td>\n",
       "      <td>2.0</td>\n",
       "      <td>125510.82</td>\n",
       "      <td>1</td>\n",
       "      <td>1</td>\n",
       "      <td>1</td>\n",
       "      <td>79084.10</td>\n",
       "      <td>0</td>\n",
       "      <td>0</td>\n",
       "      <td>0</td>\n",
       "      <td>1</td>\n",
       "    </tr>\n",
       "  </tbody>\n",
       "</table>\n",
       "</div>"
      ],
      "text/plain": [
       "   row_number  customer_id   surname  credit_score  age  tenure    balance  \\\n",
       "0           1     15634602  Hargrave           619   42     2.0       0.00   \n",
       "1           2     15647311      Hill           608   41     1.0   83807.86   \n",
       "2           3     15619304      Onio           502   42     8.0  159660.80   \n",
       "3           4     15701354      Boni           699   39     1.0       0.00   \n",
       "4           5     15737888  Mitchell           850   43     2.0  125510.82   \n",
       "\n",
       "   num_of_products  has_cr_card  is_active_member  estimated_salary  exited  \\\n",
       "0                1            1                 1         101348.88       1   \n",
       "1                1            0                 1         112542.58       0   \n",
       "2                3            1                 0         113931.57       1   \n",
       "3                2            0                 0          93826.63       0   \n",
       "4                1            1                 1          79084.10       0   \n",
       "\n",
       "   gender_male  geography_germany  geography_spain  \n",
       "0            0                  0                0  \n",
       "1            0                  0                1  \n",
       "2            0                  0                0  \n",
       "3            0                  0                0  \n",
       "4            0                  0                1  "
      ]
     },
     "execution_count": 13,
     "metadata": {},
     "output_type": "execute_result"
    }
   ],
   "source": [
    "df_churn.head()"
   ]
  },
  {
   "cell_type": "markdown",
   "metadata": {},
   "source": [
    "Подготовим признаки и целевой признак:"
   ]
  },
  {
   "cell_type": "code",
   "execution_count": 14,
   "metadata": {},
   "outputs": [],
   "source": [
    "features = df_churn.drop(['exited', 'row_number', 'customer_id', 'surname'], axis=1)\n",
    "target = df_churn['exited']"
   ]
  },
  {
   "cell_type": "markdown",
   "metadata": {},
   "source": [
    "Разделим данные на обучающую, валидационную и тестовую выборки с соотношением 3:1:1 соответственно."
   ]
  },
  {
   "cell_type": "code",
   "execution_count": 15,
   "metadata": {},
   "outputs": [],
   "source": [
    "features_train, features_valid_test, target_train, target_valid_test = train_test_split(\n",
    "    features, target, test_size = 0.4, random_state=12345)"
   ]
  },
  {
   "cell_type": "code",
   "execution_count": 16,
   "metadata": {},
   "outputs": [],
   "source": [
    "features_valid, features_test, target_valid, target_test = train_test_split(\n",
    "    features_valid_test, target_valid_test, test_size = 0.5, random_state=12345)"
   ]
  },
  {
   "cell_type": "markdown",
   "metadata": {},
   "source": [
    "Приведем количественные признаки к одному масштабу с помощью стандартизации данных:"
   ]
  },
  {
   "cell_type": "code",
   "execution_count": 17,
   "metadata": {
    "collapsed": true
   },
   "outputs": [
    {
     "name": "stderr",
     "output_type": "stream",
     "text": [
      "/tmp/ipykernel_136/2615528341.py:6: SettingWithCopyWarning: \n",
      "A value is trying to be set on a copy of a slice from a DataFrame.\n",
      "Try using .loc[row_indexer,col_indexer] = value instead\n",
      "\n",
      "See the caveats in the documentation: https://pandas.pydata.org/pandas-docs/stable/user_guide/indexing.html#returning-a-view-versus-a-copy\n",
      "  features_train[numeric] = scaler.transform(features_train[numeric])\n",
      "/opt/conda/lib/python3.9/site-packages/pandas/core/indexing.py:1738: SettingWithCopyWarning: \n",
      "A value is trying to be set on a copy of a slice from a DataFrame.\n",
      "Try using .loc[row_indexer,col_indexer] = value instead\n",
      "\n",
      "See the caveats in the documentation: https://pandas.pydata.org/pandas-docs/stable/user_guide/indexing.html#returning-a-view-versus-a-copy\n",
      "  self._setitem_single_column(loc, value[:, i].tolist(), pi)\n",
      "/tmp/ipykernel_136/2615528341.py:8: SettingWithCopyWarning: \n",
      "A value is trying to be set on a copy of a slice from a DataFrame.\n",
      "Try using .loc[row_indexer,col_indexer] = value instead\n",
      "\n",
      "See the caveats in the documentation: https://pandas.pydata.org/pandas-docs/stable/user_guide/indexing.html#returning-a-view-versus-a-copy\n",
      "  features_valid[numeric] = scaler.transform(features_valid[numeric])\n",
      "/opt/conda/lib/python3.9/site-packages/pandas/core/indexing.py:1738: SettingWithCopyWarning: \n",
      "A value is trying to be set on a copy of a slice from a DataFrame.\n",
      "Try using .loc[row_indexer,col_indexer] = value instead\n",
      "\n",
      "See the caveats in the documentation: https://pandas.pydata.org/pandas-docs/stable/user_guide/indexing.html#returning-a-view-versus-a-copy\n",
      "  self._setitem_single_column(loc, value[:, i].tolist(), pi)\n",
      "/tmp/ipykernel_136/2615528341.py:9: SettingWithCopyWarning: \n",
      "A value is trying to be set on a copy of a slice from a DataFrame.\n",
      "Try using .loc[row_indexer,col_indexer] = value instead\n",
      "\n",
      "See the caveats in the documentation: https://pandas.pydata.org/pandas-docs/stable/user_guide/indexing.html#returning-a-view-versus-a-copy\n",
      "  features_test[numeric] = scaler.transform(features_test[numeric])\n",
      "/opt/conda/lib/python3.9/site-packages/pandas/core/indexing.py:1738: SettingWithCopyWarning: \n",
      "A value is trying to be set on a copy of a slice from a DataFrame.\n",
      "Try using .loc[row_indexer,col_indexer] = value instead\n",
      "\n",
      "See the caveats in the documentation: https://pandas.pydata.org/pandas-docs/stable/user_guide/indexing.html#returning-a-view-versus-a-copy\n",
      "  self._setitem_single_column(loc, value[:, i].tolist(), pi)\n"
     ]
    }
   ],
   "source": [
    "numeric = ['age', 'tenure', 'balance', 'num_of_products', 'estimated_salary']\n",
    "\n",
    "scaler = StandardScaler()\n",
    "scaler.fit(features_train[numeric])\n",
    "\n",
    "features_train[numeric] = scaler.transform(features_train[numeric])\n",
    "\n",
    "features_valid[numeric] = scaler.transform(features_valid[numeric])\n",
    "features_test[numeric] = scaler.transform(features_test[numeric])"
   ]
  },
  {
   "cell_type": "code",
   "execution_count": 18,
   "metadata": {},
   "outputs": [
    {
     "data": {
      "text/html": [
       "<div>\n",
       "<style scoped>\n",
       "    .dataframe tbody tr th:only-of-type {\n",
       "        vertical-align: middle;\n",
       "    }\n",
       "\n",
       "    .dataframe tbody tr th {\n",
       "        vertical-align: top;\n",
       "    }\n",
       "\n",
       "    .dataframe thead th {\n",
       "        text-align: right;\n",
       "    }\n",
       "</style>\n",
       "<table border=\"1\" class=\"dataframe\">\n",
       "  <thead>\n",
       "    <tr style=\"text-align: right;\">\n",
       "      <th></th>\n",
       "      <th>credit_score</th>\n",
       "      <th>age</th>\n",
       "      <th>tenure</th>\n",
       "      <th>balance</th>\n",
       "      <th>num_of_products</th>\n",
       "      <th>has_cr_card</th>\n",
       "      <th>is_active_member</th>\n",
       "      <th>estimated_salary</th>\n",
       "      <th>gender_male</th>\n",
       "      <th>geography_germany</th>\n",
       "      <th>geography_spain</th>\n",
       "    </tr>\n",
       "  </thead>\n",
       "  <tbody>\n",
       "    <tr>\n",
       "      <th>7479</th>\n",
       "      <td>567</td>\n",
       "      <td>-0.373192</td>\n",
       "      <td>1.081900</td>\n",
       "      <td>1.232271</td>\n",
       "      <td>-0.891560</td>\n",
       "      <td>1</td>\n",
       "      <td>0</td>\n",
       "      <td>-0.187705</td>\n",
       "      <td>1</td>\n",
       "      <td>0</td>\n",
       "      <td>1</td>\n",
       "    </tr>\n",
       "    <tr>\n",
       "      <th>3411</th>\n",
       "      <td>711</td>\n",
       "      <td>-0.183385</td>\n",
       "      <td>1.081900</td>\n",
       "      <td>0.600563</td>\n",
       "      <td>-0.891560</td>\n",
       "      <td>0</td>\n",
       "      <td>0</td>\n",
       "      <td>-0.333945</td>\n",
       "      <td>0</td>\n",
       "      <td>0</td>\n",
       "      <td>0</td>\n",
       "    </tr>\n",
       "    <tr>\n",
       "      <th>6027</th>\n",
       "      <td>850</td>\n",
       "      <td>0.480939</td>\n",
       "      <td>-0.736979</td>\n",
       "      <td>1.027098</td>\n",
       "      <td>0.830152</td>\n",
       "      <td>0</td>\n",
       "      <td>1</td>\n",
       "      <td>1.503095</td>\n",
       "      <td>1</td>\n",
       "      <td>1</td>\n",
       "      <td>0</td>\n",
       "    </tr>\n",
       "    <tr>\n",
       "      <th>1247</th>\n",
       "      <td>512</td>\n",
       "      <td>-1.417129</td>\n",
       "      <td>0.354348</td>\n",
       "      <td>-1.233163</td>\n",
       "      <td>0.830152</td>\n",
       "      <td>1</td>\n",
       "      <td>0</td>\n",
       "      <td>-1.071061</td>\n",
       "      <td>1</td>\n",
       "      <td>0</td>\n",
       "      <td>0</td>\n",
       "    </tr>\n",
       "    <tr>\n",
       "      <th>3716</th>\n",
       "      <td>665</td>\n",
       "      <td>-1.132419</td>\n",
       "      <td>-1.100755</td>\n",
       "      <td>1.140475</td>\n",
       "      <td>-0.891560</td>\n",
       "      <td>0</td>\n",
       "      <td>0</td>\n",
       "      <td>1.524268</td>\n",
       "      <td>0</td>\n",
       "      <td>1</td>\n",
       "      <td>0</td>\n",
       "    </tr>\n",
       "  </tbody>\n",
       "</table>\n",
       "</div>"
      ],
      "text/plain": [
       "      credit_score       age    tenure   balance  num_of_products  \\\n",
       "7479           567 -0.373192  1.081900  1.232271        -0.891560   \n",
       "3411           711 -0.183385  1.081900  0.600563        -0.891560   \n",
       "6027           850  0.480939 -0.736979  1.027098         0.830152   \n",
       "1247           512 -1.417129  0.354348 -1.233163         0.830152   \n",
       "3716           665 -1.132419 -1.100755  1.140475        -0.891560   \n",
       "\n",
       "      has_cr_card  is_active_member  estimated_salary  gender_male  \\\n",
       "7479            1                 0         -0.187705            1   \n",
       "3411            0                 0         -0.333945            0   \n",
       "6027            0                 1          1.503095            1   \n",
       "1247            1                 0         -1.071061            1   \n",
       "3716            0                 0          1.524268            0   \n",
       "\n",
       "      geography_germany  geography_spain  \n",
       "7479                  0                1  \n",
       "3411                  0                0  \n",
       "6027                  1                0  \n",
       "1247                  0                0  \n",
       "3716                  1                0  "
      ]
     },
     "execution_count": 18,
     "metadata": {},
     "output_type": "execute_result"
    }
   ],
   "source": [
    "features_train.head()"
   ]
  },
  {
   "cell_type": "markdown",
   "metadata": {},
   "source": [
    "## Исследование задачи"
   ]
  },
  {
   "cell_type": "markdown",
   "metadata": {},
   "source": [
    "Изучим баланс классов в целевом признаке: "
   ]
  },
  {
   "cell_type": "code",
   "execution_count": 19,
   "metadata": {},
   "outputs": [
    {
     "name": "stdout",
     "output_type": "stream",
     "text": [
      "0    0.7963\n",
      "1    0.2037\n",
      "Name: exited, dtype: float64\n"
     ]
    },
    {
     "data": {
      "text/plain": [
       "<AxesSubplot:>"
      ]
     },
     "execution_count": 19,
     "metadata": {},
     "output_type": "execute_result"
    },
    {
     "data": {
      "image/png": "[encoded data removed]",
      "text/plain": [
       "<Figure size 432x288 with 1 Axes>"
      ]
     },
     "metadata": {
      "needs_background": "light"
     },
     "output_type": "display_data"
    }
   ],
   "source": [
    "class_frequency = df_churn['exited'].value_counts(normalize=True)\n",
    "print(class_frequency)\n",
    "\n",
    "class_frequency.plot(kind='bar')"
   ]
  },
  {
   "cell_type": "markdown",
   "metadata": {},
   "source": [
    "По графику заметен дисбаланс классов - на положительный класс приходится только около 20%."
   ]
  },
  {
   "cell_type": "markdown",
   "metadata": {},
   "source": [
    "Исследуем дисбаланс на двух моделях:"
   ]
  },
  {
   "cell_type": "code",
   "execution_count": 20,
   "metadata": {},
   "outputs": [],
   "source": [
    "model_forest = RandomForestClassifier(random_state=12345) \n",
    "\n",
    "model_forest.fit(features_train, target_train)\n",
    "predicted_valid_forest = model_forest.predict(features_valid)"
   ]
  },
  {
   "cell_type": "code",
   "execution_count": 21,
   "metadata": {},
   "outputs": [],
   "source": [
    "model_lr = LogisticRegression(random_state=12345, solver='liblinear')\n",
    "\n",
    "model_lr.fit(features_train, target_train)\n",
    "predicted_valid_lr = model_lr.predict(features_valid)"
   ]
  },
  {
   "cell_type": "markdown",
   "metadata": {},
   "source": [
    "Изучим матрицу ошибок обеих моделей:"
   ]
  },
  {
   "cell_type": "code",
   "execution_count": 22,
   "metadata": {},
   "outputs": [
    {
     "data": {
      "text/plain": [
       "array([[1525,   57],\n",
       "       [ 228,  190]])"
      ]
     },
     "execution_count": 22,
     "metadata": {},
     "output_type": "execute_result"
    }
   ],
   "source": [
    "confusion_matrix(target_valid, predicted_valid_forest)"
   ]
  },
  {
   "cell_type": "code",
   "execution_count": 23,
   "metadata": {},
   "outputs": [
    {
     "data": {
      "text/plain": [
       "array([[1505,   77],\n",
       "       [ 321,   97]])"
      ]
     },
     "execution_count": 23,
     "metadata": {},
     "output_type": "execute_result"
    }
   ],
   "source": [
    "confusion_matrix(target_valid, predicted_valid_lr)"
   ]
  },
  {
   "cell_type": "markdown",
   "metadata": {},
   "source": [
    "По получившимся матрицам видим, что модели часто выдают ложноотрицательный результат. \n",
    "\n",
    "Посчитаем также метрику F1:"
   ]
  },
  {
   "cell_type": "code",
   "execution_count": 24,
   "metadata": {},
   "outputs": [
    {
     "data": {
      "text/plain": [
       "0.5714285714285714"
      ]
     },
     "execution_count": 24,
     "metadata": {},
     "output_type": "execute_result"
    }
   ],
   "source": [
    "f1_score(target_valid, predicted_valid_forest)"
   ]
  },
  {
   "cell_type": "code",
   "execution_count": 25,
   "metadata": {},
   "outputs": [
    {
     "data": {
      "text/plain": [
       "0.3277027027027027"
      ]
     },
     "execution_count": 25,
     "metadata": {},
     "output_type": "execute_result"
    }
   ],
   "source": [
    "f1_score(target_valid, predicted_valid_lr)"
   ]
  },
  {
   "cell_type": "markdown",
   "metadata": {},
   "source": [
    "F1-мера показывает недостаточно хорошее значение, особенно для модели логистической регрессии."
   ]
  },
  {
   "cell_type": "markdown",
   "metadata": {},
   "source": [
    "## Борьба с дисбалансом"
   ]
  },
  {
   "cell_type": "markdown",
   "metadata": {},
   "source": [
    "Исследуем несколько способов борьбы с дисбалансом классов и выберем способ с наилучшей F1-мерой."
   ]
  },
  {
   "cell_type": "markdown",
   "metadata": {},
   "source": [
    "### Взвешивание классов"
   ]
  },
  {
   "cell_type": "code",
   "execution_count": 26,
   "metadata": {},
   "outputs": [
    {
     "name": "stdout",
     "output_type": "stream",
     "text": [
      "F1: 0.4905982905982907\n"
     ]
    }
   ],
   "source": [
    "model_lr = LogisticRegression(random_state=12345, solver='liblinear', class_weight='balanced')\n",
    "\n",
    "model_lr.fit(features_train, target_train)\n",
    "predicted_valid_lr = model_lr.predict(features_valid)\n",
    "\n",
    "print(\"F1:\", f1_score(target_valid, predicted_valid_lr))"
   ]
  },
  {
   "cell_type": "markdown",
   "metadata": {},
   "source": [
    "F1-мера с 0.33 заметно увеличилась до 0.49, но, в целом, результат остается плохим."
   ]
  },
  {
   "cell_type": "code",
   "execution_count": 27,
   "metadata": {},
   "outputs": [
    {
     "name": "stdout",
     "output_type": "stream",
     "text": [
      "F1: 0.5819295558958653\n"
     ]
    }
   ],
   "source": [
    "model_forest = RandomForestClassifier(random_state=12345, class_weight='balanced') \n",
    "\n",
    "model_forest.fit(features_train, target_train)\n",
    "predicted_valid_forest = model_forest.predict(features_valid)\n",
    "\n",
    "print(\"F1:\", f1_score(target_valid, predicted_valid_forest))"
   ]
  },
  {
   "cell_type": "markdown",
   "metadata": {},
   "source": [
    "F1-мера с 0.571 немного увеличилась до 0.582, но, в целом, результат неудовлетворительный."
   ]
  },
  {
   "cell_type": "markdown",
   "metadata": {},
   "source": [
    "### Увеличение выборки"
   ]
  },
  {
   "cell_type": "markdown",
   "metadata": {},
   "source": [
    "Создадим и применим функцию `upsample` для увеличения в выборке объектов положительного класса:"
   ]
  },
  {
   "cell_type": "code",
   "execution_count": 28,
   "metadata": {},
   "outputs": [],
   "source": [
    "def upsample(features, target, repeat):\n",
    "    features_zeros = features[target == 0]\n",
    "    features_ones = features[target == 1]\n",
    "    target_zeros = target[target == 0]\n",
    "    target_ones = target[target == 1]\n",
    "\n",
    "    features_upsampled = pd.concat([features_zeros] + [features_ones] * repeat)\n",
    "    target_upsampled = pd.concat([target_zeros] + [target_ones] * repeat)\n",
    "    \n",
    "    features_upsampled, target_upsampled = shuffle(\n",
    "        features_upsampled, target_upsampled, random_state=12345)\n",
    "    \n",
    "    return features_upsampled, target_upsampled"
   ]
  },
  {
   "cell_type": "code",
   "execution_count": 29,
   "metadata": {},
   "outputs": [],
   "source": [
    "features_upsampled, target_upsampled = upsample(features_train, target_train, 4)"
   ]
  },
  {
   "cell_type": "code",
   "execution_count": 30,
   "metadata": {},
   "outputs": [
    {
     "name": "stdout",
     "output_type": "stream",
     "text": [
      "F1: 0.48843187660668386\n"
     ]
    }
   ],
   "source": [
    "model_lr = LogisticRegression(random_state=12345, solver='liblinear')\n",
    "\n",
    "model_lr.fit(features_upsampled, target_upsampled)\n",
    "predicted_valid_lr = model_lr.predict(features_valid)\n",
    "\n",
    "print(\"F1:\", f1_score(target_valid, predicted_valid_lr))"
   ]
  },
  {
   "cell_type": "code",
   "execution_count": 31,
   "metadata": {},
   "outputs": [
    {
     "name": "stdout",
     "output_type": "stream",
     "text": [
      "F1: 0.6008010680907877\n"
     ]
    }
   ],
   "source": [
    "model_forest = RandomForestClassifier(random_state=12345) \n",
    "\n",
    "model_forest.fit(features_upsampled, target_upsampled)\n",
    "predicted_valid_forest = model_forest.predict(features_valid)\n",
    "\n",
    "print(\"F1:\", f1_score(target_valid, predicted_valid_forest))"
   ]
  },
  {
   "cell_type": "code",
   "execution_count": 32,
   "metadata": {},
   "outputs": [
    {
     "data": {
      "text/plain": [
       "0    0.501043\n",
       "1    0.498957\n",
       "Name: exited, dtype: float64"
      ]
     },
     "execution_count": 32,
     "metadata": {},
     "output_type": "execute_result"
    }
   ],
   "source": [
    "target_upsampled.value_counts(normalize=True)"
   ]
  },
  {
   "cell_type": "markdown",
   "metadata": {},
   "source": [
    "F1-мера заметно увеличилась."
   ]
  },
  {
   "cell_type": "markdown",
   "metadata": {},
   "source": [
    "### Уменьшение выборки"
   ]
  },
  {
   "cell_type": "markdown",
   "metadata": {},
   "source": [
    "Создадим и применим функцию `downsample` для уменьшения в выборке объектов отрицательного класса:"
   ]
  },
  {
   "cell_type": "code",
   "execution_count": 33,
   "metadata": {},
   "outputs": [],
   "source": [
    "def downsample(features, target, fraction):\n",
    "    features_zeros = features[target == 0]\n",
    "    features_ones = features[target == 1]\n",
    "    target_zeros = target[target == 0]\n",
    "    target_ones = target[target == 1]\n",
    "\n",
    "    features_downsampled = pd.concat(\n",
    "        [features_zeros.sample(frac=fraction, random_state=12345)] + [features_ones])\n",
    "    target_downsampled = pd.concat(\n",
    "        [target_zeros.sample(frac=fraction, random_state=12345)] + [target_ones])\n",
    "    \n",
    "    features_downsampled, target_downsampled = shuffle(\n",
    "        features_downsampled, target_downsampled, random_state=12345)\n",
    "    \n",
    "    return features_downsampled, target_downsampled"
   ]
  },
  {
   "cell_type": "code",
   "execution_count": 34,
   "metadata": {},
   "outputs": [],
   "source": [
    "features_downsampled, target_downsampled = downsample(features_train, target_train, 0.25)"
   ]
  },
  {
   "cell_type": "code",
   "execution_count": 35,
   "metadata": {},
   "outputs": [
    {
     "name": "stdout",
     "output_type": "stream",
     "text": [
      "F1: 0.48620689655172417\n"
     ]
    }
   ],
   "source": [
    "model_lr = LogisticRegression(random_state=12345, solver='liblinear')\n",
    "\n",
    "model_lr.fit(features_downsampled, target_downsampled)\n",
    "predicted_valid_lr = model_lr.predict(features_valid)\n",
    "\n",
    "print(\"F1:\", f1_score(target_valid, predicted_valid_lr))"
   ]
  },
  {
   "cell_type": "code",
   "execution_count": 36,
   "metadata": {},
   "outputs": [
    {
     "name": "stdout",
     "output_type": "stream",
     "text": [
      "F1: 0.590566037735849\n"
     ]
    }
   ],
   "source": [
    "model_forest = RandomForestClassifier(random_state=12345)\n",
    "\n",
    "model_forest.fit(features_downsampled, target_downsampled)\n",
    "predicted_valid_forest = model_forest.predict(features_valid)\n",
    "\n",
    "print(\"F1:\", f1_score(target_valid, predicted_valid_forest))"
   ]
  },
  {
   "cell_type": "code",
   "execution_count": 37,
   "metadata": {},
   "outputs": [
    {
     "data": {
      "text/plain": [
       "0    0.501043\n",
       "1    0.498957\n",
       "Name: exited, dtype: float64"
      ]
     },
     "execution_count": 37,
     "metadata": {},
     "output_type": "execute_result"
    }
   ],
   "source": [
    "target_downsampled.value_counts(normalize=True)"
   ]
  },
  {
   "cell_type": "markdown",
   "metadata": {},
   "source": [
    "После уменьшения выборки F1-мера увеличилась у обеих моделей, но наилучший результат мы получили при её увеличении, следовательно, для дальнейшего исследования выбираем способ с увеличением выборки и  модель Лес."
   ]
  },
  {
   "cell_type": "markdown",
   "metadata": {},
   "source": [
    "## Подбор гиперпараметров"
   ]
  },
  {
   "cell_type": "markdown",
   "metadata": {},
   "source": [
    "Определим гиперпараметры с помощью функции `GridSearchCV`:"
   ]
  },
  {
   "cell_type": "code",
   "execution_count": 38,
   "metadata": {},
   "outputs": [],
   "source": [
    "clf = RandomForestClassifier(random_state=12345)\n",
    "\n",
    "parametrs = {'n_estimators': range (28, 33, 2),\n",
    "              'max_depth': range (15, 19, 2) ,\n",
    "              'min_samples_leaf': range (2, 4),\n",
    "              'min_samples_split': range (6, 10, 2) }"
   ]
  },
  {
   "cell_type": "code",
   "execution_count": 39,
   "metadata": {},
   "outputs": [
    {
     "data": {
      "text/plain": [
       "{'max_depth': 17,\n",
       " 'min_samples_leaf': 3,\n",
       " 'min_samples_split': 8,\n",
       " 'n_estimators': 32}"
      ]
     },
     "execution_count": 39,
     "metadata": {},
     "output_type": "execute_result"
    }
   ],
   "source": [
    "grid = GridSearchCV(clf, parametrs, cv=5)\n",
    "grid.fit(features_downsampled, target_downsampled)\n",
    "\n",
    "grid.best_params_"
   ]
  },
  {
   "cell_type": "markdown",
   "metadata": {},
   "source": [
    "Обучим итоговую модель с учетом дисбаланса классов и найденными гиперпараметрами:"
   ]
  },
  {
   "cell_type": "code",
   "execution_count": 40,
   "metadata": {},
   "outputs": [
    {
     "name": "stdout",
     "output_type": "stream",
     "text": [
      "F1: 0.605080831408776\n"
     ]
    }
   ],
   "source": [
    "model_balanced = RandomForestClassifier(random_state=12345, max_depth=17, n_estimators=32, \n",
    "                                        min_samples_leaf=3 , min_samples_split=8) \n",
    "\n",
    "model_balanced.fit(features_upsampled, target_upsampled)\n",
    "predicted_valid = model_balanced.predict(features_valid)\n",
    "\n",
    "print(\"F1:\", f1_score(target_valid, predicted_valid))"
   ]
  },
  {
   "cell_type": "markdown",
   "metadata": {},
   "source": [
    "## Тестирование модели"
   ]
  },
  {
   "cell_type": "code",
   "execution_count": 41,
   "metadata": {},
   "outputs": [
    {
     "name": "stdout",
     "output_type": "stream",
     "text": [
      "F1: 0.608092485549133\n"
     ]
    }
   ],
   "source": [
    "prediction = model_balanced.predict(features_test)\n",
    "\n",
    "print(\"F1:\", f1_score(target_test, prediction))"
   ]
  },
  {
   "cell_type": "markdown",
   "metadata": {},
   "source": [
    "Метрика F1 получилась близкой к метрике на обучающей выборке и немного больше 0.59.\n",
    "\n",
    "Изучим метрику AUC-ROC:"
   ]
  },
  {
   "cell_type": "code",
   "execution_count": 42,
   "metadata": {},
   "outputs": [],
   "source": [
    "probabilities_test = model_balanced.predict_proba(features_test)\n",
    "probabilities_one_test = probabilities_test[:, 1]"
   ]
  },
  {
   "cell_type": "code",
   "execution_count": 43,
   "metadata": {},
   "outputs": [
    {
     "data": {
      "image/png": "[encoded data removed]",
      "text/plain": [
       "<Figure size 432x288 with 1 Axes>"
      ]
     },
     "metadata": {
      "needs_background": "light"
     },
     "output_type": "display_data"
    }
   ],
   "source": [
    "fpr, tpr, thresholds = roc_curve(target_test, probabilities_one_test) \n",
    "\n",
    "plt.figure()\n",
    "\n",
    "plt.plot([0, 1], [0, 1], linestyle='--')\n",
    "\n",
    "plt.plot(fpr, tpr)\n",
    "plt.xlim([0.0, 1.0])\n",
    "plt.ylim([0.0, 1.0])\n",
    "plt.xlabel('False Positive Rate')\n",
    "plt.ylabel('True Positive Rate')\n",
    "plt.title('ROC-кривая')\n",
    "plt.show() "
   ]
  },
  {
   "cell_type": "code",
   "execution_count": 44,
   "metadata": {},
   "outputs": [
    {
     "data": {
      "text/plain": [
       "0.8531093391857838"
      ]
     },
     "execution_count": 44,
     "metadata": {},
     "output_type": "execute_result"
    }
   ],
   "source": [
    "roc_auc_score(target_test, probabilities_one_test)"
   ]
  },
  {
   "cell_type": "markdown",
   "metadata": {},
   "source": [
    "В итоге, мы получили обученную модель с значениями F1 равной 0.608 и AUC-ROC равной 0.853 для тестовой выборки."
   ]
  }
 ],
 "metadata": {
  "ExecuteTimeLog": [
   {
    "duration": 1307,
    "start_time": "2022-05-11T13:30:11.757Z"
   },
   {
    "duration": 113,
    "start_time": "2022-05-11T13:31:34.167Z"
   },
   {
    "duration": 32,
    "start_time": "2022-05-11T13:31:36.758Z"
   },
   {
    "duration": 20,
    "start_time": "2022-05-11T13:31:37.896Z"
   },
   {
    "duration": 13,
    "start_time": "2022-05-11T13:31:43.948Z"
   },
   {
    "duration": 8,
    "start_time": "2022-05-11T13:31:56.709Z"
   },
   {
    "duration": 3,
    "start_time": "2022-05-11T13:37:51.488Z"
   },
   {
    "duration": 21,
    "start_time": "2022-05-11T13:47:40.727Z"
   },
   {
    "duration": 5,
    "start_time": "2022-05-11T13:54:57.019Z"
   },
   {
    "duration": 12,
    "start_time": "2022-05-11T13:55:00.919Z"
   },
   {
    "duration": 8,
    "start_time": "2022-05-11T13:55:08.474Z"
   },
   {
    "duration": 15,
    "start_time": "2022-05-11T13:55:12.431Z"
   },
   {
    "duration": 11,
    "start_time": "2022-05-11T14:01:17.632Z"
   },
   {
    "duration": 25,
    "start_time": "2022-05-11T14:01:38.310Z"
   },
   {
    "duration": 5,
    "start_time": "2022-05-11T14:01:48.013Z"
   },
   {
    "duration": 13,
    "start_time": "2022-05-11T14:20:15.043Z"
   },
   {
    "duration": 3,
    "start_time": "2022-05-11T14:20:45.263Z"
   },
   {
    "duration": 13,
    "start_time": "2022-05-11T14:20:48.325Z"
   },
   {
    "duration": 12,
    "start_time": "2022-05-11T14:23:39.108Z"
   },
   {
    "duration": 189,
    "start_time": "2022-05-11T14:23:44.128Z"
   },
   {
    "duration": 232,
    "start_time": "2022-05-11T14:25:26.775Z"
   },
   {
    "duration": 9,
    "start_time": "2022-05-11T14:26:06.892Z"
   },
   {
    "duration": 28,
    "start_time": "2022-05-11T14:26:35.774Z"
   },
   {
    "duration": 3,
    "start_time": "2022-05-11T14:26:36.905Z"
   },
   {
    "duration": 13,
    "start_time": "2022-05-11T14:26:38.504Z"
   },
   {
    "duration": 4,
    "start_time": "2022-05-11T14:28:39.789Z"
   },
   {
    "duration": 27,
    "start_time": "2022-05-11T14:28:48.135Z"
   },
   {
    "duration": 4,
    "start_time": "2022-05-11T14:28:50.452Z"
   },
   {
    "duration": 3,
    "start_time": "2022-05-11T14:29:16.859Z"
   },
   {
    "duration": 5,
    "start_time": "2022-05-11T14:29:19.467Z"
   },
   {
    "duration": 27,
    "start_time": "2022-05-11T14:38:36.171Z"
   },
   {
    "duration": 4,
    "start_time": "2022-05-11T14:39:15.071Z"
   },
   {
    "duration": 4,
    "start_time": "2022-05-11T14:39:17.218Z"
   },
   {
    "duration": 13,
    "start_time": "2022-05-11T14:39:30.710Z"
   },
   {
    "duration": 45,
    "start_time": "2022-05-11T14:39:57.251Z"
   },
   {
    "duration": 4,
    "start_time": "2022-05-11T14:39:58.380Z"
   },
   {
    "duration": 27,
    "start_time": "2022-05-11T14:39:59.758Z"
   },
   {
    "duration": 12,
    "start_time": "2022-05-11T14:42:00.451Z"
   },
   {
    "duration": 4,
    "start_time": "2022-05-11T14:42:29.169Z"
   },
   {
    "duration": 12,
    "start_time": "2022-05-11T14:42:53.210Z"
   },
   {
    "duration": 10,
    "start_time": "2022-05-11T14:46:43.489Z"
   },
   {
    "duration": 10,
    "start_time": "2022-05-11T14:47:03.789Z"
   },
   {
    "duration": 11,
    "start_time": "2022-05-11T14:47:30.063Z"
   },
   {
    "duration": 5,
    "start_time": "2022-05-11T14:47:34.200Z"
   },
   {
    "duration": 27,
    "start_time": "2022-05-11T14:47:52.778Z"
   },
   {
    "duration": 3,
    "start_time": "2022-05-11T14:47:54.049Z"
   },
   {
    "duration": 16,
    "start_time": "2022-05-11T14:47:55.128Z"
   },
   {
    "duration": 9,
    "start_time": "2022-05-11T14:48:49.549Z"
   },
   {
    "duration": 6,
    "start_time": "2022-05-11T14:48:59.190Z"
   },
   {
    "duration": 10,
    "start_time": "2022-05-11T14:56:44.850Z"
   },
   {
    "duration": 3484,
    "start_time": "2022-05-11T14:56:49.810Z"
   },
   {
    "duration": 13,
    "start_time": "2022-05-11T14:56:55.870Z"
   },
   {
    "duration": 27,
    "start_time": "2022-05-11T14:57:12.378Z"
   },
   {
    "duration": 13,
    "start_time": "2022-05-11T14:57:13.560Z"
   },
   {
    "duration": 15,
    "start_time": "2022-05-11T14:58:00.979Z"
   },
   {
    "duration": 3,
    "start_time": "2022-05-11T14:58:17.741Z"
   },
   {
    "duration": 15,
    "start_time": "2022-05-11T14:58:21.070Z"
   },
   {
    "duration": 5,
    "start_time": "2022-05-11T14:58:24.441Z"
   },
   {
    "duration": 14,
    "start_time": "2022-05-11T14:58:28.620Z"
   },
   {
    "duration": 4,
    "start_time": "2022-05-11T14:58:58.902Z"
   },
   {
    "duration": 5,
    "start_time": "2022-05-11T15:02:04.375Z"
   },
   {
    "duration": 29,
    "start_time": "2022-05-11T15:02:12.142Z"
   },
   {
    "duration": 3,
    "start_time": "2022-05-11T15:02:13.961Z"
   },
   {
    "duration": 6,
    "start_time": "2022-05-11T15:02:17.300Z"
   },
   {
    "duration": 4,
    "start_time": "2022-05-11T15:02:18.490Z"
   },
   {
    "duration": 18,
    "start_time": "2022-05-11T15:02:20.130Z"
   },
   {
    "duration": 6,
    "start_time": "2022-05-11T15:02:37.828Z"
   },
   {
    "duration": 4,
    "start_time": "2022-05-11T15:04:25.060Z"
   },
   {
    "duration": 11,
    "start_time": "2022-05-11T15:04:30.115Z"
   },
   {
    "duration": 12,
    "start_time": "2022-05-11T15:06:18.178Z"
   },
   {
    "duration": 2,
    "start_time": "2022-05-11T15:15:57.706Z"
   },
   {
    "duration": 8,
    "start_time": "2022-05-11T15:15:58.883Z"
   },
   {
    "duration": 4,
    "start_time": "2022-05-11T15:16:03.346Z"
   },
   {
    "duration": 8,
    "start_time": "2022-05-11T15:16:08.441Z"
   },
   {
    "duration": 6,
    "start_time": "2022-05-11T15:16:13.550Z"
   },
   {
    "duration": 6,
    "start_time": "2022-05-11T15:16:14.762Z"
   },
   {
    "duration": 7,
    "start_time": "2022-05-11T15:16:15.722Z"
   },
   {
    "duration": 12,
    "start_time": "2022-05-11T15:16:18.623Z"
   },
   {
    "duration": 22,
    "start_time": "2022-05-11T15:16:32.915Z"
   },
   {
    "duration": 26,
    "start_time": "2022-05-11T15:17:50.562Z"
   },
   {
    "duration": 18,
    "start_time": "2022-05-11T15:19:54.978Z"
   },
   {
    "duration": 15,
    "start_time": "2022-05-11T15:20:10.653Z"
   },
   {
    "duration": 9,
    "start_time": "2022-05-11T15:22:49.271Z"
   },
   {
    "duration": 1919,
    "start_time": "2022-05-14T06:50:53.029Z"
   },
   {
    "duration": 47,
    "start_time": "2022-05-14T06:50:54.952Z"
   },
   {
    "duration": 33,
    "start_time": "2022-05-14T06:50:55.001Z"
   },
   {
    "duration": 27,
    "start_time": "2022-05-14T06:50:55.036Z"
   },
   {
    "duration": 11,
    "start_time": "2022-05-14T06:50:55.067Z"
   },
   {
    "duration": 1639,
    "start_time": "2022-05-14T06:50:55.081Z"
   },
   {
    "duration": 0,
    "start_time": "2022-05-14T06:50:56.723Z"
   },
   {
    "duration": 0,
    "start_time": "2022-05-14T06:50:56.726Z"
   },
   {
    "duration": 0,
    "start_time": "2022-05-14T06:50:56.728Z"
   },
   {
    "duration": 0,
    "start_time": "2022-05-14T06:50:56.730Z"
   },
   {
    "duration": 0,
    "start_time": "2022-05-14T06:50:56.732Z"
   },
   {
    "duration": 0,
    "start_time": "2022-05-14T06:50:56.734Z"
   },
   {
    "duration": 0,
    "start_time": "2022-05-14T06:50:56.736Z"
   },
   {
    "duration": 0,
    "start_time": "2022-05-14T06:50:56.739Z"
   },
   {
    "duration": 0,
    "start_time": "2022-05-14T06:50:56.741Z"
   },
   {
    "duration": 0,
    "start_time": "2022-05-14T06:50:56.743Z"
   },
   {
    "duration": 7,
    "start_time": "2022-05-14T06:51:27.833Z"
   },
   {
    "duration": 8,
    "start_time": "2022-05-14T06:51:59.743Z"
   },
   {
    "duration": 5,
    "start_time": "2022-05-14T06:53:34.536Z"
   },
   {
    "duration": 7,
    "start_time": "2022-05-14T06:53:36.422Z"
   },
   {
    "duration": 7,
    "start_time": "2022-05-14T06:54:06.141Z"
   },
   {
    "duration": 7,
    "start_time": "2022-05-14T06:54:07.562Z"
   },
   {
    "duration": 21,
    "start_time": "2022-05-14T06:54:12.596Z"
   },
   {
    "duration": 5,
    "start_time": "2022-05-14T06:58:11.922Z"
   },
   {
    "duration": 5,
    "start_time": "2022-05-14T06:59:38.824Z"
   },
   {
    "duration": 5,
    "start_time": "2022-05-14T06:59:55.061Z"
   },
   {
    "duration": 7,
    "start_time": "2022-05-14T06:59:57.049Z"
   },
   {
    "duration": 19,
    "start_time": "2022-05-14T07:00:03.900Z"
   },
   {
    "duration": 4,
    "start_time": "2022-05-14T07:01:40.896Z"
   },
   {
    "duration": 12,
    "start_time": "2022-05-14T07:01:47.392Z"
   },
   {
    "duration": 1647,
    "start_time": "2022-05-14T07:25:41.881Z"
   },
   {
    "duration": 35,
    "start_time": "2022-05-14T07:25:43.530Z"
   },
   {
    "duration": 31,
    "start_time": "2022-05-14T07:25:43.567Z"
   },
   {
    "duration": 18,
    "start_time": "2022-05-14T07:25:43.600Z"
   },
   {
    "duration": 36,
    "start_time": "2022-05-14T07:25:43.621Z"
   },
   {
    "duration": 8,
    "start_time": "2022-05-14T07:25:43.659Z"
   },
   {
    "duration": 5,
    "start_time": "2022-05-14T07:25:43.669Z"
   },
   {
    "duration": 11,
    "start_time": "2022-05-14T07:25:43.676Z"
   },
   {
    "duration": 8,
    "start_time": "2022-05-14T07:25:43.689Z"
   },
   {
    "duration": 8,
    "start_time": "2022-05-14T07:25:43.699Z"
   },
   {
    "duration": 71,
    "start_time": "2022-05-14T07:25:43.709Z"
   },
   {
    "duration": 6,
    "start_time": "2022-05-14T07:25:43.783Z"
   },
   {
    "duration": 8,
    "start_time": "2022-05-14T07:25:43.791Z"
   },
   {
    "duration": 31,
    "start_time": "2022-05-14T07:25:43.804Z"
   },
   {
    "duration": 6,
    "start_time": "2022-05-14T07:25:43.852Z"
   },
   {
    "duration": 16,
    "start_time": "2022-05-14T07:25:43.860Z"
   },
   {
    "duration": 17,
    "start_time": "2022-05-14T07:25:43.878Z"
   },
   {
    "duration": 23,
    "start_time": "2022-05-14T07:34:57.301Z"
   },
   {
    "duration": 35,
    "start_time": "2022-05-14T07:35:38.182Z"
   },
   {
    "duration": 25,
    "start_time": "2022-05-14T07:35:54.335Z"
   },
   {
    "duration": 5,
    "start_time": "2022-05-14T07:38:08.287Z"
   },
   {
    "duration": 4,
    "start_time": "2022-05-14T07:39:49.588Z"
   },
   {
    "duration": 882,
    "start_time": "2022-05-14T07:41:58.323Z"
   },
   {
    "duration": 963,
    "start_time": "2022-05-14T07:49:48.602Z"
   },
   {
    "duration": 177,
    "start_time": "2022-05-14T07:49:51.732Z"
   },
   {
    "duration": 10,
    "start_time": "2022-05-14T07:50:02.411Z"
   },
   {
    "duration": 168,
    "start_time": "2022-05-14T07:56:03.283Z"
   },
   {
    "duration": 1497,
    "start_time": "2022-05-14T07:56:16.251Z"
   },
   {
    "duration": 30,
    "start_time": "2022-05-14T07:56:17.752Z"
   },
   {
    "duration": 30,
    "start_time": "2022-05-14T07:56:17.784Z"
   },
   {
    "duration": 36,
    "start_time": "2022-05-14T07:56:17.816Z"
   },
   {
    "duration": 10,
    "start_time": "2022-05-14T07:56:17.855Z"
   },
   {
    "duration": 12,
    "start_time": "2022-05-14T07:56:17.867Z"
   },
   {
    "duration": 13,
    "start_time": "2022-05-14T07:56:17.881Z"
   },
   {
    "duration": 16,
    "start_time": "2022-05-14T07:56:17.896Z"
   },
   {
    "duration": 10,
    "start_time": "2022-05-14T07:56:17.914Z"
   },
   {
    "duration": 28,
    "start_time": "2022-05-14T07:56:17.926Z"
   },
   {
    "duration": 29,
    "start_time": "2022-05-14T07:56:17.957Z"
   },
   {
    "duration": 23,
    "start_time": "2022-05-14T07:56:17.988Z"
   },
   {
    "duration": 7,
    "start_time": "2022-05-14T07:56:18.013Z"
   },
   {
    "duration": 41,
    "start_time": "2022-05-14T07:56:18.023Z"
   },
   {
    "duration": 6,
    "start_time": "2022-05-14T07:56:18.066Z"
   },
   {
    "duration": 23,
    "start_time": "2022-05-14T07:56:18.074Z"
   },
   {
    "duration": 8,
    "start_time": "2022-05-14T07:56:18.099Z"
   },
   {
    "duration": 514,
    "start_time": "2022-05-14T07:56:18.109Z"
   },
   {
    "duration": 7,
    "start_time": "2022-05-14T07:56:22.237Z"
   },
   {
    "duration": 1078,
    "start_time": "2022-05-14T08:10:22.803Z"
   },
   {
    "duration": 989,
    "start_time": "2022-05-14T08:10:31.443Z"
   },
   {
    "duration": 11,
    "start_time": "2022-05-14T08:10:57.022Z"
   },
   {
    "duration": 12,
    "start_time": "2022-05-14T08:12:17.902Z"
   },
   {
    "duration": 4,
    "start_time": "2022-05-14T08:12:34.194Z"
   },
   {
    "duration": 9,
    "start_time": "2022-05-14T08:12:38.799Z"
   },
   {
    "duration": 7,
    "start_time": "2022-05-14T08:20:55.623Z"
   },
   {
    "duration": 995,
    "start_time": "2022-05-14T08:51:59.642Z"
   },
   {
    "duration": 8,
    "start_time": "2022-05-14T09:04:52.251Z"
   },
   {
    "duration": 28,
    "start_time": "2022-05-14T09:04:54.325Z"
   },
   {
    "duration": 5,
    "start_time": "2022-05-14T09:05:00.512Z"
   },
   {
    "duration": 1482,
    "start_time": "2022-05-14T09:05:05.936Z"
   },
   {
    "duration": 57469,
    "start_time": "2022-05-14T09:05:49.436Z"
   },
   {
    "duration": 8,
    "start_time": "2022-05-14T09:06:52.282Z"
   },
   {
    "duration": 7,
    "start_time": "2022-05-14T09:10:10.557Z"
   },
   {
    "duration": 601,
    "start_time": "2022-05-14T09:10:13.657Z"
   },
   {
    "duration": 8,
    "start_time": "2022-05-14T09:10:21.615Z"
   },
   {
    "duration": 619,
    "start_time": "2022-05-14T09:10:29.606Z"
   },
   {
    "duration": 11,
    "start_time": "2022-05-14T09:10:32.082Z"
   },
   {
    "duration": 585,
    "start_time": "2022-05-14T09:10:37.835Z"
   },
   {
    "duration": 9,
    "start_time": "2022-05-14T09:10:39.975Z"
   },
   {
    "duration": 763,
    "start_time": "2022-05-14T09:11:12.673Z"
   },
   {
    "duration": 10,
    "start_time": "2022-05-14T09:11:15.251Z"
   },
   {
    "duration": 857,
    "start_time": "2022-05-14T09:11:22.942Z"
   },
   {
    "duration": 7,
    "start_time": "2022-05-14T09:11:25.611Z"
   },
   {
    "duration": 524,
    "start_time": "2022-05-14T09:11:29.857Z"
   },
   {
    "duration": 8,
    "start_time": "2022-05-14T09:11:32.131Z"
   },
   {
    "duration": 1484,
    "start_time": "2022-05-14T09:14:36.420Z"
   },
   {
    "duration": 1487,
    "start_time": "2022-05-14T09:17:13.752Z"
   },
   {
    "duration": 4679,
    "start_time": "2022-05-14T09:18:24.253Z"
   },
   {
    "duration": 342,
    "start_time": "2022-05-14T09:19:04.803Z"
   },
   {
    "duration": 6190,
    "start_time": "2022-05-14T09:20:24.374Z"
   },
   {
    "duration": 242,
    "start_time": "2022-05-14T09:20:40.654Z"
   },
   {
    "duration": 1403,
    "start_time": "2022-05-14T09:20:46.605Z"
   },
   {
    "duration": 30,
    "start_time": "2022-05-14T09:22:21.403Z"
   },
   {
    "duration": 6,
    "start_time": "2022-05-14T09:22:44.497Z"
   },
   {
    "duration": 5,
    "start_time": "2022-05-14T09:22:54.407Z"
   },
   {
    "duration": 5,
    "start_time": "2022-05-14T09:23:04.037Z"
   },
   {
    "duration": 20,
    "start_time": "2022-05-14T09:23:22.518Z"
   },
   {
    "duration": 6,
    "start_time": "2022-05-14T09:27:34.896Z"
   },
   {
    "duration": 8,
    "start_time": "2022-05-14T09:27:43.666Z"
   },
   {
    "duration": 25,
    "start_time": "2022-05-14T09:28:07.394Z"
   },
   {
    "duration": 9,
    "start_time": "2022-05-14T09:28:15.984Z"
   },
   {
    "duration": 10,
    "start_time": "2022-05-14T09:28:22.244Z"
   },
   {
    "duration": 20,
    "start_time": "2022-05-14T09:28:43.496Z"
   },
   {
    "duration": 30,
    "start_time": "2022-05-14T09:28:54.376Z"
   },
   {
    "duration": 9,
    "start_time": "2022-05-14T09:29:13.537Z"
   },
   {
    "duration": 167,
    "start_time": "2022-05-14T09:29:21.085Z"
   },
   {
    "duration": 6,
    "start_time": "2022-05-14T10:23:42.315Z"
   },
   {
    "duration": 32,
    "start_time": "2022-05-14T10:23:42.326Z"
   },
   {
    "duration": 22,
    "start_time": "2022-05-14T10:23:42.363Z"
   },
   {
    "duration": 21,
    "start_time": "2022-05-14T10:23:42.388Z"
   },
   {
    "duration": 50,
    "start_time": "2022-05-14T10:23:42.412Z"
   },
   {
    "duration": 9,
    "start_time": "2022-05-14T10:23:42.465Z"
   },
   {
    "duration": 5,
    "start_time": "2022-05-14T10:23:42.476Z"
   },
   {
    "duration": 9,
    "start_time": "2022-05-14T10:23:42.483Z"
   },
   {
    "duration": 7,
    "start_time": "2022-05-14T10:23:42.494Z"
   },
   {
    "duration": 52,
    "start_time": "2022-05-14T10:23:42.504Z"
   },
   {
    "duration": 23,
    "start_time": "2022-05-14T10:23:42.563Z"
   },
   {
    "duration": 5,
    "start_time": "2022-05-14T10:23:42.588Z"
   },
   {
    "duration": 5,
    "start_time": "2022-05-14T10:23:42.595Z"
   },
   {
    "duration": 50,
    "start_time": "2022-05-14T10:23:42.602Z"
   },
   {
    "duration": 9,
    "start_time": "2022-05-14T10:23:42.655Z"
   },
   {
    "duration": 24,
    "start_time": "2022-05-14T10:23:42.666Z"
   },
   {
    "duration": 7,
    "start_time": "2022-05-14T10:23:42.693Z"
   },
   {
    "duration": 216,
    "start_time": "2022-05-14T10:23:42.703Z"
   },
   {
    "duration": 1095,
    "start_time": "2022-05-14T10:23:42.924Z"
   },
   {
    "duration": 10,
    "start_time": "2022-05-14T10:23:44.022Z"
   },
   {
    "duration": 48,
    "start_time": "2022-05-14T10:23:44.035Z"
   },
   {
    "duration": 0,
    "start_time": "2022-05-14T10:23:44.085Z"
   },
   {
    "duration": 0,
    "start_time": "2022-05-14T10:23:44.086Z"
   },
   {
    "duration": 0,
    "start_time": "2022-05-14T10:23:44.088Z"
   },
   {
    "duration": 1,
    "start_time": "2022-05-14T10:23:44.089Z"
   },
   {
    "duration": 0,
    "start_time": "2022-05-14T10:23:44.091Z"
   },
   {
    "duration": 0,
    "start_time": "2022-05-14T10:23:44.092Z"
   },
   {
    "duration": 0,
    "start_time": "2022-05-14T10:23:44.094Z"
   },
   {
    "duration": 0,
    "start_time": "2022-05-14T10:23:44.095Z"
   },
   {
    "duration": 0,
    "start_time": "2022-05-14T10:23:44.096Z"
   },
   {
    "duration": 0,
    "start_time": "2022-05-14T10:23:44.098Z"
   },
   {
    "duration": 0,
    "start_time": "2022-05-14T10:23:44.099Z"
   },
   {
    "duration": 0,
    "start_time": "2022-05-14T10:23:44.100Z"
   },
   {
    "duration": 8,
    "start_time": "2022-05-14T10:24:28.093Z"
   },
   {
    "duration": 7,
    "start_time": "2022-05-14T10:24:38.356Z"
   },
   {
    "duration": 1483,
    "start_time": "2022-05-14T10:24:43.200Z"
   },
   {
    "duration": 18,
    "start_time": "2022-05-14T10:25:24.646Z"
   },
   {
    "duration": 15673,
    "start_time": "2022-05-14T10:25:43.804Z"
   },
   {
    "duration": 43037,
    "start_time": "2022-05-14T10:26:03.518Z"
   },
   {
    "duration": 5373,
    "start_time": "2022-05-14T10:27:16.825Z"
   },
   {
    "duration": 5020,
    "start_time": "2022-05-14T10:28:30.583Z"
   },
   {
    "duration": 200,
    "start_time": "2022-05-14T10:29:17.293Z"
   },
   {
    "duration": 1417,
    "start_time": "2022-05-14T10:29:40.851Z"
   },
   {
    "duration": 12436,
    "start_time": "2022-05-14T10:30:24.485Z"
   },
   {
    "duration": 159,
    "start_time": "2022-05-14T10:30:53.370Z"
   },
   {
    "duration": 204,
    "start_time": "2022-05-14T10:31:01.486Z"
   },
   {
    "duration": 22,
    "start_time": "2022-05-14T10:31:18.454Z"
   },
   {
    "duration": 8,
    "start_time": "2022-05-14T10:31:19.992Z"
   },
   {
    "duration": 24,
    "start_time": "2022-05-14T10:31:22.575Z"
   },
   {
    "duration": 48388,
    "start_time": "2022-05-14T10:33:54.866Z"
   },
   {
    "duration": 141462,
    "start_time": "2022-05-14T10:34:48.737Z"
   },
   {
    "duration": 572,
    "start_time": "2022-05-14T10:37:29.257Z"
   },
   {
    "duration": 6819,
    "start_time": "2022-05-14T10:39:19.005Z"
   },
   {
    "duration": 67040,
    "start_time": "2022-05-14T10:39:43.307Z"
   },
   {
    "duration": 519,
    "start_time": "2022-05-14T10:41:16.277Z"
   },
   {
    "duration": 20536,
    "start_time": "2022-05-14T10:42:16.484Z"
   },
   {
    "duration": 391,
    "start_time": "2022-05-14T10:42:52.775Z"
   },
   {
    "duration": 411,
    "start_time": "2022-05-14T10:42:58.166Z"
   },
   {
    "duration": 540,
    "start_time": "2022-05-14T10:43:10.566Z"
   },
   {
    "duration": 26672,
    "start_time": "2022-05-14T10:44:38.127Z"
   },
   {
    "duration": 428,
    "start_time": "2022-05-14T10:45:33.824Z"
   },
   {
    "duration": 40,
    "start_time": "2022-05-14T10:46:00.666Z"
   },
   {
    "duration": 5,
    "start_time": "2022-05-14T10:47:06.117Z"
   },
   {
    "duration": 3,
    "start_time": "2022-05-14T10:50:15.950Z"
   },
   {
    "duration": 16246,
    "start_time": "2022-05-14T10:50:17.675Z"
   },
   {
    "duration": 11,
    "start_time": "2022-05-14T10:52:18.385Z"
   },
   {
    "duration": 108,
    "start_time": "2022-05-14T10:55:51.715Z"
   },
   {
    "duration": 35,
    "start_time": "2022-05-14T10:56:14.404Z"
   },
   {
    "duration": 11,
    "start_time": "2022-05-14T10:56:28.799Z"
   },
   {
    "duration": 11,
    "start_time": "2022-05-14T10:57:49.243Z"
   },
   {
    "duration": 5,
    "start_time": "2022-05-14T10:57:55.295Z"
   },
   {
    "duration": 12,
    "start_time": "2022-05-14T10:58:02.547Z"
   },
   {
    "duration": 19,
    "start_time": "2022-05-14T10:58:56.309Z"
   },
   {
    "duration": 6,
    "start_time": "2022-05-14T10:59:35.373Z"
   },
   {
    "duration": 195,
    "start_time": "2022-05-14T10:59:39.341Z"
   },
   {
    "duration": 192,
    "start_time": "2022-05-14T11:00:05.294Z"
   },
   {
    "duration": 9,
    "start_time": "2022-05-14T11:01:10.480Z"
   },
   {
    "duration": 2099,
    "start_time": "2022-05-14T11:03:31.920Z"
   },
   {
    "duration": 40,
    "start_time": "2022-05-14T11:03:34.022Z"
   },
   {
    "duration": 27,
    "start_time": "2022-05-14T11:03:34.065Z"
   },
   {
    "duration": 18,
    "start_time": "2022-05-14T11:03:34.094Z"
   },
   {
    "duration": 36,
    "start_time": "2022-05-14T11:03:34.116Z"
   },
   {
    "duration": 17,
    "start_time": "2022-05-14T11:03:34.154Z"
   },
   {
    "duration": 9,
    "start_time": "2022-05-14T11:03:34.174Z"
   },
   {
    "duration": 12,
    "start_time": "2022-05-14T11:03:34.186Z"
   },
   {
    "duration": 8,
    "start_time": "2022-05-14T11:03:34.201Z"
   },
   {
    "duration": 14,
    "start_time": "2022-05-14T11:03:34.211Z"
   },
   {
    "duration": 45,
    "start_time": "2022-05-14T11:03:34.227Z"
   },
   {
    "duration": 6,
    "start_time": "2022-05-14T11:03:34.275Z"
   },
   {
    "duration": 7,
    "start_time": "2022-05-14T11:03:34.284Z"
   },
   {
    "duration": 61,
    "start_time": "2022-05-14T11:03:34.297Z"
   },
   {
    "duration": 7,
    "start_time": "2022-05-14T11:03:34.361Z"
   },
   {
    "duration": 14,
    "start_time": "2022-05-14T11:03:34.371Z"
   },
   {
    "duration": 15,
    "start_time": "2022-05-14T11:03:34.388Z"
   },
   {
    "duration": 220,
    "start_time": "2022-05-14T11:03:34.406Z"
   },
   {
    "duration": 1036,
    "start_time": "2022-05-14T11:03:34.629Z"
   },
   {
    "duration": 13,
    "start_time": "2022-05-14T11:03:35.668Z"
   },
   {
    "duration": 12,
    "start_time": "2022-05-14T11:03:35.684Z"
   },
   {
    "duration": 1376,
    "start_time": "2022-05-14T11:03:35.699Z"
   },
   {
    "duration": 6,
    "start_time": "2022-05-14T11:03:37.078Z"
   },
   {
    "duration": 1914,
    "start_time": "2022-05-14T11:03:37.087Z"
   },
   {
    "duration": 10,
    "start_time": "2022-05-14T11:03:39.003Z"
   },
   {
    "duration": 10,
    "start_time": "2022-05-14T11:03:39.016Z"
   },
   {
    "duration": 677,
    "start_time": "2022-05-14T11:03:39.029Z"
   },
   {
    "duration": 9,
    "start_time": "2022-05-14T11:03:39.709Z"
   },
   {
    "duration": 6,
    "start_time": "2022-05-14T11:03:39.720Z"
   },
   {
    "duration": 18344,
    "start_time": "2022-05-14T11:03:39.752Z"
   },
   {
    "duration": 469,
    "start_time": "2022-05-14T11:03:58.098Z"
   },
   {
    "duration": 21,
    "start_time": "2022-05-14T11:03:58.570Z"
   },
   {
    "duration": 9,
    "start_time": "2022-05-14T11:03:58.594Z"
   },
   {
    "duration": 77,
    "start_time": "2022-05-14T11:03:58.605Z"
   },
   {
    "duration": 41,
    "start_time": "2022-05-14T11:03:58.685Z"
   },
   {
    "duration": 218,
    "start_time": "2022-05-14T11:03:58.729Z"
   },
   {
    "duration": 11,
    "start_time": "2022-05-14T11:03:58.952Z"
   },
   {
    "duration": 7,
    "start_time": "2022-05-14T11:18:00.969Z"
   },
   {
    "duration": 7,
    "start_time": "2022-05-14T11:18:04.345Z"
   },
   {
    "duration": 1960,
    "start_time": "2022-05-14T11:18:20.122Z"
   },
   {
    "duration": 31,
    "start_time": "2022-05-14T11:18:22.085Z"
   },
   {
    "duration": 40,
    "start_time": "2022-05-14T11:18:22.118Z"
   },
   {
    "duration": 22,
    "start_time": "2022-05-14T11:18:22.161Z"
   },
   {
    "duration": 6,
    "start_time": "2022-05-14T11:18:22.185Z"
   },
   {
    "duration": 5,
    "start_time": "2022-05-14T11:18:22.193Z"
   },
   {
    "duration": 8,
    "start_time": "2022-05-14T11:18:22.200Z"
   },
   {
    "duration": 8,
    "start_time": "2022-05-14T11:18:24.882Z"
   },
   {
    "duration": 8,
    "start_time": "2022-05-14T11:19:04.422Z"
   },
   {
    "duration": 23,
    "start_time": "2022-05-14T11:19:08.092Z"
   },
   {
    "duration": 21,
    "start_time": "2022-05-14T11:19:57.580Z"
   },
   {
    "duration": 30,
    "start_time": "2022-05-14T11:20:02.035Z"
   },
   {
    "duration": 19,
    "start_time": "2022-05-14T11:20:04.172Z"
   },
   {
    "duration": 152,
    "start_time": "2022-05-14T11:23:35.659Z"
   },
   {
    "duration": 6,
    "start_time": "2022-05-14T11:23:42.429Z"
   },
   {
    "duration": 9,
    "start_time": "2022-05-14T11:23:44.079Z"
   },
   {
    "duration": 8,
    "start_time": "2022-05-14T11:23:45.141Z"
   },
   {
    "duration": 17,
    "start_time": "2022-05-14T11:23:46.229Z"
   },
   {
    "duration": 2500,
    "start_time": "2022-05-14T11:54:31.547Z"
   },
   {
    "duration": 31,
    "start_time": "2022-05-14T11:54:34.050Z"
   },
   {
    "duration": 25,
    "start_time": "2022-05-14T11:54:34.084Z"
   },
   {
    "duration": 44,
    "start_time": "2022-05-14T11:54:34.111Z"
   },
   {
    "duration": 14,
    "start_time": "2022-05-14T11:54:34.160Z"
   },
   {
    "duration": 7,
    "start_time": "2022-05-14T11:54:34.177Z"
   },
   {
    "duration": 11,
    "start_time": "2022-05-14T11:54:34.186Z"
   },
   {
    "duration": 9,
    "start_time": "2022-05-14T11:54:34.200Z"
   },
   {
    "duration": 56,
    "start_time": "2022-05-14T11:54:34.212Z"
   },
   {
    "duration": 11,
    "start_time": "2022-05-14T11:54:34.272Z"
   },
   {
    "duration": 28,
    "start_time": "2022-05-14T11:54:34.286Z"
   },
   {
    "duration": 6,
    "start_time": "2022-05-14T11:54:34.316Z"
   },
   {
    "duration": 29,
    "start_time": "2022-05-14T11:54:34.324Z"
   },
   {
    "duration": 31,
    "start_time": "2022-05-14T11:54:34.358Z"
   },
   {
    "duration": 21,
    "start_time": "2022-05-14T11:54:34.391Z"
   },
   {
    "duration": 38,
    "start_time": "2022-05-14T11:54:34.415Z"
   },
   {
    "duration": 13,
    "start_time": "2022-05-14T11:54:34.457Z"
   },
   {
    "duration": 9,
    "start_time": "2022-05-14T11:54:34.474Z"
   },
   {
    "duration": 17,
    "start_time": "2022-05-14T11:54:34.486Z"
   },
   {
    "duration": 284,
    "start_time": "2022-05-14T11:54:34.505Z"
   },
   {
    "duration": 1008,
    "start_time": "2022-05-14T11:54:34.793Z"
   },
   {
    "duration": 12,
    "start_time": "2022-05-14T11:54:35.804Z"
   },
   {
    "duration": 35,
    "start_time": "2022-05-14T11:54:35.818Z"
   },
   {
    "duration": 996,
    "start_time": "2022-05-14T11:54:35.856Z"
   },
   {
    "duration": 8,
    "start_time": "2022-05-14T11:54:36.855Z"
   },
   {
    "duration": 1496,
    "start_time": "2022-05-14T11:54:36.865Z"
   },
   {
    "duration": 9,
    "start_time": "2022-05-14T11:54:38.365Z"
   },
   {
    "duration": 8,
    "start_time": "2022-05-14T11:54:38.378Z"
   },
   {
    "duration": 576,
    "start_time": "2022-05-14T11:54:38.389Z"
   },
   {
    "duration": 13,
    "start_time": "2022-05-14T11:54:38.968Z"
   },
   {
    "duration": 8,
    "start_time": "2022-05-14T11:54:38.983Z"
   },
   {
    "duration": 18441,
    "start_time": "2022-05-14T11:54:38.994Z"
   },
   {
    "duration": 535,
    "start_time": "2022-05-14T11:54:57.437Z"
   },
   {
    "duration": 28,
    "start_time": "2022-05-14T11:54:57.975Z"
   },
   {
    "duration": 7,
    "start_time": "2022-05-14T11:54:58.006Z"
   },
   {
    "duration": 79,
    "start_time": "2022-05-14T11:54:58.016Z"
   },
   {
    "duration": 37,
    "start_time": "2022-05-14T11:54:58.098Z"
   },
   {
    "duration": 254,
    "start_time": "2022-05-14T11:54:58.137Z"
   },
   {
    "duration": 11,
    "start_time": "2022-05-14T11:54:58.394Z"
   },
   {
    "duration": 2140,
    "start_time": "2022-05-14T13:16:48.536Z"
   },
   {
    "duration": 36,
    "start_time": "2022-05-14T13:16:50.679Z"
   },
   {
    "duration": 25,
    "start_time": "2022-05-14T13:16:50.717Z"
   },
   {
    "duration": 19,
    "start_time": "2022-05-14T13:16:50.766Z"
   },
   {
    "duration": 6,
    "start_time": "2022-05-14T13:16:50.788Z"
   },
   {
    "duration": 8,
    "start_time": "2022-05-14T13:16:50.797Z"
   },
   {
    "duration": 15,
    "start_time": "2022-05-14T13:16:50.808Z"
   },
   {
    "duration": 38,
    "start_time": "2022-05-14T13:16:50.826Z"
   },
   {
    "duration": 21,
    "start_time": "2022-05-14T13:16:50.866Z"
   },
   {
    "duration": 8,
    "start_time": "2022-05-14T13:16:50.892Z"
   },
   {
    "duration": 21,
    "start_time": "2022-05-14T13:16:50.903Z"
   },
   {
    "duration": 5,
    "start_time": "2022-05-14T13:16:50.927Z"
   },
   {
    "duration": 25,
    "start_time": "2022-05-14T13:16:50.935Z"
   },
   {
    "duration": 33,
    "start_time": "2022-05-14T13:16:50.962Z"
   },
   {
    "duration": 18,
    "start_time": "2022-05-14T13:16:50.997Z"
   },
   {
    "duration": 35,
    "start_time": "2022-05-14T13:16:51.018Z"
   },
   {
    "duration": 12,
    "start_time": "2022-05-14T13:16:51.055Z"
   },
   {
    "duration": 7,
    "start_time": "2022-05-14T13:16:51.069Z"
   },
   {
    "duration": 17,
    "start_time": "2022-05-14T13:16:51.077Z"
   },
   {
    "duration": 226,
    "start_time": "2022-05-14T13:16:51.096Z"
   },
   {
    "duration": 1144,
    "start_time": "2022-05-14T13:16:51.324Z"
   },
   {
    "duration": 8,
    "start_time": "2022-05-14T13:16:52.471Z"
   },
   {
    "duration": 8,
    "start_time": "2022-05-14T13:16:52.481Z"
   },
   {
    "duration": 1057,
    "start_time": "2022-05-14T13:16:52.491Z"
   },
   {
    "duration": 8,
    "start_time": "2022-05-14T13:16:53.556Z"
   },
   {
    "duration": 1499,
    "start_time": "2022-05-14T13:16:53.566Z"
   },
   {
    "duration": 9,
    "start_time": "2022-05-14T13:16:55.067Z"
   },
   {
    "duration": 6,
    "start_time": "2022-05-14T13:16:55.082Z"
   },
   {
    "duration": 565,
    "start_time": "2022-05-14T13:16:55.090Z"
   },
   {
    "duration": 9,
    "start_time": "2022-05-14T13:16:55.659Z"
   },
   {
    "duration": 5,
    "start_time": "2022-05-14T13:16:55.671Z"
   },
   {
    "duration": 16823,
    "start_time": "2022-05-14T13:16:55.679Z"
   },
   {
    "duration": 462,
    "start_time": "2022-05-14T13:17:12.504Z"
   },
   {
    "duration": 21,
    "start_time": "2022-05-14T13:17:12.970Z"
   },
   {
    "duration": 8,
    "start_time": "2022-05-14T13:17:12.994Z"
   },
   {
    "duration": 81,
    "start_time": "2022-05-14T13:17:13.004Z"
   },
   {
    "duration": 35,
    "start_time": "2022-05-14T13:17:13.088Z"
   },
   {
    "duration": 230,
    "start_time": "2022-05-14T13:17:13.125Z"
   },
   {
    "duration": 12,
    "start_time": "2022-05-14T13:17:13.358Z"
   },
   {
    "duration": 111,
    "start_time": "2022-05-14T15:24:46.796Z"
   },
   {
    "duration": 1634,
    "start_time": "2022-05-14T15:27:46.175Z"
   },
   {
    "duration": 23,
    "start_time": "2022-05-14T15:27:47.811Z"
   },
   {
    "duration": 16,
    "start_time": "2022-05-14T15:27:47.836Z"
   },
   {
    "duration": 12,
    "start_time": "2022-05-14T15:27:47.854Z"
   },
   {
    "duration": 21,
    "start_time": "2022-05-14T15:27:47.868Z"
   },
   {
    "duration": 16,
    "start_time": "2022-05-14T15:27:47.891Z"
   },
   {
    "duration": 15,
    "start_time": "2022-05-14T15:27:47.908Z"
   },
   {
    "duration": 15,
    "start_time": "2022-05-14T15:27:47.925Z"
   },
   {
    "duration": 5,
    "start_time": "2022-05-14T15:27:47.941Z"
   },
   {
    "duration": 6,
    "start_time": "2022-05-14T15:27:47.949Z"
   },
   {
    "duration": 17,
    "start_time": "2022-05-14T15:27:47.956Z"
   },
   {
    "duration": 3,
    "start_time": "2022-05-14T15:27:47.975Z"
   },
   {
    "duration": 18,
    "start_time": "2022-05-14T15:27:47.988Z"
   },
   {
    "duration": 12,
    "start_time": "2022-05-14T15:27:48.007Z"
   },
   {
    "duration": 7,
    "start_time": "2022-05-14T15:27:48.020Z"
   },
   {
    "duration": 7,
    "start_time": "2022-05-14T15:27:48.028Z"
   },
   {
    "duration": 5,
    "start_time": "2022-05-14T15:27:48.036Z"
   },
   {
    "duration": 12,
    "start_time": "2022-05-14T15:27:48.043Z"
   },
   {
    "duration": 171,
    "start_time": "2022-05-14T15:27:48.056Z"
   },
   {
    "duration": 667,
    "start_time": "2022-05-14T15:27:48.228Z"
   },
   {
    "duration": 6,
    "start_time": "2022-05-14T15:27:48.897Z"
   },
   {
    "duration": 9,
    "start_time": "2022-05-14T15:27:48.904Z"
   },
   {
    "duration": 651,
    "start_time": "2022-05-14T15:27:48.914Z"
   },
   {
    "duration": 4,
    "start_time": "2022-05-14T15:27:49.567Z"
   },
   {
    "duration": 897,
    "start_time": "2022-05-14T15:27:49.572Z"
   },
   {
    "duration": 6,
    "start_time": "2022-05-14T15:27:50.471Z"
   },
   {
    "duration": 14,
    "start_time": "2022-05-14T15:27:50.478Z"
   },
   {
    "duration": 355,
    "start_time": "2022-05-14T15:27:50.496Z"
   },
   {
    "duration": 7,
    "start_time": "2022-05-14T15:27:50.853Z"
   },
   {
    "duration": 5,
    "start_time": "2022-05-14T15:27:50.862Z"
   },
   {
    "duration": 9975,
    "start_time": "2022-05-14T15:27:50.868Z"
   },
   {
    "duration": 287,
    "start_time": "2022-05-14T15:28:00.845Z"
   },
   {
    "duration": 22,
    "start_time": "2022-05-14T15:28:01.134Z"
   },
   {
    "duration": 31,
    "start_time": "2022-05-14T15:28:01.157Z"
   },
   {
    "duration": 119,
    "start_time": "2022-05-14T15:28:01.190Z"
   },
   {
    "duration": 6,
    "start_time": "2022-05-14T15:28:01.311Z"
   }
  ],
  "kernelspec": {
   "display_name": "Python 3",
   "language": "python",
   "name": "python3"
  },
  "language_info": {
   "codemirror_mode": {
    "name": "ipython",
    "version": 3
   },
   "file_extension": ".py",
   "mimetype": "text/x-python",
   "name": "python",
   "nbconvert_exporter": "python",
   "pygments_lexer": "ipython3",
   "version": "3.7.1"
  },
  "toc": {
   "base_numbering": 1,
   "nav_menu": {},
   "number_sections": true,
   "sideBar": true,
   "skip_h1_title": true,
   "title_cell": "Содержание",
   "title_sidebar": "Contents",
   "toc_cell": true,
   "toc_position": {
    "height": "calc(100% - 180px)",
    "left": "10px",
    "top": "150px",
    "width": "165px"
   },
   "toc_section_display": true,
   "toc_window_display": true
  }
 },
 "nbformat": 4,
 "nbformat_minor": 2
}
