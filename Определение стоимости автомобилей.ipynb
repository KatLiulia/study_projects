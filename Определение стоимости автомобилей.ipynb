{
 "cells": [
  {
   "cell_type": "markdown",
   "metadata": {},
   "source": [
    "# Определение стоимости автомобилей"
   ]
  },
  {
   "cell_type": "code",
   "execution_count": 1,
   "metadata": {},
   "outputs": [],
   "source": [
    "import pandas as pd\n",
    "\n",
    "from lightgbm import LGBMRegressor\n",
    "from sklearn.ensemble import RandomForestRegressor\n",
    "\n",
    "from sklearn.preprocessing import OrdinalEncoder\n",
    "from sklearn.model_selection import train_test_split\n",
    "from sklearn.model_selection import GridSearchCV\n",
    "\n",
    "from sklearn.metrics import mean_squared_error"
   ]
  },
  {
   "cell_type": "markdown",
   "metadata": {},
   "source": [
    "Сервис по продаже автомобилей с пробегом разрабатывает приложение для привлечения новых клиентов. В нём можно быстро узнать рыночную стоимость своего автомобиля. В вашем распоряжении исторические данные: технические характеристики, комплектации и цены автомобилей. Вам нужно построить модель для определения стоимости. \n",
    "\n",
    "Заказчику важны:\n",
    "\n",
    "- качество предсказания (RMSE менее 2500);\n",
    "- скорость предсказания;\n",
    "- время обучения."
   ]
  },
  {
   "cell_type": "markdown",
   "metadata": {},
   "source": [
    "## Описание данных"
   ]
  },
  {
   "cell_type": "markdown",
   "metadata": {},
   "source": [
    "\n",
    "### Признаки\n",
    "\n",
    "- `DateCrawled` — дата скачивания анкеты из базы\n",
    "- `VehicleType` — тип автомобильного кузова\n",
    "- `RegistrationYear` — год регистрации автомобиля\n",
    "- `Gearbox` — тип коробки передач\n",
    "- `Power` — мощность (л. с.)\n",
    "- `Model` — модель автомобиля\n",
    "- `Kilometer` — пробег (км)\n",
    "- `RegistrationMonth` — месяц регистрации автомобиля\n",
    "- `FuelType` — тип топлива\n",
    "- `Brand` — марка автомобиля\n",
    "- `NotRepaired` — была машина в ремонте или нет\n",
    "- `DateCreated` — дата создания анкеты\n",
    "- `NumberOfPictures` — количество фотографий автомобиля\n",
    "- `PostalCode` — почтовый индекс владельца анкеты (пользователя)\n",
    "- `LastSeen` — дата последней активности пользователя\n"
   ]
  },
  {
   "cell_type": "markdown",
   "metadata": {},
   "source": [
    "### Целевой признак\n",
    "\n",
    "- `Price` — цена (евро)"
   ]
  },
  {
   "cell_type": "markdown",
   "metadata": {},
   "source": [
    "## Подготовка данных"
   ]
  },
  {
   "cell_type": "code",
   "execution_count": 2,
   "metadata": {},
   "outputs": [],
   "source": [
    "state = 12345"
   ]
  },
  {
   "cell_type": "code",
   "execution_count": 3,
   "metadata": {},
   "outputs": [],
   "source": [
    "df_autos = pd.read_csv('/datasets/autos.csv')"
   ]
  },
  {
   "cell_type": "code",
   "execution_count": 4,
   "metadata": {},
   "outputs": [
    {
     "data": {
      "text/html": [
       "<div>\n",
       "<style scoped>\n",
       "    .dataframe tbody tr th:only-of-type {\n",
       "        vertical-align: middle;\n",
       "    }\n",
       "\n",
       "    .dataframe tbody tr th {\n",
       "        vertical-align: top;\n",
       "    }\n",
       "\n",
       "    .dataframe thead th {\n",
       "        text-align: right;\n",
       "    }\n",
       "</style>\n",
       "<table border=\"1\" class=\"dataframe\">\n",
       "  <thead>\n",
       "    <tr style=\"text-align: right;\">\n",
       "      <th></th>\n",
       "      <th>DateCrawled</th>\n",
       "      <th>Price</th>\n",
       "      <th>VehicleType</th>\n",
       "      <th>RegistrationYear</th>\n",
       "      <th>Gearbox</th>\n",
       "      <th>Power</th>\n",
       "      <th>Model</th>\n",
       "      <th>Kilometer</th>\n",
       "      <th>RegistrationMonth</th>\n",
       "      <th>FuelType</th>\n",
       "      <th>Brand</th>\n",
       "      <th>NotRepaired</th>\n",
       "      <th>DateCreated</th>\n",
       "      <th>NumberOfPictures</th>\n",
       "      <th>PostalCode</th>\n",
       "      <th>LastSeen</th>\n",
       "    </tr>\n",
       "  </thead>\n",
       "  <tbody>\n",
       "    <tr>\n",
       "      <th>0</th>\n",
       "      <td>2016-03-24 11:52:17</td>\n",
       "      <td>480</td>\n",
       "      <td>NaN</td>\n",
       "      <td>1993</td>\n",
       "      <td>manual</td>\n",
       "      <td>0</td>\n",
       "      <td>golf</td>\n",
       "      <td>150000</td>\n",
       "      <td>0</td>\n",
       "      <td>petrol</td>\n",
       "      <td>volkswagen</td>\n",
       "      <td>NaN</td>\n",
       "      <td>2016-03-24 00:00:00</td>\n",
       "      <td>0</td>\n",
       "      <td>70435</td>\n",
       "      <td>2016-04-07 03:16:57</td>\n",
       "    </tr>\n",
       "    <tr>\n",
       "      <th>1</th>\n",
       "      <td>2016-03-24 10:58:45</td>\n",
       "      <td>18300</td>\n",
       "      <td>coupe</td>\n",
       "      <td>2011</td>\n",
       "      <td>manual</td>\n",
       "      <td>190</td>\n",
       "      <td>NaN</td>\n",
       "      <td>125000</td>\n",
       "      <td>5</td>\n",
       "      <td>gasoline</td>\n",
       "      <td>audi</td>\n",
       "      <td>yes</td>\n",
       "      <td>2016-03-24 00:00:00</td>\n",
       "      <td>0</td>\n",
       "      <td>66954</td>\n",
       "      <td>2016-04-07 01:46:50</td>\n",
       "    </tr>\n",
       "    <tr>\n",
       "      <th>2</th>\n",
       "      <td>2016-03-14 12:52:21</td>\n",
       "      <td>9800</td>\n",
       "      <td>suv</td>\n",
       "      <td>2004</td>\n",
       "      <td>auto</td>\n",
       "      <td>163</td>\n",
       "      <td>grand</td>\n",
       "      <td>125000</td>\n",
       "      <td>8</td>\n",
       "      <td>gasoline</td>\n",
       "      <td>jeep</td>\n",
       "      <td>NaN</td>\n",
       "      <td>2016-03-14 00:00:00</td>\n",
       "      <td>0</td>\n",
       "      <td>90480</td>\n",
       "      <td>2016-04-05 12:47:46</td>\n",
       "    </tr>\n",
       "  </tbody>\n",
       "</table>\n",
       "</div>"
      ],
      "text/plain": [
       "           DateCrawled  Price VehicleType  RegistrationYear Gearbox  Power  \\\n",
       "0  2016-03-24 11:52:17    480         NaN              1993  manual      0   \n",
       "1  2016-03-24 10:58:45  18300       coupe              2011  manual    190   \n",
       "2  2016-03-14 12:52:21   9800         suv              2004    auto    163   \n",
       "\n",
       "   Model  Kilometer  RegistrationMonth  FuelType       Brand NotRepaired  \\\n",
       "0   golf     150000                  0    petrol  volkswagen         NaN   \n",
       "1    NaN     125000                  5  gasoline        audi         yes   \n",
       "2  grand     125000                  8  gasoline        jeep         NaN   \n",
       "\n",
       "           DateCreated  NumberOfPictures  PostalCode             LastSeen  \n",
       "0  2016-03-24 00:00:00                 0       70435  2016-04-07 03:16:57  \n",
       "1  2016-03-24 00:00:00                 0       66954  2016-04-07 01:46:50  \n",
       "2  2016-03-14 00:00:00                 0       90480  2016-04-05 12:47:46  "
      ]
     },
     "execution_count": 4,
     "metadata": {},
     "output_type": "execute_result"
    }
   ],
   "source": [
    "df_autos.head(3)"
   ]
  },
  {
   "cell_type": "markdown",
   "metadata": {},
   "source": [
    "Приведем к нижнему регистру названия столбцов:"
   ]
  },
  {
   "cell_type": "code",
   "execution_count": 5,
   "metadata": {},
   "outputs": [
    {
     "data": {
      "text/plain": [
       "Index(['datecrawled', 'price', 'vehicletype', 'registrationyear', 'gearbox',\n",
       "       'power', 'model', 'kilometer', 'registrationmonth', 'fueltype', 'brand',\n",
       "       'notrepaired', 'datecreated', 'numberofpictures', 'postalcode',\n",
       "       'lastseen'],\n",
       "      dtype='object')"
      ]
     },
     "execution_count": 5,
     "metadata": {},
     "output_type": "execute_result"
    }
   ],
   "source": [
    "df_autos.columns.str.lower()"
   ]
  },
  {
   "cell_type": "code",
   "execution_count": 6,
   "metadata": {},
   "outputs": [],
   "source": [
    "df_autos.columns = ['date_crawled', 'price', 'vehicle_type', 'registration_year', 'gear_box',\n",
    "       'power', 'model', 'kilometer', 'registration_month', 'fuel_type', 'brand',\n",
    "       'not_repaired', 'date_created', 'number_of_pictures', 'postal_code',\n",
    "       'last_seen']"
   ]
  },
  {
   "cell_type": "code",
   "execution_count": 7,
   "metadata": {},
   "outputs": [
    {
     "name": "stdout",
     "output_type": "stream",
     "text": [
      "<class 'pandas.core.frame.DataFrame'>\n",
      "RangeIndex: 354369 entries, 0 to 354368\n",
      "Data columns (total 16 columns):\n",
      " #   Column              Non-Null Count   Dtype \n",
      "---  ------              --------------   ----- \n",
      " 0   date_crawled        354369 non-null  object\n",
      " 1   price               354369 non-null  int64 \n",
      " 2   vehicle_type        316879 non-null  object\n",
      " 3   registration_year   354369 non-null  int64 \n",
      " 4   gear_box            334536 non-null  object\n",
      " 5   power               354369 non-null  int64 \n",
      " 6   model               334664 non-null  object\n",
      " 7   kilometer           354369 non-null  int64 \n",
      " 8   registration_month  354369 non-null  int64 \n",
      " 9   fuel_type           321474 non-null  object\n",
      " 10  brand               354369 non-null  object\n",
      " 11  not_repaired        283215 non-null  object\n",
      " 12  date_created        354369 non-null  object\n",
      " 13  number_of_pictures  354369 non-null  int64 \n",
      " 14  postal_code         354369 non-null  int64 \n",
      " 15  last_seen           354369 non-null  object\n",
      "dtypes: int64(7), object(9)\n",
      "memory usage: 43.3+ MB\n"
     ]
    }
   ],
   "source": [
    "df_autos.info()"
   ]
  },
  {
   "cell_type": "code",
   "execution_count": 8,
   "metadata": {},
   "outputs": [
    {
     "data": {
      "text/plain": [
       "not_repaired          0.200791\n",
       "vehicle_type          0.105794\n",
       "fuel_type             0.092827\n",
       "gear_box              0.055967\n",
       "model                 0.055606\n",
       "date_crawled          0.000000\n",
       "price                 0.000000\n",
       "registration_year     0.000000\n",
       "power                 0.000000\n",
       "kilometer             0.000000\n",
       "registration_month    0.000000\n",
       "brand                 0.000000\n",
       "date_created          0.000000\n",
       "number_of_pictures    0.000000\n",
       "postal_code           0.000000\n",
       "last_seen             0.000000\n",
       "dtype: float64"
      ]
     },
     "execution_count": 8,
     "metadata": {},
     "output_type": "execute_result"
    }
   ],
   "source": [
    "df_autos.isna().mean().sort_values(ascending=False)"
   ]
  },
  {
   "cell_type": "code",
   "execution_count": 9,
   "metadata": {},
   "outputs": [
    {
     "data": {
      "text/html": [
       "<div>\n",
       "<style scoped>\n",
       "    .dataframe tbody tr th:only-of-type {\n",
       "        vertical-align: middle;\n",
       "    }\n",
       "\n",
       "    .dataframe tbody tr th {\n",
       "        vertical-align: top;\n",
       "    }\n",
       "\n",
       "    .dataframe thead th {\n",
       "        text-align: right;\n",
       "    }\n",
       "</style>\n",
       "<table border=\"1\" class=\"dataframe\">\n",
       "  <thead>\n",
       "    <tr style=\"text-align: right;\">\n",
       "      <th></th>\n",
       "      <th>price</th>\n",
       "      <th>registration_year</th>\n",
       "      <th>power</th>\n",
       "      <th>kilometer</th>\n",
       "      <th>registration_month</th>\n",
       "      <th>number_of_pictures</th>\n",
       "      <th>postal_code</th>\n",
       "    </tr>\n",
       "  </thead>\n",
       "  <tbody>\n",
       "    <tr>\n",
       "      <th>price</th>\n",
       "      <td>1.000000</td>\n",
       "      <td>0.026916</td>\n",
       "      <td>0.158872</td>\n",
       "      <td>-0.333199</td>\n",
       "      <td>0.110581</td>\n",
       "      <td>NaN</td>\n",
       "      <td>0.076055</td>\n",
       "    </tr>\n",
       "    <tr>\n",
       "      <th>registration_year</th>\n",
       "      <td>0.026916</td>\n",
       "      <td>1.000000</td>\n",
       "      <td>-0.000828</td>\n",
       "      <td>-0.053447</td>\n",
       "      <td>-0.011619</td>\n",
       "      <td>NaN</td>\n",
       "      <td>-0.003459</td>\n",
       "    </tr>\n",
       "    <tr>\n",
       "      <th>power</th>\n",
       "      <td>0.158872</td>\n",
       "      <td>-0.000828</td>\n",
       "      <td>1.000000</td>\n",
       "      <td>0.024002</td>\n",
       "      <td>0.043380</td>\n",
       "      <td>NaN</td>\n",
       "      <td>0.021665</td>\n",
       "    </tr>\n",
       "    <tr>\n",
       "      <th>kilometer</th>\n",
       "      <td>-0.333199</td>\n",
       "      <td>-0.053447</td>\n",
       "      <td>0.024002</td>\n",
       "      <td>1.000000</td>\n",
       "      <td>0.009571</td>\n",
       "      <td>NaN</td>\n",
       "      <td>-0.007698</td>\n",
       "    </tr>\n",
       "    <tr>\n",
       "      <th>registration_month</th>\n",
       "      <td>0.110581</td>\n",
       "      <td>-0.011619</td>\n",
       "      <td>0.043380</td>\n",
       "      <td>0.009571</td>\n",
       "      <td>1.000000</td>\n",
       "      <td>NaN</td>\n",
       "      <td>0.013995</td>\n",
       "    </tr>\n",
       "    <tr>\n",
       "      <th>number_of_pictures</th>\n",
       "      <td>NaN</td>\n",
       "      <td>NaN</td>\n",
       "      <td>NaN</td>\n",
       "      <td>NaN</td>\n",
       "      <td>NaN</td>\n",
       "      <td>NaN</td>\n",
       "      <td>NaN</td>\n",
       "    </tr>\n",
       "    <tr>\n",
       "      <th>postal_code</th>\n",
       "      <td>0.076055</td>\n",
       "      <td>-0.003459</td>\n",
       "      <td>0.021665</td>\n",
       "      <td>-0.007698</td>\n",
       "      <td>0.013995</td>\n",
       "      <td>NaN</td>\n",
       "      <td>1.000000</td>\n",
       "    </tr>\n",
       "  </tbody>\n",
       "</table>\n",
       "</div>"
      ],
      "text/plain": [
       "                       price  registration_year     power  kilometer  \\\n",
       "price               1.000000           0.026916  0.158872  -0.333199   \n",
       "registration_year   0.026916           1.000000 -0.000828  -0.053447   \n",
       "power               0.158872          -0.000828  1.000000   0.024002   \n",
       "kilometer          -0.333199          -0.053447  0.024002   1.000000   \n",
       "registration_month  0.110581          -0.011619  0.043380   0.009571   \n",
       "number_of_pictures       NaN                NaN       NaN        NaN   \n",
       "postal_code         0.076055          -0.003459  0.021665  -0.007698   \n",
       "\n",
       "                    registration_month  number_of_pictures  postal_code  \n",
       "price                         0.110581                 NaN     0.076055  \n",
       "registration_year            -0.011619                 NaN    -0.003459  \n",
       "power                         0.043380                 NaN     0.021665  \n",
       "kilometer                     0.009571                 NaN    -0.007698  \n",
       "registration_month            1.000000                 NaN     0.013995  \n",
       "number_of_pictures                 NaN                 NaN          NaN  \n",
       "postal_code                   0.013995                 NaN     1.000000  "
      ]
     },
     "execution_count": 9,
     "metadata": {},
     "output_type": "execute_result"
    }
   ],
   "source": [
    "df_autos.corr()"
   ]
  },
  {
   "cell_type": "code",
   "execution_count": 10,
   "metadata": {},
   "outputs": [
    {
     "data": {
      "text/html": [
       "<div>\n",
       "<style scoped>\n",
       "    .dataframe tbody tr th:only-of-type {\n",
       "        vertical-align: middle;\n",
       "    }\n",
       "\n",
       "    .dataframe tbody tr th {\n",
       "        vertical-align: top;\n",
       "    }\n",
       "\n",
       "    .dataframe thead th {\n",
       "        text-align: right;\n",
       "    }\n",
       "</style>\n",
       "<table border=\"1\" class=\"dataframe\">\n",
       "  <thead>\n",
       "    <tr style=\"text-align: right;\">\n",
       "      <th></th>\n",
       "      <th>price</th>\n",
       "      <th>registration_year</th>\n",
       "      <th>power</th>\n",
       "      <th>kilometer</th>\n",
       "      <th>registration_month</th>\n",
       "      <th>number_of_pictures</th>\n",
       "      <th>postal_code</th>\n",
       "    </tr>\n",
       "  </thead>\n",
       "  <tbody>\n",
       "    <tr>\n",
       "      <th>count</th>\n",
       "      <td>354369.000000</td>\n",
       "      <td>354369.000000</td>\n",
       "      <td>354369.000000</td>\n",
       "      <td>354369.000000</td>\n",
       "      <td>354369.000000</td>\n",
       "      <td>354369.0</td>\n",
       "      <td>354369.000000</td>\n",
       "    </tr>\n",
       "    <tr>\n",
       "      <th>mean</th>\n",
       "      <td>4416.656776</td>\n",
       "      <td>2004.234448</td>\n",
       "      <td>110.094337</td>\n",
       "      <td>128211.172535</td>\n",
       "      <td>5.714645</td>\n",
       "      <td>0.0</td>\n",
       "      <td>50508.689087</td>\n",
       "    </tr>\n",
       "    <tr>\n",
       "      <th>std</th>\n",
       "      <td>4514.158514</td>\n",
       "      <td>90.227958</td>\n",
       "      <td>189.850405</td>\n",
       "      <td>37905.341530</td>\n",
       "      <td>3.726421</td>\n",
       "      <td>0.0</td>\n",
       "      <td>25783.096248</td>\n",
       "    </tr>\n",
       "    <tr>\n",
       "      <th>min</th>\n",
       "      <td>0.000000</td>\n",
       "      <td>1000.000000</td>\n",
       "      <td>0.000000</td>\n",
       "      <td>5000.000000</td>\n",
       "      <td>0.000000</td>\n",
       "      <td>0.0</td>\n",
       "      <td>1067.000000</td>\n",
       "    </tr>\n",
       "    <tr>\n",
       "      <th>25%</th>\n",
       "      <td>1050.000000</td>\n",
       "      <td>1999.000000</td>\n",
       "      <td>69.000000</td>\n",
       "      <td>125000.000000</td>\n",
       "      <td>3.000000</td>\n",
       "      <td>0.0</td>\n",
       "      <td>30165.000000</td>\n",
       "    </tr>\n",
       "    <tr>\n",
       "      <th>50%</th>\n",
       "      <td>2700.000000</td>\n",
       "      <td>2003.000000</td>\n",
       "      <td>105.000000</td>\n",
       "      <td>150000.000000</td>\n",
       "      <td>6.000000</td>\n",
       "      <td>0.0</td>\n",
       "      <td>49413.000000</td>\n",
       "    </tr>\n",
       "    <tr>\n",
       "      <th>75%</th>\n",
       "      <td>6400.000000</td>\n",
       "      <td>2008.000000</td>\n",
       "      <td>143.000000</td>\n",
       "      <td>150000.000000</td>\n",
       "      <td>9.000000</td>\n",
       "      <td>0.0</td>\n",
       "      <td>71083.000000</td>\n",
       "    </tr>\n",
       "    <tr>\n",
       "      <th>max</th>\n",
       "      <td>20000.000000</td>\n",
       "      <td>9999.000000</td>\n",
       "      <td>20000.000000</td>\n",
       "      <td>150000.000000</td>\n",
       "      <td>12.000000</td>\n",
       "      <td>0.0</td>\n",
       "      <td>99998.000000</td>\n",
       "    </tr>\n",
       "  </tbody>\n",
       "</table>\n",
       "</div>"
      ],
      "text/plain": [
       "               price  registration_year          power      kilometer  \\\n",
       "count  354369.000000      354369.000000  354369.000000  354369.000000   \n",
       "mean     4416.656776        2004.234448     110.094337  128211.172535   \n",
       "std      4514.158514          90.227958     189.850405   37905.341530   \n",
       "min         0.000000        1000.000000       0.000000    5000.000000   \n",
       "25%      1050.000000        1999.000000      69.000000  125000.000000   \n",
       "50%      2700.000000        2003.000000     105.000000  150000.000000   \n",
       "75%      6400.000000        2008.000000     143.000000  150000.000000   \n",
       "max     20000.000000        9999.000000   20000.000000  150000.000000   \n",
       "\n",
       "       registration_month  number_of_pictures    postal_code  \n",
       "count       354369.000000            354369.0  354369.000000  \n",
       "mean             5.714645                 0.0   50508.689087  \n",
       "std              3.726421                 0.0   25783.096248  \n",
       "min              0.000000                 0.0    1067.000000  \n",
       "25%              3.000000                 0.0   30165.000000  \n",
       "50%              6.000000                 0.0   49413.000000  \n",
       "75%              9.000000                 0.0   71083.000000  \n",
       "max             12.000000                 0.0   99998.000000  "
      ]
     },
     "execution_count": 10,
     "metadata": {},
     "output_type": "execute_result"
    }
   ],
   "source": [
    "df_autos.describe()"
   ]
  },
  {
   "cell_type": "markdown",
   "metadata": {},
   "source": [
    "Предварительно можем сделать **выводы**:\n",
    "\n",
    "- присутствуют пропуски в столбцах: `not_repaired`, `vehicle_type`, `fuel_type`, `gear_box, model`;\n",
    "- признаки с датой имеют некорректный тип данных;\n",
    "- в данных есть как количественные, так и категориальные признаки;\n",
    "- корреляция между количественными признаками не обнаружена;\n",
    "- столбец `number_of_pictures` полностью заполнен нулями, можем его удалить."
   ]
  },
  {
   "cell_type": "markdown",
   "metadata": {},
   "source": [
    "Заполним пропуски в зависимости от бренда и модели автомобиля:"
   ]
  },
  {
   "cell_type": "code",
   "execution_count": 11,
   "metadata": {},
   "outputs": [],
   "source": [
    "df_autos['model'] = df_autos['model'].fillna(\n",
    "    df_autos.groupby('brand')['model'].transform('first'))"
   ]
  },
  {
   "cell_type": "code",
   "execution_count": 12,
   "metadata": {},
   "outputs": [],
   "source": [
    "df_autos['vehicle_type'] = df_autos['vehicle_type'].fillna(\n",
    "    df_autos.groupby(['brand', 'model'])['vehicle_type'].transform('first'))"
   ]
  },
  {
   "cell_type": "code",
   "execution_count": 13,
   "metadata": {},
   "outputs": [],
   "source": [
    "df_autos['gear_box'] =  df_autos['gear_box'].fillna(\n",
    "    df_autos.groupby(['brand', 'model'])['gear_box'].transform('first'))"
   ]
  },
  {
   "cell_type": "code",
   "execution_count": 14,
   "metadata": {},
   "outputs": [],
   "source": [
    "df_autos['fuel_type'] =  df_autos['fuel_type'].fillna(\n",
    "    df_autos.groupby(['brand', 'model'])['fuel_type'].transform('first'))"
   ]
  },
  {
   "cell_type": "code",
   "execution_count": 15,
   "metadata": {},
   "outputs": [],
   "source": [
    "df_autos['not_repaired'] = df_autos['not_repaired'].fillna(\n",
    "    df_autos.groupby(['registration_year', 'kilometer'])['not_repaired'].transform('first'))"
   ]
  },
  {
   "cell_type": "markdown",
   "metadata": {},
   "source": [
    "Заполним оставшиеся пропуски:"
   ]
  },
  {
   "cell_type": "code",
   "execution_count": 16,
   "metadata": {},
   "outputs": [],
   "source": [
    "df_autos[['not_repaired', 'vehicle_type', 'fuel_type', 'gear_box', 'model']] = df_autos[\n",
    "         ['not_repaired', 'vehicle_type', 'fuel_type', 'gear_box', 'model']].fillna('unknown')"
   ]
  },
  {
   "cell_type": "code",
   "execution_count": 17,
   "metadata": {},
   "outputs": [
    {
     "data": {
      "text/plain": [
       "date_crawled          0.0\n",
       "price                 0.0\n",
       "vehicle_type          0.0\n",
       "registration_year     0.0\n",
       "gear_box              0.0\n",
       "power                 0.0\n",
       "model                 0.0\n",
       "kilometer             0.0\n",
       "registration_month    0.0\n",
       "fuel_type             0.0\n",
       "brand                 0.0\n",
       "not_repaired          0.0\n",
       "date_created          0.0\n",
       "number_of_pictures    0.0\n",
       "postal_code           0.0\n",
       "last_seen             0.0\n",
       "dtype: float64"
      ]
     },
     "execution_count": 17,
     "metadata": {},
     "output_type": "execute_result"
    }
   ],
   "source": [
    "df_autos.isna().mean().sort_values(ascending=False)"
   ]
  },
  {
   "cell_type": "markdown",
   "metadata": {},
   "source": [
    "Приведем столбцы с датами к соответствующему типу:"
   ]
  },
  {
   "cell_type": "code",
   "execution_count": 18,
   "metadata": {},
   "outputs": [],
   "source": [
    "df_autos['date_crawled'] = pd.to_datetime(df_autos['date_crawled'], format='%Y-%m-%d %H:%M:%S')\n",
    "df_autos['date_created'] = pd.to_datetime(df_autos['date_created'], format='%Y-%m-%d %H:%M:%S')\n",
    "df_autos['last_seen'] = pd.to_datetime(df_autos['last_seen'], format='%Y-%m-%d %H:%M:%S')"
   ]
  },
  {
   "cell_type": "code",
   "execution_count": 19,
   "metadata": {},
   "outputs": [
    {
     "data": {
      "text/html": [
       "<div>\n",
       "<style scoped>\n",
       "    .dataframe tbody tr th:only-of-type {\n",
       "        vertical-align: middle;\n",
       "    }\n",
       "\n",
       "    .dataframe tbody tr th {\n",
       "        vertical-align: top;\n",
       "    }\n",
       "\n",
       "    .dataframe thead th {\n",
       "        text-align: right;\n",
       "    }\n",
       "</style>\n",
       "<table border=\"1\" class=\"dataframe\">\n",
       "  <thead>\n",
       "    <tr style=\"text-align: right;\">\n",
       "      <th></th>\n",
       "      <th>date_crawled</th>\n",
       "      <th>date_created</th>\n",
       "      <th>last_seen</th>\n",
       "    </tr>\n",
       "  </thead>\n",
       "  <tbody>\n",
       "    <tr>\n",
       "      <th>0</th>\n",
       "      <td>2016-03-24 11:52:17</td>\n",
       "      <td>2016-03-24</td>\n",
       "      <td>2016-04-07 03:16:57</td>\n",
       "    </tr>\n",
       "    <tr>\n",
       "      <th>1</th>\n",
       "      <td>2016-03-24 10:58:45</td>\n",
       "      <td>2016-03-24</td>\n",
       "      <td>2016-04-07 01:46:50</td>\n",
       "    </tr>\n",
       "    <tr>\n",
       "      <th>2</th>\n",
       "      <td>2016-03-14 12:52:21</td>\n",
       "      <td>2016-03-14</td>\n",
       "      <td>2016-04-05 12:47:46</td>\n",
       "    </tr>\n",
       "  </tbody>\n",
       "</table>\n",
       "</div>"
      ],
      "text/plain": [
       "         date_crawled date_created           last_seen\n",
       "0 2016-03-24 11:52:17   2016-03-24 2016-04-07 03:16:57\n",
       "1 2016-03-24 10:58:45   2016-03-24 2016-04-07 01:46:50\n",
       "2 2016-03-14 12:52:21   2016-03-14 2016-04-05 12:47:46"
      ]
     },
     "execution_count": 19,
     "metadata": {},
     "output_type": "execute_result"
    }
   ],
   "source": [
    "df_autos[['date_crawled', 'date_created', 'last_seen']].head(3)"
   ]
  },
  {
   "cell_type": "code",
   "execution_count": 20,
   "metadata": {},
   "outputs": [
    {
     "data": {
      "text/plain": [
       "2016    354369\n",
       "Name: date_crawled, dtype: int64"
      ]
     },
     "execution_count": 20,
     "metadata": {},
     "output_type": "execute_result"
    }
   ],
   "source": [
    "(pd.DatetimeIndex(df_autos['date_crawled']).year).value_counts()"
   ]
  },
  {
   "cell_type": "code",
   "execution_count": 21,
   "metadata": {},
   "outputs": [
    {
     "data": {
      "text/plain": [
       "2016    354369\n",
       "Name: last_seen, dtype: int64"
      ]
     },
     "execution_count": 21,
     "metadata": {},
     "output_type": "execute_result"
    }
   ],
   "source": [
    "(pd.DatetimeIndex(df_autos['last_seen']).year).value_counts()"
   ]
  },
  {
   "cell_type": "code",
   "execution_count": 22,
   "metadata": {},
   "outputs": [
    {
     "data": {
      "text/plain": [
       "2016    354343\n",
       "2015        25\n",
       "2014         1\n",
       "Name: date_created, dtype: int64"
      ]
     },
     "execution_count": 22,
     "metadata": {},
     "output_type": "execute_result"
    }
   ],
   "source": [
    "(pd.DatetimeIndex(df_autos['date_created']).year).value_counts()"
   ]
  },
  {
   "cell_type": "markdown",
   "metadata": {},
   "source": [
    "Создадим столбец с информацией о годе только из `date_created`, т.к. в остальных столбцах год одинаковый для всех объектов."
   ]
  },
  {
   "cell_type": "code",
   "execution_count": 23,
   "metadata": {},
   "outputs": [],
   "source": [
    "df_autos['date_created_year'] = pd.DatetimeIndex(df_autos['date_created']).year"
   ]
  },
  {
   "cell_type": "markdown",
   "metadata": {},
   "source": [
    "Подготовим признаки:"
   ]
  },
  {
   "cell_type": "code",
   "execution_count": 24,
   "metadata": {},
   "outputs": [],
   "source": [
    "features = df_autos.drop([\n",
    "    'price', 'number_of_pictures', 'date_crawled', 'date_created', 'last_seen'], axis=1)\n",
    "\n",
    "target = df_autos['price']"
   ]
  },
  {
   "cell_type": "code",
   "execution_count": 25,
   "metadata": {},
   "outputs": [
    {
     "data": {
      "text/html": [
       "<div>\n",
       "<style scoped>\n",
       "    .dataframe tbody tr th:only-of-type {\n",
       "        vertical-align: middle;\n",
       "    }\n",
       "\n",
       "    .dataframe tbody tr th {\n",
       "        vertical-align: top;\n",
       "    }\n",
       "\n",
       "    .dataframe thead th {\n",
       "        text-align: right;\n",
       "    }\n",
       "</style>\n",
       "<table border=\"1\" class=\"dataframe\">\n",
       "  <thead>\n",
       "    <tr style=\"text-align: right;\">\n",
       "      <th></th>\n",
       "      <th>vehicle_type</th>\n",
       "      <th>registration_year</th>\n",
       "      <th>gear_box</th>\n",
       "      <th>power</th>\n",
       "      <th>model</th>\n",
       "      <th>kilometer</th>\n",
       "      <th>registration_month</th>\n",
       "      <th>fuel_type</th>\n",
       "      <th>brand</th>\n",
       "      <th>not_repaired</th>\n",
       "      <th>postal_code</th>\n",
       "      <th>date_created_year</th>\n",
       "    </tr>\n",
       "  </thead>\n",
       "  <tbody>\n",
       "    <tr>\n",
       "      <th>0</th>\n",
       "      <td>small</td>\n",
       "      <td>1993</td>\n",
       "      <td>manual</td>\n",
       "      <td>0</td>\n",
       "      <td>golf</td>\n",
       "      <td>150000</td>\n",
       "      <td>0</td>\n",
       "      <td>petrol</td>\n",
       "      <td>volkswagen</td>\n",
       "      <td>no</td>\n",
       "      <td>70435</td>\n",
       "      <td>2016</td>\n",
       "    </tr>\n",
       "    <tr>\n",
       "      <th>1</th>\n",
       "      <td>coupe</td>\n",
       "      <td>2011</td>\n",
       "      <td>manual</td>\n",
       "      <td>190</td>\n",
       "      <td>a8</td>\n",
       "      <td>125000</td>\n",
       "      <td>5</td>\n",
       "      <td>gasoline</td>\n",
       "      <td>audi</td>\n",
       "      <td>yes</td>\n",
       "      <td>66954</td>\n",
       "      <td>2016</td>\n",
       "    </tr>\n",
       "    <tr>\n",
       "      <th>2</th>\n",
       "      <td>suv</td>\n",
       "      <td>2004</td>\n",
       "      <td>auto</td>\n",
       "      <td>163</td>\n",
       "      <td>grand</td>\n",
       "      <td>125000</td>\n",
       "      <td>8</td>\n",
       "      <td>gasoline</td>\n",
       "      <td>jeep</td>\n",
       "      <td>no</td>\n",
       "      <td>90480</td>\n",
       "      <td>2016</td>\n",
       "    </tr>\n",
       "  </tbody>\n",
       "</table>\n",
       "</div>"
      ],
      "text/plain": [
       "  vehicle_type  registration_year gear_box  power  model  kilometer  \\\n",
       "0        small               1993   manual      0   golf     150000   \n",
       "1        coupe               2011   manual    190     a8     125000   \n",
       "2          suv               2004     auto    163  grand     125000   \n",
       "\n",
       "   registration_month fuel_type       brand not_repaired  postal_code  \\\n",
       "0                   0    petrol  volkswagen           no        70435   \n",
       "1                   5  gasoline        audi          yes        66954   \n",
       "2                   8  gasoline        jeep           no        90480   \n",
       "\n",
       "   date_created_year  \n",
       "0               2016  \n",
       "1               2016  \n",
       "2               2016  "
      ]
     },
     "execution_count": 25,
     "metadata": {},
     "output_type": "execute_result"
    }
   ],
   "source": [
    "features.head(3)"
   ]
  },
  {
   "cell_type": "code",
   "execution_count": 26,
   "metadata": {},
   "outputs": [],
   "source": [
    "features_train, features_valid_test, target_train, target_valid_test = train_test_split(\n",
    "    features, target, test_size = 0.4, random_state=state)\n",
    "\n",
    "features_valid, features_test, target_valid, target_test = train_test_split(\n",
    "    features_valid_test, target_valid_test, test_size = 0.5, random_state=state)"
   ]
  },
  {
   "cell_type": "code",
   "execution_count": 27,
   "metadata": {},
   "outputs": [
    {
     "data": {
      "text/html": [
       "<div>\n",
       "<style scoped>\n",
       "    .dataframe tbody tr th:only-of-type {\n",
       "        vertical-align: middle;\n",
       "    }\n",
       "\n",
       "    .dataframe tbody tr th {\n",
       "        vertical-align: top;\n",
       "    }\n",
       "\n",
       "    .dataframe thead th {\n",
       "        text-align: right;\n",
       "    }\n",
       "</style>\n",
       "<table border=\"1\" class=\"dataframe\">\n",
       "  <thead>\n",
       "    <tr style=\"text-align: right;\">\n",
       "      <th></th>\n",
       "      <th>vehicle_type</th>\n",
       "      <th>registration_year</th>\n",
       "      <th>gear_box</th>\n",
       "      <th>power</th>\n",
       "      <th>model</th>\n",
       "      <th>kilometer</th>\n",
       "      <th>registration_month</th>\n",
       "      <th>fuel_type</th>\n",
       "      <th>brand</th>\n",
       "      <th>not_repaired</th>\n",
       "      <th>postal_code</th>\n",
       "      <th>date_created_year</th>\n",
       "    </tr>\n",
       "  </thead>\n",
       "  <tbody>\n",
       "    <tr>\n",
       "      <th>51358</th>\n",
       "      <td>sedan</td>\n",
       "      <td>2006</td>\n",
       "      <td>manual</td>\n",
       "      <td>163</td>\n",
       "      <td>3er</td>\n",
       "      <td>150000</td>\n",
       "      <td>1</td>\n",
       "      <td>gasoline</td>\n",
       "      <td>bmw</td>\n",
       "      <td>no</td>\n",
       "      <td>40227</td>\n",
       "      <td>2016</td>\n",
       "    </tr>\n",
       "    <tr>\n",
       "      <th>259924</th>\n",
       "      <td>sedan</td>\n",
       "      <td>2012</td>\n",
       "      <td>manual</td>\n",
       "      <td>170</td>\n",
       "      <td>a3</td>\n",
       "      <td>50000</td>\n",
       "      <td>11</td>\n",
       "      <td>gasoline</td>\n",
       "      <td>audi</td>\n",
       "      <td>yes</td>\n",
       "      <td>92363</td>\n",
       "      <td>2016</td>\n",
       "    </tr>\n",
       "    <tr>\n",
       "      <th>144289</th>\n",
       "      <td>bus</td>\n",
       "      <td>2018</td>\n",
       "      <td>manual</td>\n",
       "      <td>109</td>\n",
       "      <td>berlingo</td>\n",
       "      <td>150000</td>\n",
       "      <td>11</td>\n",
       "      <td>petrol</td>\n",
       "      <td>citroen</td>\n",
       "      <td>no</td>\n",
       "      <td>32278</td>\n",
       "      <td>2016</td>\n",
       "    </tr>\n",
       "  </tbody>\n",
       "</table>\n",
       "</div>"
      ],
      "text/plain": [
       "       vehicle_type  registration_year gear_box  power     model  kilometer  \\\n",
       "51358         sedan               2006   manual    163       3er     150000   \n",
       "259924        sedan               2012   manual    170        a3      50000   \n",
       "144289          bus               2018   manual    109  berlingo     150000   \n",
       "\n",
       "        registration_month fuel_type    brand not_repaired  postal_code  \\\n",
       "51358                    1  gasoline      bmw           no        40227   \n",
       "259924                  11  gasoline     audi          yes        92363   \n",
       "144289                  11    petrol  citroen           no        32278   \n",
       "\n",
       "        date_created_year  \n",
       "51358                2016  \n",
       "259924               2016  \n",
       "144289               2016  "
      ]
     },
     "execution_count": 27,
     "metadata": {},
     "output_type": "execute_result"
    }
   ],
   "source": [
    "features_train.head(3)"
   ]
  },
  {
   "cell_type": "markdown",
   "metadata": {},
   "source": [
    "Преобразуем признаки техникой Ordinal Encoding:"
   ]
  },
  {
   "cell_type": "code",
   "execution_count": 28,
   "metadata": {
    "collapsed": true
   },
   "outputs": [
    {
     "name": "stderr",
     "output_type": "stream",
     "text": [
      "/tmp/ipykernel_189/1343842346.py:6: SettingWithCopyWarning: \n",
      "A value is trying to be set on a copy of a slice from a DataFrame.\n",
      "Try using .loc[row_indexer,col_indexer] = value instead\n",
      "\n",
      "See the caveats in the documentation: https://pandas.pydata.org/pandas-docs/stable/user_guide/indexing.html#returning-a-view-versus-a-copy\n",
      "  features_train[ctg] = encoder.transform(features_train[ctg])\n",
      "/opt/conda/lib/python3.9/site-packages/pandas/core/indexing.py:1738: SettingWithCopyWarning: \n",
      "A value is trying to be set on a copy of a slice from a DataFrame.\n",
      "Try using .loc[row_indexer,col_indexer] = value instead\n",
      "\n",
      "See the caveats in the documentation: https://pandas.pydata.org/pandas-docs/stable/user_guide/indexing.html#returning-a-view-versus-a-copy\n",
      "  self._setitem_single_column(loc, value[:, i].tolist(), pi)\n",
      "/tmp/ipykernel_189/1343842346.py:7: SettingWithCopyWarning: \n",
      "A value is trying to be set on a copy of a slice from a DataFrame.\n",
      "Try using .loc[row_indexer,col_indexer] = value instead\n",
      "\n",
      "See the caveats in the documentation: https://pandas.pydata.org/pandas-docs/stable/user_guide/indexing.html#returning-a-view-versus-a-copy\n",
      "  features_valid[ctg] = encoder.transform(features_valid[ctg])\n",
      "/opt/conda/lib/python3.9/site-packages/pandas/core/indexing.py:1738: SettingWithCopyWarning: \n",
      "A value is trying to be set on a copy of a slice from a DataFrame.\n",
      "Try using .loc[row_indexer,col_indexer] = value instead\n",
      "\n",
      "See the caveats in the documentation: https://pandas.pydata.org/pandas-docs/stable/user_guide/indexing.html#returning-a-view-versus-a-copy\n",
      "  self._setitem_single_column(loc, value[:, i].tolist(), pi)\n",
      "/tmp/ipykernel_189/1343842346.py:8: SettingWithCopyWarning: \n",
      "A value is trying to be set on a copy of a slice from a DataFrame.\n",
      "Try using .loc[row_indexer,col_indexer] = value instead\n",
      "\n",
      "See the caveats in the documentation: https://pandas.pydata.org/pandas-docs/stable/user_guide/indexing.html#returning-a-view-versus-a-copy\n",
      "  features_test[ctg] = encoder.transform(features_test[ctg])\n",
      "/opt/conda/lib/python3.9/site-packages/pandas/core/indexing.py:1738: SettingWithCopyWarning: \n",
      "A value is trying to be set on a copy of a slice from a DataFrame.\n",
      "Try using .loc[row_indexer,col_indexer] = value instead\n",
      "\n",
      "See the caveats in the documentation: https://pandas.pydata.org/pandas-docs/stable/user_guide/indexing.html#returning-a-view-versus-a-copy\n",
      "  self._setitem_single_column(loc, value[:, i].tolist(), pi)\n"
     ]
    }
   ],
   "source": [
    "ctg = ['vehicle_type', 'gear_box', 'model', 'fuel_type', 'brand', 'not_repaired']\n",
    "\n",
    "encoder = OrdinalEncoder()\n",
    "encoder.fit(features_train[ctg])\n",
    "\n",
    "features_train[ctg] = encoder.transform(features_train[ctg])\n",
    "features_valid[ctg] = encoder.transform(features_valid[ctg])\n",
    "features_test[ctg] = encoder.transform(features_test[ctg])"
   ]
  },
  {
   "cell_type": "code",
   "execution_count": 29,
   "metadata": {},
   "outputs": [
    {
     "data": {
      "text/html": [
       "<div>\n",
       "<style scoped>\n",
       "    .dataframe tbody tr th:only-of-type {\n",
       "        vertical-align: middle;\n",
       "    }\n",
       "\n",
       "    .dataframe tbody tr th {\n",
       "        vertical-align: top;\n",
       "    }\n",
       "\n",
       "    .dataframe thead th {\n",
       "        text-align: right;\n",
       "    }\n",
       "</style>\n",
       "<table border=\"1\" class=\"dataframe\">\n",
       "  <thead>\n",
       "    <tr style=\"text-align: right;\">\n",
       "      <th></th>\n",
       "      <th>vehicle_type</th>\n",
       "      <th>registration_year</th>\n",
       "      <th>gear_box</th>\n",
       "      <th>power</th>\n",
       "      <th>model</th>\n",
       "      <th>kilometer</th>\n",
       "      <th>registration_month</th>\n",
       "      <th>fuel_type</th>\n",
       "      <th>brand</th>\n",
       "      <th>not_repaired</th>\n",
       "      <th>postal_code</th>\n",
       "      <th>date_created_year</th>\n",
       "    </tr>\n",
       "  </thead>\n",
       "  <tbody>\n",
       "    <tr>\n",
       "      <th>51358</th>\n",
       "      <td>4.0</td>\n",
       "      <td>2006</td>\n",
       "      <td>1.0</td>\n",
       "      <td>163</td>\n",
       "      <td>11.0</td>\n",
       "      <td>150000</td>\n",
       "      <td>1</td>\n",
       "      <td>2.0</td>\n",
       "      <td>2.0</td>\n",
       "      <td>0.0</td>\n",
       "      <td>40227</td>\n",
       "      <td>2016</td>\n",
       "    </tr>\n",
       "    <tr>\n",
       "      <th>259924</th>\n",
       "      <td>4.0</td>\n",
       "      <td>2012</td>\n",
       "      <td>1.0</td>\n",
       "      <td>170</td>\n",
       "      <td>28.0</td>\n",
       "      <td>50000</td>\n",
       "      <td>11</td>\n",
       "      <td>2.0</td>\n",
       "      <td>1.0</td>\n",
       "      <td>2.0</td>\n",
       "      <td>92363</td>\n",
       "      <td>2016</td>\n",
       "    </tr>\n",
       "    <tr>\n",
       "      <th>144289</th>\n",
       "      <td>0.0</td>\n",
       "      <td>2018</td>\n",
       "      <td>1.0</td>\n",
       "      <td>109</td>\n",
       "      <td>50.0</td>\n",
       "      <td>150000</td>\n",
       "      <td>11</td>\n",
       "      <td>6.0</td>\n",
       "      <td>5.0</td>\n",
       "      <td>0.0</td>\n",
       "      <td>32278</td>\n",
       "      <td>2016</td>\n",
       "    </tr>\n",
       "  </tbody>\n",
       "</table>\n",
       "</div>"
      ],
      "text/plain": [
       "        vehicle_type  registration_year  gear_box  power  model  kilometer  \\\n",
       "51358            4.0               2006       1.0    163   11.0     150000   \n",
       "259924           4.0               2012       1.0    170   28.0      50000   \n",
       "144289           0.0               2018       1.0    109   50.0     150000   \n",
       "\n",
       "        registration_month  fuel_type  brand  not_repaired  postal_code  \\\n",
       "51358                    1        2.0    2.0           0.0        40227   \n",
       "259924                  11        2.0    1.0           2.0        92363   \n",
       "144289                  11        6.0    5.0           0.0        32278   \n",
       "\n",
       "        date_created_year  \n",
       "51358                2016  \n",
       "259924               2016  \n",
       "144289               2016  "
      ]
     },
     "execution_count": 29,
     "metadata": {},
     "output_type": "execute_result"
    }
   ],
   "source": [
    "features_train.head(3)"
   ]
  },
  {
   "cell_type": "markdown",
   "metadata": {},
   "source": [
    "## Обучение моделей"
   ]
  },
  {
   "cell_type": "markdown",
   "metadata": {},
   "source": [
    "Обучим разные модели и подберем гиперпараметры:"
   ]
  },
  {
   "cell_type": "markdown",
   "metadata": {},
   "source": [
    "### Модель Случайный лес"
   ]
  },
  {
   "cell_type": "code",
   "execution_count": 30,
   "metadata": {},
   "outputs": [],
   "source": [
    "rfr = RandomForestRegressor(random_state=state)\n",
    "\n",
    "parametrs = {'n_estimators': range (50, 51, 2),\n",
    "              'max_depth': range (23, 24, 2)}"
   ]
  },
  {
   "cell_type": "code",
   "execution_count": 31,
   "metadata": {},
   "outputs": [
    {
     "data": {
      "text/plain": [
       "{'max_depth': 23, 'n_estimators': 50}"
      ]
     },
     "execution_count": 31,
     "metadata": {},
     "output_type": "execute_result"
    }
   ],
   "source": [
    "grid = GridSearchCV(rfr, parametrs, cv=3)\n",
    "grid.fit(features_train[:1001], target_train[:1001])\n",
    "\n",
    "grid.best_params_"
   ]
  },
  {
   "cell_type": "code",
   "execution_count": 32,
   "metadata": {},
   "outputs": [],
   "source": [
    "model_forest = RandomForestRegressor(max_depth=23 , n_estimators=50 , random_state=state)"
   ]
  },
  {
   "cell_type": "markdown",
   "metadata": {},
   "source": [
    "### Модель LightGBM"
   ]
  },
  {
   "cell_type": "code",
   "execution_count": 33,
   "metadata": {},
   "outputs": [],
   "source": [
    "lgbm = LGBMRegressor(random_state=state)\n",
    "\n",
    "parametrs = {'n_estimators': range (70, 71, 10),\n",
    "              'max_depth': range (9, 10, 2),\n",
    "              'num_leaves': range (29, 30, 2)}"
   ]
  },
  {
   "cell_type": "code",
   "execution_count": 34,
   "metadata": {},
   "outputs": [
    {
     "data": {
      "text/plain": [
       "{'max_depth': 9, 'n_estimators': 70, 'num_leaves': 29}"
      ]
     },
     "execution_count": 34,
     "metadata": {},
     "output_type": "execute_result"
    }
   ],
   "source": [
    "grid = GridSearchCV(lgbm, parametrs, cv=3)\n",
    "grid.fit(features_train[:1001], target_train[:1001])\n",
    "\n",
    "grid.best_params_"
   ]
  },
  {
   "cell_type": "code",
   "execution_count": 35,
   "metadata": {},
   "outputs": [],
   "source": [
    "model_lgbm = LGBMRegressor(num_leaves=29, max_depth=9 , n_estimators=70 , random_state=state)"
   ]
  },
  {
   "cell_type": "markdown",
   "metadata": {},
   "source": [
    "## Анализ моделей"
   ]
  },
  {
   "cell_type": "markdown",
   "metadata": {},
   "source": [
    "Проанализируем скорость работы и качество моделей:"
   ]
  },
  {
   "cell_type": "markdown",
   "metadata": {},
   "source": [
    "### Модель Случайный лес"
   ]
  },
  {
   "cell_type": "code",
   "execution_count": 36,
   "metadata": {},
   "outputs": [
    {
     "name": "stdout",
     "output_type": "stream",
     "text": [
      "CPU times: user 40 s, sys: 430 ms, total: 40.5 s\n",
      "Wall time: 40.5 s\n"
     ]
    },
    {
     "data": {
      "text/plain": [
       "RandomForestRegressor(max_depth=23, n_estimators=50, random_state=12345)"
      ]
     },
     "execution_count": 36,
     "metadata": {},
     "output_type": "execute_result"
    }
   ],
   "source": [
    "%%time\n",
    "\n",
    "model_forest.fit(features_train, target_train)"
   ]
  },
  {
   "cell_type": "code",
   "execution_count": 37,
   "metadata": {},
   "outputs": [
    {
     "name": "stdout",
     "output_type": "stream",
     "text": [
      "CPU times: user 1.36 s, sys: 27.8 ms, total: 1.39 s\n",
      "Wall time: 1.39 s\n"
     ]
    }
   ],
   "source": [
    "%%time\n",
    "\n",
    "predictions_forest = model_forest.predict(features_valid)"
   ]
  },
  {
   "cell_type": "code",
   "execution_count": 38,
   "metadata": {},
   "outputs": [
    {
     "name": "stdout",
     "output_type": "stream",
     "text": [
      "RMSE: 1768.720084646382\n"
     ]
    }
   ],
   "source": [
    "print('RMSE:', mean_squared_error(target_valid, predictions_forest)**0.5)"
   ]
  },
  {
   "cell_type": "markdown",
   "metadata": {},
   "source": [
    "### Модель LightGBM"
   ]
  },
  {
   "cell_type": "code",
   "execution_count": 39,
   "metadata": {},
   "outputs": [
    {
     "name": "stdout",
     "output_type": "stream",
     "text": [
      "CPU times: user 4.79 s, sys: 32.8 ms, total: 4.82 s\n",
      "Wall time: 4.84 s\n"
     ]
    },
    {
     "data": {
      "text/plain": [
       "LGBMRegressor(max_depth=9, n_estimators=70, num_leaves=29, random_state=12345)"
      ]
     },
     "execution_count": 39,
     "metadata": {},
     "output_type": "execute_result"
    }
   ],
   "source": [
    "%%time\n",
    "\n",
    "model_lgbm.fit(features_train, target_train)"
   ]
  },
  {
   "cell_type": "code",
   "execution_count": 40,
   "metadata": {},
   "outputs": [
    {
     "name": "stdout",
     "output_type": "stream",
     "text": [
      "CPU times: user 403 ms, sys: 3.57 ms, total: 407 ms\n",
      "Wall time: 403 ms\n"
     ]
    }
   ],
   "source": [
    "%%time\n",
    "\n",
    "predictions_lgbm = model_lgbm.predict(features_valid)"
   ]
  },
  {
   "cell_type": "code",
   "execution_count": 41,
   "metadata": {},
   "outputs": [
    {
     "name": "stdout",
     "output_type": "stream",
     "text": [
      "RMSE: 1919.8233860187552\n"
     ]
    }
   ],
   "source": [
    "print('RMSE:', mean_squared_error(target_valid, predictions_lgbm)**0.5)"
   ]
  },
  {
   "cell_type": "markdown",
   "metadata": {},
   "source": [
    "- Модель Случайный лес работает медленнее, чем LightGBM, особенно на этапе обучения.\n",
    "- Значение метрики RMSE не превышает 2500 у обеих моделей, но наилучший результат показывает модель Случайный лес: 1769, следовательно, делаем выбор в пользу данной модели."
   ]
  },
  {
   "cell_type": "markdown",
   "metadata": {},
   "source": [
    "## Тестируем модель"
   ]
  },
  {
   "cell_type": "code",
   "execution_count": 42,
   "metadata": {},
   "outputs": [
    {
     "name": "stdout",
     "output_type": "stream",
     "text": [
      "CPU times: user 1.37 s, sys: 7.81 ms, total: 1.37 s\n",
      "Wall time: 1.4 s\n"
     ]
    }
   ],
   "source": [
    "%%time\n",
    "\n",
    "predictions_test = model_forest.predict(features_test)"
   ]
  },
  {
   "cell_type": "code",
   "execution_count": 43,
   "metadata": {},
   "outputs": [
    {
     "name": "stdout",
     "output_type": "stream",
     "text": [
      "RMSE: 1773.9596513643376\n"
     ]
    }
   ],
   "source": [
    "print('RMSE:', mean_squared_error(target_test, predictions_test)**0.5)"
   ]
  },
  {
   "cell_type": "markdown",
   "metadata": {},
   "source": [
    "Результат получился близким к результату на валидационной выборке, следовательно, переобучения нет. Метрика RMSE равна 1774, что заметно меньше 2500 и нам подходит."
   ]
  }
 ],
 "metadata": {
  "ExecuteTimeLog": [
   {
    "duration": 9,
    "start_time": "2022-07-03T11:21:10.008Z"
   },
   {
    "duration": 4,
    "start_time": "2022-07-03T11:21:36.700Z"
   },
   {
    "duration": 3,
    "start_time": "2022-07-03T11:21:41.600Z"
   },
   {
    "duration": 1118,
    "start_time": "2022-07-03T11:24:13.240Z"
   },
   {
    "duration": 4,
    "start_time": "2022-07-03T11:24:17.489Z"
   },
   {
    "duration": 4,
    "start_time": "2022-07-03T11:24:21.881Z"
   },
   {
    "duration": 3,
    "start_time": "2022-07-03T11:24:24.788Z"
   },
   {
    "duration": 1154,
    "start_time": "2022-07-03T11:27:26.694Z"
   },
   {
    "duration": 40,
    "start_time": "2022-07-03T11:27:31.397Z"
   },
   {
    "duration": 13,
    "start_time": "2022-07-03T11:27:54.808Z"
   },
   {
    "duration": 4,
    "start_time": "2022-07-03T11:30:30.952Z"
   },
   {
    "duration": 23,
    "start_time": "2022-07-03T11:35:20.042Z"
   },
   {
    "duration": 12,
    "start_time": "2022-07-03T11:37:53.567Z"
   },
   {
    "duration": 4,
    "start_time": "2022-07-03T11:38:22.894Z"
   },
   {
    "duration": 4,
    "start_time": "2022-07-03T11:38:35.717Z"
   },
   {
    "duration": 3,
    "start_time": "2022-07-03T11:38:53.382Z"
   },
   {
    "duration": 4,
    "start_time": "2022-07-03T11:38:58.211Z"
   },
   {
    "duration": 789,
    "start_time": "2022-07-03T11:39:08.151Z"
   },
   {
    "duration": 5,
    "start_time": "2022-07-03T11:39:13.898Z"
   },
   {
    "duration": 3,
    "start_time": "2022-07-03T11:40:10.036Z"
   },
   {
    "duration": 5,
    "start_time": "2022-07-03T11:40:28.049Z"
   },
   {
    "duration": 4,
    "start_time": "2022-07-03T11:40:39.066Z"
   },
   {
    "duration": 6,
    "start_time": "2022-07-03T11:40:44.037Z"
   },
   {
    "duration": 155,
    "start_time": "2022-07-03T11:41:22.224Z"
   },
   {
    "duration": 146,
    "start_time": "2022-07-03T11:41:34.991Z"
   },
   {
    "duration": 159,
    "start_time": "2022-07-03T11:41:59.875Z"
   },
   {
    "duration": 143,
    "start_time": "2022-07-03T11:42:13.324Z"
   },
   {
    "duration": 14,
    "start_time": "2022-07-03T11:43:09.386Z"
   },
   {
    "duration": 950,
    "start_time": "2022-07-03T11:43:35.003Z"
   },
   {
    "duration": 28,
    "start_time": "2022-07-03T11:43:42.502Z"
   },
   {
    "duration": 23,
    "start_time": "2022-07-03T11:43:50.986Z"
   },
   {
    "duration": 420,
    "start_time": "2022-07-03T11:45:58.687Z"
   },
   {
    "duration": 6,
    "start_time": "2022-07-03T11:46:09.099Z"
   },
   {
    "duration": 16,
    "start_time": "2022-07-03T11:46:34.775Z"
   },
   {
    "duration": 14,
    "start_time": "2022-07-03T11:46:38.517Z"
   },
   {
    "duration": 34,
    "start_time": "2022-07-03T11:47:13.609Z"
   },
   {
    "duration": 53,
    "start_time": "2022-07-03T11:47:43.191Z"
   },
   {
    "duration": 80,
    "start_time": "2022-07-03T11:49:02.886Z"
   },
   {
    "duration": 78,
    "start_time": "2022-07-03T11:49:18.684Z"
   },
   {
    "duration": 106,
    "start_time": "2022-07-03T11:49:28.238Z"
   },
   {
    "duration": 44,
    "start_time": "2022-07-03T11:52:07.231Z"
   },
   {
    "duration": 44,
    "start_time": "2022-07-03T11:52:08.328Z"
   },
   {
    "duration": 50,
    "start_time": "2022-07-03T11:52:45.927Z"
   },
   {
    "duration": 7,
    "start_time": "2022-07-03T11:53:05.928Z"
   },
   {
    "duration": 32,
    "start_time": "2022-07-03T11:55:09.318Z"
   },
   {
    "duration": 2,
    "start_time": "2022-07-03T11:55:19.118Z"
   },
   {
    "duration": 1291,
    "start_time": "2022-07-03T11:56:00.803Z"
   },
   {
    "duration": 198,
    "start_time": "2022-07-03T11:56:03.571Z"
   },
   {
    "duration": 981,
    "start_time": "2022-07-03T11:56:08.067Z"
   },
   {
    "duration": 4,
    "start_time": "2022-07-03T11:56:11.795Z"
   },
   {
    "duration": 151,
    "start_time": "2022-07-03T11:57:45.267Z"
   },
   {
    "duration": 137,
    "start_time": "2022-07-03T11:57:56.763Z"
   },
   {
    "duration": 81,
    "start_time": "2022-07-03T11:58:43.503Z"
   },
   {
    "duration": 169,
    "start_time": "2022-07-03T11:59:52.567Z"
   },
   {
    "duration": 16,
    "start_time": "2022-07-03T11:59:54.119Z"
   },
   {
    "duration": 113,
    "start_time": "2022-07-03T12:00:07.403Z"
   },
   {
    "duration": 20,
    "start_time": "2022-07-03T12:03:13.144Z"
   },
   {
    "duration": 46,
    "start_time": "2022-07-03T12:03:22.760Z"
   },
   {
    "duration": 125,
    "start_time": "2022-07-03T12:04:01.064Z"
   },
   {
    "duration": 34,
    "start_time": "2022-07-03T12:06:01.212Z"
   },
   {
    "duration": 33,
    "start_time": "2022-07-03T12:06:17.896Z"
   },
   {
    "duration": 802,
    "start_time": "2022-07-03T12:07:55.168Z"
   },
   {
    "duration": 3,
    "start_time": "2022-07-03T12:07:57.728Z"
   },
   {
    "duration": 108,
    "start_time": "2022-07-03T12:08:06.984Z"
   },
   {
    "duration": 22,
    "start_time": "2022-07-03T12:12:06.768Z"
   },
   {
    "duration": 19,
    "start_time": "2022-07-03T12:12:11.818Z"
   },
   {
    "duration": 18,
    "start_time": "2022-07-03T12:12:15.572Z"
   },
   {
    "duration": 126,
    "start_time": "2022-07-03T12:12:19.996Z"
   },
   {
    "duration": 23,
    "start_time": "2022-07-03T12:12:54.216Z"
   },
   {
    "duration": 124,
    "start_time": "2022-07-03T12:14:26.697Z"
   },
   {
    "duration": 102,
    "start_time": "2022-07-03T12:14:42.402Z"
   },
   {
    "duration": 89,
    "start_time": "2022-07-03T12:14:52.516Z"
   },
   {
    "duration": 139,
    "start_time": "2022-07-03T12:15:59.580Z"
   },
   {
    "duration": 24,
    "start_time": "2022-07-03T12:16:34.110Z"
   },
   {
    "duration": 24,
    "start_time": "2022-07-03T12:16:43.776Z"
   },
   {
    "duration": 22,
    "start_time": "2022-07-03T12:17:05.612Z"
   },
   {
    "duration": 25,
    "start_time": "2022-07-03T12:21:15.920Z"
   },
   {
    "duration": 210,
    "start_time": "2022-07-03T12:21:19.722Z"
   },
   {
    "duration": 15,
    "start_time": "2022-07-03T12:21:22.330Z"
   },
   {
    "duration": 79,
    "start_time": "2022-07-03T12:21:40.077Z"
   },
   {
    "duration": 41,
    "start_time": "2022-07-03T12:25:47.073Z"
   },
   {
    "duration": 26,
    "start_time": "2022-07-03T12:26:17.297Z"
   },
   {
    "duration": 24,
    "start_time": "2022-07-03T12:26:24.406Z"
   },
   {
    "duration": 4,
    "start_time": "2022-07-03T12:26:35.389Z"
   },
   {
    "duration": 4,
    "start_time": "2022-07-03T12:26:51.377Z"
   },
   {
    "duration": 4,
    "start_time": "2022-07-03T12:26:59.605Z"
   },
   {
    "duration": 4,
    "start_time": "2022-07-03T12:27:08.643Z"
   },
   {
    "duration": 3,
    "start_time": "2022-07-03T12:28:56.015Z"
   },
   {
    "duration": 103,
    "start_time": "2022-07-03T12:29:00.347Z"
   },
   {
    "duration": 3,
    "start_time": "2022-07-03T12:33:46.216Z"
   },
   {
    "duration": 12,
    "start_time": "2022-07-03T12:42:10.528Z"
   },
   {
    "duration": 3,
    "start_time": "2022-07-03T12:42:19.082Z"
   },
   {
    "duration": 3,
    "start_time": "2022-07-03T12:42:22.579Z"
   },
   {
    "duration": 4,
    "start_time": "2022-07-03T12:44:36.001Z"
   },
   {
    "duration": 3,
    "start_time": "2022-07-03T12:45:24.606Z"
   },
   {
    "duration": 3,
    "start_time": "2022-07-03T12:45:30.919Z"
   },
   {
    "duration": 3,
    "start_time": "2022-07-03T12:46:20.010Z"
   },
   {
    "duration": 3,
    "start_time": "2022-07-03T12:46:21.715Z"
   },
   {
    "duration": 2839,
    "start_time": "2022-07-03T12:46:24.291Z"
   },
   {
    "duration": 74,
    "start_time": "2022-07-03T12:46:27.132Z"
   },
   {
    "duration": 1289,
    "start_time": "2022-07-03T12:54:05.994Z"
   },
   {
    "duration": 827,
    "start_time": "2022-07-03T12:54:19.324Z"
   },
   {
    "duration": 1755,
    "start_time": "2022-07-03T15:18:40.471Z"
   },
   {
    "duration": 1386,
    "start_time": "2022-07-04T12:14:36.604Z"
   },
   {
    "duration": 3,
    "start_time": "2022-07-04T12:14:45.368Z"
   },
   {
    "duration": 3271,
    "start_time": "2022-07-04T12:14:46.479Z"
   },
   {
    "duration": 4,
    "start_time": "2022-07-04T12:14:50.610Z"
   },
   {
    "duration": 115,
    "start_time": "2022-07-04T12:15:21.285Z"
   },
   {
    "duration": 43,
    "start_time": "2022-07-04T12:15:24.982Z"
   },
   {
    "duration": 24,
    "start_time": "2022-07-04T12:15:40.656Z"
   },
   {
    "duration": 190,
    "start_time": "2022-07-04T12:15:54.070Z"
   },
   {
    "duration": 57,
    "start_time": "2022-07-04T12:16:18.160Z"
   },
   {
    "duration": 156,
    "start_time": "2022-07-04T12:16:46.462Z"
   },
   {
    "duration": 128,
    "start_time": "2022-07-04T12:20:11.878Z"
   },
   {
    "duration": 134,
    "start_time": "2022-07-04T12:20:16.184Z"
   },
   {
    "duration": 332,
    "start_time": "2022-07-04T12:20:40.667Z"
   },
   {
    "duration": 35,
    "start_time": "2022-07-04T12:20:48.183Z"
   },
   {
    "duration": 17,
    "start_time": "2022-07-04T12:20:50.384Z"
   },
   {
    "duration": 115,
    "start_time": "2022-07-04T12:20:55.662Z"
   },
   {
    "duration": 1161,
    "start_time": "2022-07-04T12:20:57.067Z"
   },
   {
    "duration": 43,
    "start_time": "2022-07-04T12:21:01.422Z"
   },
   {
    "duration": 15,
    "start_time": "2022-07-04T12:21:38.684Z"
   },
   {
    "duration": 1146,
    "start_time": "2022-07-04T12:21:42.510Z"
   },
   {
    "duration": 20,
    "start_time": "2022-07-04T12:21:44.614Z"
   },
   {
    "duration": 3,
    "start_time": "2022-07-04T12:21:54.354Z"
   },
   {
    "duration": 4,
    "start_time": "2022-07-04T12:22:01.060Z"
   },
   {
    "duration": 4,
    "start_time": "2022-07-04T12:23:26.920Z"
   },
   {
    "duration": 4,
    "start_time": "2022-07-04T12:24:22.763Z"
   },
   {
    "duration": 150944,
    "start_time": "2022-07-04T12:24:23.766Z"
   },
   {
    "duration": 3,
    "start_time": "2022-07-04T12:27:12.912Z"
   },
   {
    "duration": 3135,
    "start_time": "2022-07-04T12:27:14.172Z"
   },
   {
    "duration": 4,
    "start_time": "2022-07-04T12:28:17.992Z"
   },
   {
    "duration": 105306,
    "start_time": "2022-07-04T12:28:19.782Z"
   },
   {
    "duration": 4,
    "start_time": "2022-07-04T12:31:08.206Z"
   },
   {
    "duration": 206252,
    "start_time": "2022-07-04T12:31:10.273Z"
   },
   {
    "duration": 4,
    "start_time": "2022-07-04T12:35:08.991Z"
   },
   {
    "duration": 3,
    "start_time": "2022-07-04T12:35:13.170Z"
   },
   {
    "duration": 598572,
    "start_time": "2022-07-04T12:35:15.079Z"
   },
   {
    "duration": 3,
    "start_time": "2022-07-04T12:45:54.759Z"
   },
   {
    "duration": 636686,
    "start_time": "2022-07-04T12:45:56.023Z"
   },
   {
    "duration": 4,
    "start_time": "2022-07-04T12:57:26.060Z"
   },
   {
    "duration": 388706,
    "start_time": "2022-07-04T12:57:27.353Z"
   },
   {
    "duration": 3,
    "start_time": "2022-07-04T13:03:56.061Z"
   },
   {
    "duration": 9,
    "start_time": "2022-07-04T13:03:56.066Z"
   },
   {
    "duration": 21165,
    "start_time": "2022-07-04T13:03:56.078Z"
   },
   {
    "duration": 41826,
    "start_time": "2022-07-04T13:04:17.245Z"
   },
   {
    "duration": 5,
    "start_time": "2022-07-04T13:04:59.073Z"
   },
   {
    "duration": 4,
    "start_time": "2022-07-04T13:06:25.455Z"
   },
   {
    "duration": 1902259,
    "start_time": "2022-07-04T13:06:26.986Z"
   },
   {
    "duration": 0,
    "start_time": "2022-07-04T13:38:09.250Z"
   },
   {
    "duration": 0,
    "start_time": "2022-07-04T13:38:09.255Z"
   },
   {
    "duration": 0,
    "start_time": "2022-07-04T13:38:09.256Z"
   },
   {
    "duration": 0,
    "start_time": "2022-07-04T13:38:09.257Z"
   },
   {
    "duration": 0,
    "start_time": "2022-07-04T13:38:09.257Z"
   },
   {
    "duration": 0,
    "start_time": "2022-07-04T13:38:09.258Z"
   },
   {
    "duration": 0,
    "start_time": "2022-07-04T13:38:09.259Z"
   },
   {
    "duration": 4,
    "start_time": "2022-07-04T13:38:15.853Z"
   },
   {
    "duration": 44985,
    "start_time": "2022-07-04T13:38:16.965Z"
   },
   {
    "duration": 3,
    "start_time": "2022-07-04T13:39:04.356Z"
   },
   {
    "duration": 29586,
    "start_time": "2022-07-04T13:39:05.724Z"
   },
   {
    "duration": 46524,
    "start_time": "2022-07-04T13:39:40.004Z"
   },
   {
    "duration": 3,
    "start_time": "2022-07-04T13:40:44.916Z"
   },
   {
    "duration": 9802,
    "start_time": "2022-07-04T13:40:46.002Z"
   },
   {
    "duration": 3,
    "start_time": "2022-07-04T13:41:05.834Z"
   },
   {
    "duration": 16450,
    "start_time": "2022-07-04T13:41:06.914Z"
   },
   {
    "duration": 4,
    "start_time": "2022-07-04T13:41:37.724Z"
   },
   {
    "duration": 257079,
    "start_time": "2022-07-04T13:41:43.263Z"
   },
   {
    "duration": 41129,
    "start_time": "2022-07-04T13:46:05.650Z"
   },
   {
    "duration": 5,
    "start_time": "2022-07-04T13:47:27.156Z"
   },
   {
    "duration": 4,
    "start_time": "2022-07-04T13:47:39.156Z"
   },
   {
    "duration": 29315,
    "start_time": "2022-07-04T13:47:40.158Z"
   },
   {
    "duration": 4,
    "start_time": "2022-07-04T13:48:29.600Z"
   },
   {
    "duration": 33041,
    "start_time": "2022-07-04T13:48:30.658Z"
   },
   {
    "duration": 4,
    "start_time": "2022-07-04T13:49:38.069Z"
   },
   {
    "duration": 329670,
    "start_time": "2022-07-04T13:49:40.522Z"
   },
   {
    "duration": 6,
    "start_time": "2022-07-04T13:55:16.761Z"
   },
   {
    "duration": 186137,
    "start_time": "2022-07-04T13:55:18.102Z"
   },
   {
    "duration": 10,
    "start_time": "2022-07-04T13:58:24.242Z"
   },
   {
    "duration": 396220,
    "start_time": "2022-07-04T13:58:24.257Z"
   },
   {
    "duration": 0,
    "start_time": "2022-07-04T14:05:00.480Z"
   },
   {
    "duration": 0,
    "start_time": "2022-07-04T14:05:00.483Z"
   },
   {
    "duration": 3,
    "start_time": "2022-07-04T14:05:15.756Z"
   },
   {
    "duration": 499119,
    "start_time": "2022-07-04T14:05:17.137Z"
   },
   {
    "duration": 4,
    "start_time": "2022-07-04T14:13:36.258Z"
   },
   {
    "duration": 83447,
    "start_time": "2022-07-04T14:13:36.264Z"
   },
   {
    "duration": 4,
    "start_time": "2022-07-04T14:16:53.654Z"
   },
   {
    "duration": 204419,
    "start_time": "2022-07-04T14:16:54.940Z"
   },
   {
    "duration": 3,
    "start_time": "2022-07-04T14:20:19.361Z"
   },
   {
    "duration": 98129,
    "start_time": "2022-07-04T14:20:19.366Z"
   },
   {
    "duration": 3,
    "start_time": "2022-07-04T14:26:13.474Z"
   },
   {
    "duration": 87206,
    "start_time": "2022-07-04T14:26:14.616Z"
   },
   {
    "duration": 0,
    "start_time": "2022-07-04T14:27:41.824Z"
   },
   {
    "duration": 0,
    "start_time": "2022-07-04T14:27:41.825Z"
   },
   {
    "duration": 4,
    "start_time": "2022-07-04T14:27:47.278Z"
   },
   {
    "duration": 519053,
    "start_time": "2022-07-04T14:27:48.292Z"
   },
   {
    "duration": 3,
    "start_time": "2022-07-04T14:36:27.347Z"
   },
   {
    "duration": 210075,
    "start_time": "2022-07-04T14:36:27.352Z"
   },
   {
    "duration": 0,
    "start_time": "2022-07-04T14:39:57.429Z"
   },
   {
    "duration": 1,
    "start_time": "2022-07-04T14:39:57.430Z"
   },
   {
    "duration": 3,
    "start_time": "2022-07-04T14:40:02.933Z"
   },
   {
    "duration": 204118,
    "start_time": "2022-07-04T14:40:03.856Z"
   },
   {
    "duration": 0,
    "start_time": "2022-07-04T14:43:27.976Z"
   },
   {
    "duration": 0,
    "start_time": "2022-07-04T14:43:27.977Z"
   },
   {
    "duration": 1234,
    "start_time": "2022-07-04T14:43:36.855Z"
   },
   {
    "duration": 3,
    "start_time": "2022-07-04T14:43:40.424Z"
   },
   {
    "duration": 869,
    "start_time": "2022-07-04T14:43:41.559Z"
   },
   {
    "duration": 22,
    "start_time": "2022-07-04T14:43:42.699Z"
   },
   {
    "duration": 5,
    "start_time": "2022-07-04T14:43:46.497Z"
   },
   {
    "duration": 3,
    "start_time": "2022-07-04T14:43:48.425Z"
   },
   {
    "duration": 111,
    "start_time": "2022-07-04T14:43:51.907Z"
   },
   {
    "duration": 112,
    "start_time": "2022-07-04T14:44:03.054Z"
   },
   {
    "duration": 10,
    "start_time": "2022-07-04T14:45:59.260Z"
   },
   {
    "duration": 71,
    "start_time": "2022-07-04T14:49:19.421Z"
   },
   {
    "duration": 107,
    "start_time": "2022-07-04T14:49:34.222Z"
   },
   {
    "duration": 95,
    "start_time": "2022-07-04T14:49:35.509Z"
   },
   {
    "duration": 100,
    "start_time": "2022-07-04T14:49:36.527Z"
   },
   {
    "duration": 29,
    "start_time": "2022-07-04T14:49:41.507Z"
   },
   {
    "duration": 31,
    "start_time": "2022-07-04T14:49:45.326Z"
   },
   {
    "duration": 31,
    "start_time": "2022-07-04T14:49:48.040Z"
   },
   {
    "duration": 31,
    "start_time": "2022-07-04T14:49:51.759Z"
   },
   {
    "duration": 107,
    "start_time": "2022-07-04T14:50:03.895Z"
   },
   {
    "duration": 62,
    "start_time": "2022-07-04T14:52:40.687Z"
   },
   {
    "duration": 110,
    "start_time": "2022-07-04T14:52:43.278Z"
   },
   {
    "duration": 33,
    "start_time": "2022-07-04T14:53:12.948Z"
   },
   {
    "duration": 29,
    "start_time": "2022-07-04T14:53:30.799Z"
   },
   {
    "duration": 805,
    "start_time": "2022-07-04T14:53:38.581Z"
   },
   {
    "duration": 4,
    "start_time": "2022-07-04T14:53:41.421Z"
   },
   {
    "duration": 31,
    "start_time": "2022-07-04T14:53:48.322Z"
   },
   {
    "duration": 33,
    "start_time": "2022-07-04T14:53:56.064Z"
   },
   {
    "duration": 68,
    "start_time": "2022-07-04T14:53:58.407Z"
   },
   {
    "duration": 35,
    "start_time": "2022-07-04T14:53:59.499Z"
   },
   {
    "duration": 65,
    "start_time": "2022-07-04T14:54:10.551Z"
   },
   {
    "duration": 114,
    "start_time": "2022-07-04T14:54:11.859Z"
   },
   {
    "duration": 106,
    "start_time": "2022-07-04T14:54:13.021Z"
   },
   {
    "duration": 121,
    "start_time": "2022-07-04T14:54:14.048Z"
   },
   {
    "duration": 109,
    "start_time": "2022-07-04T14:54:28.941Z"
   },
   {
    "duration": 106,
    "start_time": "2022-07-04T14:55:52.224Z"
   },
   {
    "duration": 1305,
    "start_time": "2022-07-04T14:56:15.657Z"
   },
   {
    "duration": 2,
    "start_time": "2022-07-04T14:56:16.965Z"
   },
   {
    "duration": 835,
    "start_time": "2022-07-04T14:56:16.969Z"
   },
   {
    "duration": 21,
    "start_time": "2022-07-04T14:56:17.806Z"
   },
   {
    "duration": 13,
    "start_time": "2022-07-04T14:56:17.829Z"
   },
   {
    "duration": 3,
    "start_time": "2022-07-04T14:56:17.844Z"
   },
   {
    "duration": 132,
    "start_time": "2022-07-04T14:56:17.849Z"
   },
   {
    "duration": 115,
    "start_time": "2022-07-04T14:56:17.982Z"
   },
   {
    "duration": 91,
    "start_time": "2022-07-04T14:56:18.099Z"
   },
   {
    "duration": 107,
    "start_time": "2022-07-04T14:56:18.191Z"
   },
   {
    "duration": 68,
    "start_time": "2022-07-04T14:56:18.299Z"
   },
   {
    "duration": 97,
    "start_time": "2022-07-04T14:56:18.369Z"
   },
   {
    "duration": 97,
    "start_time": "2022-07-04T14:56:18.468Z"
   },
   {
    "duration": 89,
    "start_time": "2022-07-04T14:56:18.568Z"
   },
   {
    "duration": 53,
    "start_time": "2022-07-04T14:56:18.659Z"
   },
   {
    "duration": 90,
    "start_time": "2022-07-04T14:56:18.714Z"
   },
   {
    "duration": 19,
    "start_time": "2022-07-04T14:56:18.806Z"
   },
   {
    "duration": 119,
    "start_time": "2022-07-04T14:56:18.827Z"
   },
   {
    "duration": 243,
    "start_time": "2022-07-04T14:56:18.948Z"
   },
   {
    "duration": 16,
    "start_time": "2022-07-04T14:56:19.192Z"
   },
   {
    "duration": 44,
    "start_time": "2022-07-04T14:56:19.210Z"
   },
   {
    "duration": 4,
    "start_time": "2022-07-04T14:56:19.256Z"
   },
   {
    "duration": 25,
    "start_time": "2022-07-04T14:56:19.261Z"
   },
   {
    "duration": 5,
    "start_time": "2022-07-04T14:56:19.288Z"
   },
   {
    "duration": 124,
    "start_time": "2022-07-04T14:56:19.295Z"
   },
   {
    "duration": 1093,
    "start_time": "2022-07-04T14:56:19.421Z"
   },
   {
    "duration": 26,
    "start_time": "2022-07-04T14:56:20.516Z"
   },
   {
    "duration": 6,
    "start_time": "2022-07-04T14:56:20.544Z"
   },
   {
    "duration": 21795,
    "start_time": "2022-07-04T14:56:20.551Z"
   },
   {
    "duration": 3,
    "start_time": "2022-07-04T14:56:42.347Z"
   },
   {
    "duration": 6,
    "start_time": "2022-07-04T14:56:42.353Z"
   },
   {
    "duration": 27992,
    "start_time": "2022-07-04T14:56:42.361Z"
   },
   {
    "duration": 3,
    "start_time": "2022-07-04T14:57:10.355Z"
   },
   {
    "duration": 3,
    "start_time": "2022-07-04T15:00:19.974Z"
   },
   {
    "duration": 239878,
    "start_time": "2022-07-04T15:00:21.174Z"
   },
   {
    "duration": 0,
    "start_time": "2022-07-04T15:04:21.054Z"
   },
   {
    "duration": 0,
    "start_time": "2022-07-04T15:04:21.055Z"
   },
   {
    "duration": 4,
    "start_time": "2022-07-04T15:04:27.989Z"
   },
   {
    "duration": 18777,
    "start_time": "2022-07-04T15:04:29.499Z"
   },
   {
    "duration": 4,
    "start_time": "2022-07-04T15:04:56.047Z"
   },
   {
    "duration": 38371,
    "start_time": "2022-07-04T15:04:57.268Z"
   },
   {
    "duration": 3,
    "start_time": "2022-07-04T15:06:02.097Z"
   },
   {
    "duration": 1731,
    "start_time": "2022-07-04T15:06:03.442Z"
   },
   {
    "duration": 4,
    "start_time": "2022-07-04T15:06:08.604Z"
   },
   {
    "duration": 213961,
    "start_time": "2022-07-04T15:06:14.083Z"
   },
   {
    "duration": 5,
    "start_time": "2022-07-04T15:09:48.046Z"
   },
   {
    "duration": 3,
    "start_time": "2022-07-04T15:10:15.573Z"
   },
   {
    "duration": 8747,
    "start_time": "2022-07-04T15:10:16.904Z"
   },
   {
    "duration": 3,
    "start_time": "2022-07-04T15:10:31.152Z"
   },
   {
    "duration": 7060,
    "start_time": "2022-07-04T15:10:34.389Z"
   },
   {
    "duration": 5,
    "start_time": "2022-07-04T15:10:41.451Z"
   },
   {
    "duration": 44,
    "start_time": "2022-07-04T15:10:45.730Z"
   },
   {
    "duration": 10833,
    "start_time": "2022-07-04T15:11:02.870Z"
   },
   {
    "duration": 5,
    "start_time": "2022-07-04T15:11:13.706Z"
   },
   {
    "duration": 3,
    "start_time": "2022-07-04T15:12:27.698Z"
   },
   {
    "duration": 107100,
    "start_time": "2022-07-04T15:12:32.642Z"
   },
   {
    "duration": 5,
    "start_time": "2022-07-04T15:14:19.744Z"
   },
   {
    "duration": 3,
    "start_time": "2022-07-04T15:15:49.206Z"
   },
   {
    "duration": 4401,
    "start_time": "2022-07-04T15:15:53.348Z"
   },
   {
    "duration": 4,
    "start_time": "2022-07-04T15:15:57.751Z"
   },
   {
    "duration": 26,
    "start_time": "2022-07-04T15:16:34.315Z"
   },
   {
    "duration": 38,
    "start_time": "2022-07-04T15:18:58.446Z"
   },
   {
    "duration": 3,
    "start_time": "2022-07-04T15:19:42.927Z"
   },
   {
    "duration": 23,
    "start_time": "2022-07-04T15:20:30.114Z"
   },
   {
    "duration": 18,
    "start_time": "2022-07-04T15:20:33.665Z"
   },
   {
    "duration": 1297,
    "start_time": "2022-07-04T15:20:57.417Z"
   },
   {
    "duration": 2,
    "start_time": "2022-07-04T15:20:58.717Z"
   },
   {
    "duration": 880,
    "start_time": "2022-07-04T15:20:58.721Z"
   },
   {
    "duration": 23,
    "start_time": "2022-07-04T15:20:59.603Z"
   },
   {
    "duration": 16,
    "start_time": "2022-07-04T15:20:59.628Z"
   },
   {
    "duration": 6,
    "start_time": "2022-07-04T15:20:59.645Z"
   },
   {
    "duration": 129,
    "start_time": "2022-07-04T15:20:59.653Z"
   },
   {
    "duration": 114,
    "start_time": "2022-07-04T15:20:59.783Z"
   },
   {
    "duration": 94,
    "start_time": "2022-07-04T15:20:59.899Z"
   },
   {
    "duration": 115,
    "start_time": "2022-07-04T15:20:59.995Z"
   },
   {
    "duration": 68,
    "start_time": "2022-07-04T15:21:00.111Z"
   },
   {
    "duration": 98,
    "start_time": "2022-07-04T15:21:00.180Z"
   },
   {
    "duration": 99,
    "start_time": "2022-07-04T15:21:00.280Z"
   },
   {
    "duration": 96,
    "start_time": "2022-07-04T15:21:00.382Z"
   },
   {
    "duration": 62,
    "start_time": "2022-07-04T15:21:00.480Z"
   },
   {
    "duration": 73,
    "start_time": "2022-07-04T15:21:00.544Z"
   },
   {
    "duration": 27,
    "start_time": "2022-07-04T15:21:00.619Z"
   },
   {
    "duration": 119,
    "start_time": "2022-07-04T15:21:00.648Z"
   },
   {
    "duration": 232,
    "start_time": "2022-07-04T15:21:00.769Z"
   },
   {
    "duration": 17,
    "start_time": "2022-07-04T15:21:01.002Z"
   },
   {
    "duration": 42,
    "start_time": "2022-07-04T15:21:01.020Z"
   },
   {
    "duration": 18,
    "start_time": "2022-07-04T15:21:01.064Z"
   },
   {
    "duration": 137,
    "start_time": "2022-07-04T15:21:01.084Z"
   },
   {
    "duration": 19,
    "start_time": "2022-07-04T15:21:01.223Z"
   },
   {
    "duration": 10,
    "start_time": "2022-07-04T15:21:01.244Z"
   },
   {
    "duration": 1189,
    "start_time": "2022-07-04T15:21:01.255Z"
   },
   {
    "duration": 17,
    "start_time": "2022-07-04T15:21:08.564Z"
   },
   {
    "duration": 31,
    "start_time": "2022-07-04T15:21:49.637Z"
   },
   {
    "duration": 16,
    "start_time": "2022-07-04T15:23:20.252Z"
   },
   {
    "duration": 97,
    "start_time": "2022-07-04T15:27:12.908Z"
   },
   {
    "duration": 27,
    "start_time": "2022-07-04T15:28:03.539Z"
   },
   {
    "duration": 2024,
    "start_time": "2022-07-04T15:28:39.838Z"
   },
   {
    "duration": 26,
    "start_time": "2022-07-04T15:28:46.198Z"
   },
   {
    "duration": 89,
    "start_time": "2022-07-04T15:29:01.881Z"
   },
   {
    "duration": 14,
    "start_time": "2022-07-04T15:29:04.388Z"
   },
   {
    "duration": 24,
    "start_time": "2022-07-04T15:29:08.010Z"
   },
   {
    "duration": 22,
    "start_time": "2022-07-04T15:29:11.151Z"
   },
   {
    "duration": 1996,
    "start_time": "2022-07-04T15:29:17.578Z"
   },
   {
    "duration": 27,
    "start_time": "2022-07-04T15:29:23.167Z"
   },
   {
    "duration": 91,
    "start_time": "2022-07-04T15:30:02.270Z"
   },
   {
    "duration": 1162,
    "start_time": "2022-07-04T15:30:04.831Z"
   },
   {
    "duration": 16,
    "start_time": "2022-07-04T15:30:09.237Z"
   },
   {
    "duration": 3,
    "start_time": "2022-07-04T15:30:23.930Z"
   },
   {
    "duration": 2,
    "start_time": "2022-07-04T15:30:26.427Z"
   },
   {
    "duration": 235,
    "start_time": "2022-07-04T15:30:28.965Z"
   },
   {
    "duration": 101,
    "start_time": "2022-07-04T15:31:05.347Z"
   },
   {
    "duration": 14,
    "start_time": "2022-07-04T15:31:18.035Z"
   },
   {
    "duration": 2351,
    "start_time": "2022-07-04T15:31:27.162Z"
   },
   {
    "duration": 17,
    "start_time": "2022-07-04T15:31:33.079Z"
   },
   {
    "duration": 104611,
    "start_time": "2022-07-04T15:31:41.395Z"
   },
   {
    "duration": 4,
    "start_time": "2022-07-04T15:33:26.008Z"
   },
   {
    "duration": 11,
    "start_time": "2022-07-04T15:33:30.553Z"
   },
   {
    "duration": 5691,
    "start_time": "2022-07-04T15:33:30.566Z"
   },
   {
    "duration": 85,
    "start_time": "2022-07-04T15:33:36.259Z"
   },
   {
    "duration": 1273,
    "start_time": "2022-07-04T15:34:19.156Z"
   },
   {
    "duration": 3,
    "start_time": "2022-07-04T15:34:20.431Z"
   },
   {
    "duration": 897,
    "start_time": "2022-07-04T15:34:20.436Z"
   },
   {
    "duration": 25,
    "start_time": "2022-07-04T15:34:21.335Z"
   },
   {
    "duration": 4,
    "start_time": "2022-07-04T15:34:21.363Z"
   },
   {
    "duration": 5,
    "start_time": "2022-07-04T15:34:21.369Z"
   },
   {
    "duration": 134,
    "start_time": "2022-07-04T15:34:21.376Z"
   },
   {
    "duration": 118,
    "start_time": "2022-07-04T15:34:21.512Z"
   },
   {
    "duration": 85,
    "start_time": "2022-07-04T15:34:21.644Z"
   },
   {
    "duration": 104,
    "start_time": "2022-07-04T15:34:21.731Z"
   },
   {
    "duration": 58,
    "start_time": "2022-07-04T15:34:21.842Z"
   },
   {
    "duration": 98,
    "start_time": "2022-07-04T15:34:21.901Z"
   },
   {
    "duration": 98,
    "start_time": "2022-07-04T15:34:22.001Z"
   },
   {
    "duration": 94,
    "start_time": "2022-07-04T15:34:22.102Z"
   },
   {
    "duration": 62,
    "start_time": "2022-07-04T15:34:22.198Z"
   },
   {
    "duration": 81,
    "start_time": "2022-07-04T15:34:22.261Z"
   },
   {
    "duration": 18,
    "start_time": "2022-07-04T15:34:22.344Z"
   },
   {
    "duration": 118,
    "start_time": "2022-07-04T15:34:22.364Z"
   },
   {
    "duration": 244,
    "start_time": "2022-07-04T15:34:22.484Z"
   },
   {
    "duration": 16,
    "start_time": "2022-07-04T15:34:22.730Z"
   },
   {
    "duration": 28,
    "start_time": "2022-07-04T15:34:22.747Z"
   },
   {
    "duration": 13,
    "start_time": "2022-07-04T15:34:22.777Z"
   },
   {
    "duration": 139,
    "start_time": "2022-07-04T15:34:22.791Z"
   },
   {
    "duration": 21,
    "start_time": "2022-07-04T15:34:22.932Z"
   },
   {
    "duration": 5,
    "start_time": "2022-07-04T15:34:22.955Z"
   },
   {
    "duration": 2172,
    "start_time": "2022-07-04T15:34:22.961Z"
   },
   {
    "duration": 21,
    "start_time": "2022-07-04T15:34:25.134Z"
   },
   {
    "duration": 10,
    "start_time": "2022-07-04T15:34:25.157Z"
   },
   {
    "duration": 852,
    "start_time": "2022-07-04T15:34:25.168Z"
   },
   {
    "duration": 3,
    "start_time": "2022-07-04T15:34:26.022Z"
   },
   {
    "duration": 18,
    "start_time": "2022-07-04T15:34:26.027Z"
   },
   {
    "duration": 8902,
    "start_time": "2022-07-04T15:34:26.047Z"
   },
   {
    "duration": 3,
    "start_time": "2022-07-04T15:34:34.950Z"
   },
   {
    "duration": 106091,
    "start_time": "2022-07-04T15:34:34.954Z"
   },
   {
    "duration": 4,
    "start_time": "2022-07-04T15:36:21.047Z"
   },
   {
    "duration": 169288,
    "start_time": "2022-07-04T15:36:21.053Z"
   },
   {
    "duration": 4,
    "start_time": "2022-07-04T15:39:10.343Z"
   },
   {
    "duration": 1234,
    "start_time": "2022-07-04T15:43:13.583Z"
   },
   {
    "duration": 3,
    "start_time": "2022-07-04T15:43:14.819Z"
   },
   {
    "duration": 875,
    "start_time": "2022-07-04T15:43:14.824Z"
   },
   {
    "duration": 19,
    "start_time": "2022-07-04T15:43:15.701Z"
   },
   {
    "duration": 4,
    "start_time": "2022-07-04T15:43:15.722Z"
   },
   {
    "duration": 15,
    "start_time": "2022-07-04T15:43:15.728Z"
   },
   {
    "duration": 135,
    "start_time": "2022-07-04T15:43:15.744Z"
   },
   {
    "duration": 117,
    "start_time": "2022-07-04T15:43:15.880Z"
   },
   {
    "duration": 93,
    "start_time": "2022-07-04T15:43:15.999Z"
   },
   {
    "duration": 105,
    "start_time": "2022-07-04T15:43:16.094Z"
   },
   {
    "duration": 65,
    "start_time": "2022-07-04T15:43:16.201Z"
   },
   {
    "duration": 95,
    "start_time": "2022-07-04T15:43:16.268Z"
   },
   {
    "duration": 92,
    "start_time": "2022-07-04T15:43:16.365Z"
   },
   {
    "duration": 97,
    "start_time": "2022-07-04T15:43:16.461Z"
   },
   {
    "duration": 54,
    "start_time": "2022-07-04T15:43:16.560Z"
   },
   {
    "duration": 109,
    "start_time": "2022-07-04T15:43:16.616Z"
   },
   {
    "duration": 21,
    "start_time": "2022-07-04T15:43:16.728Z"
   },
   {
    "duration": 150,
    "start_time": "2022-07-04T15:43:16.751Z"
   },
   {
    "duration": 238,
    "start_time": "2022-07-04T15:43:16.903Z"
   },
   {
    "duration": 16,
    "start_time": "2022-07-04T15:43:17.143Z"
   },
   {
    "duration": 28,
    "start_time": "2022-07-04T15:43:17.160Z"
   },
   {
    "duration": 13,
    "start_time": "2022-07-04T15:43:17.190Z"
   },
   {
    "duration": 150,
    "start_time": "2022-07-04T15:43:17.205Z"
   },
   {
    "duration": 15,
    "start_time": "2022-07-04T15:43:17.358Z"
   },
   {
    "duration": 6,
    "start_time": "2022-07-04T15:43:17.375Z"
   },
   {
    "duration": 2223,
    "start_time": "2022-07-04T15:43:17.383Z"
   },
   {
    "duration": 16,
    "start_time": "2022-07-04T15:43:19.607Z"
   },
   {
    "duration": 6,
    "start_time": "2022-07-04T15:43:19.625Z"
   },
   {
    "duration": 886,
    "start_time": "2022-07-04T15:43:19.641Z"
   },
   {
    "duration": 3,
    "start_time": "2022-07-04T15:43:20.529Z"
   },
   {
    "duration": 12,
    "start_time": "2022-07-04T15:43:20.534Z"
   },
   {
    "duration": 8599,
    "start_time": "2022-07-04T15:43:20.548Z"
   },
   {
    "duration": 2,
    "start_time": "2022-07-04T15:43:29.149Z"
   },
   {
    "duration": 105396,
    "start_time": "2022-07-04T15:43:29.153Z"
   },
   {
    "duration": 4,
    "start_time": "2022-07-04T15:45:14.551Z"
   },
   {
    "duration": 6691,
    "start_time": "2022-07-04T15:45:14.557Z"
   },
   {
    "duration": 5,
    "start_time": "2022-07-04T15:45:21.250Z"
   },
   {
    "duration": 5756,
    "start_time": "2022-07-04T15:46:08.694Z"
   },
   {
    "duration": 103269,
    "start_time": "2022-07-04T15:46:18.442Z"
   },
   {
    "duration": 5393,
    "start_time": "2022-07-04T15:48:45.962Z"
   },
   {
    "duration": 1211,
    "start_time": "2022-07-04T15:49:47.401Z"
   },
   {
    "duration": 3,
    "start_time": "2022-07-04T15:49:48.614Z"
   },
   {
    "duration": 890,
    "start_time": "2022-07-04T15:49:48.619Z"
   },
   {
    "duration": 22,
    "start_time": "2022-07-04T15:49:49.511Z"
   },
   {
    "duration": 4,
    "start_time": "2022-07-04T15:49:49.541Z"
   },
   {
    "duration": 8,
    "start_time": "2022-07-04T15:49:49.547Z"
   },
   {
    "duration": 135,
    "start_time": "2022-07-04T15:49:49.556Z"
   },
   {
    "duration": 118,
    "start_time": "2022-07-04T15:49:49.693Z"
   },
   {
    "duration": 94,
    "start_time": "2022-07-04T15:49:49.812Z"
   },
   {
    "duration": 118,
    "start_time": "2022-07-04T15:49:49.909Z"
   },
   {
    "duration": 66,
    "start_time": "2022-07-04T15:49:50.029Z"
   },
   {
    "duration": 105,
    "start_time": "2022-07-04T15:49:50.097Z"
   },
   {
    "duration": 106,
    "start_time": "2022-07-04T15:49:50.204Z"
   },
   {
    "duration": 103,
    "start_time": "2022-07-04T15:49:50.312Z"
   },
   {
    "duration": 59,
    "start_time": "2022-07-04T15:49:50.417Z"
   },
   {
    "duration": 80,
    "start_time": "2022-07-04T15:49:50.478Z"
   },
   {
    "duration": 18,
    "start_time": "2022-07-04T15:49:50.560Z"
   },
   {
    "duration": 125,
    "start_time": "2022-07-04T15:49:50.580Z"
   },
   {
    "duration": 245,
    "start_time": "2022-07-04T15:49:50.707Z"
   },
   {
    "duration": 16,
    "start_time": "2022-07-04T15:49:50.954Z"
   },
   {
    "duration": 28,
    "start_time": "2022-07-04T15:49:50.973Z"
   },
   {
    "duration": 42,
    "start_time": "2022-07-04T15:49:51.003Z"
   },
   {
    "duration": 138,
    "start_time": "2022-07-04T15:49:51.047Z"
   },
   {
    "duration": 15,
    "start_time": "2022-07-04T15:49:51.187Z"
   },
   {
    "duration": 15,
    "start_time": "2022-07-04T15:49:51.204Z"
   },
   {
    "duration": 2235,
    "start_time": "2022-07-04T15:49:51.221Z"
   },
   {
    "duration": 15,
    "start_time": "2022-07-04T15:49:53.458Z"
   },
   {
    "duration": 11,
    "start_time": "2022-07-04T15:49:53.476Z"
   },
   {
    "duration": 898,
    "start_time": "2022-07-04T15:49:53.489Z"
   },
   {
    "duration": 3,
    "start_time": "2022-07-04T15:49:54.388Z"
   },
   {
    "duration": 12,
    "start_time": "2022-07-04T15:49:54.392Z"
   },
   {
    "duration": 8548,
    "start_time": "2022-07-04T15:49:54.405Z"
   },
   {
    "duration": 3,
    "start_time": "2022-07-04T15:50:02.955Z"
   },
   {
    "duration": 104760,
    "start_time": "2022-07-04T15:50:02.959Z"
   },
   {
    "duration": 5,
    "start_time": "2022-07-04T15:51:47.721Z"
   },
   {
    "duration": 11919,
    "start_time": "2022-07-04T15:51:47.729Z"
   },
   {
    "duration": 5,
    "start_time": "2022-07-04T15:51:59.650Z"
   },
   {
    "duration": 1214,
    "start_time": "2022-07-05T14:33:45.944Z"
   },
   {
    "duration": 3,
    "start_time": "2022-07-05T14:33:47.160Z"
   },
   {
    "duration": 1175,
    "start_time": "2022-07-05T14:33:47.164Z"
   },
   {
    "duration": 21,
    "start_time": "2022-07-05T14:33:48.341Z"
   },
   {
    "duration": 5,
    "start_time": "2022-07-05T14:33:48.366Z"
   },
   {
    "duration": 4,
    "start_time": "2022-07-05T14:33:48.374Z"
   },
   {
    "duration": 137,
    "start_time": "2022-07-05T14:33:48.381Z"
   },
   {
    "duration": 118,
    "start_time": "2022-07-05T14:33:48.520Z"
   },
   {
    "duration": 93,
    "start_time": "2022-07-05T14:33:48.640Z"
   },
   {
    "duration": 111,
    "start_time": "2022-07-05T14:33:48.735Z"
   },
   {
    "duration": 68,
    "start_time": "2022-07-05T14:33:48.848Z"
   },
   {
    "duration": 92,
    "start_time": "2022-07-05T14:33:48.918Z"
   },
   {
    "duration": 89,
    "start_time": "2022-07-05T14:33:49.012Z"
   },
   {
    "duration": 80,
    "start_time": "2022-07-05T14:33:49.103Z"
   },
   {
    "duration": 66,
    "start_time": "2022-07-05T14:33:49.185Z"
   },
   {
    "duration": 89,
    "start_time": "2022-07-05T14:33:52.878Z"
   },
   {
    "duration": 100,
    "start_time": "2022-07-05T14:33:56.210Z"
   },
   {
    "duration": 255,
    "start_time": "2022-07-05T14:33:59.061Z"
   },
   {
    "duration": 17,
    "start_time": "2022-07-05T14:34:00.340Z"
   },
   {
    "duration": 108,
    "start_time": "2022-07-05T14:34:04.661Z"
   },
   {
    "duration": 36,
    "start_time": "2022-07-05T14:37:55.958Z"
   },
   {
    "duration": 95,
    "start_time": "2022-07-05T14:38:03.395Z"
   },
   {
    "duration": 51,
    "start_time": "2022-07-05T14:38:06.367Z"
   },
   {
    "duration": 13,
    "start_time": "2022-07-05T14:38:25.406Z"
   },
   {
    "duration": 13,
    "start_time": "2022-07-05T14:38:32.835Z"
   },
   {
    "duration": 38,
    "start_time": "2022-07-05T14:38:44.560Z"
   },
   {
    "duration": 22,
    "start_time": "2022-07-05T14:39:03.928Z"
   },
   {
    "duration": 19,
    "start_time": "2022-07-05T14:39:05.877Z"
   },
   {
    "duration": 19,
    "start_time": "2022-07-05T14:39:07.301Z"
   },
   {
    "duration": 18,
    "start_time": "2022-07-05T14:39:08.756Z"
   },
   {
    "duration": 27,
    "start_time": "2022-07-05T14:39:10.049Z"
   },
   {
    "duration": 19,
    "start_time": "2022-07-05T14:39:10.766Z"
   },
   {
    "duration": 31,
    "start_time": "2022-07-05T14:40:13.077Z"
   },
   {
    "duration": 54,
    "start_time": "2022-07-05T14:40:20.521Z"
   },
   {
    "duration": 36,
    "start_time": "2022-07-05T14:40:32.170Z"
   },
   {
    "duration": 582,
    "start_time": "2022-07-05T14:40:43.461Z"
   },
   {
    "duration": 11,
    "start_time": "2022-07-05T14:41:02.607Z"
   },
   {
    "duration": 36,
    "start_time": "2022-07-05T14:41:46.654Z"
   },
   {
    "duration": 223,
    "start_time": "2022-07-05T14:42:16.148Z"
   },
   {
    "duration": 36,
    "start_time": "2022-07-05T14:42:26.841Z"
   },
   {
    "duration": 36,
    "start_time": "2022-07-05T14:43:06.457Z"
   },
   {
    "duration": 38,
    "start_time": "2022-07-05T14:43:08.015Z"
   },
   {
    "duration": 10,
    "start_time": "2022-07-05T14:43:58.602Z"
   },
   {
    "duration": 45,
    "start_time": "2022-07-05T14:44:01.388Z"
   },
   {
    "duration": 11,
    "start_time": "2022-07-05T14:44:02.618Z"
   },
   {
    "duration": 6,
    "start_time": "2022-07-05T14:44:08.075Z"
   },
   {
    "duration": 4,
    "start_time": "2022-07-05T14:46:57.498Z"
   },
   {
    "duration": 7,
    "start_time": "2022-07-05T14:46:57.504Z"
   },
   {
    "duration": 800,
    "start_time": "2022-07-05T14:46:57.513Z"
   },
   {
    "duration": 14,
    "start_time": "2022-07-05T14:46:58.315Z"
   },
   {
    "duration": 24,
    "start_time": "2022-07-05T14:46:58.332Z"
   },
   {
    "duration": 40,
    "start_time": "2022-07-05T14:46:58.358Z"
   },
   {
    "duration": 123,
    "start_time": "2022-07-05T14:46:58.400Z"
   },
   {
    "duration": 108,
    "start_time": "2022-07-05T14:46:58.524Z"
   },
   {
    "duration": 80,
    "start_time": "2022-07-05T14:46:58.634Z"
   },
   {
    "duration": 92,
    "start_time": "2022-07-05T14:46:58.716Z"
   },
   {
    "duration": 57,
    "start_time": "2022-07-05T14:46:58.810Z"
   },
   {
    "duration": 97,
    "start_time": "2022-07-05T14:46:58.869Z"
   },
   {
    "duration": 91,
    "start_time": "2022-07-05T14:46:58.968Z"
   },
   {
    "duration": 84,
    "start_time": "2022-07-05T14:46:59.061Z"
   },
   {
    "duration": 55,
    "start_time": "2022-07-05T14:46:59.146Z"
   },
   {
    "duration": 83,
    "start_time": "2022-07-05T14:46:59.202Z"
   },
   {
    "duration": 133,
    "start_time": "2022-07-05T14:46:59.287Z"
   },
   {
    "duration": 213,
    "start_time": "2022-07-05T14:46:59.422Z"
   },
   {
    "duration": 14,
    "start_time": "2022-07-05T14:46:59.636Z"
   },
   {
    "duration": 51,
    "start_time": "2022-07-05T14:46:59.652Z"
   },
   {
    "duration": 36,
    "start_time": "2022-07-05T14:46:59.705Z"
   },
   {
    "duration": 35,
    "start_time": "2022-07-05T14:47:02.787Z"
   },
   {
    "duration": 18,
    "start_time": "2022-07-05T14:47:57.828Z"
   },
   {
    "duration": 11,
    "start_time": "2022-07-05T14:47:59.107Z"
   },
   {
    "duration": 38,
    "start_time": "2022-07-05T14:48:19.641Z"
   },
   {
    "duration": 43,
    "start_time": "2022-07-05T14:48:22.980Z"
   },
   {
    "duration": 11,
    "start_time": "2022-07-05T14:48:24.187Z"
   },
   {
    "duration": 140,
    "start_time": "2022-07-05T14:50:58.219Z"
   },
   {
    "duration": 11,
    "start_time": "2022-07-05T14:50:59.707Z"
   },
   {
    "duration": 1158,
    "start_time": "2022-07-05T14:52:36.155Z"
   },
   {
    "duration": 13,
    "start_time": "2022-07-05T14:52:48.889Z"
   },
   {
    "duration": 3,
    "start_time": "2022-07-05T15:00:46.742Z"
   },
   {
    "duration": 686,
    "start_time": "2022-07-05T15:00:54.761Z"
   },
   {
    "duration": 3,
    "start_time": "2022-07-05T15:00:58.789Z"
   },
   {
    "duration": 3,
    "start_time": "2022-07-05T15:01:01.470Z"
   },
   {
    "duration": 509714,
    "start_time": "2022-07-05T15:01:03.203Z"
   },
   {
    "duration": 2,
    "start_time": "2022-07-05T15:09:32.919Z"
   },
   {
    "duration": 3,
    "start_time": "2022-07-05T15:11:17.613Z"
   },
   {
    "duration": 24150,
    "start_time": "2022-07-05T15:11:19.769Z"
   },
   {
    "duration": 5,
    "start_time": "2022-07-05T15:11:43.921Z"
   },
   {
    "duration": 42933,
    "start_time": "2022-07-05T15:12:39.227Z"
   },
   {
    "duration": 1403,
    "start_time": "2022-07-05T15:13:22.162Z"
   },
   {
    "duration": 4,
    "start_time": "2022-07-05T15:13:23.567Z"
   },
   {
    "duration": 51642,
    "start_time": "2022-07-05T15:13:23.572Z"
   },
   {
    "duration": 405,
    "start_time": "2022-07-05T15:14:15.216Z"
   },
   {
    "duration": 5,
    "start_time": "2022-07-05T15:14:15.623Z"
   },
   {
    "duration": 42187,
    "start_time": "2022-07-05T15:14:15.631Z"
   },
   {
    "duration": 1387,
    "start_time": "2022-07-05T15:14:57.820Z"
   },
   {
    "duration": 6,
    "start_time": "2022-07-05T15:14:59.209Z"
   },
   {
    "duration": 16217,
    "start_time": "2022-07-05T15:21:20.793Z"
   },
   {
    "duration": 403,
    "start_time": "2022-07-05T15:21:37.012Z"
   },
   {
    "duration": 39417,
    "start_time": "2022-07-05T15:21:37.417Z"
   },
   {
    "duration": 1327,
    "start_time": "2022-07-05T15:22:16.836Z"
   },
   {
    "duration": 1121,
    "start_time": "2022-07-05T15:23:19.304Z"
   },
   {
    "duration": 3,
    "start_time": "2022-07-05T15:23:20.427Z"
   },
   {
    "duration": 765,
    "start_time": "2022-07-05T15:23:20.431Z"
   },
   {
    "duration": 18,
    "start_time": "2022-07-05T15:23:21.198Z"
   },
   {
    "duration": 5,
    "start_time": "2022-07-05T15:23:21.218Z"
   },
   {
    "duration": 19,
    "start_time": "2022-07-05T15:23:21.224Z"
   },
   {
    "duration": 125,
    "start_time": "2022-07-05T15:23:21.244Z"
   },
   {
    "duration": 112,
    "start_time": "2022-07-05T15:23:21.370Z"
   },
   {
    "duration": 88,
    "start_time": "2022-07-05T15:23:21.484Z"
   },
   {
    "duration": 102,
    "start_time": "2022-07-05T15:23:21.575Z"
   },
   {
    "duration": 61,
    "start_time": "2022-07-05T15:23:21.679Z"
   },
   {
    "duration": 89,
    "start_time": "2022-07-05T15:23:21.742Z"
   },
   {
    "duration": 86,
    "start_time": "2022-07-05T15:23:21.833Z"
   },
   {
    "duration": 79,
    "start_time": "2022-07-05T15:23:21.921Z"
   },
   {
    "duration": 48,
    "start_time": "2022-07-05T15:23:22.003Z"
   },
   {
    "duration": 96,
    "start_time": "2022-07-05T15:23:22.054Z"
   },
   {
    "duration": 105,
    "start_time": "2022-07-05T15:23:22.152Z"
   },
   {
    "duration": 283,
    "start_time": "2022-07-05T15:23:22.259Z"
   },
   {
    "duration": 15,
    "start_time": "2022-07-05T15:23:22.544Z"
   },
   {
    "duration": 42,
    "start_time": "2022-07-05T15:23:22.560Z"
   },
   {
    "duration": 35,
    "start_time": "2022-07-05T15:23:22.604Z"
   },
   {
    "duration": 32,
    "start_time": "2022-07-05T15:23:22.641Z"
   },
   {
    "duration": 47,
    "start_time": "2022-07-05T15:23:22.674Z"
   },
   {
    "duration": 41,
    "start_time": "2022-07-05T15:23:22.722Z"
   },
   {
    "duration": 10,
    "start_time": "2022-07-05T15:23:22.764Z"
   },
   {
    "duration": 146,
    "start_time": "2022-07-05T15:23:22.776Z"
   },
   {
    "duration": 10,
    "start_time": "2022-07-05T15:23:22.923Z"
   },
   {
    "duration": 976,
    "start_time": "2022-07-05T15:23:22.936Z"
   },
   {
    "duration": 16,
    "start_time": "2022-07-05T15:23:23.914Z"
   },
   {
    "duration": 9,
    "start_time": "2022-07-05T15:23:23.932Z"
   },
   {
    "duration": 637,
    "start_time": "2022-07-05T15:23:23.943Z"
   },
   {
    "duration": 3,
    "start_time": "2022-07-05T15:23:24.581Z"
   },
   {
    "duration": 9,
    "start_time": "2022-07-05T15:23:24.585Z"
   },
   {
    "duration": 2017,
    "start_time": "2022-07-05T15:23:24.596Z"
   },
   {
    "duration": 86,
    "start_time": "2022-07-05T15:23:26.614Z"
   },
   {
    "duration": 41358,
    "start_time": "2022-07-05T15:23:26.702Z"
   },
   {
    "duration": 1368,
    "start_time": "2022-07-05T15:24:08.062Z"
   },
   {
    "duration": 5,
    "start_time": "2022-07-05T15:24:09.432Z"
   },
   {
    "duration": 4577,
    "start_time": "2022-07-05T15:24:09.438Z"
   },
   {
    "duration": 487,
    "start_time": "2022-07-05T15:24:14.017Z"
   },
   {
    "duration": 4,
    "start_time": "2022-07-05T15:24:14.506Z"
   },
   {
    "duration": 39750,
    "start_time": "2022-07-05T15:24:14.511Z"
   },
   {
    "duration": 1402,
    "start_time": "2022-07-05T15:24:54.264Z"
   },
   {
    "duration": 4,
    "start_time": "2022-07-05T15:24:55.668Z"
   },
   {
    "duration": 6,
    "start_time": "2022-07-05T15:38:00.544Z"
   },
   {
    "duration": 755,
    "start_time": "2022-07-05T15:38:25.733Z"
   },
   {
    "duration": 982,
    "start_time": "2022-07-05T15:38:37.685Z"
   },
   {
    "duration": 4,
    "start_time": "2022-07-05T15:38:47.227Z"
   },
   {
    "duration": 7,
    "start_time": "2022-07-05T15:38:51.124Z"
   },
   {
    "duration": 11,
    "start_time": "2022-07-05T15:39:09.115Z"
   },
   {
    "duration": 1116,
    "start_time": "2022-07-05T15:42:16.622Z"
   },
   {
    "duration": 3,
    "start_time": "2022-07-05T15:42:17.740Z"
   },
   {
    "duration": 772,
    "start_time": "2022-07-05T15:42:17.745Z"
   },
   {
    "duration": 18,
    "start_time": "2022-07-05T15:42:18.519Z"
   },
   {
    "duration": 4,
    "start_time": "2022-07-05T15:42:18.538Z"
   },
   {
    "duration": 8,
    "start_time": "2022-07-05T15:42:18.544Z"
   },
   {
    "duration": 115,
    "start_time": "2022-07-05T15:42:18.553Z"
   },
   {
    "duration": 108,
    "start_time": "2022-07-05T15:42:18.669Z"
   },
   {
    "duration": 90,
    "start_time": "2022-07-05T15:42:18.778Z"
   },
   {
    "duration": 102,
    "start_time": "2022-07-05T15:42:18.870Z"
   },
   {
    "duration": 64,
    "start_time": "2022-07-05T15:42:18.973Z"
   },
   {
    "duration": 90,
    "start_time": "2022-07-05T15:42:19.039Z"
   },
   {
    "duration": 96,
    "start_time": "2022-07-05T15:42:19.131Z"
   },
   {
    "duration": 89,
    "start_time": "2022-07-05T15:42:19.229Z"
   },
   {
    "duration": 49,
    "start_time": "2022-07-05T15:42:19.320Z"
   },
   {
    "duration": 101,
    "start_time": "2022-07-05T15:42:19.371Z"
   },
   {
    "duration": 106,
    "start_time": "2022-07-05T15:42:19.474Z"
   },
   {
    "duration": 227,
    "start_time": "2022-07-05T15:42:19.581Z"
   },
   {
    "duration": 13,
    "start_time": "2022-07-05T15:42:19.810Z"
   },
   {
    "duration": 32,
    "start_time": "2022-07-05T15:42:19.825Z"
   },
   {
    "duration": 52,
    "start_time": "2022-07-05T15:42:19.858Z"
   },
   {
    "duration": 31,
    "start_time": "2022-07-05T15:42:19.912Z"
   },
   {
    "duration": 29,
    "start_time": "2022-07-05T15:42:19.944Z"
   },
   {
    "duration": 58,
    "start_time": "2022-07-05T15:42:19.975Z"
   },
   {
    "duration": 10,
    "start_time": "2022-07-05T15:42:20.034Z"
   },
   {
    "duration": 141,
    "start_time": "2022-07-05T15:42:20.046Z"
   },
   {
    "duration": 14,
    "start_time": "2022-07-05T15:42:20.188Z"
   },
   {
    "duration": 932,
    "start_time": "2022-07-05T15:42:20.204Z"
   },
   {
    "duration": 12,
    "start_time": "2022-07-05T15:42:21.137Z"
   },
   {
    "duration": 9,
    "start_time": "2022-07-05T15:42:21.151Z"
   },
   {
    "duration": 630,
    "start_time": "2022-07-05T15:42:21.161Z"
   },
   {
    "duration": 8,
    "start_time": "2022-07-05T15:42:21.793Z"
   },
   {
    "duration": 10,
    "start_time": "2022-07-05T15:42:21.802Z"
   },
   {
    "duration": 2388,
    "start_time": "2022-07-05T15:42:21.813Z"
   },
   {
    "duration": 3,
    "start_time": "2022-07-05T15:42:24.203Z"
   },
   {
    "duration": 40569,
    "start_time": "2022-07-05T15:42:24.207Z"
   },
   {
    "duration": 1471,
    "start_time": "2022-07-05T15:43:04.778Z"
   },
   {
    "duration": 5,
    "start_time": "2022-07-05T15:43:06.251Z"
   },
   {
    "duration": 4358,
    "start_time": "2022-07-05T15:43:06.258Z"
   },
   {
    "duration": 494,
    "start_time": "2022-07-05T15:43:10.617Z"
   },
   {
    "duration": 5,
    "start_time": "2022-07-05T15:43:11.113Z"
   },
   {
    "duration": 1412,
    "start_time": "2022-07-05T15:43:11.119Z"
   },
   {
    "duration": 4,
    "start_time": "2022-07-05T15:43:12.532Z"
   },
   {
    "duration": 1251,
    "start_time": "2022-07-05T15:56:45.005Z"
   },
   {
    "duration": 3,
    "start_time": "2022-07-05T15:56:46.258Z"
   },
   {
    "duration": 815,
    "start_time": "2022-07-05T15:56:46.263Z"
   },
   {
    "duration": 26,
    "start_time": "2022-07-05T15:56:47.080Z"
   },
   {
    "duration": 4,
    "start_time": "2022-07-05T15:56:47.109Z"
   },
   {
    "duration": 10,
    "start_time": "2022-07-05T15:56:47.115Z"
   },
   {
    "duration": 127,
    "start_time": "2022-07-05T15:56:47.127Z"
   },
   {
    "duration": 106,
    "start_time": "2022-07-05T15:56:47.255Z"
   },
   {
    "duration": 91,
    "start_time": "2022-07-05T15:56:47.363Z"
   },
   {
    "duration": 109,
    "start_time": "2022-07-05T15:56:47.456Z"
   },
   {
    "duration": 60,
    "start_time": "2022-07-05T15:56:47.567Z"
   },
   {
    "duration": 95,
    "start_time": "2022-07-05T15:56:47.628Z"
   },
   {
    "duration": 101,
    "start_time": "2022-07-05T15:56:47.725Z"
   },
   {
    "duration": 87,
    "start_time": "2022-07-05T15:56:47.829Z"
   },
   {
    "duration": 52,
    "start_time": "2022-07-05T15:56:47.917Z"
   },
   {
    "duration": 107,
    "start_time": "2022-07-05T15:56:47.970Z"
   },
   {
    "duration": 106,
    "start_time": "2022-07-05T15:56:48.078Z"
   },
   {
    "duration": 278,
    "start_time": "2022-07-05T15:56:48.186Z"
   },
   {
    "duration": 15,
    "start_time": "2022-07-05T15:56:48.466Z"
   },
   {
    "duration": 43,
    "start_time": "2022-07-05T15:56:48.483Z"
   },
   {
    "duration": 36,
    "start_time": "2022-07-05T15:56:48.528Z"
   },
   {
    "duration": 53,
    "start_time": "2022-07-05T15:56:48.566Z"
   },
   {
    "duration": 31,
    "start_time": "2022-07-05T15:56:48.621Z"
   },
   {
    "duration": 53,
    "start_time": "2022-07-05T15:56:48.653Z"
   },
   {
    "duration": 10,
    "start_time": "2022-07-05T15:56:48.708Z"
   },
   {
    "duration": 134,
    "start_time": "2022-07-05T15:56:48.720Z"
   },
   {
    "duration": 10,
    "start_time": "2022-07-05T15:56:48.856Z"
   },
   {
    "duration": 960,
    "start_time": "2022-07-05T15:56:48.868Z"
   },
   {
    "duration": 12,
    "start_time": "2022-07-05T15:56:49.829Z"
   },
   {
    "duration": 17,
    "start_time": "2022-07-05T15:56:49.843Z"
   },
   {
    "duration": 601,
    "start_time": "2022-07-05T15:56:49.861Z"
   },
   {
    "duration": 3,
    "start_time": "2022-07-05T15:56:50.464Z"
   },
   {
    "duration": 9,
    "start_time": "2022-07-05T15:56:50.469Z"
   },
   {
    "duration": 1727,
    "start_time": "2022-07-05T15:56:50.479Z"
   },
   {
    "duration": 3,
    "start_time": "2022-07-05T15:56:52.208Z"
   },
   {
    "duration": 40537,
    "start_time": "2022-07-05T15:56:52.212Z"
   },
   {
    "duration": 1398,
    "start_time": "2022-07-05T15:57:32.751Z"
   },
   {
    "duration": 5,
    "start_time": "2022-07-05T15:57:34.152Z"
   },
   {
    "duration": 4856,
    "start_time": "2022-07-05T15:57:34.158Z"
   },
   {
    "duration": 490,
    "start_time": "2022-07-05T15:57:39.016Z"
   },
   {
    "duration": 4,
    "start_time": "2022-07-05T15:57:39.509Z"
   },
   {
    "duration": 1417,
    "start_time": "2022-07-05T15:57:39.515Z"
   },
   {
    "duration": 4,
    "start_time": "2022-07-05T15:57:40.934Z"
   }
  ],
  "kernelspec": {
   "display_name": "Python 3",
   "language": "python",
   "name": "python3"
  },
  "language_info": {
   "codemirror_mode": {
    "name": "ipython",
    "version": 3
   },
   "file_extension": ".py",
   "mimetype": "text/x-python",
   "name": "python",
   "nbconvert_exporter": "python",
   "pygments_lexer": "ipython3",
   "version": "3.7.1"
  },
  "toc": {
   "base_numbering": 1,
   "nav_menu": {
    "height": "243px",
    "width": "250px"
   },
   "number_sections": true,
   "sideBar": true,
   "skip_h1_title": true,
   "title_cell": "Table of Contents",
   "title_sidebar": "Contents",
   "toc_cell": false,
   "toc_position": {},
   "toc_section_display": true,
   "toc_window_display": false
  }
 },
 "nbformat": 4,
 "nbformat_minor": 2
}
