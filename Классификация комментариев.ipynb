{
 "cells": [
  {
   "cell_type": "markdown",
   "metadata": {
    "toc": true
   },
   "source": [
    "<h1>Содержание<span class=\"tocSkip\"></span></h1>\n",
    "<div class=\"toc\"><ul class=\"toc-item\"><li><span><a href=\"#Подготовка\" data-toc-modified-id=\"Подготовка-1\"><span class=\"toc-item-num\">1&nbsp;&nbsp;</span>Подготовка</a></span></li><li><span><a href=\"#Обучение\" data-toc-modified-id=\"Обучение-2\"><span class=\"toc-item-num\">2&nbsp;&nbsp;</span>Обучение</a></span><ul class=\"toc-item\"><li><span><a href=\"#Модель-Случайный-лес\" data-toc-modified-id=\"Модель-Случайный-лес-2.1\"><span class=\"toc-item-num\">2.1&nbsp;&nbsp;</span>Модель Случайный лес</a></span></li><li><span><a href=\"#Модель-LGBM\" data-toc-modified-id=\"Модель-LGBM-2.2\"><span class=\"toc-item-num\">2.2&nbsp;&nbsp;</span>Модель LGBM</a></span></li><li><span><a href=\"#Модель-Логистическая-регрессия\" data-toc-modified-id=\"Модель-Логистическая-регрессия-2.3\"><span class=\"toc-item-num\">2.3&nbsp;&nbsp;</span>Модель Логистическая регрессия</a></span></li></ul></li><li><span><a href=\"#Тестирование\" data-toc-modified-id=\"Тестирование-3\"><span class=\"toc-item-num\">3&nbsp;&nbsp;</span>Тестирование</a></span></li><li><span><a href=\"#Выводы\" data-toc-modified-id=\"Выводы-4\"><span class=\"toc-item-num\">4&nbsp;&nbsp;</span>Выводы</a></span></li><li><span><a href=\"#Чек-лист-проверки\" data-toc-modified-id=\"Чек-лист-проверки-5\"><span class=\"toc-item-num\">5&nbsp;&nbsp;</span>Чек-лист проверки</a></span></li></ul></div>"
   ]
  },
  {
   "cell_type": "code",
   "execution_count": 1,
   "metadata": {},
   "outputs": [],
   "source": [
    "import numpy as np\n",
    "import pandas as pd\n",
    "\n",
    "import re\n",
    "import nltk\n",
    "from nltk.corpus import stopwords\n",
    "from nltk.corpus import wordnet\n",
    "from nltk.stem import WordNetLemmatizer\n",
    "\n",
    "from sklearn.feature_extraction.text import TfidfVectorizer\n",
    "\n",
    "from sklearn.model_selection import train_test_split\n",
    "from sklearn.model_selection import GridSearchCV\n",
    "\n",
    "from lightgbm import LGBMClassifier\n",
    "from sklearn.linear_model import LogisticRegression\n",
    "from sklearn.ensemble import RandomForestClassifier\n",
    "\n",
    "from sklearn.metrics import f1_score\n",
    "from sklearn.metrics import make_scorer"
   ]
  },
  {
   "cell_type": "markdown",
   "metadata": {},
   "source": [
    "# Проект по классификации комментариев"
   ]
  },
  {
   "cell_type": "markdown",
   "metadata": {},
   "source": [
    "Интернет-магазин запускает новый сервис. Теперь пользователи могут редактировать и дополнять описания товаров, как в вики-сообществах. То есть клиенты предлагают свои правки и комментируют изменения других. Магазину нужен инструмент, который будет искать токсичные комментарии и отправлять их на модерацию. \n",
    "\n",
    "Обучите модель классифицировать комментарии на позитивные и негативные. В вашем распоряжении набор данных с разметкой о токсичности правок.\n",
    "\n",
    "Постройте модель со значением метрики качества *F1* не меньше 0.75. \n",
    "\n",
    "**Описание данных**\n",
    "\n",
    "Данные находятся в файле `toxic_comments.csv`. Столбец *text* в нём содержит текст комментария, а *toxic* — целевой признак."
   ]
  },
  {
   "cell_type": "markdown",
   "metadata": {},
   "source": [
    "## Подготовка"
   ]
  },
  {
   "cell_type": "code",
   "execution_count": 2,
   "metadata": {},
   "outputs": [],
   "source": [
    "state = 12345"
   ]
  },
  {
   "cell_type": "code",
   "execution_count": 3,
   "metadata": {
    "collapsed": true
   },
   "outputs": [
    {
     "name": "stderr",
     "output_type": "stream",
     "text": [
      "[nltk_data] Downloading package wordnet to /home/jovyan/nltk_data...\n",
      "[nltk_data]   Package wordnet is already up-to-date!\n",
      "[nltk_data] Downloading package averaged_perceptron_tagger to\n",
      "[nltk_data]     /home/jovyan/nltk_data...\n",
      "[nltk_data]   Package averaged_perceptron_tagger is already up-to-\n",
      "[nltk_data]       date!\n",
      "[nltk_data] Downloading package stopwords to /home/jovyan/nltk_data...\n",
      "[nltk_data]   Package stopwords is already up-to-date!\n"
     ]
    },
    {
     "data": {
      "text/plain": [
       "True"
      ]
     },
     "execution_count": 3,
     "metadata": {},
     "output_type": "execute_result"
    }
   ],
   "source": [
    "nltk.download('wordnet')\n",
    "nltk.download('averaged_perceptron_tagger')\n",
    "nltk.download('stopwords')"
   ]
  },
  {
   "cell_type": "code",
   "execution_count": 4,
   "metadata": {},
   "outputs": [],
   "source": [
    "df_toxic_comments = pd.read_csv('/datasets/toxic_comments.csv')"
   ]
  },
  {
   "cell_type": "code",
   "execution_count": 5,
   "metadata": {},
   "outputs": [
    {
     "data": {
      "text/html": [
       "<div>\n",
       "<style scoped>\n",
       "    .dataframe tbody tr th:only-of-type {\n",
       "        vertical-align: middle;\n",
       "    }\n",
       "\n",
       "    .dataframe tbody tr th {\n",
       "        vertical-align: top;\n",
       "    }\n",
       "\n",
       "    .dataframe thead th {\n",
       "        text-align: right;\n",
       "    }\n",
       "</style>\n",
       "<table border=\"1\" class=\"dataframe\">\n",
       "  <thead>\n",
       "    <tr style=\"text-align: right;\">\n",
       "      <th></th>\n",
       "      <th>text</th>\n",
       "      <th>toxic</th>\n",
       "    </tr>\n",
       "  </thead>\n",
       "  <tbody>\n",
       "    <tr>\n",
       "      <th>0</th>\n",
       "      <td>Explanation\\nWhy the edits made under my usern...</td>\n",
       "      <td>0</td>\n",
       "    </tr>\n",
       "    <tr>\n",
       "      <th>1</th>\n",
       "      <td>D'aww! He matches this background colour I'm s...</td>\n",
       "      <td>0</td>\n",
       "    </tr>\n",
       "    <tr>\n",
       "      <th>2</th>\n",
       "      <td>Hey man, I'm really not trying to edit war. It...</td>\n",
       "      <td>0</td>\n",
       "    </tr>\n",
       "  </tbody>\n",
       "</table>\n",
       "</div>"
      ],
      "text/plain": [
       "                                                text  toxic\n",
       "0  Explanation\\nWhy the edits made under my usern...      0\n",
       "1  D'aww! He matches this background colour I'm s...      0\n",
       "2  Hey man, I'm really not trying to edit war. It...      0"
      ]
     },
     "execution_count": 5,
     "metadata": {},
     "output_type": "execute_result"
    }
   ],
   "source": [
    "df_toxic_comments.head(3)"
   ]
  },
  {
   "cell_type": "code",
   "execution_count": 6,
   "metadata": {
    "scrolled": true
   },
   "outputs": [
    {
     "name": "stdout",
     "output_type": "stream",
     "text": [
      "<class 'pandas.core.frame.DataFrame'>\n",
      "RangeIndex: 159571 entries, 0 to 159570\n",
      "Data columns (total 2 columns):\n",
      " #   Column  Non-Null Count   Dtype \n",
      "---  ------  --------------   ----- \n",
      " 0   text    159571 non-null  object\n",
      " 1   toxic   159571 non-null  int64 \n",
      "dtypes: int64(1), object(1)\n",
      "memory usage: 2.4+ MB\n"
     ]
    }
   ],
   "source": [
    "df_toxic_comments.info()"
   ]
  },
  {
   "cell_type": "code",
   "execution_count": 7,
   "metadata": {},
   "outputs": [],
   "source": [
    "def get_wordnet_pos(word):  # функция для лемматизации с POS-тегом\n",
    "    \n",
    "    tag = nltk.pos_tag([word])[0][1][0].upper()\n",
    "    tag_dict = {\"J\": wordnet.ADJ,\n",
    "                \"N\": wordnet.NOUN,\n",
    "                \"V\": wordnet.VERB,\n",
    "                \"R\": wordnet.ADV}\n",
    "\n",
    "    return tag_dict.get(tag, wordnet.NOUN)"
   ]
  },
  {
   "cell_type": "code",
   "execution_count": 8,
   "metadata": {},
   "outputs": [],
   "source": [
    "def lemmatize(text):   # функция лемматизации\n",
    "    \n",
    "    wnl = WordNetLemmatizer()\n",
    "    word_list = nltk.word_tokenize(text)\n",
    "    \n",
    "    lemmatized_output = ' '.join([wnl.lemmatize(w, get_wordnet_pos(w)) for w in word_list])\n",
    "    \n",
    "    return lemmatized_output"
   ]
  },
  {
   "cell_type": "code",
   "execution_count": 9,
   "metadata": {},
   "outputs": [],
   "source": [
    "def clear_text(text):   # функция регуляризации\n",
    "    \n",
    "    sub = re.sub(r'[^a-zA-Z]', ' ', text)  \n",
    "    \n",
    "    return ' '.join(sub.split())"
   ]
  },
  {
   "cell_type": "markdown",
   "metadata": {},
   "source": [
    "Лемматизируем и очистим исходный текст:"
   ]
  },
  {
   "cell_type": "code",
   "execution_count": 10,
   "metadata": {},
   "outputs": [],
   "source": [
    "df_toxic_comments['lem_text'] = df_toxic_comments['text'].apply(clear_text)"
   ]
  },
  {
   "cell_type": "code",
   "execution_count": 11,
   "metadata": {},
   "outputs": [],
   "source": [
    "df_toxic_comments['lem_text'] = df_toxic_comments['lem_text'].apply(lemmatize)"
   ]
  },
  {
   "cell_type": "code",
   "execution_count": 12,
   "metadata": {},
   "outputs": [],
   "source": [
    "df_toxic_comments['lem_text'] = df_toxic_comments['lem_text'].apply(lambda x: x.lower())"
   ]
  },
  {
   "cell_type": "code",
   "execution_count": 13,
   "metadata": {},
   "outputs": [
    {
     "data": {
      "text/html": [
       "<div>\n",
       "<style scoped>\n",
       "    .dataframe tbody tr th:only-of-type {\n",
       "        vertical-align: middle;\n",
       "    }\n",
       "\n",
       "    .dataframe tbody tr th {\n",
       "        vertical-align: top;\n",
       "    }\n",
       "\n",
       "    .dataframe thead th {\n",
       "        text-align: right;\n",
       "    }\n",
       "</style>\n",
       "<table border=\"1\" class=\"dataframe\">\n",
       "  <thead>\n",
       "    <tr style=\"text-align: right;\">\n",
       "      <th></th>\n",
       "      <th>text</th>\n",
       "      <th>toxic</th>\n",
       "      <th>lem_text</th>\n",
       "    </tr>\n",
       "  </thead>\n",
       "  <tbody>\n",
       "    <tr>\n",
       "      <th>0</th>\n",
       "      <td>Explanation\\nWhy the edits made under my usern...</td>\n",
       "      <td>0</td>\n",
       "      <td>explanation why the edits make under my userna...</td>\n",
       "    </tr>\n",
       "    <tr>\n",
       "      <th>1</th>\n",
       "      <td>D'aww! He matches this background colour I'm s...</td>\n",
       "      <td>0</td>\n",
       "      <td>d aww he match this background colour i m seem...</td>\n",
       "    </tr>\n",
       "    <tr>\n",
       "      <th>2</th>\n",
       "      <td>Hey man, I'm really not trying to edit war. It...</td>\n",
       "      <td>0</td>\n",
       "      <td>hey man i m really not try to edit war it s ju...</td>\n",
       "    </tr>\n",
       "  </tbody>\n",
       "</table>\n",
       "</div>"
      ],
      "text/plain": [
       "                                                text  toxic  \\\n",
       "0  Explanation\\nWhy the edits made under my usern...      0   \n",
       "1  D'aww! He matches this background colour I'm s...      0   \n",
       "2  Hey man, I'm really not trying to edit war. It...      0   \n",
       "\n",
       "                                            lem_text  \n",
       "0  explanation why the edits make under my userna...  \n",
       "1  d aww he match this background colour i m seem...  \n",
       "2  hey man i m really not try to edit war it s ju...  "
      ]
     },
     "execution_count": 13,
     "metadata": {},
     "output_type": "execute_result"
    }
   ],
   "source": [
    "df_toxic_comments.head(3)"
   ]
  },
  {
   "cell_type": "markdown",
   "metadata": {},
   "source": [
    "Разделим данные на выборки в соотношении 3:1 и выделим целевой признак:"
   ]
  },
  {
   "cell_type": "code",
   "execution_count": 14,
   "metadata": {},
   "outputs": [],
   "source": [
    "toxic_train, toxic_test = train_test_split(df_toxic_comments, test_size=0.25, random_state=state)"
   ]
  },
  {
   "cell_type": "code",
   "execution_count": 15,
   "metadata": {},
   "outputs": [],
   "source": [
    "target_train = toxic_train['toxic']\n",
    "target_test = toxic_test['toxic']"
   ]
  },
  {
   "cell_type": "markdown",
   "metadata": {},
   "source": [
    "Создадим корпусы:"
   ]
  },
  {
   "cell_type": "code",
   "execution_count": 16,
   "metadata": {},
   "outputs": [],
   "source": [
    "corpus = toxic_train['lem_text'].values\n",
    "corpus_test = toxic_test['lem_text'].values"
   ]
  },
  {
   "cell_type": "markdown",
   "metadata": {},
   "source": [
    "Посчитаем TF-IDF:"
   ]
  },
  {
   "cell_type": "code",
   "execution_count": 17,
   "metadata": {},
   "outputs": [],
   "source": [
    "stop_words = set(stopwords.words('english'))"
   ]
  },
  {
   "cell_type": "code",
   "execution_count": 18,
   "metadata": {},
   "outputs": [
    {
     "name": "stdout",
     "output_type": "stream",
     "text": [
      "Размер матрицы: (119678, 135088)\n",
      "Размер матрицы: (39893, 135088)\n"
     ]
    }
   ],
   "source": [
    "count_tf_idf = TfidfVectorizer(stop_words=stop_words)\n",
    "\n",
    "tf_idf = count_tf_idf.fit_transform(corpus)\n",
    "tf_idf_test = count_tf_idf.transform(corpus_test)\n",
    "\n",
    "print(\"Размер матрицы:\", tf_idf.shape) \n",
    "print(\"Размер матрицы:\", tf_idf_test.shape) "
   ]
  },
  {
   "cell_type": "markdown",
   "metadata": {},
   "source": [
    "Выводы о проделанной работе:\n",
    "\n",
    "- импортировали библиотеки\n",
    "- прочли данные \n",
    "- выполнили лемматизацию и очистку текстовых данных\n",
    "- разделили данные на выборки\n",
    "- посчитали TF-IDF для корпусов текстов"
   ]
  },
  {
   "cell_type": "markdown",
   "metadata": {},
   "source": [
    "## Обучение"
   ]
  },
  {
   "cell_type": "markdown",
   "metadata": {},
   "source": [
    "Обучим разные модели и подберем гиперпараметры:"
   ]
  },
  {
   "cell_type": "code",
   "execution_count": 19,
   "metadata": {},
   "outputs": [],
   "source": [
    "scorer = make_scorer(f1_score, average='weighted', greater_is_better=True)"
   ]
  },
  {
   "cell_type": "markdown",
   "metadata": {},
   "source": [
    "### Модель Случайный лес"
   ]
  },
  {
   "cell_type": "code",
   "execution_count": 20,
   "metadata": {},
   "outputs": [],
   "source": [
    "rfc = RandomForestClassifier(random_state=state)\n",
    "\n",
    "parametrs = {'n_estimators': range (1, 11, 2),\n",
    "              'max_depth': range (1, 11, 2)}"
   ]
  },
  {
   "cell_type": "code",
   "execution_count": 21,
   "metadata": {},
   "outputs": [
    {
     "data": {
      "text/plain": [
       "0.8549344830978797"
      ]
     },
     "execution_count": 21,
     "metadata": {},
     "output_type": "execute_result"
    }
   ],
   "source": [
    "grid = GridSearchCV(rfc, parametrs, cv=3, scoring=scorer)\n",
    "grid.fit(tf_idf[:5000], target_train[:5000])\n",
    "\n",
    "grid.best_score_ "
   ]
  },
  {
   "cell_type": "code",
   "execution_count": 22,
   "metadata": {},
   "outputs": [
    {
     "data": {
      "text/plain": [
       "{'max_depth': 7, 'n_estimators': 1}"
      ]
     },
     "execution_count": 22,
     "metadata": {},
     "output_type": "execute_result"
    }
   ],
   "source": [
    "grid.best_params_"
   ]
  },
  {
   "cell_type": "markdown",
   "metadata": {},
   "source": [
    "### Модель LGBM"
   ]
  },
  {
   "cell_type": "code",
   "execution_count": 23,
   "metadata": {},
   "outputs": [],
   "source": [
    "lgc = LGBMClassifier(random_state=state)\n",
    "\n",
    "parametrs = {'n_estimators': range (1, 11, 3),\n",
    "              'max_depth': range (1, 11, 3)}"
   ]
  },
  {
   "cell_type": "code",
   "execution_count": 24,
   "metadata": {},
   "outputs": [
    {
     "data": {
      "text/plain": [
       "0.854077573321684"
      ]
     },
     "execution_count": 24,
     "metadata": {},
     "output_type": "execute_result"
    }
   ],
   "source": [
    "grid = GridSearchCV(lgc, parametrs, cv=3, scoring=scorer)\n",
    "grid.fit(tf_idf[:1000], target_train[:1000])\n",
    "\n",
    "grid.best_score_ "
   ]
  },
  {
   "cell_type": "code",
   "execution_count": 25,
   "metadata": {},
   "outputs": [
    {
     "data": {
      "text/plain": [
       "{'max_depth': 1, 'n_estimators': 1}"
      ]
     },
     "execution_count": 25,
     "metadata": {},
     "output_type": "execute_result"
    }
   ],
   "source": [
    "grid.best_params_"
   ]
  },
  {
   "cell_type": "markdown",
   "metadata": {},
   "source": [
    "### Модель Логистическая регрессия"
   ]
  },
  {
   "cell_type": "code",
   "execution_count": 38,
   "metadata": {},
   "outputs": [],
   "source": [
    "lr = LogisticRegression(random_state=state, solver='liblinear')\n",
    "\n",
    "parametrs = {'penalty':['l1','l2'], \n",
    "              'C':[1, 10, 100]}"
   ]
  },
  {
   "cell_type": "code",
   "execution_count": 39,
   "metadata": {},
   "outputs": [
    {
     "data": {
      "text/plain": [
       "0.9398665453276186"
      ]
     },
     "execution_count": 39,
     "metadata": {},
     "output_type": "execute_result"
    }
   ],
   "source": [
    "grid = GridSearchCV(lr, parametrs, cv=3, scoring=scorer)\n",
    "grid.fit(tf_idf[:5000], target_train[:5000])\n",
    "\n",
    "grid.best_score_ "
   ]
  },
  {
   "cell_type": "code",
   "execution_count": 40,
   "metadata": {},
   "outputs": [
    {
     "data": {
      "text/plain": [
       "{'C': 10, 'penalty': 'l1'}"
      ]
     },
     "execution_count": 40,
     "metadata": {},
     "output_type": "execute_result"
    }
   ],
   "source": [
    "grid.best_params_"
   ]
  },
  {
   "cell_type": "markdown",
   "metadata": {},
   "source": [
    "Выводы:\n",
    "\n",
    "- подобрали гиперпараметры для моделей Случайный лес, LGBM и Логистическая регрессия\n",
    " - для модели `RandomForestClassifier` F1 равен 0.855\n",
    " - для модели `LGBMClassifier` F1 равен 0.854\n",
    "  - для модели `LogisticRegression` F1 равен 0.91\n",
    " \n",
    "Выбираем модель с наилучшим результатом - `LogisticRegression`."
   ]
  },
  {
   "cell_type": "markdown",
   "metadata": {},
   "source": [
    "## Тестирование"
   ]
  },
  {
   "cell_type": "code",
   "execution_count": 41,
   "metadata": {},
   "outputs": [
    {
     "data": {
      "text/plain": [
       "LogisticRegression(C=10, class_weight='balanced', penalty='l1',\n",
       "                   random_state=12345, solver='liblinear')"
      ]
     },
     "execution_count": 41,
     "metadata": {},
     "output_type": "execute_result"
    }
   ],
   "source": [
    "model = LogisticRegression(class_weight=\"balanced\", penalty='l1', \n",
    "                           C=10, solver='liblinear', random_state=state)\n",
    "\n",
    "model.fit(tf_idf, target_train)"
   ]
  },
  {
   "cell_type": "code",
   "execution_count": 42,
   "metadata": {},
   "outputs": [],
   "source": [
    "predicted_test = model.predict(tf_idf_test)"
   ]
  },
  {
   "cell_type": "code",
   "execution_count": 43,
   "metadata": {},
   "outputs": [
    {
     "name": "stdout",
     "output_type": "stream",
     "text": [
      "f1: 0.7521703900914457\n"
     ]
    }
   ],
   "source": [
    "print(\"f1:\", f1_score(target_test, predicted_test))"
   ]
  },
  {
   "cell_type": "markdown",
   "metadata": {},
   "source": [
    "## Выводы"
   ]
  },
  {
   "cell_type": "markdown",
   "metadata": {},
   "source": [
    "Значение метрики F1 на тестовой выборке для модели Логистическая регрессия равно 0.752, что удовлетворяет условию задания."
   ]
  }
 ],
 "metadata": {
  "ExecuteTimeLog": [
   {
    "duration": 1176,
    "start_time": "2022-07-24T10:40:24.826Z"
   },
   {
    "duration": 2559,
    "start_time": "2022-07-24T10:45:33.863Z"
   },
   {
    "duration": 18,
    "start_time": "2022-07-24T10:45:38.292Z"
   },
   {
    "duration": 38,
    "start_time": "2022-07-24T10:45:44.800Z"
   },
   {
    "duration": 11,
    "start_time": "2022-07-24T10:47:09.270Z"
   },
   {
    "duration": 148,
    "start_time": "2022-07-24T10:47:10.341Z"
   },
   {
    "duration": 3,
    "start_time": "2022-07-24T10:47:14.859Z"
   },
   {
    "duration": 38,
    "start_time": "2022-07-24T10:47:22.310Z"
   },
   {
    "duration": 7,
    "start_time": "2022-07-24T10:47:50.339Z"
   },
   {
    "duration": 2657,
    "start_time": "2022-07-24T10:55:56.268Z"
   },
   {
    "duration": 20,
    "start_time": "2022-07-24T10:56:06.244Z"
   },
   {
    "duration": 1685,
    "start_time": "2022-07-24T10:56:29.110Z"
   },
   {
    "duration": 3,
    "start_time": "2022-07-24T10:56:34.510Z"
   },
   {
    "duration": 2617,
    "start_time": "2022-07-24T10:56:35.549Z"
   },
   {
    "duration": 52,
    "start_time": "2022-07-24T10:57:34.751Z"
   },
   {
    "duration": 1417,
    "start_time": "2022-07-24T10:57:44.492Z"
   },
   {
    "duration": 2,
    "start_time": "2022-07-24T10:57:47.347Z"
   },
   {
    "duration": 2626,
    "start_time": "2022-07-24T10:57:48.249Z"
   },
   {
    "duration": 17,
    "start_time": "2022-07-24T10:57:50.877Z"
   },
   {
    "duration": 9,
    "start_time": "2022-07-24T11:00:13.917Z"
   },
   {
    "duration": 36,
    "start_time": "2022-07-24T11:03:16.614Z"
   },
   {
    "duration": 11,
    "start_time": "2022-07-24T11:06:11.556Z"
   },
   {
    "duration": 294,
    "start_time": "2022-07-24T11:11:24.744Z"
   },
   {
    "duration": 4,
    "start_time": "2022-07-24T11:13:58.001Z"
   },
   {
    "duration": 91,
    "start_time": "2022-07-24T11:15:40.776Z"
   },
   {
    "duration": 3,
    "start_time": "2022-07-24T11:15:43.561Z"
   },
   {
    "duration": 1495,
    "start_time": "2022-07-24T11:15:44.698Z"
   },
   {
    "duration": 4,
    "start_time": "2022-07-24T11:17:21.300Z"
   },
   {
    "duration": 5,
    "start_time": "2022-07-24T11:17:31.620Z"
   },
   {
    "duration": 4,
    "start_time": "2022-07-24T11:17:57.949Z"
   },
   {
    "duration": 5,
    "start_time": "2022-07-24T11:18:04.518Z"
   },
   {
    "duration": 10,
    "start_time": "2022-07-24T11:19:31.591Z"
   },
   {
    "duration": 2414,
    "start_time": "2022-07-24T11:19:35.699Z"
   },
   {
    "duration": 10,
    "start_time": "2022-07-24T11:19:40.938Z"
   },
   {
    "duration": 5,
    "start_time": "2022-07-24T11:24:25.806Z"
   },
   {
    "duration": 15,
    "start_time": "2022-07-24T11:24:34.579Z"
   },
   {
    "duration": 4,
    "start_time": "2022-07-24T11:26:04.395Z"
   },
   {
    "duration": 6,
    "start_time": "2022-07-24T11:26:14.001Z"
   },
   {
    "duration": 5,
    "start_time": "2022-07-24T11:26:41.216Z"
   },
   {
    "duration": 21,
    "start_time": "2022-07-24T11:26:51.252Z"
   },
   {
    "duration": 5,
    "start_time": "2022-07-24T11:27:06.486Z"
   },
   {
    "duration": 7,
    "start_time": "2022-07-24T11:27:11.555Z"
   },
   {
    "duration": 5,
    "start_time": "2022-07-24T11:27:53.882Z"
   },
   {
    "duration": 7,
    "start_time": "2022-07-24T11:27:59.602Z"
   },
   {
    "duration": 3,
    "start_time": "2022-07-24T11:28:26.689Z"
   },
   {
    "duration": 15,
    "start_time": "2022-07-24T11:28:27.818Z"
   },
   {
    "duration": 4,
    "start_time": "2022-07-24T11:28:31.480Z"
   },
   {
    "duration": 6,
    "start_time": "2022-07-24T11:28:32.680Z"
   },
   {
    "duration": 23,
    "start_time": "2022-07-24T11:30:14.051Z"
   },
   {
    "duration": 22,
    "start_time": "2022-07-24T11:30:36.489Z"
   },
   {
    "duration": 26,
    "start_time": "2022-07-24T11:30:44.937Z"
   },
   {
    "duration": 143806,
    "start_time": "2022-07-24T11:32:24.767Z"
   },
   {
    "duration": 9,
    "start_time": "2022-07-24T11:36:33.885Z"
   },
   {
    "duration": 4,
    "start_time": "2022-07-24T11:36:54.045Z"
   },
   {
    "duration": 271,
    "start_time": "2022-07-24T11:37:11.346Z"
   },
   {
    "duration": 4,
    "start_time": "2022-07-24T11:37:31.645Z"
   },
   {
    "duration": 5051,
    "start_time": "2022-07-24T11:37:35.885Z"
   },
   {
    "duration": 9,
    "start_time": "2022-07-24T11:37:46.873Z"
   },
   {
    "duration": 5,
    "start_time": "2022-07-24T11:41:14.574Z"
   },
   {
    "duration": 1449,
    "start_time": "2022-07-24T11:41:58.059Z"
   },
   {
    "duration": 3,
    "start_time": "2022-07-24T11:42:52.254Z"
   },
   {
    "duration": 2551,
    "start_time": "2022-07-24T11:42:53.344Z"
   },
   {
    "duration": 19,
    "start_time": "2022-07-24T11:42:55.898Z"
   },
   {
    "duration": 3,
    "start_time": "2022-07-24T11:43:40.198Z"
   },
   {
    "duration": 4,
    "start_time": "2022-07-24T11:44:14.633Z"
   },
   {
    "duration": 3,
    "start_time": "2022-07-24T11:44:15.884Z"
   },
   {
    "duration": 138270,
    "start_time": "2022-07-24T11:44:27.646Z"
   },
   {
    "duration": 8,
    "start_time": "2022-07-24T11:47:11.033Z"
   },
   {
    "duration": 60,
    "start_time": "2022-07-24T11:56:59.580Z"
   },
   {
    "duration": 1273,
    "start_time": "2022-07-24T11:57:00.897Z"
   },
   {
    "duration": 1463,
    "start_time": "2022-07-24T11:57:18.697Z"
   },
   {
    "duration": 4,
    "start_time": "2022-07-24T11:57:20.162Z"
   },
   {
    "duration": 914,
    "start_time": "2022-07-24T11:57:20.167Z"
   },
   {
    "duration": 14,
    "start_time": "2022-07-24T11:57:21.084Z"
   },
   {
    "duration": 49,
    "start_time": "2022-07-24T11:57:21.099Z"
   },
   {
    "duration": 3,
    "start_time": "2022-07-24T11:57:21.151Z"
   },
   {
    "duration": 6,
    "start_time": "2022-07-24T11:57:21.156Z"
   },
   {
    "duration": 136806,
    "start_time": "2022-07-24T11:57:23.689Z"
   },
   {
    "duration": 7,
    "start_time": "2022-07-24T11:59:44.681Z"
   },
   {
    "duration": 66,
    "start_time": "2022-07-24T11:59:53.765Z"
   },
   {
    "duration": 2232,
    "start_time": "2022-07-24T11:59:54.921Z"
   },
   {
    "duration": 123,
    "start_time": "2022-07-24T12:00:07.601Z"
   },
   {
    "duration": 321,
    "start_time": "2022-07-24T12:00:37.853Z"
   },
   {
    "duration": 6,
    "start_time": "2022-07-24T12:01:23.826Z"
   },
   {
    "duration": 1404,
    "start_time": "2022-07-24T12:04:41.294Z"
   },
   {
    "duration": 3,
    "start_time": "2022-07-24T12:04:42.701Z"
   },
   {
    "duration": 2418,
    "start_time": "2022-07-24T12:04:42.706Z"
   },
   {
    "duration": 15,
    "start_time": "2022-07-24T12:04:45.127Z"
   },
   {
    "duration": 40,
    "start_time": "2022-07-24T12:04:45.144Z"
   },
   {
    "duration": 4,
    "start_time": "2022-07-24T12:04:45.186Z"
   },
   {
    "duration": 7,
    "start_time": "2022-07-24T12:04:45.191Z"
   },
   {
    "duration": 133150,
    "start_time": "2022-07-24T12:04:45.200Z"
   },
   {
    "duration": 4479,
    "start_time": "2022-07-24T12:06:58.352Z"
   },
   {
    "duration": 8,
    "start_time": "2022-07-24T12:07:02.833Z"
   },
   {
    "duration": 63,
    "start_time": "2022-07-24T12:07:02.843Z"
   },
   {
    "duration": 2301,
    "start_time": "2022-07-24T12:07:02.908Z"
   },
   {
    "duration": 135,
    "start_time": "2022-07-24T12:07:05.211Z"
   },
   {
    "duration": 51,
    "start_time": "2022-07-24T12:11:51.049Z"
   },
   {
    "duration": 1479,
    "start_time": "2022-07-24T12:12:04.227Z"
   },
   {
    "duration": 3,
    "start_time": "2022-07-24T12:12:05.708Z"
   },
   {
    "duration": 2472,
    "start_time": "2022-07-24T12:12:05.713Z"
   },
   {
    "duration": 15,
    "start_time": "2022-07-24T12:12:08.187Z"
   },
   {
    "duration": 41,
    "start_time": "2022-07-24T12:12:08.205Z"
   },
   {
    "duration": 4,
    "start_time": "2022-07-24T12:12:08.249Z"
   },
   {
    "duration": 11,
    "start_time": "2022-07-24T12:12:08.256Z"
   },
   {
    "duration": 138574,
    "start_time": "2022-07-24T12:12:08.269Z"
   },
   {
    "duration": 4632,
    "start_time": "2022-07-24T12:14:26.845Z"
   },
   {
    "duration": 8,
    "start_time": "2022-07-24T12:14:31.479Z"
   },
   {
    "duration": 68,
    "start_time": "2022-07-24T12:14:31.488Z"
   },
   {
    "duration": 3,
    "start_time": "2022-07-24T12:14:31.558Z"
   },
   {
    "duration": 4,
    "start_time": "2022-07-24T12:16:03.312Z"
   },
   {
    "duration": 1198,
    "start_time": "2022-07-26T12:10:46.090Z"
   },
   {
    "duration": 2,
    "start_time": "2022-07-26T12:10:47.290Z"
   },
   {
    "duration": 3134,
    "start_time": "2022-07-26T12:10:47.293Z"
   },
   {
    "duration": 14,
    "start_time": "2022-07-26T12:10:50.429Z"
   },
   {
    "duration": 29,
    "start_time": "2022-07-26T12:10:50.445Z"
   },
   {
    "duration": 4,
    "start_time": "2022-07-26T12:10:50.475Z"
   },
   {
    "duration": 4,
    "start_time": "2022-07-26T12:10:50.481Z"
   },
   {
    "duration": 117595,
    "start_time": "2022-07-26T12:10:50.487Z"
   },
   {
    "duration": 4037,
    "start_time": "2022-07-26T12:12:48.084Z"
   },
   {
    "duration": 7,
    "start_time": "2022-07-26T12:12:52.123Z"
   },
   {
    "duration": 45,
    "start_time": "2022-07-26T12:19:03.938Z"
   },
   {
    "duration": 4,
    "start_time": "2022-07-26T12:19:04.979Z"
   },
   {
    "duration": 4,
    "start_time": "2022-07-26T12:19:09.339Z"
   },
   {
    "duration": 483,
    "start_time": "2022-07-26T12:19:14.500Z"
   },
   {
    "duration": 6394,
    "start_time": "2022-07-26T12:19:47.029Z"
   },
   {
    "duration": 6275,
    "start_time": "2022-07-26T12:19:59.392Z"
   },
   {
    "duration": 3,
    "start_time": "2022-07-26T12:20:59.497Z"
   },
   {
    "duration": 3,
    "start_time": "2022-07-26T12:21:15.607Z"
   },
   {
    "duration": 120,
    "start_time": "2022-07-26T12:27:28.829Z"
   },
   {
    "duration": 3,
    "start_time": "2022-07-26T12:27:33.728Z"
   },
   {
    "duration": 9,
    "start_time": "2022-07-26T12:27:34.998Z"
   },
   {
    "duration": 10,
    "start_time": "2022-07-26T12:27:44.641Z"
   },
   {
    "duration": 3,
    "start_time": "2022-07-26T12:27:52.206Z"
   },
   {
    "duration": 28947,
    "start_time": "2022-07-26T12:27:55.521Z"
   },
   {
    "duration": 0,
    "start_time": "2022-07-26T12:28:24.470Z"
   },
   {
    "duration": 2,
    "start_time": "2022-07-26T12:28:48.536Z"
   },
   {
    "duration": 208695,
    "start_time": "2022-07-26T12:28:50.306Z"
   },
   {
    "duration": 0,
    "start_time": "2022-07-26T12:32:19.003Z"
   },
   {
    "duration": 4783,
    "start_time": "2022-07-26T12:32:38.927Z"
   },
   {
    "duration": 3,
    "start_time": "2022-07-26T12:32:51.760Z"
   },
   {
    "duration": 4,
    "start_time": "2022-07-26T12:32:56.207Z"
   },
   {
    "duration": 5298,
    "start_time": "2022-07-26T12:32:57.617Z"
   },
   {
    "duration": 2,
    "start_time": "2022-07-26T12:33:20.771Z"
   },
   {
    "duration": 7602,
    "start_time": "2022-07-26T12:33:22.418Z"
   },
   {
    "duration": 3,
    "start_time": "2022-07-26T12:33:54.318Z"
   },
   {
    "duration": 3,
    "start_time": "2022-07-26T12:34:04.376Z"
   },
   {
    "duration": 2,
    "start_time": "2022-07-26T12:34:09.637Z"
   },
   {
    "duration": 3,
    "start_time": "2022-07-26T12:34:10.555Z"
   },
   {
    "duration": 7395,
    "start_time": "2022-07-26T12:34:11.477Z"
   },
   {
    "duration": 38792,
    "start_time": "2022-07-26T12:34:21.887Z"
   },
   {
    "duration": 4,
    "start_time": "2022-07-26T12:35:00.681Z"
   },
   {
    "duration": 4,
    "start_time": "2022-07-26T12:37:04.250Z"
   },
   {
    "duration": 7700,
    "start_time": "2022-07-26T12:37:05.950Z"
   },
   {
    "duration": 3,
    "start_time": "2022-07-26T12:37:28.952Z"
   },
   {
    "duration": 4,
    "start_time": "2022-07-26T12:37:30.813Z"
   },
   {
    "duration": 28401,
    "start_time": "2022-07-26T12:37:31.717Z"
   },
   {
    "duration": 3,
    "start_time": "2022-07-26T12:38:07.542Z"
   },
   {
    "duration": 4867,
    "start_time": "2022-07-26T12:38:09.421Z"
   },
   {
    "duration": 2,
    "start_time": "2022-07-26T12:38:17.477Z"
   },
   {
    "duration": 29068,
    "start_time": "2022-07-26T12:38:18.727Z"
   },
   {
    "duration": 4,
    "start_time": "2022-07-26T12:38:47.797Z"
   },
   {
    "duration": 3,
    "start_time": "2022-07-26T12:39:31.924Z"
   },
   {
    "duration": 14114,
    "start_time": "2022-07-26T12:39:33.027Z"
   },
   {
    "duration": 3,
    "start_time": "2022-07-26T12:40:44.675Z"
   },
   {
    "duration": 19865,
    "start_time": "2022-07-26T12:40:45.700Z"
   },
   {
    "duration": 4,
    "start_time": "2022-07-26T12:41:05.567Z"
   },
   {
    "duration": 3,
    "start_time": "2022-07-26T12:41:39.867Z"
   },
   {
    "duration": 3065,
    "start_time": "2022-07-26T12:41:41.070Z"
   },
   {
    "duration": 3,
    "start_time": "2022-07-26T12:41:44.137Z"
   },
   {
    "duration": 2,
    "start_time": "2022-07-26T12:42:12.028Z"
   },
   {
    "duration": 2619,
    "start_time": "2022-07-26T12:42:13.147Z"
   },
   {
    "duration": 4,
    "start_time": "2022-07-26T12:42:15.768Z"
   },
   {
    "duration": 3,
    "start_time": "2022-07-26T12:42:35.707Z"
   },
   {
    "duration": 6368,
    "start_time": "2022-07-26T12:42:36.845Z"
   },
   {
    "duration": 3,
    "start_time": "2022-07-26T12:42:43.215Z"
   },
   {
    "duration": 3,
    "start_time": "2022-07-26T12:43:20.015Z"
   },
   {
    "duration": 47243,
    "start_time": "2022-07-26T12:43:21.090Z"
   },
   {
    "duration": 3,
    "start_time": "2022-07-26T12:44:08.335Z"
   },
   {
    "duration": 3,
    "start_time": "2022-07-26T12:44:50.300Z"
   },
   {
    "duration": 24504,
    "start_time": "2022-07-26T12:44:51.777Z"
   },
   {
    "duration": 4,
    "start_time": "2022-07-26T12:45:16.284Z"
   },
   {
    "duration": 3,
    "start_time": "2022-07-26T12:46:15.018Z"
   },
   {
    "duration": 40494,
    "start_time": "2022-07-26T12:46:16.330Z"
   },
   {
    "duration": 3,
    "start_time": "2022-07-26T12:46:56.826Z"
   },
   {
    "duration": 3,
    "start_time": "2022-07-26T12:47:19.967Z"
   },
   {
    "duration": 40027,
    "start_time": "2022-07-26T12:47:21.564Z"
   },
   {
    "duration": 4,
    "start_time": "2022-07-26T12:48:01.593Z"
   },
   {
    "duration": 3,
    "start_time": "2022-07-26T12:48:23.837Z"
   },
   {
    "duration": 18517,
    "start_time": "2022-07-26T12:48:25.126Z"
   },
   {
    "duration": 8,
    "start_time": "2022-07-26T12:48:43.645Z"
   },
   {
    "duration": 2,
    "start_time": "2022-07-26T12:49:32.942Z"
   },
   {
    "duration": 11,
    "start_time": "2022-07-26T12:49:34.097Z"
   },
   {
    "duration": 9,
    "start_time": "2022-07-26T12:51:53.977Z"
   },
   {
    "duration": 99,
    "start_time": "2022-07-26T12:52:27.327Z"
   },
   {
    "duration": 14,
    "start_time": "2022-07-26T12:52:28.862Z"
   },
   {
    "duration": 3,
    "start_time": "2022-07-26T12:52:34.707Z"
   },
   {
    "duration": 34828,
    "start_time": "2022-07-26T12:52:35.938Z"
   },
   {
    "duration": 0,
    "start_time": "2022-07-26T12:54:34.178Z"
   },
   {
    "duration": 3,
    "start_time": "2022-07-26T12:54:43.157Z"
   },
   {
    "duration": 30296,
    "start_time": "2022-07-26T12:54:44.357Z"
   },
   {
    "duration": 3,
    "start_time": "2022-07-26T12:55:14.655Z"
   },
   {
    "duration": 3,
    "start_time": "2022-07-26T12:55:57.222Z"
   },
   {
    "duration": 75,
    "start_time": "2022-07-26T12:56:51.987Z"
   },
   {
    "duration": 3,
    "start_time": "2022-07-26T12:57:03.545Z"
   },
   {
    "duration": 80443,
    "start_time": "2022-07-26T12:57:04.630Z"
   },
   {
    "duration": 3,
    "start_time": "2022-07-26T12:58:27.477Z"
   },
   {
    "duration": 385393,
    "start_time": "2022-07-26T12:58:28.677Z"
   },
   {
    "duration": 5,
    "start_time": "2022-07-26T13:04:54.071Z"
   },
   {
    "duration": 2,
    "start_time": "2022-07-26T13:08:08.448Z"
   },
   {
    "duration": 176319,
    "start_time": "2022-07-26T13:08:09.377Z"
   },
   {
    "duration": 3,
    "start_time": "2022-07-26T13:11:05.698Z"
   },
   {
    "duration": 48,
    "start_time": "2022-07-26T13:15:03.538Z"
   },
   {
    "duration": 3,
    "start_time": "2022-07-26T13:15:33.397Z"
   },
   {
    "duration": 3,
    "start_time": "2022-07-26T13:15:44.722Z"
   },
   {
    "duration": 588787,
    "start_time": "2022-07-26T13:15:45.717Z"
   },
   {
    "duration": 0,
    "start_time": "2022-07-26T13:25:34.505Z"
   },
   {
    "duration": 3,
    "start_time": "2022-07-26T13:25:39.816Z"
   },
   {
    "duration": 257019,
    "start_time": "2022-07-26T13:25:40.976Z"
   },
   {
    "duration": 56,
    "start_time": "2022-07-26T13:29:57.996Z"
   },
   {
    "duration": 3,
    "start_time": "2022-07-26T13:33:09.766Z"
   },
   {
    "duration": 22940,
    "start_time": "2022-07-26T13:33:10.966Z"
   },
   {
    "duration": 44,
    "start_time": "2022-07-26T13:33:33.908Z"
   },
   {
    "duration": 3,
    "start_time": "2022-07-26T13:35:38.992Z"
   },
   {
    "duration": 167414,
    "start_time": "2022-07-26T13:35:40.057Z"
   },
   {
    "duration": 4,
    "start_time": "2022-07-26T13:38:27.473Z"
   },
   {
    "duration": 3,
    "start_time": "2022-07-26T13:40:01.658Z"
   },
   {
    "duration": 17443,
    "start_time": "2022-07-26T13:40:02.836Z"
   },
   {
    "duration": 3,
    "start_time": "2022-07-26T13:40:20.281Z"
   },
   {
    "duration": 3,
    "start_time": "2022-07-26T13:41:04.956Z"
   },
   {
    "duration": 109761,
    "start_time": "2022-07-26T13:41:07.304Z"
   },
   {
    "duration": 3,
    "start_time": "2022-07-26T13:42:57.067Z"
   },
   {
    "duration": 1327,
    "start_time": "2022-07-26T13:44:04.816Z"
   },
   {
    "duration": 3,
    "start_time": "2022-07-26T13:44:06.145Z"
   },
   {
    "duration": 736,
    "start_time": "2022-07-26T13:44:06.150Z"
   },
   {
    "duration": 12,
    "start_time": "2022-07-26T13:44:06.887Z"
   },
   {
    "duration": 28,
    "start_time": "2022-07-26T13:44:06.901Z"
   },
   {
    "duration": 3,
    "start_time": "2022-07-26T13:44:06.930Z"
   },
   {
    "duration": 18,
    "start_time": "2022-07-26T13:44:06.934Z"
   },
   {
    "duration": 114569,
    "start_time": "2022-07-26T13:44:06.953Z"
   },
   {
    "duration": 3793,
    "start_time": "2022-07-26T13:46:01.524Z"
   },
   {
    "duration": 7,
    "start_time": "2022-07-26T13:46:05.318Z"
   },
   {
    "duration": 55,
    "start_time": "2022-07-26T13:46:05.327Z"
   },
   {
    "duration": 3,
    "start_time": "2022-07-26T13:46:05.383Z"
   },
   {
    "duration": 9,
    "start_time": "2022-07-26T13:46:05.388Z"
   },
   {
    "duration": 245,
    "start_time": "2022-07-26T13:46:05.399Z"
   },
   {
    "duration": 6167,
    "start_time": "2022-07-26T13:46:05.646Z"
   },
   {
    "duration": 3,
    "start_time": "2022-07-26T13:46:11.814Z"
   },
   {
    "duration": 5,
    "start_time": "2022-07-26T13:46:11.818Z"
   },
   {
    "duration": 7,
    "start_time": "2022-07-26T13:46:11.824Z"
   },
   {
    "duration": 35374,
    "start_time": "2022-07-26T13:46:11.833Z"
   },
   {
    "duration": 3,
    "start_time": "2022-07-26T13:46:47.209Z"
   },
   {
    "duration": 14,
    "start_time": "2022-07-26T13:46:47.213Z"
   },
   {
    "duration": 596763,
    "start_time": "2022-07-26T13:46:47.228Z"
   },
   {
    "duration": 3,
    "start_time": "2022-07-26T13:56:43.993Z"
   },
   {
    "duration": 8,
    "start_time": "2022-07-26T13:56:43.998Z"
   },
   {
    "duration": 39,
    "start_time": "2022-07-26T13:58:04.454Z"
   },
   {
    "duration": 50421,
    "start_time": "2022-07-26T13:58:32.386Z"
   },
   {
    "duration": 344,
    "start_time": "2022-07-26T13:59:22.809Z"
   },
   {
    "duration": 0,
    "start_time": "2022-07-26T13:59:23.154Z"
   },
   {
    "duration": 0,
    "start_time": "2022-07-26T13:59:23.155Z"
   },
   {
    "duration": 0,
    "start_time": "2022-07-26T13:59:23.156Z"
   },
   {
    "duration": 0,
    "start_time": "2022-07-26T13:59:23.157Z"
   },
   {
    "duration": 128,
    "start_time": "2022-07-26T13:59:51.929Z"
   },
   {
    "duration": 8,
    "start_time": "2022-07-26T13:59:57.516Z"
   },
   {
    "duration": 145,
    "start_time": "2022-07-26T14:00:24.005Z"
   },
   {
    "duration": 30,
    "start_time": "2022-07-26T14:00:26.485Z"
   },
   {
    "duration": 11,
    "start_time": "2022-07-26T14:00:27.846Z"
   },
   {
    "duration": 1479,
    "start_time": "2022-07-26T14:00:29.076Z"
   },
   {
    "duration": 5,
    "start_time": "2022-07-26T14:01:28.443Z"
   },
   {
    "duration": 5,
    "start_time": "2022-07-26T14:01:38.596Z"
   },
   {
    "duration": 148,
    "start_time": "2022-07-26T14:02:10.893Z"
   },
   {
    "duration": 151,
    "start_time": "2022-07-26T14:02:13.315Z"
   },
   {
    "duration": 27,
    "start_time": "2022-07-26T14:02:14.936Z"
   },
   {
    "duration": 23,
    "start_time": "2022-07-26T14:02:23.956Z"
   },
   {
    "duration": 13,
    "start_time": "2022-07-26T14:02:24.986Z"
   },
   {
    "duration": 10,
    "start_time": "2022-07-26T14:02:56.242Z"
   },
   {
    "duration": 9,
    "start_time": "2022-07-26T14:03:01.803Z"
   },
   {
    "duration": 4,
    "start_time": "2022-07-26T14:03:12.564Z"
   },
   {
    "duration": 56967,
    "start_time": "2022-07-26T14:03:47.817Z"
   },
   {
    "duration": 0,
    "start_time": "2022-07-26T14:04:44.789Z"
   },
   {
    "duration": 257,
    "start_time": "2022-07-26T14:04:46.769Z"
   },
   {
    "duration": 42,
    "start_time": "2022-07-26T14:04:48.226Z"
   },
   {
    "duration": 13,
    "start_time": "2022-07-26T14:04:49.339Z"
   },
   {
    "duration": 4,
    "start_time": "2022-07-26T14:04:52.455Z"
   },
   {
    "duration": 44050,
    "start_time": "2022-07-26T14:05:13.766Z"
   },
   {
    "duration": 798,
    "start_time": "2022-07-26T14:05:57.818Z"
   },
   {
    "duration": 13,
    "start_time": "2022-07-26T14:05:58.619Z"
   },
   {
    "duration": 4,
    "start_time": "2022-07-26T14:05:58.635Z"
   },
   {
    "duration": 4,
    "start_time": "2022-07-26T14:05:58.651Z"
   },
   {
    "duration": 82534,
    "start_time": "2022-07-26T14:06:24.676Z"
   },
   {
    "duration": 1589,
    "start_time": "2022-07-26T14:07:47.212Z"
   },
   {
    "duration": 12,
    "start_time": "2022-07-26T14:07:48.803Z"
   },
   {
    "duration": 123,
    "start_time": "2022-07-26T14:07:48.817Z"
   },
   {
    "duration": 3,
    "start_time": "2022-07-26T14:12:21.876Z"
   },
   {
    "duration": 773475,
    "start_time": "2022-07-26T14:12:23.129Z"
   },
   {
    "duration": 0,
    "start_time": "2022-07-26T14:25:16.606Z"
   },
   {
    "duration": 3,
    "start_time": "2022-07-26T14:25:24.617Z"
   },
   {
    "duration": 488678,
    "start_time": "2022-07-26T14:25:25.825Z"
   },
   {
    "duration": 4,
    "start_time": "2022-07-26T14:33:34.504Z"
   },
   {
    "duration": 3,
    "start_time": "2022-07-26T14:36:36.927Z"
   },
   {
    "duration": 126335,
    "start_time": "2022-07-26T14:36:38.018Z"
   },
   {
    "duration": 3,
    "start_time": "2022-07-26T14:38:44.355Z"
   },
   {
    "duration": 3,
    "start_time": "2022-07-26T14:42:10.965Z"
   },
   {
    "duration": 1616,
    "start_time": "2022-07-26T14:42:11.994Z"
   },
   {
    "duration": 3,
    "start_time": "2022-07-26T14:42:13.612Z"
   },
   {
    "duration": 2,
    "start_time": "2022-07-26T14:42:33.430Z"
   },
   {
    "duration": 78328,
    "start_time": "2022-07-26T14:42:34.487Z"
   },
   {
    "duration": 4,
    "start_time": "2022-07-26T14:43:52.816Z"
   },
   {
    "duration": 3,
    "start_time": "2022-07-26T14:46:37.547Z"
   },
   {
    "duration": 70765,
    "start_time": "2022-07-26T14:46:38.527Z"
   },
   {
    "duration": 3,
    "start_time": "2022-07-26T14:47:49.294Z"
   },
   {
    "duration": 260,
    "start_time": "2022-07-26T14:47:49.299Z"
   },
   {
    "duration": 32,
    "start_time": "2022-07-26T14:47:49.561Z"
   },
   {
    "duration": 11,
    "start_time": "2022-07-26T14:47:49.595Z"
   },
   {
    "duration": 1302,
    "start_time": "2022-07-26T14:49:50.308Z"
   },
   {
    "duration": 3,
    "start_time": "2022-07-26T14:49:51.612Z"
   },
   {
    "duration": 814,
    "start_time": "2022-07-26T14:49:51.616Z"
   },
   {
    "duration": 13,
    "start_time": "2022-07-26T14:49:52.432Z"
   },
   {
    "duration": 30,
    "start_time": "2022-07-26T14:49:52.452Z"
   },
   {
    "duration": 3,
    "start_time": "2022-07-26T14:49:52.484Z"
   },
   {
    "duration": 6,
    "start_time": "2022-07-26T14:49:52.488Z"
   },
   {
    "duration": 113897,
    "start_time": "2022-07-26T14:49:52.496Z"
   },
   {
    "duration": 3800,
    "start_time": "2022-07-26T14:51:46.394Z"
   },
   {
    "duration": 7,
    "start_time": "2022-07-26T14:51:50.196Z"
   },
   {
    "duration": 62,
    "start_time": "2022-07-26T14:51:50.205Z"
   },
   {
    "duration": 4,
    "start_time": "2022-07-26T14:51:50.269Z"
   },
   {
    "duration": 4,
    "start_time": "2022-07-26T14:51:50.275Z"
   },
   {
    "duration": 235,
    "start_time": "2022-07-26T14:51:50.281Z"
   },
   {
    "duration": 6149,
    "start_time": "2022-07-26T14:51:50.518Z"
   },
   {
    "duration": 3,
    "start_time": "2022-07-26T14:51:56.668Z"
   },
   {
    "duration": 5,
    "start_time": "2022-07-26T14:51:56.672Z"
   },
   {
    "duration": 1704,
    "start_time": "2022-07-26T14:51:56.679Z"
   },
   {
    "duration": 3,
    "start_time": "2022-07-26T14:51:58.385Z"
   },
   {
    "duration": 5,
    "start_time": "2022-07-26T14:51:58.389Z"
   },
   {
    "duration": 7970,
    "start_time": "2022-07-26T14:51:58.395Z"
   },
   {
    "duration": 4,
    "start_time": "2022-07-26T14:52:06.366Z"
   },
   {
    "duration": 270,
    "start_time": "2022-07-26T14:52:06.371Z"
   },
   {
    "duration": 43,
    "start_time": "2022-07-26T14:52:06.642Z"
   },
   {
    "duration": 11,
    "start_time": "2022-07-26T14:52:06.687Z"
   },
   {
    "duration": 107,
    "start_time": "2022-07-26T14:58:17.670Z"
   },
   {
    "duration": 5,
    "start_time": "2022-07-26T14:58:57.081Z"
   },
   {
    "duration": 14,
    "start_time": "2022-07-26T14:59:28.367Z"
   },
   {
    "duration": 12,
    "start_time": "2022-07-26T14:59:33.427Z"
   },
   {
    "duration": 2,
    "start_time": "2022-07-26T15:01:28.807Z"
   },
   {
    "duration": 4,
    "start_time": "2022-07-26T15:22:29.020Z"
   },
   {
    "duration": 29,
    "start_time": "2022-07-26T15:22:32.214Z"
   },
   {
    "duration": 872,
    "start_time": "2022-07-26T15:22:40.679Z"
   },
   {
    "duration": 3,
    "start_time": "2022-07-26T15:23:02.958Z"
   },
   {
    "duration": 3,
    "start_time": "2022-07-26T15:23:08.474Z"
   },
   {
    "duration": 6073,
    "start_time": "2022-07-26T15:23:10.802Z"
   },
   {
    "duration": 256,
    "start_time": "2022-07-26T15:23:32.433Z"
   },
   {
    "duration": 44,
    "start_time": "2022-07-26T15:23:34.160Z"
   },
   {
    "duration": 12,
    "start_time": "2022-07-26T15:23:35.163Z"
   },
   {
    "duration": 3,
    "start_time": "2022-07-26T15:26:11.648Z"
   },
   {
    "duration": 33136,
    "start_time": "2022-07-26T15:26:37.623Z"
   },
   {
    "duration": 91,
    "start_time": "2022-07-26T15:27:10.761Z"
   },
   {
    "duration": 12,
    "start_time": "2022-07-26T15:27:10.854Z"
   },
   {
    "duration": 222,
    "start_time": "2022-07-26T15:28:59.902Z"
   },
   {
    "duration": 32,
    "start_time": "2022-07-26T15:29:01.335Z"
   },
   {
    "duration": 12,
    "start_time": "2022-07-26T15:29:02.408Z"
   },
   {
    "duration": 2299,
    "start_time": "2022-07-26T15:30:47.731Z"
   },
   {
    "duration": 627,
    "start_time": "2022-07-26T15:30:50.032Z"
   },
   {
    "duration": 12,
    "start_time": "2022-07-26T15:30:50.661Z"
   },
   {
    "duration": 48104,
    "start_time": "2022-07-26T15:30:55.270Z"
   },
   {
    "duration": 1236,
    "start_time": "2022-07-26T15:31:43.375Z"
   },
   {
    "duration": 12,
    "start_time": "2022-07-26T15:31:44.613Z"
   },
   {
    "duration": 70658,
    "start_time": "2022-07-26T15:32:54.274Z"
   },
   {
    "duration": 1267,
    "start_time": "2022-07-26T15:34:04.934Z"
   },
   {
    "duration": 14,
    "start_time": "2022-07-26T15:34:06.203Z"
   },
   {
    "duration": 150,
    "start_time": "2022-07-26T15:34:23.597Z"
   },
   {
    "duration": 13,
    "start_time": "2022-07-26T15:34:25.069Z"
   },
   {
    "duration": 15,
    "start_time": "2022-07-26T15:34:26.143Z"
   },
   {
    "duration": 3,
    "start_time": "2022-07-26T15:35:41.700Z"
   },
   {
    "duration": 1853,
    "start_time": "2022-07-26T15:35:43.030Z"
   },
   {
    "duration": 3,
    "start_time": "2022-07-26T15:35:44.884Z"
   },
   {
    "duration": 3,
    "start_time": "2022-07-26T15:35:59.580Z"
   },
   {
    "duration": 1747,
    "start_time": "2022-07-26T15:36:01.257Z"
   },
   {
    "duration": 4,
    "start_time": "2022-07-26T15:36:04.743Z"
   },
   {
    "duration": 4,
    "start_time": "2022-07-26T15:36:24.458Z"
   },
   {
    "duration": 264370,
    "start_time": "2022-07-26T15:36:25.428Z"
   },
   {
    "duration": 5,
    "start_time": "2022-07-26T15:40:49.800Z"
   },
   {
    "duration": 64,
    "start_time": "2022-07-26T15:40:49.807Z"
   },
   {
    "duration": 6,
    "start_time": "2022-07-26T15:40:49.873Z"
   },
   {
    "duration": 9,
    "start_time": "2022-07-26T15:40:49.881Z"
   },
   {
    "duration": 6854,
    "start_time": "2022-07-26T15:40:49.892Z"
   },
   {
    "duration": 3,
    "start_time": "2022-07-26T15:42:47.453Z"
   },
   {
    "duration": 1909,
    "start_time": "2022-07-26T15:42:48.469Z"
   },
   {
    "duration": 3,
    "start_time": "2022-07-26T15:42:50.380Z"
   },
   {
    "duration": 71,
    "start_time": "2022-07-26T15:42:58.327Z"
   },
   {
    "duration": 4,
    "start_time": "2022-07-26T15:43:29.573Z"
   },
   {
    "duration": 187460,
    "start_time": "2022-07-26T15:43:37.920Z"
   },
   {
    "duration": 0,
    "start_time": "2022-07-26T15:46:45.382Z"
   },
   {
    "duration": 4,
    "start_time": "2022-07-26T15:46:53.137Z"
   },
   {
    "duration": 63010,
    "start_time": "2022-07-26T15:46:54.481Z"
   },
   {
    "duration": 3,
    "start_time": "2022-07-26T15:47:57.494Z"
   },
   {
    "duration": 43863,
    "start_time": "2022-07-26T15:47:57.499Z"
   },
   {
    "duration": 9,
    "start_time": "2022-07-26T15:48:41.451Z"
   },
   {
    "duration": 18,
    "start_time": "2022-07-26T15:48:41.462Z"
   },
   {
    "duration": 35993,
    "start_time": "2022-07-26T15:49:39.269Z"
   },
   {
    "duration": 7,
    "start_time": "2022-07-26T15:50:15.264Z"
   },
   {
    "duration": 81,
    "start_time": "2022-07-26T15:50:15.273Z"
   },
   {
    "duration": 3,
    "start_time": "2022-07-26T15:52:18.342Z"
   },
   {
    "duration": 330868,
    "start_time": "2022-07-26T15:52:19.819Z"
   },
   {
    "duration": 0,
    "start_time": "2022-07-26T15:57:50.689Z"
   },
   {
    "duration": 4,
    "start_time": "2022-07-26T15:58:01.819Z"
   },
   {
    "duration": 59604,
    "start_time": "2022-07-26T15:58:03.173Z"
   },
   {
    "duration": 0,
    "start_time": "2022-07-26T15:59:02.779Z"
   },
   {
    "duration": 1430,
    "start_time": "2022-07-26T15:59:24.260Z"
   },
   {
    "duration": 2,
    "start_time": "2022-07-26T15:59:25.692Z"
   },
   {
    "duration": 781,
    "start_time": "2022-07-26T15:59:25.696Z"
   },
   {
    "duration": 14,
    "start_time": "2022-07-26T15:59:26.479Z"
   },
   {
    "duration": 44,
    "start_time": "2022-07-26T15:59:26.495Z"
   },
   {
    "duration": 3,
    "start_time": "2022-07-26T15:59:26.541Z"
   },
   {
    "duration": 7,
    "start_time": "2022-07-26T15:59:26.551Z"
   },
   {
    "duration": 115119,
    "start_time": "2022-07-26T15:59:26.560Z"
   },
   {
    "duration": 3965,
    "start_time": "2022-07-26T16:01:21.681Z"
   },
   {
    "duration": 10,
    "start_time": "2022-07-26T16:01:25.648Z"
   },
   {
    "duration": 54,
    "start_time": "2022-07-26T16:01:25.660Z"
   },
   {
    "duration": 3,
    "start_time": "2022-07-26T16:01:25.716Z"
   },
   {
    "duration": 4,
    "start_time": "2022-07-26T16:01:25.722Z"
   },
   {
    "duration": 257,
    "start_time": "2022-07-26T16:01:25.752Z"
   },
   {
    "duration": 6696,
    "start_time": "2022-07-26T16:01:26.012Z"
   },
   {
    "duration": 2,
    "start_time": "2022-07-26T16:01:32.710Z"
   },
   {
    "duration": 5,
    "start_time": "2022-07-26T16:01:32.714Z"
   },
   {
    "duration": 1804,
    "start_time": "2022-07-26T16:01:32.721Z"
   },
   {
    "duration": 3,
    "start_time": "2022-07-26T16:01:34.527Z"
   },
   {
    "duration": 5,
    "start_time": "2022-07-26T16:01:34.531Z"
   },
   {
    "duration": 92437,
    "start_time": "2022-07-26T16:01:34.537Z"
   },
   {
    "duration": 4,
    "start_time": "2022-07-26T16:03:06.976Z"
   },
   {
    "duration": 6,
    "start_time": "2022-07-26T16:03:06.982Z"
   },
   {
    "duration": 155,
    "start_time": "2022-07-26T16:03:06.990Z"
   },
   {
    "duration": 0,
    "start_time": "2022-07-26T16:03:07.151Z"
   },
   {
    "duration": 0,
    "start_time": "2022-07-26T16:03:07.152Z"
   },
   {
    "duration": 0,
    "start_time": "2022-07-26T16:03:07.153Z"
   },
   {
    "duration": 0,
    "start_time": "2022-07-26T16:03:07.154Z"
   },
   {
    "duration": 11,
    "start_time": "2022-07-26T16:03:42.673Z"
   },
   {
    "duration": 1807,
    "start_time": "2022-07-26T16:04:34.560Z"
   },
   {
    "duration": 3,
    "start_time": "2022-07-26T16:04:55.560Z"
   },
   {
    "duration": 21,
    "start_time": "2022-07-26T16:04:56.719Z"
   },
   {
    "duration": 4,
    "start_time": "2022-07-26T16:05:09.369Z"
   },
   {
    "duration": 5312,
    "start_time": "2022-07-26T16:05:12.750Z"
   },
   {
    "duration": 90,
    "start_time": "2022-07-26T16:05:18.065Z"
   },
   {
    "duration": 14137,
    "start_time": "2022-07-26T16:07:27.741Z"
   },
   {
    "duration": 6,
    "start_time": "2022-07-26T16:07:41.881Z"
   },
   {
    "duration": 15,
    "start_time": "2022-07-26T16:07:41.889Z"
   },
   {
    "duration": 1366,
    "start_time": "2022-07-26T16:09:53.213Z"
   },
   {
    "duration": 3,
    "start_time": "2022-07-26T16:09:54.581Z"
   },
   {
    "duration": 773,
    "start_time": "2022-07-26T16:09:54.585Z"
   },
   {
    "duration": 15,
    "start_time": "2022-07-26T16:09:55.360Z"
   },
   {
    "duration": 34,
    "start_time": "2022-07-26T16:09:55.378Z"
   },
   {
    "duration": 5,
    "start_time": "2022-07-26T16:09:55.414Z"
   },
   {
    "duration": 9,
    "start_time": "2022-07-26T16:09:55.421Z"
   },
   {
    "duration": 118248,
    "start_time": "2022-07-26T16:09:55.432Z"
   },
   {
    "duration": 4022,
    "start_time": "2022-07-26T16:11:53.682Z"
   },
   {
    "duration": 7,
    "start_time": "2022-07-26T16:11:57.706Z"
   },
   {
    "duration": 61,
    "start_time": "2022-07-26T16:11:57.714Z"
   },
   {
    "duration": 4,
    "start_time": "2022-07-26T16:11:57.777Z"
   },
   {
    "duration": 6,
    "start_time": "2022-07-26T16:11:57.783Z"
   },
   {
    "duration": 167,
    "start_time": "2022-07-26T16:11:57.792Z"
   },
   {
    "duration": 6218,
    "start_time": "2022-07-26T16:11:57.961Z"
   },
   {
    "duration": 3,
    "start_time": "2022-07-26T16:12:04.181Z"
   },
   {
    "duration": 9,
    "start_time": "2022-07-26T16:12:04.185Z"
   },
   {
    "duration": 1831,
    "start_time": "2022-07-26T16:12:04.196Z"
   },
   {
    "duration": 6,
    "start_time": "2022-07-26T16:12:06.029Z"
   },
   {
    "duration": 15,
    "start_time": "2022-07-26T16:12:06.037Z"
   },
   {
    "duration": 158451,
    "start_time": "2022-07-26T16:12:06.054Z"
   },
   {
    "duration": 47,
    "start_time": "2022-07-26T16:14:44.507Z"
   },
   {
    "duration": 6,
    "start_time": "2022-07-26T16:14:44.555Z"
   },
   {
    "duration": 3601,
    "start_time": "2022-07-26T16:14:44.564Z"
   },
   {
    "duration": 87,
    "start_time": "2022-07-26T16:14:48.167Z"
   },
   {
    "duration": 12921,
    "start_time": "2022-07-26T16:14:48.256Z"
   },
   {
    "duration": 7,
    "start_time": "2022-07-26T16:15:01.179Z"
   },
   {
    "duration": 54,
    "start_time": "2022-07-26T16:15:01.188Z"
   },
   {
    "duration": 1347,
    "start_time": "2022-07-27T14:11:02.003Z"
   },
   {
    "duration": 3,
    "start_time": "2022-07-27T14:11:03.352Z"
   },
   {
    "duration": 3310,
    "start_time": "2022-07-27T14:11:03.357Z"
   },
   {
    "duration": 12,
    "start_time": "2022-07-27T14:11:06.669Z"
   },
   {
    "duration": 28,
    "start_time": "2022-07-27T14:11:06.683Z"
   },
   {
    "duration": 3,
    "start_time": "2022-07-27T14:11:06.712Z"
   },
   {
    "duration": 19,
    "start_time": "2022-07-27T14:11:06.717Z"
   },
   {
    "duration": 1706,
    "start_time": "2022-07-27T14:11:06.739Z"
   },
   {
    "duration": 0,
    "start_time": "2022-07-27T14:11:08.447Z"
   },
   {
    "duration": 0,
    "start_time": "2022-07-27T14:11:08.449Z"
   },
   {
    "duration": 0,
    "start_time": "2022-07-27T14:11:08.450Z"
   },
   {
    "duration": 0,
    "start_time": "2022-07-27T14:11:08.451Z"
   },
   {
    "duration": 0,
    "start_time": "2022-07-27T14:11:08.452Z"
   },
   {
    "duration": 0,
    "start_time": "2022-07-27T14:11:08.453Z"
   },
   {
    "duration": 0,
    "start_time": "2022-07-27T14:11:08.455Z"
   },
   {
    "duration": 3717,
    "start_time": "2022-07-27T14:11:35.669Z"
   },
   {
    "duration": 71003,
    "start_time": "2022-07-27T14:11:45.050Z"
   },
   {
    "duration": 7,
    "start_time": "2022-07-27T14:12:56.055Z"
   },
   {
    "duration": 55,
    "start_time": "2022-07-27T14:13:22.479Z"
   },
   {
    "duration": 3,
    "start_time": "2022-07-27T14:13:25.925Z"
   },
   {
    "duration": 3,
    "start_time": "2022-07-27T14:13:27.540Z"
   },
   {
    "duration": 395,
    "start_time": "2022-07-27T14:13:29.104Z"
   },
   {
    "duration": 6295,
    "start_time": "2022-07-27T14:13:30.200Z"
   },
   {
    "duration": 2,
    "start_time": "2022-07-27T14:13:36.497Z"
   },
   {
    "duration": 3,
    "start_time": "2022-07-27T14:13:40.869Z"
   },
   {
    "duration": 1743,
    "start_time": "2022-07-27T14:13:42.149Z"
   },
   {
    "duration": 4,
    "start_time": "2022-07-27T14:13:43.895Z"
   },
   {
    "duration": 1838,
    "start_time": "2022-07-27T14:13:52.970Z"
   },
   {
    "duration": 3,
    "start_time": "2022-07-27T14:14:40.957Z"
   },
   {
    "duration": 18066,
    "start_time": "2022-07-27T14:14:55.282Z"
   },
   {
    "duration": 3,
    "start_time": "2022-07-27T14:15:13.350Z"
   },
   {
    "duration": 6,
    "start_time": "2022-07-27T14:15:13.355Z"
   },
   {
    "duration": 5440,
    "start_time": "2022-07-27T14:15:13.363Z"
   },
   {
    "duration": 3,
    "start_time": "2022-07-27T14:15:18.806Z"
   },
   {
    "duration": 11048,
    "start_time": "2022-07-27T14:16:01.834Z"
   },
   {
    "duration": 6,
    "start_time": "2022-07-27T14:16:12.884Z"
   },
   {
    "duration": 14,
    "start_time": "2022-07-27T14:16:12.892Z"
   },
   {
    "duration": 305,
    "start_time": "2022-07-27T14:22:35.800Z"
   },
   {
    "duration": 106,
    "start_time": "2022-07-27T14:22:52.660Z"
   },
   {
    "duration": 9,
    "start_time": "2022-07-27T14:23:07.985Z"
   },
   {
    "duration": 8,
    "start_time": "2022-07-27T14:23:12.100Z"
   },
   {
    "duration": 148,
    "start_time": "2022-07-27T14:23:21.679Z"
   },
   {
    "duration": 7,
    "start_time": "2022-07-27T14:23:24.561Z"
   },
   {
    "duration": 703,
    "start_time": "2022-07-27T14:25:14.850Z"
   },
   {
    "duration": 3472,
    "start_time": "2022-07-27T14:25:20.200Z"
   },
   {
    "duration": 7,
    "start_time": "2022-07-27T14:25:23.673Z"
   },
   {
    "duration": 9,
    "start_time": "2022-07-27T14:25:33.451Z"
   },
   {
    "duration": 7,
    "start_time": "2022-07-27T14:25:41.210Z"
   },
   {
    "duration": 8,
    "start_time": "2022-07-27T14:25:50.789Z"
   },
   {
    "duration": 67575,
    "start_time": "2022-07-27T14:25:55.020Z"
   },
   {
    "duration": 7,
    "start_time": "2022-07-27T14:27:02.597Z"
   },
   {
    "duration": 137,
    "start_time": "2022-07-27T14:27:14.571Z"
   },
   {
    "duration": 8,
    "start_time": "2022-07-27T14:27:15.589Z"
   },
   {
    "duration": 644,
    "start_time": "2022-07-27T14:27:41.982Z"
   },
   {
    "duration": 3507,
    "start_time": "2022-07-27T14:27:47.935Z"
   },
   {
    "duration": 140,
    "start_time": "2022-07-27T14:27:54.533Z"
   },
   {
    "duration": 7,
    "start_time": "2022-07-27T14:27:55.851Z"
   },
   {
    "duration": 67978,
    "start_time": "2022-07-27T14:28:00.880Z"
   },
   {
    "duration": 7,
    "start_time": "2022-07-27T14:29:08.860Z"
   },
   {
    "duration": 1356,
    "start_time": "2022-07-27T14:29:48.994Z"
   },
   {
    "duration": 3,
    "start_time": "2022-07-27T14:29:50.352Z"
   },
   {
    "duration": 744,
    "start_time": "2022-07-27T14:29:50.356Z"
   },
   {
    "duration": 12,
    "start_time": "2022-07-27T14:29:51.102Z"
   },
   {
    "duration": 38,
    "start_time": "2022-07-27T14:29:51.115Z"
   },
   {
    "duration": 4,
    "start_time": "2022-07-27T14:29:51.155Z"
   },
   {
    "duration": 9,
    "start_time": "2022-07-27T14:29:51.160Z"
   },
   {
    "duration": 3542,
    "start_time": "2022-07-27T14:29:51.171Z"
   },
   {
    "duration": 68510,
    "start_time": "2022-07-27T14:29:54.715Z"
   },
   {
    "duration": 128,
    "start_time": "2022-07-27T14:31:03.227Z"
   },
   {
    "duration": 7,
    "start_time": "2022-07-27T14:31:03.356Z"
   },
   {
    "duration": 57,
    "start_time": "2022-07-27T14:31:03.365Z"
   },
   {
    "duration": 8,
    "start_time": "2022-07-27T14:31:03.424Z"
   },
   {
    "duration": 5,
    "start_time": "2022-07-27T14:31:03.434Z"
   },
   {
    "duration": 238,
    "start_time": "2022-07-27T14:31:03.441Z"
   },
   {
    "duration": 6168,
    "start_time": "2022-07-27T14:31:03.680Z"
   },
   {
    "duration": 3,
    "start_time": "2022-07-27T14:31:09.850Z"
   },
   {
    "duration": 7,
    "start_time": "2022-07-27T14:31:09.854Z"
   },
   {
    "duration": 1681,
    "start_time": "2022-07-27T14:31:09.862Z"
   },
   {
    "duration": 4,
    "start_time": "2022-07-27T14:31:11.544Z"
   },
   {
    "duration": 7,
    "start_time": "2022-07-27T14:31:11.550Z"
   },
   {
    "duration": 29618,
    "start_time": "2022-07-27T14:31:11.558Z"
   },
   {
    "duration": 3,
    "start_time": "2022-07-27T14:31:41.178Z"
   },
   {
    "duration": 6,
    "start_time": "2022-07-27T14:31:41.182Z"
   },
   {
    "duration": 4711,
    "start_time": "2022-07-27T14:31:41.189Z"
   },
   {
    "duration": 3,
    "start_time": "2022-07-27T14:31:45.902Z"
   },
   {
    "duration": 10344,
    "start_time": "2022-07-27T14:31:45.907Z"
   },
   {
    "duration": 6,
    "start_time": "2022-07-27T14:31:56.253Z"
   },
   {
    "duration": 23,
    "start_time": "2022-07-27T14:31:56.261Z"
   },
   {
    "duration": 1694,
    "start_time": "2022-07-29T12:36:58.361Z"
   },
   {
    "duration": 4,
    "start_time": "2022-07-29T12:37:00.057Z"
   },
   {
    "duration": 3412,
    "start_time": "2022-07-29T12:37:00.062Z"
   },
   {
    "duration": 16,
    "start_time": "2022-07-29T12:37:03.476Z"
   },
   {
    "duration": 66,
    "start_time": "2022-07-29T12:37:03.494Z"
   },
   {
    "duration": 4,
    "start_time": "2022-07-29T12:37:06.745Z"
   },
   {
    "duration": 4,
    "start_time": "2022-07-29T12:37:09.076Z"
   },
   {
    "duration": 4,
    "start_time": "2022-07-29T12:37:10.345Z"
   },
   {
    "duration": 4768,
    "start_time": "2022-07-29T12:37:13.448Z"
   },
   {
    "duration": 545,
    "start_time": "2022-07-29T12:37:18.218Z"
   },
   {
    "duration": 0,
    "start_time": "2022-07-29T12:37:18.765Z"
   },
   {
    "duration": 251,
    "start_time": "2022-07-29T12:38:42.187Z"
   },
   {
    "duration": 646,
    "start_time": "2022-07-29T12:40:27.486Z"
   },
   {
    "duration": 5,
    "start_time": "2022-07-29T12:40:36.345Z"
   },
   {
    "duration": 4,
    "start_time": "2022-07-29T12:40:37.387Z"
   },
   {
    "duration": 3,
    "start_time": "2022-07-29T12:40:38.418Z"
   },
   {
    "duration": 4230,
    "start_time": "2022-07-29T12:40:42.115Z"
   },
   {
    "duration": 413423,
    "start_time": "2022-07-29T12:40:46.347Z"
   },
   {
    "duration": 0,
    "start_time": "2022-07-29T12:47:39.772Z"
   },
   {
    "duration": 0,
    "start_time": "2022-07-29T12:47:39.774Z"
   },
   {
    "duration": 100,
    "start_time": "2022-07-29T12:47:57.066Z"
   },
   {
    "duration": 4,
    "start_time": "2022-07-29T12:48:31.332Z"
   },
   {
    "duration": 4,
    "start_time": "2022-07-29T12:48:59.943Z"
   },
   {
    "duration": 28,
    "start_time": "2022-07-29T12:49:01.296Z"
   },
   {
    "duration": 5,
    "start_time": "2022-07-29T12:49:43.330Z"
   },
   {
    "duration": 1521,
    "start_time": "2022-07-29T12:50:00.319Z"
   },
   {
    "duration": 3,
    "start_time": "2022-07-29T12:50:01.842Z"
   },
   {
    "duration": 307,
    "start_time": "2022-07-29T12:50:01.847Z"
   },
   {
    "duration": 869,
    "start_time": "2022-07-29T12:50:02.155Z"
   },
   {
    "duration": 9,
    "start_time": "2022-07-29T12:50:03.027Z"
   },
   {
    "duration": 32,
    "start_time": "2022-07-29T12:50:03.038Z"
   },
   {
    "duration": 3,
    "start_time": "2022-07-29T12:50:03.072Z"
   },
   {
    "duration": 34,
    "start_time": "2022-07-29T12:50:03.076Z"
   },
   {
    "duration": 5,
    "start_time": "2022-07-29T12:50:03.112Z"
   },
   {
    "duration": 4565,
    "start_time": "2022-07-29T12:50:03.120Z"
   },
   {
    "duration": 808951,
    "start_time": "2022-07-29T12:50:07.687Z"
   },
   {
    "duration": 0,
    "start_time": "2022-07-29T13:03:36.643Z"
   },
   {
    "duration": 0,
    "start_time": "2022-07-29T13:03:36.644Z"
   },
   {
    "duration": 0,
    "start_time": "2022-07-29T13:03:36.646Z"
   },
   {
    "duration": 0,
    "start_time": "2022-07-29T13:03:36.648Z"
   },
   {
    "duration": 0,
    "start_time": "2022-07-29T13:03:36.649Z"
   },
   {
    "duration": 0,
    "start_time": "2022-07-29T13:03:36.651Z"
   },
   {
    "duration": 0,
    "start_time": "2022-07-29T13:03:36.652Z"
   },
   {
    "duration": 0,
    "start_time": "2022-07-29T13:03:36.655Z"
   },
   {
    "duration": 0,
    "start_time": "2022-07-29T13:03:36.656Z"
   },
   {
    "duration": 0,
    "start_time": "2022-07-29T13:03:36.657Z"
   },
   {
    "duration": 0,
    "start_time": "2022-07-29T13:03:36.659Z"
   },
   {
    "duration": 0,
    "start_time": "2022-07-29T13:03:36.661Z"
   },
   {
    "duration": 0,
    "start_time": "2022-07-29T13:03:36.662Z"
   },
   {
    "duration": 1,
    "start_time": "2022-07-29T13:03:36.663Z"
   },
   {
    "duration": 0,
    "start_time": "2022-07-29T13:03:36.666Z"
   },
   {
    "duration": 0,
    "start_time": "2022-07-29T13:03:36.667Z"
   },
   {
    "duration": 0,
    "start_time": "2022-07-29T13:03:36.669Z"
   },
   {
    "duration": 0,
    "start_time": "2022-07-29T13:03:36.670Z"
   },
   {
    "duration": 0,
    "start_time": "2022-07-29T13:03:36.672Z"
   },
   {
    "duration": 0,
    "start_time": "2022-07-29T13:03:36.673Z"
   },
   {
    "duration": 37,
    "start_time": "2022-07-29T13:03:44.871Z"
   },
   {
    "duration": 1662,
    "start_time": "2022-07-29T13:04:16.421Z"
   },
   {
    "duration": 3,
    "start_time": "2022-07-29T13:04:18.085Z"
   },
   {
    "duration": 201,
    "start_time": "2022-07-29T13:04:18.090Z"
   },
   {
    "duration": 976,
    "start_time": "2022-07-29T13:04:18.293Z"
   },
   {
    "duration": 10,
    "start_time": "2022-07-29T13:04:19.271Z"
   },
   {
    "duration": 46,
    "start_time": "2022-07-29T13:04:19.283Z"
   },
   {
    "duration": 3,
    "start_time": "2022-07-29T13:04:19.331Z"
   },
   {
    "duration": 7,
    "start_time": "2022-07-29T13:04:19.336Z"
   },
   {
    "duration": 7,
    "start_time": "2022-07-29T13:04:19.345Z"
   },
   {
    "duration": 4469,
    "start_time": "2022-07-29T13:04:19.354Z"
   },
   {
    "duration": 1237708,
    "start_time": "2022-07-29T13:04:23.825Z"
   },
   {
    "duration": 183,
    "start_time": "2022-07-29T13:25:01.535Z"
   },
   {
    "duration": 13,
    "start_time": "2022-07-29T13:25:01.723Z"
   },
   {
    "duration": 68,
    "start_time": "2022-07-29T13:25:01.739Z"
   },
   {
    "duration": 5,
    "start_time": "2022-07-29T13:25:01.809Z"
   },
   {
    "duration": 31,
    "start_time": "2022-07-29T13:25:01.824Z"
   },
   {
    "duration": 25,
    "start_time": "2022-07-29T13:25:01.857Z"
   },
   {
    "duration": 8382,
    "start_time": "2022-07-29T13:25:01.884Z"
   },
   {
    "duration": 4,
    "start_time": "2022-07-29T13:25:10.267Z"
   },
   {
    "duration": 13,
    "start_time": "2022-07-29T13:25:10.273Z"
   },
   {
    "duration": 2574,
    "start_time": "2022-07-29T13:25:10.288Z"
   },
   {
    "duration": 5,
    "start_time": "2022-07-29T13:25:12.864Z"
   },
   {
    "duration": 9,
    "start_time": "2022-07-29T13:25:12.871Z"
   },
   {
    "duration": 181730,
    "start_time": "2022-07-29T13:25:12.882Z"
   },
   {
    "duration": 6,
    "start_time": "2022-07-29T13:28:14.619Z"
   },
   {
    "duration": 26,
    "start_time": "2022-07-29T13:28:14.628Z"
   },
   {
    "duration": 10091,
    "start_time": "2022-07-29T13:28:14.657Z"
   },
   {
    "duration": 4,
    "start_time": "2022-07-29T13:28:24.750Z"
   },
   {
    "duration": 7705,
    "start_time": "2022-07-29T13:28:24.755Z"
   },
   {
    "duration": 8,
    "start_time": "2022-07-29T13:28:32.461Z"
   },
   {
    "duration": 43,
    "start_time": "2022-07-29T13:28:32.471Z"
   },
   {
    "duration": 14350,
    "start_time": "2022-07-29T13:28:48.083Z"
   },
   {
    "duration": 8,
    "start_time": "2022-07-29T13:29:02.439Z"
   },
   {
    "duration": 21,
    "start_time": "2022-07-29T13:29:02.449Z"
   },
   {
    "duration": 7443,
    "start_time": "2022-07-29T13:29:11.933Z"
   },
   {
    "duration": 7,
    "start_time": "2022-07-29T13:29:19.378Z"
   },
   {
    "duration": 30,
    "start_time": "2022-07-29T13:29:19.387Z"
   },
   {
    "duration": 4,
    "start_time": "2022-07-29T13:29:41.628Z"
   },
   {
    "duration": 9942,
    "start_time": "2022-07-29T13:29:42.843Z"
   },
   {
    "duration": 4,
    "start_time": "2022-07-29T13:29:52.788Z"
   },
   {
    "duration": 7813,
    "start_time": "2022-07-29T13:30:06.762Z"
   },
   {
    "duration": 7,
    "start_time": "2022-07-29T13:30:14.576Z"
   },
   {
    "duration": 39,
    "start_time": "2022-07-29T13:30:14.585Z"
   }
  ],
  "kernelspec": {
   "display_name": "Python 3",
   "language": "python",
   "name": "python3"
  },
  "language_info": {
   "codemirror_mode": {
    "name": "ipython",
    "version": 3
   },
   "file_extension": ".py",
   "mimetype": "text/x-python",
   "name": "python",
   "nbconvert_exporter": "python",
   "pygments_lexer": "ipython3",
   "version": "3.7.1"
  },
  "toc": {
   "base_numbering": 1,
   "nav_menu": {
    "height": "224px",
    "width": "186px"
   },
   "number_sections": true,
   "sideBar": true,
   "skip_h1_title": true,
   "title_cell": "Содержание",
   "title_sidebar": "Contents",
   "toc_cell": true,
   "toc_position": {
    "height": "calc(100% - 180px)",
    "left": "10px",
    "top": "150px",
    "width": "302.391px"
   },
   "toc_section_display": true,
   "toc_window_display": false
  }
 },
 "nbformat": 4,
 "nbformat_minor": 2
}
