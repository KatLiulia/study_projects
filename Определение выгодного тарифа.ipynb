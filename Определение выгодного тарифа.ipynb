{
 "cells": [
  {
   "cell_type": "markdown",
   "metadata": {},
   "source": [
    "# Исследование тарифов связи"
   ]
  },
  {
   "cell_type": "code",
   "execution_count": 1,
   "metadata": {},
   "outputs": [],
   "source": [
    "import pandas as pd\n",
    "import numpy as np\n",
    "from scipy import stats as st\n",
    "import math"
   ]
  },
  {
   "cell_type": "markdown",
   "metadata": {},
   "source": [
    "## Описание проекта\n",
    "\n",
    "\n",
    "Мы - аналитики федерального оператора сотовой связи. Клиентам предлагают два тарифных плана: «Смарт» и «Ультра». Чтобы скорректировать рекламный бюджет, коммерческий департамент хочет понять, какой тариф приносит больше денег.\n",
    "\n",
    "Нам предстоит сделать предварительный анализ тарифов на небольшой выборке клиентов. В нашем распоряжении данные 500 пользователей: кто они, откуда, каким тарифом пользуются, сколько звонков и сообщений каждый отправил за 2018 год. Нужно проанализировать поведение клиентов и сделать вывод — какой тариф лучше."
   ]
  },
  {
   "cell_type": "markdown",
   "metadata": {},
   "source": [
    "### Описание тарифов\n",
    "\n",
    "**Тариф «Смарт»**\n",
    "- Ежемесячная плата: 550 рублей\n",
    "- Включено 500 минут разговора, 50 сообщений и 15 Гб интернет-трафика\n",
    "- Стоимость услуг сверх тарифного пакета:\n",
    " - минута разговора: 3 рубля\n",
    " - сообщение: 3 рубля\n",
    " - 1 Гб интернет-трафика: 200 рублей\n",
    "\n",
    "**Тариф «Ультра»**\n",
    "- Ежемесячная плата: 1950 рублей\n",
    "- Включено 3000 минут разговора, 1000 сообщений и 30 Гб интернет-трафика\n",
    "- Стоимость услуг сверх тарифного пакета:\n",
    " - минута разговора: 1 рубль\n",
    " - сообщение: 1 рубль\n",
    " - 1 Гб интернет-трафика: 150 рублей\n"
   ]
  },
  {
   "cell_type": "markdown",
   "metadata": {},
   "source": [
    "### Описание данных\n",
    "\n",
    "Таблица **`users`** (информация о пользователях):\n",
    "\n",
    "- `user_id` — уникальный идентификатор пользователя\n",
    "- `first_name` — имя пользователя\n",
    "- `last_name` — фамилия пользователя\n",
    "- `age` — возраст пользователя (годы)\n",
    "- `reg_date` — дата подключения тарифа (день, месяц, год)\n",
    "- `churn_date` — дата прекращения пользования тарифом (если значение пропущено, то тариф ещё действовал на момент выгрузки данных)\n",
    "- `city` — город проживания пользователя\n",
    "- `tariff` — название тарифного плана\n",
    "\n",
    "Таблица **`calls`** (информация о звонках):\n",
    "\n",
    "- `id` — уникальный номер звонка\n",
    "- `call_date` — дата звонка\n",
    "- `duration` — длительность звонка в минутах\n",
    "- `user_id` — идентификатор пользователя, сделавшего звонок\n",
    "\n",
    "Таблица **`messages`** (информация о сообщениях):\n",
    "\n",
    "- `id` — уникальный номер сообщения\n",
    "- `message_date` — дата сообщения\n",
    "- `user_id` — идентификатор пользователя, отправившего сообщение\n",
    "\n",
    "Таблица **`internet`** (информация об интернет-сессиях):\n",
    "\n",
    "- `id` — уникальный номер сессии\n",
    "- `mb_used` — объём потраченного за сессию интернет-трафика (в мегабайтах)\n",
    "- `session_date` — дата интернет-сессии\n",
    "- `user_id` — идентификатор пользователя\n",
    "\n",
    "Таблица **`tariffs`** (информация о тарифах):\n",
    "\n",
    "- `tariff_name` — название тарифа\n",
    "- `rub_monthly_fee` — ежемесячная абонентская плата в рублях\n",
    "- `minutes_included` — количество минут разговора в месяц, включённых в абонентскую плату\n",
    "- `messages_included` — количество сообщений в месяц, включённых в абонентскую плату\n",
    "- `mb_per_month_included` — объём интернет-трафика, включённого в абонентскую плату (в мегабайтах)\n",
    "- `rub_per_minute` — стоимость минуты разговора сверх тарифного пакета (например, если в тарифе 100 минут разговора в месяц, то со 101 минуты будет взиматься плата)\n",
    "- `rub_per_message` — стоимость отправки сообщения сверх тарифного пакета\n",
    "- `rub_per_gb` — стоимость дополнительного гигабайта интернет-трафика сверх тарифного пакета (1 гигабайт = 1024 мегабайта)"
   ]
  },
  {
   "cell_type": "code",
   "execution_count": 2,
   "metadata": {},
   "outputs": [],
   "source": [
    "df_tariffs = pd.read_csv('/datasets/tariffs.csv')  \n",
    "df_calls = pd.read_csv('/datasets/calls.csv')  \n",
    "df_internet = pd.read_csv('/datasets/internet.csv') \n",
    "df_messages = pd.read_csv('/datasets/messages.csv') \n",
    "df_users = pd.read_csv('/datasets/users.csv')  "
   ]
  },
  {
   "cell_type": "markdown",
   "metadata": {},
   "source": [
    "## Обзор данных"
   ]
  },
  {
   "cell_type": "code",
   "execution_count": 3,
   "metadata": {},
   "outputs": [
    {
     "data": {
      "text/html": [
       "<div>\n",
       "<style scoped>\n",
       "    .dataframe tbody tr th:only-of-type {\n",
       "        vertical-align: middle;\n",
       "    }\n",
       "\n",
       "    .dataframe tbody tr th {\n",
       "        vertical-align: top;\n",
       "    }\n",
       "\n",
       "    .dataframe thead th {\n",
       "        text-align: right;\n",
       "    }\n",
       "</style>\n",
       "<table border=\"1\" class=\"dataframe\">\n",
       "  <thead>\n",
       "    <tr style=\"text-align: right;\">\n",
       "      <th></th>\n",
       "      <th>messages_included</th>\n",
       "      <th>mb_per_month_included</th>\n",
       "      <th>minutes_included</th>\n",
       "      <th>rub_monthly_fee</th>\n",
       "      <th>rub_per_gb</th>\n",
       "      <th>rub_per_message</th>\n",
       "      <th>rub_per_minute</th>\n",
       "      <th>tariff_name</th>\n",
       "    </tr>\n",
       "  </thead>\n",
       "  <tbody>\n",
       "    <tr>\n",
       "      <th>0</th>\n",
       "      <td>50</td>\n",
       "      <td>15360</td>\n",
       "      <td>500</td>\n",
       "      <td>550</td>\n",
       "      <td>200</td>\n",
       "      <td>3</td>\n",
       "      <td>3</td>\n",
       "      <td>smart</td>\n",
       "    </tr>\n",
       "    <tr>\n",
       "      <th>1</th>\n",
       "      <td>1000</td>\n",
       "      <td>30720</td>\n",
       "      <td>3000</td>\n",
       "      <td>1950</td>\n",
       "      <td>150</td>\n",
       "      <td>1</td>\n",
       "      <td>1</td>\n",
       "      <td>ultra</td>\n",
       "    </tr>\n",
       "  </tbody>\n",
       "</table>\n",
       "</div>"
      ],
      "text/plain": [
       "   messages_included  mb_per_month_included  minutes_included  \\\n",
       "0                 50                  15360               500   \n",
       "1               1000                  30720              3000   \n",
       "\n",
       "   rub_monthly_fee  rub_per_gb  rub_per_message  rub_per_minute tariff_name  \n",
       "0              550         200                3               3       smart  \n",
       "1             1950         150                1               1       ultra  "
      ]
     },
     "execution_count": 3,
     "metadata": {},
     "output_type": "execute_result"
    }
   ],
   "source": [
    "df_tariffs"
   ]
  },
  {
   "cell_type": "code",
   "execution_count": 4,
   "metadata": {},
   "outputs": [
    {
     "data": {
      "text/html": [
       "<div>\n",
       "<style scoped>\n",
       "    .dataframe tbody tr th:only-of-type {\n",
       "        vertical-align: middle;\n",
       "    }\n",
       "\n",
       "    .dataframe tbody tr th {\n",
       "        vertical-align: top;\n",
       "    }\n",
       "\n",
       "    .dataframe thead th {\n",
       "        text-align: right;\n",
       "    }\n",
       "</style>\n",
       "<table border=\"1\" class=\"dataframe\">\n",
       "  <thead>\n",
       "    <tr style=\"text-align: right;\">\n",
       "      <th></th>\n",
       "      <th>id</th>\n",
       "      <th>call_date</th>\n",
       "      <th>duration</th>\n",
       "      <th>user_id</th>\n",
       "    </tr>\n",
       "  </thead>\n",
       "  <tbody>\n",
       "    <tr>\n",
       "      <th>0</th>\n",
       "      <td>1000_0</td>\n",
       "      <td>2018-07-25</td>\n",
       "      <td>0.00</td>\n",
       "      <td>1000</td>\n",
       "    </tr>\n",
       "    <tr>\n",
       "      <th>1</th>\n",
       "      <td>1000_1</td>\n",
       "      <td>2018-08-17</td>\n",
       "      <td>0.00</td>\n",
       "      <td>1000</td>\n",
       "    </tr>\n",
       "    <tr>\n",
       "      <th>2</th>\n",
       "      <td>1000_2</td>\n",
       "      <td>2018-06-11</td>\n",
       "      <td>2.85</td>\n",
       "      <td>1000</td>\n",
       "    </tr>\n",
       "    <tr>\n",
       "      <th>3</th>\n",
       "      <td>1000_3</td>\n",
       "      <td>2018-09-21</td>\n",
       "      <td>13.80</td>\n",
       "      <td>1000</td>\n",
       "    </tr>\n",
       "    <tr>\n",
       "      <th>4</th>\n",
       "      <td>1000_4</td>\n",
       "      <td>2018-12-15</td>\n",
       "      <td>5.18</td>\n",
       "      <td>1000</td>\n",
       "    </tr>\n",
       "  </tbody>\n",
       "</table>\n",
       "</div>"
      ],
      "text/plain": [
       "       id   call_date  duration  user_id\n",
       "0  1000_0  2018-07-25      0.00     1000\n",
       "1  1000_1  2018-08-17      0.00     1000\n",
       "2  1000_2  2018-06-11      2.85     1000\n",
       "3  1000_3  2018-09-21     13.80     1000\n",
       "4  1000_4  2018-12-15      5.18     1000"
      ]
     },
     "execution_count": 4,
     "metadata": {},
     "output_type": "execute_result"
    }
   ],
   "source": [
    "df_calls.head()"
   ]
  },
  {
   "cell_type": "code",
   "execution_count": 5,
   "metadata": {},
   "outputs": [
    {
     "name": "stdout",
     "output_type": "stream",
     "text": [
      "<class 'pandas.core.frame.DataFrame'>\n",
      "RangeIndex: 202607 entries, 0 to 202606\n",
      "Data columns (total 4 columns):\n",
      " #   Column     Non-Null Count   Dtype  \n",
      "---  ------     --------------   -----  \n",
      " 0   id         202607 non-null  object \n",
      " 1   call_date  202607 non-null  object \n",
      " 2   duration   202607 non-null  float64\n",
      " 3   user_id    202607 non-null  int64  \n",
      "dtypes: float64(1), int64(1), object(2)\n",
      "memory usage: 6.2+ MB\n"
     ]
    }
   ],
   "source": [
    "df_calls.info()"
   ]
  },
  {
   "cell_type": "code",
   "execution_count": 6,
   "metadata": {
    "scrolled": true
   },
   "outputs": [
    {
     "data": {
      "text/html": [
       "<div>\n",
       "<style scoped>\n",
       "    .dataframe tbody tr th:only-of-type {\n",
       "        vertical-align: middle;\n",
       "    }\n",
       "\n",
       "    .dataframe tbody tr th {\n",
       "        vertical-align: top;\n",
       "    }\n",
       "\n",
       "    .dataframe thead th {\n",
       "        text-align: right;\n",
       "    }\n",
       "</style>\n",
       "<table border=\"1\" class=\"dataframe\">\n",
       "  <thead>\n",
       "    <tr style=\"text-align: right;\">\n",
       "      <th></th>\n",
       "      <th>Unnamed: 0</th>\n",
       "      <th>id</th>\n",
       "      <th>mb_used</th>\n",
       "      <th>session_date</th>\n",
       "      <th>user_id</th>\n",
       "    </tr>\n",
       "  </thead>\n",
       "  <tbody>\n",
       "    <tr>\n",
       "      <th>0</th>\n",
       "      <td>0</td>\n",
       "      <td>1000_0</td>\n",
       "      <td>112.95</td>\n",
       "      <td>2018-11-25</td>\n",
       "      <td>1000</td>\n",
       "    </tr>\n",
       "    <tr>\n",
       "      <th>1</th>\n",
       "      <td>1</td>\n",
       "      <td>1000_1</td>\n",
       "      <td>1052.81</td>\n",
       "      <td>2018-09-07</td>\n",
       "      <td>1000</td>\n",
       "    </tr>\n",
       "    <tr>\n",
       "      <th>2</th>\n",
       "      <td>2</td>\n",
       "      <td>1000_2</td>\n",
       "      <td>1197.26</td>\n",
       "      <td>2018-06-25</td>\n",
       "      <td>1000</td>\n",
       "    </tr>\n",
       "    <tr>\n",
       "      <th>3</th>\n",
       "      <td>3</td>\n",
       "      <td>1000_3</td>\n",
       "      <td>550.27</td>\n",
       "      <td>2018-08-22</td>\n",
       "      <td>1000</td>\n",
       "    </tr>\n",
       "    <tr>\n",
       "      <th>4</th>\n",
       "      <td>4</td>\n",
       "      <td>1000_4</td>\n",
       "      <td>302.56</td>\n",
       "      <td>2018-09-24</td>\n",
       "      <td>1000</td>\n",
       "    </tr>\n",
       "  </tbody>\n",
       "</table>\n",
       "</div>"
      ],
      "text/plain": [
       "   Unnamed: 0      id  mb_used session_date  user_id\n",
       "0           0  1000_0   112.95   2018-11-25     1000\n",
       "1           1  1000_1  1052.81   2018-09-07     1000\n",
       "2           2  1000_2  1197.26   2018-06-25     1000\n",
       "3           3  1000_3   550.27   2018-08-22     1000\n",
       "4           4  1000_4   302.56   2018-09-24     1000"
      ]
     },
     "execution_count": 6,
     "metadata": {},
     "output_type": "execute_result"
    }
   ],
   "source": [
    "df_internet.head()"
   ]
  },
  {
   "cell_type": "code",
   "execution_count": 7,
   "metadata": {},
   "outputs": [
    {
     "name": "stdout",
     "output_type": "stream",
     "text": [
      "<class 'pandas.core.frame.DataFrame'>\n",
      "RangeIndex: 149396 entries, 0 to 149395\n",
      "Data columns (total 5 columns):\n",
      " #   Column        Non-Null Count   Dtype  \n",
      "---  ------        --------------   -----  \n",
      " 0   Unnamed: 0    149396 non-null  int64  \n",
      " 1   id            149396 non-null  object \n",
      " 2   mb_used       149396 non-null  float64\n",
      " 3   session_date  149396 non-null  object \n",
      " 4   user_id       149396 non-null  int64  \n",
      "dtypes: float64(1), int64(2), object(2)\n",
      "memory usage: 5.7+ MB\n"
     ]
    }
   ],
   "source": [
    "df_internet.info()"
   ]
  },
  {
   "cell_type": "code",
   "execution_count": 8,
   "metadata": {},
   "outputs": [
    {
     "data": {
      "text/html": [
       "<div>\n",
       "<style scoped>\n",
       "    .dataframe tbody tr th:only-of-type {\n",
       "        vertical-align: middle;\n",
       "    }\n",
       "\n",
       "    .dataframe tbody tr th {\n",
       "        vertical-align: top;\n",
       "    }\n",
       "\n",
       "    .dataframe thead th {\n",
       "        text-align: right;\n",
       "    }\n",
       "</style>\n",
       "<table border=\"1\" class=\"dataframe\">\n",
       "  <thead>\n",
       "    <tr style=\"text-align: right;\">\n",
       "      <th></th>\n",
       "      <th>id</th>\n",
       "      <th>message_date</th>\n",
       "      <th>user_id</th>\n",
       "    </tr>\n",
       "  </thead>\n",
       "  <tbody>\n",
       "    <tr>\n",
       "      <th>0</th>\n",
       "      <td>1000_0</td>\n",
       "      <td>2018-06-27</td>\n",
       "      <td>1000</td>\n",
       "    </tr>\n",
       "    <tr>\n",
       "      <th>1</th>\n",
       "      <td>1000_1</td>\n",
       "      <td>2018-10-08</td>\n",
       "      <td>1000</td>\n",
       "    </tr>\n",
       "    <tr>\n",
       "      <th>2</th>\n",
       "      <td>1000_2</td>\n",
       "      <td>2018-08-04</td>\n",
       "      <td>1000</td>\n",
       "    </tr>\n",
       "    <tr>\n",
       "      <th>3</th>\n",
       "      <td>1000_3</td>\n",
       "      <td>2018-06-16</td>\n",
       "      <td>1000</td>\n",
       "    </tr>\n",
       "    <tr>\n",
       "      <th>4</th>\n",
       "      <td>1000_4</td>\n",
       "      <td>2018-12-05</td>\n",
       "      <td>1000</td>\n",
       "    </tr>\n",
       "  </tbody>\n",
       "</table>\n",
       "</div>"
      ],
      "text/plain": [
       "       id message_date  user_id\n",
       "0  1000_0   2018-06-27     1000\n",
       "1  1000_1   2018-10-08     1000\n",
       "2  1000_2   2018-08-04     1000\n",
       "3  1000_3   2018-06-16     1000\n",
       "4  1000_4   2018-12-05     1000"
      ]
     },
     "execution_count": 8,
     "metadata": {},
     "output_type": "execute_result"
    }
   ],
   "source": [
    "df_messages.head()"
   ]
  },
  {
   "cell_type": "code",
   "execution_count": 9,
   "metadata": {},
   "outputs": [
    {
     "name": "stdout",
     "output_type": "stream",
     "text": [
      "<class 'pandas.core.frame.DataFrame'>\n",
      "RangeIndex: 123036 entries, 0 to 123035\n",
      "Data columns (total 3 columns):\n",
      " #   Column        Non-Null Count   Dtype \n",
      "---  ------        --------------   ----- \n",
      " 0   id            123036 non-null  object\n",
      " 1   message_date  123036 non-null  object\n",
      " 2   user_id       123036 non-null  int64 \n",
      "dtypes: int64(1), object(2)\n",
      "memory usage: 2.8+ MB\n"
     ]
    }
   ],
   "source": [
    "df_messages.info()"
   ]
  },
  {
   "cell_type": "code",
   "execution_count": 10,
   "metadata": {},
   "outputs": [
    {
     "data": {
      "text/html": [
       "<div>\n",
       "<style scoped>\n",
       "    .dataframe tbody tr th:only-of-type {\n",
       "        vertical-align: middle;\n",
       "    }\n",
       "\n",
       "    .dataframe tbody tr th {\n",
       "        vertical-align: top;\n",
       "    }\n",
       "\n",
       "    .dataframe thead th {\n",
       "        text-align: right;\n",
       "    }\n",
       "</style>\n",
       "<table border=\"1\" class=\"dataframe\">\n",
       "  <thead>\n",
       "    <tr style=\"text-align: right;\">\n",
       "      <th></th>\n",
       "      <th>user_id</th>\n",
       "      <th>age</th>\n",
       "      <th>churn_date</th>\n",
       "      <th>city</th>\n",
       "      <th>first_name</th>\n",
       "      <th>last_name</th>\n",
       "      <th>reg_date</th>\n",
       "      <th>tariff</th>\n",
       "    </tr>\n",
       "  </thead>\n",
       "  <tbody>\n",
       "    <tr>\n",
       "      <th>0</th>\n",
       "      <td>1000</td>\n",
       "      <td>52</td>\n",
       "      <td>NaN</td>\n",
       "      <td>Краснодар</td>\n",
       "      <td>Рафаил</td>\n",
       "      <td>Верещагин</td>\n",
       "      <td>2018-05-25</td>\n",
       "      <td>ultra</td>\n",
       "    </tr>\n",
       "    <tr>\n",
       "      <th>1</th>\n",
       "      <td>1001</td>\n",
       "      <td>41</td>\n",
       "      <td>NaN</td>\n",
       "      <td>Москва</td>\n",
       "      <td>Иван</td>\n",
       "      <td>Ежов</td>\n",
       "      <td>2018-11-01</td>\n",
       "      <td>smart</td>\n",
       "    </tr>\n",
       "    <tr>\n",
       "      <th>2</th>\n",
       "      <td>1002</td>\n",
       "      <td>59</td>\n",
       "      <td>NaN</td>\n",
       "      <td>Стерлитамак</td>\n",
       "      <td>Евгений</td>\n",
       "      <td>Абрамович</td>\n",
       "      <td>2018-06-17</td>\n",
       "      <td>smart</td>\n",
       "    </tr>\n",
       "    <tr>\n",
       "      <th>3</th>\n",
       "      <td>1003</td>\n",
       "      <td>23</td>\n",
       "      <td>NaN</td>\n",
       "      <td>Москва</td>\n",
       "      <td>Белла</td>\n",
       "      <td>Белякова</td>\n",
       "      <td>2018-08-17</td>\n",
       "      <td>ultra</td>\n",
       "    </tr>\n",
       "    <tr>\n",
       "      <th>4</th>\n",
       "      <td>1004</td>\n",
       "      <td>68</td>\n",
       "      <td>NaN</td>\n",
       "      <td>Новокузнецк</td>\n",
       "      <td>Татьяна</td>\n",
       "      <td>Авдеенко</td>\n",
       "      <td>2018-05-14</td>\n",
       "      <td>ultra</td>\n",
       "    </tr>\n",
       "  </tbody>\n",
       "</table>\n",
       "</div>"
      ],
      "text/plain": [
       "   user_id  age churn_date         city first_name  last_name    reg_date  \\\n",
       "0     1000   52        NaN    Краснодар     Рафаил  Верещагин  2018-05-25   \n",
       "1     1001   41        NaN       Москва       Иван       Ежов  2018-11-01   \n",
       "2     1002   59        NaN  Стерлитамак    Евгений  Абрамович  2018-06-17   \n",
       "3     1003   23        NaN       Москва      Белла   Белякова  2018-08-17   \n",
       "4     1004   68        NaN  Новокузнецк    Татьяна   Авдеенко  2018-05-14   \n",
       "\n",
       "  tariff  \n",
       "0  ultra  \n",
       "1  smart  \n",
       "2  smart  \n",
       "3  ultra  \n",
       "4  ultra  "
      ]
     },
     "execution_count": 10,
     "metadata": {},
     "output_type": "execute_result"
    }
   ],
   "source": [
    "df_users.head()"
   ]
  },
  {
   "cell_type": "code",
   "execution_count": 11,
   "metadata": {},
   "outputs": [
    {
     "name": "stdout",
     "output_type": "stream",
     "text": [
      "<class 'pandas.core.frame.DataFrame'>\n",
      "RangeIndex: 500 entries, 0 to 499\n",
      "Data columns (total 8 columns):\n",
      " #   Column      Non-Null Count  Dtype \n",
      "---  ------      --------------  ----- \n",
      " 0   user_id     500 non-null    int64 \n",
      " 1   age         500 non-null    int64 \n",
      " 2   churn_date  38 non-null     object\n",
      " 3   city        500 non-null    object\n",
      " 4   first_name  500 non-null    object\n",
      " 5   last_name   500 non-null    object\n",
      " 6   reg_date    500 non-null    object\n",
      " 7   tariff      500 non-null    object\n",
      "dtypes: int64(2), object(6)\n",
      "memory usage: 31.4+ KB\n"
     ]
    },
    {
     "data": {
      "text/plain": [
       "0.924"
      ]
     },
     "execution_count": 11,
     "metadata": {},
     "output_type": "execute_result"
    }
   ],
   "source": [
    "df_users.info()\n",
    "df_users['churn_date'].isna().mean()"
   ]
  },
  {
   "cell_type": "markdown",
   "metadata": {},
   "source": [
    "Предварительно можно сделать несколько выводов о данных:\n",
    "\n",
    "- Неожиданных пропусков в таблицах нет;\n",
    "- В таблице `df_users` по столбцу `churn_date` видно, что почти 8% перестали пользоваться тарифом к моменту выгрузки данных;\n",
    "- В таблице `df_internet` есть лишний столбец `Unnamed: 0`;\n",
    "- Во всех таблицах столбцы с датами имеют тип `object`.\n"
   ]
  },
  {
   "cell_type": "markdown",
   "metadata": {},
   "source": [
    "## Подготовка данных"
   ]
  },
  {
   "cell_type": "markdown",
   "metadata": {},
   "source": [
    "Удалим лишний столбец `Unnamed: 0` в `df_internet`:"
   ]
  },
  {
   "cell_type": "code",
   "execution_count": 12,
   "metadata": {},
   "outputs": [],
   "source": [
    "df_internet = df_internet.drop(columns='Unnamed: 0')  "
   ]
  },
  {
   "cell_type": "code",
   "execution_count": 13,
   "metadata": {},
   "outputs": [
    {
     "data": {
      "text/html": [
       "<div>\n",
       "<style scoped>\n",
       "    .dataframe tbody tr th:only-of-type {\n",
       "        vertical-align: middle;\n",
       "    }\n",
       "\n",
       "    .dataframe tbody tr th {\n",
       "        vertical-align: top;\n",
       "    }\n",
       "\n",
       "    .dataframe thead th {\n",
       "        text-align: right;\n",
       "    }\n",
       "</style>\n",
       "<table border=\"1\" class=\"dataframe\">\n",
       "  <thead>\n",
       "    <tr style=\"text-align: right;\">\n",
       "      <th></th>\n",
       "      <th>id</th>\n",
       "      <th>mb_used</th>\n",
       "      <th>session_date</th>\n",
       "      <th>user_id</th>\n",
       "    </tr>\n",
       "  </thead>\n",
       "  <tbody>\n",
       "    <tr>\n",
       "      <th>0</th>\n",
       "      <td>1000_0</td>\n",
       "      <td>112.95</td>\n",
       "      <td>2018-11-25</td>\n",
       "      <td>1000</td>\n",
       "    </tr>\n",
       "    <tr>\n",
       "      <th>1</th>\n",
       "      <td>1000_1</td>\n",
       "      <td>1052.81</td>\n",
       "      <td>2018-09-07</td>\n",
       "      <td>1000</td>\n",
       "    </tr>\n",
       "    <tr>\n",
       "      <th>2</th>\n",
       "      <td>1000_2</td>\n",
       "      <td>1197.26</td>\n",
       "      <td>2018-06-25</td>\n",
       "      <td>1000</td>\n",
       "    </tr>\n",
       "    <tr>\n",
       "      <th>3</th>\n",
       "      <td>1000_3</td>\n",
       "      <td>550.27</td>\n",
       "      <td>2018-08-22</td>\n",
       "      <td>1000</td>\n",
       "    </tr>\n",
       "    <tr>\n",
       "      <th>4</th>\n",
       "      <td>1000_4</td>\n",
       "      <td>302.56</td>\n",
       "      <td>2018-09-24</td>\n",
       "      <td>1000</td>\n",
       "    </tr>\n",
       "  </tbody>\n",
       "</table>\n",
       "</div>"
      ],
      "text/plain": [
       "       id  mb_used session_date  user_id\n",
       "0  1000_0   112.95   2018-11-25     1000\n",
       "1  1000_1  1052.81   2018-09-07     1000\n",
       "2  1000_2  1197.26   2018-06-25     1000\n",
       "3  1000_3   550.27   2018-08-22     1000\n",
       "4  1000_4   302.56   2018-09-24     1000"
      ]
     },
     "execution_count": 13,
     "metadata": {},
     "output_type": "execute_result"
    }
   ],
   "source": [
    "df_internet.head()"
   ]
  },
  {
   "cell_type": "markdown",
   "metadata": {},
   "source": [
    "Изменим тип данных в столбцах с датами в datetime:"
   ]
  },
  {
   "cell_type": "code",
   "execution_count": 14,
   "metadata": {},
   "outputs": [],
   "source": [
    "try:\n",
    "    df_internet['session_date'] = pd.to_datetime(df_internet['session_date'], format='%Y-%m-%d')\n",
    "    df_messages ['message_date'] = pd.to_datetime(df_messages ['message_date'], format='%Y-%m-%d')\n",
    "    df_calls['call_date'] = pd.to_datetime(df_calls['call_date'], format='%Y-%m-%d')\n",
    "    df_users['reg_date'] = pd.to_datetime(df_users['reg_date'], format='%Y-%m-%d')\n",
    "    df_users['churn_date'] = pd.to_datetime(df_users['churn_date'], format='%Y-%m-%d')    \n",
    "except:\n",
    "    print('error')"
   ]
  },
  {
   "cell_type": "markdown",
   "metadata": {},
   "source": [
    "Округлим длительность звонков так, как того требует тарифный план: \"Каждый звонок округляется отдельно: даже если он длился всего 1 секунду, будет засчитан как 1 минута.\"    "
   ]
  },
  {
   "cell_type": "code",
   "execution_count": 15,
   "metadata": {},
   "outputs": [],
   "source": [
    "df_calls['duration'] = df_calls['duration'].apply(math.ceil)"
   ]
  },
  {
   "cell_type": "code",
   "execution_count": 16,
   "metadata": {},
   "outputs": [
    {
     "data": {
      "text/html": [
       "<div>\n",
       "<style scoped>\n",
       "    .dataframe tbody tr th:only-of-type {\n",
       "        vertical-align: middle;\n",
       "    }\n",
       "\n",
       "    .dataframe tbody tr th {\n",
       "        vertical-align: top;\n",
       "    }\n",
       "\n",
       "    .dataframe thead th {\n",
       "        text-align: right;\n",
       "    }\n",
       "</style>\n",
       "<table border=\"1\" class=\"dataframe\">\n",
       "  <thead>\n",
       "    <tr style=\"text-align: right;\">\n",
       "      <th></th>\n",
       "      <th>id</th>\n",
       "      <th>call_date</th>\n",
       "      <th>duration</th>\n",
       "      <th>user_id</th>\n",
       "    </tr>\n",
       "  </thead>\n",
       "  <tbody>\n",
       "    <tr>\n",
       "      <th>0</th>\n",
       "      <td>1000_0</td>\n",
       "      <td>2018-07-25</td>\n",
       "      <td>0</td>\n",
       "      <td>1000</td>\n",
       "    </tr>\n",
       "    <tr>\n",
       "      <th>1</th>\n",
       "      <td>1000_1</td>\n",
       "      <td>2018-08-17</td>\n",
       "      <td>0</td>\n",
       "      <td>1000</td>\n",
       "    </tr>\n",
       "    <tr>\n",
       "      <th>2</th>\n",
       "      <td>1000_2</td>\n",
       "      <td>2018-06-11</td>\n",
       "      <td>3</td>\n",
       "      <td>1000</td>\n",
       "    </tr>\n",
       "    <tr>\n",
       "      <th>3</th>\n",
       "      <td>1000_3</td>\n",
       "      <td>2018-09-21</td>\n",
       "      <td>14</td>\n",
       "      <td>1000</td>\n",
       "    </tr>\n",
       "    <tr>\n",
       "      <th>4</th>\n",
       "      <td>1000_4</td>\n",
       "      <td>2018-12-15</td>\n",
       "      <td>6</td>\n",
       "      <td>1000</td>\n",
       "    </tr>\n",
       "  </tbody>\n",
       "</table>\n",
       "</div>"
      ],
      "text/plain": [
       "       id  call_date  duration  user_id\n",
       "0  1000_0 2018-07-25         0     1000\n",
       "1  1000_1 2018-08-17         0     1000\n",
       "2  1000_2 2018-06-11         3     1000\n",
       "3  1000_3 2018-09-21        14     1000\n",
       "4  1000_4 2018-12-15         6     1000"
      ]
     },
     "execution_count": 16,
     "metadata": {},
     "output_type": "execute_result"
    }
   ],
   "source": [
    "df_calls.head()"
   ]
  },
  {
   "cell_type": "markdown",
   "metadata": {},
   "source": [
    "В ходе проверки категориальных и количественных перменных в таблицах (с помощью методов `unique` и `describe`) дебликатов и аномалий найдено не было (в тетради не отображено)."
   ]
  },
  {
   "cell_type": "code",
   "execution_count": 17,
   "metadata": {},
   "outputs": [
    {
     "name": "stdout",
     "output_type": "stream",
     "text": [
      "0 0 0 0\n"
     ]
    }
   ],
   "source": [
    "print(df_calls.duplicated().sum(), df_internet.duplicated().sum(), \n",
    "      df_messages.duplicated().sum(), df_users.duplicated().sum())"
   ]
  },
  {
   "cell_type": "markdown",
   "metadata": {},
   "source": [
    "### Посчитаем количество сделанных звонков и израсходованных минут разговора по месяцам для каждого пользователя"
   ]
  },
  {
   "cell_type": "code",
   "execution_count": 18,
   "metadata": {},
   "outputs": [
    {
     "data": {
      "text/html": [
       "<div>\n",
       "<style scoped>\n",
       "    .dataframe tbody tr th:only-of-type {\n",
       "        vertical-align: middle;\n",
       "    }\n",
       "\n",
       "    .dataframe tbody tr th {\n",
       "        vertical-align: top;\n",
       "    }\n",
       "\n",
       "    .dataframe thead th {\n",
       "        text-align: right;\n",
       "    }\n",
       "</style>\n",
       "<table border=\"1\" class=\"dataframe\">\n",
       "  <thead>\n",
       "    <tr style=\"text-align: right;\">\n",
       "      <th></th>\n",
       "      <th>id</th>\n",
       "      <th>call_date</th>\n",
       "      <th>duration</th>\n",
       "      <th>user_id</th>\n",
       "      <th>month</th>\n",
       "    </tr>\n",
       "  </thead>\n",
       "  <tbody>\n",
       "    <tr>\n",
       "      <th>0</th>\n",
       "      <td>1000_0</td>\n",
       "      <td>2018-07-25</td>\n",
       "      <td>0</td>\n",
       "      <td>1000</td>\n",
       "      <td>7</td>\n",
       "    </tr>\n",
       "    <tr>\n",
       "      <th>1</th>\n",
       "      <td>1000_1</td>\n",
       "      <td>2018-08-17</td>\n",
       "      <td>0</td>\n",
       "      <td>1000</td>\n",
       "      <td>8</td>\n",
       "    </tr>\n",
       "    <tr>\n",
       "      <th>2</th>\n",
       "      <td>1000_2</td>\n",
       "      <td>2018-06-11</td>\n",
       "      <td>3</td>\n",
       "      <td>1000</td>\n",
       "      <td>6</td>\n",
       "    </tr>\n",
       "    <tr>\n",
       "      <th>3</th>\n",
       "      <td>1000_3</td>\n",
       "      <td>2018-09-21</td>\n",
       "      <td>14</td>\n",
       "      <td>1000</td>\n",
       "      <td>9</td>\n",
       "    </tr>\n",
       "    <tr>\n",
       "      <th>4</th>\n",
       "      <td>1000_4</td>\n",
       "      <td>2018-12-15</td>\n",
       "      <td>6</td>\n",
       "      <td>1000</td>\n",
       "      <td>12</td>\n",
       "    </tr>\n",
       "  </tbody>\n",
       "</table>\n",
       "</div>"
      ],
      "text/plain": [
       "       id  call_date  duration  user_id  month\n",
       "0  1000_0 2018-07-25         0     1000      7\n",
       "1  1000_1 2018-08-17         0     1000      8\n",
       "2  1000_2 2018-06-11         3     1000      6\n",
       "3  1000_3 2018-09-21        14     1000      9\n",
       "4  1000_4 2018-12-15         6     1000     12"
      ]
     },
     "execution_count": 18,
     "metadata": {},
     "output_type": "execute_result"
    }
   ],
   "source": [
    "df_calls['month'] = pd.DatetimeIndex(df_calls['call_date']).month\n",
    "df_calls.head()"
   ]
  },
  {
   "cell_type": "code",
   "execution_count": 19,
   "metadata": {},
   "outputs": [],
   "source": [
    "calls_pivot = df_calls.pivot_table(index=['user_id', 'month'], values='duration', aggfunc=['sum', 'count']).reset_index()"
   ]
  },
  {
   "cell_type": "code",
   "execution_count": 20,
   "metadata": {},
   "outputs": [
    {
     "name": "stderr",
     "output_type": "stream",
     "text": [
      "/opt/conda/lib/python3.9/site-packages/pandas/core/reshape/merge.py:648: UserWarning: merging between different levels can give an unintended result (2 levels on the left,1 on the right)\n",
      "  warnings.warn(msg, UserWarning)\n"
     ]
    }
   ],
   "source": [
    "calls_pivot = calls_pivot.merge(df_users[['tariff', 'city', 'user_id']],  how='inner', on='user_id')"
   ]
  },
  {
   "cell_type": "code",
   "execution_count": 21,
   "metadata": {},
   "outputs": [],
   "source": [
    "calls_pivot = calls_pivot.rename(columns={('month', '') : 'month'})\n",
    "calls_pivot = calls_pivot.rename(columns={('sum', 'duration') : 'sum_minut'})\n",
    "calls_pivot = calls_pivot.rename(columns={('count', 'duration') : 'count_calls'})\n",
    "calls_pivot = calls_pivot.drop(columns=[('user_id', '')])  "
   ]
  },
  {
   "cell_type": "code",
   "execution_count": 22,
   "metadata": {},
   "outputs": [
    {
     "data": {
      "text/html": [
       "<div>\n",
       "<style scoped>\n",
       "    .dataframe tbody tr th:only-of-type {\n",
       "        vertical-align: middle;\n",
       "    }\n",
       "\n",
       "    .dataframe tbody tr th {\n",
       "        vertical-align: top;\n",
       "    }\n",
       "\n",
       "    .dataframe thead th {\n",
       "        text-align: right;\n",
       "    }\n",
       "</style>\n",
       "<table border=\"1\" class=\"dataframe\">\n",
       "  <thead>\n",
       "    <tr style=\"text-align: right;\">\n",
       "      <th></th>\n",
       "      <th>user_id</th>\n",
       "      <th>month</th>\n",
       "      <th>sum_minut</th>\n",
       "      <th>count_calls</th>\n",
       "      <th>tariff</th>\n",
       "      <th>city</th>\n",
       "    </tr>\n",
       "  </thead>\n",
       "  <tbody>\n",
       "    <tr>\n",
       "      <th>0</th>\n",
       "      <td>1000</td>\n",
       "      <td>5</td>\n",
       "      <td>159</td>\n",
       "      <td>22</td>\n",
       "      <td>ultra</td>\n",
       "      <td>Краснодар</td>\n",
       "    </tr>\n",
       "    <tr>\n",
       "      <th>1</th>\n",
       "      <td>1000</td>\n",
       "      <td>6</td>\n",
       "      <td>172</td>\n",
       "      <td>43</td>\n",
       "      <td>ultra</td>\n",
       "      <td>Краснодар</td>\n",
       "    </tr>\n",
       "    <tr>\n",
       "      <th>2</th>\n",
       "      <td>1000</td>\n",
       "      <td>7</td>\n",
       "      <td>340</td>\n",
       "      <td>47</td>\n",
       "      <td>ultra</td>\n",
       "      <td>Краснодар</td>\n",
       "    </tr>\n",
       "    <tr>\n",
       "      <th>3</th>\n",
       "      <td>1000</td>\n",
       "      <td>8</td>\n",
       "      <td>408</td>\n",
       "      <td>52</td>\n",
       "      <td>ultra</td>\n",
       "      <td>Краснодар</td>\n",
       "    </tr>\n",
       "    <tr>\n",
       "      <th>4</th>\n",
       "      <td>1000</td>\n",
       "      <td>9</td>\n",
       "      <td>466</td>\n",
       "      <td>58</td>\n",
       "      <td>ultra</td>\n",
       "      <td>Краснодар</td>\n",
       "    </tr>\n",
       "  </tbody>\n",
       "</table>\n",
       "</div>"
      ],
      "text/plain": [
       "   user_id  month  sum_minut  count_calls tariff       city\n",
       "0     1000      5        159           22  ultra  Краснодар\n",
       "1     1000      6        172           43  ultra  Краснодар\n",
       "2     1000      7        340           47  ultra  Краснодар\n",
       "3     1000      8        408           52  ultra  Краснодар\n",
       "4     1000      9        466           58  ultra  Краснодар"
      ]
     },
     "execution_count": 22,
     "metadata": {},
     "output_type": "execute_result"
    }
   ],
   "source": [
    "calls_pivot.head()"
   ]
  },
  {
   "cell_type": "markdown",
   "metadata": {},
   "source": [
    "### Посчитаем количество отправленных сообщений по месяцам  для каждого пользователя"
   ]
  },
  {
   "cell_type": "code",
   "execution_count": 23,
   "metadata": {},
   "outputs": [
    {
     "data": {
      "text/html": [
       "<div>\n",
       "<style scoped>\n",
       "    .dataframe tbody tr th:only-of-type {\n",
       "        vertical-align: middle;\n",
       "    }\n",
       "\n",
       "    .dataframe tbody tr th {\n",
       "        vertical-align: top;\n",
       "    }\n",
       "\n",
       "    .dataframe thead th {\n",
       "        text-align: right;\n",
       "    }\n",
       "</style>\n",
       "<table border=\"1\" class=\"dataframe\">\n",
       "  <thead>\n",
       "    <tr style=\"text-align: right;\">\n",
       "      <th></th>\n",
       "      <th>id</th>\n",
       "      <th>message_date</th>\n",
       "      <th>user_id</th>\n",
       "      <th>month</th>\n",
       "    </tr>\n",
       "  </thead>\n",
       "  <tbody>\n",
       "    <tr>\n",
       "      <th>0</th>\n",
       "      <td>1000_0</td>\n",
       "      <td>2018-06-27</td>\n",
       "      <td>1000</td>\n",
       "      <td>6</td>\n",
       "    </tr>\n",
       "    <tr>\n",
       "      <th>1</th>\n",
       "      <td>1000_1</td>\n",
       "      <td>2018-10-08</td>\n",
       "      <td>1000</td>\n",
       "      <td>10</td>\n",
       "    </tr>\n",
       "    <tr>\n",
       "      <th>2</th>\n",
       "      <td>1000_2</td>\n",
       "      <td>2018-08-04</td>\n",
       "      <td>1000</td>\n",
       "      <td>8</td>\n",
       "    </tr>\n",
       "    <tr>\n",
       "      <th>3</th>\n",
       "      <td>1000_3</td>\n",
       "      <td>2018-06-16</td>\n",
       "      <td>1000</td>\n",
       "      <td>6</td>\n",
       "    </tr>\n",
       "    <tr>\n",
       "      <th>4</th>\n",
       "      <td>1000_4</td>\n",
       "      <td>2018-12-05</td>\n",
       "      <td>1000</td>\n",
       "      <td>12</td>\n",
       "    </tr>\n",
       "  </tbody>\n",
       "</table>\n",
       "</div>"
      ],
      "text/plain": [
       "       id message_date  user_id  month\n",
       "0  1000_0   2018-06-27     1000      6\n",
       "1  1000_1   2018-10-08     1000     10\n",
       "2  1000_2   2018-08-04     1000      8\n",
       "3  1000_3   2018-06-16     1000      6\n",
       "4  1000_4   2018-12-05     1000     12"
      ]
     },
     "execution_count": 23,
     "metadata": {},
     "output_type": "execute_result"
    }
   ],
   "source": [
    "df_messages['month'] = pd.DatetimeIndex(df_messages['message_date']).month\n",
    "df_messages.head()"
   ]
  },
  {
   "cell_type": "code",
   "execution_count": 24,
   "metadata": {},
   "outputs": [],
   "source": [
    "messages_pivot = df_messages.pivot_table(index=['user_id', 'month'], values='id', aggfunc='count').reset_index()"
   ]
  },
  {
   "cell_type": "code",
   "execution_count": 25,
   "metadata": {},
   "outputs": [],
   "source": [
    "messages_pivot = messages_pivot.merge(df_users[['tariff', 'city', 'user_id']], on='user_id')"
   ]
  },
  {
   "cell_type": "code",
   "execution_count": 26,
   "metadata": {},
   "outputs": [],
   "source": [
    "messages_pivot = messages_pivot.rename(columns={'id' : 'count_sms'})"
   ]
  },
  {
   "cell_type": "code",
   "execution_count": 27,
   "metadata": {},
   "outputs": [
    {
     "data": {
      "text/html": [
       "<div>\n",
       "<style scoped>\n",
       "    .dataframe tbody tr th:only-of-type {\n",
       "        vertical-align: middle;\n",
       "    }\n",
       "\n",
       "    .dataframe tbody tr th {\n",
       "        vertical-align: top;\n",
       "    }\n",
       "\n",
       "    .dataframe thead th {\n",
       "        text-align: right;\n",
       "    }\n",
       "</style>\n",
       "<table border=\"1\" class=\"dataframe\">\n",
       "  <thead>\n",
       "    <tr style=\"text-align: right;\">\n",
       "      <th></th>\n",
       "      <th>user_id</th>\n",
       "      <th>month</th>\n",
       "      <th>count_sms</th>\n",
       "      <th>tariff</th>\n",
       "      <th>city</th>\n",
       "    </tr>\n",
       "  </thead>\n",
       "  <tbody>\n",
       "    <tr>\n",
       "      <th>0</th>\n",
       "      <td>1000</td>\n",
       "      <td>5</td>\n",
       "      <td>22</td>\n",
       "      <td>ultra</td>\n",
       "      <td>Краснодар</td>\n",
       "    </tr>\n",
       "    <tr>\n",
       "      <th>1</th>\n",
       "      <td>1000</td>\n",
       "      <td>6</td>\n",
       "      <td>60</td>\n",
       "      <td>ultra</td>\n",
       "      <td>Краснодар</td>\n",
       "    </tr>\n",
       "    <tr>\n",
       "      <th>2</th>\n",
       "      <td>1000</td>\n",
       "      <td>7</td>\n",
       "      <td>75</td>\n",
       "      <td>ultra</td>\n",
       "      <td>Краснодар</td>\n",
       "    </tr>\n",
       "    <tr>\n",
       "      <th>3</th>\n",
       "      <td>1000</td>\n",
       "      <td>8</td>\n",
       "      <td>81</td>\n",
       "      <td>ultra</td>\n",
       "      <td>Краснодар</td>\n",
       "    </tr>\n",
       "    <tr>\n",
       "      <th>4</th>\n",
       "      <td>1000</td>\n",
       "      <td>9</td>\n",
       "      <td>57</td>\n",
       "      <td>ultra</td>\n",
       "      <td>Краснодар</td>\n",
       "    </tr>\n",
       "  </tbody>\n",
       "</table>\n",
       "</div>"
      ],
      "text/plain": [
       "   user_id  month  count_sms tariff       city\n",
       "0     1000      5         22  ultra  Краснодар\n",
       "1     1000      6         60  ultra  Краснодар\n",
       "2     1000      7         75  ultra  Краснодар\n",
       "3     1000      8         81  ultra  Краснодар\n",
       "4     1000      9         57  ultra  Краснодар"
      ]
     },
     "execution_count": 27,
     "metadata": {},
     "output_type": "execute_result"
    }
   ],
   "source": [
    "messages_pivot.head()"
   ]
  },
  {
   "cell_type": "markdown",
   "metadata": {},
   "source": [
    "### Посчитаем объем израсходованного интернет-трафика по месяцам для каждого пользователя"
   ]
  },
  {
   "cell_type": "code",
   "execution_count": 28,
   "metadata": {},
   "outputs": [
    {
     "data": {
      "text/html": [
       "<div>\n",
       "<style scoped>\n",
       "    .dataframe tbody tr th:only-of-type {\n",
       "        vertical-align: middle;\n",
       "    }\n",
       "\n",
       "    .dataframe tbody tr th {\n",
       "        vertical-align: top;\n",
       "    }\n",
       "\n",
       "    .dataframe thead th {\n",
       "        text-align: right;\n",
       "    }\n",
       "</style>\n",
       "<table border=\"1\" class=\"dataframe\">\n",
       "  <thead>\n",
       "    <tr style=\"text-align: right;\">\n",
       "      <th></th>\n",
       "      <th>id</th>\n",
       "      <th>mb_used</th>\n",
       "      <th>session_date</th>\n",
       "      <th>user_id</th>\n",
       "      <th>month</th>\n",
       "    </tr>\n",
       "  </thead>\n",
       "  <tbody>\n",
       "    <tr>\n",
       "      <th>0</th>\n",
       "      <td>1000_0</td>\n",
       "      <td>112.95</td>\n",
       "      <td>2018-11-25</td>\n",
       "      <td>1000</td>\n",
       "      <td>11</td>\n",
       "    </tr>\n",
       "    <tr>\n",
       "      <th>1</th>\n",
       "      <td>1000_1</td>\n",
       "      <td>1052.81</td>\n",
       "      <td>2018-09-07</td>\n",
       "      <td>1000</td>\n",
       "      <td>9</td>\n",
       "    </tr>\n",
       "    <tr>\n",
       "      <th>2</th>\n",
       "      <td>1000_2</td>\n",
       "      <td>1197.26</td>\n",
       "      <td>2018-06-25</td>\n",
       "      <td>1000</td>\n",
       "      <td>6</td>\n",
       "    </tr>\n",
       "    <tr>\n",
       "      <th>3</th>\n",
       "      <td>1000_3</td>\n",
       "      <td>550.27</td>\n",
       "      <td>2018-08-22</td>\n",
       "      <td>1000</td>\n",
       "      <td>8</td>\n",
       "    </tr>\n",
       "    <tr>\n",
       "      <th>4</th>\n",
       "      <td>1000_4</td>\n",
       "      <td>302.56</td>\n",
       "      <td>2018-09-24</td>\n",
       "      <td>1000</td>\n",
       "      <td>9</td>\n",
       "    </tr>\n",
       "  </tbody>\n",
       "</table>\n",
       "</div>"
      ],
      "text/plain": [
       "       id  mb_used session_date  user_id  month\n",
       "0  1000_0   112.95   2018-11-25     1000     11\n",
       "1  1000_1  1052.81   2018-09-07     1000      9\n",
       "2  1000_2  1197.26   2018-06-25     1000      6\n",
       "3  1000_3   550.27   2018-08-22     1000      8\n",
       "4  1000_4   302.56   2018-09-24     1000      9"
      ]
     },
     "execution_count": 28,
     "metadata": {},
     "output_type": "execute_result"
    }
   ],
   "source": [
    "df_internet['month'] = pd.DatetimeIndex(df_internet['session_date']).month\n",
    "df_internet.head()"
   ]
  },
  {
   "cell_type": "code",
   "execution_count": 29,
   "metadata": {},
   "outputs": [],
   "source": [
    "internet_pivot = df_internet.pivot_table(index=['user_id', 'month'], values='mb_used', aggfunc='sum').reset_index()"
   ]
  },
  {
   "cell_type": "code",
   "execution_count": 30,
   "metadata": {},
   "outputs": [],
   "source": [
    "internet_pivot = internet_pivot.merge(df_users[['tariff', 'city', 'user_id']], on='user_id')"
   ]
  },
  {
   "cell_type": "code",
   "execution_count": 31,
   "metadata": {},
   "outputs": [],
   "source": [
    "internet_pivot['gb_used'] = internet_pivot['mb_used']/1024"
   ]
  },
  {
   "cell_type": "markdown",
   "metadata": {},
   "source": [
    "Округлим веб-трафик так, как того требует тарифный план: \"Если абонент использует 1025 мегабайт в этом месяце, с него возьмут плату за 2 гигабайта.\" "
   ]
  },
  {
   "cell_type": "code",
   "execution_count": 32,
   "metadata": {},
   "outputs": [],
   "source": [
    "internet_pivot['gb_used'] = internet_pivot['gb_used'].apply(math.ceil)"
   ]
  },
  {
   "cell_type": "code",
   "execution_count": 33,
   "metadata": {},
   "outputs": [
    {
     "data": {
      "text/html": [
       "<div>\n",
       "<style scoped>\n",
       "    .dataframe tbody tr th:only-of-type {\n",
       "        vertical-align: middle;\n",
       "    }\n",
       "\n",
       "    .dataframe tbody tr th {\n",
       "        vertical-align: top;\n",
       "    }\n",
       "\n",
       "    .dataframe thead th {\n",
       "        text-align: right;\n",
       "    }\n",
       "</style>\n",
       "<table border=\"1\" class=\"dataframe\">\n",
       "  <thead>\n",
       "    <tr style=\"text-align: right;\">\n",
       "      <th></th>\n",
       "      <th>user_id</th>\n",
       "      <th>month</th>\n",
       "      <th>mb_used</th>\n",
       "      <th>tariff</th>\n",
       "      <th>city</th>\n",
       "      <th>gb_used</th>\n",
       "    </tr>\n",
       "  </thead>\n",
       "  <tbody>\n",
       "    <tr>\n",
       "      <th>0</th>\n",
       "      <td>1000</td>\n",
       "      <td>5</td>\n",
       "      <td>2253.49</td>\n",
       "      <td>ultra</td>\n",
       "      <td>Краснодар</td>\n",
       "      <td>3</td>\n",
       "    </tr>\n",
       "    <tr>\n",
       "      <th>1</th>\n",
       "      <td>1000</td>\n",
       "      <td>6</td>\n",
       "      <td>23233.77</td>\n",
       "      <td>ultra</td>\n",
       "      <td>Краснодар</td>\n",
       "      <td>23</td>\n",
       "    </tr>\n",
       "    <tr>\n",
       "      <th>2</th>\n",
       "      <td>1000</td>\n",
       "      <td>7</td>\n",
       "      <td>14003.64</td>\n",
       "      <td>ultra</td>\n",
       "      <td>Краснодар</td>\n",
       "      <td>14</td>\n",
       "    </tr>\n",
       "    <tr>\n",
       "      <th>3</th>\n",
       "      <td>1000</td>\n",
       "      <td>8</td>\n",
       "      <td>14055.93</td>\n",
       "      <td>ultra</td>\n",
       "      <td>Краснодар</td>\n",
       "      <td>14</td>\n",
       "    </tr>\n",
       "    <tr>\n",
       "      <th>4</th>\n",
       "      <td>1000</td>\n",
       "      <td>9</td>\n",
       "      <td>14568.91</td>\n",
       "      <td>ultra</td>\n",
       "      <td>Краснодар</td>\n",
       "      <td>15</td>\n",
       "    </tr>\n",
       "  </tbody>\n",
       "</table>\n",
       "</div>"
      ],
      "text/plain": [
       "   user_id  month   mb_used tariff       city  gb_used\n",
       "0     1000      5   2253.49  ultra  Краснодар        3\n",
       "1     1000      6  23233.77  ultra  Краснодар       23\n",
       "2     1000      7  14003.64  ultra  Краснодар       14\n",
       "3     1000      8  14055.93  ultra  Краснодар       14\n",
       "4     1000      9  14568.91  ultra  Краснодар       15"
      ]
     },
     "execution_count": 33,
     "metadata": {},
     "output_type": "execute_result"
    }
   ],
   "source": [
    "internet_pivot.head()  "
   ]
  },
  {
   "cell_type": "markdown",
   "metadata": {},
   "source": [
    "### Посчитаем помесячную выручку с каждого пользователя"
   ]
  },
  {
   "cell_type": "code",
   "execution_count": 34,
   "metadata": {},
   "outputs": [],
   "source": [
    "general_df = internet_pivot.merge(calls_pivot[['sum_minut', 'count_calls', 'user_id', 'month', 'tariff']], how='outer',  on=['user_id', 'month', 'tariff'])"
   ]
  },
  {
   "cell_type": "code",
   "execution_count": 35,
   "metadata": {},
   "outputs": [],
   "source": [
    "general_df = general_df.merge(messages_pivot[['count_sms', 'user_id', 'month', 'tariff']], how='outer', on=['user_id', 'month', 'tariff'])"
   ]
  },
  {
   "cell_type": "code",
   "execution_count": 36,
   "metadata": {},
   "outputs": [
    {
     "data": {
      "text/plain": [
       "498"
      ]
     },
     "execution_count": 36,
     "metadata": {},
     "output_type": "execute_result"
    }
   ],
   "source": [
    "len(general_df['user_id'].unique())"
   ]
  },
  {
   "cell_type": "code",
   "execution_count": 37,
   "metadata": {},
   "outputs": [
    {
     "data": {
      "text/html": [
       "<div>\n",
       "<style scoped>\n",
       "    .dataframe tbody tr th:only-of-type {\n",
       "        vertical-align: middle;\n",
       "    }\n",
       "\n",
       "    .dataframe tbody tr th {\n",
       "        vertical-align: top;\n",
       "    }\n",
       "\n",
       "    .dataframe thead th {\n",
       "        text-align: right;\n",
       "    }\n",
       "</style>\n",
       "<table border=\"1\" class=\"dataframe\">\n",
       "  <thead>\n",
       "    <tr style=\"text-align: right;\">\n",
       "      <th></th>\n",
       "      <th>user_id</th>\n",
       "      <th>month</th>\n",
       "      <th>mb_used</th>\n",
       "      <th>tariff</th>\n",
       "      <th>city</th>\n",
       "      <th>gb_used</th>\n",
       "      <th>sum_minut</th>\n",
       "      <th>count_calls</th>\n",
       "      <th>count_sms</th>\n",
       "    </tr>\n",
       "  </thead>\n",
       "  <tbody>\n",
       "    <tr>\n",
       "      <th>0</th>\n",
       "      <td>1000</td>\n",
       "      <td>5</td>\n",
       "      <td>2253.49</td>\n",
       "      <td>ultra</td>\n",
       "      <td>Краснодар</td>\n",
       "      <td>3.0</td>\n",
       "      <td>159.0</td>\n",
       "      <td>22.0</td>\n",
       "      <td>22.0</td>\n",
       "    </tr>\n",
       "    <tr>\n",
       "      <th>1</th>\n",
       "      <td>1000</td>\n",
       "      <td>6</td>\n",
       "      <td>23233.77</td>\n",
       "      <td>ultra</td>\n",
       "      <td>Краснодар</td>\n",
       "      <td>23.0</td>\n",
       "      <td>172.0</td>\n",
       "      <td>43.0</td>\n",
       "      <td>60.0</td>\n",
       "    </tr>\n",
       "    <tr>\n",
       "      <th>2</th>\n",
       "      <td>1000</td>\n",
       "      <td>7</td>\n",
       "      <td>14003.64</td>\n",
       "      <td>ultra</td>\n",
       "      <td>Краснодар</td>\n",
       "      <td>14.0</td>\n",
       "      <td>340.0</td>\n",
       "      <td>47.0</td>\n",
       "      <td>75.0</td>\n",
       "    </tr>\n",
       "    <tr>\n",
       "      <th>3</th>\n",
       "      <td>1000</td>\n",
       "      <td>8</td>\n",
       "      <td>14055.93</td>\n",
       "      <td>ultra</td>\n",
       "      <td>Краснодар</td>\n",
       "      <td>14.0</td>\n",
       "      <td>408.0</td>\n",
       "      <td>52.0</td>\n",
       "      <td>81.0</td>\n",
       "    </tr>\n",
       "    <tr>\n",
       "      <th>4</th>\n",
       "      <td>1000</td>\n",
       "      <td>9</td>\n",
       "      <td>14568.91</td>\n",
       "      <td>ultra</td>\n",
       "      <td>Краснодар</td>\n",
       "      <td>15.0</td>\n",
       "      <td>466.0</td>\n",
       "      <td>58.0</td>\n",
       "      <td>57.0</td>\n",
       "    </tr>\n",
       "  </tbody>\n",
       "</table>\n",
       "</div>"
      ],
      "text/plain": [
       "   user_id  month   mb_used tariff       city  gb_used  sum_minut  \\\n",
       "0     1000      5   2253.49  ultra  Краснодар      3.0      159.0   \n",
       "1     1000      6  23233.77  ultra  Краснодар     23.0      172.0   \n",
       "2     1000      7  14003.64  ultra  Краснодар     14.0      340.0   \n",
       "3     1000      8  14055.93  ultra  Краснодар     14.0      408.0   \n",
       "4     1000      9  14568.91  ultra  Краснодар     15.0      466.0   \n",
       "\n",
       "   count_calls  count_sms  \n",
       "0         22.0       22.0  \n",
       "1         43.0       60.0  \n",
       "2         47.0       75.0  \n",
       "3         52.0       81.0  \n",
       "4         58.0       57.0  "
      ]
     },
     "execution_count": 37,
     "metadata": {},
     "output_type": "execute_result"
    }
   ],
   "source": [
    "general_df.head()"
   ]
  },
  {
   "cell_type": "code",
   "execution_count": 38,
   "metadata": {},
   "outputs": [],
   "source": [
    "general_df['minut'] = general_df['sum_minut']\n",
    "general_df['sms'] = general_df['count_sms']\n",
    "general_df['gb'] = general_df['gb_used']"
   ]
  },
  {
   "cell_type": "markdown",
   "metadata": {},
   "source": [
    "Вычтем бесплатный лимит из суммарного количества звонков, сообщений и интернет-трафика. Остаток умножим на значение из тарифного плана и прибавим абонентскую плату, соответствующую тарифному плану."
   ]
  },
  {
   "cell_type": "code",
   "execution_count": 39,
   "metadata": {},
   "outputs": [],
   "source": [
    "general_df.loc[general_df['tariff'] == 'smart', 'minut'] = (general_df['minut'] - 500) * 3\n",
    "general_df.loc[general_df['tariff'] == 'smart', 'sms'] = (general_df['sms'] - 50) * 3\n",
    "general_df.loc[general_df['tariff'] == 'smart', 'gb'] = (general_df['gb'] - 15) * 200\n",
    "\n",
    "general_df.loc[general_df['tariff'] == 'ultra', 'minut'] = (general_df['minut'] - 3000) * 1 \n",
    "general_df.loc[general_df['tariff'] == 'ultra', 'sms'] = (general_df['sms'] - 1000) * 1\n",
    "general_df.loc[general_df['tariff'] == 'ultra', 'gb'] = (general_df['gb'] - 30) * 150 "
   ]
  },
  {
   "cell_type": "code",
   "execution_count": 40,
   "metadata": {},
   "outputs": [],
   "source": [
    "general_df[['minut', 'sms', 'gb']] = general_df[['minut', 'sms', 'gb']].where(general_df[['minut', 'sms', 'gb']] >= 0, 0)"
   ]
  },
  {
   "cell_type": "code",
   "execution_count": 41,
   "metadata": {},
   "outputs": [],
   "source": [
    "general_df['profit'] = general_df['gb'] + general_df['minut'] + general_df['sms']"
   ]
  },
  {
   "cell_type": "code",
   "execution_count": 42,
   "metadata": {},
   "outputs": [],
   "source": [
    "general_df.loc[general_df['tariff'] == 'smart', 'profit'] = general_df['profit'] + 550 \n",
    "general_df.loc[general_df['tariff'] == 'ultra', 'profit'] = general_df['profit'] + 1950"
   ]
  },
  {
   "cell_type": "code",
   "execution_count": 43,
   "metadata": {},
   "outputs": [],
   "source": [
    "general_df = general_df.drop(columns=['sms', 'minut', 'gb', 'mb_used'])  "
   ]
  },
  {
   "cell_type": "code",
   "execution_count": 44,
   "metadata": {},
   "outputs": [
    {
     "data": {
      "text/html": [
       "<div>\n",
       "<style scoped>\n",
       "    .dataframe tbody tr th:only-of-type {\n",
       "        vertical-align: middle;\n",
       "    }\n",
       "\n",
       "    .dataframe tbody tr th {\n",
       "        vertical-align: top;\n",
       "    }\n",
       "\n",
       "    .dataframe thead th {\n",
       "        text-align: right;\n",
       "    }\n",
       "</style>\n",
       "<table border=\"1\" class=\"dataframe\">\n",
       "  <thead>\n",
       "    <tr style=\"text-align: right;\">\n",
       "      <th></th>\n",
       "      <th>user_id</th>\n",
       "      <th>month</th>\n",
       "      <th>tariff</th>\n",
       "      <th>city</th>\n",
       "      <th>gb_used</th>\n",
       "      <th>sum_minut</th>\n",
       "      <th>count_calls</th>\n",
       "      <th>count_sms</th>\n",
       "      <th>profit</th>\n",
       "    </tr>\n",
       "  </thead>\n",
       "  <tbody>\n",
       "    <tr>\n",
       "      <th>0</th>\n",
       "      <td>1000</td>\n",
       "      <td>5</td>\n",
       "      <td>ultra</td>\n",
       "      <td>Краснодар</td>\n",
       "      <td>3.0</td>\n",
       "      <td>159.0</td>\n",
       "      <td>22.0</td>\n",
       "      <td>22.0</td>\n",
       "      <td>1950.0</td>\n",
       "    </tr>\n",
       "    <tr>\n",
       "      <th>1</th>\n",
       "      <td>1000</td>\n",
       "      <td>6</td>\n",
       "      <td>ultra</td>\n",
       "      <td>Краснодар</td>\n",
       "      <td>23.0</td>\n",
       "      <td>172.0</td>\n",
       "      <td>43.0</td>\n",
       "      <td>60.0</td>\n",
       "      <td>1950.0</td>\n",
       "    </tr>\n",
       "    <tr>\n",
       "      <th>2</th>\n",
       "      <td>1000</td>\n",
       "      <td>7</td>\n",
       "      <td>ultra</td>\n",
       "      <td>Краснодар</td>\n",
       "      <td>14.0</td>\n",
       "      <td>340.0</td>\n",
       "      <td>47.0</td>\n",
       "      <td>75.0</td>\n",
       "      <td>1950.0</td>\n",
       "    </tr>\n",
       "    <tr>\n",
       "      <th>3</th>\n",
       "      <td>1000</td>\n",
       "      <td>8</td>\n",
       "      <td>ultra</td>\n",
       "      <td>Краснодар</td>\n",
       "      <td>14.0</td>\n",
       "      <td>408.0</td>\n",
       "      <td>52.0</td>\n",
       "      <td>81.0</td>\n",
       "      <td>1950.0</td>\n",
       "    </tr>\n",
       "    <tr>\n",
       "      <th>4</th>\n",
       "      <td>1000</td>\n",
       "      <td>9</td>\n",
       "      <td>ultra</td>\n",
       "      <td>Краснодар</td>\n",
       "      <td>15.0</td>\n",
       "      <td>466.0</td>\n",
       "      <td>58.0</td>\n",
       "      <td>57.0</td>\n",
       "      <td>1950.0</td>\n",
       "    </tr>\n",
       "  </tbody>\n",
       "</table>\n",
       "</div>"
      ],
      "text/plain": [
       "   user_id  month tariff       city  gb_used  sum_minut  count_calls  \\\n",
       "0     1000      5  ultra  Краснодар      3.0      159.0         22.0   \n",
       "1     1000      6  ultra  Краснодар     23.0      172.0         43.0   \n",
       "2     1000      7  ultra  Краснодар     14.0      340.0         47.0   \n",
       "3     1000      8  ultra  Краснодар     14.0      408.0         52.0   \n",
       "4     1000      9  ultra  Краснодар     15.0      466.0         58.0   \n",
       "\n",
       "   count_sms  profit  \n",
       "0       22.0  1950.0  \n",
       "1       60.0  1950.0  \n",
       "2       75.0  1950.0  \n",
       "3       81.0  1950.0  \n",
       "4       57.0  1950.0  "
      ]
     },
     "execution_count": 44,
     "metadata": {},
     "output_type": "execute_result"
    }
   ],
   "source": [
    "general_df.head()"
   ]
  },
  {
   "cell_type": "markdown",
   "metadata": {},
   "source": [
    "## Анализ данных"
   ]
  },
  {
   "cell_type": "markdown",
   "metadata": {},
   "source": [
    "Изучим, сколько минут разговора, сообщений и какой объём интернет-трафика требуется пользователям каждого тарифа в месяц."
   ]
  },
  {
   "cell_type": "code",
   "execution_count": 45,
   "metadata": {},
   "outputs": [],
   "source": [
    "general_smart = general_df.query('tariff == \"smart\"')\n",
    "general_ultra = general_df.query('tariff == \"ultra\"')"
   ]
  },
  {
   "cell_type": "code",
   "execution_count": 46,
   "metadata": {
    "scrolled": true
   },
   "outputs": [
    {
     "data": {
      "text/html": [
       "<div>\n",
       "<style scoped>\n",
       "    .dataframe tbody tr th:only-of-type {\n",
       "        vertical-align: middle;\n",
       "    }\n",
       "\n",
       "    .dataframe tbody tr th {\n",
       "        vertical-align: top;\n",
       "    }\n",
       "\n",
       "    .dataframe thead th {\n",
       "        text-align: right;\n",
       "    }\n",
       "</style>\n",
       "<table border=\"1\" class=\"dataframe\">\n",
       "  <thead>\n",
       "    <tr style=\"text-align: right;\">\n",
       "      <th></th>\n",
       "      <th>user_id</th>\n",
       "      <th>month</th>\n",
       "      <th>tariff</th>\n",
       "      <th>city</th>\n",
       "      <th>gb_used</th>\n",
       "      <th>sum_minut</th>\n",
       "      <th>count_calls</th>\n",
       "      <th>count_sms</th>\n",
       "      <th>profit</th>\n",
       "    </tr>\n",
       "  </thead>\n",
       "  <tbody>\n",
       "    <tr>\n",
       "      <th>8</th>\n",
       "      <td>1001</td>\n",
       "      <td>11</td>\n",
       "      <td>smart</td>\n",
       "      <td>Москва</td>\n",
       "      <td>18.0</td>\n",
       "      <td>430.0</td>\n",
       "      <td>59.0</td>\n",
       "      <td>NaN</td>\n",
       "      <td>1150.0</td>\n",
       "    </tr>\n",
       "    <tr>\n",
       "      <th>9</th>\n",
       "      <td>1001</td>\n",
       "      <td>12</td>\n",
       "      <td>smart</td>\n",
       "      <td>Москва</td>\n",
       "      <td>14.0</td>\n",
       "      <td>414.0</td>\n",
       "      <td>63.0</td>\n",
       "      <td>NaN</td>\n",
       "      <td>550.0</td>\n",
       "    </tr>\n",
       "    <tr>\n",
       "      <th>10</th>\n",
       "      <td>1002</td>\n",
       "      <td>6</td>\n",
       "      <td>smart</td>\n",
       "      <td>Стерлитамак</td>\n",
       "      <td>11.0</td>\n",
       "      <td>117.0</td>\n",
       "      <td>15.0</td>\n",
       "      <td>4.0</td>\n",
       "      <td>550.0</td>\n",
       "    </tr>\n",
       "  </tbody>\n",
       "</table>\n",
       "</div>"
      ],
      "text/plain": [
       "    user_id  month tariff         city  gb_used  sum_minut  count_calls  \\\n",
       "8      1001     11  smart       Москва     18.0      430.0         59.0   \n",
       "9      1001     12  smart       Москва     14.0      414.0         63.0   \n",
       "10     1002      6  smart  Стерлитамак     11.0      117.0         15.0   \n",
       "\n",
       "    count_sms  profit  \n",
       "8         NaN  1150.0  \n",
       "9         NaN   550.0  \n",
       "10        4.0   550.0  "
      ]
     },
     "execution_count": 46,
     "metadata": {},
     "output_type": "execute_result"
    }
   ],
   "source": [
    "general_smart.head(3)"
   ]
  },
  {
   "cell_type": "code",
   "execution_count": 47,
   "metadata": {},
   "outputs": [
    {
     "data": {
      "text/html": [
       "<div>\n",
       "<style scoped>\n",
       "    .dataframe tbody tr th:only-of-type {\n",
       "        vertical-align: middle;\n",
       "    }\n",
       "\n",
       "    .dataframe tbody tr th {\n",
       "        vertical-align: top;\n",
       "    }\n",
       "\n",
       "    .dataframe thead th {\n",
       "        text-align: right;\n",
       "    }\n",
       "</style>\n",
       "<table border=\"1\" class=\"dataframe\">\n",
       "  <thead>\n",
       "    <tr style=\"text-align: right;\">\n",
       "      <th></th>\n",
       "      <th>user_id</th>\n",
       "      <th>month</th>\n",
       "      <th>tariff</th>\n",
       "      <th>city</th>\n",
       "      <th>gb_used</th>\n",
       "      <th>sum_minut</th>\n",
       "      <th>count_calls</th>\n",
       "      <th>count_sms</th>\n",
       "      <th>profit</th>\n",
       "    </tr>\n",
       "  </thead>\n",
       "  <tbody>\n",
       "    <tr>\n",
       "      <th>0</th>\n",
       "      <td>1000</td>\n",
       "      <td>5</td>\n",
       "      <td>ultra</td>\n",
       "      <td>Краснодар</td>\n",
       "      <td>3.0</td>\n",
       "      <td>159.0</td>\n",
       "      <td>22.0</td>\n",
       "      <td>22.0</td>\n",
       "      <td>1950.0</td>\n",
       "    </tr>\n",
       "    <tr>\n",
       "      <th>1</th>\n",
       "      <td>1000</td>\n",
       "      <td>6</td>\n",
       "      <td>ultra</td>\n",
       "      <td>Краснодар</td>\n",
       "      <td>23.0</td>\n",
       "      <td>172.0</td>\n",
       "      <td>43.0</td>\n",
       "      <td>60.0</td>\n",
       "      <td>1950.0</td>\n",
       "    </tr>\n",
       "    <tr>\n",
       "      <th>2</th>\n",
       "      <td>1000</td>\n",
       "      <td>7</td>\n",
       "      <td>ultra</td>\n",
       "      <td>Краснодар</td>\n",
       "      <td>14.0</td>\n",
       "      <td>340.0</td>\n",
       "      <td>47.0</td>\n",
       "      <td>75.0</td>\n",
       "      <td>1950.0</td>\n",
       "    </tr>\n",
       "  </tbody>\n",
       "</table>\n",
       "</div>"
      ],
      "text/plain": [
       "   user_id  month tariff       city  gb_used  sum_minut  count_calls  \\\n",
       "0     1000      5  ultra  Краснодар      3.0      159.0         22.0   \n",
       "1     1000      6  ultra  Краснодар     23.0      172.0         43.0   \n",
       "2     1000      7  ultra  Краснодар     14.0      340.0         47.0   \n",
       "\n",
       "   count_sms  profit  \n",
       "0       22.0  1950.0  \n",
       "1       60.0  1950.0  \n",
       "2       75.0  1950.0  "
      ]
     },
     "execution_count": 47,
     "metadata": {},
     "output_type": "execute_result"
    }
   ],
   "source": [
    "general_ultra.head(3)"
   ]
  },
  {
   "cell_type": "code",
   "execution_count": 48,
   "metadata": {},
   "outputs": [
    {
     "data": {
      "text/plain": [
       "350"
      ]
     },
     "execution_count": 48,
     "metadata": {},
     "output_type": "execute_result"
    }
   ],
   "source": [
    "len(general_smart['user_id'].unique())"
   ]
  },
  {
   "cell_type": "code",
   "execution_count": 49,
   "metadata": {},
   "outputs": [
    {
     "data": {
      "text/plain": [
       "148"
      ]
     },
     "execution_count": 49,
     "metadata": {},
     "output_type": "execute_result"
    }
   ],
   "source": [
    "len(general_ultra['user_id'].unique())"
   ]
  },
  {
   "cell_type": "markdown",
   "metadata": {},
   "source": [
    "Судя по результатам расчета уникальных идентификаторов, у тарифа \"Смарт\" почти в 3 раза больше пользователей, чем у тарифа \"Ультра\". Вероятно, результаты дальнейшего исследования для тарифа \"Ультра\" будут не такими точными, как у тарифа \"Смарт\", что стоит учесть."
   ]
  },
  {
   "cell_type": "markdown",
   "metadata": {},
   "source": [
    "Проведем анализ столбца с числом сообщений:"
   ]
  },
  {
   "cell_type": "code",
   "execution_count": 50,
   "metadata": {},
   "outputs": [
    {
     "data": {
      "text/plain": [
       "717.5942011753547"
      ]
     },
     "execution_count": 50,
     "metadata": {},
     "output_type": "execute_result"
    }
   ],
   "source": [
    "np.var(general_smart['count_sms'], ddof=1) #дисперсия"
   ]
  },
  {
   "cell_type": "code",
   "execution_count": 51,
   "metadata": {},
   "outputs": [
    {
     "data": {
      "text/plain": [
       "count    1922.000000\n",
       "mean       38.716441\n",
       "std        26.787949\n",
       "min         1.000000\n",
       "25%        17.000000\n",
       "50%        34.000000\n",
       "75%        55.000000\n",
       "max       143.000000\n",
       "Name: count_sms, dtype: float64"
      ]
     },
     "execution_count": 51,
     "metadata": {},
     "output_type": "execute_result"
    },
    {
     "data": {
      "image/png": "[encoded data removed]",
      "text/plain": [
       "<Figure size 432x288 with 1 Axes>"
      ]
     },
     "metadata": {
      "needs_background": "light"
     },
     "output_type": "display_data"
    }
   ],
   "source": [
    "general_smart['count_sms'].plot(kind='hist')\n",
    "general_smart['count_sms'].describe()"
   ]
  },
  {
   "cell_type": "markdown",
   "metadata": {},
   "source": [
    "В основном, пользователями тарифа \"Смарт\" отправляется от 17 до 55 сообщений в месяц."
   ]
  },
  {
   "cell_type": "code",
   "execution_count": 52,
   "metadata": {},
   "outputs": [
    {
     "data": {
      "text/plain": [
       "2109.6591828651995"
      ]
     },
     "execution_count": 52,
     "metadata": {},
     "output_type": "execute_result"
    }
   ],
   "source": [
    "np.var(general_ultra['count_sms'], ddof=1)"
   ]
  },
  {
   "cell_type": "code",
   "execution_count": 53,
   "metadata": {},
   "outputs": [
    {
     "data": {
      "text/plain": [
       "count    795.000000\n",
       "mean      61.161006\n",
       "std       45.931026\n",
       "min        1.000000\n",
       "25%       24.000000\n",
       "50%       51.000000\n",
       "75%       87.500000\n",
       "max      224.000000\n",
       "Name: count_sms, dtype: float64"
      ]
     },
     "execution_count": 53,
     "metadata": {},
     "output_type": "execute_result"
    },
    {
     "data": {
      "image/png": "[encoded data removed]",
      "text/plain": [
       "<Figure size 432x288 with 1 Axes>"
      ]
     },
     "metadata": {
      "needs_background": "light"
     },
     "output_type": "display_data"
    }
   ],
   "source": [
    "general_ultra['count_sms'].plot(kind='hist')\n",
    "general_ultra['count_sms'].describe()"
   ]
  },
  {
   "cell_type": "markdown",
   "metadata": {},
   "source": [
    "Пользователи тарифа \"Ультра\" отправляют больше сообщений в месяц: от 24 до 88, чаще всего."
   ]
  },
  {
   "cell_type": "code",
   "execution_count": 54,
   "metadata": {},
   "outputs": [
    {
     "data": {
      "text/plain": [
       "<AxesSubplot:ylabel='Frequency'>"
      ]
     },
     "execution_count": 54,
     "metadata": {},
     "output_type": "execute_result"
    },
    {
     "data": {
      "image/png": "[encoded data removed]",
      "text/plain": [
       "<Figure size 432x288 with 1 Axes>"
      ]
     },
     "metadata": {
      "needs_background": "light"
     },
     "output_type": "display_data"
    }
   ],
   "source": [
    "general_ultra['count_sms'].plot(kind='hist', alpha = 0.5)\n",
    "general_smart['count_sms'].plot(kind='hist', alpha = 0.5)"
   ]
  },
  {
   "cell_type": "markdown",
   "metadata": {},
   "source": [
    "Проведем анализ столбцов с количеством и длительностью звонков:"
   ]
  },
  {
   "cell_type": "code",
   "execution_count": 55,
   "metadata": {},
   "outputs": [
    {
     "data": {
      "text/plain": [
       "35844.1895513438"
      ]
     },
     "execution_count": 55,
     "metadata": {},
     "output_type": "execute_result"
    }
   ],
   "source": [
    "np.var(general_smart['sum_minut'], ddof=1)"
   ]
  },
  {
   "cell_type": "code",
   "execution_count": 56,
   "metadata": {},
   "outputs": [
    {
     "data": {
      "text/plain": [
       "count    2223.000000\n",
       "mean       58.621233\n",
       "std        25.796101\n",
       "min         1.000000\n",
       "25%        40.000000\n",
       "50%        60.000000\n",
       "75%        76.000000\n",
       "max       198.000000\n",
       "Name: count_calls, dtype: float64"
      ]
     },
     "execution_count": 56,
     "metadata": {},
     "output_type": "execute_result"
    }
   ],
   "source": [
    "general_smart['count_calls'].describe()"
   ]
  },
  {
   "cell_type": "code",
   "execution_count": 57,
   "metadata": {},
   "outputs": [
    {
     "data": {
      "text/plain": [
       "count    2223.000000\n",
       "mean      419.062978\n",
       "std       189.325618\n",
       "min         0.000000\n",
       "25%       285.000000\n",
       "50%       423.000000\n",
       "75%       545.500000\n",
       "max      1435.000000\n",
       "Name: sum_minut, dtype: float64"
      ]
     },
     "execution_count": 57,
     "metadata": {},
     "output_type": "execute_result"
    },
    {
     "data": {
      "image/png": "[encoded data removed]",
      "text/plain": [
       "<Figure size 432x288 with 1 Axes>"
      ]
     },
     "metadata": {
      "needs_background": "light"
     },
     "output_type": "display_data"
    }
   ],
   "source": [
    "general_smart['sum_minut'].plot(kind='hist')\n",
    "general_smart['sum_minut'].describe()"
   ]
  },
  {
   "cell_type": "markdown",
   "metadata": {},
   "source": [
    "Пользователи тарифа \"Смарт\", в основном, расходуют от 285 до 545 минут в месяц, при количестве звонков от 40 до 76."
   ]
  },
  {
   "cell_type": "code",
   "execution_count": 58,
   "metadata": {},
   "outputs": [
    {
     "data": {
      "text/plain": [
       "94203.41839614809"
      ]
     },
     "execution_count": 58,
     "metadata": {},
     "output_type": "execute_result"
    }
   ],
   "source": [
    "np.var(general_ultra['sum_minut'], ddof=1)"
   ]
  },
  {
   "cell_type": "code",
   "execution_count": 59,
   "metadata": {},
   "outputs": [
    {
     "data": {
      "text/plain": [
       "count    951.000000\n",
       "mean      76.016824\n",
       "std       42.403348\n",
       "min        1.000000\n",
       "25%       43.000000\n",
       "50%       75.000000\n",
       "75%      105.000000\n",
       "max      244.000000\n",
       "Name: count_calls, dtype: float64"
      ]
     },
     "execution_count": 59,
     "metadata": {},
     "output_type": "execute_result"
    }
   ],
   "source": [
    "general_ultra['count_calls'].describe()"
   ]
  },
  {
   "cell_type": "code",
   "execution_count": 60,
   "metadata": {},
   "outputs": [
    {
     "data": {
      "text/plain": [
       "count     951.000000\n",
       "mean      545.451104\n",
       "std       306.925754\n",
       "min         0.000000\n",
       "25%       310.000000\n",
       "50%       528.000000\n",
       "75%       756.500000\n",
       "max      1673.000000\n",
       "Name: sum_minut, dtype: float64"
      ]
     },
     "execution_count": 60,
     "metadata": {},
     "output_type": "execute_result"
    },
    {
     "data": {
      "image/png": "[encoded data removed]",
      "text/plain": [
       "<Figure size 432x288 with 1 Axes>"
      ]
     },
     "metadata": {
      "needs_background": "light"
     },
     "output_type": "display_data"
    }
   ],
   "source": [
    "general_ultra['sum_minut'].plot(kind='hist')\n",
    "general_ultra['sum_minut'].describe()"
   ]
  },
  {
   "cell_type": "markdown",
   "metadata": {},
   "source": [
    "Пользователи тарифа \"Ультра\", в основном, расходуют от 310 до 756 минут в месяц, при количестве звонков от 43 до 105, что также больше, чем у пользователей тарифа \"Смарт\"."
   ]
  },
  {
   "cell_type": "markdown",
   "metadata": {},
   "source": [
    "Проведем анализ столбца с объемом интернет-трафика:"
   ]
  },
  {
   "cell_type": "code",
   "execution_count": 61,
   "metadata": {},
   "outputs": [
    {
     "data": {
      "text/plain": [
       "32.92375582354312"
      ]
     },
     "execution_count": 61,
     "metadata": {},
     "output_type": "execute_result"
    }
   ],
   "source": [
    "np.var(general_smart['gb_used'], ddof=1)"
   ]
  },
  {
   "cell_type": "code",
   "execution_count": 62,
   "metadata": {},
   "outputs": [
    {
     "data": {
      "text/plain": [
       "count    2228.000000\n",
       "mean       16.336176\n",
       "std         5.737923\n",
       "min         0.000000\n",
       "25%        13.000000\n",
       "50%        17.000000\n",
       "75%        20.000000\n",
       "max        38.000000\n",
       "Name: gb_used, dtype: float64"
      ]
     },
     "execution_count": 62,
     "metadata": {},
     "output_type": "execute_result"
    },
    {
     "data": {
      "image/png": "[encoded data removed]",
      "text/plain": [
       "<Figure size 432x288 with 1 Axes>"
      ]
     },
     "metadata": {
      "needs_background": "light"
     },
     "output_type": "display_data"
    }
   ],
   "source": [
    "general_smart['gb_used'].plot(kind='hist')\n",
    "general_smart['gb_used'].describe()"
   ]
  },
  {
   "cell_type": "markdown",
   "metadata": {},
   "source": [
    "Для тарифа \"Смарт\" наиболее частое количество использованного трафика в диапазоне от 13 гб до 20 гб в месяц."
   ]
  },
  {
   "cell_type": "code",
   "execution_count": 63,
   "metadata": {},
   "outputs": [
    {
     "data": {
      "text/plain": [
       "94.14673405991682"
      ]
     },
     "execution_count": 63,
     "metadata": {},
     "output_type": "execute_result"
    }
   ],
   "source": [
    "np.var(general_ultra['gb_used'], ddof=1)"
   ]
  },
  {
   "cell_type": "code",
   "execution_count": 64,
   "metadata": {},
   "outputs": [
    {
     "data": {
      "text/plain": [
       "count    975.000000\n",
       "mean      19.694359\n",
       "std        9.702924\n",
       "min        0.000000\n",
       "25%       12.000000\n",
       "50%       19.000000\n",
       "75%       27.000000\n",
       "max       49.000000\n",
       "Name: gb_used, dtype: float64"
      ]
     },
     "execution_count": 64,
     "metadata": {},
     "output_type": "execute_result"
    },
    {
     "data": {
      "image/png": "[encoded data removed]",
      "text/plain": [
       "<Figure size 432x288 with 1 Axes>"
      ]
     },
     "metadata": {
      "needs_background": "light"
     },
     "output_type": "display_data"
    }
   ],
   "source": [
    "general_ultra['gb_used'].plot(kind='hist')\n",
    "general_ultra['gb_used'].describe()"
   ]
  },
  {
   "cell_type": "markdown",
   "metadata": {},
   "source": [
    "Для тарифа \"Ультра\" наиболее частое количество использованного трафика немного больше: от 12 гб до 27 гб в месяц."
   ]
  },
  {
   "cell_type": "markdown",
   "metadata": {},
   "source": [
    "Проведем анализ столбца с выручкой:"
   ]
  },
  {
   "cell_type": "code",
   "execution_count": 65,
   "metadata": {},
   "outputs": [
    {
     "data": {
      "text/plain": [
       "count    2229.000000\n",
       "mean     1289.973531\n",
       "std       818.404367\n",
       "min       550.000000\n",
       "25%       550.000000\n",
       "50%      1023.000000\n",
       "75%      1750.000000\n",
       "max      6770.000000\n",
       "Name: profit, dtype: float64"
      ]
     },
     "execution_count": 65,
     "metadata": {},
     "output_type": "execute_result"
    },
    {
     "data": {
      "image/png": "[encoded data removed]",
      "text/plain": [
       "<Figure size 432x288 with 1 Axes>"
      ]
     },
     "metadata": {
      "needs_background": "light"
     },
     "output_type": "display_data"
    }
   ],
   "source": [
    "general_smart['profit'].plot(kind='hist')\n",
    "general_smart['profit'].describe()"
   ]
  },
  {
   "cell_type": "markdown",
   "metadata": {},
   "source": [
    "Для тарифа \"Смарт\", стоимость которого 550 рублей, наиболее частая выручка находится в диапазоне от 550 до 1750 руб. Медианное значение - 1023 руб., т.е., в основном, пользователям не хватает тарифного пакета."
   ]
  },
  {
   "cell_type": "code",
   "execution_count": 66,
   "metadata": {},
   "outputs": [
    {
     "data": {
      "text/plain": [
       "count     985.000000\n",
       "mean     2070.152284\n",
       "std       376.187114\n",
       "min      1950.000000\n",
       "25%      1950.000000\n",
       "50%      1950.000000\n",
       "75%      1950.000000\n",
       "max      4800.000000\n",
       "Name: profit, dtype: float64"
      ]
     },
     "execution_count": 66,
     "metadata": {},
     "output_type": "execute_result"
    },
    {
     "data": {
      "image/png": "[encoded data removed]",
      "text/plain": [
       "<Figure size 432x288 with 1 Axes>"
      ]
     },
     "metadata": {
      "needs_background": "light"
     },
     "output_type": "display_data"
    }
   ],
   "source": [
    "general_ultra['profit'].plot(kind='hist', bins=5)\n",
    "general_ultra['profit'].describe()"
   ]
  },
  {
   "cell_type": "markdown",
   "metadata": {},
   "source": [
    "Для тарифа \"Ультра\", наиболее частая выручка равна 1950 рублей, т.е. его стоимости, значит, пользователям обычно хватает объема тарифного пакета и они не переплачивают."
   ]
  },
  {
   "cell_type": "markdown",
   "metadata": {},
   "source": [
    "Исходя из анализа данных, можно заметить, что пользователям обоих тарифов обычно с большим запасом хватает объема бесплатного лимита на минуты и сообщения, а большинство переплат приходится на оплату дополнительного интернет-трафика."
   ]
  },
  {
   "cell_type": "markdown",
   "metadata": {},
   "source": [
    "## Проверка гипотез"
   ]
  },
  {
   "cell_type": "markdown",
   "metadata": {},
   "source": [
    "### Проверим гипотезу: средняя выручка пользователей тарифов «Ультра» и «Смарт» различаются"
   ]
  },
  {
   "cell_type": "markdown",
   "metadata": {},
   "source": [
    "Для сравнения двух выборок воспользуемся методом `ttest_ind`, который дает возможность сравнить средние значения массивов между собой.\n",
    "\n",
    "- Нулевая гипотеза - средние выручки пользователей тарифов «Ультра» и «Смарт» равны;\n",
    "- Альтернативная гипотеза - выручки не равны.\n",
    "\n",
    "Дисперсии выборок считаем неравными - ранее мы находили стандартные отклонения в выборках по выручке и выяснили, что их стандартные отклонения отличаются примерно в 2 раза, соответственно дисперсии вряд ли будут примерно равны."
   ]
  },
  {
   "cell_type": "code",
   "execution_count": 67,
   "metadata": {},
   "outputs": [],
   "source": [
    "alpha = 0.05 # критический уровень статистической значимости\n",
    "             # если p-value окажется меньше него - отвегнем гипотезу"
   ]
  },
  {
   "cell_type": "code",
   "execution_count": 68,
   "metadata": {},
   "outputs": [],
   "source": [
    "results_tariff = st.ttest_ind(general_ultra['profit'], general_smart['profit'], equal_var = False)"
   ]
  },
  {
   "cell_type": "code",
   "execution_count": 69,
   "metadata": {},
   "outputs": [
    {
     "data": {
      "text/plain": [
       "True"
      ]
     },
     "execution_count": 69,
     "metadata": {},
     "output_type": "execute_result"
    }
   ],
   "source": [
    "results_tariff.pvalue < alpha"
   ]
  },
  {
   "cell_type": "markdown",
   "metadata": {},
   "source": [
    "Так как p-value оказался меньше 0.05, мы отвергаем нулевую гипотезу."
   ]
  },
  {
   "cell_type": "markdown",
   "metadata": {},
   "source": [
    "### Проверим гипотезу: средняя выручка пользователей из Москвы отличается от выручки пользователей из других регионов"
   ]
  },
  {
   "cell_type": "markdown",
   "metadata": {},
   "source": [
    "Для сравнения также воспользуемся методом ttest_ind.\n",
    "\n",
    "- Нулевая гипотеза - средние выручки пользователей из Москвы и из других регионов равны;\n",
    "- Альтернативная гипотеза - выручки не равны."
   ]
  },
  {
   "cell_type": "code",
   "execution_count": 70,
   "metadata": {},
   "outputs": [],
   "source": [
    "general_msk = general_df.query('city == \"Москва\"')\n",
    "general_not_msk = general_df.query('city != \"Москва\"')"
   ]
  },
  {
   "cell_type": "code",
   "execution_count": 71,
   "metadata": {},
   "outputs": [
    {
     "data": {
      "text/plain": [
       "565636.467011886"
      ]
     },
     "execution_count": 71,
     "metadata": {},
     "output_type": "execute_result"
    }
   ],
   "source": [
    "np.var(general_msk['profit'], ddof=1)"
   ]
  },
  {
   "cell_type": "code",
   "execution_count": 72,
   "metadata": {},
   "outputs": [
    {
     "data": {
      "text/plain": [
       "654137.6285218114"
      ]
     },
     "execution_count": 72,
     "metadata": {},
     "output_type": "execute_result"
    }
   ],
   "source": [
    "np.var(general_not_msk['profit'], ddof=1)"
   ]
  },
  {
   "cell_type": "markdown",
   "metadata": {},
   "source": [
    "Дисперсии выборок считаем неравными."
   ]
  },
  {
   "cell_type": "code",
   "execution_count": 73,
   "metadata": {},
   "outputs": [],
   "source": [
    "results_city = st.ttest_ind(general_msk['profit'], general_not_msk['profit'], equal_var = False)"
   ]
  },
  {
   "cell_type": "code",
   "execution_count": 74,
   "metadata": {},
   "outputs": [
    {
     "data": {
      "text/plain": [
       "0.5257376663729298"
      ]
     },
     "execution_count": 74,
     "metadata": {},
     "output_type": "execute_result"
    }
   ],
   "source": [
    "results_city.pvalue"
   ]
  },
  {
   "cell_type": "code",
   "execution_count": 75,
   "metadata": {},
   "outputs": [
    {
     "data": {
      "text/plain": [
       "False"
      ]
     },
     "execution_count": 75,
     "metadata": {},
     "output_type": "execute_result"
    }
   ],
   "source": [
    "results_city.pvalue < alpha"
   ]
  },
  {
   "cell_type": "markdown",
   "metadata": {},
   "source": [
    "Не можем отвергнуть нулевую гипотезу, так как p-value оказался больше 0.05 и равен примерно 53%."
   ]
  },
  {
   "cell_type": "markdown",
   "metadata": {},
   "source": [
    "В итоге мы выяснили, что средняя выручка пользователей тарифов «Ультра» и «Смарт» различаются.\n",
    "Средние выручки пользователей из Москвы и пользователей из других регионов, вероятно, могут быть равными."
   ]
  },
  {
   "cell_type": "markdown",
   "metadata": {},
   "source": [
    "## Общий вывод"
   ]
  },
  {
   "cell_type": "markdown",
   "metadata": {},
   "source": [
    "Исходя из исследования, можем сказать, что тариф \"Ультра\" приносит большую выгоду оператору, чем тариф \"Смарт\". Несмотря на то, что пользователям тарифа \"Смарт\" не хватает бесплатного лимита и они переплачивают за дополнительный объем, они все равно в среднем платят в 2 раза меньше, чем пользователи тарифа \"Ультра\".\n",
    "\n",
    "Коммерческому департаменту можно дать рекоментацию - обратить внимание на рекламный бюджет тарифа \"Ультра\" в сторону его увеличения."
   ]
  }
 ],
 "metadata": {
  "ExecuteTimeLog": [
   {
    "duration": 415,
    "start_time": "2022-03-27T07:50:50.714Z"
   },
   {
    "duration": 1007,
    "start_time": "2022-03-27T07:51:04.534Z"
   },
   {
    "duration": 3,
    "start_time": "2022-03-27T07:51:13.194Z"
   },
   {
    "duration": 2,
    "start_time": "2022-03-27T07:56:33.414Z"
   },
   {
    "duration": 3,
    "start_time": "2022-03-27T07:59:40.637Z"
   },
   {
    "duration": 171,
    "start_time": "2022-03-27T08:00:16.875Z"
   },
   {
    "duration": 151,
    "start_time": "2022-03-27T08:04:32.625Z"
   },
   {
    "duration": 90,
    "start_time": "2022-03-27T08:04:35.572Z"
   },
   {
    "duration": 16,
    "start_time": "2022-03-27T08:04:38.304Z"
   },
   {
    "duration": 24,
    "start_time": "2022-03-27T08:04:40.614Z"
   },
   {
    "duration": 17,
    "start_time": "2022-03-27T08:05:02.565Z"
   },
   {
    "duration": 100,
    "start_time": "2022-03-27T08:05:10.385Z"
   },
   {
    "duration": 150,
    "start_time": "2022-03-27T08:05:21.855Z"
   },
   {
    "duration": 160,
    "start_time": "2022-03-27T08:05:28.825Z"
   },
   {
    "duration": 25,
    "start_time": "2022-03-27T08:10:51.293Z"
   },
   {
    "duration": 17,
    "start_time": "2022-03-27T08:11:07.460Z"
   },
   {
    "duration": 185,
    "start_time": "2022-03-27T08:15:51.529Z"
   },
   {
    "duration": 172,
    "start_time": "2022-03-27T08:16:02.557Z"
   },
   {
    "duration": 180,
    "start_time": "2022-03-27T08:16:11.995Z"
   },
   {
    "duration": 102,
    "start_time": "2022-03-27T08:16:35.411Z"
   },
   {
    "duration": 41,
    "start_time": "2022-03-27T08:17:50.933Z"
   },
   {
    "duration": 20,
    "start_time": "2022-03-27T08:19:18.994Z"
   },
   {
    "duration": 17,
    "start_time": "2022-03-27T08:19:34.625Z"
   },
   {
    "duration": 215,
    "start_time": "2022-03-27T08:19:50.646Z"
   },
   {
    "duration": 183,
    "start_time": "2022-03-27T08:20:09.693Z"
   },
   {
    "duration": 46,
    "start_time": "2022-03-27T08:20:15.322Z"
   },
   {
    "duration": 38,
    "start_time": "2022-03-27T08:21:39.562Z"
   },
   {
    "duration": 21,
    "start_time": "2022-03-27T08:22:38.952Z"
   },
   {
    "duration": 12,
    "start_time": "2022-03-27T08:22:58.772Z"
   },
   {
    "duration": 106,
    "start_time": "2022-03-27T08:29:22.126Z"
   },
   {
    "duration": 9634,
    "start_time": "2022-03-27T08:31:50.968Z"
   },
   {
    "duration": 41,
    "start_time": "2022-03-27T08:32:27.746Z"
   },
   {
    "duration": 22,
    "start_time": "2022-03-27T08:33:03.485Z"
   },
   {
    "duration": 16,
    "start_time": "2022-03-27T08:33:27.823Z"
   },
   {
    "duration": 11,
    "start_time": "2022-03-27T08:35:52.143Z"
   },
   {
    "duration": 52,
    "start_time": "2022-03-27T08:40:07.352Z"
   },
   {
    "duration": 1295,
    "start_time": "2022-03-27T08:40:13.514Z"
   },
   {
    "duration": 25,
    "start_time": "2022-03-27T08:40:14.812Z"
   },
   {
    "duration": 72,
    "start_time": "2022-03-27T08:40:14.839Z"
   },
   {
    "duration": 0,
    "start_time": "2022-03-27T08:40:14.913Z"
   },
   {
    "duration": 0,
    "start_time": "2022-03-27T08:40:14.915Z"
   },
   {
    "duration": 0,
    "start_time": "2022-03-27T08:40:14.916Z"
   },
   {
    "duration": 0,
    "start_time": "2022-03-27T08:40:14.917Z"
   },
   {
    "duration": 0,
    "start_time": "2022-03-27T08:40:14.918Z"
   },
   {
    "duration": 0,
    "start_time": "2022-03-27T08:40:14.919Z"
   },
   {
    "duration": 0,
    "start_time": "2022-03-27T08:40:14.920Z"
   },
   {
    "duration": 0,
    "start_time": "2022-03-27T08:40:14.921Z"
   },
   {
    "duration": 10,
    "start_time": "2022-03-27T08:40:20.501Z"
   },
   {
    "duration": 21,
    "start_time": "2022-03-27T08:40:37.754Z"
   },
   {
    "duration": 159,
    "start_time": "2022-03-27T08:40:37.778Z"
   },
   {
    "duration": 29,
    "start_time": "2022-03-27T08:40:37.939Z"
   },
   {
    "duration": 151,
    "start_time": "2022-03-27T08:40:37.970Z"
   },
   {
    "duration": 25,
    "start_time": "2022-03-27T08:40:38.125Z"
   },
   {
    "duration": 108,
    "start_time": "2022-03-27T08:40:38.152Z"
   },
   {
    "duration": 23,
    "start_time": "2022-03-27T08:40:38.262Z"
   },
   {
    "duration": 24,
    "start_time": "2022-03-27T08:40:38.302Z"
   },
   {
    "duration": 16,
    "start_time": "2022-03-27T08:40:38.328Z"
   },
   {
    "duration": 15,
    "start_time": "2022-03-27T08:40:38.346Z"
   },
   {
    "duration": 107,
    "start_time": "2022-03-27T08:48:02.686Z"
   },
   {
    "duration": 98,
    "start_time": "2022-03-27T08:48:06.974Z"
   },
   {
    "duration": 18,
    "start_time": "2022-03-27T08:56:53.126Z"
   },
   {
    "duration": 41,
    "start_time": "2022-03-27T08:56:56.112Z"
   },
   {
    "duration": 41,
    "start_time": "2022-03-27T08:57:17.817Z"
   },
   {
    "duration": 19,
    "start_time": "2022-03-27T08:57:20.557Z"
   },
   {
    "duration": 30,
    "start_time": "2022-03-27T08:58:56.841Z"
   },
   {
    "duration": 22,
    "start_time": "2022-03-27T08:58:58.809Z"
   },
   {
    "duration": 4,
    "start_time": "2022-03-27T08:59:00.802Z"
   },
   {
    "duration": 17,
    "start_time": "2022-03-27T08:59:07.472Z"
   },
   {
    "duration": 1344,
    "start_time": "2022-03-27T09:00:32.970Z"
   },
   {
    "duration": 20,
    "start_time": "2022-03-27T09:00:34.317Z"
   },
   {
    "duration": 226,
    "start_time": "2022-03-27T09:00:34.340Z"
   },
   {
    "duration": 34,
    "start_time": "2022-03-27T09:00:34.568Z"
   },
   {
    "duration": 154,
    "start_time": "2022-03-27T09:00:34.605Z"
   },
   {
    "duration": 23,
    "start_time": "2022-03-27T09:00:34.761Z"
   },
   {
    "duration": 108,
    "start_time": "2022-03-27T09:00:34.786Z"
   },
   {
    "duration": 24,
    "start_time": "2022-03-27T09:00:34.896Z"
   },
   {
    "duration": 27,
    "start_time": "2022-03-27T09:00:34.922Z"
   },
   {
    "duration": 24,
    "start_time": "2022-03-27T09:00:34.951Z"
   },
   {
    "duration": 41,
    "start_time": "2022-03-27T09:00:34.977Z"
   },
   {
    "duration": 63,
    "start_time": "2022-03-27T09:00:35.021Z"
   },
   {
    "duration": 55,
    "start_time": "2022-03-27T09:00:35.087Z"
   },
   {
    "duration": 35,
    "start_time": "2022-03-27T09:00:35.146Z"
   },
   {
    "duration": 19,
    "start_time": "2022-03-27T09:00:35.184Z"
   },
   {
    "duration": 116,
    "start_time": "2022-03-27T09:52:19.971Z"
   },
   {
    "duration": 1627,
    "start_time": "2022-03-27T09:52:35.466Z"
   },
   {
    "duration": 23,
    "start_time": "2022-03-27T09:52:37.095Z"
   },
   {
    "duration": 175,
    "start_time": "2022-03-27T09:52:37.120Z"
   },
   {
    "duration": 48,
    "start_time": "2022-03-27T09:52:37.300Z"
   },
   {
    "duration": 222,
    "start_time": "2022-03-27T09:52:37.351Z"
   },
   {
    "duration": 46,
    "start_time": "2022-03-27T09:52:37.576Z"
   },
   {
    "duration": 151,
    "start_time": "2022-03-27T09:52:37.628Z"
   },
   {
    "duration": 36,
    "start_time": "2022-03-27T09:52:37.781Z"
   },
   {
    "duration": 24,
    "start_time": "2022-03-27T09:52:37.819Z"
   },
   {
    "duration": 18,
    "start_time": "2022-03-27T09:52:37.846Z"
   },
   {
    "duration": 45,
    "start_time": "2022-03-27T09:52:37.866Z"
   },
   {
    "duration": 60,
    "start_time": "2022-03-27T09:52:37.913Z"
   },
   {
    "duration": 67,
    "start_time": "2022-03-27T09:52:37.975Z"
   },
   {
    "duration": 37,
    "start_time": "2022-03-27T09:52:38.045Z"
   },
   {
    "duration": 5,
    "start_time": "2022-03-27T09:52:40.747Z"
   },
   {
    "duration": 30,
    "start_time": "2022-03-27T09:52:47.744Z"
   },
   {
    "duration": 198,
    "start_time": "2022-03-27T09:53:06.685Z"
   },
   {
    "duration": 26,
    "start_time": "2022-03-27T09:53:10.326Z"
   },
   {
    "duration": 17,
    "start_time": "2022-03-27T09:53:24.659Z"
   },
   {
    "duration": 18,
    "start_time": "2022-03-27T09:53:35.191Z"
   },
   {
    "duration": 21,
    "start_time": "2022-03-27T09:54:08.505Z"
   },
   {
    "duration": 40,
    "start_time": "2022-03-27T09:54:32.805Z"
   },
   {
    "duration": 18,
    "start_time": "2022-03-27T09:55:43.405Z"
   },
   {
    "duration": 16,
    "start_time": "2022-03-27T09:55:54.061Z"
   },
   {
    "duration": 3,
    "start_time": "2022-03-27T10:07:06.490Z"
   },
   {
    "duration": 28,
    "start_time": "2022-03-27T10:07:06.495Z"
   },
   {
    "duration": 235,
    "start_time": "2022-03-27T10:07:06.526Z"
   },
   {
    "duration": 43,
    "start_time": "2022-03-27T10:07:06.763Z"
   },
   {
    "duration": 149,
    "start_time": "2022-03-27T10:07:06.810Z"
   },
   {
    "duration": 42,
    "start_time": "2022-03-27T10:07:06.962Z"
   },
   {
    "duration": 110,
    "start_time": "2022-03-27T10:07:07.006Z"
   },
   {
    "duration": 23,
    "start_time": "2022-03-27T10:07:07.118Z"
   },
   {
    "duration": 23,
    "start_time": "2022-03-27T10:07:07.143Z"
   },
   {
    "duration": 16,
    "start_time": "2022-03-27T10:07:07.168Z"
   },
   {
    "duration": 14,
    "start_time": "2022-03-27T10:07:07.203Z"
   },
   {
    "duration": 37,
    "start_time": "2022-03-27T10:07:18.453Z"
   },
   {
    "duration": 30,
    "start_time": "2022-03-27T10:07:20.149Z"
   },
   {
    "duration": 27,
    "start_time": "2022-03-27T10:07:35.200Z"
   },
   {
    "duration": 81,
    "start_time": "2022-03-27T10:08:45.802Z"
   },
   {
    "duration": 67,
    "start_time": "2022-03-27T10:08:56.801Z"
   },
   {
    "duration": 17,
    "start_time": "2022-03-27T10:09:05.483Z"
   },
   {
    "duration": 121,
    "start_time": "2022-03-27T10:09:22.657Z"
   },
   {
    "duration": 14,
    "start_time": "2022-03-27T10:09:29.247Z"
   },
   {
    "duration": 10,
    "start_time": "2022-03-27T10:15:09.978Z"
   },
   {
    "duration": 53,
    "start_time": "2022-03-27T10:17:29.539Z"
   },
   {
    "duration": 1347,
    "start_time": "2022-03-27T10:17:36.233Z"
   },
   {
    "duration": 434,
    "start_time": "2022-03-27T10:17:41.692Z"
   },
   {
    "duration": 14,
    "start_time": "2022-03-27T10:17:54.333Z"
   },
   {
    "duration": 1546,
    "start_time": "2022-03-27T13:20:00.817Z"
   },
   {
    "duration": 386,
    "start_time": "2022-03-27T13:20:02.366Z"
   },
   {
    "duration": 12,
    "start_time": "2022-03-27T13:20:02.753Z"
   },
   {
    "duration": 11,
    "start_time": "2022-03-27T13:20:02.767Z"
   },
   {
    "duration": 30,
    "start_time": "2022-03-27T13:20:02.781Z"
   },
   {
    "duration": 8,
    "start_time": "2022-03-27T13:20:02.812Z"
   },
   {
    "duration": 23,
    "start_time": "2022-03-27T13:20:02.821Z"
   },
   {
    "duration": 7,
    "start_time": "2022-03-27T13:20:02.872Z"
   },
   {
    "duration": 23,
    "start_time": "2022-03-27T13:20:02.881Z"
   },
   {
    "duration": 10,
    "start_time": "2022-03-27T13:20:02.906Z"
   },
   {
    "duration": 13,
    "start_time": "2022-03-27T13:20:02.918Z"
   },
   {
    "duration": 40,
    "start_time": "2022-03-27T13:20:02.932Z"
   },
   {
    "duration": 100,
    "start_time": "2022-03-27T13:20:02.974Z"
   },
   {
    "duration": 206,
    "start_time": "2022-03-27T13:20:11.155Z"
   },
   {
    "duration": 180,
    "start_time": "2022-03-27T13:20:58.899Z"
   },
   {
    "duration": 8,
    "start_time": "2022-03-27T13:22:47.377Z"
   },
   {
    "duration": 22,
    "start_time": "2022-03-27T13:23:17.795Z"
   },
   {
    "duration": 24,
    "start_time": "2022-03-27T13:23:45.907Z"
   },
   {
    "duration": 13,
    "start_time": "2022-03-27T13:23:56.355Z"
   },
   {
    "duration": 4,
    "start_time": "2022-03-27T13:32:33.105Z"
   },
   {
    "duration": 12,
    "start_time": "2022-03-27T13:32:40.992Z"
   },
   {
    "duration": 11,
    "start_time": "2022-03-27T13:32:49.482Z"
   },
   {
    "duration": 2,
    "start_time": "2022-03-27T13:33:32.703Z"
   },
   {
    "duration": 397,
    "start_time": "2022-03-27T13:33:32.707Z"
   },
   {
    "duration": 7,
    "start_time": "2022-03-27T13:33:33.107Z"
   },
   {
    "duration": 11,
    "start_time": "2022-03-27T13:33:33.115Z"
   },
   {
    "duration": 38,
    "start_time": "2022-03-27T13:33:33.128Z"
   },
   {
    "duration": 12,
    "start_time": "2022-03-27T13:33:33.168Z"
   },
   {
    "duration": 25,
    "start_time": "2022-03-27T13:33:33.182Z"
   },
   {
    "duration": 7,
    "start_time": "2022-03-27T13:33:33.208Z"
   },
   {
    "duration": 25,
    "start_time": "2022-03-27T13:33:33.217Z"
   },
   {
    "duration": 23,
    "start_time": "2022-03-27T13:33:33.243Z"
   },
   {
    "duration": 14,
    "start_time": "2022-03-27T13:33:33.269Z"
   },
   {
    "duration": 15,
    "start_time": "2022-03-27T13:33:33.285Z"
   },
   {
    "duration": 13,
    "start_time": "2022-03-27T13:33:33.302Z"
   },
   {
    "duration": 114,
    "start_time": "2022-03-27T13:33:38.416Z"
   },
   {
    "duration": 6,
    "start_time": "2022-03-27T13:33:40.752Z"
   },
   {
    "duration": 13,
    "start_time": "2022-03-27T13:33:49.155Z"
   },
   {
    "duration": 11,
    "start_time": "2022-03-27T13:33:52.442Z"
   },
   {
    "duration": 5,
    "start_time": "2022-03-27T13:34:59.431Z"
   },
   {
    "duration": 13,
    "start_time": "2022-03-27T13:35:03.341Z"
   },
   {
    "duration": 11,
    "start_time": "2022-03-27T13:35:07.695Z"
   },
   {
    "duration": 438,
    "start_time": "2022-03-27T13:35:20.009Z"
   },
   {
    "duration": 4,
    "start_time": "2022-03-27T13:35:26.832Z"
   },
   {
    "duration": 14,
    "start_time": "2022-03-27T13:35:31.550Z"
   },
   {
    "duration": 15,
    "start_time": "2022-03-27T13:35:33.832Z"
   },
   {
    "duration": 3,
    "start_time": "2022-03-27T13:36:18.933Z"
   },
   {
    "duration": 443,
    "start_time": "2022-03-27T13:36:18.938Z"
   },
   {
    "duration": 9,
    "start_time": "2022-03-27T13:36:19.383Z"
   },
   {
    "duration": 15,
    "start_time": "2022-03-27T13:36:19.393Z"
   },
   {
    "duration": 29,
    "start_time": "2022-03-27T13:36:19.410Z"
   },
   {
    "duration": 16,
    "start_time": "2022-03-27T13:36:19.441Z"
   },
   {
    "duration": 22,
    "start_time": "2022-03-27T13:36:19.459Z"
   },
   {
    "duration": 8,
    "start_time": "2022-03-27T13:36:19.483Z"
   },
   {
    "duration": 37,
    "start_time": "2022-03-27T13:36:19.493Z"
   },
   {
    "duration": 13,
    "start_time": "2022-03-27T13:36:19.532Z"
   },
   {
    "duration": 16,
    "start_time": "2022-03-27T13:36:19.564Z"
   },
   {
    "duration": 15,
    "start_time": "2022-03-27T13:36:19.582Z"
   },
   {
    "duration": 9,
    "start_time": "2022-03-27T13:36:19.598Z"
   },
   {
    "duration": 68,
    "start_time": "2022-03-27T13:36:23.898Z"
   },
   {
    "duration": 93,
    "start_time": "2022-03-27T13:36:58.088Z"
   },
   {
    "duration": 10,
    "start_time": "2022-03-27T13:37:03.382Z"
   },
   {
    "duration": 19,
    "start_time": "2022-03-27T13:37:49.342Z"
   },
   {
    "duration": 2514,
    "start_time": "2022-03-27T13:38:04.273Z"
   },
   {
    "duration": 16,
    "start_time": "2022-03-27T13:38:27.662Z"
   },
   {
    "duration": 29,
    "start_time": "2022-03-27T13:38:38.178Z"
   },
   {
    "duration": 7,
    "start_time": "2022-03-27T13:38:46.728Z"
   },
   {
    "duration": 5,
    "start_time": "2022-03-27T13:38:58.951Z"
   },
   {
    "duration": 5,
    "start_time": "2022-03-27T13:39:06.992Z"
   },
   {
    "duration": 5,
    "start_time": "2022-03-27T13:39:09.232Z"
   },
   {
    "duration": 14,
    "start_time": "2022-03-27T13:39:42.648Z"
   },
   {
    "duration": 10,
    "start_time": "2022-03-27T13:39:45.791Z"
   },
   {
    "duration": 173,
    "start_time": "2022-03-27T13:40:40.033Z"
   },
   {
    "duration": 138,
    "start_time": "2022-03-27T13:41:11.454Z"
   },
   {
    "duration": 8,
    "start_time": "2022-03-27T13:41:17.860Z"
   },
   {
    "duration": 5,
    "start_time": "2022-03-27T13:41:44.342Z"
   },
   {
    "duration": 9,
    "start_time": "2022-03-27T14:16:55.887Z"
   },
   {
    "duration": 33,
    "start_time": "2022-03-27T14:18:35.374Z"
   },
   {
    "duration": 18,
    "start_time": "2022-03-27T14:18:57.536Z"
   },
   {
    "duration": 28,
    "start_time": "2022-03-27T14:21:36.768Z"
   },
   {
    "duration": 1753,
    "start_time": "2022-03-27T15:12:36.061Z"
   },
   {
    "duration": 435,
    "start_time": "2022-03-27T15:12:37.817Z"
   },
   {
    "duration": 17,
    "start_time": "2022-03-27T15:12:38.254Z"
   },
   {
    "duration": 10,
    "start_time": "2022-03-27T15:12:38.272Z"
   },
   {
    "duration": 50,
    "start_time": "2022-03-27T15:12:38.285Z"
   },
   {
    "duration": 7,
    "start_time": "2022-03-27T15:12:38.337Z"
   },
   {
    "duration": 25,
    "start_time": "2022-03-27T15:12:38.346Z"
   },
   {
    "duration": 7,
    "start_time": "2022-03-27T15:12:38.381Z"
   },
   {
    "duration": 19,
    "start_time": "2022-03-27T15:12:38.389Z"
   },
   {
    "duration": 13,
    "start_time": "2022-03-27T15:12:38.410Z"
   },
   {
    "duration": 21,
    "start_time": "2022-03-27T15:12:38.425Z"
   },
   {
    "duration": 34,
    "start_time": "2022-03-27T15:12:38.447Z"
   },
   {
    "duration": 10,
    "start_time": "2022-03-27T15:12:38.483Z"
   },
   {
    "duration": 130,
    "start_time": "2022-03-27T15:12:38.497Z"
   },
   {
    "duration": 236,
    "start_time": "2022-03-27T15:12:38.629Z"
   },
   {
    "duration": 37,
    "start_time": "2022-03-27T15:12:38.867Z"
   },
   {
    "duration": 230,
    "start_time": "2022-03-27T15:12:38.906Z"
   },
   {
    "duration": 30,
    "start_time": "2022-03-27T15:12:39.137Z"
   },
   {
    "duration": 23,
    "start_time": "2022-03-27T15:12:39.169Z"
   },
   {
    "duration": 26,
    "start_time": "2022-03-27T15:12:39.194Z"
   },
   {
    "duration": 10,
    "start_time": "2022-03-27T15:12:39.222Z"
   },
   {
    "duration": 23,
    "start_time": "2022-03-27T15:12:39.234Z"
   },
   {
    "duration": 40,
    "start_time": "2022-03-27T15:12:39.285Z"
   },
   {
    "duration": 13,
    "start_time": "2022-03-27T15:12:39.327Z"
   },
   {
    "duration": 39,
    "start_time": "2022-03-27T15:12:39.343Z"
   },
   {
    "duration": 23,
    "start_time": "2022-03-27T15:12:39.384Z"
   },
   {
    "duration": 14,
    "start_time": "2022-03-27T15:12:39.409Z"
   },
   {
    "duration": 11,
    "start_time": "2022-03-27T15:14:09.811Z"
   },
   {
    "duration": 23,
    "start_time": "2022-03-27T15:22:21.004Z"
   },
   {
    "duration": 23,
    "start_time": "2022-03-27T15:23:02.598Z"
   },
   {
    "duration": 15,
    "start_time": "2022-03-27T15:26:21.505Z"
   },
   {
    "duration": 17,
    "start_time": "2022-03-27T15:26:36.330Z"
   },
   {
    "duration": 16,
    "start_time": "2022-03-27T15:26:52.915Z"
   },
   {
    "duration": 23,
    "start_time": "2022-03-27T15:27:26.961Z"
   },
   {
    "duration": 12,
    "start_time": "2022-03-27T15:27:30.372Z"
   },
   {
    "duration": 34,
    "start_time": "2022-03-27T15:27:39.026Z"
   },
   {
    "duration": 21,
    "start_time": "2022-03-27T15:28:06.453Z"
   },
   {
    "duration": 10,
    "start_time": "2022-03-27T15:28:22.243Z"
   },
   {
    "duration": 11,
    "start_time": "2022-03-27T15:28:30.592Z"
   },
   {
    "duration": 96,
    "start_time": "2022-03-27T15:42:37.620Z"
   },
   {
    "duration": 6,
    "start_time": "2022-03-27T15:43:30.998Z"
   },
   {
    "duration": 25,
    "start_time": "2022-03-27T15:43:36.689Z"
   },
   {
    "duration": 4,
    "start_time": "2022-03-27T15:43:39.088Z"
   },
   {
    "duration": 18,
    "start_time": "2022-03-27T15:44:04.312Z"
   },
   {
    "duration": 16,
    "start_time": "2022-03-27T15:44:23.091Z"
   },
   {
    "duration": 23,
    "start_time": "2022-03-27T15:44:31.479Z"
   },
   {
    "duration": 15,
    "start_time": "2022-03-27T15:44:33.386Z"
   },
   {
    "duration": 4,
    "start_time": "2022-03-27T15:44:36.871Z"
   },
   {
    "duration": 13,
    "start_time": "2022-03-27T15:44:42.106Z"
   },
   {
    "duration": 10,
    "start_time": "2022-03-27T15:44:52.420Z"
   },
   {
    "duration": 19,
    "start_time": "2022-03-27T15:45:17.912Z"
   },
   {
    "duration": 14,
    "start_time": "2022-03-27T15:45:31.818Z"
   },
   {
    "duration": 7,
    "start_time": "2022-03-27T15:46:47.069Z"
   },
   {
    "duration": 14,
    "start_time": "2022-03-27T15:46:50.391Z"
   },
   {
    "duration": 22,
    "start_time": "2022-03-27T15:48:10.812Z"
   },
   {
    "duration": 3,
    "start_time": "2022-03-27T15:48:12.617Z"
   },
   {
    "duration": 13,
    "start_time": "2022-03-27T15:48:16.139Z"
   },
   {
    "duration": 23,
    "start_time": "2022-03-27T15:48:27.198Z"
   },
   {
    "duration": 4,
    "start_time": "2022-03-27T15:48:29.048Z"
   },
   {
    "duration": 6,
    "start_time": "2022-03-27T15:48:30.809Z"
   },
   {
    "duration": 14,
    "start_time": "2022-03-27T15:48:32.409Z"
   },
   {
    "duration": 24,
    "start_time": "2022-03-27T15:48:49.159Z"
   },
   {
    "duration": 4,
    "start_time": "2022-03-27T15:48:51.070Z"
   },
   {
    "duration": 8,
    "start_time": "2022-03-27T15:48:53.619Z"
   },
   {
    "duration": 10,
    "start_time": "2022-03-27T15:49:13.841Z"
   },
   {
    "duration": 16,
    "start_time": "2022-03-27T15:49:15.718Z"
   },
   {
    "duration": 30,
    "start_time": "2022-03-27T15:50:15.112Z"
   },
   {
    "duration": 4,
    "start_time": "2022-03-27T15:50:17.192Z"
   },
   {
    "duration": 8,
    "start_time": "2022-03-27T15:50:19.218Z"
   },
   {
    "duration": 6,
    "start_time": "2022-03-27T15:50:35.788Z"
   },
   {
    "duration": 8,
    "start_time": "2022-03-27T15:50:37.751Z"
   },
   {
    "duration": 13,
    "start_time": "2022-03-27T15:52:08.872Z"
   },
   {
    "duration": 25,
    "start_time": "2022-03-27T15:53:08.912Z"
   },
   {
    "duration": 4,
    "start_time": "2022-03-27T15:53:10.609Z"
   },
   {
    "duration": 9,
    "start_time": "2022-03-27T15:53:12.438Z"
   },
   {
    "duration": 29,
    "start_time": "2022-03-27T15:53:30.450Z"
   },
   {
    "duration": 5,
    "start_time": "2022-03-27T15:53:32.508Z"
   },
   {
    "duration": 7,
    "start_time": "2022-03-27T15:53:33.806Z"
   },
   {
    "duration": 15,
    "start_time": "2022-03-27T15:53:35.128Z"
   },
   {
    "duration": 1071,
    "start_time": "2022-03-27T15:54:56.328Z"
   },
   {
    "duration": 386,
    "start_time": "2022-03-27T15:54:57.401Z"
   },
   {
    "duration": 11,
    "start_time": "2022-03-27T15:54:57.789Z"
   },
   {
    "duration": 10,
    "start_time": "2022-03-27T15:54:57.801Z"
   },
   {
    "duration": 27,
    "start_time": "2022-03-27T15:54:57.813Z"
   },
   {
    "duration": 10,
    "start_time": "2022-03-27T15:54:57.842Z"
   },
   {
    "duration": 34,
    "start_time": "2022-03-27T15:54:57.854Z"
   },
   {
    "duration": 6,
    "start_time": "2022-03-27T15:54:57.890Z"
   },
   {
    "duration": 21,
    "start_time": "2022-03-27T15:54:57.897Z"
   },
   {
    "duration": 8,
    "start_time": "2022-03-27T15:54:57.920Z"
   },
   {
    "duration": 11,
    "start_time": "2022-03-27T15:54:57.929Z"
   },
   {
    "duration": 7,
    "start_time": "2022-03-27T15:54:57.941Z"
   },
   {
    "duration": 38,
    "start_time": "2022-03-27T15:54:57.949Z"
   },
   {
    "duration": 69,
    "start_time": "2022-03-27T15:54:57.989Z"
   },
   {
    "duration": 183,
    "start_time": "2022-03-27T15:54:58.059Z"
   },
   {
    "duration": 38,
    "start_time": "2022-03-27T15:54:58.244Z"
   },
   {
    "duration": 222,
    "start_time": "2022-03-27T15:54:58.284Z"
   },
   {
    "duration": 28,
    "start_time": "2022-03-27T15:54:58.508Z"
   },
   {
    "duration": 4,
    "start_time": "2022-03-27T15:54:58.538Z"
   },
   {
    "duration": 8,
    "start_time": "2022-03-27T15:54:58.543Z"
   },
   {
    "duration": 36,
    "start_time": "2022-03-27T15:54:58.552Z"
   },
   {
    "duration": 26,
    "start_time": "2022-03-27T15:54:58.589Z"
   },
   {
    "duration": 3,
    "start_time": "2022-03-27T15:54:58.617Z"
   },
   {
    "duration": 11,
    "start_time": "2022-03-27T15:54:58.622Z"
   },
   {
    "duration": 20,
    "start_time": "2022-03-27T15:54:58.634Z"
   },
   {
    "duration": 50,
    "start_time": "2022-03-27T15:54:58.655Z"
   },
   {
    "duration": 4,
    "start_time": "2022-03-27T15:54:58.707Z"
   },
   {
    "duration": 8,
    "start_time": "2022-03-27T15:54:58.713Z"
   },
   {
    "duration": 11,
    "start_time": "2022-03-27T15:54:58.722Z"
   },
   {
    "duration": 23,
    "start_time": "2022-03-27T15:54:58.735Z"
   },
   {
    "duration": 42,
    "start_time": "2022-03-27T15:54:58.759Z"
   },
   {
    "duration": 4,
    "start_time": "2022-03-27T15:54:58.803Z"
   },
   {
    "duration": 11,
    "start_time": "2022-03-27T15:54:58.808Z"
   },
   {
    "duration": 16,
    "start_time": "2022-03-27T15:54:58.821Z"
   },
   {
    "duration": 13,
    "start_time": "2022-03-27T15:54:58.838Z"
   },
   {
    "duration": 21,
    "start_time": "2022-03-27T15:57:18.399Z"
   },
   {
    "duration": 13,
    "start_time": "2022-03-27T15:57:22.967Z"
   },
   {
    "duration": 1966,
    "start_time": "2022-03-28T13:33:37.183Z"
   },
   {
    "duration": 492,
    "start_time": "2022-03-28T13:33:39.152Z"
   },
   {
    "duration": 18,
    "start_time": "2022-03-28T13:33:39.646Z"
   },
   {
    "duration": 23,
    "start_time": "2022-03-28T13:33:39.675Z"
   },
   {
    "duration": 43,
    "start_time": "2022-03-28T13:33:39.700Z"
   },
   {
    "duration": 12,
    "start_time": "2022-03-28T13:33:39.745Z"
   },
   {
    "duration": 34,
    "start_time": "2022-03-28T13:33:39.775Z"
   },
   {
    "duration": 21,
    "start_time": "2022-03-28T13:33:39.812Z"
   },
   {
    "duration": 45,
    "start_time": "2022-03-28T13:33:39.835Z"
   },
   {
    "duration": 22,
    "start_time": "2022-03-28T13:33:39.884Z"
   },
   {
    "duration": 31,
    "start_time": "2022-03-28T13:33:39.908Z"
   },
   {
    "duration": 32,
    "start_time": "2022-03-28T13:33:39.942Z"
   },
   {
    "duration": 16,
    "start_time": "2022-03-28T13:33:39.978Z"
   },
   {
    "duration": 144,
    "start_time": "2022-03-28T13:33:39.996Z"
   },
   {
    "duration": 280,
    "start_time": "2022-03-28T13:33:40.143Z"
   },
   {
    "duration": 59,
    "start_time": "2022-03-28T13:33:40.426Z"
   },
   {
    "duration": 401,
    "start_time": "2022-03-28T13:33:40.487Z"
   },
   {
    "duration": 44,
    "start_time": "2022-03-28T13:33:40.891Z"
   },
   {
    "duration": 6,
    "start_time": "2022-03-28T13:33:40.937Z"
   },
   {
    "duration": 36,
    "start_time": "2022-03-28T13:33:40.945Z"
   },
   {
    "duration": 43,
    "start_time": "2022-03-28T13:33:40.983Z"
   },
   {
    "duration": 62,
    "start_time": "2022-03-28T13:33:41.028Z"
   },
   {
    "duration": 6,
    "start_time": "2022-03-28T13:33:41.092Z"
   },
   {
    "duration": 35,
    "start_time": "2022-03-28T13:33:41.100Z"
   },
   {
    "duration": 50,
    "start_time": "2022-03-28T13:33:41.137Z"
   },
   {
    "duration": 39,
    "start_time": "2022-03-28T13:33:41.190Z"
   },
   {
    "duration": 6,
    "start_time": "2022-03-28T13:33:41.231Z"
   },
   {
    "duration": 32,
    "start_time": "2022-03-28T13:33:41.242Z"
   },
   {
    "duration": 30,
    "start_time": "2022-03-28T13:33:41.276Z"
   },
   {
    "duration": 57,
    "start_time": "2022-03-28T13:33:41.310Z"
   },
   {
    "duration": 46,
    "start_time": "2022-03-28T13:33:41.370Z"
   },
   {
    "duration": 7,
    "start_time": "2022-03-28T13:33:41.419Z"
   },
   {
    "duration": 31,
    "start_time": "2022-03-28T13:33:41.429Z"
   },
   {
    "duration": 48,
    "start_time": "2022-03-28T13:33:41.463Z"
   },
   {
    "duration": 36,
    "start_time": "2022-03-28T13:33:41.513Z"
   },
   {
    "duration": 33,
    "start_time": "2022-03-28T13:34:16.812Z"
   },
   {
    "duration": 176,
    "start_time": "2022-03-28T13:36:21.102Z"
   },
   {
    "duration": 29,
    "start_time": "2022-03-28T13:36:33.972Z"
   },
   {
    "duration": 28,
    "start_time": "2022-03-28T13:37:16.492Z"
   },
   {
    "duration": 9,
    "start_time": "2022-03-28T13:38:21.430Z"
   },
   {
    "duration": 24,
    "start_time": "2022-03-28T13:38:23.592Z"
   },
   {
    "duration": 25,
    "start_time": "2022-03-28T13:38:27.105Z"
   },
   {
    "duration": 12,
    "start_time": "2022-03-28T13:39:35.762Z"
   },
   {
    "duration": 16,
    "start_time": "2022-03-28T13:39:38.620Z"
   },
   {
    "duration": 15,
    "start_time": "2022-03-28T13:39:42.041Z"
   },
   {
    "duration": 44,
    "start_time": "2022-03-28T13:40:30.000Z"
   },
   {
    "duration": 13,
    "start_time": "2022-03-28T13:41:44.542Z"
   },
   {
    "duration": 25,
    "start_time": "2022-03-28T13:41:46.832Z"
   },
   {
    "duration": 9,
    "start_time": "2022-03-28T13:42:01.412Z"
   },
   {
    "duration": 24,
    "start_time": "2022-03-28T13:42:04.493Z"
   },
   {
    "duration": 24,
    "start_time": "2022-03-28T13:42:09.532Z"
   },
   {
    "duration": 6,
    "start_time": "2022-03-28T13:43:51.665Z"
   },
   {
    "duration": 17,
    "start_time": "2022-03-28T13:44:46.113Z"
   },
   {
    "duration": 31,
    "start_time": "2022-03-28T13:45:08.955Z"
   },
   {
    "duration": 24,
    "start_time": "2022-03-28T13:46:40.510Z"
   },
   {
    "duration": 10,
    "start_time": "2022-03-28T13:46:44.859Z"
   },
   {
    "duration": 24,
    "start_time": "2022-03-28T13:47:03.682Z"
   },
   {
    "duration": 12,
    "start_time": "2022-03-28T13:47:22.511Z"
   },
   {
    "duration": 24,
    "start_time": "2022-03-28T13:47:25.475Z"
   },
   {
    "duration": 10,
    "start_time": "2022-03-28T13:48:17.225Z"
   },
   {
    "duration": 24,
    "start_time": "2022-03-28T13:48:19.450Z"
   },
   {
    "duration": 12,
    "start_time": "2022-03-28T13:48:24.042Z"
   },
   {
    "duration": 10,
    "start_time": "2022-03-28T13:48:49.162Z"
   },
   {
    "duration": 25,
    "start_time": "2022-03-28T13:48:51.651Z"
   },
   {
    "duration": 42,
    "start_time": "2022-03-28T13:52:31.732Z"
   },
   {
    "duration": 12,
    "start_time": "2022-03-28T13:53:16.306Z"
   },
   {
    "duration": 9,
    "start_time": "2022-03-28T13:53:18.213Z"
   },
   {
    "duration": 24,
    "start_time": "2022-03-28T13:53:20.250Z"
   },
   {
    "duration": 33,
    "start_time": "2022-03-28T13:55:34.892Z"
   },
   {
    "duration": 25,
    "start_time": "2022-03-28T13:55:49.760Z"
   },
   {
    "duration": 12,
    "start_time": "2022-03-28T13:56:21.221Z"
   },
   {
    "duration": 24,
    "start_time": "2022-03-28T13:56:35.680Z"
   },
   {
    "duration": 12,
    "start_time": "2022-03-28T13:57:06.710Z"
   },
   {
    "duration": 24,
    "start_time": "2022-03-28T13:57:12.555Z"
   },
   {
    "duration": 12,
    "start_time": "2022-03-28T13:58:24.253Z"
   },
   {
    "duration": 16,
    "start_time": "2022-03-28T13:58:26.363Z"
   },
   {
    "duration": 19,
    "start_time": "2022-03-28T13:58:29.929Z"
   },
   {
    "duration": 25,
    "start_time": "2022-03-28T13:58:35.131Z"
   },
   {
    "duration": 23,
    "start_time": "2022-03-28T13:58:37.788Z"
   },
   {
    "duration": 25,
    "start_time": "2022-03-28T13:58:44.010Z"
   },
   {
    "duration": 36,
    "start_time": "2022-03-28T13:59:21.275Z"
   },
   {
    "duration": 11,
    "start_time": "2022-03-28T13:59:34.750Z"
   },
   {
    "duration": 15,
    "start_time": "2022-03-28T13:59:36.604Z"
   },
   {
    "duration": 32,
    "start_time": "2022-03-28T13:59:40.261Z"
   },
   {
    "duration": 19,
    "start_time": "2022-03-28T14:00:03.392Z"
   },
   {
    "duration": 13,
    "start_time": "2022-03-28T14:00:17.412Z"
   },
   {
    "duration": 12,
    "start_time": "2022-03-28T14:00:23.571Z"
   },
   {
    "duration": 8,
    "start_time": "2022-03-28T14:01:04.341Z"
   },
   {
    "duration": 24,
    "start_time": "2022-03-28T14:01:22.191Z"
   },
   {
    "duration": 14,
    "start_time": "2022-03-28T14:02:35.062Z"
   },
   {
    "duration": 23,
    "start_time": "2022-03-28T14:02:39.410Z"
   },
   {
    "duration": 12,
    "start_time": "2022-03-28T14:02:44.284Z"
   },
   {
    "duration": 15,
    "start_time": "2022-03-28T14:02:46.251Z"
   },
   {
    "duration": 21,
    "start_time": "2022-03-28T14:02:48.234Z"
   },
   {
    "duration": 14,
    "start_time": "2022-03-28T14:02:51.085Z"
   },
   {
    "duration": 25,
    "start_time": "2022-03-28T14:02:53.241Z"
   },
   {
    "duration": 27,
    "start_time": "2022-03-28T14:02:57.315Z"
   },
   {
    "duration": 11,
    "start_time": "2022-03-28T14:06:55.392Z"
   },
   {
    "duration": 17,
    "start_time": "2022-03-28T14:06:57.221Z"
   },
   {
    "duration": 16,
    "start_time": "2022-03-28T14:07:05.151Z"
   },
   {
    "duration": 15,
    "start_time": "2022-03-28T14:07:07.712Z"
   },
   {
    "duration": 17,
    "start_time": "2022-03-28T14:07:27.311Z"
   },
   {
    "duration": 19,
    "start_time": "2022-03-28T14:07:34.142Z"
   },
   {
    "duration": 17,
    "start_time": "2022-03-28T14:07:37.652Z"
   },
   {
    "duration": 14,
    "start_time": "2022-03-28T14:07:40.361Z"
   },
   {
    "duration": 15,
    "start_time": "2022-03-28T14:07:44.775Z"
   },
   {
    "duration": 16,
    "start_time": "2022-03-28T14:07:48.750Z"
   },
   {
    "duration": 16,
    "start_time": "2022-03-28T14:07:59.758Z"
   },
   {
    "duration": 11,
    "start_time": "2022-03-28T14:10:33.885Z"
   },
   {
    "duration": 27,
    "start_time": "2022-03-28T14:10:43.473Z"
   },
   {
    "duration": 44,
    "start_time": "2022-03-28T14:10:46.441Z"
   },
   {
    "duration": 26,
    "start_time": "2022-03-28T14:10:54.823Z"
   },
   {
    "duration": 11,
    "start_time": "2022-03-28T14:10:57.072Z"
   },
   {
    "duration": 17,
    "start_time": "2022-03-28T14:10:59.150Z"
   },
   {
    "duration": 21,
    "start_time": "2022-03-28T14:11:00.630Z"
   },
   {
    "duration": 14,
    "start_time": "2022-03-28T14:11:17.382Z"
   },
   {
    "duration": 26,
    "start_time": "2022-03-28T14:11:20.522Z"
   },
   {
    "duration": 27,
    "start_time": "2022-03-28T14:11:23.282Z"
   },
   {
    "duration": 14,
    "start_time": "2022-03-28T14:12:19.012Z"
   },
   {
    "duration": 10,
    "start_time": "2022-03-28T14:12:21.831Z"
   },
   {
    "duration": 15,
    "start_time": "2022-03-28T14:13:42.940Z"
   },
   {
    "duration": 18,
    "start_time": "2022-03-28T14:13:58.242Z"
   },
   {
    "duration": 13,
    "start_time": "2022-03-28T14:13:59.586Z"
   },
   {
    "duration": 22,
    "start_time": "2022-03-28T14:14:02.849Z"
   },
   {
    "duration": 25,
    "start_time": "2022-03-28T14:14:07.472Z"
   },
   {
    "duration": 1725,
    "start_time": "2022-03-28T14:56:08.986Z"
   },
   {
    "duration": 485,
    "start_time": "2022-03-28T14:56:10.714Z"
   },
   {
    "duration": 17,
    "start_time": "2022-03-28T14:56:11.201Z"
   },
   {
    "duration": 13,
    "start_time": "2022-03-28T14:56:11.221Z"
   },
   {
    "duration": 51,
    "start_time": "2022-03-28T14:56:11.237Z"
   },
   {
    "duration": 13,
    "start_time": "2022-03-28T14:56:11.290Z"
   },
   {
    "duration": 29,
    "start_time": "2022-03-28T14:56:11.305Z"
   },
   {
    "duration": 32,
    "start_time": "2022-03-28T14:56:11.337Z"
   },
   {
    "duration": 27,
    "start_time": "2022-03-28T14:56:11.371Z"
   },
   {
    "duration": 14,
    "start_time": "2022-03-28T14:56:11.403Z"
   },
   {
    "duration": 50,
    "start_time": "2022-03-28T14:56:11.419Z"
   },
   {
    "duration": 12,
    "start_time": "2022-03-28T14:56:11.472Z"
   },
   {
    "duration": 14,
    "start_time": "2022-03-28T14:56:11.486Z"
   },
   {
    "duration": 133,
    "start_time": "2022-03-28T14:56:11.503Z"
   },
   {
    "duration": 249,
    "start_time": "2022-03-28T14:56:11.638Z"
   },
   {
    "duration": 38,
    "start_time": "2022-03-28T14:56:11.889Z"
   },
   {
    "duration": 387,
    "start_time": "2022-03-28T14:56:11.929Z"
   },
   {
    "duration": 54,
    "start_time": "2022-03-28T14:56:12.318Z"
   },
   {
    "duration": 6,
    "start_time": "2022-03-28T14:56:12.374Z"
   },
   {
    "duration": 12,
    "start_time": "2022-03-28T14:56:12.382Z"
   },
   {
    "duration": 24,
    "start_time": "2022-03-28T14:56:12.396Z"
   },
   {
    "duration": 65,
    "start_time": "2022-03-28T14:56:12.422Z"
   },
   {
    "duration": 5,
    "start_time": "2022-03-28T14:56:12.489Z"
   },
   {
    "duration": 16,
    "start_time": "2022-03-28T14:56:12.496Z"
   },
   {
    "duration": 52,
    "start_time": "2022-03-28T14:56:12.515Z"
   },
   {
    "duration": 38,
    "start_time": "2022-03-28T14:56:12.569Z"
   },
   {
    "duration": 7,
    "start_time": "2022-03-28T14:56:12.609Z"
   },
   {
    "duration": 45,
    "start_time": "2022-03-28T14:56:12.623Z"
   },
   {
    "duration": 16,
    "start_time": "2022-03-28T14:56:12.670Z"
   },
   {
    "duration": 33,
    "start_time": "2022-03-28T14:56:12.688Z"
   },
   {
    "duration": 63,
    "start_time": "2022-03-28T14:56:12.723Z"
   },
   {
    "duration": 5,
    "start_time": "2022-03-28T14:56:12.788Z"
   },
   {
    "duration": 10,
    "start_time": "2022-03-28T14:56:12.795Z"
   },
   {
    "duration": 24,
    "start_time": "2022-03-28T14:56:12.807Z"
   },
   {
    "duration": 43,
    "start_time": "2022-03-28T14:56:12.832Z"
   },
   {
    "duration": 12,
    "start_time": "2022-03-28T14:56:12.879Z"
   },
   {
    "duration": 15,
    "start_time": "2022-03-28T14:56:12.894Z"
   },
   {
    "duration": 17,
    "start_time": "2022-03-28T14:56:12.912Z"
   },
   {
    "duration": 43,
    "start_time": "2022-03-28T14:56:12.931Z"
   },
   {
    "duration": 4,
    "start_time": "2022-03-28T14:56:12.976Z"
   },
   {
    "duration": 10,
    "start_time": "2022-03-28T14:56:12.982Z"
   },
   {
    "duration": 16,
    "start_time": "2022-03-28T14:56:12.995Z"
   },
   {
    "duration": 56,
    "start_time": "2022-03-28T14:56:13.013Z"
   },
   {
    "duration": 32,
    "start_time": "2022-03-28T14:56:13.072Z"
   },
   {
    "duration": 22,
    "start_time": "2022-03-28T14:56:13.106Z"
   },
   {
    "duration": 14,
    "start_time": "2022-03-28T14:56:13.130Z"
   },
   {
    "duration": 31,
    "start_time": "2022-03-28T14:56:13.146Z"
   },
   {
    "duration": 37,
    "start_time": "2022-03-28T14:56:13.179Z"
   },
   {
    "duration": 19,
    "start_time": "2022-03-28T14:56:13.218Z"
   },
   {
    "duration": 20,
    "start_time": "2022-03-28T14:56:13.239Z"
   },
   {
    "duration": 21,
    "start_time": "2022-03-28T14:56:13.261Z"
   },
   {
    "duration": 15,
    "start_time": "2022-03-28T14:56:13.284Z"
   },
   {
    "duration": 25,
    "start_time": "2022-03-28T14:56:13.301Z"
   },
   {
    "duration": 25,
    "start_time": "2022-03-28T14:56:13.328Z"
   },
   {
    "duration": 23,
    "start_time": "2022-03-28T14:56:13.367Z"
   },
   {
    "duration": 34,
    "start_time": "2022-03-28T14:56:13.393Z"
   },
   {
    "duration": 13,
    "start_time": "2022-03-28T14:57:08.156Z"
   },
   {
    "duration": 49,
    "start_time": "2022-03-28T14:57:10.054Z"
   },
   {
    "duration": 9,
    "start_time": "2022-03-28T14:58:04.737Z"
   },
   {
    "duration": 42,
    "start_time": "2022-03-28T14:58:06.339Z"
   },
   {
    "duration": 11,
    "start_time": "2022-03-28T14:58:44.507Z"
   },
   {
    "duration": 18,
    "start_time": "2022-03-28T14:58:46.309Z"
   },
   {
    "duration": 7,
    "start_time": "2022-03-28T14:59:18.934Z"
   },
   {
    "duration": 39,
    "start_time": "2022-03-28T14:59:20.506Z"
   },
   {
    "duration": 12,
    "start_time": "2022-03-28T15:01:35.705Z"
   },
   {
    "duration": 48,
    "start_time": "2022-03-28T15:01:37.717Z"
   },
   {
    "duration": 141,
    "start_time": "2022-03-28T15:05:24.326Z"
   },
   {
    "duration": 10,
    "start_time": "2022-03-28T15:05:27.667Z"
   },
   {
    "duration": 10,
    "start_time": "2022-03-28T15:05:46.618Z"
   },
   {
    "duration": 23,
    "start_time": "2022-03-28T15:05:51.806Z"
   },
   {
    "duration": 10,
    "start_time": "2022-03-28T15:06:12.827Z"
   },
   {
    "duration": 15,
    "start_time": "2022-03-28T15:06:21.497Z"
   },
   {
    "duration": 19,
    "start_time": "2022-03-28T15:06:22.735Z"
   },
   {
    "duration": 13,
    "start_time": "2022-03-28T15:06:24.095Z"
   },
   {
    "duration": 490,
    "start_time": "2022-03-28T15:10:45.309Z"
   },
   {
    "duration": 25,
    "start_time": "2022-03-28T15:11:11.506Z"
   },
   {
    "duration": 24,
    "start_time": "2022-03-28T15:11:34.666Z"
   },
   {
    "duration": 24,
    "start_time": "2022-03-28T15:12:04.494Z"
   },
   {
    "duration": 11,
    "start_time": "2022-03-28T15:17:51.506Z"
   },
   {
    "duration": 25,
    "start_time": "2022-03-28T15:17:53.459Z"
   },
   {
    "duration": 13,
    "start_time": "2022-03-28T15:18:47.376Z"
   },
   {
    "duration": 27,
    "start_time": "2022-03-28T15:18:50.076Z"
   },
   {
    "duration": 25,
    "start_time": "2022-03-28T15:18:53.237Z"
   },
   {
    "duration": 25,
    "start_time": "2022-03-28T15:19:22.506Z"
   },
   {
    "duration": 11,
    "start_time": "2022-03-28T15:21:23.436Z"
   },
   {
    "duration": 16,
    "start_time": "2022-03-28T15:21:24.826Z"
   },
   {
    "duration": 17,
    "start_time": "2022-03-28T15:21:26.167Z"
   },
   {
    "duration": 15,
    "start_time": "2022-03-28T15:21:27.496Z"
   },
   {
    "duration": 23,
    "start_time": "2022-03-28T15:21:32.566Z"
   },
   {
    "duration": 25,
    "start_time": "2022-03-28T15:21:40.875Z"
   },
   {
    "duration": 9,
    "start_time": "2022-03-28T15:24:07.616Z"
   },
   {
    "duration": 25,
    "start_time": "2022-03-28T15:24:10.184Z"
   },
   {
    "duration": 10,
    "start_time": "2022-03-28T15:24:42.944Z"
   },
   {
    "duration": 26,
    "start_time": "2022-03-28T15:24:45.376Z"
   },
   {
    "duration": 8,
    "start_time": "2022-03-28T15:24:56.004Z"
   },
   {
    "duration": 25,
    "start_time": "2022-03-28T15:24:58.425Z"
   },
   {
    "duration": 6,
    "start_time": "2022-03-28T15:27:57.036Z"
   },
   {
    "duration": 25,
    "start_time": "2022-03-28T15:27:59.009Z"
   },
   {
    "duration": 34,
    "start_time": "2022-03-28T15:28:32.965Z"
   },
   {
    "duration": 6,
    "start_time": "2022-03-28T15:28:40.390Z"
   },
   {
    "duration": 35,
    "start_time": "2022-03-28T15:28:43.068Z"
   },
   {
    "duration": 7,
    "start_time": "2022-03-28T15:29:03.090Z"
   },
   {
    "duration": 37,
    "start_time": "2022-03-28T15:29:05.035Z"
   },
   {
    "duration": 1752,
    "start_time": "2022-03-28T15:31:06.565Z"
   },
   {
    "duration": 7,
    "start_time": "2022-03-28T15:31:11.706Z"
   },
   {
    "duration": 10,
    "start_time": "2022-03-28T15:33:41.516Z"
   },
   {
    "duration": 6,
    "start_time": "2022-03-28T15:33:55.258Z"
   },
   {
    "duration": 36,
    "start_time": "2022-03-28T15:33:57.257Z"
   },
   {
    "duration": 9,
    "start_time": "2022-03-28T15:39:13.317Z"
   },
   {
    "duration": 33,
    "start_time": "2022-03-28T15:39:15.415Z"
   },
   {
    "duration": 20,
    "start_time": "2022-03-28T15:52:47.287Z"
   },
   {
    "duration": 5,
    "start_time": "2022-03-28T15:53:15.275Z"
   },
   {
    "duration": 30,
    "start_time": "2022-03-28T15:53:23.457Z"
   },
   {
    "duration": 118,
    "start_time": "2022-03-28T15:53:32.726Z"
   },
   {
    "duration": 15,
    "start_time": "2022-03-28T15:53:45.967Z"
   },
   {
    "duration": 6,
    "start_time": "2022-03-28T15:54:11.724Z"
   },
   {
    "duration": 14,
    "start_time": "2022-03-28T15:54:20.968Z"
   },
   {
    "duration": 5,
    "start_time": "2022-03-28T15:54:23.177Z"
   },
   {
    "duration": 28,
    "start_time": "2022-03-28T15:54:27.120Z"
   },
   {
    "duration": 6,
    "start_time": "2022-03-28T15:55:33.270Z"
   },
   {
    "duration": 28,
    "start_time": "2022-03-28T15:55:43.917Z"
   },
   {
    "duration": 449,
    "start_time": "2022-03-28T16:07:28.627Z"
   },
   {
    "duration": 14,
    "start_time": "2022-03-28T16:09:39.726Z"
   },
   {
    "duration": 18,
    "start_time": "2022-03-28T16:10:00.977Z"
   },
   {
    "duration": 24,
    "start_time": "2022-03-28T16:10:22.567Z"
   },
   {
    "duration": 872,
    "start_time": "2022-04-02T04:48:58.079Z"
   },
   {
    "duration": 363,
    "start_time": "2022-04-02T04:48:58.953Z"
   },
   {
    "duration": 14,
    "start_time": "2022-04-02T04:48:59.318Z"
   },
   {
    "duration": 8,
    "start_time": "2022-04-02T04:48:59.334Z"
   },
   {
    "duration": 26,
    "start_time": "2022-04-02T04:48:59.344Z"
   },
   {
    "duration": 9,
    "start_time": "2022-04-02T04:48:59.372Z"
   },
   {
    "duration": 48,
    "start_time": "2022-04-02T04:48:59.382Z"
   },
   {
    "duration": 7,
    "start_time": "2022-04-02T04:48:59.432Z"
   },
   {
    "duration": 20,
    "start_time": "2022-04-02T04:48:59.440Z"
   },
   {
    "duration": 8,
    "start_time": "2022-04-02T04:48:59.462Z"
   },
   {
    "duration": 12,
    "start_time": "2022-04-02T04:48:59.472Z"
   },
   {
    "duration": 23,
    "start_time": "2022-04-02T04:48:59.486Z"
   },
   {
    "duration": 9,
    "start_time": "2022-04-02T04:48:59.511Z"
   },
   {
    "duration": 93,
    "start_time": "2022-04-02T04:48:59.523Z"
   },
   {
    "duration": 183,
    "start_time": "2022-04-02T04:48:59.618Z"
   },
   {
    "duration": 28,
    "start_time": "2022-04-02T04:48:59.803Z"
   },
   {
    "duration": 670,
    "start_time": "2022-04-02T04:48:59.833Z"
   },
   {
    "duration": 57,
    "start_time": "2022-04-02T04:49:00.508Z"
   },
   {
    "duration": 11,
    "start_time": "2022-04-02T04:49:00.567Z"
   },
   {
    "duration": 12,
    "start_time": "2022-04-02T04:49:00.580Z"
   },
   {
    "duration": 9,
    "start_time": "2022-04-02T04:49:00.609Z"
   },
   {
    "duration": 26,
    "start_time": "2022-04-02T04:49:00.620Z"
   },
   {
    "duration": 30,
    "start_time": "2022-04-02T04:49:00.648Z"
   },
   {
    "duration": 8,
    "start_time": "2022-04-02T04:49:00.679Z"
   },
   {
    "duration": 3,
    "start_time": "2022-04-02T04:49:00.710Z"
   },
   {
    "duration": 11,
    "start_time": "2022-04-02T04:49:00.714Z"
   },
   {
    "duration": 25,
    "start_time": "2022-04-02T04:49:00.726Z"
   },
   {
    "duration": 24,
    "start_time": "2022-04-02T04:49:00.752Z"
   },
   {
    "duration": 6,
    "start_time": "2022-04-02T04:49:00.777Z"
   },
   {
    "duration": 24,
    "start_time": "2022-04-02T04:49:00.785Z"
   },
   {
    "duration": 11,
    "start_time": "2022-04-02T04:49:00.810Z"
   },
   {
    "duration": 10,
    "start_time": "2022-04-02T04:49:00.822Z"
   },
   {
    "duration": 7,
    "start_time": "2022-04-02T04:49:00.833Z"
   },
   {
    "duration": 10,
    "start_time": "2022-04-02T04:49:00.842Z"
   },
   {
    "duration": 6,
    "start_time": "2022-04-02T04:49:00.854Z"
   },
   {
    "duration": 13,
    "start_time": "2022-04-02T04:49:00.861Z"
   },
   {
    "duration": 32,
    "start_time": "2022-04-02T04:49:00.876Z"
   },
   {
    "duration": 4,
    "start_time": "2022-04-02T04:49:00.910Z"
   },
   {
    "duration": 19,
    "start_time": "2022-04-02T04:49:00.916Z"
   },
   {
    "duration": 28,
    "start_time": "2022-04-02T04:49:00.936Z"
   },
   {
    "duration": 14,
    "start_time": "2022-04-02T04:49:00.968Z"
   },
   {
    "duration": 24,
    "start_time": "2022-04-02T04:49:00.983Z"
   },
   {
    "duration": 18,
    "start_time": "2022-04-02T04:49:01.009Z"
   },
   {
    "duration": 9,
    "start_time": "2022-04-02T04:49:01.029Z"
   },
   {
    "duration": 147,
    "start_time": "2022-04-02T04:49:01.040Z"
   },
   {
    "duration": 4,
    "start_time": "2022-04-02T04:49:01.189Z"
   },
   {
    "duration": 139,
    "start_time": "2022-04-02T04:49:01.194Z"
   },
   {
    "duration": 4,
    "start_time": "2022-04-02T04:49:01.334Z"
   },
   {
    "duration": 141,
    "start_time": "2022-04-02T04:49:01.340Z"
   },
   {
    "duration": 4,
    "start_time": "2022-04-02T04:49:01.483Z"
   },
   {
    "duration": 153,
    "start_time": "2022-04-02T04:49:01.488Z"
   },
   {
    "duration": 5,
    "start_time": "2022-04-02T04:49:01.642Z"
   },
   {
    "duration": 134,
    "start_time": "2022-04-02T04:49:01.648Z"
   },
   {
    "duration": 5,
    "start_time": "2022-04-02T04:49:01.783Z"
   },
   {
    "duration": 151,
    "start_time": "2022-04-02T04:49:01.789Z"
   },
   {
    "duration": 3,
    "start_time": "2022-04-02T04:49:01.941Z"
   },
   {
    "duration": 10,
    "start_time": "2022-04-02T04:49:01.945Z"
   },
   {
    "duration": 10,
    "start_time": "2022-04-02T04:49:01.956Z"
   },
   {
    "duration": 57,
    "start_time": "2022-04-02T04:58:15.955Z"
   },
   {
    "duration": 10,
    "start_time": "2022-04-02T04:58:17.139Z"
   },
   {
    "duration": 50,
    "start_time": "2022-04-02T04:58:35.395Z"
   },
   {
    "duration": 10,
    "start_time": "2022-04-02T04:58:36.839Z"
   },
   {
    "duration": 57,
    "start_time": "2022-04-02T04:58:46.848Z"
   },
   {
    "duration": 9,
    "start_time": "2022-04-02T04:58:48.125Z"
   },
   {
    "duration": 59,
    "start_time": "2022-04-02T04:58:58.487Z"
   },
   {
    "duration": 10,
    "start_time": "2022-04-02T04:58:59.882Z"
   },
   {
    "duration": 61,
    "start_time": "2022-04-02T04:59:12.237Z"
   },
   {
    "duration": 11,
    "start_time": "2022-04-02T04:59:13.337Z"
   },
   {
    "duration": 10,
    "start_time": "2022-04-02T04:59:17.086Z"
   },
   {
    "duration": 56,
    "start_time": "2022-04-02T04:59:21.846Z"
   },
   {
    "duration": 9,
    "start_time": "2022-04-02T04:59:23.077Z"
   },
   {
    "duration": 10,
    "start_time": "2022-04-02T04:59:38.206Z"
   },
   {
    "duration": 9,
    "start_time": "2022-04-02T04:59:41.186Z"
   },
   {
    "duration": 9,
    "start_time": "2022-04-02T04:59:42.365Z"
   },
   {
    "duration": 50,
    "start_time": "2022-04-02T05:00:06.896Z"
   },
   {
    "duration": 10,
    "start_time": "2022-04-02T05:00:08.195Z"
   },
   {
    "duration": 53,
    "start_time": "2022-04-02T05:00:14.146Z"
   },
   {
    "duration": 10,
    "start_time": "2022-04-02T05:00:15.235Z"
   },
   {
    "duration": 11,
    "start_time": "2022-04-02T05:00:27.767Z"
   },
   {
    "duration": 11,
    "start_time": "2022-04-02T05:00:29.703Z"
   },
   {
    "duration": 9,
    "start_time": "2022-04-02T05:00:35.395Z"
   },
   {
    "duration": 864,
    "start_time": "2022-04-02T05:05:02.896Z"
   },
   {
    "duration": 402,
    "start_time": "2022-04-02T05:05:03.762Z"
   },
   {
    "duration": 16,
    "start_time": "2022-04-02T05:05:04.165Z"
   },
   {
    "duration": 13,
    "start_time": "2022-04-02T05:05:04.182Z"
   },
   {
    "duration": 34,
    "start_time": "2022-04-02T05:05:04.198Z"
   },
   {
    "duration": 9,
    "start_time": "2022-04-02T05:05:04.233Z"
   },
   {
    "duration": 24,
    "start_time": "2022-04-02T05:05:04.243Z"
   },
   {
    "duration": 7,
    "start_time": "2022-04-02T05:05:04.269Z"
   },
   {
    "duration": 41,
    "start_time": "2022-04-02T05:05:04.278Z"
   },
   {
    "duration": 10,
    "start_time": "2022-04-02T05:05:04.321Z"
   },
   {
    "duration": 14,
    "start_time": "2022-04-02T05:05:04.333Z"
   },
   {
    "duration": 8,
    "start_time": "2022-04-02T05:05:04.348Z"
   },
   {
    "duration": 12,
    "start_time": "2022-04-02T05:05:04.358Z"
   },
   {
    "duration": 113,
    "start_time": "2022-04-02T05:05:04.373Z"
   },
   {
    "duration": 209,
    "start_time": "2022-04-02T05:05:04.488Z"
   },
   {
    "duration": 33,
    "start_time": "2022-04-02T05:05:04.699Z"
   },
   {
    "duration": 58,
    "start_time": "2022-04-02T05:05:04.734Z"
   },
   {
    "duration": 24,
    "start_time": "2022-04-02T05:05:04.794Z"
   },
   {
    "duration": 10,
    "start_time": "2022-04-02T05:05:04.820Z"
   },
   {
    "duration": 11,
    "start_time": "2022-04-02T05:05:04.831Z"
   },
   {
    "duration": 21,
    "start_time": "2022-04-02T05:05:04.843Z"
   },
   {
    "duration": 62,
    "start_time": "2022-04-02T05:05:04.866Z"
   },
   {
    "duration": 7,
    "start_time": "2022-04-02T05:05:04.929Z"
   },
   {
    "duration": 4,
    "start_time": "2022-04-02T05:05:04.938Z"
   },
   {
    "duration": 10,
    "start_time": "2022-04-02T05:05:04.944Z"
   },
   {
    "duration": 26,
    "start_time": "2022-04-02T05:05:04.956Z"
   },
   {
    "duration": 47,
    "start_time": "2022-04-02T05:05:04.984Z"
   },
   {
    "duration": 7,
    "start_time": "2022-04-02T05:05:05.033Z"
   },
   {
    "duration": 4,
    "start_time": "2022-04-02T05:05:05.042Z"
   },
   {
    "duration": 20,
    "start_time": "2022-04-02T05:05:05.048Z"
   },
   {
    "duration": 13,
    "start_time": "2022-04-02T05:05:05.070Z"
   },
   {
    "duration": 31,
    "start_time": "2022-04-02T05:05:05.085Z"
   },
   {
    "duration": 12,
    "start_time": "2022-04-02T05:05:05.118Z"
   },
   {
    "duration": 6,
    "start_time": "2022-04-02T05:05:05.132Z"
   },
   {
    "duration": 15,
    "start_time": "2022-04-02T05:05:05.140Z"
   },
   {
    "duration": 7,
    "start_time": "2022-04-02T05:05:05.157Z"
   },
   {
    "duration": 5,
    "start_time": "2022-04-02T05:05:05.166Z"
   },
   {
    "duration": 8,
    "start_time": "2022-04-02T05:05:05.210Z"
   },
   {
    "duration": 5,
    "start_time": "2022-04-02T05:05:05.220Z"
   },
   {
    "duration": 14,
    "start_time": "2022-04-02T05:05:05.227Z"
   },
   {
    "duration": 12,
    "start_time": "2022-04-02T05:05:05.246Z"
   },
   {
    "duration": 9,
    "start_time": "2022-04-02T05:05:05.260Z"
   },
   {
    "duration": 42,
    "start_time": "2022-04-02T05:05:05.271Z"
   },
   {
    "duration": 414,
    "start_time": "2022-04-02T05:05:05.315Z"
   },
   {
    "duration": 5,
    "start_time": "2022-04-02T05:05:05.731Z"
   },
   {
    "duration": 155,
    "start_time": "2022-04-02T05:05:05.739Z"
   },
   {
    "duration": 14,
    "start_time": "2022-04-02T05:05:05.896Z"
   },
   {
    "duration": 150,
    "start_time": "2022-04-02T05:05:05.912Z"
   },
   {
    "duration": 5,
    "start_time": "2022-04-02T05:05:06.064Z"
   },
   {
    "duration": 175,
    "start_time": "2022-04-02T05:05:06.071Z"
   },
   {
    "duration": 5,
    "start_time": "2022-04-02T05:05:06.249Z"
   },
   {
    "duration": 154,
    "start_time": "2022-04-02T05:05:06.256Z"
   },
   {
    "duration": 6,
    "start_time": "2022-04-02T05:05:06.412Z"
   },
   {
    "duration": 153,
    "start_time": "2022-04-02T05:05:06.420Z"
   },
   {
    "duration": 2,
    "start_time": "2022-04-02T05:05:06.575Z"
   },
   {
    "duration": 9,
    "start_time": "2022-04-02T05:05:06.579Z"
   },
   {
    "duration": 20,
    "start_time": "2022-04-02T05:05:06.590Z"
   },
   {
    "duration": 101,
    "start_time": "2022-04-02T05:06:40.633Z"
   },
   {
    "duration": 793,
    "start_time": "2022-04-02T05:08:53.157Z"
   },
   {
    "duration": 373,
    "start_time": "2022-04-02T05:08:53.952Z"
   },
   {
    "duration": 14,
    "start_time": "2022-04-02T05:08:54.327Z"
   },
   {
    "duration": 8,
    "start_time": "2022-04-02T05:08:54.342Z"
   },
   {
    "duration": 27,
    "start_time": "2022-04-02T05:08:54.352Z"
   },
   {
    "duration": 8,
    "start_time": "2022-04-02T05:08:54.380Z"
   },
   {
    "duration": 36,
    "start_time": "2022-04-02T05:08:54.389Z"
   },
   {
    "duration": 6,
    "start_time": "2022-04-02T05:08:54.426Z"
   },
   {
    "duration": 20,
    "start_time": "2022-04-02T05:08:54.433Z"
   },
   {
    "duration": 9,
    "start_time": "2022-04-02T05:08:54.455Z"
   },
   {
    "duration": 12,
    "start_time": "2022-04-02T05:08:54.466Z"
   },
   {
    "duration": 9,
    "start_time": "2022-04-02T05:08:54.508Z"
   },
   {
    "duration": 12,
    "start_time": "2022-04-02T05:08:54.519Z"
   },
   {
    "duration": 97,
    "start_time": "2022-04-02T05:08:54.534Z"
   },
   {
    "duration": 200,
    "start_time": "2022-04-02T05:08:54.633Z"
   },
   {
    "duration": 28,
    "start_time": "2022-04-02T05:08:54.835Z"
   },
   {
    "duration": 68,
    "start_time": "2022-04-02T05:08:54.864Z"
   },
   {
    "duration": 11,
    "start_time": "2022-04-02T05:08:54.934Z"
   },
   {
    "duration": 10,
    "start_time": "2022-04-02T05:08:54.946Z"
   },
   {
    "duration": 21,
    "start_time": "2022-04-02T05:08:54.958Z"
   },
   {
    "duration": 33,
    "start_time": "2022-04-02T05:08:54.980Z"
   },
   {
    "duration": 30,
    "start_time": "2022-04-02T05:08:55.014Z"
   },
   {
    "duration": 6,
    "start_time": "2022-04-02T05:08:55.046Z"
   },
   {
    "duration": 8,
    "start_time": "2022-04-02T05:08:55.053Z"
   },
   {
    "duration": 13,
    "start_time": "2022-04-02T05:08:55.062Z"
   },
   {
    "duration": 47,
    "start_time": "2022-04-02T05:08:55.077Z"
   },
   {
    "duration": 25,
    "start_time": "2022-04-02T05:08:55.125Z"
   },
   {
    "duration": 7,
    "start_time": "2022-04-02T05:08:55.152Z"
   },
   {
    "duration": 19,
    "start_time": "2022-04-02T05:08:55.160Z"
   },
   {
    "duration": 29,
    "start_time": "2022-04-02T05:08:55.181Z"
   },
   {
    "duration": 17,
    "start_time": "2022-04-02T05:08:55.212Z"
   },
   {
    "duration": 24,
    "start_time": "2022-04-02T05:08:55.230Z"
   },
   {
    "duration": 15,
    "start_time": "2022-04-02T05:08:55.256Z"
   },
   {
    "duration": 13,
    "start_time": "2022-04-02T05:08:55.272Z"
   },
   {
    "duration": 16,
    "start_time": "2022-04-02T05:08:55.287Z"
   },
   {
    "duration": 24,
    "start_time": "2022-04-02T05:08:55.304Z"
   },
   {
    "duration": 18,
    "start_time": "2022-04-02T05:08:55.330Z"
   },
   {
    "duration": 17,
    "start_time": "2022-04-02T05:08:55.350Z"
   },
   {
    "duration": 15,
    "start_time": "2022-04-02T05:08:55.369Z"
   },
   {
    "duration": 17,
    "start_time": "2022-04-02T05:08:55.385Z"
   },
   {
    "duration": 27,
    "start_time": "2022-04-02T05:08:55.406Z"
   },
   {
    "duration": 16,
    "start_time": "2022-04-02T05:08:55.434Z"
   },
   {
    "duration": 13,
    "start_time": "2022-04-02T05:08:55.451Z"
   },
   {
    "duration": 405,
    "start_time": "2022-04-02T05:08:55.465Z"
   },
   {
    "duration": 5,
    "start_time": "2022-04-02T05:08:55.872Z"
   },
   {
    "duration": 151,
    "start_time": "2022-04-02T05:08:55.878Z"
   },
   {
    "duration": 5,
    "start_time": "2022-04-02T05:08:56.030Z"
   },
   {
    "duration": 144,
    "start_time": "2022-04-02T05:08:56.036Z"
   },
   {
    "duration": 5,
    "start_time": "2022-04-02T05:08:56.181Z"
   },
   {
    "duration": 151,
    "start_time": "2022-04-02T05:08:56.187Z"
   },
   {
    "duration": 4,
    "start_time": "2022-04-02T05:08:56.340Z"
   },
   {
    "duration": 142,
    "start_time": "2022-04-02T05:08:56.346Z"
   },
   {
    "duration": 4,
    "start_time": "2022-04-02T05:08:56.490Z"
   },
   {
    "duration": 148,
    "start_time": "2022-04-02T05:08:56.496Z"
   },
   {
    "duration": 3,
    "start_time": "2022-04-02T05:08:56.645Z"
   },
   {
    "duration": 10,
    "start_time": "2022-04-02T05:08:56.649Z"
   },
   {
    "duration": 7,
    "start_time": "2022-04-02T05:08:56.660Z"
   },
   {
    "duration": 11,
    "start_time": "2022-04-02T05:10:21.896Z"
   },
   {
    "duration": 11,
    "start_time": "2022-04-02T05:10:23.432Z"
   },
   {
    "duration": 187,
    "start_time": "2022-04-02T05:34:02.611Z"
   },
   {
    "duration": 142,
    "start_time": "2022-04-02T05:34:12.623Z"
   },
   {
    "duration": 17,
    "start_time": "2022-04-02T05:43:07.180Z"
   },
   {
    "duration": 17,
    "start_time": "2022-04-02T05:43:11.180Z"
   },
   {
    "duration": 98,
    "start_time": "2022-04-02T05:44:30.742Z"
   },
   {
    "duration": 7,
    "start_time": "2022-04-02T05:45:20.599Z"
   },
   {
    "duration": 4,
    "start_time": "2022-04-02T05:45:35.371Z"
   },
   {
    "duration": 5,
    "start_time": "2022-04-02T05:45:44.769Z"
   },
   {
    "duration": 5,
    "start_time": "2022-04-02T05:46:31.898Z"
   },
   {
    "duration": 4,
    "start_time": "2022-04-02T05:46:56.629Z"
   },
   {
    "duration": 11,
    "start_time": "2022-04-02T05:47:00.818Z"
   },
   {
    "duration": 12,
    "start_time": "2022-04-02T05:47:03.248Z"
   },
   {
    "duration": 11,
    "start_time": "2022-04-02T05:52:07.684Z"
   },
   {
    "duration": 8,
    "start_time": "2022-04-02T05:52:55.428Z"
   },
   {
    "duration": 9,
    "start_time": "2022-04-02T05:53:24.476Z"
   },
   {
    "duration": 9,
    "start_time": "2022-04-02T05:56:10.760Z"
   },
   {
    "duration": 137,
    "start_time": "2022-04-02T05:56:22.460Z"
   },
   {
    "duration": 9,
    "start_time": "2022-04-02T05:56:34.357Z"
   },
   {
    "duration": 956,
    "start_time": "2022-04-02T05:59:22.601Z"
   },
   {
    "duration": 131,
    "start_time": "2022-04-02T06:00:04.664Z"
   },
   {
    "duration": 138,
    "start_time": "2022-04-02T06:00:09.623Z"
   },
   {
    "duration": 260,
    "start_time": "2022-04-02T06:07:55.641Z"
   },
   {
    "duration": 142,
    "start_time": "2022-04-02T06:08:02.264Z"
   },
   {
    "duration": 136,
    "start_time": "2022-04-02T06:08:11.630Z"
   },
   {
    "duration": 127,
    "start_time": "2022-04-02T06:08:31.181Z"
   },
   {
    "duration": 126,
    "start_time": "2022-04-02T06:08:37.859Z"
   },
   {
    "duration": 136,
    "start_time": "2022-04-02T06:08:46.021Z"
   },
   {
    "duration": 137,
    "start_time": "2022-04-02T06:08:54.608Z"
   },
   {
    "duration": 135,
    "start_time": "2022-04-02T06:08:59.620Z"
   },
   {
    "duration": 111,
    "start_time": "2022-04-02T06:09:20.617Z"
   },
   {
    "duration": 126,
    "start_time": "2022-04-02T06:09:24.428Z"
   },
   {
    "duration": 135,
    "start_time": "2022-04-02T06:09:30.891Z"
   },
   {
    "duration": 130,
    "start_time": "2022-04-02T06:09:40.850Z"
   },
   {
    "duration": 134,
    "start_time": "2022-04-02T06:09:46.400Z"
   },
   {
    "duration": 129,
    "start_time": "2022-04-02T06:10:00.851Z"
   },
   {
    "duration": 858,
    "start_time": "2022-04-02T08:54:03.021Z"
   },
   {
    "duration": 365,
    "start_time": "2022-04-02T08:54:03.881Z"
   },
   {
    "duration": 14,
    "start_time": "2022-04-02T08:54:04.248Z"
   },
   {
    "duration": 9,
    "start_time": "2022-04-02T08:54:04.263Z"
   },
   {
    "duration": 28,
    "start_time": "2022-04-02T08:54:04.274Z"
   },
   {
    "duration": 8,
    "start_time": "2022-04-02T08:54:04.304Z"
   },
   {
    "duration": 38,
    "start_time": "2022-04-02T08:54:04.314Z"
   },
   {
    "duration": 7,
    "start_time": "2022-04-02T08:54:04.354Z"
   },
   {
    "duration": 24,
    "start_time": "2022-04-02T08:54:04.362Z"
   },
   {
    "duration": 10,
    "start_time": "2022-04-02T08:54:04.387Z"
   },
   {
    "duration": 35,
    "start_time": "2022-04-02T08:54:04.399Z"
   },
   {
    "duration": 8,
    "start_time": "2022-04-02T08:54:04.435Z"
   },
   {
    "duration": 10,
    "start_time": "2022-04-02T08:54:04.444Z"
   },
   {
    "duration": 93,
    "start_time": "2022-04-02T08:54:04.457Z"
   },
   {
    "duration": 187,
    "start_time": "2022-04-02T08:54:04.551Z"
   },
   {
    "duration": 27,
    "start_time": "2022-04-02T08:54:04.739Z"
   },
   {
    "duration": 66,
    "start_time": "2022-04-02T08:54:04.768Z"
   },
   {
    "duration": 10,
    "start_time": "2022-04-02T08:54:04.836Z"
   },
   {
    "duration": 10,
    "start_time": "2022-04-02T08:54:04.848Z"
   },
   {
    "duration": 11,
    "start_time": "2022-04-02T08:54:04.859Z"
   },
   {
    "duration": 23,
    "start_time": "2022-04-02T08:54:04.871Z"
   },
   {
    "duration": 55,
    "start_time": "2022-04-02T08:54:04.895Z"
   },
   {
    "duration": 7,
    "start_time": "2022-04-02T08:54:04.952Z"
   },
   {
    "duration": 6,
    "start_time": "2022-04-02T08:54:04.960Z"
   },
   {
    "duration": 10,
    "start_time": "2022-04-02T08:54:04.967Z"
   },
   {
    "duration": 24,
    "start_time": "2022-04-02T08:54:04.979Z"
   },
   {
    "duration": 43,
    "start_time": "2022-04-02T08:54:05.005Z"
   },
   {
    "duration": 7,
    "start_time": "2022-04-02T08:54:05.050Z"
   },
   {
    "duration": 8,
    "start_time": "2022-04-02T08:54:05.058Z"
   },
   {
    "duration": 13,
    "start_time": "2022-04-02T08:54:05.067Z"
   },
   {
    "duration": 11,
    "start_time": "2022-04-02T08:54:05.082Z"
   },
   {
    "duration": 8,
    "start_time": "2022-04-02T08:54:05.094Z"
   },
   {
    "duration": 36,
    "start_time": "2022-04-02T08:54:05.103Z"
   },
   {
    "duration": 7,
    "start_time": "2022-04-02T08:54:05.141Z"
   },
   {
    "duration": 14,
    "start_time": "2022-04-02T08:54:05.149Z"
   },
   {
    "duration": 6,
    "start_time": "2022-04-02T08:54:05.165Z"
   },
   {
    "duration": 5,
    "start_time": "2022-04-02T08:54:05.173Z"
   },
   {
    "duration": 8,
    "start_time": "2022-04-02T08:54:05.180Z"
   },
   {
    "duration": 7,
    "start_time": "2022-04-02T08:54:05.190Z"
   },
   {
    "duration": 36,
    "start_time": "2022-04-02T08:54:05.198Z"
   },
   {
    "duration": 7,
    "start_time": "2022-04-02T08:54:05.238Z"
   },
   {
    "duration": 13,
    "start_time": "2022-04-02T08:54:05.247Z"
   },
   {
    "duration": 11,
    "start_time": "2022-04-02T08:54:05.262Z"
   },
   {
    "duration": 5,
    "start_time": "2022-04-02T08:54:05.275Z"
   },
   {
    "duration": 5,
    "start_time": "2022-04-02T08:54:05.282Z"
   },
   {
    "duration": 7,
    "start_time": "2022-04-02T08:54:05.288Z"
   },
   {
    "duration": 597,
    "start_time": "2022-04-02T08:54:05.297Z"
   },
   {
    "duration": 5,
    "start_time": "2022-04-02T08:54:05.896Z"
   },
   {
    "duration": 133,
    "start_time": "2022-04-02T08:54:05.902Z"
   },
   {
    "duration": 5,
    "start_time": "2022-04-02T08:54:06.037Z"
   },
   {
    "duration": 10,
    "start_time": "2022-04-02T08:54:06.043Z"
   },
   {
    "duration": 146,
    "start_time": "2022-04-02T08:54:06.055Z"
   },
   {
    "duration": 4,
    "start_time": "2022-04-02T08:54:06.203Z"
   },
   {
    "duration": 10,
    "start_time": "2022-04-02T08:54:06.209Z"
   },
   {
    "duration": 166,
    "start_time": "2022-04-02T08:54:06.221Z"
   },
   {
    "duration": 5,
    "start_time": "2022-04-02T08:54:06.389Z"
   },
   {
    "duration": 137,
    "start_time": "2022-04-02T08:54:06.396Z"
   },
   {
    "duration": 5,
    "start_time": "2022-04-02T08:54:06.535Z"
   },
   {
    "duration": 141,
    "start_time": "2022-04-02T08:54:06.542Z"
   },
   {
    "duration": 131,
    "start_time": "2022-04-02T08:54:06.685Z"
   },
   {
    "duration": 125,
    "start_time": "2022-04-02T08:54:06.818Z"
   },
   {
    "duration": 3,
    "start_time": "2022-04-02T08:54:06.945Z"
   },
   {
    "duration": 5,
    "start_time": "2022-04-02T08:54:06.949Z"
   },
   {
    "duration": 7,
    "start_time": "2022-04-02T08:54:06.956Z"
   },
   {
    "duration": 9,
    "start_time": "2022-04-02T08:54:06.964Z"
   },
   {
    "duration": 3,
    "start_time": "2022-04-02T08:55:07.731Z"
   },
   {
    "duration": 4,
    "start_time": "2022-04-02T08:55:10.000Z"
   },
   {
    "duration": 4,
    "start_time": "2022-04-02T08:55:16.648Z"
   },
   {
    "duration": 3,
    "start_time": "2022-04-02T08:55:17.890Z"
   },
   {
    "duration": 4,
    "start_time": "2022-04-02T08:56:56.529Z"
   },
   {
    "duration": 4,
    "start_time": "2022-04-02T08:57:03.900Z"
   },
   {
    "duration": 4,
    "start_time": "2022-04-02T08:57:11.943Z"
   },
   {
    "duration": 4,
    "start_time": "2022-04-02T08:57:23.806Z"
   },
   {
    "duration": 4,
    "start_time": "2022-04-02T08:57:44.759Z"
   },
   {
    "duration": 2,
    "start_time": "2022-04-02T09:11:57.864Z"
   },
   {
    "duration": 2,
    "start_time": "2022-04-02T09:12:14.409Z"
   },
   {
    "duration": 4,
    "start_time": "2022-04-02T09:19:04.632Z"
   },
   {
    "duration": 4,
    "start_time": "2022-04-02T09:19:05.945Z"
   },
   {
    "duration": 5,
    "start_time": "2022-04-02T09:20:43.876Z"
   },
   {
    "duration": 6,
    "start_time": "2022-04-02T09:20:45.255Z"
   },
   {
    "duration": 4,
    "start_time": "2022-04-02T09:22:51.636Z"
   },
   {
    "duration": 4,
    "start_time": "2022-04-02T09:23:14.583Z"
   },
   {
    "duration": 4,
    "start_time": "2022-04-02T09:23:24.655Z"
   },
   {
    "duration": 3,
    "start_time": "2022-04-02T09:23:45.275Z"
   },
   {
    "duration": 3,
    "start_time": "2022-04-02T09:23:46.438Z"
   },
   {
    "duration": 3,
    "start_time": "2022-04-02T09:23:47.541Z"
   },
   {
    "duration": 795,
    "start_time": "2022-04-02T09:37:49.185Z"
   },
   {
    "duration": 369,
    "start_time": "2022-04-02T09:37:49.982Z"
   },
   {
    "duration": 14,
    "start_time": "2022-04-02T09:37:50.353Z"
   },
   {
    "duration": 12,
    "start_time": "2022-04-02T09:37:50.369Z"
   },
   {
    "duration": 25,
    "start_time": "2022-04-02T09:37:50.384Z"
   },
   {
    "duration": 9,
    "start_time": "2022-04-02T09:37:50.411Z"
   },
   {
    "duration": 20,
    "start_time": "2022-04-02T09:37:50.433Z"
   },
   {
    "duration": 7,
    "start_time": "2022-04-02T09:37:50.454Z"
   },
   {
    "duration": 22,
    "start_time": "2022-04-02T09:37:50.463Z"
   },
   {
    "duration": 11,
    "start_time": "2022-04-02T09:37:50.487Z"
   },
   {
    "duration": 41,
    "start_time": "2022-04-02T09:37:50.500Z"
   },
   {
    "duration": 8,
    "start_time": "2022-04-02T09:37:50.542Z"
   },
   {
    "duration": 9,
    "start_time": "2022-04-02T09:37:50.552Z"
   },
   {
    "duration": 96,
    "start_time": "2022-04-02T09:37:50.564Z"
   },
   {
    "duration": 183,
    "start_time": "2022-04-02T09:37:50.661Z"
   },
   {
    "duration": 26,
    "start_time": "2022-04-02T09:37:50.846Z"
   },
   {
    "duration": 66,
    "start_time": "2022-04-02T09:37:50.874Z"
   },
   {
    "duration": 10,
    "start_time": "2022-04-02T09:37:50.942Z"
   },
   {
    "duration": 9,
    "start_time": "2022-04-02T09:37:50.953Z"
   },
   {
    "duration": 10,
    "start_time": "2022-04-02T09:37:50.964Z"
   },
   {
    "duration": 21,
    "start_time": "2022-04-02T09:37:50.975Z"
   },
   {
    "duration": 54,
    "start_time": "2022-04-02T09:37:50.998Z"
   },
   {
    "duration": 7,
    "start_time": "2022-04-02T09:37:51.054Z"
   },
   {
    "duration": 5,
    "start_time": "2022-04-02T09:37:51.062Z"
   },
   {
    "duration": 11,
    "start_time": "2022-04-02T09:37:51.068Z"
   },
   {
    "duration": 25,
    "start_time": "2022-04-02T09:37:51.081Z"
   },
   {
    "duration": 43,
    "start_time": "2022-04-02T09:37:51.108Z"
   },
   {
    "duration": 7,
    "start_time": "2022-04-02T09:37:51.153Z"
   },
   {
    "duration": 6,
    "start_time": "2022-04-02T09:37:51.161Z"
   },
   {
    "duration": 12,
    "start_time": "2022-04-02T09:37:51.168Z"
   },
   {
    "duration": 10,
    "start_time": "2022-04-02T09:37:51.181Z"
   },
   {
    "duration": 10,
    "start_time": "2022-04-02T09:37:51.193Z"
   },
   {
    "duration": 31,
    "start_time": "2022-04-02T09:37:51.205Z"
   },
   {
    "duration": 6,
    "start_time": "2022-04-02T09:37:51.238Z"
   },
   {
    "duration": 18,
    "start_time": "2022-04-02T09:37:51.245Z"
   },
   {
    "duration": 7,
    "start_time": "2022-04-02T09:37:51.264Z"
   },
   {
    "duration": 4,
    "start_time": "2022-04-02T09:37:51.272Z"
   },
   {
    "duration": 8,
    "start_time": "2022-04-02T09:37:51.277Z"
   },
   {
    "duration": 5,
    "start_time": "2022-04-02T09:37:51.286Z"
   },
   {
    "duration": 12,
    "start_time": "2022-04-02T09:37:51.292Z"
   },
   {
    "duration": 8,
    "start_time": "2022-04-02T09:37:51.334Z"
   },
   {
    "duration": 12,
    "start_time": "2022-04-02T09:37:51.343Z"
   },
   {
    "duration": 11,
    "start_time": "2022-04-02T09:37:51.357Z"
   },
   {
    "duration": 6,
    "start_time": "2022-04-02T09:37:51.369Z"
   },
   {
    "duration": 5,
    "start_time": "2022-04-02T09:37:51.376Z"
   },
   {
    "duration": 6,
    "start_time": "2022-04-02T09:37:51.383Z"
   },
   {
    "duration": 431,
    "start_time": "2022-04-02T09:37:51.391Z"
   },
   {
    "duration": 10,
    "start_time": "2022-04-02T09:37:51.824Z"
   },
   {
    "duration": 131,
    "start_time": "2022-04-02T09:37:51.835Z"
   },
   {
    "duration": 4,
    "start_time": "2022-04-02T09:37:51.968Z"
   },
   {
    "duration": 10,
    "start_time": "2022-04-02T09:37:51.974Z"
   },
   {
    "duration": 131,
    "start_time": "2022-04-02T09:37:51.985Z"
   },
   {
    "duration": 4,
    "start_time": "2022-04-02T09:37:52.118Z"
   },
   {
    "duration": 7,
    "start_time": "2022-04-02T09:37:52.133Z"
   },
   {
    "duration": 146,
    "start_time": "2022-04-02T09:37:52.141Z"
   },
   {
    "duration": 4,
    "start_time": "2022-04-02T09:37:52.289Z"
   },
   {
    "duration": 130,
    "start_time": "2022-04-02T09:37:52.294Z"
   },
   {
    "duration": 4,
    "start_time": "2022-04-02T09:37:52.432Z"
   },
   {
    "duration": 128,
    "start_time": "2022-04-02T09:37:52.438Z"
   },
   {
    "duration": 126,
    "start_time": "2022-04-02T09:37:52.568Z"
   },
   {
    "duration": 124,
    "start_time": "2022-04-02T09:37:52.696Z"
   },
   {
    "duration": 2,
    "start_time": "2022-04-02T09:37:52.822Z"
   },
   {
    "duration": 4,
    "start_time": "2022-04-02T09:37:52.833Z"
   },
   {
    "duration": 7,
    "start_time": "2022-04-02T09:37:52.838Z"
   },
   {
    "duration": 9,
    "start_time": "2022-04-02T09:37:52.846Z"
   },
   {
    "duration": 6,
    "start_time": "2022-04-02T09:37:52.856Z"
   },
   {
    "duration": 10,
    "start_time": "2022-04-02T09:37:52.863Z"
   },
   {
    "duration": 18,
    "start_time": "2022-04-02T09:37:52.875Z"
   },
   {
    "duration": 6,
    "start_time": "2022-04-02T09:37:52.894Z"
   },
   {
    "duration": 878,
    "start_time": "2022-04-02T10:09:18.614Z"
   },
   {
    "duration": 385,
    "start_time": "2022-04-02T10:09:19.494Z"
   },
   {
    "duration": 15,
    "start_time": "2022-04-02T10:09:19.880Z"
   },
   {
    "duration": 9,
    "start_time": "2022-04-02T10:09:19.897Z"
   },
   {
    "duration": 34,
    "start_time": "2022-04-02T10:09:19.908Z"
   },
   {
    "duration": 9,
    "start_time": "2022-04-02T10:09:19.944Z"
   },
   {
    "duration": 29,
    "start_time": "2022-04-02T10:09:19.954Z"
   },
   {
    "duration": 7,
    "start_time": "2022-04-02T10:09:19.985Z"
   },
   {
    "duration": 22,
    "start_time": "2022-04-02T10:09:19.994Z"
   },
   {
    "duration": 11,
    "start_time": "2022-04-02T10:09:20.032Z"
   },
   {
    "duration": 19,
    "start_time": "2022-04-02T10:09:20.045Z"
   },
   {
    "duration": 9,
    "start_time": "2022-04-02T10:09:20.066Z"
   },
   {
    "duration": 14,
    "start_time": "2022-04-02T10:09:20.077Z"
   },
   {
    "duration": 97,
    "start_time": "2022-04-02T10:09:20.093Z"
   },
   {
    "duration": 212,
    "start_time": "2022-04-02T10:09:20.191Z"
   },
   {
    "duration": 35,
    "start_time": "2022-04-02T10:09:20.405Z"
   },
   {
    "duration": 57,
    "start_time": "2022-04-02T10:09:20.442Z"
   },
   {
    "duration": 10,
    "start_time": "2022-04-02T10:09:20.501Z"
   },
   {
    "duration": 26,
    "start_time": "2022-04-02T10:09:20.513Z"
   },
   {
    "duration": 8,
    "start_time": "2022-04-02T10:09:20.541Z"
   },
   {
    "duration": 21,
    "start_time": "2022-04-02T10:09:20.551Z"
   },
   {
    "duration": 29,
    "start_time": "2022-04-02T10:09:20.573Z"
   },
   {
    "duration": 33,
    "start_time": "2022-04-02T10:09:20.604Z"
   },
   {
    "duration": 4,
    "start_time": "2022-04-02T10:09:20.639Z"
   },
   {
    "duration": 10,
    "start_time": "2022-04-02T10:09:20.644Z"
   },
   {
    "duration": 23,
    "start_time": "2022-04-02T10:09:20.655Z"
   },
   {
    "duration": 25,
    "start_time": "2022-04-02T10:09:20.680Z"
   },
   {
    "duration": 8,
    "start_time": "2022-04-02T10:09:20.733Z"
   },
   {
    "duration": 4,
    "start_time": "2022-04-02T10:09:20.743Z"
   },
   {
    "duration": 11,
    "start_time": "2022-04-02T10:09:20.748Z"
   },
   {
    "duration": 8,
    "start_time": "2022-04-02T10:09:20.761Z"
   },
   {
    "duration": 8,
    "start_time": "2022-04-02T10:09:20.771Z"
   },
   {
    "duration": 10,
    "start_time": "2022-04-02T10:09:20.781Z"
   },
   {
    "duration": 39,
    "start_time": "2022-04-02T10:09:20.793Z"
   },
   {
    "duration": 15,
    "start_time": "2022-04-02T10:09:20.834Z"
   },
   {
    "duration": 6,
    "start_time": "2022-04-02T10:09:20.851Z"
   },
   {
    "duration": 3,
    "start_time": "2022-04-02T10:09:20.859Z"
   },
   {
    "duration": 8,
    "start_time": "2022-04-02T10:09:20.863Z"
   },
   {
    "duration": 9,
    "start_time": "2022-04-02T10:09:20.872Z"
   },
   {
    "duration": 21,
    "start_time": "2022-04-02T10:09:20.883Z"
   },
   {
    "duration": 29,
    "start_time": "2022-04-02T10:09:20.905Z"
   },
   {
    "duration": 10,
    "start_time": "2022-04-02T10:09:20.936Z"
   },
   {
    "duration": 11,
    "start_time": "2022-04-02T10:09:20.947Z"
   },
   {
    "duration": 5,
    "start_time": "2022-04-02T10:09:20.959Z"
   },
   {
    "duration": 5,
    "start_time": "2022-04-02T10:09:20.966Z"
   },
   {
    "duration": 6,
    "start_time": "2022-04-02T10:09:20.972Z"
   },
   {
    "duration": 511,
    "start_time": "2022-04-02T10:09:20.979Z"
   },
   {
    "duration": 5,
    "start_time": "2022-04-02T10:09:21.491Z"
   },
   {
    "duration": 136,
    "start_time": "2022-04-02T10:09:21.498Z"
   },
   {
    "duration": 5,
    "start_time": "2022-04-02T10:09:21.636Z"
   },
   {
    "duration": 12,
    "start_time": "2022-04-02T10:09:21.642Z"
   },
   {
    "duration": 145,
    "start_time": "2022-04-02T10:09:21.655Z"
   },
   {
    "duration": 5,
    "start_time": "2022-04-02T10:09:21.802Z"
   },
   {
    "duration": 25,
    "start_time": "2022-04-02T10:09:21.809Z"
   },
   {
    "duration": 149,
    "start_time": "2022-04-02T10:09:21.836Z"
   },
   {
    "duration": 5,
    "start_time": "2022-04-02T10:09:21.987Z"
   },
   {
    "duration": 140,
    "start_time": "2022-04-02T10:09:21.994Z"
   },
   {
    "duration": 5,
    "start_time": "2022-04-02T10:09:22.136Z"
   },
   {
    "duration": 140,
    "start_time": "2022-04-02T10:09:22.143Z"
   },
   {
    "duration": 130,
    "start_time": "2022-04-02T10:09:22.285Z"
   },
   {
    "duration": 136,
    "start_time": "2022-04-02T10:09:22.417Z"
   },
   {
    "duration": 3,
    "start_time": "2022-04-02T10:09:22.555Z"
   },
   {
    "duration": 6,
    "start_time": "2022-04-02T10:09:22.559Z"
   },
   {
    "duration": 5,
    "start_time": "2022-04-02T10:09:22.567Z"
   },
   {
    "duration": 8,
    "start_time": "2022-04-02T10:09:22.574Z"
   },
   {
    "duration": 7,
    "start_time": "2022-04-02T10:09:22.584Z"
   },
   {
    "duration": 5,
    "start_time": "2022-04-02T10:09:22.593Z"
   },
   {
    "duration": 33,
    "start_time": "2022-04-02T10:09:22.600Z"
   },
   {
    "duration": 5,
    "start_time": "2022-04-02T10:09:22.635Z"
   },
   {
    "duration": 852,
    "start_time": "2022-04-12T17:24:36.719Z"
   },
   {
    "duration": 390,
    "start_time": "2022-04-12T17:24:37.573Z"
   },
   {
    "duration": 14,
    "start_time": "2022-04-12T17:24:37.965Z"
   },
   {
    "duration": 9,
    "start_time": "2022-04-12T17:24:37.980Z"
   },
   {
    "duration": 30,
    "start_time": "2022-04-12T17:24:37.991Z"
   },
   {
    "duration": 8,
    "start_time": "2022-04-12T17:24:38.023Z"
   },
   {
    "duration": 22,
    "start_time": "2022-04-12T17:24:38.032Z"
   },
   {
    "duration": 8,
    "start_time": "2022-04-12T17:24:38.072Z"
   },
   {
    "duration": 20,
    "start_time": "2022-04-12T17:24:38.082Z"
   },
   {
    "duration": 10,
    "start_time": "2022-04-12T17:24:38.103Z"
   },
   {
    "duration": 15,
    "start_time": "2022-04-12T17:24:38.115Z"
   },
   {
    "duration": 11,
    "start_time": "2022-04-12T17:24:38.131Z"
   },
   {
    "duration": 33,
    "start_time": "2022-04-12T17:24:38.144Z"
   },
   {
    "duration": 83,
    "start_time": "2022-04-12T17:24:38.180Z"
   },
   {
    "duration": 200,
    "start_time": "2022-04-12T17:24:38.265Z"
   },
   {
    "duration": 26,
    "start_time": "2022-04-12T17:24:38.467Z"
   },
   {
    "duration": 52,
    "start_time": "2022-04-12T17:24:38.495Z"
   },
   {
    "duration": 27,
    "start_time": "2022-04-12T17:24:38.549Z"
   },
   {
    "duration": 9,
    "start_time": "2022-04-12T17:24:38.577Z"
   },
   {
    "duration": 16,
    "start_time": "2022-04-12T17:24:38.587Z"
   },
   {
    "duration": 24,
    "start_time": "2022-04-12T17:24:38.605Z"
   },
   {
    "duration": 48,
    "start_time": "2022-04-12T17:24:38.630Z"
   },
   {
    "duration": 8,
    "start_time": "2022-04-12T17:24:38.680Z"
   },
   {
    "duration": 5,
    "start_time": "2022-04-12T17:24:38.690Z"
   },
   {
    "duration": 11,
    "start_time": "2022-04-12T17:24:38.697Z"
   },
   {
    "duration": 26,
    "start_time": "2022-04-12T17:24:38.710Z"
   },
   {
    "duration": 54,
    "start_time": "2022-04-12T17:24:38.738Z"
   },
   {
    "duration": 9,
    "start_time": "2022-04-12T17:24:38.793Z"
   },
   {
    "duration": 8,
    "start_time": "2022-04-12T17:24:38.803Z"
   },
   {
    "duration": 13,
    "start_time": "2022-04-12T17:24:38.813Z"
   },
   {
    "duration": 14,
    "start_time": "2022-04-12T17:24:38.828Z"
   },
   {
    "duration": 10,
    "start_time": "2022-04-12T17:24:38.843Z"
   },
   {
    "duration": 10,
    "start_time": "2022-04-12T17:24:38.874Z"
   },
   {
    "duration": 8,
    "start_time": "2022-04-12T17:24:38.886Z"
   },
   {
    "duration": 15,
    "start_time": "2022-04-12T17:24:38.895Z"
   },
   {
    "duration": 7,
    "start_time": "2022-04-12T17:24:38.912Z"
   },
   {
    "duration": 5,
    "start_time": "2022-04-12T17:24:38.921Z"
   },
   {
    "duration": 8,
    "start_time": "2022-04-12T17:24:38.927Z"
   },
   {
    "duration": 5,
    "start_time": "2022-04-12T17:24:38.937Z"
   },
   {
    "duration": 42,
    "start_time": "2022-04-12T17:24:38.943Z"
   },
   {
    "duration": 9,
    "start_time": "2022-04-12T17:24:38.991Z"
   },
   {
    "duration": 13,
    "start_time": "2022-04-12T17:24:39.002Z"
   },
   {
    "duration": 13,
    "start_time": "2022-04-12T17:24:39.016Z"
   },
   {
    "duration": 5,
    "start_time": "2022-04-12T17:24:39.031Z"
   },
   {
    "duration": 36,
    "start_time": "2022-04-12T17:24:39.038Z"
   },
   {
    "duration": 8,
    "start_time": "2022-04-12T17:24:39.076Z"
   },
   {
    "duration": 407,
    "start_time": "2022-04-12T17:24:39.086Z"
   },
   {
    "duration": 5,
    "start_time": "2022-04-12T17:24:39.494Z"
   },
   {
    "duration": 141,
    "start_time": "2022-04-12T17:24:39.501Z"
   },
   {
    "duration": 5,
    "start_time": "2022-04-12T17:24:39.643Z"
   },
   {
    "duration": 10,
    "start_time": "2022-04-12T17:24:39.650Z"
   },
   {
    "duration": 134,
    "start_time": "2022-04-12T17:24:39.673Z"
   },
   {
    "duration": 5,
    "start_time": "2022-04-12T17:24:39.808Z"
   },
   {
    "duration": 10,
    "start_time": "2022-04-12T17:24:39.814Z"
   },
   {
    "duration": 164,
    "start_time": "2022-04-12T17:24:39.826Z"
   },
   {
    "duration": 6,
    "start_time": "2022-04-12T17:24:39.992Z"
   },
   {
    "duration": 154,
    "start_time": "2022-04-12T17:24:39.999Z"
   },
   {
    "duration": 6,
    "start_time": "2022-04-12T17:24:40.154Z"
   },
   {
    "duration": 139,
    "start_time": "2022-04-12T17:24:40.173Z"
   },
   {
    "duration": 132,
    "start_time": "2022-04-12T17:24:40.314Z"
   },
   {
    "duration": 129,
    "start_time": "2022-04-12T17:24:40.447Z"
   },
   {
    "duration": 3,
    "start_time": "2022-04-12T17:24:40.577Z"
   },
   {
    "duration": 8,
    "start_time": "2022-04-12T17:24:40.582Z"
   },
   {
    "duration": 6,
    "start_time": "2022-04-12T17:24:40.592Z"
   },
   {
    "duration": 10,
    "start_time": "2022-04-12T17:24:40.600Z"
   },
   {
    "duration": 10,
    "start_time": "2022-04-12T17:24:40.611Z"
   },
   {
    "duration": 18,
    "start_time": "2022-04-12T17:24:40.623Z"
   },
   {
    "duration": 8,
    "start_time": "2022-04-12T17:24:40.643Z"
   },
   {
    "duration": 21,
    "start_time": "2022-04-12T17:24:40.652Z"
   },
   {
    "duration": 16,
    "start_time": "2022-04-12T17:43:48.098Z"
   },
   {
    "duration": 11,
    "start_time": "2022-04-12T17:43:54.280Z"
   },
   {
    "duration": 6,
    "start_time": "2022-04-12T17:45:12.933Z"
   },
   {
    "duration": 5,
    "start_time": "2022-04-12T17:47:15.260Z"
   },
   {
    "duration": 16,
    "start_time": "2022-04-12T17:49:58.969Z"
   },
   {
    "duration": 907,
    "start_time": "2022-04-12T17:53:01.250Z"
   },
   {
    "duration": 399,
    "start_time": "2022-04-12T17:53:02.160Z"
   },
   {
    "duration": 15,
    "start_time": "2022-04-12T17:53:02.560Z"
   },
   {
    "duration": 21,
    "start_time": "2022-04-12T17:53:02.577Z"
   },
   {
    "duration": 32,
    "start_time": "2022-04-12T17:53:02.601Z"
   },
   {
    "duration": 9,
    "start_time": "2022-04-12T17:53:02.634Z"
   },
   {
    "duration": 42,
    "start_time": "2022-04-12T17:53:02.645Z"
   },
   {
    "duration": 9,
    "start_time": "2022-04-12T17:53:02.689Z"
   },
   {
    "duration": 23,
    "start_time": "2022-04-12T17:53:02.700Z"
   },
   {
    "duration": 11,
    "start_time": "2022-04-12T17:53:02.725Z"
   },
   {
    "duration": 36,
    "start_time": "2022-04-12T17:53:02.738Z"
   },
   {
    "duration": 8,
    "start_time": "2022-04-12T17:53:02.776Z"
   },
   {
    "duration": 13,
    "start_time": "2022-04-12T17:53:02.786Z"
   },
   {
    "duration": 102,
    "start_time": "2022-04-12T17:53:02.802Z"
   },
   {
    "duration": 218,
    "start_time": "2022-04-12T17:53:02.905Z"
   },
   {
    "duration": 27,
    "start_time": "2022-04-12T17:53:03.125Z"
   },
   {
    "duration": 68,
    "start_time": "2022-04-12T17:53:03.154Z"
   },
   {
    "duration": 11,
    "start_time": "2022-04-12T17:53:03.223Z"
   },
   {
    "duration": 10,
    "start_time": "2022-04-12T17:53:03.235Z"
   },
   {
    "duration": 40,
    "start_time": "2022-04-12T17:53:03.246Z"
   },
   {
    "duration": 30,
    "start_time": "2022-04-12T17:53:03.288Z"
   },
   {
    "duration": 7,
    "start_time": "2022-04-12T17:53:03.319Z"
   },
   {
    "duration": 7,
    "start_time": "2022-04-12T17:53:03.327Z"
   },
   {
    "duration": 9,
    "start_time": "2022-04-12T17:53:03.336Z"
   },
   {
    "duration": 49,
    "start_time": "2022-04-12T17:53:03.346Z"
   },
   {
    "duration": 25,
    "start_time": "2022-04-12T17:53:03.397Z"
   },
   {
    "duration": 7,
    "start_time": "2022-04-12T17:53:03.423Z"
   },
   {
    "duration": 15,
    "start_time": "2022-04-12T17:53:03.432Z"
   },
   {
    "duration": 26,
    "start_time": "2022-04-12T17:53:03.448Z"
   },
   {
    "duration": 10,
    "start_time": "2022-04-12T17:53:03.476Z"
   },
   {
    "duration": 20,
    "start_time": "2022-04-12T17:53:03.487Z"
   },
   {
    "duration": 16,
    "start_time": "2022-04-12T17:53:03.509Z"
   },
   {
    "duration": 6,
    "start_time": "2022-04-12T17:53:03.526Z"
   },
   {
    "duration": 14,
    "start_time": "2022-04-12T17:53:03.534Z"
   },
   {
    "duration": 6,
    "start_time": "2022-04-12T17:53:03.550Z"
   },
   {
    "duration": 18,
    "start_time": "2022-04-12T17:53:03.557Z"
   },
   {
    "duration": 10,
    "start_time": "2022-04-12T17:53:03.577Z"
   },
   {
    "duration": 5,
    "start_time": "2022-04-12T17:53:03.588Z"
   },
   {
    "duration": 13,
    "start_time": "2022-04-12T17:53:03.595Z"
   },
   {
    "duration": 17,
    "start_time": "2022-04-12T17:53:03.609Z"
   },
   {
    "duration": 12,
    "start_time": "2022-04-12T17:53:03.632Z"
   },
   {
    "duration": 30,
    "start_time": "2022-04-12T17:53:03.646Z"
   },
   {
    "duration": 5,
    "start_time": "2022-04-12T17:53:03.678Z"
   },
   {
    "duration": 10,
    "start_time": "2022-04-12T17:53:03.685Z"
   },
   {
    "duration": 23,
    "start_time": "2022-04-12T17:53:03.697Z"
   },
   {
    "duration": 442,
    "start_time": "2022-04-12T17:53:03.721Z"
   },
   {
    "duration": 9,
    "start_time": "2022-04-12T17:53:04.165Z"
   },
   {
    "duration": 138,
    "start_time": "2022-04-12T17:53:04.176Z"
   },
   {
    "duration": 5,
    "start_time": "2022-04-12T17:53:04.316Z"
   },
   {
    "duration": 9,
    "start_time": "2022-04-12T17:53:04.322Z"
   },
   {
    "duration": 153,
    "start_time": "2022-04-12T17:53:04.333Z"
   },
   {
    "duration": 5,
    "start_time": "2022-04-12T17:53:04.488Z"
   },
   {
    "duration": 11,
    "start_time": "2022-04-12T17:53:04.494Z"
   },
   {
    "duration": 156,
    "start_time": "2022-04-12T17:53:04.507Z"
   },
   {
    "duration": 5,
    "start_time": "2022-04-12T17:53:04.672Z"
   },
   {
    "duration": 141,
    "start_time": "2022-04-12T17:53:04.678Z"
   },
   {
    "duration": 5,
    "start_time": "2022-04-12T17:53:04.821Z"
   },
   {
    "duration": 146,
    "start_time": "2022-04-12T17:53:04.828Z"
   },
   {
    "duration": 131,
    "start_time": "2022-04-12T17:53:04.975Z"
   },
   {
    "duration": 132,
    "start_time": "2022-04-12T17:53:05.108Z"
   },
   {
    "duration": 3,
    "start_time": "2022-04-12T17:53:05.241Z"
   },
   {
    "duration": 6,
    "start_time": "2022-04-12T17:53:05.245Z"
   },
   {
    "duration": 7,
    "start_time": "2022-04-12T17:53:05.252Z"
   },
   {
    "duration": 19,
    "start_time": "2022-04-12T17:53:05.260Z"
   },
   {
    "duration": 7,
    "start_time": "2022-04-12T17:53:05.281Z"
   },
   {
    "duration": 13,
    "start_time": "2022-04-12T17:53:05.289Z"
   },
   {
    "duration": 7,
    "start_time": "2022-04-12T17:53:05.304Z"
   },
   {
    "duration": 7,
    "start_time": "2022-04-12T17:53:05.313Z"
   },
   {
    "duration": 148,
    "start_time": "2022-04-12T17:56:48.321Z"
   },
   {
    "duration": 170,
    "start_time": "2022-04-12T17:58:26.676Z"
   },
   {
    "duration": 157,
    "start_time": "2022-04-12T17:58:38.196Z"
   },
   {
    "duration": 235,
    "start_time": "2022-04-12T17:59:55.581Z"
   },
   {
    "duration": 245,
    "start_time": "2022-04-12T18:00:50.742Z"
   },
   {
    "duration": 157,
    "start_time": "2022-04-12T18:01:01.737Z"
   },
   {
    "duration": 4,
    "start_time": "2022-04-12T18:09:52.451Z"
   },
   {
    "duration": 4,
    "start_time": "2022-04-12T18:09:53.525Z"
   },
   {
    "duration": 830,
    "start_time": "2022-04-12T18:11:07.267Z"
   },
   {
    "duration": 391,
    "start_time": "2022-04-12T18:11:08.100Z"
   },
   {
    "duration": 13,
    "start_time": "2022-04-12T18:11:08.493Z"
   },
   {
    "duration": 10,
    "start_time": "2022-04-12T18:11:08.508Z"
   },
   {
    "duration": 26,
    "start_time": "2022-04-12T18:11:08.521Z"
   },
   {
    "duration": 8,
    "start_time": "2022-04-12T18:11:08.549Z"
   },
   {
    "duration": 27,
    "start_time": "2022-04-12T18:11:08.559Z"
   },
   {
    "duration": 6,
    "start_time": "2022-04-12T18:11:08.588Z"
   },
   {
    "duration": 21,
    "start_time": "2022-04-12T18:11:08.596Z"
   },
   {
    "duration": 10,
    "start_time": "2022-04-12T18:11:08.619Z"
   },
   {
    "duration": 42,
    "start_time": "2022-04-12T18:11:08.631Z"
   },
   {
    "duration": 9,
    "start_time": "2022-04-12T18:11:08.675Z"
   },
   {
    "duration": 11,
    "start_time": "2022-04-12T18:11:08.686Z"
   },
   {
    "duration": 99,
    "start_time": "2022-04-12T18:11:08.701Z"
   },
   {
    "duration": 206,
    "start_time": "2022-04-12T18:11:08.802Z"
   },
   {
    "duration": 27,
    "start_time": "2022-04-12T18:11:09.010Z"
   },
   {
    "duration": 78,
    "start_time": "2022-04-12T18:11:09.039Z"
   },
   {
    "duration": 12,
    "start_time": "2022-04-12T18:11:09.119Z"
   },
   {
    "duration": 11,
    "start_time": "2022-04-12T18:11:09.133Z"
   },
   {
    "duration": 42,
    "start_time": "2022-04-12T18:11:09.145Z"
   },
   {
    "duration": 29,
    "start_time": "2022-04-12T18:11:09.190Z"
   },
   {
    "duration": 6,
    "start_time": "2022-04-12T18:11:09.221Z"
   },
   {
    "duration": 6,
    "start_time": "2022-04-12T18:11:09.229Z"
   },
   {
    "duration": 11,
    "start_time": "2022-04-12T18:11:09.236Z"
   },
   {
    "duration": 22,
    "start_time": "2022-04-12T18:11:09.274Z"
   },
   {
    "duration": 25,
    "start_time": "2022-04-12T18:11:09.297Z"
   },
   {
    "duration": 6,
    "start_time": "2022-04-12T18:11:09.324Z"
   },
   {
    "duration": 4,
    "start_time": "2022-04-12T18:11:09.332Z"
   },
   {
    "duration": 39,
    "start_time": "2022-04-12T18:11:09.337Z"
   },
   {
    "duration": 9,
    "start_time": "2022-04-12T18:11:09.378Z"
   },
   {
    "duration": 18,
    "start_time": "2022-04-12T18:11:09.389Z"
   },
   {
    "duration": 20,
    "start_time": "2022-04-12T18:11:09.408Z"
   },
   {
    "duration": 7,
    "start_time": "2022-04-12T18:11:09.429Z"
   },
   {
    "duration": 14,
    "start_time": "2022-04-12T18:11:09.438Z"
   },
   {
    "duration": 20,
    "start_time": "2022-04-12T18:11:09.453Z"
   },
   {
    "duration": 5,
    "start_time": "2022-04-12T18:11:09.475Z"
   },
   {
    "duration": 12,
    "start_time": "2022-04-12T18:11:09.481Z"
   },
   {
    "duration": 6,
    "start_time": "2022-04-12T18:11:09.495Z"
   },
   {
    "duration": 14,
    "start_time": "2022-04-12T18:11:09.502Z"
   },
   {
    "duration": 10,
    "start_time": "2022-04-12T18:11:09.518Z"
   },
   {
    "duration": 10,
    "start_time": "2022-04-12T18:11:09.533Z"
   },
   {
    "duration": 39,
    "start_time": "2022-04-12T18:11:09.544Z"
   },
   {
    "duration": 9,
    "start_time": "2022-04-12T18:11:09.584Z"
   },
   {
    "duration": 6,
    "start_time": "2022-04-12T18:11:09.594Z"
   },
   {
    "duration": 7,
    "start_time": "2022-04-12T18:11:09.601Z"
   },
   {
    "duration": 425,
    "start_time": "2022-04-12T18:11:09.609Z"
   },
   {
    "duration": 5,
    "start_time": "2022-04-12T18:11:10.036Z"
   },
   {
    "duration": 143,
    "start_time": "2022-04-12T18:11:10.042Z"
   },
   {
    "duration": 160,
    "start_time": "2022-04-12T18:11:10.186Z"
   },
   {
    "duration": 6,
    "start_time": "2022-04-12T18:11:10.348Z"
   },
   {
    "duration": 20,
    "start_time": "2022-04-12T18:11:10.358Z"
   },
   {
    "duration": 156,
    "start_time": "2022-04-12T18:11:10.380Z"
   },
   {
    "duration": 5,
    "start_time": "2022-04-12T18:11:10.538Z"
   },
   {
    "duration": 12,
    "start_time": "2022-04-12T18:11:10.544Z"
   },
   {
    "duration": 151,
    "start_time": "2022-04-12T18:11:10.558Z"
   },
   {
    "duration": 4,
    "start_time": "2022-04-12T18:11:10.711Z"
   },
   {
    "duration": 145,
    "start_time": "2022-04-12T18:11:10.717Z"
   },
   {
    "duration": 10,
    "start_time": "2022-04-12T18:11:10.864Z"
   },
   {
    "duration": 141,
    "start_time": "2022-04-12T18:11:10.876Z"
   },
   {
    "duration": 137,
    "start_time": "2022-04-12T18:11:11.018Z"
   },
   {
    "duration": 135,
    "start_time": "2022-04-12T18:11:11.157Z"
   },
   {
    "duration": 3,
    "start_time": "2022-04-12T18:11:11.294Z"
   },
   {
    "duration": 9,
    "start_time": "2022-04-12T18:11:11.298Z"
   },
   {
    "duration": 7,
    "start_time": "2022-04-12T18:11:11.309Z"
   },
   {
    "duration": 13,
    "start_time": "2022-04-12T18:11:11.317Z"
   },
   {
    "duration": 5,
    "start_time": "2022-04-12T18:11:11.333Z"
   },
   {
    "duration": 7,
    "start_time": "2022-04-12T18:11:11.340Z"
   },
   {
    "duration": 3,
    "start_time": "2022-04-12T18:11:11.374Z"
   },
   {
    "duration": 8,
    "start_time": "2022-04-12T18:11:11.379Z"
   },
   {
    "duration": 6,
    "start_time": "2022-04-12T18:12:17.024Z"
   },
   {
    "duration": 5,
    "start_time": "2022-04-12T18:12:20.457Z"
   },
   {
    "duration": 4,
    "start_time": "2022-04-12T18:12:50.728Z"
   },
   {
    "duration": 4,
    "start_time": "2022-04-12T18:13:10.993Z"
   },
   {
    "duration": 4,
    "start_time": "2022-04-12T18:13:11.690Z"
   },
   {
    "duration": 5,
    "start_time": "2022-04-12T18:13:12.089Z"
   },
   {
    "duration": 4,
    "start_time": "2022-04-12T18:13:17.190Z"
   },
   {
    "duration": 4,
    "start_time": "2022-04-12T18:13:17.693Z"
   },
   {
    "duration": 4,
    "start_time": "2022-04-12T18:13:17.928Z"
   },
   {
    "duration": 798,
    "start_time": "2022-04-12T18:13:28.403Z"
   },
   {
    "duration": 375,
    "start_time": "2022-04-12T18:13:29.203Z"
   },
   {
    "duration": 14,
    "start_time": "2022-04-12T18:13:29.580Z"
   },
   {
    "duration": 9,
    "start_time": "2022-04-12T18:13:29.596Z"
   },
   {
    "duration": 26,
    "start_time": "2022-04-12T18:13:29.606Z"
   },
   {
    "duration": 8,
    "start_time": "2022-04-12T18:13:29.633Z"
   },
   {
    "duration": 42,
    "start_time": "2022-04-12T18:13:29.643Z"
   },
   {
    "duration": 6,
    "start_time": "2022-04-12T18:13:29.687Z"
   },
   {
    "duration": 21,
    "start_time": "2022-04-12T18:13:29.695Z"
   },
   {
    "duration": 10,
    "start_time": "2022-04-12T18:13:29.718Z"
   },
   {
    "duration": 13,
    "start_time": "2022-04-12T18:13:29.729Z"
   },
   {
    "duration": 38,
    "start_time": "2022-04-12T18:13:29.744Z"
   },
   {
    "duration": 11,
    "start_time": "2022-04-12T18:13:29.783Z"
   },
   {
    "duration": 89,
    "start_time": "2022-04-12T18:13:29.795Z"
   },
   {
    "duration": 216,
    "start_time": "2022-04-12T18:13:29.886Z"
   },
   {
    "duration": 26,
    "start_time": "2022-04-12T18:13:30.103Z"
   },
   {
    "duration": 72,
    "start_time": "2022-04-12T18:13:30.131Z"
   },
   {
    "duration": 11,
    "start_time": "2022-04-12T18:13:30.204Z"
   },
   {
    "duration": 19,
    "start_time": "2022-04-12T18:13:30.216Z"
   },
   {
    "duration": 33,
    "start_time": "2022-04-12T18:13:30.237Z"
   },
   {
    "duration": 28,
    "start_time": "2022-04-12T18:13:30.272Z"
   },
   {
    "duration": 14,
    "start_time": "2022-04-12T18:13:30.301Z"
   },
   {
    "duration": 11,
    "start_time": "2022-04-12T18:13:30.317Z"
   },
   {
    "duration": 15,
    "start_time": "2022-04-12T18:13:30.330Z"
   },
   {
    "duration": 34,
    "start_time": "2022-04-12T18:13:30.347Z"
   },
   {
    "duration": 25,
    "start_time": "2022-04-12T18:13:30.383Z"
   },
   {
    "duration": 6,
    "start_time": "2022-04-12T18:13:30.410Z"
   },
   {
    "duration": 20,
    "start_time": "2022-04-12T18:13:30.421Z"
   },
   {
    "duration": 18,
    "start_time": "2022-04-12T18:13:30.443Z"
   },
   {
    "duration": 15,
    "start_time": "2022-04-12T18:13:30.463Z"
   },
   {
    "duration": 14,
    "start_time": "2022-04-12T18:13:30.480Z"
   },
   {
    "duration": 17,
    "start_time": "2022-04-12T18:13:30.496Z"
   },
   {
    "duration": 5,
    "start_time": "2022-04-12T18:13:30.515Z"
   },
   {
    "duration": 20,
    "start_time": "2022-04-12T18:13:30.522Z"
   },
   {
    "duration": 9,
    "start_time": "2022-04-12T18:13:30.544Z"
   },
   {
    "duration": 5,
    "start_time": "2022-04-12T18:13:30.572Z"
   },
   {
    "duration": 14,
    "start_time": "2022-04-12T18:13:30.579Z"
   },
   {
    "duration": 19,
    "start_time": "2022-04-12T18:13:30.595Z"
   },
   {
    "duration": 16,
    "start_time": "2022-04-12T18:13:30.616Z"
   },
   {
    "duration": 10,
    "start_time": "2022-04-12T18:13:30.634Z"
   },
   {
    "duration": 17,
    "start_time": "2022-04-12T18:13:30.646Z"
   },
   {
    "duration": 33,
    "start_time": "2022-04-12T18:13:30.664Z"
   },
   {
    "duration": 17,
    "start_time": "2022-04-12T18:13:30.699Z"
   },
   {
    "duration": 21,
    "start_time": "2022-04-12T18:13:30.717Z"
   },
   {
    "duration": 30,
    "start_time": "2022-04-12T18:13:30.739Z"
   },
   {
    "duration": 452,
    "start_time": "2022-04-12T18:13:30.771Z"
   },
   {
    "duration": 5,
    "start_time": "2022-04-12T18:13:31.225Z"
   },
   {
    "duration": 142,
    "start_time": "2022-04-12T18:13:31.232Z"
   },
   {
    "duration": 154,
    "start_time": "2022-04-12T18:13:31.376Z"
   },
   {
    "duration": 5,
    "start_time": "2022-04-12T18:13:31.532Z"
   },
   {
    "duration": 18,
    "start_time": "2022-04-12T18:13:31.539Z"
   },
   {
    "duration": 148,
    "start_time": "2022-04-12T18:13:31.559Z"
   },
   {
    "duration": 4,
    "start_time": "2022-04-12T18:13:31.709Z"
   },
   {
    "duration": 14,
    "start_time": "2022-04-12T18:13:31.715Z"
   },
   {
    "duration": 159,
    "start_time": "2022-04-12T18:13:31.731Z"
   },
   {
    "duration": 5,
    "start_time": "2022-04-12T18:13:31.892Z"
   },
   {
    "duration": 151,
    "start_time": "2022-04-12T18:13:31.899Z"
   },
   {
    "duration": 5,
    "start_time": "2022-04-12T18:13:32.051Z"
   },
   {
    "duration": 139,
    "start_time": "2022-04-12T18:13:32.057Z"
   },
   {
    "duration": 136,
    "start_time": "2022-04-12T18:13:32.198Z"
   },
   {
    "duration": 144,
    "start_time": "2022-04-12T18:13:32.335Z"
   },
   {
    "duration": 3,
    "start_time": "2022-04-12T18:13:32.480Z"
   },
   {
    "duration": 18,
    "start_time": "2022-04-12T18:13:32.486Z"
   },
   {
    "duration": 18,
    "start_time": "2022-04-12T18:13:32.505Z"
   },
   {
    "duration": 13,
    "start_time": "2022-04-12T18:13:32.525Z"
   },
   {
    "duration": 8,
    "start_time": "2022-04-12T18:13:32.540Z"
   },
   {
    "duration": 12,
    "start_time": "2022-04-12T18:13:32.550Z"
   },
   {
    "duration": 18,
    "start_time": "2022-04-12T18:13:32.564Z"
   },
   {
    "duration": 8,
    "start_time": "2022-04-12T18:13:32.584Z"
   },
   {
    "duration": 921,
    "start_time": "2022-04-13T09:06:31.882Z"
   },
   {
    "duration": 342,
    "start_time": "2022-04-13T09:06:32.805Z"
   },
   {
    "duration": 13,
    "start_time": "2022-04-13T09:06:33.148Z"
   },
   {
    "duration": 8,
    "start_time": "2022-04-13T09:06:33.163Z"
   },
   {
    "duration": 27,
    "start_time": "2022-04-13T09:06:33.173Z"
   },
   {
    "duration": 8,
    "start_time": "2022-04-13T09:06:33.202Z"
   },
   {
    "duration": 48,
    "start_time": "2022-04-13T09:06:33.212Z"
   },
   {
    "duration": 6,
    "start_time": "2022-04-13T09:06:33.262Z"
   },
   {
    "duration": 39,
    "start_time": "2022-04-13T09:06:33.270Z"
   },
   {
    "duration": 19,
    "start_time": "2022-04-13T09:06:33.311Z"
   },
   {
    "duration": 22,
    "start_time": "2022-04-13T09:06:33.332Z"
   },
   {
    "duration": 768,
    "start_time": "2022-04-13T09:13:33.556Z"
   },
   {
    "duration": 10,
    "start_time": "2022-04-13T09:14:04.900Z"
   },
   {
    "duration": 92,
    "start_time": "2022-04-13T09:22:17.434Z"
   },
   {
    "duration": 3,
    "start_time": "2022-04-13T09:22:24.154Z"
   },
   {
    "duration": 8,
    "start_time": "2022-04-13T09:22:35.285Z"
   },
   {
    "duration": 55,
    "start_time": "2022-04-13T09:22:44.105Z"
   },
   {
    "duration": 53,
    "start_time": "2022-04-13T09:22:55.840Z"
   },
   {
    "duration": 10,
    "start_time": "2022-04-13T09:32:35.004Z"
   },
   {
    "duration": 3,
    "start_time": "2022-04-13T09:32:44.745Z"
   },
   {
    "duration": 363,
    "start_time": "2022-04-13T09:32:44.750Z"
   },
   {
    "duration": 7,
    "start_time": "2022-04-13T09:32:45.115Z"
   },
   {
    "duration": 9,
    "start_time": "2022-04-13T09:32:45.124Z"
   },
   {
    "duration": 34,
    "start_time": "2022-04-13T09:32:45.135Z"
   },
   {
    "duration": 8,
    "start_time": "2022-04-13T09:32:45.171Z"
   },
   {
    "duration": 23,
    "start_time": "2022-04-13T09:32:45.180Z"
   },
   {
    "duration": 7,
    "start_time": "2022-04-13T09:32:45.205Z"
   },
   {
    "duration": 19,
    "start_time": "2022-04-13T09:32:45.213Z"
   },
   {
    "duration": 31,
    "start_time": "2022-04-13T09:32:45.233Z"
   },
   {
    "duration": 12,
    "start_time": "2022-04-13T09:32:45.267Z"
   },
   {
    "duration": 7,
    "start_time": "2022-04-13T09:32:45.281Z"
   },
   {
    "duration": 12,
    "start_time": "2022-04-13T09:32:45.290Z"
   },
   {
    "duration": 96,
    "start_time": "2022-04-13T09:32:45.304Z"
   },
   {
    "duration": 57,
    "start_time": "2022-04-13T09:32:45.402Z"
   },
   {
    "duration": 191,
    "start_time": "2022-04-13T09:32:45.460Z"
   },
   {
    "duration": 27,
    "start_time": "2022-04-13T09:32:45.655Z"
   },
   {
    "duration": 52,
    "start_time": "2022-04-13T09:32:45.684Z"
   },
   {
    "duration": 23,
    "start_time": "2022-04-13T09:32:45.738Z"
   },
   {
    "duration": 8,
    "start_time": "2022-04-13T09:32:45.762Z"
   },
   {
    "duration": 21,
    "start_time": "2022-04-13T09:32:45.772Z"
   },
   {
    "duration": 29,
    "start_time": "2022-04-13T09:32:45.794Z"
   },
   {
    "duration": 31,
    "start_time": "2022-04-13T09:32:45.825Z"
   },
   {
    "duration": 3,
    "start_time": "2022-04-13T09:32:45.858Z"
   },
   {
    "duration": 9,
    "start_time": "2022-04-13T09:32:45.862Z"
   },
   {
    "duration": 22,
    "start_time": "2022-04-13T09:32:45.873Z"
   },
   {
    "duration": 21,
    "start_time": "2022-04-13T09:32:45.897Z"
   },
   {
    "duration": 6,
    "start_time": "2022-04-13T09:32:45.920Z"
   },
   {
    "duration": 4,
    "start_time": "2022-04-13T09:32:45.954Z"
   },
   {
    "duration": 4,
    "start_time": "2022-04-13T09:32:51.046Z"
   },
   {
    "duration": 8,
    "start_time": "2022-04-13T09:32:59.305Z"
   },
   {
    "duration": 4,
    "start_time": "2022-04-13T09:34:18.814Z"
   },
   {
    "duration": 9,
    "start_time": "2022-04-13T09:34:24.300Z"
   },
   {
    "duration": 23,
    "start_time": "2022-04-13T09:34:52.552Z"
   },
   {
    "duration": 24,
    "start_time": "2022-04-13T09:34:54.075Z"
   },
   {
    "duration": 8,
    "start_time": "2022-04-13T09:34:55.804Z"
   },
   {
    "duration": 4,
    "start_time": "2022-04-13T09:34:56.885Z"
   },
   {
    "duration": 4,
    "start_time": "2022-04-13T09:35:01.163Z"
   },
   {
    "duration": 9,
    "start_time": "2022-04-13T09:35:03.842Z"
   },
   {
    "duration": 4,
    "start_time": "2022-04-13T09:41:12.983Z"
   },
   {
    "duration": 9,
    "start_time": "2022-04-13T09:41:18.799Z"
   },
   {
    "duration": 4,
    "start_time": "2022-04-13T09:41:32.493Z"
   },
   {
    "duration": 7,
    "start_time": "2022-04-13T09:41:55.397Z"
   },
   {
    "duration": 3,
    "start_time": "2022-04-13T09:41:59.935Z"
   },
   {
    "duration": 406,
    "start_time": "2022-04-13T09:41:59.948Z"
   },
   {
    "duration": 8,
    "start_time": "2022-04-13T09:42:00.356Z"
   },
   {
    "duration": 15,
    "start_time": "2022-04-13T09:42:00.366Z"
   },
   {
    "duration": 37,
    "start_time": "2022-04-13T09:42:00.383Z"
   },
   {
    "duration": 20,
    "start_time": "2022-04-13T09:42:00.422Z"
   },
   {
    "duration": 30,
    "start_time": "2022-04-13T09:42:00.444Z"
   },
   {
    "duration": 6,
    "start_time": "2022-04-13T09:42:00.476Z"
   },
   {
    "duration": 33,
    "start_time": "2022-04-13T09:42:00.484Z"
   },
   {
    "duration": 12,
    "start_time": "2022-04-13T09:42:00.519Z"
   },
   {
    "duration": 21,
    "start_time": "2022-04-13T09:42:00.534Z"
   },
   {
    "duration": 10,
    "start_time": "2022-04-13T09:42:00.557Z"
   },
   {
    "duration": 15,
    "start_time": "2022-04-13T09:42:00.569Z"
   },
   {
    "duration": 93,
    "start_time": "2022-04-13T09:42:00.585Z"
   },
   {
    "duration": 62,
    "start_time": "2022-04-13T09:42:00.680Z"
   },
   {
    "duration": 200,
    "start_time": "2022-04-13T09:42:00.744Z"
   },
   {
    "duration": 31,
    "start_time": "2022-04-13T09:42:00.946Z"
   },
   {
    "duration": 51,
    "start_time": "2022-04-13T09:42:00.978Z"
   },
   {
    "duration": 27,
    "start_time": "2022-04-13T09:42:01.031Z"
   },
   {
    "duration": 10,
    "start_time": "2022-04-13T09:42:01.060Z"
   },
   {
    "duration": 27,
    "start_time": "2022-04-13T09:42:01.071Z"
   },
   {
    "duration": 32,
    "start_time": "2022-04-13T09:42:01.099Z"
   },
   {
    "duration": 30,
    "start_time": "2022-04-13T09:42:01.133Z"
   },
   {
    "duration": 12,
    "start_time": "2022-04-13T09:42:01.166Z"
   },
   {
    "duration": 32,
    "start_time": "2022-04-13T09:42:01.180Z"
   },
   {
    "duration": 31,
    "start_time": "2022-04-13T09:42:01.213Z"
   },
   {
    "duration": 23,
    "start_time": "2022-04-13T09:42:01.246Z"
   },
   {
    "duration": 7,
    "start_time": "2022-04-13T09:42:01.270Z"
   },
   {
    "duration": 7,
    "start_time": "2022-04-13T09:42:01.282Z"
   },
   {
    "duration": 15,
    "start_time": "2022-04-13T09:42:01.290Z"
   },
   {
    "duration": 19,
    "start_time": "2022-04-13T09:42:01.307Z"
   },
   {
    "duration": 12,
    "start_time": "2022-04-13T09:42:01.328Z"
   },
   {
    "duration": 7,
    "start_time": "2022-04-13T09:42:01.342Z"
   },
   {
    "duration": 9,
    "start_time": "2022-04-13T09:42:01.354Z"
   },
   {
    "duration": 11,
    "start_time": "2022-04-13T09:42:01.365Z"
   },
   {
    "duration": 4,
    "start_time": "2022-04-13T09:42:32.331Z"
   },
   {
    "duration": 4,
    "start_time": "2022-04-13T09:43:16.813Z"
   },
   {
    "duration": 11,
    "start_time": "2022-04-13T09:45:03.943Z"
   },
   {
    "duration": 9,
    "start_time": "2022-04-13T09:45:05.789Z"
   },
   {
    "duration": 9,
    "start_time": "2022-04-13T09:45:10.609Z"
   },
   {
    "duration": 6,
    "start_time": "2022-04-13T09:45:37.148Z"
   },
   {
    "duration": 5,
    "start_time": "2022-04-13T09:45:56.869Z"
   },
   {
    "duration": 9,
    "start_time": "2022-04-13T09:46:04.759Z"
   },
   {
    "duration": 4,
    "start_time": "2022-04-13T09:46:18.931Z"
   },
   {
    "duration": 4,
    "start_time": "2022-04-13T09:46:56.220Z"
   },
   {
    "duration": 4,
    "start_time": "2022-04-13T09:47:08.940Z"
   },
   {
    "duration": 4,
    "start_time": "2022-04-13T09:47:37.619Z"
   },
   {
    "duration": 158,
    "start_time": "2022-04-13T09:49:49.381Z"
   },
   {
    "duration": 9,
    "start_time": "2022-04-13T09:51:42.587Z"
   },
   {
    "duration": 11,
    "start_time": "2022-04-13T09:51:45.045Z"
   },
   {
    "duration": 5,
    "start_time": "2022-04-13T09:51:50.661Z"
   },
   {
    "duration": 9,
    "start_time": "2022-04-13T09:52:12.438Z"
   },
   {
    "duration": 5,
    "start_time": "2022-04-13T09:52:14.251Z"
   },
   {
    "duration": 12,
    "start_time": "2022-04-13T09:52:16.256Z"
   },
   {
    "duration": 8,
    "start_time": "2022-04-13T09:53:40.929Z"
   },
   {
    "duration": 8,
    "start_time": "2022-04-13T09:53:46.853Z"
   },
   {
    "duration": 5,
    "start_time": "2022-04-13T09:54:03.179Z"
   },
   {
    "duration": 14,
    "start_time": "2022-04-13T09:54:05.668Z"
   },
   {
    "duration": 8,
    "start_time": "2022-04-13T09:54:08.476Z"
   },
   {
    "duration": 4,
    "start_time": "2022-04-13T09:54:09.828Z"
   },
   {
    "duration": 3,
    "start_time": "2022-04-13T09:54:19.623Z"
   },
   {
    "duration": 365,
    "start_time": "2022-04-13T09:54:19.628Z"
   },
   {
    "duration": 8,
    "start_time": "2022-04-13T09:54:19.995Z"
   },
   {
    "duration": 14,
    "start_time": "2022-04-13T09:54:20.005Z"
   },
   {
    "duration": 38,
    "start_time": "2022-04-13T09:54:20.021Z"
   },
   {
    "duration": 8,
    "start_time": "2022-04-13T09:54:20.060Z"
   },
   {
    "duration": 23,
    "start_time": "2022-04-13T09:54:20.069Z"
   },
   {
    "duration": 7,
    "start_time": "2022-04-13T09:54:20.094Z"
   },
   {
    "duration": 22,
    "start_time": "2022-04-13T09:54:20.102Z"
   },
   {
    "duration": 31,
    "start_time": "2022-04-13T09:54:20.126Z"
   },
   {
    "duration": 13,
    "start_time": "2022-04-13T09:54:20.159Z"
   },
   {
    "duration": 8,
    "start_time": "2022-04-13T09:54:20.173Z"
   },
   {
    "duration": 14,
    "start_time": "2022-04-13T09:54:20.182Z"
   },
   {
    "duration": 83,
    "start_time": "2022-04-13T09:54:20.197Z"
   },
   {
    "duration": 52,
    "start_time": "2022-04-13T09:54:20.282Z"
   },
   {
    "duration": 184,
    "start_time": "2022-04-13T09:54:20.336Z"
   },
   {
    "duration": 35,
    "start_time": "2022-04-13T09:54:20.523Z"
   },
   {
    "duration": 47,
    "start_time": "2022-04-13T09:54:20.560Z"
   },
   {
    "duration": 10,
    "start_time": "2022-04-13T09:54:20.609Z"
   },
   {
    "duration": 33,
    "start_time": "2022-04-13T09:54:20.621Z"
   },
   {
    "duration": 19,
    "start_time": "2022-04-13T09:54:20.656Z"
   },
   {
    "duration": 26,
    "start_time": "2022-04-13T09:54:20.677Z"
   },
   {
    "duration": 7,
    "start_time": "2022-04-13T09:54:20.705Z"
   },
   {
    "duration": 9,
    "start_time": "2022-04-13T09:54:20.713Z"
   },
   {
    "duration": 32,
    "start_time": "2022-04-13T09:54:20.724Z"
   },
   {
    "duration": 24,
    "start_time": "2022-04-13T09:54:20.758Z"
   },
   {
    "duration": 22,
    "start_time": "2022-04-13T09:54:20.784Z"
   },
   {
    "duration": 6,
    "start_time": "2022-04-13T09:54:20.808Z"
   },
   {
    "duration": 3,
    "start_time": "2022-04-13T09:54:20.818Z"
   },
   {
    "duration": 31,
    "start_time": "2022-04-13T09:54:20.823Z"
   },
   {
    "duration": 13,
    "start_time": "2022-04-13T09:54:20.856Z"
   },
   {
    "duration": 12,
    "start_time": "2022-04-13T09:54:20.870Z"
   },
   {
    "duration": 8,
    "start_time": "2022-04-13T09:54:20.883Z"
   },
   {
    "duration": 4,
    "start_time": "2022-04-13T09:54:20.892Z"
   },
   {
    "duration": 13,
    "start_time": "2022-04-13T09:54:20.898Z"
   },
   {
    "duration": 5,
    "start_time": "2022-04-13T09:54:20.912Z"
   },
   {
    "duration": 13,
    "start_time": "2022-04-13T09:54:20.919Z"
   },
   {
    "duration": 26,
    "start_time": "2022-04-13T09:54:20.933Z"
   },
   {
    "duration": 6,
    "start_time": "2022-04-13T09:54:20.961Z"
   },
   {
    "duration": 8,
    "start_time": "2022-04-13T09:54:20.968Z"
   },
   {
    "duration": 10,
    "start_time": "2022-04-13T09:54:20.977Z"
   },
   {
    "duration": 13,
    "start_time": "2022-04-13T09:54:20.988Z"
   },
   {
    "duration": 15,
    "start_time": "2022-04-13T09:57:05.650Z"
   },
   {
    "duration": 3,
    "start_time": "2022-04-13T10:01:01.051Z"
   },
   {
    "duration": 368,
    "start_time": "2022-04-13T10:01:01.056Z"
   },
   {
    "duration": 7,
    "start_time": "2022-04-13T10:01:01.426Z"
   },
   {
    "duration": 15,
    "start_time": "2022-04-13T10:01:01.435Z"
   },
   {
    "duration": 27,
    "start_time": "2022-04-13T10:01:01.452Z"
   },
   {
    "duration": 12,
    "start_time": "2022-04-13T10:01:01.480Z"
   },
   {
    "duration": 26,
    "start_time": "2022-04-13T10:01:01.493Z"
   },
   {
    "duration": 6,
    "start_time": "2022-04-13T10:01:01.521Z"
   },
   {
    "duration": 35,
    "start_time": "2022-04-13T10:01:01.529Z"
   },
   {
    "duration": 12,
    "start_time": "2022-04-13T10:01:01.566Z"
   },
   {
    "duration": 25,
    "start_time": "2022-04-13T10:01:01.579Z"
   },
   {
    "duration": 20,
    "start_time": "2022-04-13T10:01:01.606Z"
   },
   {
    "duration": 47,
    "start_time": "2022-04-13T10:01:01.628Z"
   },
   {
    "duration": 87,
    "start_time": "2022-04-13T10:01:01.677Z"
   },
   {
    "duration": 52,
    "start_time": "2022-04-13T10:01:01.766Z"
   },
   {
    "duration": 208,
    "start_time": "2022-04-13T10:01:01.820Z"
   },
   {
    "duration": 32,
    "start_time": "2022-04-13T10:01:02.030Z"
   },
   {
    "duration": 2,
    "start_time": "2022-04-13T10:01:02.063Z"
   },
   {
    "duration": 49,
    "start_time": "2022-04-13T10:01:06.140Z"
   },
   {
    "duration": 11,
    "start_time": "2022-04-13T10:01:08.440Z"
   },
   {
    "duration": 10,
    "start_time": "2022-04-13T10:01:18.928Z"
   },
   {
    "duration": 13,
    "start_time": "2022-04-13T10:01:21.330Z"
   },
   {
    "duration": 7,
    "start_time": "2022-04-13T10:02:32.170Z"
   },
   {
    "duration": 17,
    "start_time": "2022-04-13T10:02:34.689Z"
   },
   {
    "duration": 49,
    "start_time": "2022-04-13T10:02:43.985Z"
   },
   {
    "duration": 10,
    "start_time": "2022-04-13T10:02:45.389Z"
   },
   {
    "duration": 7,
    "start_time": "2022-04-13T10:02:53.656Z"
   },
   {
    "duration": 48,
    "start_time": "2022-04-13T10:02:55.937Z"
   },
   {
    "duration": 9,
    "start_time": "2022-04-13T10:02:57.839Z"
   },
   {
    "duration": 15,
    "start_time": "2022-04-13T10:03:02.549Z"
   },
   {
    "duration": 4,
    "start_time": "2022-04-13T10:03:37.219Z"
   },
   {
    "duration": 46,
    "start_time": "2022-04-13T10:03:41.319Z"
   },
   {
    "duration": 4,
    "start_time": "2022-04-13T10:03:44.009Z"
   },
   {
    "duration": 11,
    "start_time": "2022-04-13T10:03:52.729Z"
   },
   {
    "duration": 4,
    "start_time": "2022-04-13T10:03:55.289Z"
   },
   {
    "duration": 45,
    "start_time": "2022-04-13T10:04:06.970Z"
   },
   {
    "duration": 10,
    "start_time": "2022-04-13T10:04:08.309Z"
   },
   {
    "duration": 4,
    "start_time": "2022-04-13T10:04:10.048Z"
   },
   {
    "duration": 10,
    "start_time": "2022-04-13T10:04:16.649Z"
   },
   {
    "duration": 14,
    "start_time": "2022-04-13T10:04:18.902Z"
   },
   {
    "duration": 44,
    "start_time": "2022-04-13T10:05:32.274Z"
   },
   {
    "duration": 9,
    "start_time": "2022-04-13T10:05:34.287Z"
   },
   {
    "duration": 6,
    "start_time": "2022-04-13T10:05:39.362Z"
   },
   {
    "duration": 9,
    "start_time": "2022-04-13T10:05:47.320Z"
   },
   {
    "duration": 4,
    "start_time": "2022-04-13T10:05:48.409Z"
   },
   {
    "duration": 11,
    "start_time": "2022-04-13T10:05:49.830Z"
   },
   {
    "duration": 46,
    "start_time": "2022-04-13T10:06:11.307Z"
   },
   {
    "duration": 10,
    "start_time": "2022-04-13T10:06:14.522Z"
   },
   {
    "duration": 3,
    "start_time": "2022-04-13T10:06:17.650Z"
   },
   {
    "duration": 13,
    "start_time": "2022-04-13T10:06:21.070Z"
   },
   {
    "duration": 4,
    "start_time": "2022-04-13T10:06:22.318Z"
   },
   {
    "duration": 11,
    "start_time": "2022-04-13T10:06:23.429Z"
   },
   {
    "duration": 8,
    "start_time": "2022-04-13T10:07:37.608Z"
   },
   {
    "duration": 10,
    "start_time": "2022-04-13T10:10:41.800Z"
   },
   {
    "duration": 9,
    "start_time": "2022-04-13T10:10:43.372Z"
   },
   {
    "duration": 14,
    "start_time": "2022-04-13T10:11:02.573Z"
   },
   {
    "duration": 5,
    "start_time": "2022-04-13T10:11:05.363Z"
   },
   {
    "duration": 10,
    "start_time": "2022-04-13T10:11:07.493Z"
   },
   {
    "duration": 5,
    "start_time": "2022-04-13T10:11:10.082Z"
   },
   {
    "duration": 23,
    "start_time": "2022-04-13T10:11:11.446Z"
   },
   {
    "duration": 11,
    "start_time": "2022-04-13T10:11:43.406Z"
   },
   {
    "duration": 23,
    "start_time": "2022-04-13T10:11:46.332Z"
   },
   {
    "duration": 8,
    "start_time": "2022-04-13T10:12:41.323Z"
   },
   {
    "duration": 20,
    "start_time": "2022-04-13T10:12:43.682Z"
   },
   {
    "duration": 5,
    "start_time": "2022-04-13T10:13:20.874Z"
   },
   {
    "duration": 7,
    "start_time": "2022-04-13T10:15:44.394Z"
   },
   {
    "duration": 10,
    "start_time": "2022-04-13T10:15:57.820Z"
   },
   {
    "duration": 9,
    "start_time": "2022-04-13T10:15:58.886Z"
   },
   {
    "duration": 8,
    "start_time": "2022-04-13T10:16:00.494Z"
   },
   {
    "duration": 12,
    "start_time": "2022-04-13T10:16:17.337Z"
   },
   {
    "duration": 2,
    "start_time": "2022-04-13T10:22:53.696Z"
   },
   {
    "duration": 363,
    "start_time": "2022-04-13T10:22:53.700Z"
   },
   {
    "duration": 8,
    "start_time": "2022-04-13T10:22:54.064Z"
   },
   {
    "duration": 31,
    "start_time": "2022-04-13T10:22:54.073Z"
   },
   {
    "duration": 31,
    "start_time": "2022-04-13T10:22:54.106Z"
   },
   {
    "duration": 10,
    "start_time": "2022-04-13T10:22:54.138Z"
   },
   {
    "duration": 30,
    "start_time": "2022-04-13T10:22:54.149Z"
   },
   {
    "duration": 7,
    "start_time": "2022-04-13T10:22:54.180Z"
   },
   {
    "duration": 35,
    "start_time": "2022-04-13T10:22:54.189Z"
   },
   {
    "duration": 22,
    "start_time": "2022-04-13T10:22:54.226Z"
   },
   {
    "duration": 28,
    "start_time": "2022-04-13T10:22:54.249Z"
   },
   {
    "duration": 20,
    "start_time": "2022-04-13T10:22:54.279Z"
   },
   {
    "duration": 20,
    "start_time": "2022-04-13T10:22:54.301Z"
   },
   {
    "duration": 86,
    "start_time": "2022-04-13T10:22:54.324Z"
   },
   {
    "duration": 59,
    "start_time": "2022-04-13T10:22:54.412Z"
   },
   {
    "duration": 187,
    "start_time": "2022-04-13T10:22:54.472Z"
   },
   {
    "duration": 27,
    "start_time": "2022-04-13T10:22:54.661Z"
   },
   {
    "duration": 66,
    "start_time": "2022-04-13T10:22:54.690Z"
   },
   {
    "duration": 10,
    "start_time": "2022-04-13T10:22:54.758Z"
   },
   {
    "duration": 13,
    "start_time": "2022-04-13T10:22:54.769Z"
   },
   {
    "duration": 14,
    "start_time": "2022-04-13T10:22:54.783Z"
   },
   {
    "duration": 23,
    "start_time": "2022-04-13T10:22:54.799Z"
   },
   {
    "duration": 43,
    "start_time": "2022-04-13T10:22:54.824Z"
   },
   {
    "duration": 8,
    "start_time": "2022-04-13T10:22:54.869Z"
   },
   {
    "duration": 12,
    "start_time": "2022-04-13T10:22:54.878Z"
   },
   {
    "duration": 32,
    "start_time": "2022-04-13T10:22:54.891Z"
   },
   {
    "duration": 37,
    "start_time": "2022-04-13T10:22:54.924Z"
   },
   {
    "duration": 22,
    "start_time": "2022-04-13T10:22:54.963Z"
   },
   {
    "duration": 7,
    "start_time": "2022-04-13T10:22:54.987Z"
   },
   {
    "duration": 22,
    "start_time": "2022-04-13T10:22:54.996Z"
   },
   {
    "duration": 18,
    "start_time": "2022-04-13T10:22:55.020Z"
   },
   {
    "duration": 33,
    "start_time": "2022-04-13T10:22:55.040Z"
   },
   {
    "duration": 14,
    "start_time": "2022-04-13T10:22:55.075Z"
   },
   {
    "duration": 24,
    "start_time": "2022-04-13T10:22:55.090Z"
   },
   {
    "duration": 32,
    "start_time": "2022-04-13T10:22:55.115Z"
   },
   {
    "duration": 25,
    "start_time": "2022-04-13T10:22:55.149Z"
   },
   {
    "duration": 17,
    "start_time": "2022-04-13T10:22:55.176Z"
   },
   {
    "duration": 15,
    "start_time": "2022-04-13T10:22:55.194Z"
   },
   {
    "duration": 8,
    "start_time": "2022-04-13T10:22:55.211Z"
   },
   {
    "duration": 3,
    "start_time": "2022-04-13T10:22:55.221Z"
   },
   {
    "duration": 6,
    "start_time": "2022-04-13T10:22:55.227Z"
   },
   {
    "duration": 4,
    "start_time": "2022-04-13T10:22:55.235Z"
   },
   {
    "duration": 15,
    "start_time": "2022-04-13T10:22:55.240Z"
   },
   {
    "duration": 8,
    "start_time": "2022-04-13T10:24:16.577Z"
   },
   {
    "duration": 10,
    "start_time": "2022-04-13T10:24:18.023Z"
   },
   {
    "duration": 11,
    "start_time": "2022-04-13T10:24:26.294Z"
   },
   {
    "duration": 5,
    "start_time": "2022-04-13T10:24:57.026Z"
   },
   {
    "duration": 4,
    "start_time": "2022-04-13T10:24:58.391Z"
   },
   {
    "duration": 5,
    "start_time": "2022-04-13T10:25:33.373Z"
   },
   {
    "duration": 140,
    "start_time": "2022-04-13T10:25:36.041Z"
   },
   {
    "duration": 5,
    "start_time": "2022-04-13T10:25:50.493Z"
   },
   {
    "duration": 116,
    "start_time": "2022-04-13T10:25:52.732Z"
   },
   {
    "duration": 135,
    "start_time": "2022-04-13T10:29:32.042Z"
   },
   {
    "duration": 131,
    "start_time": "2022-04-13T10:29:41.104Z"
   },
   {
    "duration": 134,
    "start_time": "2022-04-13T10:29:54.592Z"
   },
   {
    "duration": 5,
    "start_time": "2022-04-13T10:30:04.984Z"
   },
   {
    "duration": 9,
    "start_time": "2022-04-13T10:30:06.474Z"
   },
   {
    "duration": 129,
    "start_time": "2022-04-13T10:30:09.853Z"
   },
   {
    "duration": 5,
    "start_time": "2022-04-13T10:31:06.863Z"
   },
   {
    "duration": 9,
    "start_time": "2022-04-13T10:31:12.072Z"
   },
   {
    "duration": 131,
    "start_time": "2022-04-13T10:31:13.612Z"
   },
   {
    "duration": 5,
    "start_time": "2022-04-13T10:31:56.623Z"
   },
   {
    "duration": 119,
    "start_time": "2022-04-13T10:31:58.293Z"
   },
   {
    "duration": 5,
    "start_time": "2022-04-13T10:32:05.291Z"
   },
   {
    "duration": 135,
    "start_time": "2022-04-13T10:32:06.912Z"
   },
   {
    "duration": 121,
    "start_time": "2022-04-13T10:32:55.261Z"
   },
   {
    "duration": 116,
    "start_time": "2022-04-13T10:33:29.911Z"
   },
   {
    "duration": 140,
    "start_time": "2022-04-13T10:41:19.453Z"
   },
   {
    "duration": 152,
    "start_time": "2022-04-13T10:41:27.093Z"
   },
   {
    "duration": 3,
    "start_time": "2022-04-13T10:46:23.692Z"
   },
   {
    "duration": 376,
    "start_time": "2022-04-13T10:46:23.697Z"
   },
   {
    "duration": 12,
    "start_time": "2022-04-13T10:46:24.075Z"
   },
   {
    "duration": 37,
    "start_time": "2022-04-13T10:46:24.088Z"
   },
   {
    "duration": 27,
    "start_time": "2022-04-13T10:46:24.128Z"
   },
   {
    "duration": 10,
    "start_time": "2022-04-13T10:46:24.158Z"
   },
   {
    "duration": 40,
    "start_time": "2022-04-13T10:46:24.170Z"
   },
   {
    "duration": 399,
    "start_time": "2022-04-13T10:46:24.212Z"
   },
   {
    "duration": 19,
    "start_time": "2022-04-13T10:46:24.612Z"
   },
   {
    "duration": 9,
    "start_time": "2022-04-13T10:46:24.633Z"
   },
   {
    "duration": 10,
    "start_time": "2022-04-13T10:46:24.655Z"
   },
   {
    "duration": 8,
    "start_time": "2022-04-13T10:46:24.667Z"
   },
   {
    "duration": 7,
    "start_time": "2022-04-13T10:46:24.677Z"
   },
   {
    "duration": 95,
    "start_time": "2022-04-13T10:46:24.687Z"
   },
   {
    "duration": 47,
    "start_time": "2022-04-13T10:46:24.784Z"
   },
   {
    "duration": 173,
    "start_time": "2022-04-13T10:46:24.833Z"
   },
   {
    "duration": 28,
    "start_time": "2022-04-13T10:46:25.008Z"
   },
   {
    "duration": 76,
    "start_time": "2022-04-13T10:46:25.038Z"
   },
   {
    "duration": 8,
    "start_time": "2022-04-13T10:46:25.116Z"
   },
   {
    "duration": 14,
    "start_time": "2022-04-13T10:46:25.125Z"
   },
   {
    "duration": 15,
    "start_time": "2022-04-13T10:46:25.141Z"
   },
   {
    "duration": 22,
    "start_time": "2022-04-13T10:46:25.158Z"
   },
   {
    "duration": 26,
    "start_time": "2022-04-13T10:46:25.181Z"
   },
   {
    "duration": 7,
    "start_time": "2022-04-13T10:46:25.209Z"
   },
   {
    "duration": 4,
    "start_time": "2022-04-13T10:46:25.217Z"
   },
   {
    "duration": 36,
    "start_time": "2022-04-13T10:46:25.223Z"
   },
   {
    "duration": 24,
    "start_time": "2022-04-13T10:46:25.261Z"
   },
   {
    "duration": 22,
    "start_time": "2022-04-13T10:46:25.287Z"
   },
   {
    "duration": 7,
    "start_time": "2022-04-13T10:46:25.311Z"
   },
   {
    "duration": 7,
    "start_time": "2022-04-13T10:46:25.319Z"
   },
   {
    "duration": 26,
    "start_time": "2022-04-13T10:46:25.328Z"
   },
   {
    "duration": 8,
    "start_time": "2022-04-13T10:46:25.356Z"
   },
   {
    "duration": 14,
    "start_time": "2022-04-13T10:46:25.365Z"
   },
   {
    "duration": 8,
    "start_time": "2022-04-13T10:46:25.380Z"
   },
   {
    "duration": 4,
    "start_time": "2022-04-13T10:46:25.389Z"
   },
   {
    "duration": 11,
    "start_time": "2022-04-13T10:46:25.395Z"
   },
   {
    "duration": 5,
    "start_time": "2022-04-13T10:46:25.408Z"
   },
   {
    "duration": 41,
    "start_time": "2022-04-13T10:46:25.415Z"
   },
   {
    "duration": 6,
    "start_time": "2022-04-13T10:46:25.458Z"
   },
   {
    "duration": 4,
    "start_time": "2022-04-13T10:46:25.466Z"
   },
   {
    "duration": 6,
    "start_time": "2022-04-13T10:46:25.477Z"
   },
   {
    "duration": 5,
    "start_time": "2022-04-13T10:46:25.484Z"
   },
   {
    "duration": 14,
    "start_time": "2022-04-13T10:46:25.491Z"
   },
   {
    "duration": 9,
    "start_time": "2022-04-13T10:46:25.506Z"
   },
   {
    "duration": 14,
    "start_time": "2022-04-13T10:46:25.517Z"
   },
   {
    "duration": 26,
    "start_time": "2022-04-13T10:46:25.532Z"
   },
   {
    "duration": 15,
    "start_time": "2022-04-13T10:46:25.560Z"
   },
   {
    "duration": 27,
    "start_time": "2022-04-13T10:46:25.576Z"
   },
   {
    "duration": 13,
    "start_time": "2022-04-13T10:46:25.605Z"
   },
   {
    "duration": 130,
    "start_time": "2022-04-13T10:46:25.620Z"
   },
   {
    "duration": 4,
    "start_time": "2022-04-13T10:46:25.754Z"
   },
   {
    "duration": 128,
    "start_time": "2022-04-13T10:46:25.759Z"
   },
   {
    "duration": 149,
    "start_time": "2022-04-13T10:46:25.889Z"
   },
   {
    "duration": 4,
    "start_time": "2022-04-13T10:46:26.040Z"
   },
   {
    "duration": 15,
    "start_time": "2022-04-13T10:46:26.046Z"
   },
   {
    "duration": 166,
    "start_time": "2022-04-13T10:46:26.063Z"
   },
   {
    "duration": 6,
    "start_time": "2022-04-13T10:46:26.230Z"
   },
   {
    "duration": 23,
    "start_time": "2022-04-13T10:46:26.237Z"
   },
   {
    "duration": 149,
    "start_time": "2022-04-13T10:46:26.261Z"
   },
   {
    "duration": 5,
    "start_time": "2022-04-13T10:46:26.412Z"
   },
   {
    "duration": 153,
    "start_time": "2022-04-13T10:46:26.418Z"
   },
   {
    "duration": 6,
    "start_time": "2022-04-13T10:46:26.572Z"
   },
   {
    "duration": 142,
    "start_time": "2022-04-13T10:46:26.580Z"
   },
   {
    "duration": 133,
    "start_time": "2022-04-13T10:46:26.724Z"
   },
   {
    "duration": 143,
    "start_time": "2022-04-13T10:46:26.859Z"
   },
   {
    "duration": 3,
    "start_time": "2022-04-13T10:46:27.004Z"
   },
   {
    "duration": 11,
    "start_time": "2022-04-13T10:46:27.008Z"
   },
   {
    "duration": 6,
    "start_time": "2022-04-13T10:46:27.020Z"
   },
   {
    "duration": 11,
    "start_time": "2022-04-13T10:46:27.027Z"
   },
   {
    "duration": 15,
    "start_time": "2022-04-13T10:46:27.040Z"
   },
   {
    "duration": 5,
    "start_time": "2022-04-13T10:46:27.056Z"
   },
   {
    "duration": 6,
    "start_time": "2022-04-13T10:46:27.063Z"
   },
   {
    "duration": 6,
    "start_time": "2022-04-13T10:46:27.071Z"
   },
   {
    "duration": 4,
    "start_time": "2022-04-13T10:48:24.233Z"
   },
   {
    "duration": 4,
    "start_time": "2022-04-13T10:48:46.414Z"
   },
   {
    "duration": 4,
    "start_time": "2022-04-13T10:48:53.894Z"
   },
   {
    "duration": 4,
    "start_time": "2022-04-13T10:49:15.383Z"
   },
   {
    "duration": 5,
    "start_time": "2022-04-13T10:49:17.692Z"
   },
   {
    "duration": 5,
    "start_time": "2022-04-13T10:49:51.732Z"
   },
   {
    "duration": 5,
    "start_time": "2022-04-13T10:50:19.443Z"
   },
   {
    "duration": 5,
    "start_time": "2022-04-13T10:50:27.264Z"
   },
   {
    "duration": 3,
    "start_time": "2022-04-13T10:51:04.533Z"
   },
   {
    "duration": 3,
    "start_time": "2022-04-13T10:51:05.676Z"
   },
   {
    "duration": 4,
    "start_time": "2022-04-13T10:51:33.982Z"
   },
   {
    "duration": 4,
    "start_time": "2022-04-13T10:51:35.624Z"
   },
   {
    "duration": 4,
    "start_time": "2022-04-13T10:51:40.612Z"
   },
   {
    "duration": 4,
    "start_time": "2022-04-13T10:51:41.730Z"
   },
   {
    "duration": 4,
    "start_time": "2022-04-13T10:51:46.233Z"
   },
   {
    "duration": 851,
    "start_time": "2022-04-13T10:59:49.762Z"
   },
   {
    "duration": 373,
    "start_time": "2022-04-13T10:59:50.615Z"
   },
   {
    "duration": 14,
    "start_time": "2022-04-13T10:59:50.989Z"
   },
   {
    "duration": 8,
    "start_time": "2022-04-13T10:59:51.005Z"
   },
   {
    "duration": 32,
    "start_time": "2022-04-13T10:59:51.015Z"
   },
   {
    "duration": 14,
    "start_time": "2022-04-13T10:59:51.048Z"
   },
   {
    "duration": 29,
    "start_time": "2022-04-13T10:59:51.064Z"
   },
   {
    "duration": 7,
    "start_time": "2022-04-13T10:59:51.095Z"
   },
   {
    "duration": 23,
    "start_time": "2022-04-13T10:59:51.104Z"
   },
   {
    "duration": 10,
    "start_time": "2022-04-13T10:59:51.129Z"
   },
   {
    "duration": 12,
    "start_time": "2022-04-13T10:59:51.155Z"
   },
   {
    "duration": 10,
    "start_time": "2022-04-13T10:59:51.168Z"
   },
   {
    "duration": 14,
    "start_time": "2022-04-13T10:59:51.179Z"
   },
   {
    "duration": 95,
    "start_time": "2022-04-13T10:59:51.196Z"
   },
   {
    "duration": 61,
    "start_time": "2022-04-13T10:59:51.293Z"
   },
   {
    "duration": 193,
    "start_time": "2022-04-13T10:59:51.356Z"
   },
   {
    "duration": 28,
    "start_time": "2022-04-13T10:59:51.554Z"
   },
   {
    "duration": 58,
    "start_time": "2022-04-13T10:59:51.584Z"
   },
   {
    "duration": 11,
    "start_time": "2022-04-13T10:59:51.654Z"
   },
   {
    "duration": 9,
    "start_time": "2022-04-13T10:59:51.667Z"
   },
   {
    "duration": 9,
    "start_time": "2022-04-13T10:59:51.678Z"
   },
   {
    "duration": 23,
    "start_time": "2022-04-13T10:59:51.689Z"
   },
   {
    "duration": 53,
    "start_time": "2022-04-13T10:59:51.714Z"
   },
   {
    "duration": 6,
    "start_time": "2022-04-13T10:59:51.769Z"
   },
   {
    "duration": 6,
    "start_time": "2022-04-13T10:59:51.777Z"
   },
   {
    "duration": 15,
    "start_time": "2022-04-13T10:59:51.785Z"
   },
   {
    "duration": 30,
    "start_time": "2022-04-13T10:59:51.801Z"
   },
   {
    "duration": 36,
    "start_time": "2022-04-13T10:59:51.832Z"
   },
   {
    "duration": 6,
    "start_time": "2022-04-13T10:59:51.870Z"
   },
   {
    "duration": 13,
    "start_time": "2022-04-13T10:59:51.877Z"
   },
   {
    "duration": 10,
    "start_time": "2022-04-13T10:59:51.891Z"
   },
   {
    "duration": 12,
    "start_time": "2022-04-13T10:59:51.902Z"
   },
   {
    "duration": 13,
    "start_time": "2022-04-13T10:59:51.915Z"
   },
   {
    "duration": 8,
    "start_time": "2022-04-13T10:59:51.929Z"
   },
   {
    "duration": 17,
    "start_time": "2022-04-13T10:59:51.939Z"
   },
   {
    "duration": 11,
    "start_time": "2022-04-13T10:59:51.957Z"
   },
   {
    "duration": 7,
    "start_time": "2022-04-13T10:59:51.970Z"
   },
   {
    "duration": 19,
    "start_time": "2022-04-13T10:59:51.978Z"
   },
   {
    "duration": 6,
    "start_time": "2022-04-13T10:59:51.998Z"
   },
   {
    "duration": 7,
    "start_time": "2022-04-13T10:59:52.006Z"
   },
   {
    "duration": 6,
    "start_time": "2022-04-13T10:59:52.018Z"
   },
   {
    "duration": 8,
    "start_time": "2022-04-13T10:59:52.025Z"
   },
   {
    "duration": 12,
    "start_time": "2022-04-13T10:59:52.055Z"
   },
   {
    "duration": 14,
    "start_time": "2022-04-13T10:59:52.068Z"
   },
   {
    "duration": 15,
    "start_time": "2022-04-13T10:59:52.083Z"
   },
   {
    "duration": 23,
    "start_time": "2022-04-13T10:59:52.100Z"
   },
   {
    "duration": 19,
    "start_time": "2022-04-13T10:59:52.125Z"
   },
   {
    "duration": 27,
    "start_time": "2022-04-13T10:59:52.146Z"
   },
   {
    "duration": 12,
    "start_time": "2022-04-13T10:59:52.174Z"
   },
   {
    "duration": 447,
    "start_time": "2022-04-13T10:59:52.187Z"
   },
   {
    "duration": 5,
    "start_time": "2022-04-13T10:59:52.635Z"
   },
   {
    "duration": 141,
    "start_time": "2022-04-13T10:59:52.642Z"
   },
   {
    "duration": 153,
    "start_time": "2022-04-13T10:59:52.784Z"
   },
   {
    "duration": 5,
    "start_time": "2022-04-13T10:59:52.938Z"
   },
   {
    "duration": 27,
    "start_time": "2022-04-13T10:59:52.955Z"
   },
   {
    "duration": 144,
    "start_time": "2022-04-13T10:59:52.984Z"
   },
   {
    "duration": 6,
    "start_time": "2022-04-13T10:59:53.130Z"
   },
   {
    "duration": 27,
    "start_time": "2022-04-13T10:59:53.138Z"
   },
   {
    "duration": 149,
    "start_time": "2022-04-13T10:59:53.167Z"
   },
   {
    "duration": 5,
    "start_time": "2022-04-13T10:59:53.318Z"
   },
   {
    "duration": 120,
    "start_time": "2022-04-13T10:59:53.324Z"
   },
   {
    "duration": 12,
    "start_time": "2022-04-13T10:59:53.445Z"
   },
   {
    "duration": 139,
    "start_time": "2022-04-13T10:59:53.459Z"
   },
   {
    "duration": 134,
    "start_time": "2022-04-13T10:59:53.600Z"
   },
   {
    "duration": 121,
    "start_time": "2022-04-13T10:59:53.735Z"
   },
   {
    "duration": 2,
    "start_time": "2022-04-13T10:59:53.858Z"
   },
   {
    "duration": 6,
    "start_time": "2022-04-13T10:59:53.862Z"
   },
   {
    "duration": 9,
    "start_time": "2022-04-13T10:59:53.870Z"
   },
   {
    "duration": 10,
    "start_time": "2022-04-13T10:59:53.881Z"
   },
   {
    "duration": 6,
    "start_time": "2022-04-13T10:59:53.892Z"
   },
   {
    "duration": 8,
    "start_time": "2022-04-13T10:59:53.899Z"
   },
   {
    "duration": 6,
    "start_time": "2022-04-13T10:59:53.908Z"
   },
   {
    "duration": 6,
    "start_time": "2022-04-13T10:59:53.916Z"
   },
   {
    "duration": 7,
    "start_time": "2022-04-13T10:59:53.924Z"
   },
   {
    "duration": 9,
    "start_time": "2022-04-13T11:28:44.156Z"
   },
   {
    "duration": 799,
    "start_time": "2022-04-13T14:20:22.581Z"
   },
   {
    "duration": 384,
    "start_time": "2022-04-13T14:20:23.382Z"
   },
   {
    "duration": 14,
    "start_time": "2022-04-13T14:20:23.767Z"
   },
   {
    "duration": 7,
    "start_time": "2022-04-13T14:20:23.782Z"
   },
   {
    "duration": 26,
    "start_time": "2022-04-13T14:20:23.791Z"
   },
   {
    "duration": 8,
    "start_time": "2022-04-13T14:20:23.818Z"
   },
   {
    "duration": 30,
    "start_time": "2022-04-13T14:20:23.828Z"
   },
   {
    "duration": 7,
    "start_time": "2022-04-13T14:20:23.860Z"
   },
   {
    "duration": 30,
    "start_time": "2022-04-13T14:20:23.868Z"
   },
   {
    "duration": 12,
    "start_time": "2022-04-13T14:20:23.900Z"
   },
   {
    "duration": 35,
    "start_time": "2022-04-13T14:20:23.913Z"
   },
   {
    "duration": 12,
    "start_time": "2022-04-13T14:20:23.950Z"
   },
   {
    "duration": 10,
    "start_time": "2022-04-13T14:20:23.963Z"
   },
   {
    "duration": 94,
    "start_time": "2022-04-13T14:20:23.976Z"
   },
   {
    "duration": 55,
    "start_time": "2022-04-13T14:20:24.071Z"
   },
   {
    "duration": 8,
    "start_time": "2022-04-13T14:20:24.128Z"
   },
   {
    "duration": 221,
    "start_time": "2022-04-13T14:20:24.148Z"
   },
   {
    "duration": 81,
    "start_time": "2022-04-13T14:20:24.371Z"
   },
   {
    "duration": 121,
    "start_time": "2022-04-13T14:20:24.453Z"
   },
   {
    "duration": 10,
    "start_time": "2022-04-13T14:20:24.576Z"
   },
   {
    "duration": 64,
    "start_time": "2022-04-13T14:20:24.587Z"
   },
   {
    "duration": 10,
    "start_time": "2022-04-13T14:20:24.653Z"
   },
   {
    "duration": 24,
    "start_time": "2022-04-13T14:20:24.664Z"
   },
   {
    "duration": 78,
    "start_time": "2022-04-13T14:20:24.689Z"
   },
   {
    "duration": 7,
    "start_time": "2022-04-13T14:20:24.769Z"
   },
   {
    "duration": 5,
    "start_time": "2022-04-13T14:20:24.777Z"
   },
   {
    "duration": 64,
    "start_time": "2022-04-13T14:20:24.784Z"
   },
   {
    "duration": 22,
    "start_time": "2022-04-13T14:20:24.850Z"
   },
   {
    "duration": 77,
    "start_time": "2022-04-13T14:20:24.873Z"
   },
   {
    "duration": 6,
    "start_time": "2022-04-13T14:20:24.952Z"
   },
   {
    "duration": 9,
    "start_time": "2022-04-13T14:20:24.960Z"
   },
   {
    "duration": 9,
    "start_time": "2022-04-13T14:20:24.970Z"
   },
   {
    "duration": 13,
    "start_time": "2022-04-13T14:20:24.981Z"
   },
   {
    "duration": 61,
    "start_time": "2022-04-13T14:20:24.996Z"
   },
   {
    "duration": 11,
    "start_time": "2022-04-13T14:20:25.059Z"
   },
   {
    "duration": 11,
    "start_time": "2022-04-13T14:20:25.072Z"
   },
   {
    "duration": 69,
    "start_time": "2022-04-13T14:20:25.085Z"
   },
   {
    "duration": 7,
    "start_time": "2022-04-13T14:20:25.156Z"
   },
   {
    "duration": 21,
    "start_time": "2022-04-13T14:20:25.165Z"
   },
   {
    "duration": 61,
    "start_time": "2022-04-13T14:20:25.188Z"
   },
   {
    "duration": 5,
    "start_time": "2022-04-13T14:20:25.255Z"
   },
   {
    "duration": 9,
    "start_time": "2022-04-13T14:20:25.262Z"
   },
   {
    "duration": 6,
    "start_time": "2022-04-13T14:20:25.272Z"
   },
   {
    "duration": 69,
    "start_time": "2022-04-13T14:20:25.280Z"
   },
   {
    "duration": 19,
    "start_time": "2022-04-13T14:20:25.351Z"
   },
   {
    "duration": 19,
    "start_time": "2022-04-13T14:20:25.372Z"
   },
   {
    "duration": 56,
    "start_time": "2022-04-13T14:20:25.393Z"
   },
   {
    "duration": 8,
    "start_time": "2022-04-13T14:20:25.451Z"
   },
   {
    "duration": 11,
    "start_time": "2022-04-13T14:20:25.460Z"
   },
   {
    "duration": 6,
    "start_time": "2022-04-13T14:20:25.473Z"
   },
   {
    "duration": 759,
    "start_time": "2022-04-13T14:20:25.480Z"
   },
   {
    "duration": 4,
    "start_time": "2022-04-13T14:20:26.248Z"
   },
   {
    "duration": 134,
    "start_time": "2022-04-13T14:20:26.254Z"
   },
   {
    "duration": 139,
    "start_time": "2022-04-13T14:20:26.389Z"
   },
   {
    "duration": 5,
    "start_time": "2022-04-13T14:20:26.529Z"
   },
   {
    "duration": 19,
    "start_time": "2022-04-13T14:20:26.535Z"
   },
   {
    "duration": 129,
    "start_time": "2022-04-13T14:20:26.555Z"
   },
   {
    "duration": 5,
    "start_time": "2022-04-13T14:20:26.685Z"
   },
   {
    "duration": 11,
    "start_time": "2022-04-13T14:20:26.691Z"
   },
   {
    "duration": 138,
    "start_time": "2022-04-13T14:20:26.704Z"
   },
   {
    "duration": 4,
    "start_time": "2022-04-13T14:20:26.848Z"
   },
   {
    "duration": 129,
    "start_time": "2022-04-13T14:20:26.853Z"
   },
   {
    "duration": 5,
    "start_time": "2022-04-13T14:20:26.983Z"
   },
   {
    "duration": 136,
    "start_time": "2022-04-13T14:20:26.989Z"
   },
   {
    "duration": 129,
    "start_time": "2022-04-13T14:20:27.126Z"
   },
   {
    "duration": 110,
    "start_time": "2022-04-13T14:20:27.256Z"
   },
   {
    "duration": 2,
    "start_time": "2022-04-13T14:20:27.368Z"
   },
   {
    "duration": 14,
    "start_time": "2022-04-13T14:20:27.372Z"
   },
   {
    "duration": 17,
    "start_time": "2022-04-13T14:20:27.387Z"
   },
   {
    "duration": 12,
    "start_time": "2022-04-13T14:20:27.405Z"
   },
   {
    "duration": 6,
    "start_time": "2022-04-13T14:20:27.419Z"
   },
   {
    "duration": 6,
    "start_time": "2022-04-13T14:20:27.427Z"
   },
   {
    "duration": 4,
    "start_time": "2022-04-13T14:20:27.434Z"
   },
   {
    "duration": 10,
    "start_time": "2022-04-13T14:20:27.439Z"
   },
   {
    "duration": 4,
    "start_time": "2022-04-13T14:20:27.451Z"
   },
   {
    "duration": 15,
    "start_time": "2022-04-13T14:20:41.321Z"
   }
  ],
  "kernelspec": {
   "display_name": "Python 3",
   "language": "python",
   "name": "python3"
  },
  "language_info": {
   "codemirror_mode": {
    "name": "ipython",
    "version": 3
   },
   "file_extension": ".py",
   "mimetype": "text/x-python",
   "name": "python",
   "nbconvert_exporter": "python",
   "pygments_lexer": "ipython3",
   "version": "3.7.1"
  },
  "toc": {
   "base_numbering": 1,
   "nav_menu": {
    "height": "327px",
    "width": "351px"
   },
   "number_sections": true,
   "sideBar": true,
   "skip_h1_title": true,
   "title_cell": "Table of Contents",
   "title_sidebar": "Contents",
   "toc_cell": false,
   "toc_position": {
    "height": "calc(100% - 180px)",
    "left": "10px",
    "top": "150px",
    "width": "165px"
   },
   "toc_section_display": true,
   "toc_window_display": true
  }
 },
 "nbformat": 4,
 "nbformat_minor": 2
}
