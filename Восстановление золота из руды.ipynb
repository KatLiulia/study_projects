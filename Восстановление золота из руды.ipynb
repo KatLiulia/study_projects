{
 "cells": [
  {
   "cell_type": "markdown",
   "metadata": {
    "toc": true
   },
   "source": [
    "<h1>Содержание<span class=\"tocSkip\"></span></h1>\n",
    "<div class=\"toc\"><ul class=\"toc-item\"><li><span><a href=\"#Описание-данных\" data-toc-modified-id=\"Описание-данных-1\"><span class=\"toc-item-num\">1&nbsp;&nbsp;</span>Описание данных</a></span><ul class=\"toc-item\"><li><span><a href=\"#Технологический-процесс\" data-toc-modified-id=\"Технологический-процесс-1.1\"><span class=\"toc-item-num\">1.1&nbsp;&nbsp;</span>Технологический процесс</a></span></li><li><span><a href=\"#Параметры-этапов\" data-toc-modified-id=\"Параметры-этапов-1.2\"><span class=\"toc-item-num\">1.2&nbsp;&nbsp;</span>Параметры этапов</a></span></li><li><span><a href=\"#Наименование-признаков\" data-toc-modified-id=\"Наименование-признаков-1.3\"><span class=\"toc-item-num\">1.3&nbsp;&nbsp;</span>Наименование признаков</a></span></li></ul></li><li><span><a href=\"#Подготовка-данных\" data-toc-modified-id=\"Подготовка-данных-2\"><span class=\"toc-item-num\">2&nbsp;&nbsp;</span>Подготовка данных</a></span><ul class=\"toc-item\"><li><span><a href=\"#Расчет-эффективности-обогащения\" data-toc-modified-id=\"Расчет-эффективности-обогащения-2.1\"><span class=\"toc-item-num\">2.1&nbsp;&nbsp;</span>Расчет эффективности обогащения</a></span></li><li><span><a href=\"#Анализ-признаков\" data-toc-modified-id=\"Анализ-признаков-2.2\"><span class=\"toc-item-num\">2.2&nbsp;&nbsp;</span>Анализ признаков</a></span></li><li><span><a href=\"#Предобработка-данных\" data-toc-modified-id=\"Предобработка-данных-2.3\"><span class=\"toc-item-num\">2.3&nbsp;&nbsp;</span>Предобработка данных</a></span></li></ul></li><li><span><a href=\"#Анализ-данных\" data-toc-modified-id=\"Анализ-данных-3\"><span class=\"toc-item-num\">3&nbsp;&nbsp;</span>Анализ данных</a></span><ul class=\"toc-item\"><li><span><a href=\"#Концентрация-металлов-(Au,-Ag,-Pb)-на-различных-этапах-очистки\" data-toc-modified-id=\"Концентрация-металлов-(Au,-Ag,-Pb)-на-различных-этапах-очистки-3.1\"><span class=\"toc-item-num\">3.1&nbsp;&nbsp;</span>Концентрация металлов (Au, Ag, Pb) на различных этапах очистки</a></span></li><li><span><a href=\"#Распределения-размеров-гранул-сырья\" data-toc-modified-id=\"Распределения-размеров-гранул-сырья-3.2\"><span class=\"toc-item-num\">3.2&nbsp;&nbsp;</span>Распределения размеров гранул сырья</a></span></li><li><span><a href=\"#Суммарная-концентрация-на-разных-стадиях\" data-toc-modified-id=\"Суммарная-концентрация-на-разных-стадиях-3.3\"><span class=\"toc-item-num\">3.3&nbsp;&nbsp;</span>Суммарная концентрация на разных стадиях</a></span></li></ul></li><li><span><a href=\"#Модель\" data-toc-modified-id=\"Модель-4\"><span class=\"toc-item-num\">4&nbsp;&nbsp;</span>Модель</a></span><ul class=\"toc-item\"><li><span><a href=\"#sMAPE\" data-toc-modified-id=\"sMAPE-4.1\"><span class=\"toc-item-num\">4.1&nbsp;&nbsp;</span>sMAPE</a></span></li><li><span><a href=\"#Подготовка-моделей\" data-toc-modified-id=\"Подготовка-моделей-4.2\"><span class=\"toc-item-num\">4.2&nbsp;&nbsp;</span>Подготовка моделей</a></span></li><li><span><a href=\"#Кросс-валидация\" data-toc-modified-id=\"Кросс-валидация-4.3\"><span class=\"toc-item-num\">4.3&nbsp;&nbsp;</span>Кросс-валидация</a></span></li><li><span><a href=\"#Тест\" data-toc-modified-id=\"Тест-4.4\"><span class=\"toc-item-num\">4.4&nbsp;&nbsp;</span>Тест</a></span></li></ul></li><li><span><a href=\"#Чек-лист-готовности-проекта\" data-toc-modified-id=\"Чек-лист-готовности-проекта-5\"><span class=\"toc-item-num\">5&nbsp;&nbsp;</span>Чек-лист готовности проекта</a></span></li></ul></div>"
   ]
  },
  {
   "cell_type": "markdown",
   "metadata": {},
   "source": [
    "# Восстановление золота из руды"
   ]
  },
  {
   "cell_type": "code",
   "execution_count": 1,
   "metadata": {},
   "outputs": [],
   "source": [
    "import pandas as pd\n",
    "import seaborn as sns\n",
    "import matplotlib.pyplot as plt\n",
    "\n",
    "from sklearn.linear_model import LinearRegression\n",
    "from sklearn.ensemble import RandomForestRegressor\n",
    "\n",
    "from sklearn.model_selection import GridSearchCV\n",
    "from sklearn.model_selection import cross_val_score\n",
    "from sklearn.metrics import mean_absolute_error\n",
    "from sklearn.metrics import make_scorer\n",
    "from sklearn.preprocessing import StandardScaler "
   ]
  },
  {
   "cell_type": "markdown",
   "metadata": {},
   "source": [
    "**Задание:**\n",
    "\n",
    "Подготовьте прототип модели машинного обучения для компания, которая разрабатывает решения для эффективной работы промышленных предприятий.\n",
    "\n",
    "Модель должна предсказать коэффициент восстановления золота из золотосодержащей руды. Используйте данные с параметрами добычи и очистки. \n",
    "\n",
    "Модель поможет оптимизировать производство, чтобы не запускать предприятие с убыточными характеристиками."
   ]
  },
  {
   "cell_type": "markdown",
   "metadata": {},
   "source": [
    "## Описание данных"
   ]
  },
  {
   "cell_type": "markdown",
   "metadata": {},
   "source": [
    "### Технологический процесс"
   ]
  },
  {
   "cell_type": "markdown",
   "metadata": {},
   "source": [
    "- `Rougher feed` — исходное сырье\n",
    "- `Rougher additions` (или reagent additions) — флотационные реагенты: Xanthate, Sulphate, Depressant\n",
    " - `Xanthate` — ксантогенат (промотер, или активатор флотации);\n",
    " - `Sulphate` — сульфат (на данном производстве сульфид натрия);\n",
    " - `Depressant` — депрессант (силикат натрия).\n",
    "- `Rougher process` (англ. «грубый процесс») — флотация\n",
    "- `Rougher tails` — отвальные хвосты\n",
    "- `Float banks` — флотационная установка\n",
    "- `Cleaner process` — очистка\n",
    "- `Rougher Au` — черновой концентрат золота\n",
    "- `Final Au` — финальный концентрат золота"
   ]
  },
  {
   "cell_type": "markdown",
   "metadata": {},
   "source": [
    "### Параметры этапов"
   ]
  },
  {
   "cell_type": "markdown",
   "metadata": {},
   "source": [
    "- `air amount` — объём воздуха\n",
    "- `fluid levels` — уровень жидкости\n",
    "- `feed size` — размер гранул сырья\n",
    "- `feed rate` — скорость подачи"
   ]
  },
  {
   "cell_type": "markdown",
   "metadata": {},
   "source": [
    "### Наименование признаков"
   ]
  },
  {
   "cell_type": "markdown",
   "metadata": {},
   "source": [
    "`[этап].[тип_параметра].[название_параметра]`\n",
    "\n",
    "Возможные значения для блока `[этап]`:\n",
    "\n",
    "- `rougher` — флотация\n",
    "- `primary_cleaner` — первичная очистка\n",
    "- `secondary_cleaner` — вторичная очистка\n",
    "- `final` — финальные характеристики\n",
    "\n",
    "Возможные значения для блока `[тип_параметра]`:\n",
    "\n",
    "- `input` — параметры сырья\n",
    "- `output` — параметры продукта\n",
    "- `state` — параметры, характеризующие текущее состояние этапа\n",
    "- `calculation` — расчётные характеристики"
   ]
  },
  {
   "cell_type": "markdown",
   "metadata": {},
   "source": [
    "## Подготовка данных"
   ]
  },
  {
   "cell_type": "code",
   "execution_count": 2,
   "metadata": {},
   "outputs": [],
   "source": [
    "df_gold_train = pd.read_csv('/datasets/gold_recovery_train_new.csv', index_col=['date'])\n",
    "df_gold_test = pd.read_csv('/datasets/gold_recovery_test_new.csv', index_col=['date'])\n",
    "df_gold_full = pd.read_csv('/datasets/gold_recovery_full_new.csv', index_col=['date'])"
   ]
  },
  {
   "cell_type": "code",
   "execution_count": 3,
   "metadata": {},
   "outputs": [],
   "source": [
    "pd.set_option('display.MAX_columns', None)"
   ]
  },
  {
   "cell_type": "code",
   "execution_count": 4,
   "metadata": {},
   "outputs": [
    {
     "data": {
      "text/html": [
       "<div>\n",
       "<style scoped>\n",
       "    .dataframe tbody tr th:only-of-type {\n",
       "        vertical-align: middle;\n",
       "    }\n",
       "\n",
       "    .dataframe tbody tr th {\n",
       "        vertical-align: top;\n",
       "    }\n",
       "\n",
       "    .dataframe thead th {\n",
       "        text-align: right;\n",
       "    }\n",
       "</style>\n",
       "<table border=\"1\" class=\"dataframe\">\n",
       "  <thead>\n",
       "    <tr style=\"text-align: right;\">\n",
       "      <th></th>\n",
       "      <th>final.output.concentrate_ag</th>\n",
       "      <th>final.output.concentrate_pb</th>\n",
       "      <th>final.output.concentrate_sol</th>\n",
       "      <th>final.output.concentrate_au</th>\n",
       "      <th>final.output.recovery</th>\n",
       "      <th>final.output.tail_ag</th>\n",
       "      <th>final.output.tail_pb</th>\n",
       "      <th>final.output.tail_sol</th>\n",
       "      <th>final.output.tail_au</th>\n",
       "      <th>primary_cleaner.input.sulfate</th>\n",
       "      <th>primary_cleaner.input.depressant</th>\n",
       "      <th>primary_cleaner.input.feed_size</th>\n",
       "      <th>primary_cleaner.input.xanthate</th>\n",
       "      <th>primary_cleaner.output.concentrate_ag</th>\n",
       "      <th>primary_cleaner.output.concentrate_pb</th>\n",
       "      <th>primary_cleaner.output.concentrate_sol</th>\n",
       "      <th>primary_cleaner.output.concentrate_au</th>\n",
       "      <th>primary_cleaner.output.tail_ag</th>\n",
       "      <th>primary_cleaner.output.tail_pb</th>\n",
       "      <th>primary_cleaner.output.tail_sol</th>\n",
       "      <th>primary_cleaner.output.tail_au</th>\n",
       "      <th>primary_cleaner.state.floatbank8_a_air</th>\n",
       "      <th>primary_cleaner.state.floatbank8_a_level</th>\n",
       "      <th>primary_cleaner.state.floatbank8_b_air</th>\n",
       "      <th>primary_cleaner.state.floatbank8_b_level</th>\n",
       "      <th>primary_cleaner.state.floatbank8_c_air</th>\n",
       "      <th>primary_cleaner.state.floatbank8_c_level</th>\n",
       "      <th>primary_cleaner.state.floatbank8_d_air</th>\n",
       "      <th>primary_cleaner.state.floatbank8_d_level</th>\n",
       "      <th>rougher.calculation.sulfate_to_au_concentrate</th>\n",
       "      <th>rougher.calculation.floatbank10_sulfate_to_au_feed</th>\n",
       "      <th>rougher.calculation.floatbank11_sulfate_to_au_feed</th>\n",
       "      <th>rougher.calculation.au_pb_ratio</th>\n",
       "      <th>rougher.input.feed_ag</th>\n",
       "      <th>rougher.input.feed_pb</th>\n",
       "      <th>rougher.input.feed_rate</th>\n",
       "      <th>rougher.input.feed_size</th>\n",
       "      <th>rougher.input.feed_sol</th>\n",
       "      <th>rougher.input.feed_au</th>\n",
       "      <th>rougher.input.floatbank10_sulfate</th>\n",
       "      <th>rougher.input.floatbank10_xanthate</th>\n",
       "      <th>rougher.input.floatbank11_sulfate</th>\n",
       "      <th>rougher.input.floatbank11_xanthate</th>\n",
       "      <th>rougher.output.concentrate_ag</th>\n",
       "      <th>rougher.output.concentrate_pb</th>\n",
       "      <th>rougher.output.concentrate_sol</th>\n",
       "      <th>rougher.output.concentrate_au</th>\n",
       "      <th>rougher.output.recovery</th>\n",
       "      <th>rougher.output.tail_ag</th>\n",
       "      <th>rougher.output.tail_pb</th>\n",
       "      <th>rougher.output.tail_sol</th>\n",
       "      <th>rougher.output.tail_au</th>\n",
       "      <th>rougher.state.floatbank10_a_air</th>\n",
       "      <th>rougher.state.floatbank10_a_level</th>\n",
       "      <th>rougher.state.floatbank10_b_air</th>\n",
       "      <th>rougher.state.floatbank10_b_level</th>\n",
       "      <th>rougher.state.floatbank10_c_air</th>\n",
       "      <th>rougher.state.floatbank10_c_level</th>\n",
       "      <th>rougher.state.floatbank10_d_air</th>\n",
       "      <th>rougher.state.floatbank10_d_level</th>\n",
       "      <th>rougher.state.floatbank10_e_air</th>\n",
       "      <th>rougher.state.floatbank10_e_level</th>\n",
       "      <th>rougher.state.floatbank10_f_air</th>\n",
       "      <th>rougher.state.floatbank10_f_level</th>\n",
       "      <th>secondary_cleaner.output.tail_ag</th>\n",
       "      <th>secondary_cleaner.output.tail_pb</th>\n",
       "      <th>secondary_cleaner.output.tail_sol</th>\n",
       "      <th>secondary_cleaner.output.tail_au</th>\n",
       "      <th>secondary_cleaner.state.floatbank2_a_air</th>\n",
       "      <th>secondary_cleaner.state.floatbank2_a_level</th>\n",
       "      <th>secondary_cleaner.state.floatbank2_b_air</th>\n",
       "      <th>secondary_cleaner.state.floatbank2_b_level</th>\n",
       "      <th>secondary_cleaner.state.floatbank3_a_air</th>\n",
       "      <th>secondary_cleaner.state.floatbank3_a_level</th>\n",
       "      <th>secondary_cleaner.state.floatbank3_b_air</th>\n",
       "      <th>secondary_cleaner.state.floatbank3_b_level</th>\n",
       "      <th>secondary_cleaner.state.floatbank4_a_air</th>\n",
       "      <th>secondary_cleaner.state.floatbank4_a_level</th>\n",
       "      <th>secondary_cleaner.state.floatbank4_b_air</th>\n",
       "      <th>secondary_cleaner.state.floatbank4_b_level</th>\n",
       "      <th>secondary_cleaner.state.floatbank5_a_air</th>\n",
       "      <th>secondary_cleaner.state.floatbank5_a_level</th>\n",
       "      <th>secondary_cleaner.state.floatbank5_b_air</th>\n",
       "      <th>secondary_cleaner.state.floatbank5_b_level</th>\n",
       "      <th>secondary_cleaner.state.floatbank6_a_air</th>\n",
       "      <th>secondary_cleaner.state.floatbank6_a_level</th>\n",
       "    </tr>\n",
       "    <tr>\n",
       "      <th>date</th>\n",
       "      <th></th>\n",
       "      <th></th>\n",
       "      <th></th>\n",
       "      <th></th>\n",
       "      <th></th>\n",
       "      <th></th>\n",
       "      <th></th>\n",
       "      <th></th>\n",
       "      <th></th>\n",
       "      <th></th>\n",
       "      <th></th>\n",
       "      <th></th>\n",
       "      <th></th>\n",
       "      <th></th>\n",
       "      <th></th>\n",
       "      <th></th>\n",
       "      <th></th>\n",
       "      <th></th>\n",
       "      <th></th>\n",
       "      <th></th>\n",
       "      <th></th>\n",
       "      <th></th>\n",
       "      <th></th>\n",
       "      <th></th>\n",
       "      <th></th>\n",
       "      <th></th>\n",
       "      <th></th>\n",
       "      <th></th>\n",
       "      <th></th>\n",
       "      <th></th>\n",
       "      <th></th>\n",
       "      <th></th>\n",
       "      <th></th>\n",
       "      <th></th>\n",
       "      <th></th>\n",
       "      <th></th>\n",
       "      <th></th>\n",
       "      <th></th>\n",
       "      <th></th>\n",
       "      <th></th>\n",
       "      <th></th>\n",
       "      <th></th>\n",
       "      <th></th>\n",
       "      <th></th>\n",
       "      <th></th>\n",
       "      <th></th>\n",
       "      <th></th>\n",
       "      <th></th>\n",
       "      <th></th>\n",
       "      <th></th>\n",
       "      <th></th>\n",
       "      <th></th>\n",
       "      <th></th>\n",
       "      <th></th>\n",
       "      <th></th>\n",
       "      <th></th>\n",
       "      <th></th>\n",
       "      <th></th>\n",
       "      <th></th>\n",
       "      <th></th>\n",
       "      <th></th>\n",
       "      <th></th>\n",
       "      <th></th>\n",
       "      <th></th>\n",
       "      <th></th>\n",
       "      <th></th>\n",
       "      <th></th>\n",
       "      <th></th>\n",
       "      <th></th>\n",
       "      <th></th>\n",
       "      <th></th>\n",
       "      <th></th>\n",
       "      <th></th>\n",
       "      <th></th>\n",
       "      <th></th>\n",
       "      <th></th>\n",
       "      <th></th>\n",
       "      <th></th>\n",
       "      <th></th>\n",
       "      <th></th>\n",
       "      <th></th>\n",
       "      <th></th>\n",
       "      <th></th>\n",
       "      <th></th>\n",
       "      <th></th>\n",
       "      <th></th>\n",
       "    </tr>\n",
       "  </thead>\n",
       "  <tbody>\n",
       "    <tr>\n",
       "      <th>2016-01-15 00:00:00</th>\n",
       "      <td>6.055403</td>\n",
       "      <td>9.889648</td>\n",
       "      <td>5.507324</td>\n",
       "      <td>42.192020</td>\n",
       "      <td>70.541216</td>\n",
       "      <td>10.411962</td>\n",
       "      <td>0.895447</td>\n",
       "      <td>16.904297</td>\n",
       "      <td>2.143149</td>\n",
       "      <td>127.092003</td>\n",
       "      <td>10.128295</td>\n",
       "      <td>7.25</td>\n",
       "      <td>0.988759</td>\n",
       "      <td>8.547551</td>\n",
       "      <td>10.389648</td>\n",
       "      <td>19.529297</td>\n",
       "      <td>34.174427</td>\n",
       "      <td>14.936526</td>\n",
       "      <td>2.534912</td>\n",
       "      <td>7.476074</td>\n",
       "      <td>2.106679</td>\n",
       "      <td>1549.775757</td>\n",
       "      <td>-498.912140</td>\n",
       "      <td>1551.434204</td>\n",
       "      <td>-516.403442</td>\n",
       "      <td>1549.873901</td>\n",
       "      <td>-498.666595</td>\n",
       "      <td>1554.367432</td>\n",
       "      <td>-493.428131</td>\n",
       "      <td>41885.707031</td>\n",
       "      <td>3481.779053</td>\n",
       "      <td>3520.337158</td>\n",
       "      <td>2.838687</td>\n",
       "      <td>6.100378</td>\n",
       "      <td>2.284912</td>\n",
       "      <td>523.546326</td>\n",
       "      <td>55.486599</td>\n",
       "      <td>36.808594</td>\n",
       "      <td>6.486150</td>\n",
       "      <td>11.986616</td>\n",
       "      <td>6.007990</td>\n",
       "      <td>11.836743</td>\n",
       "      <td>6.005818</td>\n",
       "      <td>11.500771</td>\n",
       "      <td>7.101074</td>\n",
       "      <td>28.029297</td>\n",
       "      <td>19.793808</td>\n",
       "      <td>87.107763</td>\n",
       "      <td>5.008018</td>\n",
       "      <td>0.508728</td>\n",
       "      <td>19.154297</td>\n",
       "      <td>1.170244</td>\n",
       "      <td>999.706909</td>\n",
       "      <td>-404.066986</td>\n",
       "      <td>1603.011353</td>\n",
       "      <td>-434.715027</td>\n",
       "      <td>1602.375000</td>\n",
       "      <td>-442.204468</td>\n",
       "      <td>1598.937256</td>\n",
       "      <td>-451.294128</td>\n",
       "      <td>1404.472046</td>\n",
       "      <td>-455.462982</td>\n",
       "      <td>1416.354980</td>\n",
       "      <td>-451.939636</td>\n",
       "      <td>14.500184</td>\n",
       "      <td>4.694824</td>\n",
       "      <td>8.764648</td>\n",
       "      <td>2.606185</td>\n",
       "      <td>25.853109</td>\n",
       "      <td>-498.526489</td>\n",
       "      <td>23.893660</td>\n",
       "      <td>-501.406281</td>\n",
       "      <td>23.961798</td>\n",
       "      <td>-495.262817</td>\n",
       "      <td>21.940409</td>\n",
       "      <td>-499.340973</td>\n",
       "      <td>14.016835</td>\n",
       "      <td>-502.488007</td>\n",
       "      <td>12.099931</td>\n",
       "      <td>-504.715942</td>\n",
       "      <td>9.925633</td>\n",
       "      <td>-498.310211</td>\n",
       "      <td>8.079666</td>\n",
       "      <td>-500.470978</td>\n",
       "      <td>14.151341</td>\n",
       "      <td>-605.841980</td>\n",
       "    </tr>\n",
       "    <tr>\n",
       "      <th>2016-01-15 01:00:00</th>\n",
       "      <td>6.029369</td>\n",
       "      <td>9.968944</td>\n",
       "      <td>5.257781</td>\n",
       "      <td>42.701629</td>\n",
       "      <td>69.266198</td>\n",
       "      <td>10.462676</td>\n",
       "      <td>0.927452</td>\n",
       "      <td>16.634514</td>\n",
       "      <td>2.224930</td>\n",
       "      <td>125.629232</td>\n",
       "      <td>10.296251</td>\n",
       "      <td>7.25</td>\n",
       "      <td>1.002663</td>\n",
       "      <td>8.558743</td>\n",
       "      <td>10.497069</td>\n",
       "      <td>19.369147</td>\n",
       "      <td>34.118526</td>\n",
       "      <td>16.250511</td>\n",
       "      <td>3.049646</td>\n",
       "      <td>6.733907</td>\n",
       "      <td>2.353017</td>\n",
       "      <td>1576.166671</td>\n",
       "      <td>-500.904965</td>\n",
       "      <td>1575.950626</td>\n",
       "      <td>-499.865889</td>\n",
       "      <td>1575.994189</td>\n",
       "      <td>-499.315107</td>\n",
       "      <td>1574.479259</td>\n",
       "      <td>-498.931665</td>\n",
       "      <td>42050.861809</td>\n",
       "      <td>3498.370979</td>\n",
       "      <td>3489.981857</td>\n",
       "      <td>2.858998</td>\n",
       "      <td>6.161113</td>\n",
       "      <td>2.266033</td>\n",
       "      <td>525.290581</td>\n",
       "      <td>57.278666</td>\n",
       "      <td>35.753385</td>\n",
       "      <td>6.478583</td>\n",
       "      <td>11.971193</td>\n",
       "      <td>6.005766</td>\n",
       "      <td>11.996163</td>\n",
       "      <td>6.012594</td>\n",
       "      <td>11.615865</td>\n",
       "      <td>7.278807</td>\n",
       "      <td>28.067063</td>\n",
       "      <td>20.050975</td>\n",
       "      <td>86.843261</td>\n",
       "      <td>4.955378</td>\n",
       "      <td>0.536689</td>\n",
       "      <td>18.965234</td>\n",
       "      <td>1.184827</td>\n",
       "      <td>1000.286398</td>\n",
       "      <td>-400.065196</td>\n",
       "      <td>1600.754587</td>\n",
       "      <td>-449.953435</td>\n",
       "      <td>1600.479580</td>\n",
       "      <td>-449.830646</td>\n",
       "      <td>1600.527589</td>\n",
       "      <td>-449.953649</td>\n",
       "      <td>1399.227084</td>\n",
       "      <td>-450.869848</td>\n",
       "      <td>1399.719514</td>\n",
       "      <td>-450.119001</td>\n",
       "      <td>14.265474</td>\n",
       "      <td>4.592547</td>\n",
       "      <td>9.001494</td>\n",
       "      <td>2.488248</td>\n",
       "      <td>25.880539</td>\n",
       "      <td>-499.989656</td>\n",
       "      <td>23.889530</td>\n",
       "      <td>-500.372428</td>\n",
       "      <td>23.970550</td>\n",
       "      <td>-500.085473</td>\n",
       "      <td>22.085714</td>\n",
       "      <td>-499.446897</td>\n",
       "      <td>13.992281</td>\n",
       "      <td>-505.503262</td>\n",
       "      <td>11.950531</td>\n",
       "      <td>-501.331529</td>\n",
       "      <td>10.039245</td>\n",
       "      <td>-500.169983</td>\n",
       "      <td>7.984757</td>\n",
       "      <td>-500.582168</td>\n",
       "      <td>13.998353</td>\n",
       "      <td>-599.787184</td>\n",
       "    </tr>\n",
       "    <tr>\n",
       "      <th>2016-01-15 02:00:00</th>\n",
       "      <td>6.055926</td>\n",
       "      <td>10.213995</td>\n",
       "      <td>5.383759</td>\n",
       "      <td>42.657501</td>\n",
       "      <td>68.116445</td>\n",
       "      <td>10.507046</td>\n",
       "      <td>0.953716</td>\n",
       "      <td>16.208849</td>\n",
       "      <td>2.257889</td>\n",
       "      <td>123.819808</td>\n",
       "      <td>11.316280</td>\n",
       "      <td>7.25</td>\n",
       "      <td>0.991265</td>\n",
       "      <td>8.603505</td>\n",
       "      <td>10.354494</td>\n",
       "      <td>19.167579</td>\n",
       "      <td>33.969464</td>\n",
       "      <td>16.491823</td>\n",
       "      <td>3.124664</td>\n",
       "      <td>6.471768</td>\n",
       "      <td>2.416800</td>\n",
       "      <td>1601.556163</td>\n",
       "      <td>-499.997791</td>\n",
       "      <td>1600.386685</td>\n",
       "      <td>-500.607762</td>\n",
       "      <td>1602.003542</td>\n",
       "      <td>-500.870069</td>\n",
       "      <td>1599.541515</td>\n",
       "      <td>-499.827444</td>\n",
       "      <td>42018.101184</td>\n",
       "      <td>3495.348910</td>\n",
       "      <td>3502.359819</td>\n",
       "      <td>2.945989</td>\n",
       "      <td>6.116455</td>\n",
       "      <td>2.159622</td>\n",
       "      <td>530.026610</td>\n",
       "      <td>57.510649</td>\n",
       "      <td>35.971630</td>\n",
       "      <td>6.362222</td>\n",
       "      <td>11.920603</td>\n",
       "      <td>6.197377</td>\n",
       "      <td>11.920305</td>\n",
       "      <td>6.204633</td>\n",
       "      <td>11.695753</td>\n",
       "      <td>7.216833</td>\n",
       "      <td>27.454037</td>\n",
       "      <td>19.737170</td>\n",
       "      <td>86.842308</td>\n",
       "      <td>4.843460</td>\n",
       "      <td>0.546416</td>\n",
       "      <td>18.808533</td>\n",
       "      <td>1.162562</td>\n",
       "      <td>999.719565</td>\n",
       "      <td>-400.074028</td>\n",
       "      <td>1599.337330</td>\n",
       "      <td>-450.008530</td>\n",
       "      <td>1599.672797</td>\n",
       "      <td>-449.954491</td>\n",
       "      <td>1599.849325</td>\n",
       "      <td>-449.954185</td>\n",
       "      <td>1399.180945</td>\n",
       "      <td>-449.937588</td>\n",
       "      <td>1400.316682</td>\n",
       "      <td>-450.527147</td>\n",
       "      <td>14.115662</td>\n",
       "      <td>4.624775</td>\n",
       "      <td>8.842896</td>\n",
       "      <td>2.458187</td>\n",
       "      <td>26.005245</td>\n",
       "      <td>-499.929616</td>\n",
       "      <td>23.886657</td>\n",
       "      <td>-499.951928</td>\n",
       "      <td>23.913535</td>\n",
       "      <td>-499.442343</td>\n",
       "      <td>23.957717</td>\n",
       "      <td>-499.901982</td>\n",
       "      <td>14.015015</td>\n",
       "      <td>-502.520901</td>\n",
       "      <td>11.912783</td>\n",
       "      <td>-501.133383</td>\n",
       "      <td>10.070913</td>\n",
       "      <td>-500.129135</td>\n",
       "      <td>8.013877</td>\n",
       "      <td>-500.517572</td>\n",
       "      <td>14.028663</td>\n",
       "      <td>-601.427363</td>\n",
       "    </tr>\n",
       "  </tbody>\n",
       "</table>\n",
       "</div>"
      ],
      "text/plain": [
       "                     final.output.concentrate_ag  final.output.concentrate_pb  \\\n",
       "date                                                                            \n",
       "2016-01-15 00:00:00                     6.055403                     9.889648   \n",
       "2016-01-15 01:00:00                     6.029369                     9.968944   \n",
       "2016-01-15 02:00:00                     6.055926                    10.213995   \n",
       "\n",
       "                     final.output.concentrate_sol  \\\n",
       "date                                                \n",
       "2016-01-15 00:00:00                      5.507324   \n",
       "2016-01-15 01:00:00                      5.257781   \n",
       "2016-01-15 02:00:00                      5.383759   \n",
       "\n",
       "                     final.output.concentrate_au  final.output.recovery  \\\n",
       "date                                                                      \n",
       "2016-01-15 00:00:00                    42.192020              70.541216   \n",
       "2016-01-15 01:00:00                    42.701629              69.266198   \n",
       "2016-01-15 02:00:00                    42.657501              68.116445   \n",
       "\n",
       "                     final.output.tail_ag  final.output.tail_pb  \\\n",
       "date                                                              \n",
       "2016-01-15 00:00:00             10.411962              0.895447   \n",
       "2016-01-15 01:00:00             10.462676              0.927452   \n",
       "2016-01-15 02:00:00             10.507046              0.953716   \n",
       "\n",
       "                     final.output.tail_sol  final.output.tail_au  \\\n",
       "date                                                               \n",
       "2016-01-15 00:00:00              16.904297              2.143149   \n",
       "2016-01-15 01:00:00              16.634514              2.224930   \n",
       "2016-01-15 02:00:00              16.208849              2.257889   \n",
       "\n",
       "                     primary_cleaner.input.sulfate  \\\n",
       "date                                                 \n",
       "2016-01-15 00:00:00                     127.092003   \n",
       "2016-01-15 01:00:00                     125.629232   \n",
       "2016-01-15 02:00:00                     123.819808   \n",
       "\n",
       "                     primary_cleaner.input.depressant  \\\n",
       "date                                                    \n",
       "2016-01-15 00:00:00                         10.128295   \n",
       "2016-01-15 01:00:00                         10.296251   \n",
       "2016-01-15 02:00:00                         11.316280   \n",
       "\n",
       "                     primary_cleaner.input.feed_size  \\\n",
       "date                                                   \n",
       "2016-01-15 00:00:00                             7.25   \n",
       "2016-01-15 01:00:00                             7.25   \n",
       "2016-01-15 02:00:00                             7.25   \n",
       "\n",
       "                     primary_cleaner.input.xanthate  \\\n",
       "date                                                  \n",
       "2016-01-15 00:00:00                        0.988759   \n",
       "2016-01-15 01:00:00                        1.002663   \n",
       "2016-01-15 02:00:00                        0.991265   \n",
       "\n",
       "                     primary_cleaner.output.concentrate_ag  \\\n",
       "date                                                         \n",
       "2016-01-15 00:00:00                               8.547551   \n",
       "2016-01-15 01:00:00                               8.558743   \n",
       "2016-01-15 02:00:00                               8.603505   \n",
       "\n",
       "                     primary_cleaner.output.concentrate_pb  \\\n",
       "date                                                         \n",
       "2016-01-15 00:00:00                              10.389648   \n",
       "2016-01-15 01:00:00                              10.497069   \n",
       "2016-01-15 02:00:00                              10.354494   \n",
       "\n",
       "                     primary_cleaner.output.concentrate_sol  \\\n",
       "date                                                          \n",
       "2016-01-15 00:00:00                               19.529297   \n",
       "2016-01-15 01:00:00                               19.369147   \n",
       "2016-01-15 02:00:00                               19.167579   \n",
       "\n",
       "                     primary_cleaner.output.concentrate_au  \\\n",
       "date                                                         \n",
       "2016-01-15 00:00:00                              34.174427   \n",
       "2016-01-15 01:00:00                              34.118526   \n",
       "2016-01-15 02:00:00                              33.969464   \n",
       "\n",
       "                     primary_cleaner.output.tail_ag  \\\n",
       "date                                                  \n",
       "2016-01-15 00:00:00                       14.936526   \n",
       "2016-01-15 01:00:00                       16.250511   \n",
       "2016-01-15 02:00:00                       16.491823   \n",
       "\n",
       "                     primary_cleaner.output.tail_pb  \\\n",
       "date                                                  \n",
       "2016-01-15 00:00:00                        2.534912   \n",
       "2016-01-15 01:00:00                        3.049646   \n",
       "2016-01-15 02:00:00                        3.124664   \n",
       "\n",
       "                     primary_cleaner.output.tail_sol  \\\n",
       "date                                                   \n",
       "2016-01-15 00:00:00                         7.476074   \n",
       "2016-01-15 01:00:00                         6.733907   \n",
       "2016-01-15 02:00:00                         6.471768   \n",
       "\n",
       "                     primary_cleaner.output.tail_au  \\\n",
       "date                                                  \n",
       "2016-01-15 00:00:00                        2.106679   \n",
       "2016-01-15 01:00:00                        2.353017   \n",
       "2016-01-15 02:00:00                        2.416800   \n",
       "\n",
       "                     primary_cleaner.state.floatbank8_a_air  \\\n",
       "date                                                          \n",
       "2016-01-15 00:00:00                             1549.775757   \n",
       "2016-01-15 01:00:00                             1576.166671   \n",
       "2016-01-15 02:00:00                             1601.556163   \n",
       "\n",
       "                     primary_cleaner.state.floatbank8_a_level  \\\n",
       "date                                                            \n",
       "2016-01-15 00:00:00                               -498.912140   \n",
       "2016-01-15 01:00:00                               -500.904965   \n",
       "2016-01-15 02:00:00                               -499.997791   \n",
       "\n",
       "                     primary_cleaner.state.floatbank8_b_air  \\\n",
       "date                                                          \n",
       "2016-01-15 00:00:00                             1551.434204   \n",
       "2016-01-15 01:00:00                             1575.950626   \n",
       "2016-01-15 02:00:00                             1600.386685   \n",
       "\n",
       "                     primary_cleaner.state.floatbank8_b_level  \\\n",
       "date                                                            \n",
       "2016-01-15 00:00:00                               -516.403442   \n",
       "2016-01-15 01:00:00                               -499.865889   \n",
       "2016-01-15 02:00:00                               -500.607762   \n",
       "\n",
       "                     primary_cleaner.state.floatbank8_c_air  \\\n",
       "date                                                          \n",
       "2016-01-15 00:00:00                             1549.873901   \n",
       "2016-01-15 01:00:00                             1575.994189   \n",
       "2016-01-15 02:00:00                             1602.003542   \n",
       "\n",
       "                     primary_cleaner.state.floatbank8_c_level  \\\n",
       "date                                                            \n",
       "2016-01-15 00:00:00                               -498.666595   \n",
       "2016-01-15 01:00:00                               -499.315107   \n",
       "2016-01-15 02:00:00                               -500.870069   \n",
       "\n",
       "                     primary_cleaner.state.floatbank8_d_air  \\\n",
       "date                                                          \n",
       "2016-01-15 00:00:00                             1554.367432   \n",
       "2016-01-15 01:00:00                             1574.479259   \n",
       "2016-01-15 02:00:00                             1599.541515   \n",
       "\n",
       "                     primary_cleaner.state.floatbank8_d_level  \\\n",
       "date                                                            \n",
       "2016-01-15 00:00:00                               -493.428131   \n",
       "2016-01-15 01:00:00                               -498.931665   \n",
       "2016-01-15 02:00:00                               -499.827444   \n",
       "\n",
       "                     rougher.calculation.sulfate_to_au_concentrate  \\\n",
       "date                                                                 \n",
       "2016-01-15 00:00:00                                   41885.707031   \n",
       "2016-01-15 01:00:00                                   42050.861809   \n",
       "2016-01-15 02:00:00                                   42018.101184   \n",
       "\n",
       "                     rougher.calculation.floatbank10_sulfate_to_au_feed  \\\n",
       "date                                                                      \n",
       "2016-01-15 00:00:00                                        3481.779053    \n",
       "2016-01-15 01:00:00                                        3498.370979    \n",
       "2016-01-15 02:00:00                                        3495.348910    \n",
       "\n",
       "                     rougher.calculation.floatbank11_sulfate_to_au_feed  \\\n",
       "date                                                                      \n",
       "2016-01-15 00:00:00                                        3520.337158    \n",
       "2016-01-15 01:00:00                                        3489.981857    \n",
       "2016-01-15 02:00:00                                        3502.359819    \n",
       "\n",
       "                     rougher.calculation.au_pb_ratio  rougher.input.feed_ag  \\\n",
       "date                                                                          \n",
       "2016-01-15 00:00:00                         2.838687               6.100378   \n",
       "2016-01-15 01:00:00                         2.858998               6.161113   \n",
       "2016-01-15 02:00:00                         2.945989               6.116455   \n",
       "\n",
       "                     rougher.input.feed_pb  rougher.input.feed_rate  \\\n",
       "date                                                                  \n",
       "2016-01-15 00:00:00               2.284912               523.546326   \n",
       "2016-01-15 01:00:00               2.266033               525.290581   \n",
       "2016-01-15 02:00:00               2.159622               530.026610   \n",
       "\n",
       "                     rougher.input.feed_size  rougher.input.feed_sol  \\\n",
       "date                                                                   \n",
       "2016-01-15 00:00:00                55.486599               36.808594   \n",
       "2016-01-15 01:00:00                57.278666               35.753385   \n",
       "2016-01-15 02:00:00                57.510649               35.971630   \n",
       "\n",
       "                     rougher.input.feed_au  rougher.input.floatbank10_sulfate  \\\n",
       "date                                                                            \n",
       "2016-01-15 00:00:00               6.486150                          11.986616   \n",
       "2016-01-15 01:00:00               6.478583                          11.971193   \n",
       "2016-01-15 02:00:00               6.362222                          11.920603   \n",
       "\n",
       "                     rougher.input.floatbank10_xanthate  \\\n",
       "date                                                      \n",
       "2016-01-15 00:00:00                            6.007990   \n",
       "2016-01-15 01:00:00                            6.005766   \n",
       "2016-01-15 02:00:00                            6.197377   \n",
       "\n",
       "                     rougher.input.floatbank11_sulfate  \\\n",
       "date                                                     \n",
       "2016-01-15 00:00:00                          11.836743   \n",
       "2016-01-15 01:00:00                          11.996163   \n",
       "2016-01-15 02:00:00                          11.920305   \n",
       "\n",
       "                     rougher.input.floatbank11_xanthate  \\\n",
       "date                                                      \n",
       "2016-01-15 00:00:00                            6.005818   \n",
       "2016-01-15 01:00:00                            6.012594   \n",
       "2016-01-15 02:00:00                            6.204633   \n",
       "\n",
       "                     rougher.output.concentrate_ag  \\\n",
       "date                                                 \n",
       "2016-01-15 00:00:00                      11.500771   \n",
       "2016-01-15 01:00:00                      11.615865   \n",
       "2016-01-15 02:00:00                      11.695753   \n",
       "\n",
       "                     rougher.output.concentrate_pb  \\\n",
       "date                                                 \n",
       "2016-01-15 00:00:00                       7.101074   \n",
       "2016-01-15 01:00:00                       7.278807   \n",
       "2016-01-15 02:00:00                       7.216833   \n",
       "\n",
       "                     rougher.output.concentrate_sol  \\\n",
       "date                                                  \n",
       "2016-01-15 00:00:00                       28.029297   \n",
       "2016-01-15 01:00:00                       28.067063   \n",
       "2016-01-15 02:00:00                       27.454037   \n",
       "\n",
       "                     rougher.output.concentrate_au  rougher.output.recovery  \\\n",
       "date                                                                          \n",
       "2016-01-15 00:00:00                      19.793808                87.107763   \n",
       "2016-01-15 01:00:00                      20.050975                86.843261   \n",
       "2016-01-15 02:00:00                      19.737170                86.842308   \n",
       "\n",
       "                     rougher.output.tail_ag  rougher.output.tail_pb  \\\n",
       "date                                                                  \n",
       "2016-01-15 00:00:00                5.008018                0.508728   \n",
       "2016-01-15 01:00:00                4.955378                0.536689   \n",
       "2016-01-15 02:00:00                4.843460                0.546416   \n",
       "\n",
       "                     rougher.output.tail_sol  rougher.output.tail_au  \\\n",
       "date                                                                   \n",
       "2016-01-15 00:00:00                19.154297                1.170244   \n",
       "2016-01-15 01:00:00                18.965234                1.184827   \n",
       "2016-01-15 02:00:00                18.808533                1.162562   \n",
       "\n",
       "                     rougher.state.floatbank10_a_air  \\\n",
       "date                                                   \n",
       "2016-01-15 00:00:00                       999.706909   \n",
       "2016-01-15 01:00:00                      1000.286398   \n",
       "2016-01-15 02:00:00                       999.719565   \n",
       "\n",
       "                     rougher.state.floatbank10_a_level  \\\n",
       "date                                                     \n",
       "2016-01-15 00:00:00                        -404.066986   \n",
       "2016-01-15 01:00:00                        -400.065196   \n",
       "2016-01-15 02:00:00                        -400.074028   \n",
       "\n",
       "                     rougher.state.floatbank10_b_air  \\\n",
       "date                                                   \n",
       "2016-01-15 00:00:00                      1603.011353   \n",
       "2016-01-15 01:00:00                      1600.754587   \n",
       "2016-01-15 02:00:00                      1599.337330   \n",
       "\n",
       "                     rougher.state.floatbank10_b_level  \\\n",
       "date                                                     \n",
       "2016-01-15 00:00:00                        -434.715027   \n",
       "2016-01-15 01:00:00                        -449.953435   \n",
       "2016-01-15 02:00:00                        -450.008530   \n",
       "\n",
       "                     rougher.state.floatbank10_c_air  \\\n",
       "date                                                   \n",
       "2016-01-15 00:00:00                      1602.375000   \n",
       "2016-01-15 01:00:00                      1600.479580   \n",
       "2016-01-15 02:00:00                      1599.672797   \n",
       "\n",
       "                     rougher.state.floatbank10_c_level  \\\n",
       "date                                                     \n",
       "2016-01-15 00:00:00                        -442.204468   \n",
       "2016-01-15 01:00:00                        -449.830646   \n",
       "2016-01-15 02:00:00                        -449.954491   \n",
       "\n",
       "                     rougher.state.floatbank10_d_air  \\\n",
       "date                                                   \n",
       "2016-01-15 00:00:00                      1598.937256   \n",
       "2016-01-15 01:00:00                      1600.527589   \n",
       "2016-01-15 02:00:00                      1599.849325   \n",
       "\n",
       "                     rougher.state.floatbank10_d_level  \\\n",
       "date                                                     \n",
       "2016-01-15 00:00:00                        -451.294128   \n",
       "2016-01-15 01:00:00                        -449.953649   \n",
       "2016-01-15 02:00:00                        -449.954185   \n",
       "\n",
       "                     rougher.state.floatbank10_e_air  \\\n",
       "date                                                   \n",
       "2016-01-15 00:00:00                      1404.472046   \n",
       "2016-01-15 01:00:00                      1399.227084   \n",
       "2016-01-15 02:00:00                      1399.180945   \n",
       "\n",
       "                     rougher.state.floatbank10_e_level  \\\n",
       "date                                                     \n",
       "2016-01-15 00:00:00                        -455.462982   \n",
       "2016-01-15 01:00:00                        -450.869848   \n",
       "2016-01-15 02:00:00                        -449.937588   \n",
       "\n",
       "                     rougher.state.floatbank10_f_air  \\\n",
       "date                                                   \n",
       "2016-01-15 00:00:00                      1416.354980   \n",
       "2016-01-15 01:00:00                      1399.719514   \n",
       "2016-01-15 02:00:00                      1400.316682   \n",
       "\n",
       "                     rougher.state.floatbank10_f_level  \\\n",
       "date                                                     \n",
       "2016-01-15 00:00:00                        -451.939636   \n",
       "2016-01-15 01:00:00                        -450.119001   \n",
       "2016-01-15 02:00:00                        -450.527147   \n",
       "\n",
       "                     secondary_cleaner.output.tail_ag  \\\n",
       "date                                                    \n",
       "2016-01-15 00:00:00                         14.500184   \n",
       "2016-01-15 01:00:00                         14.265474   \n",
       "2016-01-15 02:00:00                         14.115662   \n",
       "\n",
       "                     secondary_cleaner.output.tail_pb  \\\n",
       "date                                                    \n",
       "2016-01-15 00:00:00                          4.694824   \n",
       "2016-01-15 01:00:00                          4.592547   \n",
       "2016-01-15 02:00:00                          4.624775   \n",
       "\n",
       "                     secondary_cleaner.output.tail_sol  \\\n",
       "date                                                     \n",
       "2016-01-15 00:00:00                           8.764648   \n",
       "2016-01-15 01:00:00                           9.001494   \n",
       "2016-01-15 02:00:00                           8.842896   \n",
       "\n",
       "                     secondary_cleaner.output.tail_au  \\\n",
       "date                                                    \n",
       "2016-01-15 00:00:00                          2.606185   \n",
       "2016-01-15 01:00:00                          2.488248   \n",
       "2016-01-15 02:00:00                          2.458187   \n",
       "\n",
       "                     secondary_cleaner.state.floatbank2_a_air  \\\n",
       "date                                                            \n",
       "2016-01-15 00:00:00                                 25.853109   \n",
       "2016-01-15 01:00:00                                 25.880539   \n",
       "2016-01-15 02:00:00                                 26.005245   \n",
       "\n",
       "                     secondary_cleaner.state.floatbank2_a_level  \\\n",
       "date                                                              \n",
       "2016-01-15 00:00:00                                 -498.526489   \n",
       "2016-01-15 01:00:00                                 -499.989656   \n",
       "2016-01-15 02:00:00                                 -499.929616   \n",
       "\n",
       "                     secondary_cleaner.state.floatbank2_b_air  \\\n",
       "date                                                            \n",
       "2016-01-15 00:00:00                                 23.893660   \n",
       "2016-01-15 01:00:00                                 23.889530   \n",
       "2016-01-15 02:00:00                                 23.886657   \n",
       "\n",
       "                     secondary_cleaner.state.floatbank2_b_level  \\\n",
       "date                                                              \n",
       "2016-01-15 00:00:00                                 -501.406281   \n",
       "2016-01-15 01:00:00                                 -500.372428   \n",
       "2016-01-15 02:00:00                                 -499.951928   \n",
       "\n",
       "                     secondary_cleaner.state.floatbank3_a_air  \\\n",
       "date                                                            \n",
       "2016-01-15 00:00:00                                 23.961798   \n",
       "2016-01-15 01:00:00                                 23.970550   \n",
       "2016-01-15 02:00:00                                 23.913535   \n",
       "\n",
       "                     secondary_cleaner.state.floatbank3_a_level  \\\n",
       "date                                                              \n",
       "2016-01-15 00:00:00                                 -495.262817   \n",
       "2016-01-15 01:00:00                                 -500.085473   \n",
       "2016-01-15 02:00:00                                 -499.442343   \n",
       "\n",
       "                     secondary_cleaner.state.floatbank3_b_air  \\\n",
       "date                                                            \n",
       "2016-01-15 00:00:00                                 21.940409   \n",
       "2016-01-15 01:00:00                                 22.085714   \n",
       "2016-01-15 02:00:00                                 23.957717   \n",
       "\n",
       "                     secondary_cleaner.state.floatbank3_b_level  \\\n",
       "date                                                              \n",
       "2016-01-15 00:00:00                                 -499.340973   \n",
       "2016-01-15 01:00:00                                 -499.446897   \n",
       "2016-01-15 02:00:00                                 -499.901982   \n",
       "\n",
       "                     secondary_cleaner.state.floatbank4_a_air  \\\n",
       "date                                                            \n",
       "2016-01-15 00:00:00                                 14.016835   \n",
       "2016-01-15 01:00:00                                 13.992281   \n",
       "2016-01-15 02:00:00                                 14.015015   \n",
       "\n",
       "                     secondary_cleaner.state.floatbank4_a_level  \\\n",
       "date                                                              \n",
       "2016-01-15 00:00:00                                 -502.488007   \n",
       "2016-01-15 01:00:00                                 -505.503262   \n",
       "2016-01-15 02:00:00                                 -502.520901   \n",
       "\n",
       "                     secondary_cleaner.state.floatbank4_b_air  \\\n",
       "date                                                            \n",
       "2016-01-15 00:00:00                                 12.099931   \n",
       "2016-01-15 01:00:00                                 11.950531   \n",
       "2016-01-15 02:00:00                                 11.912783   \n",
       "\n",
       "                     secondary_cleaner.state.floatbank4_b_level  \\\n",
       "date                                                              \n",
       "2016-01-15 00:00:00                                 -504.715942   \n",
       "2016-01-15 01:00:00                                 -501.331529   \n",
       "2016-01-15 02:00:00                                 -501.133383   \n",
       "\n",
       "                     secondary_cleaner.state.floatbank5_a_air  \\\n",
       "date                                                            \n",
       "2016-01-15 00:00:00                                  9.925633   \n",
       "2016-01-15 01:00:00                                 10.039245   \n",
       "2016-01-15 02:00:00                                 10.070913   \n",
       "\n",
       "                     secondary_cleaner.state.floatbank5_a_level  \\\n",
       "date                                                              \n",
       "2016-01-15 00:00:00                                 -498.310211   \n",
       "2016-01-15 01:00:00                                 -500.169983   \n",
       "2016-01-15 02:00:00                                 -500.129135   \n",
       "\n",
       "                     secondary_cleaner.state.floatbank5_b_air  \\\n",
       "date                                                            \n",
       "2016-01-15 00:00:00                                  8.079666   \n",
       "2016-01-15 01:00:00                                  7.984757   \n",
       "2016-01-15 02:00:00                                  8.013877   \n",
       "\n",
       "                     secondary_cleaner.state.floatbank5_b_level  \\\n",
       "date                                                              \n",
       "2016-01-15 00:00:00                                 -500.470978   \n",
       "2016-01-15 01:00:00                                 -500.582168   \n",
       "2016-01-15 02:00:00                                 -500.517572   \n",
       "\n",
       "                     secondary_cleaner.state.floatbank6_a_air  \\\n",
       "date                                                            \n",
       "2016-01-15 00:00:00                                 14.151341   \n",
       "2016-01-15 01:00:00                                 13.998353   \n",
       "2016-01-15 02:00:00                                 14.028663   \n",
       "\n",
       "                     secondary_cleaner.state.floatbank6_a_level  \n",
       "date                                                             \n",
       "2016-01-15 00:00:00                                 -605.841980  \n",
       "2016-01-15 01:00:00                                 -599.787184  \n",
       "2016-01-15 02:00:00                                 -601.427363  "
      ]
     },
     "execution_count": 4,
     "metadata": {},
     "output_type": "execute_result"
    }
   ],
   "source": [
    "df_gold_train.head(3)"
   ]
  },
  {
   "cell_type": "code",
   "execution_count": 5,
   "metadata": {
    "collapsed": true
   },
   "outputs": [
    {
     "name": "stdout",
     "output_type": "stream",
     "text": [
      "<class 'pandas.core.frame.DataFrame'>\n",
      "Index: 14149 entries, 2016-01-15 00:00:00 to 2018-08-18 10:59:59\n",
      "Data columns (total 86 columns):\n",
      " #   Column                                              Non-Null Count  Dtype  \n",
      "---  ------                                              --------------  -----  \n",
      " 0   final.output.concentrate_ag                         14148 non-null  float64\n",
      " 1   final.output.concentrate_pb                         14148 non-null  float64\n",
      " 2   final.output.concentrate_sol                        13938 non-null  float64\n",
      " 3   final.output.concentrate_au                         14149 non-null  float64\n",
      " 4   final.output.recovery                               14149 non-null  float64\n",
      " 5   final.output.tail_ag                                14149 non-null  float64\n",
      " 6   final.output.tail_pb                                14049 non-null  float64\n",
      " 7   final.output.tail_sol                               14144 non-null  float64\n",
      " 8   final.output.tail_au                                14149 non-null  float64\n",
      " 9   primary_cleaner.input.sulfate                       14129 non-null  float64\n",
      " 10  primary_cleaner.input.depressant                    14117 non-null  float64\n",
      " 11  primary_cleaner.input.feed_size                     14149 non-null  float64\n",
      " 12  primary_cleaner.input.xanthate                      14049 non-null  float64\n",
      " 13  primary_cleaner.output.concentrate_ag               14149 non-null  float64\n",
      " 14  primary_cleaner.output.concentrate_pb               14063 non-null  float64\n",
      " 15  primary_cleaner.output.concentrate_sol              13863 non-null  float64\n",
      " 16  primary_cleaner.output.concentrate_au               14149 non-null  float64\n",
      " 17  primary_cleaner.output.tail_ag                      14148 non-null  float64\n",
      " 18  primary_cleaner.output.tail_pb                      14134 non-null  float64\n",
      " 19  primary_cleaner.output.tail_sol                     14103 non-null  float64\n",
      " 20  primary_cleaner.output.tail_au                      14149 non-null  float64\n",
      " 21  primary_cleaner.state.floatbank8_a_air              14145 non-null  float64\n",
      " 22  primary_cleaner.state.floatbank8_a_level            14148 non-null  float64\n",
      " 23  primary_cleaner.state.floatbank8_b_air              14145 non-null  float64\n",
      " 24  primary_cleaner.state.floatbank8_b_level            14148 non-null  float64\n",
      " 25  primary_cleaner.state.floatbank8_c_air              14147 non-null  float64\n",
      " 26  primary_cleaner.state.floatbank8_c_level            14148 non-null  float64\n",
      " 27  primary_cleaner.state.floatbank8_d_air              14146 non-null  float64\n",
      " 28  primary_cleaner.state.floatbank8_d_level            14148 non-null  float64\n",
      " 29  rougher.calculation.sulfate_to_au_concentrate       14148 non-null  float64\n",
      " 30  rougher.calculation.floatbank10_sulfate_to_au_feed  14148 non-null  float64\n",
      " 31  rougher.calculation.floatbank11_sulfate_to_au_feed  14148 non-null  float64\n",
      " 32  rougher.calculation.au_pb_ratio                     14149 non-null  float64\n",
      " 33  rougher.input.feed_ag                               14149 non-null  float64\n",
      " 34  rougher.input.feed_pb                               14049 non-null  float64\n",
      " 35  rougher.input.feed_rate                             14141 non-null  float64\n",
      " 36  rougher.input.feed_size                             14005 non-null  float64\n",
      " 37  rougher.input.feed_sol                              14071 non-null  float64\n",
      " 38  rougher.input.feed_au                               14149 non-null  float64\n",
      " 39  rougher.input.floatbank10_sulfate                   14120 non-null  float64\n",
      " 40  rougher.input.floatbank10_xanthate                  14141 non-null  float64\n",
      " 41  rougher.input.floatbank11_sulfate                   14113 non-null  float64\n",
      " 42  rougher.input.floatbank11_xanthate                  13721 non-null  float64\n",
      " 43  rougher.output.concentrate_ag                       14149 non-null  float64\n",
      " 44  rougher.output.concentrate_pb                       14149 non-null  float64\n",
      " 45  rougher.output.concentrate_sol                      14127 non-null  float64\n",
      " 46  rougher.output.concentrate_au                       14149 non-null  float64\n",
      " 47  rougher.output.recovery                             14149 non-null  float64\n",
      " 48  rougher.output.tail_ag                              14148 non-null  float64\n",
      " 49  rougher.output.tail_pb                              14149 non-null  float64\n",
      " 50  rougher.output.tail_sol                             14149 non-null  float64\n",
      " 51  rougher.output.tail_au                              14149 non-null  float64\n",
      " 52  rougher.state.floatbank10_a_air                     14148 non-null  float64\n",
      " 53  rougher.state.floatbank10_a_level                   14148 non-null  float64\n",
      " 54  rougher.state.floatbank10_b_air                     14148 non-null  float64\n",
      " 55  rougher.state.floatbank10_b_level                   14148 non-null  float64\n",
      " 56  rougher.state.floatbank10_c_air                     14148 non-null  float64\n",
      " 57  rougher.state.floatbank10_c_level                   14148 non-null  float64\n",
      " 58  rougher.state.floatbank10_d_air                     14149 non-null  float64\n",
      " 59  rougher.state.floatbank10_d_level                   14149 non-null  float64\n",
      " 60  rougher.state.floatbank10_e_air                     13713 non-null  float64\n",
      " 61  rougher.state.floatbank10_e_level                   14149 non-null  float64\n",
      " 62  rougher.state.floatbank10_f_air                     14149 non-null  float64\n",
      " 63  rougher.state.floatbank10_f_level                   14149 non-null  float64\n",
      " 64  secondary_cleaner.output.tail_ag                    14147 non-null  float64\n",
      " 65  secondary_cleaner.output.tail_pb                    14139 non-null  float64\n",
      " 66  secondary_cleaner.output.tail_sol                   12544 non-null  float64\n",
      " 67  secondary_cleaner.output.tail_au                    14149 non-null  float64\n",
      " 68  secondary_cleaner.state.floatbank2_a_air            13932 non-null  float64\n",
      " 69  secondary_cleaner.state.floatbank2_a_level          14148 non-null  float64\n",
      " 70  secondary_cleaner.state.floatbank2_b_air            14128 non-null  float64\n",
      " 71  secondary_cleaner.state.floatbank2_b_level          14148 non-null  float64\n",
      " 72  secondary_cleaner.state.floatbank3_a_air            14145 non-null  float64\n",
      " 73  secondary_cleaner.state.floatbank3_a_level          14148 non-null  float64\n",
      " 74  secondary_cleaner.state.floatbank3_b_air            14148 non-null  float64\n",
      " 75  secondary_cleaner.state.floatbank3_b_level          14148 non-null  float64\n",
      " 76  secondary_cleaner.state.floatbank4_a_air            14143 non-null  float64\n",
      " 77  secondary_cleaner.state.floatbank4_a_level          14148 non-null  float64\n",
      " 78  secondary_cleaner.state.floatbank4_b_air            14148 non-null  float64\n",
      " 79  secondary_cleaner.state.floatbank4_b_level          14148 non-null  float64\n",
      " 80  secondary_cleaner.state.floatbank5_a_air            14148 non-null  float64\n",
      " 81  secondary_cleaner.state.floatbank5_a_level          14148 non-null  float64\n",
      " 82  secondary_cleaner.state.floatbank5_b_air            14148 non-null  float64\n",
      " 83  secondary_cleaner.state.floatbank5_b_level          14148 non-null  float64\n",
      " 84  secondary_cleaner.state.floatbank6_a_air            14147 non-null  float64\n",
      " 85  secondary_cleaner.state.floatbank6_a_level          14148 non-null  float64\n",
      "dtypes: float64(86)\n",
      "memory usage: 9.4+ MB\n"
     ]
    }
   ],
   "source": [
    "df_gold_train.info()"
   ]
  },
  {
   "cell_type": "code",
   "execution_count": 6,
   "metadata": {
    "collapsed": true
   },
   "outputs": [
    {
     "data": {
      "text/html": [
       "<div>\n",
       "<style scoped>\n",
       "    .dataframe tbody tr th:only-of-type {\n",
       "        vertical-align: middle;\n",
       "    }\n",
       "\n",
       "    .dataframe tbody tr th {\n",
       "        vertical-align: top;\n",
       "    }\n",
       "\n",
       "    .dataframe thead th {\n",
       "        text-align: right;\n",
       "    }\n",
       "</style>\n",
       "<table border=\"1\" class=\"dataframe\">\n",
       "  <thead>\n",
       "    <tr style=\"text-align: right;\">\n",
       "      <th></th>\n",
       "      <th>final.output.concentrate_ag</th>\n",
       "      <th>final.output.concentrate_pb</th>\n",
       "      <th>final.output.concentrate_sol</th>\n",
       "      <th>final.output.concentrate_au</th>\n",
       "      <th>final.output.recovery</th>\n",
       "      <th>final.output.tail_ag</th>\n",
       "      <th>final.output.tail_pb</th>\n",
       "      <th>final.output.tail_sol</th>\n",
       "      <th>final.output.tail_au</th>\n",
       "      <th>primary_cleaner.input.sulfate</th>\n",
       "      <th>primary_cleaner.input.depressant</th>\n",
       "      <th>primary_cleaner.input.feed_size</th>\n",
       "      <th>primary_cleaner.input.xanthate</th>\n",
       "      <th>primary_cleaner.output.concentrate_ag</th>\n",
       "      <th>primary_cleaner.output.concentrate_pb</th>\n",
       "      <th>primary_cleaner.output.concentrate_sol</th>\n",
       "      <th>primary_cleaner.output.concentrate_au</th>\n",
       "      <th>primary_cleaner.output.tail_ag</th>\n",
       "      <th>primary_cleaner.output.tail_pb</th>\n",
       "      <th>primary_cleaner.output.tail_sol</th>\n",
       "      <th>primary_cleaner.output.tail_au</th>\n",
       "      <th>primary_cleaner.state.floatbank8_a_air</th>\n",
       "      <th>primary_cleaner.state.floatbank8_a_level</th>\n",
       "      <th>primary_cleaner.state.floatbank8_b_air</th>\n",
       "      <th>primary_cleaner.state.floatbank8_b_level</th>\n",
       "      <th>primary_cleaner.state.floatbank8_c_air</th>\n",
       "      <th>primary_cleaner.state.floatbank8_c_level</th>\n",
       "      <th>primary_cleaner.state.floatbank8_d_air</th>\n",
       "      <th>primary_cleaner.state.floatbank8_d_level</th>\n",
       "      <th>rougher.calculation.sulfate_to_au_concentrate</th>\n",
       "      <th>rougher.calculation.floatbank10_sulfate_to_au_feed</th>\n",
       "      <th>rougher.calculation.floatbank11_sulfate_to_au_feed</th>\n",
       "      <th>rougher.calculation.au_pb_ratio</th>\n",
       "      <th>rougher.input.feed_ag</th>\n",
       "      <th>rougher.input.feed_pb</th>\n",
       "      <th>rougher.input.feed_rate</th>\n",
       "      <th>rougher.input.feed_size</th>\n",
       "      <th>rougher.input.feed_sol</th>\n",
       "      <th>rougher.input.feed_au</th>\n",
       "      <th>rougher.input.floatbank10_sulfate</th>\n",
       "      <th>rougher.input.floatbank10_xanthate</th>\n",
       "      <th>rougher.input.floatbank11_sulfate</th>\n",
       "      <th>rougher.input.floatbank11_xanthate</th>\n",
       "      <th>rougher.output.concentrate_ag</th>\n",
       "      <th>rougher.output.concentrate_pb</th>\n",
       "      <th>rougher.output.concentrate_sol</th>\n",
       "      <th>rougher.output.concentrate_au</th>\n",
       "      <th>rougher.output.recovery</th>\n",
       "      <th>rougher.output.tail_ag</th>\n",
       "      <th>rougher.output.tail_pb</th>\n",
       "      <th>rougher.output.tail_sol</th>\n",
       "      <th>rougher.output.tail_au</th>\n",
       "      <th>rougher.state.floatbank10_a_air</th>\n",
       "      <th>rougher.state.floatbank10_a_level</th>\n",
       "      <th>rougher.state.floatbank10_b_air</th>\n",
       "      <th>rougher.state.floatbank10_b_level</th>\n",
       "      <th>rougher.state.floatbank10_c_air</th>\n",
       "      <th>rougher.state.floatbank10_c_level</th>\n",
       "      <th>rougher.state.floatbank10_d_air</th>\n",
       "      <th>rougher.state.floatbank10_d_level</th>\n",
       "      <th>rougher.state.floatbank10_e_air</th>\n",
       "      <th>rougher.state.floatbank10_e_level</th>\n",
       "      <th>rougher.state.floatbank10_f_air</th>\n",
       "      <th>rougher.state.floatbank10_f_level</th>\n",
       "      <th>secondary_cleaner.output.tail_ag</th>\n",
       "      <th>secondary_cleaner.output.tail_pb</th>\n",
       "      <th>secondary_cleaner.output.tail_sol</th>\n",
       "      <th>secondary_cleaner.output.tail_au</th>\n",
       "      <th>secondary_cleaner.state.floatbank2_a_air</th>\n",
       "      <th>secondary_cleaner.state.floatbank2_a_level</th>\n",
       "      <th>secondary_cleaner.state.floatbank2_b_air</th>\n",
       "      <th>secondary_cleaner.state.floatbank2_b_level</th>\n",
       "      <th>secondary_cleaner.state.floatbank3_a_air</th>\n",
       "      <th>secondary_cleaner.state.floatbank3_a_level</th>\n",
       "      <th>secondary_cleaner.state.floatbank3_b_air</th>\n",
       "      <th>secondary_cleaner.state.floatbank3_b_level</th>\n",
       "      <th>secondary_cleaner.state.floatbank4_a_air</th>\n",
       "      <th>secondary_cleaner.state.floatbank4_a_level</th>\n",
       "      <th>secondary_cleaner.state.floatbank4_b_air</th>\n",
       "      <th>secondary_cleaner.state.floatbank4_b_level</th>\n",
       "      <th>secondary_cleaner.state.floatbank5_a_air</th>\n",
       "      <th>secondary_cleaner.state.floatbank5_a_level</th>\n",
       "      <th>secondary_cleaner.state.floatbank5_b_air</th>\n",
       "      <th>secondary_cleaner.state.floatbank5_b_level</th>\n",
       "      <th>secondary_cleaner.state.floatbank6_a_air</th>\n",
       "      <th>secondary_cleaner.state.floatbank6_a_level</th>\n",
       "    </tr>\n",
       "  </thead>\n",
       "  <tbody>\n",
       "    <tr>\n",
       "      <th>count</th>\n",
       "      <td>14148.000000</td>\n",
       "      <td>14148.000000</td>\n",
       "      <td>13938.000000</td>\n",
       "      <td>14149.000000</td>\n",
       "      <td>14149.000000</td>\n",
       "      <td>14149.000000</td>\n",
       "      <td>14049.000000</td>\n",
       "      <td>14144.000000</td>\n",
       "      <td>14149.000000</td>\n",
       "      <td>14129.000000</td>\n",
       "      <td>14117.000000</td>\n",
       "      <td>14149.000000</td>\n",
       "      <td>14049.000000</td>\n",
       "      <td>14149.000000</td>\n",
       "      <td>14063.000000</td>\n",
       "      <td>13863.000000</td>\n",
       "      <td>14149.000000</td>\n",
       "      <td>14148.000000</td>\n",
       "      <td>14134.000000</td>\n",
       "      <td>14103.000000</td>\n",
       "      <td>14149.000000</td>\n",
       "      <td>14145.000000</td>\n",
       "      <td>14148.000000</td>\n",
       "      <td>14145.000000</td>\n",
       "      <td>14148.000000</td>\n",
       "      <td>14147.000000</td>\n",
       "      <td>14148.000000</td>\n",
       "      <td>14146.000000</td>\n",
       "      <td>14148.000000</td>\n",
       "      <td>1.414800e+04</td>\n",
       "      <td>14148.000000</td>\n",
       "      <td>14148.000000</td>\n",
       "      <td>14149.000000</td>\n",
       "      <td>14149.000000</td>\n",
       "      <td>14049.000000</td>\n",
       "      <td>14141.000000</td>\n",
       "      <td>14005.000000</td>\n",
       "      <td>14071.000000</td>\n",
       "      <td>14149.000000</td>\n",
       "      <td>14120.000000</td>\n",
       "      <td>14141.000000</td>\n",
       "      <td>14113.000000</td>\n",
       "      <td>13721.000000</td>\n",
       "      <td>14149.000000</td>\n",
       "      <td>14149.000000</td>\n",
       "      <td>14127.000000</td>\n",
       "      <td>14149.000000</td>\n",
       "      <td>14149.000000</td>\n",
       "      <td>14148.000000</td>\n",
       "      <td>14149.000000</td>\n",
       "      <td>14149.000000</td>\n",
       "      <td>14149.000000</td>\n",
       "      <td>14148.000000</td>\n",
       "      <td>14148.000000</td>\n",
       "      <td>14148.000000</td>\n",
       "      <td>14148.000000</td>\n",
       "      <td>14148.000000</td>\n",
       "      <td>14148.000000</td>\n",
       "      <td>14149.000000</td>\n",
       "      <td>14149.000000</td>\n",
       "      <td>13713.000000</td>\n",
       "      <td>14149.000000</td>\n",
       "      <td>14149.000000</td>\n",
       "      <td>14149.000000</td>\n",
       "      <td>14147.000000</td>\n",
       "      <td>14139.000000</td>\n",
       "      <td>12544.000000</td>\n",
       "      <td>14149.000000</td>\n",
       "      <td>13932.000000</td>\n",
       "      <td>14148.000000</td>\n",
       "      <td>14128.000000</td>\n",
       "      <td>14148.000000</td>\n",
       "      <td>14145.000000</td>\n",
       "      <td>14148.000000</td>\n",
       "      <td>14148.000000</td>\n",
       "      <td>14148.000000</td>\n",
       "      <td>14143.000000</td>\n",
       "      <td>14148.000000</td>\n",
       "      <td>14148.000000</td>\n",
       "      <td>14148.000000</td>\n",
       "      <td>14148.000000</td>\n",
       "      <td>14148.000000</td>\n",
       "      <td>14148.000000</td>\n",
       "      <td>14148.000000</td>\n",
       "      <td>14147.000000</td>\n",
       "      <td>14148.000000</td>\n",
       "    </tr>\n",
       "    <tr>\n",
       "      <th>mean</th>\n",
       "      <td>5.142034</td>\n",
       "      <td>10.132960</td>\n",
       "      <td>9.202849</td>\n",
       "      <td>44.003792</td>\n",
       "      <td>66.518832</td>\n",
       "      <td>9.607035</td>\n",
       "      <td>2.597298</td>\n",
       "      <td>10.512122</td>\n",
       "      <td>2.918421</td>\n",
       "      <td>133.320659</td>\n",
       "      <td>8.866996</td>\n",
       "      <td>7.322310</td>\n",
       "      <td>0.885588</td>\n",
       "      <td>8.200916</td>\n",
       "      <td>9.588862</td>\n",
       "      <td>10.114745</td>\n",
       "      <td>32.386836</td>\n",
       "      <td>16.303929</td>\n",
       "      <td>3.443398</td>\n",
       "      <td>7.533566</td>\n",
       "      <td>3.839637</td>\n",
       "      <td>1608.000064</td>\n",
       "      <td>-488.775525</td>\n",
       "      <td>1608.610983</td>\n",
       "      <td>-489.171786</td>\n",
       "      <td>1608.879407</td>\n",
       "      <td>-489.605549</td>\n",
       "      <td>1542.189963</td>\n",
       "      <td>-483.462423</td>\n",
       "      <td>4.038265e+04</td>\n",
       "      <td>3456.608298</td>\n",
       "      <td>3253.356387</td>\n",
       "      <td>2.367314</td>\n",
       "      <td>8.579195</td>\n",
       "      <td>3.522778</td>\n",
       "      <td>474.027714</td>\n",
       "      <td>60.110518</td>\n",
       "      <td>36.312593</td>\n",
       "      <td>7.866577</td>\n",
       "      <td>11.764931</td>\n",
       "      <td>5.854529</td>\n",
       "      <td>11.368685</td>\n",
       "      <td>5.894176</td>\n",
       "      <td>11.775812</td>\n",
       "      <td>7.664555</td>\n",
       "      <td>28.302715</td>\n",
       "      <td>19.439958</td>\n",
       "      <td>82.704502</td>\n",
       "      <td>5.567124</td>\n",
       "      <td>0.653277</td>\n",
       "      <td>17.882853</td>\n",
       "      <td>1.757473</td>\n",
       "      <td>1124.726280</td>\n",
       "      <td>-369.460950</td>\n",
       "      <td>1320.705069</td>\n",
       "      <td>-464.258983</td>\n",
       "      <td>1299.360578</td>\n",
       "      <td>-465.054849</td>\n",
       "      <td>1210.335236</td>\n",
       "      <td>-465.457377</td>\n",
       "      <td>1090.213187</td>\n",
       "      <td>-464.919119</td>\n",
       "      <td>1035.490299</td>\n",
       "      <td>-464.688631</td>\n",
       "      <td>14.281629</td>\n",
       "      <td>5.848863</td>\n",
       "      <td>6.938693</td>\n",
       "      <td>4.246961</td>\n",
       "      <td>29.613649</td>\n",
       "      <td>-502.223914</td>\n",
       "      <td>24.914403</td>\n",
       "      <td>-503.695706</td>\n",
       "      <td>29.243372</td>\n",
       "      <td>-478.244059</td>\n",
       "      <td>22.656261</td>\n",
       "      <td>-488.924046</td>\n",
       "      <td>19.985454</td>\n",
       "      <td>-478.696836</td>\n",
       "      <td>15.487065</td>\n",
       "      <td>-460.229416</td>\n",
       "      <td>16.775136</td>\n",
       "      <td>-483.956022</td>\n",
       "      <td>13.064590</td>\n",
       "      <td>-483.966564</td>\n",
       "      <td>19.577539</td>\n",
       "      <td>-506.798480</td>\n",
       "    </tr>\n",
       "    <tr>\n",
       "      <th>std</th>\n",
       "      <td>1.369586</td>\n",
       "      <td>1.654930</td>\n",
       "      <td>2.790516</td>\n",
       "      <td>4.905261</td>\n",
       "      <td>10.295402</td>\n",
       "      <td>2.319069</td>\n",
       "      <td>0.971843</td>\n",
       "      <td>3.003617</td>\n",
       "      <td>0.903712</td>\n",
       "      <td>39.431659</td>\n",
       "      <td>3.361589</td>\n",
       "      <td>0.614062</td>\n",
       "      <td>0.372714</td>\n",
       "      <td>2.005185</td>\n",
       "      <td>2.694296</td>\n",
       "      <td>4.064076</td>\n",
       "      <td>5.798843</td>\n",
       "      <td>3.739843</td>\n",
       "      <td>1.490106</td>\n",
       "      <td>2.133220</td>\n",
       "      <td>1.603544</td>\n",
       "      <td>128.394355</td>\n",
       "      <td>35.704184</td>\n",
       "      <td>131.112729</td>\n",
       "      <td>33.604449</td>\n",
       "      <td>134.266898</td>\n",
       "      <td>35.624002</td>\n",
       "      <td>278.316132</td>\n",
       "      <td>47.100934</td>\n",
       "      <td>3.801436e+05</td>\n",
       "      <td>5772.510248</td>\n",
       "      <td>6753.290662</td>\n",
       "      <td>0.873551</td>\n",
       "      <td>1.896284</td>\n",
       "      <td>1.073394</td>\n",
       "      <td>104.039838</td>\n",
       "      <td>22.418485</td>\n",
       "      <td>4.956057</td>\n",
       "      <td>1.919506</td>\n",
       "      <td>3.278813</td>\n",
       "      <td>1.104263</td>\n",
       "      <td>3.743672</td>\n",
       "      <td>1.124233</td>\n",
       "      <td>2.731747</td>\n",
       "      <td>1.856279</td>\n",
       "      <td>6.102982</td>\n",
       "      <td>3.765192</td>\n",
       "      <td>14.479156</td>\n",
       "      <td>1.039136</td>\n",
       "      <td>0.263766</td>\n",
       "      <td>3.432859</td>\n",
       "      <td>0.713187</td>\n",
       "      <td>169.310825</td>\n",
       "      <td>93.952787</td>\n",
       "      <td>183.155975</td>\n",
       "      <td>57.401954</td>\n",
       "      <td>213.404094</td>\n",
       "      <td>55.904716</td>\n",
       "      <td>210.431555</td>\n",
       "      <td>55.771393</td>\n",
       "      <td>184.610118</td>\n",
       "      <td>56.602962</td>\n",
       "      <td>175.052279</td>\n",
       "      <td>56.645965</td>\n",
       "      <td>4.477126</td>\n",
       "      <td>2.861799</td>\n",
       "      <td>4.155487</td>\n",
       "      <td>2.389060</td>\n",
       "      <td>5.800494</td>\n",
       "      <td>60.281705</td>\n",
       "      <td>5.994959</td>\n",
       "      <td>62.837357</td>\n",
       "      <td>5.637309</td>\n",
       "      <td>54.655143</td>\n",
       "      <td>4.996017</td>\n",
       "      <td>41.928112</td>\n",
       "      <td>5.657723</td>\n",
       "      <td>50.736021</td>\n",
       "      <td>5.255655</td>\n",
       "      <td>58.843586</td>\n",
       "      <td>5.831906</td>\n",
       "      <td>37.892788</td>\n",
       "      <td>5.765617</td>\n",
       "      <td>39.207913</td>\n",
       "      <td>5.764417</td>\n",
       "      <td>37.079249</td>\n",
       "    </tr>\n",
       "    <tr>\n",
       "      <th>min</th>\n",
       "      <td>0.000000</td>\n",
       "      <td>0.000000</td>\n",
       "      <td>0.000000</td>\n",
       "      <td>0.000000</td>\n",
       "      <td>0.000000</td>\n",
       "      <td>0.000000</td>\n",
       "      <td>0.000000</td>\n",
       "      <td>0.000000</td>\n",
       "      <td>0.000000</td>\n",
       "      <td>0.003112</td>\n",
       "      <td>0.000000</td>\n",
       "      <td>1.080000</td>\n",
       "      <td>0.000005</td>\n",
       "      <td>0.000000</td>\n",
       "      <td>0.000000</td>\n",
       "      <td>0.000000</td>\n",
       "      <td>0.000000</td>\n",
       "      <td>0.000000</td>\n",
       "      <td>0.000000</td>\n",
       "      <td>0.000000</td>\n",
       "      <td>0.000000</td>\n",
       "      <td>0.006352</td>\n",
       "      <td>-798.641662</td>\n",
       "      <td>0.008700</td>\n",
       "      <td>-740.122129</td>\n",
       "      <td>0.015159</td>\n",
       "      <td>-799.803073</td>\n",
       "      <td>0.008655</td>\n",
       "      <td>-799.788598</td>\n",
       "      <td>-4.223520e+07</td>\n",
       "      <td>-486.598675</td>\n",
       "      <td>-264.982785</td>\n",
       "      <td>-0.010548</td>\n",
       "      <td>0.010000</td>\n",
       "      <td>0.010000</td>\n",
       "      <td>0.012786</td>\n",
       "      <td>9.659576</td>\n",
       "      <td>0.010000</td>\n",
       "      <td>0.010000</td>\n",
       "      <td>0.001083</td>\n",
       "      <td>0.001428</td>\n",
       "      <td>0.000098</td>\n",
       "      <td>0.000290</td>\n",
       "      <td>0.000000</td>\n",
       "      <td>0.000000</td>\n",
       "      <td>0.000000</td>\n",
       "      <td>0.000000</td>\n",
       "      <td>0.000000</td>\n",
       "      <td>0.594562</td>\n",
       "      <td>0.007566</td>\n",
       "      <td>10.014648</td>\n",
       "      <td>0.020676</td>\n",
       "      <td>-0.041078</td>\n",
       "      <td>-650.202881</td>\n",
       "      <td>-0.653384</td>\n",
       "      <td>-650.260008</td>\n",
       "      <td>-0.035112</td>\n",
       "      <td>-640.995627</td>\n",
       "      <td>-0.554299</td>\n",
       "      <td>-640.519003</td>\n",
       "      <td>-1.970275</td>\n",
       "      <td>-649.443911</td>\n",
       "      <td>-2.430587</td>\n",
       "      <td>-649.880981</td>\n",
       "      <td>0.000000</td>\n",
       "      <td>0.000000</td>\n",
       "      <td>0.000000</td>\n",
       "      <td>0.000000</td>\n",
       "      <td>0.077503</td>\n",
       "      <td>-799.606441</td>\n",
       "      <td>0.000000</td>\n",
       "      <td>-799.873878</td>\n",
       "      <td>0.000000</td>\n",
       "      <td>-799.613013</td>\n",
       "      <td>0.000000</td>\n",
       "      <td>-759.177381</td>\n",
       "      <td>0.000000</td>\n",
       "      <td>-799.709069</td>\n",
       "      <td>0.000000</td>\n",
       "      <td>-799.889113</td>\n",
       "      <td>-0.372054</td>\n",
       "      <td>-797.142475</td>\n",
       "      <td>0.646208</td>\n",
       "      <td>-800.006180</td>\n",
       "      <td>0.195324</td>\n",
       "      <td>-809.398668</td>\n",
       "    </tr>\n",
       "    <tr>\n",
       "      <th>25%</th>\n",
       "      <td>4.211620</td>\n",
       "      <td>9.297355</td>\n",
       "      <td>7.484645</td>\n",
       "      <td>43.276111</td>\n",
       "      <td>62.545817</td>\n",
       "      <td>7.997429</td>\n",
       "      <td>1.905973</td>\n",
       "      <td>8.811324</td>\n",
       "      <td>2.368607</td>\n",
       "      <td>107.006651</td>\n",
       "      <td>6.040604</td>\n",
       "      <td>6.960000</td>\n",
       "      <td>0.607021</td>\n",
       "      <td>7.107126</td>\n",
       "      <td>8.333489</td>\n",
       "      <td>7.488139</td>\n",
       "      <td>30.857764</td>\n",
       "      <td>13.873147</td>\n",
       "      <td>2.420259</td>\n",
       "      <td>6.332548</td>\n",
       "      <td>2.867957</td>\n",
       "      <td>1595.695815</td>\n",
       "      <td>-500.287952</td>\n",
       "      <td>1558.959943</td>\n",
       "      <td>-500.375645</td>\n",
       "      <td>1549.871886</td>\n",
       "      <td>-500.601718</td>\n",
       "      <td>1452.678767</td>\n",
       "      <td>-500.459917</td>\n",
       "      <td>3.999430e+04</td>\n",
       "      <td>2527.093354</td>\n",
       "      <td>2512.200873</td>\n",
       "      <td>1.999588</td>\n",
       "      <td>7.132802</td>\n",
       "      <td>2.780010</td>\n",
       "      <td>420.781913</td>\n",
       "      <td>48.973027</td>\n",
       "      <td>34.117635</td>\n",
       "      <td>6.596217</td>\n",
       "      <td>9.861100</td>\n",
       "      <td>5.117359</td>\n",
       "      <td>9.505507</td>\n",
       "      <td>5.199168</td>\n",
       "      <td>10.486871</td>\n",
       "      <td>6.850501</td>\n",
       "      <td>26.703554</td>\n",
       "      <td>18.432161</td>\n",
       "      <td>79.993067</td>\n",
       "      <td>4.921647</td>\n",
       "      <td>0.474047</td>\n",
       "      <td>15.688727</td>\n",
       "      <td>1.310800</td>\n",
       "      <td>999.799166</td>\n",
       "      <td>-499.787867</td>\n",
       "      <td>1199.366448</td>\n",
       "      <td>-500.183028</td>\n",
       "      <td>1103.095071</td>\n",
       "      <td>-500.211863</td>\n",
       "      <td>1059.708509</td>\n",
       "      <td>-500.359197</td>\n",
       "      <td>997.183864</td>\n",
       "      <td>-500.250033</td>\n",
       "      <td>900.966986</td>\n",
       "      <td>-500.476526</td>\n",
       "      <td>12.177364</td>\n",
       "      <td>3.982298</td>\n",
       "      <td>3.225486</td>\n",
       "      <td>3.153122</td>\n",
       "      <td>25.099584</td>\n",
       "      <td>-500.248814</td>\n",
       "      <td>22.048294</td>\n",
       "      <td>-500.270997</td>\n",
       "      <td>24.991662</td>\n",
       "      <td>-500.175065</td>\n",
       "      <td>19.948436</td>\n",
       "      <td>-500.110581</td>\n",
       "      <td>14.990775</td>\n",
       "      <td>-500.628656</td>\n",
       "      <td>11.894558</td>\n",
       "      <td>-500.149000</td>\n",
       "      <td>11.083980</td>\n",
       "      <td>-500.363177</td>\n",
       "      <td>8.994405</td>\n",
       "      <td>-500.105994</td>\n",
       "      <td>14.989304</td>\n",
       "      <td>-500.745104</td>\n",
       "    </tr>\n",
       "    <tr>\n",
       "      <th>50%</th>\n",
       "      <td>4.994652</td>\n",
       "      <td>10.297144</td>\n",
       "      <td>8.845462</td>\n",
       "      <td>44.872436</td>\n",
       "      <td>67.432775</td>\n",
       "      <td>9.480270</td>\n",
       "      <td>2.592022</td>\n",
       "      <td>10.514621</td>\n",
       "      <td>2.851025</td>\n",
       "      <td>133.018328</td>\n",
       "      <td>8.035811</td>\n",
       "      <td>7.290000</td>\n",
       "      <td>0.888749</td>\n",
       "      <td>8.226247</td>\n",
       "      <td>9.933520</td>\n",
       "      <td>9.726566</td>\n",
       "      <td>33.225835</td>\n",
       "      <td>15.800604</td>\n",
       "      <td>3.218374</td>\n",
       "      <td>7.714419</td>\n",
       "      <td>3.510337</td>\n",
       "      <td>1601.824410</td>\n",
       "      <td>-499.909375</td>\n",
       "      <td>1601.818514</td>\n",
       "      <td>-499.938003</td>\n",
       "      <td>1601.574628</td>\n",
       "      <td>-499.871346</td>\n",
       "      <td>1600.168346</td>\n",
       "      <td>-499.831833</td>\n",
       "      <td>4.368431e+04</td>\n",
       "      <td>2975.892211</td>\n",
       "      <td>2899.807724</td>\n",
       "      <td>2.249275</td>\n",
       "      <td>8.156092</td>\n",
       "      <td>3.422677</td>\n",
       "      <td>499.454777</td>\n",
       "      <td>55.373885</td>\n",
       "      <td>37.020345</td>\n",
       "      <td>7.649138</td>\n",
       "      <td>11.688702</td>\n",
       "      <td>5.951071</td>\n",
       "      <td>11.384283</td>\n",
       "      <td>5.998460</td>\n",
       "      <td>11.747362</td>\n",
       "      <td>7.760435</td>\n",
       "      <td>29.257545</td>\n",
       "      <td>19.947312</td>\n",
       "      <td>85.299462</td>\n",
       "      <td>5.722018</td>\n",
       "      <td>0.625805</td>\n",
       "      <td>18.015894</td>\n",
       "      <td>1.745513</td>\n",
       "      <td>1001.685708</td>\n",
       "      <td>-300.175125</td>\n",
       "      <td>1301.365123</td>\n",
       "      <td>-499.764620</td>\n",
       "      <td>1300.213385</td>\n",
       "      <td>-499.682528</td>\n",
       "      <td>1200.744308</td>\n",
       "      <td>-499.465285</td>\n",
       "      <td>1050.496363</td>\n",
       "      <td>-499.611447</td>\n",
       "      <td>1000.053757</td>\n",
       "      <td>-499.364335</td>\n",
       "      <td>15.357951</td>\n",
       "      <td>5.442310</td>\n",
       "      <td>7.302639</td>\n",
       "      <td>3.980210</td>\n",
       "      <td>30.027721</td>\n",
       "      <td>-499.959206</td>\n",
       "      <td>27.022783</td>\n",
       "      <td>-500.014092</td>\n",
       "      <td>28.016530</td>\n",
       "      <td>-499.877837</td>\n",
       "      <td>22.037270</td>\n",
       "      <td>-499.966809</td>\n",
       "      <td>20.001789</td>\n",
       "      <td>-499.681450</td>\n",
       "      <td>14.975536</td>\n",
       "      <td>-499.388738</td>\n",
       "      <td>17.932223</td>\n",
       "      <td>-499.702452</td>\n",
       "      <td>11.997547</td>\n",
       "      <td>-499.914556</td>\n",
       "      <td>19.984175</td>\n",
       "      <td>-500.061431</td>\n",
       "    </tr>\n",
       "    <tr>\n",
       "      <th>75%</th>\n",
       "      <td>5.859540</td>\n",
       "      <td>11.170603</td>\n",
       "      <td>10.487508</td>\n",
       "      <td>46.166425</td>\n",
       "      <td>72.346428</td>\n",
       "      <td>11.003707</td>\n",
       "      <td>3.241723</td>\n",
       "      <td>11.933009</td>\n",
       "      <td>3.434764</td>\n",
       "      <td>159.825396</td>\n",
       "      <td>11.522173</td>\n",
       "      <td>7.700000</td>\n",
       "      <td>1.100933</td>\n",
       "      <td>9.504924</td>\n",
       "      <td>11.310817</td>\n",
       "      <td>13.052807</td>\n",
       "      <td>35.330145</td>\n",
       "      <td>18.450109</td>\n",
       "      <td>4.253218</td>\n",
       "      <td>8.910664</td>\n",
       "      <td>4.492470</td>\n",
       "      <td>1699.716408</td>\n",
       "      <td>-499.378551</td>\n",
       "      <td>1700.215351</td>\n",
       "      <td>-499.389658</td>\n",
       "      <td>1700.464037</td>\n",
       "      <td>-498.801774</td>\n",
       "      <td>1699.358771</td>\n",
       "      <td>-498.480341</td>\n",
       "      <td>4.776041e+04</td>\n",
       "      <td>3716.360822</td>\n",
       "      <td>3596.534806</td>\n",
       "      <td>2.660896</td>\n",
       "      <td>9.918304</td>\n",
       "      <td>4.226107</td>\n",
       "      <td>547.334973</td>\n",
       "      <td>66.080172</td>\n",
       "      <td>39.423265</td>\n",
       "      <td>9.066976</td>\n",
       "      <td>13.607115</td>\n",
       "      <td>6.602533</td>\n",
       "      <td>13.497134</td>\n",
       "      <td>6.699006</td>\n",
       "      <td>13.426419</td>\n",
       "      <td>8.601927</td>\n",
       "      <td>31.743913</td>\n",
       "      <td>21.392714</td>\n",
       "      <td>90.165021</td>\n",
       "      <td>6.310633</td>\n",
       "      <td>0.794326</td>\n",
       "      <td>19.938672</td>\n",
       "      <td>2.186790</td>\n",
       "      <td>1299.505513</td>\n",
       "      <td>-299.963153</td>\n",
       "      <td>1449.553689</td>\n",
       "      <td>-400.425493</td>\n",
       "      <td>1450.350668</td>\n",
       "      <td>-400.664736</td>\n",
       "      <td>1344.378462</td>\n",
       "      <td>-401.052891</td>\n",
       "      <td>1200.047746</td>\n",
       "      <td>-400.596104</td>\n",
       "      <td>1100.165435</td>\n",
       "      <td>-401.014951</td>\n",
       "      <td>17.230151</td>\n",
       "      <td>7.797948</td>\n",
       "      <td>10.547068</td>\n",
       "      <td>4.883943</td>\n",
       "      <td>34.893057</td>\n",
       "      <td>-499.593198</td>\n",
       "      <td>28.939454</td>\n",
       "      <td>-499.764112</td>\n",
       "      <td>34.990095</td>\n",
       "      <td>-436.923166</td>\n",
       "      <td>25.970365</td>\n",
       "      <td>-499.757501</td>\n",
       "      <td>24.990826</td>\n",
       "      <td>-477.472413</td>\n",
       "      <td>20.059375</td>\n",
       "      <td>-400.039008</td>\n",
       "      <td>21.346550</td>\n",
       "      <td>-487.712108</td>\n",
       "      <td>17.982903</td>\n",
       "      <td>-453.186936</td>\n",
       "      <td>24.991623</td>\n",
       "      <td>-499.536466</td>\n",
       "    </tr>\n",
       "    <tr>\n",
       "      <th>max</th>\n",
       "      <td>16.001945</td>\n",
       "      <td>17.031899</td>\n",
       "      <td>18.124851</td>\n",
       "      <td>52.756638</td>\n",
       "      <td>100.000000</td>\n",
       "      <td>19.552149</td>\n",
       "      <td>5.639565</td>\n",
       "      <td>22.317730</td>\n",
       "      <td>8.197408</td>\n",
       "      <td>250.127834</td>\n",
       "      <td>20.052255</td>\n",
       "      <td>10.470000</td>\n",
       "      <td>2.512968</td>\n",
       "      <td>16.081632</td>\n",
       "      <td>17.081278</td>\n",
       "      <td>22.280845</td>\n",
       "      <td>45.933934</td>\n",
       "      <td>29.459575</td>\n",
       "      <td>9.634565</td>\n",
       "      <td>20.620833</td>\n",
       "      <td>17.788925</td>\n",
       "      <td>2079.531340</td>\n",
       "      <td>-330.134203</td>\n",
       "      <td>2114.906758</td>\n",
       "      <td>-347.354380</td>\n",
       "      <td>2013.156457</td>\n",
       "      <td>-346.653450</td>\n",
       "      <td>2398.903635</td>\n",
       "      <td>-30.601828</td>\n",
       "      <td>3.428099e+06</td>\n",
       "      <td>629638.977914</td>\n",
       "      <td>718684.955855</td>\n",
       "      <td>39.379272</td>\n",
       "      <td>14.596026</td>\n",
       "      <td>7.142594</td>\n",
       "      <td>717.508837</td>\n",
       "      <td>484.967466</td>\n",
       "      <td>48.363177</td>\n",
       "      <td>13.126043</td>\n",
       "      <td>36.118275</td>\n",
       "      <td>9.703448</td>\n",
       "      <td>37.980648</td>\n",
       "      <td>9.698407</td>\n",
       "      <td>24.480271</td>\n",
       "      <td>13.617072</td>\n",
       "      <td>38.351193</td>\n",
       "      <td>28.146838</td>\n",
       "      <td>100.000000</td>\n",
       "      <td>12.719177</td>\n",
       "      <td>3.778064</td>\n",
       "      <td>66.117188</td>\n",
       "      <td>9.688980</td>\n",
       "      <td>1521.980372</td>\n",
       "      <td>-281.039299</td>\n",
       "      <td>1809.194008</td>\n",
       "      <td>-296.383080</td>\n",
       "      <td>2499.129174</td>\n",
       "      <td>-292.155509</td>\n",
       "      <td>1817.199290</td>\n",
       "      <td>-208.330673</td>\n",
       "      <td>1922.636637</td>\n",
       "      <td>-272.199598</td>\n",
       "      <td>1706.307502</td>\n",
       "      <td>-191.718480</td>\n",
       "      <td>23.264738</td>\n",
       "      <td>17.042505</td>\n",
       "      <td>17.976171</td>\n",
       "      <td>26.811643</td>\n",
       "      <td>52.651399</td>\n",
       "      <td>-127.875565</td>\n",
       "      <td>35.152122</td>\n",
       "      <td>-212.064665</td>\n",
       "      <td>44.260464</td>\n",
       "      <td>-191.678810</td>\n",
       "      <td>35.072841</td>\n",
       "      <td>-159.742331</td>\n",
       "      <td>30.115735</td>\n",
       "      <td>-245.239184</td>\n",
       "      <td>24.007913</td>\n",
       "      <td>-145.071088</td>\n",
       "      <td>43.709931</td>\n",
       "      <td>-275.073125</td>\n",
       "      <td>27.926001</td>\n",
       "      <td>-157.396071</td>\n",
       "      <td>32.188906</td>\n",
       "      <td>-104.427459</td>\n",
       "    </tr>\n",
       "  </tbody>\n",
       "</table>\n",
       "</div>"
      ],
      "text/plain": [
       "       final.output.concentrate_ag  final.output.concentrate_pb  \\\n",
       "count                 14148.000000                 14148.000000   \n",
       "mean                      5.142034                    10.132960   \n",
       "std                       1.369586                     1.654930   \n",
       "min                       0.000000                     0.000000   \n",
       "25%                       4.211620                     9.297355   \n",
       "50%                       4.994652                    10.297144   \n",
       "75%                       5.859540                    11.170603   \n",
       "max                      16.001945                    17.031899   \n",
       "\n",
       "       final.output.concentrate_sol  final.output.concentrate_au  \\\n",
       "count                  13938.000000                 14149.000000   \n",
       "mean                       9.202849                    44.003792   \n",
       "std                        2.790516                     4.905261   \n",
       "min                        0.000000                     0.000000   \n",
       "25%                        7.484645                    43.276111   \n",
       "50%                        8.845462                    44.872436   \n",
       "75%                       10.487508                    46.166425   \n",
       "max                       18.124851                    52.756638   \n",
       "\n",
       "       final.output.recovery  final.output.tail_ag  final.output.tail_pb  \\\n",
       "count           14149.000000          14149.000000          14049.000000   \n",
       "mean               66.518832              9.607035              2.597298   \n",
       "std                10.295402              2.319069              0.971843   \n",
       "min                 0.000000              0.000000              0.000000   \n",
       "25%                62.545817              7.997429              1.905973   \n",
       "50%                67.432775              9.480270              2.592022   \n",
       "75%                72.346428             11.003707              3.241723   \n",
       "max               100.000000             19.552149              5.639565   \n",
       "\n",
       "       final.output.tail_sol  final.output.tail_au  \\\n",
       "count           14144.000000          14149.000000   \n",
       "mean               10.512122              2.918421   \n",
       "std                 3.003617              0.903712   \n",
       "min                 0.000000              0.000000   \n",
       "25%                 8.811324              2.368607   \n",
       "50%                10.514621              2.851025   \n",
       "75%                11.933009              3.434764   \n",
       "max                22.317730              8.197408   \n",
       "\n",
       "       primary_cleaner.input.sulfate  primary_cleaner.input.depressant  \\\n",
       "count                   14129.000000                      14117.000000   \n",
       "mean                      133.320659                          8.866996   \n",
       "std                        39.431659                          3.361589   \n",
       "min                         0.003112                          0.000000   \n",
       "25%                       107.006651                          6.040604   \n",
       "50%                       133.018328                          8.035811   \n",
       "75%                       159.825396                         11.522173   \n",
       "max                       250.127834                         20.052255   \n",
       "\n",
       "       primary_cleaner.input.feed_size  primary_cleaner.input.xanthate  \\\n",
       "count                     14149.000000                    14049.000000   \n",
       "mean                          7.322310                        0.885588   \n",
       "std                           0.614062                        0.372714   \n",
       "min                           1.080000                        0.000005   \n",
       "25%                           6.960000                        0.607021   \n",
       "50%                           7.290000                        0.888749   \n",
       "75%                           7.700000                        1.100933   \n",
       "max                          10.470000                        2.512968   \n",
       "\n",
       "       primary_cleaner.output.concentrate_ag  \\\n",
       "count                           14149.000000   \n",
       "mean                                8.200916   \n",
       "std                                 2.005185   \n",
       "min                                 0.000000   \n",
       "25%                                 7.107126   \n",
       "50%                                 8.226247   \n",
       "75%                                 9.504924   \n",
       "max                                16.081632   \n",
       "\n",
       "       primary_cleaner.output.concentrate_pb  \\\n",
       "count                           14063.000000   \n",
       "mean                                9.588862   \n",
       "std                                 2.694296   \n",
       "min                                 0.000000   \n",
       "25%                                 8.333489   \n",
       "50%                                 9.933520   \n",
       "75%                                11.310817   \n",
       "max                                17.081278   \n",
       "\n",
       "       primary_cleaner.output.concentrate_sol  \\\n",
       "count                            13863.000000   \n",
       "mean                                10.114745   \n",
       "std                                  4.064076   \n",
       "min                                  0.000000   \n",
       "25%                                  7.488139   \n",
       "50%                                  9.726566   \n",
       "75%                                 13.052807   \n",
       "max                                 22.280845   \n",
       "\n",
       "       primary_cleaner.output.concentrate_au  primary_cleaner.output.tail_ag  \\\n",
       "count                           14149.000000                    14148.000000   \n",
       "mean                               32.386836                       16.303929   \n",
       "std                                 5.798843                        3.739843   \n",
       "min                                 0.000000                        0.000000   \n",
       "25%                                30.857764                       13.873147   \n",
       "50%                                33.225835                       15.800604   \n",
       "75%                                35.330145                       18.450109   \n",
       "max                                45.933934                       29.459575   \n",
       "\n",
       "       primary_cleaner.output.tail_pb  primary_cleaner.output.tail_sol  \\\n",
       "count                    14134.000000                     14103.000000   \n",
       "mean                         3.443398                         7.533566   \n",
       "std                          1.490106                         2.133220   \n",
       "min                          0.000000                         0.000000   \n",
       "25%                          2.420259                         6.332548   \n",
       "50%                          3.218374                         7.714419   \n",
       "75%                          4.253218                         8.910664   \n",
       "max                          9.634565                        20.620833   \n",
       "\n",
       "       primary_cleaner.output.tail_au  primary_cleaner.state.floatbank8_a_air  \\\n",
       "count                    14149.000000                            14145.000000   \n",
       "mean                         3.839637                             1608.000064   \n",
       "std                          1.603544                              128.394355   \n",
       "min                          0.000000                                0.006352   \n",
       "25%                          2.867957                             1595.695815   \n",
       "50%                          3.510337                             1601.824410   \n",
       "75%                          4.492470                             1699.716408   \n",
       "max                         17.788925                             2079.531340   \n",
       "\n",
       "       primary_cleaner.state.floatbank8_a_level  \\\n",
       "count                              14148.000000   \n",
       "mean                                -488.775525   \n",
       "std                                   35.704184   \n",
       "min                                 -798.641662   \n",
       "25%                                 -500.287952   \n",
       "50%                                 -499.909375   \n",
       "75%                                 -499.378551   \n",
       "max                                 -330.134203   \n",
       "\n",
       "       primary_cleaner.state.floatbank8_b_air  \\\n",
       "count                            14145.000000   \n",
       "mean                              1608.610983   \n",
       "std                                131.112729   \n",
       "min                                  0.008700   \n",
       "25%                               1558.959943   \n",
       "50%                               1601.818514   \n",
       "75%                               1700.215351   \n",
       "max                               2114.906758   \n",
       "\n",
       "       primary_cleaner.state.floatbank8_b_level  \\\n",
       "count                              14148.000000   \n",
       "mean                                -489.171786   \n",
       "std                                   33.604449   \n",
       "min                                 -740.122129   \n",
       "25%                                 -500.375645   \n",
       "50%                                 -499.938003   \n",
       "75%                                 -499.389658   \n",
       "max                                 -347.354380   \n",
       "\n",
       "       primary_cleaner.state.floatbank8_c_air  \\\n",
       "count                            14147.000000   \n",
       "mean                              1608.879407   \n",
       "std                                134.266898   \n",
       "min                                  0.015159   \n",
       "25%                               1549.871886   \n",
       "50%                               1601.574628   \n",
       "75%                               1700.464037   \n",
       "max                               2013.156457   \n",
       "\n",
       "       primary_cleaner.state.floatbank8_c_level  \\\n",
       "count                              14148.000000   \n",
       "mean                                -489.605549   \n",
       "std                                   35.624002   \n",
       "min                                 -799.803073   \n",
       "25%                                 -500.601718   \n",
       "50%                                 -499.871346   \n",
       "75%                                 -498.801774   \n",
       "max                                 -346.653450   \n",
       "\n",
       "       primary_cleaner.state.floatbank8_d_air  \\\n",
       "count                            14146.000000   \n",
       "mean                              1542.189963   \n",
       "std                                278.316132   \n",
       "min                                  0.008655   \n",
       "25%                               1452.678767   \n",
       "50%                               1600.168346   \n",
       "75%                               1699.358771   \n",
       "max                               2398.903635   \n",
       "\n",
       "       primary_cleaner.state.floatbank8_d_level  \\\n",
       "count                              14148.000000   \n",
       "mean                                -483.462423   \n",
       "std                                   47.100934   \n",
       "min                                 -799.788598   \n",
       "25%                                 -500.459917   \n",
       "50%                                 -499.831833   \n",
       "75%                                 -498.480341   \n",
       "max                                  -30.601828   \n",
       "\n",
       "       rougher.calculation.sulfate_to_au_concentrate  \\\n",
       "count                                   1.414800e+04   \n",
       "mean                                    4.038265e+04   \n",
       "std                                     3.801436e+05   \n",
       "min                                    -4.223520e+07   \n",
       "25%                                     3.999430e+04   \n",
       "50%                                     4.368431e+04   \n",
       "75%                                     4.776041e+04   \n",
       "max                                     3.428099e+06   \n",
       "\n",
       "       rougher.calculation.floatbank10_sulfate_to_au_feed  \\\n",
       "count                                       14148.000000    \n",
       "mean                                         3456.608298    \n",
       "std                                          5772.510248    \n",
       "min                                          -486.598675    \n",
       "25%                                          2527.093354    \n",
       "50%                                          2975.892211    \n",
       "75%                                          3716.360822    \n",
       "max                                        629638.977914    \n",
       "\n",
       "       rougher.calculation.floatbank11_sulfate_to_au_feed  \\\n",
       "count                                       14148.000000    \n",
       "mean                                         3253.356387    \n",
       "std                                          6753.290662    \n",
       "min                                          -264.982785    \n",
       "25%                                          2512.200873    \n",
       "50%                                          2899.807724    \n",
       "75%                                          3596.534806    \n",
       "max                                        718684.955855    \n",
       "\n",
       "       rougher.calculation.au_pb_ratio  rougher.input.feed_ag  \\\n",
       "count                     14149.000000           14149.000000   \n",
       "mean                          2.367314               8.579195   \n",
       "std                           0.873551               1.896284   \n",
       "min                          -0.010548               0.010000   \n",
       "25%                           1.999588               7.132802   \n",
       "50%                           2.249275               8.156092   \n",
       "75%                           2.660896               9.918304   \n",
       "max                          39.379272              14.596026   \n",
       "\n",
       "       rougher.input.feed_pb  rougher.input.feed_rate  \\\n",
       "count           14049.000000             14141.000000   \n",
       "mean                3.522778               474.027714   \n",
       "std                 1.073394               104.039838   \n",
       "min                 0.010000                 0.012786   \n",
       "25%                 2.780010               420.781913   \n",
       "50%                 3.422677               499.454777   \n",
       "75%                 4.226107               547.334973   \n",
       "max                 7.142594               717.508837   \n",
       "\n",
       "       rougher.input.feed_size  rougher.input.feed_sol  rougher.input.feed_au  \\\n",
       "count             14005.000000            14071.000000           14149.000000   \n",
       "mean                 60.110518               36.312593               7.866577   \n",
       "std                  22.418485                4.956057               1.919506   \n",
       "min                   9.659576                0.010000               0.010000   \n",
       "25%                  48.973027               34.117635               6.596217   \n",
       "50%                  55.373885               37.020345               7.649138   \n",
       "75%                  66.080172               39.423265               9.066976   \n",
       "max                 484.967466               48.363177              13.126043   \n",
       "\n",
       "       rougher.input.floatbank10_sulfate  rougher.input.floatbank10_xanthate  \\\n",
       "count                       14120.000000                        14141.000000   \n",
       "mean                           11.764931                            5.854529   \n",
       "std                             3.278813                            1.104263   \n",
       "min                             0.001083                            0.001428   \n",
       "25%                             9.861100                            5.117359   \n",
       "50%                            11.688702                            5.951071   \n",
       "75%                            13.607115                            6.602533   \n",
       "max                            36.118275                            9.703448   \n",
       "\n",
       "       rougher.input.floatbank11_sulfate  rougher.input.floatbank11_xanthate  \\\n",
       "count                       14113.000000                        13721.000000   \n",
       "mean                           11.368685                            5.894176   \n",
       "std                             3.743672                            1.124233   \n",
       "min                             0.000098                            0.000290   \n",
       "25%                             9.505507                            5.199168   \n",
       "50%                            11.384283                            5.998460   \n",
       "75%                            13.497134                            6.699006   \n",
       "max                            37.980648                            9.698407   \n",
       "\n",
       "       rougher.output.concentrate_ag  rougher.output.concentrate_pb  \\\n",
       "count                   14149.000000                   14149.000000   \n",
       "mean                       11.775812                       7.664555   \n",
       "std                         2.731747                       1.856279   \n",
       "min                         0.000000                       0.000000   \n",
       "25%                        10.486871                       6.850501   \n",
       "50%                        11.747362                       7.760435   \n",
       "75%                        13.426419                       8.601927   \n",
       "max                        24.480271                      13.617072   \n",
       "\n",
       "       rougher.output.concentrate_sol  rougher.output.concentrate_au  \\\n",
       "count                    14127.000000                   14149.000000   \n",
       "mean                        28.302715                      19.439958   \n",
       "std                          6.102982                       3.765192   \n",
       "min                          0.000000                       0.000000   \n",
       "25%                         26.703554                      18.432161   \n",
       "50%                         29.257545                      19.947312   \n",
       "75%                         31.743913                      21.392714   \n",
       "max                         38.351193                      28.146838   \n",
       "\n",
       "       rougher.output.recovery  rougher.output.tail_ag  \\\n",
       "count             14149.000000            14148.000000   \n",
       "mean                 82.704502                5.567124   \n",
       "std                  14.479156                1.039136   \n",
       "min                   0.000000                0.594562   \n",
       "25%                  79.993067                4.921647   \n",
       "50%                  85.299462                5.722018   \n",
       "75%                  90.165021                6.310633   \n",
       "max                 100.000000               12.719177   \n",
       "\n",
       "       rougher.output.tail_pb  rougher.output.tail_sol  \\\n",
       "count            14149.000000             14149.000000   \n",
       "mean                 0.653277                17.882853   \n",
       "std                  0.263766                 3.432859   \n",
       "min                  0.007566                10.014648   \n",
       "25%                  0.474047                15.688727   \n",
       "50%                  0.625805                18.015894   \n",
       "75%                  0.794326                19.938672   \n",
       "max                  3.778064                66.117188   \n",
       "\n",
       "       rougher.output.tail_au  rougher.state.floatbank10_a_air  \\\n",
       "count            14149.000000                     14148.000000   \n",
       "mean                 1.757473                      1124.726280   \n",
       "std                  0.713187                       169.310825   \n",
       "min                  0.020676                        -0.041078   \n",
       "25%                  1.310800                       999.799166   \n",
       "50%                  1.745513                      1001.685708   \n",
       "75%                  2.186790                      1299.505513   \n",
       "max                  9.688980                      1521.980372   \n",
       "\n",
       "       rougher.state.floatbank10_a_level  rougher.state.floatbank10_b_air  \\\n",
       "count                       14148.000000                     14148.000000   \n",
       "mean                         -369.460950                      1320.705069   \n",
       "std                            93.952787                       183.155975   \n",
       "min                          -650.202881                        -0.653384   \n",
       "25%                          -499.787867                      1199.366448   \n",
       "50%                          -300.175125                      1301.365123   \n",
       "75%                          -299.963153                      1449.553689   \n",
       "max                          -281.039299                      1809.194008   \n",
       "\n",
       "       rougher.state.floatbank10_b_level  rougher.state.floatbank10_c_air  \\\n",
       "count                       14148.000000                     14148.000000   \n",
       "mean                         -464.258983                      1299.360578   \n",
       "std                            57.401954                       213.404094   \n",
       "min                          -650.260008                        -0.035112   \n",
       "25%                          -500.183028                      1103.095071   \n",
       "50%                          -499.764620                      1300.213385   \n",
       "75%                          -400.425493                      1450.350668   \n",
       "max                          -296.383080                      2499.129174   \n",
       "\n",
       "       rougher.state.floatbank10_c_level  rougher.state.floatbank10_d_air  \\\n",
       "count                       14148.000000                     14149.000000   \n",
       "mean                         -465.054849                      1210.335236   \n",
       "std                            55.904716                       210.431555   \n",
       "min                          -640.995627                        -0.554299   \n",
       "25%                          -500.211863                      1059.708509   \n",
       "50%                          -499.682528                      1200.744308   \n",
       "75%                          -400.664736                      1344.378462   \n",
       "max                          -292.155509                      1817.199290   \n",
       "\n",
       "       rougher.state.floatbank10_d_level  rougher.state.floatbank10_e_air  \\\n",
       "count                       14149.000000                     13713.000000   \n",
       "mean                         -465.457377                      1090.213187   \n",
       "std                            55.771393                       184.610118   \n",
       "min                          -640.519003                        -1.970275   \n",
       "25%                          -500.359197                       997.183864   \n",
       "50%                          -499.465285                      1050.496363   \n",
       "75%                          -401.052891                      1200.047746   \n",
       "max                          -208.330673                      1922.636637   \n",
       "\n",
       "       rougher.state.floatbank10_e_level  rougher.state.floatbank10_f_air  \\\n",
       "count                       14149.000000                     14149.000000   \n",
       "mean                         -464.919119                      1035.490299   \n",
       "std                            56.602962                       175.052279   \n",
       "min                          -649.443911                        -2.430587   \n",
       "25%                          -500.250033                       900.966986   \n",
       "50%                          -499.611447                      1000.053757   \n",
       "75%                          -400.596104                      1100.165435   \n",
       "max                          -272.199598                      1706.307502   \n",
       "\n",
       "       rougher.state.floatbank10_f_level  secondary_cleaner.output.tail_ag  \\\n",
       "count                       14149.000000                      14147.000000   \n",
       "mean                         -464.688631                         14.281629   \n",
       "std                            56.645965                          4.477126   \n",
       "min                          -649.880981                          0.000000   \n",
       "25%                          -500.476526                         12.177364   \n",
       "50%                          -499.364335                         15.357951   \n",
       "75%                          -401.014951                         17.230151   \n",
       "max                          -191.718480                         23.264738   \n",
       "\n",
       "       secondary_cleaner.output.tail_pb  secondary_cleaner.output.tail_sol  \\\n",
       "count                      14139.000000                       12544.000000   \n",
       "mean                           5.848863                           6.938693   \n",
       "std                            2.861799                           4.155487   \n",
       "min                            0.000000                           0.000000   \n",
       "25%                            3.982298                           3.225486   \n",
       "50%                            5.442310                           7.302639   \n",
       "75%                            7.797948                          10.547068   \n",
       "max                           17.042505                          17.976171   \n",
       "\n",
       "       secondary_cleaner.output.tail_au  \\\n",
       "count                      14149.000000   \n",
       "mean                           4.246961   \n",
       "std                            2.389060   \n",
       "min                            0.000000   \n",
       "25%                            3.153122   \n",
       "50%                            3.980210   \n",
       "75%                            4.883943   \n",
       "max                           26.811643   \n",
       "\n",
       "       secondary_cleaner.state.floatbank2_a_air  \\\n",
       "count                              13932.000000   \n",
       "mean                                  29.613649   \n",
       "std                                    5.800494   \n",
       "min                                    0.077503   \n",
       "25%                                   25.099584   \n",
       "50%                                   30.027721   \n",
       "75%                                   34.893057   \n",
       "max                                   52.651399   \n",
       "\n",
       "       secondary_cleaner.state.floatbank2_a_level  \\\n",
       "count                                14148.000000   \n",
       "mean                                  -502.223914   \n",
       "std                                     60.281705   \n",
       "min                                   -799.606441   \n",
       "25%                                   -500.248814   \n",
       "50%                                   -499.959206   \n",
       "75%                                   -499.593198   \n",
       "max                                   -127.875565   \n",
       "\n",
       "       secondary_cleaner.state.floatbank2_b_air  \\\n",
       "count                              14128.000000   \n",
       "mean                                  24.914403   \n",
       "std                                    5.994959   \n",
       "min                                    0.000000   \n",
       "25%                                   22.048294   \n",
       "50%                                   27.022783   \n",
       "75%                                   28.939454   \n",
       "max                                   35.152122   \n",
       "\n",
       "       secondary_cleaner.state.floatbank2_b_level  \\\n",
       "count                                14148.000000   \n",
       "mean                                  -503.695706   \n",
       "std                                     62.837357   \n",
       "min                                   -799.873878   \n",
       "25%                                   -500.270997   \n",
       "50%                                   -500.014092   \n",
       "75%                                   -499.764112   \n",
       "max                                   -212.064665   \n",
       "\n",
       "       secondary_cleaner.state.floatbank3_a_air  \\\n",
       "count                              14145.000000   \n",
       "mean                                  29.243372   \n",
       "std                                    5.637309   \n",
       "min                                    0.000000   \n",
       "25%                                   24.991662   \n",
       "50%                                   28.016530   \n",
       "75%                                   34.990095   \n",
       "max                                   44.260464   \n",
       "\n",
       "       secondary_cleaner.state.floatbank3_a_level  \\\n",
       "count                                14148.000000   \n",
       "mean                                  -478.244059   \n",
       "std                                     54.655143   \n",
       "min                                   -799.613013   \n",
       "25%                                   -500.175065   \n",
       "50%                                   -499.877837   \n",
       "75%                                   -436.923166   \n",
       "max                                   -191.678810   \n",
       "\n",
       "       secondary_cleaner.state.floatbank3_b_air  \\\n",
       "count                              14148.000000   \n",
       "mean                                  22.656261   \n",
       "std                                    4.996017   \n",
       "min                                    0.000000   \n",
       "25%                                   19.948436   \n",
       "50%                                   22.037270   \n",
       "75%                                   25.970365   \n",
       "max                                   35.072841   \n",
       "\n",
       "       secondary_cleaner.state.floatbank3_b_level  \\\n",
       "count                                14148.000000   \n",
       "mean                                  -488.924046   \n",
       "std                                     41.928112   \n",
       "min                                   -759.177381   \n",
       "25%                                   -500.110581   \n",
       "50%                                   -499.966809   \n",
       "75%                                   -499.757501   \n",
       "max                                   -159.742331   \n",
       "\n",
       "       secondary_cleaner.state.floatbank4_a_air  \\\n",
       "count                              14143.000000   \n",
       "mean                                  19.985454   \n",
       "std                                    5.657723   \n",
       "min                                    0.000000   \n",
       "25%                                   14.990775   \n",
       "50%                                   20.001789   \n",
       "75%                                   24.990826   \n",
       "max                                   30.115735   \n",
       "\n",
       "       secondary_cleaner.state.floatbank4_a_level  \\\n",
       "count                                14148.000000   \n",
       "mean                                  -478.696836   \n",
       "std                                     50.736021   \n",
       "min                                   -799.709069   \n",
       "25%                                   -500.628656   \n",
       "50%                                   -499.681450   \n",
       "75%                                   -477.472413   \n",
       "max                                   -245.239184   \n",
       "\n",
       "       secondary_cleaner.state.floatbank4_b_air  \\\n",
       "count                              14148.000000   \n",
       "mean                                  15.487065   \n",
       "std                                    5.255655   \n",
       "min                                    0.000000   \n",
       "25%                                   11.894558   \n",
       "50%                                   14.975536   \n",
       "75%                                   20.059375   \n",
       "max                                   24.007913   \n",
       "\n",
       "       secondary_cleaner.state.floatbank4_b_level  \\\n",
       "count                                14148.000000   \n",
       "mean                                  -460.229416   \n",
       "std                                     58.843586   \n",
       "min                                   -799.889113   \n",
       "25%                                   -500.149000   \n",
       "50%                                   -499.388738   \n",
       "75%                                   -400.039008   \n",
       "max                                   -145.071088   \n",
       "\n",
       "       secondary_cleaner.state.floatbank5_a_air  \\\n",
       "count                              14148.000000   \n",
       "mean                                  16.775136   \n",
       "std                                    5.831906   \n",
       "min                                   -0.372054   \n",
       "25%                                   11.083980   \n",
       "50%                                   17.932223   \n",
       "75%                                   21.346550   \n",
       "max                                   43.709931   \n",
       "\n",
       "       secondary_cleaner.state.floatbank5_a_level  \\\n",
       "count                                14148.000000   \n",
       "mean                                  -483.956022   \n",
       "std                                     37.892788   \n",
       "min                                   -797.142475   \n",
       "25%                                   -500.363177   \n",
       "50%                                   -499.702452   \n",
       "75%                                   -487.712108   \n",
       "max                                   -275.073125   \n",
       "\n",
       "       secondary_cleaner.state.floatbank5_b_air  \\\n",
       "count                              14148.000000   \n",
       "mean                                  13.064590   \n",
       "std                                    5.765617   \n",
       "min                                    0.646208   \n",
       "25%                                    8.994405   \n",
       "50%                                   11.997547   \n",
       "75%                                   17.982903   \n",
       "max                                   27.926001   \n",
       "\n",
       "       secondary_cleaner.state.floatbank5_b_level  \\\n",
       "count                                14148.000000   \n",
       "mean                                  -483.966564   \n",
       "std                                     39.207913   \n",
       "min                                   -800.006180   \n",
       "25%                                   -500.105994   \n",
       "50%                                   -499.914556   \n",
       "75%                                   -453.186936   \n",
       "max                                   -157.396071   \n",
       "\n",
       "       secondary_cleaner.state.floatbank6_a_air  \\\n",
       "count                              14147.000000   \n",
       "mean                                  19.577539   \n",
       "std                                    5.764417   \n",
       "min                                    0.195324   \n",
       "25%                                   14.989304   \n",
       "50%                                   19.984175   \n",
       "75%                                   24.991623   \n",
       "max                                   32.188906   \n",
       "\n",
       "       secondary_cleaner.state.floatbank6_a_level  \n",
       "count                                14148.000000  \n",
       "mean                                  -506.798480  \n",
       "std                                     37.079249  \n",
       "min                                   -809.398668  \n",
       "25%                                   -500.745104  \n",
       "50%                                   -500.061431  \n",
       "75%                                   -499.536466  \n",
       "max                                   -104.427459  "
      ]
     },
     "execution_count": 6,
     "metadata": {},
     "output_type": "execute_result"
    }
   ],
   "source": [
    "df_gold_train.describe()"
   ]
  },
  {
   "cell_type": "code",
   "execution_count": 7,
   "metadata": {},
   "outputs": [
    {
     "data": {
      "text/html": [
       "<div>\n",
       "<style scoped>\n",
       "    .dataframe tbody tr th:only-of-type {\n",
       "        vertical-align: middle;\n",
       "    }\n",
       "\n",
       "    .dataframe tbody tr th {\n",
       "        vertical-align: top;\n",
       "    }\n",
       "\n",
       "    .dataframe thead th {\n",
       "        text-align: right;\n",
       "    }\n",
       "</style>\n",
       "<table border=\"1\" class=\"dataframe\">\n",
       "  <thead>\n",
       "    <tr style=\"text-align: right;\">\n",
       "      <th></th>\n",
       "      <th>primary_cleaner.input.sulfate</th>\n",
       "      <th>primary_cleaner.input.depressant</th>\n",
       "      <th>primary_cleaner.input.feed_size</th>\n",
       "      <th>primary_cleaner.input.xanthate</th>\n",
       "      <th>primary_cleaner.state.floatbank8_a_air</th>\n",
       "      <th>primary_cleaner.state.floatbank8_a_level</th>\n",
       "      <th>primary_cleaner.state.floatbank8_b_air</th>\n",
       "      <th>primary_cleaner.state.floatbank8_b_level</th>\n",
       "      <th>primary_cleaner.state.floatbank8_c_air</th>\n",
       "      <th>primary_cleaner.state.floatbank8_c_level</th>\n",
       "      <th>primary_cleaner.state.floatbank8_d_air</th>\n",
       "      <th>primary_cleaner.state.floatbank8_d_level</th>\n",
       "      <th>rougher.input.feed_ag</th>\n",
       "      <th>rougher.input.feed_pb</th>\n",
       "      <th>rougher.input.feed_rate</th>\n",
       "      <th>rougher.input.feed_size</th>\n",
       "      <th>rougher.input.feed_sol</th>\n",
       "      <th>rougher.input.feed_au</th>\n",
       "      <th>rougher.input.floatbank10_sulfate</th>\n",
       "      <th>rougher.input.floatbank10_xanthate</th>\n",
       "      <th>rougher.input.floatbank11_sulfate</th>\n",
       "      <th>rougher.input.floatbank11_xanthate</th>\n",
       "      <th>rougher.state.floatbank10_a_air</th>\n",
       "      <th>rougher.state.floatbank10_a_level</th>\n",
       "      <th>rougher.state.floatbank10_b_air</th>\n",
       "      <th>rougher.state.floatbank10_b_level</th>\n",
       "      <th>rougher.state.floatbank10_c_air</th>\n",
       "      <th>rougher.state.floatbank10_c_level</th>\n",
       "      <th>rougher.state.floatbank10_d_air</th>\n",
       "      <th>rougher.state.floatbank10_d_level</th>\n",
       "      <th>rougher.state.floatbank10_e_air</th>\n",
       "      <th>rougher.state.floatbank10_e_level</th>\n",
       "      <th>rougher.state.floatbank10_f_air</th>\n",
       "      <th>rougher.state.floatbank10_f_level</th>\n",
       "      <th>secondary_cleaner.state.floatbank2_a_air</th>\n",
       "      <th>secondary_cleaner.state.floatbank2_a_level</th>\n",
       "      <th>secondary_cleaner.state.floatbank2_b_air</th>\n",
       "      <th>secondary_cleaner.state.floatbank2_b_level</th>\n",
       "      <th>secondary_cleaner.state.floatbank3_a_air</th>\n",
       "      <th>secondary_cleaner.state.floatbank3_a_level</th>\n",
       "      <th>secondary_cleaner.state.floatbank3_b_air</th>\n",
       "      <th>secondary_cleaner.state.floatbank3_b_level</th>\n",
       "      <th>secondary_cleaner.state.floatbank4_a_air</th>\n",
       "      <th>secondary_cleaner.state.floatbank4_a_level</th>\n",
       "      <th>secondary_cleaner.state.floatbank4_b_air</th>\n",
       "      <th>secondary_cleaner.state.floatbank4_b_level</th>\n",
       "      <th>secondary_cleaner.state.floatbank5_a_air</th>\n",
       "      <th>secondary_cleaner.state.floatbank5_a_level</th>\n",
       "      <th>secondary_cleaner.state.floatbank5_b_air</th>\n",
       "      <th>secondary_cleaner.state.floatbank5_b_level</th>\n",
       "      <th>secondary_cleaner.state.floatbank6_a_air</th>\n",
       "      <th>secondary_cleaner.state.floatbank6_a_level</th>\n",
       "    </tr>\n",
       "    <tr>\n",
       "      <th>date</th>\n",
       "      <th></th>\n",
       "      <th></th>\n",
       "      <th></th>\n",
       "      <th></th>\n",
       "      <th></th>\n",
       "      <th></th>\n",
       "      <th></th>\n",
       "      <th></th>\n",
       "      <th></th>\n",
       "      <th></th>\n",
       "      <th></th>\n",
       "      <th></th>\n",
       "      <th></th>\n",
       "      <th></th>\n",
       "      <th></th>\n",
       "      <th></th>\n",
       "      <th></th>\n",
       "      <th></th>\n",
       "      <th></th>\n",
       "      <th></th>\n",
       "      <th></th>\n",
       "      <th></th>\n",
       "      <th></th>\n",
       "      <th></th>\n",
       "      <th></th>\n",
       "      <th></th>\n",
       "      <th></th>\n",
       "      <th></th>\n",
       "      <th></th>\n",
       "      <th></th>\n",
       "      <th></th>\n",
       "      <th></th>\n",
       "      <th></th>\n",
       "      <th></th>\n",
       "      <th></th>\n",
       "      <th></th>\n",
       "      <th></th>\n",
       "      <th></th>\n",
       "      <th></th>\n",
       "      <th></th>\n",
       "      <th></th>\n",
       "      <th></th>\n",
       "      <th></th>\n",
       "      <th></th>\n",
       "      <th></th>\n",
       "      <th></th>\n",
       "      <th></th>\n",
       "      <th></th>\n",
       "      <th></th>\n",
       "      <th></th>\n",
       "      <th></th>\n",
       "      <th></th>\n",
       "    </tr>\n",
       "  </thead>\n",
       "  <tbody>\n",
       "    <tr>\n",
       "      <th>2016-09-01 00:59:59</th>\n",
       "      <td>210.800909</td>\n",
       "      <td>14.993118</td>\n",
       "      <td>8.080000</td>\n",
       "      <td>1.005021</td>\n",
       "      <td>1398.981301</td>\n",
       "      <td>-500.225577</td>\n",
       "      <td>1399.144926</td>\n",
       "      <td>-499.919735</td>\n",
       "      <td>1400.102998</td>\n",
       "      <td>-500.704369</td>\n",
       "      <td>1399.001695</td>\n",
       "      <td>-499.485144</td>\n",
       "      <td>13.128569</td>\n",
       "      <td>5.636710</td>\n",
       "      <td>489.793655</td>\n",
       "      <td>62.710452</td>\n",
       "      <td>42.022440</td>\n",
       "      <td>12.084103</td>\n",
       "      <td>16.922877</td>\n",
       "      <td>6.153479</td>\n",
       "      <td>16.867518</td>\n",
       "      <td>6.150709</td>\n",
       "      <td>1001.849317</td>\n",
       "      <td>-350.301265</td>\n",
       "      <td>1249.738612</td>\n",
       "      <td>-399.107531</td>\n",
       "      <td>1249.750520</td>\n",
       "      <td>-399.396730</td>\n",
       "      <td>1198.287855</td>\n",
       "      <td>-399.488594</td>\n",
       "      <td>999.472250</td>\n",
       "      <td>-399.530962</td>\n",
       "      <td>949.566189</td>\n",
       "      <td>-398.180807</td>\n",
       "      <td>24.938200</td>\n",
       "      <td>-500.490963</td>\n",
       "      <td>14.947607</td>\n",
       "      <td>-500.013837</td>\n",
       "      <td>20.018166</td>\n",
       "      <td>-450.395995</td>\n",
       "      <td>13.987058</td>\n",
       "      <td>-449.831513</td>\n",
       "      <td>12.023554</td>\n",
       "      <td>-497.795834</td>\n",
       "      <td>8.016656</td>\n",
       "      <td>-501.289139</td>\n",
       "      <td>7.946562</td>\n",
       "      <td>-432.317850</td>\n",
       "      <td>4.872511</td>\n",
       "      <td>-500.037437</td>\n",
       "      <td>26.705889</td>\n",
       "      <td>-499.709414</td>\n",
       "    </tr>\n",
       "    <tr>\n",
       "      <th>2016-09-01 01:59:59</th>\n",
       "      <td>215.392455</td>\n",
       "      <td>14.987471</td>\n",
       "      <td>8.080000</td>\n",
       "      <td>0.990469</td>\n",
       "      <td>1398.777912</td>\n",
       "      <td>-500.057435</td>\n",
       "      <td>1398.055362</td>\n",
       "      <td>-499.778182</td>\n",
       "      <td>1396.151033</td>\n",
       "      <td>-499.240168</td>\n",
       "      <td>1399.508091</td>\n",
       "      <td>-500.416324</td>\n",
       "      <td>13.036280</td>\n",
       "      <td>5.526065</td>\n",
       "      <td>490.104534</td>\n",
       "      <td>61.961163</td>\n",
       "      <td>41.187903</td>\n",
       "      <td>11.918977</td>\n",
       "      <td>17.002532</td>\n",
       "      <td>5.999043</td>\n",
       "      <td>16.996063</td>\n",
       "      <td>6.002315</td>\n",
       "      <td>998.690785</td>\n",
       "      <td>-350.425704</td>\n",
       "      <td>1248.395457</td>\n",
       "      <td>-399.946025</td>\n",
       "      <td>1249.514451</td>\n",
       "      <td>-399.630810</td>\n",
       "      <td>1200.506459</td>\n",
       "      <td>-399.942434</td>\n",
       "      <td>1000.002114</td>\n",
       "      <td>-399.491528</td>\n",
       "      <td>950.200009</td>\n",
       "      <td>-405.787514</td>\n",
       "      <td>24.923466</td>\n",
       "      <td>-499.813963</td>\n",
       "      <td>14.930873</td>\n",
       "      <td>-500.764452</td>\n",
       "      <td>19.988503</td>\n",
       "      <td>-450.114024</td>\n",
       "      <td>14.092981</td>\n",
       "      <td>-450.059163</td>\n",
       "      <td>12.058140</td>\n",
       "      <td>-498.695773</td>\n",
       "      <td>8.130979</td>\n",
       "      <td>-499.634209</td>\n",
       "      <td>7.958270</td>\n",
       "      <td>-525.839648</td>\n",
       "      <td>4.878850</td>\n",
       "      <td>-500.162375</td>\n",
       "      <td>25.019940</td>\n",
       "      <td>-499.819438</td>\n",
       "    </tr>\n",
       "    <tr>\n",
       "      <th>2016-09-01 02:59:59</th>\n",
       "      <td>215.259946</td>\n",
       "      <td>12.884934</td>\n",
       "      <td>7.786667</td>\n",
       "      <td>0.996043</td>\n",
       "      <td>1398.493666</td>\n",
       "      <td>-500.868360</td>\n",
       "      <td>1398.860436</td>\n",
       "      <td>-499.764529</td>\n",
       "      <td>1398.075709</td>\n",
       "      <td>-502.151509</td>\n",
       "      <td>1399.497088</td>\n",
       "      <td>-499.715479</td>\n",
       "      <td>13.138412</td>\n",
       "      <td>5.426561</td>\n",
       "      <td>489.617969</td>\n",
       "      <td>66.903807</td>\n",
       "      <td>42.546294</td>\n",
       "      <td>12.091332</td>\n",
       "      <td>16.992520</td>\n",
       "      <td>5.850632</td>\n",
       "      <td>16.982096</td>\n",
       "      <td>5.853594</td>\n",
       "      <td>998.516720</td>\n",
       "      <td>-349.783538</td>\n",
       "      <td>1247.440748</td>\n",
       "      <td>-400.264330</td>\n",
       "      <td>1248.207204</td>\n",
       "      <td>-401.074405</td>\n",
       "      <td>1199.770026</td>\n",
       "      <td>-400.790582</td>\n",
       "      <td>999.925519</td>\n",
       "      <td>-399.236999</td>\n",
       "      <td>950.320481</td>\n",
       "      <td>-400.864340</td>\n",
       "      <td>24.908732</td>\n",
       "      <td>-500.304035</td>\n",
       "      <td>14.996511</td>\n",
       "      <td>-500.993821</td>\n",
       "      <td>20.039689</td>\n",
       "      <td>-450.263164</td>\n",
       "      <td>14.077881</td>\n",
       "      <td>-449.660997</td>\n",
       "      <td>11.962366</td>\n",
       "      <td>-498.767484</td>\n",
       "      <td>8.096893</td>\n",
       "      <td>-500.827423</td>\n",
       "      <td>8.071056</td>\n",
       "      <td>-500.801673</td>\n",
       "      <td>4.905125</td>\n",
       "      <td>-499.828510</td>\n",
       "      <td>24.994862</td>\n",
       "      <td>-500.622559</td>\n",
       "    </tr>\n",
       "  </tbody>\n",
       "</table>\n",
       "</div>"
      ],
      "text/plain": [
       "                     primary_cleaner.input.sulfate  \\\n",
       "date                                                 \n",
       "2016-09-01 00:59:59                     210.800909   \n",
       "2016-09-01 01:59:59                     215.392455   \n",
       "2016-09-01 02:59:59                     215.259946   \n",
       "\n",
       "                     primary_cleaner.input.depressant  \\\n",
       "date                                                    \n",
       "2016-09-01 00:59:59                         14.993118   \n",
       "2016-09-01 01:59:59                         14.987471   \n",
       "2016-09-01 02:59:59                         12.884934   \n",
       "\n",
       "                     primary_cleaner.input.feed_size  \\\n",
       "date                                                   \n",
       "2016-09-01 00:59:59                         8.080000   \n",
       "2016-09-01 01:59:59                         8.080000   \n",
       "2016-09-01 02:59:59                         7.786667   \n",
       "\n",
       "                     primary_cleaner.input.xanthate  \\\n",
       "date                                                  \n",
       "2016-09-01 00:59:59                        1.005021   \n",
       "2016-09-01 01:59:59                        0.990469   \n",
       "2016-09-01 02:59:59                        0.996043   \n",
       "\n",
       "                     primary_cleaner.state.floatbank8_a_air  \\\n",
       "date                                                          \n",
       "2016-09-01 00:59:59                             1398.981301   \n",
       "2016-09-01 01:59:59                             1398.777912   \n",
       "2016-09-01 02:59:59                             1398.493666   \n",
       "\n",
       "                     primary_cleaner.state.floatbank8_a_level  \\\n",
       "date                                                            \n",
       "2016-09-01 00:59:59                               -500.225577   \n",
       "2016-09-01 01:59:59                               -500.057435   \n",
       "2016-09-01 02:59:59                               -500.868360   \n",
       "\n",
       "                     primary_cleaner.state.floatbank8_b_air  \\\n",
       "date                                                          \n",
       "2016-09-01 00:59:59                             1399.144926   \n",
       "2016-09-01 01:59:59                             1398.055362   \n",
       "2016-09-01 02:59:59                             1398.860436   \n",
       "\n",
       "                     primary_cleaner.state.floatbank8_b_level  \\\n",
       "date                                                            \n",
       "2016-09-01 00:59:59                               -499.919735   \n",
       "2016-09-01 01:59:59                               -499.778182   \n",
       "2016-09-01 02:59:59                               -499.764529   \n",
       "\n",
       "                     primary_cleaner.state.floatbank8_c_air  \\\n",
       "date                                                          \n",
       "2016-09-01 00:59:59                             1400.102998   \n",
       "2016-09-01 01:59:59                             1396.151033   \n",
       "2016-09-01 02:59:59                             1398.075709   \n",
       "\n",
       "                     primary_cleaner.state.floatbank8_c_level  \\\n",
       "date                                                            \n",
       "2016-09-01 00:59:59                               -500.704369   \n",
       "2016-09-01 01:59:59                               -499.240168   \n",
       "2016-09-01 02:59:59                               -502.151509   \n",
       "\n",
       "                     primary_cleaner.state.floatbank8_d_air  \\\n",
       "date                                                          \n",
       "2016-09-01 00:59:59                             1399.001695   \n",
       "2016-09-01 01:59:59                             1399.508091   \n",
       "2016-09-01 02:59:59                             1399.497088   \n",
       "\n",
       "                     primary_cleaner.state.floatbank8_d_level  \\\n",
       "date                                                            \n",
       "2016-09-01 00:59:59                               -499.485144   \n",
       "2016-09-01 01:59:59                               -500.416324   \n",
       "2016-09-01 02:59:59                               -499.715479   \n",
       "\n",
       "                     rougher.input.feed_ag  rougher.input.feed_pb  \\\n",
       "date                                                                \n",
       "2016-09-01 00:59:59              13.128569               5.636710   \n",
       "2016-09-01 01:59:59              13.036280               5.526065   \n",
       "2016-09-01 02:59:59              13.138412               5.426561   \n",
       "\n",
       "                     rougher.input.feed_rate  rougher.input.feed_size  \\\n",
       "date                                                                    \n",
       "2016-09-01 00:59:59               489.793655                62.710452   \n",
       "2016-09-01 01:59:59               490.104534                61.961163   \n",
       "2016-09-01 02:59:59               489.617969                66.903807   \n",
       "\n",
       "                     rougher.input.feed_sol  rougher.input.feed_au  \\\n",
       "date                                                                 \n",
       "2016-09-01 00:59:59               42.022440              12.084103   \n",
       "2016-09-01 01:59:59               41.187903              11.918977   \n",
       "2016-09-01 02:59:59               42.546294              12.091332   \n",
       "\n",
       "                     rougher.input.floatbank10_sulfate  \\\n",
       "date                                                     \n",
       "2016-09-01 00:59:59                          16.922877   \n",
       "2016-09-01 01:59:59                          17.002532   \n",
       "2016-09-01 02:59:59                          16.992520   \n",
       "\n",
       "                     rougher.input.floatbank10_xanthate  \\\n",
       "date                                                      \n",
       "2016-09-01 00:59:59                            6.153479   \n",
       "2016-09-01 01:59:59                            5.999043   \n",
       "2016-09-01 02:59:59                            5.850632   \n",
       "\n",
       "                     rougher.input.floatbank11_sulfate  \\\n",
       "date                                                     \n",
       "2016-09-01 00:59:59                          16.867518   \n",
       "2016-09-01 01:59:59                          16.996063   \n",
       "2016-09-01 02:59:59                          16.982096   \n",
       "\n",
       "                     rougher.input.floatbank11_xanthate  \\\n",
       "date                                                      \n",
       "2016-09-01 00:59:59                            6.150709   \n",
       "2016-09-01 01:59:59                            6.002315   \n",
       "2016-09-01 02:59:59                            5.853594   \n",
       "\n",
       "                     rougher.state.floatbank10_a_air  \\\n",
       "date                                                   \n",
       "2016-09-01 00:59:59                      1001.849317   \n",
       "2016-09-01 01:59:59                       998.690785   \n",
       "2016-09-01 02:59:59                       998.516720   \n",
       "\n",
       "                     rougher.state.floatbank10_a_level  \\\n",
       "date                                                     \n",
       "2016-09-01 00:59:59                        -350.301265   \n",
       "2016-09-01 01:59:59                        -350.425704   \n",
       "2016-09-01 02:59:59                        -349.783538   \n",
       "\n",
       "                     rougher.state.floatbank10_b_air  \\\n",
       "date                                                   \n",
       "2016-09-01 00:59:59                      1249.738612   \n",
       "2016-09-01 01:59:59                      1248.395457   \n",
       "2016-09-01 02:59:59                      1247.440748   \n",
       "\n",
       "                     rougher.state.floatbank10_b_level  \\\n",
       "date                                                     \n",
       "2016-09-01 00:59:59                        -399.107531   \n",
       "2016-09-01 01:59:59                        -399.946025   \n",
       "2016-09-01 02:59:59                        -400.264330   \n",
       "\n",
       "                     rougher.state.floatbank10_c_air  \\\n",
       "date                                                   \n",
       "2016-09-01 00:59:59                      1249.750520   \n",
       "2016-09-01 01:59:59                      1249.514451   \n",
       "2016-09-01 02:59:59                      1248.207204   \n",
       "\n",
       "                     rougher.state.floatbank10_c_level  \\\n",
       "date                                                     \n",
       "2016-09-01 00:59:59                        -399.396730   \n",
       "2016-09-01 01:59:59                        -399.630810   \n",
       "2016-09-01 02:59:59                        -401.074405   \n",
       "\n",
       "                     rougher.state.floatbank10_d_air  \\\n",
       "date                                                   \n",
       "2016-09-01 00:59:59                      1198.287855   \n",
       "2016-09-01 01:59:59                      1200.506459   \n",
       "2016-09-01 02:59:59                      1199.770026   \n",
       "\n",
       "                     rougher.state.floatbank10_d_level  \\\n",
       "date                                                     \n",
       "2016-09-01 00:59:59                        -399.488594   \n",
       "2016-09-01 01:59:59                        -399.942434   \n",
       "2016-09-01 02:59:59                        -400.790582   \n",
       "\n",
       "                     rougher.state.floatbank10_e_air  \\\n",
       "date                                                   \n",
       "2016-09-01 00:59:59                       999.472250   \n",
       "2016-09-01 01:59:59                      1000.002114   \n",
       "2016-09-01 02:59:59                       999.925519   \n",
       "\n",
       "                     rougher.state.floatbank10_e_level  \\\n",
       "date                                                     \n",
       "2016-09-01 00:59:59                        -399.530962   \n",
       "2016-09-01 01:59:59                        -399.491528   \n",
       "2016-09-01 02:59:59                        -399.236999   \n",
       "\n",
       "                     rougher.state.floatbank10_f_air  \\\n",
       "date                                                   \n",
       "2016-09-01 00:59:59                       949.566189   \n",
       "2016-09-01 01:59:59                       950.200009   \n",
       "2016-09-01 02:59:59                       950.320481   \n",
       "\n",
       "                     rougher.state.floatbank10_f_level  \\\n",
       "date                                                     \n",
       "2016-09-01 00:59:59                        -398.180807   \n",
       "2016-09-01 01:59:59                        -405.787514   \n",
       "2016-09-01 02:59:59                        -400.864340   \n",
       "\n",
       "                     secondary_cleaner.state.floatbank2_a_air  \\\n",
       "date                                                            \n",
       "2016-09-01 00:59:59                                 24.938200   \n",
       "2016-09-01 01:59:59                                 24.923466   \n",
       "2016-09-01 02:59:59                                 24.908732   \n",
       "\n",
       "                     secondary_cleaner.state.floatbank2_a_level  \\\n",
       "date                                                              \n",
       "2016-09-01 00:59:59                                 -500.490963   \n",
       "2016-09-01 01:59:59                                 -499.813963   \n",
       "2016-09-01 02:59:59                                 -500.304035   \n",
       "\n",
       "                     secondary_cleaner.state.floatbank2_b_air  \\\n",
       "date                                                            \n",
       "2016-09-01 00:59:59                                 14.947607   \n",
       "2016-09-01 01:59:59                                 14.930873   \n",
       "2016-09-01 02:59:59                                 14.996511   \n",
       "\n",
       "                     secondary_cleaner.state.floatbank2_b_level  \\\n",
       "date                                                              \n",
       "2016-09-01 00:59:59                                 -500.013837   \n",
       "2016-09-01 01:59:59                                 -500.764452   \n",
       "2016-09-01 02:59:59                                 -500.993821   \n",
       "\n",
       "                     secondary_cleaner.state.floatbank3_a_air  \\\n",
       "date                                                            \n",
       "2016-09-01 00:59:59                                 20.018166   \n",
       "2016-09-01 01:59:59                                 19.988503   \n",
       "2016-09-01 02:59:59                                 20.039689   \n",
       "\n",
       "                     secondary_cleaner.state.floatbank3_a_level  \\\n",
       "date                                                              \n",
       "2016-09-01 00:59:59                                 -450.395995   \n",
       "2016-09-01 01:59:59                                 -450.114024   \n",
       "2016-09-01 02:59:59                                 -450.263164   \n",
       "\n",
       "                     secondary_cleaner.state.floatbank3_b_air  \\\n",
       "date                                                            \n",
       "2016-09-01 00:59:59                                 13.987058   \n",
       "2016-09-01 01:59:59                                 14.092981   \n",
       "2016-09-01 02:59:59                                 14.077881   \n",
       "\n",
       "                     secondary_cleaner.state.floatbank3_b_level  \\\n",
       "date                                                              \n",
       "2016-09-01 00:59:59                                 -449.831513   \n",
       "2016-09-01 01:59:59                                 -450.059163   \n",
       "2016-09-01 02:59:59                                 -449.660997   \n",
       "\n",
       "                     secondary_cleaner.state.floatbank4_a_air  \\\n",
       "date                                                            \n",
       "2016-09-01 00:59:59                                 12.023554   \n",
       "2016-09-01 01:59:59                                 12.058140   \n",
       "2016-09-01 02:59:59                                 11.962366   \n",
       "\n",
       "                     secondary_cleaner.state.floatbank4_a_level  \\\n",
       "date                                                              \n",
       "2016-09-01 00:59:59                                 -497.795834   \n",
       "2016-09-01 01:59:59                                 -498.695773   \n",
       "2016-09-01 02:59:59                                 -498.767484   \n",
       "\n",
       "                     secondary_cleaner.state.floatbank4_b_air  \\\n",
       "date                                                            \n",
       "2016-09-01 00:59:59                                  8.016656   \n",
       "2016-09-01 01:59:59                                  8.130979   \n",
       "2016-09-01 02:59:59                                  8.096893   \n",
       "\n",
       "                     secondary_cleaner.state.floatbank4_b_level  \\\n",
       "date                                                              \n",
       "2016-09-01 00:59:59                                 -501.289139   \n",
       "2016-09-01 01:59:59                                 -499.634209   \n",
       "2016-09-01 02:59:59                                 -500.827423   \n",
       "\n",
       "                     secondary_cleaner.state.floatbank5_a_air  \\\n",
       "date                                                            \n",
       "2016-09-01 00:59:59                                  7.946562   \n",
       "2016-09-01 01:59:59                                  7.958270   \n",
       "2016-09-01 02:59:59                                  8.071056   \n",
       "\n",
       "                     secondary_cleaner.state.floatbank5_a_level  \\\n",
       "date                                                              \n",
       "2016-09-01 00:59:59                                 -432.317850   \n",
       "2016-09-01 01:59:59                                 -525.839648   \n",
       "2016-09-01 02:59:59                                 -500.801673   \n",
       "\n",
       "                     secondary_cleaner.state.floatbank5_b_air  \\\n",
       "date                                                            \n",
       "2016-09-01 00:59:59                                  4.872511   \n",
       "2016-09-01 01:59:59                                  4.878850   \n",
       "2016-09-01 02:59:59                                  4.905125   \n",
       "\n",
       "                     secondary_cleaner.state.floatbank5_b_level  \\\n",
       "date                                                              \n",
       "2016-09-01 00:59:59                                 -500.037437   \n",
       "2016-09-01 01:59:59                                 -500.162375   \n",
       "2016-09-01 02:59:59                                 -499.828510   \n",
       "\n",
       "                     secondary_cleaner.state.floatbank6_a_air  \\\n",
       "date                                                            \n",
       "2016-09-01 00:59:59                                 26.705889   \n",
       "2016-09-01 01:59:59                                 25.019940   \n",
       "2016-09-01 02:59:59                                 24.994862   \n",
       "\n",
       "                     secondary_cleaner.state.floatbank6_a_level  \n",
       "date                                                             \n",
       "2016-09-01 00:59:59                                 -499.709414  \n",
       "2016-09-01 01:59:59                                 -499.819438  \n",
       "2016-09-01 02:59:59                                 -500.622559  "
      ]
     },
     "execution_count": 7,
     "metadata": {},
     "output_type": "execute_result"
    }
   ],
   "source": [
    "df_gold_test.head(3)"
   ]
  },
  {
   "cell_type": "code",
   "execution_count": 8,
   "metadata": {
    "collapsed": true
   },
   "outputs": [
    {
     "name": "stdout",
     "output_type": "stream",
     "text": [
      "<class 'pandas.core.frame.DataFrame'>\n",
      "Index: 5290 entries, 2016-09-01 00:59:59 to 2017-12-31 23:59:59\n",
      "Data columns (total 52 columns):\n",
      " #   Column                                      Non-Null Count  Dtype  \n",
      "---  ------                                      --------------  -----  \n",
      " 0   primary_cleaner.input.sulfate               5286 non-null   float64\n",
      " 1   primary_cleaner.input.depressant            5285 non-null   float64\n",
      " 2   primary_cleaner.input.feed_size             5290 non-null   float64\n",
      " 3   primary_cleaner.input.xanthate              5286 non-null   float64\n",
      " 4   primary_cleaner.state.floatbank8_a_air      5290 non-null   float64\n",
      " 5   primary_cleaner.state.floatbank8_a_level    5290 non-null   float64\n",
      " 6   primary_cleaner.state.floatbank8_b_air      5290 non-null   float64\n",
      " 7   primary_cleaner.state.floatbank8_b_level    5290 non-null   float64\n",
      " 8   primary_cleaner.state.floatbank8_c_air      5290 non-null   float64\n",
      " 9   primary_cleaner.state.floatbank8_c_level    5290 non-null   float64\n",
      " 10  primary_cleaner.state.floatbank8_d_air      5290 non-null   float64\n",
      " 11  primary_cleaner.state.floatbank8_d_level    5290 non-null   float64\n",
      " 12  rougher.input.feed_ag                       5290 non-null   float64\n",
      " 13  rougher.input.feed_pb                       5290 non-null   float64\n",
      " 14  rougher.input.feed_rate                     5287 non-null   float64\n",
      " 15  rougher.input.feed_size                     5289 non-null   float64\n",
      " 16  rougher.input.feed_sol                      5269 non-null   float64\n",
      " 17  rougher.input.feed_au                       5290 non-null   float64\n",
      " 18  rougher.input.floatbank10_sulfate           5285 non-null   float64\n",
      " 19  rougher.input.floatbank10_xanthate          5290 non-null   float64\n",
      " 20  rougher.input.floatbank11_sulfate           5282 non-null   float64\n",
      " 21  rougher.input.floatbank11_xanthate          5265 non-null   float64\n",
      " 22  rougher.state.floatbank10_a_air             5290 non-null   float64\n",
      " 23  rougher.state.floatbank10_a_level           5290 non-null   float64\n",
      " 24  rougher.state.floatbank10_b_air             5290 non-null   float64\n",
      " 25  rougher.state.floatbank10_b_level           5290 non-null   float64\n",
      " 26  rougher.state.floatbank10_c_air             5290 non-null   float64\n",
      " 27  rougher.state.floatbank10_c_level           5290 non-null   float64\n",
      " 28  rougher.state.floatbank10_d_air             5290 non-null   float64\n",
      " 29  rougher.state.floatbank10_d_level           5290 non-null   float64\n",
      " 30  rougher.state.floatbank10_e_air             5290 non-null   float64\n",
      " 31  rougher.state.floatbank10_e_level           5290 non-null   float64\n",
      " 32  rougher.state.floatbank10_f_air             5290 non-null   float64\n",
      " 33  rougher.state.floatbank10_f_level           5290 non-null   float64\n",
      " 34  secondary_cleaner.state.floatbank2_a_air    5287 non-null   float64\n",
      " 35  secondary_cleaner.state.floatbank2_a_level  5290 non-null   float64\n",
      " 36  secondary_cleaner.state.floatbank2_b_air    5288 non-null   float64\n",
      " 37  secondary_cleaner.state.floatbank2_b_level  5290 non-null   float64\n",
      " 38  secondary_cleaner.state.floatbank3_a_air    5281 non-null   float64\n",
      " 39  secondary_cleaner.state.floatbank3_a_level  5290 non-null   float64\n",
      " 40  secondary_cleaner.state.floatbank3_b_air    5290 non-null   float64\n",
      " 41  secondary_cleaner.state.floatbank3_b_level  5290 non-null   float64\n",
      " 42  secondary_cleaner.state.floatbank4_a_air    5290 non-null   float64\n",
      " 43  secondary_cleaner.state.floatbank4_a_level  5290 non-null   float64\n",
      " 44  secondary_cleaner.state.floatbank4_b_air    5290 non-null   float64\n",
      " 45  secondary_cleaner.state.floatbank4_b_level  5290 non-null   float64\n",
      " 46  secondary_cleaner.state.floatbank5_a_air    5290 non-null   float64\n",
      " 47  secondary_cleaner.state.floatbank5_a_level  5290 non-null   float64\n",
      " 48  secondary_cleaner.state.floatbank5_b_air    5290 non-null   float64\n",
      " 49  secondary_cleaner.state.floatbank5_b_level  5290 non-null   float64\n",
      " 50  secondary_cleaner.state.floatbank6_a_air    5290 non-null   float64\n",
      " 51  secondary_cleaner.state.floatbank6_a_level  5290 non-null   float64\n",
      "dtypes: float64(52)\n",
      "memory usage: 2.1+ MB\n"
     ]
    }
   ],
   "source": [
    "df_gold_test.info()"
   ]
  },
  {
   "cell_type": "code",
   "execution_count": 9,
   "metadata": {},
   "outputs": [
    {
     "data": {
      "text/html": [
       "<div>\n",
       "<style scoped>\n",
       "    .dataframe tbody tr th:only-of-type {\n",
       "        vertical-align: middle;\n",
       "    }\n",
       "\n",
       "    .dataframe tbody tr th {\n",
       "        vertical-align: top;\n",
       "    }\n",
       "\n",
       "    .dataframe thead th {\n",
       "        text-align: right;\n",
       "    }\n",
       "</style>\n",
       "<table border=\"1\" class=\"dataframe\">\n",
       "  <thead>\n",
       "    <tr style=\"text-align: right;\">\n",
       "      <th></th>\n",
       "      <th>primary_cleaner.input.sulfate</th>\n",
       "      <th>primary_cleaner.input.depressant</th>\n",
       "      <th>primary_cleaner.input.feed_size</th>\n",
       "      <th>primary_cleaner.input.xanthate</th>\n",
       "      <th>primary_cleaner.state.floatbank8_a_air</th>\n",
       "      <th>primary_cleaner.state.floatbank8_a_level</th>\n",
       "      <th>primary_cleaner.state.floatbank8_b_air</th>\n",
       "      <th>primary_cleaner.state.floatbank8_b_level</th>\n",
       "      <th>primary_cleaner.state.floatbank8_c_air</th>\n",
       "      <th>primary_cleaner.state.floatbank8_c_level</th>\n",
       "      <th>primary_cleaner.state.floatbank8_d_air</th>\n",
       "      <th>primary_cleaner.state.floatbank8_d_level</th>\n",
       "      <th>rougher.input.feed_ag</th>\n",
       "      <th>rougher.input.feed_pb</th>\n",
       "      <th>rougher.input.feed_rate</th>\n",
       "      <th>rougher.input.feed_size</th>\n",
       "      <th>rougher.input.feed_sol</th>\n",
       "      <th>rougher.input.feed_au</th>\n",
       "      <th>rougher.input.floatbank10_sulfate</th>\n",
       "      <th>rougher.input.floatbank10_xanthate</th>\n",
       "      <th>rougher.input.floatbank11_sulfate</th>\n",
       "      <th>rougher.input.floatbank11_xanthate</th>\n",
       "      <th>rougher.state.floatbank10_a_air</th>\n",
       "      <th>rougher.state.floatbank10_a_level</th>\n",
       "      <th>rougher.state.floatbank10_b_air</th>\n",
       "      <th>rougher.state.floatbank10_b_level</th>\n",
       "      <th>rougher.state.floatbank10_c_air</th>\n",
       "      <th>rougher.state.floatbank10_c_level</th>\n",
       "      <th>rougher.state.floatbank10_d_air</th>\n",
       "      <th>rougher.state.floatbank10_d_level</th>\n",
       "      <th>rougher.state.floatbank10_e_air</th>\n",
       "      <th>rougher.state.floatbank10_e_level</th>\n",
       "      <th>rougher.state.floatbank10_f_air</th>\n",
       "      <th>rougher.state.floatbank10_f_level</th>\n",
       "      <th>secondary_cleaner.state.floatbank2_a_air</th>\n",
       "      <th>secondary_cleaner.state.floatbank2_a_level</th>\n",
       "      <th>secondary_cleaner.state.floatbank2_b_air</th>\n",
       "      <th>secondary_cleaner.state.floatbank2_b_level</th>\n",
       "      <th>secondary_cleaner.state.floatbank3_a_air</th>\n",
       "      <th>secondary_cleaner.state.floatbank3_a_level</th>\n",
       "      <th>secondary_cleaner.state.floatbank3_b_air</th>\n",
       "      <th>secondary_cleaner.state.floatbank3_b_level</th>\n",
       "      <th>secondary_cleaner.state.floatbank4_a_air</th>\n",
       "      <th>secondary_cleaner.state.floatbank4_a_level</th>\n",
       "      <th>secondary_cleaner.state.floatbank4_b_air</th>\n",
       "      <th>secondary_cleaner.state.floatbank4_b_level</th>\n",
       "      <th>secondary_cleaner.state.floatbank5_a_air</th>\n",
       "      <th>secondary_cleaner.state.floatbank5_a_level</th>\n",
       "      <th>secondary_cleaner.state.floatbank5_b_air</th>\n",
       "      <th>secondary_cleaner.state.floatbank5_b_level</th>\n",
       "      <th>secondary_cleaner.state.floatbank6_a_air</th>\n",
       "      <th>secondary_cleaner.state.floatbank6_a_level</th>\n",
       "    </tr>\n",
       "  </thead>\n",
       "  <tbody>\n",
       "    <tr>\n",
       "      <th>count</th>\n",
       "      <td>5286.000000</td>\n",
       "      <td>5285.000000</td>\n",
       "      <td>5290.000000</td>\n",
       "      <td>5286.000000</td>\n",
       "      <td>5.290000e+03</td>\n",
       "      <td>5290.000000</td>\n",
       "      <td>5.290000e+03</td>\n",
       "      <td>5290.000000</td>\n",
       "      <td>5.290000e+03</td>\n",
       "      <td>5290.000000</td>\n",
       "      <td>5.290000e+03</td>\n",
       "      <td>5290.000000</td>\n",
       "      <td>5290.000000</td>\n",
       "      <td>5290.000000</td>\n",
       "      <td>5287.000000</td>\n",
       "      <td>5289.000000</td>\n",
       "      <td>5269.000000</td>\n",
       "      <td>5290.000000</td>\n",
       "      <td>5285.000000</td>\n",
       "      <td>5290.000000</td>\n",
       "      <td>5282.000000</td>\n",
       "      <td>5265.000000</td>\n",
       "      <td>5290.000000</td>\n",
       "      <td>5290.000000</td>\n",
       "      <td>5290.000000</td>\n",
       "      <td>5290.000000</td>\n",
       "      <td>5290.000000</td>\n",
       "      <td>5290.000000</td>\n",
       "      <td>5290.000000</td>\n",
       "      <td>5290.000000</td>\n",
       "      <td>5290.000000</td>\n",
       "      <td>5290.000000</td>\n",
       "      <td>5290.000000</td>\n",
       "      <td>5290.000000</td>\n",
       "      <td>5287.000000</td>\n",
       "      <td>5290.000000</td>\n",
       "      <td>5288.000000</td>\n",
       "      <td>5290.000000</td>\n",
       "      <td>5281.000000</td>\n",
       "      <td>5290.000000</td>\n",
       "      <td>5.290000e+03</td>\n",
       "      <td>5290.000000</td>\n",
       "      <td>5.290000e+03</td>\n",
       "      <td>5290.000000</td>\n",
       "      <td>5.290000e+03</td>\n",
       "      <td>5290.000000</td>\n",
       "      <td>5290.000000</td>\n",
       "      <td>5290.000000</td>\n",
       "      <td>5290.000000</td>\n",
       "      <td>5290.000000</td>\n",
       "      <td>5290.000000</td>\n",
       "      <td>5290.000000</td>\n",
       "    </tr>\n",
       "    <tr>\n",
       "      <th>mean</th>\n",
       "      <td>174.839652</td>\n",
       "      <td>8.683596</td>\n",
       "      <td>7.266339</td>\n",
       "      <td>1.383803</td>\n",
       "      <td>1.539494e+03</td>\n",
       "      <td>-497.665883</td>\n",
       "      <td>1.545174e+03</td>\n",
       "      <td>-500.273098</td>\n",
       "      <td>1.527272e+03</td>\n",
       "      <td>-498.330680</td>\n",
       "      <td>1.544844e+03</td>\n",
       "      <td>-500.199527</td>\n",
       "      <td>9.371940</td>\n",
       "      <td>3.798082</td>\n",
       "      <td>489.800620</td>\n",
       "      <td>55.951097</td>\n",
       "      <td>37.716648</td>\n",
       "      <td>9.334682</td>\n",
       "      <td>13.855759</td>\n",
       "      <td>6.467745</td>\n",
       "      <td>13.922328</td>\n",
       "      <td>6.512103</td>\n",
       "      <td>1053.400166</td>\n",
       "      <td>-395.732530</td>\n",
       "      <td>1318.926879</td>\n",
       "      <td>-475.241428</td>\n",
       "      <td>1301.595477</td>\n",
       "      <td>-474.836671</td>\n",
       "      <td>1214.847960</td>\n",
       "      <td>-475.682272</td>\n",
       "      <td>1056.648995</td>\n",
       "      <td>-469.029688</td>\n",
       "      <td>997.949719</td>\n",
       "      <td>-470.482465</td>\n",
       "      <td>26.312630</td>\n",
       "      <td>-502.750897</td>\n",
       "      <td>21.949119</td>\n",
       "      <td>-501.987097</td>\n",
       "      <td>25.402926</td>\n",
       "      <td>-507.490314</td>\n",
       "      <td>2.098211e+01</td>\n",
       "      <td>-506.627916</td>\n",
       "      <td>1.632007e+01</td>\n",
       "      <td>-505.144570</td>\n",
       "      <td>1.373544e+01</td>\n",
       "      <td>-463.349858</td>\n",
       "      <td>12.804186</td>\n",
       "      <td>-501.329122</td>\n",
       "      <td>9.881145</td>\n",
       "      <td>-495.663398</td>\n",
       "      <td>17.304935</td>\n",
       "      <td>-501.793193</td>\n",
       "    </tr>\n",
       "    <tr>\n",
       "      <th>std</th>\n",
       "      <td>43.027080</td>\n",
       "      <td>3.072050</td>\n",
       "      <td>0.610219</td>\n",
       "      <td>0.643474</td>\n",
       "      <td>1.167979e+02</td>\n",
       "      <td>19.952431</td>\n",
       "      <td>1.222246e+02</td>\n",
       "      <td>32.968307</td>\n",
       "      <td>1.225380e+02</td>\n",
       "      <td>21.964876</td>\n",
       "      <td>1.247731e+02</td>\n",
       "      <td>31.045257</td>\n",
       "      <td>1.926264</td>\n",
       "      <td>0.954859</td>\n",
       "      <td>108.036326</td>\n",
       "      <td>19.081758</td>\n",
       "      <td>5.491415</td>\n",
       "      <td>1.619521</td>\n",
       "      <td>3.350852</td>\n",
       "      <td>1.065114</td>\n",
       "      <td>3.223769</td>\n",
       "      <td>0.886989</td>\n",
       "      <td>121.139309</td>\n",
       "      <td>91.085505</td>\n",
       "      <td>156.450366</td>\n",
       "      <td>45.649466</td>\n",
       "      <td>171.269667</td>\n",
       "      <td>45.859866</td>\n",
       "      <td>185.763319</td>\n",
       "      <td>47.844967</td>\n",
       "      <td>131.542839</td>\n",
       "      <td>59.325990</td>\n",
       "      <td>128.218869</td>\n",
       "      <td>60.759318</td>\n",
       "      <td>3.429852</td>\n",
       "      <td>28.756505</td>\n",
       "      <td>4.354961</td>\n",
       "      <td>34.582722</td>\n",
       "      <td>6.526457</td>\n",
       "      <td>47.620908</td>\n",
       "      <td>6.736179e+00</td>\n",
       "      <td>44.528673</td>\n",
       "      <td>3.493583e+00</td>\n",
       "      <td>31.427337</td>\n",
       "      <td>3.430484e+00</td>\n",
       "      <td>86.189107</td>\n",
       "      <td>3.026591</td>\n",
       "      <td>17.951495</td>\n",
       "      <td>2.868205</td>\n",
       "      <td>34.535007</td>\n",
       "      <td>4.536544</td>\n",
       "      <td>39.044215</td>\n",
       "    </tr>\n",
       "    <tr>\n",
       "      <th>min</th>\n",
       "      <td>2.566156</td>\n",
       "      <td>0.003839</td>\n",
       "      <td>5.650000</td>\n",
       "      <td>0.004984</td>\n",
       "      <td>5.445860e-32</td>\n",
       "      <td>-795.316337</td>\n",
       "      <td>6.647490e-32</td>\n",
       "      <td>-799.997015</td>\n",
       "      <td>4.033736e-32</td>\n",
       "      <td>-799.960571</td>\n",
       "      <td>4.039220e-32</td>\n",
       "      <td>-799.794250</td>\n",
       "      <td>0.568441</td>\n",
       "      <td>0.273677</td>\n",
       "      <td>0.002986</td>\n",
       "      <td>0.046369</td>\n",
       "      <td>1.393488</td>\n",
       "      <td>0.568632</td>\n",
       "      <td>0.001147</td>\n",
       "      <td>0.000568</td>\n",
       "      <td>0.000077</td>\n",
       "      <td>0.006985</td>\n",
       "      <td>-0.042069</td>\n",
       "      <td>-657.949759</td>\n",
       "      <td>-0.721806</td>\n",
       "      <td>-650.245277</td>\n",
       "      <td>-0.056636</td>\n",
       "      <td>-647.544439</td>\n",
       "      <td>-0.992219</td>\n",
       "      <td>-648.390665</td>\n",
       "      <td>-1.982295</td>\n",
       "      <td>-649.267537</td>\n",
       "      <td>-2.593390</td>\n",
       "      <td>-649.949283</td>\n",
       "      <td>0.205329</td>\n",
       "      <td>-784.091091</td>\n",
       "      <td>0.006064</td>\n",
       "      <td>-797.783989</td>\n",
       "      <td>0.000000</td>\n",
       "      <td>-799.755798</td>\n",
       "      <td>1.521587e-17</td>\n",
       "      <td>-809.333008</td>\n",
       "      <td>1.079872e-16</td>\n",
       "      <td>-799.798523</td>\n",
       "      <td>2.489718e-17</td>\n",
       "      <td>-800.836914</td>\n",
       "      <td>0.069227</td>\n",
       "      <td>-797.323986</td>\n",
       "      <td>0.528083</td>\n",
       "      <td>-800.220337</td>\n",
       "      <td>-0.079426</td>\n",
       "      <td>-809.741464</td>\n",
       "    </tr>\n",
       "    <tr>\n",
       "      <th>25%</th>\n",
       "      <td>147.121401</td>\n",
       "      <td>6.489555</td>\n",
       "      <td>6.890000</td>\n",
       "      <td>0.907623</td>\n",
       "      <td>1.498936e+03</td>\n",
       "      <td>-500.357298</td>\n",
       "      <td>1.498971e+03</td>\n",
       "      <td>-500.703002</td>\n",
       "      <td>1.473230e+03</td>\n",
       "      <td>-501.018117</td>\n",
       "      <td>1.499481e+03</td>\n",
       "      <td>-500.452469</td>\n",
       "      <td>8.112434</td>\n",
       "      <td>3.240251</td>\n",
       "      <td>407.020883</td>\n",
       "      <td>43.906347</td>\n",
       "      <td>34.505576</td>\n",
       "      <td>8.207814</td>\n",
       "      <td>11.995006</td>\n",
       "      <td>5.998779</td>\n",
       "      <td>11.997200</td>\n",
       "      <td>5.999157</td>\n",
       "      <td>999.205344</td>\n",
       "      <td>-499.920565</td>\n",
       "      <td>1200.871883</td>\n",
       "      <td>-500.256114</td>\n",
       "      <td>1199.651371</td>\n",
       "      <td>-500.233831</td>\n",
       "      <td>1093.368068</td>\n",
       "      <td>-500.440610</td>\n",
       "      <td>999.361403</td>\n",
       "      <td>-500.190639</td>\n",
       "      <td>901.024994</td>\n",
       "      <td>-500.624783</td>\n",
       "      <td>24.942328</td>\n",
       "      <td>-500.206517</td>\n",
       "      <td>20.002315</td>\n",
       "      <td>-500.218030</td>\n",
       "      <td>22.982288</td>\n",
       "      <td>-500.297951</td>\n",
       "      <td>1.796786e+01</td>\n",
       "      <td>-500.145128</td>\n",
       "      <td>1.403618e+01</td>\n",
       "      <td>-500.868258</td>\n",
       "      <td>1.202862e+01</td>\n",
       "      <td>-500.323028</td>\n",
       "      <td>10.914838</td>\n",
       "      <td>-500.726841</td>\n",
       "      <td>8.036719</td>\n",
       "      <td>-500.194668</td>\n",
       "      <td>13.997317</td>\n",
       "      <td>-500.690984</td>\n",
       "    </tr>\n",
       "    <tr>\n",
       "      <th>50%</th>\n",
       "      <td>177.828489</td>\n",
       "      <td>8.052207</td>\n",
       "      <td>7.250000</td>\n",
       "      <td>1.197610</td>\n",
       "      <td>1.585129e+03</td>\n",
       "      <td>-499.969164</td>\n",
       "      <td>1.595622e+03</td>\n",
       "      <td>-500.028514</td>\n",
       "      <td>1.549595e+03</td>\n",
       "      <td>-500.017711</td>\n",
       "      <td>1.594579e+03</td>\n",
       "      <td>-500.023307</td>\n",
       "      <td>9.762654</td>\n",
       "      <td>3.740716</td>\n",
       "      <td>499.051440</td>\n",
       "      <td>50.841029</td>\n",
       "      <td>37.980276</td>\n",
       "      <td>9.593766</td>\n",
       "      <td>14.003126</td>\n",
       "      <td>6.498181</td>\n",
       "      <td>14.004371</td>\n",
       "      <td>6.498744</td>\n",
       "      <td>1000.472055</td>\n",
       "      <td>-399.693363</td>\n",
       "      <td>1302.254995</td>\n",
       "      <td>-499.837803</td>\n",
       "      <td>1300.202274</td>\n",
       "      <td>-499.777222</td>\n",
       "      <td>1207.014092</td>\n",
       "      <td>-499.691917</td>\n",
       "      <td>1047.495449</td>\n",
       "      <td>-499.765796</td>\n",
       "      <td>999.441879</td>\n",
       "      <td>-499.680986</td>\n",
       "      <td>26.910569</td>\n",
       "      <td>-500.003902</td>\n",
       "      <td>22.942603</td>\n",
       "      <td>-500.019058</td>\n",
       "      <td>25.010105</td>\n",
       "      <td>-500.034578</td>\n",
       "      <td>2.100316e+01</td>\n",
       "      <td>-500.013819</td>\n",
       "      <td>1.700847e+01</td>\n",
       "      <td>-500.115727</td>\n",
       "      <td>1.496486e+01</td>\n",
       "      <td>-499.576513</td>\n",
       "      <td>12.954182</td>\n",
       "      <td>-499.990332</td>\n",
       "      <td>10.004301</td>\n",
       "      <td>-499.990535</td>\n",
       "      <td>16.014935</td>\n",
       "      <td>-500.007126</td>\n",
       "    </tr>\n",
       "    <tr>\n",
       "      <th>75%</th>\n",
       "      <td>208.125438</td>\n",
       "      <td>10.027764</td>\n",
       "      <td>7.600000</td>\n",
       "      <td>1.797819</td>\n",
       "      <td>1.602077e+03</td>\n",
       "      <td>-499.568951</td>\n",
       "      <td>1.602324e+03</td>\n",
       "      <td>-499.293257</td>\n",
       "      <td>1.601144e+03</td>\n",
       "      <td>-498.994130</td>\n",
       "      <td>1.600965e+03</td>\n",
       "      <td>-499.607040</td>\n",
       "      <td>10.652297</td>\n",
       "      <td>4.282634</td>\n",
       "      <td>575.307213</td>\n",
       "      <td>62.431047</td>\n",
       "      <td>41.635385</td>\n",
       "      <td>10.463538</td>\n",
       "      <td>16.974284</td>\n",
       "      <td>7.085457</td>\n",
       "      <td>16.959671</td>\n",
       "      <td>7.091808</td>\n",
       "      <td>1006.254299</td>\n",
       "      <td>-300.060056</td>\n",
       "      <td>1433.955649</td>\n",
       "      <td>-450.749619</td>\n",
       "      <td>1406.594956</td>\n",
       "      <td>-451.153188</td>\n",
       "      <td>1391.497269</td>\n",
       "      <td>-452.483463</td>\n",
       "      <td>1101.365315</td>\n",
       "      <td>-450.957513</td>\n",
       "      <td>1050.433005</td>\n",
       "      <td>-451.986460</td>\n",
       "      <td>28.091885</td>\n",
       "      <td>-499.791639</td>\n",
       "      <td>24.985013</td>\n",
       "      <td>-499.831532</td>\n",
       "      <td>30.002063</td>\n",
       "      <td>-499.780163</td>\n",
       "      <td>2.697698e+01</td>\n",
       "      <td>-499.890608</td>\n",
       "      <td>1.803862e+01</td>\n",
       "      <td>-499.404224</td>\n",
       "      <td>1.596213e+01</td>\n",
       "      <td>-400.933805</td>\n",
       "      <td>15.097528</td>\n",
       "      <td>-499.283191</td>\n",
       "      <td>11.997467</td>\n",
       "      <td>-499.719913</td>\n",
       "      <td>21.020013</td>\n",
       "      <td>-499.373018</td>\n",
       "    </tr>\n",
       "    <tr>\n",
       "      <th>max</th>\n",
       "      <td>265.983123</td>\n",
       "      <td>40.000000</td>\n",
       "      <td>15.500000</td>\n",
       "      <td>4.102454</td>\n",
       "      <td>2.103104e+03</td>\n",
       "      <td>-57.195404</td>\n",
       "      <td>1.813084e+03</td>\n",
       "      <td>-142.527229</td>\n",
       "      <td>1.715054e+03</td>\n",
       "      <td>-150.937035</td>\n",
       "      <td>1.913257e+03</td>\n",
       "      <td>-158.950573</td>\n",
       "      <td>14.406130</td>\n",
       "      <td>6.905684</td>\n",
       "      <td>707.364020</td>\n",
       "      <td>392.494040</td>\n",
       "      <td>53.477742</td>\n",
       "      <td>13.731330</td>\n",
       "      <td>24.280636</td>\n",
       "      <td>8.910468</td>\n",
       "      <td>24.280966</td>\n",
       "      <td>8.621338</td>\n",
       "      <td>1423.274687</td>\n",
       "      <td>-273.776101</td>\n",
       "      <td>1706.640419</td>\n",
       "      <td>-298.200051</td>\n",
       "      <td>1731.017788</td>\n",
       "      <td>-298.036852</td>\n",
       "      <td>1775.218584</td>\n",
       "      <td>-76.397327</td>\n",
       "      <td>1467.184843</td>\n",
       "      <td>-139.753025</td>\n",
       "      <td>1476.588107</td>\n",
       "      <td>-249.801043</td>\n",
       "      <td>32.138727</td>\n",
       "      <td>-300.343670</td>\n",
       "      <td>28.165864</td>\n",
       "      <td>-211.999273</td>\n",
       "      <td>40.041997</td>\n",
       "      <td>-313.866425</td>\n",
       "      <td>3.203936e+01</td>\n",
       "      <td>-202.277366</td>\n",
       "      <td>3.005180e+01</td>\n",
       "      <td>-401.565212</td>\n",
       "      <td>3.126971e+01</td>\n",
       "      <td>-6.506986</td>\n",
       "      <td>25.258848</td>\n",
       "      <td>-244.483566</td>\n",
       "      <td>14.086866</td>\n",
       "      <td>-137.740004</td>\n",
       "      <td>26.705889</td>\n",
       "      <td>-123.307487</td>\n",
       "    </tr>\n",
       "  </tbody>\n",
       "</table>\n",
       "</div>"
      ],
      "text/plain": [
       "       primary_cleaner.input.sulfate  primary_cleaner.input.depressant  \\\n",
       "count                    5286.000000                       5285.000000   \n",
       "mean                      174.839652                          8.683596   \n",
       "std                        43.027080                          3.072050   \n",
       "min                         2.566156                          0.003839   \n",
       "25%                       147.121401                          6.489555   \n",
       "50%                       177.828489                          8.052207   \n",
       "75%                       208.125438                         10.027764   \n",
       "max                       265.983123                         40.000000   \n",
       "\n",
       "       primary_cleaner.input.feed_size  primary_cleaner.input.xanthate  \\\n",
       "count                      5290.000000                     5286.000000   \n",
       "mean                          7.266339                        1.383803   \n",
       "std                           0.610219                        0.643474   \n",
       "min                           5.650000                        0.004984   \n",
       "25%                           6.890000                        0.907623   \n",
       "50%                           7.250000                        1.197610   \n",
       "75%                           7.600000                        1.797819   \n",
       "max                          15.500000                        4.102454   \n",
       "\n",
       "       primary_cleaner.state.floatbank8_a_air  \\\n",
       "count                            5.290000e+03   \n",
       "mean                             1.539494e+03   \n",
       "std                              1.167979e+02   \n",
       "min                              5.445860e-32   \n",
       "25%                              1.498936e+03   \n",
       "50%                              1.585129e+03   \n",
       "75%                              1.602077e+03   \n",
       "max                              2.103104e+03   \n",
       "\n",
       "       primary_cleaner.state.floatbank8_a_level  \\\n",
       "count                               5290.000000   \n",
       "mean                                -497.665883   \n",
       "std                                   19.952431   \n",
       "min                                 -795.316337   \n",
       "25%                                 -500.357298   \n",
       "50%                                 -499.969164   \n",
       "75%                                 -499.568951   \n",
       "max                                  -57.195404   \n",
       "\n",
       "       primary_cleaner.state.floatbank8_b_air  \\\n",
       "count                            5.290000e+03   \n",
       "mean                             1.545174e+03   \n",
       "std                              1.222246e+02   \n",
       "min                              6.647490e-32   \n",
       "25%                              1.498971e+03   \n",
       "50%                              1.595622e+03   \n",
       "75%                              1.602324e+03   \n",
       "max                              1.813084e+03   \n",
       "\n",
       "       primary_cleaner.state.floatbank8_b_level  \\\n",
       "count                               5290.000000   \n",
       "mean                                -500.273098   \n",
       "std                                   32.968307   \n",
       "min                                 -799.997015   \n",
       "25%                                 -500.703002   \n",
       "50%                                 -500.028514   \n",
       "75%                                 -499.293257   \n",
       "max                                 -142.527229   \n",
       "\n",
       "       primary_cleaner.state.floatbank8_c_air  \\\n",
       "count                            5.290000e+03   \n",
       "mean                             1.527272e+03   \n",
       "std                              1.225380e+02   \n",
       "min                              4.033736e-32   \n",
       "25%                              1.473230e+03   \n",
       "50%                              1.549595e+03   \n",
       "75%                              1.601144e+03   \n",
       "max                              1.715054e+03   \n",
       "\n",
       "       primary_cleaner.state.floatbank8_c_level  \\\n",
       "count                               5290.000000   \n",
       "mean                                -498.330680   \n",
       "std                                   21.964876   \n",
       "min                                 -799.960571   \n",
       "25%                                 -501.018117   \n",
       "50%                                 -500.017711   \n",
       "75%                                 -498.994130   \n",
       "max                                 -150.937035   \n",
       "\n",
       "       primary_cleaner.state.floatbank8_d_air  \\\n",
       "count                            5.290000e+03   \n",
       "mean                             1.544844e+03   \n",
       "std                              1.247731e+02   \n",
       "min                              4.039220e-32   \n",
       "25%                              1.499481e+03   \n",
       "50%                              1.594579e+03   \n",
       "75%                              1.600965e+03   \n",
       "max                              1.913257e+03   \n",
       "\n",
       "       primary_cleaner.state.floatbank8_d_level  rougher.input.feed_ag  \\\n",
       "count                               5290.000000            5290.000000   \n",
       "mean                                -500.199527               9.371940   \n",
       "std                                   31.045257               1.926264   \n",
       "min                                 -799.794250               0.568441   \n",
       "25%                                 -500.452469               8.112434   \n",
       "50%                                 -500.023307               9.762654   \n",
       "75%                                 -499.607040              10.652297   \n",
       "max                                 -158.950573              14.406130   \n",
       "\n",
       "       rougher.input.feed_pb  rougher.input.feed_rate  \\\n",
       "count            5290.000000              5287.000000   \n",
       "mean                3.798082               489.800620   \n",
       "std                 0.954859               108.036326   \n",
       "min                 0.273677                 0.002986   \n",
       "25%                 3.240251               407.020883   \n",
       "50%                 3.740716               499.051440   \n",
       "75%                 4.282634               575.307213   \n",
       "max                 6.905684               707.364020   \n",
       "\n",
       "       rougher.input.feed_size  rougher.input.feed_sol  rougher.input.feed_au  \\\n",
       "count              5289.000000             5269.000000            5290.000000   \n",
       "mean                 55.951097               37.716648               9.334682   \n",
       "std                  19.081758                5.491415               1.619521   \n",
       "min                   0.046369                1.393488               0.568632   \n",
       "25%                  43.906347               34.505576               8.207814   \n",
       "50%                  50.841029               37.980276               9.593766   \n",
       "75%                  62.431047               41.635385              10.463538   \n",
       "max                 392.494040               53.477742              13.731330   \n",
       "\n",
       "       rougher.input.floatbank10_sulfate  rougher.input.floatbank10_xanthate  \\\n",
       "count                        5285.000000                         5290.000000   \n",
       "mean                           13.855759                            6.467745   \n",
       "std                             3.350852                            1.065114   \n",
       "min                             0.001147                            0.000568   \n",
       "25%                            11.995006                            5.998779   \n",
       "50%                            14.003126                            6.498181   \n",
       "75%                            16.974284                            7.085457   \n",
       "max                            24.280636                            8.910468   \n",
       "\n",
       "       rougher.input.floatbank11_sulfate  rougher.input.floatbank11_xanthate  \\\n",
       "count                        5282.000000                         5265.000000   \n",
       "mean                           13.922328                            6.512103   \n",
       "std                             3.223769                            0.886989   \n",
       "min                             0.000077                            0.006985   \n",
       "25%                            11.997200                            5.999157   \n",
       "50%                            14.004371                            6.498744   \n",
       "75%                            16.959671                            7.091808   \n",
       "max                            24.280966                            8.621338   \n",
       "\n",
       "       rougher.state.floatbank10_a_air  rougher.state.floatbank10_a_level  \\\n",
       "count                      5290.000000                        5290.000000   \n",
       "mean                       1053.400166                        -395.732530   \n",
       "std                         121.139309                          91.085505   \n",
       "min                          -0.042069                        -657.949759   \n",
       "25%                         999.205344                        -499.920565   \n",
       "50%                        1000.472055                        -399.693363   \n",
       "75%                        1006.254299                        -300.060056   \n",
       "max                        1423.274687                        -273.776101   \n",
       "\n",
       "       rougher.state.floatbank10_b_air  rougher.state.floatbank10_b_level  \\\n",
       "count                      5290.000000                        5290.000000   \n",
       "mean                       1318.926879                        -475.241428   \n",
       "std                         156.450366                          45.649466   \n",
       "min                          -0.721806                        -650.245277   \n",
       "25%                        1200.871883                        -500.256114   \n",
       "50%                        1302.254995                        -499.837803   \n",
       "75%                        1433.955649                        -450.749619   \n",
       "max                        1706.640419                        -298.200051   \n",
       "\n",
       "       rougher.state.floatbank10_c_air  rougher.state.floatbank10_c_level  \\\n",
       "count                      5290.000000                        5290.000000   \n",
       "mean                       1301.595477                        -474.836671   \n",
       "std                         171.269667                          45.859866   \n",
       "min                          -0.056636                        -647.544439   \n",
       "25%                        1199.651371                        -500.233831   \n",
       "50%                        1300.202274                        -499.777222   \n",
       "75%                        1406.594956                        -451.153188   \n",
       "max                        1731.017788                        -298.036852   \n",
       "\n",
       "       rougher.state.floatbank10_d_air  rougher.state.floatbank10_d_level  \\\n",
       "count                      5290.000000                        5290.000000   \n",
       "mean                       1214.847960                        -475.682272   \n",
       "std                         185.763319                          47.844967   \n",
       "min                          -0.992219                        -648.390665   \n",
       "25%                        1093.368068                        -500.440610   \n",
       "50%                        1207.014092                        -499.691917   \n",
       "75%                        1391.497269                        -452.483463   \n",
       "max                        1775.218584                         -76.397327   \n",
       "\n",
       "       rougher.state.floatbank10_e_air  rougher.state.floatbank10_e_level  \\\n",
       "count                      5290.000000                        5290.000000   \n",
       "mean                       1056.648995                        -469.029688   \n",
       "std                         131.542839                          59.325990   \n",
       "min                          -1.982295                        -649.267537   \n",
       "25%                         999.361403                        -500.190639   \n",
       "50%                        1047.495449                        -499.765796   \n",
       "75%                        1101.365315                        -450.957513   \n",
       "max                        1467.184843                        -139.753025   \n",
       "\n",
       "       rougher.state.floatbank10_f_air  rougher.state.floatbank10_f_level  \\\n",
       "count                      5290.000000                        5290.000000   \n",
       "mean                        997.949719                        -470.482465   \n",
       "std                         128.218869                          60.759318   \n",
       "min                          -2.593390                        -649.949283   \n",
       "25%                         901.024994                        -500.624783   \n",
       "50%                         999.441879                        -499.680986   \n",
       "75%                        1050.433005                        -451.986460   \n",
       "max                        1476.588107                        -249.801043   \n",
       "\n",
       "       secondary_cleaner.state.floatbank2_a_air  \\\n",
       "count                               5287.000000   \n",
       "mean                                  26.312630   \n",
       "std                                    3.429852   \n",
       "min                                    0.205329   \n",
       "25%                                   24.942328   \n",
       "50%                                   26.910569   \n",
       "75%                                   28.091885   \n",
       "max                                   32.138727   \n",
       "\n",
       "       secondary_cleaner.state.floatbank2_a_level  \\\n",
       "count                                 5290.000000   \n",
       "mean                                  -502.750897   \n",
       "std                                     28.756505   \n",
       "min                                   -784.091091   \n",
       "25%                                   -500.206517   \n",
       "50%                                   -500.003902   \n",
       "75%                                   -499.791639   \n",
       "max                                   -300.343670   \n",
       "\n",
       "       secondary_cleaner.state.floatbank2_b_air  \\\n",
       "count                               5288.000000   \n",
       "mean                                  21.949119   \n",
       "std                                    4.354961   \n",
       "min                                    0.006064   \n",
       "25%                                   20.002315   \n",
       "50%                                   22.942603   \n",
       "75%                                   24.985013   \n",
       "max                                   28.165864   \n",
       "\n",
       "       secondary_cleaner.state.floatbank2_b_level  \\\n",
       "count                                 5290.000000   \n",
       "mean                                  -501.987097   \n",
       "std                                     34.582722   \n",
       "min                                   -797.783989   \n",
       "25%                                   -500.218030   \n",
       "50%                                   -500.019058   \n",
       "75%                                   -499.831532   \n",
       "max                                   -211.999273   \n",
       "\n",
       "       secondary_cleaner.state.floatbank3_a_air  \\\n",
       "count                               5281.000000   \n",
       "mean                                  25.402926   \n",
       "std                                    6.526457   \n",
       "min                                    0.000000   \n",
       "25%                                   22.982288   \n",
       "50%                                   25.010105   \n",
       "75%                                   30.002063   \n",
       "max                                   40.041997   \n",
       "\n",
       "       secondary_cleaner.state.floatbank3_a_level  \\\n",
       "count                                 5290.000000   \n",
       "mean                                  -507.490314   \n",
       "std                                     47.620908   \n",
       "min                                   -799.755798   \n",
       "25%                                   -500.297951   \n",
       "50%                                   -500.034578   \n",
       "75%                                   -499.780163   \n",
       "max                                   -313.866425   \n",
       "\n",
       "       secondary_cleaner.state.floatbank3_b_air  \\\n",
       "count                              5.290000e+03   \n",
       "mean                               2.098211e+01   \n",
       "std                                6.736179e+00   \n",
       "min                                1.521587e-17   \n",
       "25%                                1.796786e+01   \n",
       "50%                                2.100316e+01   \n",
       "75%                                2.697698e+01   \n",
       "max                                3.203936e+01   \n",
       "\n",
       "       secondary_cleaner.state.floatbank3_b_level  \\\n",
       "count                                 5290.000000   \n",
       "mean                                  -506.627916   \n",
       "std                                     44.528673   \n",
       "min                                   -809.333008   \n",
       "25%                                   -500.145128   \n",
       "50%                                   -500.013819   \n",
       "75%                                   -499.890608   \n",
       "max                                   -202.277366   \n",
       "\n",
       "       secondary_cleaner.state.floatbank4_a_air  \\\n",
       "count                              5.290000e+03   \n",
       "mean                               1.632007e+01   \n",
       "std                                3.493583e+00   \n",
       "min                                1.079872e-16   \n",
       "25%                                1.403618e+01   \n",
       "50%                                1.700847e+01   \n",
       "75%                                1.803862e+01   \n",
       "max                                3.005180e+01   \n",
       "\n",
       "       secondary_cleaner.state.floatbank4_a_level  \\\n",
       "count                                 5290.000000   \n",
       "mean                                  -505.144570   \n",
       "std                                     31.427337   \n",
       "min                                   -799.798523   \n",
       "25%                                   -500.868258   \n",
       "50%                                   -500.115727   \n",
       "75%                                   -499.404224   \n",
       "max                                   -401.565212   \n",
       "\n",
       "       secondary_cleaner.state.floatbank4_b_air  \\\n",
       "count                              5.290000e+03   \n",
       "mean                               1.373544e+01   \n",
       "std                                3.430484e+00   \n",
       "min                                2.489718e-17   \n",
       "25%                                1.202862e+01   \n",
       "50%                                1.496486e+01   \n",
       "75%                                1.596213e+01   \n",
       "max                                3.126971e+01   \n",
       "\n",
       "       secondary_cleaner.state.floatbank4_b_level  \\\n",
       "count                                 5290.000000   \n",
       "mean                                  -463.349858   \n",
       "std                                     86.189107   \n",
       "min                                   -800.836914   \n",
       "25%                                   -500.323028   \n",
       "50%                                   -499.576513   \n",
       "75%                                   -400.933805   \n",
       "max                                     -6.506986   \n",
       "\n",
       "       secondary_cleaner.state.floatbank5_a_air  \\\n",
       "count                               5290.000000   \n",
       "mean                                  12.804186   \n",
       "std                                    3.026591   \n",
       "min                                    0.069227   \n",
       "25%                                   10.914838   \n",
       "50%                                   12.954182   \n",
       "75%                                   15.097528   \n",
       "max                                   25.258848   \n",
       "\n",
       "       secondary_cleaner.state.floatbank5_a_level  \\\n",
       "count                                 5290.000000   \n",
       "mean                                  -501.329122   \n",
       "std                                     17.951495   \n",
       "min                                   -797.323986   \n",
       "25%                                   -500.726841   \n",
       "50%                                   -499.990332   \n",
       "75%                                   -499.283191   \n",
       "max                                   -244.483566   \n",
       "\n",
       "       secondary_cleaner.state.floatbank5_b_air  \\\n",
       "count                               5290.000000   \n",
       "mean                                   9.881145   \n",
       "std                                    2.868205   \n",
       "min                                    0.528083   \n",
       "25%                                    8.036719   \n",
       "50%                                   10.004301   \n",
       "75%                                   11.997467   \n",
       "max                                   14.086866   \n",
       "\n",
       "       secondary_cleaner.state.floatbank5_b_level  \\\n",
       "count                                 5290.000000   \n",
       "mean                                  -495.663398   \n",
       "std                                     34.535007   \n",
       "min                                   -800.220337   \n",
       "25%                                   -500.194668   \n",
       "50%                                   -499.990535   \n",
       "75%                                   -499.719913   \n",
       "max                                   -137.740004   \n",
       "\n",
       "       secondary_cleaner.state.floatbank6_a_air  \\\n",
       "count                               5290.000000   \n",
       "mean                                  17.304935   \n",
       "std                                    4.536544   \n",
       "min                                   -0.079426   \n",
       "25%                                   13.997317   \n",
       "50%                                   16.014935   \n",
       "75%                                   21.020013   \n",
       "max                                   26.705889   \n",
       "\n",
       "       secondary_cleaner.state.floatbank6_a_level  \n",
       "count                                 5290.000000  \n",
       "mean                                  -501.793193  \n",
       "std                                     39.044215  \n",
       "min                                   -809.741464  \n",
       "25%                                   -500.690984  \n",
       "50%                                   -500.007126  \n",
       "75%                                   -499.373018  \n",
       "max                                   -123.307487  "
      ]
     },
     "execution_count": 9,
     "metadata": {},
     "output_type": "execute_result"
    }
   ],
   "source": [
    "df_gold_test.describe()"
   ]
  },
  {
   "cell_type": "code",
   "execution_count": 10,
   "metadata": {},
   "outputs": [
    {
     "data": {
      "text/html": [
       "<div>\n",
       "<style scoped>\n",
       "    .dataframe tbody tr th:only-of-type {\n",
       "        vertical-align: middle;\n",
       "    }\n",
       "\n",
       "    .dataframe tbody tr th {\n",
       "        vertical-align: top;\n",
       "    }\n",
       "\n",
       "    .dataframe thead th {\n",
       "        text-align: right;\n",
       "    }\n",
       "</style>\n",
       "<table border=\"1\" class=\"dataframe\">\n",
       "  <thead>\n",
       "    <tr style=\"text-align: right;\">\n",
       "      <th></th>\n",
       "      <th>final.output.concentrate_ag</th>\n",
       "      <th>final.output.concentrate_pb</th>\n",
       "      <th>final.output.concentrate_sol</th>\n",
       "      <th>final.output.concentrate_au</th>\n",
       "      <th>final.output.recovery</th>\n",
       "      <th>final.output.tail_ag</th>\n",
       "      <th>final.output.tail_pb</th>\n",
       "      <th>final.output.tail_sol</th>\n",
       "      <th>final.output.tail_au</th>\n",
       "      <th>primary_cleaner.input.sulfate</th>\n",
       "      <th>primary_cleaner.input.depressant</th>\n",
       "      <th>primary_cleaner.input.feed_size</th>\n",
       "      <th>primary_cleaner.input.xanthate</th>\n",
       "      <th>primary_cleaner.output.concentrate_ag</th>\n",
       "      <th>primary_cleaner.output.concentrate_pb</th>\n",
       "      <th>primary_cleaner.output.concentrate_sol</th>\n",
       "      <th>primary_cleaner.output.concentrate_au</th>\n",
       "      <th>primary_cleaner.output.tail_ag</th>\n",
       "      <th>primary_cleaner.output.tail_pb</th>\n",
       "      <th>primary_cleaner.output.tail_sol</th>\n",
       "      <th>primary_cleaner.output.tail_au</th>\n",
       "      <th>primary_cleaner.state.floatbank8_a_air</th>\n",
       "      <th>primary_cleaner.state.floatbank8_a_level</th>\n",
       "      <th>primary_cleaner.state.floatbank8_b_air</th>\n",
       "      <th>primary_cleaner.state.floatbank8_b_level</th>\n",
       "      <th>primary_cleaner.state.floatbank8_c_air</th>\n",
       "      <th>primary_cleaner.state.floatbank8_c_level</th>\n",
       "      <th>primary_cleaner.state.floatbank8_d_air</th>\n",
       "      <th>primary_cleaner.state.floatbank8_d_level</th>\n",
       "      <th>rougher.calculation.sulfate_to_au_concentrate</th>\n",
       "      <th>rougher.calculation.floatbank10_sulfate_to_au_feed</th>\n",
       "      <th>rougher.calculation.floatbank11_sulfate_to_au_feed</th>\n",
       "      <th>rougher.calculation.au_pb_ratio</th>\n",
       "      <th>rougher.input.feed_ag</th>\n",
       "      <th>rougher.input.feed_pb</th>\n",
       "      <th>rougher.input.feed_rate</th>\n",
       "      <th>rougher.input.feed_size</th>\n",
       "      <th>rougher.input.feed_sol</th>\n",
       "      <th>rougher.input.feed_au</th>\n",
       "      <th>rougher.input.floatbank10_sulfate</th>\n",
       "      <th>rougher.input.floatbank10_xanthate</th>\n",
       "      <th>rougher.input.floatbank11_sulfate</th>\n",
       "      <th>rougher.input.floatbank11_xanthate</th>\n",
       "      <th>rougher.output.concentrate_ag</th>\n",
       "      <th>rougher.output.concentrate_pb</th>\n",
       "      <th>rougher.output.concentrate_sol</th>\n",
       "      <th>rougher.output.concentrate_au</th>\n",
       "      <th>rougher.output.recovery</th>\n",
       "      <th>rougher.output.tail_ag</th>\n",
       "      <th>rougher.output.tail_pb</th>\n",
       "      <th>rougher.output.tail_sol</th>\n",
       "      <th>rougher.output.tail_au</th>\n",
       "      <th>rougher.state.floatbank10_a_air</th>\n",
       "      <th>rougher.state.floatbank10_a_level</th>\n",
       "      <th>rougher.state.floatbank10_b_air</th>\n",
       "      <th>rougher.state.floatbank10_b_level</th>\n",
       "      <th>rougher.state.floatbank10_c_air</th>\n",
       "      <th>rougher.state.floatbank10_c_level</th>\n",
       "      <th>rougher.state.floatbank10_d_air</th>\n",
       "      <th>rougher.state.floatbank10_d_level</th>\n",
       "      <th>rougher.state.floatbank10_e_air</th>\n",
       "      <th>rougher.state.floatbank10_e_level</th>\n",
       "      <th>rougher.state.floatbank10_f_air</th>\n",
       "      <th>rougher.state.floatbank10_f_level</th>\n",
       "      <th>secondary_cleaner.output.tail_ag</th>\n",
       "      <th>secondary_cleaner.output.tail_pb</th>\n",
       "      <th>secondary_cleaner.output.tail_sol</th>\n",
       "      <th>secondary_cleaner.output.tail_au</th>\n",
       "      <th>secondary_cleaner.state.floatbank2_a_air</th>\n",
       "      <th>secondary_cleaner.state.floatbank2_a_level</th>\n",
       "      <th>secondary_cleaner.state.floatbank2_b_air</th>\n",
       "      <th>secondary_cleaner.state.floatbank2_b_level</th>\n",
       "      <th>secondary_cleaner.state.floatbank3_a_air</th>\n",
       "      <th>secondary_cleaner.state.floatbank3_a_level</th>\n",
       "      <th>secondary_cleaner.state.floatbank3_b_air</th>\n",
       "      <th>secondary_cleaner.state.floatbank3_b_level</th>\n",
       "      <th>secondary_cleaner.state.floatbank4_a_air</th>\n",
       "      <th>secondary_cleaner.state.floatbank4_a_level</th>\n",
       "      <th>secondary_cleaner.state.floatbank4_b_air</th>\n",
       "      <th>secondary_cleaner.state.floatbank4_b_level</th>\n",
       "      <th>secondary_cleaner.state.floatbank5_a_air</th>\n",
       "      <th>secondary_cleaner.state.floatbank5_a_level</th>\n",
       "      <th>secondary_cleaner.state.floatbank5_b_air</th>\n",
       "      <th>secondary_cleaner.state.floatbank5_b_level</th>\n",
       "      <th>secondary_cleaner.state.floatbank6_a_air</th>\n",
       "      <th>secondary_cleaner.state.floatbank6_a_level</th>\n",
       "    </tr>\n",
       "    <tr>\n",
       "      <th>date</th>\n",
       "      <th></th>\n",
       "      <th></th>\n",
       "      <th></th>\n",
       "      <th></th>\n",
       "      <th></th>\n",
       "      <th></th>\n",
       "      <th></th>\n",
       "      <th></th>\n",
       "      <th></th>\n",
       "      <th></th>\n",
       "      <th></th>\n",
       "      <th></th>\n",
       "      <th></th>\n",
       "      <th></th>\n",
       "      <th></th>\n",
       "      <th></th>\n",
       "      <th></th>\n",
       "      <th></th>\n",
       "      <th></th>\n",
       "      <th></th>\n",
       "      <th></th>\n",
       "      <th></th>\n",
       "      <th></th>\n",
       "      <th></th>\n",
       "      <th></th>\n",
       "      <th></th>\n",
       "      <th></th>\n",
       "      <th></th>\n",
       "      <th></th>\n",
       "      <th></th>\n",
       "      <th></th>\n",
       "      <th></th>\n",
       "      <th></th>\n",
       "      <th></th>\n",
       "      <th></th>\n",
       "      <th></th>\n",
       "      <th></th>\n",
       "      <th></th>\n",
       "      <th></th>\n",
       "      <th></th>\n",
       "      <th></th>\n",
       "      <th></th>\n",
       "      <th></th>\n",
       "      <th></th>\n",
       "      <th></th>\n",
       "      <th></th>\n",
       "      <th></th>\n",
       "      <th></th>\n",
       "      <th></th>\n",
       "      <th></th>\n",
       "      <th></th>\n",
       "      <th></th>\n",
       "      <th></th>\n",
       "      <th></th>\n",
       "      <th></th>\n",
       "      <th></th>\n",
       "      <th></th>\n",
       "      <th></th>\n",
       "      <th></th>\n",
       "      <th></th>\n",
       "      <th></th>\n",
       "      <th></th>\n",
       "      <th></th>\n",
       "      <th></th>\n",
       "      <th></th>\n",
       "      <th></th>\n",
       "      <th></th>\n",
       "      <th></th>\n",
       "      <th></th>\n",
       "      <th></th>\n",
       "      <th></th>\n",
       "      <th></th>\n",
       "      <th></th>\n",
       "      <th></th>\n",
       "      <th></th>\n",
       "      <th></th>\n",
       "      <th></th>\n",
       "      <th></th>\n",
       "      <th></th>\n",
       "      <th></th>\n",
       "      <th></th>\n",
       "      <th></th>\n",
       "      <th></th>\n",
       "      <th></th>\n",
       "      <th></th>\n",
       "      <th></th>\n",
       "    </tr>\n",
       "  </thead>\n",
       "  <tbody>\n",
       "    <tr>\n",
       "      <th>2016-01-15 00:00:00</th>\n",
       "      <td>6.055403</td>\n",
       "      <td>9.889648</td>\n",
       "      <td>5.507324</td>\n",
       "      <td>42.192020</td>\n",
       "      <td>70.541216</td>\n",
       "      <td>10.411962</td>\n",
       "      <td>0.895447</td>\n",
       "      <td>16.904297</td>\n",
       "      <td>2.143149</td>\n",
       "      <td>127.092003</td>\n",
       "      <td>10.128295</td>\n",
       "      <td>7.25</td>\n",
       "      <td>0.988759</td>\n",
       "      <td>8.547551</td>\n",
       "      <td>10.389648</td>\n",
       "      <td>19.529297</td>\n",
       "      <td>34.174427</td>\n",
       "      <td>14.936526</td>\n",
       "      <td>2.534912</td>\n",
       "      <td>7.476074</td>\n",
       "      <td>2.106679</td>\n",
       "      <td>1549.775757</td>\n",
       "      <td>-498.912140</td>\n",
       "      <td>1551.434204</td>\n",
       "      <td>-516.403442</td>\n",
       "      <td>1549.873901</td>\n",
       "      <td>-498.666595</td>\n",
       "      <td>1554.367432</td>\n",
       "      <td>-493.428131</td>\n",
       "      <td>41885.707031</td>\n",
       "      <td>3481.779053</td>\n",
       "      <td>3520.337158</td>\n",
       "      <td>2.838687</td>\n",
       "      <td>6.100378</td>\n",
       "      <td>2.284912</td>\n",
       "      <td>523.546326</td>\n",
       "      <td>55.486599</td>\n",
       "      <td>36.808594</td>\n",
       "      <td>6.486150</td>\n",
       "      <td>11.986616</td>\n",
       "      <td>6.007990</td>\n",
       "      <td>11.836743</td>\n",
       "      <td>6.005818</td>\n",
       "      <td>11.500771</td>\n",
       "      <td>7.101074</td>\n",
       "      <td>28.029297</td>\n",
       "      <td>19.793808</td>\n",
       "      <td>87.107763</td>\n",
       "      <td>5.008018</td>\n",
       "      <td>0.508728</td>\n",
       "      <td>19.154297</td>\n",
       "      <td>1.170244</td>\n",
       "      <td>999.706909</td>\n",
       "      <td>-404.066986</td>\n",
       "      <td>1603.011353</td>\n",
       "      <td>-434.715027</td>\n",
       "      <td>1602.375000</td>\n",
       "      <td>-442.204468</td>\n",
       "      <td>1598.937256</td>\n",
       "      <td>-451.294128</td>\n",
       "      <td>1404.472046</td>\n",
       "      <td>-455.462982</td>\n",
       "      <td>1416.354980</td>\n",
       "      <td>-451.939636</td>\n",
       "      <td>14.500184</td>\n",
       "      <td>4.694824</td>\n",
       "      <td>8.764648</td>\n",
       "      <td>2.606185</td>\n",
       "      <td>25.853109</td>\n",
       "      <td>-498.526489</td>\n",
       "      <td>23.893660</td>\n",
       "      <td>-501.406281</td>\n",
       "      <td>23.961798</td>\n",
       "      <td>-495.262817</td>\n",
       "      <td>21.940409</td>\n",
       "      <td>-499.340973</td>\n",
       "      <td>14.016835</td>\n",
       "      <td>-502.488007</td>\n",
       "      <td>12.099931</td>\n",
       "      <td>-504.715942</td>\n",
       "      <td>9.925633</td>\n",
       "      <td>-498.310211</td>\n",
       "      <td>8.079666</td>\n",
       "      <td>-500.470978</td>\n",
       "      <td>14.151341</td>\n",
       "      <td>-605.841980</td>\n",
       "    </tr>\n",
       "    <tr>\n",
       "      <th>2016-01-15 01:00:00</th>\n",
       "      <td>6.029369</td>\n",
       "      <td>9.968944</td>\n",
       "      <td>5.257781</td>\n",
       "      <td>42.701629</td>\n",
       "      <td>69.266198</td>\n",
       "      <td>10.462676</td>\n",
       "      <td>0.927452</td>\n",
       "      <td>16.634514</td>\n",
       "      <td>2.224930</td>\n",
       "      <td>125.629232</td>\n",
       "      <td>10.296251</td>\n",
       "      <td>7.25</td>\n",
       "      <td>1.002663</td>\n",
       "      <td>8.558743</td>\n",
       "      <td>10.497069</td>\n",
       "      <td>19.369147</td>\n",
       "      <td>34.118526</td>\n",
       "      <td>16.250511</td>\n",
       "      <td>3.049646</td>\n",
       "      <td>6.733907</td>\n",
       "      <td>2.353017</td>\n",
       "      <td>1576.166671</td>\n",
       "      <td>-500.904965</td>\n",
       "      <td>1575.950626</td>\n",
       "      <td>-499.865889</td>\n",
       "      <td>1575.994189</td>\n",
       "      <td>-499.315107</td>\n",
       "      <td>1574.479259</td>\n",
       "      <td>-498.931665</td>\n",
       "      <td>42050.861809</td>\n",
       "      <td>3498.370979</td>\n",
       "      <td>3489.981857</td>\n",
       "      <td>2.858998</td>\n",
       "      <td>6.161113</td>\n",
       "      <td>2.266033</td>\n",
       "      <td>525.290581</td>\n",
       "      <td>57.278666</td>\n",
       "      <td>35.753385</td>\n",
       "      <td>6.478583</td>\n",
       "      <td>11.971193</td>\n",
       "      <td>6.005766</td>\n",
       "      <td>11.996163</td>\n",
       "      <td>6.012594</td>\n",
       "      <td>11.615865</td>\n",
       "      <td>7.278807</td>\n",
       "      <td>28.067063</td>\n",
       "      <td>20.050975</td>\n",
       "      <td>86.843261</td>\n",
       "      <td>4.955378</td>\n",
       "      <td>0.536689</td>\n",
       "      <td>18.965234</td>\n",
       "      <td>1.184827</td>\n",
       "      <td>1000.286398</td>\n",
       "      <td>-400.065196</td>\n",
       "      <td>1600.754587</td>\n",
       "      <td>-449.953435</td>\n",
       "      <td>1600.479580</td>\n",
       "      <td>-449.830646</td>\n",
       "      <td>1600.527589</td>\n",
       "      <td>-449.953649</td>\n",
       "      <td>1399.227084</td>\n",
       "      <td>-450.869848</td>\n",
       "      <td>1399.719514</td>\n",
       "      <td>-450.119001</td>\n",
       "      <td>14.265474</td>\n",
       "      <td>4.592547</td>\n",
       "      <td>9.001494</td>\n",
       "      <td>2.488248</td>\n",
       "      <td>25.880539</td>\n",
       "      <td>-499.989656</td>\n",
       "      <td>23.889530</td>\n",
       "      <td>-500.372428</td>\n",
       "      <td>23.970550</td>\n",
       "      <td>-500.085473</td>\n",
       "      <td>22.085714</td>\n",
       "      <td>-499.446897</td>\n",
       "      <td>13.992281</td>\n",
       "      <td>-505.503262</td>\n",
       "      <td>11.950531</td>\n",
       "      <td>-501.331529</td>\n",
       "      <td>10.039245</td>\n",
       "      <td>-500.169983</td>\n",
       "      <td>7.984757</td>\n",
       "      <td>-500.582168</td>\n",
       "      <td>13.998353</td>\n",
       "      <td>-599.787184</td>\n",
       "    </tr>\n",
       "    <tr>\n",
       "      <th>2016-01-15 02:00:00</th>\n",
       "      <td>6.055926</td>\n",
       "      <td>10.213995</td>\n",
       "      <td>5.383759</td>\n",
       "      <td>42.657501</td>\n",
       "      <td>68.116445</td>\n",
       "      <td>10.507046</td>\n",
       "      <td>0.953716</td>\n",
       "      <td>16.208849</td>\n",
       "      <td>2.257889</td>\n",
       "      <td>123.819808</td>\n",
       "      <td>11.316280</td>\n",
       "      <td>7.25</td>\n",
       "      <td>0.991265</td>\n",
       "      <td>8.603505</td>\n",
       "      <td>10.354494</td>\n",
       "      <td>19.167579</td>\n",
       "      <td>33.969464</td>\n",
       "      <td>16.491823</td>\n",
       "      <td>3.124664</td>\n",
       "      <td>6.471768</td>\n",
       "      <td>2.416800</td>\n",
       "      <td>1601.556163</td>\n",
       "      <td>-499.997791</td>\n",
       "      <td>1600.386685</td>\n",
       "      <td>-500.607762</td>\n",
       "      <td>1602.003542</td>\n",
       "      <td>-500.870069</td>\n",
       "      <td>1599.541515</td>\n",
       "      <td>-499.827444</td>\n",
       "      <td>42018.101184</td>\n",
       "      <td>3495.348910</td>\n",
       "      <td>3502.359819</td>\n",
       "      <td>2.945989</td>\n",
       "      <td>6.116455</td>\n",
       "      <td>2.159622</td>\n",
       "      <td>530.026610</td>\n",
       "      <td>57.510649</td>\n",
       "      <td>35.971630</td>\n",
       "      <td>6.362222</td>\n",
       "      <td>11.920603</td>\n",
       "      <td>6.197377</td>\n",
       "      <td>11.920305</td>\n",
       "      <td>6.204633</td>\n",
       "      <td>11.695753</td>\n",
       "      <td>7.216833</td>\n",
       "      <td>27.454037</td>\n",
       "      <td>19.737170</td>\n",
       "      <td>86.842308</td>\n",
       "      <td>4.843460</td>\n",
       "      <td>0.546416</td>\n",
       "      <td>18.808533</td>\n",
       "      <td>1.162562</td>\n",
       "      <td>999.719565</td>\n",
       "      <td>-400.074028</td>\n",
       "      <td>1599.337330</td>\n",
       "      <td>-450.008530</td>\n",
       "      <td>1599.672797</td>\n",
       "      <td>-449.954491</td>\n",
       "      <td>1599.849325</td>\n",
       "      <td>-449.954185</td>\n",
       "      <td>1399.180945</td>\n",
       "      <td>-449.937588</td>\n",
       "      <td>1400.316682</td>\n",
       "      <td>-450.527147</td>\n",
       "      <td>14.115662</td>\n",
       "      <td>4.624775</td>\n",
       "      <td>8.842896</td>\n",
       "      <td>2.458187</td>\n",
       "      <td>26.005245</td>\n",
       "      <td>-499.929616</td>\n",
       "      <td>23.886657</td>\n",
       "      <td>-499.951928</td>\n",
       "      <td>23.913535</td>\n",
       "      <td>-499.442343</td>\n",
       "      <td>23.957717</td>\n",
       "      <td>-499.901982</td>\n",
       "      <td>14.015015</td>\n",
       "      <td>-502.520901</td>\n",
       "      <td>11.912783</td>\n",
       "      <td>-501.133383</td>\n",
       "      <td>10.070913</td>\n",
       "      <td>-500.129135</td>\n",
       "      <td>8.013877</td>\n",
       "      <td>-500.517572</td>\n",
       "      <td>14.028663</td>\n",
       "      <td>-601.427363</td>\n",
       "    </tr>\n",
       "  </tbody>\n",
       "</table>\n",
       "</div>"
      ],
      "text/plain": [
       "                     final.output.concentrate_ag  final.output.concentrate_pb  \\\n",
       "date                                                                            \n",
       "2016-01-15 00:00:00                     6.055403                     9.889648   \n",
       "2016-01-15 01:00:00                     6.029369                     9.968944   \n",
       "2016-01-15 02:00:00                     6.055926                    10.213995   \n",
       "\n",
       "                     final.output.concentrate_sol  \\\n",
       "date                                                \n",
       "2016-01-15 00:00:00                      5.507324   \n",
       "2016-01-15 01:00:00                      5.257781   \n",
       "2016-01-15 02:00:00                      5.383759   \n",
       "\n",
       "                     final.output.concentrate_au  final.output.recovery  \\\n",
       "date                                                                      \n",
       "2016-01-15 00:00:00                    42.192020              70.541216   \n",
       "2016-01-15 01:00:00                    42.701629              69.266198   \n",
       "2016-01-15 02:00:00                    42.657501              68.116445   \n",
       "\n",
       "                     final.output.tail_ag  final.output.tail_pb  \\\n",
       "date                                                              \n",
       "2016-01-15 00:00:00             10.411962              0.895447   \n",
       "2016-01-15 01:00:00             10.462676              0.927452   \n",
       "2016-01-15 02:00:00             10.507046              0.953716   \n",
       "\n",
       "                     final.output.tail_sol  final.output.tail_au  \\\n",
       "date                                                               \n",
       "2016-01-15 00:00:00              16.904297              2.143149   \n",
       "2016-01-15 01:00:00              16.634514              2.224930   \n",
       "2016-01-15 02:00:00              16.208849              2.257889   \n",
       "\n",
       "                     primary_cleaner.input.sulfate  \\\n",
       "date                                                 \n",
       "2016-01-15 00:00:00                     127.092003   \n",
       "2016-01-15 01:00:00                     125.629232   \n",
       "2016-01-15 02:00:00                     123.819808   \n",
       "\n",
       "                     primary_cleaner.input.depressant  \\\n",
       "date                                                    \n",
       "2016-01-15 00:00:00                         10.128295   \n",
       "2016-01-15 01:00:00                         10.296251   \n",
       "2016-01-15 02:00:00                         11.316280   \n",
       "\n",
       "                     primary_cleaner.input.feed_size  \\\n",
       "date                                                   \n",
       "2016-01-15 00:00:00                             7.25   \n",
       "2016-01-15 01:00:00                             7.25   \n",
       "2016-01-15 02:00:00                             7.25   \n",
       "\n",
       "                     primary_cleaner.input.xanthate  \\\n",
       "date                                                  \n",
       "2016-01-15 00:00:00                        0.988759   \n",
       "2016-01-15 01:00:00                        1.002663   \n",
       "2016-01-15 02:00:00                        0.991265   \n",
       "\n",
       "                     primary_cleaner.output.concentrate_ag  \\\n",
       "date                                                         \n",
       "2016-01-15 00:00:00                               8.547551   \n",
       "2016-01-15 01:00:00                               8.558743   \n",
       "2016-01-15 02:00:00                               8.603505   \n",
       "\n",
       "                     primary_cleaner.output.concentrate_pb  \\\n",
       "date                                                         \n",
       "2016-01-15 00:00:00                              10.389648   \n",
       "2016-01-15 01:00:00                              10.497069   \n",
       "2016-01-15 02:00:00                              10.354494   \n",
       "\n",
       "                     primary_cleaner.output.concentrate_sol  \\\n",
       "date                                                          \n",
       "2016-01-15 00:00:00                               19.529297   \n",
       "2016-01-15 01:00:00                               19.369147   \n",
       "2016-01-15 02:00:00                               19.167579   \n",
       "\n",
       "                     primary_cleaner.output.concentrate_au  \\\n",
       "date                                                         \n",
       "2016-01-15 00:00:00                              34.174427   \n",
       "2016-01-15 01:00:00                              34.118526   \n",
       "2016-01-15 02:00:00                              33.969464   \n",
       "\n",
       "                     primary_cleaner.output.tail_ag  \\\n",
       "date                                                  \n",
       "2016-01-15 00:00:00                       14.936526   \n",
       "2016-01-15 01:00:00                       16.250511   \n",
       "2016-01-15 02:00:00                       16.491823   \n",
       "\n",
       "                     primary_cleaner.output.tail_pb  \\\n",
       "date                                                  \n",
       "2016-01-15 00:00:00                        2.534912   \n",
       "2016-01-15 01:00:00                        3.049646   \n",
       "2016-01-15 02:00:00                        3.124664   \n",
       "\n",
       "                     primary_cleaner.output.tail_sol  \\\n",
       "date                                                   \n",
       "2016-01-15 00:00:00                         7.476074   \n",
       "2016-01-15 01:00:00                         6.733907   \n",
       "2016-01-15 02:00:00                         6.471768   \n",
       "\n",
       "                     primary_cleaner.output.tail_au  \\\n",
       "date                                                  \n",
       "2016-01-15 00:00:00                        2.106679   \n",
       "2016-01-15 01:00:00                        2.353017   \n",
       "2016-01-15 02:00:00                        2.416800   \n",
       "\n",
       "                     primary_cleaner.state.floatbank8_a_air  \\\n",
       "date                                                          \n",
       "2016-01-15 00:00:00                             1549.775757   \n",
       "2016-01-15 01:00:00                             1576.166671   \n",
       "2016-01-15 02:00:00                             1601.556163   \n",
       "\n",
       "                     primary_cleaner.state.floatbank8_a_level  \\\n",
       "date                                                            \n",
       "2016-01-15 00:00:00                               -498.912140   \n",
       "2016-01-15 01:00:00                               -500.904965   \n",
       "2016-01-15 02:00:00                               -499.997791   \n",
       "\n",
       "                     primary_cleaner.state.floatbank8_b_air  \\\n",
       "date                                                          \n",
       "2016-01-15 00:00:00                             1551.434204   \n",
       "2016-01-15 01:00:00                             1575.950626   \n",
       "2016-01-15 02:00:00                             1600.386685   \n",
       "\n",
       "                     primary_cleaner.state.floatbank8_b_level  \\\n",
       "date                                                            \n",
       "2016-01-15 00:00:00                               -516.403442   \n",
       "2016-01-15 01:00:00                               -499.865889   \n",
       "2016-01-15 02:00:00                               -500.607762   \n",
       "\n",
       "                     primary_cleaner.state.floatbank8_c_air  \\\n",
       "date                                                          \n",
       "2016-01-15 00:00:00                             1549.873901   \n",
       "2016-01-15 01:00:00                             1575.994189   \n",
       "2016-01-15 02:00:00                             1602.003542   \n",
       "\n",
       "                     primary_cleaner.state.floatbank8_c_level  \\\n",
       "date                                                            \n",
       "2016-01-15 00:00:00                               -498.666595   \n",
       "2016-01-15 01:00:00                               -499.315107   \n",
       "2016-01-15 02:00:00                               -500.870069   \n",
       "\n",
       "                     primary_cleaner.state.floatbank8_d_air  \\\n",
       "date                                                          \n",
       "2016-01-15 00:00:00                             1554.367432   \n",
       "2016-01-15 01:00:00                             1574.479259   \n",
       "2016-01-15 02:00:00                             1599.541515   \n",
       "\n",
       "                     primary_cleaner.state.floatbank8_d_level  \\\n",
       "date                                                            \n",
       "2016-01-15 00:00:00                               -493.428131   \n",
       "2016-01-15 01:00:00                               -498.931665   \n",
       "2016-01-15 02:00:00                               -499.827444   \n",
       "\n",
       "                     rougher.calculation.sulfate_to_au_concentrate  \\\n",
       "date                                                                 \n",
       "2016-01-15 00:00:00                                   41885.707031   \n",
       "2016-01-15 01:00:00                                   42050.861809   \n",
       "2016-01-15 02:00:00                                   42018.101184   \n",
       "\n",
       "                     rougher.calculation.floatbank10_sulfate_to_au_feed  \\\n",
       "date                                                                      \n",
       "2016-01-15 00:00:00                                        3481.779053    \n",
       "2016-01-15 01:00:00                                        3498.370979    \n",
       "2016-01-15 02:00:00                                        3495.348910    \n",
       "\n",
       "                     rougher.calculation.floatbank11_sulfate_to_au_feed  \\\n",
       "date                                                                      \n",
       "2016-01-15 00:00:00                                        3520.337158    \n",
       "2016-01-15 01:00:00                                        3489.981857    \n",
       "2016-01-15 02:00:00                                        3502.359819    \n",
       "\n",
       "                     rougher.calculation.au_pb_ratio  rougher.input.feed_ag  \\\n",
       "date                                                                          \n",
       "2016-01-15 00:00:00                         2.838687               6.100378   \n",
       "2016-01-15 01:00:00                         2.858998               6.161113   \n",
       "2016-01-15 02:00:00                         2.945989               6.116455   \n",
       "\n",
       "                     rougher.input.feed_pb  rougher.input.feed_rate  \\\n",
       "date                                                                  \n",
       "2016-01-15 00:00:00               2.284912               523.546326   \n",
       "2016-01-15 01:00:00               2.266033               525.290581   \n",
       "2016-01-15 02:00:00               2.159622               530.026610   \n",
       "\n",
       "                     rougher.input.feed_size  rougher.input.feed_sol  \\\n",
       "date                                                                   \n",
       "2016-01-15 00:00:00                55.486599               36.808594   \n",
       "2016-01-15 01:00:00                57.278666               35.753385   \n",
       "2016-01-15 02:00:00                57.510649               35.971630   \n",
       "\n",
       "                     rougher.input.feed_au  rougher.input.floatbank10_sulfate  \\\n",
       "date                                                                            \n",
       "2016-01-15 00:00:00               6.486150                          11.986616   \n",
       "2016-01-15 01:00:00               6.478583                          11.971193   \n",
       "2016-01-15 02:00:00               6.362222                          11.920603   \n",
       "\n",
       "                     rougher.input.floatbank10_xanthate  \\\n",
       "date                                                      \n",
       "2016-01-15 00:00:00                            6.007990   \n",
       "2016-01-15 01:00:00                            6.005766   \n",
       "2016-01-15 02:00:00                            6.197377   \n",
       "\n",
       "                     rougher.input.floatbank11_sulfate  \\\n",
       "date                                                     \n",
       "2016-01-15 00:00:00                          11.836743   \n",
       "2016-01-15 01:00:00                          11.996163   \n",
       "2016-01-15 02:00:00                          11.920305   \n",
       "\n",
       "                     rougher.input.floatbank11_xanthate  \\\n",
       "date                                                      \n",
       "2016-01-15 00:00:00                            6.005818   \n",
       "2016-01-15 01:00:00                            6.012594   \n",
       "2016-01-15 02:00:00                            6.204633   \n",
       "\n",
       "                     rougher.output.concentrate_ag  \\\n",
       "date                                                 \n",
       "2016-01-15 00:00:00                      11.500771   \n",
       "2016-01-15 01:00:00                      11.615865   \n",
       "2016-01-15 02:00:00                      11.695753   \n",
       "\n",
       "                     rougher.output.concentrate_pb  \\\n",
       "date                                                 \n",
       "2016-01-15 00:00:00                       7.101074   \n",
       "2016-01-15 01:00:00                       7.278807   \n",
       "2016-01-15 02:00:00                       7.216833   \n",
       "\n",
       "                     rougher.output.concentrate_sol  \\\n",
       "date                                                  \n",
       "2016-01-15 00:00:00                       28.029297   \n",
       "2016-01-15 01:00:00                       28.067063   \n",
       "2016-01-15 02:00:00                       27.454037   \n",
       "\n",
       "                     rougher.output.concentrate_au  rougher.output.recovery  \\\n",
       "date                                                                          \n",
       "2016-01-15 00:00:00                      19.793808                87.107763   \n",
       "2016-01-15 01:00:00                      20.050975                86.843261   \n",
       "2016-01-15 02:00:00                      19.737170                86.842308   \n",
       "\n",
       "                     rougher.output.tail_ag  rougher.output.tail_pb  \\\n",
       "date                                                                  \n",
       "2016-01-15 00:00:00                5.008018                0.508728   \n",
       "2016-01-15 01:00:00                4.955378                0.536689   \n",
       "2016-01-15 02:00:00                4.843460                0.546416   \n",
       "\n",
       "                     rougher.output.tail_sol  rougher.output.tail_au  \\\n",
       "date                                                                   \n",
       "2016-01-15 00:00:00                19.154297                1.170244   \n",
       "2016-01-15 01:00:00                18.965234                1.184827   \n",
       "2016-01-15 02:00:00                18.808533                1.162562   \n",
       "\n",
       "                     rougher.state.floatbank10_a_air  \\\n",
       "date                                                   \n",
       "2016-01-15 00:00:00                       999.706909   \n",
       "2016-01-15 01:00:00                      1000.286398   \n",
       "2016-01-15 02:00:00                       999.719565   \n",
       "\n",
       "                     rougher.state.floatbank10_a_level  \\\n",
       "date                                                     \n",
       "2016-01-15 00:00:00                        -404.066986   \n",
       "2016-01-15 01:00:00                        -400.065196   \n",
       "2016-01-15 02:00:00                        -400.074028   \n",
       "\n",
       "                     rougher.state.floatbank10_b_air  \\\n",
       "date                                                   \n",
       "2016-01-15 00:00:00                      1603.011353   \n",
       "2016-01-15 01:00:00                      1600.754587   \n",
       "2016-01-15 02:00:00                      1599.337330   \n",
       "\n",
       "                     rougher.state.floatbank10_b_level  \\\n",
       "date                                                     \n",
       "2016-01-15 00:00:00                        -434.715027   \n",
       "2016-01-15 01:00:00                        -449.953435   \n",
       "2016-01-15 02:00:00                        -450.008530   \n",
       "\n",
       "                     rougher.state.floatbank10_c_air  \\\n",
       "date                                                   \n",
       "2016-01-15 00:00:00                      1602.375000   \n",
       "2016-01-15 01:00:00                      1600.479580   \n",
       "2016-01-15 02:00:00                      1599.672797   \n",
       "\n",
       "                     rougher.state.floatbank10_c_level  \\\n",
       "date                                                     \n",
       "2016-01-15 00:00:00                        -442.204468   \n",
       "2016-01-15 01:00:00                        -449.830646   \n",
       "2016-01-15 02:00:00                        -449.954491   \n",
       "\n",
       "                     rougher.state.floatbank10_d_air  \\\n",
       "date                                                   \n",
       "2016-01-15 00:00:00                      1598.937256   \n",
       "2016-01-15 01:00:00                      1600.527589   \n",
       "2016-01-15 02:00:00                      1599.849325   \n",
       "\n",
       "                     rougher.state.floatbank10_d_level  \\\n",
       "date                                                     \n",
       "2016-01-15 00:00:00                        -451.294128   \n",
       "2016-01-15 01:00:00                        -449.953649   \n",
       "2016-01-15 02:00:00                        -449.954185   \n",
       "\n",
       "                     rougher.state.floatbank10_e_air  \\\n",
       "date                                                   \n",
       "2016-01-15 00:00:00                      1404.472046   \n",
       "2016-01-15 01:00:00                      1399.227084   \n",
       "2016-01-15 02:00:00                      1399.180945   \n",
       "\n",
       "                     rougher.state.floatbank10_e_level  \\\n",
       "date                                                     \n",
       "2016-01-15 00:00:00                        -455.462982   \n",
       "2016-01-15 01:00:00                        -450.869848   \n",
       "2016-01-15 02:00:00                        -449.937588   \n",
       "\n",
       "                     rougher.state.floatbank10_f_air  \\\n",
       "date                                                   \n",
       "2016-01-15 00:00:00                      1416.354980   \n",
       "2016-01-15 01:00:00                      1399.719514   \n",
       "2016-01-15 02:00:00                      1400.316682   \n",
       "\n",
       "                     rougher.state.floatbank10_f_level  \\\n",
       "date                                                     \n",
       "2016-01-15 00:00:00                        -451.939636   \n",
       "2016-01-15 01:00:00                        -450.119001   \n",
       "2016-01-15 02:00:00                        -450.527147   \n",
       "\n",
       "                     secondary_cleaner.output.tail_ag  \\\n",
       "date                                                    \n",
       "2016-01-15 00:00:00                         14.500184   \n",
       "2016-01-15 01:00:00                         14.265474   \n",
       "2016-01-15 02:00:00                         14.115662   \n",
       "\n",
       "                     secondary_cleaner.output.tail_pb  \\\n",
       "date                                                    \n",
       "2016-01-15 00:00:00                          4.694824   \n",
       "2016-01-15 01:00:00                          4.592547   \n",
       "2016-01-15 02:00:00                          4.624775   \n",
       "\n",
       "                     secondary_cleaner.output.tail_sol  \\\n",
       "date                                                     \n",
       "2016-01-15 00:00:00                           8.764648   \n",
       "2016-01-15 01:00:00                           9.001494   \n",
       "2016-01-15 02:00:00                           8.842896   \n",
       "\n",
       "                     secondary_cleaner.output.tail_au  \\\n",
       "date                                                    \n",
       "2016-01-15 00:00:00                          2.606185   \n",
       "2016-01-15 01:00:00                          2.488248   \n",
       "2016-01-15 02:00:00                          2.458187   \n",
       "\n",
       "                     secondary_cleaner.state.floatbank2_a_air  \\\n",
       "date                                                            \n",
       "2016-01-15 00:00:00                                 25.853109   \n",
       "2016-01-15 01:00:00                                 25.880539   \n",
       "2016-01-15 02:00:00                                 26.005245   \n",
       "\n",
       "                     secondary_cleaner.state.floatbank2_a_level  \\\n",
       "date                                                              \n",
       "2016-01-15 00:00:00                                 -498.526489   \n",
       "2016-01-15 01:00:00                                 -499.989656   \n",
       "2016-01-15 02:00:00                                 -499.929616   \n",
       "\n",
       "                     secondary_cleaner.state.floatbank2_b_air  \\\n",
       "date                                                            \n",
       "2016-01-15 00:00:00                                 23.893660   \n",
       "2016-01-15 01:00:00                                 23.889530   \n",
       "2016-01-15 02:00:00                                 23.886657   \n",
       "\n",
       "                     secondary_cleaner.state.floatbank2_b_level  \\\n",
       "date                                                              \n",
       "2016-01-15 00:00:00                                 -501.406281   \n",
       "2016-01-15 01:00:00                                 -500.372428   \n",
       "2016-01-15 02:00:00                                 -499.951928   \n",
       "\n",
       "                     secondary_cleaner.state.floatbank3_a_air  \\\n",
       "date                                                            \n",
       "2016-01-15 00:00:00                                 23.961798   \n",
       "2016-01-15 01:00:00                                 23.970550   \n",
       "2016-01-15 02:00:00                                 23.913535   \n",
       "\n",
       "                     secondary_cleaner.state.floatbank3_a_level  \\\n",
       "date                                                              \n",
       "2016-01-15 00:00:00                                 -495.262817   \n",
       "2016-01-15 01:00:00                                 -500.085473   \n",
       "2016-01-15 02:00:00                                 -499.442343   \n",
       "\n",
       "                     secondary_cleaner.state.floatbank3_b_air  \\\n",
       "date                                                            \n",
       "2016-01-15 00:00:00                                 21.940409   \n",
       "2016-01-15 01:00:00                                 22.085714   \n",
       "2016-01-15 02:00:00                                 23.957717   \n",
       "\n",
       "                     secondary_cleaner.state.floatbank3_b_level  \\\n",
       "date                                                              \n",
       "2016-01-15 00:00:00                                 -499.340973   \n",
       "2016-01-15 01:00:00                                 -499.446897   \n",
       "2016-01-15 02:00:00                                 -499.901982   \n",
       "\n",
       "                     secondary_cleaner.state.floatbank4_a_air  \\\n",
       "date                                                            \n",
       "2016-01-15 00:00:00                                 14.016835   \n",
       "2016-01-15 01:00:00                                 13.992281   \n",
       "2016-01-15 02:00:00                                 14.015015   \n",
       "\n",
       "                     secondary_cleaner.state.floatbank4_a_level  \\\n",
       "date                                                              \n",
       "2016-01-15 00:00:00                                 -502.488007   \n",
       "2016-01-15 01:00:00                                 -505.503262   \n",
       "2016-01-15 02:00:00                                 -502.520901   \n",
       "\n",
       "                     secondary_cleaner.state.floatbank4_b_air  \\\n",
       "date                                                            \n",
       "2016-01-15 00:00:00                                 12.099931   \n",
       "2016-01-15 01:00:00                                 11.950531   \n",
       "2016-01-15 02:00:00                                 11.912783   \n",
       "\n",
       "                     secondary_cleaner.state.floatbank4_b_level  \\\n",
       "date                                                              \n",
       "2016-01-15 00:00:00                                 -504.715942   \n",
       "2016-01-15 01:00:00                                 -501.331529   \n",
       "2016-01-15 02:00:00                                 -501.133383   \n",
       "\n",
       "                     secondary_cleaner.state.floatbank5_a_air  \\\n",
       "date                                                            \n",
       "2016-01-15 00:00:00                                  9.925633   \n",
       "2016-01-15 01:00:00                                 10.039245   \n",
       "2016-01-15 02:00:00                                 10.070913   \n",
       "\n",
       "                     secondary_cleaner.state.floatbank5_a_level  \\\n",
       "date                                                              \n",
       "2016-01-15 00:00:00                                 -498.310211   \n",
       "2016-01-15 01:00:00                                 -500.169983   \n",
       "2016-01-15 02:00:00                                 -500.129135   \n",
       "\n",
       "                     secondary_cleaner.state.floatbank5_b_air  \\\n",
       "date                                                            \n",
       "2016-01-15 00:00:00                                  8.079666   \n",
       "2016-01-15 01:00:00                                  7.984757   \n",
       "2016-01-15 02:00:00                                  8.013877   \n",
       "\n",
       "                     secondary_cleaner.state.floatbank5_b_level  \\\n",
       "date                                                              \n",
       "2016-01-15 00:00:00                                 -500.470978   \n",
       "2016-01-15 01:00:00                                 -500.582168   \n",
       "2016-01-15 02:00:00                                 -500.517572   \n",
       "\n",
       "                     secondary_cleaner.state.floatbank6_a_air  \\\n",
       "date                                                            \n",
       "2016-01-15 00:00:00                                 14.151341   \n",
       "2016-01-15 01:00:00                                 13.998353   \n",
       "2016-01-15 02:00:00                                 14.028663   \n",
       "\n",
       "                     secondary_cleaner.state.floatbank6_a_level  \n",
       "date                                                             \n",
       "2016-01-15 00:00:00                                 -605.841980  \n",
       "2016-01-15 01:00:00                                 -599.787184  \n",
       "2016-01-15 02:00:00                                 -601.427363  "
      ]
     },
     "execution_count": 10,
     "metadata": {},
     "output_type": "execute_result"
    }
   ],
   "source": [
    "df_gold_full.head(3)"
   ]
  },
  {
   "cell_type": "code",
   "execution_count": 11,
   "metadata": {
    "collapsed": true
   },
   "outputs": [
    {
     "name": "stdout",
     "output_type": "stream",
     "text": [
      "<class 'pandas.core.frame.DataFrame'>\n",
      "Index: 19439 entries, 2016-01-15 00:00:00 to 2018-08-18 10:59:59\n",
      "Data columns (total 86 columns):\n",
      " #   Column                                              Non-Null Count  Dtype  \n",
      "---  ------                                              --------------  -----  \n",
      " 0   final.output.concentrate_ag                         19438 non-null  float64\n",
      " 1   final.output.concentrate_pb                         19438 non-null  float64\n",
      " 2   final.output.concentrate_sol                        19228 non-null  float64\n",
      " 3   final.output.concentrate_au                         19439 non-null  float64\n",
      " 4   final.output.recovery                               19439 non-null  float64\n",
      " 5   final.output.tail_ag                                19438 non-null  float64\n",
      " 6   final.output.tail_pb                                19338 non-null  float64\n",
      " 7   final.output.tail_sol                               19433 non-null  float64\n",
      " 8   final.output.tail_au                                19439 non-null  float64\n",
      " 9   primary_cleaner.input.sulfate                       19415 non-null  float64\n",
      " 10  primary_cleaner.input.depressant                    19402 non-null  float64\n",
      " 11  primary_cleaner.input.feed_size                     19439 non-null  float64\n",
      " 12  primary_cleaner.input.xanthate                      19335 non-null  float64\n",
      " 13  primary_cleaner.output.concentrate_ag               19439 non-null  float64\n",
      " 14  primary_cleaner.output.concentrate_pb               19323 non-null  float64\n",
      " 15  primary_cleaner.output.concentrate_sol              19069 non-null  float64\n",
      " 16  primary_cleaner.output.concentrate_au               19439 non-null  float64\n",
      " 17  primary_cleaner.output.tail_ag                      19435 non-null  float64\n",
      " 18  primary_cleaner.output.tail_pb                      19418 non-null  float64\n",
      " 19  primary_cleaner.output.tail_sol                     19377 non-null  float64\n",
      " 20  primary_cleaner.output.tail_au                      19439 non-null  float64\n",
      " 21  primary_cleaner.state.floatbank8_a_air              19435 non-null  float64\n",
      " 22  primary_cleaner.state.floatbank8_a_level            19438 non-null  float64\n",
      " 23  primary_cleaner.state.floatbank8_b_air              19435 non-null  float64\n",
      " 24  primary_cleaner.state.floatbank8_b_level            19438 non-null  float64\n",
      " 25  primary_cleaner.state.floatbank8_c_air              19437 non-null  float64\n",
      " 26  primary_cleaner.state.floatbank8_c_level            19438 non-null  float64\n",
      " 27  primary_cleaner.state.floatbank8_d_air              19436 non-null  float64\n",
      " 28  primary_cleaner.state.floatbank8_d_level            19438 non-null  float64\n",
      " 29  rougher.calculation.sulfate_to_au_concentrate       19437 non-null  float64\n",
      " 30  rougher.calculation.floatbank10_sulfate_to_au_feed  19437 non-null  float64\n",
      " 31  rougher.calculation.floatbank11_sulfate_to_au_feed  19437 non-null  float64\n",
      " 32  rougher.calculation.au_pb_ratio                     19439 non-null  float64\n",
      " 33  rougher.input.feed_ag                               19439 non-null  float64\n",
      " 34  rougher.input.feed_pb                               19339 non-null  float64\n",
      " 35  rougher.input.feed_rate                             19428 non-null  float64\n",
      " 36  rougher.input.feed_size                             19294 non-null  float64\n",
      " 37  rougher.input.feed_sol                              19340 non-null  float64\n",
      " 38  rougher.input.feed_au                               19439 non-null  float64\n",
      " 39  rougher.input.floatbank10_sulfate                   19405 non-null  float64\n",
      " 40  rougher.input.floatbank10_xanthate                  19431 non-null  float64\n",
      " 41  rougher.input.floatbank11_sulfate                   19395 non-null  float64\n",
      " 42  rougher.input.floatbank11_xanthate                  18986 non-null  float64\n",
      " 43  rougher.output.concentrate_ag                       19439 non-null  float64\n",
      " 44  rougher.output.concentrate_pb                       19439 non-null  float64\n",
      " 45  rougher.output.concentrate_sol                      19416 non-null  float64\n",
      " 46  rougher.output.concentrate_au                       19439 non-null  float64\n",
      " 47  rougher.output.recovery                             19439 non-null  float64\n",
      " 48  rougher.output.tail_ag                              19438 non-null  float64\n",
      " 49  rougher.output.tail_pb                              19439 non-null  float64\n",
      " 50  rougher.output.tail_sol                             19439 non-null  float64\n",
      " 51  rougher.output.tail_au                              19439 non-null  float64\n",
      " 52  rougher.state.floatbank10_a_air                     19438 non-null  float64\n",
      " 53  rougher.state.floatbank10_a_level                   19438 non-null  float64\n",
      " 54  rougher.state.floatbank10_b_air                     19438 non-null  float64\n",
      " 55  rougher.state.floatbank10_b_level                   19438 non-null  float64\n",
      " 56  rougher.state.floatbank10_c_air                     19438 non-null  float64\n",
      " 57  rougher.state.floatbank10_c_level                   19438 non-null  float64\n",
      " 58  rougher.state.floatbank10_d_air                     19439 non-null  float64\n",
      " 59  rougher.state.floatbank10_d_level                   19439 non-null  float64\n",
      " 60  rougher.state.floatbank10_e_air                     19003 non-null  float64\n",
      " 61  rougher.state.floatbank10_e_level                   19439 non-null  float64\n",
      " 62  rougher.state.floatbank10_f_air                     19439 non-null  float64\n",
      " 63  rougher.state.floatbank10_f_level                   19439 non-null  float64\n",
      " 64  secondary_cleaner.output.tail_ag                    19437 non-null  float64\n",
      " 65  secondary_cleaner.output.tail_pb                    19427 non-null  float64\n",
      " 66  secondary_cleaner.output.tail_sol                   17691 non-null  float64\n",
      " 67  secondary_cleaner.output.tail_au                    19439 non-null  float64\n",
      " 68  secondary_cleaner.state.floatbank2_a_air            19219 non-null  float64\n",
      " 69  secondary_cleaner.state.floatbank2_a_level          19438 non-null  float64\n",
      " 70  secondary_cleaner.state.floatbank2_b_air            19416 non-null  float64\n",
      " 71  secondary_cleaner.state.floatbank2_b_level          19438 non-null  float64\n",
      " 72  secondary_cleaner.state.floatbank3_a_air            19426 non-null  float64\n",
      " 73  secondary_cleaner.state.floatbank3_a_level          19438 non-null  float64\n",
      " 74  secondary_cleaner.state.floatbank3_b_air            19438 non-null  float64\n",
      " 75  secondary_cleaner.state.floatbank3_b_level          19438 non-null  float64\n",
      " 76  secondary_cleaner.state.floatbank4_a_air            19433 non-null  float64\n",
      " 77  secondary_cleaner.state.floatbank4_a_level          19438 non-null  float64\n",
      " 78  secondary_cleaner.state.floatbank4_b_air            19438 non-null  float64\n",
      " 79  secondary_cleaner.state.floatbank4_b_level          19438 non-null  float64\n",
      " 80  secondary_cleaner.state.floatbank5_a_air            19438 non-null  float64\n",
      " 81  secondary_cleaner.state.floatbank5_a_level          19438 non-null  float64\n",
      " 82  secondary_cleaner.state.floatbank5_b_air            19438 non-null  float64\n",
      " 83  secondary_cleaner.state.floatbank5_b_level          19438 non-null  float64\n",
      " 84  secondary_cleaner.state.floatbank6_a_air            19437 non-null  float64\n",
      " 85  secondary_cleaner.state.floatbank6_a_level          19438 non-null  float64\n",
      "dtypes: float64(86)\n",
      "memory usage: 12.9+ MB\n"
     ]
    }
   ],
   "source": [
    "df_gold_full.info()"
   ]
  },
  {
   "cell_type": "code",
   "execution_count": 12,
   "metadata": {},
   "outputs": [
    {
     "data": {
      "text/html": [
       "<div>\n",
       "<style scoped>\n",
       "    .dataframe tbody tr th:only-of-type {\n",
       "        vertical-align: middle;\n",
       "    }\n",
       "\n",
       "    .dataframe tbody tr th {\n",
       "        vertical-align: top;\n",
       "    }\n",
       "\n",
       "    .dataframe thead th {\n",
       "        text-align: right;\n",
       "    }\n",
       "</style>\n",
       "<table border=\"1\" class=\"dataframe\">\n",
       "  <thead>\n",
       "    <tr style=\"text-align: right;\">\n",
       "      <th></th>\n",
       "      <th>final.output.concentrate_ag</th>\n",
       "      <th>final.output.concentrate_pb</th>\n",
       "      <th>final.output.concentrate_sol</th>\n",
       "      <th>final.output.concentrate_au</th>\n",
       "      <th>final.output.recovery</th>\n",
       "      <th>final.output.tail_ag</th>\n",
       "      <th>final.output.tail_pb</th>\n",
       "      <th>final.output.tail_sol</th>\n",
       "      <th>final.output.tail_au</th>\n",
       "      <th>primary_cleaner.input.sulfate</th>\n",
       "      <th>primary_cleaner.input.depressant</th>\n",
       "      <th>primary_cleaner.input.feed_size</th>\n",
       "      <th>primary_cleaner.input.xanthate</th>\n",
       "      <th>primary_cleaner.output.concentrate_ag</th>\n",
       "      <th>primary_cleaner.output.concentrate_pb</th>\n",
       "      <th>primary_cleaner.output.concentrate_sol</th>\n",
       "      <th>primary_cleaner.output.concentrate_au</th>\n",
       "      <th>primary_cleaner.output.tail_ag</th>\n",
       "      <th>primary_cleaner.output.tail_pb</th>\n",
       "      <th>primary_cleaner.output.tail_sol</th>\n",
       "      <th>primary_cleaner.output.tail_au</th>\n",
       "      <th>primary_cleaner.state.floatbank8_a_air</th>\n",
       "      <th>primary_cleaner.state.floatbank8_a_level</th>\n",
       "      <th>primary_cleaner.state.floatbank8_b_air</th>\n",
       "      <th>primary_cleaner.state.floatbank8_b_level</th>\n",
       "      <th>primary_cleaner.state.floatbank8_c_air</th>\n",
       "      <th>primary_cleaner.state.floatbank8_c_level</th>\n",
       "      <th>primary_cleaner.state.floatbank8_d_air</th>\n",
       "      <th>primary_cleaner.state.floatbank8_d_level</th>\n",
       "      <th>rougher.calculation.sulfate_to_au_concentrate</th>\n",
       "      <th>rougher.calculation.floatbank10_sulfate_to_au_feed</th>\n",
       "      <th>rougher.calculation.floatbank11_sulfate_to_au_feed</th>\n",
       "      <th>rougher.calculation.au_pb_ratio</th>\n",
       "      <th>rougher.input.feed_ag</th>\n",
       "      <th>rougher.input.feed_pb</th>\n",
       "      <th>rougher.input.feed_rate</th>\n",
       "      <th>rougher.input.feed_size</th>\n",
       "      <th>rougher.input.feed_sol</th>\n",
       "      <th>rougher.input.feed_au</th>\n",
       "      <th>rougher.input.floatbank10_sulfate</th>\n",
       "      <th>rougher.input.floatbank10_xanthate</th>\n",
       "      <th>rougher.input.floatbank11_sulfate</th>\n",
       "      <th>rougher.input.floatbank11_xanthate</th>\n",
       "      <th>rougher.output.concentrate_ag</th>\n",
       "      <th>rougher.output.concentrate_pb</th>\n",
       "      <th>rougher.output.concentrate_sol</th>\n",
       "      <th>rougher.output.concentrate_au</th>\n",
       "      <th>rougher.output.recovery</th>\n",
       "      <th>rougher.output.tail_ag</th>\n",
       "      <th>rougher.output.tail_pb</th>\n",
       "      <th>rougher.output.tail_sol</th>\n",
       "      <th>rougher.output.tail_au</th>\n",
       "      <th>rougher.state.floatbank10_a_air</th>\n",
       "      <th>rougher.state.floatbank10_a_level</th>\n",
       "      <th>rougher.state.floatbank10_b_air</th>\n",
       "      <th>rougher.state.floatbank10_b_level</th>\n",
       "      <th>rougher.state.floatbank10_c_air</th>\n",
       "      <th>rougher.state.floatbank10_c_level</th>\n",
       "      <th>rougher.state.floatbank10_d_air</th>\n",
       "      <th>rougher.state.floatbank10_d_level</th>\n",
       "      <th>rougher.state.floatbank10_e_air</th>\n",
       "      <th>rougher.state.floatbank10_e_level</th>\n",
       "      <th>rougher.state.floatbank10_f_air</th>\n",
       "      <th>rougher.state.floatbank10_f_level</th>\n",
       "      <th>secondary_cleaner.output.tail_ag</th>\n",
       "      <th>secondary_cleaner.output.tail_pb</th>\n",
       "      <th>secondary_cleaner.output.tail_sol</th>\n",
       "      <th>secondary_cleaner.output.tail_au</th>\n",
       "      <th>secondary_cleaner.state.floatbank2_a_air</th>\n",
       "      <th>secondary_cleaner.state.floatbank2_a_level</th>\n",
       "      <th>secondary_cleaner.state.floatbank2_b_air</th>\n",
       "      <th>secondary_cleaner.state.floatbank2_b_level</th>\n",
       "      <th>secondary_cleaner.state.floatbank3_a_air</th>\n",
       "      <th>secondary_cleaner.state.floatbank3_a_level</th>\n",
       "      <th>secondary_cleaner.state.floatbank3_b_air</th>\n",
       "      <th>secondary_cleaner.state.floatbank3_b_level</th>\n",
       "      <th>secondary_cleaner.state.floatbank4_a_air</th>\n",
       "      <th>secondary_cleaner.state.floatbank4_a_level</th>\n",
       "      <th>secondary_cleaner.state.floatbank4_b_air</th>\n",
       "      <th>secondary_cleaner.state.floatbank4_b_level</th>\n",
       "      <th>secondary_cleaner.state.floatbank5_a_air</th>\n",
       "      <th>secondary_cleaner.state.floatbank5_a_level</th>\n",
       "      <th>secondary_cleaner.state.floatbank5_b_air</th>\n",
       "      <th>secondary_cleaner.state.floatbank5_b_level</th>\n",
       "      <th>secondary_cleaner.state.floatbank6_a_air</th>\n",
       "      <th>secondary_cleaner.state.floatbank6_a_level</th>\n",
       "    </tr>\n",
       "  </thead>\n",
       "  <tbody>\n",
       "    <tr>\n",
       "      <th>count</th>\n",
       "      <td>19438.000000</td>\n",
       "      <td>19438.000000</td>\n",
       "      <td>19228.000000</td>\n",
       "      <td>19439.000000</td>\n",
       "      <td>19439.000000</td>\n",
       "      <td>19438.000000</td>\n",
       "      <td>19338.000000</td>\n",
       "      <td>19433.000000</td>\n",
       "      <td>19439.000000</td>\n",
       "      <td>19415.000000</td>\n",
       "      <td>19402.000000</td>\n",
       "      <td>19439.000000</td>\n",
       "      <td>19335.000000</td>\n",
       "      <td>19439.000000</td>\n",
       "      <td>19323.000000</td>\n",
       "      <td>19069.000000</td>\n",
       "      <td>19439.000000</td>\n",
       "      <td>19435.000000</td>\n",
       "      <td>19418.000000</td>\n",
       "      <td>19377.000000</td>\n",
       "      <td>19439.000000</td>\n",
       "      <td>1.943500e+04</td>\n",
       "      <td>19438.000000</td>\n",
       "      <td>1.943500e+04</td>\n",
       "      <td>19438.000000</td>\n",
       "      <td>1.943700e+04</td>\n",
       "      <td>19438.000000</td>\n",
       "      <td>1.943600e+04</td>\n",
       "      <td>19438.000000</td>\n",
       "      <td>1.943700e+04</td>\n",
       "      <td>19437.000000</td>\n",
       "      <td>19437.000000</td>\n",
       "      <td>19439.000000</td>\n",
       "      <td>19439.000000</td>\n",
       "      <td>19339.000000</td>\n",
       "      <td>19428.000000</td>\n",
       "      <td>19294.000000</td>\n",
       "      <td>19340.000000</td>\n",
       "      <td>19439.000000</td>\n",
       "      <td>19405.000000</td>\n",
       "      <td>19431.000000</td>\n",
       "      <td>19395.000000</td>\n",
       "      <td>18986.000000</td>\n",
       "      <td>19439.000000</td>\n",
       "      <td>19439.000000</td>\n",
       "      <td>19416.000000</td>\n",
       "      <td>19439.000000</td>\n",
       "      <td>19439.000000</td>\n",
       "      <td>19438.000000</td>\n",
       "      <td>19439.000000</td>\n",
       "      <td>19439.000000</td>\n",
       "      <td>19439.000000</td>\n",
       "      <td>19438.000000</td>\n",
       "      <td>19438.000000</td>\n",
       "      <td>19438.000000</td>\n",
       "      <td>19438.000000</td>\n",
       "      <td>19438.000000</td>\n",
       "      <td>19438.000000</td>\n",
       "      <td>19439.000000</td>\n",
       "      <td>19439.000000</td>\n",
       "      <td>19003.000000</td>\n",
       "      <td>19439.000000</td>\n",
       "      <td>19439.000000</td>\n",
       "      <td>19439.000000</td>\n",
       "      <td>19437.000000</td>\n",
       "      <td>19427.000000</td>\n",
       "      <td>17691.000000</td>\n",
       "      <td>19439.000000</td>\n",
       "      <td>19219.000000</td>\n",
       "      <td>19438.000000</td>\n",
       "      <td>19416.000000</td>\n",
       "      <td>19438.000000</td>\n",
       "      <td>19426.000000</td>\n",
       "      <td>19438.000000</td>\n",
       "      <td>19438.000000</td>\n",
       "      <td>19438.000000</td>\n",
       "      <td>19433.000000</td>\n",
       "      <td>19438.000000</td>\n",
       "      <td>19438.000000</td>\n",
       "      <td>19438.000000</td>\n",
       "      <td>19438.000000</td>\n",
       "      <td>19438.000000</td>\n",
       "      <td>19438.000000</td>\n",
       "      <td>19438.000000</td>\n",
       "      <td>19437.000000</td>\n",
       "      <td>19438.000000</td>\n",
       "    </tr>\n",
       "    <tr>\n",
       "      <th>mean</th>\n",
       "      <td>5.168470</td>\n",
       "      <td>9.978895</td>\n",
       "      <td>9.501224</td>\n",
       "      <td>44.076513</td>\n",
       "      <td>67.050208</td>\n",
       "      <td>9.688589</td>\n",
       "      <td>2.705795</td>\n",
       "      <td>10.583728</td>\n",
       "      <td>3.042467</td>\n",
       "      <td>144.624774</td>\n",
       "      <td>8.817039</td>\n",
       "      <td>7.307078</td>\n",
       "      <td>1.021795</td>\n",
       "      <td>8.442408</td>\n",
       "      <td>9.829530</td>\n",
       "      <td>10.489499</td>\n",
       "      <td>32.119400</td>\n",
       "      <td>16.145826</td>\n",
       "      <td>3.435656</td>\n",
       "      <td>7.973209</td>\n",
       "      <td>3.914179</td>\n",
       "      <td>1.589354e+03</td>\n",
       "      <td>-491.195012</td>\n",
       "      <td>1.591344e+03</td>\n",
       "      <td>-492.192978</td>\n",
       "      <td>1.586669e+03</td>\n",
       "      <td>-491.980070</td>\n",
       "      <td>1.542912e+03</td>\n",
       "      <td>-488.017382</td>\n",
       "      <td>4.217119e+04</td>\n",
       "      <td>3393.052498</td>\n",
       "      <td>3256.854171</td>\n",
       "      <td>2.420119</td>\n",
       "      <td>8.794927</td>\n",
       "      <td>3.598085</td>\n",
       "      <td>478.320042</td>\n",
       "      <td>58.970310</td>\n",
       "      <td>36.695114</td>\n",
       "      <td>8.266097</td>\n",
       "      <td>12.334373</td>\n",
       "      <td>6.021474</td>\n",
       "      <td>12.064140</td>\n",
       "      <td>6.065533</td>\n",
       "      <td>11.994759</td>\n",
       "      <td>7.606272</td>\n",
       "      <td>28.805571</td>\n",
       "      <td>19.772000</td>\n",
       "      <td>83.328587</td>\n",
       "      <td>5.588982</td>\n",
       "      <td>0.645782</td>\n",
       "      <td>18.057106</td>\n",
       "      <td>1.816391</td>\n",
       "      <td>1105.315068</td>\n",
       "      <td>-376.610690</td>\n",
       "      <td>1320.221139</td>\n",
       "      <td>-467.247826</td>\n",
       "      <td>1299.968799</td>\n",
       "      <td>-467.716946</td>\n",
       "      <td>1211.563299</td>\n",
       "      <td>-468.239912</td>\n",
       "      <td>1080.869685</td>\n",
       "      <td>-466.037742</td>\n",
       "      <td>1025.274256</td>\n",
       "      <td>-466.265327</td>\n",
       "      <td>14.586833</td>\n",
       "      <td>5.777703</td>\n",
       "      <td>7.167247</td>\n",
       "      <td>4.339625</td>\n",
       "      <td>28.705564</td>\n",
       "      <td>-502.367331</td>\n",
       "      <td>24.106800</td>\n",
       "      <td>-503.230712</td>\n",
       "      <td>28.199338</td>\n",
       "      <td>-486.203350</td>\n",
       "      <td>22.200645</td>\n",
       "      <td>-493.742107</td>\n",
       "      <td>18.987674</td>\n",
       "      <td>-485.894516</td>\n",
       "      <td>15.010366</td>\n",
       "      <td>-461.078636</td>\n",
       "      <td>15.694452</td>\n",
       "      <td>-488.684065</td>\n",
       "      <td>12.198224</td>\n",
       "      <td>-487.149827</td>\n",
       "      <td>18.959024</td>\n",
       "      <td>-505.436305</td>\n",
       "    </tr>\n",
       "    <tr>\n",
       "      <th>std</th>\n",
       "      <td>1.372348</td>\n",
       "      <td>1.669240</td>\n",
       "      <td>2.787537</td>\n",
       "      <td>5.129784</td>\n",
       "      <td>10.125840</td>\n",
       "      <td>2.328642</td>\n",
       "      <td>0.949077</td>\n",
       "      <td>2.868782</td>\n",
       "      <td>0.922808</td>\n",
       "      <td>44.464071</td>\n",
       "      <td>3.286186</td>\n",
       "      <td>0.613509</td>\n",
       "      <td>0.513254</td>\n",
       "      <td>2.054465</td>\n",
       "      <td>2.556843</td>\n",
       "      <td>3.909639</td>\n",
       "      <td>5.627611</td>\n",
       "      <td>3.548598</td>\n",
       "      <td>1.392536</td>\n",
       "      <td>2.212677</td>\n",
       "      <td>1.593034</td>\n",
       "      <td>1.289968e+02</td>\n",
       "      <td>32.431842</td>\n",
       "      <td>1.318109e+02</td>\n",
       "      <td>33.794822</td>\n",
       "      <td>1.361114e+02</td>\n",
       "      <td>32.711455</td>\n",
       "      <td>2.461996e+02</td>\n",
       "      <td>43.959780</td>\n",
       "      <td>3.243621e+05</td>\n",
       "      <td>4943.845943</td>\n",
       "      <td>5781.423659</td>\n",
       "      <td>0.814935</td>\n",
       "      <td>1.936847</td>\n",
       "      <td>1.049486</td>\n",
       "      <td>105.373758</td>\n",
       "      <td>21.634478</td>\n",
       "      <td>5.145445</td>\n",
       "      <td>1.955092</td>\n",
       "      <td>3.427317</td>\n",
       "      <td>1.127263</td>\n",
       "      <td>3.784221</td>\n",
       "      <td>1.099118</td>\n",
       "      <td>2.733862</td>\n",
       "      <td>1.796757</td>\n",
       "      <td>5.944207</td>\n",
       "      <td>3.753600</td>\n",
       "      <td>14.148086</td>\n",
       "      <td>1.111288</td>\n",
       "      <td>0.251526</td>\n",
       "      <td>3.449218</td>\n",
       "      <td>0.680046</td>\n",
       "      <td>160.826798</td>\n",
       "      <td>93.909667</td>\n",
       "      <td>176.287095</td>\n",
       "      <td>54.673142</td>\n",
       "      <td>202.804325</td>\n",
       "      <td>53.534825</td>\n",
       "      <td>204.019326</td>\n",
       "      <td>53.921458</td>\n",
       "      <td>172.149992</td>\n",
       "      <td>57.384424</td>\n",
       "      <td>164.487837</td>\n",
       "      <td>57.850263</td>\n",
       "      <td>4.265202</td>\n",
       "      <td>2.774598</td>\n",
       "      <td>3.916079</td>\n",
       "      <td>2.326751</td>\n",
       "      <td>5.458789</td>\n",
       "      <td>53.571950</td>\n",
       "      <td>5.749616</td>\n",
       "      <td>56.567724</td>\n",
       "      <td>6.134908</td>\n",
       "      <td>54.412349</td>\n",
       "      <td>5.574001</td>\n",
       "      <td>43.372158</td>\n",
       "      <td>5.411058</td>\n",
       "      <td>47.758570</td>\n",
       "      <td>4.890228</td>\n",
       "      <td>67.405524</td>\n",
       "      <td>5.510974</td>\n",
       "      <td>34.533396</td>\n",
       "      <td>5.333024</td>\n",
       "      <td>38.347312</td>\n",
       "      <td>5.550498</td>\n",
       "      <td>37.689057</td>\n",
       "    </tr>\n",
       "    <tr>\n",
       "      <th>min</th>\n",
       "      <td>0.000000</td>\n",
       "      <td>0.000000</td>\n",
       "      <td>0.000000</td>\n",
       "      <td>0.000000</td>\n",
       "      <td>0.000000</td>\n",
       "      <td>0.000000</td>\n",
       "      <td>0.000000</td>\n",
       "      <td>0.000000</td>\n",
       "      <td>0.000000</td>\n",
       "      <td>0.003112</td>\n",
       "      <td>0.000000</td>\n",
       "      <td>1.080000</td>\n",
       "      <td>0.000005</td>\n",
       "      <td>0.000000</td>\n",
       "      <td>0.000000</td>\n",
       "      <td>0.000000</td>\n",
       "      <td>0.000000</td>\n",
       "      <td>0.000000</td>\n",
       "      <td>0.000000</td>\n",
       "      <td>0.000000</td>\n",
       "      <td>0.000000</td>\n",
       "      <td>5.445860e-32</td>\n",
       "      <td>-798.641662</td>\n",
       "      <td>6.647490e-32</td>\n",
       "      <td>-799.997015</td>\n",
       "      <td>4.033736e-32</td>\n",
       "      <td>-799.960571</td>\n",
       "      <td>4.039220e-32</td>\n",
       "      <td>-799.794250</td>\n",
       "      <td>-4.223520e+07</td>\n",
       "      <td>-486.598675</td>\n",
       "      <td>-264.982785</td>\n",
       "      <td>-0.010548</td>\n",
       "      <td>0.010000</td>\n",
       "      <td>0.010000</td>\n",
       "      <td>0.002986</td>\n",
       "      <td>0.046369</td>\n",
       "      <td>0.010000</td>\n",
       "      <td>0.010000</td>\n",
       "      <td>0.001083</td>\n",
       "      <td>0.000568</td>\n",
       "      <td>0.000077</td>\n",
       "      <td>0.000290</td>\n",
       "      <td>0.000000</td>\n",
       "      <td>0.000000</td>\n",
       "      <td>0.000000</td>\n",
       "      <td>0.000000</td>\n",
       "      <td>0.000000</td>\n",
       "      <td>0.594562</td>\n",
       "      <td>0.007566</td>\n",
       "      <td>10.014648</td>\n",
       "      <td>0.020676</td>\n",
       "      <td>-0.042069</td>\n",
       "      <td>-657.949759</td>\n",
       "      <td>-0.721806</td>\n",
       "      <td>-650.260008</td>\n",
       "      <td>-0.056636</td>\n",
       "      <td>-647.544439</td>\n",
       "      <td>-0.992219</td>\n",
       "      <td>-648.390665</td>\n",
       "      <td>-1.982295</td>\n",
       "      <td>-649.443911</td>\n",
       "      <td>-2.593390</td>\n",
       "      <td>-649.949283</td>\n",
       "      <td>0.000000</td>\n",
       "      <td>0.000000</td>\n",
       "      <td>0.000000</td>\n",
       "      <td>0.000000</td>\n",
       "      <td>0.077503</td>\n",
       "      <td>-799.606441</td>\n",
       "      <td>0.000000</td>\n",
       "      <td>-799.873878</td>\n",
       "      <td>0.000000</td>\n",
       "      <td>-799.755798</td>\n",
       "      <td>0.000000</td>\n",
       "      <td>-809.333008</td>\n",
       "      <td>0.000000</td>\n",
       "      <td>-799.798523</td>\n",
       "      <td>0.000000</td>\n",
       "      <td>-800.836914</td>\n",
       "      <td>-0.372054</td>\n",
       "      <td>-797.323986</td>\n",
       "      <td>0.528083</td>\n",
       "      <td>-800.220337</td>\n",
       "      <td>-0.079426</td>\n",
       "      <td>-809.741464</td>\n",
       "    </tr>\n",
       "    <tr>\n",
       "      <th>25%</th>\n",
       "      <td>4.251240</td>\n",
       "      <td>9.137262</td>\n",
       "      <td>7.722820</td>\n",
       "      <td>43.402215</td>\n",
       "      <td>63.299712</td>\n",
       "      <td>8.062878</td>\n",
       "      <td>2.040119</td>\n",
       "      <td>8.938947</td>\n",
       "      <td>2.461138</td>\n",
       "      <td>114.107029</td>\n",
       "      <td>6.076909</td>\n",
       "      <td>6.940000</td>\n",
       "      <td>0.697224</td>\n",
       "      <td>7.263288</td>\n",
       "      <td>8.702328</td>\n",
       "      <td>7.893893</td>\n",
       "      <td>30.463140</td>\n",
       "      <td>14.017742</td>\n",
       "      <td>2.504365</td>\n",
       "      <td>6.747483</td>\n",
       "      <td>2.924844</td>\n",
       "      <td>1.505063e+03</td>\n",
       "      <td>-500.308544</td>\n",
       "      <td>1.503630e+03</td>\n",
       "      <td>-500.437171</td>\n",
       "      <td>1.500927e+03</td>\n",
       "      <td>-500.703932</td>\n",
       "      <td>1.494219e+03</td>\n",
       "      <td>-500.458365</td>\n",
       "      <td>4.070095e+04</td>\n",
       "      <td>2611.425833</td>\n",
       "      <td>2551.437587</td>\n",
       "      <td>2.035434</td>\n",
       "      <td>7.237967</td>\n",
       "      <td>2.887280</td>\n",
       "      <td>416.525453</td>\n",
       "      <td>47.435103</td>\n",
       "      <td>34.207799</td>\n",
       "      <td>6.854384</td>\n",
       "      <td>10.000362</td>\n",
       "      <td>5.398678</td>\n",
       "      <td>9.998460</td>\n",
       "      <td>5.402368</td>\n",
       "      <td>10.628337</td>\n",
       "      <td>6.725987</td>\n",
       "      <td>27.224120</td>\n",
       "      <td>18.802523</td>\n",
       "      <td>81.037957</td>\n",
       "      <td>4.889892</td>\n",
       "      <td>0.477728</td>\n",
       "      <td>15.822525</td>\n",
       "      <td>1.404207</td>\n",
       "      <td>999.661867</td>\n",
       "      <td>-499.835165</td>\n",
       "      <td>1199.626115</td>\n",
       "      <td>-500.201130</td>\n",
       "      <td>1151.076301</td>\n",
       "      <td>-500.217218</td>\n",
       "      <td>1061.051788</td>\n",
       "      <td>-500.386386</td>\n",
       "      <td>998.675263</td>\n",
       "      <td>-500.232191</td>\n",
       "      <td>900.995511</td>\n",
       "      <td>-500.522553</td>\n",
       "      <td>12.640239</td>\n",
       "      <td>3.864733</td>\n",
       "      <td>3.845475</td>\n",
       "      <td>3.182770</td>\n",
       "      <td>25.048462</td>\n",
       "      <td>-500.233700</td>\n",
       "      <td>20.919853</td>\n",
       "      <td>-500.253794</td>\n",
       "      <td>24.949227</td>\n",
       "      <td>-500.213546</td>\n",
       "      <td>18.995924</td>\n",
       "      <td>-500.123034</td>\n",
       "      <td>14.975734</td>\n",
       "      <td>-500.704892</td>\n",
       "      <td>11.940294</td>\n",
       "      <td>-500.187742</td>\n",
       "      <td>10.988606</td>\n",
       "      <td>-500.458467</td>\n",
       "      <td>8.971105</td>\n",
       "      <td>-500.129462</td>\n",
       "      <td>14.983037</td>\n",
       "      <td>-500.728067</td>\n",
       "    </tr>\n",
       "    <tr>\n",
       "      <th>50%</th>\n",
       "      <td>5.066094</td>\n",
       "      <td>10.102433</td>\n",
       "      <td>9.218961</td>\n",
       "      <td>45.011244</td>\n",
       "      <td>68.172738</td>\n",
       "      <td>9.743623</td>\n",
       "      <td>2.748730</td>\n",
       "      <td>10.622456</td>\n",
       "      <td>2.984909</td>\n",
       "      <td>143.232103</td>\n",
       "      <td>8.038311</td>\n",
       "      <td>7.280000</td>\n",
       "      <td>0.940863</td>\n",
       "      <td>8.507298</td>\n",
       "      <td>10.152433</td>\n",
       "      <td>10.314632</td>\n",
       "      <td>32.841295</td>\n",
       "      <td>15.842836</td>\n",
       "      <td>3.271153</td>\n",
       "      <td>8.183673</td>\n",
       "      <td>3.623234</td>\n",
       "      <td>1.600597e+03</td>\n",
       "      <td>-499.926134</td>\n",
       "      <td>1.600521e+03</td>\n",
       "      <td>-499.956767</td>\n",
       "      <td>1.600254e+03</td>\n",
       "      <td>-499.909524</td>\n",
       "      <td>1.599447e+03</td>\n",
       "      <td>-499.905974</td>\n",
       "      <td>4.469648e+04</td>\n",
       "      <td>3018.353876</td>\n",
       "      <td>2997.218088</td>\n",
       "      <td>2.309665</td>\n",
       "      <td>8.593574</td>\n",
       "      <td>3.534895</td>\n",
       "      <td>499.416120</td>\n",
       "      <td>54.610197</td>\n",
       "      <td>37.202650</td>\n",
       "      <td>8.125839</td>\n",
       "      <td>12.001174</td>\n",
       "      <td>6.008273</td>\n",
       "      <td>12.000204</td>\n",
       "      <td>6.098580</td>\n",
       "      <td>12.098115</td>\n",
       "      <td>7.742580</td>\n",
       "      <td>29.835345</td>\n",
       "      <td>20.280214</td>\n",
       "      <td>86.188892</td>\n",
       "      <td>5.765802</td>\n",
       "      <td>0.617465</td>\n",
       "      <td>18.106867</td>\n",
       "      <td>1.808170</td>\n",
       "      <td>1001.072890</td>\n",
       "      <td>-300.263994</td>\n",
       "      <td>1301.579988</td>\n",
       "      <td>-499.784045</td>\n",
       "      <td>1300.211537</td>\n",
       "      <td>-499.713364</td>\n",
       "      <td>1201.569141</td>\n",
       "      <td>-499.532412</td>\n",
       "      <td>1050.029461</td>\n",
       "      <td>-499.663089</td>\n",
       "      <td>999.924821</td>\n",
       "      <td>-499.471777</td>\n",
       "      <td>15.641902</td>\n",
       "      <td>5.344073</td>\n",
       "      <td>7.685827</td>\n",
       "      <td>4.072412</td>\n",
       "      <td>29.099943</td>\n",
       "      <td>-499.973250</td>\n",
       "      <td>25.043289</td>\n",
       "      <td>-500.015439</td>\n",
       "      <td>27.982129</td>\n",
       "      <td>-499.930680</td>\n",
       "      <td>22.011231</td>\n",
       "      <td>-499.981902</td>\n",
       "      <td>18.017481</td>\n",
       "      <td>-499.837793</td>\n",
       "      <td>14.971014</td>\n",
       "      <td>-499.459786</td>\n",
       "      <td>15.000036</td>\n",
       "      <td>-499.802605</td>\n",
       "      <td>11.019433</td>\n",
       "      <td>-499.935317</td>\n",
       "      <td>19.960541</td>\n",
       "      <td>-500.048400</td>\n",
       "    </tr>\n",
       "    <tr>\n",
       "      <th>75%</th>\n",
       "      <td>5.895527</td>\n",
       "      <td>11.035769</td>\n",
       "      <td>10.947813</td>\n",
       "      <td>46.275313</td>\n",
       "      <td>72.686642</td>\n",
       "      <td>11.134294</td>\n",
       "      <td>3.333216</td>\n",
       "      <td>12.104271</td>\n",
       "      <td>3.571351</td>\n",
       "      <td>175.075656</td>\n",
       "      <td>11.013521</td>\n",
       "      <td>7.670000</td>\n",
       "      <td>1.210990</td>\n",
       "      <td>9.809001</td>\n",
       "      <td>11.424971</td>\n",
       "      <td>13.446702</td>\n",
       "      <td>35.048006</td>\n",
       "      <td>18.013975</td>\n",
       "      <td>4.181748</td>\n",
       "      <td>9.548586</td>\n",
       "      <td>4.585705</td>\n",
       "      <td>1.697658e+03</td>\n",
       "      <td>-499.433950</td>\n",
       "      <td>1.699218e+03</td>\n",
       "      <td>-499.373336</td>\n",
       "      <td>1.699483e+03</td>\n",
       "      <td>-498.857643</td>\n",
       "      <td>1.698525e+03</td>\n",
       "      <td>-499.064695</td>\n",
       "      <td>4.816821e+04</td>\n",
       "      <td>3676.769750</td>\n",
       "      <td>3601.998911</td>\n",
       "      <td>2.731794</td>\n",
       "      <td>10.213771</td>\n",
       "      <td>4.244161</td>\n",
       "      <td>550.172183</td>\n",
       "      <td>65.023044</td>\n",
       "      <td>40.039133</td>\n",
       "      <td>9.769917</td>\n",
       "      <td>14.716595</td>\n",
       "      <td>6.798051</td>\n",
       "      <td>14.636766</td>\n",
       "      <td>6.801233</td>\n",
       "      <td>13.736996</td>\n",
       "      <td>8.565199</td>\n",
       "      <td>32.189933</td>\n",
       "      <td>21.717843</td>\n",
       "      <td>90.010670</td>\n",
       "      <td>6.389234</td>\n",
       "      <td>0.778271</td>\n",
       "      <td>20.088151</td>\n",
       "      <td>2.211861</td>\n",
       "      <td>1205.620588</td>\n",
       "      <td>-299.981998</td>\n",
       "      <td>1448.630789</td>\n",
       "      <td>-400.615589</td>\n",
       "      <td>1449.464001</td>\n",
       "      <td>-400.985743</td>\n",
       "      <td>1352.880320</td>\n",
       "      <td>-401.638550</td>\n",
       "      <td>1199.425140</td>\n",
       "      <td>-401.161191</td>\n",
       "      <td>1099.719692</td>\n",
       "      <td>-401.511042</td>\n",
       "      <td>17.358217</td>\n",
       "      <td>7.788467</td>\n",
       "      <td>10.411296</td>\n",
       "      <td>5.063081</td>\n",
       "      <td>33.012536</td>\n",
       "      <td>-499.671261</td>\n",
       "      <td>28.008197</td>\n",
       "      <td>-499.785698</td>\n",
       "      <td>33.002798</td>\n",
       "      <td>-499.325739</td>\n",
       "      <td>25.998206</td>\n",
       "      <td>-499.812834</td>\n",
       "      <td>23.012470</td>\n",
       "      <td>-498.249730</td>\n",
       "      <td>19.034162</td>\n",
       "      <td>-400.118106</td>\n",
       "      <td>18.026190</td>\n",
       "      <td>-498.384187</td>\n",
       "      <td>14.019088</td>\n",
       "      <td>-499.436708</td>\n",
       "      <td>24.003170</td>\n",
       "      <td>-499.495378</td>\n",
       "    </tr>\n",
       "    <tr>\n",
       "      <th>max</th>\n",
       "      <td>16.001945</td>\n",
       "      <td>17.031899</td>\n",
       "      <td>19.615720</td>\n",
       "      <td>52.756638</td>\n",
       "      <td>100.000000</td>\n",
       "      <td>19.552149</td>\n",
       "      <td>5.804178</td>\n",
       "      <td>22.317730</td>\n",
       "      <td>8.245022</td>\n",
       "      <td>265.983123</td>\n",
       "      <td>40.000000</td>\n",
       "      <td>15.500000</td>\n",
       "      <td>4.102454</td>\n",
       "      <td>16.081632</td>\n",
       "      <td>17.081278</td>\n",
       "      <td>22.458114</td>\n",
       "      <td>45.933934</td>\n",
       "      <td>29.459575</td>\n",
       "      <td>9.634565</td>\n",
       "      <td>22.276364</td>\n",
       "      <td>17.788925</td>\n",
       "      <td>2.103104e+03</td>\n",
       "      <td>-57.195404</td>\n",
       "      <td>2.114907e+03</td>\n",
       "      <td>-142.527229</td>\n",
       "      <td>2.013156e+03</td>\n",
       "      <td>-150.937035</td>\n",
       "      <td>2.398904e+03</td>\n",
       "      <td>-30.601828</td>\n",
       "      <td>3.428099e+06</td>\n",
       "      <td>629638.977914</td>\n",
       "      <td>718684.955855</td>\n",
       "      <td>39.379272</td>\n",
       "      <td>14.596026</td>\n",
       "      <td>7.142594</td>\n",
       "      <td>717.508837</td>\n",
       "      <td>484.967466</td>\n",
       "      <td>53.477742</td>\n",
       "      <td>13.731330</td>\n",
       "      <td>36.118275</td>\n",
       "      <td>9.703448</td>\n",
       "      <td>37.980648</td>\n",
       "      <td>9.698407</td>\n",
       "      <td>24.480271</td>\n",
       "      <td>13.617072</td>\n",
       "      <td>38.351193</td>\n",
       "      <td>28.824507</td>\n",
       "      <td>100.000000</td>\n",
       "      <td>12.719177</td>\n",
       "      <td>3.778064</td>\n",
       "      <td>66.117188</td>\n",
       "      <td>9.688980</td>\n",
       "      <td>1521.980372</td>\n",
       "      <td>-273.776101</td>\n",
       "      <td>1809.194008</td>\n",
       "      <td>-296.383080</td>\n",
       "      <td>2499.129174</td>\n",
       "      <td>-292.155509</td>\n",
       "      <td>1817.199290</td>\n",
       "      <td>-76.397327</td>\n",
       "      <td>1922.636637</td>\n",
       "      <td>-139.753025</td>\n",
       "      <td>1706.307502</td>\n",
       "      <td>-191.718480</td>\n",
       "      <td>23.264738</td>\n",
       "      <td>17.042505</td>\n",
       "      <td>26.000772</td>\n",
       "      <td>26.811643</td>\n",
       "      <td>52.651399</td>\n",
       "      <td>-127.875565</td>\n",
       "      <td>35.152122</td>\n",
       "      <td>-211.999273</td>\n",
       "      <td>44.260464</td>\n",
       "      <td>-191.678810</td>\n",
       "      <td>35.072841</td>\n",
       "      <td>-159.742331</td>\n",
       "      <td>30.115735</td>\n",
       "      <td>-245.239184</td>\n",
       "      <td>31.269706</td>\n",
       "      <td>-6.506986</td>\n",
       "      <td>43.709931</td>\n",
       "      <td>-244.483566</td>\n",
       "      <td>27.926001</td>\n",
       "      <td>-137.740004</td>\n",
       "      <td>32.188906</td>\n",
       "      <td>-104.427459</td>\n",
       "    </tr>\n",
       "  </tbody>\n",
       "</table>\n",
       "</div>"
      ],
      "text/plain": [
       "       final.output.concentrate_ag  final.output.concentrate_pb  \\\n",
       "count                 19438.000000                 19438.000000   \n",
       "mean                      5.168470                     9.978895   \n",
       "std                       1.372348                     1.669240   \n",
       "min                       0.000000                     0.000000   \n",
       "25%                       4.251240                     9.137262   \n",
       "50%                       5.066094                    10.102433   \n",
       "75%                       5.895527                    11.035769   \n",
       "max                      16.001945                    17.031899   \n",
       "\n",
       "       final.output.concentrate_sol  final.output.concentrate_au  \\\n",
       "count                  19228.000000                 19439.000000   \n",
       "mean                       9.501224                    44.076513   \n",
       "std                        2.787537                     5.129784   \n",
       "min                        0.000000                     0.000000   \n",
       "25%                        7.722820                    43.402215   \n",
       "50%                        9.218961                    45.011244   \n",
       "75%                       10.947813                    46.275313   \n",
       "max                       19.615720                    52.756638   \n",
       "\n",
       "       final.output.recovery  final.output.tail_ag  final.output.tail_pb  \\\n",
       "count           19439.000000          19438.000000          19338.000000   \n",
       "mean               67.050208              9.688589              2.705795   \n",
       "std                10.125840              2.328642              0.949077   \n",
       "min                 0.000000              0.000000              0.000000   \n",
       "25%                63.299712              8.062878              2.040119   \n",
       "50%                68.172738              9.743623              2.748730   \n",
       "75%                72.686642             11.134294              3.333216   \n",
       "max               100.000000             19.552149              5.804178   \n",
       "\n",
       "       final.output.tail_sol  final.output.tail_au  \\\n",
       "count           19433.000000          19439.000000   \n",
       "mean               10.583728              3.042467   \n",
       "std                 2.868782              0.922808   \n",
       "min                 0.000000              0.000000   \n",
       "25%                 8.938947              2.461138   \n",
       "50%                10.622456              2.984909   \n",
       "75%                12.104271              3.571351   \n",
       "max                22.317730              8.245022   \n",
       "\n",
       "       primary_cleaner.input.sulfate  primary_cleaner.input.depressant  \\\n",
       "count                   19415.000000                      19402.000000   \n",
       "mean                      144.624774                          8.817039   \n",
       "std                        44.464071                          3.286186   \n",
       "min                         0.003112                          0.000000   \n",
       "25%                       114.107029                          6.076909   \n",
       "50%                       143.232103                          8.038311   \n",
       "75%                       175.075656                         11.013521   \n",
       "max                       265.983123                         40.000000   \n",
       "\n",
       "       primary_cleaner.input.feed_size  primary_cleaner.input.xanthate  \\\n",
       "count                     19439.000000                    19335.000000   \n",
       "mean                          7.307078                        1.021795   \n",
       "std                           0.613509                        0.513254   \n",
       "min                           1.080000                        0.000005   \n",
       "25%                           6.940000                        0.697224   \n",
       "50%                           7.280000                        0.940863   \n",
       "75%                           7.670000                        1.210990   \n",
       "max                          15.500000                        4.102454   \n",
       "\n",
       "       primary_cleaner.output.concentrate_ag  \\\n",
       "count                           19439.000000   \n",
       "mean                                8.442408   \n",
       "std                                 2.054465   \n",
       "min                                 0.000000   \n",
       "25%                                 7.263288   \n",
       "50%                                 8.507298   \n",
       "75%                                 9.809001   \n",
       "max                                16.081632   \n",
       "\n",
       "       primary_cleaner.output.concentrate_pb  \\\n",
       "count                           19323.000000   \n",
       "mean                                9.829530   \n",
       "std                                 2.556843   \n",
       "min                                 0.000000   \n",
       "25%                                 8.702328   \n",
       "50%                                10.152433   \n",
       "75%                                11.424971   \n",
       "max                                17.081278   \n",
       "\n",
       "       primary_cleaner.output.concentrate_sol  \\\n",
       "count                            19069.000000   \n",
       "mean                                10.489499   \n",
       "std                                  3.909639   \n",
       "min                                  0.000000   \n",
       "25%                                  7.893893   \n",
       "50%                                 10.314632   \n",
       "75%                                 13.446702   \n",
       "max                                 22.458114   \n",
       "\n",
       "       primary_cleaner.output.concentrate_au  primary_cleaner.output.tail_ag  \\\n",
       "count                           19439.000000                    19435.000000   \n",
       "mean                               32.119400                       16.145826   \n",
       "std                                 5.627611                        3.548598   \n",
       "min                                 0.000000                        0.000000   \n",
       "25%                                30.463140                       14.017742   \n",
       "50%                                32.841295                       15.842836   \n",
       "75%                                35.048006                       18.013975   \n",
       "max                                45.933934                       29.459575   \n",
       "\n",
       "       primary_cleaner.output.tail_pb  primary_cleaner.output.tail_sol  \\\n",
       "count                    19418.000000                     19377.000000   \n",
       "mean                         3.435656                         7.973209   \n",
       "std                          1.392536                         2.212677   \n",
       "min                          0.000000                         0.000000   \n",
       "25%                          2.504365                         6.747483   \n",
       "50%                          3.271153                         8.183673   \n",
       "75%                          4.181748                         9.548586   \n",
       "max                          9.634565                        22.276364   \n",
       "\n",
       "       primary_cleaner.output.tail_au  primary_cleaner.state.floatbank8_a_air  \\\n",
       "count                    19439.000000                            1.943500e+04   \n",
       "mean                         3.914179                            1.589354e+03   \n",
       "std                          1.593034                            1.289968e+02   \n",
       "min                          0.000000                            5.445860e-32   \n",
       "25%                          2.924844                            1.505063e+03   \n",
       "50%                          3.623234                            1.600597e+03   \n",
       "75%                          4.585705                            1.697658e+03   \n",
       "max                         17.788925                            2.103104e+03   \n",
       "\n",
       "       primary_cleaner.state.floatbank8_a_level  \\\n",
       "count                              19438.000000   \n",
       "mean                                -491.195012   \n",
       "std                                   32.431842   \n",
       "min                                 -798.641662   \n",
       "25%                                 -500.308544   \n",
       "50%                                 -499.926134   \n",
       "75%                                 -499.433950   \n",
       "max                                  -57.195404   \n",
       "\n",
       "       primary_cleaner.state.floatbank8_b_air  \\\n",
       "count                            1.943500e+04   \n",
       "mean                             1.591344e+03   \n",
       "std                              1.318109e+02   \n",
       "min                              6.647490e-32   \n",
       "25%                              1.503630e+03   \n",
       "50%                              1.600521e+03   \n",
       "75%                              1.699218e+03   \n",
       "max                              2.114907e+03   \n",
       "\n",
       "       primary_cleaner.state.floatbank8_b_level  \\\n",
       "count                              19438.000000   \n",
       "mean                                -492.192978   \n",
       "std                                   33.794822   \n",
       "min                                 -799.997015   \n",
       "25%                                 -500.437171   \n",
       "50%                                 -499.956767   \n",
       "75%                                 -499.373336   \n",
       "max                                 -142.527229   \n",
       "\n",
       "       primary_cleaner.state.floatbank8_c_air  \\\n",
       "count                            1.943700e+04   \n",
       "mean                             1.586669e+03   \n",
       "std                              1.361114e+02   \n",
       "min                              4.033736e-32   \n",
       "25%                              1.500927e+03   \n",
       "50%                              1.600254e+03   \n",
       "75%                              1.699483e+03   \n",
       "max                              2.013156e+03   \n",
       "\n",
       "       primary_cleaner.state.floatbank8_c_level  \\\n",
       "count                              19438.000000   \n",
       "mean                                -491.980070   \n",
       "std                                   32.711455   \n",
       "min                                 -799.960571   \n",
       "25%                                 -500.703932   \n",
       "50%                                 -499.909524   \n",
       "75%                                 -498.857643   \n",
       "max                                 -150.937035   \n",
       "\n",
       "       primary_cleaner.state.floatbank8_d_air  \\\n",
       "count                            1.943600e+04   \n",
       "mean                             1.542912e+03   \n",
       "std                              2.461996e+02   \n",
       "min                              4.039220e-32   \n",
       "25%                              1.494219e+03   \n",
       "50%                              1.599447e+03   \n",
       "75%                              1.698525e+03   \n",
       "max                              2.398904e+03   \n",
       "\n",
       "       primary_cleaner.state.floatbank8_d_level  \\\n",
       "count                              19438.000000   \n",
       "mean                                -488.017382   \n",
       "std                                   43.959780   \n",
       "min                                 -799.794250   \n",
       "25%                                 -500.458365   \n",
       "50%                                 -499.905974   \n",
       "75%                                 -499.064695   \n",
       "max                                  -30.601828   \n",
       "\n",
       "       rougher.calculation.sulfate_to_au_concentrate  \\\n",
       "count                                   1.943700e+04   \n",
       "mean                                    4.217119e+04   \n",
       "std                                     3.243621e+05   \n",
       "min                                    -4.223520e+07   \n",
       "25%                                     4.070095e+04   \n",
       "50%                                     4.469648e+04   \n",
       "75%                                     4.816821e+04   \n",
       "max                                     3.428099e+06   \n",
       "\n",
       "       rougher.calculation.floatbank10_sulfate_to_au_feed  \\\n",
       "count                                       19437.000000    \n",
       "mean                                         3393.052498    \n",
       "std                                          4943.845943    \n",
       "min                                          -486.598675    \n",
       "25%                                          2611.425833    \n",
       "50%                                          3018.353876    \n",
       "75%                                          3676.769750    \n",
       "max                                        629638.977914    \n",
       "\n",
       "       rougher.calculation.floatbank11_sulfate_to_au_feed  \\\n",
       "count                                       19437.000000    \n",
       "mean                                         3256.854171    \n",
       "std                                          5781.423659    \n",
       "min                                          -264.982785    \n",
       "25%                                          2551.437587    \n",
       "50%                                          2997.218088    \n",
       "75%                                          3601.998911    \n",
       "max                                        718684.955855    \n",
       "\n",
       "       rougher.calculation.au_pb_ratio  rougher.input.feed_ag  \\\n",
       "count                     19439.000000           19439.000000   \n",
       "mean                          2.420119               8.794927   \n",
       "std                           0.814935               1.936847   \n",
       "min                          -0.010548               0.010000   \n",
       "25%                           2.035434               7.237967   \n",
       "50%                           2.309665               8.593574   \n",
       "75%                           2.731794              10.213771   \n",
       "max                          39.379272              14.596026   \n",
       "\n",
       "       rougher.input.feed_pb  rougher.input.feed_rate  \\\n",
       "count           19339.000000             19428.000000   \n",
       "mean                3.598085               478.320042   \n",
       "std                 1.049486               105.373758   \n",
       "min                 0.010000                 0.002986   \n",
       "25%                 2.887280               416.525453   \n",
       "50%                 3.534895               499.416120   \n",
       "75%                 4.244161               550.172183   \n",
       "max                 7.142594               717.508837   \n",
       "\n",
       "       rougher.input.feed_size  rougher.input.feed_sol  rougher.input.feed_au  \\\n",
       "count             19294.000000            19340.000000           19439.000000   \n",
       "mean                 58.970310               36.695114               8.266097   \n",
       "std                  21.634478                5.145445               1.955092   \n",
       "min                   0.046369                0.010000               0.010000   \n",
       "25%                  47.435103               34.207799               6.854384   \n",
       "50%                  54.610197               37.202650               8.125839   \n",
       "75%                  65.023044               40.039133               9.769917   \n",
       "max                 484.967466               53.477742              13.731330   \n",
       "\n",
       "       rougher.input.floatbank10_sulfate  rougher.input.floatbank10_xanthate  \\\n",
       "count                       19405.000000                        19431.000000   \n",
       "mean                           12.334373                            6.021474   \n",
       "std                             3.427317                            1.127263   \n",
       "min                             0.001083                            0.000568   \n",
       "25%                            10.000362                            5.398678   \n",
       "50%                            12.001174                            6.008273   \n",
       "75%                            14.716595                            6.798051   \n",
       "max                            36.118275                            9.703448   \n",
       "\n",
       "       rougher.input.floatbank11_sulfate  rougher.input.floatbank11_xanthate  \\\n",
       "count                       19395.000000                        18986.000000   \n",
       "mean                           12.064140                            6.065533   \n",
       "std                             3.784221                            1.099118   \n",
       "min                             0.000077                            0.000290   \n",
       "25%                             9.998460                            5.402368   \n",
       "50%                            12.000204                            6.098580   \n",
       "75%                            14.636766                            6.801233   \n",
       "max                            37.980648                            9.698407   \n",
       "\n",
       "       rougher.output.concentrate_ag  rougher.output.concentrate_pb  \\\n",
       "count                   19439.000000                   19439.000000   \n",
       "mean                       11.994759                       7.606272   \n",
       "std                         2.733862                       1.796757   \n",
       "min                         0.000000                       0.000000   \n",
       "25%                        10.628337                       6.725987   \n",
       "50%                        12.098115                       7.742580   \n",
       "75%                        13.736996                       8.565199   \n",
       "max                        24.480271                      13.617072   \n",
       "\n",
       "       rougher.output.concentrate_sol  rougher.output.concentrate_au  \\\n",
       "count                    19416.000000                   19439.000000   \n",
       "mean                        28.805571                      19.772000   \n",
       "std                          5.944207                       3.753600   \n",
       "min                          0.000000                       0.000000   \n",
       "25%                         27.224120                      18.802523   \n",
       "50%                         29.835345                      20.280214   \n",
       "75%                         32.189933                      21.717843   \n",
       "max                         38.351193                      28.824507   \n",
       "\n",
       "       rougher.output.recovery  rougher.output.tail_ag  \\\n",
       "count             19439.000000            19438.000000   \n",
       "mean                 83.328587                5.588982   \n",
       "std                  14.148086                1.111288   \n",
       "min                   0.000000                0.594562   \n",
       "25%                  81.037957                4.889892   \n",
       "50%                  86.188892                5.765802   \n",
       "75%                  90.010670                6.389234   \n",
       "max                 100.000000               12.719177   \n",
       "\n",
       "       rougher.output.tail_pb  rougher.output.tail_sol  \\\n",
       "count            19439.000000             19439.000000   \n",
       "mean                 0.645782                18.057106   \n",
       "std                  0.251526                 3.449218   \n",
       "min                  0.007566                10.014648   \n",
       "25%                  0.477728                15.822525   \n",
       "50%                  0.617465                18.106867   \n",
       "75%                  0.778271                20.088151   \n",
       "max                  3.778064                66.117188   \n",
       "\n",
       "       rougher.output.tail_au  rougher.state.floatbank10_a_air  \\\n",
       "count            19439.000000                     19438.000000   \n",
       "mean                 1.816391                      1105.315068   \n",
       "std                  0.680046                       160.826798   \n",
       "min                  0.020676                        -0.042069   \n",
       "25%                  1.404207                       999.661867   \n",
       "50%                  1.808170                      1001.072890   \n",
       "75%                  2.211861                      1205.620588   \n",
       "max                  9.688980                      1521.980372   \n",
       "\n",
       "       rougher.state.floatbank10_a_level  rougher.state.floatbank10_b_air  \\\n",
       "count                       19438.000000                     19438.000000   \n",
       "mean                         -376.610690                      1320.221139   \n",
       "std                            93.909667                       176.287095   \n",
       "min                          -657.949759                        -0.721806   \n",
       "25%                          -499.835165                      1199.626115   \n",
       "50%                          -300.263994                      1301.579988   \n",
       "75%                          -299.981998                      1448.630789   \n",
       "max                          -273.776101                      1809.194008   \n",
       "\n",
       "       rougher.state.floatbank10_b_level  rougher.state.floatbank10_c_air  \\\n",
       "count                       19438.000000                     19438.000000   \n",
       "mean                         -467.247826                      1299.968799   \n",
       "std                            54.673142                       202.804325   \n",
       "min                          -650.260008                        -0.056636   \n",
       "25%                          -500.201130                      1151.076301   \n",
       "50%                          -499.784045                      1300.211537   \n",
       "75%                          -400.615589                      1449.464001   \n",
       "max                          -296.383080                      2499.129174   \n",
       "\n",
       "       rougher.state.floatbank10_c_level  rougher.state.floatbank10_d_air  \\\n",
       "count                       19438.000000                     19439.000000   \n",
       "mean                         -467.716946                      1211.563299   \n",
       "std                            53.534825                       204.019326   \n",
       "min                          -647.544439                        -0.992219   \n",
       "25%                          -500.217218                      1061.051788   \n",
       "50%                          -499.713364                      1201.569141   \n",
       "75%                          -400.985743                      1352.880320   \n",
       "max                          -292.155509                      1817.199290   \n",
       "\n",
       "       rougher.state.floatbank10_d_level  rougher.state.floatbank10_e_air  \\\n",
       "count                       19439.000000                     19003.000000   \n",
       "mean                         -468.239912                      1080.869685   \n",
       "std                            53.921458                       172.149992   \n",
       "min                          -648.390665                        -1.982295   \n",
       "25%                          -500.386386                       998.675263   \n",
       "50%                          -499.532412                      1050.029461   \n",
       "75%                          -401.638550                      1199.425140   \n",
       "max                           -76.397327                      1922.636637   \n",
       "\n",
       "       rougher.state.floatbank10_e_level  rougher.state.floatbank10_f_air  \\\n",
       "count                       19439.000000                     19439.000000   \n",
       "mean                         -466.037742                      1025.274256   \n",
       "std                            57.384424                       164.487837   \n",
       "min                          -649.443911                        -2.593390   \n",
       "25%                          -500.232191                       900.995511   \n",
       "50%                          -499.663089                       999.924821   \n",
       "75%                          -401.161191                      1099.719692   \n",
       "max                          -139.753025                      1706.307502   \n",
       "\n",
       "       rougher.state.floatbank10_f_level  secondary_cleaner.output.tail_ag  \\\n",
       "count                       19439.000000                      19437.000000   \n",
       "mean                         -466.265327                         14.586833   \n",
       "std                            57.850263                          4.265202   \n",
       "min                          -649.949283                          0.000000   \n",
       "25%                          -500.522553                         12.640239   \n",
       "50%                          -499.471777                         15.641902   \n",
       "75%                          -401.511042                         17.358217   \n",
       "max                          -191.718480                         23.264738   \n",
       "\n",
       "       secondary_cleaner.output.tail_pb  secondary_cleaner.output.tail_sol  \\\n",
       "count                      19427.000000                       17691.000000   \n",
       "mean                           5.777703                           7.167247   \n",
       "std                            2.774598                           3.916079   \n",
       "min                            0.000000                           0.000000   \n",
       "25%                            3.864733                           3.845475   \n",
       "50%                            5.344073                           7.685827   \n",
       "75%                            7.788467                          10.411296   \n",
       "max                           17.042505                          26.000772   \n",
       "\n",
       "       secondary_cleaner.output.tail_au  \\\n",
       "count                      19439.000000   \n",
       "mean                           4.339625   \n",
       "std                            2.326751   \n",
       "min                            0.000000   \n",
       "25%                            3.182770   \n",
       "50%                            4.072412   \n",
       "75%                            5.063081   \n",
       "max                           26.811643   \n",
       "\n",
       "       secondary_cleaner.state.floatbank2_a_air  \\\n",
       "count                              19219.000000   \n",
       "mean                                  28.705564   \n",
       "std                                    5.458789   \n",
       "min                                    0.077503   \n",
       "25%                                   25.048462   \n",
       "50%                                   29.099943   \n",
       "75%                                   33.012536   \n",
       "max                                   52.651399   \n",
       "\n",
       "       secondary_cleaner.state.floatbank2_a_level  \\\n",
       "count                                19438.000000   \n",
       "mean                                  -502.367331   \n",
       "std                                     53.571950   \n",
       "min                                   -799.606441   \n",
       "25%                                   -500.233700   \n",
       "50%                                   -499.973250   \n",
       "75%                                   -499.671261   \n",
       "max                                   -127.875565   \n",
       "\n",
       "       secondary_cleaner.state.floatbank2_b_air  \\\n",
       "count                              19416.000000   \n",
       "mean                                  24.106800   \n",
       "std                                    5.749616   \n",
       "min                                    0.000000   \n",
       "25%                                   20.919853   \n",
       "50%                                   25.043289   \n",
       "75%                                   28.008197   \n",
       "max                                   35.152122   \n",
       "\n",
       "       secondary_cleaner.state.floatbank2_b_level  \\\n",
       "count                                19438.000000   \n",
       "mean                                  -503.230712   \n",
       "std                                     56.567724   \n",
       "min                                   -799.873878   \n",
       "25%                                   -500.253794   \n",
       "50%                                   -500.015439   \n",
       "75%                                   -499.785698   \n",
       "max                                   -211.999273   \n",
       "\n",
       "       secondary_cleaner.state.floatbank3_a_air  \\\n",
       "count                              19426.000000   \n",
       "mean                                  28.199338   \n",
       "std                                    6.134908   \n",
       "min                                    0.000000   \n",
       "25%                                   24.949227   \n",
       "50%                                   27.982129   \n",
       "75%                                   33.002798   \n",
       "max                                   44.260464   \n",
       "\n",
       "       secondary_cleaner.state.floatbank3_a_level  \\\n",
       "count                                19438.000000   \n",
       "mean                                  -486.203350   \n",
       "std                                     54.412349   \n",
       "min                                   -799.755798   \n",
       "25%                                   -500.213546   \n",
       "50%                                   -499.930680   \n",
       "75%                                   -499.325739   \n",
       "max                                   -191.678810   \n",
       "\n",
       "       secondary_cleaner.state.floatbank3_b_air  \\\n",
       "count                              19438.000000   \n",
       "mean                                  22.200645   \n",
       "std                                    5.574001   \n",
       "min                                    0.000000   \n",
       "25%                                   18.995924   \n",
       "50%                                   22.011231   \n",
       "75%                                   25.998206   \n",
       "max                                   35.072841   \n",
       "\n",
       "       secondary_cleaner.state.floatbank3_b_level  \\\n",
       "count                                19438.000000   \n",
       "mean                                  -493.742107   \n",
       "std                                     43.372158   \n",
       "min                                   -809.333008   \n",
       "25%                                   -500.123034   \n",
       "50%                                   -499.981902   \n",
       "75%                                   -499.812834   \n",
       "max                                   -159.742331   \n",
       "\n",
       "       secondary_cleaner.state.floatbank4_a_air  \\\n",
       "count                              19433.000000   \n",
       "mean                                  18.987674   \n",
       "std                                    5.411058   \n",
       "min                                    0.000000   \n",
       "25%                                   14.975734   \n",
       "50%                                   18.017481   \n",
       "75%                                   23.012470   \n",
       "max                                   30.115735   \n",
       "\n",
       "       secondary_cleaner.state.floatbank4_a_level  \\\n",
       "count                                19438.000000   \n",
       "mean                                  -485.894516   \n",
       "std                                     47.758570   \n",
       "min                                   -799.798523   \n",
       "25%                                   -500.704892   \n",
       "50%                                   -499.837793   \n",
       "75%                                   -498.249730   \n",
       "max                                   -245.239184   \n",
       "\n",
       "       secondary_cleaner.state.floatbank4_b_air  \\\n",
       "count                              19438.000000   \n",
       "mean                                  15.010366   \n",
       "std                                    4.890228   \n",
       "min                                    0.000000   \n",
       "25%                                   11.940294   \n",
       "50%                                   14.971014   \n",
       "75%                                   19.034162   \n",
       "max                                   31.269706   \n",
       "\n",
       "       secondary_cleaner.state.floatbank4_b_level  \\\n",
       "count                                19438.000000   \n",
       "mean                                  -461.078636   \n",
       "std                                     67.405524   \n",
       "min                                   -800.836914   \n",
       "25%                                   -500.187742   \n",
       "50%                                   -499.459786   \n",
       "75%                                   -400.118106   \n",
       "max                                     -6.506986   \n",
       "\n",
       "       secondary_cleaner.state.floatbank5_a_air  \\\n",
       "count                              19438.000000   \n",
       "mean                                  15.694452   \n",
       "std                                    5.510974   \n",
       "min                                   -0.372054   \n",
       "25%                                   10.988606   \n",
       "50%                                   15.000036   \n",
       "75%                                   18.026190   \n",
       "max                                   43.709931   \n",
       "\n",
       "       secondary_cleaner.state.floatbank5_a_level  \\\n",
       "count                                19438.000000   \n",
       "mean                                  -488.684065   \n",
       "std                                     34.533396   \n",
       "min                                   -797.323986   \n",
       "25%                                   -500.458467   \n",
       "50%                                   -499.802605   \n",
       "75%                                   -498.384187   \n",
       "max                                   -244.483566   \n",
       "\n",
       "       secondary_cleaner.state.floatbank5_b_air  \\\n",
       "count                              19438.000000   \n",
       "mean                                  12.198224   \n",
       "std                                    5.333024   \n",
       "min                                    0.528083   \n",
       "25%                                    8.971105   \n",
       "50%                                   11.019433   \n",
       "75%                                   14.019088   \n",
       "max                                   27.926001   \n",
       "\n",
       "       secondary_cleaner.state.floatbank5_b_level  \\\n",
       "count                                19438.000000   \n",
       "mean                                  -487.149827   \n",
       "std                                     38.347312   \n",
       "min                                   -800.220337   \n",
       "25%                                   -500.129462   \n",
       "50%                                   -499.935317   \n",
       "75%                                   -499.436708   \n",
       "max                                   -137.740004   \n",
       "\n",
       "       secondary_cleaner.state.floatbank6_a_air  \\\n",
       "count                              19437.000000   \n",
       "mean                                  18.959024   \n",
       "std                                    5.550498   \n",
       "min                                   -0.079426   \n",
       "25%                                   14.983037   \n",
       "50%                                   19.960541   \n",
       "75%                                   24.003170   \n",
       "max                                   32.188906   \n",
       "\n",
       "       secondary_cleaner.state.floatbank6_a_level  \n",
       "count                                19438.000000  \n",
       "mean                                  -505.436305  \n",
       "std                                     37.689057  \n",
       "min                                   -809.741464  \n",
       "25%                                   -500.728067  \n",
       "50%                                   -500.048400  \n",
       "75%                                   -499.495378  \n",
       "max                                   -104.427459  "
      ]
     },
     "execution_count": 12,
     "metadata": {},
     "output_type": "execute_result"
    }
   ],
   "source": [
    "df_gold_full.describe()"
   ]
  },
  {
   "cell_type": "markdown",
   "metadata": {},
   "source": [
    "Предварительно можем сделать выводы:\n",
    "\n",
    "- столбец `date` можно перевести в соответствующий тип данных;\n",
    "- все признаки, кроме даты, необходимо масштабировать;\n",
    "- в выборках отсутствуют целевые признаки."
   ]
  },
  {
   "cell_type": "markdown",
   "metadata": {},
   "source": [
    "### Расчет эффективности обогащения"
   ]
  },
  {
   "cell_type": "markdown",
   "metadata": {},
   "source": [
    "Проверим, что эффективность обогащения рассчитана правильно. Вычислим её на обучающей выборке для признака `rougher.output.recovery`. "
   ]
  },
  {
   "cell_type": "markdown",
   "metadata": {},
   "source": [
    "Эффективность обогащения рассчитывается по формуле, где:\n",
    "\n",
    "- C — доля золота в концентрате после флотации/очистки;\n",
    "- F — доля золота в сырье/концентрате до флотации/очистки;\n",
    "- T — доля золота в отвальных хвостах после флотации/очистки."
   ]
  },
  {
   "attachments": {
    "image.png": {
     "image/png": "[encoded data removed]"
    }
   },
   "cell_type": "markdown",
   "metadata": {},
   "source": [
    "![image.png](attachment:image.png)"
   ]
  },
  {
   "cell_type": "code",
   "execution_count": 13,
   "metadata": {},
   "outputs": [
    {
     "data": {
      "text/html": [
       "<div>\n",
       "<style scoped>\n",
       "    .dataframe tbody tr th:only-of-type {\n",
       "        vertical-align: middle;\n",
       "    }\n",
       "\n",
       "    .dataframe tbody tr th {\n",
       "        vertical-align: top;\n",
       "    }\n",
       "\n",
       "    .dataframe thead th {\n",
       "        text-align: right;\n",
       "    }\n",
       "</style>\n",
       "<table border=\"1\" class=\"dataframe\">\n",
       "  <thead>\n",
       "    <tr style=\"text-align: right;\">\n",
       "      <th></th>\n",
       "      <th>final.output.concentrate_au</th>\n",
       "      <th>rougher.input.feed_au</th>\n",
       "      <th>final.output.tail_au</th>\n",
       "    </tr>\n",
       "    <tr>\n",
       "      <th>date</th>\n",
       "      <th></th>\n",
       "      <th></th>\n",
       "      <th></th>\n",
       "    </tr>\n",
       "  </thead>\n",
       "  <tbody>\n",
       "    <tr>\n",
       "      <th>2016-01-15 00:00:00</th>\n",
       "      <td>42.192020</td>\n",
       "      <td>6.486150</td>\n",
       "      <td>2.143149</td>\n",
       "    </tr>\n",
       "    <tr>\n",
       "      <th>2016-01-15 01:00:00</th>\n",
       "      <td>42.701629</td>\n",
       "      <td>6.478583</td>\n",
       "      <td>2.224930</td>\n",
       "    </tr>\n",
       "    <tr>\n",
       "      <th>2016-01-15 02:00:00</th>\n",
       "      <td>42.657501</td>\n",
       "      <td>6.362222</td>\n",
       "      <td>2.257889</td>\n",
       "    </tr>\n",
       "  </tbody>\n",
       "</table>\n",
       "</div>"
      ],
      "text/plain": [
       "                     final.output.concentrate_au  rougher.input.feed_au  \\\n",
       "date                                                                      \n",
       "2016-01-15 00:00:00                    42.192020               6.486150   \n",
       "2016-01-15 01:00:00                    42.701629               6.478583   \n",
       "2016-01-15 02:00:00                    42.657501               6.362222   \n",
       "\n",
       "                     final.output.tail_au  \n",
       "date                                       \n",
       "2016-01-15 00:00:00              2.143149  \n",
       "2016-01-15 01:00:00              2.224930  \n",
       "2016-01-15 02:00:00              2.257889  "
      ]
     },
     "execution_count": 13,
     "metadata": {},
     "output_type": "execute_result"
    }
   ],
   "source": [
    "df_gold_train[['final.output.concentrate_au', 'rougher.input.feed_au', 'final.output.tail_au']].head(3)"
   ]
  },
  {
   "cell_type": "code",
   "execution_count": 14,
   "metadata": {},
   "outputs": [
    {
     "data": {
      "text/plain": [
       "date\n",
       "2016-01-15 00:00:00    87.107763\n",
       "2016-01-15 01:00:00    86.843261\n",
       "2016-01-15 02:00:00    86.842308\n",
       "Name: rougher.output.recovery, dtype: float64"
      ]
     },
     "execution_count": 14,
     "metadata": {},
     "output_type": "execute_result"
    }
   ],
   "source": [
    "df_gold_train['rougher.output.recovery'].head(3)"
   ]
  },
  {
   "cell_type": "code",
   "execution_count": 15,
   "metadata": {},
   "outputs": [
    {
     "data": {
      "text/plain": [
       "date\n",
       "2016-01-15 00:00:00    87.107763\n",
       "2016-01-15 01:00:00    86.843261\n",
       "2016-01-15 02:00:00    86.842308\n",
       "dtype: float64"
      ]
     },
     "execution_count": 15,
     "metadata": {},
     "output_type": "execute_result"
    }
   ],
   "source": [
    "C = df_gold_train['rougher.output.concentrate_au']\n",
    "F = df_gold_train['rougher.input.feed_au']\n",
    "T = df_gold_train['rougher.output.tail_au']\n",
    "\n",
    "recovery_check = C * (F - T) / (F * (C - T)) * 100\n",
    "\n",
    "recovery_check.head(3)"
   ]
  },
  {
   "cell_type": "markdown",
   "metadata": {},
   "source": [
    "Найдем MAE между нашими расчётами и значением признака:"
   ]
  },
  {
   "cell_type": "code",
   "execution_count": 16,
   "metadata": {},
   "outputs": [
    {
     "data": {
      "text/plain": [
       "9.73512347450521e-15"
      ]
     },
     "execution_count": 16,
     "metadata": {},
     "output_type": "execute_result"
    }
   ],
   "source": [
    "mean_absolute_error(df_gold_train['rougher.output.recovery'], recovery_check)"
   ]
  },
  {
   "cell_type": "markdown",
   "metadata": {},
   "source": [
    "Среднее абсолютное отклонение практически равно нулю, соответственно эффективность обогащения рассчитана правильно."
   ]
  },
  {
   "cell_type": "markdown",
   "metadata": {},
   "source": [
    "### Анализ признаков"
   ]
  },
  {
   "cell_type": "markdown",
   "metadata": {},
   "source": [
    "Создадим список названий столбцов, которых нет в тестовой выборке."
   ]
  },
  {
   "cell_type": "code",
   "execution_count": 17,
   "metadata": {},
   "outputs": [],
   "source": [
    "set_gold_train = set(df_gold_train.columns)\n",
    "set_gold_test = set(df_gold_test.columns)"
   ]
  },
  {
   "cell_type": "code",
   "execution_count": 18,
   "metadata": {},
   "outputs": [
    {
     "data": {
      "text/plain": [
       "['final.output.concentrate_ag',\n",
       " 'final.output.concentrate_au',\n",
       " 'final.output.concentrate_pb',\n",
       " 'final.output.concentrate_sol',\n",
       " 'final.output.recovery',\n",
       " 'final.output.tail_ag',\n",
       " 'final.output.tail_au',\n",
       " 'final.output.tail_pb',\n",
       " 'final.output.tail_sol',\n",
       " 'primary_cleaner.output.concentrate_ag',\n",
       " 'primary_cleaner.output.concentrate_au',\n",
       " 'primary_cleaner.output.concentrate_pb',\n",
       " 'primary_cleaner.output.concentrate_sol',\n",
       " 'primary_cleaner.output.tail_ag',\n",
       " 'primary_cleaner.output.tail_au',\n",
       " 'primary_cleaner.output.tail_pb',\n",
       " 'primary_cleaner.output.tail_sol',\n",
       " 'rougher.calculation.au_pb_ratio',\n",
       " 'rougher.calculation.floatbank10_sulfate_to_au_feed',\n",
       " 'rougher.calculation.floatbank11_sulfate_to_au_feed',\n",
       " 'rougher.calculation.sulfate_to_au_concentrate',\n",
       " 'rougher.output.concentrate_ag',\n",
       " 'rougher.output.concentrate_au',\n",
       " 'rougher.output.concentrate_pb',\n",
       " 'rougher.output.concentrate_sol',\n",
       " 'rougher.output.recovery',\n",
       " 'rougher.output.tail_ag',\n",
       " 'rougher.output.tail_au',\n",
       " 'rougher.output.tail_pb',\n",
       " 'rougher.output.tail_sol',\n",
       " 'secondary_cleaner.output.tail_ag',\n",
       " 'secondary_cleaner.output.tail_au',\n",
       " 'secondary_cleaner.output.tail_pb',\n",
       " 'secondary_cleaner.output.tail_sol']"
      ]
     },
     "execution_count": 18,
     "metadata": {},
     "output_type": "execute_result"
    }
   ],
   "source": [
    "list_diff = sorted(list(set_gold_train.difference(set_gold_test)))\n",
    "list_diff"
   ]
  },
  {
   "cell_type": "code",
   "execution_count": 19,
   "metadata": {},
   "outputs": [],
   "source": [
    "df_diff = df_gold_train[list_diff]"
   ]
  },
  {
   "cell_type": "markdown",
   "metadata": {},
   "source": [
    "Проанализируем признаки, недоступные в тестовой выборке:"
   ]
  },
  {
   "cell_type": "code",
   "execution_count": 20,
   "metadata": {},
   "outputs": [
    {
     "data": {
      "text/html": [
       "<div>\n",
       "<style scoped>\n",
       "    .dataframe tbody tr th:only-of-type {\n",
       "        vertical-align: middle;\n",
       "    }\n",
       "\n",
       "    .dataframe tbody tr th {\n",
       "        vertical-align: top;\n",
       "    }\n",
       "\n",
       "    .dataframe thead th {\n",
       "        text-align: right;\n",
       "    }\n",
       "</style>\n",
       "<table border=\"1\" class=\"dataframe\">\n",
       "  <thead>\n",
       "    <tr style=\"text-align: right;\">\n",
       "      <th></th>\n",
       "      <th>final.output.concentrate_ag</th>\n",
       "      <th>final.output.concentrate_au</th>\n",
       "      <th>final.output.concentrate_pb</th>\n",
       "      <th>final.output.concentrate_sol</th>\n",
       "      <th>final.output.recovery</th>\n",
       "      <th>final.output.tail_ag</th>\n",
       "      <th>final.output.tail_au</th>\n",
       "      <th>final.output.tail_pb</th>\n",
       "      <th>final.output.tail_sol</th>\n",
       "      <th>primary_cleaner.output.concentrate_ag</th>\n",
       "      <th>primary_cleaner.output.concentrate_au</th>\n",
       "      <th>primary_cleaner.output.concentrate_pb</th>\n",
       "      <th>primary_cleaner.output.concentrate_sol</th>\n",
       "      <th>primary_cleaner.output.tail_ag</th>\n",
       "      <th>primary_cleaner.output.tail_au</th>\n",
       "      <th>primary_cleaner.output.tail_pb</th>\n",
       "      <th>primary_cleaner.output.tail_sol</th>\n",
       "      <th>rougher.calculation.au_pb_ratio</th>\n",
       "      <th>rougher.calculation.floatbank10_sulfate_to_au_feed</th>\n",
       "      <th>rougher.calculation.floatbank11_sulfate_to_au_feed</th>\n",
       "      <th>rougher.calculation.sulfate_to_au_concentrate</th>\n",
       "      <th>rougher.output.concentrate_ag</th>\n",
       "      <th>rougher.output.concentrate_au</th>\n",
       "      <th>rougher.output.concentrate_pb</th>\n",
       "      <th>rougher.output.concentrate_sol</th>\n",
       "      <th>rougher.output.recovery</th>\n",
       "      <th>rougher.output.tail_ag</th>\n",
       "      <th>rougher.output.tail_au</th>\n",
       "      <th>rougher.output.tail_pb</th>\n",
       "      <th>rougher.output.tail_sol</th>\n",
       "      <th>secondary_cleaner.output.tail_ag</th>\n",
       "      <th>secondary_cleaner.output.tail_au</th>\n",
       "      <th>secondary_cleaner.output.tail_pb</th>\n",
       "      <th>secondary_cleaner.output.tail_sol</th>\n",
       "    </tr>\n",
       "    <tr>\n",
       "      <th>date</th>\n",
       "      <th></th>\n",
       "      <th></th>\n",
       "      <th></th>\n",
       "      <th></th>\n",
       "      <th></th>\n",
       "      <th></th>\n",
       "      <th></th>\n",
       "      <th></th>\n",
       "      <th></th>\n",
       "      <th></th>\n",
       "      <th></th>\n",
       "      <th></th>\n",
       "      <th></th>\n",
       "      <th></th>\n",
       "      <th></th>\n",
       "      <th></th>\n",
       "      <th></th>\n",
       "      <th></th>\n",
       "      <th></th>\n",
       "      <th></th>\n",
       "      <th></th>\n",
       "      <th></th>\n",
       "      <th></th>\n",
       "      <th></th>\n",
       "      <th></th>\n",
       "      <th></th>\n",
       "      <th></th>\n",
       "      <th></th>\n",
       "      <th></th>\n",
       "      <th></th>\n",
       "      <th></th>\n",
       "      <th></th>\n",
       "      <th></th>\n",
       "      <th></th>\n",
       "    </tr>\n",
       "  </thead>\n",
       "  <tbody>\n",
       "    <tr>\n",
       "      <th>2016-01-15 00:00:00</th>\n",
       "      <td>6.055403</td>\n",
       "      <td>42.192020</td>\n",
       "      <td>9.889648</td>\n",
       "      <td>5.507324</td>\n",
       "      <td>70.541216</td>\n",
       "      <td>10.411962</td>\n",
       "      <td>2.143149</td>\n",
       "      <td>0.895447</td>\n",
       "      <td>16.904297</td>\n",
       "      <td>8.547551</td>\n",
       "      <td>34.174427</td>\n",
       "      <td>10.389648</td>\n",
       "      <td>19.529297</td>\n",
       "      <td>14.936526</td>\n",
       "      <td>2.106679</td>\n",
       "      <td>2.534912</td>\n",
       "      <td>7.476074</td>\n",
       "      <td>2.838687</td>\n",
       "      <td>3481.779053</td>\n",
       "      <td>3520.337158</td>\n",
       "      <td>41885.707031</td>\n",
       "      <td>11.500771</td>\n",
       "      <td>19.793808</td>\n",
       "      <td>7.101074</td>\n",
       "      <td>28.029297</td>\n",
       "      <td>87.107763</td>\n",
       "      <td>5.008018</td>\n",
       "      <td>1.170244</td>\n",
       "      <td>0.508728</td>\n",
       "      <td>19.154297</td>\n",
       "      <td>14.500184</td>\n",
       "      <td>2.606185</td>\n",
       "      <td>4.694824</td>\n",
       "      <td>8.764648</td>\n",
       "    </tr>\n",
       "    <tr>\n",
       "      <th>2016-01-15 01:00:00</th>\n",
       "      <td>6.029369</td>\n",
       "      <td>42.701629</td>\n",
       "      <td>9.968944</td>\n",
       "      <td>5.257781</td>\n",
       "      <td>69.266198</td>\n",
       "      <td>10.462676</td>\n",
       "      <td>2.224930</td>\n",
       "      <td>0.927452</td>\n",
       "      <td>16.634514</td>\n",
       "      <td>8.558743</td>\n",
       "      <td>34.118526</td>\n",
       "      <td>10.497069</td>\n",
       "      <td>19.369147</td>\n",
       "      <td>16.250511</td>\n",
       "      <td>2.353017</td>\n",
       "      <td>3.049646</td>\n",
       "      <td>6.733907</td>\n",
       "      <td>2.858998</td>\n",
       "      <td>3498.370979</td>\n",
       "      <td>3489.981857</td>\n",
       "      <td>42050.861809</td>\n",
       "      <td>11.615865</td>\n",
       "      <td>20.050975</td>\n",
       "      <td>7.278807</td>\n",
       "      <td>28.067063</td>\n",
       "      <td>86.843261</td>\n",
       "      <td>4.955378</td>\n",
       "      <td>1.184827</td>\n",
       "      <td>0.536689</td>\n",
       "      <td>18.965234</td>\n",
       "      <td>14.265474</td>\n",
       "      <td>2.488248</td>\n",
       "      <td>4.592547</td>\n",
       "      <td>9.001494</td>\n",
       "    </tr>\n",
       "    <tr>\n",
       "      <th>2016-01-15 02:00:00</th>\n",
       "      <td>6.055926</td>\n",
       "      <td>42.657501</td>\n",
       "      <td>10.213995</td>\n",
       "      <td>5.383759</td>\n",
       "      <td>68.116445</td>\n",
       "      <td>10.507046</td>\n",
       "      <td>2.257889</td>\n",
       "      <td>0.953716</td>\n",
       "      <td>16.208849</td>\n",
       "      <td>8.603505</td>\n",
       "      <td>33.969464</td>\n",
       "      <td>10.354494</td>\n",
       "      <td>19.167579</td>\n",
       "      <td>16.491823</td>\n",
       "      <td>2.416800</td>\n",
       "      <td>3.124664</td>\n",
       "      <td>6.471768</td>\n",
       "      <td>2.945989</td>\n",
       "      <td>3495.348910</td>\n",
       "      <td>3502.359819</td>\n",
       "      <td>42018.101184</td>\n",
       "      <td>11.695753</td>\n",
       "      <td>19.737170</td>\n",
       "      <td>7.216833</td>\n",
       "      <td>27.454037</td>\n",
       "      <td>86.842308</td>\n",
       "      <td>4.843460</td>\n",
       "      <td>1.162562</td>\n",
       "      <td>0.546416</td>\n",
       "      <td>18.808533</td>\n",
       "      <td>14.115662</td>\n",
       "      <td>2.458187</td>\n",
       "      <td>4.624775</td>\n",
       "      <td>8.842896</td>\n",
       "    </tr>\n",
       "  </tbody>\n",
       "</table>\n",
       "</div>"
      ],
      "text/plain": [
       "                     final.output.concentrate_ag  final.output.concentrate_au  \\\n",
       "date                                                                            \n",
       "2016-01-15 00:00:00                     6.055403                    42.192020   \n",
       "2016-01-15 01:00:00                     6.029369                    42.701629   \n",
       "2016-01-15 02:00:00                     6.055926                    42.657501   \n",
       "\n",
       "                     final.output.concentrate_pb  \\\n",
       "date                                               \n",
       "2016-01-15 00:00:00                     9.889648   \n",
       "2016-01-15 01:00:00                     9.968944   \n",
       "2016-01-15 02:00:00                    10.213995   \n",
       "\n",
       "                     final.output.concentrate_sol  final.output.recovery  \\\n",
       "date                                                                       \n",
       "2016-01-15 00:00:00                      5.507324              70.541216   \n",
       "2016-01-15 01:00:00                      5.257781              69.266198   \n",
       "2016-01-15 02:00:00                      5.383759              68.116445   \n",
       "\n",
       "                     final.output.tail_ag  final.output.tail_au  \\\n",
       "date                                                              \n",
       "2016-01-15 00:00:00             10.411962              2.143149   \n",
       "2016-01-15 01:00:00             10.462676              2.224930   \n",
       "2016-01-15 02:00:00             10.507046              2.257889   \n",
       "\n",
       "                     final.output.tail_pb  final.output.tail_sol  \\\n",
       "date                                                               \n",
       "2016-01-15 00:00:00              0.895447              16.904297   \n",
       "2016-01-15 01:00:00              0.927452              16.634514   \n",
       "2016-01-15 02:00:00              0.953716              16.208849   \n",
       "\n",
       "                     primary_cleaner.output.concentrate_ag  \\\n",
       "date                                                         \n",
       "2016-01-15 00:00:00                               8.547551   \n",
       "2016-01-15 01:00:00                               8.558743   \n",
       "2016-01-15 02:00:00                               8.603505   \n",
       "\n",
       "                     primary_cleaner.output.concentrate_au  \\\n",
       "date                                                         \n",
       "2016-01-15 00:00:00                              34.174427   \n",
       "2016-01-15 01:00:00                              34.118526   \n",
       "2016-01-15 02:00:00                              33.969464   \n",
       "\n",
       "                     primary_cleaner.output.concentrate_pb  \\\n",
       "date                                                         \n",
       "2016-01-15 00:00:00                              10.389648   \n",
       "2016-01-15 01:00:00                              10.497069   \n",
       "2016-01-15 02:00:00                              10.354494   \n",
       "\n",
       "                     primary_cleaner.output.concentrate_sol  \\\n",
       "date                                                          \n",
       "2016-01-15 00:00:00                               19.529297   \n",
       "2016-01-15 01:00:00                               19.369147   \n",
       "2016-01-15 02:00:00                               19.167579   \n",
       "\n",
       "                     primary_cleaner.output.tail_ag  \\\n",
       "date                                                  \n",
       "2016-01-15 00:00:00                       14.936526   \n",
       "2016-01-15 01:00:00                       16.250511   \n",
       "2016-01-15 02:00:00                       16.491823   \n",
       "\n",
       "                     primary_cleaner.output.tail_au  \\\n",
       "date                                                  \n",
       "2016-01-15 00:00:00                        2.106679   \n",
       "2016-01-15 01:00:00                        2.353017   \n",
       "2016-01-15 02:00:00                        2.416800   \n",
       "\n",
       "                     primary_cleaner.output.tail_pb  \\\n",
       "date                                                  \n",
       "2016-01-15 00:00:00                        2.534912   \n",
       "2016-01-15 01:00:00                        3.049646   \n",
       "2016-01-15 02:00:00                        3.124664   \n",
       "\n",
       "                     primary_cleaner.output.tail_sol  \\\n",
       "date                                                   \n",
       "2016-01-15 00:00:00                         7.476074   \n",
       "2016-01-15 01:00:00                         6.733907   \n",
       "2016-01-15 02:00:00                         6.471768   \n",
       "\n",
       "                     rougher.calculation.au_pb_ratio  \\\n",
       "date                                                   \n",
       "2016-01-15 00:00:00                         2.838687   \n",
       "2016-01-15 01:00:00                         2.858998   \n",
       "2016-01-15 02:00:00                         2.945989   \n",
       "\n",
       "                     rougher.calculation.floatbank10_sulfate_to_au_feed  \\\n",
       "date                                                                      \n",
       "2016-01-15 00:00:00                                        3481.779053    \n",
       "2016-01-15 01:00:00                                        3498.370979    \n",
       "2016-01-15 02:00:00                                        3495.348910    \n",
       "\n",
       "                     rougher.calculation.floatbank11_sulfate_to_au_feed  \\\n",
       "date                                                                      \n",
       "2016-01-15 00:00:00                                        3520.337158    \n",
       "2016-01-15 01:00:00                                        3489.981857    \n",
       "2016-01-15 02:00:00                                        3502.359819    \n",
       "\n",
       "                     rougher.calculation.sulfate_to_au_concentrate  \\\n",
       "date                                                                 \n",
       "2016-01-15 00:00:00                                   41885.707031   \n",
       "2016-01-15 01:00:00                                   42050.861809   \n",
       "2016-01-15 02:00:00                                   42018.101184   \n",
       "\n",
       "                     rougher.output.concentrate_ag  \\\n",
       "date                                                 \n",
       "2016-01-15 00:00:00                      11.500771   \n",
       "2016-01-15 01:00:00                      11.615865   \n",
       "2016-01-15 02:00:00                      11.695753   \n",
       "\n",
       "                     rougher.output.concentrate_au  \\\n",
       "date                                                 \n",
       "2016-01-15 00:00:00                      19.793808   \n",
       "2016-01-15 01:00:00                      20.050975   \n",
       "2016-01-15 02:00:00                      19.737170   \n",
       "\n",
       "                     rougher.output.concentrate_pb  \\\n",
       "date                                                 \n",
       "2016-01-15 00:00:00                       7.101074   \n",
       "2016-01-15 01:00:00                       7.278807   \n",
       "2016-01-15 02:00:00                       7.216833   \n",
       "\n",
       "                     rougher.output.concentrate_sol  rougher.output.recovery  \\\n",
       "date                                                                           \n",
       "2016-01-15 00:00:00                       28.029297                87.107763   \n",
       "2016-01-15 01:00:00                       28.067063                86.843261   \n",
       "2016-01-15 02:00:00                       27.454037                86.842308   \n",
       "\n",
       "                     rougher.output.tail_ag  rougher.output.tail_au  \\\n",
       "date                                                                  \n",
       "2016-01-15 00:00:00                5.008018                1.170244   \n",
       "2016-01-15 01:00:00                4.955378                1.184827   \n",
       "2016-01-15 02:00:00                4.843460                1.162562   \n",
       "\n",
       "                     rougher.output.tail_pb  rougher.output.tail_sol  \\\n",
       "date                                                                   \n",
       "2016-01-15 00:00:00                0.508728                19.154297   \n",
       "2016-01-15 01:00:00                0.536689                18.965234   \n",
       "2016-01-15 02:00:00                0.546416                18.808533   \n",
       "\n",
       "                     secondary_cleaner.output.tail_ag  \\\n",
       "date                                                    \n",
       "2016-01-15 00:00:00                         14.500184   \n",
       "2016-01-15 01:00:00                         14.265474   \n",
       "2016-01-15 02:00:00                         14.115662   \n",
       "\n",
       "                     secondary_cleaner.output.tail_au  \\\n",
       "date                                                    \n",
       "2016-01-15 00:00:00                          2.606185   \n",
       "2016-01-15 01:00:00                          2.488248   \n",
       "2016-01-15 02:00:00                          2.458187   \n",
       "\n",
       "                     secondary_cleaner.output.tail_pb  \\\n",
       "date                                                    \n",
       "2016-01-15 00:00:00                          4.694824   \n",
       "2016-01-15 01:00:00                          4.592547   \n",
       "2016-01-15 02:00:00                          4.624775   \n",
       "\n",
       "                     secondary_cleaner.output.tail_sol  \n",
       "date                                                    \n",
       "2016-01-15 00:00:00                           8.764648  \n",
       "2016-01-15 01:00:00                           9.001494  \n",
       "2016-01-15 02:00:00                           8.842896  "
      ]
     },
     "execution_count": 20,
     "metadata": {},
     "output_type": "execute_result"
    }
   ],
   "source": [
    "df_diff.head(3)"
   ]
  },
  {
   "cell_type": "markdown",
   "metadata": {},
   "source": [
    "В тестовой выборке, помимо целевых признаков, отсутсвуют некоторые признаки с параметрами:\n",
    "\n",
    "- `final.output` - финальные характеристики для концентратов и отвальных хвостов;\n",
    "- `primary_cleaner.output` - данные первичной очистки для концентратов и отвальных хвостов;\n",
    "- `rougher.calculation` - расчётные характеристики флотации для золота;\n",
    "- `rougher.output` - флотации для концентратов и отвальных хвостов;\n",
    "- `secondary_cleaner.output` - данные вторичной очистки для отвальных хвостов;\n",
    "\n",
    "Нам известно, что некоторые параметры недоступны, потому что замеряются и/или рассчитываются значительно позже."
   ]
  },
  {
   "cell_type": "markdown",
   "metadata": {},
   "source": [
    "### Предобработка данных"
   ]
  },
  {
   "cell_type": "markdown",
   "metadata": {},
   "source": [
    "Поиск дубликатов:"
   ]
  },
  {
   "cell_type": "code",
   "execution_count": 21,
   "metadata": {},
   "outputs": [
    {
     "name": "stdout",
     "output_type": "stream",
     "text": [
      "0 0 0\n"
     ]
    }
   ],
   "source": [
    "print(df_gold_train.duplicated().sum(), df_gold_test.duplicated().sum(), \n",
    "      df_gold_full.duplicated().sum())"
   ]
  },
  {
   "cell_type": "code",
   "execution_count": 22,
   "metadata": {},
   "outputs": [
    {
     "data": {
      "text/plain": [
       "secondary_cleaner.output.tail_sol           0.089922\n",
       "rougher.input.floatbank11_xanthate          0.023304\n",
       "rougher.state.floatbank10_e_air             0.022429\n",
       "primary_cleaner.output.concentrate_sol      0.019034\n",
       "secondary_cleaner.state.floatbank2_a_air    0.011317\n",
       "                                              ...   \n",
       "rougher.state.floatbank10_d_level           0.000000\n",
       "rougher.state.floatbank10_d_air             0.000000\n",
       "rougher.output.tail_sol                     0.000000\n",
       "rougher.output.tail_au                      0.000000\n",
       "rougher.output.concentrate_ag               0.000000\n",
       "Length: 86, dtype: float64"
      ]
     },
     "execution_count": 22,
     "metadata": {},
     "output_type": "execute_result"
    }
   ],
   "source": [
    "df_gold_full.isna().mean().sort_values(ascending=False)"
   ]
  },
  {
   "cell_type": "code",
   "execution_count": 23,
   "metadata": {},
   "outputs": [
    {
     "data": {
      "text/plain": [
       "secondary_cleaner.output.tail_sol           0.113436\n",
       "rougher.state.floatbank10_e_air             0.030815\n",
       "rougher.input.floatbank11_xanthate          0.030249\n",
       "primary_cleaner.output.concentrate_sol      0.020213\n",
       "secondary_cleaner.state.floatbank2_a_air    0.015337\n",
       "                                              ...   \n",
       "rougher.state.floatbank10_d_air             0.000000\n",
       "rougher.output.concentrate_au               0.000000\n",
       "rougher.output.recovery                     0.000000\n",
       "rougher.output.tail_pb                      0.000000\n",
       "rougher.output.concentrate_ag               0.000000\n",
       "Length: 86, dtype: float64"
      ]
     },
     "execution_count": 23,
     "metadata": {},
     "output_type": "execute_result"
    }
   ],
   "source": [
    "df_gold_train.isna().mean().sort_values(ascending=False)"
   ]
  },
  {
   "cell_type": "code",
   "execution_count": 24,
   "metadata": {},
   "outputs": [
    {
     "data": {
      "text/plain": [
       "rougher.input.floatbank11_xanthate            0.004726\n",
       "rougher.input.feed_sol                        0.003970\n",
       "secondary_cleaner.state.floatbank3_a_air      0.001701\n",
       "rougher.input.floatbank11_sulfate             0.001512\n",
       "primary_cleaner.input.depressant              0.000945\n",
       "rougher.input.floatbank10_sulfate             0.000945\n",
       "primary_cleaner.input.sulfate                 0.000756\n",
       "primary_cleaner.input.xanthate                0.000756\n",
       "rougher.input.feed_rate                       0.000567\n",
       "secondary_cleaner.state.floatbank2_a_air      0.000567\n",
       "secondary_cleaner.state.floatbank2_b_air      0.000378\n",
       "rougher.input.feed_size                       0.000189\n",
       "secondary_cleaner.state.floatbank3_b_level    0.000000\n",
       "secondary_cleaner.state.floatbank3_b_air      0.000000\n",
       "rougher.state.floatbank10_f_air               0.000000\n",
       "rougher.state.floatbank10_f_level             0.000000\n",
       "secondary_cleaner.state.floatbank6_a_air      0.000000\n",
       "secondary_cleaner.state.floatbank5_b_level    0.000000\n",
       "secondary_cleaner.state.floatbank2_a_level    0.000000\n",
       "secondary_cleaner.state.floatbank5_b_air      0.000000\n",
       "secondary_cleaner.state.floatbank2_b_level    0.000000\n",
       "secondary_cleaner.state.floatbank5_a_level    0.000000\n",
       "secondary_cleaner.state.floatbank5_a_air      0.000000\n",
       "secondary_cleaner.state.floatbank4_b_level    0.000000\n",
       "secondary_cleaner.state.floatbank4_b_air      0.000000\n",
       "secondary_cleaner.state.floatbank3_a_level    0.000000\n",
       "secondary_cleaner.state.floatbank4_a_level    0.000000\n",
       "rougher.state.floatbank10_e_air               0.000000\n",
       "secondary_cleaner.state.floatbank4_a_air      0.000000\n",
       "rougher.state.floatbank10_e_level             0.000000\n",
       "rougher.state.floatbank10_c_air               0.000000\n",
       "rougher.state.floatbank10_d_level             0.000000\n",
       "primary_cleaner.state.floatbank8_d_level      0.000000\n",
       "primary_cleaner.input.feed_size               0.000000\n",
       "primary_cleaner.state.floatbank8_a_air        0.000000\n",
       "primary_cleaner.state.floatbank8_a_level      0.000000\n",
       "primary_cleaner.state.floatbank8_b_air        0.000000\n",
       "primary_cleaner.state.floatbank8_b_level      0.000000\n",
       "primary_cleaner.state.floatbank8_c_air        0.000000\n",
       "primary_cleaner.state.floatbank8_c_level      0.000000\n",
       "primary_cleaner.state.floatbank8_d_air        0.000000\n",
       "rougher.input.feed_ag                         0.000000\n",
       "rougher.state.floatbank10_d_air               0.000000\n",
       "rougher.input.feed_pb                         0.000000\n",
       "rougher.input.feed_au                         0.000000\n",
       "rougher.input.floatbank10_xanthate            0.000000\n",
       "rougher.state.floatbank10_a_air               0.000000\n",
       "rougher.state.floatbank10_a_level             0.000000\n",
       "rougher.state.floatbank10_b_air               0.000000\n",
       "rougher.state.floatbank10_b_level             0.000000\n",
       "rougher.state.floatbank10_c_level             0.000000\n",
       "secondary_cleaner.state.floatbank6_a_level    0.000000\n",
       "dtype: float64"
      ]
     },
     "execution_count": 24,
     "metadata": {},
     "output_type": "execute_result"
    }
   ],
   "source": [
    "df_gold_test.isna().mean().sort_values(ascending=False)"
   ]
  },
  {
   "cell_type": "markdown",
   "metadata": {},
   "source": [
    "В данных присутствует небольшое количество пропущенных значений.\n",
    "\n",
    "Исправим тип данных в столбце с датой: "
   ]
  },
  {
   "cell_type": "code",
   "execution_count": 25,
   "metadata": {},
   "outputs": [],
   "source": [
    "df_gold_full.index = pd.to_datetime(df_gold_full.index, format='%Y-%m-%d %H:%M:%S')\n",
    "df_gold_train.index = pd.to_datetime(df_gold_train.index, format='%Y-%m-%d %H:%M:%S')\n",
    "df_gold_test.index = pd.to_datetime(df_gold_test.index, format='%Y-%m-%d %H:%M:%S')"
   ]
  },
  {
   "cell_type": "markdown",
   "metadata": {},
   "source": [
    "Заполним пропуски в выборках предыдущими значениями по столбцу, т.к. по условию: соседние по времени параметры часто похожи."
   ]
  },
  {
   "cell_type": "code",
   "execution_count": 26,
   "metadata": {},
   "outputs": [],
   "source": [
    "df_gold_train.fillna(method='ffill', inplace=True)\n",
    "df_gold_test.fillna(method='ffill', inplace=True)"
   ]
  },
  {
   "cell_type": "markdown",
   "metadata": {},
   "source": [
    "Приведем выборки к одинаковому количеству столбцов."
   ]
  },
  {
   "cell_type": "code",
   "execution_count": 27,
   "metadata": {},
   "outputs": [
    {
     "name": "stdout",
     "output_type": "stream",
     "text": [
      "(14149, 86) (5290, 52)\n"
     ]
    }
   ],
   "source": [
    "print(df_gold_train.shape, df_gold_test.shape)"
   ]
  },
  {
   "cell_type": "code",
   "execution_count": 28,
   "metadata": {},
   "outputs": [],
   "source": [
    "df_train = df_gold_train.drop(list_diff, axis=1)\n",
    "df_test = df_gold_test"
   ]
  },
  {
   "cell_type": "code",
   "execution_count": 29,
   "metadata": {},
   "outputs": [
    {
     "name": "stdout",
     "output_type": "stream",
     "text": [
      "(14149, 52) (5290, 52)\n"
     ]
    }
   ],
   "source": [
    "print(df_train.shape, df_test.shape)"
   ]
  },
  {
   "cell_type": "markdown",
   "metadata": {},
   "source": [
    "Добавим целевые признаки:"
   ]
  },
  {
   "cell_type": "code",
   "execution_count": 30,
   "metadata": {},
   "outputs": [],
   "source": [
    "df_train = df_train.join(df_gold_full[['rougher.output.recovery', 'final.output.recovery']])\n",
    "df_test = df_test.join(df_gold_full[['rougher.output.recovery', 'final.output.recovery']])"
   ]
  },
  {
   "cell_type": "markdown",
   "metadata": {},
   "source": [
    "Удалим аномальные значения в столбцах:"
   ]
  },
  {
   "cell_type": "code",
   "execution_count": 31,
   "metadata": {},
   "outputs": [
    {
     "data": {
      "text/plain": [
       "secondary_cleaner.output.tail_au     849\n",
       "secondary_cleaner.output.tail_sol    849\n",
       "secondary_cleaner.output.tail_pb     849\n",
       "secondary_cleaner.output.tail_ag     849\n",
       "rougher.output.concentrate_ag        394\n",
       "dtype: int64"
      ]
     },
     "execution_count": 31,
     "metadata": {},
     "output_type": "execute_result"
    }
   ],
   "source": [
    "(df_gold_full == 0).sum().sort_values(ascending=False).head()"
   ]
  },
  {
   "cell_type": "code",
   "execution_count": 32,
   "metadata": {},
   "outputs": [],
   "source": [
    "for i in df_gold_full.columns:\n",
    "    \n",
    "    df_gold_full = df_gold_full.loc[df_gold_full[i] != 0]  "
   ]
  },
  {
   "cell_type": "code",
   "execution_count": 33,
   "metadata": {},
   "outputs": [],
   "source": [
    "df_gold_full = df_gold_full.reset_index(drop=True)"
   ]
  },
  {
   "cell_type": "code",
   "execution_count": 34,
   "metadata": {},
   "outputs": [],
   "source": [
    "df_train = df_train.loc[df_train['rougher.output.recovery'] != 0].reset_index(drop=True)\n",
    "df_train = df_train.loc[df_train['final.output.recovery'] != 0].reset_index(drop=True)"
   ]
  },
  {
   "cell_type": "code",
   "execution_count": 35,
   "metadata": {},
   "outputs": [],
   "source": [
    "df_test = df_test.loc[df_test['rougher.output.recovery'] != 0].reset_index(drop=True)\n",
    "df_test = df_test.loc[df_test['final.output.recovery'] != 0].reset_index(drop=True)"
   ]
  },
  {
   "cell_type": "markdown",
   "metadata": {},
   "source": [
    "Подготовим признаки для моделей:"
   ]
  },
  {
   "cell_type": "code",
   "execution_count": 36,
   "metadata": {},
   "outputs": [],
   "source": [
    "target_rougher_test = df_test['rougher.output.recovery']\n",
    "target_final_test = df_test['final.output.recovery']\n",
    "\n",
    "features_test = df_test.drop(columns=['rougher.output.recovery', 'final.output.recovery'], axis=1)"
   ]
  },
  {
   "cell_type": "code",
   "execution_count": 37,
   "metadata": {},
   "outputs": [],
   "source": [
    "target_rougher_train = df_train['rougher.output.recovery']\n",
    "target_final_train = df_train['final.output.recovery']\n",
    "\n",
    "features_train = df_train.drop(columns=['rougher.output.recovery', 'final.output.recovery'], axis=1)"
   ]
  },
  {
   "cell_type": "markdown",
   "metadata": {},
   "source": [
    "Приведем количественные признаки к одному масштабу с помощью стандартизации данных."
   ]
  },
  {
   "cell_type": "code",
   "execution_count": 38,
   "metadata": {},
   "outputs": [],
   "source": [
    "scaler = StandardScaler()\n",
    "scaler.fit(features_train)\n",
    "\n",
    "features_train[features_train.columns] = scaler.transform(features_train[features_train.columns])\n",
    "features_test[features_test.columns] = scaler.transform(features_test[features_test.columns])"
   ]
  },
  {
   "cell_type": "code",
   "execution_count": 39,
   "metadata": {},
   "outputs": [
    {
     "data": {
      "text/html": [
       "<div>\n",
       "<style scoped>\n",
       "    .dataframe tbody tr th:only-of-type {\n",
       "        vertical-align: middle;\n",
       "    }\n",
       "\n",
       "    .dataframe tbody tr th {\n",
       "        vertical-align: top;\n",
       "    }\n",
       "\n",
       "    .dataframe thead th {\n",
       "        text-align: right;\n",
       "    }\n",
       "</style>\n",
       "<table border=\"1\" class=\"dataframe\">\n",
       "  <thead>\n",
       "    <tr style=\"text-align: right;\">\n",
       "      <th></th>\n",
       "      <th>primary_cleaner.input.sulfate</th>\n",
       "      <th>primary_cleaner.input.depressant</th>\n",
       "      <th>primary_cleaner.input.feed_size</th>\n",
       "      <th>primary_cleaner.input.xanthate</th>\n",
       "      <th>primary_cleaner.state.floatbank8_a_air</th>\n",
       "      <th>primary_cleaner.state.floatbank8_a_level</th>\n",
       "      <th>primary_cleaner.state.floatbank8_b_air</th>\n",
       "      <th>primary_cleaner.state.floatbank8_b_level</th>\n",
       "      <th>primary_cleaner.state.floatbank8_c_air</th>\n",
       "      <th>primary_cleaner.state.floatbank8_c_level</th>\n",
       "      <th>primary_cleaner.state.floatbank8_d_air</th>\n",
       "      <th>primary_cleaner.state.floatbank8_d_level</th>\n",
       "      <th>rougher.input.feed_ag</th>\n",
       "      <th>rougher.input.feed_pb</th>\n",
       "      <th>rougher.input.feed_rate</th>\n",
       "      <th>rougher.input.feed_size</th>\n",
       "      <th>rougher.input.feed_sol</th>\n",
       "      <th>rougher.input.feed_au</th>\n",
       "      <th>rougher.input.floatbank10_sulfate</th>\n",
       "      <th>rougher.input.floatbank10_xanthate</th>\n",
       "      <th>rougher.input.floatbank11_sulfate</th>\n",
       "      <th>rougher.input.floatbank11_xanthate</th>\n",
       "      <th>rougher.state.floatbank10_a_air</th>\n",
       "      <th>rougher.state.floatbank10_a_level</th>\n",
       "      <th>rougher.state.floatbank10_b_air</th>\n",
       "      <th>rougher.state.floatbank10_b_level</th>\n",
       "      <th>rougher.state.floatbank10_c_air</th>\n",
       "      <th>rougher.state.floatbank10_c_level</th>\n",
       "      <th>rougher.state.floatbank10_d_air</th>\n",
       "      <th>rougher.state.floatbank10_d_level</th>\n",
       "      <th>rougher.state.floatbank10_e_air</th>\n",
       "      <th>rougher.state.floatbank10_e_level</th>\n",
       "      <th>rougher.state.floatbank10_f_air</th>\n",
       "      <th>rougher.state.floatbank10_f_level</th>\n",
       "      <th>secondary_cleaner.state.floatbank2_a_air</th>\n",
       "      <th>secondary_cleaner.state.floatbank2_a_level</th>\n",
       "      <th>secondary_cleaner.state.floatbank2_b_air</th>\n",
       "      <th>secondary_cleaner.state.floatbank2_b_level</th>\n",
       "      <th>secondary_cleaner.state.floatbank3_a_air</th>\n",
       "      <th>secondary_cleaner.state.floatbank3_a_level</th>\n",
       "      <th>secondary_cleaner.state.floatbank3_b_air</th>\n",
       "      <th>secondary_cleaner.state.floatbank3_b_level</th>\n",
       "      <th>secondary_cleaner.state.floatbank4_a_air</th>\n",
       "      <th>secondary_cleaner.state.floatbank4_a_level</th>\n",
       "      <th>secondary_cleaner.state.floatbank4_b_air</th>\n",
       "      <th>secondary_cleaner.state.floatbank4_b_level</th>\n",
       "      <th>secondary_cleaner.state.floatbank5_a_air</th>\n",
       "      <th>secondary_cleaner.state.floatbank5_a_level</th>\n",
       "      <th>secondary_cleaner.state.floatbank5_b_air</th>\n",
       "      <th>secondary_cleaner.state.floatbank5_b_level</th>\n",
       "      <th>secondary_cleaner.state.floatbank6_a_air</th>\n",
       "      <th>secondary_cleaner.state.floatbank6_a_level</th>\n",
       "    </tr>\n",
       "  </thead>\n",
       "  <tbody>\n",
       "    <tr>\n",
       "      <th>0</th>\n",
       "      <td>-0.167946</td>\n",
       "      <td>0.378919</td>\n",
       "      <td>-0.119465</td>\n",
       "      <td>0.280525</td>\n",
       "      <td>-0.447762</td>\n",
       "      <td>-0.287875</td>\n",
       "      <td>-0.430472</td>\n",
       "      <td>-0.810633</td>\n",
       "      <td>-0.435251</td>\n",
       "      <td>-0.260750</td>\n",
       "      <td>0.050385</td>\n",
       "      <td>-0.218093</td>\n",
       "      <td>-1.305803</td>\n",
       "      <td>-1.114292</td>\n",
       "      <td>0.467225</td>\n",
       "      <td>-0.206759</td>\n",
       "      <td>0.102748</td>\n",
       "      <td>-0.712455</td>\n",
       "      <td>0.088170</td>\n",
       "      <td>0.122535</td>\n",
       "      <td>0.134466</td>\n",
       "      <td>0.146216</td>\n",
       "      <td>-0.733775</td>\n",
       "      <td>-0.356807</td>\n",
       "      <td>1.537767</td>\n",
       "      <td>0.512811</td>\n",
       "      <td>1.415903</td>\n",
       "      <td>0.407297</td>\n",
       "      <td>1.844940</td>\n",
       "      <td>0.252656</td>\n",
       "      <td>1.704269</td>\n",
       "      <td>0.165069</td>\n",
       "      <td>2.160192</td>\n",
       "      <td>0.223192</td>\n",
       "      <td>-0.669500</td>\n",
       "      <td>0.056282</td>\n",
       "      <td>-0.172918</td>\n",
       "      <td>0.031022</td>\n",
       "      <td>-0.941018</td>\n",
       "      <td>-0.314885</td>\n",
       "      <td>-0.148329</td>\n",
       "      <td>-0.253867</td>\n",
       "      <td>-1.055447</td>\n",
       "      <td>-0.473230</td>\n",
       "      <td>-0.649344</td>\n",
       "      <td>-0.754028</td>\n",
       "      <td>-1.184765</td>\n",
       "      <td>-0.379743</td>\n",
       "      <td>-0.870199</td>\n",
       "      <td>-0.428883</td>\n",
       "      <td>-0.961635</td>\n",
       "      <td>-2.670289</td>\n",
       "    </tr>\n",
       "    <tr>\n",
       "      <th>1</th>\n",
       "      <td>-0.205154</td>\n",
       "      <td>0.428690</td>\n",
       "      <td>-0.119465</td>\n",
       "      <td>0.317483</td>\n",
       "      <td>-0.243316</td>\n",
       "      <td>-0.343244</td>\n",
       "      <td>-0.244498</td>\n",
       "      <td>-0.322201</td>\n",
       "      <td>-0.241536</td>\n",
       "      <td>-0.278895</td>\n",
       "      <td>0.122211</td>\n",
       "      <td>-0.336531</td>\n",
       "      <td>-1.273673</td>\n",
       "      <td>-1.131607</td>\n",
       "      <td>0.484081</td>\n",
       "      <td>-0.129128</td>\n",
       "      <td>-0.109592</td>\n",
       "      <td>-0.716398</td>\n",
       "      <td>0.083416</td>\n",
       "      <td>0.120508</td>\n",
       "      <td>0.177410</td>\n",
       "      <td>0.151725</td>\n",
       "      <td>-0.730339</td>\n",
       "      <td>-0.314356</td>\n",
       "      <td>1.525368</td>\n",
       "      <td>0.247110</td>\n",
       "      <td>1.406965</td>\n",
       "      <td>0.270672</td>\n",
       "      <td>1.852551</td>\n",
       "      <td>0.276744</td>\n",
       "      <td>1.676161</td>\n",
       "      <td>0.246305</td>\n",
       "      <td>2.065335</td>\n",
       "      <td>0.255381</td>\n",
       "      <td>-0.664769</td>\n",
       "      <td>0.031854</td>\n",
       "      <td>-0.173606</td>\n",
       "      <td>0.047543</td>\n",
       "      <td>-0.939466</td>\n",
       "      <td>-0.403135</td>\n",
       "      <td>-0.119258</td>\n",
       "      <td>-0.256387</td>\n",
       "      <td>-1.059760</td>\n",
       "      <td>-0.532711</td>\n",
       "      <td>-0.677695</td>\n",
       "      <td>-0.696222</td>\n",
       "      <td>-1.165269</td>\n",
       "      <td>-0.428484</td>\n",
       "      <td>-0.886619</td>\n",
       "      <td>-0.431739</td>\n",
       "      <td>-0.988347</td>\n",
       "      <td>-2.507041</td>\n",
       "    </tr>\n",
       "    <tr>\n",
       "      <th>2</th>\n",
       "      <td>-0.251178</td>\n",
       "      <td>0.730962</td>\n",
       "      <td>-0.119465</td>\n",
       "      <td>0.287187</td>\n",
       "      <td>-0.046628</td>\n",
       "      <td>-0.318039</td>\n",
       "      <td>-0.059133</td>\n",
       "      <td>-0.344112</td>\n",
       "      <td>-0.048642</td>\n",
       "      <td>-0.322404</td>\n",
       "      <td>0.211716</td>\n",
       "      <td>-0.355809</td>\n",
       "      <td>-1.297298</td>\n",
       "      <td>-1.229199</td>\n",
       "      <td>0.529848</td>\n",
       "      <td>-0.119079</td>\n",
       "      <td>-0.065674</td>\n",
       "      <td>-0.777035</td>\n",
       "      <td>0.067821</td>\n",
       "      <td>0.295132</td>\n",
       "      <td>0.156976</td>\n",
       "      <td>0.307878</td>\n",
       "      <td>-0.733700</td>\n",
       "      <td>-0.314450</td>\n",
       "      <td>1.517582</td>\n",
       "      <td>0.246149</td>\n",
       "      <td>1.403161</td>\n",
       "      <td>0.268454</td>\n",
       "      <td>1.849305</td>\n",
       "      <td>0.276735</td>\n",
       "      <td>1.675914</td>\n",
       "      <td>0.262793</td>\n",
       "      <td>2.068740</td>\n",
       "      <td>0.248165</td>\n",
       "      <td>-0.643260</td>\n",
       "      <td>0.032856</td>\n",
       "      <td>-0.174084</td>\n",
       "      <td>0.054263</td>\n",
       "      <td>-0.949572</td>\n",
       "      <td>-0.391367</td>\n",
       "      <td>0.255269</td>\n",
       "      <td>-0.267213</td>\n",
       "      <td>-1.055766</td>\n",
       "      <td>-0.473879</td>\n",
       "      <td>-0.684858</td>\n",
       "      <td>-0.692838</td>\n",
       "      <td>-1.159835</td>\n",
       "      <td>-0.427413</td>\n",
       "      <td>-0.881581</td>\n",
       "      <td>-0.430080</td>\n",
       "      <td>-0.983055</td>\n",
       "      <td>-2.551263</td>\n",
       "    </tr>\n",
       "  </tbody>\n",
       "</table>\n",
       "</div>"
      ],
      "text/plain": [
       "   primary_cleaner.input.sulfate  primary_cleaner.input.depressant  \\\n",
       "0                      -0.167946                          0.378919   \n",
       "1                      -0.205154                          0.428690   \n",
       "2                      -0.251178                          0.730962   \n",
       "\n",
       "   primary_cleaner.input.feed_size  primary_cleaner.input.xanthate  \\\n",
       "0                        -0.119465                        0.280525   \n",
       "1                        -0.119465                        0.317483   \n",
       "2                        -0.119465                        0.287187   \n",
       "\n",
       "   primary_cleaner.state.floatbank8_a_air  \\\n",
       "0                               -0.447762   \n",
       "1                               -0.243316   \n",
       "2                               -0.046628   \n",
       "\n",
       "   primary_cleaner.state.floatbank8_a_level  \\\n",
       "0                                 -0.287875   \n",
       "1                                 -0.343244   \n",
       "2                                 -0.318039   \n",
       "\n",
       "   primary_cleaner.state.floatbank8_b_air  \\\n",
       "0                               -0.430472   \n",
       "1                               -0.244498   \n",
       "2                               -0.059133   \n",
       "\n",
       "   primary_cleaner.state.floatbank8_b_level  \\\n",
       "0                                 -0.810633   \n",
       "1                                 -0.322201   \n",
       "2                                 -0.344112   \n",
       "\n",
       "   primary_cleaner.state.floatbank8_c_air  \\\n",
       "0                               -0.435251   \n",
       "1                               -0.241536   \n",
       "2                               -0.048642   \n",
       "\n",
       "   primary_cleaner.state.floatbank8_c_level  \\\n",
       "0                                 -0.260750   \n",
       "1                                 -0.278895   \n",
       "2                                 -0.322404   \n",
       "\n",
       "   primary_cleaner.state.floatbank8_d_air  \\\n",
       "0                                0.050385   \n",
       "1                                0.122211   \n",
       "2                                0.211716   \n",
       "\n",
       "   primary_cleaner.state.floatbank8_d_level  rougher.input.feed_ag  \\\n",
       "0                                 -0.218093              -1.305803   \n",
       "1                                 -0.336531              -1.273673   \n",
       "2                                 -0.355809              -1.297298   \n",
       "\n",
       "   rougher.input.feed_pb  rougher.input.feed_rate  rougher.input.feed_size  \\\n",
       "0              -1.114292                 0.467225                -0.206759   \n",
       "1              -1.131607                 0.484081                -0.129128   \n",
       "2              -1.229199                 0.529848                -0.119079   \n",
       "\n",
       "   rougher.input.feed_sol  rougher.input.feed_au  \\\n",
       "0                0.102748              -0.712455   \n",
       "1               -0.109592              -0.716398   \n",
       "2               -0.065674              -0.777035   \n",
       "\n",
       "   rougher.input.floatbank10_sulfate  rougher.input.floatbank10_xanthate  \\\n",
       "0                           0.088170                            0.122535   \n",
       "1                           0.083416                            0.120508   \n",
       "2                           0.067821                            0.295132   \n",
       "\n",
       "   rougher.input.floatbank11_sulfate  rougher.input.floatbank11_xanthate  \\\n",
       "0                           0.134466                            0.146216   \n",
       "1                           0.177410                            0.151725   \n",
       "2                           0.156976                            0.307878   \n",
       "\n",
       "   rougher.state.floatbank10_a_air  rougher.state.floatbank10_a_level  \\\n",
       "0                        -0.733775                          -0.356807   \n",
       "1                        -0.730339                          -0.314356   \n",
       "2                        -0.733700                          -0.314450   \n",
       "\n",
       "   rougher.state.floatbank10_b_air  rougher.state.floatbank10_b_level  \\\n",
       "0                         1.537767                           0.512811   \n",
       "1                         1.525368                           0.247110   \n",
       "2                         1.517582                           0.246149   \n",
       "\n",
       "   rougher.state.floatbank10_c_air  rougher.state.floatbank10_c_level  \\\n",
       "0                         1.415903                           0.407297   \n",
       "1                         1.406965                           0.270672   \n",
       "2                         1.403161                           0.268454   \n",
       "\n",
       "   rougher.state.floatbank10_d_air  rougher.state.floatbank10_d_level  \\\n",
       "0                         1.844940                           0.252656   \n",
       "1                         1.852551                           0.276744   \n",
       "2                         1.849305                           0.276735   \n",
       "\n",
       "   rougher.state.floatbank10_e_air  rougher.state.floatbank10_e_level  \\\n",
       "0                         1.704269                           0.165069   \n",
       "1                         1.676161                           0.246305   \n",
       "2                         1.675914                           0.262793   \n",
       "\n",
       "   rougher.state.floatbank10_f_air  rougher.state.floatbank10_f_level  \\\n",
       "0                         2.160192                           0.223192   \n",
       "1                         2.065335                           0.255381   \n",
       "2                         2.068740                           0.248165   \n",
       "\n",
       "   secondary_cleaner.state.floatbank2_a_air  \\\n",
       "0                                 -0.669500   \n",
       "1                                 -0.664769   \n",
       "2                                 -0.643260   \n",
       "\n",
       "   secondary_cleaner.state.floatbank2_a_level  \\\n",
       "0                                    0.056282   \n",
       "1                                    0.031854   \n",
       "2                                    0.032856   \n",
       "\n",
       "   secondary_cleaner.state.floatbank2_b_air  \\\n",
       "0                                 -0.172918   \n",
       "1                                 -0.173606   \n",
       "2                                 -0.174084   \n",
       "\n",
       "   secondary_cleaner.state.floatbank2_b_level  \\\n",
       "0                                    0.031022   \n",
       "1                                    0.047543   \n",
       "2                                    0.054263   \n",
       "\n",
       "   secondary_cleaner.state.floatbank3_a_air  \\\n",
       "0                                 -0.941018   \n",
       "1                                 -0.939466   \n",
       "2                                 -0.949572   \n",
       "\n",
       "   secondary_cleaner.state.floatbank3_a_level  \\\n",
       "0                                   -0.314885   \n",
       "1                                   -0.403135   \n",
       "2                                   -0.391367   \n",
       "\n",
       "   secondary_cleaner.state.floatbank3_b_air  \\\n",
       "0                                 -0.148329   \n",
       "1                                 -0.119258   \n",
       "2                                  0.255269   \n",
       "\n",
       "   secondary_cleaner.state.floatbank3_b_level  \\\n",
       "0                                   -0.253867   \n",
       "1                                   -0.256387   \n",
       "2                                   -0.267213   \n",
       "\n",
       "   secondary_cleaner.state.floatbank4_a_air  \\\n",
       "0                                 -1.055447   \n",
       "1                                 -1.059760   \n",
       "2                                 -1.055766   \n",
       "\n",
       "   secondary_cleaner.state.floatbank4_a_level  \\\n",
       "0                                   -0.473230   \n",
       "1                                   -0.532711   \n",
       "2                                   -0.473879   \n",
       "\n",
       "   secondary_cleaner.state.floatbank4_b_air  \\\n",
       "0                                 -0.649344   \n",
       "1                                 -0.677695   \n",
       "2                                 -0.684858   \n",
       "\n",
       "   secondary_cleaner.state.floatbank4_b_level  \\\n",
       "0                                   -0.754028   \n",
       "1                                   -0.696222   \n",
       "2                                   -0.692838   \n",
       "\n",
       "   secondary_cleaner.state.floatbank5_a_air  \\\n",
       "0                                 -1.184765   \n",
       "1                                 -1.165269   \n",
       "2                                 -1.159835   \n",
       "\n",
       "   secondary_cleaner.state.floatbank5_a_level  \\\n",
       "0                                   -0.379743   \n",
       "1                                   -0.428484   \n",
       "2                                   -0.427413   \n",
       "\n",
       "   secondary_cleaner.state.floatbank5_b_air  \\\n",
       "0                                 -0.870199   \n",
       "1                                 -0.886619   \n",
       "2                                 -0.881581   \n",
       "\n",
       "   secondary_cleaner.state.floatbank5_b_level  \\\n",
       "0                                   -0.428883   \n",
       "1                                   -0.431739   \n",
       "2                                   -0.430080   \n",
       "\n",
       "   secondary_cleaner.state.floatbank6_a_air  \\\n",
       "0                                 -0.961635   \n",
       "1                                 -0.988347   \n",
       "2                                 -0.983055   \n",
       "\n",
       "   secondary_cleaner.state.floatbank6_a_level  \n",
       "0                                   -2.670289  \n",
       "1                                   -2.507041  \n",
       "2                                   -2.551263  "
      ]
     },
     "execution_count": 39,
     "metadata": {},
     "output_type": "execute_result"
    }
   ],
   "source": [
    "features_train.head(3)"
   ]
  },
  {
   "cell_type": "code",
   "execution_count": 40,
   "metadata": {},
   "outputs": [
    {
     "data": {
      "text/html": [
       "<div>\n",
       "<style scoped>\n",
       "    .dataframe tbody tr th:only-of-type {\n",
       "        vertical-align: middle;\n",
       "    }\n",
       "\n",
       "    .dataframe tbody tr th {\n",
       "        vertical-align: top;\n",
       "    }\n",
       "\n",
       "    .dataframe thead th {\n",
       "        text-align: right;\n",
       "    }\n",
       "</style>\n",
       "<table border=\"1\" class=\"dataframe\">\n",
       "  <thead>\n",
       "    <tr style=\"text-align: right;\">\n",
       "      <th></th>\n",
       "      <th>primary_cleaner.input.sulfate</th>\n",
       "      <th>primary_cleaner.input.depressant</th>\n",
       "      <th>primary_cleaner.input.feed_size</th>\n",
       "      <th>primary_cleaner.input.xanthate</th>\n",
       "      <th>primary_cleaner.state.floatbank8_a_air</th>\n",
       "      <th>primary_cleaner.state.floatbank8_a_level</th>\n",
       "      <th>primary_cleaner.state.floatbank8_b_air</th>\n",
       "      <th>primary_cleaner.state.floatbank8_b_level</th>\n",
       "      <th>primary_cleaner.state.floatbank8_c_air</th>\n",
       "      <th>primary_cleaner.state.floatbank8_c_level</th>\n",
       "      <th>primary_cleaner.state.floatbank8_d_air</th>\n",
       "      <th>primary_cleaner.state.floatbank8_d_level</th>\n",
       "      <th>rougher.input.feed_ag</th>\n",
       "      <th>rougher.input.feed_pb</th>\n",
       "      <th>rougher.input.feed_rate</th>\n",
       "      <th>rougher.input.feed_size</th>\n",
       "      <th>rougher.input.feed_sol</th>\n",
       "      <th>rougher.input.feed_au</th>\n",
       "      <th>rougher.input.floatbank10_sulfate</th>\n",
       "      <th>rougher.input.floatbank10_xanthate</th>\n",
       "      <th>rougher.input.floatbank11_sulfate</th>\n",
       "      <th>rougher.input.floatbank11_xanthate</th>\n",
       "      <th>rougher.state.floatbank10_a_air</th>\n",
       "      <th>rougher.state.floatbank10_a_level</th>\n",
       "      <th>rougher.state.floatbank10_b_air</th>\n",
       "      <th>rougher.state.floatbank10_b_level</th>\n",
       "      <th>rougher.state.floatbank10_c_air</th>\n",
       "      <th>rougher.state.floatbank10_c_level</th>\n",
       "      <th>rougher.state.floatbank10_d_air</th>\n",
       "      <th>rougher.state.floatbank10_d_level</th>\n",
       "      <th>rougher.state.floatbank10_e_air</th>\n",
       "      <th>rougher.state.floatbank10_e_level</th>\n",
       "      <th>rougher.state.floatbank10_f_air</th>\n",
       "      <th>rougher.state.floatbank10_f_level</th>\n",
       "      <th>secondary_cleaner.state.floatbank2_a_air</th>\n",
       "      <th>secondary_cleaner.state.floatbank2_a_level</th>\n",
       "      <th>secondary_cleaner.state.floatbank2_b_air</th>\n",
       "      <th>secondary_cleaner.state.floatbank2_b_level</th>\n",
       "      <th>secondary_cleaner.state.floatbank3_a_air</th>\n",
       "      <th>secondary_cleaner.state.floatbank3_a_level</th>\n",
       "      <th>secondary_cleaner.state.floatbank3_b_air</th>\n",
       "      <th>secondary_cleaner.state.floatbank3_b_level</th>\n",
       "      <th>secondary_cleaner.state.floatbank4_a_air</th>\n",
       "      <th>secondary_cleaner.state.floatbank4_a_level</th>\n",
       "      <th>secondary_cleaner.state.floatbank4_b_air</th>\n",
       "      <th>secondary_cleaner.state.floatbank4_b_level</th>\n",
       "      <th>secondary_cleaner.state.floatbank5_a_air</th>\n",
       "      <th>secondary_cleaner.state.floatbank5_a_level</th>\n",
       "      <th>secondary_cleaner.state.floatbank5_b_air</th>\n",
       "      <th>secondary_cleaner.state.floatbank5_b_level</th>\n",
       "      <th>secondary_cleaner.state.floatbank6_a_air</th>\n",
       "      <th>secondary_cleaner.state.floatbank6_a_level</th>\n",
       "    </tr>\n",
       "  </thead>\n",
       "  <tbody>\n",
       "    <tr>\n",
       "      <th>0</th>\n",
       "      <td>1.961281</td>\n",
       "      <td>1.820545</td>\n",
       "      <td>1.227753</td>\n",
       "      <td>0.323751</td>\n",
       "      <td>-1.615943</td>\n",
       "      <td>-0.324368</td>\n",
       "      <td>-1.585693</td>\n",
       "      <td>-0.323791</td>\n",
       "      <td>-1.545997</td>\n",
       "      <td>-0.317768</td>\n",
       "      <td>-0.504473</td>\n",
       "      <td>-0.348442</td>\n",
       "      <td>2.412243</td>\n",
       "      <td>1.959738</td>\n",
       "      <td>0.141050</td>\n",
       "      <td>0.106172</td>\n",
       "      <td>1.151933</td>\n",
       "      <td>2.204723</td>\n",
       "      <td>1.609793</td>\n",
       "      <td>0.255126</td>\n",
       "      <td>1.489640</td>\n",
       "      <td>0.264031</td>\n",
       "      <td>-0.721070</td>\n",
       "      <td>0.213537</td>\n",
       "      <td>-0.403121</td>\n",
       "      <td>1.133675</td>\n",
       "      <td>-0.246887</td>\n",
       "      <td>1.174205</td>\n",
       "      <td>-0.072526</td>\n",
       "      <td>1.183606</td>\n",
       "      <td>-0.466102</td>\n",
       "      <td>1.154298</td>\n",
       "      <td>-0.501489</td>\n",
       "      <td>1.173664</td>\n",
       "      <td>-0.827300</td>\n",
       "      <td>0.023484</td>\n",
       "      <td>-1.662176</td>\n",
       "      <td>0.053274</td>\n",
       "      <td>-1.640005</td>\n",
       "      <td>0.506142</td>\n",
       "      <td>-1.739537</td>\n",
       "      <td>0.923974</td>\n",
       "      <td>-1.405630</td>\n",
       "      <td>-0.380669</td>\n",
       "      <td>-1.424210</td>\n",
       "      <td>-0.695498</td>\n",
       "      <td>-1.524368</td>\n",
       "      <td>1.349791</td>\n",
       "      <td>-1.425066</td>\n",
       "      <td>-0.417749</td>\n",
       "      <td>1.230368</td>\n",
       "      <td>0.191218</td>\n",
       "    </tr>\n",
       "    <tr>\n",
       "      <th>1</th>\n",
       "      <td>2.078072</td>\n",
       "      <td>1.818871</td>\n",
       "      <td>1.227753</td>\n",
       "      <td>0.285071</td>\n",
       "      <td>-1.617518</td>\n",
       "      <td>-0.319696</td>\n",
       "      <td>-1.593958</td>\n",
       "      <td>-0.319610</td>\n",
       "      <td>-1.575306</td>\n",
       "      <td>-0.276799</td>\n",
       "      <td>-0.502664</td>\n",
       "      <td>-0.368481</td>\n",
       "      <td>2.363420</td>\n",
       "      <td>1.858263</td>\n",
       "      <td>0.144054</td>\n",
       "      <td>0.073714</td>\n",
       "      <td>0.983999</td>\n",
       "      <td>2.118673</td>\n",
       "      <td>1.634347</td>\n",
       "      <td>0.114382</td>\n",
       "      <td>1.524267</td>\n",
       "      <td>0.143367</td>\n",
       "      <td>-0.739801</td>\n",
       "      <td>0.212217</td>\n",
       "      <td>-0.410500</td>\n",
       "      <td>1.119054</td>\n",
       "      <td>-0.248001</td>\n",
       "      <td>1.170011</td>\n",
       "      <td>-0.061908</td>\n",
       "      <td>1.175450</td>\n",
       "      <td>-0.463262</td>\n",
       "      <td>1.154996</td>\n",
       "      <td>-0.497875</td>\n",
       "      <td>1.039175</td>\n",
       "      <td>-0.829841</td>\n",
       "      <td>0.034787</td>\n",
       "      <td>-1.664962</td>\n",
       "      <td>0.041279</td>\n",
       "      <td>-1.645263</td>\n",
       "      <td>0.511302</td>\n",
       "      <td>-1.718345</td>\n",
       "      <td>0.918558</td>\n",
       "      <td>-1.399553</td>\n",
       "      <td>-0.398422</td>\n",
       "      <td>-1.402516</td>\n",
       "      <td>-0.667232</td>\n",
       "      <td>-1.522359</td>\n",
       "      <td>-1.101237</td>\n",
       "      <td>-1.423970</td>\n",
       "      <td>-0.420957</td>\n",
       "      <td>0.936004</td>\n",
       "      <td>0.188252</td>\n",
       "    </tr>\n",
       "    <tr>\n",
       "      <th>2</th>\n",
       "      <td>2.074702</td>\n",
       "      <td>1.195812</td>\n",
       "      <td>0.751628</td>\n",
       "      <td>0.299886</td>\n",
       "      <td>-1.619720</td>\n",
       "      <td>-0.342227</td>\n",
       "      <td>-1.587851</td>\n",
       "      <td>-0.319207</td>\n",
       "      <td>-1.561032</td>\n",
       "      <td>-0.358259</td>\n",
       "      <td>-0.502703</td>\n",
       "      <td>-0.353399</td>\n",
       "      <td>2.417450</td>\n",
       "      <td>1.767004</td>\n",
       "      <td>0.139352</td>\n",
       "      <td>0.287824</td>\n",
       "      <td>1.257349</td>\n",
       "      <td>2.208490</td>\n",
       "      <td>1.631261</td>\n",
       "      <td>-0.020872</td>\n",
       "      <td>1.520504</td>\n",
       "      <td>0.022438</td>\n",
       "      <td>-0.740834</td>\n",
       "      <td>0.219029</td>\n",
       "      <td>-0.415745</td>\n",
       "      <td>1.113504</td>\n",
       "      <td>-0.254165</td>\n",
       "      <td>1.144149</td>\n",
       "      <td>-0.065433</td>\n",
       "      <td>1.160209</td>\n",
       "      <td>-0.463673</td>\n",
       "      <td>1.159497</td>\n",
       "      <td>-0.497188</td>\n",
       "      <td>1.126219</td>\n",
       "      <td>-0.832383</td>\n",
       "      <td>0.026605</td>\n",
       "      <td>-1.654035</td>\n",
       "      <td>0.037613</td>\n",
       "      <td>-1.636190</td>\n",
       "      <td>0.508573</td>\n",
       "      <td>-1.721366</td>\n",
       "      <td>0.928031</td>\n",
       "      <td>-1.416379</td>\n",
       "      <td>-0.399837</td>\n",
       "      <td>-1.408984</td>\n",
       "      <td>-0.687612</td>\n",
       "      <td>-1.503005</td>\n",
       "      <td>-0.445039</td>\n",
       "      <td>-1.419424</td>\n",
       "      <td>-0.412383</td>\n",
       "      <td>0.931626</td>\n",
       "      <td>0.166598</td>\n",
       "    </tr>\n",
       "  </tbody>\n",
       "</table>\n",
       "</div>"
      ],
      "text/plain": [
       "   primary_cleaner.input.sulfate  primary_cleaner.input.depressant  \\\n",
       "0                       1.961281                          1.820545   \n",
       "1                       2.078072                          1.818871   \n",
       "2                       2.074702                          1.195812   \n",
       "\n",
       "   primary_cleaner.input.feed_size  primary_cleaner.input.xanthate  \\\n",
       "0                         1.227753                        0.323751   \n",
       "1                         1.227753                        0.285071   \n",
       "2                         0.751628                        0.299886   \n",
       "\n",
       "   primary_cleaner.state.floatbank8_a_air  \\\n",
       "0                               -1.615943   \n",
       "1                               -1.617518   \n",
       "2                               -1.619720   \n",
       "\n",
       "   primary_cleaner.state.floatbank8_a_level  \\\n",
       "0                                 -0.324368   \n",
       "1                                 -0.319696   \n",
       "2                                 -0.342227   \n",
       "\n",
       "   primary_cleaner.state.floatbank8_b_air  \\\n",
       "0                               -1.585693   \n",
       "1                               -1.593958   \n",
       "2                               -1.587851   \n",
       "\n",
       "   primary_cleaner.state.floatbank8_b_level  \\\n",
       "0                                 -0.323791   \n",
       "1                                 -0.319610   \n",
       "2                                 -0.319207   \n",
       "\n",
       "   primary_cleaner.state.floatbank8_c_air  \\\n",
       "0                               -1.545997   \n",
       "1                               -1.575306   \n",
       "2                               -1.561032   \n",
       "\n",
       "   primary_cleaner.state.floatbank8_c_level  \\\n",
       "0                                 -0.317768   \n",
       "1                                 -0.276799   \n",
       "2                                 -0.358259   \n",
       "\n",
       "   primary_cleaner.state.floatbank8_d_air  \\\n",
       "0                               -0.504473   \n",
       "1                               -0.502664   \n",
       "2                               -0.502703   \n",
       "\n",
       "   primary_cleaner.state.floatbank8_d_level  rougher.input.feed_ag  \\\n",
       "0                                 -0.348442               2.412243   \n",
       "1                                 -0.368481               2.363420   \n",
       "2                                 -0.353399               2.417450   \n",
       "\n",
       "   rougher.input.feed_pb  rougher.input.feed_rate  rougher.input.feed_size  \\\n",
       "0               1.959738                 0.141050                 0.106172   \n",
       "1               1.858263                 0.144054                 0.073714   \n",
       "2               1.767004                 0.139352                 0.287824   \n",
       "\n",
       "   rougher.input.feed_sol  rougher.input.feed_au  \\\n",
       "0                1.151933               2.204723   \n",
       "1                0.983999               2.118673   \n",
       "2                1.257349               2.208490   \n",
       "\n",
       "   rougher.input.floatbank10_sulfate  rougher.input.floatbank10_xanthate  \\\n",
       "0                           1.609793                            0.255126   \n",
       "1                           1.634347                            0.114382   \n",
       "2                           1.631261                           -0.020872   \n",
       "\n",
       "   rougher.input.floatbank11_sulfate  rougher.input.floatbank11_xanthate  \\\n",
       "0                           1.489640                            0.264031   \n",
       "1                           1.524267                            0.143367   \n",
       "2                           1.520504                            0.022438   \n",
       "\n",
       "   rougher.state.floatbank10_a_air  rougher.state.floatbank10_a_level  \\\n",
       "0                        -0.721070                           0.213537   \n",
       "1                        -0.739801                           0.212217   \n",
       "2                        -0.740834                           0.219029   \n",
       "\n",
       "   rougher.state.floatbank10_b_air  rougher.state.floatbank10_b_level  \\\n",
       "0                        -0.403121                           1.133675   \n",
       "1                        -0.410500                           1.119054   \n",
       "2                        -0.415745                           1.113504   \n",
       "\n",
       "   rougher.state.floatbank10_c_air  rougher.state.floatbank10_c_level  \\\n",
       "0                        -0.246887                           1.174205   \n",
       "1                        -0.248001                           1.170011   \n",
       "2                        -0.254165                           1.144149   \n",
       "\n",
       "   rougher.state.floatbank10_d_air  rougher.state.floatbank10_d_level  \\\n",
       "0                        -0.072526                           1.183606   \n",
       "1                        -0.061908                           1.175450   \n",
       "2                        -0.065433                           1.160209   \n",
       "\n",
       "   rougher.state.floatbank10_e_air  rougher.state.floatbank10_e_level  \\\n",
       "0                        -0.466102                           1.154298   \n",
       "1                        -0.463262                           1.154996   \n",
       "2                        -0.463673                           1.159497   \n",
       "\n",
       "   rougher.state.floatbank10_f_air  rougher.state.floatbank10_f_level  \\\n",
       "0                        -0.501489                           1.173664   \n",
       "1                        -0.497875                           1.039175   \n",
       "2                        -0.497188                           1.126219   \n",
       "\n",
       "   secondary_cleaner.state.floatbank2_a_air  \\\n",
       "0                                 -0.827300   \n",
       "1                                 -0.829841   \n",
       "2                                 -0.832383   \n",
       "\n",
       "   secondary_cleaner.state.floatbank2_a_level  \\\n",
       "0                                    0.023484   \n",
       "1                                    0.034787   \n",
       "2                                    0.026605   \n",
       "\n",
       "   secondary_cleaner.state.floatbank2_b_air  \\\n",
       "0                                 -1.662176   \n",
       "1                                 -1.664962   \n",
       "2                                 -1.654035   \n",
       "\n",
       "   secondary_cleaner.state.floatbank2_b_level  \\\n",
       "0                                    0.053274   \n",
       "1                                    0.041279   \n",
       "2                                    0.037613   \n",
       "\n",
       "   secondary_cleaner.state.floatbank3_a_air  \\\n",
       "0                                 -1.640005   \n",
       "1                                 -1.645263   \n",
       "2                                 -1.636190   \n",
       "\n",
       "   secondary_cleaner.state.floatbank3_a_level  \\\n",
       "0                                    0.506142   \n",
       "1                                    0.511302   \n",
       "2                                    0.508573   \n",
       "\n",
       "   secondary_cleaner.state.floatbank3_b_air  \\\n",
       "0                                 -1.739537   \n",
       "1                                 -1.718345   \n",
       "2                                 -1.721366   \n",
       "\n",
       "   secondary_cleaner.state.floatbank3_b_level  \\\n",
       "0                                    0.923974   \n",
       "1                                    0.918558   \n",
       "2                                    0.928031   \n",
       "\n",
       "   secondary_cleaner.state.floatbank4_a_air  \\\n",
       "0                                 -1.405630   \n",
       "1                                 -1.399553   \n",
       "2                                 -1.416379   \n",
       "\n",
       "   secondary_cleaner.state.floatbank4_a_level  \\\n",
       "0                                   -0.380669   \n",
       "1                                   -0.398422   \n",
       "2                                   -0.399837   \n",
       "\n",
       "   secondary_cleaner.state.floatbank4_b_air  \\\n",
       "0                                 -1.424210   \n",
       "1                                 -1.402516   \n",
       "2                                 -1.408984   \n",
       "\n",
       "   secondary_cleaner.state.floatbank4_b_level  \\\n",
       "0                                   -0.695498   \n",
       "1                                   -0.667232   \n",
       "2                                   -0.687612   \n",
       "\n",
       "   secondary_cleaner.state.floatbank5_a_air  \\\n",
       "0                                 -1.524368   \n",
       "1                                 -1.522359   \n",
       "2                                 -1.503005   \n",
       "\n",
       "   secondary_cleaner.state.floatbank5_a_level  \\\n",
       "0                                    1.349791   \n",
       "1                                   -1.101237   \n",
       "2                                   -0.445039   \n",
       "\n",
       "   secondary_cleaner.state.floatbank5_b_air  \\\n",
       "0                                 -1.425066   \n",
       "1                                 -1.423970   \n",
       "2                                 -1.419424   \n",
       "\n",
       "   secondary_cleaner.state.floatbank5_b_level  \\\n",
       "0                                   -0.417749   \n",
       "1                                   -0.420957   \n",
       "2                                   -0.412383   \n",
       "\n",
       "   secondary_cleaner.state.floatbank6_a_air  \\\n",
       "0                                  1.230368   \n",
       "1                                  0.936004   \n",
       "2                                  0.931626   \n",
       "\n",
       "   secondary_cleaner.state.floatbank6_a_level  \n",
       "0                                    0.191218  \n",
       "1                                    0.188252  \n",
       "2                                    0.166598  "
      ]
     },
     "execution_count": 40,
     "metadata": {},
     "output_type": "execute_result"
    }
   ],
   "source": [
    "features_test.head(3)"
   ]
  },
  {
   "cell_type": "markdown",
   "metadata": {},
   "source": [
    "## Анализ данных"
   ]
  },
  {
   "cell_type": "markdown",
   "metadata": {},
   "source": [
    "### Концентрация металлов (Au, Ag, Pb) на различных этапах очистки"
   ]
  },
  {
   "cell_type": "code",
   "execution_count": 41,
   "metadata": {},
   "outputs": [
    {
     "data": {
      "text/plain": [
       "rougher.input.feed_au                     8.086987\n",
       "rougher.output.concentrate_au            20.314645\n",
       "primary_cleaner.output.concentrate_au    32.837665\n",
       "final.output.concentrate_au              45.009343\n",
       "dtype: float64"
      ]
     },
     "execution_count": 41,
     "metadata": {},
     "output_type": "execute_result"
    }
   ],
   "source": [
    "df_gold_full[['rougher.input.feed_au', 'rougher.output.concentrate_au', 'primary_cleaner.output.concentrate_au',\n",
    "             'final.output.concentrate_au']].median()"
   ]
  },
  {
   "cell_type": "code",
   "execution_count": 42,
   "metadata": {},
   "outputs": [
    {
     "data": {
      "text/plain": [
       "Text(0.5, 1.0, 'Au')"
      ]
     },
     "execution_count": 42,
     "metadata": {},
     "output_type": "execute_result"
    },
    {
     "data": {
      "image/png": "[encoded data removed]",
      "text/plain": [
       "<Figure size 720x360 with 1 Axes>"
      ]
     },
     "metadata": {
      "needs_background": "light"
     },
     "output_type": "display_data"
    }
   ],
   "source": [
    "df_gold_full[['rougher.input.feed_au', 'rougher.output.concentrate_au', \n",
    "              'primary_cleaner.output.concentrate_au', 'final.output.concentrate_au']].plot(\n",
    "    kind='hist', figsize=(10, 5), grid=True, bins=50)\n",
    "\n",
    "plt.title('Au')"
   ]
  },
  {
   "cell_type": "code",
   "execution_count": 43,
   "metadata": {},
   "outputs": [
    {
     "data": {
      "text/plain": [
       "Text(0.5, 1.0, 'Au')"
      ]
     },
     "execution_count": 43,
     "metadata": {},
     "output_type": "execute_result"
    },
    {
     "data": {
      "image/png": "[encoded data removed]",
      "text/plain": [
       "<Figure size 216x216 with 1 Axes>"
      ]
     },
     "metadata": {
      "needs_background": "light"
     },
     "output_type": "display_data"
    }
   ],
   "source": [
    "df_gold_full[['rougher.input.feed_au', 'rougher.output.concentrate_au', 'primary_cleaner.output.concentrate_au',\n",
    "             'final.output.concentrate_au']].median().plot(\n",
    "    kind='bar', figsize=(3, 3), grid=True)\n",
    "\n",
    "\n",
    "plt.xticks(rotation=25)\n",
    "plt.title('Au')"
   ]
  },
  {
   "cell_type": "code",
   "execution_count": 44,
   "metadata": {},
   "outputs": [
    {
     "data": {
      "text/plain": [
       "rougher.input.feed_ag                     8.559773\n",
       "rougher.output.concentrate_ag            12.129965\n",
       "primary_cleaner.output.concentrate_ag     8.525590\n",
       "final.output.concentrate_ag               5.051731\n",
       "dtype: float64"
      ]
     },
     "execution_count": 44,
     "metadata": {},
     "output_type": "execute_result"
    }
   ],
   "source": [
    "df_gold_full[['rougher.input.feed_ag', 'rougher.output.concentrate_ag', 'primary_cleaner.output.concentrate_ag', \n",
    "              'final.output.concentrate_ag']].median()"
   ]
  },
  {
   "cell_type": "code",
   "execution_count": 45,
   "metadata": {},
   "outputs": [
    {
     "data": {
      "text/plain": [
       "Text(0.5, 1.0, 'Ag')"
      ]
     },
     "execution_count": 45,
     "metadata": {},
     "output_type": "execute_result"
    },
    {
     "data": {
      "image/png": "[encoded data removed]",
      "text/plain": [
       "<Figure size 720x360 with 1 Axes>"
      ]
     },
     "metadata": {
      "needs_background": "light"
     },
     "output_type": "display_data"
    }
   ],
   "source": [
    "df_gold_full[['rougher.input.feed_ag', 'rougher.output.concentrate_ag', \n",
    "              'primary_cleaner.output.concentrate_ag', 'final.output.concentrate_ag']].plot(\n",
    "    kind='hist', figsize=(10, 5), grid=True, alpha=0.7, bins=50)\n",
    "\n",
    "plt.title('Ag')"
   ]
  },
  {
   "cell_type": "code",
   "execution_count": 46,
   "metadata": {},
   "outputs": [
    {
     "data": {
      "text/plain": [
       "Text(0.5, 1.0, 'Ag')"
      ]
     },
     "execution_count": 46,
     "metadata": {},
     "output_type": "execute_result"
    },
    {
     "data": {
      "image/png": "[encoded data removed]",
      "text/plain": [
       "<Figure size 216x216 with 1 Axes>"
      ]
     },
     "metadata": {
      "needs_background": "light"
     },
     "output_type": "display_data"
    }
   ],
   "source": [
    "df_gold_full[['rougher.input.feed_ag', 'rougher.output.concentrate_ag', 'primary_cleaner.output.concentrate_ag', \n",
    "              'final.output.concentrate_ag']].median().plot(\n",
    "    kind='bar', figsize=(3, 3), grid=True)\n",
    "\n",
    "plt.xticks(rotation=25)\n",
    "plt.title('Ag')"
   ]
  },
  {
   "cell_type": "code",
   "execution_count": 47,
   "metadata": {},
   "outputs": [
    {
     "data": {
      "text/plain": [
       "rougher.input.feed_pb                     3.516071\n",
       "rougher.output.concentrate_pb             7.761659\n",
       "primary_cleaner.output.concentrate_pb    10.184256\n",
       "final.output.concentrate_pb              10.120284\n",
       "dtype: float64"
      ]
     },
     "execution_count": 47,
     "metadata": {},
     "output_type": "execute_result"
    }
   ],
   "source": [
    "df_gold_full[['rougher.input.feed_pb', 'rougher.output.concentrate_pb', 'primary_cleaner.output.concentrate_pb', \n",
    "              'final.output.concentrate_pb']].median()"
   ]
  },
  {
   "cell_type": "code",
   "execution_count": 48,
   "metadata": {},
   "outputs": [
    {
     "data": {
      "text/plain": [
       "Text(0.5, 1.0, 'Pb')"
      ]
     },
     "execution_count": 48,
     "metadata": {},
     "output_type": "execute_result"
    },
    {
     "data": {
      "image/png": "[encoded data removed]",
      "text/plain": [
       "<Figure size 720x360 with 1 Axes>"
      ]
     },
     "metadata": {
      "needs_background": "light"
     },
     "output_type": "display_data"
    }
   ],
   "source": [
    "df_gold_full[['rougher.input.feed_pb', 'rougher.output.concentrate_pb', \n",
    "              'primary_cleaner.output.concentrate_pb', 'final.output.concentrate_pb']].plot(\n",
    "    kind='hist', figsize=(10, 5), grid=True, alpha=0.7, bins=50)\n",
    "\n",
    "plt.title('Pb')"
   ]
  },
  {
   "cell_type": "code",
   "execution_count": 49,
   "metadata": {},
   "outputs": [
    {
     "data": {
      "text/plain": [
       "Text(0.5, 1.0, 'Pb')"
      ]
     },
     "execution_count": 49,
     "metadata": {},
     "output_type": "execute_result"
    },
    {
     "data": {
      "image/png": "[encoded data removed]",
      "text/plain": [
       "<Figure size 216x216 with 1 Axes>"
      ]
     },
     "metadata": {
      "needs_background": "light"
     },
     "output_type": "display_data"
    }
   ],
   "source": [
    "df_gold_full[['rougher.input.feed_pb', 'rougher.output.concentrate_pb', 'primary_cleaner.output.concentrate_pb', \n",
    "              'final.output.concentrate_pb']].median().plot(\n",
    "    kind='bar', figsize=(3, 3), grid=True)\n",
    "\n",
    "plt.xticks(rotation=25) \n",
    "plt.title('Pb')"
   ]
  },
  {
   "cell_type": "markdown",
   "metadata": {},
   "source": [
    "По графикам и медианным значениям мы видим, что в процессе очистки:\n",
    "\n",
    "- концентрация золота увеличивается более чем в 5 раз, \n",
    "- концентрация серебра уменьшается примерно в 1,5 раза,\n",
    "- концентрация свинца увеличивается почти в 3 раза."
   ]
  },
  {
   "cell_type": "markdown",
   "metadata": {},
   "source": [
    "### Распределения размеров гранул сырья"
   ]
  },
  {
   "cell_type": "markdown",
   "metadata": {},
   "source": [
    "Сравним распределения размеров гранул сырья на обучающей и тестовой выборках:"
   ]
  },
  {
   "cell_type": "code",
   "execution_count": 50,
   "metadata": {},
   "outputs": [
    {
     "data": {
      "text/plain": [
       "<AxesSubplot:ylabel='Frequency'>"
      ]
     },
     "execution_count": 50,
     "metadata": {},
     "output_type": "execute_result"
    },
    {
     "data": {
      "image/png": "[encoded data removed]",
      "text/plain": [
       "<Figure size 720x216 with 1 Axes>"
      ]
     },
     "metadata": {
      "needs_background": "light"
     },
     "output_type": "display_data"
    },
    {
     "data": {
      "image/png": "[encoded data removed]",
      "text/plain": [
       "<Figure size 720x216 with 1 Axes>"
      ]
     },
     "metadata": {
      "needs_background": "light"
     },
     "output_type": "display_data"
    }
   ],
   "source": [
    "df_train[['rougher.input.feed_size']].plot(kind='hist', figsize=(10, 3), grid=True, bins=30)\n",
    "df_test[['rougher.input.feed_size']].plot(kind='hist', figsize=(10, 3), grid=True, bins=30)"
   ]
  },
  {
   "cell_type": "markdown",
   "metadata": {},
   "source": [
    "По гистограммам мы видим, что распределения имеют схожий характер."
   ]
  },
  {
   "cell_type": "markdown",
   "metadata": {},
   "source": [
    "### Суммарная концентрация на разных стадиях"
   ]
  },
  {
   "cell_type": "markdown",
   "metadata": {},
   "source": [
    "Исследуем суммарную концентрацию всех веществ на разных стадиях: в сырье, в черновом и финальном концентратах."
   ]
  },
  {
   "cell_type": "code",
   "execution_count": 52,
   "metadata": {},
   "outputs": [],
   "source": [
    "df_stages = pd.DataFrame()"
   ]
  },
  {
   "cell_type": "code",
   "execution_count": 53,
   "metadata": {},
   "outputs": [],
   "source": [
    "df_stages['feed'] = df_gold_full['rougher.input.feed_ag'] + df_gold_full['rougher.input.feed_pb'] + df_gold_full['rougher.input.feed_sol'] + df_gold_full['rougher.input.feed_au']\n",
    "df_stages['rougher'] = df_gold_full['rougher.output.concentrate_ag'] + df_gold_full['rougher.output.concentrate_pb'] + df_gold_full['rougher.output.concentrate_sol'] + df_gold_full['rougher.output.concentrate_au']\n",
    "df_stages['final'] = df_gold_full['final.output.concentrate_ag'] + df_gold_full['final.output.concentrate_pb'] + df_gold_full['final.output.concentrate_sol'] + df_gold_full['final.output.concentrate_au']"
   ]
  },
  {
   "cell_type": "code",
   "execution_count": 54,
   "metadata": {},
   "outputs": [
    {
     "data": {
      "text/html": [
       "<div>\n",
       "<style scoped>\n",
       "    .dataframe tbody tr th:only-of-type {\n",
       "        vertical-align: middle;\n",
       "    }\n",
       "\n",
       "    .dataframe tbody tr th {\n",
       "        vertical-align: top;\n",
       "    }\n",
       "\n",
       "    .dataframe thead th {\n",
       "        text-align: right;\n",
       "    }\n",
       "</style>\n",
       "<table border=\"1\" class=\"dataframe\">\n",
       "  <thead>\n",
       "    <tr style=\"text-align: right;\">\n",
       "      <th></th>\n",
       "      <th>feed</th>\n",
       "      <th>rougher</th>\n",
       "      <th>final</th>\n",
       "    </tr>\n",
       "  </thead>\n",
       "  <tbody>\n",
       "    <tr>\n",
       "      <th>0</th>\n",
       "      <td>51.680034</td>\n",
       "      <td>66.424950</td>\n",
       "      <td>63.644396</td>\n",
       "    </tr>\n",
       "    <tr>\n",
       "      <th>1</th>\n",
       "      <td>50.659114</td>\n",
       "      <td>67.012710</td>\n",
       "      <td>63.957723</td>\n",
       "    </tr>\n",
       "    <tr>\n",
       "      <th>2</th>\n",
       "      <td>50.609929</td>\n",
       "      <td>66.103793</td>\n",
       "      <td>64.311180</td>\n",
       "    </tr>\n",
       "    <tr>\n",
       "      <th>3</th>\n",
       "      <td>51.061546</td>\n",
       "      <td>65.752751</td>\n",
       "      <td>63.573449</td>\n",
       "    </tr>\n",
       "    <tr>\n",
       "      <th>4</th>\n",
       "      <td>47.859163</td>\n",
       "      <td>65.908382</td>\n",
       "      <td>64.004667</td>\n",
       "    </tr>\n",
       "  </tbody>\n",
       "</table>\n",
       "</div>"
      ],
      "text/plain": [
       "        feed    rougher      final\n",
       "0  51.680034  66.424950  63.644396\n",
       "1  50.659114  67.012710  63.957723\n",
       "2  50.609929  66.103793  64.311180\n",
       "3  51.061546  65.752751  63.573449\n",
       "4  47.859163  65.908382  64.004667"
      ]
     },
     "execution_count": 54,
     "metadata": {},
     "output_type": "execute_result"
    }
   ],
   "source": [
    "df_stages.head()"
   ]
  },
  {
   "cell_type": "code",
   "execution_count": 55,
   "metadata": {},
   "outputs": [
    {
     "data": {
      "text/html": [
       "<div>\n",
       "<style scoped>\n",
       "    .dataframe tbody tr th:only-of-type {\n",
       "        vertical-align: middle;\n",
       "    }\n",
       "\n",
       "    .dataframe tbody tr th {\n",
       "        vertical-align: top;\n",
       "    }\n",
       "\n",
       "    .dataframe thead th {\n",
       "        text-align: right;\n",
       "    }\n",
       "</style>\n",
       "<table border=\"1\" class=\"dataframe\">\n",
       "  <thead>\n",
       "    <tr style=\"text-align: right;\">\n",
       "      <th></th>\n",
       "      <th>feed</th>\n",
       "      <th>rougher</th>\n",
       "      <th>final</th>\n",
       "    </tr>\n",
       "  </thead>\n",
       "  <tbody>\n",
       "    <tr>\n",
       "      <th>count</th>\n",
       "      <td>17732.000000</td>\n",
       "      <td>17876.000000</td>\n",
       "      <td>17692.000000</td>\n",
       "    </tr>\n",
       "    <tr>\n",
       "      <th>mean</th>\n",
       "      <td>57.451368</td>\n",
       "      <td>69.591638</td>\n",
       "      <td>69.124729</td>\n",
       "    </tr>\n",
       "    <tr>\n",
       "      <th>std</th>\n",
       "      <td>7.023222</td>\n",
       "      <td>7.598231</td>\n",
       "      <td>5.268604</td>\n",
       "    </tr>\n",
       "    <tr>\n",
       "      <th>min</th>\n",
       "      <td>8.072476</td>\n",
       "      <td>5.577864</td>\n",
       "      <td>5.945843</td>\n",
       "    </tr>\n",
       "    <tr>\n",
       "      <th>25%</th>\n",
       "      <td>53.630047</td>\n",
       "      <td>66.291221</td>\n",
       "      <td>67.968553</td>\n",
       "    </tr>\n",
       "    <tr>\n",
       "      <th>50%</th>\n",
       "      <td>57.667618</td>\n",
       "      <td>70.270941</td>\n",
       "      <td>69.644377</td>\n",
       "    </tr>\n",
       "    <tr>\n",
       "      <th>75%</th>\n",
       "      <td>62.012582</td>\n",
       "      <td>74.422049</td>\n",
       "      <td>71.379834</td>\n",
       "    </tr>\n",
       "    <tr>\n",
       "      <th>max</th>\n",
       "      <td>76.978947</td>\n",
       "      <td>88.140119</td>\n",
       "      <td>80.210644</td>\n",
       "    </tr>\n",
       "  </tbody>\n",
       "</table>\n",
       "</div>"
      ],
      "text/plain": [
       "               feed       rougher         final\n",
       "count  17732.000000  17876.000000  17692.000000\n",
       "mean      57.451368     69.591638     69.124729\n",
       "std        7.023222      7.598231      5.268604\n",
       "min        8.072476      5.577864      5.945843\n",
       "25%       53.630047     66.291221     67.968553\n",
       "50%       57.667618     70.270941     69.644377\n",
       "75%       62.012582     74.422049     71.379834\n",
       "max       76.978947     88.140119     80.210644"
      ]
     },
     "execution_count": 55,
     "metadata": {},
     "output_type": "execute_result"
    }
   ],
   "source": [
    "df_stages.describe()"
   ]
  },
  {
   "cell_type": "code",
   "execution_count": 56,
   "metadata": {},
   "outputs": [
    {
     "data": {
      "text/plain": [
       "array([[<AxesSubplot:title={'center':'feed'}>,\n",
       "        <AxesSubplot:title={'center':'rougher'}>],\n",
       "       [<AxesSubplot:title={'center':'final'}>, <AxesSubplot:>]],\n",
       "      dtype=object)"
      ]
     },
     "execution_count": 56,
     "metadata": {},
     "output_type": "execute_result"
    },
    {
     "data": {
      "image/png": "[encoded data removed]",
      "text/plain": [
       "<Figure size 720x360 with 4 Axes>"
      ]
     },
     "metadata": {
      "needs_background": "light"
     },
     "output_type": "display_data"
    }
   ],
   "source": [
    "df_stages.hist(figsize=(10, 5))"
   ]
  },
  {
   "cell_type": "markdown",
   "metadata": {},
   "source": [
    "Исходя из полученных данных, суммарная концентрация на разных стадиях чаще всего находится в диапазоне: \n",
    "\n",
    "- в сырье (feed) - от 53 до 62;\n",
    "\n",
    "- в черновом концентрате (rougher) - от 66 до 74;\n",
    "\n",
    "- финальном концентрате (final) - от 68 до 71.\n",
    "\n",
    "Т.е. суммарная концентрация веществ увеличивается после флотации, но почти не меняется после прохождения всех этапов очистки."
   ]
  },
  {
   "cell_type": "markdown",
   "metadata": {},
   "source": [
    "## Модель"
   ]
  },
  {
   "cell_type": "markdown",
   "metadata": {},
   "source": [
    "### sMAPE"
   ]
  },
  {
   "cell_type": "markdown",
   "metadata": {},
   "source": [
    "Напишем функцию для вычисления итоговой sMAPE:"
   ]
  },
  {
   "attachments": {
    "image.png": {
     "image/png": "[encoded data removed]"
    }
   },
   "cell_type": "markdown",
   "metadata": {},
   "source": [
    "![image.png](attachment:image.png)"
   ]
  },
  {
   "cell_type": "code",
   "execution_count": 58,
   "metadata": {},
   "outputs": [],
   "source": [
    "def sMAPE(target, predict):\n",
    "    \n",
    "    sMAPE = 1 / len(target) * sum(abs(target - predict) /\n",
    "                                  ((abs(target) + abs(predict)) / 2)) * 100\n",
    "    \n",
    "    return sMAPE"
   ]
  },
  {
   "cell_type": "code",
   "execution_count": 59,
   "metadata": {},
   "outputs": [],
   "source": [
    "scorer = make_scorer(sMAPE, greater_is_better=False) "
   ]
  },
  {
   "cell_type": "markdown",
   "metadata": {},
   "source": [
    "### Подготовка моделей"
   ]
  },
  {
   "cell_type": "markdown",
   "metadata": {},
   "source": [
    "Определим гиперпараметры и подготовим модели."
   ]
  },
  {
   "cell_type": "code",
   "execution_count": 60,
   "metadata": {},
   "outputs": [],
   "source": [
    "state = 12345"
   ]
  },
  {
   "cell_type": "code",
   "execution_count": 75,
   "metadata": {},
   "outputs": [],
   "source": [
    "rfr = RandomForestRegressor(random_state=state)\n",
    "\n",
    "parametrs = {'n_estimators': range (13, 14, 2),\n",
    "              'max_depth': range (5, 6, 2)}\n",
    "            \n",
    "grid = GridSearchCV(rfr, parametrs, cv=3, scoring=scorer)  #n_jobs=1"
   ]
  },
  {
   "cell_type": "code",
   "execution_count": 76,
   "metadata": {},
   "outputs": [
    {
     "data": {
      "text/plain": [
       "{'max_depth': 5, 'n_estimators': 13}"
      ]
     },
     "execution_count": 76,
     "metadata": {},
     "output_type": "execute_result"
    }
   ],
   "source": [
    "grid.fit(features_train, target_rougher_train)\n",
    "grid.best_params_"
   ]
  },
  {
   "cell_type": "code",
   "execution_count": 77,
   "metadata": {},
   "outputs": [
    {
     "data": {
      "text/plain": [
       "{'max_depth': 5, 'n_estimators': 13}"
      ]
     },
     "execution_count": 77,
     "metadata": {},
     "output_type": "execute_result"
    }
   ],
   "source": [
    "grid.fit(features_train, target_final_train)\n",
    "grid.best_params_"
   ]
  },
  {
   "cell_type": "code",
   "execution_count": 64,
   "metadata": {},
   "outputs": [],
   "source": [
    "model_rougher_forest = RandomForestRegressor(max_depth=5, n_estimators=13, random_state=state)\n",
    "model_final_forest = RandomForestRegressor(max_depth=5, n_estimators=13, random_state=state)\n",
    "\n",
    "model_rougher_lr = LinearRegression()\n",
    "model_final_lr = LinearRegression()"
   ]
  },
  {
   "cell_type": "markdown",
   "metadata": {},
   "source": [
    "### Кросс-валидация"
   ]
  },
  {
   "cell_type": "markdown",
   "metadata": {},
   "source": [
    "Оценим качество разных моделей:"
   ]
  },
  {
   "cell_type": "markdown",
   "metadata": {},
   "source": [
    "#### Random Forest"
   ]
  },
  {
   "cell_type": "code",
   "execution_count": 65,
   "metadata": {},
   "outputs": [
    {
     "data": {
      "text/plain": [
       "-6.693158633198772"
      ]
     },
     "execution_count": 65,
     "metadata": {},
     "output_type": "execute_result"
    }
   ],
   "source": [
    "f_smape_rougher = cross_val_score(model_rougher_forest, features_train, target_rougher_train, \n",
    "                scoring=scorer, cv=5).mean()\n",
    "f_smape_rougher"
   ]
  },
  {
   "cell_type": "code",
   "execution_count": 66,
   "metadata": {},
   "outputs": [
    {
     "data": {
      "text/plain": [
       "-9.523609477949263"
      ]
     },
     "execution_count": 66,
     "metadata": {},
     "output_type": "execute_result"
    }
   ],
   "source": [
    "f_smape_final = cross_val_score(model_final_forest, features_train, target_final_train, \n",
    "                              scoring=scorer, cv=5).mean()\n",
    "f_smape_final"
   ]
  },
  {
   "cell_type": "code",
   "execution_count": 67,
   "metadata": {},
   "outputs": [
    {
     "name": "stdout",
     "output_type": "stream",
     "text": [
      "sMAPE = -8.81599676676164\n"
     ]
    }
   ],
   "source": [
    "f_sMAPE_full = 0.25 * f_smape_rougher + 0.75 * f_smape_final\n",
    "\n",
    "print('sMAPE =', f_sMAPE_full)"
   ]
  },
  {
   "cell_type": "markdown",
   "metadata": {},
   "source": [
    "#### Linear Regression"
   ]
  },
  {
   "cell_type": "code",
   "execution_count": 68,
   "metadata": {},
   "outputs": [
    {
     "data": {
      "text/plain": [
       "-7.267806730900354"
      ]
     },
     "execution_count": 68,
     "metadata": {},
     "output_type": "execute_result"
    }
   ],
   "source": [
    "lr_smape_rougher = cross_val_score(model_rougher_lr, features_train, target_rougher_train, \n",
    "                                scoring=scorer, cv=5).mean()\n",
    "lr_smape_rougher"
   ]
  },
  {
   "cell_type": "code",
   "execution_count": 69,
   "metadata": {},
   "outputs": [
    {
     "data": {
      "text/plain": [
       "-10.990200515158014"
      ]
     },
     "execution_count": 69,
     "metadata": {},
     "output_type": "execute_result"
    }
   ],
   "source": [
    "lr_smape_final = cross_val_score(model_final_lr, features_train, target_final_train, \n",
    "                              scoring=scorer, cv=5).mean()\n",
    "lr_smape_final"
   ]
  },
  {
   "cell_type": "code",
   "execution_count": 70,
   "metadata": {},
   "outputs": [
    {
     "name": "stdout",
     "output_type": "stream",
     "text": [
      "sMAPE = -10.059602069093598\n"
     ]
    }
   ],
   "source": [
    "lr_sMAPE_full = 0.25 * lr_smape_rougher + 0.75 * lr_smape_final\n",
    "\n",
    "print('sMAPE =', lr_sMAPE_full)"
   ]
  },
  {
   "cell_type": "markdown",
   "metadata": {},
   "source": [
    "По результатам кросс-валидации, наилучшее значение метрики показывает модель - Случайный лес."
   ]
  },
  {
   "cell_type": "markdown",
   "metadata": {},
   "source": [
    "### Тест"
   ]
  },
  {
   "cell_type": "markdown",
   "metadata": {},
   "source": [
    "Для проверки на тестовой выборке выбираем модель Случайный лес."
   ]
  },
  {
   "cell_type": "code",
   "execution_count": 71,
   "metadata": {},
   "outputs": [],
   "source": [
    "model_rougher_forest.fit(features_train, target_rougher_train)\n",
    "\n",
    "prediction_rougher = model_rougher_forest.predict(features_test) "
   ]
  },
  {
   "cell_type": "code",
   "execution_count": 72,
   "metadata": {},
   "outputs": [],
   "source": [
    "model_final_forest.fit(features_train, target_final_train)\n",
    "\n",
    "prediction_final = model_final_forest.predict(features_test)"
   ]
  },
  {
   "attachments": {
    "image.png": {
     "image/png": "[encoded data removed]"
    }
   },
   "cell_type": "markdown",
   "metadata": {},
   "source": [
    "![image.png](attachment:image.png)"
   ]
  },
  {
   "cell_type": "code",
   "execution_count": 73,
   "metadata": {},
   "outputs": [],
   "source": [
    "smape_rougher = sMAPE(target_rougher_test, prediction_rougher)\n",
    "smape_final = sMAPE(target_final_test, prediction_final)"
   ]
  },
  {
   "cell_type": "code",
   "execution_count": 74,
   "metadata": {},
   "outputs": [
    {
     "name": "stdout",
     "output_type": "stream",
     "text": [
      "sMAPE = 7.413018936759567\n"
     ]
    }
   ],
   "source": [
    "sMAPE_full = 0.25 * smape_rougher + 0.75 * smape_final\n",
    "\n",
    "print('sMAPE =', sMAPE_full)"
   ]
  },
  {
   "cell_type": "markdown",
   "metadata": {},
   "source": [
    "Значение метрики получилось равным 7,41."
   ]
  }
 ],
 "metadata": {
  "ExecuteTimeLog": [
   {
    "duration": 1135,
    "start_time": "2022-05-27T13:34:52.780Z"
   },
   {
    "duration": 121,
    "start_time": "2022-05-27T13:35:12.200Z"
   },
   {
    "duration": 2192,
    "start_time": "2022-05-27T13:36:11.180Z"
   },
   {
    "duration": 107,
    "start_time": "2022-05-27T13:36:15.808Z"
   },
   {
    "duration": 36,
    "start_time": "2022-05-27T13:36:17.328Z"
   },
   {
    "duration": 32,
    "start_time": "2022-05-27T13:36:18.680Z"
   },
   {
    "duration": 30,
    "start_time": "2022-05-27T13:36:30.442Z"
   },
   {
    "duration": 24,
    "start_time": "2022-05-27T13:36:38.523Z"
   },
   {
    "duration": 24,
    "start_time": "2022-05-27T13:36:42.809Z"
   },
   {
    "duration": 21,
    "start_time": "2022-05-27T13:44:49.921Z"
   },
   {
    "duration": 159,
    "start_time": "2022-05-27T13:45:14.770Z"
   },
   {
    "duration": 13,
    "start_time": "2022-05-27T13:45:45.635Z"
   },
   {
    "duration": 611,
    "start_time": "2022-05-27T13:50:46.492Z"
   },
   {
    "duration": 8,
    "start_time": "2022-05-27T13:51:15.971Z"
   },
   {
    "duration": 15,
    "start_time": "2022-05-27T13:51:17.031Z"
   },
   {
    "duration": 8,
    "start_time": "2022-05-27T13:51:50.780Z"
   },
   {
    "duration": 9,
    "start_time": "2022-05-27T13:52:00.539Z"
   },
   {
    "duration": 13,
    "start_time": "2022-05-27T13:52:09.181Z"
   },
   {
    "duration": 25,
    "start_time": "2022-05-27T13:52:45.079Z"
   },
   {
    "duration": 24,
    "start_time": "2022-05-27T13:52:51.011Z"
   },
   {
    "duration": 99,
    "start_time": "2022-05-27T13:53:12.779Z"
   },
   {
    "duration": 172127,
    "start_time": "2022-05-27T13:53:59.770Z"
   },
   {
    "duration": 19,
    "start_time": "2022-05-27T13:58:11.972Z"
   },
   {
    "duration": 941443,
    "start_time": "2022-05-27T13:58:25.980Z"
   },
   {
    "duration": 0,
    "start_time": "2022-05-27T14:14:07.426Z"
   },
   {
    "duration": 1351,
    "start_time": "2022-05-27T14:14:16.016Z"
   },
   {
    "duration": 1595,
    "start_time": "2022-05-29T06:59:55.152Z"
   },
   {
    "duration": 3104,
    "start_time": "2022-05-29T07:00:52.273Z"
   },
   {
    "duration": 38,
    "start_time": "2022-05-29T07:05:08.004Z"
   },
   {
    "duration": 3,
    "start_time": "2022-05-29T07:10:52.262Z"
   },
   {
    "duration": 70,
    "start_time": "2022-05-29T07:10:54.567Z"
   },
   {
    "duration": 3,
    "start_time": "2022-05-29T07:12:03.204Z"
   },
   {
    "duration": 3,
    "start_time": "2022-05-29T07:12:10.565Z"
   },
   {
    "duration": 2,
    "start_time": "2022-05-29T07:12:18.963Z"
   },
   {
    "duration": 2,
    "start_time": "2022-05-29T07:12:20.766Z"
   },
   {
    "duration": 19,
    "start_time": "2022-05-29T07:12:26.485Z"
   },
   {
    "duration": 285,
    "start_time": "2022-05-29T07:12:27.862Z"
   },
   {
    "duration": 67,
    "start_time": "2022-05-29T07:18:24.377Z"
   },
   {
    "duration": 58,
    "start_time": "2022-05-29T07:18:28.121Z"
   },
   {
    "duration": 8,
    "start_time": "2022-05-29T07:20:33.266Z"
   },
   {
    "duration": 73,
    "start_time": "2022-05-29T07:25:33.265Z"
   },
   {
    "duration": 52,
    "start_time": "2022-05-29T07:35:33.714Z"
   },
   {
    "duration": 14,
    "start_time": "2022-05-29T07:36:02.489Z"
   },
   {
    "duration": 11,
    "start_time": "2022-05-29T07:38:40.895Z"
   },
   {
    "duration": 13,
    "start_time": "2022-05-29T07:49:00.709Z"
   },
   {
    "duration": 10,
    "start_time": "2022-05-29T07:49:17.082Z"
   },
   {
    "duration": 12,
    "start_time": "2022-05-29T07:49:35.989Z"
   },
   {
    "duration": 9,
    "start_time": "2022-05-29T07:49:44.337Z"
   },
   {
    "duration": 5,
    "start_time": "2022-05-29T07:50:32.358Z"
   },
   {
    "duration": 10,
    "start_time": "2022-05-29T08:08:12.054Z"
   },
   {
    "duration": 12,
    "start_time": "2022-05-29T08:09:12.013Z"
   },
   {
    "duration": 7,
    "start_time": "2022-05-29T08:09:37.372Z"
   },
   {
    "duration": 13,
    "start_time": "2022-05-29T08:09:48.425Z"
   },
   {
    "duration": 18,
    "start_time": "2022-05-29T08:18:11.964Z"
   },
   {
    "duration": 6,
    "start_time": "2022-05-29T08:18:56.604Z"
   },
   {
    "duration": 7,
    "start_time": "2022-05-29T08:18:59.851Z"
   },
   {
    "duration": 14,
    "start_time": "2022-05-29T08:19:51.636Z"
   },
   {
    "duration": 6,
    "start_time": "2022-05-29T08:29:44.951Z"
   },
   {
    "duration": 5,
    "start_time": "2022-05-29T08:29:58.074Z"
   },
   {
    "duration": 11,
    "start_time": "2022-05-29T08:30:09.425Z"
   },
   {
    "duration": 5,
    "start_time": "2022-05-29T08:30:27.449Z"
   },
   {
    "duration": 5,
    "start_time": "2022-05-29T08:30:44.770Z"
   },
   {
    "duration": 6,
    "start_time": "2022-05-29T08:30:52.789Z"
   },
   {
    "duration": 5,
    "start_time": "2022-05-29T08:33:15.837Z"
   },
   {
    "duration": 5,
    "start_time": "2022-05-29T08:33:44.892Z"
   },
   {
    "duration": 4,
    "start_time": "2022-05-29T08:34:04.505Z"
   },
   {
    "duration": 13,
    "start_time": "2022-05-29T08:34:20.047Z"
   },
   {
    "duration": 12,
    "start_time": "2022-05-29T08:36:19.719Z"
   },
   {
    "duration": 50,
    "start_time": "2022-05-29T09:24:49.473Z"
   },
   {
    "duration": 13,
    "start_time": "2022-05-29T09:26:22.588Z"
   },
   {
    "duration": 26,
    "start_time": "2022-05-29T09:30:44.730Z"
   },
   {
    "duration": 3,
    "start_time": "2022-05-29T09:30:49.082Z"
   },
   {
    "duration": 195,
    "start_time": "2022-05-29T09:31:58.262Z"
   },
   {
    "duration": 3,
    "start_time": "2022-05-29T09:33:18.232Z"
   },
   {
    "duration": 294,
    "start_time": "2022-05-29T09:33:20.711Z"
   },
   {
    "duration": 326,
    "start_time": "2022-05-29T09:34:25.012Z"
   },
   {
    "duration": 4,
    "start_time": "2022-05-29T09:34:59.521Z"
   },
   {
    "duration": 271,
    "start_time": "2022-05-29T09:35:03.876Z"
   },
   {
    "duration": 295,
    "start_time": "2022-05-29T09:35:11.733Z"
   },
   {
    "duration": 10,
    "start_time": "2022-05-29T09:35:37.370Z"
   },
   {
    "duration": 4,
    "start_time": "2022-05-29T09:43:19.798Z"
   },
   {
    "duration": 266,
    "start_time": "2022-05-29T09:43:21.802Z"
   },
   {
    "duration": 4,
    "start_time": "2022-05-29T09:44:03.513Z"
   },
   {
    "duration": 5,
    "start_time": "2022-05-29T09:44:13.891Z"
   },
   {
    "duration": 3,
    "start_time": "2022-05-29T09:44:57.103Z"
   },
   {
    "duration": 207,
    "start_time": "2022-05-29T09:44:59.237Z"
   },
   {
    "duration": 4,
    "start_time": "2022-05-29T09:45:38.223Z"
   },
   {
    "duration": 5,
    "start_time": "2022-05-29T09:45:41.839Z"
   },
   {
    "duration": 8,
    "start_time": "2022-05-29T09:46:14.198Z"
   },
   {
    "duration": 3,
    "start_time": "2022-05-29T09:48:09.827Z"
   },
   {
    "duration": 266,
    "start_time": "2022-05-29T09:48:12.110Z"
   },
   {
    "duration": 4,
    "start_time": "2022-05-29T09:48:33.814Z"
   },
   {
    "duration": 236,
    "start_time": "2022-05-29T09:48:35.861Z"
   },
   {
    "duration": 32,
    "start_time": "2022-05-29T09:48:45.343Z"
   },
   {
    "duration": 4,
    "start_time": "2022-05-29T09:48:50.590Z"
   },
   {
    "duration": 246,
    "start_time": "2022-05-29T09:48:53.709Z"
   },
   {
    "duration": 4,
    "start_time": "2022-05-29T09:49:42.361Z"
   },
   {
    "duration": 245,
    "start_time": "2022-05-29T09:49:44.403Z"
   },
   {
    "duration": 4,
    "start_time": "2022-05-29T09:50:02.143Z"
   },
   {
    "duration": 235,
    "start_time": "2022-05-29T09:50:04.364Z"
   },
   {
    "duration": 4,
    "start_time": "2022-05-29T09:50:46.142Z"
   },
   {
    "duration": 298,
    "start_time": "2022-05-29T09:50:48.291Z"
   },
   {
    "duration": 4,
    "start_time": "2022-05-29T09:50:56.812Z"
   },
   {
    "duration": 4,
    "start_time": "2022-05-29T09:51:04.064Z"
   },
   {
    "duration": 310,
    "start_time": "2022-05-29T09:51:05.885Z"
   },
   {
    "duration": 4,
    "start_time": "2022-05-29T09:51:25.381Z"
   },
   {
    "duration": 4,
    "start_time": "2022-05-29T09:52:01.461Z"
   },
   {
    "duration": 3,
    "start_time": "2022-05-29T09:52:16.050Z"
   },
   {
    "duration": 324,
    "start_time": "2022-05-29T09:52:18.565Z"
   },
   {
    "duration": 4,
    "start_time": "2022-05-29T09:52:25.260Z"
   },
   {
    "duration": 5,
    "start_time": "2022-05-29T09:52:40.678Z"
   },
   {
    "duration": 4,
    "start_time": "2022-05-29T09:53:01.349Z"
   },
   {
    "duration": 261,
    "start_time": "2022-05-29T09:53:03.942Z"
   },
   {
    "duration": 4,
    "start_time": "2022-05-29T09:53:09.942Z"
   },
   {
    "duration": 292,
    "start_time": "2022-05-29T09:53:11.649Z"
   },
   {
    "duration": 4,
    "start_time": "2022-05-29T09:53:18.997Z"
   },
   {
    "duration": 284,
    "start_time": "2022-05-29T09:53:20.938Z"
   },
   {
    "duration": 7,
    "start_time": "2022-05-29T09:53:53.373Z"
   },
   {
    "duration": 5,
    "start_time": "2022-05-29T09:53:57.228Z"
   },
   {
    "duration": 11,
    "start_time": "2022-05-29T09:55:01.323Z"
   },
   {
    "duration": 5,
    "start_time": "2022-05-29T09:55:13.102Z"
   },
   {
    "duration": 5,
    "start_time": "2022-05-29T09:55:20.993Z"
   },
   {
    "duration": 350,
    "start_time": "2022-05-29T09:55:23.883Z"
   },
   {
    "duration": 36,
    "start_time": "2022-05-29T09:55:28.792Z"
   },
   {
    "duration": 31,
    "start_time": "2022-05-29T09:55:44.301Z"
   },
   {
    "duration": 3,
    "start_time": "2022-05-29T09:55:46.872Z"
   },
   {
    "duration": 21,
    "start_time": "2022-05-29T09:55:48.085Z"
   },
   {
    "duration": 327,
    "start_time": "2022-05-29T09:55:53.154Z"
   },
   {
    "duration": 5,
    "start_time": "2022-05-29T09:56:37.775Z"
   },
   {
    "duration": 5,
    "start_time": "2022-05-29T09:56:47.605Z"
   },
   {
    "duration": 5,
    "start_time": "2022-05-29T09:56:53.960Z"
   },
   {
    "duration": 248,
    "start_time": "2022-05-29T09:57:02.761Z"
   },
   {
    "duration": 7,
    "start_time": "2022-05-29T10:05:37.939Z"
   },
   {
    "duration": 14,
    "start_time": "2022-05-29T10:05:59.924Z"
   },
   {
    "duration": 291,
    "start_time": "2022-05-29T10:09:39.962Z"
   },
   {
    "duration": 4,
    "start_time": "2022-05-29T10:09:44.802Z"
   },
   {
    "duration": 251,
    "start_time": "2022-05-29T10:10:46.592Z"
   },
   {
    "duration": 10,
    "start_time": "2022-05-29T10:10:50.027Z"
   },
   {
    "duration": 5,
    "start_time": "2022-05-29T10:11:50.827Z"
   },
   {
    "duration": 14,
    "start_time": "2022-05-29T10:11:55.779Z"
   },
   {
    "duration": 9,
    "start_time": "2022-05-29T10:12:00.778Z"
   },
   {
    "duration": 8,
    "start_time": "2022-05-29T10:12:21.683Z"
   },
   {
    "duration": 6,
    "start_time": "2022-05-29T10:12:35.891Z"
   },
   {
    "duration": 5,
    "start_time": "2022-05-29T10:12:46.660Z"
   },
   {
    "duration": 10,
    "start_time": "2022-05-29T10:12:58.540Z"
   },
   {
    "duration": 6,
    "start_time": "2022-05-29T10:13:03.619Z"
   },
   {
    "duration": 5,
    "start_time": "2022-05-29T10:13:05.699Z"
   },
   {
    "duration": 11,
    "start_time": "2022-05-29T10:16:33.387Z"
   },
   {
    "duration": 9,
    "start_time": "2022-05-29T10:16:36.497Z"
   },
   {
    "duration": 5,
    "start_time": "2022-05-29T10:16:39.308Z"
   },
   {
    "duration": 7,
    "start_time": "2022-05-29T10:18:19.778Z"
   },
   {
    "duration": 7,
    "start_time": "2022-05-29T10:18:49.548Z"
   },
   {
    "duration": 9,
    "start_time": "2022-05-29T10:21:51.087Z"
   },
   {
    "duration": 328,
    "start_time": "2022-05-29T10:24:11.409Z"
   },
   {
    "duration": 326,
    "start_time": "2022-05-29T10:24:23.038Z"
   },
   {
    "duration": 9,
    "start_time": "2022-05-29T10:24:41.422Z"
   },
   {
    "duration": 19,
    "start_time": "2022-05-29T10:24:58.648Z"
   },
   {
    "duration": 6,
    "start_time": "2022-05-29T10:25:35.378Z"
   },
   {
    "duration": 11,
    "start_time": "2022-05-29T10:26:01.889Z"
   },
   {
    "duration": 10,
    "start_time": "2022-05-29T10:26:14.839Z"
   },
   {
    "duration": 10,
    "start_time": "2022-05-29T10:26:31.272Z"
   },
   {
    "duration": 8,
    "start_time": "2022-05-29T10:26:53.361Z"
   },
   {
    "duration": 9,
    "start_time": "2022-05-29T10:27:03.180Z"
   },
   {
    "duration": 8,
    "start_time": "2022-05-29T10:29:47.495Z"
   },
   {
    "duration": 37,
    "start_time": "2022-05-29T10:31:01.237Z"
   },
   {
    "duration": 26,
    "start_time": "2022-05-29T10:31:09.566Z"
   },
   {
    "duration": 254,
    "start_time": "2022-05-29T10:32:12.245Z"
   },
   {
    "duration": 226,
    "start_time": "2022-05-29T10:32:18.048Z"
   },
   {
    "duration": 6,
    "start_time": "2022-05-29T10:39:03.361Z"
   },
   {
    "duration": 12,
    "start_time": "2022-05-29T10:44:22.821Z"
   },
   {
    "duration": 16,
    "start_time": "2022-05-29T10:45:49.836Z"
   },
   {
    "duration": 5,
    "start_time": "2022-05-29T10:46:54.495Z"
   },
   {
    "duration": 18,
    "start_time": "2022-05-29T10:47:31.128Z"
   },
   {
    "duration": 12,
    "start_time": "2022-05-29T10:47:43.698Z"
   },
   {
    "duration": 12,
    "start_time": "2022-05-29T10:47:52.078Z"
   },
   {
    "duration": 13,
    "start_time": "2022-05-29T10:48:00.260Z"
   },
   {
    "duration": 12,
    "start_time": "2022-05-29T10:48:07.598Z"
   },
   {
    "duration": 17,
    "start_time": "2022-05-29T10:48:13.366Z"
   },
   {
    "duration": 11,
    "start_time": "2022-05-29T10:48:35.099Z"
   },
   {
    "duration": 5,
    "start_time": "2022-05-29T10:48:52.287Z"
   },
   {
    "duration": 5,
    "start_time": "2022-05-29T10:49:00.278Z"
   },
   {
    "duration": 5,
    "start_time": "2022-05-29T10:49:03.460Z"
   },
   {
    "duration": 14,
    "start_time": "2022-05-29T10:50:03.860Z"
   },
   {
    "duration": 11,
    "start_time": "2022-05-29T10:50:20.688Z"
   },
   {
    "duration": 4,
    "start_time": "2022-05-29T10:52:36.816Z"
   },
   {
    "duration": 9,
    "start_time": "2022-05-29T10:52:44.561Z"
   },
   {
    "duration": 4,
    "start_time": "2022-05-29T10:53:42.144Z"
   },
   {
    "duration": 4,
    "start_time": "2022-05-29T10:54:20.668Z"
   },
   {
    "duration": 5,
    "start_time": "2022-05-29T10:54:44.305Z"
   },
   {
    "duration": 6,
    "start_time": "2022-05-29T10:55:05.287Z"
   },
   {
    "duration": 6,
    "start_time": "2022-05-29T10:55:07.885Z"
   },
   {
    "duration": 5,
    "start_time": "2022-05-29T10:56:24.363Z"
   },
   {
    "duration": 3,
    "start_time": "2022-05-29T10:56:33.422Z"
   },
   {
    "duration": 3,
    "start_time": "2022-05-29T10:58:14.488Z"
   },
   {
    "duration": 3,
    "start_time": "2022-05-29T10:58:15.783Z"
   },
   {
    "duration": 31,
    "start_time": "2022-05-29T11:00:19.840Z"
   },
   {
    "duration": 5,
    "start_time": "2022-05-29T11:00:32.190Z"
   },
   {
    "duration": 4,
    "start_time": "2022-05-29T11:00:40.318Z"
   },
   {
    "duration": 24,
    "start_time": "2022-05-29T11:00:47.590Z"
   },
   {
    "duration": 3,
    "start_time": "2022-05-29T11:00:51.607Z"
   },
   {
    "duration": 5,
    "start_time": "2022-05-29T11:00:58.324Z"
   },
   {
    "duration": 3,
    "start_time": "2022-05-29T11:01:09.163Z"
   },
   {
    "duration": 3,
    "start_time": "2022-05-29T11:01:13.768Z"
   },
   {
    "duration": 3,
    "start_time": "2022-05-29T11:01:15.990Z"
   },
   {
    "duration": 3,
    "start_time": "2022-05-29T11:01:19.865Z"
   },
   {
    "duration": 3,
    "start_time": "2022-05-29T11:01:42.480Z"
   },
   {
    "duration": 3,
    "start_time": "2022-05-29T11:01:43.597Z"
   },
   {
    "duration": 3,
    "start_time": "2022-05-29T11:01:44.607Z"
   },
   {
    "duration": 3,
    "start_time": "2022-05-29T11:01:49.004Z"
   },
   {
    "duration": 10,
    "start_time": "2022-05-29T11:02:18.085Z"
   },
   {
    "duration": 3,
    "start_time": "2022-05-29T11:02:21.367Z"
   },
   {
    "duration": 2,
    "start_time": "2022-05-29T11:02:22.440Z"
   },
   {
    "duration": 5,
    "start_time": "2022-05-29T11:02:27.459Z"
   },
   {
    "duration": 3,
    "start_time": "2022-05-29T11:03:45.106Z"
   },
   {
    "duration": 4,
    "start_time": "2022-05-29T11:03:49.516Z"
   },
   {
    "duration": 12,
    "start_time": "2022-05-29T11:04:13.127Z"
   },
   {
    "duration": 5,
    "start_time": "2022-05-29T11:04:18.837Z"
   },
   {
    "duration": 2,
    "start_time": "2022-05-29T11:04:48.259Z"
   },
   {
    "duration": 2,
    "start_time": "2022-05-29T11:04:49.367Z"
   },
   {
    "duration": 4,
    "start_time": "2022-05-29T11:04:57.060Z"
   },
   {
    "duration": 3,
    "start_time": "2022-05-29T11:23:04.938Z"
   },
   {
    "duration": 6,
    "start_time": "2022-05-29T11:23:07.037Z"
   },
   {
    "duration": 5,
    "start_time": "2022-05-29T11:23:17.585Z"
   },
   {
    "duration": 5,
    "start_time": "2022-05-29T11:23:25.927Z"
   },
   {
    "duration": 4,
    "start_time": "2022-05-29T11:23:27.859Z"
   },
   {
    "duration": 9,
    "start_time": "2022-05-29T11:24:46.362Z"
   },
   {
    "duration": 9,
    "start_time": "2022-05-29T11:24:49.600Z"
   },
   {
    "duration": 4,
    "start_time": "2022-05-29T11:25:02.546Z"
   },
   {
    "duration": 5,
    "start_time": "2022-05-29T11:25:05.591Z"
   },
   {
    "duration": 36,
    "start_time": "2022-05-29T11:25:27.832Z"
   },
   {
    "duration": 4,
    "start_time": "2022-05-29T11:26:11.531Z"
   },
   {
    "duration": 2,
    "start_time": "2022-05-29T11:26:40.052Z"
   },
   {
    "duration": 3,
    "start_time": "2022-05-29T11:26:50.164Z"
   },
   {
    "duration": 5,
    "start_time": "2022-05-29T11:26:55.259Z"
   },
   {
    "duration": 5,
    "start_time": "2022-05-29T11:27:07.336Z"
   },
   {
    "duration": 10,
    "start_time": "2022-05-29T11:27:10.647Z"
   },
   {
    "duration": 9,
    "start_time": "2022-05-29T11:27:13.740Z"
   },
   {
    "duration": 7,
    "start_time": "2022-05-29T11:27:21.184Z"
   },
   {
    "duration": 5,
    "start_time": "2022-05-29T11:27:27.485Z"
   },
   {
    "duration": 34,
    "start_time": "2022-05-29T11:28:13.411Z"
   },
   {
    "duration": 4,
    "start_time": "2022-05-29T11:28:17.736Z"
   },
   {
    "duration": 15,
    "start_time": "2022-05-29T11:28:19.991Z"
   },
   {
    "duration": 53,
    "start_time": "2022-05-29T11:28:38.009Z"
   },
   {
    "duration": 31,
    "start_time": "2022-05-29T11:28:44.758Z"
   },
   {
    "duration": 3,
    "start_time": "2022-05-29T11:29:12.088Z"
   },
   {
    "duration": 30,
    "start_time": "2022-05-29T11:29:13.538Z"
   },
   {
    "duration": 7,
    "start_time": "2022-05-29T11:29:32.861Z"
   },
   {
    "duration": 37,
    "start_time": "2022-05-29T11:29:41.940Z"
   },
   {
    "duration": 8,
    "start_time": "2022-05-29T11:31:14.491Z"
   },
   {
    "duration": 27,
    "start_time": "2022-05-29T11:31:23.892Z"
   },
   {
    "duration": 12,
    "start_time": "2022-05-29T11:33:10.908Z"
   },
   {
    "duration": 17,
    "start_time": "2022-05-29T11:35:26.007Z"
   },
   {
    "duration": 11,
    "start_time": "2022-05-29T11:35:51.286Z"
   },
   {
    "duration": 4,
    "start_time": "2022-05-29T11:35:54.479Z"
   },
   {
    "duration": 12,
    "start_time": "2022-05-29T11:50:58.494Z"
   },
   {
    "duration": 10,
    "start_time": "2022-05-29T11:51:02.802Z"
   },
   {
    "duration": 8,
    "start_time": "2022-05-29T11:51:03.912Z"
   },
   {
    "duration": 51,
    "start_time": "2022-05-29T11:53:25.280Z"
   },
   {
    "duration": 117,
    "start_time": "2022-05-29T11:57:09.470Z"
   },
   {
    "duration": 9,
    "start_time": "2022-05-29T11:59:09.174Z"
   },
   {
    "duration": 13,
    "start_time": "2022-05-29T12:01:18.334Z"
   },
   {
    "duration": 10,
    "start_time": "2022-05-29T12:02:26.622Z"
   },
   {
    "duration": 70,
    "start_time": "2022-05-29T12:02:35.266Z"
   },
   {
    "duration": 26,
    "start_time": "2022-05-29T12:02:59.097Z"
   },
   {
    "duration": 45,
    "start_time": "2022-05-29T12:03:04.559Z"
   },
   {
    "duration": 37,
    "start_time": "2022-05-29T12:03:12.472Z"
   },
   {
    "duration": 7,
    "start_time": "2022-05-29T12:03:28.269Z"
   },
   {
    "duration": 36,
    "start_time": "2022-05-29T12:03:30.375Z"
   },
   {
    "duration": 20,
    "start_time": "2022-05-29T12:03:50.671Z"
   },
   {
    "duration": 67,
    "start_time": "2022-05-29T12:04:09.201Z"
   },
   {
    "duration": 1975,
    "start_time": "2022-05-29T12:04:13.825Z"
   },
   {
    "duration": 2960,
    "start_time": "2022-05-29T12:04:20.094Z"
   },
   {
    "duration": 13,
    "start_time": "2022-05-29T12:04:41.281Z"
   },
   {
    "duration": 4,
    "start_time": "2022-05-29T12:06:35.015Z"
   },
   {
    "duration": 69,
    "start_time": "2022-05-29T12:18:33.293Z"
   },
   {
    "duration": 23,
    "start_time": "2022-05-29T12:32:53.274Z"
   },
   {
    "duration": 11,
    "start_time": "2022-05-29T12:36:04.016Z"
   },
   {
    "duration": 317,
    "start_time": "2022-05-29T12:36:10.123Z"
   },
   {
    "duration": 10,
    "start_time": "2022-05-29T12:36:19.512Z"
   },
   {
    "duration": 25,
    "start_time": "2022-05-29T12:37:23.235Z"
   },
   {
    "duration": 11,
    "start_time": "2022-05-29T12:37:26.846Z"
   },
   {
    "duration": 9,
    "start_time": "2022-05-29T12:37:29.113Z"
   },
   {
    "duration": 8,
    "start_time": "2022-05-29T12:37:31.475Z"
   },
   {
    "duration": 2876,
    "start_time": "2022-05-29T12:38:23.285Z"
   },
   {
    "duration": 14,
    "start_time": "2022-05-29T12:38:32.784Z"
   },
   {
    "duration": 14,
    "start_time": "2022-05-29T12:38:45.693Z"
   },
   {
    "duration": 21,
    "start_time": "2022-05-29T12:38:48.912Z"
   },
   {
    "duration": 36,
    "start_time": "2022-05-29T12:38:54.712Z"
   },
   {
    "duration": 16,
    "start_time": "2022-05-29T12:39:29.536Z"
   },
   {
    "duration": 26,
    "start_time": "2022-05-29T12:39:34.304Z"
   },
   {
    "duration": 19,
    "start_time": "2022-05-29T12:39:40.482Z"
   },
   {
    "duration": 5,
    "start_time": "2022-05-29T12:43:17.282Z"
   },
   {
    "duration": 8,
    "start_time": "2022-05-29T12:50:44.137Z"
   },
   {
    "duration": 8,
    "start_time": "2022-05-29T12:50:52.373Z"
   },
   {
    "duration": 614,
    "start_time": "2022-05-29T12:52:09.541Z"
   },
   {
    "duration": 121089,
    "start_time": "2022-05-29T12:52:36.861Z"
   },
   {
    "duration": 104,
    "start_time": "2022-05-29T12:54:44.367Z"
   },
   {
    "duration": 709,
    "start_time": "2022-05-29T12:57:06.979Z"
   },
   {
    "duration": 13,
    "start_time": "2022-05-29T12:57:11.737Z"
   },
   {
    "duration": 9,
    "start_time": "2022-05-29T12:57:16.639Z"
   },
   {
    "duration": 96,
    "start_time": "2022-05-29T12:57:18.773Z"
   },
   {
    "duration": 8,
    "start_time": "2022-05-29T13:00:03.142Z"
   },
   {
    "duration": 9,
    "start_time": "2022-05-29T13:00:55.482Z"
   },
   {
    "duration": 8,
    "start_time": "2022-05-29T13:02:02.804Z"
   },
   {
    "duration": 8,
    "start_time": "2022-05-29T13:02:04.975Z"
   },
   {
    "duration": 95,
    "start_time": "2022-05-29T13:02:23.440Z"
   },
   {
    "duration": 91,
    "start_time": "2022-05-29T13:02:30.175Z"
   },
   {
    "duration": 92,
    "start_time": "2022-05-29T13:02:36.799Z"
   },
   {
    "duration": 93,
    "start_time": "2022-05-29T13:02:44.520Z"
   },
   {
    "duration": 4,
    "start_time": "2022-05-29T13:04:22.376Z"
   },
   {
    "duration": 87,
    "start_time": "2022-05-29T13:04:50.642Z"
   },
   {
    "duration": 94,
    "start_time": "2022-05-29T13:05:02.184Z"
   },
   {
    "duration": 92,
    "start_time": "2022-05-29T13:05:37.903Z"
   },
   {
    "duration": 98,
    "start_time": "2022-05-29T13:06:47.707Z"
   },
   {
    "duration": 7,
    "start_time": "2022-05-29T13:07:50.780Z"
   },
   {
    "duration": 95,
    "start_time": "2022-05-29T13:08:14.245Z"
   },
   {
    "duration": 94,
    "start_time": "2022-05-29T13:08:15.485Z"
   },
   {
    "duration": 109,
    "start_time": "2022-05-29T13:08:46.088Z"
   },
   {
    "duration": 94,
    "start_time": "2022-05-29T13:11:36.772Z"
   },
   {
    "duration": 102,
    "start_time": "2022-05-29T13:11:46.347Z"
   },
   {
    "duration": 106,
    "start_time": "2022-05-29T13:12:20.112Z"
   },
   {
    "duration": 103,
    "start_time": "2022-05-29T13:14:09.903Z"
   },
   {
    "duration": 104,
    "start_time": "2022-05-29T13:14:15.475Z"
   },
   {
    "duration": 119,
    "start_time": "2022-05-29T13:15:25.577Z"
   },
   {
    "duration": 14,
    "start_time": "2022-05-29T13:17:23.805Z"
   },
   {
    "duration": 13,
    "start_time": "2022-05-29T13:17:29.705Z"
   },
   {
    "duration": 14,
    "start_time": "2022-05-29T13:17:43.491Z"
   },
   {
    "duration": 117,
    "start_time": "2022-05-29T13:18:13.872Z"
   },
   {
    "duration": 111,
    "start_time": "2022-05-29T13:18:20.746Z"
   },
   {
    "duration": 95,
    "start_time": "2022-05-29T13:18:54.396Z"
   },
   {
    "duration": 99,
    "start_time": "2022-05-29T13:21:10.701Z"
   },
   {
    "duration": 106,
    "start_time": "2022-05-29T13:21:16.512Z"
   },
   {
    "duration": 105,
    "start_time": "2022-05-29T13:21:29.406Z"
   },
   {
    "duration": 101,
    "start_time": "2022-05-29T13:21:33.422Z"
   },
   {
    "duration": 112,
    "start_time": "2022-05-29T13:21:38.523Z"
   },
   {
    "duration": 127,
    "start_time": "2022-05-29T13:21:42.612Z"
   },
   {
    "duration": 132,
    "start_time": "2022-05-29T13:22:19.542Z"
   },
   {
    "duration": 101,
    "start_time": "2022-05-29T13:22:25.115Z"
   },
   {
    "duration": 107,
    "start_time": "2022-05-29T13:22:58.300Z"
   },
   {
    "duration": 107,
    "start_time": "2022-05-29T13:26:31.113Z"
   },
   {
    "duration": 113,
    "start_time": "2022-05-29T13:26:39.945Z"
   },
   {
    "duration": 98,
    "start_time": "2022-05-29T13:27:10.482Z"
   },
   {
    "duration": 94,
    "start_time": "2022-05-29T13:27:13.212Z"
   },
   {
    "duration": 101,
    "start_time": "2022-05-29T13:27:18.703Z"
   },
   {
    "duration": 103,
    "start_time": "2022-05-29T13:27:23.973Z"
   },
   {
    "duration": 118,
    "start_time": "2022-05-29T13:27:30.171Z"
   },
   {
    "duration": 96,
    "start_time": "2022-05-29T13:27:35.161Z"
   },
   {
    "duration": 98,
    "start_time": "2022-05-29T13:28:14.748Z"
   },
   {
    "duration": 98,
    "start_time": "2022-05-29T13:28:33.161Z"
   },
   {
    "duration": 120,
    "start_time": "2022-05-29T13:28:37.903Z"
   },
   {
    "duration": 119,
    "start_time": "2022-05-29T13:28:42.743Z"
   },
   {
    "duration": 119,
    "start_time": "2022-05-29T13:28:47.217Z"
   },
   {
    "duration": 106,
    "start_time": "2022-05-29T13:28:54.373Z"
   },
   {
    "duration": 114,
    "start_time": "2022-05-29T13:29:00.060Z"
   },
   {
    "duration": 100,
    "start_time": "2022-05-29T13:29:04.152Z"
   },
   {
    "duration": 108,
    "start_time": "2022-05-29T13:29:08.743Z"
   },
   {
    "duration": 110,
    "start_time": "2022-05-29T13:33:39.941Z"
   },
   {
    "duration": 95,
    "start_time": "2022-05-29T13:33:44.312Z"
   },
   {
    "duration": 96,
    "start_time": "2022-05-29T13:33:48.600Z"
   },
   {
    "duration": 105,
    "start_time": "2022-05-29T13:33:54.473Z"
   },
   {
    "duration": 100,
    "start_time": "2022-05-29T13:36:04.775Z"
   },
   {
    "duration": 8,
    "start_time": "2022-05-29T13:36:13.340Z"
   },
   {
    "duration": 8,
    "start_time": "2022-05-29T13:36:27.742Z"
   },
   {
    "duration": 8,
    "start_time": "2022-05-29T13:36:37.876Z"
   },
   {
    "duration": 22,
    "start_time": "2022-05-29T13:41:58.940Z"
   },
   {
    "duration": 10,
    "start_time": "2022-05-29T13:48:42.160Z"
   },
   {
    "duration": 13,
    "start_time": "2022-05-29T13:48:47.740Z"
   },
   {
    "duration": 11,
    "start_time": "2022-05-29T13:48:59.112Z"
   },
   {
    "duration": 14,
    "start_time": "2022-05-29T13:49:38.393Z"
   },
   {
    "duration": 245,
    "start_time": "2022-05-29T13:50:22.973Z"
   },
   {
    "duration": 189,
    "start_time": "2022-05-29T13:50:45.987Z"
   },
   {
    "duration": 126,
    "start_time": "2022-05-29T13:51:54.892Z"
   },
   {
    "duration": 105,
    "start_time": "2022-05-29T13:52:07.304Z"
   },
   {
    "duration": 241,
    "start_time": "2022-05-29T13:52:53.085Z"
   },
   {
    "duration": 139,
    "start_time": "2022-05-29T13:54:11.290Z"
   },
   {
    "duration": 50,
    "start_time": "2022-05-29T13:54:30.473Z"
   },
   {
    "duration": 135,
    "start_time": "2022-05-29T13:54:38.585Z"
   },
   {
    "duration": 144,
    "start_time": "2022-05-29T13:54:44.811Z"
   },
   {
    "duration": 148,
    "start_time": "2022-05-29T13:55:07.097Z"
   },
   {
    "duration": 161,
    "start_time": "2022-05-29T13:55:14.284Z"
   },
   {
    "duration": 139,
    "start_time": "2022-05-29T13:55:24.977Z"
   },
   {
    "duration": 162,
    "start_time": "2022-05-29T13:55:45.473Z"
   },
   {
    "duration": 165,
    "start_time": "2022-05-29T13:55:54.948Z"
   },
   {
    "duration": 190,
    "start_time": "2022-05-29T13:56:02.705Z"
   },
   {
    "duration": 142,
    "start_time": "2022-05-29T13:56:13.044Z"
   },
   {
    "duration": 187,
    "start_time": "2022-05-29T13:56:56.994Z"
   },
   {
    "duration": 165,
    "start_time": "2022-05-29T13:57:11.145Z"
   },
   {
    "duration": 160,
    "start_time": "2022-05-29T13:57:44.778Z"
   },
   {
    "duration": 147,
    "start_time": "2022-05-29T13:58:10.893Z"
   },
   {
    "duration": 142,
    "start_time": "2022-05-29T13:58:13.885Z"
   },
   {
    "duration": 10,
    "start_time": "2022-05-29T13:58:40.105Z"
   },
   {
    "duration": 172,
    "start_time": "2022-05-29T13:59:05.801Z"
   },
   {
    "duration": 162,
    "start_time": "2022-05-29T13:59:10.444Z"
   },
   {
    "duration": 328,
    "start_time": "2022-05-29T13:59:24.944Z"
   },
   {
    "duration": 350,
    "start_time": "2022-05-29T14:00:17.934Z"
   },
   {
    "duration": 28,
    "start_time": "2022-05-29T14:01:46.173Z"
   },
   {
    "duration": 4,
    "start_time": "2022-05-29T14:01:53.499Z"
   },
   {
    "duration": 16,
    "start_time": "2022-05-29T14:02:02.851Z"
   },
   {
    "duration": 15,
    "start_time": "2022-05-29T14:39:16.709Z"
   },
   {
    "duration": 12,
    "start_time": "2022-05-29T14:41:27.615Z"
   },
   {
    "duration": 10,
    "start_time": "2022-05-29T14:41:37.871Z"
   },
   {
    "duration": 5,
    "start_time": "2022-05-29T14:41:43.431Z"
   },
   {
    "duration": 123,
    "start_time": "2022-05-29T14:48:41.606Z"
   },
   {
    "duration": 10,
    "start_time": "2022-05-29T14:48:56.913Z"
   },
   {
    "duration": 8,
    "start_time": "2022-05-29T14:49:40.528Z"
   },
   {
    "duration": 128,
    "start_time": "2022-05-29T14:49:58.187Z"
   },
   {
    "duration": 9,
    "start_time": "2022-05-29T14:50:28.228Z"
   },
   {
    "duration": 109,
    "start_time": "2022-05-29T14:50:43.260Z"
   },
   {
    "duration": 5,
    "start_time": "2022-05-29T14:53:31.240Z"
   },
   {
    "duration": 5,
    "start_time": "2022-05-29T14:53:38.180Z"
   },
   {
    "duration": 5,
    "start_time": "2022-05-29T14:54:49.672Z"
   },
   {
    "duration": 4,
    "start_time": "2022-05-29T14:54:51.990Z"
   },
   {
    "duration": 6,
    "start_time": "2022-05-29T14:55:04.200Z"
   },
   {
    "duration": 7,
    "start_time": "2022-05-29T14:56:13.672Z"
   },
   {
    "duration": 7,
    "start_time": "2022-05-29T14:58:08.535Z"
   },
   {
    "duration": 7,
    "start_time": "2022-05-29T14:59:01.401Z"
   },
   {
    "duration": 6,
    "start_time": "2022-05-29T14:59:03.241Z"
   },
   {
    "duration": 3,
    "start_time": "2022-05-29T15:00:36.722Z"
   },
   {
    "duration": 6,
    "start_time": "2022-05-29T15:00:42.579Z"
   },
   {
    "duration": 7,
    "start_time": "2022-05-29T15:01:52.353Z"
   },
   {
    "duration": 7,
    "start_time": "2022-05-29T15:02:13.267Z"
   },
   {
    "duration": 7,
    "start_time": "2022-05-29T15:04:52.990Z"
   },
   {
    "duration": 8,
    "start_time": "2022-05-29T15:06:24.476Z"
   },
   {
    "duration": 7,
    "start_time": "2022-05-29T15:07:47.054Z"
   },
   {
    "duration": 14,
    "start_time": "2022-05-29T15:08:06.801Z"
   },
   {
    "duration": 7,
    "start_time": "2022-05-29T15:08:16.491Z"
   },
   {
    "duration": 4,
    "start_time": "2022-05-29T15:09:01.541Z"
   },
   {
    "duration": 0,
    "start_time": "2022-05-29T15:12:52.872Z"
   },
   {
    "duration": 0,
    "start_time": "2022-05-29T15:12:52.874Z"
   },
   {
    "duration": 58,
    "start_time": "2022-05-29T15:12:55.183Z"
   },
   {
    "duration": 146,
    "start_time": "2022-05-29T15:14:03.640Z"
   },
   {
    "duration": 4,
    "start_time": "2022-05-29T15:16:20.776Z"
   },
   {
    "duration": 5,
    "start_time": "2022-05-29T15:16:27.513Z"
   },
   {
    "duration": 4,
    "start_time": "2022-05-29T15:17:13.161Z"
   },
   {
    "duration": 4,
    "start_time": "2022-05-29T15:17:14.176Z"
   },
   {
    "duration": 10,
    "start_time": "2022-05-29T15:18:06.459Z"
   },
   {
    "duration": 7,
    "start_time": "2022-05-29T15:18:40.883Z"
   },
   {
    "duration": 6,
    "start_time": "2022-05-29T15:18:49.044Z"
   },
   {
    "duration": 6,
    "start_time": "2022-05-29T15:18:52.258Z"
   },
   {
    "duration": 3,
    "start_time": "2022-05-29T15:19:31.362Z"
   },
   {
    "duration": 4,
    "start_time": "2022-05-29T15:19:47.134Z"
   },
   {
    "duration": 9,
    "start_time": "2022-05-29T15:19:51.284Z"
   },
   {
    "duration": 645,
    "start_time": "2022-05-29T15:20:43.072Z"
   },
   {
    "duration": 3,
    "start_time": "2022-05-29T15:20:51.190Z"
   },
   {
    "duration": 9,
    "start_time": "2022-05-29T15:21:11.625Z"
   },
   {
    "duration": 8,
    "start_time": "2022-05-29T15:21:20.217Z"
   },
   {
    "duration": 8,
    "start_time": "2022-05-29T15:21:23.214Z"
   },
   {
    "duration": 5,
    "start_time": "2022-05-29T15:21:43.947Z"
   },
   {
    "duration": 6,
    "start_time": "2022-05-29T15:21:46.194Z"
   },
   {
    "duration": 6,
    "start_time": "2022-05-29T15:21:55.514Z"
   },
   {
    "duration": 3,
    "start_time": "2022-05-29T15:22:05.224Z"
   },
   {
    "duration": 5,
    "start_time": "2022-05-29T15:22:09.171Z"
   },
   {
    "duration": 6,
    "start_time": "2022-05-29T15:22:16.561Z"
   },
   {
    "duration": 160,
    "start_time": "2022-05-29T15:24:57.284Z"
   },
   {
    "duration": 56,
    "start_time": "2022-05-29T15:25:05.471Z"
   },
   {
    "duration": 158,
    "start_time": "2022-05-29T15:25:13.924Z"
   },
   {
    "duration": 9,
    "start_time": "2022-05-29T15:25:20.144Z"
   },
   {
    "duration": 4,
    "start_time": "2022-05-29T15:25:25.612Z"
   },
   {
    "duration": 6,
    "start_time": "2022-05-29T15:25:28.589Z"
   },
   {
    "duration": 11,
    "start_time": "2022-05-29T15:25:34.795Z"
   },
   {
    "duration": 6,
    "start_time": "2022-05-29T15:26:22.315Z"
   },
   {
    "duration": 3,
    "start_time": "2022-05-29T15:26:34.935Z"
   },
   {
    "duration": 8,
    "start_time": "2022-05-29T15:26:40.833Z"
   },
   {
    "duration": 3,
    "start_time": "2022-05-29T15:26:46.998Z"
   },
   {
    "duration": 7,
    "start_time": "2022-05-29T15:27:00.957Z"
   },
   {
    "duration": 11,
    "start_time": "2022-05-29T15:27:09.142Z"
   },
   {
    "duration": 4,
    "start_time": "2022-05-29T15:28:11.525Z"
   },
   {
    "duration": 7,
    "start_time": "2022-05-29T15:28:12.739Z"
   },
   {
    "duration": 7,
    "start_time": "2022-05-29T15:28:14.227Z"
   },
   {
    "duration": 9,
    "start_time": "2022-05-29T15:28:16.032Z"
   },
   {
    "duration": 5,
    "start_time": "2022-05-29T15:29:15.644Z"
   },
   {
    "duration": 5,
    "start_time": "2022-05-29T15:29:16.860Z"
   },
   {
    "duration": 6,
    "start_time": "2022-05-29T15:29:17.961Z"
   },
   {
    "duration": 14,
    "start_time": "2022-05-29T15:29:21.864Z"
   },
   {
    "duration": 478,
    "start_time": "2022-05-29T15:30:15.639Z"
   },
   {
    "duration": 422,
    "start_time": "2022-05-29T15:30:34.246Z"
   },
   {
    "duration": 461,
    "start_time": "2022-05-29T15:30:51.204Z"
   },
   {
    "duration": 333,
    "start_time": "2022-05-29T15:31:23.338Z"
   },
   {
    "duration": 197,
    "start_time": "2022-05-29T15:31:35.769Z"
   },
   {
    "duration": 248,
    "start_time": "2022-05-29T15:31:51.986Z"
   },
   {
    "duration": 17785,
    "start_time": "2022-05-29T15:32:03.287Z"
   },
   {
    "duration": 430,
    "start_time": "2022-05-29T15:32:30.949Z"
   },
   {
    "duration": 194,
    "start_time": "2022-05-29T15:32:44.285Z"
   },
   {
    "duration": 391,
    "start_time": "2022-05-29T15:32:49.675Z"
   },
   {
    "duration": 3,
    "start_time": "2022-05-29T15:33:59.317Z"
   },
   {
    "duration": 10,
    "start_time": "2022-05-29T15:34:00.837Z"
   },
   {
    "duration": 9,
    "start_time": "2022-05-29T15:34:01.969Z"
   },
   {
    "duration": 6,
    "start_time": "2022-05-29T15:34:03.319Z"
   },
   {
    "duration": 367,
    "start_time": "2022-05-29T15:34:06.240Z"
   },
   {
    "duration": 398,
    "start_time": "2022-05-29T15:34:16.478Z"
   },
   {
    "duration": 1567,
    "start_time": "2022-05-30T12:26:18.017Z"
   },
   {
    "duration": 3212,
    "start_time": "2022-05-30T12:26:28.073Z"
   },
   {
    "duration": 3,
    "start_time": "2022-05-30T12:26:32.111Z"
   },
   {
    "duration": 340,
    "start_time": "2022-05-30T12:27:33.665Z"
   },
   {
    "duration": 6,
    "start_time": "2022-05-30T12:27:37.793Z"
   },
   {
    "duration": 4,
    "start_time": "2022-05-30T12:27:39.853Z"
   },
   {
    "duration": 14,
    "start_time": "2022-05-30T12:28:26.753Z"
   },
   {
    "duration": 256,
    "start_time": "2022-05-30T12:28:58.051Z"
   },
   {
    "duration": 151,
    "start_time": "2022-05-30T12:29:04.861Z"
   },
   {
    "duration": 3,
    "start_time": "2022-05-30T12:33:51.556Z"
   },
   {
    "duration": 8,
    "start_time": "2022-05-30T12:33:54.022Z"
   },
   {
    "duration": 11,
    "start_time": "2022-05-30T12:33:55.093Z"
   },
   {
    "duration": 5,
    "start_time": "2022-05-30T12:33:56.437Z"
   },
   {
    "duration": 5,
    "start_time": "2022-05-30T12:34:00.552Z"
   },
   {
    "duration": 15,
    "start_time": "2022-05-30T12:34:02.470Z"
   },
   {
    "duration": 3,
    "start_time": "2022-05-30T12:34:20.123Z"
   },
   {
    "duration": 16,
    "start_time": "2022-05-30T12:34:21.392Z"
   },
   {
    "duration": 5,
    "start_time": "2022-05-30T12:34:22.471Z"
   },
   {
    "duration": 5,
    "start_time": "2022-05-30T12:34:23.612Z"
   },
   {
    "duration": 5,
    "start_time": "2022-05-30T12:34:24.756Z"
   },
   {
    "duration": 13,
    "start_time": "2022-05-30T12:34:26.051Z"
   },
   {
    "duration": 11,
    "start_time": "2022-05-30T12:34:36.792Z"
   },
   {
    "duration": 463,
    "start_time": "2022-05-30T12:34:58.854Z"
   },
   {
    "duration": 8940,
    "start_time": "2022-05-30T12:35:46.143Z"
   },
   {
    "duration": 597,
    "start_time": "2022-05-30T12:36:00.537Z"
   },
   {
    "duration": 167,
    "start_time": "2022-05-30T12:37:44.539Z"
   },
   {
    "duration": 227,
    "start_time": "2022-05-30T12:39:02.192Z"
   },
   {
    "duration": 157,
    "start_time": "2022-05-30T12:39:22.913Z"
   },
   {
    "duration": 173,
    "start_time": "2022-05-30T12:40:04.091Z"
   },
   {
    "duration": 175,
    "start_time": "2022-05-30T12:40:28.162Z"
   },
   {
    "duration": 245,
    "start_time": "2022-05-30T12:41:03.842Z"
   },
   {
    "duration": 254,
    "start_time": "2022-05-30T12:41:09.942Z"
   },
   {
    "duration": 166,
    "start_time": "2022-05-30T12:41:48.768Z"
   },
   {
    "duration": 212,
    "start_time": "2022-05-30T12:41:56.441Z"
   },
   {
    "duration": 239,
    "start_time": "2022-05-30T12:42:05.883Z"
   },
   {
    "duration": 374,
    "start_time": "2022-05-30T12:42:39.577Z"
   },
   {
    "duration": 3,
    "start_time": "2022-05-30T12:43:40.778Z"
   },
   {
    "duration": 9,
    "start_time": "2022-05-30T12:43:42.058Z"
   },
   {
    "duration": 5,
    "start_time": "2022-05-30T12:43:43.096Z"
   },
   {
    "duration": 5,
    "start_time": "2022-05-30T12:43:44.446Z"
   },
   {
    "duration": 691,
    "start_time": "2022-05-30T12:43:47.366Z"
   },
   {
    "duration": 192,
    "start_time": "2022-05-30T12:43:50.352Z"
   },
   {
    "duration": 191,
    "start_time": "2022-05-30T12:43:56.390Z"
   },
   {
    "duration": 213,
    "start_time": "2022-05-30T12:44:15.015Z"
   },
   {
    "duration": 220,
    "start_time": "2022-05-30T12:44:34.238Z"
   },
   {
    "duration": 221,
    "start_time": "2022-05-30T12:44:52.791Z"
   },
   {
    "duration": 201,
    "start_time": "2022-05-30T12:45:01.628Z"
   },
   {
    "duration": 4,
    "start_time": "2022-05-30T12:46:51.849Z"
   },
   {
    "duration": 7,
    "start_time": "2022-05-30T12:46:53.104Z"
   },
   {
    "duration": 8,
    "start_time": "2022-05-30T12:46:54.077Z"
   },
   {
    "duration": 6,
    "start_time": "2022-05-30T12:46:55.566Z"
   },
   {
    "duration": 5,
    "start_time": "2022-05-30T12:46:56.625Z"
   },
   {
    "duration": 340,
    "start_time": "2022-05-30T12:46:58.045Z"
   },
   {
    "duration": 387,
    "start_time": "2022-05-30T12:47:22.201Z"
   },
   {
    "duration": 437,
    "start_time": "2022-05-30T12:47:28.957Z"
   },
   {
    "duration": 434,
    "start_time": "2022-05-30T12:47:34.853Z"
   },
   {
    "duration": 387,
    "start_time": "2022-05-30T12:47:39.997Z"
   },
   {
    "duration": 219,
    "start_time": "2022-05-30T12:47:51.065Z"
   },
   {
    "duration": 215,
    "start_time": "2022-05-30T12:47:58.587Z"
   },
   {
    "duration": 233,
    "start_time": "2022-05-30T12:48:04.808Z"
   },
   {
    "duration": 26,
    "start_time": "2022-05-30T13:00:06.550Z"
   },
   {
    "duration": 4,
    "start_time": "2022-05-30T13:05:35.632Z"
   },
   {
    "duration": 8,
    "start_time": "2022-05-30T13:05:36.748Z"
   },
   {
    "duration": 6,
    "start_time": "2022-05-30T13:05:37.781Z"
   },
   {
    "duration": 6,
    "start_time": "2022-05-30T13:05:38.739Z"
   },
   {
    "duration": 21,
    "start_time": "2022-05-30T13:05:40.274Z"
   },
   {
    "duration": 309,
    "start_time": "2022-05-30T13:05:41.725Z"
   },
   {
    "duration": 195,
    "start_time": "2022-05-30T13:05:47.291Z"
   },
   {
    "duration": 11,
    "start_time": "2022-05-30T13:11:47.906Z"
   },
   {
    "duration": 10,
    "start_time": "2022-05-30T13:11:49.294Z"
   },
   {
    "duration": 10,
    "start_time": "2022-05-30T13:11:50.455Z"
   },
   {
    "duration": 188,
    "start_time": "2022-05-30T14:03:47.406Z"
   },
   {
    "duration": 121,
    "start_time": "2022-05-30T14:04:46.476Z"
   },
   {
    "duration": 6,
    "start_time": "2022-05-30T14:05:02.110Z"
   },
   {
    "duration": 79,
    "start_time": "2022-05-30T14:05:04.389Z"
   },
   {
    "duration": 9,
    "start_time": "2022-05-30T14:05:20.317Z"
   },
   {
    "duration": 7,
    "start_time": "2022-05-30T14:05:35.459Z"
   },
   {
    "duration": 9,
    "start_time": "2022-05-30T14:05:40.199Z"
   },
   {
    "duration": 9,
    "start_time": "2022-05-30T14:06:20.547Z"
   },
   {
    "duration": 1503,
    "start_time": "2022-05-31T12:13:37.844Z"
   },
   {
    "duration": 2814,
    "start_time": "2022-05-31T12:13:45.049Z"
   },
   {
    "duration": 4,
    "start_time": "2022-05-31T12:13:49.033Z"
   },
   {
    "duration": 3,
    "start_time": "2022-05-31T12:14:12.163Z"
   },
   {
    "duration": 5,
    "start_time": "2022-05-31T12:14:13.441Z"
   },
   {
    "duration": 7,
    "start_time": "2022-05-31T12:14:18.963Z"
   },
   {
    "duration": 19,
    "start_time": "2022-05-31T12:14:27.795Z"
   },
   {
    "duration": 7,
    "start_time": "2022-05-31T12:14:33.676Z"
   },
   {
    "duration": 81,
    "start_time": "2022-05-31T12:15:12.033Z"
   },
   {
    "duration": 5,
    "start_time": "2022-05-31T12:15:49.503Z"
   },
   {
    "duration": 5,
    "start_time": "2022-05-31T12:15:52.433Z"
   },
   {
    "duration": 48,
    "start_time": "2022-05-31T12:15:56.702Z"
   },
   {
    "duration": 4,
    "start_time": "2022-05-31T12:16:15.233Z"
   },
   {
    "duration": 4,
    "start_time": "2022-05-31T12:16:35.166Z"
   },
   {
    "duration": 123,
    "start_time": "2022-05-31T12:18:46.309Z"
   },
   {
    "duration": 14,
    "start_time": "2022-05-31T12:18:51.777Z"
   },
   {
    "duration": 3,
    "start_time": "2022-05-31T12:20:02.688Z"
   },
   {
    "duration": 6,
    "start_time": "2022-05-31T12:20:04.103Z"
   },
   {
    "duration": 5,
    "start_time": "2022-05-31T12:20:09.448Z"
   },
   {
    "duration": 42,
    "start_time": "2022-05-31T12:20:11.480Z"
   },
   {
    "duration": 5,
    "start_time": "2022-05-31T12:21:36.518Z"
   },
   {
    "duration": 14,
    "start_time": "2022-05-31T12:21:40.788Z"
   },
   {
    "duration": 14,
    "start_time": "2022-05-31T12:21:48.698Z"
   },
   {
    "duration": 8,
    "start_time": "2022-05-31T12:21:55.910Z"
   },
   {
    "duration": 62,
    "start_time": "2022-05-31T12:22:02.256Z"
   },
   {
    "duration": 16,
    "start_time": "2022-05-31T12:22:10.104Z"
   },
   {
    "duration": 6,
    "start_time": "2022-05-31T12:22:17.541Z"
   },
   {
    "duration": 4,
    "start_time": "2022-05-31T12:22:38.556Z"
   },
   {
    "duration": 4,
    "start_time": "2022-05-31T12:22:49.419Z"
   },
   {
    "duration": 6,
    "start_time": "2022-05-31T12:24:36.728Z"
   },
   {
    "duration": 4,
    "start_time": "2022-05-31T12:24:40.360Z"
   },
   {
    "duration": 5,
    "start_time": "2022-05-31T12:25:23.111Z"
   },
   {
    "duration": 5,
    "start_time": "2022-05-31T12:25:36.888Z"
   },
   {
    "duration": 4,
    "start_time": "2022-05-31T12:25:47.794Z"
   },
   {
    "duration": 6,
    "start_time": "2022-05-31T12:26:47.570Z"
   },
   {
    "duration": 52,
    "start_time": "2022-05-31T12:27:06.530Z"
   },
   {
    "duration": 55,
    "start_time": "2022-05-31T12:27:50.568Z"
   },
   {
    "duration": 5,
    "start_time": "2022-05-31T12:28:09.948Z"
   },
   {
    "duration": 5,
    "start_time": "2022-05-31T12:29:07.502Z"
   },
   {
    "duration": 14,
    "start_time": "2022-05-31T12:29:24.511Z"
   },
   {
    "duration": 373,
    "start_time": "2022-05-31T12:29:35.532Z"
   },
   {
    "duration": 27,
    "start_time": "2022-05-31T12:29:40.991Z"
   },
   {
    "duration": 75,
    "start_time": "2022-05-31T12:30:03.739Z"
   },
   {
    "duration": 58,
    "start_time": "2022-05-31T12:30:55.341Z"
   },
   {
    "duration": 14,
    "start_time": "2022-05-31T12:31:28.100Z"
   },
   {
    "duration": 4,
    "start_time": "2022-05-31T12:31:39.462Z"
   },
   {
    "duration": 21,
    "start_time": "2022-05-31T12:32:00.755Z"
   },
   {
    "duration": 7,
    "start_time": "2022-05-31T12:32:20.275Z"
   },
   {
    "duration": 19,
    "start_time": "2022-05-31T12:32:23.363Z"
   },
   {
    "duration": 4,
    "start_time": "2022-05-31T12:32:29.444Z"
   },
   {
    "duration": 4,
    "start_time": "2022-05-31T12:32:30.904Z"
   },
   {
    "duration": 268,
    "start_time": "2022-05-31T12:35:03.908Z"
   },
   {
    "duration": 4,
    "start_time": "2022-05-31T12:41:22.706Z"
   },
   {
    "duration": 13,
    "start_time": "2022-05-31T12:45:26.325Z"
   },
   {
    "duration": 16,
    "start_time": "2022-05-31T12:45:39.200Z"
   },
   {
    "duration": 14,
    "start_time": "2022-05-31T12:46:23.333Z"
   },
   {
    "duration": 5,
    "start_time": "2022-05-31T12:46:24.943Z"
   },
   {
    "duration": 22,
    "start_time": "2022-05-31T12:46:36.634Z"
   },
   {
    "duration": 4,
    "start_time": "2022-05-31T12:46:38.990Z"
   },
   {
    "duration": 4,
    "start_time": "2022-05-31T12:46:40.503Z"
   },
   {
    "duration": 4,
    "start_time": "2022-05-31T12:46:44.519Z"
   },
   {
    "duration": 3,
    "start_time": "2022-05-31T12:46:45.694Z"
   },
   {
    "duration": 15,
    "start_time": "2022-05-31T12:46:47.090Z"
   },
   {
    "duration": 13,
    "start_time": "2022-05-31T12:47:01.334Z"
   },
   {
    "duration": 15,
    "start_time": "2022-05-31T12:47:03.879Z"
   },
   {
    "duration": 3,
    "start_time": "2022-05-31T12:48:29.264Z"
   },
   {
    "duration": 52,
    "start_time": "2022-05-31T12:49:00.227Z"
   },
   {
    "duration": 5,
    "start_time": "2022-05-31T12:49:52.254Z"
   },
   {
    "duration": 4,
    "start_time": "2022-05-31T12:50:14.397Z"
   },
   {
    "duration": 10,
    "start_time": "2022-05-31T12:50:21.662Z"
   },
   {
    "duration": 3,
    "start_time": "2022-05-31T13:01:19.270Z"
   },
   {
    "duration": 59281,
    "start_time": "2022-05-31T13:15:07.632Z"
   },
   {
    "duration": 150991,
    "start_time": "2022-05-31T13:16:13.878Z"
   },
   {
    "duration": 1130,
    "start_time": "2022-05-31T13:21:32.660Z"
   },
   {
    "duration": 1585,
    "start_time": "2022-05-31T13:21:39.095Z"
   },
   {
    "duration": 1578,
    "start_time": "2022-05-31T13:21:54.704Z"
   },
   {
    "duration": 1462,
    "start_time": "2022-05-31T13:22:00.922Z"
   },
   {
    "duration": 1285,
    "start_time": "2022-05-31T13:22:07.199Z"
   },
   {
    "duration": 312093,
    "start_time": "2022-05-31T13:22:18.695Z"
   },
   {
    "duration": 301228,
    "start_time": "2022-05-31T13:27:30.791Z"
   },
   {
    "duration": 1561,
    "start_time": "2022-05-31T13:32:32.021Z"
   },
   {
    "duration": 1297,
    "start_time": "2022-05-31T13:32:33.584Z"
   },
   {
    "duration": 3,
    "start_time": "2022-05-31T13:33:43.247Z"
   },
   {
    "duration": 3,
    "start_time": "2022-05-31T13:37:19.499Z"
   },
   {
    "duration": 131624,
    "start_time": "2022-05-31T13:37:33.051Z"
   },
   {
    "duration": 5,
    "start_time": "2022-05-31T13:41:12.553Z"
   },
   {
    "duration": 79582,
    "start_time": "2022-05-31T13:41:15.404Z"
   },
   {
    "duration": 4,
    "start_time": "2022-05-31T13:42:34.988Z"
   },
   {
    "duration": 3,
    "start_time": "2022-05-31T13:42:53.488Z"
   },
   {
    "duration": 4280,
    "start_time": "2022-05-31T13:42:55.879Z"
   },
   {
    "duration": 4,
    "start_time": "2022-05-31T13:43:11.391Z"
   },
   {
    "duration": 6144,
    "start_time": "2022-05-31T13:43:13.514Z"
   },
   {
    "duration": 5,
    "start_time": "2022-05-31T13:43:28.854Z"
   },
   {
    "duration": 40215,
    "start_time": "2022-05-31T13:43:30.536Z"
   },
   {
    "duration": 36954,
    "start_time": "2022-05-31T13:44:10.753Z"
   },
   {
    "duration": 4,
    "start_time": "2022-05-31T13:44:57.717Z"
   },
   {
    "duration": 943417,
    "start_time": "2022-05-31T13:44:59.105Z"
   },
   {
    "duration": 0,
    "start_time": "2022-05-31T14:00:42.525Z"
   },
   {
    "duration": 7,
    "start_time": "2022-05-31T14:01:01.363Z"
   },
   {
    "duration": 512987,
    "start_time": "2022-05-31T14:01:04.226Z"
   },
   {
    "duration": 3,
    "start_time": "2022-05-31T14:09:37.215Z"
   },
   {
    "duration": 3,
    "start_time": "2022-05-31T14:10:39.003Z"
   },
   {
    "duration": 220275,
    "start_time": "2022-05-31T14:10:40.415Z"
   },
   {
    "duration": 4,
    "start_time": "2022-05-31T14:17:05.110Z"
   },
   {
    "duration": 39181,
    "start_time": "2022-05-31T14:17:07.541Z"
   },
   {
    "duration": 39670,
    "start_time": "2022-05-31T14:17:46.724Z"
   },
   {
    "duration": 5,
    "start_time": "2022-05-31T14:20:28.261Z"
   },
   {
    "duration": 2,
    "start_time": "2022-05-31T14:20:52.091Z"
   },
   {
    "duration": 4,
    "start_time": "2022-05-31T14:21:07.643Z"
   },
   {
    "duration": 3,
    "start_time": "2022-05-31T14:21:28.841Z"
   },
   {
    "duration": 8882,
    "start_time": "2022-05-31T14:22:00.645Z"
   },
   {
    "duration": 6712,
    "start_time": "2022-05-31T14:22:09.529Z"
   },
   {
    "duration": 1998,
    "start_time": "2022-05-31T14:22:31.985Z"
   },
   {
    "duration": 11,
    "start_time": "2022-05-31T14:25:05.743Z"
   },
   {
    "duration": 1618,
    "start_time": "2022-05-31T14:27:27.663Z"
   },
   {
    "duration": 6480,
    "start_time": "2022-05-31T14:28:42.891Z"
   },
   {
    "duration": 5497,
    "start_time": "2022-05-31T14:28:49.373Z"
   },
   {
    "duration": 3,
    "start_time": "2022-05-31T14:28:54.871Z"
   },
   {
    "duration": 9,
    "start_time": "2022-05-31T14:29:00.603Z"
   },
   {
    "duration": 5,
    "start_time": "2022-05-31T14:29:03.812Z"
   },
   {
    "duration": 1442,
    "start_time": "2022-05-31T14:29:36.741Z"
   },
   {
    "duration": 1517,
    "start_time": "2022-05-31T14:29:38.190Z"
   },
   {
    "duration": 4,
    "start_time": "2022-05-31T14:29:43.902Z"
   },
   {
    "duration": 4,
    "start_time": "2022-05-31T14:30:00.313Z"
   },
   {
    "duration": 1668,
    "start_time": "2022-05-31T14:36:52.992Z"
   },
   {
    "duration": 1371,
    "start_time": "2022-05-31T14:36:56.140Z"
   },
   {
    "duration": 7,
    "start_time": "2022-05-31T14:37:30.096Z"
   },
   {
    "duration": 9,
    "start_time": "2022-05-31T14:40:02.031Z"
   },
   {
    "duration": 4,
    "start_time": "2022-05-31T14:42:00.470Z"
   },
   {
    "duration": 7,
    "start_time": "2022-05-31T14:44:18.998Z"
   },
   {
    "duration": 7,
    "start_time": "2022-05-31T14:44:22.321Z"
   },
   {
    "duration": 5,
    "start_time": "2022-05-31T14:44:29.443Z"
   },
   {
    "duration": 5,
    "start_time": "2022-05-31T14:46:22.097Z"
   },
   {
    "duration": 6,
    "start_time": "2022-05-31T14:46:31.862Z"
   },
   {
    "duration": 5,
    "start_time": "2022-05-31T14:46:56.512Z"
   },
   {
    "duration": 5,
    "start_time": "2022-05-31T14:47:26.973Z"
   },
   {
    "duration": 6,
    "start_time": "2022-05-31T14:47:38.233Z"
   },
   {
    "duration": 8,
    "start_time": "2022-05-31T14:47:46.697Z"
   },
   {
    "duration": 5,
    "start_time": "2022-05-31T14:48:06.406Z"
   },
   {
    "duration": 5,
    "start_time": "2022-05-31T14:54:46.511Z"
   },
   {
    "duration": 5,
    "start_time": "2022-05-31T14:54:56.598Z"
   },
   {
    "duration": 11,
    "start_time": "2022-05-31T14:55:21.597Z"
   },
   {
    "duration": 4,
    "start_time": "2022-05-31T14:55:33.754Z"
   },
   {
    "duration": 13,
    "start_time": "2022-05-31T14:55:52.315Z"
   },
   {
    "duration": 6,
    "start_time": "2022-05-31T14:55:59.451Z"
   },
   {
    "duration": 5,
    "start_time": "2022-05-31T14:56:41.192Z"
   },
   {
    "duration": 6,
    "start_time": "2022-05-31T14:59:05.660Z"
   },
   {
    "duration": 4,
    "start_time": "2022-05-31T14:59:24.489Z"
   },
   {
    "duration": 6,
    "start_time": "2022-05-31T14:59:30.788Z"
   },
   {
    "duration": 6,
    "start_time": "2022-05-31T14:59:36.099Z"
   },
   {
    "duration": 6,
    "start_time": "2022-05-31T14:59:56.791Z"
   },
   {
    "duration": 23,
    "start_time": "2022-05-31T15:00:00.973Z"
   },
   {
    "duration": 7,
    "start_time": "2022-05-31T15:00:08.275Z"
   },
   {
    "duration": 4,
    "start_time": "2022-05-31T15:00:09.364Z"
   },
   {
    "duration": 16,
    "start_time": "2022-05-31T15:00:10.716Z"
   },
   {
    "duration": 6,
    "start_time": "2022-05-31T15:00:14.822Z"
   },
   {
    "duration": 4,
    "start_time": "2022-05-31T15:00:19.824Z"
   },
   {
    "duration": 6,
    "start_time": "2022-05-31T15:00:40.053Z"
   },
   {
    "duration": 5,
    "start_time": "2022-05-31T15:00:41.536Z"
   },
   {
    "duration": 5,
    "start_time": "2022-05-31T15:01:36.674Z"
   },
   {
    "duration": 5,
    "start_time": "2022-05-31T15:01:58.978Z"
   },
   {
    "duration": 5,
    "start_time": "2022-05-31T15:02:01.849Z"
   },
   {
    "duration": 6,
    "start_time": "2022-05-31T15:02:27.025Z"
   },
   {
    "duration": 7,
    "start_time": "2022-05-31T15:02:28.388Z"
   },
   {
    "duration": 3,
    "start_time": "2022-05-31T15:02:42.626Z"
   },
   {
    "duration": 7190,
    "start_time": "2022-05-31T15:02:49.894Z"
   },
   {
    "duration": 6087,
    "start_time": "2022-05-31T15:03:10.098Z"
   },
   {
    "duration": 1362,
    "start_time": "2022-05-31T15:03:24.225Z"
   },
   {
    "duration": 1675,
    "start_time": "2022-05-31T15:03:27.015Z"
   },
   {
    "duration": 1248,
    "start_time": "2022-05-31T15:05:12.296Z"
   },
   {
    "duration": 1070,
    "start_time": "2022-05-31T15:05:13.546Z"
   },
   {
    "duration": 3,
    "start_time": "2022-05-31T15:05:14.618Z"
   },
   {
    "duration": 63,
    "start_time": "2022-05-31T15:05:14.623Z"
   },
   {
    "duration": 17,
    "start_time": "2022-05-31T15:05:14.689Z"
   },
   {
    "duration": 326,
    "start_time": "2022-05-31T15:05:14.707Z"
   },
   {
    "duration": 50,
    "start_time": "2022-05-31T15:05:15.035Z"
   },
   {
    "duration": 12,
    "start_time": "2022-05-31T15:05:15.087Z"
   },
   {
    "duration": 157,
    "start_time": "2022-05-31T15:05:15.101Z"
   },
   {
    "duration": 61,
    "start_time": "2022-05-31T15:05:15.260Z"
   },
   {
    "duration": 16,
    "start_time": "2022-05-31T15:05:15.322Z"
   },
   {
    "duration": 8,
    "start_time": "2022-05-31T15:05:15.339Z"
   },
   {
    "duration": 33,
    "start_time": "2022-05-31T15:05:15.348Z"
   },
   {
    "duration": 8,
    "start_time": "2022-05-31T15:05:15.383Z"
   },
   {
    "duration": 5,
    "start_time": "2022-05-31T15:05:15.393Z"
   },
   {
    "duration": 4,
    "start_time": "2022-05-31T15:05:15.399Z"
   },
   {
    "duration": 7,
    "start_time": "2022-05-31T15:05:15.404Z"
   },
   {
    "duration": 6,
    "start_time": "2022-05-31T15:05:15.412Z"
   },
   {
    "duration": 67,
    "start_time": "2022-05-31T15:05:15.419Z"
   },
   {
    "duration": 251,
    "start_time": "2022-05-31T15:05:15.488Z"
   },
   {
    "duration": 14,
    "start_time": "2022-05-31T15:05:15.741Z"
   },
   {
    "duration": 29,
    "start_time": "2022-05-31T15:05:15.757Z"
   },
   {
    "duration": 8,
    "start_time": "2022-05-31T15:05:15.788Z"
   },
   {
    "duration": 17,
    "start_time": "2022-05-31T15:05:15.797Z"
   },
   {
    "duration": 12,
    "start_time": "2022-05-31T15:05:15.816Z"
   },
   {
    "duration": 9,
    "start_time": "2022-05-31T15:05:15.830Z"
   },
   {
    "duration": 13,
    "start_time": "2022-05-31T15:05:15.842Z"
   },
   {
    "duration": 28,
    "start_time": "2022-05-31T15:05:15.857Z"
   },
   {
    "duration": 4,
    "start_time": "2022-05-31T15:05:15.887Z"
   },
   {
    "duration": 21,
    "start_time": "2022-05-31T15:05:15.893Z"
   },
   {
    "duration": 4,
    "start_time": "2022-05-31T15:05:15.916Z"
   },
   {
    "duration": 6,
    "start_time": "2022-05-31T15:05:15.922Z"
   },
   {
    "duration": 10,
    "start_time": "2022-05-31T15:05:15.930Z"
   },
   {
    "duration": 203,
    "start_time": "2022-05-31T15:05:15.942Z"
   },
   {
    "duration": 8,
    "start_time": "2022-05-31T15:05:16.147Z"
   },
   {
    "duration": 135,
    "start_time": "2022-05-31T15:05:16.157Z"
   },
   {
    "duration": 8,
    "start_time": "2022-05-31T15:05:16.294Z"
   },
   {
    "duration": 140,
    "start_time": "2022-05-31T15:05:16.304Z"
   },
   {
    "duration": 313,
    "start_time": "2022-05-31T15:05:16.446Z"
   },
   {
    "duration": 3,
    "start_time": "2022-05-31T15:05:16.760Z"
   },
   {
    "duration": 19,
    "start_time": "2022-05-31T15:05:16.767Z"
   },
   {
    "duration": 7,
    "start_time": "2022-05-31T15:05:16.788Z"
   },
   {
    "duration": 20,
    "start_time": "2022-05-31T15:05:16.797Z"
   },
   {
    "duration": 342,
    "start_time": "2022-05-31T15:05:16.818Z"
   },
   {
    "duration": 189,
    "start_time": "2022-05-31T15:05:17.161Z"
   },
   {
    "duration": 3,
    "start_time": "2022-05-31T15:05:17.351Z"
   },
   {
    "duration": 8,
    "start_time": "2022-05-31T15:05:17.356Z"
   },
   {
    "duration": 16,
    "start_time": "2022-05-31T15:05:17.366Z"
   },
   {
    "duration": 12,
    "start_time": "2022-05-31T15:05:17.384Z"
   },
   {
    "duration": 3,
    "start_time": "2022-05-31T15:05:17.399Z"
   },
   {
    "duration": 36963,
    "start_time": "2022-05-31T15:05:17.404Z"
   },
   {
    "duration": 35155,
    "start_time": "2022-05-31T15:05:54.369Z"
   },
   {
    "duration": 4,
    "start_time": "2022-05-31T15:06:29.526Z"
   },
   {
    "duration": 7,
    "start_time": "2022-05-31T15:06:29.532Z"
   },
   {
    "duration": 7159,
    "start_time": "2022-05-31T15:06:29.541Z"
   },
   {
    "duration": 6355,
    "start_time": "2022-05-31T15:06:36.701Z"
   },
   {
    "duration": 3326,
    "start_time": "2022-05-31T15:06:43.058Z"
   },
   {
    "duration": 1600,
    "start_time": "2022-05-31T15:06:46.387Z"
   },
   {
    "duration": 5,
    "start_time": "2022-05-31T15:06:47.989Z"
   },
   {
    "duration": 3,
    "start_time": "2022-05-31T15:30:40.492Z"
   },
   {
    "duration": 4,
    "start_time": "2022-05-31T15:31:17.353Z"
   },
   {
    "duration": 1318,
    "start_time": "2022-05-31T15:31:24.495Z"
   },
   {
    "duration": 1345,
    "start_time": "2022-05-31T15:31:59.978Z"
   },
   {
    "duration": 907,
    "start_time": "2022-05-31T15:32:05.570Z"
   },
   {
    "duration": 7,
    "start_time": "2022-05-31T15:32:07.329Z"
   },
   {
    "duration": 8,
    "start_time": "2022-05-31T15:32:17.990Z"
   },
   {
    "duration": 7,
    "start_time": "2022-05-31T15:32:19.049Z"
   },
   {
    "duration": 20,
    "start_time": "2022-05-31T15:32:24.921Z"
   },
   {
    "duration": 6,
    "start_time": "2022-05-31T15:32:27.628Z"
   },
   {
    "duration": 13,
    "start_time": "2022-05-31T15:32:30.572Z"
   },
   {
    "duration": 5,
    "start_time": "2022-05-31T15:32:31.740Z"
   },
   {
    "duration": 18,
    "start_time": "2022-05-31T15:32:34.703Z"
   },
   {
    "duration": 4,
    "start_time": "2022-05-31T15:32:38.719Z"
   },
   {
    "duration": 4,
    "start_time": "2022-05-31T15:32:39.907Z"
   },
   {
    "duration": 5,
    "start_time": "2022-05-31T15:32:52.363Z"
   },
   {
    "duration": 2,
    "start_time": "2022-05-31T15:32:55.687Z"
   },
   {
    "duration": 6,
    "start_time": "2022-05-31T15:32:56.778Z"
   },
   {
    "duration": 14,
    "start_time": "2022-05-31T15:32:57.982Z"
   },
   {
    "duration": 4,
    "start_time": "2022-05-31T15:32:59.499Z"
   },
   {
    "duration": 4,
    "start_time": "2022-05-31T15:33:04.927Z"
   },
   {
    "duration": 4,
    "start_time": "2022-05-31T15:33:06.187Z"
   },
   {
    "duration": 7344,
    "start_time": "2022-05-31T15:33:11.900Z"
   },
   {
    "duration": 3335,
    "start_time": "2022-05-31T15:33:19.246Z"
   },
   {
    "duration": 6581,
    "start_time": "2022-05-31T15:33:50.017Z"
   },
   {
    "duration": 6071,
    "start_time": "2022-05-31T15:33:56.600Z"
   },
   {
    "duration": 1515,
    "start_time": "2022-05-31T15:34:02.672Z"
   },
   {
    "duration": 4,
    "start_time": "2022-05-31T15:34:10.417Z"
   },
   {
    "duration": 3,
    "start_time": "2022-05-31T15:35:51.278Z"
   },
   {
    "duration": 4,
    "start_time": "2022-05-31T15:36:12.341Z"
   },
   {
    "duration": 6470,
    "start_time": "2022-05-31T15:36:17.159Z"
   },
   {
    "duration": 104,
    "start_time": "2022-05-31T15:37:48.431Z"
   },
   {
    "duration": 1609,
    "start_time": "2022-05-31T15:37:57.059Z"
   },
   {
    "duration": 1407,
    "start_time": "2022-05-31T15:37:58.669Z"
   },
   {
    "duration": 6,
    "start_time": "2022-05-31T15:38:16.789Z"
   },
   {
    "duration": 6,
    "start_time": "2022-05-31T15:38:19.239Z"
   },
   {
    "duration": 6,
    "start_time": "2022-05-31T15:42:11.082Z"
   },
   {
    "duration": 3,
    "start_time": "2022-05-31T15:42:13.271Z"
   },
   {
    "duration": 3,
    "start_time": "2022-05-31T15:49:18.006Z"
   },
   {
    "duration": 32605,
    "start_time": "2022-05-31T15:49:19.761Z"
   },
   {
    "duration": 32640,
    "start_time": "2022-05-31T15:55:30.393Z"
   },
   {
    "duration": 3,
    "start_time": "2022-05-31T15:57:22.093Z"
   },
   {
    "duration": 6668,
    "start_time": "2022-05-31T15:57:28.505Z"
   },
   {
    "duration": 2,
    "start_time": "2022-05-31T15:59:42.690Z"
   },
   {
    "duration": 6465,
    "start_time": "2022-05-31T15:59:46.909Z"
   },
   {
    "duration": 2180,
    "start_time": "2022-06-01T12:22:55.955Z"
   },
   {
    "duration": 4,
    "start_time": "2022-06-01T12:23:33.608Z"
   },
   {
    "duration": 5989,
    "start_time": "2022-06-01T12:23:33.616Z"
   },
   {
    "duration": 7,
    "start_time": "2022-06-01T12:23:39.610Z"
   },
   {
    "duration": 101,
    "start_time": "2022-06-01T12:23:39.621Z"
   },
   {
    "duration": 19,
    "start_time": "2022-06-01T12:23:39.726Z"
   },
   {
    "duration": 346,
    "start_time": "2022-06-01T12:23:39.747Z"
   },
   {
    "duration": 41,
    "start_time": "2022-06-01T12:23:40.095Z"
   },
   {
    "duration": 17,
    "start_time": "2022-06-01T12:23:40.137Z"
   },
   {
    "duration": 183,
    "start_time": "2022-06-01T12:23:40.156Z"
   },
   {
    "duration": 84,
    "start_time": "2022-06-01T12:23:40.341Z"
   },
   {
    "duration": 27,
    "start_time": "2022-06-01T12:23:40.428Z"
   },
   {
    "duration": 10,
    "start_time": "2022-06-01T12:23:40.457Z"
   },
   {
    "duration": 45,
    "start_time": "2022-06-01T12:23:40.469Z"
   },
   {
    "duration": 8,
    "start_time": "2022-06-01T12:23:40.516Z"
   },
   {
    "duration": 137,
    "start_time": "2022-06-01T12:23:40.526Z"
   },
   {
    "duration": 0,
    "start_time": "2022-06-01T12:23:40.664Z"
   },
   {
    "duration": 0,
    "start_time": "2022-06-01T12:23:40.666Z"
   },
   {
    "duration": 0,
    "start_time": "2022-06-01T12:23:40.667Z"
   },
   {
    "duration": 0,
    "start_time": "2022-06-01T12:23:40.667Z"
   },
   {
    "duration": 0,
    "start_time": "2022-06-01T12:23:40.668Z"
   },
   {
    "duration": 0,
    "start_time": "2022-06-01T12:23:40.668Z"
   },
   {
    "duration": 0,
    "start_time": "2022-06-01T12:23:40.669Z"
   },
   {
    "duration": 0,
    "start_time": "2022-06-01T12:23:40.670Z"
   },
   {
    "duration": 0,
    "start_time": "2022-06-01T12:23:40.670Z"
   },
   {
    "duration": 3,
    "start_time": "2022-06-01T12:24:10.716Z"
   },
   {
    "duration": 6,
    "start_time": "2022-06-01T12:24:19.736Z"
   },
   {
    "duration": 12,
    "start_time": "2022-06-01T12:24:26.182Z"
   },
   {
    "duration": 4,
    "start_time": "2022-06-01T12:24:27.335Z"
   },
   {
    "duration": 11,
    "start_time": "2022-06-01T12:24:28.598Z"
   },
   {
    "duration": 280,
    "start_time": "2022-06-01T12:24:34.348Z"
   },
   {
    "duration": 11,
    "start_time": "2022-06-01T12:24:37.038Z"
   },
   {
    "duration": 23,
    "start_time": "2022-06-01T12:24:41.598Z"
   },
   {
    "duration": 14,
    "start_time": "2022-06-01T12:24:45.046Z"
   },
   {
    "duration": 13,
    "start_time": "2022-06-01T12:24:47.892Z"
   },
   {
    "duration": 11,
    "start_time": "2022-06-01T12:24:49.308Z"
   },
   {
    "duration": 12,
    "start_time": "2022-06-01T12:25:11.917Z"
   },
   {
    "duration": 5,
    "start_time": "2022-06-01T12:25:15.082Z"
   },
   {
    "duration": 6,
    "start_time": "2022-06-01T12:25:35.278Z"
   },
   {
    "duration": 3,
    "start_time": "2022-06-01T12:25:38.229Z"
   },
   {
    "duration": 4,
    "start_time": "2022-06-01T12:32:47.506Z"
   },
   {
    "duration": 16,
    "start_time": "2022-06-01T12:32:50.505Z"
   },
   {
    "duration": 4,
    "start_time": "2022-06-01T12:32:54.045Z"
   },
   {
    "duration": 4,
    "start_time": "2022-06-01T12:32:55.293Z"
   },
   {
    "duration": 55,
    "start_time": "2022-06-01T12:34:16.297Z"
   },
   {
    "duration": 13,
    "start_time": "2022-06-01T12:34:29.981Z"
   },
   {
    "duration": 4,
    "start_time": "2022-06-01T12:34:35.113Z"
   },
   {
    "duration": 7,
    "start_time": "2022-06-01T12:35:08.516Z"
   },
   {
    "duration": 7,
    "start_time": "2022-06-01T12:35:10.055Z"
   },
   {
    "duration": 50,
    "start_time": "2022-06-01T12:35:26.281Z"
   },
   {
    "duration": 25,
    "start_time": "2022-06-01T12:36:19.803Z"
   },
   {
    "duration": 11,
    "start_time": "2022-06-01T12:36:27.602Z"
   },
   {
    "duration": 31,
    "start_time": "2022-06-01T12:36:51.936Z"
   },
   {
    "duration": 5,
    "start_time": "2022-06-01T12:37:25.024Z"
   },
   {
    "duration": 8,
    "start_time": "2022-06-01T12:37:26.838Z"
   },
   {
    "duration": 15,
    "start_time": "2022-06-01T12:37:29.595Z"
   },
   {
    "duration": 14,
    "start_time": "2022-06-01T12:46:31.027Z"
   },
   {
    "duration": 82,
    "start_time": "2022-06-01T12:47:08.891Z"
   },
   {
    "duration": 63,
    "start_time": "2022-06-01T12:47:17.275Z"
   },
   {
    "duration": 9,
    "start_time": "2022-06-01T12:49:15.324Z"
   },
   {
    "duration": 3,
    "start_time": "2022-06-01T12:49:28.648Z"
   },
   {
    "duration": 5,
    "start_time": "2022-06-01T12:49:35.507Z"
   },
   {
    "duration": 10,
    "start_time": "2022-06-01T12:49:36.880Z"
   },
   {
    "duration": 21,
    "start_time": "2022-06-01T12:49:39.739Z"
   },
   {
    "duration": 7,
    "start_time": "2022-06-01T12:49:42.092Z"
   },
   {
    "duration": 5,
    "start_time": "2022-06-01T12:49:43.126Z"
   },
   {
    "duration": 57,
    "start_time": "2022-06-01T12:54:39.026Z"
   },
   {
    "duration": 57,
    "start_time": "2022-06-01T12:54:40.176Z"
   },
   {
    "duration": 25,
    "start_time": "2022-06-01T12:58:33.781Z"
   },
   {
    "duration": 11,
    "start_time": "2022-06-01T12:58:35.481Z"
   },
   {
    "duration": 4,
    "start_time": "2022-06-01T12:58:40.399Z"
   },
   {
    "duration": 9,
    "start_time": "2022-06-01T12:59:43.950Z"
   },
   {
    "duration": 5,
    "start_time": "2022-06-01T12:59:45.938Z"
   },
   {
    "duration": 33,
    "start_time": "2022-06-01T12:59:49.087Z"
   },
   {
    "duration": 48,
    "start_time": "2022-06-01T12:59:50.718Z"
   },
   {
    "duration": 9,
    "start_time": "2022-06-01T13:00:44.581Z"
   },
   {
    "duration": 7,
    "start_time": "2022-06-01T13:00:45.717Z"
   },
   {
    "duration": 37,
    "start_time": "2022-06-01T13:00:47.184Z"
   },
   {
    "duration": 44,
    "start_time": "2022-06-01T13:01:01.936Z"
   },
   {
    "duration": 64,
    "start_time": "2022-06-01T13:01:03.601Z"
   },
   {
    "duration": 57,
    "start_time": "2022-06-01T13:01:05.895Z"
   },
   {
    "duration": 1530,
    "start_time": "2022-06-01T13:02:21.697Z"
   },
   {
    "duration": 952,
    "start_time": "2022-06-01T13:02:23.229Z"
   },
   {
    "duration": 3,
    "start_time": "2022-06-01T13:02:24.183Z"
   },
   {
    "duration": 99,
    "start_time": "2022-06-01T13:02:24.192Z"
   },
   {
    "duration": 22,
    "start_time": "2022-06-01T13:02:24.293Z"
   },
   {
    "duration": 325,
    "start_time": "2022-06-01T13:02:24.318Z"
   },
   {
    "duration": 65,
    "start_time": "2022-06-01T13:02:24.645Z"
   },
   {
    "duration": 21,
    "start_time": "2022-06-01T13:02:24.711Z"
   },
   {
    "duration": 184,
    "start_time": "2022-06-01T13:02:24.734Z"
   },
   {
    "duration": 57,
    "start_time": "2022-06-01T13:02:24.921Z"
   },
   {
    "duration": 46,
    "start_time": "2022-06-01T13:02:24.980Z"
   },
   {
    "duration": 9,
    "start_time": "2022-06-01T13:02:25.028Z"
   },
   {
    "duration": 26,
    "start_time": "2022-06-01T13:02:25.039Z"
   },
   {
    "duration": 50,
    "start_time": "2022-06-01T13:02:25.067Z"
   },
   {
    "duration": 6,
    "start_time": "2022-06-01T13:02:25.119Z"
   },
   {
    "duration": 8,
    "start_time": "2022-06-01T13:02:25.127Z"
   },
   {
    "duration": 12,
    "start_time": "2022-06-01T13:02:25.136Z"
   },
   {
    "duration": 42,
    "start_time": "2022-06-01T13:02:25.150Z"
   },
   {
    "duration": 48,
    "start_time": "2022-06-01T13:02:25.194Z"
   },
   {
    "duration": 284,
    "start_time": "2022-06-01T13:02:25.244Z"
   },
   {
    "duration": 10,
    "start_time": "2022-06-01T13:02:25.530Z"
   },
   {
    "duration": 22,
    "start_time": "2022-06-01T13:02:25.542Z"
   },
   {
    "duration": 26,
    "start_time": "2022-06-01T13:02:25.566Z"
   },
   {
    "duration": 31,
    "start_time": "2022-06-01T13:02:25.594Z"
   },
   {
    "duration": 8,
    "start_time": "2022-06-01T13:02:25.637Z"
   },
   {
    "duration": 5,
    "start_time": "2022-06-01T13:02:25.647Z"
   },
   {
    "duration": 51,
    "start_time": "2022-06-01T13:02:25.654Z"
   },
   {
    "duration": 21,
    "start_time": "2022-06-01T13:02:25.710Z"
   },
   {
    "duration": 9,
    "start_time": "2022-06-01T13:02:25.732Z"
   },
   {
    "duration": 7,
    "start_time": "2022-06-01T13:02:25.742Z"
   },
   {
    "duration": 39,
    "start_time": "2022-06-01T13:02:25.750Z"
   },
   {
    "duration": 38,
    "start_time": "2022-06-01T13:02:25.791Z"
   },
   {
    "duration": 13,
    "start_time": "2022-06-01T13:02:25.831Z"
   },
   {
    "duration": 7,
    "start_time": "2022-06-01T13:02:25.845Z"
   },
   {
    "duration": 37,
    "start_time": "2022-06-01T13:02:25.854Z"
   },
   {
    "duration": 6,
    "start_time": "2022-06-01T13:02:25.893Z"
   },
   {
    "duration": 35,
    "start_time": "2022-06-01T13:02:25.901Z"
   },
   {
    "duration": 61,
    "start_time": "2022-06-01T13:02:25.938Z"
   },
   {
    "duration": 41,
    "start_time": "2022-06-01T13:02:26.000Z"
   },
   {
    "duration": 8,
    "start_time": "2022-06-01T13:02:26.043Z"
   },
   {
    "duration": 178,
    "start_time": "2022-06-01T13:02:26.053Z"
   },
   {
    "duration": 10,
    "start_time": "2022-06-01T13:02:26.233Z"
   },
   {
    "duration": 175,
    "start_time": "2022-06-01T13:02:26.244Z"
   },
   {
    "duration": 8,
    "start_time": "2022-06-01T13:02:26.420Z"
   },
   {
    "duration": 137,
    "start_time": "2022-06-01T13:02:26.430Z"
   },
   {
    "duration": 382,
    "start_time": "2022-06-01T13:02:26.569Z"
   },
   {
    "duration": 10,
    "start_time": "2022-06-01T13:02:26.953Z"
   },
   {
    "duration": 55,
    "start_time": "2022-06-01T13:02:26.965Z"
   },
   {
    "duration": 15,
    "start_time": "2022-06-01T13:02:27.022Z"
   },
   {
    "duration": 34,
    "start_time": "2022-06-01T13:02:27.039Z"
   },
   {
    "duration": 374,
    "start_time": "2022-06-01T13:02:27.075Z"
   },
   {
    "duration": 268,
    "start_time": "2022-06-01T13:02:27.450Z"
   },
   {
    "duration": 3,
    "start_time": "2022-06-01T13:02:27.720Z"
   },
   {
    "duration": 7,
    "start_time": "2022-06-01T13:02:27.724Z"
   },
   {
    "duration": 6,
    "start_time": "2022-06-01T13:02:27.732Z"
   },
   {
    "duration": 7,
    "start_time": "2022-06-01T13:02:27.740Z"
   },
   {
    "duration": 40270,
    "start_time": "2022-06-01T13:02:27.749Z"
   },
   {
    "duration": 42848,
    "start_time": "2022-06-01T13:03:08.022Z"
   },
   {
    "duration": 4,
    "start_time": "2022-06-01T13:03:50.873Z"
   },
   {
    "duration": 8346,
    "start_time": "2022-06-01T13:03:50.879Z"
   },
   {
    "duration": 7946,
    "start_time": "2022-06-01T13:03:59.231Z"
   },
   {
    "duration": 3918,
    "start_time": "2022-06-01T13:04:07.179Z"
   },
   {
    "duration": 2815,
    "start_time": "2022-06-01T13:04:11.117Z"
   },
   {
    "duration": 2315,
    "start_time": "2022-06-01T13:04:13.940Z"
   },
   {
    "duration": 1789,
    "start_time": "2022-06-01T13:04:16.256Z"
   },
   {
    "duration": 7,
    "start_time": "2022-06-01T13:04:18.047Z"
   },
   {
    "duration": 75,
    "start_time": "2022-06-01T13:04:18.058Z"
   },
   {
    "duration": 4,
    "start_time": "2022-06-01T13:04:38.074Z"
   },
   {
    "duration": 12441,
    "start_time": "2022-06-01T13:04:39.940Z"
   },
   {
    "duration": 10826,
    "start_time": "2022-06-01T13:04:52.384Z"
   },
   {
    "duration": 7,
    "start_time": "2022-06-01T13:06:23.682Z"
   },
   {
    "duration": 454946,
    "start_time": "2022-06-01T13:06:26.188Z"
   },
   {
    "duration": 438856,
    "start_time": "2022-06-01T13:14:01.136Z"
   },
   {
    "duration": 5,
    "start_time": "2022-06-01T13:22:14.882Z"
   },
   {
    "duration": 14734,
    "start_time": "2022-06-01T13:22:16.609Z"
   },
   {
    "duration": 14596,
    "start_time": "2022-06-01T13:22:31.345Z"
   },
   {
    "duration": 4,
    "start_time": "2022-06-01T13:24:14.791Z"
   },
   {
    "duration": 468722,
    "start_time": "2022-06-01T13:24:16.482Z"
   },
   {
    "duration": 456784,
    "start_time": "2022-06-01T13:32:05.207Z"
   },
   {
    "duration": 7,
    "start_time": "2022-06-01T13:40:10.860Z"
   },
   {
    "duration": 9454,
    "start_time": "2022-06-01T13:40:13.980Z"
   },
   {
    "duration": 11077,
    "start_time": "2022-06-01T13:40:23.436Z"
   },
   {
    "duration": 4,
    "start_time": "2022-06-01T13:40:41.568Z"
   },
   {
    "duration": 7262,
    "start_time": "2022-06-01T13:40:43.333Z"
   },
   {
    "duration": 5,
    "start_time": "2022-06-01T13:41:41.714Z"
   },
   {
    "duration": 19293,
    "start_time": "2022-06-01T13:41:43.276Z"
   },
   {
    "duration": 20214,
    "start_time": "2022-06-01T13:42:02.573Z"
   },
   {
    "duration": 3,
    "start_time": "2022-06-01T13:42:22.789Z"
   },
   {
    "duration": 35832,
    "start_time": "2022-06-01T13:42:22.794Z"
   },
   {
    "duration": 36607,
    "start_time": "2022-06-01T13:42:58.628Z"
   },
   {
    "duration": 20,
    "start_time": "2022-06-01T13:43:41.751Z"
   },
   {
    "duration": 9368,
    "start_time": "2022-06-01T13:43:44.134Z"
   },
   {
    "duration": 11525,
    "start_time": "2022-06-01T13:43:53.504Z"
   },
   {
    "duration": 1425,
    "start_time": "2022-06-01T13:44:05.030Z"
   },
   {
    "duration": 2011,
    "start_time": "2022-06-01T13:44:06.472Z"
   },
   {
    "duration": 2401,
    "start_time": "2022-06-01T13:44:08.485Z"
   },
   {
    "duration": 2849,
    "start_time": "2022-06-01T13:44:10.888Z"
   },
   {
    "duration": 6,
    "start_time": "2022-06-01T13:44:13.738Z"
   },
   {
    "duration": 19,
    "start_time": "2022-06-01T13:44:13.745Z"
   },
   {
    "duration": 312,
    "start_time": "2022-06-01T13:49:12.981Z"
   },
   {
    "duration": 292,
    "start_time": "2022-06-01T13:50:52.102Z"
   },
   {
    "duration": 9639,
    "start_time": "2022-06-01T14:00:36.588Z"
   },
   {
    "duration": 11428,
    "start_time": "2022-06-01T14:00:52.535Z"
   },
   {
    "duration": 6,
    "start_time": "2022-06-01T14:01:03.966Z"
   },
   {
    "duration": 1912,
    "start_time": "2022-06-01T14:01:07.455Z"
   },
   {
    "duration": 1893,
    "start_time": "2022-06-01T14:01:09.395Z"
   },
   {
    "duration": 7,
    "start_time": "2022-06-01T14:01:11.291Z"
   },
   {
    "duration": 5,
    "start_time": "2022-06-01T14:01:31.702Z"
   },
   {
    "duration": 1355,
    "start_time": "2022-06-01T14:06:46.481Z"
   },
   {
    "duration": 735,
    "start_time": "2022-06-01T14:06:47.838Z"
   },
   {
    "duration": 4,
    "start_time": "2022-06-01T14:06:48.575Z"
   },
   {
    "duration": 76,
    "start_time": "2022-06-01T14:06:48.581Z"
   },
   {
    "duration": 22,
    "start_time": "2022-06-01T14:06:48.660Z"
   },
   {
    "duration": 332,
    "start_time": "2022-06-01T14:06:48.684Z"
   },
   {
    "duration": 49,
    "start_time": "2022-06-01T14:06:49.018Z"
   },
   {
    "duration": 33,
    "start_time": "2022-06-01T14:06:49.069Z"
   },
   {
    "duration": 175,
    "start_time": "2022-06-01T14:06:49.105Z"
   },
   {
    "duration": 57,
    "start_time": "2022-06-01T14:06:49.284Z"
   },
   {
    "duration": 24,
    "start_time": "2022-06-01T14:06:49.356Z"
   },
   {
    "duration": 324,
    "start_time": "2022-06-01T14:06:49.382Z"
   },
   {
    "duration": 9,
    "start_time": "2022-06-01T14:06:49.708Z"
   },
   {
    "duration": 8,
    "start_time": "2022-06-01T14:06:49.718Z"
   },
   {
    "duration": 12,
    "start_time": "2022-06-01T14:06:49.728Z"
   },
   {
    "duration": 11,
    "start_time": "2022-06-01T14:06:49.755Z"
   },
   {
    "duration": 6,
    "start_time": "2022-06-01T14:06:49.772Z"
   },
   {
    "duration": 10,
    "start_time": "2022-06-01T14:06:49.780Z"
   },
   {
    "duration": 6,
    "start_time": "2022-06-01T14:06:49.791Z"
   },
   {
    "duration": 34,
    "start_time": "2022-06-01T14:06:49.798Z"
   },
   {
    "duration": 243,
    "start_time": "2022-06-01T14:06:49.833Z"
   },
   {
    "duration": 10,
    "start_time": "2022-06-01T14:06:50.082Z"
   },
   {
    "duration": 12,
    "start_time": "2022-06-01T14:06:50.093Z"
   },
   {
    "duration": 8,
    "start_time": "2022-06-01T14:06:50.107Z"
   },
   {
    "duration": 14,
    "start_time": "2022-06-01T14:06:50.116Z"
   },
   {
    "duration": 152,
    "start_time": "2022-06-01T14:06:50.131Z"
   },
   {
    "duration": 0,
    "start_time": "2022-06-01T14:06:50.286Z"
   },
   {
    "duration": 0,
    "start_time": "2022-06-01T14:06:50.287Z"
   },
   {
    "duration": 0,
    "start_time": "2022-06-01T14:06:50.288Z"
   },
   {
    "duration": 0,
    "start_time": "2022-06-01T14:06:50.289Z"
   },
   {
    "duration": 0,
    "start_time": "2022-06-01T14:06:50.290Z"
   },
   {
    "duration": 0,
    "start_time": "2022-06-01T14:06:50.291Z"
   },
   {
    "duration": 0,
    "start_time": "2022-06-01T14:06:50.292Z"
   },
   {
    "duration": 0,
    "start_time": "2022-06-01T14:06:50.293Z"
   },
   {
    "duration": 0,
    "start_time": "2022-06-01T14:06:50.295Z"
   },
   {
    "duration": 0,
    "start_time": "2022-06-01T14:06:50.296Z"
   },
   {
    "duration": 0,
    "start_time": "2022-06-01T14:06:50.297Z"
   },
   {
    "duration": 0,
    "start_time": "2022-06-01T14:06:50.298Z"
   },
   {
    "duration": 0,
    "start_time": "2022-06-01T14:06:50.299Z"
   },
   {
    "duration": 0,
    "start_time": "2022-06-01T14:06:50.301Z"
   },
   {
    "duration": 0,
    "start_time": "2022-06-01T14:06:50.302Z"
   },
   {
    "duration": 0,
    "start_time": "2022-06-01T14:06:50.303Z"
   },
   {
    "duration": 0,
    "start_time": "2022-06-01T14:06:50.304Z"
   },
   {
    "duration": 0,
    "start_time": "2022-06-01T14:06:50.305Z"
   },
   {
    "duration": 0,
    "start_time": "2022-06-01T14:06:50.306Z"
   },
   {
    "duration": 0,
    "start_time": "2022-06-01T14:06:50.308Z"
   },
   {
    "duration": 0,
    "start_time": "2022-06-01T14:06:50.309Z"
   },
   {
    "duration": 0,
    "start_time": "2022-06-01T14:06:50.310Z"
   },
   {
    "duration": 0,
    "start_time": "2022-06-01T14:06:50.311Z"
   },
   {
    "duration": 0,
    "start_time": "2022-06-01T14:06:50.312Z"
   },
   {
    "duration": 0,
    "start_time": "2022-06-01T14:06:50.355Z"
   },
   {
    "duration": 0,
    "start_time": "2022-06-01T14:06:50.356Z"
   },
   {
    "duration": 0,
    "start_time": "2022-06-01T14:06:50.357Z"
   },
   {
    "duration": 0,
    "start_time": "2022-06-01T14:06:50.360Z"
   },
   {
    "duration": 0,
    "start_time": "2022-06-01T14:06:50.360Z"
   },
   {
    "duration": 0,
    "start_time": "2022-06-01T14:06:50.361Z"
   },
   {
    "duration": 0,
    "start_time": "2022-06-01T14:06:50.362Z"
   },
   {
    "duration": 0,
    "start_time": "2022-06-01T14:06:50.363Z"
   },
   {
    "duration": 0,
    "start_time": "2022-06-01T14:06:50.364Z"
   },
   {
    "duration": 0,
    "start_time": "2022-06-01T14:06:50.364Z"
   },
   {
    "duration": 0,
    "start_time": "2022-06-01T14:06:50.365Z"
   },
   {
    "duration": 0,
    "start_time": "2022-06-01T14:06:50.366Z"
   },
   {
    "duration": 0,
    "start_time": "2022-06-01T14:06:50.367Z"
   },
   {
    "duration": 0,
    "start_time": "2022-06-01T14:06:50.367Z"
   },
   {
    "duration": 0,
    "start_time": "2022-06-01T14:06:50.370Z"
   },
   {
    "duration": 0,
    "start_time": "2022-06-01T14:06:50.371Z"
   },
   {
    "duration": 0,
    "start_time": "2022-06-01T14:06:50.371Z"
   },
   {
    "duration": 0,
    "start_time": "2022-06-01T14:06:50.372Z"
   },
   {
    "duration": 0,
    "start_time": "2022-06-01T14:06:50.372Z"
   },
   {
    "duration": 0,
    "start_time": "2022-06-01T14:06:50.376Z"
   },
   {
    "duration": 42,
    "start_time": "2022-06-01T14:07:49.295Z"
   },
   {
    "duration": 10,
    "start_time": "2022-06-01T14:07:56.615Z"
   },
   {
    "duration": 30,
    "start_time": "2022-06-01T14:08:09.348Z"
   },
   {
    "duration": 3,
    "start_time": "2022-06-01T14:08:14.207Z"
   },
   {
    "duration": 11,
    "start_time": "2022-06-01T14:08:32.568Z"
   },
   {
    "duration": 15,
    "start_time": "2022-06-01T14:08:41.346Z"
   },
   {
    "duration": 7,
    "start_time": "2022-06-01T14:08:51.433Z"
   },
   {
    "duration": 4,
    "start_time": "2022-06-01T14:08:51.442Z"
   },
   {
    "duration": 28,
    "start_time": "2022-06-01T14:08:51.448Z"
   },
   {
    "duration": 21,
    "start_time": "2022-06-01T14:08:51.478Z"
   },
   {
    "duration": 9,
    "start_time": "2022-06-01T14:08:51.501Z"
   },
   {
    "duration": 18,
    "start_time": "2022-06-01T14:08:51.512Z"
   },
   {
    "duration": 15,
    "start_time": "2022-06-01T14:08:51.532Z"
   },
   {
    "duration": 10,
    "start_time": "2022-06-01T14:08:51.549Z"
   },
   {
    "duration": 10,
    "start_time": "2022-06-01T14:08:51.560Z"
   },
   {
    "duration": 15,
    "start_time": "2022-06-01T14:08:51.573Z"
   },
   {
    "duration": 55,
    "start_time": "2022-06-01T14:08:51.590Z"
   },
   {
    "duration": 44,
    "start_time": "2022-06-01T14:08:51.649Z"
   },
   {
    "duration": 39,
    "start_time": "2022-06-01T14:08:51.694Z"
   },
   {
    "duration": 8,
    "start_time": "2022-06-01T14:08:51.734Z"
   },
   {
    "duration": 142,
    "start_time": "2022-06-01T14:08:51.743Z"
   },
   {
    "duration": 9,
    "start_time": "2022-06-01T14:08:51.886Z"
   },
   {
    "duration": 128,
    "start_time": "2022-06-01T14:08:51.896Z"
   },
   {
    "duration": 8,
    "start_time": "2022-06-01T14:08:52.025Z"
   },
   {
    "duration": 135,
    "start_time": "2022-06-01T14:08:52.034Z"
   },
   {
    "duration": 274,
    "start_time": "2022-06-01T14:08:52.171Z"
   },
   {
    "duration": 10,
    "start_time": "2022-06-01T14:08:52.460Z"
   },
   {
    "duration": 11,
    "start_time": "2022-06-01T14:08:52.472Z"
   },
   {
    "duration": 7,
    "start_time": "2022-06-01T14:08:52.484Z"
   },
   {
    "duration": 18,
    "start_time": "2022-06-01T14:08:52.493Z"
   },
   {
    "duration": 323,
    "start_time": "2022-06-01T14:08:52.512Z"
   },
   {
    "duration": 188,
    "start_time": "2022-06-01T14:08:52.850Z"
   },
   {
    "duration": 3,
    "start_time": "2022-06-01T14:08:53.039Z"
   },
   {
    "duration": 14,
    "start_time": "2022-06-01T14:08:53.043Z"
   },
   {
    "duration": 19,
    "start_time": "2022-06-01T14:08:53.058Z"
   },
   {
    "duration": 5,
    "start_time": "2022-06-01T14:08:53.079Z"
   },
   {
    "duration": 34359,
    "start_time": "2022-06-01T14:08:53.085Z"
   },
   {
    "duration": 33838,
    "start_time": "2022-06-01T14:09:27.445Z"
   },
   {
    "duration": 3,
    "start_time": "2022-06-01T14:10:01.285Z"
   },
   {
    "duration": 8922,
    "start_time": "2022-06-01T14:10:01.289Z"
   },
   {
    "duration": 10282,
    "start_time": "2022-06-01T14:10:10.213Z"
   },
   {
    "duration": 3,
    "start_time": "2022-06-01T14:10:20.496Z"
   },
   {
    "duration": 2356,
    "start_time": "2022-06-01T14:10:20.501Z"
   },
   {
    "duration": 2402,
    "start_time": "2022-06-01T14:10:22.859Z"
   },
   {
    "duration": 12,
    "start_time": "2022-06-01T14:10:25.264Z"
   },
   {
    "duration": 2284,
    "start_time": "2022-06-01T14:10:25.277Z"
   },
   {
    "duration": 2620,
    "start_time": "2022-06-01T14:10:27.562Z"
   },
   {
    "duration": 7,
    "start_time": "2022-06-01T14:10:30.183Z"
   },
   {
    "duration": 13,
    "start_time": "2022-06-01T14:10:30.191Z"
   },
   {
    "duration": 4,
    "start_time": "2022-06-01T14:11:27.837Z"
   },
   {
    "duration": 172,
    "start_time": "2022-06-01T14:20:26.480Z"
   },
   {
    "duration": 252,
    "start_time": "2022-06-01T14:20:34.238Z"
   },
   {
    "duration": 333,
    "start_time": "2022-06-01T14:20:42.198Z"
   },
   {
    "duration": 4,
    "start_time": "2022-06-01T14:25:51.475Z"
   },
   {
    "duration": 4,
    "start_time": "2022-06-01T14:26:16.513Z"
   },
   {
    "duration": 4,
    "start_time": "2022-06-01T14:26:46.024Z"
   },
   {
    "duration": 1252,
    "start_time": "2022-06-01T14:27:28.300Z"
   },
   {
    "duration": 738,
    "start_time": "2022-06-01T14:27:29.554Z"
   },
   {
    "duration": 3,
    "start_time": "2022-06-01T14:27:30.293Z"
   },
   {
    "duration": 78,
    "start_time": "2022-06-01T14:27:30.298Z"
   },
   {
    "duration": 21,
    "start_time": "2022-06-01T14:27:30.379Z"
   },
   {
    "duration": 274,
    "start_time": "2022-06-01T14:27:30.401Z"
   },
   {
    "duration": 36,
    "start_time": "2022-06-01T14:27:30.677Z"
   },
   {
    "duration": 12,
    "start_time": "2022-06-01T14:27:30.715Z"
   },
   {
    "duration": 164,
    "start_time": "2022-06-01T14:27:30.729Z"
   },
   {
    "duration": 48,
    "start_time": "2022-06-01T14:27:30.895Z"
   },
   {
    "duration": 34,
    "start_time": "2022-06-01T14:27:30.956Z"
   },
   {
    "duration": 286,
    "start_time": "2022-06-01T14:27:30.992Z"
   },
   {
    "duration": 9,
    "start_time": "2022-06-01T14:27:31.280Z"
   },
   {
    "duration": 6,
    "start_time": "2022-06-01T14:27:31.291Z"
   },
   {
    "duration": 9,
    "start_time": "2022-06-01T14:27:31.298Z"
   },
   {
    "duration": 5,
    "start_time": "2022-06-01T14:27:31.308Z"
   },
   {
    "duration": 15,
    "start_time": "2022-06-01T14:27:31.314Z"
   },
   {
    "duration": 11,
    "start_time": "2022-06-01T14:27:31.330Z"
   },
   {
    "duration": 27,
    "start_time": "2022-06-01T14:27:31.342Z"
   },
   {
    "duration": 33,
    "start_time": "2022-06-01T14:27:31.371Z"
   },
   {
    "duration": 272,
    "start_time": "2022-06-01T14:27:31.406Z"
   },
   {
    "duration": 13,
    "start_time": "2022-06-01T14:27:31.680Z"
   },
   {
    "duration": 12,
    "start_time": "2022-06-01T14:27:31.695Z"
   },
   {
    "duration": 19,
    "start_time": "2022-06-01T14:27:31.709Z"
   },
   {
    "duration": 27,
    "start_time": "2022-06-01T14:27:31.730Z"
   },
   {
    "duration": 25,
    "start_time": "2022-06-01T14:27:31.762Z"
   },
   {
    "duration": 5,
    "start_time": "2022-06-01T14:27:31.790Z"
   },
   {
    "duration": 22,
    "start_time": "2022-06-01T14:27:31.797Z"
   },
   {
    "duration": 8,
    "start_time": "2022-06-01T14:27:31.821Z"
   },
   {
    "duration": 8,
    "start_time": "2022-06-01T14:27:31.830Z"
   },
   {
    "duration": 17,
    "start_time": "2022-06-01T14:27:31.840Z"
   },
   {
    "duration": 23,
    "start_time": "2022-06-01T14:27:31.859Z"
   },
   {
    "duration": 8,
    "start_time": "2022-06-01T14:27:31.884Z"
   },
   {
    "duration": 6,
    "start_time": "2022-06-01T14:27:31.894Z"
   },
   {
    "duration": 9,
    "start_time": "2022-06-01T14:27:31.901Z"
   },
   {
    "duration": 46,
    "start_time": "2022-06-01T14:27:31.912Z"
   },
   {
    "duration": 36,
    "start_time": "2022-06-01T14:27:31.960Z"
   },
   {
    "duration": 41,
    "start_time": "2022-06-01T14:27:31.997Z"
   },
   {
    "duration": 24,
    "start_time": "2022-06-01T14:27:32.040Z"
   },
   {
    "duration": 151,
    "start_time": "2022-06-01T14:27:32.066Z"
   },
   {
    "duration": 7,
    "start_time": "2022-06-01T14:27:32.221Z"
   },
   {
    "duration": 137,
    "start_time": "2022-06-01T14:27:32.230Z"
   },
   {
    "duration": 10,
    "start_time": "2022-06-01T14:27:32.368Z"
   },
   {
    "duration": 121,
    "start_time": "2022-06-01T14:27:32.380Z"
   },
   {
    "duration": 297,
    "start_time": "2022-06-01T14:27:32.503Z"
   },
   {
    "duration": 3,
    "start_time": "2022-06-01T14:27:32.802Z"
   },
   {
    "duration": 25,
    "start_time": "2022-06-01T14:27:32.806Z"
   },
   {
    "duration": 13,
    "start_time": "2022-06-01T14:27:32.833Z"
   },
   {
    "duration": 27,
    "start_time": "2022-06-01T14:27:32.847Z"
   },
   {
    "duration": 311,
    "start_time": "2022-06-01T14:27:32.875Z"
   },
   {
    "duration": 450,
    "start_time": "2022-06-01T14:27:33.188Z"
   },
   {
    "duration": 3,
    "start_time": "2022-06-01T14:27:33.639Z"
   },
   {
    "duration": 11,
    "start_time": "2022-06-01T14:27:33.643Z"
   },
   {
    "duration": 9,
    "start_time": "2022-06-01T14:27:33.658Z"
   },
   {
    "duration": 5,
    "start_time": "2022-06-01T14:27:33.672Z"
   },
   {
    "duration": 34632,
    "start_time": "2022-06-01T14:27:33.679Z"
   },
   {
    "duration": 34018,
    "start_time": "2022-06-01T14:28:08.312Z"
   },
   {
    "duration": 3,
    "start_time": "2022-06-01T14:28:42.332Z"
   },
   {
    "duration": 8781,
    "start_time": "2022-06-01T14:28:42.336Z"
   },
   {
    "duration": 10298,
    "start_time": "2022-06-01T14:28:51.118Z"
   },
   {
    "duration": 4,
    "start_time": "2022-06-01T14:29:01.418Z"
   },
   {
    "duration": 2057,
    "start_time": "2022-06-01T14:29:01.424Z"
   },
   {
    "duration": 1673,
    "start_time": "2022-06-01T14:29:03.483Z"
   },
   {
    "duration": 8,
    "start_time": "2022-06-01T14:29:05.158Z"
   },
   {
    "duration": 2305,
    "start_time": "2022-06-01T14:29:05.170Z"
   },
   {
    "duration": 2629,
    "start_time": "2022-06-01T14:29:07.477Z"
   },
   {
    "duration": 7,
    "start_time": "2022-06-01T14:29:10.108Z"
   },
   {
    "duration": 8,
    "start_time": "2022-06-01T14:29:10.116Z"
   },
   {
    "duration": 3,
    "start_time": "2022-06-01T14:29:23.613Z"
   },
   {
    "duration": 18002,
    "start_time": "2022-06-01T14:29:25.105Z"
   },
   {
    "duration": 18055,
    "start_time": "2022-06-01T14:29:43.110Z"
   },
   {
    "duration": 1447,
    "start_time": "2022-06-01T15:12:02.478Z"
   },
   {
    "duration": 2996,
    "start_time": "2022-06-01T15:12:03.928Z"
   },
   {
    "duration": 3,
    "start_time": "2022-06-01T15:12:06.925Z"
   },
   {
    "duration": 58,
    "start_time": "2022-06-01T15:12:06.930Z"
   },
   {
    "duration": 18,
    "start_time": "2022-06-01T15:12:06.990Z"
   },
   {
    "duration": 284,
    "start_time": "2022-06-01T15:12:07.010Z"
   },
   {
    "duration": 32,
    "start_time": "2022-06-01T15:12:07.296Z"
   },
   {
    "duration": 37,
    "start_time": "2022-06-01T15:12:07.330Z"
   },
   {
    "duration": 165,
    "start_time": "2022-06-01T15:12:07.368Z"
   },
   {
    "duration": 57,
    "start_time": "2022-06-01T15:12:07.534Z"
   },
   {
    "duration": 17,
    "start_time": "2022-06-01T15:12:07.592Z"
   },
   {
    "duration": 298,
    "start_time": "2022-06-01T15:12:07.610Z"
   },
   {
    "duration": 7,
    "start_time": "2022-06-01T15:12:07.910Z"
   },
   {
    "duration": 5,
    "start_time": "2022-06-01T15:12:07.920Z"
   },
   {
    "duration": 15,
    "start_time": "2022-06-01T15:12:07.927Z"
   },
   {
    "duration": 4,
    "start_time": "2022-06-01T15:12:07.944Z"
   },
   {
    "duration": 2,
    "start_time": "2022-06-01T15:12:07.964Z"
   },
   {
    "duration": 7,
    "start_time": "2022-06-01T15:12:07.968Z"
   },
   {
    "duration": 5,
    "start_time": "2022-06-01T15:12:07.977Z"
   },
   {
    "duration": 27,
    "start_time": "2022-06-01T15:12:07.983Z"
   },
   {
    "duration": 245,
    "start_time": "2022-06-01T15:12:08.011Z"
   },
   {
    "duration": 13,
    "start_time": "2022-06-01T15:12:08.257Z"
   },
   {
    "duration": 10,
    "start_time": "2022-06-01T15:12:08.272Z"
   },
   {
    "duration": 6,
    "start_time": "2022-06-01T15:12:08.284Z"
   },
   {
    "duration": 11,
    "start_time": "2022-06-01T15:12:08.291Z"
   },
   {
    "duration": 14,
    "start_time": "2022-06-01T15:12:08.303Z"
   },
   {
    "duration": 3,
    "start_time": "2022-06-01T15:12:08.318Z"
   },
   {
    "duration": 12,
    "start_time": "2022-06-01T15:12:08.322Z"
   },
   {
    "duration": 31,
    "start_time": "2022-06-01T15:12:08.336Z"
   },
   {
    "duration": 14,
    "start_time": "2022-06-01T15:12:08.369Z"
   },
   {
    "duration": 22,
    "start_time": "2022-06-01T15:12:08.384Z"
   },
   {
    "duration": 12,
    "start_time": "2022-06-01T15:12:08.408Z"
   },
   {
    "duration": 6,
    "start_time": "2022-06-01T15:12:08.421Z"
   },
   {
    "duration": 4,
    "start_time": "2022-06-01T15:12:08.429Z"
   },
   {
    "duration": 7,
    "start_time": "2022-06-01T15:12:08.434Z"
   },
   {
    "duration": 44,
    "start_time": "2022-06-01T15:12:08.443Z"
   },
   {
    "duration": 35,
    "start_time": "2022-06-01T15:12:08.489Z"
   },
   {
    "duration": 50,
    "start_time": "2022-06-01T15:12:08.525Z"
   },
   {
    "duration": 8,
    "start_time": "2022-06-01T15:12:08.578Z"
   },
   {
    "duration": 146,
    "start_time": "2022-06-01T15:12:08.588Z"
   },
   {
    "duration": 7,
    "start_time": "2022-06-01T15:12:08.738Z"
   },
   {
    "duration": 146,
    "start_time": "2022-06-01T15:12:08.747Z"
   },
   {
    "duration": 9,
    "start_time": "2022-06-01T15:12:08.895Z"
   },
   {
    "duration": 173,
    "start_time": "2022-06-01T15:12:08.906Z"
   },
   {
    "duration": 323,
    "start_time": "2022-06-01T15:12:09.081Z"
   },
   {
    "duration": 3,
    "start_time": "2022-06-01T15:12:09.406Z"
   },
   {
    "duration": 12,
    "start_time": "2022-06-01T15:12:09.410Z"
   },
   {
    "duration": 7,
    "start_time": "2022-06-01T15:12:09.423Z"
   },
   {
    "duration": 34,
    "start_time": "2022-06-01T15:12:09.432Z"
   },
   {
    "duration": 320,
    "start_time": "2022-06-01T15:12:09.468Z"
   },
   {
    "duration": 480,
    "start_time": "2022-06-01T15:12:09.790Z"
   },
   {
    "duration": 3,
    "start_time": "2022-06-01T15:12:10.272Z"
   },
   {
    "duration": 7,
    "start_time": "2022-06-01T15:12:10.277Z"
   },
   {
    "duration": 5,
    "start_time": "2022-06-01T15:12:10.286Z"
   },
   {
    "duration": 8,
    "start_time": "2022-06-01T15:12:10.293Z"
   },
   {
    "duration": 18310,
    "start_time": "2022-06-01T15:12:10.303Z"
   },
   {
    "duration": 19134,
    "start_time": "2022-06-01T15:12:28.615Z"
   },
   {
    "duration": 4,
    "start_time": "2022-06-01T15:12:47.751Z"
   },
   {
    "duration": 9314,
    "start_time": "2022-06-01T15:12:47.766Z"
   },
   {
    "duration": 10938,
    "start_time": "2022-06-01T15:12:57.081Z"
   },
   {
    "duration": 3,
    "start_time": "2022-06-01T15:13:08.020Z"
   },
   {
    "duration": 1741,
    "start_time": "2022-06-01T15:13:08.025Z"
   },
   {
    "duration": 1904,
    "start_time": "2022-06-01T15:13:09.767Z"
   },
   {
    "duration": 91,
    "start_time": "2022-06-01T15:13:11.674Z"
   },
   {
    "duration": 2415,
    "start_time": "2022-06-01T15:13:11.767Z"
   },
   {
    "duration": 2832,
    "start_time": "2022-06-01T15:13:14.184Z"
   },
   {
    "duration": 6,
    "start_time": "2022-06-01T15:13:17.018Z"
   },
   {
    "duration": 13,
    "start_time": "2022-06-01T15:13:17.026Z"
   },
   {
    "duration": 1966,
    "start_time": "2022-06-02T12:46:53.118Z"
   },
   {
    "duration": 3696,
    "start_time": "2022-06-02T12:48:34.798Z"
   },
   {
    "duration": 281,
    "start_time": "2022-06-02T12:54:37.671Z"
   },
   {
    "duration": 22,
    "start_time": "2022-06-02T12:54:51.849Z"
   },
   {
    "duration": 19,
    "start_time": "2022-06-02T12:54:55.278Z"
   },
   {
    "duration": 3,
    "start_time": "2022-06-02T12:56:23.773Z"
   },
   {
    "duration": 78,
    "start_time": "2022-06-02T12:56:27.932Z"
   },
   {
    "duration": 9,
    "start_time": "2022-06-02T12:58:26.070Z"
   },
   {
    "duration": 6,
    "start_time": "2022-06-02T12:58:30.264Z"
   },
   {
    "duration": 452,
    "start_time": "2022-06-02T12:58:33.615Z"
   },
   {
    "duration": 6,
    "start_time": "2022-06-02T12:58:39.148Z"
   },
   {
    "duration": 6,
    "start_time": "2022-06-02T12:59:29.468Z"
   },
   {
    "duration": 6,
    "start_time": "2022-06-02T12:59:37.062Z"
   },
   {
    "duration": 5,
    "start_time": "2022-06-02T13:00:46.588Z"
   },
   {
    "duration": 4,
    "start_time": "2022-06-02T13:03:06.816Z"
   },
   {
    "duration": 796,
    "start_time": "2022-06-02T13:03:06.821Z"
   },
   {
    "duration": 3,
    "start_time": "2022-06-02T13:03:07.619Z"
   },
   {
    "duration": 77,
    "start_time": "2022-06-02T13:03:07.623Z"
   },
   {
    "duration": 18,
    "start_time": "2022-06-02T13:03:07.702Z"
   },
   {
    "duration": 323,
    "start_time": "2022-06-02T13:03:07.721Z"
   },
   {
    "duration": 41,
    "start_time": "2022-06-02T13:03:08.045Z"
   },
   {
    "duration": 19,
    "start_time": "2022-06-02T13:03:08.088Z"
   },
   {
    "duration": 187,
    "start_time": "2022-06-02T13:03:08.110Z"
   },
   {
    "duration": 90,
    "start_time": "2022-06-02T13:03:08.298Z"
   },
   {
    "duration": 46,
    "start_time": "2022-06-02T13:03:08.393Z"
   },
   {
    "duration": 317,
    "start_time": "2022-06-02T13:03:08.441Z"
   },
   {
    "duration": 13,
    "start_time": "2022-06-02T13:03:08.759Z"
   },
   {
    "duration": 23,
    "start_time": "2022-06-02T13:03:08.775Z"
   },
   {
    "duration": 16,
    "start_time": "2022-06-02T13:03:08.800Z"
   },
   {
    "duration": 8,
    "start_time": "2022-06-02T13:03:08.818Z"
   },
   {
    "duration": 13,
    "start_time": "2022-06-02T13:03:08.828Z"
   },
   {
    "duration": 44,
    "start_time": "2022-06-02T13:03:08.843Z"
   },
   {
    "duration": 17,
    "start_time": "2022-06-02T13:03:08.888Z"
   },
   {
    "duration": 65,
    "start_time": "2022-06-02T13:03:08.907Z"
   },
   {
    "duration": 240,
    "start_time": "2022-06-02T13:03:08.975Z"
   },
   {
    "duration": 14,
    "start_time": "2022-06-02T13:03:09.217Z"
   },
   {
    "duration": 20,
    "start_time": "2022-06-02T13:03:09.243Z"
   },
   {
    "duration": 26,
    "start_time": "2022-06-02T13:03:09.265Z"
   },
   {
    "duration": 15,
    "start_time": "2022-06-02T13:03:09.293Z"
   },
   {
    "duration": 15,
    "start_time": "2022-06-02T13:03:09.309Z"
   },
   {
    "duration": 6,
    "start_time": "2022-06-02T13:03:09.326Z"
   },
   {
    "duration": 17,
    "start_time": "2022-06-02T13:03:09.334Z"
   },
   {
    "duration": 11,
    "start_time": "2022-06-02T13:03:09.361Z"
   },
   {
    "duration": 4,
    "start_time": "2022-06-02T13:03:13.984Z"
   },
   {
    "duration": 56,
    "start_time": "2022-06-02T13:03:40.962Z"
   },
   {
    "duration": 52,
    "start_time": "2022-06-02T13:03:44.844Z"
   },
   {
    "duration": 18,
    "start_time": "2022-06-02T13:04:16.176Z"
   },
   {
    "duration": 142,
    "start_time": "2022-06-02T13:13:16.843Z"
   },
   {
    "duration": 12,
    "start_time": "2022-06-02T13:14:26.176Z"
   },
   {
    "duration": 6,
    "start_time": "2022-06-02T13:14:40.707Z"
   },
   {
    "duration": 4,
    "start_time": "2022-06-02T13:14:50.778Z"
   },
   {
    "duration": 4,
    "start_time": "2022-06-02T13:14:55.735Z"
   },
   {
    "duration": 2,
    "start_time": "2022-06-02T13:15:07.187Z"
   },
   {
    "duration": 11,
    "start_time": "2022-06-02T13:15:12.170Z"
   },
   {
    "duration": 4,
    "start_time": "2022-06-02T13:15:21.785Z"
   },
   {
    "duration": 5,
    "start_time": "2022-06-02T13:15:29.035Z"
   },
   {
    "duration": 3,
    "start_time": "2022-06-02T13:15:52.875Z"
   },
   {
    "duration": 3,
    "start_time": "2022-06-02T13:15:59.862Z"
   },
   {
    "duration": 13,
    "start_time": "2022-06-02T13:16:01.666Z"
   },
   {
    "duration": 2,
    "start_time": "2022-06-02T13:16:07.824Z"
   },
   {
    "duration": 5,
    "start_time": "2022-06-02T13:16:10.567Z"
   },
   {
    "duration": 4,
    "start_time": "2022-06-02T13:16:18.714Z"
   },
   {
    "duration": 4,
    "start_time": "2022-06-02T13:16:37.116Z"
   },
   {
    "duration": 4,
    "start_time": "2022-06-02T13:17:28.466Z"
   },
   {
    "duration": 10,
    "start_time": "2022-06-02T13:17:56.424Z"
   },
   {
    "duration": 2,
    "start_time": "2022-06-02T13:18:11.171Z"
   },
   {
    "duration": 3,
    "start_time": "2022-06-02T13:18:16.578Z"
   },
   {
    "duration": 12,
    "start_time": "2022-06-02T13:18:20.405Z"
   },
   {
    "duration": 4,
    "start_time": "2022-06-02T13:18:23.016Z"
   },
   {
    "duration": 5,
    "start_time": "2022-06-02T13:18:24.463Z"
   },
   {
    "duration": 3,
    "start_time": "2022-06-02T13:18:27.666Z"
   },
   {
    "duration": 4,
    "start_time": "2022-06-02T13:18:35.826Z"
   },
   {
    "duration": 3,
    "start_time": "2022-06-02T13:18:45.996Z"
   },
   {
    "duration": 9,
    "start_time": "2022-06-02T13:18:48.202Z"
   },
   {
    "duration": 10,
    "start_time": "2022-06-02T13:18:55.170Z"
   },
   {
    "duration": 4,
    "start_time": "2022-06-02T13:19:09.506Z"
   },
   {
    "duration": 3,
    "start_time": "2022-06-02T13:19:34.866Z"
   },
   {
    "duration": 5,
    "start_time": "2022-06-02T13:19:36.236Z"
   },
   {
    "duration": 13,
    "start_time": "2022-06-02T13:20:10.473Z"
   },
   {
    "duration": 3,
    "start_time": "2022-06-02T13:20:17.418Z"
   },
   {
    "duration": 3,
    "start_time": "2022-06-02T13:20:20.794Z"
   },
   {
    "duration": 3,
    "start_time": "2022-06-02T13:20:33.496Z"
   },
   {
    "duration": 4,
    "start_time": "2022-06-02T13:20:34.690Z"
   },
   {
    "duration": 124,
    "start_time": "2022-06-02T13:25:43.141Z"
   },
   {
    "duration": 102,
    "start_time": "2022-06-02T13:25:49.797Z"
   },
   {
    "duration": 58,
    "start_time": "2022-06-02T13:25:54.759Z"
   },
   {
    "duration": 24,
    "start_time": "2022-06-02T13:26:04.829Z"
   },
   {
    "duration": 722,
    "start_time": "2022-06-02T13:26:38.381Z"
   },
   {
    "duration": 6,
    "start_time": "2022-06-02T13:26:47.063Z"
   },
   {
    "duration": 849,
    "start_time": "2022-06-02T13:27:32.118Z"
   },
   {
    "duration": 4,
    "start_time": "2022-06-02T13:27:50.309Z"
   },
   {
    "duration": 5,
    "start_time": "2022-06-02T13:27:57.502Z"
   },
   {
    "duration": 15,
    "start_time": "2022-06-02T13:28:19.288Z"
   },
   {
    "duration": 99,
    "start_time": "2022-06-02T13:28:49.812Z"
   },
   {
    "duration": 56,
    "start_time": "2022-06-02T13:28:54.025Z"
   },
   {
    "duration": 22,
    "start_time": "2022-06-02T13:28:58.029Z"
   },
   {
    "duration": 8,
    "start_time": "2022-06-02T13:30:04.374Z"
   },
   {
    "duration": 10,
    "start_time": "2022-06-02T13:30:17.891Z"
   },
   {
    "duration": 709,
    "start_time": "2022-06-02T13:30:34.883Z"
   },
   {
    "duration": 18,
    "start_time": "2022-06-02T13:30:41.429Z"
   },
   {
    "duration": 12,
    "start_time": "2022-06-02T13:32:01.612Z"
   },
   {
    "duration": 6,
    "start_time": "2022-06-02T13:32:03.067Z"
   },
   {
    "duration": 17,
    "start_time": "2022-06-02T13:34:02.699Z"
   },
   {
    "duration": 9,
    "start_time": "2022-06-02T13:34:08.842Z"
   },
   {
    "duration": 29,
    "start_time": "2022-06-02T13:35:38.522Z"
   },
   {
    "duration": 5,
    "start_time": "2022-06-02T13:36:35.572Z"
   },
   {
    "duration": 10,
    "start_time": "2022-06-02T13:36:39.514Z"
   },
   {
    "duration": 64,
    "start_time": "2022-06-02T13:37:28.202Z"
   },
   {
    "duration": 64,
    "start_time": "2022-06-02T13:37:37.594Z"
   },
   {
    "duration": 456,
    "start_time": "2022-06-02T13:43:54.213Z"
   },
   {
    "duration": 212,
    "start_time": "2022-06-02T13:44:08.866Z"
   },
   {
    "duration": 251,
    "start_time": "2022-06-02T13:44:17.716Z"
   },
   {
    "duration": 231,
    "start_time": "2022-06-02T13:44:32.753Z"
   },
   {
    "duration": 310,
    "start_time": "2022-06-02T13:44:39.473Z"
   },
   {
    "duration": 245,
    "start_time": "2022-06-02T13:44:51.093Z"
   },
   {
    "duration": 244,
    "start_time": "2022-06-02T13:44:57.893Z"
   },
   {
    "duration": 273,
    "start_time": "2022-06-02T13:45:04.503Z"
   },
   {
    "duration": 244,
    "start_time": "2022-06-02T13:45:20.704Z"
   },
   {
    "duration": 0,
    "start_time": "2022-06-02T13:47:49.019Z"
   },
   {
    "duration": 1054,
    "start_time": "2022-06-02T13:47:51.766Z"
   },
   {
    "duration": 251,
    "start_time": "2022-06-02T13:48:18.793Z"
   },
   {
    "duration": 481,
    "start_time": "2022-06-02T13:48:35.106Z"
   },
   {
    "duration": 496,
    "start_time": "2022-06-02T13:49:03.796Z"
   },
   {
    "duration": 484,
    "start_time": "2022-06-02T13:49:16.014Z"
   },
   {
    "duration": 477,
    "start_time": "2022-06-02T13:49:21.087Z"
   },
   {
    "duration": 228,
    "start_time": "2022-06-02T13:49:48.660Z"
   },
   {
    "duration": 486,
    "start_time": "2022-06-02T13:50:16.449Z"
   },
   {
    "duration": 534,
    "start_time": "2022-06-02T13:50:30.990Z"
   },
   {
    "duration": 354,
    "start_time": "2022-06-02T13:55:13.411Z"
   },
   {
    "duration": 291,
    "start_time": "2022-06-02T13:55:29.622Z"
   },
   {
    "duration": 396,
    "start_time": "2022-06-02T13:55:50.735Z"
   },
   {
    "duration": 427,
    "start_time": "2022-06-02T13:55:57.789Z"
   },
   {
    "duration": 399,
    "start_time": "2022-06-02T13:56:14.101Z"
   },
   {
    "duration": 343,
    "start_time": "2022-06-02T13:56:23.511Z"
   },
   {
    "duration": 407,
    "start_time": "2022-06-02T13:56:28.685Z"
   },
   {
    "duration": 919,
    "start_time": "2022-06-02T13:58:03.959Z"
   },
   {
    "duration": 316,
    "start_time": "2022-06-02T13:58:09.822Z"
   },
   {
    "duration": 373,
    "start_time": "2022-06-02T13:58:20.541Z"
   },
   {
    "duration": 1467,
    "start_time": "2022-06-02T14:11:51.815Z"
   },
   {
    "duration": 720,
    "start_time": "2022-06-02T14:11:53.284Z"
   },
   {
    "duration": 3,
    "start_time": "2022-06-02T14:11:54.006Z"
   },
   {
    "duration": 71,
    "start_time": "2022-06-02T14:11:54.011Z"
   },
   {
    "duration": 14,
    "start_time": "2022-06-02T14:11:54.084Z"
   },
   {
    "duration": 303,
    "start_time": "2022-06-02T14:11:54.100Z"
   },
   {
    "duration": 47,
    "start_time": "2022-06-02T14:11:54.405Z"
   },
   {
    "duration": 15,
    "start_time": "2022-06-02T14:11:54.455Z"
   },
   {
    "duration": 167,
    "start_time": "2022-06-02T14:11:54.471Z"
   },
   {
    "duration": 61,
    "start_time": "2022-06-02T14:11:54.641Z"
   },
   {
    "duration": 16,
    "start_time": "2022-06-02T14:11:54.703Z"
   },
   {
    "duration": 341,
    "start_time": "2022-06-02T14:11:54.721Z"
   },
   {
    "duration": 9,
    "start_time": "2022-06-02T14:11:55.064Z"
   },
   {
    "duration": 24,
    "start_time": "2022-06-02T14:11:55.074Z"
   },
   {
    "duration": 15,
    "start_time": "2022-06-02T14:11:55.099Z"
   },
   {
    "duration": 8,
    "start_time": "2022-06-02T14:11:55.116Z"
   },
   {
    "duration": 14,
    "start_time": "2022-06-02T14:11:55.126Z"
   },
   {
    "duration": 26,
    "start_time": "2022-06-02T14:11:55.142Z"
   },
   {
    "duration": 10,
    "start_time": "2022-06-02T14:11:55.170Z"
   },
   {
    "duration": 33,
    "start_time": "2022-06-02T14:11:55.182Z"
   },
   {
    "duration": 251,
    "start_time": "2022-06-02T14:11:55.216Z"
   },
   {
    "duration": 9,
    "start_time": "2022-06-02T14:11:55.469Z"
   },
   {
    "duration": 12,
    "start_time": "2022-06-02T14:11:55.480Z"
   },
   {
    "duration": 7,
    "start_time": "2022-06-02T14:11:55.494Z"
   },
   {
    "duration": 11,
    "start_time": "2022-06-02T14:11:55.503Z"
   },
   {
    "duration": 36,
    "start_time": "2022-06-02T14:11:55.516Z"
   },
   {
    "duration": 43,
    "start_time": "2022-06-02T14:11:55.554Z"
   },
   {
    "duration": 9,
    "start_time": "2022-06-02T14:11:55.600Z"
   },
   {
    "duration": 10,
    "start_time": "2022-06-02T14:11:55.610Z"
   },
   {
    "duration": 121,
    "start_time": "2022-06-02T14:11:55.621Z"
   },
   {
    "duration": 0,
    "start_time": "2022-06-02T14:11:55.744Z"
   },
   {
    "duration": 0,
    "start_time": "2022-06-02T14:11:55.746Z"
   },
   {
    "duration": 0,
    "start_time": "2022-06-02T14:11:55.748Z"
   },
   {
    "duration": 5,
    "start_time": "2022-06-02T14:12:27.732Z"
   },
   {
    "duration": 3,
    "start_time": "2022-06-02T14:12:29.858Z"
   },
   {
    "duration": 56,
    "start_time": "2022-06-02T14:13:04.305Z"
   },
   {
    "duration": 19,
    "start_time": "2022-06-02T14:13:05.883Z"
   },
   {
    "duration": 10,
    "start_time": "2022-06-02T14:16:28.414Z"
   },
   {
    "duration": 4,
    "start_time": "2022-06-02T14:16:31.028Z"
   },
   {
    "duration": 679,
    "start_time": "2022-06-02T14:17:37.504Z"
   },
   {
    "duration": 379,
    "start_time": "2022-06-02T14:17:53.013Z"
   },
   {
    "duration": 44,
    "start_time": "2022-06-02T14:19:31.272Z"
   },
   {
    "duration": 9,
    "start_time": "2022-06-02T14:19:53.140Z"
   },
   {
    "duration": 9,
    "start_time": "2022-06-02T14:20:18.915Z"
   },
   {
    "duration": 11,
    "start_time": "2022-06-02T14:20:32.267Z"
   },
   {
    "duration": 8,
    "start_time": "2022-06-02T14:21:15.230Z"
   },
   {
    "duration": 9,
    "start_time": "2022-06-02T14:21:28.425Z"
   },
   {
    "duration": 8,
    "start_time": "2022-06-02T14:21:36.642Z"
   },
   {
    "duration": 8,
    "start_time": "2022-06-02T14:22:31.194Z"
   },
   {
    "duration": 11,
    "start_time": "2022-06-02T14:22:44.955Z"
   },
   {
    "duration": 10,
    "start_time": "2022-06-02T14:22:53.635Z"
   },
   {
    "duration": 8,
    "start_time": "2022-06-02T14:23:05.216Z"
   },
   {
    "duration": 4,
    "start_time": "2022-06-02T14:24:01.463Z"
   },
   {
    "duration": 15,
    "start_time": "2022-06-02T14:24:04.394Z"
   },
   {
    "duration": 12,
    "start_time": "2022-06-02T14:24:52.504Z"
   },
   {
    "duration": 12,
    "start_time": "2022-06-02T14:24:59.755Z"
   },
   {
    "duration": 6,
    "start_time": "2022-06-02T14:25:39.275Z"
   },
   {
    "duration": 4,
    "start_time": "2022-06-02T14:25:48.318Z"
   },
   {
    "duration": 6,
    "start_time": "2022-06-02T14:26:06.233Z"
   },
   {
    "duration": 4,
    "start_time": "2022-06-02T14:26:09.455Z"
   },
   {
    "duration": 78,
    "start_time": "2022-06-02T14:26:14.064Z"
   },
   {
    "duration": 1366,
    "start_time": "2022-06-02T14:27:11.807Z"
   },
   {
    "duration": 3,
    "start_time": "2022-06-02T14:27:15.165Z"
   },
   {
    "duration": 13,
    "start_time": "2022-06-02T14:27:23.835Z"
   },
   {
    "duration": 8,
    "start_time": "2022-06-02T14:27:25.765Z"
   },
   {
    "duration": 19,
    "start_time": "2022-06-02T14:27:51.496Z"
   },
   {
    "duration": 14,
    "start_time": "2022-06-02T14:28:52.014Z"
   },
   {
    "duration": 19,
    "start_time": "2022-06-02T14:29:07.576Z"
   },
   {
    "duration": 12,
    "start_time": "2022-06-02T14:29:32.305Z"
   },
   {
    "duration": 14,
    "start_time": "2022-06-02T14:30:04.313Z"
   },
   {
    "duration": 10,
    "start_time": "2022-06-02T14:30:11.234Z"
   },
   {
    "duration": 3,
    "start_time": "2022-06-02T14:30:56.405Z"
   },
   {
    "duration": 10,
    "start_time": "2022-06-02T14:32:19.526Z"
   },
   {
    "duration": 10,
    "start_time": "2022-06-02T14:34:39.126Z"
   },
   {
    "duration": 9,
    "start_time": "2022-06-02T14:34:44.160Z"
   },
   {
    "duration": 10,
    "start_time": "2022-06-02T14:34:56.536Z"
   },
   {
    "duration": 19,
    "start_time": "2022-06-02T14:35:05.250Z"
   },
   {
    "duration": 12,
    "start_time": "2022-06-02T14:35:12.586Z"
   },
   {
    "duration": 7,
    "start_time": "2022-06-02T14:41:17.698Z"
   },
   {
    "duration": 7,
    "start_time": "2022-06-02T14:41:24.395Z"
   },
   {
    "duration": 14,
    "start_time": "2022-06-02T14:41:33.419Z"
   },
   {
    "duration": 7,
    "start_time": "2022-06-02T14:41:34.716Z"
   },
   {
    "duration": 7,
    "start_time": "2022-06-02T14:41:37.262Z"
   },
   {
    "duration": 6,
    "start_time": "2022-06-02T14:41:54.095Z"
   },
   {
    "duration": 8,
    "start_time": "2022-06-02T14:42:04.695Z"
   },
   {
    "duration": 4,
    "start_time": "2022-06-02T14:47:51.265Z"
   },
   {
    "duration": 9,
    "start_time": "2022-06-02T14:48:07.594Z"
   },
   {
    "duration": 17,
    "start_time": "2022-06-02T14:48:16.827Z"
   },
   {
    "duration": 20,
    "start_time": "2022-06-02T14:48:38.035Z"
   },
   {
    "duration": 16,
    "start_time": "2022-06-02T14:49:22.755Z"
   },
   {
    "duration": 5,
    "start_time": "2022-06-02T14:49:49.390Z"
   },
   {
    "duration": 5,
    "start_time": "2022-06-02T14:50:04.714Z"
   },
   {
    "duration": 16,
    "start_time": "2022-06-02T14:50:26.095Z"
   },
   {
    "duration": 13,
    "start_time": "2022-06-02T14:50:51.627Z"
   },
   {
    "duration": 21,
    "start_time": "2022-06-02T14:53:46.614Z"
   },
   {
    "duration": 8,
    "start_time": "2022-06-02T14:56:54.514Z"
   },
   {
    "duration": 11,
    "start_time": "2022-06-02T14:57:08.164Z"
   },
   {
    "duration": 11,
    "start_time": "2022-06-02T14:57:28.854Z"
   },
   {
    "duration": 12,
    "start_time": "2022-06-02T14:57:46.785Z"
   },
   {
    "duration": 11,
    "start_time": "2022-06-02T14:57:54.753Z"
   },
   {
    "duration": 10,
    "start_time": "2022-06-02T14:58:07.298Z"
   },
   {
    "duration": 9,
    "start_time": "2022-06-02T14:58:48.115Z"
   },
   {
    "duration": 8,
    "start_time": "2022-06-02T14:59:17.789Z"
   },
   {
    "duration": 17,
    "start_time": "2022-06-02T15:00:21.327Z"
   },
   {
    "duration": 28,
    "start_time": "2022-06-02T15:00:39.671Z"
   },
   {
    "duration": 63,
    "start_time": "2022-06-02T15:00:53.414Z"
   },
   {
    "duration": 52,
    "start_time": "2022-06-02T15:01:30.474Z"
   },
   {
    "duration": 48,
    "start_time": "2022-06-02T15:01:48.987Z"
   },
   {
    "duration": 52,
    "start_time": "2022-06-02T15:02:44.416Z"
   },
   {
    "duration": 79,
    "start_time": "2022-06-02T15:04:07.394Z"
   },
   {
    "duration": 62,
    "start_time": "2022-06-02T15:04:17.344Z"
   },
   {
    "duration": 31,
    "start_time": "2022-06-02T15:04:53.173Z"
   },
   {
    "duration": 10,
    "start_time": "2022-06-02T15:05:28.113Z"
   },
   {
    "duration": 3,
    "start_time": "2022-06-02T15:06:26.423Z"
   },
   {
    "duration": 31,
    "start_time": "2022-06-02T15:06:28.982Z"
   },
   {
    "duration": 2575,
    "start_time": "2022-06-02T15:06:51.183Z"
   },
   {
    "duration": 4,
    "start_time": "2022-06-02T15:08:16.796Z"
   },
   {
    "duration": 4,
    "start_time": "2022-06-02T15:08:19.561Z"
   },
   {
    "duration": 21,
    "start_time": "2022-06-02T15:08:23.953Z"
   },
   {
    "duration": 19,
    "start_time": "2022-06-02T15:08:28.421Z"
   },
   {
    "duration": 3330,
    "start_time": "2022-06-02T15:08:50.263Z"
   },
   {
    "duration": 11,
    "start_time": "2022-06-02T15:08:59.523Z"
   },
   {
    "duration": 67,
    "start_time": "2022-06-02T15:09:14.824Z"
   },
   {
    "duration": 1973,
    "start_time": "2022-06-02T15:09:36.324Z"
   },
   {
    "duration": 2816,
    "start_time": "2022-06-02T15:09:38.299Z"
   },
   {
    "duration": 3,
    "start_time": "2022-06-02T15:09:41.117Z"
   },
   {
    "duration": 79,
    "start_time": "2022-06-02T15:09:41.123Z"
   },
   {
    "duration": 15,
    "start_time": "2022-06-02T15:09:41.203Z"
   },
   {
    "duration": 313,
    "start_time": "2022-06-02T15:09:41.219Z"
   },
   {
    "duration": 54,
    "start_time": "2022-06-02T15:09:41.533Z"
   },
   {
    "duration": 18,
    "start_time": "2022-06-02T15:09:41.588Z"
   },
   {
    "duration": 174,
    "start_time": "2022-06-02T15:09:41.607Z"
   },
   {
    "duration": 63,
    "start_time": "2022-06-02T15:09:41.784Z"
   },
   {
    "duration": 28,
    "start_time": "2022-06-02T15:09:41.849Z"
   },
   {
    "duration": 329,
    "start_time": "2022-06-02T15:09:41.879Z"
   },
   {
    "duration": 11,
    "start_time": "2022-06-02T15:09:42.210Z"
   },
   {
    "duration": 24,
    "start_time": "2022-06-02T15:09:42.223Z"
   },
   {
    "duration": 53,
    "start_time": "2022-06-02T15:09:42.250Z"
   },
   {
    "duration": 38,
    "start_time": "2022-06-02T15:09:42.307Z"
   },
   {
    "duration": 41,
    "start_time": "2022-06-02T15:09:42.346Z"
   },
   {
    "duration": 16,
    "start_time": "2022-06-02T15:09:42.389Z"
   },
   {
    "duration": 15,
    "start_time": "2022-06-02T15:09:42.407Z"
   },
   {
    "duration": 51,
    "start_time": "2022-06-02T15:09:42.423Z"
   },
   {
    "duration": 266,
    "start_time": "2022-06-02T15:09:42.475Z"
   },
   {
    "duration": 17,
    "start_time": "2022-06-02T15:09:42.745Z"
   },
   {
    "duration": 19,
    "start_time": "2022-06-02T15:09:42.765Z"
   },
   {
    "duration": 13,
    "start_time": "2022-06-02T15:09:42.786Z"
   },
   {
    "duration": 19,
    "start_time": "2022-06-02T15:09:42.800Z"
   },
   {
    "duration": 20,
    "start_time": "2022-06-02T15:09:42.821Z"
   },
   {
    "duration": 18,
    "start_time": "2022-06-02T15:09:42.842Z"
   },
   {
    "duration": 18,
    "start_time": "2022-06-02T15:09:42.865Z"
   },
   {
    "duration": 25,
    "start_time": "2022-06-02T15:09:42.885Z"
   },
   {
    "duration": 59,
    "start_time": "2022-06-02T15:09:42.911Z"
   },
   {
    "duration": 8,
    "start_time": "2022-06-02T15:10:18.091Z"
   },
   {
    "duration": 130,
    "start_time": "2022-06-02T15:10:35.803Z"
   },
   {
    "duration": 3,
    "start_time": "2022-06-02T15:10:38.393Z"
   },
   {
    "duration": 9,
    "start_time": "2022-06-02T15:10:55.495Z"
   },
   {
    "duration": 6,
    "start_time": "2022-06-02T15:10:59.733Z"
   },
   {
    "duration": 32,
    "start_time": "2022-06-02T15:11:01.874Z"
   },
   {
    "duration": 13,
    "start_time": "2022-06-02T15:11:35.893Z"
   },
   {
    "duration": 12,
    "start_time": "2022-06-02T15:11:46.671Z"
   },
   {
    "duration": 15,
    "start_time": "2022-06-02T15:23:02.699Z"
   },
   {
    "duration": 15,
    "start_time": "2022-06-02T15:23:08.057Z"
   },
   {
    "duration": 15,
    "start_time": "2022-06-02T15:23:15.893Z"
   },
   {
    "duration": 19,
    "start_time": "2022-06-02T15:25:34.929Z"
   },
   {
    "duration": 19,
    "start_time": "2022-06-02T15:25:40.931Z"
   },
   {
    "duration": 43,
    "start_time": "2022-06-02T15:25:52.112Z"
   },
   {
    "duration": 17,
    "start_time": "2022-06-02T15:29:01.697Z"
   },
   {
    "duration": 25,
    "start_time": "2022-06-02T15:29:47.778Z"
   },
   {
    "duration": 141,
    "start_time": "2022-06-02T15:29:54.897Z"
   },
   {
    "duration": 16,
    "start_time": "2022-06-02T15:30:15.089Z"
   },
   {
    "duration": 13,
    "start_time": "2022-06-02T15:30:18.252Z"
   },
   {
    "duration": 23,
    "start_time": "2022-06-02T15:30:21.344Z"
   },
   {
    "duration": 14,
    "start_time": "2022-06-02T15:30:59.371Z"
   },
   {
    "duration": 10,
    "start_time": "2022-06-02T15:31:57.693Z"
   },
   {
    "duration": 681,
    "start_time": "2022-06-02T15:32:12.626Z"
   },
   {
    "duration": 3008,
    "start_time": "2022-06-02T15:32:33.427Z"
   },
   {
    "duration": 315,
    "start_time": "2022-06-02T15:33:09.676Z"
   },
   {
    "duration": 11,
    "start_time": "2022-06-02T15:33:17.134Z"
   },
   {
    "duration": 590,
    "start_time": "2022-06-02T15:33:25.385Z"
   },
   {
    "duration": 14,
    "start_time": "2022-06-02T15:33:31.418Z"
   },
   {
    "duration": 77,
    "start_time": "2022-06-02T15:33:39.732Z"
   },
   {
    "duration": 14,
    "start_time": "2022-06-02T15:34:03.136Z"
   },
   {
    "duration": 19,
    "start_time": "2022-06-02T15:34:08.010Z"
   },
   {
    "duration": 10,
    "start_time": "2022-06-02T15:34:14.159Z"
   },
   {
    "duration": 13,
    "start_time": "2022-06-02T15:34:19.566Z"
   },
   {
    "duration": 13,
    "start_time": "2022-06-02T15:34:28.615Z"
   },
   {
    "duration": 13,
    "start_time": "2022-06-02T15:34:38.852Z"
   },
   {
    "duration": 69,
    "start_time": "2022-06-02T15:34:49.896Z"
   },
   {
    "duration": 13,
    "start_time": "2022-06-02T15:34:55.225Z"
   },
   {
    "duration": 21,
    "start_time": "2022-06-02T15:35:00.205Z"
   },
   {
    "duration": 15,
    "start_time": "2022-06-02T15:35:04.296Z"
   },
   {
    "duration": 11,
    "start_time": "2022-06-02T15:48:15.712Z"
   },
   {
    "duration": 16,
    "start_time": "2022-06-02T15:48:54.853Z"
   },
   {
    "duration": 14,
    "start_time": "2022-06-02T15:51:55.503Z"
   },
   {
    "duration": 435,
    "start_time": "2022-06-02T15:52:13.071Z"
   },
   {
    "duration": 12,
    "start_time": "2022-06-02T15:52:35.843Z"
   },
   {
    "duration": 12,
    "start_time": "2022-06-02T15:52:40.882Z"
   },
   {
    "duration": 20,
    "start_time": "2022-06-02T15:54:09.764Z"
   },
   {
    "duration": 13,
    "start_time": "2022-06-02T15:59:43.521Z"
   },
   {
    "duration": 12,
    "start_time": "2022-06-02T16:00:09.493Z"
   },
   {
    "duration": 73,
    "start_time": "2022-06-02T16:00:24.997Z"
   },
   {
    "duration": 7,
    "start_time": "2022-06-02T16:01:03.383Z"
   },
   {
    "duration": 12,
    "start_time": "2022-06-02T16:01:15.793Z"
   },
   {
    "duration": 6,
    "start_time": "2022-06-02T16:01:23.406Z"
   },
   {
    "duration": 7,
    "start_time": "2022-06-02T16:01:33.423Z"
   },
   {
    "duration": 12,
    "start_time": "2022-06-02T16:01:51.904Z"
   },
   {
    "duration": 34,
    "start_time": "2022-06-02T16:01:56.683Z"
   },
   {
    "duration": 40,
    "start_time": "2022-06-02T16:02:23.284Z"
   },
   {
    "duration": 33,
    "start_time": "2022-06-02T16:02:44.223Z"
   },
   {
    "duration": 86,
    "start_time": "2022-06-02T16:03:48.344Z"
   },
   {
    "duration": 4,
    "start_time": "2022-06-02T16:03:58.583Z"
   },
   {
    "duration": 11,
    "start_time": "2022-06-02T16:04:08.040Z"
   },
   {
    "duration": 87,
    "start_time": "2022-06-02T16:04:41.132Z"
   },
   {
    "duration": 6,
    "start_time": "2022-06-02T16:04:46.486Z"
   },
   {
    "duration": 70,
    "start_time": "2022-06-02T16:04:48.289Z"
   },
   {
    "duration": 1480,
    "start_time": "2022-06-02T16:05:21.365Z"
   },
   {
    "duration": 775,
    "start_time": "2022-06-02T16:05:22.855Z"
   },
   {
    "duration": 3,
    "start_time": "2022-06-02T16:05:23.632Z"
   },
   {
    "duration": 72,
    "start_time": "2022-06-02T16:05:23.644Z"
   },
   {
    "duration": 15,
    "start_time": "2022-06-02T16:05:23.718Z"
   },
   {
    "duration": 321,
    "start_time": "2022-06-02T16:05:23.745Z"
   },
   {
    "duration": 41,
    "start_time": "2022-06-02T16:05:24.068Z"
   },
   {
    "duration": 32,
    "start_time": "2022-06-02T16:05:24.111Z"
   },
   {
    "duration": 165,
    "start_time": "2022-06-02T16:05:24.145Z"
   },
   {
    "duration": 82,
    "start_time": "2022-06-02T16:05:24.313Z"
   },
   {
    "duration": 16,
    "start_time": "2022-06-02T16:05:24.396Z"
   },
   {
    "duration": 338,
    "start_time": "2022-06-02T16:05:24.413Z"
   },
   {
    "duration": 17,
    "start_time": "2022-06-02T16:05:24.753Z"
   },
   {
    "duration": 29,
    "start_time": "2022-06-02T16:05:24.773Z"
   },
   {
    "duration": 13,
    "start_time": "2022-06-02T16:05:24.804Z"
   },
   {
    "duration": 16,
    "start_time": "2022-06-02T16:05:24.819Z"
   },
   {
    "duration": 8,
    "start_time": "2022-06-02T16:05:24.837Z"
   },
   {
    "duration": 21,
    "start_time": "2022-06-02T16:05:24.851Z"
   },
   {
    "duration": 10,
    "start_time": "2022-06-02T16:05:24.874Z"
   },
   {
    "duration": 42,
    "start_time": "2022-06-02T16:05:24.886Z"
   },
   {
    "duration": 242,
    "start_time": "2022-06-02T16:05:24.930Z"
   },
   {
    "duration": 12,
    "start_time": "2022-06-02T16:05:25.174Z"
   },
   {
    "duration": 11,
    "start_time": "2022-06-02T16:05:25.188Z"
   },
   {
    "duration": 9,
    "start_time": "2022-06-02T16:05:25.201Z"
   },
   {
    "duration": 42,
    "start_time": "2022-06-02T16:05:25.212Z"
   },
   {
    "duration": 24,
    "start_time": "2022-06-02T16:05:25.257Z"
   },
   {
    "duration": 11,
    "start_time": "2022-06-02T16:05:25.283Z"
   },
   {
    "duration": 17,
    "start_time": "2022-06-02T16:05:25.299Z"
   },
   {
    "duration": 17,
    "start_time": "2022-06-02T16:05:25.318Z"
   },
   {
    "duration": 36,
    "start_time": "2022-06-02T16:05:25.337Z"
   },
   {
    "duration": 12,
    "start_time": "2022-06-02T16:05:25.374Z"
   },
   {
    "duration": 10,
    "start_time": "2022-06-02T16:05:25.387Z"
   },
   {
    "duration": 109,
    "start_time": "2022-06-02T16:05:25.399Z"
   },
   {
    "duration": 5,
    "start_time": "2022-06-02T16:05:25.510Z"
   },
   {
    "duration": 15,
    "start_time": "2022-06-02T16:05:25.517Z"
   },
   {
    "duration": 16,
    "start_time": "2022-06-02T16:05:25.534Z"
   },
   {
    "duration": 16,
    "start_time": "2022-06-02T16:05:25.552Z"
   },
   {
    "duration": 10,
    "start_time": "2022-06-02T16:05:25.569Z"
   },
   {
    "duration": 32,
    "start_time": "2022-06-02T16:05:25.580Z"
   },
   {
    "duration": 45,
    "start_time": "2022-06-02T16:05:25.614Z"
   },
   {
    "duration": 42,
    "start_time": "2022-06-02T16:05:25.662Z"
   },
   {
    "duration": 16,
    "start_time": "2022-06-02T16:05:25.706Z"
   },
   {
    "duration": 608,
    "start_time": "2022-06-02T16:05:25.724Z"
   },
   {
    "duration": 144,
    "start_time": "2022-06-02T16:05:26.333Z"
   },
   {
    "duration": 8,
    "start_time": "2022-06-02T16:05:26.479Z"
   },
   {
    "duration": 534,
    "start_time": "2022-06-02T16:05:26.489Z"
   },
   {
    "duration": 250,
    "start_time": "2022-06-02T16:05:27.025Z"
   },
   {
    "duration": 8,
    "start_time": "2022-06-02T16:05:27.276Z"
   },
   {
    "duration": 521,
    "start_time": "2022-06-02T16:05:27.285Z"
   },
   {
    "duration": 148,
    "start_time": "2022-06-02T16:05:27.808Z"
   },
   {
    "duration": 397,
    "start_time": "2022-06-02T16:05:27.963Z"
   },
   {
    "duration": 293,
    "start_time": "2022-06-02T16:05:28.362Z"
   },
   {
    "duration": 3,
    "start_time": "2022-06-02T16:05:28.660Z"
   },
   {
    "duration": 35,
    "start_time": "2022-06-02T16:05:28.665Z"
   },
   {
    "duration": 16,
    "start_time": "2022-06-02T16:05:28.701Z"
   },
   {
    "duration": 46,
    "start_time": "2022-06-02T16:05:28.719Z"
   },
   {
    "duration": 320,
    "start_time": "2022-06-02T16:05:28.767Z"
   },
   {
    "duration": 508,
    "start_time": "2022-06-02T16:05:29.089Z"
   },
   {
    "duration": 3,
    "start_time": "2022-06-02T16:05:29.599Z"
   },
   {
    "duration": 25,
    "start_time": "2022-06-02T16:05:29.603Z"
   },
   {
    "duration": 26,
    "start_time": "2022-06-02T16:05:29.629Z"
   },
   {
    "duration": 25,
    "start_time": "2022-06-02T16:05:29.656Z"
   },
   {
    "duration": 19373,
    "start_time": "2022-06-02T16:05:29.682Z"
   },
   {
    "duration": 20011,
    "start_time": "2022-06-02T16:05:49.057Z"
   },
   {
    "duration": 4,
    "start_time": "2022-06-02T16:06:09.070Z"
   },
   {
    "duration": 9637,
    "start_time": "2022-06-02T16:06:09.075Z"
   },
   {
    "duration": 11153,
    "start_time": "2022-06-02T16:06:18.715Z"
   },
   {
    "duration": 4,
    "start_time": "2022-06-02T16:06:29.870Z"
   },
   {
    "duration": 1792,
    "start_time": "2022-06-02T16:06:29.877Z"
   },
   {
    "duration": 1779,
    "start_time": "2022-06-02T16:06:31.672Z"
   },
   {
    "duration": 10,
    "start_time": "2022-06-02T16:06:33.453Z"
   },
   {
    "duration": 2492,
    "start_time": "2022-06-02T16:06:33.470Z"
   },
   {
    "duration": 2878,
    "start_time": "2022-06-02T16:06:35.964Z"
   },
   {
    "duration": 9,
    "start_time": "2022-06-02T16:06:38.844Z"
   },
   {
    "duration": 16,
    "start_time": "2022-06-02T16:06:38.855Z"
   },
   {
    "duration": 13,
    "start_time": "2022-06-02T16:07:57.684Z"
   },
   {
    "duration": 621,
    "start_time": "2022-06-02T16:10:26.516Z"
   },
   {
    "duration": 10,
    "start_time": "2022-06-02T16:10:41.244Z"
   },
   {
    "duration": 10,
    "start_time": "2022-06-02T16:10:48.803Z"
   },
   {
    "duration": 12,
    "start_time": "2022-06-02T16:11:09.832Z"
   },
   {
    "duration": 9,
    "start_time": "2022-06-02T16:11:26.015Z"
   },
   {
    "duration": 358,
    "start_time": "2022-06-02T16:11:28.704Z"
   },
   {
    "duration": 8,
    "start_time": "2022-06-02T16:11:31.924Z"
   },
   {
    "duration": 118,
    "start_time": "2022-06-02T16:11:40.744Z"
   },
   {
    "duration": 583,
    "start_time": "2022-06-02T16:11:50.654Z"
   },
   {
    "duration": 117,
    "start_time": "2022-06-02T16:13:05.383Z"
   },
   {
    "duration": 210,
    "start_time": "2022-06-02T16:13:16.676Z"
   },
   {
    "duration": 73,
    "start_time": "2022-06-02T16:13:30.594Z"
   },
   {
    "duration": 4,
    "start_time": "2022-06-02T16:15:52.388Z"
   },
   {
    "duration": 7087,
    "start_time": "2022-06-02T16:16:00.073Z"
   },
   {
    "duration": 12576,
    "start_time": "2022-06-02T16:16:07.163Z"
   },
   {
    "duration": 4,
    "start_time": "2022-06-02T16:16:22.209Z"
   },
   {
    "duration": 1378,
    "start_time": "2022-06-02T16:16:23.772Z"
   },
   {
    "duration": 1423,
    "start_time": "2022-06-02T16:16:26.423Z"
   },
   {
    "duration": 4,
    "start_time": "2022-06-02T16:16:30.544Z"
   },
   {
    "duration": 1642,
    "start_time": "2022-06-02T16:16:38.573Z"
   },
   {
    "duration": 2730,
    "start_time": "2022-06-02T16:16:40.217Z"
   },
   {
    "duration": 8,
    "start_time": "2022-06-02T16:16:42.949Z"
   },
   {
    "duration": 4,
    "start_time": "2022-06-02T16:17:05.038Z"
   },
   {
    "duration": 3,
    "start_time": "2022-06-02T16:18:22.637Z"
   },
   {
    "duration": 12062,
    "start_time": "2022-06-02T16:18:24.987Z"
   },
   {
    "duration": 12132,
    "start_time": "2022-06-02T16:18:37.052Z"
   },
   {
    "duration": 4,
    "start_time": "2022-06-02T16:18:54.743Z"
   },
   {
    "duration": 2623,
    "start_time": "2022-06-02T16:19:00.804Z"
   },
   {
    "duration": 2668,
    "start_time": "2022-06-02T16:19:03.429Z"
   },
   {
    "duration": 6,
    "start_time": "2022-06-02T16:19:06.098Z"
   },
   {
    "duration": 5,
    "start_time": "2022-06-02T16:19:07.194Z"
   },
   {
    "duration": 2333,
    "start_time": "2022-06-02T16:19:27.252Z"
   },
   {
    "duration": 1607,
    "start_time": "2022-06-02T16:19:29.589Z"
   },
   {
    "duration": 47,
    "start_time": "2022-06-02T16:19:31.199Z"
   },
   {
    "duration": 137,
    "start_time": "2022-06-02T16:19:31.249Z"
   },
   {
    "duration": 18,
    "start_time": "2022-06-02T16:19:31.387Z"
   },
   {
    "duration": 338,
    "start_time": "2022-06-02T16:19:31.407Z"
   },
   {
    "duration": 48,
    "start_time": "2022-06-02T16:19:31.749Z"
   },
   {
    "duration": 33,
    "start_time": "2022-06-02T16:19:31.799Z"
   },
   {
    "duration": 218,
    "start_time": "2022-06-02T16:19:31.835Z"
   },
   {
    "duration": 103,
    "start_time": "2022-06-02T16:19:32.057Z"
   },
   {
    "duration": 22,
    "start_time": "2022-06-02T16:19:32.162Z"
   },
   {
    "duration": 374,
    "start_time": "2022-06-02T16:19:32.186Z"
   },
   {
    "duration": 10,
    "start_time": "2022-06-02T16:19:32.562Z"
   },
   {
    "duration": 21,
    "start_time": "2022-06-02T16:19:32.574Z"
   },
   {
    "duration": 20,
    "start_time": "2022-06-02T16:19:32.597Z"
   },
   {
    "duration": 9,
    "start_time": "2022-06-02T16:19:32.618Z"
   },
   {
    "duration": 15,
    "start_time": "2022-06-02T16:19:32.629Z"
   },
   {
    "duration": 5,
    "start_time": "2022-06-02T16:19:32.646Z"
   },
   {
    "duration": 11,
    "start_time": "2022-06-02T16:19:32.653Z"
   },
   {
    "duration": 31,
    "start_time": "2022-06-02T16:19:32.666Z"
   },
   {
    "duration": 231,
    "start_time": "2022-06-02T16:19:32.698Z"
   },
   {
    "duration": 18,
    "start_time": "2022-06-02T16:19:32.931Z"
   },
   {
    "duration": 10,
    "start_time": "2022-06-02T16:19:32.951Z"
   },
   {
    "duration": 10,
    "start_time": "2022-06-02T16:19:32.963Z"
   },
   {
    "duration": 30,
    "start_time": "2022-06-02T16:19:32.975Z"
   },
   {
    "duration": 11,
    "start_time": "2022-06-02T16:19:33.007Z"
   },
   {
    "duration": 6,
    "start_time": "2022-06-02T16:19:33.020Z"
   },
   {
    "duration": 6,
    "start_time": "2022-06-02T16:19:33.046Z"
   },
   {
    "duration": 19,
    "start_time": "2022-06-02T16:19:33.054Z"
   },
   {
    "duration": 22,
    "start_time": "2022-06-02T16:19:33.075Z"
   },
   {
    "duration": 10,
    "start_time": "2022-06-02T16:19:33.099Z"
   },
   {
    "duration": 284,
    "start_time": "2022-06-02T16:19:33.111Z"
   },
   {
    "duration": 5,
    "start_time": "2022-06-02T16:19:33.397Z"
   },
   {
    "duration": 44,
    "start_time": "2022-06-02T16:19:33.406Z"
   },
   {
    "duration": 20,
    "start_time": "2022-06-02T16:19:33.452Z"
   },
   {
    "duration": 33,
    "start_time": "2022-06-02T16:19:33.474Z"
   },
   {
    "duration": 29,
    "start_time": "2022-06-02T16:19:33.509Z"
   },
   {
    "duration": 50,
    "start_time": "2022-06-02T16:19:33.540Z"
   },
   {
    "duration": 75,
    "start_time": "2022-06-02T16:19:33.592Z"
   },
   {
    "duration": 59,
    "start_time": "2022-06-02T16:19:33.669Z"
   },
   {
    "duration": 15,
    "start_time": "2022-06-02T16:19:33.730Z"
   },
   {
    "duration": 599,
    "start_time": "2022-06-02T16:19:33.747Z"
   },
   {
    "duration": 138,
    "start_time": "2022-06-02T16:19:34.349Z"
   },
   {
    "duration": 8,
    "start_time": "2022-06-02T16:19:34.489Z"
   },
   {
    "duration": 490,
    "start_time": "2022-06-02T16:19:34.499Z"
   },
   {
    "duration": 300,
    "start_time": "2022-06-02T16:19:34.991Z"
   },
   {
    "duration": 10,
    "start_time": "2022-06-02T16:19:35.294Z"
   },
   {
    "duration": 499,
    "start_time": "2022-06-02T16:19:35.306Z"
   },
   {
    "duration": 140,
    "start_time": "2022-06-02T16:19:35.807Z"
   },
   {
    "duration": 428,
    "start_time": "2022-06-02T16:19:35.949Z"
   },
   {
    "duration": 348,
    "start_time": "2022-06-02T16:19:36.379Z"
   },
   {
    "duration": 4,
    "start_time": "2022-06-02T16:19:36.729Z"
   },
   {
    "duration": 17,
    "start_time": "2022-06-02T16:19:36.743Z"
   },
   {
    "duration": 27,
    "start_time": "2022-06-02T16:19:36.762Z"
   },
   {
    "duration": 44,
    "start_time": "2022-06-02T16:19:36.791Z"
   },
   {
    "duration": 360,
    "start_time": "2022-06-02T16:19:36.839Z"
   },
   {
    "duration": 537,
    "start_time": "2022-06-02T16:19:37.200Z"
   },
   {
    "duration": 5,
    "start_time": "2022-06-02T16:19:37.739Z"
   },
   {
    "duration": 26,
    "start_time": "2022-06-02T16:19:37.746Z"
   },
   {
    "duration": 46,
    "start_time": "2022-06-02T16:19:37.775Z"
   },
   {
    "duration": 43,
    "start_time": "2022-06-02T16:19:37.823Z"
   },
   {
    "duration": 12810,
    "start_time": "2022-06-02T16:19:37.869Z"
   },
   {
    "duration": 12005,
    "start_time": "2022-06-02T16:19:50.681Z"
   },
   {
    "duration": 4,
    "start_time": "2022-06-02T16:20:02.688Z"
   },
   {
    "duration": 10889,
    "start_time": "2022-06-02T16:20:02.694Z"
   },
   {
    "duration": 10711,
    "start_time": "2022-06-02T16:20:13.584Z"
   },
   {
    "duration": 4,
    "start_time": "2022-06-02T16:20:24.296Z"
   },
   {
    "duration": 1748,
    "start_time": "2022-06-02T16:20:24.301Z"
   },
   {
    "duration": 1599,
    "start_time": "2022-06-02T16:20:26.052Z"
   },
   {
    "duration": 90,
    "start_time": "2022-06-02T16:20:27.656Z"
   },
   {
    "duration": 2585,
    "start_time": "2022-06-02T16:20:27.748Z"
   },
   {
    "duration": 2853,
    "start_time": "2022-06-02T16:20:30.335Z"
   },
   {
    "duration": 6,
    "start_time": "2022-06-02T16:20:33.190Z"
   },
   {
    "duration": 6,
    "start_time": "2022-06-02T16:20:33.198Z"
   },
   {
    "duration": 3,
    "start_time": "2022-06-02T16:20:58.642Z"
   },
   {
    "duration": 8083,
    "start_time": "2022-06-02T16:21:02.045Z"
   },
   {
    "duration": 7735,
    "start_time": "2022-06-02T16:21:14.571Z"
   }
  ],
  "kernelspec": {
   "display_name": "Python 3",
   "language": "python",
   "name": "python3"
  },
  "language_info": {
   "codemirror_mode": {
    "name": "ipython",
    "version": 3
   },
   "file_extension": ".py",
   "mimetype": "text/x-python",
   "name": "python",
   "nbconvert_exporter": "python",
   "pygments_lexer": "ipython3",
   "version": "3.7.1"
  },
  "toc": {
   "base_numbering": 1,
   "nav_menu": {},
   "number_sections": true,
   "sideBar": true,
   "skip_h1_title": true,
   "title_cell": "Содержание",
   "title_sidebar": "Contents",
   "toc_cell": true,
   "toc_position": {
    "height": "calc(100% - 180px)",
    "left": "10px",
    "top": "150px",
    "width": "165px"
   },
   "toc_section_display": true,
   "toc_window_display": true
  }
 },
 "nbformat": 4,
 "nbformat_minor": 2
}
