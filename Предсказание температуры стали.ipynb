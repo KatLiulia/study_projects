{
 "cells": [
  {
   "cell_type": "markdown",
   "metadata": {},
   "source": [
    "#  Финальный проект. Предсказание температуры стали"
   ]
  },
  {
   "cell_type": "code",
   "execution_count": 1,
   "metadata": {},
   "outputs": [],
   "source": [
    "import pandas as pd\n",
    "import seaborn as sns\n",
    "import matplotlib.pyplot as plt\n",
    "import numpy as np\n",
    "\n",
    "from sklearn.preprocessing import StandardScaler\n",
    "from sklearn.dummy import DummyRegressor\n",
    "\n",
    "from sklearn.model_selection import train_test_split\n",
    "from sklearn.model_selection import GridSearchCV\n",
    "\n",
    "from lightgbm import LGBMRegressor\n",
    "from sklearn.ensemble import RandomForestRegressor\n",
    "\n",
    "from sklearn.metrics import mean_absolute_error\n",
    "from sklearn.metrics import make_scorer"
   ]
  },
  {
   "cell_type": "code",
   "execution_count": 2,
   "metadata": {},
   "outputs": [],
   "source": [
    "r_state = 120922"
   ]
  },
  {
   "cell_type": "markdown",
   "metadata": {},
   "source": [
    "## Описание проекта"
   ]
  },
  {
   "cell_type": "markdown",
   "metadata": {},
   "source": [
    "Чтобы оптимизировать производственные расходы, металлургический комбинат решил уменьшить потребление электроэнергии на этапе обработки стали. Вам предстоит построить модель, которая предскажет температуру стали."
   ]
  },
  {
   "cell_type": "markdown",
   "metadata": {},
   "source": [
    "### Описание этапа обработки\n",
    "\n",
    "Сталь обрабатывают в металлическом ковше вместимостью около 100 тонн. Чтобы ковш выдерживал высокие температуры, изнутри его облицовывают огнеупорным кирпичом. Расплавленную сталь заливают в ковш и подогревают до нужной температуры графитовыми электродами. Они установлены в крышке ковша. \n",
    "\n",
    "Из сплава выводится сера (десульфурация), добавлением примесей корректируется химический состав и отбираются пробы. Сталь легируют — изменяют её состав — подавая куски сплава из бункера для сыпучих материалов или проволоку через специальный трайб-аппарат (англ. tribe, «масса»).\n",
    "\n",
    "Перед тем как первый раз ввести легирующие добавки, измеряют температуру стали и производят её химический анализ. Потом температуру на несколько минут повышают, добавляют легирующие материалы и продувают сплав инертным газом. Затем его перемешивают и снова проводят измерения. Такой цикл повторяется до достижения целевого химического состава и оптимальной температуры плавки.\n",
    "\n",
    "Тогда расплавленная сталь отправляется на доводку металла или поступает в машину непрерывной разливки. Оттуда готовый продукт выходит в виде заготовок-слябов (англ. *slab*, «плита»)."
   ]
  },
  {
   "cell_type": "markdown",
   "metadata": {},
   "source": [
    "### Описание данных\n",
    "\n",
    "Данные состоят из файлов, полученных из разных источников:\n",
    "\n",
    "- `data_arc.csv` — данные об электродах;\n",
    "- `data_bulk.csv` — данные о подаче сыпучих материалов (объём);\n",
    "- `data_bulk_time.csv` *—* данные о подаче сыпучих материалов (время);\n",
    "- `data_gas.csv` — данные о продувке сплава газом;\n",
    "- `data_temp.csv` — результаты измерения температуры;\n",
    "- `data_wire.csv` — данные о проволочных материалах (объём);\n",
    "- `data_wire_time.csv` — данные о проволочных материалах (время).\n",
    "\n",
    "Во всех файлах столбец `key` содержит номер партии. В файлах может быть несколько строк с одинаковым значением `key`: они соответствуют разным итерациям обработки."
   ]
  },
  {
   "cell_type": "code",
   "execution_count": 3,
   "metadata": {},
   "outputs": [],
   "source": [
    "df_arc = pd.read_csv('/datasets/final_steel/data_arc.csv') \n",
    "df_bulk = pd.read_csv('/datasets/final_steel/data_bulk.csv') \n",
    "df_bulk_time = pd.read_csv('/datasets/final_steel/data_bulk_time.csv') \n",
    "df_gas = pd.read_csv('/datasets/final_steel/data_gas.csv')           \n",
    "df_temp = pd.read_csv('/datasets/final_steel/data_temp.csv')\n",
    "df_wire = pd.read_csv('/datasets/final_steel/data_wire.csv')\n",
    "df_wire_time = pd.read_csv('/datasets/final_steel/data_wire_time.csv')"
   ]
  },
  {
   "cell_type": "markdown",
   "metadata": {},
   "source": [
    "## План работы"
   ]
  },
  {
   "cell_type": "markdown",
   "metadata": {},
   "source": [
    "- исследовательский анализ данных;\n",
    "- предобработка данных (обработка аномалий и выбросов, приведение данных к нужному типу); \n",
    "- подготовка данных (объединение таблиц, выделение главных показателей, расчёты);\n",
    "- выбор и обучение модели, подбор параметров;\n",
    "- тестирование модели, сравнение с константной моделью."
   ]
  },
  {
   "cell_type": "markdown",
   "metadata": {},
   "source": [
    "## Исследовательский анализ данных"
   ]
  },
  {
   "cell_type": "markdown",
   "metadata": {},
   "source": [
    "### Данные об электродах"
   ]
  },
  {
   "cell_type": "code",
   "execution_count": 4,
   "metadata": {},
   "outputs": [
    {
     "data": {
      "text/html": [
       "<div>\n",
       "<style scoped>\n",
       "    .dataframe tbody tr th:only-of-type {\n",
       "        vertical-align: middle;\n",
       "    }\n",
       "\n",
       "    .dataframe tbody tr th {\n",
       "        vertical-align: top;\n",
       "    }\n",
       "\n",
       "    .dataframe thead th {\n",
       "        text-align: right;\n",
       "    }\n",
       "</style>\n",
       "<table border=\"1\" class=\"dataframe\">\n",
       "  <thead>\n",
       "    <tr style=\"text-align: right;\">\n",
       "      <th></th>\n",
       "      <th>key</th>\n",
       "      <th>Начало нагрева дугой</th>\n",
       "      <th>Конец нагрева дугой</th>\n",
       "      <th>Активная мощность</th>\n",
       "      <th>Реактивная мощность</th>\n",
       "    </tr>\n",
       "  </thead>\n",
       "  <tbody>\n",
       "    <tr>\n",
       "      <th>0</th>\n",
       "      <td>1</td>\n",
       "      <td>2019-05-03 11:02:14</td>\n",
       "      <td>2019-05-03 11:06:02</td>\n",
       "      <td>0.976059</td>\n",
       "      <td>0.687084</td>\n",
       "    </tr>\n",
       "    <tr>\n",
       "      <th>1</th>\n",
       "      <td>1</td>\n",
       "      <td>2019-05-03 11:07:28</td>\n",
       "      <td>2019-05-03 11:10:33</td>\n",
       "      <td>0.805607</td>\n",
       "      <td>0.520285</td>\n",
       "    </tr>\n",
       "    <tr>\n",
       "      <th>2</th>\n",
       "      <td>1</td>\n",
       "      <td>2019-05-03 11:11:44</td>\n",
       "      <td>2019-05-03 11:14:36</td>\n",
       "      <td>0.744363</td>\n",
       "      <td>0.498805</td>\n",
       "    </tr>\n",
       "    <tr>\n",
       "      <th>3</th>\n",
       "      <td>1</td>\n",
       "      <td>2019-05-03 11:18:14</td>\n",
       "      <td>2019-05-03 11:24:19</td>\n",
       "      <td>1.659363</td>\n",
       "      <td>1.062669</td>\n",
       "    </tr>\n",
       "    <tr>\n",
       "      <th>4</th>\n",
       "      <td>1</td>\n",
       "      <td>2019-05-03 11:26:09</td>\n",
       "      <td>2019-05-03 11:28:37</td>\n",
       "      <td>0.692755</td>\n",
       "      <td>0.414397</td>\n",
       "    </tr>\n",
       "  </tbody>\n",
       "</table>\n",
       "</div>"
      ],
      "text/plain": [
       "   key Начало нагрева дугой  Конец нагрева дугой  Активная мощность  \\\n",
       "0    1  2019-05-03 11:02:14  2019-05-03 11:06:02           0.976059   \n",
       "1    1  2019-05-03 11:07:28  2019-05-03 11:10:33           0.805607   \n",
       "2    1  2019-05-03 11:11:44  2019-05-03 11:14:36           0.744363   \n",
       "3    1  2019-05-03 11:18:14  2019-05-03 11:24:19           1.659363   \n",
       "4    1  2019-05-03 11:26:09  2019-05-03 11:28:37           0.692755   \n",
       "\n",
       "   Реактивная мощность  \n",
       "0             0.687084  \n",
       "1             0.520285  \n",
       "2             0.498805  \n",
       "3             1.062669  \n",
       "4             0.414397  "
      ]
     },
     "execution_count": 4,
     "metadata": {},
     "output_type": "execute_result"
    }
   ],
   "source": [
    "df_arc.head()"
   ]
  },
  {
   "cell_type": "code",
   "execution_count": 5,
   "metadata": {},
   "outputs": [
    {
     "name": "stdout",
     "output_type": "stream",
     "text": [
      "<class 'pandas.core.frame.DataFrame'>\n",
      "RangeIndex: 14876 entries, 0 to 14875\n",
      "Data columns (total 5 columns):\n",
      " #   Column                Non-Null Count  Dtype  \n",
      "---  ------                --------------  -----  \n",
      " 0   key                   14876 non-null  int64  \n",
      " 1   Начало нагрева дугой  14876 non-null  object \n",
      " 2   Конец нагрева дугой   14876 non-null  object \n",
      " 3   Активная мощность     14876 non-null  float64\n",
      " 4   Реактивная мощность   14876 non-null  float64\n",
      "dtypes: float64(2), int64(1), object(2)\n",
      "memory usage: 581.2+ KB\n"
     ]
    }
   ],
   "source": [
    "df_arc.info()"
   ]
  },
  {
   "cell_type": "code",
   "execution_count": 6,
   "metadata": {},
   "outputs": [
    {
     "data": {
      "text/plain": [
       "key                     0.0\n",
       "Начало нагрева дугой    0.0\n",
       "Конец нагрева дугой     0.0\n",
       "Активная мощность       0.0\n",
       "Реактивная мощность     0.0\n",
       "dtype: float64"
      ]
     },
     "execution_count": 6,
     "metadata": {},
     "output_type": "execute_result"
    }
   ],
   "source": [
    "df_arc.isna().mean().sort_values(ascending=False)"
   ]
  },
  {
   "cell_type": "code",
   "execution_count": 7,
   "metadata": {},
   "outputs": [
    {
     "data": {
      "text/html": [
       "<div>\n",
       "<style scoped>\n",
       "    .dataframe tbody tr th:only-of-type {\n",
       "        vertical-align: middle;\n",
       "    }\n",
       "\n",
       "    .dataframe tbody tr th {\n",
       "        vertical-align: top;\n",
       "    }\n",
       "\n",
       "    .dataframe thead th {\n",
       "        text-align: right;\n",
       "    }\n",
       "</style>\n",
       "<table border=\"1\" class=\"dataframe\">\n",
       "  <thead>\n",
       "    <tr style=\"text-align: right;\">\n",
       "      <th></th>\n",
       "      <th>key</th>\n",
       "      <th>Активная мощность</th>\n",
       "      <th>Реактивная мощность</th>\n",
       "    </tr>\n",
       "  </thead>\n",
       "  <tbody>\n",
       "    <tr>\n",
       "      <th>count</th>\n",
       "      <td>14876.000000</td>\n",
       "      <td>14876.000000</td>\n",
       "      <td>14876.000000</td>\n",
       "    </tr>\n",
       "    <tr>\n",
       "      <th>mean</th>\n",
       "      <td>1615.220422</td>\n",
       "      <td>0.670441</td>\n",
       "      <td>0.452592</td>\n",
       "    </tr>\n",
       "    <tr>\n",
       "      <th>std</th>\n",
       "      <td>934.571502</td>\n",
       "      <td>0.408159</td>\n",
       "      <td>5.878702</td>\n",
       "    </tr>\n",
       "    <tr>\n",
       "      <th>min</th>\n",
       "      <td>1.000000</td>\n",
       "      <td>0.030002</td>\n",
       "      <td>-715.504924</td>\n",
       "    </tr>\n",
       "    <tr>\n",
       "      <th>25%</th>\n",
       "      <td>806.000000</td>\n",
       "      <td>0.395297</td>\n",
       "      <td>0.290991</td>\n",
       "    </tr>\n",
       "    <tr>\n",
       "      <th>50%</th>\n",
       "      <td>1617.000000</td>\n",
       "      <td>0.555517</td>\n",
       "      <td>0.415962</td>\n",
       "    </tr>\n",
       "    <tr>\n",
       "      <th>75%</th>\n",
       "      <td>2429.000000</td>\n",
       "      <td>0.857034</td>\n",
       "      <td>0.637371</td>\n",
       "    </tr>\n",
       "    <tr>\n",
       "      <th>max</th>\n",
       "      <td>3241.000000</td>\n",
       "      <td>3.731596</td>\n",
       "      <td>2.676388</td>\n",
       "    </tr>\n",
       "  </tbody>\n",
       "</table>\n",
       "</div>"
      ],
      "text/plain": [
       "                key  Активная мощность  Реактивная мощность\n",
       "count  14876.000000       14876.000000         14876.000000\n",
       "mean    1615.220422           0.670441             0.452592\n",
       "std      934.571502           0.408159             5.878702\n",
       "min        1.000000           0.030002          -715.504924\n",
       "25%      806.000000           0.395297             0.290991\n",
       "50%     1617.000000           0.555517             0.415962\n",
       "75%     2429.000000           0.857034             0.637371\n",
       "max     3241.000000           3.731596             2.676388"
      ]
     },
     "execution_count": 7,
     "metadata": {},
     "output_type": "execute_result"
    }
   ],
   "source": [
    "df_arc.describe()"
   ]
  },
  {
   "cell_type": "code",
   "execution_count": 8,
   "metadata": {},
   "outputs": [
    {
     "data": {
      "text/plain": [
       "<AxesSubplot:ylabel='Frequency'>"
      ]
     },
     "execution_count": 8,
     "metadata": {},
     "output_type": "execute_result"
    },
    {
     "data": {
      "image/png": "[encoded data removed]",
      "text/plain": [
       "<Figure size 720x288 with 1 Axes>"
      ]
     },
     "metadata": {
      "needs_background": "light"
     },
     "output_type": "display_data"
    }
   ],
   "source": [
    "df_arc['Активная мощность'].plot(kind='hist', bins=(50), figsize=(10, 4), grid=True)"
   ]
  },
  {
   "cell_type": "code",
   "execution_count": 9,
   "metadata": {},
   "outputs": [
    {
     "data": {
      "text/plain": [
       "<AxesSubplot:ylabel='Frequency'>"
      ]
     },
     "execution_count": 9,
     "metadata": {},
     "output_type": "execute_result"
    },
    {
     "data": {
      "image/png": "[encoded data removed]",
      "text/plain": [
       "<Figure size 360x216 with 1 Axes>"
      ]
     },
     "metadata": {
      "needs_background": "light"
     },
     "output_type": "display_data"
    }
   ],
   "source": [
    "df_arc['Реактивная мощность'].plot(kind='hist', ylim=(0, 10), bins=(5), figsize=(5, 3), grid=True)"
   ]
  },
  {
   "cell_type": "code",
   "execution_count": 10,
   "metadata": {},
   "outputs": [
    {
     "data": {
      "text/plain": [
       "<AxesSubplot:ylabel='Frequency'>"
      ]
     },
     "execution_count": 10,
     "metadata": {},
     "output_type": "execute_result"
    },
    {
     "data": {
      "image/png": "[encoded data removed]",
      "text/plain": [
       "<Figure size 720x216 with 1 Axes>"
      ]
     },
     "metadata": {
      "needs_background": "light"
     },
     "output_type": "display_data"
    }
   ],
   "source": [
    "df_arc['Реактивная мощность'].plot(kind='hist', xlim=(-2, 4), bins=(5000), figsize=(10, 3), grid=True)"
   ]
  },
  {
   "cell_type": "markdown",
   "metadata": {},
   "source": [
    "- датасет не содержит пропусков;\n",
    "- столбцы со значениями начала и конца нагрева можно перевести в `datetime`;\n",
    "- в столбце `Реактивная мощность` есть аномально низкие значения;"
   ]
  },
  {
   "cell_type": "markdown",
   "metadata": {},
   "source": [
    "### Данные о подаче сыпучих материалов "
   ]
  },
  {
   "cell_type": "code",
   "execution_count": 11,
   "metadata": {},
   "outputs": [
    {
     "data": {
      "text/html": [
       "<div>\n",
       "<style scoped>\n",
       "    .dataframe tbody tr th:only-of-type {\n",
       "        vertical-align: middle;\n",
       "    }\n",
       "\n",
       "    .dataframe tbody tr th {\n",
       "        vertical-align: top;\n",
       "    }\n",
       "\n",
       "    .dataframe thead th {\n",
       "        text-align: right;\n",
       "    }\n",
       "</style>\n",
       "<table border=\"1\" class=\"dataframe\">\n",
       "  <thead>\n",
       "    <tr style=\"text-align: right;\">\n",
       "      <th></th>\n",
       "      <th>key</th>\n",
       "      <th>Bulk 1</th>\n",
       "      <th>Bulk 2</th>\n",
       "      <th>Bulk 3</th>\n",
       "      <th>Bulk 4</th>\n",
       "      <th>Bulk 5</th>\n",
       "      <th>Bulk 6</th>\n",
       "      <th>Bulk 7</th>\n",
       "      <th>Bulk 8</th>\n",
       "      <th>Bulk 9</th>\n",
       "      <th>Bulk 10</th>\n",
       "      <th>Bulk 11</th>\n",
       "      <th>Bulk 12</th>\n",
       "      <th>Bulk 13</th>\n",
       "      <th>Bulk 14</th>\n",
       "      <th>Bulk 15</th>\n",
       "    </tr>\n",
       "  </thead>\n",
       "  <tbody>\n",
       "    <tr>\n",
       "      <th>0</th>\n",
       "      <td>1</td>\n",
       "      <td>NaN</td>\n",
       "      <td>NaN</td>\n",
       "      <td>NaN</td>\n",
       "      <td>43.0</td>\n",
       "      <td>NaN</td>\n",
       "      <td>NaN</td>\n",
       "      <td>NaN</td>\n",
       "      <td>NaN</td>\n",
       "      <td>NaN</td>\n",
       "      <td>NaN</td>\n",
       "      <td>NaN</td>\n",
       "      <td>206.0</td>\n",
       "      <td>NaN</td>\n",
       "      <td>150.0</td>\n",
       "      <td>154.0</td>\n",
       "    </tr>\n",
       "    <tr>\n",
       "      <th>1</th>\n",
       "      <td>2</td>\n",
       "      <td>NaN</td>\n",
       "      <td>NaN</td>\n",
       "      <td>NaN</td>\n",
       "      <td>73.0</td>\n",
       "      <td>NaN</td>\n",
       "      <td>NaN</td>\n",
       "      <td>NaN</td>\n",
       "      <td>NaN</td>\n",
       "      <td>NaN</td>\n",
       "      <td>NaN</td>\n",
       "      <td>NaN</td>\n",
       "      <td>206.0</td>\n",
       "      <td>NaN</td>\n",
       "      <td>149.0</td>\n",
       "      <td>154.0</td>\n",
       "    </tr>\n",
       "    <tr>\n",
       "      <th>2</th>\n",
       "      <td>3</td>\n",
       "      <td>NaN</td>\n",
       "      <td>NaN</td>\n",
       "      <td>NaN</td>\n",
       "      <td>34.0</td>\n",
       "      <td>NaN</td>\n",
       "      <td>NaN</td>\n",
       "      <td>NaN</td>\n",
       "      <td>NaN</td>\n",
       "      <td>NaN</td>\n",
       "      <td>NaN</td>\n",
       "      <td>NaN</td>\n",
       "      <td>205.0</td>\n",
       "      <td>NaN</td>\n",
       "      <td>152.0</td>\n",
       "      <td>153.0</td>\n",
       "    </tr>\n",
       "  </tbody>\n",
       "</table>\n",
       "</div>"
      ],
      "text/plain": [
       "   key  Bulk 1  Bulk 2  Bulk 3  Bulk 4  Bulk 5  Bulk 6  Bulk 7  Bulk 8  \\\n",
       "0    1     NaN     NaN     NaN    43.0     NaN     NaN     NaN     NaN   \n",
       "1    2     NaN     NaN     NaN    73.0     NaN     NaN     NaN     NaN   \n",
       "2    3     NaN     NaN     NaN    34.0     NaN     NaN     NaN     NaN   \n",
       "\n",
       "   Bulk 9  Bulk 10  Bulk 11  Bulk 12  Bulk 13  Bulk 14  Bulk 15  \n",
       "0     NaN      NaN      NaN    206.0      NaN    150.0    154.0  \n",
       "1     NaN      NaN      NaN    206.0      NaN    149.0    154.0  \n",
       "2     NaN      NaN      NaN    205.0      NaN    152.0    153.0  "
      ]
     },
     "execution_count": 11,
     "metadata": {},
     "output_type": "execute_result"
    }
   ],
   "source": [
    "df_bulk.head(3)"
   ]
  },
  {
   "cell_type": "code",
   "execution_count": 12,
   "metadata": {},
   "outputs": [
    {
     "data": {
      "text/html": [
       "<div>\n",
       "<style scoped>\n",
       "    .dataframe tbody tr th:only-of-type {\n",
       "        vertical-align: middle;\n",
       "    }\n",
       "\n",
       "    .dataframe tbody tr th {\n",
       "        vertical-align: top;\n",
       "    }\n",
       "\n",
       "    .dataframe thead th {\n",
       "        text-align: right;\n",
       "    }\n",
       "</style>\n",
       "<table border=\"1\" class=\"dataframe\">\n",
       "  <thead>\n",
       "    <tr style=\"text-align: right;\">\n",
       "      <th></th>\n",
       "      <th>key</th>\n",
       "      <th>Bulk 1</th>\n",
       "      <th>Bulk 2</th>\n",
       "      <th>Bulk 3</th>\n",
       "      <th>Bulk 4</th>\n",
       "      <th>Bulk 5</th>\n",
       "      <th>Bulk 6</th>\n",
       "      <th>Bulk 7</th>\n",
       "      <th>Bulk 8</th>\n",
       "      <th>Bulk 9</th>\n",
       "      <th>Bulk 10</th>\n",
       "      <th>Bulk 11</th>\n",
       "      <th>Bulk 12</th>\n",
       "      <th>Bulk 13</th>\n",
       "      <th>Bulk 14</th>\n",
       "      <th>Bulk 15</th>\n",
       "    </tr>\n",
       "  </thead>\n",
       "  <tbody>\n",
       "    <tr>\n",
       "      <th>0</th>\n",
       "      <td>1</td>\n",
       "      <td>NaN</td>\n",
       "      <td>NaN</td>\n",
       "      <td>NaN</td>\n",
       "      <td>2019-05-03 11:21:30</td>\n",
       "      <td>NaN</td>\n",
       "      <td>NaN</td>\n",
       "      <td>NaN</td>\n",
       "      <td>NaN</td>\n",
       "      <td>NaN</td>\n",
       "      <td>NaN</td>\n",
       "      <td>NaN</td>\n",
       "      <td>2019-05-03 11:03:52</td>\n",
       "      <td>NaN</td>\n",
       "      <td>2019-05-03 11:03:52</td>\n",
       "      <td>2019-05-03 11:03:52</td>\n",
       "    </tr>\n",
       "    <tr>\n",
       "      <th>1</th>\n",
       "      <td>2</td>\n",
       "      <td>NaN</td>\n",
       "      <td>NaN</td>\n",
       "      <td>NaN</td>\n",
       "      <td>2019-05-03 11:46:38</td>\n",
       "      <td>NaN</td>\n",
       "      <td>NaN</td>\n",
       "      <td>NaN</td>\n",
       "      <td>NaN</td>\n",
       "      <td>NaN</td>\n",
       "      <td>NaN</td>\n",
       "      <td>NaN</td>\n",
       "      <td>2019-05-03 11:40:20</td>\n",
       "      <td>NaN</td>\n",
       "      <td>2019-05-03 11:40:20</td>\n",
       "      <td>2019-05-03 11:40:20</td>\n",
       "    </tr>\n",
       "    <tr>\n",
       "      <th>2</th>\n",
       "      <td>3</td>\n",
       "      <td>NaN</td>\n",
       "      <td>NaN</td>\n",
       "      <td>NaN</td>\n",
       "      <td>2019-05-03 12:31:06</td>\n",
       "      <td>NaN</td>\n",
       "      <td>NaN</td>\n",
       "      <td>NaN</td>\n",
       "      <td>NaN</td>\n",
       "      <td>NaN</td>\n",
       "      <td>NaN</td>\n",
       "      <td>NaN</td>\n",
       "      <td>2019-05-03 12:09:40</td>\n",
       "      <td>NaN</td>\n",
       "      <td>2019-05-03 12:09:40</td>\n",
       "      <td>2019-05-03 12:09:40</td>\n",
       "    </tr>\n",
       "  </tbody>\n",
       "</table>\n",
       "</div>"
      ],
      "text/plain": [
       "   key Bulk 1 Bulk 2 Bulk 3               Bulk 4 Bulk 5 Bulk 6 Bulk 7 Bulk 8  \\\n",
       "0    1    NaN    NaN    NaN  2019-05-03 11:21:30    NaN    NaN    NaN    NaN   \n",
       "1    2    NaN    NaN    NaN  2019-05-03 11:46:38    NaN    NaN    NaN    NaN   \n",
       "2    3    NaN    NaN    NaN  2019-05-03 12:31:06    NaN    NaN    NaN    NaN   \n",
       "\n",
       "  Bulk 9 Bulk 10 Bulk 11              Bulk 12 Bulk 13              Bulk 14  \\\n",
       "0    NaN     NaN     NaN  2019-05-03 11:03:52     NaN  2019-05-03 11:03:52   \n",
       "1    NaN     NaN     NaN  2019-05-03 11:40:20     NaN  2019-05-03 11:40:20   \n",
       "2    NaN     NaN     NaN  2019-05-03 12:09:40     NaN  2019-05-03 12:09:40   \n",
       "\n",
       "               Bulk 15  \n",
       "0  2019-05-03 11:03:52  \n",
       "1  2019-05-03 11:40:20  \n",
       "2  2019-05-03 12:09:40  "
      ]
     },
     "execution_count": 12,
     "metadata": {},
     "output_type": "execute_result"
    }
   ],
   "source": [
    "df_bulk_time.head(3)"
   ]
  },
  {
   "cell_type": "code",
   "execution_count": 13,
   "metadata": {},
   "outputs": [
    {
     "name": "stdout",
     "output_type": "stream",
     "text": [
      "<class 'pandas.core.frame.DataFrame'>\n",
      "RangeIndex: 3129 entries, 0 to 3128\n",
      "Data columns (total 16 columns):\n",
      " #   Column   Non-Null Count  Dtype  \n",
      "---  ------   --------------  -----  \n",
      " 0   key      3129 non-null   int64  \n",
      " 1   Bulk 1   252 non-null    float64\n",
      " 2   Bulk 2   22 non-null     float64\n",
      " 3   Bulk 3   1298 non-null   float64\n",
      " 4   Bulk 4   1014 non-null   float64\n",
      " 5   Bulk 5   77 non-null     float64\n",
      " 6   Bulk 6   576 non-null    float64\n",
      " 7   Bulk 7   25 non-null     float64\n",
      " 8   Bulk 8   1 non-null      float64\n",
      " 9   Bulk 9   19 non-null     float64\n",
      " 10  Bulk 10  176 non-null    float64\n",
      " 11  Bulk 11  177 non-null    float64\n",
      " 12  Bulk 12  2450 non-null   float64\n",
      " 13  Bulk 13  18 non-null     float64\n",
      " 14  Bulk 14  2806 non-null   float64\n",
      " 15  Bulk 15  2248 non-null   float64\n",
      "dtypes: float64(15), int64(1)\n",
      "memory usage: 391.2 KB\n"
     ]
    }
   ],
   "source": [
    "df_bulk.info()"
   ]
  },
  {
   "cell_type": "code",
   "execution_count": 14,
   "metadata": {},
   "outputs": [
    {
     "name": "stdout",
     "output_type": "stream",
     "text": [
      "<class 'pandas.core.frame.DataFrame'>\n",
      "RangeIndex: 3129 entries, 0 to 3128\n",
      "Data columns (total 16 columns):\n",
      " #   Column   Non-Null Count  Dtype \n",
      "---  ------   --------------  ----- \n",
      " 0   key      3129 non-null   int64 \n",
      " 1   Bulk 1   252 non-null    object\n",
      " 2   Bulk 2   22 non-null     object\n",
      " 3   Bulk 3   1298 non-null   object\n",
      " 4   Bulk 4   1014 non-null   object\n",
      " 5   Bulk 5   77 non-null     object\n",
      " 6   Bulk 6   576 non-null    object\n",
      " 7   Bulk 7   25 non-null     object\n",
      " 8   Bulk 8   1 non-null      object\n",
      " 9   Bulk 9   19 non-null     object\n",
      " 10  Bulk 10  176 non-null    object\n",
      " 11  Bulk 11  177 non-null    object\n",
      " 12  Bulk 12  2450 non-null   object\n",
      " 13  Bulk 13  18 non-null     object\n",
      " 14  Bulk 14  2806 non-null   object\n",
      " 15  Bulk 15  2248 non-null   object\n",
      "dtypes: int64(1), object(15)\n",
      "memory usage: 391.2+ KB\n"
     ]
    }
   ],
   "source": [
    "df_bulk_time.info()"
   ]
  },
  {
   "cell_type": "code",
   "execution_count": 15,
   "metadata": {},
   "outputs": [
    {
     "data": {
      "text/plain": [
       "Bulk 8     0.999680\n",
       "Bulk 13    0.994247\n",
       "Bulk 9     0.993928\n",
       "Bulk 2     0.992969\n",
       "Bulk 7     0.992010\n",
       "Bulk 5     0.975391\n",
       "Bulk 10    0.943752\n",
       "Bulk 11    0.943432\n",
       "Bulk 1     0.919463\n",
       "Bulk 6     0.815916\n",
       "Bulk 4     0.675935\n",
       "Bulk 3     0.585171\n",
       "Bulk 15    0.281560\n",
       "Bulk 12    0.217002\n",
       "Bulk 14    0.103228\n",
       "key        0.000000\n",
       "dtype: float64"
      ]
     },
     "execution_count": 15,
     "metadata": {},
     "output_type": "execute_result"
    }
   ],
   "source": [
    "df_bulk.isna().mean().sort_values(ascending=False)"
   ]
  },
  {
   "cell_type": "code",
   "execution_count": 16,
   "metadata": {},
   "outputs": [
    {
     "data": {
      "text/plain": [
       "Bulk 8     0.999680\n",
       "Bulk 13    0.994247\n",
       "Bulk 9     0.993928\n",
       "Bulk 2     0.992969\n",
       "Bulk 7     0.992010\n",
       "Bulk 5     0.975391\n",
       "Bulk 10    0.943752\n",
       "Bulk 11    0.943432\n",
       "Bulk 1     0.919463\n",
       "Bulk 6     0.815916\n",
       "Bulk 4     0.675935\n",
       "Bulk 3     0.585171\n",
       "Bulk 15    0.281560\n",
       "Bulk 12    0.217002\n",
       "Bulk 14    0.103228\n",
       "key        0.000000\n",
       "dtype: float64"
      ]
     },
     "execution_count": 16,
     "metadata": {},
     "output_type": "execute_result"
    }
   ],
   "source": [
    "df_bulk_time.isna().mean().sort_values(ascending=False)"
   ]
  },
  {
   "cell_type": "code",
   "execution_count": 17,
   "metadata": {},
   "outputs": [
    {
     "data": {
      "text/html": [
       "<div>\n",
       "<style scoped>\n",
       "    .dataframe tbody tr th:only-of-type {\n",
       "        vertical-align: middle;\n",
       "    }\n",
       "\n",
       "    .dataframe tbody tr th {\n",
       "        vertical-align: top;\n",
       "    }\n",
       "\n",
       "    .dataframe thead th {\n",
       "        text-align: right;\n",
       "    }\n",
       "</style>\n",
       "<table border=\"1\" class=\"dataframe\">\n",
       "  <thead>\n",
       "    <tr style=\"text-align: right;\">\n",
       "      <th></th>\n",
       "      <th>key</th>\n",
       "      <th>Bulk 1</th>\n",
       "      <th>Bulk 2</th>\n",
       "      <th>Bulk 3</th>\n",
       "      <th>Bulk 4</th>\n",
       "      <th>Bulk 5</th>\n",
       "      <th>Bulk 6</th>\n",
       "      <th>Bulk 7</th>\n",
       "      <th>Bulk 8</th>\n",
       "      <th>Bulk 9</th>\n",
       "      <th>Bulk 10</th>\n",
       "      <th>Bulk 11</th>\n",
       "      <th>Bulk 12</th>\n",
       "      <th>Bulk 13</th>\n",
       "      <th>Bulk 14</th>\n",
       "      <th>Bulk 15</th>\n",
       "    </tr>\n",
       "  </thead>\n",
       "  <tbody>\n",
       "    <tr>\n",
       "      <th>count</th>\n",
       "      <td>3129.000000</td>\n",
       "      <td>252.000000</td>\n",
       "      <td>22.000000</td>\n",
       "      <td>1298.000000</td>\n",
       "      <td>1014.000000</td>\n",
       "      <td>77.000000</td>\n",
       "      <td>576.000000</td>\n",
       "      <td>25.000000</td>\n",
       "      <td>1.0</td>\n",
       "      <td>19.000000</td>\n",
       "      <td>176.000000</td>\n",
       "      <td>177.000000</td>\n",
       "      <td>2450.000000</td>\n",
       "      <td>18.000000</td>\n",
       "      <td>2806.000000</td>\n",
       "      <td>2248.000000</td>\n",
       "    </tr>\n",
       "    <tr>\n",
       "      <th>mean</th>\n",
       "      <td>1624.383509</td>\n",
       "      <td>39.242063</td>\n",
       "      <td>253.045455</td>\n",
       "      <td>113.879045</td>\n",
       "      <td>104.394477</td>\n",
       "      <td>107.025974</td>\n",
       "      <td>118.925347</td>\n",
       "      <td>305.600000</td>\n",
       "      <td>49.0</td>\n",
       "      <td>76.315789</td>\n",
       "      <td>83.284091</td>\n",
       "      <td>76.819209</td>\n",
       "      <td>260.471020</td>\n",
       "      <td>181.111111</td>\n",
       "      <td>170.284747</td>\n",
       "      <td>160.513345</td>\n",
       "    </tr>\n",
       "    <tr>\n",
       "      <th>std</th>\n",
       "      <td>933.337642</td>\n",
       "      <td>18.277654</td>\n",
       "      <td>21.180578</td>\n",
       "      <td>75.483494</td>\n",
       "      <td>48.184126</td>\n",
       "      <td>81.790646</td>\n",
       "      <td>72.057776</td>\n",
       "      <td>191.022904</td>\n",
       "      <td>NaN</td>\n",
       "      <td>21.720581</td>\n",
       "      <td>26.060347</td>\n",
       "      <td>59.655365</td>\n",
       "      <td>120.649269</td>\n",
       "      <td>46.088009</td>\n",
       "      <td>65.868652</td>\n",
       "      <td>51.765319</td>\n",
       "    </tr>\n",
       "    <tr>\n",
       "      <th>min</th>\n",
       "      <td>1.000000</td>\n",
       "      <td>10.000000</td>\n",
       "      <td>228.000000</td>\n",
       "      <td>6.000000</td>\n",
       "      <td>12.000000</td>\n",
       "      <td>11.000000</td>\n",
       "      <td>17.000000</td>\n",
       "      <td>47.000000</td>\n",
       "      <td>49.0</td>\n",
       "      <td>63.000000</td>\n",
       "      <td>24.000000</td>\n",
       "      <td>8.000000</td>\n",
       "      <td>53.000000</td>\n",
       "      <td>151.000000</td>\n",
       "      <td>16.000000</td>\n",
       "      <td>1.000000</td>\n",
       "    </tr>\n",
       "    <tr>\n",
       "      <th>25%</th>\n",
       "      <td>816.000000</td>\n",
       "      <td>27.000000</td>\n",
       "      <td>242.000000</td>\n",
       "      <td>58.000000</td>\n",
       "      <td>72.000000</td>\n",
       "      <td>70.000000</td>\n",
       "      <td>69.750000</td>\n",
       "      <td>155.000000</td>\n",
       "      <td>49.0</td>\n",
       "      <td>66.000000</td>\n",
       "      <td>64.000000</td>\n",
       "      <td>25.000000</td>\n",
       "      <td>204.000000</td>\n",
       "      <td>153.250000</td>\n",
       "      <td>119.000000</td>\n",
       "      <td>105.000000</td>\n",
       "    </tr>\n",
       "    <tr>\n",
       "      <th>50%</th>\n",
       "      <td>1622.000000</td>\n",
       "      <td>31.000000</td>\n",
       "      <td>251.500000</td>\n",
       "      <td>97.500000</td>\n",
       "      <td>102.000000</td>\n",
       "      <td>86.000000</td>\n",
       "      <td>100.000000</td>\n",
       "      <td>298.000000</td>\n",
       "      <td>49.0</td>\n",
       "      <td>68.000000</td>\n",
       "      <td>86.500000</td>\n",
       "      <td>64.000000</td>\n",
       "      <td>208.000000</td>\n",
       "      <td>155.500000</td>\n",
       "      <td>151.000000</td>\n",
       "      <td>160.000000</td>\n",
       "    </tr>\n",
       "    <tr>\n",
       "      <th>75%</th>\n",
       "      <td>2431.000000</td>\n",
       "      <td>46.000000</td>\n",
       "      <td>257.750000</td>\n",
       "      <td>152.000000</td>\n",
       "      <td>133.000000</td>\n",
       "      <td>132.000000</td>\n",
       "      <td>157.000000</td>\n",
       "      <td>406.000000</td>\n",
       "      <td>49.0</td>\n",
       "      <td>70.500000</td>\n",
       "      <td>102.000000</td>\n",
       "      <td>106.000000</td>\n",
       "      <td>316.000000</td>\n",
       "      <td>203.500000</td>\n",
       "      <td>205.750000</td>\n",
       "      <td>205.000000</td>\n",
       "    </tr>\n",
       "    <tr>\n",
       "      <th>max</th>\n",
       "      <td>3241.000000</td>\n",
       "      <td>185.000000</td>\n",
       "      <td>325.000000</td>\n",
       "      <td>454.000000</td>\n",
       "      <td>281.000000</td>\n",
       "      <td>603.000000</td>\n",
       "      <td>503.000000</td>\n",
       "      <td>772.000000</td>\n",
       "      <td>49.0</td>\n",
       "      <td>147.000000</td>\n",
       "      <td>159.000000</td>\n",
       "      <td>313.000000</td>\n",
       "      <td>1849.000000</td>\n",
       "      <td>305.000000</td>\n",
       "      <td>636.000000</td>\n",
       "      <td>405.000000</td>\n",
       "    </tr>\n",
       "  </tbody>\n",
       "</table>\n",
       "</div>"
      ],
      "text/plain": [
       "               key      Bulk 1      Bulk 2       Bulk 3       Bulk 4  \\\n",
       "count  3129.000000  252.000000   22.000000  1298.000000  1014.000000   \n",
       "mean   1624.383509   39.242063  253.045455   113.879045   104.394477   \n",
       "std     933.337642   18.277654   21.180578    75.483494    48.184126   \n",
       "min       1.000000   10.000000  228.000000     6.000000    12.000000   \n",
       "25%     816.000000   27.000000  242.000000    58.000000    72.000000   \n",
       "50%    1622.000000   31.000000  251.500000    97.500000   102.000000   \n",
       "75%    2431.000000   46.000000  257.750000   152.000000   133.000000   \n",
       "max    3241.000000  185.000000  325.000000   454.000000   281.000000   \n",
       "\n",
       "           Bulk 5      Bulk 6      Bulk 7  Bulk 8      Bulk 9     Bulk 10  \\\n",
       "count   77.000000  576.000000   25.000000     1.0   19.000000  176.000000   \n",
       "mean   107.025974  118.925347  305.600000    49.0   76.315789   83.284091   \n",
       "std     81.790646   72.057776  191.022904     NaN   21.720581   26.060347   \n",
       "min     11.000000   17.000000   47.000000    49.0   63.000000   24.000000   \n",
       "25%     70.000000   69.750000  155.000000    49.0   66.000000   64.000000   \n",
       "50%     86.000000  100.000000  298.000000    49.0   68.000000   86.500000   \n",
       "75%    132.000000  157.000000  406.000000    49.0   70.500000  102.000000   \n",
       "max    603.000000  503.000000  772.000000    49.0  147.000000  159.000000   \n",
       "\n",
       "          Bulk 11      Bulk 12     Bulk 13      Bulk 14      Bulk 15  \n",
       "count  177.000000  2450.000000   18.000000  2806.000000  2248.000000  \n",
       "mean    76.819209   260.471020  181.111111   170.284747   160.513345  \n",
       "std     59.655365   120.649269   46.088009    65.868652    51.765319  \n",
       "min      8.000000    53.000000  151.000000    16.000000     1.000000  \n",
       "25%     25.000000   204.000000  153.250000   119.000000   105.000000  \n",
       "50%     64.000000   208.000000  155.500000   151.000000   160.000000  \n",
       "75%    106.000000   316.000000  203.500000   205.750000   205.000000  \n",
       "max    313.000000  1849.000000  305.000000   636.000000   405.000000  "
      ]
     },
     "execution_count": 17,
     "metadata": {},
     "output_type": "execute_result"
    }
   ],
   "source": [
    "df_bulk.describe()"
   ]
  },
  {
   "cell_type": "markdown",
   "metadata": {},
   "source": [
    "- в таблице много пропущенных значений - заменим на 0;\n",
    "- количество пропущенных значений в `df_bulk` и `df_bulk_time` одинаковое;\n",
    "- столбцы со значениями времени можно перевести в `datetime`."
   ]
  },
  {
   "cell_type": "markdown",
   "metadata": {},
   "source": [
    "### Данные о продувке сплава газом"
   ]
  },
  {
   "cell_type": "code",
   "execution_count": 18,
   "metadata": {},
   "outputs": [
    {
     "data": {
      "text/html": [
       "<div>\n",
       "<style scoped>\n",
       "    .dataframe tbody tr th:only-of-type {\n",
       "        vertical-align: middle;\n",
       "    }\n",
       "\n",
       "    .dataframe tbody tr th {\n",
       "        vertical-align: top;\n",
       "    }\n",
       "\n",
       "    .dataframe thead th {\n",
       "        text-align: right;\n",
       "    }\n",
       "</style>\n",
       "<table border=\"1\" class=\"dataframe\">\n",
       "  <thead>\n",
       "    <tr style=\"text-align: right;\">\n",
       "      <th></th>\n",
       "      <th>key</th>\n",
       "      <th>Газ 1</th>\n",
       "    </tr>\n",
       "  </thead>\n",
       "  <tbody>\n",
       "    <tr>\n",
       "      <th>0</th>\n",
       "      <td>1</td>\n",
       "      <td>29.749986</td>\n",
       "    </tr>\n",
       "    <tr>\n",
       "      <th>1</th>\n",
       "      <td>2</td>\n",
       "      <td>12.555561</td>\n",
       "    </tr>\n",
       "    <tr>\n",
       "      <th>2</th>\n",
       "      <td>3</td>\n",
       "      <td>28.554793</td>\n",
       "    </tr>\n",
       "  </tbody>\n",
       "</table>\n",
       "</div>"
      ],
      "text/plain": [
       "   key      Газ 1\n",
       "0    1  29.749986\n",
       "1    2  12.555561\n",
       "2    3  28.554793"
      ]
     },
     "execution_count": 18,
     "metadata": {},
     "output_type": "execute_result"
    }
   ],
   "source": [
    "df_gas.head(3)"
   ]
  },
  {
   "cell_type": "code",
   "execution_count": 19,
   "metadata": {},
   "outputs": [
    {
     "name": "stdout",
     "output_type": "stream",
     "text": [
      "<class 'pandas.core.frame.DataFrame'>\n",
      "RangeIndex: 3239 entries, 0 to 3238\n",
      "Data columns (total 2 columns):\n",
      " #   Column  Non-Null Count  Dtype  \n",
      "---  ------  --------------  -----  \n",
      " 0   key     3239 non-null   int64  \n",
      " 1   Газ 1   3239 non-null   float64\n",
      "dtypes: float64(1), int64(1)\n",
      "memory usage: 50.7 KB\n"
     ]
    }
   ],
   "source": [
    "df_gas.info()"
   ]
  },
  {
   "cell_type": "code",
   "execution_count": 20,
   "metadata": {},
   "outputs": [
    {
     "data": {
      "text/plain": [
       "key      0.0\n",
       "Газ 1    0.0\n",
       "dtype: float64"
      ]
     },
     "execution_count": 20,
     "metadata": {},
     "output_type": "execute_result"
    }
   ],
   "source": [
    "df_gas.isna().mean().sort_values(ascending=False)"
   ]
  },
  {
   "cell_type": "code",
   "execution_count": 21,
   "metadata": {},
   "outputs": [
    {
     "data": {
      "text/html": [
       "<div>\n",
       "<style scoped>\n",
       "    .dataframe tbody tr th:only-of-type {\n",
       "        vertical-align: middle;\n",
       "    }\n",
       "\n",
       "    .dataframe tbody tr th {\n",
       "        vertical-align: top;\n",
       "    }\n",
       "\n",
       "    .dataframe thead th {\n",
       "        text-align: right;\n",
       "    }\n",
       "</style>\n",
       "<table border=\"1\" class=\"dataframe\">\n",
       "  <thead>\n",
       "    <tr style=\"text-align: right;\">\n",
       "      <th></th>\n",
       "      <th>key</th>\n",
       "      <th>Газ 1</th>\n",
       "    </tr>\n",
       "  </thead>\n",
       "  <tbody>\n",
       "    <tr>\n",
       "      <th>count</th>\n",
       "      <td>3239.000000</td>\n",
       "      <td>3239.000000</td>\n",
       "    </tr>\n",
       "    <tr>\n",
       "      <th>mean</th>\n",
       "      <td>1621.861377</td>\n",
       "      <td>11.002062</td>\n",
       "    </tr>\n",
       "    <tr>\n",
       "      <th>std</th>\n",
       "      <td>935.386334</td>\n",
       "      <td>6.220327</td>\n",
       "    </tr>\n",
       "    <tr>\n",
       "      <th>min</th>\n",
       "      <td>1.000000</td>\n",
       "      <td>0.008399</td>\n",
       "    </tr>\n",
       "    <tr>\n",
       "      <th>25%</th>\n",
       "      <td>812.500000</td>\n",
       "      <td>7.043089</td>\n",
       "    </tr>\n",
       "    <tr>\n",
       "      <th>50%</th>\n",
       "      <td>1622.000000</td>\n",
       "      <td>9.836267</td>\n",
       "    </tr>\n",
       "    <tr>\n",
       "      <th>75%</th>\n",
       "      <td>2431.500000</td>\n",
       "      <td>13.769915</td>\n",
       "    </tr>\n",
       "    <tr>\n",
       "      <th>max</th>\n",
       "      <td>3241.000000</td>\n",
       "      <td>77.995040</td>\n",
       "    </tr>\n",
       "  </tbody>\n",
       "</table>\n",
       "</div>"
      ],
      "text/plain": [
       "               key        Газ 1\n",
       "count  3239.000000  3239.000000\n",
       "mean   1621.861377    11.002062\n",
       "std     935.386334     6.220327\n",
       "min       1.000000     0.008399\n",
       "25%     812.500000     7.043089\n",
       "50%    1622.000000     9.836267\n",
       "75%    2431.500000    13.769915\n",
       "max    3241.000000    77.995040"
      ]
     },
     "execution_count": 21,
     "metadata": {},
     "output_type": "execute_result"
    }
   ],
   "source": [
    "df_gas.describe()"
   ]
  },
  {
   "cell_type": "code",
   "execution_count": 22,
   "metadata": {},
   "outputs": [
    {
     "data": {
      "text/plain": [
       "<AxesSubplot:ylabel='Frequency'>"
      ]
     },
     "execution_count": 22,
     "metadata": {},
     "output_type": "execute_result"
    },
    {
     "data": {
      "image/png": "[encoded data removed]",
      "text/plain": [
       "<Figure size 1080x360 with 1 Axes>"
      ]
     },
     "metadata": {
      "needs_background": "light"
     },
     "output_type": "display_data"
    }
   ],
   "source": [
    "df_gas['Газ 1'].plot(kind='hist', bins=(200), figsize=(15, 5), grid=True)"
   ]
  },
  {
   "cell_type": "markdown",
   "metadata": {},
   "source": [
    "- датасет не содержит пропусков;\n",
    "- распределение близко к нормальному;\n",
    "- возможно, есть небольшое количество выбросов."
   ]
  },
  {
   "cell_type": "markdown",
   "metadata": {},
   "source": [
    "### Результаты измерения температуры"
   ]
  },
  {
   "cell_type": "code",
   "execution_count": 23,
   "metadata": {},
   "outputs": [
    {
     "data": {
      "text/html": [
       "<div>\n",
       "<style scoped>\n",
       "    .dataframe tbody tr th:only-of-type {\n",
       "        vertical-align: middle;\n",
       "    }\n",
       "\n",
       "    .dataframe tbody tr th {\n",
       "        vertical-align: top;\n",
       "    }\n",
       "\n",
       "    .dataframe thead th {\n",
       "        text-align: right;\n",
       "    }\n",
       "</style>\n",
       "<table border=\"1\" class=\"dataframe\">\n",
       "  <thead>\n",
       "    <tr style=\"text-align: right;\">\n",
       "      <th></th>\n",
       "      <th>key</th>\n",
       "      <th>Время замера</th>\n",
       "      <th>Температура</th>\n",
       "    </tr>\n",
       "  </thead>\n",
       "  <tbody>\n",
       "    <tr>\n",
       "      <th>0</th>\n",
       "      <td>1</td>\n",
       "      <td>2019-05-03 11:16:18</td>\n",
       "      <td>1571.0</td>\n",
       "    </tr>\n",
       "    <tr>\n",
       "      <th>1</th>\n",
       "      <td>1</td>\n",
       "      <td>2019-05-03 11:25:53</td>\n",
       "      <td>1604.0</td>\n",
       "    </tr>\n",
       "    <tr>\n",
       "      <th>2</th>\n",
       "      <td>1</td>\n",
       "      <td>2019-05-03 11:29:11</td>\n",
       "      <td>1618.0</td>\n",
       "    </tr>\n",
       "  </tbody>\n",
       "</table>\n",
       "</div>"
      ],
      "text/plain": [
       "   key         Время замера  Температура\n",
       "0    1  2019-05-03 11:16:18       1571.0\n",
       "1    1  2019-05-03 11:25:53       1604.0\n",
       "2    1  2019-05-03 11:29:11       1618.0"
      ]
     },
     "execution_count": 23,
     "metadata": {},
     "output_type": "execute_result"
    }
   ],
   "source": [
    "df_temp.head(3)"
   ]
  },
  {
   "cell_type": "code",
   "execution_count": 24,
   "metadata": {},
   "outputs": [
    {
     "name": "stdout",
     "output_type": "stream",
     "text": [
      "<class 'pandas.core.frame.DataFrame'>\n",
      "RangeIndex: 15907 entries, 0 to 15906\n",
      "Data columns (total 3 columns):\n",
      " #   Column        Non-Null Count  Dtype  \n",
      "---  ------        --------------  -----  \n",
      " 0   key           15907 non-null  int64  \n",
      " 1   Время замера  15907 non-null  object \n",
      " 2   Температура   13006 non-null  float64\n",
      "dtypes: float64(1), int64(1), object(1)\n",
      "memory usage: 372.9+ KB\n"
     ]
    }
   ],
   "source": [
    "df_temp.info()"
   ]
  },
  {
   "cell_type": "code",
   "execution_count": 25,
   "metadata": {},
   "outputs": [
    {
     "data": {
      "text/plain": [
       "Температура     0.182373\n",
       "key             0.000000\n",
       "Время замера    0.000000\n",
       "dtype: float64"
      ]
     },
     "execution_count": 25,
     "metadata": {},
     "output_type": "execute_result"
    }
   ],
   "source": [
    "df_temp.isna().mean().sort_values(ascending=False)"
   ]
  },
  {
   "cell_type": "code",
   "execution_count": 26,
   "metadata": {},
   "outputs": [
    {
     "data": {
      "text/html": [
       "<div>\n",
       "<style scoped>\n",
       "    .dataframe tbody tr th:only-of-type {\n",
       "        vertical-align: middle;\n",
       "    }\n",
       "\n",
       "    .dataframe tbody tr th {\n",
       "        vertical-align: top;\n",
       "    }\n",
       "\n",
       "    .dataframe thead th {\n",
       "        text-align: right;\n",
       "    }\n",
       "</style>\n",
       "<table border=\"1\" class=\"dataframe\">\n",
       "  <thead>\n",
       "    <tr style=\"text-align: right;\">\n",
       "      <th></th>\n",
       "      <th>key</th>\n",
       "      <th>Температура</th>\n",
       "    </tr>\n",
       "  </thead>\n",
       "  <tbody>\n",
       "    <tr>\n",
       "      <th>count</th>\n",
       "      <td>15907.000000</td>\n",
       "      <td>13006.000000</td>\n",
       "    </tr>\n",
       "    <tr>\n",
       "      <th>mean</th>\n",
       "      <td>1607.880870</td>\n",
       "      <td>1591.840920</td>\n",
       "    </tr>\n",
       "    <tr>\n",
       "      <th>std</th>\n",
       "      <td>942.212073</td>\n",
       "      <td>21.375851</td>\n",
       "    </tr>\n",
       "    <tr>\n",
       "      <th>min</th>\n",
       "      <td>1.000000</td>\n",
       "      <td>1191.000000</td>\n",
       "    </tr>\n",
       "    <tr>\n",
       "      <th>25%</th>\n",
       "      <td>790.000000</td>\n",
       "      <td>1581.000000</td>\n",
       "    </tr>\n",
       "    <tr>\n",
       "      <th>50%</th>\n",
       "      <td>1618.000000</td>\n",
       "      <td>1591.000000</td>\n",
       "    </tr>\n",
       "    <tr>\n",
       "      <th>75%</th>\n",
       "      <td>2427.000000</td>\n",
       "      <td>1601.000000</td>\n",
       "    </tr>\n",
       "    <tr>\n",
       "      <th>max</th>\n",
       "      <td>3241.000000</td>\n",
       "      <td>1705.000000</td>\n",
       "    </tr>\n",
       "  </tbody>\n",
       "</table>\n",
       "</div>"
      ],
      "text/plain": [
       "                key   Температура\n",
       "count  15907.000000  13006.000000\n",
       "mean    1607.880870   1591.840920\n",
       "std      942.212073     21.375851\n",
       "min        1.000000   1191.000000\n",
       "25%      790.000000   1581.000000\n",
       "50%     1618.000000   1591.000000\n",
       "75%     2427.000000   1601.000000\n",
       "max     3241.000000   1705.000000"
      ]
     },
     "execution_count": 26,
     "metadata": {},
     "output_type": "execute_result"
    }
   ],
   "source": [
    "df_temp.describe()"
   ]
  },
  {
   "cell_type": "code",
   "execution_count": 27,
   "metadata": {},
   "outputs": [
    {
     "data": {
      "text/plain": [
       "<AxesSubplot:ylabel='Frequency'>"
      ]
     },
     "execution_count": 27,
     "metadata": {},
     "output_type": "execute_result"
    },
    {
     "data": {
      "image/png": "[encoded data removed]",
      "text/plain": [
       "<Figure size 1080x360 with 1 Axes>"
      ]
     },
     "metadata": {
      "needs_background": "light"
     },
     "output_type": "display_data"
    }
   ],
   "source": [
    "df_temp['Температура'].plot(kind='hist', bins=(200), figsize=(15, 5), grid=True)"
   ]
  },
  {
   "cell_type": "markdown",
   "metadata": {},
   "source": [
    "- датасет содержит 18% пропусков в столбце с температурой;\n",
    "- столбец со значением времени замера можно перевести в `datetime`.\n",
    "- распределение близко к нормальному;\n",
    "- возможно, есть небольшое количество выбросов (низкая температура)."
   ]
  },
  {
   "cell_type": "markdown",
   "metadata": {},
   "source": [
    "### Данные о проволочных материалах"
   ]
  },
  {
   "cell_type": "code",
   "execution_count": 28,
   "metadata": {},
   "outputs": [
    {
     "data": {
      "text/html": [
       "<div>\n",
       "<style scoped>\n",
       "    .dataframe tbody tr th:only-of-type {\n",
       "        vertical-align: middle;\n",
       "    }\n",
       "\n",
       "    .dataframe tbody tr th {\n",
       "        vertical-align: top;\n",
       "    }\n",
       "\n",
       "    .dataframe thead th {\n",
       "        text-align: right;\n",
       "    }\n",
       "</style>\n",
       "<table border=\"1\" class=\"dataframe\">\n",
       "  <thead>\n",
       "    <tr style=\"text-align: right;\">\n",
       "      <th></th>\n",
       "      <th>key</th>\n",
       "      <th>Wire 1</th>\n",
       "      <th>Wire 2</th>\n",
       "      <th>Wire 3</th>\n",
       "      <th>Wire 4</th>\n",
       "      <th>Wire 5</th>\n",
       "      <th>Wire 6</th>\n",
       "      <th>Wire 7</th>\n",
       "      <th>Wire 8</th>\n",
       "      <th>Wire 9</th>\n",
       "    </tr>\n",
       "  </thead>\n",
       "  <tbody>\n",
       "    <tr>\n",
       "      <th>0</th>\n",
       "      <td>1</td>\n",
       "      <td>60.059998</td>\n",
       "      <td>NaN</td>\n",
       "      <td>NaN</td>\n",
       "      <td>NaN</td>\n",
       "      <td>NaN</td>\n",
       "      <td>NaN</td>\n",
       "      <td>NaN</td>\n",
       "      <td>NaN</td>\n",
       "      <td>NaN</td>\n",
       "    </tr>\n",
       "    <tr>\n",
       "      <th>1</th>\n",
       "      <td>2</td>\n",
       "      <td>96.052315</td>\n",
       "      <td>NaN</td>\n",
       "      <td>NaN</td>\n",
       "      <td>NaN</td>\n",
       "      <td>NaN</td>\n",
       "      <td>NaN</td>\n",
       "      <td>NaN</td>\n",
       "      <td>NaN</td>\n",
       "      <td>NaN</td>\n",
       "    </tr>\n",
       "    <tr>\n",
       "      <th>2</th>\n",
       "      <td>3</td>\n",
       "      <td>91.160157</td>\n",
       "      <td>NaN</td>\n",
       "      <td>NaN</td>\n",
       "      <td>NaN</td>\n",
       "      <td>NaN</td>\n",
       "      <td>NaN</td>\n",
       "      <td>NaN</td>\n",
       "      <td>NaN</td>\n",
       "      <td>NaN</td>\n",
       "    </tr>\n",
       "  </tbody>\n",
       "</table>\n",
       "</div>"
      ],
      "text/plain": [
       "   key     Wire 1  Wire 2  Wire 3  Wire 4  Wire 5  Wire 6  Wire 7  Wire 8  \\\n",
       "0    1  60.059998     NaN     NaN     NaN     NaN     NaN     NaN     NaN   \n",
       "1    2  96.052315     NaN     NaN     NaN     NaN     NaN     NaN     NaN   \n",
       "2    3  91.160157     NaN     NaN     NaN     NaN     NaN     NaN     NaN   \n",
       "\n",
       "   Wire 9  \n",
       "0     NaN  \n",
       "1     NaN  \n",
       "2     NaN  "
      ]
     },
     "execution_count": 28,
     "metadata": {},
     "output_type": "execute_result"
    }
   ],
   "source": [
    "df_wire.head(3)"
   ]
  },
  {
   "cell_type": "code",
   "execution_count": 29,
   "metadata": {},
   "outputs": [
    {
     "data": {
      "text/html": [
       "<div>\n",
       "<style scoped>\n",
       "    .dataframe tbody tr th:only-of-type {\n",
       "        vertical-align: middle;\n",
       "    }\n",
       "\n",
       "    .dataframe tbody tr th {\n",
       "        vertical-align: top;\n",
       "    }\n",
       "\n",
       "    .dataframe thead th {\n",
       "        text-align: right;\n",
       "    }\n",
       "</style>\n",
       "<table border=\"1\" class=\"dataframe\">\n",
       "  <thead>\n",
       "    <tr style=\"text-align: right;\">\n",
       "      <th></th>\n",
       "      <th>key</th>\n",
       "      <th>Wire 1</th>\n",
       "      <th>Wire 2</th>\n",
       "      <th>Wire 3</th>\n",
       "      <th>Wire 4</th>\n",
       "      <th>Wire 5</th>\n",
       "      <th>Wire 6</th>\n",
       "      <th>Wire 7</th>\n",
       "      <th>Wire 8</th>\n",
       "      <th>Wire 9</th>\n",
       "    </tr>\n",
       "  </thead>\n",
       "  <tbody>\n",
       "    <tr>\n",
       "      <th>0</th>\n",
       "      <td>1</td>\n",
       "      <td>2019-05-03 11:11:41</td>\n",
       "      <td>NaN</td>\n",
       "      <td>NaN</td>\n",
       "      <td>NaN</td>\n",
       "      <td>NaN</td>\n",
       "      <td>NaN</td>\n",
       "      <td>NaN</td>\n",
       "      <td>NaN</td>\n",
       "      <td>NaN</td>\n",
       "    </tr>\n",
       "    <tr>\n",
       "      <th>1</th>\n",
       "      <td>2</td>\n",
       "      <td>2019-05-03 11:46:10</td>\n",
       "      <td>NaN</td>\n",
       "      <td>NaN</td>\n",
       "      <td>NaN</td>\n",
       "      <td>NaN</td>\n",
       "      <td>NaN</td>\n",
       "      <td>NaN</td>\n",
       "      <td>NaN</td>\n",
       "      <td>NaN</td>\n",
       "    </tr>\n",
       "    <tr>\n",
       "      <th>2</th>\n",
       "      <td>3</td>\n",
       "      <td>2019-05-03 12:13:47</td>\n",
       "      <td>NaN</td>\n",
       "      <td>NaN</td>\n",
       "      <td>NaN</td>\n",
       "      <td>NaN</td>\n",
       "      <td>NaN</td>\n",
       "      <td>NaN</td>\n",
       "      <td>NaN</td>\n",
       "      <td>NaN</td>\n",
       "    </tr>\n",
       "  </tbody>\n",
       "</table>\n",
       "</div>"
      ],
      "text/plain": [
       "   key               Wire 1 Wire 2 Wire 3 Wire 4 Wire 5 Wire 6 Wire 7 Wire 8  \\\n",
       "0    1  2019-05-03 11:11:41    NaN    NaN    NaN    NaN    NaN    NaN    NaN   \n",
       "1    2  2019-05-03 11:46:10    NaN    NaN    NaN    NaN    NaN    NaN    NaN   \n",
       "2    3  2019-05-03 12:13:47    NaN    NaN    NaN    NaN    NaN    NaN    NaN   \n",
       "\n",
       "  Wire 9  \n",
       "0    NaN  \n",
       "1    NaN  \n",
       "2    NaN  "
      ]
     },
     "execution_count": 29,
     "metadata": {},
     "output_type": "execute_result"
    }
   ],
   "source": [
    "df_wire_time.head(3)"
   ]
  },
  {
   "cell_type": "code",
   "execution_count": 30,
   "metadata": {},
   "outputs": [
    {
     "name": "stdout",
     "output_type": "stream",
     "text": [
      "<class 'pandas.core.frame.DataFrame'>\n",
      "RangeIndex: 3081 entries, 0 to 3080\n",
      "Data columns (total 10 columns):\n",
      " #   Column  Non-Null Count  Dtype  \n",
      "---  ------  --------------  -----  \n",
      " 0   key     3081 non-null   int64  \n",
      " 1   Wire 1  3055 non-null   float64\n",
      " 2   Wire 2  1079 non-null   float64\n",
      " 3   Wire 3  63 non-null     float64\n",
      " 4   Wire 4  14 non-null     float64\n",
      " 5   Wire 5  1 non-null      float64\n",
      " 6   Wire 6  73 non-null     float64\n",
      " 7   Wire 7  11 non-null     float64\n",
      " 8   Wire 8  19 non-null     float64\n",
      " 9   Wire 9  29 non-null     float64\n",
      "dtypes: float64(9), int64(1)\n",
      "memory usage: 240.8 KB\n"
     ]
    }
   ],
   "source": [
    "df_wire.info()"
   ]
  },
  {
   "cell_type": "code",
   "execution_count": 31,
   "metadata": {},
   "outputs": [
    {
     "name": "stdout",
     "output_type": "stream",
     "text": [
      "<class 'pandas.core.frame.DataFrame'>\n",
      "RangeIndex: 3081 entries, 0 to 3080\n",
      "Data columns (total 10 columns):\n",
      " #   Column  Non-Null Count  Dtype \n",
      "---  ------  --------------  ----- \n",
      " 0   key     3081 non-null   int64 \n",
      " 1   Wire 1  3055 non-null   object\n",
      " 2   Wire 2  1079 non-null   object\n",
      " 3   Wire 3  63 non-null     object\n",
      " 4   Wire 4  14 non-null     object\n",
      " 5   Wire 5  1 non-null      object\n",
      " 6   Wire 6  73 non-null     object\n",
      " 7   Wire 7  11 non-null     object\n",
      " 8   Wire 8  19 non-null     object\n",
      " 9   Wire 9  29 non-null     object\n",
      "dtypes: int64(1), object(9)\n",
      "memory usage: 240.8+ KB\n"
     ]
    }
   ],
   "source": [
    "df_wire_time.info()"
   ]
  },
  {
   "cell_type": "code",
   "execution_count": 32,
   "metadata": {},
   "outputs": [
    {
     "data": {
      "text/plain": [
       "Wire 5    0.999675\n",
       "Wire 7    0.996430\n",
       "Wire 4    0.995456\n",
       "Wire 8    0.993833\n",
       "Wire 9    0.990587\n",
       "Wire 3    0.979552\n",
       "Wire 6    0.976306\n",
       "Wire 2    0.649789\n",
       "Wire 1    0.008439\n",
       "key       0.000000\n",
       "dtype: float64"
      ]
     },
     "execution_count": 32,
     "metadata": {},
     "output_type": "execute_result"
    }
   ],
   "source": [
    "df_wire.isna().mean().sort_values(ascending=False)"
   ]
  },
  {
   "cell_type": "code",
   "execution_count": 33,
   "metadata": {},
   "outputs": [
    {
     "data": {
      "text/plain": [
       "Wire 5    0.999675\n",
       "Wire 7    0.996430\n",
       "Wire 4    0.995456\n",
       "Wire 8    0.993833\n",
       "Wire 9    0.990587\n",
       "Wire 3    0.979552\n",
       "Wire 6    0.976306\n",
       "Wire 2    0.649789\n",
       "Wire 1    0.008439\n",
       "key       0.000000\n",
       "dtype: float64"
      ]
     },
     "execution_count": 33,
     "metadata": {},
     "output_type": "execute_result"
    }
   ],
   "source": [
    "df_wire_time.isna().mean().sort_values(ascending=False)"
   ]
  },
  {
   "cell_type": "code",
   "execution_count": 34,
   "metadata": {},
   "outputs": [
    {
     "data": {
      "text/html": [
       "<div>\n",
       "<style scoped>\n",
       "    .dataframe tbody tr th:only-of-type {\n",
       "        vertical-align: middle;\n",
       "    }\n",
       "\n",
       "    .dataframe tbody tr th {\n",
       "        vertical-align: top;\n",
       "    }\n",
       "\n",
       "    .dataframe thead th {\n",
       "        text-align: right;\n",
       "    }\n",
       "</style>\n",
       "<table border=\"1\" class=\"dataframe\">\n",
       "  <thead>\n",
       "    <tr style=\"text-align: right;\">\n",
       "      <th></th>\n",
       "      <th>key</th>\n",
       "      <th>Wire 1</th>\n",
       "      <th>Wire 2</th>\n",
       "      <th>Wire 3</th>\n",
       "      <th>Wire 4</th>\n",
       "      <th>Wire 5</th>\n",
       "      <th>Wire 6</th>\n",
       "      <th>Wire 7</th>\n",
       "      <th>Wire 8</th>\n",
       "      <th>Wire 9</th>\n",
       "    </tr>\n",
       "  </thead>\n",
       "  <tbody>\n",
       "    <tr>\n",
       "      <th>count</th>\n",
       "      <td>3081.000000</td>\n",
       "      <td>3055.000000</td>\n",
       "      <td>1079.000000</td>\n",
       "      <td>63.000000</td>\n",
       "      <td>14.000000</td>\n",
       "      <td>1.000</td>\n",
       "      <td>73.000000</td>\n",
       "      <td>11.000000</td>\n",
       "      <td>19.000000</td>\n",
       "      <td>29.000000</td>\n",
       "    </tr>\n",
       "    <tr>\n",
       "      <th>mean</th>\n",
       "      <td>1623.426485</td>\n",
       "      <td>100.895853</td>\n",
       "      <td>50.577323</td>\n",
       "      <td>189.482681</td>\n",
       "      <td>57.442841</td>\n",
       "      <td>15.132</td>\n",
       "      <td>48.016974</td>\n",
       "      <td>10.039007</td>\n",
       "      <td>53.625193</td>\n",
       "      <td>34.155752</td>\n",
       "    </tr>\n",
       "    <tr>\n",
       "      <th>std</th>\n",
       "      <td>932.996726</td>\n",
       "      <td>42.012518</td>\n",
       "      <td>39.320216</td>\n",
       "      <td>99.513444</td>\n",
       "      <td>28.824667</td>\n",
       "      <td>NaN</td>\n",
       "      <td>33.919845</td>\n",
       "      <td>8.610584</td>\n",
       "      <td>16.881728</td>\n",
       "      <td>19.931616</td>\n",
       "    </tr>\n",
       "    <tr>\n",
       "      <th>min</th>\n",
       "      <td>1.000000</td>\n",
       "      <td>1.918800</td>\n",
       "      <td>0.030160</td>\n",
       "      <td>0.144144</td>\n",
       "      <td>24.148801</td>\n",
       "      <td>15.132</td>\n",
       "      <td>0.034320</td>\n",
       "      <td>0.234208</td>\n",
       "      <td>45.076721</td>\n",
       "      <td>4.622800</td>\n",
       "    </tr>\n",
       "    <tr>\n",
       "      <th>25%</th>\n",
       "      <td>823.000000</td>\n",
       "      <td>72.115684</td>\n",
       "      <td>20.193680</td>\n",
       "      <td>95.135044</td>\n",
       "      <td>40.807002</td>\n",
       "      <td>15.132</td>\n",
       "      <td>25.053600</td>\n",
       "      <td>6.762756</td>\n",
       "      <td>46.094879</td>\n",
       "      <td>22.058401</td>\n",
       "    </tr>\n",
       "    <tr>\n",
       "      <th>50%</th>\n",
       "      <td>1619.000000</td>\n",
       "      <td>100.158234</td>\n",
       "      <td>40.142956</td>\n",
       "      <td>235.194977</td>\n",
       "      <td>45.234282</td>\n",
       "      <td>15.132</td>\n",
       "      <td>42.076324</td>\n",
       "      <td>9.017009</td>\n",
       "      <td>46.279999</td>\n",
       "      <td>30.066399</td>\n",
       "    </tr>\n",
       "    <tr>\n",
       "      <th>75%</th>\n",
       "      <td>2434.000000</td>\n",
       "      <td>126.060483</td>\n",
       "      <td>70.227558</td>\n",
       "      <td>276.252014</td>\n",
       "      <td>76.124619</td>\n",
       "      <td>15.132</td>\n",
       "      <td>64.212723</td>\n",
       "      <td>11.886057</td>\n",
       "      <td>48.089603</td>\n",
       "      <td>43.862003</td>\n",
       "    </tr>\n",
       "    <tr>\n",
       "      <th>max</th>\n",
       "      <td>3241.000000</td>\n",
       "      <td>330.314424</td>\n",
       "      <td>282.780152</td>\n",
       "      <td>385.008668</td>\n",
       "      <td>113.231044</td>\n",
       "      <td>15.132</td>\n",
       "      <td>180.454575</td>\n",
       "      <td>32.847674</td>\n",
       "      <td>102.762401</td>\n",
       "      <td>90.053604</td>\n",
       "    </tr>\n",
       "  </tbody>\n",
       "</table>\n",
       "</div>"
      ],
      "text/plain": [
       "               key       Wire 1       Wire 2      Wire 3      Wire 4  Wire 5  \\\n",
       "count  3081.000000  3055.000000  1079.000000   63.000000   14.000000   1.000   \n",
       "mean   1623.426485   100.895853    50.577323  189.482681   57.442841  15.132   \n",
       "std     932.996726    42.012518    39.320216   99.513444   28.824667     NaN   \n",
       "min       1.000000     1.918800     0.030160    0.144144   24.148801  15.132   \n",
       "25%     823.000000    72.115684    20.193680   95.135044   40.807002  15.132   \n",
       "50%    1619.000000   100.158234    40.142956  235.194977   45.234282  15.132   \n",
       "75%    2434.000000   126.060483    70.227558  276.252014   76.124619  15.132   \n",
       "max    3241.000000   330.314424   282.780152  385.008668  113.231044  15.132   \n",
       "\n",
       "           Wire 6     Wire 7      Wire 8     Wire 9  \n",
       "count   73.000000  11.000000   19.000000  29.000000  \n",
       "mean    48.016974  10.039007   53.625193  34.155752  \n",
       "std     33.919845   8.610584   16.881728  19.931616  \n",
       "min      0.034320   0.234208   45.076721   4.622800  \n",
       "25%     25.053600   6.762756   46.094879  22.058401  \n",
       "50%     42.076324   9.017009   46.279999  30.066399  \n",
       "75%     64.212723  11.886057   48.089603  43.862003  \n",
       "max    180.454575  32.847674  102.762401  90.053604  "
      ]
     },
     "execution_count": 34,
     "metadata": {},
     "output_type": "execute_result"
    }
   ],
   "source": [
    "df_wire.describe()"
   ]
  },
  {
   "cell_type": "code",
   "execution_count": 35,
   "metadata": {},
   "outputs": [
    {
     "data": {
      "text/plain": [
       "<AxesSubplot:ylabel='Frequency'>"
      ]
     },
     "execution_count": 35,
     "metadata": {},
     "output_type": "execute_result"
    },
    {
     "data": {
      "image/png": "[encoded data removed]",
      "text/plain": [
       "<Figure size 720x288 with 1 Axes>"
      ]
     },
     "metadata": {
      "needs_background": "light"
     },
     "output_type": "display_data"
    }
   ],
   "source": [
    "df_wire['Wire 1'].plot(kind='hist', bins=(50), figsize=(10, 4), grid=True)"
   ]
  },
  {
   "cell_type": "markdown",
   "metadata": {},
   "source": [
    "- в таблице много пропущенных значений - заменим на 0;\n",
    "- количество пропущенных значений в `df_wire` и `df_wire_time` одинаковое;\n",
    "- распределение в столбце `Wire 1` (с минимальным кол-вом пропусков) близко к нормальному;\n",
    "- столбцы со значениями времени можно перевести в `datetime`."
   ]
  },
  {
   "cell_type": "markdown",
   "metadata": {},
   "source": [
    "## Предобработка данных"
   ]
  },
  {
   "cell_type": "markdown",
   "metadata": {},
   "source": [
    "Приведем столбцы со значениями времени к соответствующему типу данных:"
   ]
  },
  {
   "cell_type": "code",
   "execution_count": 36,
   "metadata": {},
   "outputs": [],
   "source": [
    "df_arc['Начало нагрева дугой'] = pd.to_datetime(df_arc['Начало нагрева дугой'], format='%Y-%m-%d %H:%M:%S')\n",
    "df_arc['Конец нагрева дугой'] = pd.to_datetime(df_arc['Конец нагрева дугой'], format='%Y-%m-%d %H:%M:%S')\n",
    "\n",
    "df_temp['Время замера'] = pd.to_datetime(df_temp['Время замера'], format='%Y-%m-%d %H:%M:%S')"
   ]
  },
  {
   "cell_type": "code",
   "execution_count": 37,
   "metadata": {},
   "outputs": [
    {
     "data": {
      "text/html": [
       "<div>\n",
       "<style scoped>\n",
       "    .dataframe tbody tr th:only-of-type {\n",
       "        vertical-align: middle;\n",
       "    }\n",
       "\n",
       "    .dataframe tbody tr th {\n",
       "        vertical-align: top;\n",
       "    }\n",
       "\n",
       "    .dataframe thead th {\n",
       "        text-align: right;\n",
       "    }\n",
       "</style>\n",
       "<table border=\"1\" class=\"dataframe\">\n",
       "  <thead>\n",
       "    <tr style=\"text-align: right;\">\n",
       "      <th></th>\n",
       "      <th>key</th>\n",
       "      <th>Начало нагрева дугой</th>\n",
       "      <th>Конец нагрева дугой</th>\n",
       "      <th>Активная мощность</th>\n",
       "      <th>Реактивная мощность</th>\n",
       "    </tr>\n",
       "  </thead>\n",
       "  <tbody>\n",
       "    <tr>\n",
       "      <th>0</th>\n",
       "      <td>1</td>\n",
       "      <td>2019-05-03 11:02:14</td>\n",
       "      <td>2019-05-03 11:06:02</td>\n",
       "      <td>0.976059</td>\n",
       "      <td>0.687084</td>\n",
       "    </tr>\n",
       "    <tr>\n",
       "      <th>1</th>\n",
       "      <td>1</td>\n",
       "      <td>2019-05-03 11:07:28</td>\n",
       "      <td>2019-05-03 11:10:33</td>\n",
       "      <td>0.805607</td>\n",
       "      <td>0.520285</td>\n",
       "    </tr>\n",
       "    <tr>\n",
       "      <th>2</th>\n",
       "      <td>1</td>\n",
       "      <td>2019-05-03 11:11:44</td>\n",
       "      <td>2019-05-03 11:14:36</td>\n",
       "      <td>0.744363</td>\n",
       "      <td>0.498805</td>\n",
       "    </tr>\n",
       "  </tbody>\n",
       "</table>\n",
       "</div>"
      ],
      "text/plain": [
       "   key Начало нагрева дугой Конец нагрева дугой  Активная мощность  \\\n",
       "0    1  2019-05-03 11:02:14 2019-05-03 11:06:02           0.976059   \n",
       "1    1  2019-05-03 11:07:28 2019-05-03 11:10:33           0.805607   \n",
       "2    1  2019-05-03 11:11:44 2019-05-03 11:14:36           0.744363   \n",
       "\n",
       "   Реактивная мощность  \n",
       "0             0.687084  \n",
       "1             0.520285  \n",
       "2             0.498805  "
      ]
     },
     "execution_count": 37,
     "metadata": {},
     "output_type": "execute_result"
    }
   ],
   "source": [
    "df_arc.head(3)"
   ]
  },
  {
   "cell_type": "code",
   "execution_count": 38,
   "metadata": {},
   "outputs": [
    {
     "data": {
      "text/html": [
       "<div>\n",
       "<style scoped>\n",
       "    .dataframe tbody tr th:only-of-type {\n",
       "        vertical-align: middle;\n",
       "    }\n",
       "\n",
       "    .dataframe tbody tr th {\n",
       "        vertical-align: top;\n",
       "    }\n",
       "\n",
       "    .dataframe thead th {\n",
       "        text-align: right;\n",
       "    }\n",
       "</style>\n",
       "<table border=\"1\" class=\"dataframe\">\n",
       "  <thead>\n",
       "    <tr style=\"text-align: right;\">\n",
       "      <th></th>\n",
       "      <th>key</th>\n",
       "      <th>Время замера</th>\n",
       "      <th>Температура</th>\n",
       "    </tr>\n",
       "  </thead>\n",
       "  <tbody>\n",
       "    <tr>\n",
       "      <th>0</th>\n",
       "      <td>1</td>\n",
       "      <td>2019-05-03 11:16:18</td>\n",
       "      <td>1571.0</td>\n",
       "    </tr>\n",
       "    <tr>\n",
       "      <th>1</th>\n",
       "      <td>1</td>\n",
       "      <td>2019-05-03 11:25:53</td>\n",
       "      <td>1604.0</td>\n",
       "    </tr>\n",
       "    <tr>\n",
       "      <th>2</th>\n",
       "      <td>1</td>\n",
       "      <td>2019-05-03 11:29:11</td>\n",
       "      <td>1618.0</td>\n",
       "    </tr>\n",
       "  </tbody>\n",
       "</table>\n",
       "</div>"
      ],
      "text/plain": [
       "   key        Время замера  Температура\n",
       "0    1 2019-05-03 11:16:18       1571.0\n",
       "1    1 2019-05-03 11:25:53       1604.0\n",
       "2    1 2019-05-03 11:29:11       1618.0"
      ]
     },
     "execution_count": 38,
     "metadata": {},
     "output_type": "execute_result"
    }
   ],
   "source": [
    "df_temp.head(3)"
   ]
  },
  {
   "cell_type": "markdown",
   "metadata": {},
   "source": [
    "Заполним пропуски нулями, т.к. пропуск означает отсутствие добавок"
   ]
  },
  {
   "cell_type": "code",
   "execution_count": 39,
   "metadata": {},
   "outputs": [],
   "source": [
    "df_wire = df_wire.fillna(0)\n",
    "df_bulk = df_bulk.fillna(0)"
   ]
  },
  {
   "cell_type": "markdown",
   "metadata": {},
   "source": [
    "Удалим аномально низкие значения в `df_temp`, которые ниже минимальной температуры плавления стали - 1450 Цельсия"
   ]
  },
  {
   "cell_type": "code",
   "execution_count": 40,
   "metadata": {},
   "outputs": [],
   "source": [
    "df_temp = df_temp.drop(df_temp[df_temp['Температура'] < 1450].index)"
   ]
  },
  {
   "cell_type": "code",
   "execution_count": 41,
   "metadata": {
    "scrolled": true
   },
   "outputs": [
    {
     "data": {
      "text/html": [
       "<div>\n",
       "<style scoped>\n",
       "    .dataframe tbody tr th:only-of-type {\n",
       "        vertical-align: middle;\n",
       "    }\n",
       "\n",
       "    .dataframe tbody tr th {\n",
       "        vertical-align: top;\n",
       "    }\n",
       "\n",
       "    .dataframe thead th {\n",
       "        text-align: right;\n",
       "    }\n",
       "</style>\n",
       "<table border=\"1\" class=\"dataframe\">\n",
       "  <thead>\n",
       "    <tr style=\"text-align: right;\">\n",
       "      <th></th>\n",
       "      <th>key</th>\n",
       "      <th>Температура</th>\n",
       "    </tr>\n",
       "  </thead>\n",
       "  <tbody>\n",
       "    <tr>\n",
       "      <th>count</th>\n",
       "      <td>15900.000000</td>\n",
       "      <td>12999.000000</td>\n",
       "    </tr>\n",
       "    <tr>\n",
       "      <th>mean</th>\n",
       "      <td>1607.837233</td>\n",
       "      <td>1592.020078</td>\n",
       "    </tr>\n",
       "    <tr>\n",
       "      <th>std</th>\n",
       "      <td>942.356124</td>\n",
       "      <td>19.853665</td>\n",
       "    </tr>\n",
       "    <tr>\n",
       "      <th>min</th>\n",
       "      <td>1.000000</td>\n",
       "      <td>1519.000000</td>\n",
       "    </tr>\n",
       "    <tr>\n",
       "      <th>25%</th>\n",
       "      <td>789.750000</td>\n",
       "      <td>1581.000000</td>\n",
       "    </tr>\n",
       "    <tr>\n",
       "      <th>50%</th>\n",
       "      <td>1617.000000</td>\n",
       "      <td>1591.000000</td>\n",
       "    </tr>\n",
       "    <tr>\n",
       "      <th>75%</th>\n",
       "      <td>2427.000000</td>\n",
       "      <td>1601.000000</td>\n",
       "    </tr>\n",
       "    <tr>\n",
       "      <th>max</th>\n",
       "      <td>3241.000000</td>\n",
       "      <td>1705.000000</td>\n",
       "    </tr>\n",
       "  </tbody>\n",
       "</table>\n",
       "</div>"
      ],
      "text/plain": [
       "                key   Температура\n",
       "count  15900.000000  12999.000000\n",
       "mean    1607.837233   1592.020078\n",
       "std      942.356124     19.853665\n",
       "min        1.000000   1519.000000\n",
       "25%      789.750000   1581.000000\n",
       "50%     1617.000000   1591.000000\n",
       "75%     2427.000000   1601.000000\n",
       "max     3241.000000   1705.000000"
      ]
     },
     "execution_count": 41,
     "metadata": {},
     "output_type": "execute_result"
    }
   ],
   "source": [
    "df_temp.describe()"
   ]
  },
  {
   "cell_type": "markdown",
   "metadata": {},
   "source": [
    "Удалим пропуски:"
   ]
  },
  {
   "cell_type": "code",
   "execution_count": 42,
   "metadata": {},
   "outputs": [],
   "source": [
    "df_temp = df_temp.dropna().reset_index(drop=True)"
   ]
  },
  {
   "cell_type": "markdown",
   "metadata": {},
   "source": [
    "Удалим аномально низкое значение мощности:"
   ]
  },
  {
   "cell_type": "code",
   "execution_count": 43,
   "metadata": {},
   "outputs": [
    {
     "data": {
      "text/html": [
       "<div>\n",
       "<style scoped>\n",
       "    .dataframe tbody tr th:only-of-type {\n",
       "        vertical-align: middle;\n",
       "    }\n",
       "\n",
       "    .dataframe tbody tr th {\n",
       "        vertical-align: top;\n",
       "    }\n",
       "\n",
       "    .dataframe thead th {\n",
       "        text-align: right;\n",
       "    }\n",
       "</style>\n",
       "<table border=\"1\" class=\"dataframe\">\n",
       "  <thead>\n",
       "    <tr style=\"text-align: right;\">\n",
       "      <th></th>\n",
       "      <th>key</th>\n",
       "      <th>Начало нагрева дугой</th>\n",
       "      <th>Конец нагрева дугой</th>\n",
       "      <th>Активная мощность</th>\n",
       "      <th>Реактивная мощность</th>\n",
       "    </tr>\n",
       "  </thead>\n",
       "  <tbody>\n",
       "    <tr>\n",
       "      <th>9780</th>\n",
       "      <td>2116</td>\n",
       "      <td>2019-07-24 00:44:48</td>\n",
       "      <td>2019-07-24 00:46:37</td>\n",
       "      <td>0.495782</td>\n",
       "      <td>-715.504924</td>\n",
       "    </tr>\n",
       "  </tbody>\n",
       "</table>\n",
       "</div>"
      ],
      "text/plain": [
       "       key Начало нагрева дугой Конец нагрева дугой  Активная мощность  \\\n",
       "9780  2116  2019-07-24 00:44:48 2019-07-24 00:46:37           0.495782   \n",
       "\n",
       "      Реактивная мощность  \n",
       "9780          -715.504924  "
      ]
     },
     "execution_count": 43,
     "metadata": {},
     "output_type": "execute_result"
    }
   ],
   "source": [
    "df_arc[df_arc['Реактивная мощность'] < 0]"
   ]
  },
  {
   "cell_type": "code",
   "execution_count": 44,
   "metadata": {},
   "outputs": [
    {
     "data": {
      "text/html": [
       "<div>\n",
       "<style scoped>\n",
       "    .dataframe tbody tr th:only-of-type {\n",
       "        vertical-align: middle;\n",
       "    }\n",
       "\n",
       "    .dataframe tbody tr th {\n",
       "        vertical-align: top;\n",
       "    }\n",
       "\n",
       "    .dataframe thead th {\n",
       "        text-align: right;\n",
       "    }\n",
       "</style>\n",
       "<table border=\"1\" class=\"dataframe\">\n",
       "  <thead>\n",
       "    <tr style=\"text-align: right;\">\n",
       "      <th></th>\n",
       "      <th>key</th>\n",
       "      <th>Начало нагрева дугой</th>\n",
       "      <th>Конец нагрева дугой</th>\n",
       "      <th>Активная мощность</th>\n",
       "      <th>Реактивная мощность</th>\n",
       "    </tr>\n",
       "  </thead>\n",
       "  <tbody>\n",
       "    <tr>\n",
       "      <th>9778</th>\n",
       "      <td>2116</td>\n",
       "      <td>2019-07-24 00:29:52</td>\n",
       "      <td>2019-07-24 00:31:54</td>\n",
       "      <td>0.433266</td>\n",
       "      <td>0.306141</td>\n",
       "    </tr>\n",
       "    <tr>\n",
       "      <th>9779</th>\n",
       "      <td>2116</td>\n",
       "      <td>2019-07-24 00:35:50</td>\n",
       "      <td>2019-07-24 00:38:05</td>\n",
       "      <td>0.620265</td>\n",
       "      <td>0.408352</td>\n",
       "    </tr>\n",
       "    <tr>\n",
       "      <th>9780</th>\n",
       "      <td>2116</td>\n",
       "      <td>2019-07-24 00:44:48</td>\n",
       "      <td>2019-07-24 00:46:37</td>\n",
       "      <td>0.495782</td>\n",
       "      <td>-715.504924</td>\n",
       "    </tr>\n",
       "    <tr>\n",
       "      <th>9781</th>\n",
       "      <td>2116</td>\n",
       "      <td>2019-07-24 00:51:51</td>\n",
       "      <td>2019-07-24 00:52:58</td>\n",
       "      <td>0.299368</td>\n",
       "      <td>0.198796</td>\n",
       "    </tr>\n",
       "  </tbody>\n",
       "</table>\n",
       "</div>"
      ],
      "text/plain": [
       "       key Начало нагрева дугой Конец нагрева дугой  Активная мощность  \\\n",
       "9778  2116  2019-07-24 00:29:52 2019-07-24 00:31:54           0.433266   \n",
       "9779  2116  2019-07-24 00:35:50 2019-07-24 00:38:05           0.620265   \n",
       "9780  2116  2019-07-24 00:44:48 2019-07-24 00:46:37           0.495782   \n",
       "9781  2116  2019-07-24 00:51:51 2019-07-24 00:52:58           0.299368   \n",
       "\n",
       "      Реактивная мощность  \n",
       "9778             0.306141  \n",
       "9779             0.408352  \n",
       "9780          -715.504924  \n",
       "9781             0.198796  "
      ]
     },
     "execution_count": 44,
     "metadata": {},
     "output_type": "execute_result"
    }
   ],
   "source": [
    "df_arc[df_arc['key'] == 2116]"
   ]
  },
  {
   "cell_type": "code",
   "execution_count": 45,
   "metadata": {},
   "outputs": [],
   "source": [
    "df_arc = df_arc.drop(df_arc[df_arc['key'] == 2116].index)"
   ]
  },
  {
   "cell_type": "code",
   "execution_count": 46,
   "metadata": {},
   "outputs": [
    {
     "data": {
      "text/html": [
       "<div>\n",
       "<style scoped>\n",
       "    .dataframe tbody tr th:only-of-type {\n",
       "        vertical-align: middle;\n",
       "    }\n",
       "\n",
       "    .dataframe tbody tr th {\n",
       "        vertical-align: top;\n",
       "    }\n",
       "\n",
       "    .dataframe thead th {\n",
       "        text-align: right;\n",
       "    }\n",
       "</style>\n",
       "<table border=\"1\" class=\"dataframe\">\n",
       "  <thead>\n",
       "    <tr style=\"text-align: right;\">\n",
       "      <th></th>\n",
       "      <th>key</th>\n",
       "      <th>Активная мощность</th>\n",
       "      <th>Реактивная мощность</th>\n",
       "    </tr>\n",
       "  </thead>\n",
       "  <tbody>\n",
       "    <tr>\n",
       "      <th>count</th>\n",
       "      <td>14872.000000</td>\n",
       "      <td>14872.000000</td>\n",
       "      <td>14872.000000</td>\n",
       "    </tr>\n",
       "    <tr>\n",
       "      <th>mean</th>\n",
       "      <td>1615.085732</td>\n",
       "      <td>0.670497</td>\n",
       "      <td>0.500763</td>\n",
       "    </tr>\n",
       "    <tr>\n",
       "      <th>std</th>\n",
       "      <td>934.661090</td>\n",
       "      <td>0.408195</td>\n",
       "      <td>0.310897</td>\n",
       "    </tr>\n",
       "    <tr>\n",
       "      <th>min</th>\n",
       "      <td>1.000000</td>\n",
       "      <td>0.030002</td>\n",
       "      <td>0.020806</td>\n",
       "    </tr>\n",
       "    <tr>\n",
       "      <th>25%</th>\n",
       "      <td>806.000000</td>\n",
       "      <td>0.395297</td>\n",
       "      <td>0.291008</td>\n",
       "    </tr>\n",
       "    <tr>\n",
       "      <th>50%</th>\n",
       "      <td>1616.000000</td>\n",
       "      <td>0.555588</td>\n",
       "      <td>0.416280</td>\n",
       "    </tr>\n",
       "    <tr>\n",
       "      <th>75%</th>\n",
       "      <td>2429.000000</td>\n",
       "      <td>0.857121</td>\n",
       "      <td>0.637476</td>\n",
       "    </tr>\n",
       "    <tr>\n",
       "      <th>max</th>\n",
       "      <td>3241.000000</td>\n",
       "      <td>3.731596</td>\n",
       "      <td>2.676388</td>\n",
       "    </tr>\n",
       "  </tbody>\n",
       "</table>\n",
       "</div>"
      ],
      "text/plain": [
       "                key  Активная мощность  Реактивная мощность\n",
       "count  14872.000000       14872.000000         14872.000000\n",
       "mean    1615.085732           0.670497             0.500763\n",
       "std      934.661090           0.408195             0.310897\n",
       "min        1.000000           0.030002             0.020806\n",
       "25%      806.000000           0.395297             0.291008\n",
       "50%     1616.000000           0.555588             0.416280\n",
       "75%     2429.000000           0.857121             0.637476\n",
       "max     3241.000000           3.731596             2.676388"
      ]
     },
     "execution_count": 46,
     "metadata": {},
     "output_type": "execute_result"
    }
   ],
   "source": [
    "df_arc.describe()"
   ]
  },
  {
   "cell_type": "markdown",
   "metadata": {},
   "source": [
    "Выводы:\n",
    "\n",
    "- преобразовали столбцы со значениями времени в `df_temp` и `df_arc`;\n",
    "- заполнили пропуски в `df_wire` и `df_bulk`;\n",
    "- удалили аномально низкие значения в `df_temp` и `df_arc`."
   ]
  },
  {
   "cell_type": "markdown",
   "metadata": {},
   "source": [
    "## Подготовка данных "
   ]
  },
  {
   "cell_type": "markdown",
   "metadata": {},
   "source": [
    "### Данные изменения температуры "
   ]
  },
  {
   "cell_type": "markdown",
   "metadata": {},
   "source": [
    "Подготовим таблицу с данными изменениями температуры:"
   ]
  },
  {
   "cell_type": "code",
   "execution_count": 47,
   "metadata": {},
   "outputs": [
    {
     "data": {
      "text/html": [
       "<div>\n",
       "<style scoped>\n",
       "    .dataframe tbody tr th:only-of-type {\n",
       "        vertical-align: middle;\n",
       "    }\n",
       "\n",
       "    .dataframe tbody tr th {\n",
       "        vertical-align: top;\n",
       "    }\n",
       "\n",
       "    .dataframe thead th {\n",
       "        text-align: right;\n",
       "    }\n",
       "</style>\n",
       "<table border=\"1\" class=\"dataframe\">\n",
       "  <thead>\n",
       "    <tr style=\"text-align: right;\">\n",
       "      <th></th>\n",
       "      <th>key</th>\n",
       "      <th>Время замера</th>\n",
       "      <th>Температура</th>\n",
       "    </tr>\n",
       "  </thead>\n",
       "  <tbody>\n",
       "    <tr>\n",
       "      <th>0</th>\n",
       "      <td>1</td>\n",
       "      <td>2019-05-03 11:16:18</td>\n",
       "      <td>1571.0</td>\n",
       "    </tr>\n",
       "    <tr>\n",
       "      <th>1</th>\n",
       "      <td>1</td>\n",
       "      <td>2019-05-03 11:25:53</td>\n",
       "      <td>1604.0</td>\n",
       "    </tr>\n",
       "    <tr>\n",
       "      <th>2</th>\n",
       "      <td>1</td>\n",
       "      <td>2019-05-03 11:29:11</td>\n",
       "      <td>1618.0</td>\n",
       "    </tr>\n",
       "  </tbody>\n",
       "</table>\n",
       "</div>"
      ],
      "text/plain": [
       "   key        Время замера  Температура\n",
       "0    1 2019-05-03 11:16:18       1571.0\n",
       "1    1 2019-05-03 11:25:53       1604.0\n",
       "2    1 2019-05-03 11:29:11       1618.0"
      ]
     },
     "execution_count": 47,
     "metadata": {},
     "output_type": "execute_result"
    }
   ],
   "source": [
    "df_temp.head(3)"
   ]
  },
  {
   "cell_type": "markdown",
   "metadata": {},
   "source": [
    "Создадим датафреймы с первым и последним замером температуры с группировкой по ключу:"
   ]
  },
  {
   "cell_type": "code",
   "execution_count": 48,
   "metadata": {},
   "outputs": [],
   "source": [
    "temp_first = df_temp.groupby('key').first().reset_index()\n",
    "temp_last = df_temp.groupby('key').last().reset_index()"
   ]
  },
  {
   "cell_type": "code",
   "execution_count": 49,
   "metadata": {},
   "outputs": [
    {
     "data": {
      "text/html": [
       "<div>\n",
       "<style scoped>\n",
       "    .dataframe tbody tr th:only-of-type {\n",
       "        vertical-align: middle;\n",
       "    }\n",
       "\n",
       "    .dataframe tbody tr th {\n",
       "        vertical-align: top;\n",
       "    }\n",
       "\n",
       "    .dataframe thead th {\n",
       "        text-align: right;\n",
       "    }\n",
       "</style>\n",
       "<table border=\"1\" class=\"dataframe\">\n",
       "  <thead>\n",
       "    <tr style=\"text-align: right;\">\n",
       "      <th></th>\n",
       "      <th>key</th>\n",
       "      <th>Время замера</th>\n",
       "      <th>Температура</th>\n",
       "    </tr>\n",
       "  </thead>\n",
       "  <tbody>\n",
       "    <tr>\n",
       "      <th>0</th>\n",
       "      <td>1</td>\n",
       "      <td>2019-05-03 11:16:18</td>\n",
       "      <td>1571.0</td>\n",
       "    </tr>\n",
       "    <tr>\n",
       "      <th>1</th>\n",
       "      <td>2</td>\n",
       "      <td>2019-05-03 11:37:27</td>\n",
       "      <td>1581.0</td>\n",
       "    </tr>\n",
       "    <tr>\n",
       "      <th>2</th>\n",
       "      <td>3</td>\n",
       "      <td>2019-05-03 12:13:17</td>\n",
       "      <td>1596.0</td>\n",
       "    </tr>\n",
       "  </tbody>\n",
       "</table>\n",
       "</div>"
      ],
      "text/plain": [
       "   key        Время замера  Температура\n",
       "0    1 2019-05-03 11:16:18       1571.0\n",
       "1    2 2019-05-03 11:37:27       1581.0\n",
       "2    3 2019-05-03 12:13:17       1596.0"
      ]
     },
     "execution_count": 49,
     "metadata": {},
     "output_type": "execute_result"
    }
   ],
   "source": [
    "temp_first.head(3)"
   ]
  },
  {
   "cell_type": "code",
   "execution_count": 50,
   "metadata": {},
   "outputs": [
    {
     "data": {
      "text/html": [
       "<div>\n",
       "<style scoped>\n",
       "    .dataframe tbody tr th:only-of-type {\n",
       "        vertical-align: middle;\n",
       "    }\n",
       "\n",
       "    .dataframe tbody tr th {\n",
       "        vertical-align: top;\n",
       "    }\n",
       "\n",
       "    .dataframe thead th {\n",
       "        text-align: right;\n",
       "    }\n",
       "</style>\n",
       "<table border=\"1\" class=\"dataframe\">\n",
       "  <thead>\n",
       "    <tr style=\"text-align: right;\">\n",
       "      <th></th>\n",
       "      <th>key</th>\n",
       "      <th>Время замера</th>\n",
       "      <th>Температура</th>\n",
       "    </tr>\n",
       "  </thead>\n",
       "  <tbody>\n",
       "    <tr>\n",
       "      <th>0</th>\n",
       "      <td>1</td>\n",
       "      <td>2019-05-03 11:30:39</td>\n",
       "      <td>1613.0</td>\n",
       "    </tr>\n",
       "    <tr>\n",
       "      <th>1</th>\n",
       "      <td>2</td>\n",
       "      <td>2019-05-03 11:59:12</td>\n",
       "      <td>1602.0</td>\n",
       "    </tr>\n",
       "    <tr>\n",
       "      <th>2</th>\n",
       "      <td>3</td>\n",
       "      <td>2019-05-03 12:34:57</td>\n",
       "      <td>1599.0</td>\n",
       "    </tr>\n",
       "  </tbody>\n",
       "</table>\n",
       "</div>"
      ],
      "text/plain": [
       "   key        Время замера  Температура\n",
       "0    1 2019-05-03 11:30:39       1613.0\n",
       "1    2 2019-05-03 11:59:12       1602.0\n",
       "2    3 2019-05-03 12:34:57       1599.0"
      ]
     },
     "execution_count": 50,
     "metadata": {},
     "output_type": "execute_result"
    }
   ],
   "source": [
    "temp_last.head(3)"
   ]
  },
  {
   "cell_type": "markdown",
   "metadata": {},
   "source": [
    "Избавимся от строк, где начальное время замера равно конечному:"
   ]
  },
  {
   "cell_type": "code",
   "execution_count": 51,
   "metadata": {},
   "outputs": [],
   "source": [
    "t_fst = (temp_first[temp_first['Время замера'] == temp_last['Время замера']]).index"
   ]
  },
  {
   "cell_type": "code",
   "execution_count": 52,
   "metadata": {},
   "outputs": [],
   "source": [
    "t_lst = (temp_last[temp_last['Время замера'] == temp_first['Время замера']]).index"
   ]
  },
  {
   "cell_type": "code",
   "execution_count": 53,
   "metadata": {},
   "outputs": [],
   "source": [
    "temp_first = temp_first.drop(temp_first.index[t_fst]).reset_index(drop=True)\n",
    "temp_last = temp_last.drop(temp_last.index[t_lst]).reset_index(drop=True)"
   ]
  },
  {
   "cell_type": "code",
   "execution_count": 54,
   "metadata": {},
   "outputs": [
    {
     "data": {
      "text/plain": [
       "(2475, 3)"
      ]
     },
     "execution_count": 54,
     "metadata": {},
     "output_type": "execute_result"
    }
   ],
   "source": [
    "temp_first.shape"
   ]
  },
  {
   "cell_type": "code",
   "execution_count": 55,
   "metadata": {},
   "outputs": [
    {
     "data": {
      "text/plain": [
       "(2475, 3)"
      ]
     },
     "execution_count": 55,
     "metadata": {},
     "output_type": "execute_result"
    }
   ],
   "source": [
    "temp_last.shape"
   ]
  },
  {
   "cell_type": "code",
   "execution_count": 56,
   "metadata": {},
   "outputs": [],
   "source": [
    "temp_first = temp_first.rename(columns={'Температура':'Начальная_температура'})\n",
    "temp_last = temp_last.rename(columns={'Температура':'Конечная_температура'})"
   ]
  },
  {
   "cell_type": "code",
   "execution_count": 57,
   "metadata": {},
   "outputs": [],
   "source": [
    "temp_first = temp_first.drop(['Время замера'], axis=1)\n",
    "temp_last = temp_last.drop(['Время замера'], axis=1)"
   ]
  },
  {
   "cell_type": "code",
   "execution_count": 58,
   "metadata": {},
   "outputs": [
    {
     "data": {
      "text/html": [
       "<div>\n",
       "<style scoped>\n",
       "    .dataframe tbody tr th:only-of-type {\n",
       "        vertical-align: middle;\n",
       "    }\n",
       "\n",
       "    .dataframe tbody tr th {\n",
       "        vertical-align: top;\n",
       "    }\n",
       "\n",
       "    .dataframe thead th {\n",
       "        text-align: right;\n",
       "    }\n",
       "</style>\n",
       "<table border=\"1\" class=\"dataframe\">\n",
       "  <thead>\n",
       "    <tr style=\"text-align: right;\">\n",
       "      <th></th>\n",
       "      <th>key</th>\n",
       "      <th>Начальная_температура</th>\n",
       "    </tr>\n",
       "  </thead>\n",
       "  <tbody>\n",
       "    <tr>\n",
       "      <th>0</th>\n",
       "      <td>1</td>\n",
       "      <td>1571.0</td>\n",
       "    </tr>\n",
       "    <tr>\n",
       "      <th>1</th>\n",
       "      <td>2</td>\n",
       "      <td>1581.0</td>\n",
       "    </tr>\n",
       "    <tr>\n",
       "      <th>2</th>\n",
       "      <td>3</td>\n",
       "      <td>1596.0</td>\n",
       "    </tr>\n",
       "  </tbody>\n",
       "</table>\n",
       "</div>"
      ],
      "text/plain": [
       "   key  Начальная_температура\n",
       "0    1                 1571.0\n",
       "1    2                 1581.0\n",
       "2    3                 1596.0"
      ]
     },
     "execution_count": 58,
     "metadata": {},
     "output_type": "execute_result"
    }
   ],
   "source": [
    "temp_first.head(3)"
   ]
  },
  {
   "cell_type": "code",
   "execution_count": 59,
   "metadata": {},
   "outputs": [
    {
     "data": {
      "text/html": [
       "<div>\n",
       "<style scoped>\n",
       "    .dataframe tbody tr th:only-of-type {\n",
       "        vertical-align: middle;\n",
       "    }\n",
       "\n",
       "    .dataframe tbody tr th {\n",
       "        vertical-align: top;\n",
       "    }\n",
       "\n",
       "    .dataframe thead th {\n",
       "        text-align: right;\n",
       "    }\n",
       "</style>\n",
       "<table border=\"1\" class=\"dataframe\">\n",
       "  <thead>\n",
       "    <tr style=\"text-align: right;\">\n",
       "      <th></th>\n",
       "      <th>key</th>\n",
       "      <th>Конечная_температура</th>\n",
       "    </tr>\n",
       "  </thead>\n",
       "  <tbody>\n",
       "    <tr>\n",
       "      <th>0</th>\n",
       "      <td>1</td>\n",
       "      <td>1613.0</td>\n",
       "    </tr>\n",
       "    <tr>\n",
       "      <th>1</th>\n",
       "      <td>2</td>\n",
       "      <td>1602.0</td>\n",
       "    </tr>\n",
       "    <tr>\n",
       "      <th>2</th>\n",
       "      <td>3</td>\n",
       "      <td>1599.0</td>\n",
       "    </tr>\n",
       "  </tbody>\n",
       "</table>\n",
       "</div>"
      ],
      "text/plain": [
       "   key  Конечная_температура\n",
       "0    1                1613.0\n",
       "1    2                1602.0\n",
       "2    3                1599.0"
      ]
     },
     "execution_count": 59,
     "metadata": {},
     "output_type": "execute_result"
    }
   ],
   "source": [
    "temp_last.head(3)"
   ]
  },
  {
   "cell_type": "markdown",
   "metadata": {},
   "source": [
    "Объединим данные используя параметр `inner`, чтобы в итоговой таблице были данные без пропусков:"
   ]
  },
  {
   "cell_type": "code",
   "execution_count": 60,
   "metadata": {},
   "outputs": [
    {
     "data": {
      "text/plain": [
       "(2475, 3)"
      ]
     },
     "execution_count": 60,
     "metadata": {},
     "output_type": "execute_result"
    }
   ],
   "source": [
    "df_temp_full = temp_first.merge(temp_last, on=['key'], how='inner')\n",
    "df_temp_full.shape"
   ]
  },
  {
   "cell_type": "code",
   "execution_count": 61,
   "metadata": {},
   "outputs": [
    {
     "data": {
      "text/html": [
       "<div>\n",
       "<style scoped>\n",
       "    .dataframe tbody tr th:only-of-type {\n",
       "        vertical-align: middle;\n",
       "    }\n",
       "\n",
       "    .dataframe tbody tr th {\n",
       "        vertical-align: top;\n",
       "    }\n",
       "\n",
       "    .dataframe thead th {\n",
       "        text-align: right;\n",
       "    }\n",
       "</style>\n",
       "<table border=\"1\" class=\"dataframe\">\n",
       "  <thead>\n",
       "    <tr style=\"text-align: right;\">\n",
       "      <th></th>\n",
       "      <th>key</th>\n",
       "      <th>Начальная_температура</th>\n",
       "      <th>Конечная_температура</th>\n",
       "    </tr>\n",
       "  </thead>\n",
       "  <tbody>\n",
       "    <tr>\n",
       "      <th>0</th>\n",
       "      <td>1</td>\n",
       "      <td>1571.0</td>\n",
       "      <td>1613.0</td>\n",
       "    </tr>\n",
       "    <tr>\n",
       "      <th>1</th>\n",
       "      <td>2</td>\n",
       "      <td>1581.0</td>\n",
       "      <td>1602.0</td>\n",
       "    </tr>\n",
       "    <tr>\n",
       "      <th>2</th>\n",
       "      <td>3</td>\n",
       "      <td>1596.0</td>\n",
       "      <td>1599.0</td>\n",
       "    </tr>\n",
       "  </tbody>\n",
       "</table>\n",
       "</div>"
      ],
      "text/plain": [
       "   key  Начальная_температура  Конечная_температура\n",
       "0    1                 1571.0                1613.0\n",
       "1    2                 1581.0                1602.0\n",
       "2    3                 1596.0                1599.0"
      ]
     },
     "execution_count": 61,
     "metadata": {},
     "output_type": "execute_result"
    }
   ],
   "source": [
    "df_temp_full.head(3)"
   ]
  },
  {
   "cell_type": "markdown",
   "metadata": {},
   "source": [
    "### Данные об электродах."
   ]
  },
  {
   "cell_type": "code",
   "execution_count": 62,
   "metadata": {},
   "outputs": [
    {
     "data": {
      "text/html": [
       "<div>\n",
       "<style scoped>\n",
       "    .dataframe tbody tr th:only-of-type {\n",
       "        vertical-align: middle;\n",
       "    }\n",
       "\n",
       "    .dataframe tbody tr th {\n",
       "        vertical-align: top;\n",
       "    }\n",
       "\n",
       "    .dataframe thead th {\n",
       "        text-align: right;\n",
       "    }\n",
       "</style>\n",
       "<table border=\"1\" class=\"dataframe\">\n",
       "  <thead>\n",
       "    <tr style=\"text-align: right;\">\n",
       "      <th></th>\n",
       "      <th>key</th>\n",
       "      <th>Начало нагрева дугой</th>\n",
       "      <th>Конец нагрева дугой</th>\n",
       "      <th>Активная мощность</th>\n",
       "      <th>Реактивная мощность</th>\n",
       "    </tr>\n",
       "  </thead>\n",
       "  <tbody>\n",
       "    <tr>\n",
       "      <th>0</th>\n",
       "      <td>1</td>\n",
       "      <td>2019-05-03 11:02:14</td>\n",
       "      <td>2019-05-03 11:06:02</td>\n",
       "      <td>0.976059</td>\n",
       "      <td>0.687084</td>\n",
       "    </tr>\n",
       "    <tr>\n",
       "      <th>1</th>\n",
       "      <td>1</td>\n",
       "      <td>2019-05-03 11:07:28</td>\n",
       "      <td>2019-05-03 11:10:33</td>\n",
       "      <td>0.805607</td>\n",
       "      <td>0.520285</td>\n",
       "    </tr>\n",
       "    <tr>\n",
       "      <th>2</th>\n",
       "      <td>1</td>\n",
       "      <td>2019-05-03 11:11:44</td>\n",
       "      <td>2019-05-03 11:14:36</td>\n",
       "      <td>0.744363</td>\n",
       "      <td>0.498805</td>\n",
       "    </tr>\n",
       "  </tbody>\n",
       "</table>\n",
       "</div>"
      ],
      "text/plain": [
       "   key Начало нагрева дугой Конец нагрева дугой  Активная мощность  \\\n",
       "0    1  2019-05-03 11:02:14 2019-05-03 11:06:02           0.976059   \n",
       "1    1  2019-05-03 11:07:28 2019-05-03 11:10:33           0.805607   \n",
       "2    1  2019-05-03 11:11:44 2019-05-03 11:14:36           0.744363   \n",
       "\n",
       "   Реактивная мощность  \n",
       "0             0.687084  \n",
       "1             0.520285  \n",
       "2             0.498805  "
      ]
     },
     "execution_count": 62,
     "metadata": {},
     "output_type": "execute_result"
    }
   ],
   "source": [
    "df_arc.head(3)"
   ]
  },
  {
   "cell_type": "markdown",
   "metadata": {},
   "source": [
    "Создадим датафреймы с первым и последним замером нагрева дуги с группировкой по ключу:"
   ]
  },
  {
   "cell_type": "code",
   "execution_count": 63,
   "metadata": {},
   "outputs": [],
   "source": [
    "arc_first = df_arc.groupby('key').first().reset_index()\n",
    "arc_last = df_arc.groupby('key').last().reset_index()"
   ]
  },
  {
   "cell_type": "code",
   "execution_count": 64,
   "metadata": {},
   "outputs": [
    {
     "data": {
      "text/html": [
       "<div>\n",
       "<style scoped>\n",
       "    .dataframe tbody tr th:only-of-type {\n",
       "        vertical-align: middle;\n",
       "    }\n",
       "\n",
       "    .dataframe tbody tr th {\n",
       "        vertical-align: top;\n",
       "    }\n",
       "\n",
       "    .dataframe thead th {\n",
       "        text-align: right;\n",
       "    }\n",
       "</style>\n",
       "<table border=\"1\" class=\"dataframe\">\n",
       "  <thead>\n",
       "    <tr style=\"text-align: right;\">\n",
       "      <th></th>\n",
       "      <th>key</th>\n",
       "      <th>Начало нагрева дугой</th>\n",
       "      <th>Конец нагрева дугой</th>\n",
       "      <th>Активная мощность</th>\n",
       "      <th>Реактивная мощность</th>\n",
       "    </tr>\n",
       "  </thead>\n",
       "  <tbody>\n",
       "    <tr>\n",
       "      <th>0</th>\n",
       "      <td>1</td>\n",
       "      <td>2019-05-03 11:02:14</td>\n",
       "      <td>2019-05-03 11:06:02</td>\n",
       "      <td>0.976059</td>\n",
       "      <td>0.687084</td>\n",
       "    </tr>\n",
       "    <tr>\n",
       "      <th>1</th>\n",
       "      <td>2</td>\n",
       "      <td>2019-05-03 11:34:14</td>\n",
       "      <td>2019-05-03 11:36:31</td>\n",
       "      <td>0.438063</td>\n",
       "      <td>0.283043</td>\n",
       "    </tr>\n",
       "    <tr>\n",
       "      <th>2</th>\n",
       "      <td>3</td>\n",
       "      <td>2019-05-03 12:06:54</td>\n",
       "      <td>2019-05-03 12:11:34</td>\n",
       "      <td>1.062053</td>\n",
       "      <td>0.671494</td>\n",
       "    </tr>\n",
       "  </tbody>\n",
       "</table>\n",
       "</div>"
      ],
      "text/plain": [
       "   key Начало нагрева дугой Конец нагрева дугой  Активная мощность  \\\n",
       "0    1  2019-05-03 11:02:14 2019-05-03 11:06:02           0.976059   \n",
       "1    2  2019-05-03 11:34:14 2019-05-03 11:36:31           0.438063   \n",
       "2    3  2019-05-03 12:06:54 2019-05-03 12:11:34           1.062053   \n",
       "\n",
       "   Реактивная мощность  \n",
       "0             0.687084  \n",
       "1             0.283043  \n",
       "2             0.671494  "
      ]
     },
     "execution_count": 64,
     "metadata": {},
     "output_type": "execute_result"
    }
   ],
   "source": [
    "arc_first.head(3)"
   ]
  },
  {
   "cell_type": "code",
   "execution_count": 65,
   "metadata": {},
   "outputs": [
    {
     "data": {
      "text/html": [
       "<div>\n",
       "<style scoped>\n",
       "    .dataframe tbody tr th:only-of-type {\n",
       "        vertical-align: middle;\n",
       "    }\n",
       "\n",
       "    .dataframe tbody tr th {\n",
       "        vertical-align: top;\n",
       "    }\n",
       "\n",
       "    .dataframe thead th {\n",
       "        text-align: right;\n",
       "    }\n",
       "</style>\n",
       "<table border=\"1\" class=\"dataframe\">\n",
       "  <thead>\n",
       "    <tr style=\"text-align: right;\">\n",
       "      <th></th>\n",
       "      <th>key</th>\n",
       "      <th>Начало нагрева дугой</th>\n",
       "      <th>Конец нагрева дугой</th>\n",
       "      <th>Активная мощность</th>\n",
       "      <th>Реактивная мощность</th>\n",
       "    </tr>\n",
       "  </thead>\n",
       "  <tbody>\n",
       "    <tr>\n",
       "      <th>0</th>\n",
       "      <td>1</td>\n",
       "      <td>2019-05-03 11:26:09</td>\n",
       "      <td>2019-05-03 11:28:37</td>\n",
       "      <td>0.692755</td>\n",
       "      <td>0.414397</td>\n",
       "    </tr>\n",
       "    <tr>\n",
       "      <th>1</th>\n",
       "      <td>2</td>\n",
       "      <td>2019-05-03 11:49:48</td>\n",
       "      <td>2019-05-03 11:53:18</td>\n",
       "      <td>0.827743</td>\n",
       "      <td>0.516874</td>\n",
       "    </tr>\n",
       "    <tr>\n",
       "      <th>2</th>\n",
       "      <td>3</td>\n",
       "      <td>2019-05-03 12:31:14</td>\n",
       "      <td>2019-05-03 12:32:19</td>\n",
       "      <td>0.250280</td>\n",
       "      <td>0.155901</td>\n",
       "    </tr>\n",
       "  </tbody>\n",
       "</table>\n",
       "</div>"
      ],
      "text/plain": [
       "   key Начало нагрева дугой Конец нагрева дугой  Активная мощность  \\\n",
       "0    1  2019-05-03 11:26:09 2019-05-03 11:28:37           0.692755   \n",
       "1    2  2019-05-03 11:49:48 2019-05-03 11:53:18           0.827743   \n",
       "2    3  2019-05-03 12:31:14 2019-05-03 12:32:19           0.250280   \n",
       "\n",
       "   Реактивная мощность  \n",
       "0             0.414397  \n",
       "1             0.516874  \n",
       "2             0.155901  "
      ]
     },
     "execution_count": 65,
     "metadata": {},
     "output_type": "execute_result"
    }
   ],
   "source": [
    "arc_last.head(3)"
   ]
  },
  {
   "cell_type": "markdown",
   "metadata": {},
   "source": [
    "Избавимся от строк, где  где начальное время нагрева равно конечному:"
   ]
  },
  {
   "cell_type": "code",
   "execution_count": 66,
   "metadata": {},
   "outputs": [
    {
     "data": {
      "text/plain": [
       "(3213, 5)"
      ]
     },
     "execution_count": 66,
     "metadata": {},
     "output_type": "execute_result"
    }
   ],
   "source": [
    "arc_first.shape"
   ]
  },
  {
   "cell_type": "code",
   "execution_count": 67,
   "metadata": {},
   "outputs": [
    {
     "data": {
      "text/plain": [
       "39"
      ]
     },
     "execution_count": 67,
     "metadata": {},
     "output_type": "execute_result"
    }
   ],
   "source": [
    "len(arc_first[(arc_first['Начало нагрева дугой'] == arc_last['Начало нагрева дугой']) & \n",
    "          (arc_first['Конец нагрева дугой'] == arc_last['Конец нагрева дугой'])])"
   ]
  },
  {
   "cell_type": "code",
   "execution_count": 68,
   "metadata": {},
   "outputs": [
    {
     "data": {
      "text/plain": [
       "39"
      ]
     },
     "execution_count": 68,
     "metadata": {},
     "output_type": "execute_result"
    }
   ],
   "source": [
    "len(arc_last[(arc_first['Начало нагрева дугой'] == arc_last['Начало нагрева дугой']) & \n",
    "          (arc_first['Конец нагрева дугой'] == arc_last['Конец нагрева дугой'])])"
   ]
  },
  {
   "cell_type": "code",
   "execution_count": 69,
   "metadata": {},
   "outputs": [],
   "source": [
    "diff_fst = (arc_first[(arc_first['Начало нагрева дугой'] == arc_last['Начало нагрева дугой']) &           \n",
    "                      (arc_first['Конец нагрева дугой'] == arc_last['Конец нагрева дугой'])]).index"
   ]
  },
  {
   "cell_type": "code",
   "execution_count": 70,
   "metadata": {},
   "outputs": [],
   "source": [
    "diff_lst = (arc_last[(arc_first['Начало нагрева дугой'] == arc_last['Начало нагрева дугой']) & \n",
    "                    (arc_first['Конец нагрева дугой'] == arc_last['Конец нагрева дугой'])]).index"
   ]
  },
  {
   "cell_type": "code",
   "execution_count": 71,
   "metadata": {},
   "outputs": [],
   "source": [
    "arc_first = arc_first.drop(arc_first.index[diff_fst]).reset_index(drop=True)\n",
    "arc_last = arc_last.drop(arc_last.index[diff_lst]).reset_index(drop=True)"
   ]
  },
  {
   "cell_type": "code",
   "execution_count": 72,
   "metadata": {},
   "outputs": [
    {
     "data": {
      "text/plain": [
       "(3174, 5)"
      ]
     },
     "execution_count": 72,
     "metadata": {},
     "output_type": "execute_result"
    }
   ],
   "source": [
    "arc_first.shape"
   ]
  },
  {
   "cell_type": "code",
   "execution_count": 73,
   "metadata": {},
   "outputs": [
    {
     "data": {
      "text/plain": [
       "(3174, 5)"
      ]
     },
     "execution_count": 73,
     "metadata": {},
     "output_type": "execute_result"
    }
   ],
   "source": [
    "arc_last.shape"
   ]
  },
  {
   "cell_type": "code",
   "execution_count": 74,
   "metadata": {},
   "outputs": [],
   "source": [
    "arc_first = arc_first.drop(['Начало нагрева дугой', 'Конец нагрева дугой'], axis=1)\n",
    "arc_last = arc_last.drop(['Начало нагрева дугой', 'Конец нагрева дугой'], axis=1)"
   ]
  },
  {
   "cell_type": "code",
   "execution_count": 75,
   "metadata": {},
   "outputs": [],
   "source": [
    "arc_first = arc_first.rename(columns={'Активная мощность':'Начальная_активная_мощность', 'Реактивная мощность':'Начальная_реактивная_мощность'})\n",
    "arc_last = arc_last.rename(columns={'Активная мощность':'Конечная_активная_мощность', 'Реактивная мощность':'Конечная_реактивная_мощность'})"
   ]
  },
  {
   "cell_type": "code",
   "execution_count": 76,
   "metadata": {},
   "outputs": [
    {
     "data": {
      "text/html": [
       "<div>\n",
       "<style scoped>\n",
       "    .dataframe tbody tr th:only-of-type {\n",
       "        vertical-align: middle;\n",
       "    }\n",
       "\n",
       "    .dataframe tbody tr th {\n",
       "        vertical-align: top;\n",
       "    }\n",
       "\n",
       "    .dataframe thead th {\n",
       "        text-align: right;\n",
       "    }\n",
       "</style>\n",
       "<table border=\"1\" class=\"dataframe\">\n",
       "  <thead>\n",
       "    <tr style=\"text-align: right;\">\n",
       "      <th></th>\n",
       "      <th>key</th>\n",
       "      <th>Начальная_активная_мощность</th>\n",
       "      <th>Начальная_реактивная_мощность</th>\n",
       "    </tr>\n",
       "  </thead>\n",
       "  <tbody>\n",
       "    <tr>\n",
       "      <th>0</th>\n",
       "      <td>1</td>\n",
       "      <td>0.976059</td>\n",
       "      <td>0.687084</td>\n",
       "    </tr>\n",
       "    <tr>\n",
       "      <th>1</th>\n",
       "      <td>2</td>\n",
       "      <td>0.438063</td>\n",
       "      <td>0.283043</td>\n",
       "    </tr>\n",
       "    <tr>\n",
       "      <th>2</th>\n",
       "      <td>3</td>\n",
       "      <td>1.062053</td>\n",
       "      <td>0.671494</td>\n",
       "    </tr>\n",
       "  </tbody>\n",
       "</table>\n",
       "</div>"
      ],
      "text/plain": [
       "   key  Начальная_активная_мощность  Начальная_реактивная_мощность\n",
       "0    1                     0.976059                       0.687084\n",
       "1    2                     0.438063                       0.283043\n",
       "2    3                     1.062053                       0.671494"
      ]
     },
     "execution_count": 76,
     "metadata": {},
     "output_type": "execute_result"
    }
   ],
   "source": [
    "arc_first.head(3)"
   ]
  },
  {
   "cell_type": "code",
   "execution_count": 77,
   "metadata": {},
   "outputs": [
    {
     "data": {
      "text/html": [
       "<div>\n",
       "<style scoped>\n",
       "    .dataframe tbody tr th:only-of-type {\n",
       "        vertical-align: middle;\n",
       "    }\n",
       "\n",
       "    .dataframe tbody tr th {\n",
       "        vertical-align: top;\n",
       "    }\n",
       "\n",
       "    .dataframe thead th {\n",
       "        text-align: right;\n",
       "    }\n",
       "</style>\n",
       "<table border=\"1\" class=\"dataframe\">\n",
       "  <thead>\n",
       "    <tr style=\"text-align: right;\">\n",
       "      <th></th>\n",
       "      <th>key</th>\n",
       "      <th>Конечная_активная_мощность</th>\n",
       "      <th>Конечная_реактивная_мощность</th>\n",
       "    </tr>\n",
       "  </thead>\n",
       "  <tbody>\n",
       "    <tr>\n",
       "      <th>0</th>\n",
       "      <td>1</td>\n",
       "      <td>0.692755</td>\n",
       "      <td>0.414397</td>\n",
       "    </tr>\n",
       "    <tr>\n",
       "      <th>1</th>\n",
       "      <td>2</td>\n",
       "      <td>0.827743</td>\n",
       "      <td>0.516874</td>\n",
       "    </tr>\n",
       "    <tr>\n",
       "      <th>2</th>\n",
       "      <td>3</td>\n",
       "      <td>0.250280</td>\n",
       "      <td>0.155901</td>\n",
       "    </tr>\n",
       "  </tbody>\n",
       "</table>\n",
       "</div>"
      ],
      "text/plain": [
       "   key  Конечная_активная_мощность  Конечная_реактивная_мощность\n",
       "0    1                    0.692755                      0.414397\n",
       "1    2                    0.827743                      0.516874\n",
       "2    3                    0.250280                      0.155901"
      ]
     },
     "execution_count": 77,
     "metadata": {},
     "output_type": "execute_result"
    }
   ],
   "source": [
    "arc_last.head(3)"
   ]
  },
  {
   "cell_type": "markdown",
   "metadata": {},
   "source": [
    "Расчитаем полную мощность:"
   ]
  },
  {
   "cell_type": "code",
   "execution_count": 78,
   "metadata": {},
   "outputs": [],
   "source": [
    "def full_p(row):\n",
    "    p = (row['Активная мощность']**2 + row['Реактивная мощность']**2)**0.5\n",
    "    return p"
   ]
  },
  {
   "cell_type": "code",
   "execution_count": 79,
   "metadata": {},
   "outputs": [],
   "source": [
    "fp_arc = df_arc.groupby('key').median().reset_index()"
   ]
  },
  {
   "cell_type": "code",
   "execution_count": 80,
   "metadata": {},
   "outputs": [],
   "source": [
    "fp_arc['Полная_мощность'] = fp_arc.apply(full_p, axis=1)"
   ]
  },
  {
   "cell_type": "code",
   "execution_count": 81,
   "metadata": {},
   "outputs": [
    {
     "data": {
      "text/html": [
       "<div>\n",
       "<style scoped>\n",
       "    .dataframe tbody tr th:only-of-type {\n",
       "        vertical-align: middle;\n",
       "    }\n",
       "\n",
       "    .dataframe tbody tr th {\n",
       "        vertical-align: top;\n",
       "    }\n",
       "\n",
       "    .dataframe thead th {\n",
       "        text-align: right;\n",
       "    }\n",
       "</style>\n",
       "<table border=\"1\" class=\"dataframe\">\n",
       "  <thead>\n",
       "    <tr style=\"text-align: right;\">\n",
       "      <th></th>\n",
       "      <th>key</th>\n",
       "      <th>Полная_мощность</th>\n",
       "    </tr>\n",
       "  </thead>\n",
       "  <tbody>\n",
       "    <tr>\n",
       "      <th>0</th>\n",
       "      <td>1</td>\n",
       "      <td>0.959010</td>\n",
       "    </tr>\n",
       "    <tr>\n",
       "      <th>1</th>\n",
       "      <td>2</td>\n",
       "      <td>0.776753</td>\n",
       "    </tr>\n",
       "    <tr>\n",
       "      <th>2</th>\n",
       "      <td>3</td>\n",
       "      <td>0.508140</td>\n",
       "    </tr>\n",
       "  </tbody>\n",
       "</table>\n",
       "</div>"
      ],
      "text/plain": [
       "   key  Полная_мощность\n",
       "0    1         0.959010\n",
       "1    2         0.776753\n",
       "2    3         0.508140"
      ]
     },
     "execution_count": 81,
     "metadata": {},
     "output_type": "execute_result"
    }
   ],
   "source": [
    "fp_arc = fp_arc.drop(['Активная мощность', 'Реактивная мощность'], axis=1)\n",
    "fp_arc.head(3)"
   ]
  },
  {
   "cell_type": "markdown",
   "metadata": {},
   "source": [
    "Вычислим время нагрева электродов:"
   ]
  },
  {
   "cell_type": "code",
   "execution_count": 82,
   "metadata": {},
   "outputs": [
    {
     "data": {
      "text/html": [
       "<div>\n",
       "<style scoped>\n",
       "    .dataframe tbody tr th:only-of-type {\n",
       "        vertical-align: middle;\n",
       "    }\n",
       "\n",
       "    .dataframe tbody tr th {\n",
       "        vertical-align: top;\n",
       "    }\n",
       "\n",
       "    .dataframe thead th {\n",
       "        text-align: right;\n",
       "    }\n",
       "</style>\n",
       "<table border=\"1\" class=\"dataframe\">\n",
       "  <thead>\n",
       "    <tr style=\"text-align: right;\">\n",
       "      <th></th>\n",
       "      <th>key</th>\n",
       "      <th>Начало нагрева дугой</th>\n",
       "      <th>Конец нагрева дугой</th>\n",
       "      <th>Активная мощность</th>\n",
       "      <th>Реактивная мощность</th>\n",
       "      <th>Время_нагрева</th>\n",
       "    </tr>\n",
       "  </thead>\n",
       "  <tbody>\n",
       "    <tr>\n",
       "      <th>0</th>\n",
       "      <td>1</td>\n",
       "      <td>2019-05-03 11:02:14</td>\n",
       "      <td>2019-05-03 11:06:02</td>\n",
       "      <td>0.976059</td>\n",
       "      <td>0.687084</td>\n",
       "      <td>228.0</td>\n",
       "    </tr>\n",
       "    <tr>\n",
       "      <th>1</th>\n",
       "      <td>1</td>\n",
       "      <td>2019-05-03 11:07:28</td>\n",
       "      <td>2019-05-03 11:10:33</td>\n",
       "      <td>0.805607</td>\n",
       "      <td>0.520285</td>\n",
       "      <td>185.0</td>\n",
       "    </tr>\n",
       "    <tr>\n",
       "      <th>2</th>\n",
       "      <td>1</td>\n",
       "      <td>2019-05-03 11:11:44</td>\n",
       "      <td>2019-05-03 11:14:36</td>\n",
       "      <td>0.744363</td>\n",
       "      <td>0.498805</td>\n",
       "      <td>172.0</td>\n",
       "    </tr>\n",
       "  </tbody>\n",
       "</table>\n",
       "</div>"
      ],
      "text/plain": [
       "   key Начало нагрева дугой Конец нагрева дугой  Активная мощность  \\\n",
       "0    1  2019-05-03 11:02:14 2019-05-03 11:06:02           0.976059   \n",
       "1    1  2019-05-03 11:07:28 2019-05-03 11:10:33           0.805607   \n",
       "2    1  2019-05-03 11:11:44 2019-05-03 11:14:36           0.744363   \n",
       "\n",
       "   Реактивная мощность  Время_нагрева  \n",
       "0             0.687084          228.0  \n",
       "1             0.520285          185.0  \n",
       "2             0.498805          172.0  "
      ]
     },
     "execution_count": 82,
     "metadata": {},
     "output_type": "execute_result"
    }
   ],
   "source": [
    "df_arc['Время_нагрева'] = (df_arc['Конец нагрева дугой'] - df_arc['Начало нагрева дугой']) / np.timedelta64(1, 's')\n",
    "df_arc.head(3)"
   ]
  },
  {
   "cell_type": "code",
   "execution_count": 83,
   "metadata": {},
   "outputs": [
    {
     "data": {
      "text/html": [
       "<div>\n",
       "<style scoped>\n",
       "    .dataframe tbody tr th:only-of-type {\n",
       "        vertical-align: middle;\n",
       "    }\n",
       "\n",
       "    .dataframe tbody tr th {\n",
       "        vertical-align: top;\n",
       "    }\n",
       "\n",
       "    .dataframe thead th {\n",
       "        text-align: right;\n",
       "    }\n",
       "</style>\n",
       "<table border=\"1\" class=\"dataframe\">\n",
       "  <thead>\n",
       "    <tr style=\"text-align: right;\">\n",
       "      <th></th>\n",
       "      <th>key</th>\n",
       "      <th>Количество_циклов</th>\n",
       "      <th>Время_нагрева</th>\n",
       "    </tr>\n",
       "  </thead>\n",
       "  <tbody>\n",
       "    <tr>\n",
       "      <th>0</th>\n",
       "      <td>1</td>\n",
       "      <td>5</td>\n",
       "      <td>1098.0</td>\n",
       "    </tr>\n",
       "    <tr>\n",
       "      <th>1</th>\n",
       "      <td>2</td>\n",
       "      <td>4</td>\n",
       "      <td>811.0</td>\n",
       "    </tr>\n",
       "    <tr>\n",
       "      <th>2</th>\n",
       "      <td>3</td>\n",
       "      <td>5</td>\n",
       "      <td>655.0</td>\n",
       "    </tr>\n",
       "  </tbody>\n",
       "</table>\n",
       "</div>"
      ],
      "text/plain": [
       "   key  Количество_циклов  Время_нагрева\n",
       "0    1                  5         1098.0\n",
       "1    2                  4          811.0\n",
       "2    3                  5          655.0"
      ]
     },
     "execution_count": 83,
     "metadata": {},
     "output_type": "execute_result"
    }
   ],
   "source": [
    "arc_time = df_arc.groupby('key').agg({'Время_нагрева':['count', 'sum']}).reset_index()\n",
    "arc_time.columns = ['key', 'Количество_циклов', 'Время_нагрева']\n",
    "arc_time.head(3)"
   ]
  },
  {
   "cell_type": "code",
   "execution_count": 84,
   "metadata": {},
   "outputs": [
    {
     "data": {
      "text/html": [
       "<div>\n",
       "<style scoped>\n",
       "    .dataframe tbody tr th:only-of-type {\n",
       "        vertical-align: middle;\n",
       "    }\n",
       "\n",
       "    .dataframe tbody tr th {\n",
       "        vertical-align: top;\n",
       "    }\n",
       "\n",
       "    .dataframe thead th {\n",
       "        text-align: right;\n",
       "    }\n",
       "</style>\n",
       "<table border=\"1\" class=\"dataframe\">\n",
       "  <thead>\n",
       "    <tr style=\"text-align: right;\">\n",
       "      <th></th>\n",
       "      <th>key</th>\n",
       "      <th>Количество_циклов</th>\n",
       "      <th>Время_нагрева</th>\n",
       "      <th>Полная_мощность</th>\n",
       "    </tr>\n",
       "  </thead>\n",
       "  <tbody>\n",
       "    <tr>\n",
       "      <th>0</th>\n",
       "      <td>1</td>\n",
       "      <td>5</td>\n",
       "      <td>1098.0</td>\n",
       "      <td>0.959010</td>\n",
       "    </tr>\n",
       "    <tr>\n",
       "      <th>1</th>\n",
       "      <td>2</td>\n",
       "      <td>4</td>\n",
       "      <td>811.0</td>\n",
       "      <td>0.776753</td>\n",
       "    </tr>\n",
       "    <tr>\n",
       "      <th>2</th>\n",
       "      <td>3</td>\n",
       "      <td>5</td>\n",
       "      <td>655.0</td>\n",
       "      <td>0.508140</td>\n",
       "    </tr>\n",
       "  </tbody>\n",
       "</table>\n",
       "</div>"
      ],
      "text/plain": [
       "   key  Количество_циклов  Время_нагрева  Полная_мощность\n",
       "0    1                  5         1098.0         0.959010\n",
       "1    2                  4          811.0         0.776753\n",
       "2    3                  5          655.0         0.508140"
      ]
     },
     "execution_count": 84,
     "metadata": {},
     "output_type": "execute_result"
    }
   ],
   "source": [
    "fp_arc = arc_time.merge(fp_arc, on='key', how='inner')\n",
    "fp_arc.head(3)"
   ]
  },
  {
   "cell_type": "markdown",
   "metadata": {},
   "source": [
    "Вычислим работу:"
   ]
  },
  {
   "cell_type": "code",
   "execution_count": 85,
   "metadata": {},
   "outputs": [
    {
     "data": {
      "text/html": [
       "<div>\n",
       "<style scoped>\n",
       "    .dataframe tbody tr th:only-of-type {\n",
       "        vertical-align: middle;\n",
       "    }\n",
       "\n",
       "    .dataframe tbody tr th {\n",
       "        vertical-align: top;\n",
       "    }\n",
       "\n",
       "    .dataframe thead th {\n",
       "        text-align: right;\n",
       "    }\n",
       "</style>\n",
       "<table border=\"1\" class=\"dataframe\">\n",
       "  <thead>\n",
       "    <tr style=\"text-align: right;\">\n",
       "      <th></th>\n",
       "      <th>key</th>\n",
       "      <th>Количество_циклов</th>\n",
       "      <th>Время_нагрева</th>\n",
       "      <th>Полная_мощность</th>\n",
       "      <th>Работа</th>\n",
       "    </tr>\n",
       "  </thead>\n",
       "  <tbody>\n",
       "    <tr>\n",
       "      <th>0</th>\n",
       "      <td>1</td>\n",
       "      <td>5</td>\n",
       "      <td>1098.0</td>\n",
       "      <td>0.959010</td>\n",
       "      <td>1052.992595</td>\n",
       "    </tr>\n",
       "    <tr>\n",
       "      <th>1</th>\n",
       "      <td>2</td>\n",
       "      <td>4</td>\n",
       "      <td>811.0</td>\n",
       "      <td>0.776753</td>\n",
       "      <td>629.946311</td>\n",
       "    </tr>\n",
       "    <tr>\n",
       "      <th>2</th>\n",
       "      <td>3</td>\n",
       "      <td>5</td>\n",
       "      <td>655.0</td>\n",
       "      <td>0.508140</td>\n",
       "      <td>332.831978</td>\n",
       "    </tr>\n",
       "  </tbody>\n",
       "</table>\n",
       "</div>"
      ],
      "text/plain": [
       "   key  Количество_циклов  Время_нагрева  Полная_мощность       Работа\n",
       "0    1                  5         1098.0         0.959010  1052.992595\n",
       "1    2                  4          811.0         0.776753   629.946311\n",
       "2    3                  5          655.0         0.508140   332.831978"
      ]
     },
     "execution_count": 85,
     "metadata": {},
     "output_type": "execute_result"
    }
   ],
   "source": [
    "fp_arc['Работа'] = fp_arc['Время_нагрева'] * fp_arc['Полная_мощность']\n",
    "fp_arc.head(3)"
   ]
  },
  {
   "cell_type": "code",
   "execution_count": 86,
   "metadata": {},
   "outputs": [
    {
     "data": {
      "text/plain": [
       "(3213, 5)"
      ]
     },
     "execution_count": 86,
     "metadata": {},
     "output_type": "execute_result"
    }
   ],
   "source": [
    "fp_arc.shape"
   ]
  },
  {
   "cell_type": "code",
   "execution_count": 87,
   "metadata": {},
   "outputs": [
    {
     "data": {
      "text/plain": [
       "(3174, 3)"
      ]
     },
     "execution_count": 87,
     "metadata": {},
     "output_type": "execute_result"
    }
   ],
   "source": [
    "arc_last.shape"
   ]
  },
  {
   "cell_type": "code",
   "execution_count": 88,
   "metadata": {},
   "outputs": [
    {
     "data": {
      "text/plain": [
       "(3174, 3)"
      ]
     },
     "execution_count": 88,
     "metadata": {},
     "output_type": "execute_result"
    }
   ],
   "source": [
    "arc_first.shape"
   ]
  },
  {
   "cell_type": "markdown",
   "metadata": {},
   "source": [
    "Объединим таблицы:"
   ]
  },
  {
   "cell_type": "code",
   "execution_count": 89,
   "metadata": {},
   "outputs": [
    {
     "data": {
      "text/html": [
       "<div>\n",
       "<style scoped>\n",
       "    .dataframe tbody tr th:only-of-type {\n",
       "        vertical-align: middle;\n",
       "    }\n",
       "\n",
       "    .dataframe tbody tr th {\n",
       "        vertical-align: top;\n",
       "    }\n",
       "\n",
       "    .dataframe thead th {\n",
       "        text-align: right;\n",
       "    }\n",
       "</style>\n",
       "<table border=\"1\" class=\"dataframe\">\n",
       "  <thead>\n",
       "    <tr style=\"text-align: right;\">\n",
       "      <th></th>\n",
       "      <th>key</th>\n",
       "      <th>Начальная_активная_мощность</th>\n",
       "      <th>Начальная_реактивная_мощность</th>\n",
       "      <th>Конечная_активная_мощность</th>\n",
       "      <th>Конечная_реактивная_мощность</th>\n",
       "    </tr>\n",
       "  </thead>\n",
       "  <tbody>\n",
       "    <tr>\n",
       "      <th>0</th>\n",
       "      <td>1</td>\n",
       "      <td>0.976059</td>\n",
       "      <td>0.687084</td>\n",
       "      <td>0.692755</td>\n",
       "      <td>0.414397</td>\n",
       "    </tr>\n",
       "    <tr>\n",
       "      <th>1</th>\n",
       "      <td>2</td>\n",
       "      <td>0.438063</td>\n",
       "      <td>0.283043</td>\n",
       "      <td>0.827743</td>\n",
       "      <td>0.516874</td>\n",
       "    </tr>\n",
       "    <tr>\n",
       "      <th>2</th>\n",
       "      <td>3</td>\n",
       "      <td>1.062053</td>\n",
       "      <td>0.671494</td>\n",
       "      <td>0.250280</td>\n",
       "      <td>0.155901</td>\n",
       "    </tr>\n",
       "  </tbody>\n",
       "</table>\n",
       "</div>"
      ],
      "text/plain": [
       "   key  Начальная_активная_мощность  Начальная_реактивная_мощность  \\\n",
       "0    1                     0.976059                       0.687084   \n",
       "1    2                     0.438063                       0.283043   \n",
       "2    3                     1.062053                       0.671494   \n",
       "\n",
       "   Конечная_активная_мощность  Конечная_реактивная_мощность  \n",
       "0                    0.692755                      0.414397  \n",
       "1                    0.827743                      0.516874  \n",
       "2                    0.250280                      0.155901  "
      ]
     },
     "execution_count": 89,
     "metadata": {},
     "output_type": "execute_result"
    }
   ],
   "source": [
    "df_arc_full = arc_first.merge(arc_last, on='key', how='inner')\n",
    "df_arc_full.head(3)"
   ]
  },
  {
   "cell_type": "code",
   "execution_count": 90,
   "metadata": {},
   "outputs": [
    {
     "data": {
      "text/html": [
       "<div>\n",
       "<style scoped>\n",
       "    .dataframe tbody tr th:only-of-type {\n",
       "        vertical-align: middle;\n",
       "    }\n",
       "\n",
       "    .dataframe tbody tr th {\n",
       "        vertical-align: top;\n",
       "    }\n",
       "\n",
       "    .dataframe thead th {\n",
       "        text-align: right;\n",
       "    }\n",
       "</style>\n",
       "<table border=\"1\" class=\"dataframe\">\n",
       "  <thead>\n",
       "    <tr style=\"text-align: right;\">\n",
       "      <th></th>\n",
       "      <th>key</th>\n",
       "      <th>Начальная_активная_мощность</th>\n",
       "      <th>Начальная_реактивная_мощность</th>\n",
       "      <th>Конечная_активная_мощность</th>\n",
       "      <th>Конечная_реактивная_мощность</th>\n",
       "      <th>Количество_циклов</th>\n",
       "      <th>Время_нагрева</th>\n",
       "      <th>Полная_мощность</th>\n",
       "      <th>Работа</th>\n",
       "    </tr>\n",
       "  </thead>\n",
       "  <tbody>\n",
       "    <tr>\n",
       "      <th>0</th>\n",
       "      <td>1</td>\n",
       "      <td>0.976059</td>\n",
       "      <td>0.687084</td>\n",
       "      <td>0.692755</td>\n",
       "      <td>0.414397</td>\n",
       "      <td>5</td>\n",
       "      <td>1098.0</td>\n",
       "      <td>0.959010</td>\n",
       "      <td>1052.992595</td>\n",
       "    </tr>\n",
       "    <tr>\n",
       "      <th>1</th>\n",
       "      <td>2</td>\n",
       "      <td>0.438063</td>\n",
       "      <td>0.283043</td>\n",
       "      <td>0.827743</td>\n",
       "      <td>0.516874</td>\n",
       "      <td>4</td>\n",
       "      <td>811.0</td>\n",
       "      <td>0.776753</td>\n",
       "      <td>629.946311</td>\n",
       "    </tr>\n",
       "    <tr>\n",
       "      <th>2</th>\n",
       "      <td>3</td>\n",
       "      <td>1.062053</td>\n",
       "      <td>0.671494</td>\n",
       "      <td>0.250280</td>\n",
       "      <td>0.155901</td>\n",
       "      <td>5</td>\n",
       "      <td>655.0</td>\n",
       "      <td>0.508140</td>\n",
       "      <td>332.831978</td>\n",
       "    </tr>\n",
       "  </tbody>\n",
       "</table>\n",
       "</div>"
      ],
      "text/plain": [
       "   key  Начальная_активная_мощность  Начальная_реактивная_мощность  \\\n",
       "0    1                     0.976059                       0.687084   \n",
       "1    2                     0.438063                       0.283043   \n",
       "2    3                     1.062053                       0.671494   \n",
       "\n",
       "   Конечная_активная_мощность  Конечная_реактивная_мощность  \\\n",
       "0                    0.692755                      0.414397   \n",
       "1                    0.827743                      0.516874   \n",
       "2                    0.250280                      0.155901   \n",
       "\n",
       "   Количество_циклов  Время_нагрева  Полная_мощность       Работа  \n",
       "0                  5         1098.0         0.959010  1052.992595  \n",
       "1                  4          811.0         0.776753   629.946311  \n",
       "2                  5          655.0         0.508140   332.831978  "
      ]
     },
     "execution_count": 90,
     "metadata": {},
     "output_type": "execute_result"
    }
   ],
   "source": [
    "df_arc_full = df_arc_full.merge(fp_arc, on='key', how='inner')\n",
    "df_arc_full.head(3)"
   ]
  },
  {
   "cell_type": "markdown",
   "metadata": {},
   "source": [
    "### Объединенный датасет"
   ]
  },
  {
   "cell_type": "code",
   "execution_count": 91,
   "metadata": {},
   "outputs": [
    {
     "data": {
      "text/plain": [
       "(2442, 11)"
      ]
     },
     "execution_count": 91,
     "metadata": {},
     "output_type": "execute_result"
    }
   ],
   "source": [
    "df_full = df_arc_full.merge(df_temp_full, on='key', how='inner')\n",
    "df_full.shape"
   ]
  },
  {
   "cell_type": "code",
   "execution_count": 92,
   "metadata": {},
   "outputs": [
    {
     "data": {
      "text/plain": [
       "(2440, 12)"
      ]
     },
     "execution_count": 92,
     "metadata": {},
     "output_type": "execute_result"
    }
   ],
   "source": [
    "df_full = df_full.merge(df_gas, on='key', how='inner')\n",
    "df_full.shape"
   ]
  },
  {
   "cell_type": "code",
   "execution_count": 93,
   "metadata": {},
   "outputs": [
    {
     "data": {
      "text/plain": [
       "(2338, 21)"
      ]
     },
     "execution_count": 93,
     "metadata": {},
     "output_type": "execute_result"
    }
   ],
   "source": [
    "df_full = df_full.merge(df_wire, on='key', how='inner')\n",
    "df_full.shape"
   ]
  },
  {
   "cell_type": "code",
   "execution_count": 94,
   "metadata": {},
   "outputs": [
    {
     "data": {
      "text/plain": [
       "(2303, 36)"
      ]
     },
     "execution_count": 94,
     "metadata": {},
     "output_type": "execute_result"
    }
   ],
   "source": [
    "df_full = df_full.merge(df_bulk, on='key', how='inner')\n",
    "df_full.shape"
   ]
  },
  {
   "cell_type": "code",
   "execution_count": 95,
   "metadata": {},
   "outputs": [
    {
     "data": {
      "text/html": [
       "<div>\n",
       "<style scoped>\n",
       "    .dataframe tbody tr th:only-of-type {\n",
       "        vertical-align: middle;\n",
       "    }\n",
       "\n",
       "    .dataframe tbody tr th {\n",
       "        vertical-align: top;\n",
       "    }\n",
       "\n",
       "    .dataframe thead th {\n",
       "        text-align: right;\n",
       "    }\n",
       "</style>\n",
       "<table border=\"1\" class=\"dataframe\">\n",
       "  <thead>\n",
       "    <tr style=\"text-align: right;\">\n",
       "      <th></th>\n",
       "      <th>key</th>\n",
       "      <th>Начальная_активная_мощность</th>\n",
       "      <th>Начальная_реактивная_мощность</th>\n",
       "      <th>Конечная_активная_мощность</th>\n",
       "      <th>Конечная_реактивная_мощность</th>\n",
       "      <th>Количество_циклов</th>\n",
       "      <th>Время_нагрева</th>\n",
       "      <th>Полная_мощность</th>\n",
       "      <th>Работа</th>\n",
       "      <th>Начальная_температура</th>\n",
       "      <th>...</th>\n",
       "      <th>Bulk 6</th>\n",
       "      <th>Bulk 7</th>\n",
       "      <th>Bulk 8</th>\n",
       "      <th>Bulk 9</th>\n",
       "      <th>Bulk 10</th>\n",
       "      <th>Bulk 11</th>\n",
       "      <th>Bulk 12</th>\n",
       "      <th>Bulk 13</th>\n",
       "      <th>Bulk 14</th>\n",
       "      <th>Bulk 15</th>\n",
       "    </tr>\n",
       "  </thead>\n",
       "  <tbody>\n",
       "    <tr>\n",
       "      <th>0</th>\n",
       "      <td>1</td>\n",
       "      <td>0.976059</td>\n",
       "      <td>0.687084</td>\n",
       "      <td>0.692755</td>\n",
       "      <td>0.414397</td>\n",
       "      <td>5</td>\n",
       "      <td>1098.0</td>\n",
       "      <td>0.959010</td>\n",
       "      <td>1052.992595</td>\n",
       "      <td>1571.0</td>\n",
       "      <td>...</td>\n",
       "      <td>0.0</td>\n",
       "      <td>0.0</td>\n",
       "      <td>0.0</td>\n",
       "      <td>0.0</td>\n",
       "      <td>0.0</td>\n",
       "      <td>0.0</td>\n",
       "      <td>206.0</td>\n",
       "      <td>0.0</td>\n",
       "      <td>150.0</td>\n",
       "      <td>154.0</td>\n",
       "    </tr>\n",
       "    <tr>\n",
       "      <th>1</th>\n",
       "      <td>2</td>\n",
       "      <td>0.438063</td>\n",
       "      <td>0.283043</td>\n",
       "      <td>0.827743</td>\n",
       "      <td>0.516874</td>\n",
       "      <td>4</td>\n",
       "      <td>811.0</td>\n",
       "      <td>0.776753</td>\n",
       "      <td>629.946311</td>\n",
       "      <td>1581.0</td>\n",
       "      <td>...</td>\n",
       "      <td>0.0</td>\n",
       "      <td>0.0</td>\n",
       "      <td>0.0</td>\n",
       "      <td>0.0</td>\n",
       "      <td>0.0</td>\n",
       "      <td>0.0</td>\n",
       "      <td>206.0</td>\n",
       "      <td>0.0</td>\n",
       "      <td>149.0</td>\n",
       "      <td>154.0</td>\n",
       "    </tr>\n",
       "    <tr>\n",
       "      <th>2</th>\n",
       "      <td>3</td>\n",
       "      <td>1.062053</td>\n",
       "      <td>0.671494</td>\n",
       "      <td>0.250280</td>\n",
       "      <td>0.155901</td>\n",
       "      <td>5</td>\n",
       "      <td>655.0</td>\n",
       "      <td>0.508140</td>\n",
       "      <td>332.831978</td>\n",
       "      <td>1596.0</td>\n",
       "      <td>...</td>\n",
       "      <td>0.0</td>\n",
       "      <td>0.0</td>\n",
       "      <td>0.0</td>\n",
       "      <td>0.0</td>\n",
       "      <td>0.0</td>\n",
       "      <td>0.0</td>\n",
       "      <td>205.0</td>\n",
       "      <td>0.0</td>\n",
       "      <td>152.0</td>\n",
       "      <td>153.0</td>\n",
       "    </tr>\n",
       "  </tbody>\n",
       "</table>\n",
       "<p>3 rows × 36 columns</p>\n",
       "</div>"
      ],
      "text/plain": [
       "   key  Начальная_активная_мощность  Начальная_реактивная_мощность  \\\n",
       "0    1                     0.976059                       0.687084   \n",
       "1    2                     0.438063                       0.283043   \n",
       "2    3                     1.062053                       0.671494   \n",
       "\n",
       "   Конечная_активная_мощность  Конечная_реактивная_мощность  \\\n",
       "0                    0.692755                      0.414397   \n",
       "1                    0.827743                      0.516874   \n",
       "2                    0.250280                      0.155901   \n",
       "\n",
       "   Количество_циклов  Время_нагрева  Полная_мощность       Работа  \\\n",
       "0                  5         1098.0         0.959010  1052.992595   \n",
       "1                  4          811.0         0.776753   629.946311   \n",
       "2                  5          655.0         0.508140   332.831978   \n",
       "\n",
       "   Начальная_температура  ...  Bulk 6  Bulk 7  Bulk 8  Bulk 9  Bulk 10  \\\n",
       "0                 1571.0  ...     0.0     0.0     0.0     0.0      0.0   \n",
       "1                 1581.0  ...     0.0     0.0     0.0     0.0      0.0   \n",
       "2                 1596.0  ...     0.0     0.0     0.0     0.0      0.0   \n",
       "\n",
       "   Bulk 11  Bulk 12  Bulk 13  Bulk 14  Bulk 15  \n",
       "0      0.0    206.0      0.0    150.0    154.0  \n",
       "1      0.0    206.0      0.0    149.0    154.0  \n",
       "2      0.0    205.0      0.0    152.0    153.0  \n",
       "\n",
       "[3 rows x 36 columns]"
      ]
     },
     "execution_count": 95,
     "metadata": {},
     "output_type": "execute_result"
    }
   ],
   "source": [
    "df_full.head(3)"
   ]
  },
  {
   "cell_type": "code",
   "execution_count": 96,
   "metadata": {},
   "outputs": [
    {
     "data": {
      "text/plain": [
       "0"
      ]
     },
     "execution_count": 96,
     "metadata": {},
     "output_type": "execute_result"
    }
   ],
   "source": [
    "df_full.duplicated().sum()"
   ]
  },
  {
   "cell_type": "markdown",
   "metadata": {},
   "source": [
    "Выводы:\n",
    "\n",
    "- создали датафрейм с начальной и конечной температурами;\n",
    "- по данным об электродах рассчитали полную мощность, количество циклов, время нагрева и работу;\n",
    "- объединили данные в общий датафрейм."
   ]
  },
  {
   "cell_type": "markdown",
   "metadata": {},
   "source": [
    "## Анализ моделей"
   ]
  },
  {
   "cell_type": "markdown",
   "metadata": {},
   "source": [
    "### Подготовка признаков"
   ]
  },
  {
   "cell_type": "code",
   "execution_count": 97,
   "metadata": {},
   "outputs": [],
   "source": [
    "features = df_full.drop(['Конечная_температура', 'key'], axis=1)\n",
    "target = df_full['Конечная_температура']"
   ]
  },
  {
   "cell_type": "code",
   "execution_count": 98,
   "metadata": {},
   "outputs": [
    {
     "data": {
      "text/html": [
       "<div>\n",
       "<style scoped>\n",
       "    .dataframe tbody tr th:only-of-type {\n",
       "        vertical-align: middle;\n",
       "    }\n",
       "\n",
       "    .dataframe tbody tr th {\n",
       "        vertical-align: top;\n",
       "    }\n",
       "\n",
       "    .dataframe thead th {\n",
       "        text-align: right;\n",
       "    }\n",
       "</style>\n",
       "<table border=\"1\" class=\"dataframe\">\n",
       "  <thead>\n",
       "    <tr style=\"text-align: right;\">\n",
       "      <th></th>\n",
       "      <th>Начальная_активная_мощность</th>\n",
       "      <th>Начальная_реактивная_мощность</th>\n",
       "      <th>Конечная_активная_мощность</th>\n",
       "      <th>Конечная_реактивная_мощность</th>\n",
       "      <th>Количество_циклов</th>\n",
       "      <th>Время_нагрева</th>\n",
       "      <th>Полная_мощность</th>\n",
       "      <th>Работа</th>\n",
       "      <th>Начальная_температура</th>\n",
       "      <th>Газ 1</th>\n",
       "      <th>...</th>\n",
       "      <th>Bulk 6</th>\n",
       "      <th>Bulk 7</th>\n",
       "      <th>Bulk 8</th>\n",
       "      <th>Bulk 9</th>\n",
       "      <th>Bulk 10</th>\n",
       "      <th>Bulk 11</th>\n",
       "      <th>Bulk 12</th>\n",
       "      <th>Bulk 13</th>\n",
       "      <th>Bulk 14</th>\n",
       "      <th>Bulk 15</th>\n",
       "    </tr>\n",
       "  </thead>\n",
       "  <tbody>\n",
       "    <tr>\n",
       "      <th>0</th>\n",
       "      <td>0.976059</td>\n",
       "      <td>0.687084</td>\n",
       "      <td>0.692755</td>\n",
       "      <td>0.414397</td>\n",
       "      <td>5</td>\n",
       "      <td>1098.0</td>\n",
       "      <td>0.959010</td>\n",
       "      <td>1052.992595</td>\n",
       "      <td>1571.0</td>\n",
       "      <td>29.749986</td>\n",
       "      <td>...</td>\n",
       "      <td>0.0</td>\n",
       "      <td>0.0</td>\n",
       "      <td>0.0</td>\n",
       "      <td>0.0</td>\n",
       "      <td>0.0</td>\n",
       "      <td>0.0</td>\n",
       "      <td>206.0</td>\n",
       "      <td>0.0</td>\n",
       "      <td>150.0</td>\n",
       "      <td>154.0</td>\n",
       "    </tr>\n",
       "    <tr>\n",
       "      <th>1</th>\n",
       "      <td>0.438063</td>\n",
       "      <td>0.283043</td>\n",
       "      <td>0.827743</td>\n",
       "      <td>0.516874</td>\n",
       "      <td>4</td>\n",
       "      <td>811.0</td>\n",
       "      <td>0.776753</td>\n",
       "      <td>629.946311</td>\n",
       "      <td>1581.0</td>\n",
       "      <td>12.555561</td>\n",
       "      <td>...</td>\n",
       "      <td>0.0</td>\n",
       "      <td>0.0</td>\n",
       "      <td>0.0</td>\n",
       "      <td>0.0</td>\n",
       "      <td>0.0</td>\n",
       "      <td>0.0</td>\n",
       "      <td>206.0</td>\n",
       "      <td>0.0</td>\n",
       "      <td>149.0</td>\n",
       "      <td>154.0</td>\n",
       "    </tr>\n",
       "    <tr>\n",
       "      <th>2</th>\n",
       "      <td>1.062053</td>\n",
       "      <td>0.671494</td>\n",
       "      <td>0.250280</td>\n",
       "      <td>0.155901</td>\n",
       "      <td>5</td>\n",
       "      <td>655.0</td>\n",
       "      <td>0.508140</td>\n",
       "      <td>332.831978</td>\n",
       "      <td>1596.0</td>\n",
       "      <td>28.554793</td>\n",
       "      <td>...</td>\n",
       "      <td>0.0</td>\n",
       "      <td>0.0</td>\n",
       "      <td>0.0</td>\n",
       "      <td>0.0</td>\n",
       "      <td>0.0</td>\n",
       "      <td>0.0</td>\n",
       "      <td>205.0</td>\n",
       "      <td>0.0</td>\n",
       "      <td>152.0</td>\n",
       "      <td>153.0</td>\n",
       "    </tr>\n",
       "  </tbody>\n",
       "</table>\n",
       "<p>3 rows × 34 columns</p>\n",
       "</div>"
      ],
      "text/plain": [
       "   Начальная_активная_мощность  Начальная_реактивная_мощность  \\\n",
       "0                     0.976059                       0.687084   \n",
       "1                     0.438063                       0.283043   \n",
       "2                     1.062053                       0.671494   \n",
       "\n",
       "   Конечная_активная_мощность  Конечная_реактивная_мощность  \\\n",
       "0                    0.692755                      0.414397   \n",
       "1                    0.827743                      0.516874   \n",
       "2                    0.250280                      0.155901   \n",
       "\n",
       "   Количество_циклов  Время_нагрева  Полная_мощность       Работа  \\\n",
       "0                  5         1098.0         0.959010  1052.992595   \n",
       "1                  4          811.0         0.776753   629.946311   \n",
       "2                  5          655.0         0.508140   332.831978   \n",
       "\n",
       "   Начальная_температура      Газ 1  ...  Bulk 6  Bulk 7  Bulk 8  Bulk 9  \\\n",
       "0                 1571.0  29.749986  ...     0.0     0.0     0.0     0.0   \n",
       "1                 1581.0  12.555561  ...     0.0     0.0     0.0     0.0   \n",
       "2                 1596.0  28.554793  ...     0.0     0.0     0.0     0.0   \n",
       "\n",
       "   Bulk 10  Bulk 11  Bulk 12  Bulk 13  Bulk 14  Bulk 15  \n",
       "0      0.0      0.0    206.0      0.0    150.0    154.0  \n",
       "1      0.0      0.0    206.0      0.0    149.0    154.0  \n",
       "2      0.0      0.0    205.0      0.0    152.0    153.0  \n",
       "\n",
       "[3 rows x 34 columns]"
      ]
     },
     "execution_count": 98,
     "metadata": {},
     "output_type": "execute_result"
    }
   ],
   "source": [
    "features.head(3)"
   ]
  },
  {
   "cell_type": "code",
   "execution_count": 99,
   "metadata": {},
   "outputs": [
    {
     "data": {
      "text/plain": [
       "0    1613.0\n",
       "1    1602.0\n",
       "2    1599.0\n",
       "Name: Конечная_температура, dtype: float64"
      ]
     },
     "execution_count": 99,
     "metadata": {},
     "output_type": "execute_result"
    }
   ],
   "source": [
    "target.head(3)"
   ]
  },
  {
   "cell_type": "markdown",
   "metadata": {},
   "source": [
    "Разделим выборки в соотношении 3 к 1:"
   ]
  },
  {
   "cell_type": "code",
   "execution_count": 100,
   "metadata": {},
   "outputs": [],
   "source": [
    "features_train, features_test, target_train, target_test = train_test_split(\n",
    "    features, target, test_size=0.25, random_state=r_state)"
   ]
  },
  {
   "cell_type": "code",
   "execution_count": 101,
   "metadata": {},
   "outputs": [
    {
     "data": {
      "text/html": [
       "<div>\n",
       "<style scoped>\n",
       "    .dataframe tbody tr th:only-of-type {\n",
       "        vertical-align: middle;\n",
       "    }\n",
       "\n",
       "    .dataframe tbody tr th {\n",
       "        vertical-align: top;\n",
       "    }\n",
       "\n",
       "    .dataframe thead th {\n",
       "        text-align: right;\n",
       "    }\n",
       "</style>\n",
       "<table border=\"1\" class=\"dataframe\">\n",
       "  <thead>\n",
       "    <tr style=\"text-align: right;\">\n",
       "      <th></th>\n",
       "      <th>Начальная_активная_мощность</th>\n",
       "      <th>Начальная_реактивная_мощность</th>\n",
       "      <th>Конечная_активная_мощность</th>\n",
       "      <th>Конечная_реактивная_мощность</th>\n",
       "      <th>Количество_циклов</th>\n",
       "      <th>Время_нагрева</th>\n",
       "      <th>Полная_мощность</th>\n",
       "      <th>Работа</th>\n",
       "      <th>Начальная_температура</th>\n",
       "      <th>Газ 1</th>\n",
       "      <th>...</th>\n",
       "      <th>Bulk 6</th>\n",
       "      <th>Bulk 7</th>\n",
       "      <th>Bulk 8</th>\n",
       "      <th>Bulk 9</th>\n",
       "      <th>Bulk 10</th>\n",
       "      <th>Bulk 11</th>\n",
       "      <th>Bulk 12</th>\n",
       "      <th>Bulk 13</th>\n",
       "      <th>Bulk 14</th>\n",
       "      <th>Bulk 15</th>\n",
       "    </tr>\n",
       "  </thead>\n",
       "  <tbody>\n",
       "    <tr>\n",
       "      <th>790</th>\n",
       "      <td>0.470265</td>\n",
       "      <td>0.342909</td>\n",
       "      <td>0.278104</td>\n",
       "      <td>0.189851</td>\n",
       "      <td>7</td>\n",
       "      <td>969.0</td>\n",
       "      <td>0.606882</td>\n",
       "      <td>588.068999</td>\n",
       "      <td>1575.0</td>\n",
       "      <td>11.616807</td>\n",
       "      <td>...</td>\n",
       "      <td>0.0</td>\n",
       "      <td>0.0</td>\n",
       "      <td>0.0</td>\n",
       "      <td>0.0</td>\n",
       "      <td>0.0</td>\n",
       "      <td>0.0</td>\n",
       "      <td>206.0</td>\n",
       "      <td>0.0</td>\n",
       "      <td>117.0</td>\n",
       "      <td>104.0</td>\n",
       "    </tr>\n",
       "    <tr>\n",
       "      <th>2072</th>\n",
       "      <td>0.443274</td>\n",
       "      <td>0.329236</td>\n",
       "      <td>0.924192</td>\n",
       "      <td>0.859182</td>\n",
       "      <td>2</td>\n",
       "      <td>510.0</td>\n",
       "      <td>0.905856</td>\n",
       "      <td>461.986603</td>\n",
       "      <td>1598.0</td>\n",
       "      <td>18.190581</td>\n",
       "      <td>...</td>\n",
       "      <td>0.0</td>\n",
       "      <td>0.0</td>\n",
       "      <td>0.0</td>\n",
       "      <td>0.0</td>\n",
       "      <td>0.0</td>\n",
       "      <td>0.0</td>\n",
       "      <td>513.0</td>\n",
       "      <td>0.0</td>\n",
       "      <td>194.0</td>\n",
       "      <td>0.0</td>\n",
       "    </tr>\n",
       "    <tr>\n",
       "      <th>2128</th>\n",
       "      <td>0.505565</td>\n",
       "      <td>0.498651</td>\n",
       "      <td>0.362735</td>\n",
       "      <td>0.366029</td>\n",
       "      <td>3</td>\n",
       "      <td>506.0</td>\n",
       "      <td>0.710105</td>\n",
       "      <td>359.313021</td>\n",
       "      <td>1620.0</td>\n",
       "      <td>7.340110</td>\n",
       "      <td>...</td>\n",
       "      <td>0.0</td>\n",
       "      <td>0.0</td>\n",
       "      <td>0.0</td>\n",
       "      <td>0.0</td>\n",
       "      <td>0.0</td>\n",
       "      <td>0.0</td>\n",
       "      <td>0.0</td>\n",
       "      <td>0.0</td>\n",
       "      <td>0.0</td>\n",
       "      <td>0.0</td>\n",
       "    </tr>\n",
       "  </tbody>\n",
       "</table>\n",
       "<p>3 rows × 34 columns</p>\n",
       "</div>"
      ],
      "text/plain": [
       "      Начальная_активная_мощность  Начальная_реактивная_мощность  \\\n",
       "790                      0.470265                       0.342909   \n",
       "2072                     0.443274                       0.329236   \n",
       "2128                     0.505565                       0.498651   \n",
       "\n",
       "      Конечная_активная_мощность  Конечная_реактивная_мощность  \\\n",
       "790                     0.278104                      0.189851   \n",
       "2072                    0.924192                      0.859182   \n",
       "2128                    0.362735                      0.366029   \n",
       "\n",
       "      Количество_циклов  Время_нагрева  Полная_мощность      Работа  \\\n",
       "790                   7          969.0         0.606882  588.068999   \n",
       "2072                  2          510.0         0.905856  461.986603   \n",
       "2128                  3          506.0         0.710105  359.313021   \n",
       "\n",
       "      Начальная_температура      Газ 1  ...  Bulk 6  Bulk 7  Bulk 8  Bulk 9  \\\n",
       "790                  1575.0  11.616807  ...     0.0     0.0     0.0     0.0   \n",
       "2072                 1598.0  18.190581  ...     0.0     0.0     0.0     0.0   \n",
       "2128                 1620.0   7.340110  ...     0.0     0.0     0.0     0.0   \n",
       "\n",
       "      Bulk 10  Bulk 11  Bulk 12  Bulk 13  Bulk 14  Bulk 15  \n",
       "790       0.0      0.0    206.0      0.0    117.0    104.0  \n",
       "2072      0.0      0.0    513.0      0.0    194.0      0.0  \n",
       "2128      0.0      0.0      0.0      0.0      0.0      0.0  \n",
       "\n",
       "[3 rows x 34 columns]"
      ]
     },
     "execution_count": 101,
     "metadata": {},
     "output_type": "execute_result"
    }
   ],
   "source": [
    "features_train.head(3)"
   ]
  },
  {
   "cell_type": "markdown",
   "metadata": {},
   "source": [
    "Выводы:\n",
    "\n",
    "- разделили данные на обучающие признаки и целевой признак;\n",
    "- создали обучающие и тестовые выборки.\n",
    "\n",
    "Масштабирование признаков не производим, т.к. оно сильно ухудшало качество на тестовой выборке."
   ]
  },
  {
   "cell_type": "markdown",
   "metadata": {},
   "source": [
    "### Выбор модели"
   ]
  },
  {
   "cell_type": "markdown",
   "metadata": {},
   "source": [
    "Обучим разные модели и подберем гиперпараметры:"
   ]
  },
  {
   "cell_type": "markdown",
   "metadata": {},
   "source": [
    "### Модель Случайный лес"
   ]
  },
  {
   "cell_type": "code",
   "execution_count": 102,
   "metadata": {},
   "outputs": [],
   "source": [
    "rfr = RandomForestRegressor(random_state=r_state)\n",
    "\n",
    "parametrs = {'n_estimators': range (150, 301, 100),\n",
    "              'max_depth': range (20, 41, 10)}"
   ]
  },
  {
   "cell_type": "code",
   "execution_count": 103,
   "metadata": {},
   "outputs": [
    {
     "name": "stdout",
     "output_type": "stream",
     "text": [
      "CPU times: user 41.8 s, sys: 74.3 ms, total: 41.8 s\n",
      "Wall time: 42.1 s\n"
     ]
    },
    {
     "data": {
      "text/plain": [
       "{'max_depth': 30, 'n_estimators': 250}"
      ]
     },
     "execution_count": 103,
     "metadata": {},
     "output_type": "execute_result"
    }
   ],
   "source": [
    "%%time\n",
    "\n",
    "grid = GridSearchCV(rfr, parametrs, cv=3, scoring='neg_mean_absolute_error')\n",
    "grid.fit(features_train, target_train)\n",
    "\n",
    "grid.best_params_"
   ]
  },
  {
   "cell_type": "code",
   "execution_count": 104,
   "metadata": {},
   "outputs": [
    {
     "name": "stdout",
     "output_type": "stream",
     "text": [
      "MAE: 6.237\n"
     ]
    }
   ],
   "source": [
    "print(f'MAE: {(grid.best_score_ * -1):.3f}')"
   ]
  },
  {
   "cell_type": "markdown",
   "metadata": {},
   "source": [
    "### Модель LightGBM"
   ]
  },
  {
   "cell_type": "code",
   "execution_count": 105,
   "metadata": {},
   "outputs": [],
   "source": [
    "lgr = LGBMRegressor(random_state=r_state)\n",
    "\n",
    "parametrs = {'n_estimators': range (10, 221, 100),\n",
    "              'max_depth': range (10, 41, 10),\n",
    "              'num_leaves': range (10, 31, 10)}"
   ]
  },
  {
   "cell_type": "code",
   "execution_count": 106,
   "metadata": {},
   "outputs": [
    {
     "name": "stdout",
     "output_type": "stream",
     "text": [
      "CPU times: user 1min 35s, sys: 814 ms, total: 1min 36s\n",
      "Wall time: 1min 36s\n"
     ]
    },
    {
     "data": {
      "text/plain": [
       "{'max_depth': 10, 'n_estimators': 110, 'num_leaves': 10}"
      ]
     },
     "execution_count": 106,
     "metadata": {},
     "output_type": "execute_result"
    }
   ],
   "source": [
    "%%time\n",
    "\n",
    "grid = GridSearchCV(lgr, parametrs, cv=3, scoring='neg_mean_absolute_error')\n",
    "grid.fit(features_train, target_train)\n",
    "\n",
    "grid.best_params_"
   ]
  },
  {
   "cell_type": "code",
   "execution_count": 107,
   "metadata": {},
   "outputs": [
    {
     "name": "stdout",
     "output_type": "stream",
     "text": [
      "MAE: 6.250\n"
     ]
    }
   ],
   "source": [
    "print(f'MAE: {(grid.best_score_ * -1):.3f}')"
   ]
  },
  {
   "cell_type": "markdown",
   "metadata": {},
   "source": [
    "Выводы:\n",
    "\n",
    "- подобрали гиперпараметры для моделей RandomForest и LightGBM\n",
    "  - для модели RandomForestRegressor MAE равен 6.24\n",
    "  - для модели LGBMRegressor MAE равен 6.25\n",
    "\n",
    "Выбираем модель с наилучшим результатом - RandomForestRegressor."
   ]
  },
  {
   "cell_type": "markdown",
   "metadata": {},
   "source": [
    "## Тестирование модели"
   ]
  },
  {
   "cell_type": "code",
   "execution_count": 108,
   "metadata": {},
   "outputs": [],
   "source": [
    "model = RandomForestRegressor(max_depth=30, n_estimators=250, random_state=r_state) "
   ]
  },
  {
   "cell_type": "code",
   "execution_count": 109,
   "metadata": {},
   "outputs": [],
   "source": [
    "model.fit(features_train, target_train)\n",
    "predictions = model.predict(features_test)"
   ]
  },
  {
   "cell_type": "code",
   "execution_count": 110,
   "metadata": {},
   "outputs": [
    {
     "name": "stdout",
     "output_type": "stream",
     "text": [
      "MAE: 6.106\n"
     ]
    }
   ],
   "source": [
    "print(f'MAE: {mean_absolute_error(target_test, predictions):.3f}')"
   ]
  },
  {
   "cell_type": "code",
   "execution_count": 111,
   "metadata": {},
   "outputs": [
    {
     "data": {
      "text/plain": [
       "<AxesSubplot:title={'center':'Сравнение предсказаний модели с правильными ответами'}, ylabel='Frequency'>"
      ]
     },
     "execution_count": 111,
     "metadata": {},
     "output_type": "execute_result"
    },
    {
     "data": {
      "image/png": "[encoded data removed]",
      "text/plain": [
       "<Figure size 936x360 with 1 Axes>"
      ]
     },
     "metadata": {
      "needs_background": "light"
     },
     "output_type": "display_data"
    }
   ],
   "source": [
    "pd.DataFrame({'Target': target_test, 'Prediction': predictions}).plot(\n",
    "    kind='hist',\n",
    "    figsize=(13, 5), \n",
    "    title='Сравнение предсказаний модели с правильными ответами', \n",
    "    bins=100, \n",
    "    alpha=0.7)"
   ]
  },
  {
   "cell_type": "markdown",
   "metadata": {},
   "source": [
    "На тестовых данных метрика МАЕ получилась равной 6.1, что является хорошим результатом. По графику можем заметить, что предсказания модели достаточно точно угадывают значения целевого признака - конечной температуры стали."
   ]
  },
  {
   "cell_type": "markdown",
   "metadata": {},
   "source": [
    "### Сравнение с константной моделью"
   ]
  },
  {
   "cell_type": "markdown",
   "metadata": {},
   "source": [
    "Проверим модель на адекватность с помощью Dummy модели:"
   ]
  },
  {
   "cell_type": "code",
   "execution_count": 112,
   "metadata": {},
   "outputs": [],
   "source": [
    "dummy_regr = DummyRegressor(strategy=\"median\")\n",
    "dummy_regr.fit(features_train, target_train)\n",
    "\n",
    "dummy_pred = dummy_regr.predict(features_test)"
   ]
  },
  {
   "cell_type": "code",
   "execution_count": 113,
   "metadata": {},
   "outputs": [
    {
     "data": {
      "text/plain": [
       "7.829861111111111"
      ]
     },
     "execution_count": 113,
     "metadata": {},
     "output_type": "execute_result"
    }
   ],
   "source": [
    "mean_absolute_error(dummy_pred, target_test)"
   ]
  },
  {
   "cell_type": "markdown",
   "metadata": {},
   "source": [
    "DummyRegressor показал метрику МАЕ хуже, чем модель RandomForestRegressor, следовательно модель проверку на адекватность прошла."
   ]
  },
  {
   "cell_type": "markdown",
   "metadata": {},
   "source": [
    "## Отчет"
   ]
  },
  {
   "cell_type": "markdown",
   "metadata": {},
   "source": [
    "Проект выполнен в соответствии с планом:\n",
    "\n",
    "- Был проведен исследовательский анализ данных, после которого проводилась предобработка, включающая в себя заполнение и удаление пропусков, приведение данных к соответствующему типу, удаление аномальных значений. \n",
    "- Далее мы подготавливали данные – выделяли признаки в зависимости от значения времени, выполняли расчет новых признаков: полная мощность, затраченное время, работа и количество циклов.\n",
    "- Используемые признаки: \n",
    "  - `Начальная активная мощность` - первое значение по ключу; \n",
    "  - `Начальная реактивная мощность` - был удален ключ с аномально низким значением мощности; \n",
    "  - `Конечная активная мощность` - последнее значение по ключу;\n",
    "  - `Конечная реактивная мощность` - был удален ключ с аномально низким значением мощности;\n",
    "  - `Полная мощность` - рассчитана как корень из суммы квадратов активной и реактивной мощностей; \n",
    "  - `Время нагрева` (секунды) - разница между концом и началом времени нагрева дугой; \n",
    "  - `Работа` - рассчитана по формуле: Время х Полная мощность;\n",
    "  - `Количество циклов` - вычислено с помощью агрегирующей функции count во время группировки по ключу;\n",
    "  - `Начальная температура` - на этапе предобработки были удалены значения температуры ниже 1450 градусов Цельсия и удалены пропуски; \n",
    "  - `Газ 1` (данные о продувке сплава газом) - без изменений; \n",
    "  - `Wire 1-9` (данные объема проволочных материалов) - во время предобработки пропущенные значения были заполнены нулями;   \n",
    "  - `Bulk 1-15` (данные объема сыпучих материалов) - пропущенные значения также были заполнены нулями.\n",
    "- Целевой признак - `Конечная температура`.\n",
    "- После создания тренировочных и тестовых выборок выполнялся выбор модели между RandomForest и LightGBM. С помощью GridSearch мы провели подбор гиперпараметров и определили модель с наилучшим качеством - **RandomForestRegressor**, которая показала значение **МАЕ = 6,24** на тренировочной выборке. \n",
    "- Параметры модели: **max_depth=30, n_estimators=250, random_state=120922.**\n",
    "- На тестовой выборке модель показала также хорошую метрику **МАЕ** равную **6,1**. \n",
    "- Для проверки модели на константных признаках мы использовали DammyRegressor, итоговая метрика которого была равна **7,83**, следовательно, проверку на адекватность наша модель прошла.\n",
    "\n",
    "В процессе выполнения проекта были сложности, связанные с пониманием технологического процесса и анализом большого количества информации, что несколько замедляло процесс. Также достаточно много времени уходило на подбор гиперпараметров."
   ]
  }
 ],
 "metadata": {
  "ExecuteTimeLog": [
   {
    "duration": 1233,
    "start_time": "2022-09-20T12:22:22.919Z"
   },
   {
    "duration": 207,
    "start_time": "2022-09-20T12:49:24.118Z"
   },
   {
    "duration": 109,
    "start_time": "2022-09-20T12:49:38.935Z"
   },
   {
    "duration": 439,
    "start_time": "2022-09-20T12:53:51.854Z"
   },
   {
    "duration": 15,
    "start_time": "2022-09-20T12:56:05.917Z"
   },
   {
    "duration": 191,
    "start_time": "2022-09-20T12:56:20.008Z"
   },
   {
    "duration": 156,
    "start_time": "2022-09-20T12:56:24.952Z"
   },
   {
    "duration": 11,
    "start_time": "2022-09-20T12:56:35.447Z"
   },
   {
    "duration": 8,
    "start_time": "2022-09-20T13:07:01.096Z"
   },
   {
    "duration": 13,
    "start_time": "2022-09-20T13:07:15.238Z"
   },
   {
    "duration": 17,
    "start_time": "2022-09-20T13:07:21.902Z"
   },
   {
    "duration": 185,
    "start_time": "2022-09-20T13:07:33.599Z"
   },
   {
    "duration": 92,
    "start_time": "2022-09-20T13:08:06.124Z"
   },
   {
    "duration": 6,
    "start_time": "2022-09-20T13:09:31.797Z"
   },
   {
    "duration": 12,
    "start_time": "2022-09-20T13:09:42.773Z"
   },
   {
    "duration": 11,
    "start_time": "2022-09-20T13:09:47.122Z"
   },
   {
    "duration": 8,
    "start_time": "2022-09-20T13:09:51.080Z"
   },
   {
    "duration": 6,
    "start_time": "2022-09-20T13:10:01.477Z"
   },
   {
    "duration": 1039,
    "start_time": "2022-09-20T13:16:14.132Z"
   },
   {
    "duration": 188,
    "start_time": "2022-09-20T13:16:17.530Z"
   },
   {
    "duration": 12,
    "start_time": "2022-09-20T13:19:08.302Z"
   },
   {
    "duration": 12,
    "start_time": "2022-09-20T13:19:09.473Z"
   },
   {
    "duration": 7,
    "start_time": "2022-09-20T13:19:10.470Z"
   },
   {
    "duration": 17,
    "start_time": "2022-09-20T13:19:11.424Z"
   },
   {
    "duration": 99,
    "start_time": "2022-09-20T13:19:12.501Z"
   },
   {
    "duration": 13,
    "start_time": "2022-09-20T13:20:36.606Z"
   },
   {
    "duration": 169,
    "start_time": "2022-09-20T13:20:53.574Z"
   },
   {
    "duration": 171,
    "start_time": "2022-09-20T13:21:21.827Z"
   },
   {
    "duration": 124,
    "start_time": "2022-09-20T13:22:00.072Z"
   },
   {
    "duration": 138,
    "start_time": "2022-09-20T13:22:01.291Z"
   },
   {
    "duration": 179,
    "start_time": "2022-09-20T13:25:54.954Z"
   },
   {
    "duration": 120,
    "start_time": "2022-09-20T13:25:59.769Z"
   },
   {
    "duration": 201,
    "start_time": "2022-09-20T13:26:03.152Z"
   },
   {
    "duration": 157,
    "start_time": "2022-09-20T13:26:07.210Z"
   },
   {
    "duration": 222,
    "start_time": "2022-09-20T13:26:11.041Z"
   },
   {
    "duration": 179,
    "start_time": "2022-09-20T13:26:52.638Z"
   },
   {
    "duration": 593,
    "start_time": "2022-09-20T13:26:56.291Z"
   },
   {
    "duration": 179,
    "start_time": "2022-09-20T13:27:01.080Z"
   },
   {
    "duration": 84307,
    "start_time": "2022-09-20T13:27:21.945Z"
   },
   {
    "duration": 109,
    "start_time": "2022-09-20T13:28:50.350Z"
   },
   {
    "duration": 147,
    "start_time": "2022-09-20T13:29:06.622Z"
   },
   {
    "duration": 6138,
    "start_time": "2022-09-20T13:29:11.473Z"
   },
   {
    "duration": 213,
    "start_time": "2022-09-20T13:29:28.202Z"
   },
   {
    "duration": 209,
    "start_time": "2022-09-20T13:29:37.502Z"
   },
   {
    "duration": 222,
    "start_time": "2022-09-20T13:29:47.448Z"
   },
   {
    "duration": 217,
    "start_time": "2022-09-20T13:29:53.021Z"
   },
   {
    "duration": 1042,
    "start_time": "2022-09-20T13:30:13.635Z"
   },
   {
    "duration": 10813,
    "start_time": "2022-09-20T13:30:30.961Z"
   },
   {
    "duration": 1041,
    "start_time": "2022-09-20T13:31:45.477Z"
   },
   {
    "duration": 2425,
    "start_time": "2022-09-20T13:31:59.730Z"
   },
   {
    "duration": 1046,
    "start_time": "2022-09-20T13:32:08.501Z"
   },
   {
    "duration": 1081,
    "start_time": "2022-09-20T13:33:04.635Z"
   },
   {
    "duration": 210,
    "start_time": "2022-09-20T13:33:13.622Z"
   },
   {
    "duration": 121,
    "start_time": "2022-09-20T13:33:20.540Z"
   },
   {
    "duration": 11925,
    "start_time": "2022-09-20T13:33:46.087Z"
   },
   {
    "duration": 1251,
    "start_time": "2022-09-20T13:34:26.091Z"
   },
   {
    "duration": 1132,
    "start_time": "2022-09-20T13:34:34.335Z"
   },
   {
    "duration": 206,
    "start_time": "2022-09-20T13:34:37.685Z"
   },
   {
    "duration": 121,
    "start_time": "2022-09-20T13:34:41.629Z"
   },
   {
    "duration": 109,
    "start_time": "2022-09-20T13:34:51.475Z"
   },
   {
    "duration": 108,
    "start_time": "2022-09-20T13:34:58.421Z"
   },
   {
    "duration": 110,
    "start_time": "2022-09-20T13:35:28.350Z"
   },
   {
    "duration": 83,
    "start_time": "2022-09-20T13:35:32.332Z"
   },
   {
    "duration": 103,
    "start_time": "2022-09-20T13:35:36.533Z"
   },
   {
    "duration": 153,
    "start_time": "2022-09-20T13:35:52.376Z"
   },
   {
    "duration": 166,
    "start_time": "2022-09-20T13:35:56.721Z"
   },
   {
    "duration": 174,
    "start_time": "2022-09-20T13:36:04.102Z"
   },
   {
    "duration": 165,
    "start_time": "2022-09-20T13:36:10.173Z"
   },
   {
    "duration": 177,
    "start_time": "2022-09-20T13:36:14.080Z"
   },
   {
    "duration": 175,
    "start_time": "2022-09-20T13:36:17.799Z"
   },
   {
    "duration": 114,
    "start_time": "2022-09-20T13:36:26.079Z"
   },
   {
    "duration": 87,
    "start_time": "2022-09-20T13:36:31.345Z"
   },
   {
    "duration": 2940,
    "start_time": "2022-09-20T13:36:40.191Z"
   },
   {
    "duration": 1085,
    "start_time": "2022-09-20T13:36:49.739Z"
   },
   {
    "duration": 1191,
    "start_time": "2022-09-20T13:36:57.450Z"
   },
   {
    "duration": 1071,
    "start_time": "2022-09-20T13:37:01.953Z"
   },
   {
    "duration": 119,
    "start_time": "2022-09-20T13:37:09.552Z"
   },
   {
    "duration": 120,
    "start_time": "2022-09-20T13:37:17.932Z"
   },
   {
    "duration": 1071,
    "start_time": "2022-09-20T13:37:39.442Z"
   },
   {
    "duration": 1110,
    "start_time": "2022-09-20T13:37:48.522Z"
   },
   {
    "duration": 1084,
    "start_time": "2022-09-20T13:37:55.592Z"
   },
   {
    "duration": 12145,
    "start_time": "2022-09-20T13:38:03.492Z"
   },
   {
    "duration": 1076,
    "start_time": "2022-09-20T13:38:33.675Z"
   },
   {
    "duration": 10032,
    "start_time": "2022-09-20T13:38:57.112Z"
   },
   {
    "duration": 7838,
    "start_time": "2022-09-20T13:39:09.276Z"
   },
   {
    "duration": 15,
    "start_time": "2022-09-20T13:41:46.464Z"
   },
   {
    "duration": 11,
    "start_time": "2022-09-20T13:41:53.902Z"
   },
   {
    "duration": 8,
    "start_time": "2022-09-20T13:42:01.821Z"
   },
   {
    "duration": 48,
    "start_time": "2022-09-20T13:43:31.599Z"
   },
   {
    "duration": 1292,
    "start_time": "2022-09-20T13:45:10.251Z"
   },
   {
    "duration": 1214,
    "start_time": "2022-09-20T13:45:21.912Z"
   },
   {
    "duration": 2410,
    "start_time": "2022-09-20T13:45:26.585Z"
   },
   {
    "duration": 49,
    "start_time": "2022-09-20T13:45:52.591Z"
   },
   {
    "duration": 13,
    "start_time": "2022-09-20T13:45:58.443Z"
   },
   {
    "duration": 12,
    "start_time": "2022-09-20T13:46:19.440Z"
   },
   {
    "duration": 13,
    "start_time": "2022-09-20T13:49:05.943Z"
   },
   {
    "duration": 13,
    "start_time": "2022-09-20T13:49:07.114Z"
   },
   {
    "duration": 12,
    "start_time": "2022-09-20T13:49:29.283Z"
   },
   {
    "duration": 8,
    "start_time": "2022-09-20T13:49:46.553Z"
   },
   {
    "duration": 11,
    "start_time": "2022-09-20T13:50:56.787Z"
   },
   {
    "duration": 206,
    "start_time": "2022-09-20T13:51:05.193Z"
   },
   {
    "duration": 10,
    "start_time": "2022-09-20T13:54:17.264Z"
   },
   {
    "duration": 10,
    "start_time": "2022-09-20T13:54:18.753Z"
   },
   {
    "duration": 6,
    "start_time": "2022-09-20T13:54:21.598Z"
   },
   {
    "duration": 8,
    "start_time": "2022-09-20T13:54:26.451Z"
   },
   {
    "duration": 15,
    "start_time": "2022-09-20T13:55:08.634Z"
   },
   {
    "duration": 171,
    "start_time": "2022-09-20T13:55:28.747Z"
   },
   {
    "duration": 177,
    "start_time": "2022-09-20T13:55:32.450Z"
   },
   {
    "duration": 242,
    "start_time": "2022-09-20T13:55:37.407Z"
   },
   {
    "duration": 1185,
    "start_time": "2022-09-20T13:55:42.963Z"
   },
   {
    "duration": 353,
    "start_time": "2022-09-20T13:55:49.363Z"
   },
   {
    "duration": 8,
    "start_time": "2022-09-20T13:58:28.712Z"
   },
   {
    "duration": 213,
    "start_time": "2022-09-20T13:58:37.492Z"
   },
   {
    "duration": 130,
    "start_time": "2022-09-20T13:58:52.677Z"
   },
   {
    "duration": 208,
    "start_time": "2022-09-20T13:59:04.079Z"
   },
   {
    "duration": 2,
    "start_time": "2022-09-20T14:00:38.693Z"
   },
   {
    "duration": 3,
    "start_time": "2022-09-20T14:00:49.724Z"
   },
   {
    "duration": 339,
    "start_time": "2022-09-20T14:01:19.506Z"
   },
   {
    "duration": 169,
    "start_time": "2022-09-20T14:01:36.744Z"
   },
   {
    "duration": 112,
    "start_time": "2022-09-20T14:01:38.390Z"
   },
   {
    "duration": 4879,
    "start_time": "2022-09-20T14:01:39.905Z"
   },
   {
    "duration": 7,
    "start_time": "2022-09-20T14:02:04.884Z"
   },
   {
    "duration": 7,
    "start_time": "2022-09-20T14:03:00.426Z"
   },
   {
    "duration": 11,
    "start_time": "2022-09-20T14:03:01.831Z"
   },
   {
    "duration": 8,
    "start_time": "2022-09-20T14:03:02.792Z"
   },
   {
    "duration": 15,
    "start_time": "2022-09-20T14:03:04.083Z"
   },
   {
    "duration": 395,
    "start_time": "2022-09-20T14:03:07.132Z"
   },
   {
    "duration": 211,
    "start_time": "2022-09-20T14:03:13.894Z"
   },
   {
    "duration": 210,
    "start_time": "2022-09-20T14:03:19.353Z"
   },
   {
    "duration": 3759,
    "start_time": "2022-09-20T14:03:24.012Z"
   },
   {
    "duration": 314,
    "start_time": "2022-09-20T14:07:50.235Z"
   },
   {
    "duration": 318,
    "start_time": "2022-09-20T14:07:59.315Z"
   },
   {
    "duration": 11,
    "start_time": "2022-09-20T14:34:10.615Z"
   },
   {
    "duration": 10,
    "start_time": "2022-09-20T14:34:11.918Z"
   },
   {
    "duration": 9,
    "start_time": "2022-09-20T14:34:20.418Z"
   },
   {
    "duration": 11,
    "start_time": "2022-09-20T14:34:21.605Z"
   },
   {
    "duration": 6,
    "start_time": "2022-09-20T14:35:18.431Z"
   },
   {
    "duration": 7,
    "start_time": "2022-09-20T14:35:19.737Z"
   },
   {
    "duration": 33,
    "start_time": "2022-09-20T14:36:09.835Z"
   },
   {
    "duration": 806,
    "start_time": "2022-09-20T14:36:14.347Z"
   },
   {
    "duration": 327,
    "start_time": "2022-09-20T14:36:41.987Z"
   },
   {
    "duration": 230,
    "start_time": "2022-09-20T14:36:47.445Z"
   },
   {
    "duration": 166,
    "start_time": "2022-09-20T14:36:52.387Z"
   },
   {
    "duration": 242,
    "start_time": "2022-09-20T14:37:09.801Z"
   },
   {
    "duration": 128,
    "start_time": "2022-09-20T14:37:13.647Z"
   },
   {
    "duration": 178,
    "start_time": "2022-09-20T14:37:17.491Z"
   },
   {
    "duration": 166,
    "start_time": "2022-09-20T14:37:39.907Z"
   },
   {
    "duration": 156,
    "start_time": "2022-09-20T14:37:44.237Z"
   },
   {
    "duration": 229,
    "start_time": "2022-09-20T14:39:38.086Z"
   },
   {
    "duration": 283,
    "start_time": "2022-09-20T14:39:44.267Z"
   },
   {
    "duration": 320,
    "start_time": "2022-09-20T14:39:48.559Z"
   },
   {
    "duration": 174,
    "start_time": "2022-09-20T14:41:00.159Z"
   },
   {
    "duration": 206,
    "start_time": "2022-09-20T14:41:09.138Z"
   },
   {
    "duration": 117,
    "start_time": "2022-09-20T14:42:01.039Z"
   },
   {
    "duration": 1075,
    "start_time": "2022-09-20T14:42:05.907Z"
   },
   {
    "duration": 173,
    "start_time": "2022-09-20T14:42:11.827Z"
   },
   {
    "duration": 1109,
    "start_time": "2022-09-20T14:44:11.885Z"
   },
   {
    "duration": 3,
    "start_time": "2022-09-20T14:44:12.995Z"
   },
   {
    "duration": 192,
    "start_time": "2022-09-20T14:44:12.999Z"
   },
   {
    "duration": 11,
    "start_time": "2022-09-20T14:44:13.193Z"
   },
   {
    "duration": 10,
    "start_time": "2022-09-20T14:44:13.206Z"
   },
   {
    "duration": 8,
    "start_time": "2022-09-20T14:44:13.217Z"
   },
   {
    "duration": 16,
    "start_time": "2022-09-20T14:44:13.226Z"
   },
   {
    "duration": 204,
    "start_time": "2022-09-20T14:44:13.243Z"
   },
   {
    "duration": 116,
    "start_time": "2022-09-20T14:44:13.449Z"
   },
   {
    "duration": 5384,
    "start_time": "2022-09-20T14:44:13.567Z"
   },
   {
    "duration": 14,
    "start_time": "2022-09-20T14:44:18.952Z"
   },
   {
    "duration": 14,
    "start_time": "2022-09-20T14:44:18.967Z"
   },
   {
    "duration": 23,
    "start_time": "2022-09-20T14:44:18.982Z"
   },
   {
    "duration": 236,
    "start_time": "2022-09-20T14:44:19.007Z"
   },
   {
    "duration": 8,
    "start_time": "2022-09-20T14:44:19.244Z"
   },
   {
    "duration": 6,
    "start_time": "2022-09-20T14:44:19.254Z"
   },
   {
    "duration": 61,
    "start_time": "2022-09-20T14:44:19.262Z"
   },
   {
    "duration": 6,
    "start_time": "2022-09-20T14:44:19.324Z"
   },
   {
    "duration": 10,
    "start_time": "2022-09-20T14:44:19.331Z"
   },
   {
    "duration": 6,
    "start_time": "2022-09-20T14:44:19.343Z"
   },
   {
    "duration": 13,
    "start_time": "2022-09-20T14:44:19.350Z"
   },
   {
    "duration": 347,
    "start_time": "2022-09-20T14:44:19.364Z"
   },
   {
    "duration": 6,
    "start_time": "2022-09-20T14:44:19.713Z"
   },
   {
    "duration": 11,
    "start_time": "2022-09-20T14:44:19.721Z"
   },
   {
    "duration": 5,
    "start_time": "2022-09-20T14:44:19.734Z"
   },
   {
    "duration": 13,
    "start_time": "2022-09-20T14:44:19.741Z"
   },
   {
    "duration": 355,
    "start_time": "2022-09-20T14:44:19.755Z"
   },
   {
    "duration": 9,
    "start_time": "2022-09-20T14:44:20.113Z"
   },
   {
    "duration": 12,
    "start_time": "2022-09-20T14:44:20.124Z"
   },
   {
    "duration": 11,
    "start_time": "2022-09-20T14:44:20.138Z"
   },
   {
    "duration": 10,
    "start_time": "2022-09-20T14:44:20.150Z"
   },
   {
    "duration": 10,
    "start_time": "2022-09-20T14:44:20.161Z"
   },
   {
    "duration": 34,
    "start_time": "2022-09-20T14:44:20.172Z"
   },
   {
    "duration": 31,
    "start_time": "2022-09-20T14:44:20.207Z"
   },
   {
    "duration": 190,
    "start_time": "2022-09-20T14:44:20.240Z"
   },
   {
    "duration": 1125,
    "start_time": "2022-09-21T12:11:46.202Z"
   },
   {
    "duration": 3,
    "start_time": "2022-09-21T12:11:47.329Z"
   },
   {
    "duration": 187,
    "start_time": "2022-09-21T12:11:47.333Z"
   },
   {
    "duration": 16,
    "start_time": "2022-09-21T12:11:47.522Z"
   },
   {
    "duration": 16,
    "start_time": "2022-09-21T12:11:47.541Z"
   },
   {
    "duration": 9,
    "start_time": "2022-09-21T12:11:47.559Z"
   },
   {
    "duration": 44,
    "start_time": "2022-09-21T12:11:47.571Z"
   },
   {
    "duration": 225,
    "start_time": "2022-09-21T12:11:47.617Z"
   },
   {
    "duration": 123,
    "start_time": "2022-09-21T12:11:47.844Z"
   },
   {
    "duration": 5466,
    "start_time": "2022-09-21T12:11:47.969Z"
   },
   {
    "duration": 13,
    "start_time": "2022-09-21T12:11:53.437Z"
   },
   {
    "duration": 19,
    "start_time": "2022-09-21T12:11:53.451Z"
   },
   {
    "duration": 16,
    "start_time": "2022-09-21T12:11:53.472Z"
   },
   {
    "duration": 196,
    "start_time": "2022-09-21T12:11:53.492Z"
   },
   {
    "duration": 13,
    "start_time": "2022-09-21T12:11:53.690Z"
   },
   {
    "duration": 7,
    "start_time": "2022-09-21T12:11:53.708Z"
   },
   {
    "duration": 45,
    "start_time": "2022-09-21T12:11:53.717Z"
   },
   {
    "duration": 7,
    "start_time": "2022-09-21T12:11:53.763Z"
   },
   {
    "duration": 12,
    "start_time": "2022-09-21T12:11:53.771Z"
   },
   {
    "duration": 11,
    "start_time": "2022-09-21T12:11:53.809Z"
   },
   {
    "duration": 18,
    "start_time": "2022-09-21T12:11:53.822Z"
   },
   {
    "duration": 391,
    "start_time": "2022-09-21T12:11:53.842Z"
   },
   {
    "duration": 8,
    "start_time": "2022-09-21T12:11:54.234Z"
   },
   {
    "duration": 12,
    "start_time": "2022-09-21T12:11:54.243Z"
   },
   {
    "duration": 6,
    "start_time": "2022-09-21T12:11:54.257Z"
   },
   {
    "duration": 45,
    "start_time": "2022-09-21T12:11:54.265Z"
   },
   {
    "duration": 386,
    "start_time": "2022-09-21T12:11:54.312Z"
   },
   {
    "duration": 15,
    "start_time": "2022-09-21T12:11:54.700Z"
   },
   {
    "duration": 11,
    "start_time": "2022-09-21T12:11:54.717Z"
   },
   {
    "duration": 12,
    "start_time": "2022-09-21T12:11:54.730Z"
   },
   {
    "duration": 14,
    "start_time": "2022-09-21T12:11:54.743Z"
   },
   {
    "duration": 9,
    "start_time": "2022-09-21T12:11:54.758Z"
   },
   {
    "duration": 6,
    "start_time": "2022-09-21T12:11:54.769Z"
   },
   {
    "duration": 67,
    "start_time": "2022-09-21T12:11:54.777Z"
   },
   {
    "duration": 187,
    "start_time": "2022-09-21T12:11:54.846Z"
   },
   {
    "duration": 3,
    "start_time": "2022-09-21T12:16:35.881Z"
   },
   {
    "duration": 24,
    "start_time": "2022-09-21T12:16:40.000Z"
   },
   {
    "duration": 12,
    "start_time": "2022-09-21T12:17:13.871Z"
   },
   {
    "duration": 20,
    "start_time": "2022-09-21T12:21:10.085Z"
   },
   {
    "duration": 11,
    "start_time": "2022-09-21T12:21:48.591Z"
   },
   {
    "duration": 16,
    "start_time": "2022-09-21T12:21:56.379Z"
   },
   {
    "duration": 11,
    "start_time": "2022-09-21T12:22:45.298Z"
   },
   {
    "duration": 8,
    "start_time": "2022-09-21T12:23:18.253Z"
   },
   {
    "duration": 9,
    "start_time": "2022-09-21T12:23:30.433Z"
   },
   {
    "duration": 8,
    "start_time": "2022-09-21T12:25:10.068Z"
   },
   {
    "duration": 3,
    "start_time": "2022-09-21T12:33:15.865Z"
   },
   {
    "duration": 112,
    "start_time": "2022-09-21T12:33:33.938Z"
   },
   {
    "duration": 3,
    "start_time": "2022-09-21T12:34:12.933Z"
   },
   {
    "duration": 995,
    "start_time": "2022-09-21T12:34:14.655Z"
   },
   {
    "duration": 10,
    "start_time": "2022-09-21T12:34:35.071Z"
   },
   {
    "duration": 2048,
    "start_time": "2022-09-21T12:35:08.922Z"
   },
   {
    "duration": 11,
    "start_time": "2022-09-21T12:36:11.308Z"
   },
   {
    "duration": 3490,
    "start_time": "2022-09-21T12:36:12.794Z"
   },
   {
    "duration": 310,
    "start_time": "2022-09-21T12:36:35.975Z"
   },
   {
    "duration": 8,
    "start_time": "2022-09-21T12:38:06.434Z"
   },
   {
    "duration": 12,
    "start_time": "2022-09-21T12:38:16.738Z"
   },
   {
    "duration": 9,
    "start_time": "2022-09-21T12:39:54.404Z"
   },
   {
    "duration": 7,
    "start_time": "2022-09-21T12:40:55.747Z"
   },
   {
    "duration": 9,
    "start_time": "2022-09-21T12:41:01.411Z"
   },
   {
    "duration": 4,
    "start_time": "2022-09-21T12:41:08.083Z"
   },
   {
    "duration": 14,
    "start_time": "2022-09-21T12:42:43.967Z"
   },
   {
    "duration": 3,
    "start_time": "2022-09-21T12:45:32.730Z"
   },
   {
    "duration": 18,
    "start_time": "2022-09-21T12:45:44.838Z"
   },
   {
    "duration": 5,
    "start_time": "2022-09-21T12:46:07.338Z"
   },
   {
    "duration": 3,
    "start_time": "2022-09-21T12:46:35.808Z"
   },
   {
    "duration": 15,
    "start_time": "2022-09-21T12:46:43.737Z"
   },
   {
    "duration": 3,
    "start_time": "2022-09-21T12:47:17.704Z"
   },
   {
    "duration": 10,
    "start_time": "2022-09-21T12:48:35.571Z"
   },
   {
    "duration": 16,
    "start_time": "2022-09-21T12:49:36.918Z"
   },
   {
    "duration": 17,
    "start_time": "2022-09-21T12:49:44.037Z"
   },
   {
    "duration": 12,
    "start_time": "2022-09-21T12:50:05.705Z"
   },
   {
    "duration": 14,
    "start_time": "2022-09-21T12:50:57.664Z"
   },
   {
    "duration": 10,
    "start_time": "2022-09-21T12:51:01.392Z"
   },
   {
    "duration": 7,
    "start_time": "2022-09-21T12:51:23.268Z"
   },
   {
    "duration": 10,
    "start_time": "2022-09-21T12:52:19.417Z"
   },
   {
    "duration": 6,
    "start_time": "2022-09-21T12:52:20.468Z"
   },
   {
    "duration": 7,
    "start_time": "2022-09-21T12:52:21.464Z"
   },
   {
    "duration": 9,
    "start_time": "2022-09-21T12:52:37.574Z"
   },
   {
    "duration": 7,
    "start_time": "2022-09-21T12:52:42.200Z"
   },
   {
    "duration": 11,
    "start_time": "2022-09-21T12:53:19.066Z"
   },
   {
    "duration": 10,
    "start_time": "2022-09-21T12:53:20.517Z"
   },
   {
    "duration": 7,
    "start_time": "2022-09-21T12:53:28.218Z"
   },
   {
    "duration": 8,
    "start_time": "2022-09-21T12:53:29.126Z"
   },
   {
    "duration": 16,
    "start_time": "2022-09-21T12:55:36.856Z"
   },
   {
    "duration": 43,
    "start_time": "2022-09-21T12:55:58.146Z"
   },
   {
    "duration": 41,
    "start_time": "2022-09-21T12:56:49.339Z"
   },
   {
    "duration": 7,
    "start_time": "2022-09-21T12:57:50.067Z"
   },
   {
    "duration": 7,
    "start_time": "2022-09-21T12:59:16.662Z"
   },
   {
    "duration": 774,
    "start_time": "2022-09-21T12:59:21.438Z"
   },
   {
    "duration": 6,
    "start_time": "2022-09-21T12:59:24.215Z"
   },
   {
    "duration": 35,
    "start_time": "2022-09-21T12:59:25.507Z"
   },
   {
    "duration": 8,
    "start_time": "2022-09-21T12:59:26.662Z"
   },
   {
    "duration": 6,
    "start_time": "2022-09-21T12:59:28.387Z"
   },
   {
    "duration": 11,
    "start_time": "2022-09-21T13:05:00.789Z"
   },
   {
    "duration": 12,
    "start_time": "2022-09-21T13:05:27.755Z"
   },
   {
    "duration": 11,
    "start_time": "2022-09-21T13:05:34.358Z"
   },
   {
    "duration": 12,
    "start_time": "2022-09-21T13:05:54.256Z"
   },
   {
    "duration": 1289,
    "start_time": "2022-09-21T13:06:53.039Z"
   },
   {
    "duration": 185,
    "start_time": "2022-09-21T13:06:57.715Z"
   },
   {
    "duration": 768,
    "start_time": "2022-09-21T13:08:15.327Z"
   },
   {
    "duration": 586,
    "start_time": "2022-09-21T13:08:37.383Z"
   },
   {
    "duration": 6,
    "start_time": "2022-09-21T13:09:08.977Z"
   },
   {
    "duration": 11,
    "start_time": "2022-09-21T13:09:16.737Z"
   },
   {
    "duration": 19,
    "start_time": "2022-09-21T13:09:59.785Z"
   },
   {
    "duration": 23,
    "start_time": "2022-09-21T13:10:06.102Z"
   },
   {
    "duration": 8,
    "start_time": "2022-09-21T13:10:07.450Z"
   },
   {
    "duration": 3,
    "start_time": "2022-09-21T13:11:18.985Z"
   },
   {
    "duration": 7,
    "start_time": "2022-09-21T13:12:07.336Z"
   },
   {
    "duration": 9,
    "start_time": "2022-09-21T13:12:09.555Z"
   },
   {
    "duration": 7,
    "start_time": "2022-09-21T13:12:15.567Z"
   },
   {
    "duration": 8,
    "start_time": "2022-09-21T13:12:17.435Z"
   },
   {
    "duration": 15,
    "start_time": "2022-09-21T13:13:31.336Z"
   },
   {
    "duration": 5,
    "start_time": "2022-09-21T13:13:44.136Z"
   },
   {
    "duration": 7,
    "start_time": "2022-09-21T13:13:46.762Z"
   },
   {
    "duration": 8,
    "start_time": "2022-09-21T13:13:48.461Z"
   },
   {
    "duration": 112,
    "start_time": "2022-09-21T13:16:12.943Z"
   },
   {
    "duration": 4,
    "start_time": "2022-09-21T13:16:17.663Z"
   },
   {
    "duration": 6,
    "start_time": "2022-09-21T13:16:21.970Z"
   },
   {
    "duration": 6,
    "start_time": "2022-09-21T13:16:23.350Z"
   },
   {
    "duration": 9,
    "start_time": "2022-09-21T13:17:35.388Z"
   },
   {
    "duration": 17,
    "start_time": "2022-09-21T13:17:36.859Z"
   },
   {
    "duration": 6,
    "start_time": "2022-09-21T13:17:43.974Z"
   },
   {
    "duration": 7,
    "start_time": "2022-09-21T13:17:47.349Z"
   },
   {
    "duration": 10,
    "start_time": "2022-09-21T13:19:11.379Z"
   },
   {
    "duration": 10,
    "start_time": "2022-09-21T13:19:12.416Z"
   },
   {
    "duration": 7,
    "start_time": "2022-09-21T13:19:13.550Z"
   },
   {
    "duration": 3,
    "start_time": "2022-09-21T13:19:14.660Z"
   },
   {
    "duration": 4,
    "start_time": "2022-09-21T13:19:15.598Z"
   },
   {
    "duration": 7,
    "start_time": "2022-09-21T13:19:16.851Z"
   },
   {
    "duration": 7,
    "start_time": "2022-09-21T13:19:17.985Z"
   },
   {
    "duration": 7,
    "start_time": "2022-09-21T13:19:59.253Z"
   },
   {
    "duration": 7,
    "start_time": "2022-09-21T13:20:09.920Z"
   },
   {
    "duration": 17,
    "start_time": "2022-09-21T13:20:45.805Z"
   },
   {
    "duration": 14,
    "start_time": "2022-09-21T13:23:04.400Z"
   },
   {
    "duration": 13,
    "start_time": "2022-09-21T13:23:28.869Z"
   },
   {
    "duration": 7,
    "start_time": "2022-09-21T13:23:59.369Z"
   },
   {
    "duration": 14,
    "start_time": "2022-09-21T13:24:25.499Z"
   },
   {
    "duration": 9,
    "start_time": "2022-09-21T13:24:41.585Z"
   },
   {
    "duration": 11,
    "start_time": "2022-09-21T13:27:53.816Z"
   },
   {
    "duration": 9,
    "start_time": "2022-09-21T13:28:11.763Z"
   },
   {
    "duration": 9,
    "start_time": "2022-09-21T13:28:17.885Z"
   },
   {
    "duration": 14,
    "start_time": "2022-09-21T13:28:23.057Z"
   },
   {
    "duration": 8,
    "start_time": "2022-09-21T13:28:40.878Z"
   },
   {
    "duration": 14,
    "start_time": "2022-09-21T13:28:45.259Z"
   },
   {
    "duration": 5,
    "start_time": "2022-09-21T13:29:42.651Z"
   },
   {
    "duration": 8,
    "start_time": "2022-09-21T13:29:44.270Z"
   },
   {
    "duration": 8,
    "start_time": "2022-09-21T13:31:43.935Z"
   },
   {
    "duration": 7,
    "start_time": "2022-09-21T13:31:47.193Z"
   },
   {
    "duration": 9,
    "start_time": "2022-09-21T13:32:29.480Z"
   },
   {
    "duration": 6,
    "start_time": "2022-09-21T13:32:36.875Z"
   },
   {
    "duration": 7,
    "start_time": "2022-09-21T13:32:45.180Z"
   },
   {
    "duration": 7,
    "start_time": "2022-09-21T13:32:56.944Z"
   },
   {
    "duration": 9,
    "start_time": "2022-09-21T13:35:14.960Z"
   },
   {
    "duration": 11,
    "start_time": "2022-09-21T13:35:19.881Z"
   },
   {
    "duration": 8,
    "start_time": "2022-09-21T13:35:21.144Z"
   },
   {
    "duration": 9,
    "start_time": "2022-09-21T13:35:23.097Z"
   },
   {
    "duration": 11,
    "start_time": "2022-09-21T13:40:09.796Z"
   },
   {
    "duration": 4,
    "start_time": "2022-09-21T13:40:28.298Z"
   },
   {
    "duration": 10,
    "start_time": "2022-09-21T13:40:32.756Z"
   },
   {
    "duration": 4,
    "start_time": "2022-09-21T13:44:54.180Z"
   },
   {
    "duration": 7,
    "start_time": "2022-09-21T13:45:10.565Z"
   },
   {
    "duration": 8,
    "start_time": "2022-09-21T13:45:11.397Z"
   },
   {
    "duration": 9,
    "start_time": "2022-09-21T13:46:52.662Z"
   },
   {
    "duration": 3,
    "start_time": "2022-09-21T13:46:57.049Z"
   },
   {
    "duration": 7,
    "start_time": "2022-09-21T13:46:58.000Z"
   },
   {
    "duration": 37,
    "start_time": "2022-09-21T13:46:59.069Z"
   },
   {
    "duration": 8,
    "start_time": "2022-09-21T13:47:00.270Z"
   },
   {
    "duration": 8,
    "start_time": "2022-09-21T13:47:06.358Z"
   },
   {
    "duration": 6,
    "start_time": "2022-09-21T13:47:07.507Z"
   },
   {
    "duration": 6,
    "start_time": "2022-09-21T13:47:08.685Z"
   },
   {
    "duration": 9,
    "start_time": "2022-09-21T13:47:20.769Z"
   },
   {
    "duration": 4,
    "start_time": "2022-09-21T13:47:23.612Z"
   },
   {
    "duration": 5,
    "start_time": "2022-09-21T13:47:36.855Z"
   },
   {
    "duration": 3,
    "start_time": "2022-09-21T13:47:38.757Z"
   },
   {
    "duration": 9,
    "start_time": "2022-09-21T13:50:41.725Z"
   },
   {
    "duration": 7,
    "start_time": "2022-09-21T13:51:30.850Z"
   },
   {
    "duration": 9,
    "start_time": "2022-09-21T13:51:33.701Z"
   },
   {
    "duration": 10,
    "start_time": "2022-09-21T13:51:49.642Z"
   },
   {
    "duration": 12,
    "start_time": "2022-09-21T13:52:32.839Z"
   },
   {
    "duration": 9,
    "start_time": "2022-09-21T13:53:44.798Z"
   },
   {
    "duration": 9,
    "start_time": "2022-09-21T13:53:55.448Z"
   },
   {
    "duration": 9,
    "start_time": "2022-09-21T13:55:30.863Z"
   },
   {
    "duration": 8,
    "start_time": "2022-09-21T13:55:33.743Z"
   },
   {
    "duration": 8,
    "start_time": "2022-09-21T13:55:35.052Z"
   },
   {
    "duration": 19,
    "start_time": "2022-09-21T13:55:43.010Z"
   },
   {
    "duration": 9,
    "start_time": "2022-09-21T13:55:57.249Z"
   },
   {
    "duration": 11,
    "start_time": "2022-09-21T13:56:32.352Z"
   },
   {
    "duration": 487,
    "start_time": "2022-09-21T14:04:13.976Z"
   },
   {
    "duration": 7,
    "start_time": "2022-09-21T14:07:03.701Z"
   },
   {
    "duration": 8,
    "start_time": "2022-09-21T14:07:05.240Z"
   },
   {
    "duration": 9,
    "start_time": "2022-09-21T14:07:06.580Z"
   },
   {
    "duration": 8,
    "start_time": "2022-09-21T14:07:12.973Z"
   },
   {
    "duration": 7,
    "start_time": "2022-09-21T14:07:15.496Z"
   },
   {
    "duration": 10,
    "start_time": "2022-09-21T14:07:19.241Z"
   },
   {
    "duration": 8,
    "start_time": "2022-09-21T14:07:22.403Z"
   },
   {
    "duration": 8,
    "start_time": "2022-09-21T14:07:26.744Z"
   },
   {
    "duration": 31,
    "start_time": "2022-09-21T14:07:50.585Z"
   },
   {
    "duration": 11,
    "start_time": "2022-09-21T14:07:57.444Z"
   },
   {
    "duration": 5,
    "start_time": "2022-09-21T14:08:09.765Z"
   },
   {
    "duration": 31,
    "start_time": "2022-09-21T14:08:16.244Z"
   },
   {
    "duration": 5,
    "start_time": "2022-09-21T14:08:23.206Z"
   },
   {
    "duration": 5,
    "start_time": "2022-09-21T14:08:34.452Z"
   },
   {
    "duration": 18,
    "start_time": "2022-09-21T14:08:35.556Z"
   },
   {
    "duration": 27,
    "start_time": "2022-09-21T14:14:43.896Z"
   },
   {
    "duration": 2,
    "start_time": "2022-09-21T14:14:51.191Z"
   },
   {
    "duration": 5,
    "start_time": "2022-09-21T14:14:56.778Z"
   },
   {
    "duration": 26,
    "start_time": "2022-09-21T14:15:02.973Z"
   },
   {
    "duration": 3,
    "start_time": "2022-09-21T14:25:32.456Z"
   },
   {
    "duration": 2,
    "start_time": "2022-09-21T14:26:11.057Z"
   },
   {
    "duration": 14901,
    "start_time": "2022-09-21T14:26:12.378Z"
   },
   {
    "duration": 2,
    "start_time": "2022-09-21T14:26:34.049Z"
   },
   {
    "duration": 158184,
    "start_time": "2022-09-21T14:26:36.508Z"
   },
   {
    "duration": 3,
    "start_time": "2022-09-21T14:29:14.694Z"
   },
   {
    "duration": 12,
    "start_time": "2022-09-21T14:29:27.657Z"
   },
   {
    "duration": 3,
    "start_time": "2022-09-21T14:29:34.278Z"
   },
   {
    "duration": 50980,
    "start_time": "2022-09-21T14:29:35.545Z"
   },
   {
    "duration": 0,
    "start_time": "2022-09-21T14:30:26.527Z"
   },
   {
    "duration": 4,
    "start_time": "2022-09-21T14:31:09.293Z"
   },
   {
    "duration": 19,
    "start_time": "2022-09-21T14:31:11.941Z"
   },
   {
    "duration": 11,
    "start_time": "2022-09-21T14:31:35.490Z"
   },
   {
    "duration": 2,
    "start_time": "2022-09-21T14:32:25.941Z"
   },
   {
    "duration": 456524,
    "start_time": "2022-09-21T14:32:28.053Z"
   },
   {
    "duration": 0,
    "start_time": "2022-09-21T14:40:04.579Z"
   },
   {
    "duration": 0,
    "start_time": "2022-09-21T14:40:04.580Z"
   },
   {
    "duration": 0,
    "start_time": "2022-09-21T14:40:04.581Z"
   },
   {
    "duration": 3,
    "start_time": "2022-09-21T14:40:07.907Z"
   },
   {
    "duration": 4,
    "start_time": "2022-09-21T14:40:13.873Z"
   },
   {
    "duration": 5852,
    "start_time": "2022-09-21T14:40:15.069Z"
   },
   {
    "duration": 2,
    "start_time": "2022-09-21T14:40:23.615Z"
   },
   {
    "duration": 180552,
    "start_time": "2022-09-21T14:40:24.861Z"
   },
   {
    "duration": 4,
    "start_time": "2022-09-21T14:43:25.415Z"
   },
   {
    "duration": 11,
    "start_time": "2022-09-21T14:43:25.421Z"
   },
   {
    "duration": 105184,
    "start_time": "2022-09-21T14:43:25.434Z"
   },
   {
    "duration": 4,
    "start_time": "2022-09-21T14:45:10.710Z"
   },
   {
    "duration": 2,
    "start_time": "2022-09-21T14:53:36.845Z"
   },
   {
    "duration": 3,
    "start_time": "2022-09-21T14:53:49.571Z"
   },
   {
    "duration": 22833,
    "start_time": "2022-09-21T14:53:50.677Z"
   },
   {
    "duration": 4,
    "start_time": "2022-09-21T14:54:13.512Z"
   },
   {
    "duration": 2,
    "start_time": "2022-09-21T14:54:59.361Z"
   },
   {
    "duration": 3,
    "start_time": "2022-09-21T14:55:02.661Z"
   },
   {
    "duration": 180167,
    "start_time": "2022-09-21T14:55:03.953Z"
   },
   {
    "duration": 4,
    "start_time": "2022-09-21T14:58:04.122Z"
   },
   {
    "duration": 16,
    "start_time": "2022-09-21T14:58:04.127Z"
   },
   {
    "duration": 217868,
    "start_time": "2022-09-21T14:58:04.145Z"
   },
   {
    "duration": 93,
    "start_time": "2022-09-21T15:01:42.017Z"
   },
   {
    "duration": 7,
    "start_time": "2022-09-21T15:01:42.112Z"
   },
   {
    "duration": 91488,
    "start_time": "2022-09-21T15:01:42.121Z"
   },
   {
    "duration": 3,
    "start_time": "2022-09-21T15:03:13.611Z"
   },
   {
    "duration": 4,
    "start_time": "2022-09-21T15:03:13.616Z"
   },
   {
    "duration": 4,
    "start_time": "2022-09-21T15:09:48.617Z"
   },
   {
    "duration": 1402,
    "start_time": "2022-09-21T15:09:48.622Z"
   },
   {
    "duration": 18,
    "start_time": "2022-09-21T15:09:50.026Z"
   },
   {
    "duration": 219,
    "start_time": "2022-09-21T15:09:50.045Z"
   },
   {
    "duration": 3,
    "start_time": "2022-09-21T15:09:50.266Z"
   },
   {
    "duration": 1362,
    "start_time": "2022-09-21T15:15:37.649Z"
   },
   {
    "duration": 3,
    "start_time": "2022-09-21T15:15:39.012Z"
   },
   {
    "duration": 186,
    "start_time": "2022-09-21T15:15:42.779Z"
   },
   {
    "duration": 16,
    "start_time": "2022-09-21T15:16:01.861Z"
   },
   {
    "duration": 4,
    "start_time": "2022-09-21T15:16:05.955Z"
   },
   {
    "duration": 9,
    "start_time": "2022-09-21T15:16:08.903Z"
   },
   {
    "duration": 4,
    "start_time": "2022-09-21T15:16:11.382Z"
   },
   {
    "duration": 6,
    "start_time": "2022-09-21T15:16:12.549Z"
   },
   {
    "duration": 9,
    "start_time": "2022-09-21T15:16:16.909Z"
   },
   {
    "duration": 9,
    "start_time": "2022-09-21T15:16:20.449Z"
   },
   {
    "duration": 5,
    "start_time": "2022-09-21T15:16:23.388Z"
   },
   {
    "duration": 4,
    "start_time": "2022-09-21T15:16:24.187Z"
   },
   {
    "duration": 3,
    "start_time": "2022-09-21T15:16:27.781Z"
   },
   {
    "duration": 6,
    "start_time": "2022-09-21T15:16:28.893Z"
   },
   {
    "duration": 35,
    "start_time": "2022-09-21T15:16:29.970Z"
   },
   {
    "duration": 10,
    "start_time": "2022-09-21T15:16:31.089Z"
   },
   {
    "duration": 4,
    "start_time": "2022-09-21T15:16:33.252Z"
   },
   {
    "duration": 7,
    "start_time": "2022-09-21T15:16:35.950Z"
   },
   {
    "duration": 7,
    "start_time": "2022-09-21T15:16:36.999Z"
   },
   {
    "duration": 8,
    "start_time": "2022-09-21T15:16:40.047Z"
   },
   {
    "duration": 8,
    "start_time": "2022-09-21T15:16:44.048Z"
   },
   {
    "duration": 7,
    "start_time": "2022-09-21T15:16:45.099Z"
   },
   {
    "duration": 7,
    "start_time": "2022-09-21T15:16:45.937Z"
   },
   {
    "duration": 9,
    "start_time": "2022-09-21T15:16:47.152Z"
   },
   {
    "duration": 25,
    "start_time": "2022-09-21T15:16:52.609Z"
   },
   {
    "duration": 13,
    "start_time": "2022-09-21T15:16:57.150Z"
   },
   {
    "duration": 5,
    "start_time": "2022-09-21T15:17:03.752Z"
   },
   {
    "duration": 19,
    "start_time": "2022-09-21T15:17:05.069Z"
   },
   {
    "duration": 5,
    "start_time": "2022-09-21T15:17:11.480Z"
   },
   {
    "duration": 3,
    "start_time": "2022-09-21T15:17:20.454Z"
   },
   {
    "duration": 2,
    "start_time": "2022-09-21T15:17:33.322Z"
   },
   {
    "duration": 114131,
    "start_time": "2022-09-21T15:17:34.408Z"
   },
   {
    "duration": 4,
    "start_time": "2022-09-21T15:19:28.540Z"
   },
   {
    "duration": 3,
    "start_time": "2022-09-21T15:21:33.453Z"
   },
   {
    "duration": 371855,
    "start_time": "2022-09-21T15:21:35.160Z"
   },
   {
    "duration": 7,
    "start_time": "2022-09-21T15:27:47.017Z"
   },
   {
    "duration": 3,
    "start_time": "2022-09-21T15:28:58.351Z"
   },
   {
    "duration": 1303,
    "start_time": "2022-09-21T15:28:59.549Z"
   },
   {
    "duration": 23,
    "start_time": "2022-09-21T15:29:00.853Z"
   },
   {
    "duration": 5,
    "start_time": "2022-09-21T15:29:04.107Z"
   },
   {
    "duration": 1533,
    "start_time": "2022-09-21T15:30:02.737Z"
   },
   {
    "duration": 2,
    "start_time": "2022-09-21T15:30:04.272Z"
   },
   {
    "duration": 203,
    "start_time": "2022-09-21T15:30:04.276Z"
   },
   {
    "duration": 12,
    "start_time": "2022-09-21T15:30:04.481Z"
   },
   {
    "duration": 31,
    "start_time": "2022-09-21T15:30:04.495Z"
   },
   {
    "duration": 20,
    "start_time": "2022-09-21T15:30:04.527Z"
   },
   {
    "duration": 37,
    "start_time": "2022-09-21T15:30:04.548Z"
   },
   {
    "duration": 193,
    "start_time": "2022-09-21T15:30:04.586Z"
   },
   {
    "duration": 123,
    "start_time": "2022-09-21T15:30:04.780Z"
   },
   {
    "duration": 5388,
    "start_time": "2022-09-21T15:30:04.909Z"
   },
   {
    "duration": 16,
    "start_time": "2022-09-21T15:30:10.298Z"
   },
   {
    "duration": 35,
    "start_time": "2022-09-21T15:30:10.315Z"
   },
   {
    "duration": 39,
    "start_time": "2022-09-21T15:30:10.352Z"
   },
   {
    "duration": 25,
    "start_time": "2022-09-21T15:30:10.393Z"
   },
   {
    "duration": 28,
    "start_time": "2022-09-21T15:30:10.420Z"
   },
   {
    "duration": 32,
    "start_time": "2022-09-21T15:30:10.450Z"
   },
   {
    "duration": 57,
    "start_time": "2022-09-21T15:30:10.483Z"
   },
   {
    "duration": 6,
    "start_time": "2022-09-21T15:30:10.542Z"
   },
   {
    "duration": 27,
    "start_time": "2022-09-21T15:30:10.550Z"
   },
   {
    "duration": 28,
    "start_time": "2022-09-21T15:30:10.578Z"
   },
   {
    "duration": 53,
    "start_time": "2022-09-21T15:30:10.607Z"
   },
   {
    "duration": 369,
    "start_time": "2022-09-21T15:30:10.661Z"
   },
   {
    "duration": 7,
    "start_time": "2022-09-21T15:30:11.032Z"
   },
   {
    "duration": 34,
    "start_time": "2022-09-21T15:30:11.040Z"
   },
   {
    "duration": 13,
    "start_time": "2022-09-21T15:30:11.076Z"
   },
   {
    "duration": 34,
    "start_time": "2022-09-21T15:30:11.090Z"
   },
   {
    "duration": 338,
    "start_time": "2022-09-21T15:30:11.125Z"
   },
   {
    "duration": 10,
    "start_time": "2022-09-21T15:30:11.464Z"
   },
   {
    "duration": 45,
    "start_time": "2022-09-21T15:30:11.476Z"
   },
   {
    "duration": 29,
    "start_time": "2022-09-21T15:30:11.523Z"
   },
   {
    "duration": 38,
    "start_time": "2022-09-21T15:30:11.554Z"
   },
   {
    "duration": 25,
    "start_time": "2022-09-21T15:30:11.594Z"
   },
   {
    "duration": 27,
    "start_time": "2022-09-21T15:30:11.621Z"
   },
   {
    "duration": 68,
    "start_time": "2022-09-21T15:30:11.649Z"
   },
   {
    "duration": 178,
    "start_time": "2022-09-21T15:30:11.719Z"
   },
   {
    "duration": 19,
    "start_time": "2022-09-21T15:30:11.898Z"
   },
   {
    "duration": 37,
    "start_time": "2022-09-21T15:30:11.918Z"
   },
   {
    "duration": 16,
    "start_time": "2022-09-21T15:30:11.957Z"
   },
   {
    "duration": 26,
    "start_time": "2022-09-21T15:30:11.975Z"
   },
   {
    "duration": 27,
    "start_time": "2022-09-21T15:30:12.003Z"
   },
   {
    "duration": 18,
    "start_time": "2022-09-21T15:30:12.035Z"
   },
   {
    "duration": 14,
    "start_time": "2022-09-21T15:30:12.055Z"
   },
   {
    "duration": 40,
    "start_time": "2022-09-21T15:30:12.070Z"
   },
   {
    "duration": 25,
    "start_time": "2022-09-21T15:30:12.111Z"
   },
   {
    "duration": 28,
    "start_time": "2022-09-21T15:30:12.138Z"
   },
   {
    "duration": 32,
    "start_time": "2022-09-21T15:30:12.168Z"
   },
   {
    "duration": 21,
    "start_time": "2022-09-21T15:30:12.202Z"
   },
   {
    "duration": 33,
    "start_time": "2022-09-21T15:30:12.225Z"
   },
   {
    "duration": 11,
    "start_time": "2022-09-21T15:30:12.259Z"
   },
   {
    "duration": 25,
    "start_time": "2022-09-21T15:30:12.271Z"
   },
   {
    "duration": 38,
    "start_time": "2022-09-21T15:30:12.297Z"
   },
   {
    "duration": 20,
    "start_time": "2022-09-21T15:30:12.336Z"
   },
   {
    "duration": 38,
    "start_time": "2022-09-21T15:30:12.358Z"
   },
   {
    "duration": 29,
    "start_time": "2022-09-21T15:30:12.397Z"
   },
   {
    "duration": 28,
    "start_time": "2022-09-21T15:30:12.428Z"
   },
   {
    "duration": 31,
    "start_time": "2022-09-21T15:30:12.458Z"
   },
   {
    "duration": 18,
    "start_time": "2022-09-21T15:30:12.491Z"
   },
   {
    "duration": 40,
    "start_time": "2022-09-21T15:30:12.511Z"
   },
   {
    "duration": 34,
    "start_time": "2022-09-21T15:30:12.554Z"
   },
   {
    "duration": 31,
    "start_time": "2022-09-21T15:30:12.590Z"
   },
   {
    "duration": 35,
    "start_time": "2022-09-21T15:30:12.623Z"
   },
   {
    "duration": 48,
    "start_time": "2022-09-21T15:30:12.660Z"
   },
   {
    "duration": 16,
    "start_time": "2022-09-21T15:30:12.710Z"
   },
   {
    "duration": 28,
    "start_time": "2022-09-21T15:30:12.727Z"
   },
   {
    "duration": 20,
    "start_time": "2022-09-21T15:30:12.756Z"
   },
   {
    "duration": 29,
    "start_time": "2022-09-21T15:30:12.777Z"
   },
   {
    "duration": 24,
    "start_time": "2022-09-21T15:30:12.808Z"
   },
   {
    "duration": 52,
    "start_time": "2022-09-21T15:30:12.834Z"
   },
   {
    "duration": 26,
    "start_time": "2022-09-21T15:30:12.888Z"
   },
   {
    "duration": 21,
    "start_time": "2022-09-21T15:30:12.916Z"
   },
   {
    "duration": 34,
    "start_time": "2022-09-21T15:30:12.939Z"
   },
   {
    "duration": 17,
    "start_time": "2022-09-21T15:30:12.974Z"
   },
   {
    "duration": 35,
    "start_time": "2022-09-21T15:30:12.993Z"
   },
   {
    "duration": 29,
    "start_time": "2022-09-21T15:30:13.029Z"
   },
   {
    "duration": 12,
    "start_time": "2022-09-21T15:30:13.059Z"
   },
   {
    "duration": 38,
    "start_time": "2022-09-21T15:30:13.072Z"
   },
   {
    "duration": 35,
    "start_time": "2022-09-21T15:30:13.112Z"
   },
   {
    "duration": 24,
    "start_time": "2022-09-21T15:30:13.149Z"
   },
   {
    "duration": 41,
    "start_time": "2022-09-21T15:30:13.175Z"
   },
   {
    "duration": 24,
    "start_time": "2022-09-21T15:30:13.218Z"
   },
   {
    "duration": 37,
    "start_time": "2022-09-21T15:30:13.244Z"
   },
   {
    "duration": 35,
    "start_time": "2022-09-21T15:30:13.283Z"
   },
   {
    "duration": 14,
    "start_time": "2022-09-21T15:30:13.320Z"
   },
   {
    "duration": 93833,
    "start_time": "2022-09-21T15:30:13.335Z"
   },
   {
    "duration": 4,
    "start_time": "2022-09-21T15:31:47.169Z"
   },
   {
    "duration": 6,
    "start_time": "2022-09-21T15:33:24.935Z"
   },
   {
    "duration": 10,
    "start_time": "2022-09-21T15:33:37.229Z"
   },
   {
    "duration": 16,
    "start_time": "2022-09-21T15:33:59.729Z"
   },
   {
    "duration": 22,
    "start_time": "2022-09-21T15:34:20.575Z"
   },
   {
    "duration": 17,
    "start_time": "2022-09-21T15:34:28.395Z"
   },
   {
    "duration": 7,
    "start_time": "2022-09-21T15:35:46.285Z"
   },
   {
    "duration": 8,
    "start_time": "2022-09-21T15:35:48.543Z"
   },
   {
    "duration": 11,
    "start_time": "2022-09-21T15:35:53.953Z"
   },
   {
    "duration": 8,
    "start_time": "2022-09-21T15:35:59.374Z"
   },
   {
    "duration": 4,
    "start_time": "2022-09-21T15:36:02.229Z"
   },
   {
    "duration": 10,
    "start_time": "2022-09-21T15:36:05.164Z"
   },
   {
    "duration": 4,
    "start_time": "2022-09-21T15:36:08.641Z"
   },
   {
    "duration": 9,
    "start_time": "2022-09-21T15:36:11.430Z"
   },
   {
    "duration": 11,
    "start_time": "2022-09-21T15:36:12.654Z"
   },
   {
    "duration": 2,
    "start_time": "2022-09-21T15:36:19.091Z"
   },
   {
    "duration": 3,
    "start_time": "2022-09-21T15:36:21.964Z"
   },
   {
    "duration": 3,
    "start_time": "2022-09-21T15:36:39.196Z"
   },
   {
    "duration": 1062,
    "start_time": "2022-09-21T15:36:42.863Z"
   },
   {
    "duration": 12,
    "start_time": "2022-09-21T15:36:44.402Z"
   },
   {
    "duration": 4,
    "start_time": "2022-09-21T15:36:56.104Z"
   },
   {
    "duration": 9,
    "start_time": "2022-09-21T15:37:11.418Z"
   },
   {
    "duration": 9,
    "start_time": "2022-09-21T15:37:12.974Z"
   },
   {
    "duration": 6,
    "start_time": "2022-09-21T15:37:16.544Z"
   },
   {
    "duration": 5,
    "start_time": "2022-09-21T15:37:20.827Z"
   },
   {
    "duration": 11,
    "start_time": "2022-09-21T15:37:24.827Z"
   },
   {
    "duration": 3,
    "start_time": "2022-09-21T15:37:32.255Z"
   },
   {
    "duration": 1702,
    "start_time": "2022-09-21T15:37:33.354Z"
   },
   {
    "duration": 12,
    "start_time": "2022-09-21T15:37:35.058Z"
   },
   {
    "duration": 4,
    "start_time": "2022-09-21T15:37:36.129Z"
   },
   {
    "duration": 7,
    "start_time": "2022-09-21T16:06:00.755Z"
   },
   {
    "duration": 9,
    "start_time": "2022-09-21T16:06:07.049Z"
   },
   {
    "duration": 8,
    "start_time": "2022-09-21T16:06:47.560Z"
   },
   {
    "duration": 9,
    "start_time": "2022-09-21T16:07:40.941Z"
   },
   {
    "duration": 8,
    "start_time": "2022-09-21T16:07:42.140Z"
   },
   {
    "duration": 8,
    "start_time": "2022-09-21T16:07:43.331Z"
   },
   {
    "duration": 14,
    "start_time": "2022-09-21T16:08:35.340Z"
   },
   {
    "duration": 14,
    "start_time": "2022-09-21T16:09:15.941Z"
   },
   {
    "duration": 13,
    "start_time": "2022-09-21T16:09:18.219Z"
   },
   {
    "duration": 7,
    "start_time": "2022-09-21T16:09:28.349Z"
   },
   {
    "duration": 125,
    "start_time": "2022-09-21T16:09:40.540Z"
   },
   {
    "duration": 5,
    "start_time": "2022-09-21T16:09:44.587Z"
   },
   {
    "duration": 5,
    "start_time": "2022-09-21T16:09:54.536Z"
   },
   {
    "duration": 13,
    "start_time": "2022-09-21T16:10:21.615Z"
   },
   {
    "duration": 14,
    "start_time": "2022-09-21T16:10:24.419Z"
   },
   {
    "duration": 9,
    "start_time": "2022-09-21T16:10:41.790Z"
   },
   {
    "duration": 10,
    "start_time": "2022-09-21T16:10:47.205Z"
   },
   {
    "duration": 12,
    "start_time": "2022-09-21T16:13:20.645Z"
   },
   {
    "duration": 18,
    "start_time": "2022-09-21T16:13:46.352Z"
   },
   {
    "duration": 8,
    "start_time": "2022-09-21T16:14:24.592Z"
   },
   {
    "duration": 797,
    "start_time": "2022-09-21T16:15:45.942Z"
   },
   {
    "duration": 10,
    "start_time": "2022-09-21T16:16:03.986Z"
   },
   {
    "duration": 6,
    "start_time": "2022-09-21T16:16:06.706Z"
   },
   {
    "duration": 8,
    "start_time": "2022-09-21T16:16:19.087Z"
   },
   {
    "duration": 41,
    "start_time": "2022-09-21T16:23:17.680Z"
   },
   {
    "duration": 21,
    "start_time": "2022-09-21T16:23:53.242Z"
   },
   {
    "duration": 45,
    "start_time": "2022-09-21T16:24:17.462Z"
   },
   {
    "duration": 56,
    "start_time": "2022-09-21T16:24:38.202Z"
   },
   {
    "duration": 33,
    "start_time": "2022-09-21T16:25:04.182Z"
   },
   {
    "duration": 59,
    "start_time": "2022-09-21T16:25:11.601Z"
   },
   {
    "duration": 63,
    "start_time": "2022-09-21T16:25:21.622Z"
   },
   {
    "duration": 64,
    "start_time": "2022-09-21T16:31:04.948Z"
   },
   {
    "duration": 7,
    "start_time": "2022-09-21T16:31:23.402Z"
   },
   {
    "duration": 50,
    "start_time": "2022-09-21T16:31:46.143Z"
   },
   {
    "duration": 27,
    "start_time": "2022-09-21T16:31:59.745Z"
   },
   {
    "duration": 42,
    "start_time": "2022-09-21T16:32:11.841Z"
   },
   {
    "duration": 4,
    "start_time": "2022-09-21T16:32:38.436Z"
   },
   {
    "duration": 5,
    "start_time": "2022-09-21T16:32:48.295Z"
   },
   {
    "duration": 7,
    "start_time": "2022-09-21T16:32:51.693Z"
   },
   {
    "duration": 8,
    "start_time": "2022-09-21T16:32:54.374Z"
   },
   {
    "duration": 12,
    "start_time": "2022-09-21T16:33:01.936Z"
   },
   {
    "duration": 11,
    "start_time": "2022-09-21T16:34:03.919Z"
   },
   {
    "duration": 12,
    "start_time": "2022-09-21T16:34:16.415Z"
   },
   {
    "duration": 6,
    "start_time": "2022-09-21T16:35:49.299Z"
   },
   {
    "duration": 11,
    "start_time": "2022-09-21T16:35:56.099Z"
   },
   {
    "duration": 6,
    "start_time": "2022-09-21T16:36:08.035Z"
   },
   {
    "duration": 12,
    "start_time": "2022-09-21T16:36:09.248Z"
   },
   {
    "duration": 7,
    "start_time": "2022-09-21T16:36:17.319Z"
   },
   {
    "duration": 5,
    "start_time": "2022-09-21T16:36:20.162Z"
   },
   {
    "duration": 10,
    "start_time": "2022-09-21T16:36:21.333Z"
   },
   {
    "duration": 4,
    "start_time": "2022-09-21T16:37:57.259Z"
   },
   {
    "duration": 9,
    "start_time": "2022-09-21T16:38:07.789Z"
   },
   {
    "duration": 9,
    "start_time": "2022-09-21T16:38:08.944Z"
   },
   {
    "duration": 18,
    "start_time": "2022-09-21T16:38:19.349Z"
   },
   {
    "duration": 5,
    "start_time": "2022-09-21T16:38:41.009Z"
   },
   {
    "duration": 4,
    "start_time": "2022-09-21T16:38:42.338Z"
   },
   {
    "duration": 7,
    "start_time": "2022-09-21T16:38:51.739Z"
   },
   {
    "duration": 7,
    "start_time": "2022-09-21T16:38:52.749Z"
   },
   {
    "duration": 14,
    "start_time": "2022-09-21T16:38:57.938Z"
   },
   {
    "duration": 15,
    "start_time": "2022-09-21T16:39:34.339Z"
   },
   {
    "duration": 6,
    "start_time": "2022-09-21T16:39:43.602Z"
   },
   {
    "duration": 12,
    "start_time": "2022-09-21T16:39:45.613Z"
   },
   {
    "duration": 8,
    "start_time": "2022-09-21T16:39:57.977Z"
   },
   {
    "duration": 1405,
    "start_time": "2022-09-21T16:40:36.162Z"
   },
   {
    "duration": 5,
    "start_time": "2022-09-21T16:40:48.299Z"
   },
   {
    "duration": 5,
    "start_time": "2022-09-21T16:40:54.733Z"
   },
   {
    "duration": 1846,
    "start_time": "2022-09-22T11:48:56.632Z"
   },
   {
    "duration": 3,
    "start_time": "2022-09-22T11:48:58.482Z"
   },
   {
    "duration": 434,
    "start_time": "2022-09-22T11:49:01.840Z"
   },
   {
    "duration": 186,
    "start_time": "2022-09-22T11:50:01.001Z"
   },
   {
    "duration": 16,
    "start_time": "2022-09-22T11:50:12.982Z"
   },
   {
    "duration": 16,
    "start_time": "2022-09-22T11:50:15.487Z"
   },
   {
    "duration": 3,
    "start_time": "2022-09-22T11:50:19.853Z"
   },
   {
    "duration": 11,
    "start_time": "2022-09-22T11:51:07.621Z"
   },
   {
    "duration": 4,
    "start_time": "2022-09-22T11:51:16.269Z"
   },
   {
    "duration": 7,
    "start_time": "2022-09-22T11:51:24.342Z"
   },
   {
    "duration": 8,
    "start_time": "2022-09-22T11:51:25.250Z"
   },
   {
    "duration": 6,
    "start_time": "2022-09-22T11:57:45.141Z"
   },
   {
    "duration": 7,
    "start_time": "2022-09-22T11:57:46.703Z"
   },
   {
    "duration": 7,
    "start_time": "2022-09-22T11:58:22.869Z"
   },
   {
    "duration": 244,
    "start_time": "2022-09-22T11:58:42.541Z"
   },
   {
    "duration": 14,
    "start_time": "2022-09-22T11:58:56.033Z"
   },
   {
    "duration": 12,
    "start_time": "2022-09-22T11:59:20.021Z"
   },
   {
    "duration": 10,
    "start_time": "2022-09-22T12:00:00.464Z"
   },
   {
    "duration": 11,
    "start_time": "2022-09-22T12:00:07.468Z"
   },
   {
    "duration": 29,
    "start_time": "2022-09-22T12:00:38.354Z"
   },
   {
    "duration": 38,
    "start_time": "2022-09-22T12:00:41.504Z"
   },
   {
    "duration": 11,
    "start_time": "2022-09-22T12:01:21.192Z"
   },
   {
    "duration": 10,
    "start_time": "2022-09-22T12:01:41.874Z"
   },
   {
    "duration": 8,
    "start_time": "2022-09-22T12:01:48.849Z"
   },
   {
    "duration": 8,
    "start_time": "2022-09-22T12:01:53.386Z"
   },
   {
    "duration": 7,
    "start_time": "2022-09-22T12:01:56.370Z"
   },
   {
    "duration": 9,
    "start_time": "2022-09-22T12:02:02.572Z"
   },
   {
    "duration": 8,
    "start_time": "2022-09-22T12:02:07.594Z"
   },
   {
    "duration": 9,
    "start_time": "2022-09-22T12:06:55.868Z"
   },
   {
    "duration": 4,
    "start_time": "2022-09-22T12:06:58.446Z"
   },
   {
    "duration": 4,
    "start_time": "2022-09-22T12:06:59.236Z"
   },
   {
    "duration": 7,
    "start_time": "2022-09-22T12:07:05.147Z"
   },
   {
    "duration": 7,
    "start_time": "2022-09-22T12:07:09.036Z"
   },
   {
    "duration": 3,
    "start_time": "2022-09-22T12:08:35.975Z"
   },
   {
    "duration": 17,
    "start_time": "2022-09-22T12:09:14.079Z"
   },
   {
    "duration": 12,
    "start_time": "2022-09-22T12:12:54.233Z"
   },
   {
    "duration": 713,
    "start_time": "2022-09-22T12:13:19.045Z"
   },
   {
    "duration": 8,
    "start_time": "2022-09-22T12:13:26.353Z"
   },
   {
    "duration": 8,
    "start_time": "2022-09-22T12:13:34.446Z"
   },
   {
    "duration": 5,
    "start_time": "2022-09-22T12:13:54.286Z"
   },
   {
    "duration": 14,
    "start_time": "2022-09-22T12:13:56.792Z"
   },
   {
    "duration": 10,
    "start_time": "2022-09-22T12:14:28.414Z"
   },
   {
    "duration": 7,
    "start_time": "2022-09-22T12:14:30.167Z"
   },
   {
    "duration": 9,
    "start_time": "2022-09-22T12:14:31.423Z"
   },
   {
    "duration": 5,
    "start_time": "2022-09-22T12:14:34.021Z"
   },
   {
    "duration": 5,
    "start_time": "2022-09-22T12:14:34.901Z"
   },
   {
    "duration": 5,
    "start_time": "2022-09-22T12:14:38.833Z"
   },
   {
    "duration": 4,
    "start_time": "2022-09-22T12:14:44.172Z"
   },
   {
    "duration": 8,
    "start_time": "2022-09-22T12:14:54.283Z"
   },
   {
    "duration": 8,
    "start_time": "2022-09-22T12:14:55.803Z"
   },
   {
    "duration": 12,
    "start_time": "2022-09-22T12:16:35.753Z"
   },
   {
    "duration": 17,
    "start_time": "2022-09-22T12:17:44.981Z"
   },
   {
    "duration": 9,
    "start_time": "2022-09-22T12:18:23.770Z"
   },
   {
    "duration": 360,
    "start_time": "2022-09-22T12:19:38.871Z"
   },
   {
    "duration": 3,
    "start_time": "2022-09-22T12:19:51.483Z"
   },
   {
    "duration": 196,
    "start_time": "2022-09-22T12:20:05.373Z"
   },
   {
    "duration": 7,
    "start_time": "2022-09-22T12:20:22.226Z"
   },
   {
    "duration": 7,
    "start_time": "2022-09-22T12:20:35.031Z"
   },
   {
    "duration": 9,
    "start_time": "2022-09-22T12:20:45.853Z"
   },
   {
    "duration": 10,
    "start_time": "2022-09-22T12:21:33.363Z"
   },
   {
    "duration": 9,
    "start_time": "2022-09-22T12:21:40.273Z"
   },
   {
    "duration": 6,
    "start_time": "2022-09-22T12:21:58.623Z"
   },
   {
    "duration": 26,
    "start_time": "2022-09-22T12:21:59.916Z"
   },
   {
    "duration": 14,
    "start_time": "2022-09-22T12:27:18.413Z"
   },
   {
    "duration": 1636,
    "start_time": "2022-09-22T12:27:58.866Z"
   },
   {
    "duration": 2,
    "start_time": "2022-09-22T12:28:00.504Z"
   },
   {
    "duration": 218,
    "start_time": "2022-09-22T12:28:00.507Z"
   },
   {
    "duration": 12,
    "start_time": "2022-09-22T12:28:00.727Z"
   },
   {
    "duration": 39,
    "start_time": "2022-09-22T12:28:00.742Z"
   },
   {
    "duration": 20,
    "start_time": "2022-09-22T12:28:00.783Z"
   },
   {
    "duration": 22,
    "start_time": "2022-09-22T12:28:00.805Z"
   },
   {
    "duration": 217,
    "start_time": "2022-09-22T12:28:00.829Z"
   },
   {
    "duration": 130,
    "start_time": "2022-09-22T12:28:01.048Z"
   },
   {
    "duration": 5797,
    "start_time": "2022-09-22T12:28:01.180Z"
   },
   {
    "duration": 13,
    "start_time": "2022-09-22T12:28:06.978Z"
   },
   {
    "duration": 35,
    "start_time": "2022-09-22T12:28:06.992Z"
   },
   {
    "duration": 43,
    "start_time": "2022-09-22T12:28:07.028Z"
   },
   {
    "duration": 20,
    "start_time": "2022-09-22T12:28:07.075Z"
   },
   {
    "duration": 28,
    "start_time": "2022-09-22T12:28:07.096Z"
   },
   {
    "duration": 36,
    "start_time": "2022-09-22T12:28:07.126Z"
   },
   {
    "duration": 56,
    "start_time": "2022-09-22T12:28:07.163Z"
   },
   {
    "duration": 8,
    "start_time": "2022-09-22T12:28:07.221Z"
   },
   {
    "duration": 31,
    "start_time": "2022-09-22T12:28:07.231Z"
   },
   {
    "duration": 42,
    "start_time": "2022-09-22T12:28:07.264Z"
   },
   {
    "duration": 44,
    "start_time": "2022-09-22T12:28:07.307Z"
   },
   {
    "duration": 382,
    "start_time": "2022-09-22T12:28:07.353Z"
   },
   {
    "duration": 7,
    "start_time": "2022-09-22T12:28:07.737Z"
   },
   {
    "duration": 39,
    "start_time": "2022-09-22T12:28:07.745Z"
   },
   {
    "duration": 19,
    "start_time": "2022-09-22T12:28:07.786Z"
   },
   {
    "duration": 36,
    "start_time": "2022-09-22T12:28:07.806Z"
   },
   {
    "duration": 345,
    "start_time": "2022-09-22T12:28:07.843Z"
   },
   {
    "duration": 10,
    "start_time": "2022-09-22T12:28:08.190Z"
   },
   {
    "duration": 29,
    "start_time": "2022-09-22T12:28:08.208Z"
   },
   {
    "duration": 28,
    "start_time": "2022-09-22T12:28:08.238Z"
   },
   {
    "duration": 38,
    "start_time": "2022-09-22T12:28:08.268Z"
   },
   {
    "duration": 31,
    "start_time": "2022-09-22T12:28:08.308Z"
   },
   {
    "duration": 21,
    "start_time": "2022-09-22T12:28:08.341Z"
   },
   {
    "duration": 65,
    "start_time": "2022-09-22T12:28:08.364Z"
   },
   {
    "duration": 182,
    "start_time": "2022-09-22T12:28:08.430Z"
   },
   {
    "duration": 16,
    "start_time": "2022-09-22T12:28:08.616Z"
   },
   {
    "duration": 32,
    "start_time": "2022-09-22T12:28:08.634Z"
   },
   {
    "duration": 25,
    "start_time": "2022-09-22T12:28:08.668Z"
   },
   {
    "duration": 20,
    "start_time": "2022-09-22T12:28:08.695Z"
   },
   {
    "duration": 31,
    "start_time": "2022-09-22T12:28:08.716Z"
   },
   {
    "duration": 32,
    "start_time": "2022-09-22T12:28:08.751Z"
   },
   {
    "duration": 20,
    "start_time": "2022-09-22T12:28:08.785Z"
   },
   {
    "duration": 38,
    "start_time": "2022-09-22T12:28:08.806Z"
   },
   {
    "duration": 16,
    "start_time": "2022-09-22T12:28:08.846Z"
   },
   {
    "duration": 25,
    "start_time": "2022-09-22T12:28:08.863Z"
   },
   {
    "duration": 7,
    "start_time": "2022-09-22T12:28:08.890Z"
   },
   {
    "duration": 27,
    "start_time": "2022-09-22T12:28:08.898Z"
   },
   {
    "duration": 12,
    "start_time": "2022-09-22T12:28:08.926Z"
   },
   {
    "duration": 34,
    "start_time": "2022-09-22T12:28:08.939Z"
   },
   {
    "duration": 16,
    "start_time": "2022-09-22T12:28:08.975Z"
   },
   {
    "duration": 24,
    "start_time": "2022-09-22T12:28:08.993Z"
   },
   {
    "duration": 23,
    "start_time": "2022-09-22T12:28:09.018Z"
   },
   {
    "duration": 28,
    "start_time": "2022-09-22T12:28:09.043Z"
   },
   {
    "duration": 26,
    "start_time": "2022-09-22T12:28:09.073Z"
   },
   {
    "duration": 9,
    "start_time": "2022-09-22T12:28:09.101Z"
   },
   {
    "duration": 22,
    "start_time": "2022-09-22T12:28:09.112Z"
   },
   {
    "duration": 14,
    "start_time": "2022-09-22T12:28:09.136Z"
   },
   {
    "duration": 26,
    "start_time": "2022-09-22T12:28:09.152Z"
   },
   {
    "duration": 25,
    "start_time": "2022-09-22T12:28:09.179Z"
   },
   {
    "duration": 27,
    "start_time": "2022-09-22T12:28:09.205Z"
   },
   {
    "duration": 14,
    "start_time": "2022-09-22T12:28:09.233Z"
   },
   {
    "duration": 21,
    "start_time": "2022-09-22T12:28:09.249Z"
   },
   {
    "duration": 15,
    "start_time": "2022-09-22T12:28:09.271Z"
   },
   {
    "duration": 14,
    "start_time": "2022-09-22T12:28:09.288Z"
   },
   {
    "duration": 32,
    "start_time": "2022-09-22T12:28:09.303Z"
   },
   {
    "duration": 27,
    "start_time": "2022-09-22T12:28:09.336Z"
   },
   {
    "duration": 12,
    "start_time": "2022-09-22T12:28:09.365Z"
   },
   {
    "duration": 21,
    "start_time": "2022-09-22T12:28:09.379Z"
   },
   {
    "duration": 38,
    "start_time": "2022-09-22T12:28:09.402Z"
   },
   {
    "duration": 15,
    "start_time": "2022-09-22T12:28:16.103Z"
   },
   {
    "duration": 9,
    "start_time": "2022-09-22T12:29:10.050Z"
   },
   {
    "duration": 14,
    "start_time": "2022-09-22T12:29:44.162Z"
   },
   {
    "duration": 1485,
    "start_time": "2022-09-22T12:30:42.865Z"
   },
   {
    "duration": 9,
    "start_time": "2022-09-22T12:31:12.618Z"
   },
   {
    "duration": 19,
    "start_time": "2022-09-22T12:32:28.529Z"
   },
   {
    "duration": 14,
    "start_time": "2022-09-22T12:33:01.809Z"
   },
   {
    "duration": 6,
    "start_time": "2022-09-22T12:36:12.138Z"
   },
   {
    "duration": 11,
    "start_time": "2022-09-22T12:36:23.534Z"
   },
   {
    "duration": 7,
    "start_time": "2022-09-22T12:36:50.016Z"
   },
   {
    "duration": 11,
    "start_time": "2022-09-22T12:36:52.353Z"
   },
   {
    "duration": 11,
    "start_time": "2022-09-22T12:36:57.765Z"
   },
   {
    "duration": 8,
    "start_time": "2022-09-22T12:37:08.966Z"
   },
   {
    "duration": 7,
    "start_time": "2022-09-22T12:37:21.130Z"
   },
   {
    "duration": 9,
    "start_time": "2022-09-22T12:37:24.768Z"
   },
   {
    "duration": 4,
    "start_time": "2022-09-22T12:38:42.243Z"
   },
   {
    "duration": 13,
    "start_time": "2022-09-22T12:39:57.809Z"
   },
   {
    "duration": 9,
    "start_time": "2022-09-22T12:40:03.183Z"
   },
   {
    "duration": 2,
    "start_time": "2022-09-22T12:40:08.537Z"
   },
   {
    "duration": 7,
    "start_time": "2022-09-22T12:40:43.063Z"
   },
   {
    "duration": 5,
    "start_time": "2022-09-22T12:43:06.332Z"
   },
   {
    "duration": 19,
    "start_time": "2022-09-22T12:43:12.887Z"
   },
   {
    "duration": 17,
    "start_time": "2022-09-22T12:43:43.020Z"
   },
   {
    "duration": 12,
    "start_time": "2022-09-22T12:47:58.155Z"
   },
   {
    "duration": 11,
    "start_time": "2022-09-22T12:49:03.437Z"
   },
   {
    "duration": 12,
    "start_time": "2022-09-22T12:49:09.383Z"
   },
   {
    "duration": 15,
    "start_time": "2022-09-22T12:49:16.457Z"
   },
   {
    "duration": 12,
    "start_time": "2022-09-22T12:49:21.563Z"
   },
   {
    "duration": 12,
    "start_time": "2022-09-22T12:49:26.288Z"
   },
   {
    "duration": 4,
    "start_time": "2022-09-22T12:49:47.264Z"
   },
   {
    "duration": 4,
    "start_time": "2022-09-22T12:51:02.581Z"
   },
   {
    "duration": 5,
    "start_time": "2022-09-22T12:51:05.729Z"
   },
   {
    "duration": 12,
    "start_time": "2022-09-22T12:51:16.681Z"
   },
   {
    "duration": 16,
    "start_time": "2022-09-22T12:52:19.501Z"
   },
   {
    "duration": 15,
    "start_time": "2022-09-22T12:52:31.412Z"
   },
   {
    "duration": 19,
    "start_time": "2022-09-22T12:55:14.355Z"
   },
   {
    "duration": 12,
    "start_time": "2022-09-22T12:55:28.305Z"
   },
   {
    "duration": 18,
    "start_time": "2022-09-22T12:55:35.210Z"
   },
   {
    "duration": 8,
    "start_time": "2022-09-22T12:55:57.704Z"
   },
   {
    "duration": 39,
    "start_time": "2022-09-22T12:55:58.871Z"
   },
   {
    "duration": 9,
    "start_time": "2022-09-22T12:55:59.905Z"
   },
   {
    "duration": 13,
    "start_time": "2022-09-22T12:56:08.017Z"
   },
   {
    "duration": 1412,
    "start_time": "2022-09-22T12:56:19.628Z"
   },
   {
    "duration": 3,
    "start_time": "2022-09-22T12:56:21.042Z"
   },
   {
    "duration": 188,
    "start_time": "2022-09-22T12:56:21.046Z"
   },
   {
    "duration": 12,
    "start_time": "2022-09-22T12:56:21.236Z"
   },
   {
    "duration": 12,
    "start_time": "2022-09-22T12:56:21.250Z"
   },
   {
    "duration": 7,
    "start_time": "2022-09-22T12:56:21.263Z"
   },
   {
    "duration": 19,
    "start_time": "2022-09-22T12:56:21.271Z"
   },
   {
    "duration": 209,
    "start_time": "2022-09-22T12:56:21.292Z"
   },
   {
    "duration": 131,
    "start_time": "2022-09-22T12:56:21.502Z"
   },
   {
    "duration": 5696,
    "start_time": "2022-09-22T12:56:21.634Z"
   },
   {
    "duration": 15,
    "start_time": "2022-09-22T12:56:27.331Z"
   },
   {
    "duration": 18,
    "start_time": "2022-09-22T12:56:27.347Z"
   },
   {
    "duration": 13,
    "start_time": "2022-09-22T12:56:27.366Z"
   },
   {
    "duration": 12,
    "start_time": "2022-09-22T12:56:27.382Z"
   },
   {
    "duration": 7,
    "start_time": "2022-09-22T12:56:27.412Z"
   },
   {
    "duration": 16,
    "start_time": "2022-09-22T12:56:27.421Z"
   },
   {
    "duration": 46,
    "start_time": "2022-09-22T12:56:27.438Z"
   },
   {
    "duration": 5,
    "start_time": "2022-09-22T12:56:27.486Z"
   },
   {
    "duration": 10,
    "start_time": "2022-09-22T12:56:27.509Z"
   },
   {
    "duration": 17,
    "start_time": "2022-09-22T12:56:27.521Z"
   },
   {
    "duration": 13,
    "start_time": "2022-09-22T12:56:27.539Z"
   },
   {
    "duration": 369,
    "start_time": "2022-09-22T12:56:27.553Z"
   },
   {
    "duration": 10,
    "start_time": "2022-09-22T12:56:27.924Z"
   },
   {
    "duration": 16,
    "start_time": "2022-09-22T12:56:27.935Z"
   },
   {
    "duration": 6,
    "start_time": "2022-09-22T12:56:27.953Z"
   },
   {
    "duration": 13,
    "start_time": "2022-09-22T12:56:27.961Z"
   },
   {
    "duration": 367,
    "start_time": "2022-09-22T12:56:27.975Z"
   },
   {
    "duration": 10,
    "start_time": "2022-09-22T12:56:28.343Z"
   },
   {
    "duration": 11,
    "start_time": "2022-09-22T12:56:28.355Z"
   },
   {
    "duration": 11,
    "start_time": "2022-09-22T12:56:28.367Z"
   },
   {
    "duration": 31,
    "start_time": "2022-09-22T12:56:28.379Z"
   },
   {
    "duration": 9,
    "start_time": "2022-09-22T12:56:28.411Z"
   },
   {
    "duration": 10,
    "start_time": "2022-09-22T12:56:28.421Z"
   },
   {
    "duration": 33,
    "start_time": "2022-09-22T12:56:28.432Z"
   },
   {
    "duration": 196,
    "start_time": "2022-09-22T12:56:28.466Z"
   },
   {
    "duration": 13,
    "start_time": "2022-09-22T12:56:28.663Z"
   },
   {
    "duration": 14,
    "start_time": "2022-09-22T12:56:28.678Z"
   },
   {
    "duration": 16,
    "start_time": "2022-09-22T12:56:28.693Z"
   },
   {
    "duration": 4,
    "start_time": "2022-09-22T12:56:28.710Z"
   },
   {
    "duration": 18,
    "start_time": "2022-09-22T12:56:28.715Z"
   },
   {
    "duration": 14,
    "start_time": "2022-09-22T12:56:28.737Z"
   },
   {
    "duration": 8,
    "start_time": "2022-09-22T12:56:28.752Z"
   },
   {
    "duration": 11,
    "start_time": "2022-09-22T12:56:28.761Z"
   },
   {
    "duration": 4,
    "start_time": "2022-09-22T12:56:28.773Z"
   },
   {
    "duration": 41,
    "start_time": "2022-09-22T12:56:28.779Z"
   },
   {
    "duration": 9,
    "start_time": "2022-09-22T12:56:28.821Z"
   },
   {
    "duration": 18,
    "start_time": "2022-09-22T12:56:28.832Z"
   },
   {
    "duration": 7,
    "start_time": "2022-09-22T12:56:28.852Z"
   },
   {
    "duration": 10,
    "start_time": "2022-09-22T12:56:28.860Z"
   },
   {
    "duration": 6,
    "start_time": "2022-09-22T12:56:28.872Z"
   },
   {
    "duration": 4,
    "start_time": "2022-09-22T12:56:28.879Z"
   },
   {
    "duration": 30,
    "start_time": "2022-09-22T12:56:28.885Z"
   },
   {
    "duration": 9,
    "start_time": "2022-09-22T12:56:28.917Z"
   },
   {
    "duration": 7,
    "start_time": "2022-09-22T12:56:28.928Z"
   },
   {
    "duration": 7,
    "start_time": "2022-09-22T12:56:28.937Z"
   },
   {
    "duration": 10,
    "start_time": "2022-09-22T12:56:28.945Z"
   },
   {
    "duration": 14,
    "start_time": "2022-09-22T12:56:28.957Z"
   },
   {
    "duration": 10,
    "start_time": "2022-09-22T12:56:28.973Z"
   },
   {
    "duration": 28,
    "start_time": "2022-09-22T12:56:28.985Z"
   },
   {
    "duration": 13,
    "start_time": "2022-09-22T12:56:29.014Z"
   },
   {
    "duration": 9,
    "start_time": "2022-09-22T12:56:29.028Z"
   },
   {
    "duration": 9,
    "start_time": "2022-09-22T12:56:29.038Z"
   },
   {
    "duration": 7,
    "start_time": "2022-09-22T12:56:29.048Z"
   },
   {
    "duration": 9,
    "start_time": "2022-09-22T12:56:29.057Z"
   },
   {
    "duration": 8,
    "start_time": "2022-09-22T12:56:29.068Z"
   },
   {
    "duration": 9,
    "start_time": "2022-09-22T12:56:29.077Z"
   },
   {
    "duration": 23,
    "start_time": "2022-09-22T12:56:29.088Z"
   },
   {
    "duration": 9,
    "start_time": "2022-09-22T12:56:29.113Z"
   },
   {
    "duration": 39,
    "start_time": "2022-09-22T12:56:29.124Z"
   },
   {
    "duration": 8,
    "start_time": "2022-09-22T12:56:29.165Z"
   },
   {
    "duration": 16,
    "start_time": "2022-09-22T12:56:29.174Z"
   },
   {
    "duration": 11,
    "start_time": "2022-09-22T12:56:29.209Z"
   },
   {
    "duration": 12,
    "start_time": "2022-09-22T12:56:29.222Z"
   },
   {
    "duration": 10,
    "start_time": "2022-09-22T12:58:37.974Z"
   },
   {
    "duration": 3,
    "start_time": "2022-09-22T12:58:47.962Z"
   },
   {
    "duration": 4,
    "start_time": "2022-09-22T12:58:53.527Z"
   },
   {
    "duration": 4,
    "start_time": "2022-09-22T12:58:54.762Z"
   },
   {
    "duration": 8,
    "start_time": "2022-09-22T12:59:08.681Z"
   },
   {
    "duration": 12,
    "start_time": "2022-09-22T12:59:23.266Z"
   },
   {
    "duration": 8,
    "start_time": "2022-09-22T12:59:29.768Z"
   },
   {
    "duration": 16,
    "start_time": "2022-09-22T12:59:34.632Z"
   },
   {
    "duration": 13,
    "start_time": "2022-09-22T12:59:43.612Z"
   },
   {
    "duration": 18,
    "start_time": "2022-09-22T12:59:45.108Z"
   },
   {
    "duration": 21,
    "start_time": "2022-09-22T13:00:44.610Z"
   },
   {
    "duration": 21,
    "start_time": "2022-09-22T13:00:57.466Z"
   },
   {
    "duration": 6,
    "start_time": "2022-09-22T13:01:19.272Z"
   },
   {
    "duration": 11,
    "start_time": "2022-09-22T13:01:20.616Z"
   },
   {
    "duration": 4,
    "start_time": "2022-09-22T13:02:10.515Z"
   },
   {
    "duration": 9,
    "start_time": "2022-09-22T13:02:20.917Z"
   },
   {
    "duration": 10,
    "start_time": "2022-09-22T13:02:48.917Z"
   },
   {
    "duration": 8,
    "start_time": "2022-09-22T13:02:55.258Z"
   },
   {
    "duration": 10,
    "start_time": "2022-09-22T13:02:59.516Z"
   },
   {
    "duration": 32,
    "start_time": "2022-09-22T13:03:01.167Z"
   },
   {
    "duration": 14,
    "start_time": "2022-09-22T13:07:02.862Z"
   },
   {
    "duration": 1546,
    "start_time": "2022-09-22T13:09:28.639Z"
   },
   {
    "duration": 3,
    "start_time": "2022-09-22T13:09:30.187Z"
   },
   {
    "duration": 212,
    "start_time": "2022-09-22T13:09:30.192Z"
   },
   {
    "duration": 15,
    "start_time": "2022-09-22T13:09:30.406Z"
   },
   {
    "duration": 26,
    "start_time": "2022-09-22T13:09:30.424Z"
   },
   {
    "duration": 26,
    "start_time": "2022-09-22T13:09:30.452Z"
   },
   {
    "duration": 35,
    "start_time": "2022-09-22T13:09:30.479Z"
   },
   {
    "duration": 217,
    "start_time": "2022-09-22T13:09:30.516Z"
   },
   {
    "duration": 133,
    "start_time": "2022-09-22T13:09:30.735Z"
   },
   {
    "duration": 5839,
    "start_time": "2022-09-22T13:09:30.870Z"
   },
   {
    "duration": 18,
    "start_time": "2022-09-22T13:09:36.711Z"
   },
   {
    "duration": 21,
    "start_time": "2022-09-22T13:09:36.730Z"
   },
   {
    "duration": 12,
    "start_time": "2022-09-22T13:09:36.752Z"
   },
   {
    "duration": 11,
    "start_time": "2022-09-22T13:09:36.767Z"
   },
   {
    "duration": 6,
    "start_time": "2022-09-22T13:09:36.779Z"
   },
   {
    "duration": 26,
    "start_time": "2022-09-22T13:09:36.786Z"
   },
   {
    "duration": 48,
    "start_time": "2022-09-22T13:09:36.813Z"
   },
   {
    "duration": 7,
    "start_time": "2022-09-22T13:09:36.863Z"
   },
   {
    "duration": 17,
    "start_time": "2022-09-22T13:09:36.872Z"
   },
   {
    "duration": 27,
    "start_time": "2022-09-22T13:09:36.891Z"
   },
   {
    "duration": 15,
    "start_time": "2022-09-22T13:09:36.920Z"
   },
   {
    "duration": 362,
    "start_time": "2022-09-22T13:09:36.937Z"
   },
   {
    "duration": 13,
    "start_time": "2022-09-22T13:09:37.301Z"
   },
   {
    "duration": 13,
    "start_time": "2022-09-22T13:09:37.316Z"
   },
   {
    "duration": 7,
    "start_time": "2022-09-22T13:09:37.331Z"
   },
   {
    "duration": 18,
    "start_time": "2022-09-22T13:09:37.340Z"
   },
   {
    "duration": 373,
    "start_time": "2022-09-22T13:09:37.360Z"
   },
   {
    "duration": 10,
    "start_time": "2022-09-22T13:09:37.735Z"
   },
   {
    "duration": 11,
    "start_time": "2022-09-22T13:09:37.747Z"
   },
   {
    "duration": 12,
    "start_time": "2022-09-22T13:09:37.759Z"
   },
   {
    "duration": 10,
    "start_time": "2022-09-22T13:09:37.773Z"
   },
   {
    "duration": 7,
    "start_time": "2022-09-22T13:09:37.809Z"
   },
   {
    "duration": 23,
    "start_time": "2022-09-22T13:09:37.818Z"
   },
   {
    "duration": 37,
    "start_time": "2022-09-22T13:09:37.842Z"
   },
   {
    "duration": 186,
    "start_time": "2022-09-22T13:09:37.880Z"
   },
   {
    "duration": 13,
    "start_time": "2022-09-22T13:09:38.068Z"
   },
   {
    "duration": 13,
    "start_time": "2022-09-22T13:09:38.083Z"
   },
   {
    "duration": 15,
    "start_time": "2022-09-22T13:09:38.098Z"
   },
   {
    "duration": 8,
    "start_time": "2022-09-22T13:09:38.115Z"
   },
   {
    "duration": 10,
    "start_time": "2022-09-22T13:09:38.124Z"
   },
   {
    "duration": 17,
    "start_time": "2022-09-22T13:09:38.140Z"
   },
   {
    "duration": 8,
    "start_time": "2022-09-22T13:09:38.159Z"
   },
   {
    "duration": 12,
    "start_time": "2022-09-22T13:09:38.169Z"
   },
   {
    "duration": 27,
    "start_time": "2022-09-22T13:09:38.182Z"
   },
   {
    "duration": 24,
    "start_time": "2022-09-22T13:09:38.211Z"
   },
   {
    "duration": 7,
    "start_time": "2022-09-22T13:09:38.237Z"
   },
   {
    "duration": 9,
    "start_time": "2022-09-22T13:09:38.245Z"
   },
   {
    "duration": 6,
    "start_time": "2022-09-22T13:09:38.256Z"
   },
   {
    "duration": 7,
    "start_time": "2022-09-22T13:09:38.264Z"
   },
   {
    "duration": 6,
    "start_time": "2022-09-22T13:09:38.273Z"
   },
   {
    "duration": 28,
    "start_time": "2022-09-22T13:09:38.281Z"
   },
   {
    "duration": 14,
    "start_time": "2022-09-22T13:09:38.311Z"
   },
   {
    "duration": 13,
    "start_time": "2022-09-22T13:09:38.327Z"
   },
   {
    "duration": 9,
    "start_time": "2022-09-22T13:09:38.341Z"
   },
   {
    "duration": 7,
    "start_time": "2022-09-22T13:09:38.351Z"
   },
   {
    "duration": 8,
    "start_time": "2022-09-22T13:09:38.359Z"
   },
   {
    "duration": 7,
    "start_time": "2022-09-22T13:09:38.368Z"
   },
   {
    "duration": 9,
    "start_time": "2022-09-22T13:09:38.377Z"
   },
   {
    "duration": 29,
    "start_time": "2022-09-22T13:09:38.387Z"
   },
   {
    "duration": 15,
    "start_time": "2022-09-22T13:09:38.418Z"
   },
   {
    "duration": 8,
    "start_time": "2022-09-22T13:09:38.434Z"
   },
   {
    "duration": 9,
    "start_time": "2022-09-22T13:09:38.444Z"
   },
   {
    "duration": 7,
    "start_time": "2022-09-22T13:09:38.455Z"
   },
   {
    "duration": 10,
    "start_time": "2022-09-22T13:09:38.464Z"
   },
   {
    "duration": 13,
    "start_time": "2022-09-22T13:09:38.475Z"
   },
   {
    "duration": 22,
    "start_time": "2022-09-22T13:09:38.490Z"
   },
   {
    "duration": 5,
    "start_time": "2022-09-22T13:09:38.515Z"
   },
   {
    "duration": 12,
    "start_time": "2022-09-22T13:09:38.521Z"
   },
   {
    "duration": 35,
    "start_time": "2022-09-22T13:09:38.535Z"
   },
   {
    "duration": 7,
    "start_time": "2022-09-22T13:09:38.572Z"
   },
   {
    "duration": 39,
    "start_time": "2022-09-22T13:09:38.580Z"
   },
   {
    "duration": 12,
    "start_time": "2022-09-22T13:09:38.622Z"
   },
   {
    "duration": 10,
    "start_time": "2022-09-22T13:09:38.636Z"
   },
   {
    "duration": 8,
    "start_time": "2022-09-22T13:09:38.648Z"
   },
   {
    "duration": 4,
    "start_time": "2022-09-22T13:09:38.658Z"
   },
   {
    "duration": 7,
    "start_time": "2022-09-22T13:09:38.664Z"
   },
   {
    "duration": 5,
    "start_time": "2022-09-22T13:09:38.673Z"
   },
   {
    "duration": 12,
    "start_time": "2022-09-22T13:09:38.709Z"
   },
   {
    "duration": 18,
    "start_time": "2022-09-22T13:09:38.723Z"
   },
   {
    "duration": 6,
    "start_time": "2022-09-22T13:09:38.742Z"
   },
   {
    "duration": 12,
    "start_time": "2022-09-22T13:09:38.749Z"
   },
   {
    "duration": 9,
    "start_time": "2022-09-22T13:09:38.762Z"
   },
   {
    "duration": 7,
    "start_time": "2022-09-22T13:09:38.772Z"
   },
   {
    "duration": 31,
    "start_time": "2022-09-22T13:09:38.781Z"
   },
   {
    "duration": 31,
    "start_time": "2022-09-22T13:09:38.814Z"
   },
   {
    "duration": 25,
    "start_time": "2022-09-22T13:09:38.847Z"
   },
   {
    "duration": 12,
    "start_time": "2022-09-22T13:09:38.873Z"
   },
   {
    "duration": 154,
    "start_time": "2022-09-22T13:09:38.887Z"
   },
   {
    "duration": 0,
    "start_time": "2022-09-22T13:09:39.042Z"
   },
   {
    "duration": 0,
    "start_time": "2022-09-22T13:09:39.043Z"
   },
   {
    "duration": 0,
    "start_time": "2022-09-22T13:09:39.044Z"
   },
   {
    "duration": 0,
    "start_time": "2022-09-22T13:09:39.045Z"
   },
   {
    "duration": 0,
    "start_time": "2022-09-22T13:09:39.046Z"
   },
   {
    "duration": 0,
    "start_time": "2022-09-22T13:09:39.046Z"
   },
   {
    "duration": 0,
    "start_time": "2022-09-22T13:09:39.047Z"
   },
   {
    "duration": 0,
    "start_time": "2022-09-22T13:09:39.048Z"
   },
   {
    "duration": 0,
    "start_time": "2022-09-22T13:09:39.049Z"
   },
   {
    "duration": 0,
    "start_time": "2022-09-22T13:09:39.051Z"
   },
   {
    "duration": 0,
    "start_time": "2022-09-22T13:09:39.052Z"
   },
   {
    "duration": 6,
    "start_time": "2022-09-22T13:10:13.110Z"
   },
   {
    "duration": 1895,
    "start_time": "2022-09-22T13:10:25.790Z"
   },
   {
    "duration": 2,
    "start_time": "2022-09-22T13:10:27.687Z"
   },
   {
    "duration": 191,
    "start_time": "2022-09-22T13:10:27.691Z"
   },
   {
    "duration": 12,
    "start_time": "2022-09-22T13:10:27.884Z"
   },
   {
    "duration": 11,
    "start_time": "2022-09-22T13:10:27.898Z"
   },
   {
    "duration": 22,
    "start_time": "2022-09-22T13:10:27.911Z"
   },
   {
    "duration": 20,
    "start_time": "2022-09-22T13:10:27.934Z"
   },
   {
    "duration": 213,
    "start_time": "2022-09-22T13:10:27.956Z"
   },
   {
    "duration": 125,
    "start_time": "2022-09-22T13:10:28.170Z"
   },
   {
    "duration": 5790,
    "start_time": "2022-09-22T13:10:28.297Z"
   },
   {
    "duration": 24,
    "start_time": "2022-09-22T13:10:34.089Z"
   },
   {
    "duration": 28,
    "start_time": "2022-09-22T13:10:34.116Z"
   },
   {
    "duration": 18,
    "start_time": "2022-09-22T13:10:34.146Z"
   },
   {
    "duration": 14,
    "start_time": "2022-09-22T13:10:34.168Z"
   },
   {
    "duration": 8,
    "start_time": "2022-09-22T13:10:34.184Z"
   },
   {
    "duration": 18,
    "start_time": "2022-09-22T13:10:34.193Z"
   },
   {
    "duration": 49,
    "start_time": "2022-09-22T13:10:34.213Z"
   },
   {
    "duration": 6,
    "start_time": "2022-09-22T13:10:34.263Z"
   },
   {
    "duration": 13,
    "start_time": "2022-09-22T13:10:34.270Z"
   },
   {
    "duration": 29,
    "start_time": "2022-09-22T13:10:34.285Z"
   },
   {
    "duration": 16,
    "start_time": "2022-09-22T13:10:34.316Z"
   },
   {
    "duration": 369,
    "start_time": "2022-09-22T13:10:34.334Z"
   },
   {
    "duration": 8,
    "start_time": "2022-09-22T13:10:34.708Z"
   },
   {
    "duration": 28,
    "start_time": "2022-09-22T13:10:34.717Z"
   },
   {
    "duration": 10,
    "start_time": "2022-09-22T13:10:34.747Z"
   },
   {
    "duration": 17,
    "start_time": "2022-09-22T13:10:34.759Z"
   },
   {
    "duration": 372,
    "start_time": "2022-09-22T13:10:34.778Z"
   },
   {
    "duration": 10,
    "start_time": "2022-09-22T13:10:35.152Z"
   },
   {
    "duration": 20,
    "start_time": "2022-09-22T13:10:35.163Z"
   },
   {
    "duration": 15,
    "start_time": "2022-09-22T13:10:35.184Z"
   },
   {
    "duration": 18,
    "start_time": "2022-09-22T13:10:35.200Z"
   },
   {
    "duration": 22,
    "start_time": "2022-09-22T13:10:35.220Z"
   },
   {
    "duration": 8,
    "start_time": "2022-09-22T13:10:35.243Z"
   },
   {
    "duration": 35,
    "start_time": "2022-09-22T13:10:35.252Z"
   },
   {
    "duration": 192,
    "start_time": "2022-09-22T13:10:35.289Z"
   },
   {
    "duration": 14,
    "start_time": "2022-09-22T13:10:35.482Z"
   },
   {
    "duration": 25,
    "start_time": "2022-09-22T13:10:35.498Z"
   },
   {
    "duration": 14,
    "start_time": "2022-09-22T13:10:35.524Z"
   },
   {
    "duration": 6,
    "start_time": "2022-09-22T13:10:35.539Z"
   },
   {
    "duration": 8,
    "start_time": "2022-09-22T13:10:35.546Z"
   },
   {
    "duration": 15,
    "start_time": "2022-09-22T13:10:35.559Z"
   },
   {
    "duration": 9,
    "start_time": "2022-09-22T13:10:35.576Z"
   },
   {
    "duration": 12,
    "start_time": "2022-09-22T13:10:35.609Z"
   },
   {
    "duration": 10,
    "start_time": "2022-09-22T13:10:35.623Z"
   },
   {
    "duration": 20,
    "start_time": "2022-09-22T13:10:35.635Z"
   },
   {
    "duration": 6,
    "start_time": "2022-09-22T13:10:35.657Z"
   },
   {
    "duration": 12,
    "start_time": "2022-09-22T13:10:35.664Z"
   },
   {
    "duration": 6,
    "start_time": "2022-09-22T13:10:35.678Z"
   },
   {
    "duration": 29,
    "start_time": "2022-09-22T13:10:35.686Z"
   },
   {
    "duration": 12,
    "start_time": "2022-09-22T13:10:35.716Z"
   },
   {
    "duration": 10,
    "start_time": "2022-09-22T13:10:35.729Z"
   },
   {
    "duration": 8,
    "start_time": "2022-09-22T13:10:35.741Z"
   },
   {
    "duration": 8,
    "start_time": "2022-09-22T13:10:35.751Z"
   },
   {
    "duration": 5,
    "start_time": "2022-09-22T13:10:35.760Z"
   },
   {
    "duration": 8,
    "start_time": "2022-09-22T13:10:35.766Z"
   },
   {
    "duration": 8,
    "start_time": "2022-09-22T13:10:35.775Z"
   },
   {
    "duration": 24,
    "start_time": "2022-09-22T13:10:35.785Z"
   },
   {
    "duration": 10,
    "start_time": "2022-09-22T13:10:35.810Z"
   },
   {
    "duration": 19,
    "start_time": "2022-09-22T13:10:35.822Z"
   },
   {
    "duration": 12,
    "start_time": "2022-09-22T13:10:35.842Z"
   },
   {
    "duration": 8,
    "start_time": "2022-09-22T13:10:35.855Z"
   },
   {
    "duration": 11,
    "start_time": "2022-09-22T13:10:35.865Z"
   },
   {
    "duration": 9,
    "start_time": "2022-09-22T13:10:35.878Z"
   },
   {
    "duration": 7,
    "start_time": "2022-09-22T13:10:35.889Z"
   },
   {
    "duration": 17,
    "start_time": "2022-09-22T13:10:35.898Z"
   },
   {
    "duration": 23,
    "start_time": "2022-09-22T13:10:35.916Z"
   },
   {
    "duration": 15,
    "start_time": "2022-09-22T13:10:35.940Z"
   },
   {
    "duration": 11,
    "start_time": "2022-09-22T13:10:35.956Z"
   },
   {
    "duration": 44,
    "start_time": "2022-09-22T13:10:35.969Z"
   },
   {
    "duration": 9,
    "start_time": "2022-09-22T13:10:36.014Z"
   },
   {
    "duration": 23,
    "start_time": "2022-09-22T13:10:36.025Z"
   },
   {
    "duration": 12,
    "start_time": "2022-09-22T13:10:36.050Z"
   },
   {
    "duration": 10,
    "start_time": "2022-09-22T13:10:36.064Z"
   },
   {
    "duration": 10,
    "start_time": "2022-09-22T13:10:36.076Z"
   },
   {
    "duration": 23,
    "start_time": "2022-09-22T13:10:36.087Z"
   },
   {
    "duration": 4,
    "start_time": "2022-09-22T13:10:36.111Z"
   },
   {
    "duration": 13,
    "start_time": "2022-09-22T13:10:36.117Z"
   },
   {
    "duration": 17,
    "start_time": "2022-09-22T13:10:36.132Z"
   },
   {
    "duration": 12,
    "start_time": "2022-09-22T13:10:36.151Z"
   },
   {
    "duration": 6,
    "start_time": "2022-09-22T13:10:36.164Z"
   },
   {
    "duration": 13,
    "start_time": "2022-09-22T13:10:36.172Z"
   },
   {
    "duration": 30,
    "start_time": "2022-09-22T13:10:36.186Z"
   },
   {
    "duration": 8,
    "start_time": "2022-09-22T13:10:36.217Z"
   },
   {
    "duration": 13,
    "start_time": "2022-09-22T13:10:36.227Z"
   },
   {
    "duration": 9,
    "start_time": "2022-09-22T13:10:36.242Z"
   },
   {
    "duration": 20,
    "start_time": "2022-09-22T13:10:36.252Z"
   },
   {
    "duration": 12,
    "start_time": "2022-09-22T13:10:36.308Z"
   },
   {
    "duration": 6,
    "start_time": "2022-09-22T13:10:36.323Z"
   },
   {
    "duration": 21,
    "start_time": "2022-09-22T13:10:36.331Z"
   },
   {
    "duration": 3,
    "start_time": "2022-09-22T13:10:36.353Z"
   },
   {
    "duration": 5,
    "start_time": "2022-09-22T13:10:36.358Z"
   },
   {
    "duration": 19,
    "start_time": "2022-09-22T13:10:36.365Z"
   },
   {
    "duration": 3,
    "start_time": "2022-09-22T13:10:36.409Z"
   },
   {
    "duration": 8,
    "start_time": "2022-09-22T13:10:36.413Z"
   },
   {
    "duration": 14843,
    "start_time": "2022-09-22T13:10:36.422Z"
   },
   {
    "duration": 0,
    "start_time": "2022-09-22T13:10:51.267Z"
   },
   {
    "duration": 0,
    "start_time": "2022-09-22T13:10:51.268Z"
   },
   {
    "duration": 0,
    "start_time": "2022-09-22T13:10:51.269Z"
   },
   {
    "duration": 0,
    "start_time": "2022-09-22T13:10:51.271Z"
   },
   {
    "duration": 9,
    "start_time": "2022-09-22T13:12:53.223Z"
   },
   {
    "duration": 6,
    "start_time": "2022-09-22T13:13:43.440Z"
   },
   {
    "duration": 7,
    "start_time": "2022-09-22T13:14:22.286Z"
   },
   {
    "duration": 6,
    "start_time": "2022-09-22T13:14:58.635Z"
   },
   {
    "duration": 8,
    "start_time": "2022-09-22T13:15:05.631Z"
   },
   {
    "duration": 9,
    "start_time": "2022-09-22T13:16:12.268Z"
   },
   {
    "duration": 9,
    "start_time": "2022-09-22T13:16:14.294Z"
   },
   {
    "duration": 10,
    "start_time": "2022-09-22T13:16:18.432Z"
   },
   {
    "duration": 8,
    "start_time": "2022-09-22T13:16:19.670Z"
   },
   {
    "duration": 7,
    "start_time": "2022-09-22T13:16:27.990Z"
   },
   {
    "duration": 7,
    "start_time": "2022-09-22T13:16:40.968Z"
   },
   {
    "duration": 8,
    "start_time": "2022-09-22T13:16:48.767Z"
   },
   {
    "duration": 42,
    "start_time": "2022-09-22T13:16:50.937Z"
   },
   {
    "duration": 4,
    "start_time": "2022-09-22T13:17:15.053Z"
   },
   {
    "duration": 4,
    "start_time": "2022-09-22T13:17:15.887Z"
   },
   {
    "duration": 8,
    "start_time": "2022-09-22T13:17:18.890Z"
   },
   {
    "duration": 8,
    "start_time": "2022-09-22T13:17:20.427Z"
   },
   {
    "duration": 8,
    "start_time": "2022-09-22T13:17:23.669Z"
   },
   {
    "duration": 1586,
    "start_time": "2022-09-22T13:17:37.532Z"
   },
   {
    "duration": 3,
    "start_time": "2022-09-22T13:17:39.121Z"
   },
   {
    "duration": 192,
    "start_time": "2022-09-22T13:17:42.870Z"
   },
   {
    "duration": 22,
    "start_time": "2022-09-22T13:17:55.615Z"
   },
   {
    "duration": 12,
    "start_time": "2022-09-22T13:17:55.639Z"
   },
   {
    "duration": 12,
    "start_time": "2022-09-22T13:17:55.652Z"
   },
   {
    "duration": 8,
    "start_time": "2022-09-22T13:17:55.666Z"
   },
   {
    "duration": 9,
    "start_time": "2022-09-22T13:17:55.676Z"
   },
   {
    "duration": 28,
    "start_time": "2022-09-22T13:17:55.686Z"
   },
   {
    "duration": 14,
    "start_time": "2022-09-22T13:17:55.716Z"
   },
   {
    "duration": 15,
    "start_time": "2022-09-22T13:17:55.732Z"
   },
   {
    "duration": 9,
    "start_time": "2022-09-22T13:17:55.748Z"
   },
   {
    "duration": 18,
    "start_time": "2022-09-22T13:17:55.758Z"
   },
   {
    "duration": 33,
    "start_time": "2022-09-22T13:17:55.778Z"
   },
   {
    "duration": 16,
    "start_time": "2022-09-22T13:17:55.813Z"
   },
   {
    "duration": 8,
    "start_time": "2022-09-22T13:17:55.831Z"
   },
   {
    "duration": 10,
    "start_time": "2022-09-22T13:17:55.841Z"
   },
   {
    "duration": 11,
    "start_time": "2022-09-22T13:17:55.853Z"
   },
   {
    "duration": 7,
    "start_time": "2022-09-22T13:17:55.865Z"
   },
   {
    "duration": 11,
    "start_time": "2022-09-22T13:17:55.873Z"
   },
   {
    "duration": 8,
    "start_time": "2022-09-22T13:17:55.909Z"
   },
   {
    "duration": 18,
    "start_time": "2022-09-22T13:17:55.918Z"
   },
   {
    "duration": 6,
    "start_time": "2022-09-22T13:17:55.938Z"
   },
   {
    "duration": 6,
    "start_time": "2022-09-22T13:17:55.945Z"
   },
   {
    "duration": 8,
    "start_time": "2022-09-22T13:17:55.953Z"
   },
   {
    "duration": 7,
    "start_time": "2022-09-22T13:17:55.963Z"
   },
   {
    "duration": 38,
    "start_time": "2022-09-22T13:17:55.972Z"
   },
   {
    "duration": 9,
    "start_time": "2022-09-22T13:17:56.012Z"
   },
   {
    "duration": 24,
    "start_time": "2022-09-22T13:17:56.023Z"
   },
   {
    "duration": 8,
    "start_time": "2022-09-22T13:17:56.048Z"
   },
   {
    "duration": 11,
    "start_time": "2022-09-22T13:17:56.057Z"
   },
   {
    "duration": 11,
    "start_time": "2022-09-22T13:17:56.069Z"
   },
   {
    "duration": 6,
    "start_time": "2022-09-22T13:17:56.081Z"
   },
   {
    "duration": 24,
    "start_time": "2022-09-22T13:17:56.088Z"
   },
   {
    "duration": 20,
    "start_time": "2022-09-22T13:17:56.113Z"
   },
   {
    "duration": 6,
    "start_time": "2022-09-22T13:17:56.136Z"
   },
   {
    "duration": 10,
    "start_time": "2022-09-22T13:17:56.144Z"
   },
   {
    "duration": 38,
    "start_time": "2022-09-22T13:17:56.155Z"
   },
   {
    "duration": 21,
    "start_time": "2022-09-22T13:17:56.195Z"
   },
   {
    "duration": 22,
    "start_time": "2022-09-22T13:17:56.218Z"
   },
   {
    "duration": 12,
    "start_time": "2022-09-22T13:17:56.241Z"
   },
   {
    "duration": 15,
    "start_time": "2022-09-22T13:17:56.255Z"
   },
   {
    "duration": 9,
    "start_time": "2022-09-22T13:17:56.272Z"
   },
   {
    "duration": 4,
    "start_time": "2022-09-22T13:17:56.309Z"
   },
   {
    "duration": 15,
    "start_time": "2022-09-22T13:17:56.314Z"
   },
   {
    "duration": 9,
    "start_time": "2022-09-22T13:17:56.331Z"
   },
   {
    "duration": 19,
    "start_time": "2022-09-22T13:17:56.341Z"
   },
   {
    "duration": 18,
    "start_time": "2022-09-22T13:17:56.361Z"
   },
   {
    "duration": 6,
    "start_time": "2022-09-22T13:17:56.381Z"
   },
   {
    "duration": 30,
    "start_time": "2022-09-22T13:17:56.388Z"
   },
   {
    "duration": 24,
    "start_time": "2022-09-22T13:17:56.420Z"
   },
   {
    "duration": 8,
    "start_time": "2022-09-22T13:17:56.446Z"
   },
   {
    "duration": 8,
    "start_time": "2022-09-22T13:17:56.456Z"
   },
   {
    "duration": 7,
    "start_time": "2022-09-22T13:17:56.467Z"
   },
   {
    "duration": 38,
    "start_time": "2022-09-22T13:17:56.476Z"
   },
   {
    "duration": 12,
    "start_time": "2022-09-22T13:17:56.516Z"
   },
   {
    "duration": 9,
    "start_time": "2022-09-22T13:17:56.529Z"
   },
   {
    "duration": 5,
    "start_time": "2022-09-22T13:17:56.539Z"
   },
   {
    "duration": 18,
    "start_time": "2022-09-22T13:17:56.545Z"
   },
   {
    "duration": 8,
    "start_time": "2022-09-22T13:17:56.565Z"
   },
   {
    "duration": 41,
    "start_time": "2022-09-22T13:17:56.574Z"
   },
   {
    "duration": 27,
    "start_time": "2022-09-22T13:17:56.617Z"
   },
   {
    "duration": 2,
    "start_time": "2022-09-22T13:17:56.646Z"
   },
   {
    "duration": 8,
    "start_time": "2022-09-22T13:17:56.650Z"
   },
   {
    "duration": 51202,
    "start_time": "2022-09-22T13:17:56.660Z"
   },
   {
    "duration": 3,
    "start_time": "2022-09-22T13:18:47.864Z"
   },
   {
    "duration": 6,
    "start_time": "2022-09-22T13:18:47.869Z"
   },
   {
    "duration": 2079402,
    "start_time": "2022-09-22T13:18:47.876Z"
   },
   {
    "duration": 0,
    "start_time": "2022-09-22T13:53:27.280Z"
   },
   {
    "duration": 0,
    "start_time": "2022-09-22T13:53:27.281Z"
   },
   {
    "duration": 0,
    "start_time": "2022-09-22T13:53:27.281Z"
   },
   {
    "duration": 0,
    "start_time": "2022-09-22T13:53:27.282Z"
   },
   {
    "duration": 0,
    "start_time": "2022-09-22T13:53:27.283Z"
   },
   {
    "duration": 0,
    "start_time": "2022-09-22T13:53:27.284Z"
   },
   {
    "duration": 0,
    "start_time": "2022-09-22T13:53:27.285Z"
   },
   {
    "duration": 4,
    "start_time": "2022-09-22T13:53:51.250Z"
   },
   {
    "duration": 637098,
    "start_time": "2022-09-22T13:53:52.543Z"
   },
   {
    "duration": 0,
    "start_time": "2022-09-22T14:04:29.643Z"
   },
   {
    "duration": 0,
    "start_time": "2022-09-22T14:04:29.644Z"
   },
   {
    "duration": 0,
    "start_time": "2022-09-22T14:04:29.644Z"
   },
   {
    "duration": 0,
    "start_time": "2022-09-22T14:04:29.645Z"
   },
   {
    "duration": 0,
    "start_time": "2022-09-22T14:04:29.646Z"
   },
   {
    "duration": 3,
    "start_time": "2022-09-22T14:04:59.148Z"
   },
   {
    "duration": 83698,
    "start_time": "2022-09-22T14:05:00.328Z"
   },
   {
    "duration": 0,
    "start_time": "2022-09-22T14:06:24.029Z"
   },
   {
    "duration": 4,
    "start_time": "2022-09-22T14:06:30.732Z"
   },
   {
    "duration": 2570,
    "start_time": "2022-09-22T14:06:31.899Z"
   },
   {
    "duration": 26,
    "start_time": "2022-09-22T14:06:34.471Z"
   },
   {
    "duration": 4,
    "start_time": "2022-09-22T14:06:36.494Z"
   },
   {
    "duration": 1560,
    "start_time": "2022-09-22T14:07:17.460Z"
   },
   {
    "duration": 13,
    "start_time": "2022-09-22T14:07:19.023Z"
   },
   {
    "duration": 193,
    "start_time": "2022-09-22T14:07:19.038Z"
   },
   {
    "duration": 14,
    "start_time": "2022-09-22T14:07:19.232Z"
   },
   {
    "duration": 11,
    "start_time": "2022-09-22T14:07:19.248Z"
   },
   {
    "duration": 12,
    "start_time": "2022-09-22T14:07:19.261Z"
   },
   {
    "duration": 19,
    "start_time": "2022-09-22T14:07:19.275Z"
   },
   {
    "duration": 236,
    "start_time": "2022-09-22T14:07:19.296Z"
   },
   {
    "duration": 136,
    "start_time": "2022-09-22T14:07:19.534Z"
   },
   {
    "duration": 4871,
    "start_time": "2022-09-22T14:07:19.672Z"
   },
   {
    "duration": 13,
    "start_time": "2022-09-22T14:07:24.544Z"
   },
   {
    "duration": 18,
    "start_time": "2022-09-22T14:07:24.559Z"
   },
   {
    "duration": 22,
    "start_time": "2022-09-22T14:07:24.579Z"
   },
   {
    "duration": 13,
    "start_time": "2022-09-22T14:07:24.606Z"
   },
   {
    "duration": 26,
    "start_time": "2022-09-22T14:07:24.621Z"
   },
   {
    "duration": 9,
    "start_time": "2022-09-22T14:07:24.649Z"
   },
   {
    "duration": 46,
    "start_time": "2022-09-22T14:07:24.660Z"
   },
   {
    "duration": 7,
    "start_time": "2022-09-22T14:07:24.710Z"
   },
   {
    "duration": 25,
    "start_time": "2022-09-22T14:07:24.718Z"
   },
   {
    "duration": 9,
    "start_time": "2022-09-22T14:07:24.745Z"
   },
   {
    "duration": 16,
    "start_time": "2022-09-22T14:07:24.756Z"
   },
   {
    "duration": 381,
    "start_time": "2022-09-22T14:07:24.773Z"
   },
   {
    "duration": 7,
    "start_time": "2022-09-22T14:07:25.156Z"
   },
   {
    "duration": 17,
    "start_time": "2022-09-22T14:07:25.165Z"
   },
   {
    "duration": 7,
    "start_time": "2022-09-22T14:07:25.183Z"
   },
   {
    "duration": 30,
    "start_time": "2022-09-22T14:07:25.191Z"
   },
   {
    "duration": 368,
    "start_time": "2022-09-22T14:07:25.224Z"
   },
   {
    "duration": 17,
    "start_time": "2022-09-22T14:07:25.594Z"
   },
   {
    "duration": 17,
    "start_time": "2022-09-22T14:07:25.613Z"
   },
   {
    "duration": 17,
    "start_time": "2022-09-22T14:07:25.632Z"
   },
   {
    "duration": 14,
    "start_time": "2022-09-22T14:07:25.650Z"
   },
   {
    "duration": 10,
    "start_time": "2022-09-22T14:07:25.666Z"
   },
   {
    "duration": 12,
    "start_time": "2022-09-22T14:07:25.678Z"
   },
   {
    "duration": 56,
    "start_time": "2022-09-22T14:07:25.691Z"
   },
   {
    "duration": 194,
    "start_time": "2022-09-22T14:07:25.749Z"
   },
   {
    "duration": 14,
    "start_time": "2022-09-22T14:07:25.945Z"
   },
   {
    "duration": 11,
    "start_time": "2022-09-22T14:07:25.960Z"
   },
   {
    "duration": 9,
    "start_time": "2022-09-22T14:07:25.973Z"
   },
   {
    "duration": 26,
    "start_time": "2022-09-22T14:07:25.983Z"
   },
   {
    "duration": 7,
    "start_time": "2022-09-22T14:07:26.011Z"
   },
   {
    "duration": 21,
    "start_time": "2022-09-22T14:07:26.026Z"
   },
   {
    "duration": 9,
    "start_time": "2022-09-22T14:07:26.049Z"
   },
   {
    "duration": 11,
    "start_time": "2022-09-22T14:07:26.060Z"
   },
   {
    "duration": 16,
    "start_time": "2022-09-22T14:07:26.073Z"
   },
   {
    "duration": 34,
    "start_time": "2022-09-22T14:07:26.091Z"
   },
   {
    "duration": 8,
    "start_time": "2022-09-22T14:07:26.127Z"
   },
   {
    "duration": 12,
    "start_time": "2022-09-22T14:07:26.136Z"
   },
   {
    "duration": 6,
    "start_time": "2022-09-22T14:07:26.150Z"
   },
   {
    "duration": 10,
    "start_time": "2022-09-22T14:07:26.158Z"
   },
   {
    "duration": 10,
    "start_time": "2022-09-22T14:07:26.170Z"
   },
   {
    "duration": 30,
    "start_time": "2022-09-22T14:07:26.182Z"
   },
   {
    "duration": 16,
    "start_time": "2022-09-22T14:07:26.215Z"
   },
   {
    "duration": 12,
    "start_time": "2022-09-22T14:07:26.233Z"
   },
   {
    "duration": 8,
    "start_time": "2022-09-22T14:07:26.247Z"
   },
   {
    "duration": 6,
    "start_time": "2022-09-22T14:07:26.257Z"
   },
   {
    "duration": 6,
    "start_time": "2022-09-22T14:07:26.264Z"
   },
   {
    "duration": 12,
    "start_time": "2022-09-22T14:07:26.271Z"
   },
   {
    "duration": 32,
    "start_time": "2022-09-22T14:07:26.285Z"
   },
   {
    "duration": 10,
    "start_time": "2022-09-22T14:07:26.319Z"
   },
   {
    "duration": 14,
    "start_time": "2022-09-22T14:07:26.331Z"
   },
   {
    "duration": 20,
    "start_time": "2022-09-22T14:07:26.347Z"
   },
   {
    "duration": 10,
    "start_time": "2022-09-22T14:07:26.368Z"
   },
   {
    "duration": 9,
    "start_time": "2022-09-22T14:07:26.380Z"
   },
   {
    "duration": 24,
    "start_time": "2022-09-22T14:07:26.390Z"
   },
   {
    "duration": 14,
    "start_time": "2022-09-22T14:07:26.415Z"
   },
   {
    "duration": 15,
    "start_time": "2022-09-22T14:07:26.430Z"
   },
   {
    "duration": 8,
    "start_time": "2022-09-22T14:07:26.447Z"
   },
   {
    "duration": 11,
    "start_time": "2022-09-22T14:07:26.456Z"
   },
   {
    "duration": 9,
    "start_time": "2022-09-22T14:07:26.469Z"
   },
   {
    "duration": 56,
    "start_time": "2022-09-22T14:07:26.479Z"
   },
   {
    "duration": 8,
    "start_time": "2022-09-22T14:07:26.537Z"
   },
   {
    "duration": 11,
    "start_time": "2022-09-22T14:07:26.546Z"
   },
   {
    "duration": 11,
    "start_time": "2022-09-22T14:07:26.558Z"
   },
   {
    "duration": 10,
    "start_time": "2022-09-22T14:07:26.571Z"
   },
   {
    "duration": 37,
    "start_time": "2022-09-22T14:07:26.583Z"
   },
   {
    "duration": 21,
    "start_time": "2022-09-22T14:07:26.621Z"
   },
   {
    "duration": 7,
    "start_time": "2022-09-22T14:07:26.643Z"
   },
   {
    "duration": 6,
    "start_time": "2022-09-22T14:07:26.651Z"
   },
   {
    "duration": 19,
    "start_time": "2022-09-22T14:07:26.658Z"
   },
   {
    "duration": 12,
    "start_time": "2022-09-22T14:07:26.679Z"
   },
   {
    "duration": 16,
    "start_time": "2022-09-22T14:07:26.693Z"
   },
   {
    "duration": 12,
    "start_time": "2022-09-22T14:07:26.710Z"
   },
   {
    "duration": 24,
    "start_time": "2022-09-22T14:07:26.724Z"
   },
   {
    "duration": 10,
    "start_time": "2022-09-22T14:07:26.749Z"
   },
   {
    "duration": 10,
    "start_time": "2022-09-22T14:07:26.760Z"
   },
   {
    "duration": 9,
    "start_time": "2022-09-22T14:07:26.771Z"
   },
   {
    "duration": 35,
    "start_time": "2022-09-22T14:07:26.782Z"
   },
   {
    "duration": 16,
    "start_time": "2022-09-22T14:07:26.825Z"
   },
   {
    "duration": 6,
    "start_time": "2022-09-22T14:07:26.842Z"
   },
   {
    "duration": 61,
    "start_time": "2022-09-22T14:07:26.850Z"
   },
   {
    "duration": 24,
    "start_time": "2022-09-22T14:07:26.912Z"
   },
   {
    "duration": 12,
    "start_time": "2022-09-22T14:07:26.937Z"
   },
   {
    "duration": 34,
    "start_time": "2022-09-22T14:07:26.950Z"
   },
   {
    "duration": 7,
    "start_time": "2022-09-22T14:07:26.985Z"
   },
   {
    "duration": 11,
    "start_time": "2022-09-22T14:07:26.994Z"
   },
   {
    "duration": 6638,
    "start_time": "2022-09-22T14:07:27.006Z"
   },
   {
    "duration": 0,
    "start_time": "2022-09-22T14:07:33.646Z"
   },
   {
    "duration": 0,
    "start_time": "2022-09-22T14:07:33.647Z"
   },
   {
    "duration": 0,
    "start_time": "2022-09-22T14:07:33.648Z"
   },
   {
    "duration": 0,
    "start_time": "2022-09-22T14:07:33.649Z"
   },
   {
    "duration": 0,
    "start_time": "2022-09-22T14:07:33.649Z"
   },
   {
    "duration": 0,
    "start_time": "2022-09-22T14:07:33.650Z"
   },
   {
    "duration": 0,
    "start_time": "2022-09-22T14:07:33.651Z"
   },
   {
    "duration": 0,
    "start_time": "2022-09-22T14:07:33.652Z"
   },
   {
    "duration": 0,
    "start_time": "2022-09-22T14:07:33.653Z"
   },
   {
    "duration": 0,
    "start_time": "2022-09-22T14:07:33.654Z"
   },
   {
    "duration": 2029,
    "start_time": "2022-09-22T14:09:05.043Z"
   },
   {
    "duration": 3,
    "start_time": "2022-09-22T14:09:07.073Z"
   },
   {
    "duration": 209,
    "start_time": "2022-09-22T14:09:07.077Z"
   },
   {
    "duration": 12,
    "start_time": "2022-09-22T14:09:07.288Z"
   },
   {
    "duration": 34,
    "start_time": "2022-09-22T14:09:07.303Z"
   },
   {
    "duration": 29,
    "start_time": "2022-09-22T14:09:07.338Z"
   },
   {
    "duration": 54,
    "start_time": "2022-09-22T14:09:07.368Z"
   },
   {
    "duration": 230,
    "start_time": "2022-09-22T14:09:07.423Z"
   },
   {
    "duration": 139,
    "start_time": "2022-09-22T14:09:07.654Z"
   },
   {
    "duration": 5978,
    "start_time": "2022-09-22T14:09:07.794Z"
   },
   {
    "duration": 19,
    "start_time": "2022-09-22T14:09:13.774Z"
   },
   {
    "duration": 27,
    "start_time": "2022-09-22T14:09:13.795Z"
   },
   {
    "duration": 26,
    "start_time": "2022-09-22T14:09:13.824Z"
   },
   {
    "duration": 29,
    "start_time": "2022-09-22T14:09:13.856Z"
   },
   {
    "duration": 8,
    "start_time": "2022-09-22T14:09:13.887Z"
   },
   {
    "duration": 16,
    "start_time": "2022-09-22T14:09:13.897Z"
   },
   {
    "duration": 81,
    "start_time": "2022-09-22T14:09:13.919Z"
   },
   {
    "duration": 7,
    "start_time": "2022-09-22T14:09:14.002Z"
   },
   {
    "duration": 16,
    "start_time": "2022-09-22T14:09:14.010Z"
   },
   {
    "duration": 13,
    "start_time": "2022-09-22T14:09:14.028Z"
   },
   {
    "duration": 13,
    "start_time": "2022-09-22T14:09:14.043Z"
   },
   {
    "duration": 446,
    "start_time": "2022-09-22T14:09:14.058Z"
   },
   {
    "duration": 15,
    "start_time": "2022-09-22T14:09:14.510Z"
   },
   {
    "duration": 25,
    "start_time": "2022-09-22T14:09:14.528Z"
   },
   {
    "duration": 7,
    "start_time": "2022-09-22T14:09:14.555Z"
   },
   {
    "duration": 15,
    "start_time": "2022-09-22T14:09:14.564Z"
   },
   {
    "duration": 407,
    "start_time": "2022-09-22T14:09:14.581Z"
   },
   {
    "duration": 11,
    "start_time": "2022-09-22T14:09:14.990Z"
   },
   {
    "duration": 40,
    "start_time": "2022-09-22T14:09:15.009Z"
   },
   {
    "duration": 21,
    "start_time": "2022-09-22T14:09:15.051Z"
   },
   {
    "duration": 12,
    "start_time": "2022-09-22T14:09:15.074Z"
   },
   {
    "duration": 11,
    "start_time": "2022-09-22T14:09:15.088Z"
   },
   {
    "duration": 22,
    "start_time": "2022-09-22T14:09:15.101Z"
   },
   {
    "duration": 36,
    "start_time": "2022-09-22T14:09:15.126Z"
   },
   {
    "duration": 187,
    "start_time": "2022-09-22T14:09:15.164Z"
   },
   {
    "duration": 15,
    "start_time": "2022-09-22T14:09:15.353Z"
   },
   {
    "duration": 12,
    "start_time": "2022-09-22T14:09:15.370Z"
   },
   {
    "duration": 9,
    "start_time": "2022-09-22T14:09:15.383Z"
   },
   {
    "duration": 30,
    "start_time": "2022-09-22T14:09:15.410Z"
   },
   {
    "duration": 12,
    "start_time": "2022-09-22T14:09:15.442Z"
   },
   {
    "duration": 16,
    "start_time": "2022-09-22T14:09:15.462Z"
   },
   {
    "duration": 9,
    "start_time": "2022-09-22T14:09:15.479Z"
   },
   {
    "duration": 19,
    "start_time": "2022-09-22T14:09:15.490Z"
   },
   {
    "duration": 30,
    "start_time": "2022-09-22T14:09:15.512Z"
   },
   {
    "duration": 19,
    "start_time": "2022-09-22T14:09:15.544Z"
   },
   {
    "duration": 8,
    "start_time": "2022-09-22T14:09:15.564Z"
   },
   {
    "duration": 11,
    "start_time": "2022-09-22T14:09:15.573Z"
   },
   {
    "duration": 6,
    "start_time": "2022-09-22T14:09:15.586Z"
   },
   {
    "duration": 7,
    "start_time": "2022-09-22T14:09:15.594Z"
   },
   {
    "duration": 19,
    "start_time": "2022-09-22T14:09:15.602Z"
   },
   {
    "duration": 11,
    "start_time": "2022-09-22T14:09:15.623Z"
   },
   {
    "duration": 20,
    "start_time": "2022-09-22T14:09:15.635Z"
   },
   {
    "duration": 10,
    "start_time": "2022-09-22T14:09:15.656Z"
   },
   {
    "duration": 7,
    "start_time": "2022-09-22T14:09:15.668Z"
   },
   {
    "duration": 12,
    "start_time": "2022-09-22T14:09:15.676Z"
   },
   {
    "duration": 5,
    "start_time": "2022-09-22T14:09:15.689Z"
   },
   {
    "duration": 20,
    "start_time": "2022-09-22T14:09:15.696Z"
   },
   {
    "duration": 23,
    "start_time": "2022-09-22T14:09:15.717Z"
   },
   {
    "duration": 14,
    "start_time": "2022-09-22T14:09:15.742Z"
   },
   {
    "duration": 11,
    "start_time": "2022-09-22T14:09:15.757Z"
   },
   {
    "duration": 11,
    "start_time": "2022-09-22T14:09:15.770Z"
   },
   {
    "duration": 27,
    "start_time": "2022-09-22T14:09:15.783Z"
   },
   {
    "duration": 16,
    "start_time": "2022-09-22T14:09:15.812Z"
   },
   {
    "duration": 12,
    "start_time": "2022-09-22T14:09:15.830Z"
   },
   {
    "duration": 8,
    "start_time": "2022-09-22T14:09:15.844Z"
   },
   {
    "duration": 9,
    "start_time": "2022-09-22T14:09:15.853Z"
   },
   {
    "duration": 9,
    "start_time": "2022-09-22T14:09:15.864Z"
   },
   {
    "duration": 7,
    "start_time": "2022-09-22T14:09:15.875Z"
   },
   {
    "duration": 33,
    "start_time": "2022-09-22T14:09:15.884Z"
   },
   {
    "duration": 43,
    "start_time": "2022-09-22T14:09:15.919Z"
   },
   {
    "duration": 8,
    "start_time": "2022-09-22T14:09:15.964Z"
   },
   {
    "duration": 13,
    "start_time": "2022-09-22T14:09:15.973Z"
   },
   {
    "duration": 27,
    "start_time": "2022-09-22T14:09:15.988Z"
   },
   {
    "duration": 14,
    "start_time": "2022-09-22T14:09:16.017Z"
   },
   {
    "duration": 19,
    "start_time": "2022-09-22T14:09:16.033Z"
   },
   {
    "duration": 10,
    "start_time": "2022-09-22T14:09:16.054Z"
   },
   {
    "duration": 11,
    "start_time": "2022-09-22T14:09:16.066Z"
   },
   {
    "duration": 9,
    "start_time": "2022-09-22T14:09:16.078Z"
   },
   {
    "duration": 28,
    "start_time": "2022-09-22T14:09:16.088Z"
   },
   {
    "duration": 26,
    "start_time": "2022-09-22T14:09:16.118Z"
   },
   {
    "duration": 6,
    "start_time": "2022-09-22T14:09:16.146Z"
   },
   {
    "duration": 15,
    "start_time": "2022-09-22T14:09:16.154Z"
   },
   {
    "duration": 8,
    "start_time": "2022-09-22T14:09:16.171Z"
   },
   {
    "duration": 34,
    "start_time": "2022-09-22T14:09:16.181Z"
   },
   {
    "duration": 22,
    "start_time": "2022-09-22T14:09:16.217Z"
   },
   {
    "duration": 14,
    "start_time": "2022-09-22T14:09:16.241Z"
   },
   {
    "duration": 28,
    "start_time": "2022-09-22T14:09:16.257Z"
   },
   {
    "duration": 14,
    "start_time": "2022-09-22T14:09:16.286Z"
   },
   {
    "duration": 26,
    "start_time": "2022-09-22T14:09:16.301Z"
   },
   {
    "duration": 26,
    "start_time": "2022-09-22T14:09:16.329Z"
   },
   {
    "duration": 9,
    "start_time": "2022-09-22T14:09:16.357Z"
   },
   {
    "duration": 8,
    "start_time": "2022-09-22T14:09:16.368Z"
   },
   {
    "duration": 24,
    "start_time": "2022-09-22T14:09:16.378Z"
   },
   {
    "duration": 6,
    "start_time": "2022-09-22T14:09:16.403Z"
   },
   {
    "duration": 15,
    "start_time": "2022-09-22T14:09:16.411Z"
   },
   {
    "duration": 51144,
    "start_time": "2022-09-22T14:09:16.428Z"
   },
   {
    "duration": 3,
    "start_time": "2022-09-22T14:10:07.574Z"
   },
   {
    "duration": 7,
    "start_time": "2022-09-22T14:10:07.579Z"
   },
   {
    "duration": 376226,
    "start_time": "2022-09-22T14:10:07.587Z"
   },
   {
    "duration": 5,
    "start_time": "2022-09-22T14:16:23.815Z"
   },
   {
    "duration": 6,
    "start_time": "2022-09-22T14:16:23.821Z"
   },
   {
    "duration": 2501,
    "start_time": "2022-09-22T14:16:23.828Z"
   },
   {
    "duration": 30,
    "start_time": "2022-09-22T14:16:26.330Z"
   },
   {
    "duration": 4,
    "start_time": "2022-09-22T14:16:26.362Z"
   },
   {
    "duration": 10,
    "start_time": "2022-09-22T14:16:26.367Z"
   },
   {
    "duration": 7,
    "start_time": "2022-09-22T14:16:26.378Z"
   },
   {
    "duration": 4,
    "start_time": "2022-09-22T14:18:35.576Z"
   },
   {
    "duration": 189,
    "start_time": "2022-09-22T14:18:55.694Z"
   },
   {
    "duration": 169,
    "start_time": "2022-09-22T14:19:23.115Z"
   },
   {
    "duration": 173,
    "start_time": "2022-09-22T14:19:30.605Z"
   },
   {
    "duration": 235,
    "start_time": "2022-09-22T14:19:56.510Z"
   },
   {
    "duration": 172,
    "start_time": "2022-09-22T14:20:01.896Z"
   },
   {
    "duration": 212,
    "start_time": "2022-09-22T14:20:13.657Z"
   },
   {
    "duration": 164,
    "start_time": "2022-09-22T14:20:19.760Z"
   },
   {
    "duration": 170,
    "start_time": "2022-09-22T14:20:24.874Z"
   },
   {
    "duration": 7859,
    "start_time": "2022-09-22T14:25:40.203Z"
   },
   {
    "duration": 70209,
    "start_time": "2022-09-22T14:25:57.124Z"
   },
   {
    "duration": 3,
    "start_time": "2022-09-22T14:27:10.715Z"
   },
   {
    "duration": 98168,
    "start_time": "2022-09-22T14:27:12.046Z"
   },
   {
    "duration": 4,
    "start_time": "2022-09-22T14:28:50.215Z"
   },
   {
    "duration": 11,
    "start_time": "2022-09-22T14:28:50.221Z"
   },
   {
    "duration": 129774,
    "start_time": "2022-09-22T14:28:50.234Z"
   },
   {
    "duration": 4,
    "start_time": "2022-09-22T14:31:00.012Z"
   },
   {
    "duration": 245,
    "start_time": "2022-09-22T14:31:00.019Z"
   },
   {
    "duration": 3,
    "start_time": "2022-09-22T14:32:07.359Z"
   },
   {
    "duration": 199391,
    "start_time": "2022-09-22T14:32:10.188Z"
   },
   {
    "duration": 5,
    "start_time": "2022-09-22T14:35:29.581Z"
   },
   {
    "duration": 3,
    "start_time": "2022-09-22T14:37:12.812Z"
   },
   {
    "duration": 3,
    "start_time": "2022-09-22T14:37:29.299Z"
   },
   {
    "duration": 71340,
    "start_time": "2022-09-22T14:37:30.834Z"
   },
   {
    "duration": 4,
    "start_time": "2022-09-22T14:38:42.176Z"
   },
   {
    "duration": 475,
    "start_time": "2022-09-22T14:38:42.181Z"
   },
   {
    "duration": 277,
    "start_time": "2022-09-22T14:39:24.428Z"
   },
   {
    "duration": 5,
    "start_time": "2022-09-22T14:39:37.494Z"
   },
   {
    "duration": 245,
    "start_time": "2022-09-22T14:39:53.436Z"
   },
   {
    "duration": 1727,
    "start_time": "2022-09-22T14:39:59.459Z"
   },
   {
    "duration": 418,
    "start_time": "2022-09-22T14:40:08.819Z"
   },
   {
    "duration": 167,
    "start_time": "2022-09-22T14:40:13.633Z"
   },
   {
    "duration": 228,
    "start_time": "2022-09-22T14:40:17.237Z"
   },
   {
    "duration": 279,
    "start_time": "2022-09-22T14:40:23.015Z"
   },
   {
    "duration": 415,
    "start_time": "2022-09-22T14:40:29.324Z"
   },
   {
    "duration": 4,
    "start_time": "2022-09-22T14:41:40.985Z"
   },
   {
    "duration": 42686,
    "start_time": "2022-09-22T14:41:42.251Z"
   },
   {
    "duration": 5,
    "start_time": "2022-09-22T14:42:24.939Z"
   },
   {
    "duration": 4,
    "start_time": "2022-09-22T14:42:48.995Z"
   },
   {
    "duration": 72964,
    "start_time": "2022-09-22T14:42:50.366Z"
   },
   {
    "duration": 4,
    "start_time": "2022-09-22T14:44:03.333Z"
   },
   {
    "duration": 4,
    "start_time": "2022-09-22T14:45:20.187Z"
   },
   {
    "duration": 35488,
    "start_time": "2022-09-22T14:45:23.095Z"
   },
   {
    "duration": 4,
    "start_time": "2022-09-22T14:45:58.585Z"
   },
   {
    "duration": 3,
    "start_time": "2022-09-22T14:46:10.607Z"
   },
   {
    "duration": 25160,
    "start_time": "2022-09-22T14:46:11.625Z"
   },
   {
    "duration": 3,
    "start_time": "2022-09-22T14:46:36.787Z"
   },
   {
    "duration": 3,
    "start_time": "2022-09-22T14:46:53.860Z"
   },
   {
    "duration": 3162,
    "start_time": "2022-09-22T14:46:56.171Z"
   },
   {
    "duration": 32,
    "start_time": "2022-09-22T14:46:59.335Z"
   },
   {
    "duration": 5,
    "start_time": "2022-09-22T14:47:00.747Z"
   },
   {
    "duration": 3,
    "start_time": "2022-09-22T14:47:11.727Z"
   },
   {
    "duration": 723,
    "start_time": "2022-09-22T14:47:13.086Z"
   },
   {
    "duration": 13,
    "start_time": "2022-09-22T14:47:14.275Z"
   },
   {
    "duration": 3,
    "start_time": "2022-09-22T14:47:15.692Z"
   },
   {
    "duration": 692,
    "start_time": "2022-09-22T14:47:27.620Z"
   },
   {
    "duration": 3,
    "start_time": "2022-09-22T14:47:44.206Z"
   },
   {
    "duration": 30275,
    "start_time": "2022-09-22T14:47:51.940Z"
   },
   {
    "duration": 5,
    "start_time": "2022-09-22T14:48:22.308Z"
   },
   {
    "duration": 3,
    "start_time": "2022-09-22T14:49:28.845Z"
   },
   {
    "duration": 142,
    "start_time": "2022-09-22T14:49:30.774Z"
   },
   {
    "duration": 14,
    "start_time": "2022-09-22T14:49:32.107Z"
   },
   {
    "duration": 3,
    "start_time": "2022-09-22T14:49:33.676Z"
   },
   {
    "duration": 408,
    "start_time": "2022-09-22T14:49:47.141Z"
   },
   {
    "duration": 5,
    "start_time": "2022-09-22T14:49:59.956Z"
   },
   {
    "duration": 5,
    "start_time": "2022-09-22T14:50:00.979Z"
   },
   {
    "duration": 19,
    "start_time": "2022-09-22T14:50:33.610Z"
   },
   {
    "duration": 4,
    "start_time": "2022-09-22T14:50:45.041Z"
   },
   {
    "duration": 4,
    "start_time": "2022-09-22T14:50:46.254Z"
   },
   {
    "duration": 308,
    "start_time": "2022-09-22T14:50:52.304Z"
   },
   {
    "duration": 11,
    "start_time": "2022-09-22T14:50:53.528Z"
   },
   {
    "duration": 4,
    "start_time": "2022-09-22T14:50:55.128Z"
   },
   {
    "duration": 1464,
    "start_time": "2022-09-22T14:52:33.678Z"
   },
   {
    "duration": 3,
    "start_time": "2022-09-22T14:52:35.144Z"
   },
   {
    "duration": 189,
    "start_time": "2022-09-22T14:52:35.149Z"
   },
   {
    "duration": 14,
    "start_time": "2022-09-22T14:52:35.339Z"
   },
   {
    "duration": 13,
    "start_time": "2022-09-22T14:52:35.356Z"
   },
   {
    "duration": 10,
    "start_time": "2022-09-22T14:52:35.370Z"
   },
   {
    "duration": 16,
    "start_time": "2022-09-22T14:52:35.382Z"
   },
   {
    "duration": 218,
    "start_time": "2022-09-22T14:52:35.400Z"
   },
   {
    "duration": 123,
    "start_time": "2022-09-22T14:52:35.620Z"
   },
   {
    "duration": 5435,
    "start_time": "2022-09-22T14:52:35.745Z"
   },
   {
    "duration": 13,
    "start_time": "2022-09-22T14:52:41.182Z"
   },
   {
    "duration": 37,
    "start_time": "2022-09-22T14:52:41.196Z"
   },
   {
    "duration": 39,
    "start_time": "2022-09-22T14:52:41.234Z"
   },
   {
    "duration": 29,
    "start_time": "2022-09-22T14:52:41.276Z"
   },
   {
    "duration": 22,
    "start_time": "2022-09-22T14:52:41.306Z"
   },
   {
    "duration": 35,
    "start_time": "2022-09-22T14:52:41.330Z"
   },
   {
    "duration": 100,
    "start_time": "2022-09-22T14:52:41.366Z"
   },
   {
    "duration": 6,
    "start_time": "2022-09-22T14:52:41.467Z"
   },
   {
    "duration": 24,
    "start_time": "2022-09-22T14:52:41.475Z"
   },
   {
    "duration": 30,
    "start_time": "2022-09-22T14:52:41.500Z"
   },
   {
    "duration": 45,
    "start_time": "2022-09-22T14:52:41.532Z"
   },
   {
    "duration": 371,
    "start_time": "2022-09-22T14:52:41.579Z"
   },
   {
    "duration": 8,
    "start_time": "2022-09-22T14:52:41.951Z"
   },
   {
    "duration": 13,
    "start_time": "2022-09-22T14:52:41.960Z"
   },
   {
    "duration": 16,
    "start_time": "2022-09-22T14:52:41.975Z"
   },
   {
    "duration": 22,
    "start_time": "2022-09-22T14:52:41.993Z"
   },
   {
    "duration": 347,
    "start_time": "2022-09-22T14:52:42.016Z"
   },
   {
    "duration": 10,
    "start_time": "2022-09-22T14:52:42.364Z"
   },
   {
    "duration": 33,
    "start_time": "2022-09-22T14:52:42.376Z"
   },
   {
    "duration": 35,
    "start_time": "2022-09-22T14:52:42.411Z"
   },
   {
    "duration": 16,
    "start_time": "2022-09-22T14:52:42.448Z"
   },
   {
    "duration": 18,
    "start_time": "2022-09-22T14:52:42.466Z"
   },
   {
    "duration": 9,
    "start_time": "2022-09-22T14:52:42.486Z"
   },
   {
    "duration": 38,
    "start_time": "2022-09-22T14:52:42.497Z"
   },
   {
    "duration": 240,
    "start_time": "2022-09-22T14:52:42.538Z"
   },
   {
    "duration": 15,
    "start_time": "2022-09-22T14:52:42.781Z"
   },
   {
    "duration": 12,
    "start_time": "2022-09-22T14:52:42.808Z"
   },
   {
    "duration": 10,
    "start_time": "2022-09-22T14:52:42.821Z"
   },
   {
    "duration": 15,
    "start_time": "2022-09-22T14:52:42.832Z"
   },
   {
    "duration": 27,
    "start_time": "2022-09-22T14:52:42.848Z"
   },
   {
    "duration": 13,
    "start_time": "2022-09-22T14:52:42.880Z"
   },
   {
    "duration": 9,
    "start_time": "2022-09-22T14:52:42.895Z"
   },
   {
    "duration": 11,
    "start_time": "2022-09-22T14:52:42.906Z"
   },
   {
    "duration": 9,
    "start_time": "2022-09-22T14:52:42.918Z"
   },
   {
    "duration": 21,
    "start_time": "2022-09-22T14:52:42.929Z"
   },
   {
    "duration": 7,
    "start_time": "2022-09-22T14:52:42.951Z"
   },
   {
    "duration": 12,
    "start_time": "2022-09-22T14:52:42.960Z"
   },
   {
    "duration": 8,
    "start_time": "2022-09-22T14:52:42.974Z"
   },
   {
    "duration": 9,
    "start_time": "2022-09-22T14:52:42.984Z"
   },
   {
    "duration": 15,
    "start_time": "2022-09-22T14:52:42.994Z"
   },
   {
    "duration": 5,
    "start_time": "2022-09-22T14:52:43.011Z"
   },
   {
    "duration": 10,
    "start_time": "2022-09-22T14:52:43.018Z"
   },
   {
    "duration": 11,
    "start_time": "2022-09-22T14:52:43.029Z"
   },
   {
    "duration": 13,
    "start_time": "2022-09-22T14:52:43.041Z"
   },
   {
    "duration": 5,
    "start_time": "2022-09-22T14:52:43.056Z"
   },
   {
    "duration": 9,
    "start_time": "2022-09-22T14:52:43.062Z"
   },
   {
    "duration": 9,
    "start_time": "2022-09-22T14:52:43.073Z"
   },
   {
    "duration": 26,
    "start_time": "2022-09-22T14:52:43.084Z"
   },
   {
    "duration": 16,
    "start_time": "2022-09-22T14:52:43.112Z"
   },
   {
    "duration": 15,
    "start_time": "2022-09-22T14:52:43.130Z"
   },
   {
    "duration": 13,
    "start_time": "2022-09-22T14:52:43.146Z"
   },
   {
    "duration": 11,
    "start_time": "2022-09-22T14:52:43.160Z"
   },
   {
    "duration": 13,
    "start_time": "2022-09-22T14:52:43.172Z"
   },
   {
    "duration": 6,
    "start_time": "2022-09-22T14:52:43.187Z"
   },
   {
    "duration": 10,
    "start_time": "2022-09-22T14:52:43.194Z"
   },
   {
    "duration": 10,
    "start_time": "2022-09-22T14:52:43.205Z"
   },
   {
    "duration": 11,
    "start_time": "2022-09-22T14:52:43.216Z"
   },
   {
    "duration": 11,
    "start_time": "2022-09-22T14:52:43.228Z"
   },
   {
    "duration": 8,
    "start_time": "2022-09-22T14:52:43.240Z"
   },
   {
    "duration": 38,
    "start_time": "2022-09-22T14:52:43.250Z"
   },
   {
    "duration": 7,
    "start_time": "2022-09-22T14:52:43.289Z"
   },
   {
    "duration": 19,
    "start_time": "2022-09-22T14:52:43.298Z"
   },
   {
    "duration": 11,
    "start_time": "2022-09-22T14:52:43.318Z"
   },
   {
    "duration": 21,
    "start_time": "2022-09-22T14:52:43.330Z"
   },
   {
    "duration": 8,
    "start_time": "2022-09-22T14:52:43.352Z"
   },
   {
    "duration": 6,
    "start_time": "2022-09-22T14:52:43.361Z"
   },
   {
    "duration": 6,
    "start_time": "2022-09-22T14:52:43.368Z"
   },
   {
    "duration": 7,
    "start_time": "2022-09-22T14:52:43.375Z"
   },
   {
    "duration": 33,
    "start_time": "2022-09-22T14:52:43.383Z"
   },
   {
    "duration": 13,
    "start_time": "2022-09-22T14:52:43.418Z"
   },
   {
    "duration": 5,
    "start_time": "2022-09-22T14:52:43.432Z"
   },
   {
    "duration": 17,
    "start_time": "2022-09-22T14:52:43.439Z"
   },
   {
    "duration": 14,
    "start_time": "2022-09-22T14:52:43.457Z"
   },
   {
    "duration": 12,
    "start_time": "2022-09-22T14:52:43.472Z"
   },
   {
    "duration": 9,
    "start_time": "2022-09-22T14:52:43.486Z"
   },
   {
    "duration": 8,
    "start_time": "2022-09-22T14:52:43.509Z"
   },
   {
    "duration": 20,
    "start_time": "2022-09-22T14:52:43.518Z"
   },
   {
    "duration": 10,
    "start_time": "2022-09-22T14:52:43.540Z"
   },
   {
    "duration": 6,
    "start_time": "2022-09-22T14:52:43.551Z"
   },
   {
    "duration": 22,
    "start_time": "2022-09-22T14:52:43.558Z"
   },
   {
    "duration": 7,
    "start_time": "2022-09-22T14:52:43.609Z"
   },
   {
    "duration": 6,
    "start_time": "2022-09-22T14:52:43.617Z"
   },
   {
    "duration": 24,
    "start_time": "2022-09-22T14:52:43.624Z"
   },
   {
    "duration": 6,
    "start_time": "2022-09-22T14:52:43.649Z"
   },
   {
    "duration": 4,
    "start_time": "2022-09-22T14:52:43.656Z"
   },
   {
    "duration": 25395,
    "start_time": "2022-09-22T14:52:43.662Z"
   },
   {
    "duration": 3,
    "start_time": "2022-09-22T14:53:09.059Z"
   },
   {
    "duration": 14,
    "start_time": "2022-09-22T14:53:09.063Z"
   },
   {
    "duration": 24942,
    "start_time": "2022-09-22T14:53:09.078Z"
   },
   {
    "duration": 4,
    "start_time": "2022-09-22T14:53:34.110Z"
   },
   {
    "duration": 6,
    "start_time": "2022-09-22T14:53:34.115Z"
   },
   {
    "duration": 287,
    "start_time": "2022-09-22T14:53:34.123Z"
   },
   {
    "duration": 6,
    "start_time": "2022-09-22T14:53:34.413Z"
   },
   {
    "duration": 5,
    "start_time": "2022-09-22T14:53:34.509Z"
   },
   {
    "duration": 437,
    "start_time": "2022-09-22T14:53:34.515Z"
   },
   {
    "duration": 4,
    "start_time": "2022-09-22T14:53:34.953Z"
   },
   {
    "duration": 8,
    "start_time": "2022-09-22T14:53:34.959Z"
   },
   {
    "duration": 409,
    "start_time": "2022-09-22T14:54:44.088Z"
   },
   {
    "duration": 70,
    "start_time": "2022-09-23T06:37:12.077Z"
   },
   {
    "duration": 76,
    "start_time": "2022-09-23T06:42:53.912Z"
   },
   {
    "duration": 7,
    "start_time": "2022-09-23T11:48:48.245Z"
   },
   {
    "duration": 7,
    "start_time": "2022-09-23T11:49:26.308Z"
   },
   {
    "duration": 1472,
    "start_time": "2022-09-23T11:54:01.366Z"
   },
   {
    "duration": 3,
    "start_time": "2022-09-23T11:54:02.905Z"
   },
   {
    "duration": 116,
    "start_time": "2022-09-23T11:54:10.576Z"
   },
   {
    "duration": 451,
    "start_time": "2022-09-23T11:54:18.468Z"
   },
   {
    "duration": 15,
    "start_time": "2022-09-23T11:54:23.056Z"
   },
   {
    "duration": 4,
    "start_time": "2022-09-23T11:54:26.015Z"
   },
   {
    "duration": 12,
    "start_time": "2022-09-23T11:54:29.785Z"
   },
   {
    "duration": 13,
    "start_time": "2022-09-23T11:54:36.829Z"
   },
   {
    "duration": 9,
    "start_time": "2022-09-23T11:54:38.288Z"
   },
   {
    "duration": 4,
    "start_time": "2022-09-23T11:54:40.068Z"
   },
   {
    "duration": 9,
    "start_time": "2022-09-23T11:54:46.364Z"
   },
   {
    "duration": 7,
    "start_time": "2022-09-23T11:54:52.466Z"
   },
   {
    "duration": 7,
    "start_time": "2022-09-23T11:54:53.965Z"
   },
   {
    "duration": 7,
    "start_time": "2022-09-23T11:54:55.055Z"
   },
   {
    "duration": 3,
    "start_time": "2022-09-23T11:54:57.755Z"
   },
   {
    "duration": 3,
    "start_time": "2022-09-23T11:54:58.575Z"
   },
   {
    "duration": 3,
    "start_time": "2022-09-23T11:56:26.985Z"
   },
   {
    "duration": 12,
    "start_time": "2022-09-23T11:56:29.035Z"
   },
   {
    "duration": 4,
    "start_time": "2022-09-23T11:56:49.974Z"
   },
   {
    "duration": 5,
    "start_time": "2022-09-23T11:56:51.297Z"
   },
   {
    "duration": 10,
    "start_time": "2022-09-23T11:57:13.928Z"
   },
   {
    "duration": 3,
    "start_time": "2022-09-23T11:57:16.906Z"
   },
   {
    "duration": 10,
    "start_time": "2022-09-23T11:57:19.366Z"
   },
   {
    "duration": 4,
    "start_time": "2022-09-23T11:58:00.076Z"
   },
   {
    "duration": 4,
    "start_time": "2022-09-23T11:58:01.405Z"
   },
   {
    "duration": 8,
    "start_time": "2022-09-23T11:59:10.886Z"
   },
   {
    "duration": 4,
    "start_time": "2022-09-23T12:00:51.863Z"
   },
   {
    "duration": 3,
    "start_time": "2022-09-23T12:00:52.966Z"
   },
   {
    "duration": 4,
    "start_time": "2022-09-23T12:01:00.936Z"
   },
   {
    "duration": 9,
    "start_time": "2022-09-23T12:01:11.135Z"
   },
   {
    "duration": 7,
    "start_time": "2022-09-23T12:01:13.263Z"
   },
   {
    "duration": 4,
    "start_time": "2022-09-23T12:01:16.485Z"
   },
   {
    "duration": 4,
    "start_time": "2022-09-23T12:01:19.385Z"
   },
   {
    "duration": 4,
    "start_time": "2022-09-23T12:01:20.415Z"
   },
   {
    "duration": 12,
    "start_time": "2022-09-23T12:01:32.824Z"
   },
   {
    "duration": 9,
    "start_time": "2022-09-23T12:01:43.392Z"
   },
   {
    "duration": 12,
    "start_time": "2022-09-23T12:02:31.461Z"
   },
   {
    "duration": 13,
    "start_time": "2022-09-23T12:03:49.947Z"
   },
   {
    "duration": 13,
    "start_time": "2022-09-23T12:05:26.695Z"
   },
   {
    "duration": 4,
    "start_time": "2022-09-23T12:05:42.037Z"
   },
   {
    "duration": 8,
    "start_time": "2022-09-23T12:05:50.739Z"
   },
   {
    "duration": 10,
    "start_time": "2022-09-23T12:06:10.257Z"
   },
   {
    "duration": 4,
    "start_time": "2022-09-23T12:06:24.429Z"
   },
   {
    "duration": 5,
    "start_time": "2022-09-23T12:06:53.876Z"
   },
   {
    "duration": 16,
    "start_time": "2022-09-23T12:06:56.277Z"
   },
   {
    "duration": 3,
    "start_time": "2022-09-23T12:07:02.850Z"
   },
   {
    "duration": 12,
    "start_time": "2022-09-23T12:07:43.839Z"
   },
   {
    "duration": 13,
    "start_time": "2022-09-23T12:10:34.718Z"
   },
   {
    "duration": 8,
    "start_time": "2022-09-23T12:10:36.736Z"
   },
   {
    "duration": 9,
    "start_time": "2022-09-23T12:10:41.996Z"
   },
   {
    "duration": 8,
    "start_time": "2022-09-23T12:10:42.736Z"
   },
   {
    "duration": 11,
    "start_time": "2022-09-23T12:11:02.795Z"
   },
   {
    "duration": 10,
    "start_time": "2022-09-23T12:13:52.078Z"
   },
   {
    "duration": 12,
    "start_time": "2022-09-23T12:14:02.898Z"
   },
   {
    "duration": 7,
    "start_time": "2022-09-23T12:14:06.957Z"
   },
   {
    "duration": 7,
    "start_time": "2022-09-23T12:14:08.870Z"
   },
   {
    "duration": 11,
    "start_time": "2022-09-23T12:14:16.577Z"
   },
   {
    "duration": 11,
    "start_time": "2022-09-23T12:14:27.347Z"
   },
   {
    "duration": 12,
    "start_time": "2022-09-23T12:14:29.028Z"
   },
   {
    "duration": 15,
    "start_time": "2022-09-23T12:14:40.918Z"
   },
   {
    "duration": 12,
    "start_time": "2022-09-23T12:14:44.266Z"
   },
   {
    "duration": 8,
    "start_time": "2022-09-23T12:14:51.048Z"
   },
   {
    "duration": 11,
    "start_time": "2022-09-23T12:14:58.447Z"
   },
   {
    "duration": 8,
    "start_time": "2022-09-23T12:15:01.977Z"
   },
   {
    "duration": 9,
    "start_time": "2022-09-23T12:15:05.857Z"
   },
   {
    "duration": 7,
    "start_time": "2022-09-23T12:15:07.449Z"
   },
   {
    "duration": 10,
    "start_time": "2022-09-23T12:15:14.928Z"
   },
   {
    "duration": 8,
    "start_time": "2022-09-23T12:15:16.641Z"
   },
   {
    "duration": 10,
    "start_time": "2022-09-23T12:15:18.267Z"
   },
   {
    "duration": 11,
    "start_time": "2022-09-23T12:21:03.764Z"
   },
   {
    "duration": 8,
    "start_time": "2022-09-23T12:21:06.493Z"
   },
   {
    "duration": 14,
    "start_time": "2022-09-23T12:21:10.434Z"
   },
   {
    "duration": 13,
    "start_time": "2022-09-23T12:21:23.763Z"
   },
   {
    "duration": 11,
    "start_time": "2022-09-23T12:21:32.964Z"
   },
   {
    "duration": 11,
    "start_time": "2022-09-23T12:21:39.055Z"
   },
   {
    "duration": 16,
    "start_time": "2022-09-23T12:21:55.245Z"
   },
   {
    "duration": 9,
    "start_time": "2022-09-23T12:22:11.992Z"
   },
   {
    "duration": 6,
    "start_time": "2022-09-23T12:22:20.759Z"
   },
   {
    "duration": 5,
    "start_time": "2022-09-23T12:22:30.669Z"
   },
   {
    "duration": 14,
    "start_time": "2022-09-23T12:22:38.679Z"
   },
   {
    "duration": 6,
    "start_time": "2022-09-23T12:27:14.813Z"
   },
   {
    "duration": 8,
    "start_time": "2022-09-23T12:27:49.681Z"
   },
   {
    "duration": 6,
    "start_time": "2022-09-23T12:30:37.060Z"
   },
   {
    "duration": 5,
    "start_time": "2022-09-23T12:31:06.873Z"
   },
   {
    "duration": 7,
    "start_time": "2022-09-23T12:31:08.235Z"
   },
   {
    "duration": 4,
    "start_time": "2022-09-23T12:32:04.250Z"
   },
   {
    "duration": 11,
    "start_time": "2022-09-23T12:32:40.970Z"
   },
   {
    "duration": 5,
    "start_time": "2022-09-23T12:33:37.689Z"
   },
   {
    "duration": 11,
    "start_time": "2022-09-23T12:33:40.489Z"
   },
   {
    "duration": 6,
    "start_time": "2022-09-23T12:33:52.660Z"
   },
   {
    "duration": 13,
    "start_time": "2022-09-23T12:33:54.152Z"
   },
   {
    "duration": 6,
    "start_time": "2022-09-23T12:33:59.253Z"
   },
   {
    "duration": 18,
    "start_time": "2022-09-23T12:34:00.335Z"
   },
   {
    "duration": 9,
    "start_time": "2022-09-23T12:34:09.140Z"
   },
   {
    "duration": 12,
    "start_time": "2022-09-23T12:34:15.227Z"
   },
   {
    "duration": 35,
    "start_time": "2022-09-23T12:34:16.501Z"
   },
   {
    "duration": 3,
    "start_time": "2022-09-23T12:34:26.462Z"
   },
   {
    "duration": 4,
    "start_time": "2022-09-23T12:34:27.162Z"
   },
   {
    "duration": 4,
    "start_time": "2022-09-23T12:35:07.504Z"
   },
   {
    "duration": 4,
    "start_time": "2022-09-23T12:35:16.302Z"
   },
   {
    "duration": 12,
    "start_time": "2022-09-23T12:37:26.426Z"
   },
   {
    "duration": 8,
    "start_time": "2022-09-23T12:37:30.368Z"
   },
   {
    "duration": 10,
    "start_time": "2022-09-23T12:37:33.124Z"
   },
   {
    "duration": 4,
    "start_time": "2022-09-23T12:37:48.587Z"
   },
   {
    "duration": 3,
    "start_time": "2022-09-23T12:37:57.877Z"
   },
   {
    "duration": 3,
    "start_time": "2022-09-23T12:38:00.744Z"
   },
   {
    "duration": 4,
    "start_time": "2022-09-23T12:38:05.950Z"
   },
   {
    "duration": 1498,
    "start_time": "2022-09-23T12:40:05.301Z"
   },
   {
    "duration": 2,
    "start_time": "2022-09-23T12:40:06.801Z"
   },
   {
    "duration": 225,
    "start_time": "2022-09-23T12:40:06.805Z"
   },
   {
    "duration": 13,
    "start_time": "2022-09-23T12:40:07.032Z"
   },
   {
    "duration": 12,
    "start_time": "2022-09-23T12:40:07.047Z"
   },
   {
    "duration": 15,
    "start_time": "2022-09-23T12:40:07.061Z"
   },
   {
    "duration": 20,
    "start_time": "2022-09-23T12:40:07.078Z"
   },
   {
    "duration": 221,
    "start_time": "2022-09-23T12:40:07.100Z"
   },
   {
    "duration": 115,
    "start_time": "2022-09-23T12:40:07.323Z"
   },
   {
    "duration": 5359,
    "start_time": "2022-09-23T12:40:07.440Z"
   },
   {
    "duration": 16,
    "start_time": "2022-09-23T12:40:12.800Z"
   },
   {
    "duration": 27,
    "start_time": "2022-09-23T12:40:12.817Z"
   },
   {
    "duration": 11,
    "start_time": "2022-09-23T12:40:12.845Z"
   },
   {
    "duration": 11,
    "start_time": "2022-09-23T12:40:12.859Z"
   },
   {
    "duration": 6,
    "start_time": "2022-09-23T12:40:12.872Z"
   },
   {
    "duration": 7,
    "start_time": "2022-09-23T12:40:12.879Z"
   },
   {
    "duration": 74,
    "start_time": "2022-09-23T12:40:12.887Z"
   },
   {
    "duration": 6,
    "start_time": "2022-09-23T12:40:12.963Z"
   },
   {
    "duration": 9,
    "start_time": "2022-09-23T12:40:12.970Z"
   },
   {
    "duration": 5,
    "start_time": "2022-09-23T12:40:12.981Z"
   },
   {
    "duration": 37,
    "start_time": "2022-09-23T12:40:12.987Z"
   },
   {
    "duration": 336,
    "start_time": "2022-09-23T12:40:13.026Z"
   },
   {
    "duration": 7,
    "start_time": "2022-09-23T12:40:13.363Z"
   },
   {
    "duration": 13,
    "start_time": "2022-09-23T12:40:13.371Z"
   },
   {
    "duration": 6,
    "start_time": "2022-09-23T12:40:13.385Z"
   },
   {
    "duration": 31,
    "start_time": "2022-09-23T12:40:13.392Z"
   },
   {
    "duration": 329,
    "start_time": "2022-09-23T12:40:13.425Z"
   },
   {
    "duration": 9,
    "start_time": "2022-09-23T12:40:13.756Z"
   },
   {
    "duration": 13,
    "start_time": "2022-09-23T12:40:13.767Z"
   },
   {
    "duration": 10,
    "start_time": "2022-09-23T12:40:13.782Z"
   },
   {
    "duration": 33,
    "start_time": "2022-09-23T12:40:13.793Z"
   },
   {
    "duration": 6,
    "start_time": "2022-09-23T12:40:13.827Z"
   },
   {
    "duration": 7,
    "start_time": "2022-09-23T12:40:13.834Z"
   },
   {
    "duration": 33,
    "start_time": "2022-09-23T12:40:13.842Z"
   },
   {
    "duration": 180,
    "start_time": "2022-09-23T12:40:13.877Z"
   },
   {
    "duration": 14,
    "start_time": "2022-09-23T12:40:14.059Z"
   },
   {
    "duration": 14,
    "start_time": "2022-09-23T12:40:14.075Z"
   },
   {
    "duration": 23,
    "start_time": "2022-09-23T12:40:14.091Z"
   },
   {
    "duration": 11,
    "start_time": "2022-09-23T12:40:14.116Z"
   },
   {
    "duration": 9,
    "start_time": "2022-09-23T12:40:14.129Z"
   },
   {
    "duration": 14,
    "start_time": "2022-09-23T12:40:14.141Z"
   },
   {
    "duration": 8,
    "start_time": "2022-09-23T12:40:14.157Z"
   },
   {
    "duration": 10,
    "start_time": "2022-09-23T12:40:14.167Z"
   },
   {
    "duration": 5,
    "start_time": "2022-09-23T12:40:14.179Z"
   },
   {
    "duration": 39,
    "start_time": "2022-09-23T12:40:14.186Z"
   },
   {
    "duration": 7,
    "start_time": "2022-09-23T12:40:14.226Z"
   },
   {
    "duration": 9,
    "start_time": "2022-09-23T12:40:14.235Z"
   },
   {
    "duration": 7,
    "start_time": "2022-09-23T12:40:14.245Z"
   },
   {
    "duration": 9,
    "start_time": "2022-09-23T12:40:14.253Z"
   },
   {
    "duration": 10,
    "start_time": "2022-09-23T12:40:14.264Z"
   },
   {
    "duration": 49,
    "start_time": "2022-09-23T12:40:14.275Z"
   },
   {
    "duration": 7,
    "start_time": "2022-09-23T12:40:14.326Z"
   },
   {
    "duration": 5,
    "start_time": "2022-09-23T12:40:14.335Z"
   },
   {
    "duration": 3,
    "start_time": "2022-09-23T12:40:14.341Z"
   },
   {
    "duration": 4,
    "start_time": "2022-09-23T12:40:14.346Z"
   },
   {
    "duration": 4,
    "start_time": "2022-09-23T12:40:14.352Z"
   },
   {
    "duration": 6,
    "start_time": "2022-09-23T12:40:14.358Z"
   },
   {
    "duration": 9,
    "start_time": "2022-09-23T12:40:14.366Z"
   },
   {
    "duration": 37,
    "start_time": "2022-09-23T12:40:14.377Z"
   },
   {
    "duration": 2,
    "start_time": "2022-09-23T12:40:14.416Z"
   },
   {
    "duration": 5,
    "start_time": "2022-09-23T12:40:25.923Z"
   },
   {
    "duration": 7,
    "start_time": "2022-09-23T12:40:28.900Z"
   },
   {
    "duration": 7,
    "start_time": "2022-09-23T12:40:30.386Z"
   },
   {
    "duration": 8,
    "start_time": "2022-09-23T12:40:37.466Z"
   },
   {
    "duration": 4,
    "start_time": "2022-09-23T12:40:41.363Z"
   },
   {
    "duration": 6,
    "start_time": "2022-09-23T12:40:43.065Z"
   },
   {
    "duration": 6,
    "start_time": "2022-09-23T12:40:45.923Z"
   },
   {
    "duration": 7,
    "start_time": "2022-09-23T12:40:46.423Z"
   },
   {
    "duration": 6,
    "start_time": "2022-09-23T12:40:49.005Z"
   },
   {
    "duration": 3,
    "start_time": "2022-09-23T12:40:52.665Z"
   },
   {
    "duration": 3,
    "start_time": "2022-09-23T12:40:53.898Z"
   },
   {
    "duration": 6,
    "start_time": "2022-09-23T12:41:00.429Z"
   },
   {
    "duration": 4,
    "start_time": "2022-09-23T12:41:01.983Z"
   },
   {
    "duration": 15,
    "start_time": "2022-09-23T12:41:04.505Z"
   },
   {
    "duration": 8,
    "start_time": "2022-09-23T12:41:06.536Z"
   },
   {
    "duration": 3,
    "start_time": "2022-09-23T12:41:08.593Z"
   },
   {
    "duration": 6,
    "start_time": "2022-09-23T12:41:10.971Z"
   },
   {
    "duration": 46,
    "start_time": "2022-09-23T12:41:11.785Z"
   },
   {
    "duration": 10,
    "start_time": "2022-09-23T12:41:13.129Z"
   },
   {
    "duration": 11,
    "start_time": "2022-09-23T12:41:15.726Z"
   },
   {
    "duration": 12,
    "start_time": "2022-09-23T12:41:18.985Z"
   },
   {
    "duration": 12,
    "start_time": "2022-09-23T12:41:25.532Z"
   },
   {
    "duration": 11,
    "start_time": "2022-09-23T12:41:29.836Z"
   },
   {
    "duration": 4,
    "start_time": "2022-09-23T12:41:31.785Z"
   },
   {
    "duration": 16,
    "start_time": "2022-09-23T12:41:33.705Z"
   },
   {
    "duration": 9,
    "start_time": "2022-09-23T12:41:39.133Z"
   },
   {
    "duration": 10,
    "start_time": "2022-09-23T12:41:42.375Z"
   },
   {
    "duration": 19,
    "start_time": "2022-09-23T12:41:48.239Z"
   },
   {
    "duration": 21,
    "start_time": "2022-09-23T12:41:54.506Z"
   },
   {
    "duration": 8,
    "start_time": "2022-09-23T12:41:59.140Z"
   },
   {
    "duration": 13,
    "start_time": "2022-09-23T12:42:00.735Z"
   },
   {
    "duration": 10,
    "start_time": "2022-09-23T12:42:02.045Z"
   },
   {
    "duration": 48,
    "start_time": "2022-09-23T12:42:03.895Z"
   },
   {
    "duration": 11,
    "start_time": "2022-09-23T12:42:07.052Z"
   },
   {
    "duration": 5,
    "start_time": "2022-09-23T12:42:19.666Z"
   },
   {
    "duration": 11,
    "start_time": "2022-09-23T12:42:24.932Z"
   },
   {
    "duration": 5,
    "start_time": "2022-09-23T12:42:50.746Z"
   },
   {
    "duration": 36292,
    "start_time": "2022-09-23T12:42:51.555Z"
   },
   {
    "duration": 11,
    "start_time": "2022-09-23T12:43:27.848Z"
   },
   {
    "duration": 4,
    "start_time": "2022-09-23T12:43:41.964Z"
   },
   {
    "duration": 7,
    "start_time": "2022-09-23T12:43:54.035Z"
   },
   {
    "duration": 113668,
    "start_time": "2022-09-23T12:43:55.467Z"
   },
   {
    "duration": 0,
    "start_time": "2022-09-23T12:45:49.137Z"
   },
   {
    "duration": 0,
    "start_time": "2022-09-23T12:45:49.138Z"
   },
   {
    "duration": 0,
    "start_time": "2022-09-23T12:45:49.139Z"
   },
   {
    "duration": 0,
    "start_time": "2022-09-23T12:45:49.140Z"
   },
   {
    "duration": 0,
    "start_time": "2022-09-23T12:45:49.141Z"
   },
   {
    "duration": 7,
    "start_time": "2022-09-23T12:45:52.344Z"
   },
   {
    "duration": 4636,
    "start_time": "2022-09-23T12:48:35.437Z"
   },
   {
    "duration": 3,
    "start_time": "2022-09-23T12:48:40.074Z"
   },
   {
    "duration": 269,
    "start_time": "2022-09-23T12:48:40.078Z"
   },
   {
    "duration": 14,
    "start_time": "2022-09-23T12:49:18.340Z"
   },
   {
    "duration": 22,
    "start_time": "2022-09-23T12:49:28.036Z"
   },
   {
    "duration": 11,
    "start_time": "2022-09-23T12:49:29.685Z"
   },
   {
    "duration": 15,
    "start_time": "2022-09-23T12:49:52.340Z"
   },
   {
    "duration": 13,
    "start_time": "2022-09-23T12:50:01.047Z"
   },
   {
    "duration": 12,
    "start_time": "2022-09-23T12:50:16.044Z"
   },
   {
    "duration": 30,
    "start_time": "2022-09-23T12:50:18.505Z"
   },
   {
    "duration": 27,
    "start_time": "2022-09-23T12:51:09.708Z"
   },
   {
    "duration": 12,
    "start_time": "2022-09-23T12:51:12.335Z"
   },
   {
    "duration": 10,
    "start_time": "2022-09-23T12:51:40.537Z"
   },
   {
    "duration": 32,
    "start_time": "2022-09-23T12:52:36.107Z"
   },
   {
    "duration": 155,
    "start_time": "2022-09-23T12:53:22.393Z"
   },
   {
    "duration": 5,
    "start_time": "2022-09-23T12:53:26.987Z"
   },
   {
    "duration": 9,
    "start_time": "2022-09-23T12:53:38.588Z"
   },
   {
    "duration": 22,
    "start_time": "2022-09-23T12:53:59.244Z"
   },
   {
    "duration": 5,
    "start_time": "2022-09-23T12:54:06.481Z"
   },
   {
    "duration": 11,
    "start_time": "2022-09-23T12:54:12.178Z"
   },
   {
    "duration": 19,
    "start_time": "2022-09-23T12:54:52.402Z"
   },
   {
    "duration": 8,
    "start_time": "2022-09-23T12:55:04.345Z"
   },
   {
    "duration": 236,
    "start_time": "2022-09-23T12:55:34.233Z"
   },
   {
    "duration": 6,
    "start_time": "2022-09-23T12:55:51.099Z"
   },
   {
    "duration": 4,
    "start_time": "2022-09-23T12:55:53.180Z"
   },
   {
    "duration": 3,
    "start_time": "2022-09-23T12:56:24.378Z"
   },
   {
    "duration": 12,
    "start_time": "2022-09-23T13:03:33.898Z"
   },
   {
    "duration": 13,
    "start_time": "2022-09-23T13:03:51.959Z"
   },
   {
    "duration": 7,
    "start_time": "2022-09-23T13:03:59.627Z"
   },
   {
    "duration": 11,
    "start_time": "2022-09-23T13:04:07.914Z"
   },
   {
    "duration": 6,
    "start_time": "2022-09-23T13:04:25.502Z"
   },
   {
    "duration": 7,
    "start_time": "2022-09-23T13:04:35.320Z"
   },
   {
    "duration": 11,
    "start_time": "2022-09-23T13:04:38.643Z"
   },
   {
    "duration": 8,
    "start_time": "2022-09-23T13:05:07.998Z"
   },
   {
    "duration": 9,
    "start_time": "2022-09-23T13:05:09.258Z"
   },
   {
    "duration": 4,
    "start_time": "2022-09-23T13:05:29.229Z"
   },
   {
    "duration": 4,
    "start_time": "2022-09-23T13:06:11.097Z"
   },
   {
    "duration": 4,
    "start_time": "2022-09-23T13:06:12.378Z"
   },
   {
    "duration": 12,
    "start_time": "2022-09-23T13:06:14.127Z"
   },
   {
    "duration": 5,
    "start_time": "2022-09-23T13:06:48.300Z"
   },
   {
    "duration": 6,
    "start_time": "2022-09-23T13:06:49.537Z"
   },
   {
    "duration": 6,
    "start_time": "2022-09-23T13:06:50.948Z"
   },
   {
    "duration": 4,
    "start_time": "2022-09-23T13:06:53.674Z"
   },
   {
    "duration": 4,
    "start_time": "2022-09-23T13:07:43.420Z"
   },
   {
    "duration": 4,
    "start_time": "2022-09-23T13:07:44.139Z"
   },
   {
    "duration": 5,
    "start_time": "2022-09-23T13:07:45.200Z"
   },
   {
    "duration": 1367,
    "start_time": "2022-09-23T13:08:06.642Z"
   },
   {
    "duration": 2,
    "start_time": "2022-09-23T13:08:08.011Z"
   },
   {
    "duration": 190,
    "start_time": "2022-09-23T13:08:08.015Z"
   },
   {
    "duration": 12,
    "start_time": "2022-09-23T13:08:08.206Z"
   },
   {
    "duration": 10,
    "start_time": "2022-09-23T13:08:08.221Z"
   },
   {
    "duration": 8,
    "start_time": "2022-09-23T13:08:08.233Z"
   },
   {
    "duration": 22,
    "start_time": "2022-09-23T13:08:08.242Z"
   },
   {
    "duration": 212,
    "start_time": "2022-09-23T13:08:08.265Z"
   },
   {
    "duration": 124,
    "start_time": "2022-09-23T13:08:08.478Z"
   },
   {
    "duration": 5232,
    "start_time": "2022-09-23T13:08:08.609Z"
   },
   {
    "duration": 13,
    "start_time": "2022-09-23T13:08:13.842Z"
   },
   {
    "duration": 13,
    "start_time": "2022-09-23T13:08:13.857Z"
   },
   {
    "duration": 10,
    "start_time": "2022-09-23T13:08:13.871Z"
   },
   {
    "duration": 32,
    "start_time": "2022-09-23T13:08:13.884Z"
   },
   {
    "duration": 7,
    "start_time": "2022-09-23T13:08:13.918Z"
   },
   {
    "duration": 10,
    "start_time": "2022-09-23T13:08:13.927Z"
   },
   {
    "duration": 78,
    "start_time": "2022-09-23T13:08:13.939Z"
   },
   {
    "duration": 6,
    "start_time": "2022-09-23T13:08:14.018Z"
   },
   {
    "duration": 11,
    "start_time": "2022-09-23T13:08:14.026Z"
   },
   {
    "duration": 10,
    "start_time": "2022-09-23T13:08:14.038Z"
   },
   {
    "duration": 14,
    "start_time": "2022-09-23T13:08:14.050Z"
   },
   {
    "duration": 410,
    "start_time": "2022-09-23T13:08:14.065Z"
   },
   {
    "duration": 10,
    "start_time": "2022-09-23T13:08:14.477Z"
   },
   {
    "duration": 30,
    "start_time": "2022-09-23T13:08:14.488Z"
   },
   {
    "duration": 13,
    "start_time": "2022-09-23T13:08:14.521Z"
   },
   {
    "duration": 33,
    "start_time": "2022-09-23T13:08:14.536Z"
   },
   {
    "duration": 433,
    "start_time": "2022-09-23T13:08:14.571Z"
   },
   {
    "duration": 10,
    "start_time": "2022-09-23T13:08:15.008Z"
   },
   {
    "duration": 28,
    "start_time": "2022-09-23T13:08:15.019Z"
   },
   {
    "duration": 20,
    "start_time": "2022-09-23T13:08:15.049Z"
   },
   {
    "duration": 18,
    "start_time": "2022-09-23T13:08:15.071Z"
   },
   {
    "duration": 7,
    "start_time": "2022-09-23T13:08:15.091Z"
   },
   {
    "duration": 7,
    "start_time": "2022-09-23T13:08:15.099Z"
   },
   {
    "duration": 29,
    "start_time": "2022-09-23T13:08:15.108Z"
   },
   {
    "duration": 178,
    "start_time": "2022-09-23T13:08:15.139Z"
   },
   {
    "duration": 13,
    "start_time": "2022-09-23T13:08:15.319Z"
   },
   {
    "duration": 13,
    "start_time": "2022-09-23T13:08:15.333Z"
   },
   {
    "duration": 7,
    "start_time": "2022-09-23T13:08:15.348Z"
   },
   {
    "duration": 5,
    "start_time": "2022-09-23T13:08:15.356Z"
   },
   {
    "duration": 12,
    "start_time": "2022-09-23T13:08:15.362Z"
   },
   {
    "duration": 13,
    "start_time": "2022-09-23T13:08:15.379Z"
   },
   {
    "duration": 18,
    "start_time": "2022-09-23T13:08:15.394Z"
   },
   {
    "duration": 8,
    "start_time": "2022-09-23T13:08:15.414Z"
   },
   {
    "duration": 10,
    "start_time": "2022-09-23T13:08:15.423Z"
   },
   {
    "duration": 9,
    "start_time": "2022-09-23T13:08:15.434Z"
   },
   {
    "duration": 23,
    "start_time": "2022-09-23T13:08:15.444Z"
   },
   {
    "duration": 6,
    "start_time": "2022-09-23T13:08:15.468Z"
   },
   {
    "duration": 33,
    "start_time": "2022-09-23T13:08:15.476Z"
   },
   {
    "duration": 7,
    "start_time": "2022-09-23T13:08:15.510Z"
   },
   {
    "duration": 9,
    "start_time": "2022-09-23T13:08:15.519Z"
   },
   {
    "duration": 11,
    "start_time": "2022-09-23T13:08:15.529Z"
   },
   {
    "duration": 6,
    "start_time": "2022-09-23T13:08:15.541Z"
   },
   {
    "duration": 5,
    "start_time": "2022-09-23T13:08:15.549Z"
   },
   {
    "duration": 7,
    "start_time": "2022-09-23T13:08:15.555Z"
   },
   {
    "duration": 6,
    "start_time": "2022-09-23T13:08:15.563Z"
   },
   {
    "duration": 4,
    "start_time": "2022-09-23T13:08:15.570Z"
   },
   {
    "duration": 5,
    "start_time": "2022-09-23T13:08:15.576Z"
   },
   {
    "duration": 28,
    "start_time": "2022-09-23T13:08:15.582Z"
   },
   {
    "duration": 8,
    "start_time": "2022-09-23T13:08:15.612Z"
   },
   {
    "duration": 12,
    "start_time": "2022-09-23T13:08:15.621Z"
   },
   {
    "duration": 6,
    "start_time": "2022-09-23T13:08:15.634Z"
   },
   {
    "duration": 6,
    "start_time": "2022-09-23T13:08:15.641Z"
   },
   {
    "duration": 10,
    "start_time": "2022-09-23T13:08:15.648Z"
   },
   {
    "duration": 7,
    "start_time": "2022-09-23T13:08:15.660Z"
   },
   {
    "duration": 10,
    "start_time": "2022-09-23T13:08:15.668Z"
   },
   {
    "duration": 35,
    "start_time": "2022-09-23T13:08:15.680Z"
   },
   {
    "duration": 8,
    "start_time": "2022-09-23T13:08:15.716Z"
   },
   {
    "duration": 13,
    "start_time": "2022-09-23T13:08:15.726Z"
   },
   {
    "duration": 4,
    "start_time": "2022-09-23T13:08:15.741Z"
   },
   {
    "duration": 6,
    "start_time": "2022-09-23T13:08:15.747Z"
   },
   {
    "duration": 6,
    "start_time": "2022-09-23T13:08:15.754Z"
   },
   {
    "duration": 5,
    "start_time": "2022-09-23T13:08:15.762Z"
   },
   {
    "duration": 17,
    "start_time": "2022-09-23T13:08:15.768Z"
   },
   {
    "duration": 12,
    "start_time": "2022-09-23T13:08:15.786Z"
   },
   {
    "duration": 3,
    "start_time": "2022-09-23T13:08:15.809Z"
   },
   {
    "duration": 4,
    "start_time": "2022-09-23T13:08:15.814Z"
   },
   {
    "duration": 8,
    "start_time": "2022-09-23T13:08:15.820Z"
   },
   {
    "duration": 8,
    "start_time": "2022-09-23T13:08:15.830Z"
   },
   {
    "duration": 12,
    "start_time": "2022-09-23T13:08:15.839Z"
   },
   {
    "duration": 21,
    "start_time": "2022-09-23T13:08:15.853Z"
   },
   {
    "duration": 4,
    "start_time": "2022-09-23T13:08:15.876Z"
   },
   {
    "duration": 8,
    "start_time": "2022-09-23T13:08:15.882Z"
   },
   {
    "duration": 40,
    "start_time": "2022-09-23T13:08:15.891Z"
   },
   {
    "duration": 8,
    "start_time": "2022-09-23T13:08:15.933Z"
   },
   {
    "duration": 12,
    "start_time": "2022-09-23T13:08:15.942Z"
   },
   {
    "duration": 11,
    "start_time": "2022-09-23T13:08:15.955Z"
   },
   {
    "duration": 9,
    "start_time": "2022-09-23T13:08:15.967Z"
   },
   {
    "duration": 33,
    "start_time": "2022-09-23T13:08:15.978Z"
   },
   {
    "duration": 3,
    "start_time": "2022-09-23T13:08:16.013Z"
   },
   {
    "duration": 9,
    "start_time": "2022-09-23T13:08:16.017Z"
   },
   {
    "duration": 6,
    "start_time": "2022-09-23T13:08:16.027Z"
   },
   {
    "duration": 13,
    "start_time": "2022-09-23T13:08:16.034Z"
   },
   {
    "duration": 14,
    "start_time": "2022-09-23T13:08:16.049Z"
   },
   {
    "duration": 7,
    "start_time": "2022-09-23T13:08:16.064Z"
   },
   {
    "duration": 6,
    "start_time": "2022-09-23T13:08:16.072Z"
   },
   {
    "duration": 8,
    "start_time": "2022-09-23T13:08:16.108Z"
   },
   {
    "duration": 7,
    "start_time": "2022-09-23T13:08:16.118Z"
   },
   {
    "duration": 20,
    "start_time": "2022-09-23T13:08:16.126Z"
   },
   {
    "duration": 11,
    "start_time": "2022-09-23T13:08:16.148Z"
   },
   {
    "duration": 5,
    "start_time": "2022-09-23T13:08:16.161Z"
   },
   {
    "duration": 57,
    "start_time": "2022-09-23T13:08:16.167Z"
   },
   {
    "duration": 4,
    "start_time": "2022-09-23T13:08:16.226Z"
   },
   {
    "duration": 8,
    "start_time": "2022-09-23T13:08:16.231Z"
   },
   {
    "duration": 19,
    "start_time": "2022-09-23T13:08:16.241Z"
   },
   {
    "duration": 7,
    "start_time": "2022-09-23T13:08:16.261Z"
   },
   {
    "duration": 23984,
    "start_time": "2022-09-23T13:08:16.269Z"
   },
   {
    "duration": 3,
    "start_time": "2022-09-23T13:08:42.759Z"
   },
   {
    "duration": 3,
    "start_time": "2022-09-23T13:08:48.846Z"
   },
   {
    "duration": 37577,
    "start_time": "2022-09-23T13:08:49.546Z"
   },
   {
    "duration": 4,
    "start_time": "2022-09-23T13:09:27.208Z"
   },
   {
    "duration": 2,
    "start_time": "2022-09-23T13:10:13.868Z"
   },
   {
    "duration": 451,
    "start_time": "2022-09-23T13:10:15.266Z"
   },
   {
    "duration": 12,
    "start_time": "2022-09-23T13:10:17.096Z"
   },
   {
    "duration": 4,
    "start_time": "2022-09-23T13:10:18.627Z"
   },
   {
    "duration": 4,
    "start_time": "2022-09-23T13:10:20.156Z"
   },
   {
    "duration": 3,
    "start_time": "2022-09-23T13:10:32.546Z"
   },
   {
    "duration": 223,
    "start_time": "2022-09-23T13:10:33.587Z"
   },
   {
    "duration": 40,
    "start_time": "2022-09-23T13:10:34.776Z"
   },
   {
    "duration": 4,
    "start_time": "2022-09-23T13:10:35.596Z"
   },
   {
    "duration": 2,
    "start_time": "2022-09-23T13:10:44.190Z"
   },
   {
    "duration": 268,
    "start_time": "2022-09-23T13:10:44.849Z"
   },
   {
    "duration": 7,
    "start_time": "2022-09-23T13:10:48.858Z"
   },
   {
    "duration": 7,
    "start_time": "2022-09-23T13:10:48.909Z"
   },
   {
    "duration": 3,
    "start_time": "2022-09-23T13:11:00.535Z"
   },
   {
    "duration": 5,
    "start_time": "2022-09-23T13:11:01.246Z"
   },
   {
    "duration": 3,
    "start_time": "2022-09-23T13:12:11.785Z"
   },
   {
    "duration": 107380,
    "start_time": "2022-09-23T13:12:13.835Z"
   },
   {
    "duration": 3,
    "start_time": "2022-09-23T13:14:01.217Z"
   },
   {
    "duration": 4,
    "start_time": "2022-09-23T13:16:34.436Z"
   },
   {
    "duration": 311209,
    "start_time": "2022-09-23T13:16:35.507Z"
   },
   {
    "duration": 3,
    "start_time": "2022-09-23T13:21:46.718Z"
   },
   {
    "duration": 3,
    "start_time": "2022-09-23T13:25:05.107Z"
   },
   {
    "duration": 95377,
    "start_time": "2022-09-23T13:25:07.366Z"
   },
   {
    "duration": 3,
    "start_time": "2022-09-23T13:26:42.745Z"
   },
   {
    "duration": 5,
    "start_time": "2022-09-23T13:27:07.318Z"
   },
   {
    "duration": 197540,
    "start_time": "2022-09-23T13:27:08.505Z"
   },
   {
    "duration": 3,
    "start_time": "2022-09-23T13:30:26.047Z"
   },
   {
    "duration": 3,
    "start_time": "2022-09-23T13:32:04.841Z"
   },
   {
    "duration": 58872,
    "start_time": "2022-09-23T13:32:06.071Z"
   },
   {
    "duration": 4,
    "start_time": "2022-09-23T13:33:04.944Z"
   },
   {
    "duration": 4,
    "start_time": "2022-09-23T13:33:23.412Z"
   },
   {
    "duration": 99822,
    "start_time": "2022-09-23T13:33:24.751Z"
   },
   {
    "duration": 4,
    "start_time": "2022-09-23T13:35:04.576Z"
   },
   {
    "duration": 2,
    "start_time": "2022-09-23T13:35:28.398Z"
   },
   {
    "duration": 4320,
    "start_time": "2022-09-23T13:35:30.443Z"
   },
   {
    "duration": 73,
    "start_time": "2022-09-23T13:35:34.765Z"
   },
   {
    "duration": 5,
    "start_time": "2022-09-23T13:35:46.181Z"
   },
   {
    "duration": 61,
    "start_time": "2022-09-23T13:36:04.785Z"
   },
   {
    "duration": 4,
    "start_time": "2022-09-23T13:36:14.562Z"
   },
   {
    "duration": 6019,
    "start_time": "2022-09-23T13:36:16.552Z"
   },
   {
    "duration": 72,
    "start_time": "2022-09-23T13:36:22.573Z"
   },
   {
    "duration": 4,
    "start_time": "2022-09-23T13:36:22.647Z"
   },
   {
    "duration": 4,
    "start_time": "2022-09-23T13:36:30.418Z"
   },
   {
    "duration": 9842,
    "start_time": "2022-09-23T13:36:31.841Z"
   },
   {
    "duration": 106,
    "start_time": "2022-09-23T13:36:41.685Z"
   },
   {
    "duration": 5,
    "start_time": "2022-09-23T13:36:41.792Z"
   },
   {
    "duration": 3,
    "start_time": "2022-09-23T13:37:06.962Z"
   },
   {
    "duration": 8163,
    "start_time": "2022-09-23T13:37:08.512Z"
   },
   {
    "duration": 82,
    "start_time": "2022-09-23T13:37:16.677Z"
   },
   {
    "duration": 3,
    "start_time": "2022-09-23T13:37:16.761Z"
   },
   {
    "duration": 3,
    "start_time": "2022-09-23T13:37:53.069Z"
   },
   {
    "duration": 84094,
    "start_time": "2022-09-23T13:37:54.633Z"
   },
   {
    "duration": 0,
    "start_time": "2022-09-23T13:39:18.734Z"
   },
   {
    "duration": 0,
    "start_time": "2022-09-23T13:39:18.738Z"
   },
   {
    "duration": 4,
    "start_time": "2022-09-23T13:39:24.800Z"
   },
   {
    "duration": 251748,
    "start_time": "2022-09-23T13:39:27.162Z"
   },
   {
    "duration": 5,
    "start_time": "2022-09-23T13:43:38.912Z"
   },
   {
    "duration": 3,
    "start_time": "2022-09-23T13:51:08.044Z"
   },
   {
    "duration": 24152,
    "start_time": "2022-09-23T13:51:10.191Z"
   },
   {
    "duration": 9,
    "start_time": "2022-09-23T13:51:34.344Z"
   },
   {
    "duration": 1540,
    "start_time": "2022-09-23T13:52:37.322Z"
   },
   {
    "duration": 3,
    "start_time": "2022-09-23T13:52:38.864Z"
   },
   {
    "duration": 200,
    "start_time": "2022-09-23T13:52:38.868Z"
   },
   {
    "duration": 11,
    "start_time": "2022-09-23T13:52:39.070Z"
   },
   {
    "duration": 16,
    "start_time": "2022-09-23T13:52:39.085Z"
   },
   {
    "duration": 10,
    "start_time": "2022-09-23T13:52:39.103Z"
   },
   {
    "duration": 26,
    "start_time": "2022-09-23T13:52:39.114Z"
   },
   {
    "duration": 249,
    "start_time": "2022-09-23T13:52:39.141Z"
   },
   {
    "duration": 138,
    "start_time": "2022-09-23T13:52:39.392Z"
   },
   {
    "duration": 6089,
    "start_time": "2022-09-23T13:52:39.533Z"
   },
   {
    "duration": 20,
    "start_time": "2022-09-23T13:52:45.624Z"
   },
   {
    "duration": 67,
    "start_time": "2022-09-23T13:52:45.646Z"
   },
   {
    "duration": 21,
    "start_time": "2022-09-23T13:52:45.715Z"
   },
   {
    "duration": 13,
    "start_time": "2022-09-23T13:52:45.740Z"
   },
   {
    "duration": 58,
    "start_time": "2022-09-23T13:52:45.755Z"
   },
   {
    "duration": 10,
    "start_time": "2022-09-23T13:52:45.814Z"
   },
   {
    "duration": 98,
    "start_time": "2022-09-23T13:52:45.826Z"
   },
   {
    "duration": 9,
    "start_time": "2022-09-23T13:52:45.926Z"
   },
   {
    "duration": 13,
    "start_time": "2022-09-23T13:52:45.937Z"
   },
   {
    "duration": 60,
    "start_time": "2022-09-23T13:52:45.952Z"
   },
   {
    "duration": 19,
    "start_time": "2022-09-23T13:52:46.014Z"
   },
   {
    "duration": 434,
    "start_time": "2022-09-23T13:52:46.034Z"
   },
   {
    "duration": 10,
    "start_time": "2022-09-23T13:52:46.470Z"
   },
   {
    "duration": 34,
    "start_time": "2022-09-23T13:52:46.482Z"
   },
   {
    "duration": 18,
    "start_time": "2022-09-23T13:52:46.522Z"
   },
   {
    "duration": 20,
    "start_time": "2022-09-23T13:52:46.542Z"
   },
   {
    "duration": 395,
    "start_time": "2022-09-23T13:52:46.564Z"
   },
   {
    "duration": 10,
    "start_time": "2022-09-23T13:52:46.961Z"
   },
   {
    "duration": 13,
    "start_time": "2022-09-23T13:52:46.972Z"
   },
   {
    "duration": 26,
    "start_time": "2022-09-23T13:52:46.987Z"
   },
   {
    "duration": 12,
    "start_time": "2022-09-23T13:52:47.014Z"
   },
   {
    "duration": 10,
    "start_time": "2022-09-23T13:52:47.028Z"
   },
   {
    "duration": 9,
    "start_time": "2022-09-23T13:52:47.040Z"
   },
   {
    "duration": 33,
    "start_time": "2022-09-23T13:52:47.050Z"
   },
   {
    "duration": 227,
    "start_time": "2022-09-23T13:52:47.084Z"
   },
   {
    "duration": 23,
    "start_time": "2022-09-23T13:52:47.314Z"
   },
   {
    "duration": 13,
    "start_time": "2022-09-23T13:52:47.339Z"
   },
   {
    "duration": 10,
    "start_time": "2022-09-23T13:52:47.353Z"
   },
   {
    "duration": 6,
    "start_time": "2022-09-23T13:52:47.365Z"
   },
   {
    "duration": 7,
    "start_time": "2022-09-23T13:52:47.372Z"
   },
   {
    "duration": 22,
    "start_time": "2022-09-23T13:52:47.409Z"
   },
   {
    "duration": 13,
    "start_time": "2022-09-23T13:52:47.433Z"
   },
   {
    "duration": 10,
    "start_time": "2022-09-23T13:52:47.448Z"
   },
   {
    "duration": 9,
    "start_time": "2022-09-23T13:52:47.460Z"
   },
   {
    "duration": 55,
    "start_time": "2022-09-23T13:52:47.470Z"
   },
   {
    "duration": 10,
    "start_time": "2022-09-23T13:52:47.529Z"
   },
   {
    "duration": 22,
    "start_time": "2022-09-23T13:52:47.542Z"
   },
   {
    "duration": 10,
    "start_time": "2022-09-23T13:52:47.565Z"
   },
   {
    "duration": 16,
    "start_time": "2022-09-23T13:52:47.577Z"
   },
   {
    "duration": 26,
    "start_time": "2022-09-23T13:52:47.594Z"
   },
   {
    "duration": 17,
    "start_time": "2022-09-23T13:52:47.622Z"
   },
   {
    "duration": 7,
    "start_time": "2022-09-23T13:52:47.640Z"
   },
   {
    "duration": 10,
    "start_time": "2022-09-23T13:52:47.649Z"
   },
   {
    "duration": 6,
    "start_time": "2022-09-23T13:52:47.661Z"
   },
   {
    "duration": 4,
    "start_time": "2022-09-23T13:52:47.669Z"
   },
   {
    "duration": 8,
    "start_time": "2022-09-23T13:52:47.675Z"
   },
   {
    "duration": 9,
    "start_time": "2022-09-23T13:52:47.685Z"
   },
   {
    "duration": 25,
    "start_time": "2022-09-23T13:52:47.696Z"
   },
   {
    "duration": 18,
    "start_time": "2022-09-23T13:52:47.723Z"
   },
   {
    "duration": 11,
    "start_time": "2022-09-23T13:52:47.743Z"
   },
   {
    "duration": 7,
    "start_time": "2022-09-23T13:52:47.756Z"
   },
   {
    "duration": 13,
    "start_time": "2022-09-23T13:52:47.764Z"
   },
   {
    "duration": 7,
    "start_time": "2022-09-23T13:52:47.779Z"
   },
   {
    "duration": 23,
    "start_time": "2022-09-23T13:52:47.787Z"
   },
   {
    "duration": 17,
    "start_time": "2022-09-23T13:52:47.814Z"
   },
   {
    "duration": 10,
    "start_time": "2022-09-23T13:52:47.833Z"
   },
   {
    "duration": 16,
    "start_time": "2022-09-23T13:52:47.845Z"
   },
   {
    "duration": 10,
    "start_time": "2022-09-23T13:52:47.863Z"
   },
   {
    "duration": 8,
    "start_time": "2022-09-23T13:52:47.875Z"
   },
   {
    "duration": 27,
    "start_time": "2022-09-23T13:52:47.885Z"
   },
   {
    "duration": 6,
    "start_time": "2022-09-23T13:52:47.914Z"
   },
   {
    "duration": 15,
    "start_time": "2022-09-23T13:52:47.922Z"
   },
   {
    "duration": 6,
    "start_time": "2022-09-23T13:52:47.938Z"
   },
   {
    "duration": 7,
    "start_time": "2022-09-23T13:52:47.945Z"
   },
   {
    "duration": 12,
    "start_time": "2022-09-23T13:52:47.957Z"
   },
   {
    "duration": 8,
    "start_time": "2022-09-23T13:52:47.970Z"
   },
   {
    "duration": 8,
    "start_time": "2022-09-23T13:52:47.980Z"
   },
   {
    "duration": 24,
    "start_time": "2022-09-23T13:52:47.989Z"
   },
   {
    "duration": 27,
    "start_time": "2022-09-23T13:52:48.014Z"
   },
   {
    "duration": 6,
    "start_time": "2022-09-23T13:52:48.043Z"
   },
   {
    "duration": 10,
    "start_time": "2022-09-23T13:52:48.050Z"
   },
   {
    "duration": 34,
    "start_time": "2022-09-23T13:52:48.062Z"
   },
   {
    "duration": 11,
    "start_time": "2022-09-23T13:52:48.098Z"
   },
   {
    "duration": 30,
    "start_time": "2022-09-23T13:52:48.114Z"
   },
   {
    "duration": 16,
    "start_time": "2022-09-23T13:52:48.146Z"
   },
   {
    "duration": 14,
    "start_time": "2022-09-23T13:52:48.163Z"
   },
   {
    "duration": 12,
    "start_time": "2022-09-23T13:52:48.179Z"
   },
   {
    "duration": 21,
    "start_time": "2022-09-23T13:52:48.193Z"
   },
   {
    "duration": 21,
    "start_time": "2022-09-23T13:52:48.216Z"
   },
   {
    "duration": 11,
    "start_time": "2022-09-23T13:52:48.239Z"
   },
   {
    "duration": 14,
    "start_time": "2022-09-23T13:52:48.252Z"
   },
   {
    "duration": 12,
    "start_time": "2022-09-23T13:52:48.267Z"
   },
   {
    "duration": 9,
    "start_time": "2022-09-23T13:52:48.281Z"
   },
   {
    "duration": 27,
    "start_time": "2022-09-23T13:52:48.292Z"
   },
   {
    "duration": 15,
    "start_time": "2022-09-23T13:52:48.320Z"
   },
   {
    "duration": 12,
    "start_time": "2022-09-23T13:52:48.336Z"
   },
   {
    "duration": 31,
    "start_time": "2022-09-23T13:52:48.349Z"
   },
   {
    "duration": 35,
    "start_time": "2022-09-23T13:52:48.382Z"
   },
   {
    "duration": 11,
    "start_time": "2022-09-23T13:52:48.419Z"
   },
   {
    "duration": 25,
    "start_time": "2022-09-23T13:52:48.432Z"
   },
   {
    "duration": 5,
    "start_time": "2022-09-23T13:52:48.459Z"
   },
   {
    "duration": 8,
    "start_time": "2022-09-23T13:52:48.465Z"
   },
   {
    "duration": 42,
    "start_time": "2022-09-23T13:52:48.475Z"
   },
   {
    "duration": 4,
    "start_time": "2022-09-23T13:52:48.521Z"
   },
   {
    "duration": 460686,
    "start_time": "2022-09-23T13:52:48.528Z"
   },
   {
    "duration": 7,
    "start_time": "2022-09-23T14:00:29.216Z"
   },
   {
    "duration": 14,
    "start_time": "2022-09-23T14:00:29.226Z"
   },
   {
    "duration": 1425,
    "start_time": "2022-09-23T14:06:56.137Z"
   },
   {
    "duration": 4,
    "start_time": "2022-09-23T14:06:57.564Z"
   },
   {
    "duration": 213,
    "start_time": "2022-09-23T14:06:57.570Z"
   },
   {
    "duration": 12,
    "start_time": "2022-09-23T14:06:57.784Z"
   },
   {
    "duration": 13,
    "start_time": "2022-09-23T14:06:57.798Z"
   },
   {
    "duration": 8,
    "start_time": "2022-09-23T14:06:57.813Z"
   },
   {
    "duration": 17,
    "start_time": "2022-09-23T14:06:57.822Z"
   },
   {
    "duration": 206,
    "start_time": "2022-09-23T14:06:57.840Z"
   },
   {
    "duration": 116,
    "start_time": "2022-09-23T14:06:58.047Z"
   },
   {
    "duration": 5247,
    "start_time": "2022-09-23T14:06:58.165Z"
   },
   {
    "duration": 13,
    "start_time": "2022-09-23T14:07:03.414Z"
   },
   {
    "duration": 13,
    "start_time": "2022-09-23T14:07:03.429Z"
   },
   {
    "duration": 10,
    "start_time": "2022-09-23T14:07:03.444Z"
   },
   {
    "duration": 10,
    "start_time": "2022-09-23T14:07:03.457Z"
   },
   {
    "duration": 7,
    "start_time": "2022-09-23T14:07:03.468Z"
   },
   {
    "duration": 42,
    "start_time": "2022-09-23T14:07:03.476Z"
   },
   {
    "duration": 51,
    "start_time": "2022-09-23T14:07:03.520Z"
   },
   {
    "duration": 7,
    "start_time": "2022-09-23T14:07:03.573Z"
   },
   {
    "duration": 35,
    "start_time": "2022-09-23T14:07:03.582Z"
   },
   {
    "duration": 10,
    "start_time": "2022-09-23T14:07:03.618Z"
   },
   {
    "duration": 20,
    "start_time": "2022-09-23T14:07:03.630Z"
   },
   {
    "duration": 343,
    "start_time": "2022-09-23T14:07:03.652Z"
   },
   {
    "duration": 7,
    "start_time": "2022-09-23T14:07:03.996Z"
   },
   {
    "duration": 10,
    "start_time": "2022-09-23T14:07:04.009Z"
   },
   {
    "duration": 9,
    "start_time": "2022-09-23T14:07:04.021Z"
   },
   {
    "duration": 15,
    "start_time": "2022-09-23T14:07:04.031Z"
   },
   {
    "duration": 339,
    "start_time": "2022-09-23T14:07:04.047Z"
   },
   {
    "duration": 9,
    "start_time": "2022-09-23T14:07:04.388Z"
   },
   {
    "duration": 24,
    "start_time": "2022-09-23T14:07:04.399Z"
   },
   {
    "duration": 20,
    "start_time": "2022-09-23T14:07:04.425Z"
   },
   {
    "duration": 15,
    "start_time": "2022-09-23T14:07:04.446Z"
   },
   {
    "duration": 14,
    "start_time": "2022-09-23T14:07:04.463Z"
   },
   {
    "duration": 11,
    "start_time": "2022-09-23T14:07:04.479Z"
   },
   {
    "duration": 51,
    "start_time": "2022-09-23T14:07:04.492Z"
   },
   {
    "duration": 215,
    "start_time": "2022-09-23T14:07:04.545Z"
   },
   {
    "duration": 13,
    "start_time": "2022-09-23T14:07:04.761Z"
   },
   {
    "duration": 12,
    "start_time": "2022-09-23T14:07:04.776Z"
   },
   {
    "duration": 20,
    "start_time": "2022-09-23T14:07:04.790Z"
   },
   {
    "duration": 3,
    "start_time": "2022-09-23T14:07:04.811Z"
   },
   {
    "duration": 12,
    "start_time": "2022-09-23T14:07:04.816Z"
   },
   {
    "duration": 13,
    "start_time": "2022-09-23T14:07:04.833Z"
   },
   {
    "duration": 8,
    "start_time": "2022-09-23T14:07:04.848Z"
   },
   {
    "duration": 8,
    "start_time": "2022-09-23T14:07:04.858Z"
   },
   {
    "duration": 6,
    "start_time": "2022-09-23T14:07:04.867Z"
   },
   {
    "duration": 48,
    "start_time": "2022-09-23T14:07:04.874Z"
   },
   {
    "duration": 9,
    "start_time": "2022-09-23T14:07:04.924Z"
   },
   {
    "duration": 10,
    "start_time": "2022-09-23T14:07:04.935Z"
   },
   {
    "duration": 6,
    "start_time": "2022-09-23T14:07:04.947Z"
   },
   {
    "duration": 12,
    "start_time": "2022-09-23T14:07:04.955Z"
   },
   {
    "duration": 9,
    "start_time": "2022-09-23T14:07:04.970Z"
   },
   {
    "duration": 30,
    "start_time": "2022-09-23T14:07:04.980Z"
   },
   {
    "duration": 3,
    "start_time": "2022-09-23T14:07:05.012Z"
   },
   {
    "duration": 8,
    "start_time": "2022-09-23T14:07:05.017Z"
   },
   {
    "duration": 5,
    "start_time": "2022-09-23T14:07:05.027Z"
   },
   {
    "duration": 6,
    "start_time": "2022-09-23T14:07:05.034Z"
   },
   {
    "duration": 7,
    "start_time": "2022-09-23T14:07:05.042Z"
   },
   {
    "duration": 6,
    "start_time": "2022-09-23T14:07:05.050Z"
   },
   {
    "duration": 11,
    "start_time": "2022-09-23T14:07:05.058Z"
   },
   {
    "duration": 40,
    "start_time": "2022-09-23T14:07:05.071Z"
   },
   {
    "duration": 11,
    "start_time": "2022-09-23T14:07:05.112Z"
   },
   {
    "duration": 9,
    "start_time": "2022-09-23T14:07:05.124Z"
   },
   {
    "duration": 9,
    "start_time": "2022-09-23T14:07:05.134Z"
   },
   {
    "duration": 8,
    "start_time": "2022-09-23T14:07:05.144Z"
   },
   {
    "duration": 12,
    "start_time": "2022-09-23T14:07:05.153Z"
   },
   {
    "duration": 10,
    "start_time": "2022-09-23T14:07:05.167Z"
   },
   {
    "duration": 32,
    "start_time": "2022-09-23T14:07:05.179Z"
   },
   {
    "duration": 11,
    "start_time": "2022-09-23T14:07:05.212Z"
   },
   {
    "duration": 6,
    "start_time": "2022-09-23T14:07:05.224Z"
   },
   {
    "duration": 6,
    "start_time": "2022-09-23T14:07:05.232Z"
   },
   {
    "duration": 11,
    "start_time": "2022-09-23T14:07:05.240Z"
   },
   {
    "duration": 6,
    "start_time": "2022-09-23T14:07:05.252Z"
   },
   {
    "duration": 8,
    "start_time": "2022-09-23T14:07:05.260Z"
   },
   {
    "duration": 7,
    "start_time": "2022-09-23T14:07:05.269Z"
   },
   {
    "duration": 32,
    "start_time": "2022-09-23T14:07:05.278Z"
   },
   {
    "duration": 5,
    "start_time": "2022-09-23T14:07:05.312Z"
   },
   {
    "duration": 5,
    "start_time": "2022-09-23T14:07:05.319Z"
   },
   {
    "duration": 7,
    "start_time": "2022-09-23T14:07:05.325Z"
   },
   {
    "duration": 11,
    "start_time": "2022-09-23T14:07:05.333Z"
   },
   {
    "duration": 8,
    "start_time": "2022-09-23T14:07:05.345Z"
   },
   {
    "duration": 4,
    "start_time": "2022-09-23T14:07:05.355Z"
   },
   {
    "duration": 8,
    "start_time": "2022-09-23T14:07:05.360Z"
   },
   {
    "duration": 67,
    "start_time": "2022-09-23T14:07:05.369Z"
   },
   {
    "duration": 7,
    "start_time": "2022-09-23T14:07:05.438Z"
   },
   {
    "duration": 12,
    "start_time": "2022-09-23T14:07:05.446Z"
   },
   {
    "duration": 15,
    "start_time": "2022-09-23T14:07:05.460Z"
   },
   {
    "duration": 33,
    "start_time": "2022-09-23T14:07:05.476Z"
   },
   {
    "duration": 9,
    "start_time": "2022-09-23T14:07:05.510Z"
   },
   {
    "duration": 6,
    "start_time": "2022-09-23T14:07:05.520Z"
   },
   {
    "duration": 6,
    "start_time": "2022-09-23T14:07:05.527Z"
   },
   {
    "duration": 7,
    "start_time": "2022-09-23T14:07:05.534Z"
   },
   {
    "duration": 12,
    "start_time": "2022-09-23T14:07:05.542Z"
   },
   {
    "duration": 13,
    "start_time": "2022-09-23T14:07:05.555Z"
   },
   {
    "duration": 7,
    "start_time": "2022-09-23T14:07:05.569Z"
   },
   {
    "duration": 8,
    "start_time": "2022-09-23T14:07:05.609Z"
   },
   {
    "duration": 8,
    "start_time": "2022-09-23T14:07:05.618Z"
   },
   {
    "duration": 8,
    "start_time": "2022-09-23T14:07:05.627Z"
   },
   {
    "duration": 34,
    "start_time": "2022-09-23T14:07:05.636Z"
   },
   {
    "duration": 51,
    "start_time": "2022-09-23T14:07:05.672Z"
   },
   {
    "duration": 6,
    "start_time": "2022-09-23T14:07:05.725Z"
   },
   {
    "duration": 18,
    "start_time": "2022-09-23T14:07:05.733Z"
   },
   {
    "duration": 7,
    "start_time": "2022-09-23T14:07:05.752Z"
   },
   {
    "duration": 6,
    "start_time": "2022-09-23T14:07:05.761Z"
   },
   {
    "duration": 41,
    "start_time": "2022-09-23T14:07:05.768Z"
   },
   {
    "duration": 3,
    "start_time": "2022-09-23T14:07:10.952Z"
   },
   {
    "duration": 9485,
    "start_time": "2022-09-23T14:07:13.497Z"
   },
   {
    "duration": 3,
    "start_time": "2022-09-23T14:07:22.984Z"
   },
   {
    "duration": 1454,
    "start_time": "2022-09-23T14:09:08.868Z"
   },
   {
    "duration": 3,
    "start_time": "2022-09-23T14:09:10.324Z"
   },
   {
    "duration": 218,
    "start_time": "2022-09-23T14:09:10.328Z"
   },
   {
    "duration": 13,
    "start_time": "2022-09-23T14:09:10.548Z"
   },
   {
    "duration": 14,
    "start_time": "2022-09-23T14:09:10.564Z"
   },
   {
    "duration": 7,
    "start_time": "2022-09-23T14:09:10.579Z"
   },
   {
    "duration": 18,
    "start_time": "2022-09-23T14:09:10.587Z"
   },
   {
    "duration": 197,
    "start_time": "2022-09-23T14:09:10.607Z"
   },
   {
    "duration": 130,
    "start_time": "2022-09-23T14:09:10.805Z"
   },
   {
    "duration": 5552,
    "start_time": "2022-09-23T14:09:10.936Z"
   },
   {
    "duration": 13,
    "start_time": "2022-09-23T14:09:16.489Z"
   },
   {
    "duration": 17,
    "start_time": "2022-09-23T14:09:16.504Z"
   },
   {
    "duration": 12,
    "start_time": "2022-09-23T14:09:16.523Z"
   },
   {
    "duration": 12,
    "start_time": "2022-09-23T14:09:16.538Z"
   },
   {
    "duration": 10,
    "start_time": "2022-09-23T14:09:16.552Z"
   },
   {
    "duration": 16,
    "start_time": "2022-09-23T14:09:16.564Z"
   },
   {
    "duration": 72,
    "start_time": "2022-09-23T14:09:16.608Z"
   },
   {
    "duration": 6,
    "start_time": "2022-09-23T14:09:16.682Z"
   },
   {
    "duration": 20,
    "start_time": "2022-09-23T14:09:16.689Z"
   },
   {
    "duration": 5,
    "start_time": "2022-09-23T14:09:16.710Z"
   },
   {
    "duration": 13,
    "start_time": "2022-09-23T14:09:16.717Z"
   },
   {
    "duration": 355,
    "start_time": "2022-09-23T14:09:16.731Z"
   },
   {
    "duration": 8,
    "start_time": "2022-09-23T14:09:17.087Z"
   },
   {
    "duration": 19,
    "start_time": "2022-09-23T14:09:17.096Z"
   },
   {
    "duration": 7,
    "start_time": "2022-09-23T14:09:17.117Z"
   },
   {
    "duration": 15,
    "start_time": "2022-09-23T14:09:17.125Z"
   },
   {
    "duration": 355,
    "start_time": "2022-09-23T14:09:17.141Z"
   },
   {
    "duration": 13,
    "start_time": "2022-09-23T14:09:17.498Z"
   },
   {
    "duration": 10,
    "start_time": "2022-09-23T14:09:17.512Z"
   },
   {
    "duration": 10,
    "start_time": "2022-09-23T14:09:17.524Z"
   },
   {
    "duration": 11,
    "start_time": "2022-09-23T14:09:17.536Z"
   },
   {
    "duration": 6,
    "start_time": "2022-09-23T14:09:17.548Z"
   },
   {
    "duration": 9,
    "start_time": "2022-09-23T14:09:17.556Z"
   },
   {
    "duration": 80,
    "start_time": "2022-09-23T14:09:17.566Z"
   },
   {
    "duration": 172,
    "start_time": "2022-09-23T14:09:17.648Z"
   },
   {
    "duration": 13,
    "start_time": "2022-09-23T14:09:17.821Z"
   },
   {
    "duration": 10,
    "start_time": "2022-09-23T14:09:17.836Z"
   },
   {
    "duration": 8,
    "start_time": "2022-09-23T14:09:17.847Z"
   },
   {
    "duration": 4,
    "start_time": "2022-09-23T14:09:17.856Z"
   },
   {
    "duration": 5,
    "start_time": "2022-09-23T14:09:17.862Z"
   },
   {
    "duration": 39,
    "start_time": "2022-09-23T14:09:17.872Z"
   },
   {
    "duration": 5,
    "start_time": "2022-09-23T14:09:17.912Z"
   },
   {
    "duration": 16,
    "start_time": "2022-09-23T14:09:17.919Z"
   },
   {
    "duration": 11,
    "start_time": "2022-09-23T14:09:17.936Z"
   },
   {
    "duration": 9,
    "start_time": "2022-09-23T14:09:17.949Z"
   },
   {
    "duration": 19,
    "start_time": "2022-09-23T14:09:17.960Z"
   },
   {
    "duration": 7,
    "start_time": "2022-09-23T14:09:17.980Z"
   },
   {
    "duration": 9,
    "start_time": "2022-09-23T14:09:18.009Z"
   },
   {
    "duration": 9,
    "start_time": "2022-09-23T14:09:18.019Z"
   },
   {
    "duration": 8,
    "start_time": "2022-09-23T14:09:18.029Z"
   },
   {
    "duration": 6,
    "start_time": "2022-09-23T14:09:18.038Z"
   },
   {
    "duration": 9,
    "start_time": "2022-09-23T14:09:18.045Z"
   },
   {
    "duration": 5,
    "start_time": "2022-09-23T14:09:18.056Z"
   },
   {
    "duration": 3,
    "start_time": "2022-09-23T14:09:18.063Z"
   },
   {
    "duration": 9,
    "start_time": "2022-09-23T14:09:18.068Z"
   },
   {
    "duration": 31,
    "start_time": "2022-09-23T14:09:18.079Z"
   },
   {
    "duration": 5,
    "start_time": "2022-09-23T14:09:18.112Z"
   },
   {
    "duration": 9,
    "start_time": "2022-09-23T14:09:18.119Z"
   },
   {
    "duration": 12,
    "start_time": "2022-09-23T14:09:18.129Z"
   },
   {
    "duration": 4,
    "start_time": "2022-09-23T14:09:18.143Z"
   },
   {
    "duration": 5,
    "start_time": "2022-09-23T14:09:18.149Z"
   },
   {
    "duration": 7,
    "start_time": "2022-09-23T14:09:18.155Z"
   },
   {
    "duration": 7,
    "start_time": "2022-09-23T14:09:18.164Z"
   },
   {
    "duration": 40,
    "start_time": "2022-09-23T14:09:18.172Z"
   },
   {
    "duration": 15,
    "start_time": "2022-09-23T14:09:18.214Z"
   },
   {
    "duration": 11,
    "start_time": "2022-09-23T14:09:18.230Z"
   },
   {
    "duration": 15,
    "start_time": "2022-09-23T14:09:18.242Z"
   },
   {
    "duration": 6,
    "start_time": "2022-09-23T14:09:18.258Z"
   },
   {
    "duration": 7,
    "start_time": "2022-09-23T14:09:18.266Z"
   },
   {
    "duration": 7,
    "start_time": "2022-09-23T14:09:18.274Z"
   },
   {
    "duration": 31,
    "start_time": "2022-09-23T14:09:18.282Z"
   },
   {
    "duration": 10,
    "start_time": "2022-09-23T14:09:18.314Z"
   },
   {
    "duration": 9,
    "start_time": "2022-09-23T14:09:18.325Z"
   },
   {
    "duration": 4,
    "start_time": "2022-09-23T14:09:18.335Z"
   },
   {
    "duration": 5,
    "start_time": "2022-09-23T14:09:18.340Z"
   },
   {
    "duration": 5,
    "start_time": "2022-09-23T14:09:18.347Z"
   },
   {
    "duration": 7,
    "start_time": "2022-09-23T14:09:18.353Z"
   },
   {
    "duration": 10,
    "start_time": "2022-09-23T14:09:18.362Z"
   },
   {
    "duration": 36,
    "start_time": "2022-09-23T14:09:18.374Z"
   },
   {
    "duration": 6,
    "start_time": "2022-09-23T14:09:18.412Z"
   },
   {
    "duration": 11,
    "start_time": "2022-09-23T14:09:18.420Z"
   },
   {
    "duration": 45,
    "start_time": "2022-09-23T14:09:18.433Z"
   },
   {
    "duration": 7,
    "start_time": "2022-09-23T14:09:18.479Z"
   },
   {
    "duration": 30,
    "start_time": "2022-09-23T14:09:18.488Z"
   },
   {
    "duration": 11,
    "start_time": "2022-09-23T14:09:18.519Z"
   },
   {
    "duration": 9,
    "start_time": "2022-09-23T14:09:18.531Z"
   },
   {
    "duration": 7,
    "start_time": "2022-09-23T14:09:18.542Z"
   },
   {
    "duration": 6,
    "start_time": "2022-09-23T14:09:18.551Z"
   },
   {
    "duration": 6,
    "start_time": "2022-09-23T14:09:18.559Z"
   },
   {
    "duration": 6,
    "start_time": "2022-09-23T14:09:18.566Z"
   },
   {
    "duration": 37,
    "start_time": "2022-09-23T14:09:18.573Z"
   },
   {
    "duration": 12,
    "start_time": "2022-09-23T14:09:18.612Z"
   },
   {
    "duration": 8,
    "start_time": "2022-09-23T14:09:18.625Z"
   },
   {
    "duration": 6,
    "start_time": "2022-09-23T14:09:18.635Z"
   },
   {
    "duration": 7,
    "start_time": "2022-09-23T14:09:18.642Z"
   },
   {
    "duration": 7,
    "start_time": "2022-09-23T14:09:18.651Z"
   },
   {
    "duration": 58,
    "start_time": "2022-09-23T14:09:18.659Z"
   },
   {
    "duration": 10,
    "start_time": "2022-09-23T14:09:18.719Z"
   },
   {
    "duration": 5,
    "start_time": "2022-09-23T14:09:18.730Z"
   },
   {
    "duration": 21,
    "start_time": "2022-09-23T14:09:18.736Z"
   },
   {
    "duration": 6,
    "start_time": "2022-09-23T14:09:18.758Z"
   },
   {
    "duration": 6,
    "start_time": "2022-09-23T14:09:18.765Z"
   },
   {
    "duration": 45,
    "start_time": "2022-09-23T14:09:18.772Z"
   },
   {
    "duration": 3,
    "start_time": "2022-09-23T14:09:18.818Z"
   },
   {
    "duration": 341688,
    "start_time": "2022-09-23T14:09:18.822Z"
   },
   {
    "duration": 3,
    "start_time": "2022-09-23T14:15:00.512Z"
   },
   {
    "duration": 3,
    "start_time": "2022-09-23T14:16:37.477Z"
   },
   {
    "duration": 123292,
    "start_time": "2022-09-23T14:16:38.917Z"
   },
   {
    "duration": 3,
    "start_time": "2022-09-23T14:18:42.211Z"
   },
   {
    "duration": 4,
    "start_time": "2022-09-23T14:19:20.066Z"
   },
   {
    "duration": 118707,
    "start_time": "2022-09-23T14:19:21.245Z"
   },
   {
    "duration": 3,
    "start_time": "2022-09-23T14:21:19.953Z"
   },
   {
    "duration": 4,
    "start_time": "2022-09-23T14:21:43.586Z"
   },
   {
    "duration": 42376,
    "start_time": "2022-09-23T14:21:44.256Z"
   },
   {
    "duration": 3,
    "start_time": "2022-09-23T14:22:26.634Z"
   },
   {
    "duration": 10,
    "start_time": "2022-09-23T14:22:26.638Z"
   },
   {
    "duration": 4090,
    "start_time": "2022-09-23T14:22:26.650Z"
   },
   {
    "duration": 4,
    "start_time": "2022-09-23T14:22:30.741Z"
   },
   {
    "duration": 434,
    "start_time": "2022-09-23T14:22:30.747Z"
   },
   {
    "duration": 3,
    "start_time": "2022-09-23T14:22:31.183Z"
   },
   {
    "duration": 6,
    "start_time": "2022-09-23T14:22:31.187Z"
   },
   {
    "duration": 3,
    "start_time": "2022-09-23T14:23:10.905Z"
   },
   {
    "duration": 170256,
    "start_time": "2022-09-23T14:23:13.755Z"
   },
   {
    "duration": 3,
    "start_time": "2022-09-23T14:26:04.013Z"
   },
   {
    "duration": 3,
    "start_time": "2022-09-23T14:27:03.636Z"
   },
   {
    "duration": 553000,
    "start_time": "2022-09-23T14:27:04.813Z"
   },
   {
    "duration": 3,
    "start_time": "2022-09-23T14:36:17.815Z"
   },
   {
    "duration": 3,
    "start_time": "2022-09-23T14:38:46.326Z"
   },
   {
    "duration": 488,
    "start_time": "2022-09-23T14:38:47.523Z"
   },
   {
    "duration": 4,
    "start_time": "2022-09-23T14:38:48.644Z"
   },
   {
    "duration": 3,
    "start_time": "2022-09-23T14:39:15.297Z"
   },
   {
    "duration": 322336,
    "start_time": "2022-09-23T14:39:22.773Z"
   },
   {
    "duration": 3,
    "start_time": "2022-09-23T14:44:45.111Z"
   },
   {
    "duration": 3,
    "start_time": "2022-09-23T14:45:20.946Z"
   },
   {
    "duration": 12997,
    "start_time": "2022-09-23T14:45:22.113Z"
   },
   {
    "duration": 8,
    "start_time": "2022-09-23T14:45:35.115Z"
   },
   {
    "duration": 4,
    "start_time": "2022-09-23T14:46:05.984Z"
   },
   {
    "duration": 39229,
    "start_time": "2022-09-23T14:46:07.481Z"
   },
   {
    "duration": 3,
    "start_time": "2022-09-23T14:46:46.713Z"
   },
   {
    "duration": 3,
    "start_time": "2022-09-23T14:46:54.833Z"
   },
   {
    "duration": 97099,
    "start_time": "2022-09-23T14:46:55.613Z"
   },
   {
    "duration": 4,
    "start_time": "2022-09-23T14:48:32.713Z"
   },
   {
    "duration": 1392,
    "start_time": "2022-09-23T14:49:59.269Z"
   },
   {
    "duration": 2,
    "start_time": "2022-09-23T14:50:00.664Z"
   },
   {
    "duration": 209,
    "start_time": "2022-09-23T14:50:00.668Z"
   },
   {
    "duration": 11,
    "start_time": "2022-09-23T14:50:00.879Z"
   },
   {
    "duration": 23,
    "start_time": "2022-09-23T14:50:00.892Z"
   },
   {
    "duration": 21,
    "start_time": "2022-09-23T14:50:00.916Z"
   },
   {
    "duration": 16,
    "start_time": "2022-09-23T14:50:00.939Z"
   },
   {
    "duration": 192,
    "start_time": "2022-09-23T14:50:00.956Z"
   },
   {
    "duration": 135,
    "start_time": "2022-09-23T14:50:01.150Z"
   },
   {
    "duration": 5309,
    "start_time": "2022-09-23T14:50:01.287Z"
   },
   {
    "duration": 17,
    "start_time": "2022-09-23T14:50:06.598Z"
   },
   {
    "duration": 15,
    "start_time": "2022-09-23T14:50:06.616Z"
   },
   {
    "duration": 13,
    "start_time": "2022-09-23T14:50:06.632Z"
   },
   {
    "duration": 12,
    "start_time": "2022-09-23T14:50:06.648Z"
   },
   {
    "duration": 8,
    "start_time": "2022-09-23T14:50:06.662Z"
   },
   {
    "duration": 38,
    "start_time": "2022-09-23T14:50:06.672Z"
   },
   {
    "duration": 45,
    "start_time": "2022-09-23T14:50:06.711Z"
   },
   {
    "duration": 5,
    "start_time": "2022-09-23T14:50:06.757Z"
   },
   {
    "duration": 10,
    "start_time": "2022-09-23T14:50:06.764Z"
   },
   {
    "duration": 5,
    "start_time": "2022-09-23T14:50:06.775Z"
   },
   {
    "duration": 35,
    "start_time": "2022-09-23T14:50:06.782Z"
   },
   {
    "duration": 329,
    "start_time": "2022-09-23T14:50:06.818Z"
   },
   {
    "duration": 7,
    "start_time": "2022-09-23T14:50:07.148Z"
   },
   {
    "duration": 11,
    "start_time": "2022-09-23T14:50:07.156Z"
   },
   {
    "duration": 7,
    "start_time": "2022-09-23T14:50:07.168Z"
   },
   {
    "duration": 33,
    "start_time": "2022-09-23T14:50:07.176Z"
   },
   {
    "duration": 336,
    "start_time": "2022-09-23T14:50:07.210Z"
   },
   {
    "duration": 11,
    "start_time": "2022-09-23T14:50:07.547Z"
   },
   {
    "duration": 10,
    "start_time": "2022-09-23T14:50:07.560Z"
   },
   {
    "duration": 10,
    "start_time": "2022-09-23T14:50:07.572Z"
   },
   {
    "duration": 32,
    "start_time": "2022-09-23T14:50:07.583Z"
   },
   {
    "duration": 6,
    "start_time": "2022-09-23T14:50:07.616Z"
   },
   {
    "duration": 7,
    "start_time": "2022-09-23T14:50:07.624Z"
   },
   {
    "duration": 30,
    "start_time": "2022-09-23T14:50:07.633Z"
   },
   {
    "duration": 181,
    "start_time": "2022-09-23T14:50:07.664Z"
   },
   {
    "duration": 14,
    "start_time": "2022-09-23T14:50:07.846Z"
   },
   {
    "duration": 10,
    "start_time": "2022-09-23T14:50:07.862Z"
   },
   {
    "duration": 11,
    "start_time": "2022-09-23T14:50:07.873Z"
   },
   {
    "duration": 4,
    "start_time": "2022-09-23T14:50:07.886Z"
   },
   {
    "duration": 20,
    "start_time": "2022-09-23T14:50:07.891Z"
   },
   {
    "duration": 14,
    "start_time": "2022-09-23T14:50:07.916Z"
   },
   {
    "duration": 5,
    "start_time": "2022-09-23T14:50:07.932Z"
   },
   {
    "duration": 9,
    "start_time": "2022-09-23T14:50:07.938Z"
   },
   {
    "duration": 9,
    "start_time": "2022-09-23T14:50:07.948Z"
   },
   {
    "duration": 5,
    "start_time": "2022-09-23T14:50:07.958Z"
   },
   {
    "duration": 50,
    "start_time": "2022-09-23T14:50:07.964Z"
   },
   {
    "duration": 7,
    "start_time": "2022-09-23T14:50:08.016Z"
   },
   {
    "duration": 14,
    "start_time": "2022-09-23T14:50:08.024Z"
   },
   {
    "duration": 6,
    "start_time": "2022-09-23T14:50:08.039Z"
   },
   {
    "duration": 8,
    "start_time": "2022-09-23T14:50:08.047Z"
   },
   {
    "duration": 4,
    "start_time": "2022-09-23T14:50:08.057Z"
   },
   {
    "duration": 4,
    "start_time": "2022-09-23T14:50:08.063Z"
   },
   {
    "duration": 7,
    "start_time": "2022-09-23T14:50:08.068Z"
   },
   {
    "duration": 4,
    "start_time": "2022-09-23T14:50:08.076Z"
   },
   {
    "duration": 3,
    "start_time": "2022-09-23T14:50:08.109Z"
   },
   {
    "duration": 4,
    "start_time": "2022-09-23T14:50:08.114Z"
   },
   {
    "duration": 5,
    "start_time": "2022-09-23T14:50:08.119Z"
   },
   {
    "duration": 7,
    "start_time": "2022-09-23T14:50:08.126Z"
   },
   {
    "duration": 7,
    "start_time": "2022-09-23T14:50:08.134Z"
   },
   {
    "duration": 6,
    "start_time": "2022-09-23T14:50:08.143Z"
   },
   {
    "duration": 7,
    "start_time": "2022-09-23T14:50:08.150Z"
   },
   {
    "duration": 9,
    "start_time": "2022-09-23T14:50:08.158Z"
   },
   {
    "duration": 40,
    "start_time": "2022-09-23T14:50:08.169Z"
   },
   {
    "duration": 9,
    "start_time": "2022-09-23T14:50:08.211Z"
   },
   {
    "duration": 9,
    "start_time": "2022-09-23T14:50:08.221Z"
   },
   {
    "duration": 12,
    "start_time": "2022-09-23T14:50:08.232Z"
   },
   {
    "duration": 8,
    "start_time": "2022-09-23T14:50:08.245Z"
   },
   {
    "duration": 8,
    "start_time": "2022-09-23T14:50:08.254Z"
   },
   {
    "duration": 6,
    "start_time": "2022-09-23T14:50:08.263Z"
   },
   {
    "duration": 7,
    "start_time": "2022-09-23T14:50:08.271Z"
   },
   {
    "duration": 10,
    "start_time": "2022-09-23T14:50:08.280Z"
   },
   {
    "duration": 4,
    "start_time": "2022-09-23T14:50:08.291Z"
   },
   {
    "duration": 3,
    "start_time": "2022-09-23T14:50:08.309Z"
   },
   {
    "duration": 7,
    "start_time": "2022-09-23T14:50:08.313Z"
   },
   {
    "duration": 6,
    "start_time": "2022-09-23T14:50:08.321Z"
   },
   {
    "duration": 8,
    "start_time": "2022-09-23T14:50:08.328Z"
   },
   {
    "duration": 30,
    "start_time": "2022-09-23T14:50:08.337Z"
   },
   {
    "duration": 4,
    "start_time": "2022-09-23T14:50:08.369Z"
   },
   {
    "duration": 8,
    "start_time": "2022-09-23T14:50:08.374Z"
   },
   {
    "duration": 41,
    "start_time": "2022-09-23T14:50:08.383Z"
   },
   {
    "duration": 8,
    "start_time": "2022-09-23T14:50:08.426Z"
   },
   {
    "duration": 11,
    "start_time": "2022-09-23T14:50:08.435Z"
   },
   {
    "duration": 14,
    "start_time": "2022-09-23T14:50:08.447Z"
   },
   {
    "duration": 9,
    "start_time": "2022-09-23T14:50:08.462Z"
   },
   {
    "duration": 8,
    "start_time": "2022-09-23T14:50:08.473Z"
   },
   {
    "duration": 30,
    "start_time": "2022-09-23T14:50:08.482Z"
   },
   {
    "duration": 5,
    "start_time": "2022-09-23T14:50:08.513Z"
   },
   {
    "duration": 4,
    "start_time": "2022-09-23T14:50:08.519Z"
   },
   {
    "duration": 11,
    "start_time": "2022-09-23T14:50:08.525Z"
   },
   {
    "duration": 12,
    "start_time": "2022-09-23T14:50:08.538Z"
   },
   {
    "duration": 9,
    "start_time": "2022-09-23T14:50:08.552Z"
   },
   {
    "duration": 7,
    "start_time": "2022-09-23T14:50:08.562Z"
   },
   {
    "duration": 41,
    "start_time": "2022-09-23T14:50:08.571Z"
   },
   {
    "duration": 7,
    "start_time": "2022-09-23T14:50:08.613Z"
   },
   {
    "duration": 18,
    "start_time": "2022-09-23T14:50:08.622Z"
   },
   {
    "duration": 10,
    "start_time": "2022-09-23T14:50:08.641Z"
   },
   {
    "duration": 5,
    "start_time": "2022-09-23T14:50:08.653Z"
   },
   {
    "duration": 20,
    "start_time": "2022-09-23T14:50:08.659Z"
   },
   {
    "duration": 32,
    "start_time": "2022-09-23T14:50:08.681Z"
   },
   {
    "duration": 5,
    "start_time": "2022-09-23T14:50:08.715Z"
   },
   {
    "duration": 18,
    "start_time": "2022-09-23T14:50:08.722Z"
   },
   {
    "duration": 3,
    "start_time": "2022-09-23T14:50:08.742Z"
   },
   {
    "duration": 42095,
    "start_time": "2022-09-23T14:50:08.747Z"
   },
   {
    "duration": 3,
    "start_time": "2022-09-23T14:50:50.844Z"
   },
   {
    "duration": 8,
    "start_time": "2022-09-23T14:50:50.848Z"
   },
   {
    "duration": 96160,
    "start_time": "2022-09-23T14:50:50.857Z"
   },
   {
    "duration": 95,
    "start_time": "2022-09-23T14:52:27.018Z"
   },
   {
    "duration": 2,
    "start_time": "2022-09-23T14:52:27.115Z"
   },
   {
    "duration": 4028,
    "start_time": "2022-09-23T14:52:27.119Z"
   },
   {
    "duration": 3,
    "start_time": "2022-09-23T14:52:31.149Z"
   },
   {
    "duration": 408,
    "start_time": "2022-09-23T14:52:31.153Z"
   },
   {
    "duration": 4,
    "start_time": "2022-09-23T14:52:31.562Z"
   },
   {
    "duration": 16,
    "start_time": "2022-09-23T14:52:31.568Z"
   },
   {
    "duration": 1573,
    "start_time": "2022-09-24T07:42:22.863Z"
   },
   {
    "duration": 2,
    "start_time": "2022-09-24T07:42:24.438Z"
   },
   {
    "duration": 446,
    "start_time": "2022-09-24T07:42:24.442Z"
   },
   {
    "duration": 12,
    "start_time": "2022-09-24T07:42:24.890Z"
   },
   {
    "duration": 21,
    "start_time": "2022-09-24T07:42:24.903Z"
   },
   {
    "duration": 13,
    "start_time": "2022-09-24T07:42:24.926Z"
   },
   {
    "duration": 23,
    "start_time": "2022-09-24T07:42:24.940Z"
   },
   {
    "duration": 197,
    "start_time": "2022-09-24T07:42:24.965Z"
   },
   {
    "duration": 130,
    "start_time": "2022-09-24T07:42:25.163Z"
   },
   {
    "duration": 6078,
    "start_time": "2022-09-24T07:42:25.296Z"
   },
   {
    "duration": 13,
    "start_time": "2022-09-24T07:42:31.376Z"
   },
   {
    "duration": 26,
    "start_time": "2022-09-24T07:42:31.391Z"
   },
   {
    "duration": 14,
    "start_time": "2022-09-24T07:42:31.419Z"
   },
   {
    "duration": 12,
    "start_time": "2022-09-24T07:42:31.435Z"
   },
   {
    "duration": 12,
    "start_time": "2022-09-24T07:42:31.448Z"
   },
   {
    "duration": 27,
    "start_time": "2022-09-24T07:42:31.462Z"
   },
   {
    "duration": 89,
    "start_time": "2022-09-24T07:42:31.490Z"
   },
   {
    "duration": 6,
    "start_time": "2022-09-24T07:42:31.580Z"
   },
   {
    "duration": 31,
    "start_time": "2022-09-24T07:42:31.588Z"
   },
   {
    "duration": 8,
    "start_time": "2022-09-24T07:42:31.621Z"
   },
   {
    "duration": 34,
    "start_time": "2022-09-24T07:42:31.633Z"
   },
   {
    "duration": 359,
    "start_time": "2022-09-24T07:42:31.669Z"
   },
   {
    "duration": 7,
    "start_time": "2022-09-24T07:42:32.033Z"
   },
   {
    "duration": 13,
    "start_time": "2022-09-24T07:42:32.041Z"
   },
   {
    "duration": 7,
    "start_time": "2022-09-24T07:42:32.056Z"
   },
   {
    "duration": 22,
    "start_time": "2022-09-24T07:42:32.065Z"
   },
   {
    "duration": 400,
    "start_time": "2022-09-24T07:42:32.088Z"
   },
   {
    "duration": 11,
    "start_time": "2022-09-24T07:42:32.493Z"
   },
   {
    "duration": 11,
    "start_time": "2022-09-24T07:42:32.506Z"
   },
   {
    "duration": 10,
    "start_time": "2022-09-24T07:42:32.533Z"
   },
   {
    "duration": 10,
    "start_time": "2022-09-24T07:42:32.546Z"
   },
   {
    "duration": 7,
    "start_time": "2022-09-24T07:42:32.558Z"
   },
   {
    "duration": 16,
    "start_time": "2022-09-24T07:42:32.566Z"
   },
   {
    "duration": 54,
    "start_time": "2022-09-24T07:42:32.584Z"
   },
   {
    "duration": 180,
    "start_time": "2022-09-24T07:42:32.640Z"
   },
   {
    "duration": 19,
    "start_time": "2022-09-24T07:42:32.821Z"
   },
   {
    "duration": 11,
    "start_time": "2022-09-24T07:42:32.841Z"
   },
   {
    "duration": 8,
    "start_time": "2022-09-24T07:42:32.854Z"
   },
   {
    "duration": 6,
    "start_time": "2022-09-24T07:42:32.864Z"
   },
   {
    "duration": 7,
    "start_time": "2022-09-24T07:42:32.871Z"
   },
   {
    "duration": 13,
    "start_time": "2022-09-24T07:42:32.880Z"
   },
   {
    "duration": 5,
    "start_time": "2022-09-24T07:42:32.895Z"
   },
   {
    "duration": 34,
    "start_time": "2022-09-24T07:42:32.902Z"
   },
   {
    "duration": 9,
    "start_time": "2022-09-24T07:42:32.937Z"
   },
   {
    "duration": 8,
    "start_time": "2022-09-24T07:42:32.947Z"
   },
   {
    "duration": 21,
    "start_time": "2022-09-24T07:42:32.957Z"
   },
   {
    "duration": 7,
    "start_time": "2022-09-24T07:42:32.980Z"
   },
   {
    "duration": 10,
    "start_time": "2022-09-24T07:42:32.989Z"
   },
   {
    "duration": 32,
    "start_time": "2022-09-24T07:42:33.001Z"
   },
   {
    "duration": 8,
    "start_time": "2022-09-24T07:42:33.035Z"
   },
   {
    "duration": 8,
    "start_time": "2022-09-24T07:42:33.044Z"
   },
   {
    "duration": 7,
    "start_time": "2022-09-24T07:42:33.054Z"
   },
   {
    "duration": 10,
    "start_time": "2022-09-24T07:42:33.063Z"
   },
   {
    "duration": 8,
    "start_time": "2022-09-24T07:42:33.075Z"
   },
   {
    "duration": 6,
    "start_time": "2022-09-24T07:42:33.084Z"
   },
   {
    "duration": 8,
    "start_time": "2022-09-24T07:42:33.091Z"
   },
   {
    "duration": 9,
    "start_time": "2022-09-24T07:42:33.100Z"
   },
   {
    "duration": 24,
    "start_time": "2022-09-24T07:42:33.110Z"
   },
   {
    "duration": 6,
    "start_time": "2022-09-24T07:42:33.135Z"
   },
   {
    "duration": 10,
    "start_time": "2022-09-24T07:42:33.142Z"
   },
   {
    "duration": 7,
    "start_time": "2022-09-24T07:42:33.153Z"
   },
   {
    "duration": 10,
    "start_time": "2022-09-24T07:42:33.161Z"
   },
   {
    "duration": 9,
    "start_time": "2022-09-24T07:42:33.173Z"
   },
   {
    "duration": 8,
    "start_time": "2022-09-24T07:42:33.184Z"
   },
   {
    "duration": 10,
    "start_time": "2022-09-24T07:42:33.193Z"
   },
   {
    "duration": 31,
    "start_time": "2022-09-24T07:42:33.205Z"
   },
   {
    "duration": 10,
    "start_time": "2022-09-24T07:42:33.237Z"
   },
   {
    "duration": 7,
    "start_time": "2022-09-24T07:42:33.248Z"
   },
   {
    "duration": 6,
    "start_time": "2022-09-24T07:42:33.257Z"
   },
   {
    "duration": 6,
    "start_time": "2022-09-24T07:42:33.265Z"
   },
   {
    "duration": 7,
    "start_time": "2022-09-24T07:42:33.272Z"
   },
   {
    "duration": 4,
    "start_time": "2022-09-24T07:42:33.280Z"
   },
   {
    "duration": 8,
    "start_time": "2022-09-24T07:42:33.286Z"
   },
   {
    "duration": 41,
    "start_time": "2022-09-24T07:42:33.295Z"
   },
   {
    "duration": 9,
    "start_time": "2022-09-24T07:42:33.337Z"
   },
   {
    "duration": 9,
    "start_time": "2022-09-24T07:42:33.347Z"
   },
   {
    "duration": 12,
    "start_time": "2022-09-24T07:42:33.357Z"
   },
   {
    "duration": 6,
    "start_time": "2022-09-24T07:42:33.370Z"
   },
   {
    "duration": 9,
    "start_time": "2022-09-24T07:42:33.378Z"
   },
   {
    "duration": 33,
    "start_time": "2022-09-24T07:42:33.388Z"
   },
   {
    "duration": 7,
    "start_time": "2022-09-24T07:42:33.433Z"
   },
   {
    "duration": 12,
    "start_time": "2022-09-24T07:42:33.446Z"
   },
   {
    "duration": 11,
    "start_time": "2022-09-24T07:42:33.459Z"
   },
   {
    "duration": 10,
    "start_time": "2022-09-24T07:42:33.472Z"
   },
   {
    "duration": 9,
    "start_time": "2022-09-24T07:42:33.483Z"
   },
   {
    "duration": 39,
    "start_time": "2022-09-24T07:42:33.494Z"
   },
   {
    "duration": 4,
    "start_time": "2022-09-24T07:42:33.535Z"
   },
   {
    "duration": 5,
    "start_time": "2022-09-24T07:42:33.541Z"
   },
   {
    "duration": 16,
    "start_time": "2022-09-24T07:42:33.548Z"
   },
   {
    "duration": 15,
    "start_time": "2022-09-24T07:42:33.565Z"
   },
   {
    "duration": 8,
    "start_time": "2022-09-24T07:42:33.582Z"
   },
   {
    "duration": 9,
    "start_time": "2022-09-24T07:42:33.592Z"
   },
   {
    "duration": 37,
    "start_time": "2022-09-24T07:42:33.602Z"
   },
   {
    "duration": 8,
    "start_time": "2022-09-24T07:42:33.641Z"
   },
   {
    "duration": 21,
    "start_time": "2022-09-24T07:42:33.650Z"
   },
   {
    "duration": 13,
    "start_time": "2022-09-24T07:42:33.672Z"
   },
   {
    "duration": 4,
    "start_time": "2022-09-24T07:42:43.982Z"
   }
  ],
  "kernelspec": {
   "display_name": "Python 3",
   "language": "python",
   "name": "python3"
  },
  "language_info": {
   "codemirror_mode": {
    "name": "ipython",
    "version": 3
   },
   "file_extension": ".py",
   "mimetype": "text/x-python",
   "name": "python",
   "nbconvert_exporter": "python",
   "pygments_lexer": "ipython3",
   "version": "3.7.1"
  },
  "toc": {
   "base_numbering": 1,
   "nav_menu": {
    "height": "419px",
    "width": "451px"
   },
   "number_sections": true,
   "sideBar": true,
   "skip_h1_title": true,
   "title_cell": "Table of Contents",
   "title_sidebar": "Contents",
   "toc_cell": false,
   "toc_position": {},
   "toc_section_display": true,
   "toc_window_display": false
  }
 },
 "nbformat": 4,
 "nbformat_minor": 2
}
