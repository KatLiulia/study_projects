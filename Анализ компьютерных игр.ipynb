{
 "cells": [
  {
   "cell_type": "code",
   "execution_count": 1,
   "metadata": {},
   "outputs": [],
   "source": [
    "import pandas as pd\n",
    "import seaborn as sns\n",
    "import matplotlib.pyplot as plt\n",
    "import numpy as np\n",
    "from scipy import stats as st"
   ]
  },
  {
   "cell_type": "markdown",
   "metadata": {},
   "source": [
    "# Сборный проект №1. Анализ компьютерных игр"
   ]
  },
  {
   "cell_type": "markdown",
   "metadata": {},
   "source": [
    "## Описание проекта\n",
    "\n",
    "Вы работаете в интернет-магазине, который продаёт по всему миру компьютерные игры. Из открытых источников доступны исторические данные о продажах игр, оценки пользователей и экспертов, жанры и платформы. Вам нужно выявить определяющие успешность игры закономерности. Это позволит сделать ставку на потенциально популярный продукт и спланировать рекламные кампании.\n",
    "\n",
    "Перед вами данные до 2016 года. Представим, что сейчас декабрь 2016 г., и вы планируете кампанию на 2017-й. Нужно отработать принцип работы с данными. Неважно, прогнозируете ли вы продажи на 2017 год по данным 2016-го или же 2027-й — по данным 2026 года."
   ]
  },
  {
   "cell_type": "markdown",
   "metadata": {},
   "source": [
    "### Описание данных\n",
    "\n",
    "-\t`Name` — название игры\n",
    "-\t`Platform` — платформа\n",
    "-\t`Year_of_Release` — год выпуска\n",
    "-\t`Genre` — жанр игры\n",
    "-\t`NA_sales` — продажи в Северной Америке (миллионы проданных копий)\n",
    "-\t`EU_sales` — продажи в Европе (миллионы проданных копий)\n",
    "-\t`JP_sales` — продажи в Японии (миллионы проданных копий)\n",
    "-\t`Other_sales` — продажи в других странах (миллионы проданных копий)\n",
    "-\t`Critic_Score` — оценка критиков (максимум 100)\n",
    "-\t`User_Score` — оценка пользователей (максимум 10)\n",
    "-\t`Rating` — рейтинг от организации ESRB. Эта ассоциация определяет рейтинг компьютерных игр и присваивает им подходящую возрастную категорию.\n",
    "\n",
    "Данные за 2016 год могут быть неполными.\n"
   ]
  },
  {
   "cell_type": "markdown",
   "metadata": {},
   "source": [
    "## Обзор данных"
   ]
  },
  {
   "cell_type": "code",
   "execution_count": 2,
   "metadata": {},
   "outputs": [],
   "source": [
    "df_games = pd.read_csv('/datasets/games.csv') "
   ]
  },
  {
   "cell_type": "code",
   "execution_count": 3,
   "metadata": {},
   "outputs": [
    {
     "data": {
      "text/html": [
       "<div>\n",
       "<style scoped>\n",
       "    .dataframe tbody tr th:only-of-type {\n",
       "        vertical-align: middle;\n",
       "    }\n",
       "\n",
       "    .dataframe tbody tr th {\n",
       "        vertical-align: top;\n",
       "    }\n",
       "\n",
       "    .dataframe thead th {\n",
       "        text-align: right;\n",
       "    }\n",
       "</style>\n",
       "<table border=\"1\" class=\"dataframe\">\n",
       "  <thead>\n",
       "    <tr style=\"text-align: right;\">\n",
       "      <th></th>\n",
       "      <th>Name</th>\n",
       "      <th>Platform</th>\n",
       "      <th>Year_of_Release</th>\n",
       "      <th>Genre</th>\n",
       "      <th>NA_sales</th>\n",
       "      <th>EU_sales</th>\n",
       "      <th>JP_sales</th>\n",
       "      <th>Other_sales</th>\n",
       "      <th>Critic_Score</th>\n",
       "      <th>User_Score</th>\n",
       "      <th>Rating</th>\n",
       "    </tr>\n",
       "  </thead>\n",
       "  <tbody>\n",
       "    <tr>\n",
       "      <th>0</th>\n",
       "      <td>Wii Sports</td>\n",
       "      <td>Wii</td>\n",
       "      <td>2006.0</td>\n",
       "      <td>Sports</td>\n",
       "      <td>41.36</td>\n",
       "      <td>28.96</td>\n",
       "      <td>3.77</td>\n",
       "      <td>8.45</td>\n",
       "      <td>76.0</td>\n",
       "      <td>8</td>\n",
       "      <td>E</td>\n",
       "    </tr>\n",
       "    <tr>\n",
       "      <th>1</th>\n",
       "      <td>Super Mario Bros.</td>\n",
       "      <td>NES</td>\n",
       "      <td>1985.0</td>\n",
       "      <td>Platform</td>\n",
       "      <td>29.08</td>\n",
       "      <td>3.58</td>\n",
       "      <td>6.81</td>\n",
       "      <td>0.77</td>\n",
       "      <td>NaN</td>\n",
       "      <td>NaN</td>\n",
       "      <td>NaN</td>\n",
       "    </tr>\n",
       "    <tr>\n",
       "      <th>2</th>\n",
       "      <td>Mario Kart Wii</td>\n",
       "      <td>Wii</td>\n",
       "      <td>2008.0</td>\n",
       "      <td>Racing</td>\n",
       "      <td>15.68</td>\n",
       "      <td>12.76</td>\n",
       "      <td>3.79</td>\n",
       "      <td>3.29</td>\n",
       "      <td>82.0</td>\n",
       "      <td>8.3</td>\n",
       "      <td>E</td>\n",
       "    </tr>\n",
       "    <tr>\n",
       "      <th>3</th>\n",
       "      <td>Wii Sports Resort</td>\n",
       "      <td>Wii</td>\n",
       "      <td>2009.0</td>\n",
       "      <td>Sports</td>\n",
       "      <td>15.61</td>\n",
       "      <td>10.93</td>\n",
       "      <td>3.28</td>\n",
       "      <td>2.95</td>\n",
       "      <td>80.0</td>\n",
       "      <td>8</td>\n",
       "      <td>E</td>\n",
       "    </tr>\n",
       "    <tr>\n",
       "      <th>4</th>\n",
       "      <td>Pokemon Red/Pokemon Blue</td>\n",
       "      <td>GB</td>\n",
       "      <td>1996.0</td>\n",
       "      <td>Role-Playing</td>\n",
       "      <td>11.27</td>\n",
       "      <td>8.89</td>\n",
       "      <td>10.22</td>\n",
       "      <td>1.00</td>\n",
       "      <td>NaN</td>\n",
       "      <td>NaN</td>\n",
       "      <td>NaN</td>\n",
       "    </tr>\n",
       "  </tbody>\n",
       "</table>\n",
       "</div>"
      ],
      "text/plain": [
       "                       Name Platform  Year_of_Release         Genre  NA_sales  \\\n",
       "0                Wii Sports      Wii           2006.0        Sports     41.36   \n",
       "1         Super Mario Bros.      NES           1985.0      Platform     29.08   \n",
       "2            Mario Kart Wii      Wii           2008.0        Racing     15.68   \n",
       "3         Wii Sports Resort      Wii           2009.0        Sports     15.61   \n",
       "4  Pokemon Red/Pokemon Blue       GB           1996.0  Role-Playing     11.27   \n",
       "\n",
       "   EU_sales  JP_sales  Other_sales  Critic_Score User_Score Rating  \n",
       "0     28.96      3.77         8.45          76.0          8      E  \n",
       "1      3.58      6.81         0.77           NaN        NaN    NaN  \n",
       "2     12.76      3.79         3.29          82.0        8.3      E  \n",
       "3     10.93      3.28         2.95          80.0          8      E  \n",
       "4      8.89     10.22         1.00           NaN        NaN    NaN  "
      ]
     },
     "execution_count": 3,
     "metadata": {},
     "output_type": "execute_result"
    }
   ],
   "source": [
    "df_games.head()"
   ]
  },
  {
   "cell_type": "code",
   "execution_count": 4,
   "metadata": {},
   "outputs": [
    {
     "name": "stdout",
     "output_type": "stream",
     "text": [
      "<class 'pandas.core.frame.DataFrame'>\n",
      "RangeIndex: 16715 entries, 0 to 16714\n",
      "Data columns (total 11 columns):\n",
      " #   Column           Non-Null Count  Dtype  \n",
      "---  ------           --------------  -----  \n",
      " 0   Name             16713 non-null  object \n",
      " 1   Platform         16715 non-null  object \n",
      " 2   Year_of_Release  16446 non-null  float64\n",
      " 3   Genre            16713 non-null  object \n",
      " 4   NA_sales         16715 non-null  float64\n",
      " 5   EU_sales         16715 non-null  float64\n",
      " 6   JP_sales         16715 non-null  float64\n",
      " 7   Other_sales      16715 non-null  float64\n",
      " 8   Critic_Score     8137 non-null   float64\n",
      " 9   User_Score       10014 non-null  object \n",
      " 10  Rating           9949 non-null   object \n",
      "dtypes: float64(6), object(5)\n",
      "memory usage: 1.4+ MB\n"
     ]
    }
   ],
   "source": [
    "df_games.info()"
   ]
  },
  {
   "cell_type": "code",
   "execution_count": 5,
   "metadata": {},
   "outputs": [
    {
     "data": {
      "text/plain": [
       "Name               0.000120\n",
       "Platform           0.000000\n",
       "Year_of_Release    0.016093\n",
       "Genre              0.000120\n",
       "NA_sales           0.000000\n",
       "EU_sales           0.000000\n",
       "JP_sales           0.000000\n",
       "Other_sales        0.000000\n",
       "Critic_Score       0.513192\n",
       "User_Score         0.400897\n",
       "Rating             0.404786\n",
       "dtype: float64"
      ]
     },
     "execution_count": 5,
     "metadata": {},
     "output_type": "execute_result"
    }
   ],
   "source": [
    "df_games.isna().mean()"
   ]
  },
  {
   "cell_type": "markdown",
   "metadata": {},
   "source": [
    "Предварительно можно сделать несколько выводов:\n",
    "\n",
    "- В столбцах `Critic_Score`, `User_Score`, `Rating` много пропусков;\n",
    "- Названия столбцов нужно привести к нижнему регистру;\n",
    "- В столбцах с категориальными переменными возможны неявные дубликаты; \n",
    "- Столбцы `Year_of_Release`, `User_Score`, `Critic_Score` можно попробовать привести в формат `int`;\n",
    "- Столбцы `User_Score` и `Critic_Score` можно привести к единой системе оценивания - по 100-балльной шкале."
   ]
  },
  {
   "cell_type": "markdown",
   "metadata": {},
   "source": [
    "## Предобработка данных"
   ]
  },
  {
   "cell_type": "markdown",
   "metadata": {},
   "source": [
    "Приведем названия столбцов к нижнему регистру:"
   ]
  },
  {
   "cell_type": "code",
   "execution_count": 6,
   "metadata": {},
   "outputs": [
    {
     "data": {
      "text/plain": [
       "Index(['Name', 'Platform', 'Year_of_Release', 'Genre', 'NA_sales', 'EU_sales',\n",
       "       'JP_sales', 'Other_sales', 'Critic_Score', 'User_Score', 'Rating'],\n",
       "      dtype='object')"
      ]
     },
     "execution_count": 6,
     "metadata": {},
     "output_type": "execute_result"
    }
   ],
   "source": [
    "df_games.columns"
   ]
  },
  {
   "cell_type": "code",
   "execution_count": 7,
   "metadata": {},
   "outputs": [],
   "source": [
    "df_games.columns =  df_games.columns.str.lower()"
   ]
  },
  {
   "cell_type": "markdown",
   "metadata": {},
   "source": [
    "Заполним небольшое количество пропусков в `name` как `unknown` и скорректируем некоторые названия:"
   ]
  },
  {
   "cell_type": "code",
   "execution_count": 8,
   "metadata": {},
   "outputs": [
    {
     "data": {
      "text/plain": [
       "name\n",
       " Beyblade Burst                1\n",
       " Fire Emblem Fates             1\n",
       " Frozen: Olaf's Quest          2\n",
       " Haikyu!! Cross Team Match!    1\n",
       " Tales of Xillia 2             1\n",
       "'98 Koshien                    1\n",
       ".hack//G.U. Vol.1//Rebirth     1\n",
       "Name: name, dtype: int64"
      ]
     },
     "execution_count": 8,
     "metadata": {},
     "output_type": "execute_result"
    }
   ],
   "source": [
    "df_games.groupby('name')['name'].count().head(7)"
   ]
  },
  {
   "cell_type": "code",
   "execution_count": 9,
   "metadata": {},
   "outputs": [],
   "source": [
    "df_games['name'] = df_games['name'].fillna('unknown')"
   ]
  },
  {
   "cell_type": "code",
   "execution_count": 10,
   "metadata": {},
   "outputs": [],
   "source": [
    "df_games['name'] = df_games['name'].replace(\n",
    "    [' Beyblade Burst', ' Fire Emblem Fates', \" Frozen: Olaf's Quest\", ' Haikyu!! Cross Team Match!', ' Tales of Xillia 2'], \n",
    "    ['Beyblade Burst', 'Fire Emblem Fates', \"Frozen: Olaf's Quest\", 'Haikyu!! Cross Team Match!', 'Tales of Xillia 2']) "
   ]
  },
  {
   "cell_type": "markdown",
   "metadata": {},
   "source": [
    "Многие названия игр выглядят как некорректно записанные, но это настоящие названия игр, что можно проверить через поиск в интернете."
   ]
  },
  {
   "cell_type": "code",
   "execution_count": 11,
   "metadata": {},
   "outputs": [
    {
     "data": {
      "text/plain": [
       "PS2     2161\n",
       "DS      2151\n",
       "PS3     1331\n",
       "Wii     1320\n",
       "X360    1262\n",
       "PSP     1209\n",
       "PS      1197\n",
       "PC       974\n",
       "XB       824\n",
       "GBA      822\n",
       "GC       556\n",
       "3DS      520\n",
       "PSV      430\n",
       "PS4      392\n",
       "N64      319\n",
       "XOne     247\n",
       "SNES     239\n",
       "SAT      173\n",
       "WiiU     147\n",
       "2600     133\n",
       "GB        98\n",
       "NES       98\n",
       "DC        52\n",
       "GEN       29\n",
       "NG        12\n",
       "SCD        6\n",
       "WS         6\n",
       "3DO        3\n",
       "TG16       2\n",
       "PCFX       1\n",
       "GG         1\n",
       "Name: platform, dtype: int64"
      ]
     },
     "execution_count": 11,
     "metadata": {},
     "output_type": "execute_result"
    }
   ],
   "source": [
    "df_games['platform'].value_counts() "
   ]
  },
  {
   "cell_type": "markdown",
   "metadata": {},
   "source": [
    "В столбце `genre`, как и в `name`, заполним строки с пропусками как `unknown`:"
   ]
  },
  {
   "cell_type": "code",
   "execution_count": 12,
   "metadata": {},
   "outputs": [
    {
     "data": {
      "text/html": [
       "<div>\n",
       "<style scoped>\n",
       "    .dataframe tbody tr th:only-of-type {\n",
       "        vertical-align: middle;\n",
       "    }\n",
       "\n",
       "    .dataframe tbody tr th {\n",
       "        vertical-align: top;\n",
       "    }\n",
       "\n",
       "    .dataframe thead th {\n",
       "        text-align: right;\n",
       "    }\n",
       "</style>\n",
       "<table border=\"1\" class=\"dataframe\">\n",
       "  <thead>\n",
       "    <tr style=\"text-align: right;\">\n",
       "      <th></th>\n",
       "      <th>name</th>\n",
       "      <th>platform</th>\n",
       "      <th>year_of_release</th>\n",
       "      <th>genre</th>\n",
       "      <th>na_sales</th>\n",
       "      <th>eu_sales</th>\n",
       "      <th>jp_sales</th>\n",
       "      <th>other_sales</th>\n",
       "      <th>critic_score</th>\n",
       "      <th>user_score</th>\n",
       "      <th>rating</th>\n",
       "    </tr>\n",
       "  </thead>\n",
       "  <tbody>\n",
       "    <tr>\n",
       "      <th>659</th>\n",
       "      <td>unknown</td>\n",
       "      <td>GEN</td>\n",
       "      <td>1993.0</td>\n",
       "      <td>NaN</td>\n",
       "      <td>1.78</td>\n",
       "      <td>0.53</td>\n",
       "      <td>0.00</td>\n",
       "      <td>0.08</td>\n",
       "      <td>NaN</td>\n",
       "      <td>NaN</td>\n",
       "      <td>NaN</td>\n",
       "    </tr>\n",
       "    <tr>\n",
       "      <th>14244</th>\n",
       "      <td>unknown</td>\n",
       "      <td>GEN</td>\n",
       "      <td>1993.0</td>\n",
       "      <td>NaN</td>\n",
       "      <td>0.00</td>\n",
       "      <td>0.00</td>\n",
       "      <td>0.03</td>\n",
       "      <td>0.00</td>\n",
       "      <td>NaN</td>\n",
       "      <td>NaN</td>\n",
       "      <td>NaN</td>\n",
       "    </tr>\n",
       "  </tbody>\n",
       "</table>\n",
       "</div>"
      ],
      "text/plain": [
       "          name platform  year_of_release genre  na_sales  eu_sales  jp_sales  \\\n",
       "659    unknown      GEN           1993.0   NaN      1.78      0.53      0.00   \n",
       "14244  unknown      GEN           1993.0   NaN      0.00      0.00      0.03   \n",
       "\n",
       "       other_sales  critic_score user_score rating  \n",
       "659           0.08           NaN        NaN    NaN  \n",
       "14244         0.00           NaN        NaN    NaN  "
      ]
     },
     "execution_count": 12,
     "metadata": {},
     "output_type": "execute_result"
    }
   ],
   "source": [
    "df_games[df_games['genre'].isna() == True]"
   ]
  },
  {
   "cell_type": "code",
   "execution_count": 13,
   "metadata": {},
   "outputs": [],
   "source": [
    "df_games['genre'] = df_games['genre'].fillna('unknown')"
   ]
  },
  {
   "cell_type": "markdown",
   "metadata": {},
   "source": [
    "Заполним пропуски в столбце с годом:"
   ]
  },
  {
   "cell_type": "code",
   "execution_count": 14,
   "metadata": {},
   "outputs": [],
   "source": [
    "df_games = df_games.fillna({'year_of_release' : df_games.groupby('name')['year_of_release'].transform('first')})"
   ]
  },
  {
   "cell_type": "code",
   "execution_count": 15,
   "metadata": {},
   "outputs": [
    {
     "data": {
      "text/plain": [
       "0.008734669458570146"
      ]
     },
     "execution_count": 15,
     "metadata": {},
     "output_type": "execute_result"
    }
   ],
   "source": [
    "df_games['year_of_release'].isna().mean()"
   ]
  },
  {
   "cell_type": "code",
   "execution_count": 16,
   "metadata": {},
   "outputs": [
    {
     "data": {
      "text/plain": [
       "0.4047861202512713"
      ]
     },
     "execution_count": 16,
     "metadata": {},
     "output_type": "execute_result"
    }
   ],
   "source": [
    "df_games['rating'].isna().mean()"
   ]
  },
  {
   "cell_type": "code",
   "execution_count": 17,
   "metadata": {},
   "outputs": [],
   "source": [
    "df_games['rating'] = df_games['rating'].replace('K-A', 'E')"
   ]
  },
  {
   "cell_type": "markdown",
   "metadata": {},
   "source": [
    "В столбце с рейтингом много пропусков, попробуем их заполнить через группировку по имени и по жанру: "
   ]
  },
  {
   "cell_type": "code",
   "execution_count": 18,
   "metadata": {},
   "outputs": [],
   "source": [
    "df_games = df_games.fillna({'rating' : df_games.groupby(['name'])['rating'].transform('first')})"
   ]
  },
  {
   "cell_type": "code",
   "execution_count": 19,
   "metadata": {},
   "outputs": [
    {
     "data": {
      "text/plain": [
       "0.37864193837870175"
      ]
     },
     "execution_count": 19,
     "metadata": {},
     "output_type": "execute_result"
    }
   ],
   "source": [
    "df_games['rating'].isna().mean()"
   ]
  },
  {
   "cell_type": "markdown",
   "metadata": {},
   "source": [
    "Оставшиеся заполним как `unknown`:"
   ]
  },
  {
   "cell_type": "code",
   "execution_count": 20,
   "metadata": {},
   "outputs": [],
   "source": [
    "df_games['rating'] = df_games['rating'].fillna('unknown')"
   ]
  },
  {
   "cell_type": "markdown",
   "metadata": {},
   "source": [
    "В столбце `user_score` присутствует аббревиатура `tbd`, которая означает, что оценка будет определена позднее. Вероятно, оценку в базе не обновили после анонса. \n",
    "\n",
    "Т.к. это значение ничего нам не говорит, переведем его в NaN, чтобы работать с ним как с другими пропусками:"
   ]
  },
  {
   "cell_type": "code",
   "execution_count": 21,
   "metadata": {},
   "outputs": [],
   "source": [
    "df_games['user_score'] = pd.to_numeric(df_games['user_score'], errors='coerce')"
   ]
  },
  {
   "cell_type": "code",
   "execution_count": 22,
   "metadata": {},
   "outputs": [
    {
     "data": {
      "text/plain": [
       "0.5459168411606342"
      ]
     },
     "execution_count": 22,
     "metadata": {},
     "output_type": "execute_result"
    }
   ],
   "source": [
    "df_games['user_score'].isna().mean()"
   ]
  },
  {
   "cell_type": "markdown",
   "metadata": {},
   "source": [
    "Приведем к 100-балльной системе:"
   ]
  },
  {
   "cell_type": "code",
   "execution_count": 23,
   "metadata": {},
   "outputs": [],
   "source": [
    "df_games['user_score'] = df_games['user_score'] * 10"
   ]
  },
  {
   "cell_type": "markdown",
   "metadata": {},
   "source": [
    "Заполним пропуски в столбце `critic_score`:"
   ]
  },
  {
   "cell_type": "code",
   "execution_count": 24,
   "metadata": {},
   "outputs": [],
   "source": [
    "df_games = df_games.fillna({'critic_score' : df_games.groupby(['name', 'year_of_release'])['critic_score'].transform('median')})\n",
    "df_games = df_games.fillna({'critic_score' : df_games.groupby(['name'])['critic_score'].transform('median')})"
   ]
  },
  {
   "cell_type": "markdown",
   "metadata": {},
   "source": [
    "Заполним пропуски в столбце `user_score`:"
   ]
  },
  {
   "cell_type": "code",
   "execution_count": 25,
   "metadata": {},
   "outputs": [],
   "source": [
    "df_games = df_games.fillna({'user_score' : df_games.groupby(['name', 'year_of_release'])['user_score'].transform('median')}) \n",
    "df_games = df_games.fillna({'user_score' : df_games.groupby('name')['user_score'].transform('median')}) "
   ]
  },
  {
   "cell_type": "markdown",
   "metadata": {},
   "source": [
    "Посчитаем суммарные продажи во всех регионах:"
   ]
  },
  {
   "cell_type": "code",
   "execution_count": 26,
   "metadata": {},
   "outputs": [],
   "source": [
    "df_games['all_sales'] = df_games[['na_sales', 'eu_sales', 'jp_sales', 'other_sales']].sum(axis=1)"
   ]
  },
  {
   "cell_type": "markdown",
   "metadata": {},
   "source": [
    "Дубликаты не обнаружены:"
   ]
  },
  {
   "cell_type": "code",
   "execution_count": 27,
   "metadata": {},
   "outputs": [
    {
     "data": {
      "text/plain": [
       "0"
      ]
     },
     "execution_count": 27,
     "metadata": {},
     "output_type": "execute_result"
    }
   ],
   "source": [
    "df_games.duplicated().sum()"
   ]
  },
  {
   "cell_type": "markdown",
   "metadata": {},
   "source": [
    "Проверим изменения:"
   ]
  },
  {
   "cell_type": "code",
   "execution_count": 28,
   "metadata": {},
   "outputs": [
    {
     "data": {
      "text/plain": [
       "name               0.000000\n",
       "platform           0.000000\n",
       "year_of_release    0.008735\n",
       "genre              0.000000\n",
       "na_sales           0.000000\n",
       "eu_sales           0.000000\n",
       "jp_sales           0.000000\n",
       "other_sales        0.000000\n",
       "critic_score       0.455698\n",
       "user_score         0.480168\n",
       "rating             0.000000\n",
       "all_sales          0.000000\n",
       "dtype: float64"
      ]
     },
     "execution_count": 28,
     "metadata": {},
     "output_type": "execute_result"
    }
   ],
   "source": [
    "df_games.isna().mean()"
   ]
  },
  {
   "cell_type": "code",
   "execution_count": 29,
   "metadata": {},
   "outputs": [
    {
     "name": "stdout",
     "output_type": "stream",
     "text": [
      "<class 'pandas.core.frame.DataFrame'>\n",
      "RangeIndex: 16715 entries, 0 to 16714\n",
      "Data columns (total 12 columns):\n",
      " #   Column           Non-Null Count  Dtype  \n",
      "---  ------           --------------  -----  \n",
      " 0   name             16715 non-null  object \n",
      " 1   platform         16715 non-null  object \n",
      " 2   year_of_release  16569 non-null  float64\n",
      " 3   genre            16715 non-null  object \n",
      " 4   na_sales         16715 non-null  float64\n",
      " 5   eu_sales         16715 non-null  float64\n",
      " 6   jp_sales         16715 non-null  float64\n",
      " 7   other_sales      16715 non-null  float64\n",
      " 8   critic_score     9098 non-null   float64\n",
      " 9   user_score       8689 non-null   float64\n",
      " 10  rating           16715 non-null  object \n",
      " 11  all_sales        16715 non-null  float64\n",
      "dtypes: float64(8), object(4)\n",
      "memory usage: 1.5+ MB\n"
     ]
    }
   ],
   "source": [
    "df_games.info()"
   ]
  },
  {
   "cell_type": "markdown",
   "metadata": {},
   "source": [
    "В столбцах с оценками `user_score` и `critic_score` осталось много пропусков, вероятно, в открытых источниках, откуда были взяты данные, не было информации о многих играх, либо она была закрытой.\n",
    "\n",
    "Скорее всего, по этой же причине были пропуски в столбце `rating`."
   ]
  },
  {
   "cell_type": "markdown",
   "metadata": {},
   "source": [
    "## Исследовательский анализ данных"
   ]
  },
  {
   "cell_type": "markdown",
   "metadata": {},
   "source": [
    "Посмотрим, сколько игр выпускалось в разные годы:"
   ]
  },
  {
   "cell_type": "code",
   "execution_count": 30,
   "metadata": {},
   "outputs": [
    {
     "data": {
      "text/plain": [
       "<AxesSubplot:>"
      ]
     },
     "execution_count": 30,
     "metadata": {},
     "output_type": "execute_result"
    },
    {
     "data": {
      "image/png": "[encoded data removed]",
      "text/plain": [
       "<Figure size 432x288 with 1 Axes>"
      ]
     },
     "metadata": {
      "needs_background": "light"
     },
     "output_type": "display_data"
    }
   ],
   "source": [
    "df_games['year_of_release'].hist()"
   ]
  },
  {
   "cell_type": "code",
   "execution_count": 31,
   "metadata": {},
   "outputs": [
    {
     "data": {
      "text/plain": [
       "<AxesSubplot:xlabel='year_of_release'>"
      ]
     },
     "execution_count": 31,
     "metadata": {},
     "output_type": "execute_result"
    },
    {
     "data": {
      "image/png": "[encoded data removed]",
      "text/plain": [
       "<Figure size 1080x360 with 1 Axes>"
      ]
     },
     "metadata": {
      "needs_background": "light"
     },
     "output_type": "display_data"
    }
   ],
   "source": [
    "df_games.pivot_table(\n",
    "    index='year_of_release', values='all_sales', aggfunc='count').plot(\n",
    "    kind='bar', figsize=(15, 5))"
   ]
  },
  {
   "cell_type": "markdown",
   "metadata": {},
   "source": [
    "По графику видно, что активный рост популярности видеоигр начался после 2000 года и продолжался до 2008 года, далее наблюдаем спад популярности, который останавливается к 2012-2013 годам.\n",
    "\n",
    "Для исследования нам будут нужны данные за актуальный период, возможно, период после 2011 года."
   ]
  },
  {
   "cell_type": "markdown",
   "metadata": {},
   "source": [
    "Найдем платформы с наибольшими суммарными продажами:"
   ]
  },
  {
   "cell_type": "code",
   "execution_count": 32,
   "metadata": {},
   "outputs": [
    {
     "data": {
      "text/html": [
       "<div>\n",
       "<style scoped>\n",
       "    .dataframe tbody tr th:only-of-type {\n",
       "        vertical-align: middle;\n",
       "    }\n",
       "\n",
       "    .dataframe tbody tr th {\n",
       "        vertical-align: top;\n",
       "    }\n",
       "\n",
       "    .dataframe thead th {\n",
       "        text-align: right;\n",
       "    }\n",
       "</style>\n",
       "<table border=\"1\" class=\"dataframe\">\n",
       "  <thead>\n",
       "    <tr style=\"text-align: right;\">\n",
       "      <th></th>\n",
       "      <th>platform</th>\n",
       "      <th>all_sales</th>\n",
       "    </tr>\n",
       "  </thead>\n",
       "  <tbody>\n",
       "    <tr>\n",
       "      <th>0</th>\n",
       "      <td>PS2</td>\n",
       "      <td>1255.77</td>\n",
       "    </tr>\n",
       "    <tr>\n",
       "      <th>1</th>\n",
       "      <td>X360</td>\n",
       "      <td>971.42</td>\n",
       "    </tr>\n",
       "    <tr>\n",
       "      <th>2</th>\n",
       "      <td>PS3</td>\n",
       "      <td>939.65</td>\n",
       "    </tr>\n",
       "    <tr>\n",
       "      <th>3</th>\n",
       "      <td>Wii</td>\n",
       "      <td>907.51</td>\n",
       "    </tr>\n",
       "    <tr>\n",
       "      <th>4</th>\n",
       "      <td>DS</td>\n",
       "      <td>806.12</td>\n",
       "    </tr>\n",
       "    <tr>\n",
       "      <th>5</th>\n",
       "      <td>PS</td>\n",
       "      <td>730.86</td>\n",
       "    </tr>\n",
       "    <tr>\n",
       "      <th>6</th>\n",
       "      <td>GBA</td>\n",
       "      <td>317.85</td>\n",
       "    </tr>\n",
       "    <tr>\n",
       "      <th>7</th>\n",
       "      <td>PS4</td>\n",
       "      <td>314.14</td>\n",
       "    </tr>\n",
       "    <tr>\n",
       "      <th>8</th>\n",
       "      <td>PSP</td>\n",
       "      <td>294.05</td>\n",
       "    </tr>\n",
       "    <tr>\n",
       "      <th>9</th>\n",
       "      <td>PC</td>\n",
       "      <td>259.52</td>\n",
       "    </tr>\n",
       "    <tr>\n",
       "      <th>10</th>\n",
       "      <td>3DS</td>\n",
       "      <td>259.00</td>\n",
       "    </tr>\n",
       "    <tr>\n",
       "      <th>11</th>\n",
       "      <td>XB</td>\n",
       "      <td>257.74</td>\n",
       "    </tr>\n",
       "    <tr>\n",
       "      <th>12</th>\n",
       "      <td>GB</td>\n",
       "      <td>255.46</td>\n",
       "    </tr>\n",
       "    <tr>\n",
       "      <th>13</th>\n",
       "      <td>NES</td>\n",
       "      <td>251.05</td>\n",
       "    </tr>\n",
       "    <tr>\n",
       "      <th>14</th>\n",
       "      <td>N64</td>\n",
       "      <td>218.68</td>\n",
       "    </tr>\n",
       "  </tbody>\n",
       "</table>\n",
       "</div>"
      ],
      "text/plain": [
       "   platform  all_sales\n",
       "0       PS2    1255.77\n",
       "1      X360     971.42\n",
       "2       PS3     939.65\n",
       "3       Wii     907.51\n",
       "4        DS     806.12\n",
       "5        PS     730.86\n",
       "6       GBA     317.85\n",
       "7       PS4     314.14\n",
       "8       PSP     294.05\n",
       "9        PC     259.52\n",
       "10      3DS     259.00\n",
       "11       XB     257.74\n",
       "12       GB     255.46\n",
       "13      NES     251.05\n",
       "14      N64     218.68"
      ]
     },
     "execution_count": 32,
     "metadata": {},
     "output_type": "execute_result"
    }
   ],
   "source": [
    "df_games.pivot_table(\n",
    "    index='platform', values='all_sales', aggfunc='sum').sort_values(\n",
    "    by='all_sales', ascending=False).reset_index().head(15)"
   ]
  },
  {
   "cell_type": "code",
   "execution_count": 33,
   "metadata": {},
   "outputs": [],
   "source": [
    "top_platform = df_games.query(\"platform == ['PS2', 'X360', 'PS3', 'Wii', 'DS', 'PS']\")"
   ]
  },
  {
   "cell_type": "code",
   "execution_count": 34,
   "metadata": {},
   "outputs": [],
   "source": [
    "top_platform = top_platform.dropna(subset=['year_of_release']).reset_index(drop=True)\n",
    "top_platform['year_of_release'] = top_platform['year_of_release'].astype('int')"
   ]
  },
  {
   "cell_type": "markdown",
   "metadata": {},
   "source": [
    "Построим распределение по годам:"
   ]
  },
  {
   "cell_type": "code",
   "execution_count": 35,
   "metadata": {},
   "outputs": [
    {
     "data": {
      "text/plain": [
       "<AxesSubplot:xlabel='year_of_release'>"
      ]
     },
     "execution_count": 35,
     "metadata": {},
     "output_type": "execute_result"
    },
    {
     "data": {
      "image/png": "[encoded data removed]",
      "text/plain": [
       "<Figure size 1080x360 with 1 Axes>"
      ]
     },
     "metadata": {
      "needs_background": "light"
     },
     "output_type": "display_data"
    }
   ],
   "source": [
    "top_platform.pivot_table(\n",
    "    index='year_of_release', columns='platform', values='all_sales', aggfunc='sum').plot(\n",
    "    kind='bar', figsize=(15, 5))"
   ]
  },
  {
   "cell_type": "code",
   "execution_count": 36,
   "metadata": {},
   "outputs": [
    {
     "data": {
      "text/plain": [
       "<AxesSubplot:xlabel='year_of_release'>"
      ]
     },
     "execution_count": 36,
     "metadata": {},
     "output_type": "execute_result"
    },
    {
     "data": {
      "image/png": "[encoded data removed]",
      "text/plain": [
       "<Figure size 1080x360 with 1 Axes>"
      ]
     },
     "metadata": {
      "needs_background": "light"
     },
     "output_type": "display_data"
    }
   ],
   "source": [
    "top_platform.pivot_table(\n",
    "    index='year_of_release', columns='platform', values='all_sales', aggfunc='sum').plot(\n",
    "    kind='line', figsize=(15, 5), grid=True, linewidth=3)"
   ]
  },
  {
   "cell_type": "markdown",
   "metadata": {},
   "source": [
    "По графику можем наблюдать некоторый цикл \"жизни\" платформы - пика популярности платформа достигает примерно на 4-6 год выпуска, далее ее популярность начинает снижаться, после чего на замену приходит другая платформа и за 1-2 года достигает своего пика."
   ]
  },
  {
   "cell_type": "markdown",
   "metadata": {},
   "source": [
    "Для дальнейшего исследования возьмем данные за период после 2011 года, т.е. за последние 6 лет, включая 2016 год."
   ]
  },
  {
   "cell_type": "code",
   "execution_count": 37,
   "metadata": {},
   "outputs": [],
   "source": [
    "actual_games = df_games.query(\"year_of_release >= 2011\").reset_index(drop=True)\n",
    "actual_games['year_of_release'] = actual_games['year_of_release'].astype('int')"
   ]
  },
  {
   "cell_type": "code",
   "execution_count": 38,
   "metadata": {},
   "outputs": [
    {
     "data": {
      "text/html": [
       "<div>\n",
       "<style scoped>\n",
       "    .dataframe tbody tr th:only-of-type {\n",
       "        vertical-align: middle;\n",
       "    }\n",
       "\n",
       "    .dataframe tbody tr th {\n",
       "        vertical-align: top;\n",
       "    }\n",
       "\n",
       "    .dataframe thead th {\n",
       "        text-align: right;\n",
       "    }\n",
       "</style>\n",
       "<table border=\"1\" class=\"dataframe\">\n",
       "  <thead>\n",
       "    <tr style=\"text-align: right;\">\n",
       "      <th></th>\n",
       "      <th>name</th>\n",
       "      <th>platform</th>\n",
       "      <th>year_of_release</th>\n",
       "      <th>genre</th>\n",
       "      <th>na_sales</th>\n",
       "      <th>eu_sales</th>\n",
       "      <th>jp_sales</th>\n",
       "      <th>other_sales</th>\n",
       "      <th>critic_score</th>\n",
       "      <th>user_score</th>\n",
       "      <th>rating</th>\n",
       "      <th>all_sales</th>\n",
       "    </tr>\n",
       "  </thead>\n",
       "  <tbody>\n",
       "    <tr>\n",
       "      <th>0</th>\n",
       "      <td>Grand Theft Auto V</td>\n",
       "      <td>PS3</td>\n",
       "      <td>2013</td>\n",
       "      <td>Action</td>\n",
       "      <td>7.02</td>\n",
       "      <td>9.09</td>\n",
       "      <td>0.98</td>\n",
       "      <td>3.96</td>\n",
       "      <td>97.0</td>\n",
       "      <td>82.0</td>\n",
       "      <td>M</td>\n",
       "      <td>21.05</td>\n",
       "    </tr>\n",
       "    <tr>\n",
       "      <th>1</th>\n",
       "      <td>Grand Theft Auto V</td>\n",
       "      <td>X360</td>\n",
       "      <td>2013</td>\n",
       "      <td>Action</td>\n",
       "      <td>9.66</td>\n",
       "      <td>5.14</td>\n",
       "      <td>0.06</td>\n",
       "      <td>1.41</td>\n",
       "      <td>97.0</td>\n",
       "      <td>81.0</td>\n",
       "      <td>M</td>\n",
       "      <td>16.27</td>\n",
       "    </tr>\n",
       "    <tr>\n",
       "      <th>2</th>\n",
       "      <td>Call of Duty: Modern Warfare 3</td>\n",
       "      <td>X360</td>\n",
       "      <td>2011</td>\n",
       "      <td>Shooter</td>\n",
       "      <td>9.04</td>\n",
       "      <td>4.24</td>\n",
       "      <td>0.13</td>\n",
       "      <td>1.32</td>\n",
       "      <td>88.0</td>\n",
       "      <td>34.0</td>\n",
       "      <td>M</td>\n",
       "      <td>14.73</td>\n",
       "    </tr>\n",
       "    <tr>\n",
       "      <th>3</th>\n",
       "      <td>Call of Duty: Black Ops 3</td>\n",
       "      <td>PS4</td>\n",
       "      <td>2015</td>\n",
       "      <td>Shooter</td>\n",
       "      <td>6.03</td>\n",
       "      <td>5.86</td>\n",
       "      <td>0.36</td>\n",
       "      <td>2.38</td>\n",
       "      <td>NaN</td>\n",
       "      <td>NaN</td>\n",
       "      <td>unknown</td>\n",
       "      <td>14.63</td>\n",
       "    </tr>\n",
       "    <tr>\n",
       "      <th>4</th>\n",
       "      <td>Pokemon X/Pokemon Y</td>\n",
       "      <td>3DS</td>\n",
       "      <td>2013</td>\n",
       "      <td>Role-Playing</td>\n",
       "      <td>5.28</td>\n",
       "      <td>4.19</td>\n",
       "      <td>4.35</td>\n",
       "      <td>0.78</td>\n",
       "      <td>NaN</td>\n",
       "      <td>NaN</td>\n",
       "      <td>unknown</td>\n",
       "      <td>14.60</td>\n",
       "    </tr>\n",
       "  </tbody>\n",
       "</table>\n",
       "</div>"
      ],
      "text/plain": [
       "                             name platform  year_of_release         genre  \\\n",
       "0              Grand Theft Auto V      PS3             2013        Action   \n",
       "1              Grand Theft Auto V     X360             2013        Action   \n",
       "2  Call of Duty: Modern Warfare 3     X360             2011       Shooter   \n",
       "3       Call of Duty: Black Ops 3      PS4             2015       Shooter   \n",
       "4             Pokemon X/Pokemon Y      3DS             2013  Role-Playing   \n",
       "\n",
       "   na_sales  eu_sales  jp_sales  other_sales  critic_score  user_score  \\\n",
       "0      7.02      9.09      0.98         3.96          97.0        82.0   \n",
       "1      9.66      5.14      0.06         1.41          97.0        81.0   \n",
       "2      9.04      4.24      0.13         1.32          88.0        34.0   \n",
       "3      6.03      5.86      0.36         2.38           NaN         NaN   \n",
       "4      5.28      4.19      4.35         0.78           NaN         NaN   \n",
       "\n",
       "    rating  all_sales  \n",
       "0        M      21.05  \n",
       "1        M      16.27  \n",
       "2        M      14.73  \n",
       "3  unknown      14.63  \n",
       "4  unknown      14.60  "
      ]
     },
     "execution_count": 38,
     "metadata": {},
     "output_type": "execute_result"
    }
   ],
   "source": [
    "actual_games.head()"
   ]
  },
  {
   "cell_type": "markdown",
   "metadata": {},
   "source": [
    "Определим, какие платформы лидируют по продажам и выберем несколько потенциально прибыльных платформ:"
   ]
  },
  {
   "cell_type": "code",
   "execution_count": 39,
   "metadata": {},
   "outputs": [
    {
     "data": {
      "text/html": [
       "<div>\n",
       "<style scoped>\n",
       "    .dataframe tbody tr th:only-of-type {\n",
       "        vertical-align: middle;\n",
       "    }\n",
       "\n",
       "    .dataframe tbody tr th {\n",
       "        vertical-align: top;\n",
       "    }\n",
       "\n",
       "    .dataframe thead th {\n",
       "        text-align: right;\n",
       "    }\n",
       "</style>\n",
       "<table border=\"1\" class=\"dataframe\">\n",
       "  <thead>\n",
       "    <tr style=\"text-align: right;\">\n",
       "      <th></th>\n",
       "      <th>platform</th>\n",
       "      <th>all_sales</th>\n",
       "    </tr>\n",
       "  </thead>\n",
       "  <tbody>\n",
       "    <tr>\n",
       "      <th>0</th>\n",
       "      <td>PS3</td>\n",
       "      <td>447.69</td>\n",
       "    </tr>\n",
       "    <tr>\n",
       "      <th>1</th>\n",
       "      <td>X360</td>\n",
       "      <td>382.75</td>\n",
       "    </tr>\n",
       "    <tr>\n",
       "      <th>2</th>\n",
       "      <td>PS4</td>\n",
       "      <td>314.14</td>\n",
       "    </tr>\n",
       "    <tr>\n",
       "      <th>3</th>\n",
       "      <td>3DS</td>\n",
       "      <td>258.21</td>\n",
       "    </tr>\n",
       "    <tr>\n",
       "      <th>4</th>\n",
       "      <td>XOne</td>\n",
       "      <td>159.32</td>\n",
       "    </tr>\n",
       "    <tr>\n",
       "      <th>5</th>\n",
       "      <td>PC</td>\n",
       "      <td>98.67</td>\n",
       "    </tr>\n",
       "    <tr>\n",
       "      <th>6</th>\n",
       "      <td>Wii</td>\n",
       "      <td>96.39</td>\n",
       "    </tr>\n",
       "    <tr>\n",
       "      <th>7</th>\n",
       "      <td>WiiU</td>\n",
       "      <td>82.19</td>\n",
       "    </tr>\n",
       "    <tr>\n",
       "      <th>8</th>\n",
       "      <td>PSV</td>\n",
       "      <td>53.81</td>\n",
       "    </tr>\n",
       "    <tr>\n",
       "      <th>9</th>\n",
       "      <td>DS</td>\n",
       "      <td>39.54</td>\n",
       "    </tr>\n",
       "    <tr>\n",
       "      <th>10</th>\n",
       "      <td>PSP</td>\n",
       "      <td>29.51</td>\n",
       "    </tr>\n",
       "    <tr>\n",
       "      <th>11</th>\n",
       "      <td>PS2</td>\n",
       "      <td>0.45</td>\n",
       "    </tr>\n",
       "  </tbody>\n",
       "</table>\n",
       "</div>"
      ],
      "text/plain": [
       "   platform  all_sales\n",
       "0       PS3     447.69\n",
       "1      X360     382.75\n",
       "2       PS4     314.14\n",
       "3       3DS     258.21\n",
       "4      XOne     159.32\n",
       "5        PC      98.67\n",
       "6       Wii      96.39\n",
       "7      WiiU      82.19\n",
       "8       PSV      53.81\n",
       "9        DS      39.54\n",
       "10      PSP      29.51\n",
       "11      PS2       0.45"
      ]
     },
     "execution_count": 39,
     "metadata": {},
     "output_type": "execute_result"
    }
   ],
   "source": [
    "actual_games.pivot_table(\n",
    "    index='platform', values='all_sales', aggfunc='sum').sort_values(\n",
    "    by='all_sales', ascending=False).reset_index()"
   ]
  },
  {
   "cell_type": "code",
   "execution_count": 40,
   "metadata": {},
   "outputs": [
    {
     "data": {
      "text/plain": [
       "name               0.000000\n",
       "platform           0.000000\n",
       "year_of_release    0.000000\n",
       "genre              0.000000\n",
       "na_sales           0.000000\n",
       "eu_sales           0.000000\n",
       "jp_sales           0.000000\n",
       "other_sales        0.000000\n",
       "critic_score       0.441017\n",
       "user_score         0.422261\n",
       "rating             0.000000\n",
       "all_sales          0.000000\n",
       "dtype: float64"
      ]
     },
     "execution_count": 40,
     "metadata": {},
     "output_type": "execute_result"
    }
   ],
   "source": [
    "actual_games.isna().mean()"
   ]
  },
  {
   "cell_type": "code",
   "execution_count": 41,
   "metadata": {},
   "outputs": [
    {
     "data": {
      "image/png": "[encoded data removed]",
      "text/plain": [
       "<Figure size 1080x360 with 1 Axes>"
      ]
     },
     "metadata": {
      "needs_background": "light"
     },
     "output_type": "display_data"
    }
   ],
   "source": [
    "actual_games.pivot_table(\n",
    "    index='year_of_release', columns='platform', values='all_sales', aggfunc='sum').plot(\n",
    "    kind='bar', figsize=(15, 5), stacked=False,)\n",
    "\n",
    "plt.xticks(rotation=0)"
   ]
  },
  {
   "cell_type": "code",
   "execution_count": 42,
   "metadata": {},
   "outputs": [],
   "source": [
    "top_actual_games = actual_games.query(\"platform == ['PS3', 'X360', 'PS4', '3DS', 'XOne']\").reset_index(drop=True)"
   ]
  },
  {
   "cell_type": "code",
   "execution_count": 43,
   "metadata": {},
   "outputs": [
    {
     "data": {
      "text/html": [
       "<div>\n",
       "<style scoped>\n",
       "    .dataframe tbody tr th:only-of-type {\n",
       "        vertical-align: middle;\n",
       "    }\n",
       "\n",
       "    .dataframe tbody tr th {\n",
       "        vertical-align: top;\n",
       "    }\n",
       "\n",
       "    .dataframe thead th {\n",
       "        text-align: right;\n",
       "    }\n",
       "</style>\n",
       "<table border=\"1\" class=\"dataframe\">\n",
       "  <thead>\n",
       "    <tr style=\"text-align: right;\">\n",
       "      <th></th>\n",
       "      <th>name</th>\n",
       "      <th>platform</th>\n",
       "      <th>year_of_release</th>\n",
       "      <th>genre</th>\n",
       "      <th>na_sales</th>\n",
       "      <th>eu_sales</th>\n",
       "      <th>jp_sales</th>\n",
       "      <th>other_sales</th>\n",
       "      <th>critic_score</th>\n",
       "      <th>user_score</th>\n",
       "      <th>rating</th>\n",
       "      <th>all_sales</th>\n",
       "    </tr>\n",
       "  </thead>\n",
       "  <tbody>\n",
       "    <tr>\n",
       "      <th>0</th>\n",
       "      <td>Grand Theft Auto V</td>\n",
       "      <td>PS3</td>\n",
       "      <td>2013</td>\n",
       "      <td>Action</td>\n",
       "      <td>7.02</td>\n",
       "      <td>9.09</td>\n",
       "      <td>0.98</td>\n",
       "      <td>3.96</td>\n",
       "      <td>97.0</td>\n",
       "      <td>82.0</td>\n",
       "      <td>M</td>\n",
       "      <td>21.05</td>\n",
       "    </tr>\n",
       "    <tr>\n",
       "      <th>1</th>\n",
       "      <td>Grand Theft Auto V</td>\n",
       "      <td>X360</td>\n",
       "      <td>2013</td>\n",
       "      <td>Action</td>\n",
       "      <td>9.66</td>\n",
       "      <td>5.14</td>\n",
       "      <td>0.06</td>\n",
       "      <td>1.41</td>\n",
       "      <td>97.0</td>\n",
       "      <td>81.0</td>\n",
       "      <td>M</td>\n",
       "      <td>16.27</td>\n",
       "    </tr>\n",
       "    <tr>\n",
       "      <th>2</th>\n",
       "      <td>Call of Duty: Modern Warfare 3</td>\n",
       "      <td>X360</td>\n",
       "      <td>2011</td>\n",
       "      <td>Shooter</td>\n",
       "      <td>9.04</td>\n",
       "      <td>4.24</td>\n",
       "      <td>0.13</td>\n",
       "      <td>1.32</td>\n",
       "      <td>88.0</td>\n",
       "      <td>34.0</td>\n",
       "      <td>M</td>\n",
       "      <td>14.73</td>\n",
       "    </tr>\n",
       "    <tr>\n",
       "      <th>3</th>\n",
       "      <td>Call of Duty: Black Ops 3</td>\n",
       "      <td>PS4</td>\n",
       "      <td>2015</td>\n",
       "      <td>Shooter</td>\n",
       "      <td>6.03</td>\n",
       "      <td>5.86</td>\n",
       "      <td>0.36</td>\n",
       "      <td>2.38</td>\n",
       "      <td>NaN</td>\n",
       "      <td>NaN</td>\n",
       "      <td>unknown</td>\n",
       "      <td>14.63</td>\n",
       "    </tr>\n",
       "    <tr>\n",
       "      <th>4</th>\n",
       "      <td>Pokemon X/Pokemon Y</td>\n",
       "      <td>3DS</td>\n",
       "      <td>2013</td>\n",
       "      <td>Role-Playing</td>\n",
       "      <td>5.28</td>\n",
       "      <td>4.19</td>\n",
       "      <td>4.35</td>\n",
       "      <td>0.78</td>\n",
       "      <td>NaN</td>\n",
       "      <td>NaN</td>\n",
       "      <td>unknown</td>\n",
       "      <td>14.60</td>\n",
       "    </tr>\n",
       "  </tbody>\n",
       "</table>\n",
       "</div>"
      ],
      "text/plain": [
       "                             name platform  year_of_release         genre  \\\n",
       "0              Grand Theft Auto V      PS3             2013        Action   \n",
       "1              Grand Theft Auto V     X360             2013        Action   \n",
       "2  Call of Duty: Modern Warfare 3     X360             2011       Shooter   \n",
       "3       Call of Duty: Black Ops 3      PS4             2015       Shooter   \n",
       "4             Pokemon X/Pokemon Y      3DS             2013  Role-Playing   \n",
       "\n",
       "   na_sales  eu_sales  jp_sales  other_sales  critic_score  user_score  \\\n",
       "0      7.02      9.09      0.98         3.96          97.0        82.0   \n",
       "1      9.66      5.14      0.06         1.41          97.0        81.0   \n",
       "2      9.04      4.24      0.13         1.32          88.0        34.0   \n",
       "3      6.03      5.86      0.36         2.38           NaN         NaN   \n",
       "4      5.28      4.19      4.35         0.78           NaN         NaN   \n",
       "\n",
       "    rating  all_sales  \n",
       "0        M      21.05  \n",
       "1        M      16.27  \n",
       "2        M      14.73  \n",
       "3  unknown      14.63  \n",
       "4  unknown      14.60  "
      ]
     },
     "execution_count": 43,
     "metadata": {},
     "output_type": "execute_result"
    }
   ],
   "source": [
    "top_actual_games.head()"
   ]
  },
  {
   "cell_type": "markdown",
   "metadata": {},
   "source": [
    "Построим график «ящик с усами» по глобальным продажам игр в разбивке по платформам:"
   ]
  },
  {
   "cell_type": "code",
   "execution_count": 44,
   "metadata": {},
   "outputs": [
    {
     "data": {
      "text/plain": [
       "[(0.0, 2.0)]"
      ]
     },
     "execution_count": 44,
     "metadata": {},
     "output_type": "execute_result"
    },
    {
     "data": {
      "image/png": "[encoded data removed]",
      "text/plain": [
       "<Figure size 432x288 with 1 Axes>"
      ]
     },
     "metadata": {
      "needs_background": "light"
     },
     "output_type": "display_data"
    }
   ],
   "source": [
    "sns.boxplot(\n",
    "    data=top_actual_games, x='all_sales', y='platform').set(\n",
    "    xlim=(0, 2))"
   ]
  },
  {
   "cell_type": "markdown",
   "metadata": {},
   "source": [
    "По графику видно, что нормальные значения у большинства платформ схожи - примерно до 1,7 млн проданных копий, для платформы 3DS - до 0,8 млн.\n",
    "\n",
    "Наиболее частые значения находятся в диапазоне от 0,05 до 0,80 млн копий, для платформы 3DS - примерно до 0,35 млн. \n",
    "\n",
    "Также видим, что медианы стремятся влево - в сторону уменьшения."
   ]
  },
  {
   "cell_type": "markdown",
   "metadata": {},
   "source": [
    "Посмотрим, как влияют на продажи внутри одной популярной платформы отзывы пользователей и критиков. "
   ]
  },
  {
   "cell_type": "code",
   "execution_count": 45,
   "metadata": {},
   "outputs": [],
   "source": [
    "ps_3 = actual_games.query(\"platform == ['PS3']\").reset_index(drop=True)"
   ]
  },
  {
   "cell_type": "code",
   "execution_count": 46,
   "metadata": {},
   "outputs": [
    {
     "data": {
      "text/html": [
       "<div>\n",
       "<style scoped>\n",
       "    .dataframe tbody tr th:only-of-type {\n",
       "        vertical-align: middle;\n",
       "    }\n",
       "\n",
       "    .dataframe tbody tr th {\n",
       "        vertical-align: top;\n",
       "    }\n",
       "\n",
       "    .dataframe thead th {\n",
       "        text-align: right;\n",
       "    }\n",
       "</style>\n",
       "<table border=\"1\" class=\"dataframe\">\n",
       "  <thead>\n",
       "    <tr style=\"text-align: right;\">\n",
       "      <th></th>\n",
       "      <th>name</th>\n",
       "      <th>platform</th>\n",
       "      <th>year_of_release</th>\n",
       "      <th>genre</th>\n",
       "      <th>na_sales</th>\n",
       "      <th>eu_sales</th>\n",
       "      <th>jp_sales</th>\n",
       "      <th>other_sales</th>\n",
       "      <th>critic_score</th>\n",
       "      <th>user_score</th>\n",
       "      <th>rating</th>\n",
       "      <th>all_sales</th>\n",
       "    </tr>\n",
       "  </thead>\n",
       "  <tbody>\n",
       "    <tr>\n",
       "      <th>0</th>\n",
       "      <td>Grand Theft Auto V</td>\n",
       "      <td>PS3</td>\n",
       "      <td>2013</td>\n",
       "      <td>Action</td>\n",
       "      <td>7.02</td>\n",
       "      <td>9.09</td>\n",
       "      <td>0.98</td>\n",
       "      <td>3.96</td>\n",
       "      <td>97.0</td>\n",
       "      <td>82.0</td>\n",
       "      <td>M</td>\n",
       "      <td>21.05</td>\n",
       "    </tr>\n",
       "    <tr>\n",
       "      <th>1</th>\n",
       "      <td>Call of Duty: Black Ops II</td>\n",
       "      <td>PS3</td>\n",
       "      <td>2012</td>\n",
       "      <td>Shooter</td>\n",
       "      <td>4.99</td>\n",
       "      <td>5.73</td>\n",
       "      <td>0.65</td>\n",
       "      <td>2.42</td>\n",
       "      <td>83.0</td>\n",
       "      <td>53.0</td>\n",
       "      <td>M</td>\n",
       "      <td>13.79</td>\n",
       "    </tr>\n",
       "    <tr>\n",
       "      <th>2</th>\n",
       "      <td>Call of Duty: Modern Warfare 3</td>\n",
       "      <td>PS3</td>\n",
       "      <td>2011</td>\n",
       "      <td>Shooter</td>\n",
       "      <td>5.54</td>\n",
       "      <td>5.73</td>\n",
       "      <td>0.49</td>\n",
       "      <td>1.57</td>\n",
       "      <td>88.0</td>\n",
       "      <td>32.0</td>\n",
       "      <td>M</td>\n",
       "      <td>13.33</td>\n",
       "    </tr>\n",
       "  </tbody>\n",
       "</table>\n",
       "</div>"
      ],
      "text/plain": [
       "                             name platform  year_of_release    genre  \\\n",
       "0              Grand Theft Auto V      PS3             2013   Action   \n",
       "1      Call of Duty: Black Ops II      PS3             2012  Shooter   \n",
       "2  Call of Duty: Modern Warfare 3      PS3             2011  Shooter   \n",
       "\n",
       "   na_sales  eu_sales  jp_sales  other_sales  critic_score  user_score rating  \\\n",
       "0      7.02      9.09      0.98         3.96          97.0        82.0      M   \n",
       "1      4.99      5.73      0.65         2.42          83.0        53.0      M   \n",
       "2      5.54      5.73      0.49         1.57          88.0        32.0      M   \n",
       "\n",
       "   all_sales  \n",
       "0      21.05  \n",
       "1      13.79  \n",
       "2      13.33  "
      ]
     },
     "execution_count": 46,
     "metadata": {},
     "output_type": "execute_result"
    }
   ],
   "source": [
    "ps_3.head(3)"
   ]
  },
  {
   "cell_type": "markdown",
   "metadata": {},
   "source": [
    "Построим диаграмму рассеяния и посчитаем корреляцию между отзывами и продажами:"
   ]
  },
  {
   "cell_type": "code",
   "execution_count": 47,
   "metadata": {},
   "outputs": [
    {
     "data": {
      "text/html": [
       "<div>\n",
       "<style scoped>\n",
       "    .dataframe tbody tr th:only-of-type {\n",
       "        vertical-align: middle;\n",
       "    }\n",
       "\n",
       "    .dataframe tbody tr th {\n",
       "        vertical-align: top;\n",
       "    }\n",
       "\n",
       "    .dataframe thead th {\n",
       "        text-align: right;\n",
       "    }\n",
       "</style>\n",
       "<table border=\"1\" class=\"dataframe\">\n",
       "  <thead>\n",
       "    <tr style=\"text-align: right;\">\n",
       "      <th></th>\n",
       "      <th>user_score</th>\n",
       "      <th>critic_score</th>\n",
       "      <th>all_sales</th>\n",
       "    </tr>\n",
       "  </thead>\n",
       "  <tbody>\n",
       "    <tr>\n",
       "      <th>user_score</th>\n",
       "      <td>1.000000</td>\n",
       "      <td>0.454992</td>\n",
       "      <td>0.027082</td>\n",
       "    </tr>\n",
       "    <tr>\n",
       "      <th>critic_score</th>\n",
       "      <td>0.454992</td>\n",
       "      <td>1.000000</td>\n",
       "      <td>0.348412</td>\n",
       "    </tr>\n",
       "    <tr>\n",
       "      <th>all_sales</th>\n",
       "      <td>0.027082</td>\n",
       "      <td>0.348412</td>\n",
       "      <td>1.000000</td>\n",
       "    </tr>\n",
       "  </tbody>\n",
       "</table>\n",
       "</div>"
      ],
      "text/plain": [
       "              user_score  critic_score  all_sales\n",
       "user_score      1.000000      0.454992   0.027082\n",
       "critic_score    0.454992      1.000000   0.348412\n",
       "all_sales       0.027082      0.348412   1.000000"
      ]
     },
     "execution_count": 47,
     "metadata": {},
     "output_type": "execute_result"
    }
   ],
   "source": [
    "ps_3[['user_score', 'critic_score', 'all_sales']].corr()"
   ]
  },
  {
   "cell_type": "code",
   "execution_count": 48,
   "metadata": {},
   "outputs": [
    {
     "data": {
      "text/plain": [
       "<AxesSubplot:xlabel='user_score', ylabel='all_sales'>"
      ]
     },
     "execution_count": 48,
     "metadata": {},
     "output_type": "execute_result"
    },
    {
     "data": {
      "image/png": "[encoded data removed]",
      "text/plain": [
       "<Figure size 432x288 with 1 Axes>"
      ]
     },
     "metadata": {
      "needs_background": "light"
     },
     "output_type": "display_data"
    },
    {
     "data": {
      "image/png": "[encoded data removed]",
      "text/plain": [
       "<Figure size 432x288 with 1 Axes>"
      ]
     },
     "metadata": {
      "needs_background": "light"
     },
     "output_type": "display_data"
    }
   ],
   "source": [
    "ps_3.plot(x='critic_score', y='all_sales', kind='scatter')\n",
    "ps_3.plot(x='user_score', y='all_sales', kind='scatter')"
   ]
  },
  {
   "cell_type": "markdown",
   "metadata": {},
   "source": [
    "Значительная корреляция с оценкой критиков не обнаружена, с оценкой пользователей корреляции нет. По графикам заметна некоторая зависимость - с увеличением оценки число продаж несколько увеличивается. Большинство проданных игр были с оценками выше среднего."
   ]
  },
  {
   "cell_type": "markdown",
   "metadata": {},
   "source": [
    "Посмотрим, как влияют на продажи отзывы пользователей и критиков для остальных платформ: "
   ]
  },
  {
   "cell_type": "code",
   "execution_count": 49,
   "metadata": {},
   "outputs": [],
   "source": [
    "top_without_ps3 = actual_games.query(\"platform == ['X360', 'PS4', '3DS', 'XOne']\").reset_index(drop=True)"
   ]
  },
  {
   "cell_type": "code",
   "execution_count": 50,
   "metadata": {},
   "outputs": [
    {
     "data": {
      "text/html": [
       "<div>\n",
       "<style scoped>\n",
       "    .dataframe tbody tr th:only-of-type {\n",
       "        vertical-align: middle;\n",
       "    }\n",
       "\n",
       "    .dataframe tbody tr th {\n",
       "        vertical-align: top;\n",
       "    }\n",
       "\n",
       "    .dataframe thead th {\n",
       "        text-align: right;\n",
       "    }\n",
       "</style>\n",
       "<table border=\"1\" class=\"dataframe\">\n",
       "  <thead>\n",
       "    <tr style=\"text-align: right;\">\n",
       "      <th></th>\n",
       "      <th>user_score</th>\n",
       "      <th>critic_score</th>\n",
       "      <th>all_sales</th>\n",
       "    </tr>\n",
       "  </thead>\n",
       "  <tbody>\n",
       "    <tr>\n",
       "      <th>user_score</th>\n",
       "      <td>1.000000</td>\n",
       "      <td>0.503959</td>\n",
       "      <td>0.044226</td>\n",
       "    </tr>\n",
       "    <tr>\n",
       "      <th>critic_score</th>\n",
       "      <td>0.503959</td>\n",
       "      <td>1.000000</td>\n",
       "      <td>0.353993</td>\n",
       "    </tr>\n",
       "    <tr>\n",
       "      <th>all_sales</th>\n",
       "      <td>0.044226</td>\n",
       "      <td>0.353993</td>\n",
       "      <td>1.000000</td>\n",
       "    </tr>\n",
       "  </tbody>\n",
       "</table>\n",
       "</div>"
      ],
      "text/plain": [
       "              user_score  critic_score  all_sales\n",
       "user_score      1.000000      0.503959   0.044226\n",
       "critic_score    0.503959      1.000000   0.353993\n",
       "all_sales       0.044226      0.353993   1.000000"
      ]
     },
     "execution_count": 50,
     "metadata": {},
     "output_type": "execute_result"
    }
   ],
   "source": [
    "top_without_ps3[['user_score', 'critic_score', 'all_sales']].corr()"
   ]
  },
  {
   "cell_type": "code",
   "execution_count": 51,
   "metadata": {},
   "outputs": [
    {
     "data": {
      "text/plain": [
       "<AxesSubplot:xlabel='user_score', ylabel='all_sales'>"
      ]
     },
     "execution_count": 51,
     "metadata": {},
     "output_type": "execute_result"
    },
    {
     "data": {
      "image/png": "[encoded data removed]",
      "text/plain": [
       "<Figure size 432x288 with 1 Axes>"
      ]
     },
     "metadata": {
      "needs_background": "light"
     },
     "output_type": "display_data"
    },
    {
     "data": {
      "image/png": "[encoded data removed]",
      "text/plain": [
       "<Figure size 432x288 with 1 Axes>"
      ]
     },
     "metadata": {
      "needs_background": "light"
     },
     "output_type": "display_data"
    }
   ],
   "source": [
    "top_without_ps3.plot(x='critic_score', y='all_sales', kind='scatter')\n",
    "top_without_ps3.plot(x='user_score', y='all_sales', kind='scatter')"
   ]
  },
  {
   "cell_type": "markdown",
   "metadata": {},
   "source": [
    "По анализу остальных 4 платформ можно увидеть примерно ту же картину:\n",
    "\n",
    "С оценкой пользователей также корреляции нет, с оценкой критиков небольшая корреляция. По графикам, особенно с оценками критиков, заметна некоторая зависимость - с увеличением оценки число продаж увеличивается. Также большинство проданных игр с оценками выше среднего."
   ]
  },
  {
   "cell_type": "markdown",
   "metadata": {},
   "source": [
    "Посмотрим на общее распределение игр по жанрам. "
   ]
  },
  {
   "cell_type": "code",
   "execution_count": 52,
   "metadata": {},
   "outputs": [
    {
     "data": {
      "text/plain": [
       "<AxesSubplot:xlabel='genre'>"
      ]
     },
     "execution_count": 52,
     "metadata": {},
     "output_type": "execute_result"
    },
    {
     "data": {
      "image/png": "[encoded data removed]",
      "text/plain": [
       "<Figure size 504x288 with 1 Axes>"
      ]
     },
     "metadata": {
      "needs_background": "light"
     },
     "output_type": "display_data"
    }
   ],
   "source": [
    "actual_games.pivot_table(\n",
    "    index='genre', values='all_sales', aggfunc='median').sort_values(\n",
    "    by='all_sales', ascending=False).plot(\n",
    "    kind='bar', figsize=(7, 4))"
   ]
  },
  {
   "cell_type": "markdown",
   "metadata": {},
   "source": [
    "- Наиболее прибыльные жанры связаны с активными действиями пользователя в игре - жанры `Shooter`, `Platform` и `Sports`. \n",
    "- Наименее прибыльные: `Adventure`, `Puzzle` и `Strategy`."
   ]
  },
  {
   "cell_type": "markdown",
   "metadata": {},
   "source": [
    "## Портрет пользователя каждого региона"
   ]
  },
  {
   "cell_type": "markdown",
   "metadata": {},
   "source": [
    "### Определим для пользователя каждого региона (NA, EU, JP) самые популярные платформы (топ-5):"
   ]
  },
  {
   "cell_type": "code",
   "execution_count": 53,
   "metadata": {},
   "outputs": [
    {
     "data": {
      "text/html": [
       "<div>\n",
       "<style scoped>\n",
       "    .dataframe tbody tr th:only-of-type {\n",
       "        vertical-align: middle;\n",
       "    }\n",
       "\n",
       "    .dataframe tbody tr th {\n",
       "        vertical-align: top;\n",
       "    }\n",
       "\n",
       "    .dataframe thead th {\n",
       "        text-align: right;\n",
       "    }\n",
       "</style>\n",
       "<table border=\"1\" class=\"dataframe\">\n",
       "  <thead>\n",
       "    <tr style=\"text-align: right;\">\n",
       "      <th></th>\n",
       "      <th>na_sales</th>\n",
       "    </tr>\n",
       "    <tr>\n",
       "      <th>platform</th>\n",
       "      <th></th>\n",
       "    </tr>\n",
       "  </thead>\n",
       "  <tbody>\n",
       "    <tr>\n",
       "      <th>X360</th>\n",
       "      <td>228.18</td>\n",
       "    </tr>\n",
       "    <tr>\n",
       "      <th>PS3</th>\n",
       "      <td>168.96</td>\n",
       "    </tr>\n",
       "    <tr>\n",
       "      <th>PS4</th>\n",
       "      <td>108.74</td>\n",
       "    </tr>\n",
       "    <tr>\n",
       "      <th>XOne</th>\n",
       "      <td>93.12</td>\n",
       "    </tr>\n",
       "    <tr>\n",
       "      <th>3DS</th>\n",
       "      <td>82.83</td>\n",
       "    </tr>\n",
       "  </tbody>\n",
       "</table>\n",
       "</div>"
      ],
      "text/plain": [
       "          na_sales\n",
       "platform          \n",
       "X360        228.18\n",
       "PS3         168.96\n",
       "PS4         108.74\n",
       "XOne         93.12\n",
       "3DS          82.83"
      ]
     },
     "execution_count": 53,
     "metadata": {},
     "output_type": "execute_result"
    }
   ],
   "source": [
    "actual_games.pivot_table(\n",
    "    index='platform', values='na_sales', aggfunc='sum').sort_values(\n",
    "    by='na_sales', ascending=False).head()"
   ]
  },
  {
   "cell_type": "code",
   "execution_count": 54,
   "metadata": {},
   "outputs": [
    {
     "data": {
      "text/html": [
       "<div>\n",
       "<style scoped>\n",
       "    .dataframe tbody tr th:only-of-type {\n",
       "        vertical-align: middle;\n",
       "    }\n",
       "\n",
       "    .dataframe tbody tr th {\n",
       "        vertical-align: top;\n",
       "    }\n",
       "\n",
       "    .dataframe thead th {\n",
       "        text-align: right;\n",
       "    }\n",
       "</style>\n",
       "<table border=\"1\" class=\"dataframe\">\n",
       "  <thead>\n",
       "    <tr style=\"text-align: right;\">\n",
       "      <th></th>\n",
       "      <th>eu_sales</th>\n",
       "    </tr>\n",
       "    <tr>\n",
       "      <th>platform</th>\n",
       "      <th></th>\n",
       "    </tr>\n",
       "  </thead>\n",
       "  <tbody>\n",
       "    <tr>\n",
       "      <th>PS3</th>\n",
       "      <td>164.15</td>\n",
       "    </tr>\n",
       "    <tr>\n",
       "      <th>PS4</th>\n",
       "      <td>141.09</td>\n",
       "    </tr>\n",
       "    <tr>\n",
       "      <th>X360</th>\n",
       "      <td>117.87</td>\n",
       "    </tr>\n",
       "    <tr>\n",
       "      <th>3DS</th>\n",
       "      <td>61.46</td>\n",
       "    </tr>\n",
       "    <tr>\n",
       "      <th>PC</th>\n",
       "      <td>57.38</td>\n",
       "    </tr>\n",
       "  </tbody>\n",
       "</table>\n",
       "</div>"
      ],
      "text/plain": [
       "          eu_sales\n",
       "platform          \n",
       "PS3         164.15\n",
       "PS4         141.09\n",
       "X360        117.87\n",
       "3DS          61.46\n",
       "PC           57.38"
      ]
     },
     "execution_count": 54,
     "metadata": {},
     "output_type": "execute_result"
    }
   ],
   "source": [
    "actual_games.pivot_table(\n",
    "    index='platform', values='eu_sales', aggfunc='sum').sort_values(\n",
    "    by='eu_sales', ascending=False).head()"
   ]
  },
  {
   "cell_type": "code",
   "execution_count": 55,
   "metadata": {},
   "outputs": [
    {
     "data": {
      "text/html": [
       "<div>\n",
       "<style scoped>\n",
       "    .dataframe tbody tr th:only-of-type {\n",
       "        vertical-align: middle;\n",
       "    }\n",
       "\n",
       "    .dataframe tbody tr th {\n",
       "        vertical-align: top;\n",
       "    }\n",
       "\n",
       "    .dataframe thead th {\n",
       "        text-align: right;\n",
       "    }\n",
       "</style>\n",
       "<table border=\"1\" class=\"dataframe\">\n",
       "  <thead>\n",
       "    <tr style=\"text-align: right;\">\n",
       "      <th></th>\n",
       "      <th>jp_sales</th>\n",
       "    </tr>\n",
       "    <tr>\n",
       "      <th>platform</th>\n",
       "      <th></th>\n",
       "    </tr>\n",
       "  </thead>\n",
       "  <tbody>\n",
       "    <tr>\n",
       "      <th>3DS</th>\n",
       "      <td>100.62</td>\n",
       "    </tr>\n",
       "    <tr>\n",
       "      <th>PS3</th>\n",
       "      <td>49.40</td>\n",
       "    </tr>\n",
       "    <tr>\n",
       "      <th>PSP</th>\n",
       "      <td>24.28</td>\n",
       "    </tr>\n",
       "    <tr>\n",
       "      <th>PSV</th>\n",
       "      <td>21.84</td>\n",
       "    </tr>\n",
       "    <tr>\n",
       "      <th>PS4</th>\n",
       "      <td>15.96</td>\n",
       "    </tr>\n",
       "  </tbody>\n",
       "</table>\n",
       "</div>"
      ],
      "text/plain": [
       "          jp_sales\n",
       "platform          \n",
       "3DS         100.62\n",
       "PS3          49.40\n",
       "PSP          24.28\n",
       "PSV          21.84\n",
       "PS4          15.96"
      ]
     },
     "execution_count": 55,
     "metadata": {},
     "output_type": "execute_result"
    }
   ],
   "source": [
    "actual_games.pivot_table(\n",
    "    index='platform', values='jp_sales', aggfunc='sum').sort_values(\n",
    "    by='jp_sales', ascending=False).head()"
   ]
  },
  {
   "cell_type": "markdown",
   "metadata": {},
   "source": [
    "Во всех исследуемых регионах схожий топ-5 по платформам, но есть некоторые различия: \n",
    "- в Америке в топ попала платформа XOne; \n",
    "- в Европе - PC;\n",
    "- в Японии - PSP и PSV, а на 1 место вышла платформа 3DS.\n",
    "\n",
    "Также можно заметить, что объем продаж среди популярных платформ больше всего в Северной Америке, а наименьший в Японии. Но стоит учесть, что население Японии в 4-5 раз меньше населения и Северной Америки, и Европы. Если посмотреть с такой стороны, то получается, что в Японии видеоигры все-таки популярнее, чем в Северной Америке или Европе."
   ]
  },
  {
   "cell_type": "markdown",
   "metadata": {},
   "source": [
    "### Самые популярные жанры (топ-5):"
   ]
  },
  {
   "cell_type": "code",
   "execution_count": 56,
   "metadata": {},
   "outputs": [
    {
     "data": {
      "text/html": [
       "<div>\n",
       "<style scoped>\n",
       "    .dataframe tbody tr th:only-of-type {\n",
       "        vertical-align: middle;\n",
       "    }\n",
       "\n",
       "    .dataframe tbody tr th {\n",
       "        vertical-align: top;\n",
       "    }\n",
       "\n",
       "    .dataframe thead th {\n",
       "        text-align: right;\n",
       "    }\n",
       "</style>\n",
       "<table border=\"1\" class=\"dataframe\">\n",
       "  <thead>\n",
       "    <tr style=\"text-align: right;\">\n",
       "      <th></th>\n",
       "      <th>na_sales</th>\n",
       "    </tr>\n",
       "    <tr>\n",
       "      <th>genre</th>\n",
       "      <th></th>\n",
       "    </tr>\n",
       "  </thead>\n",
       "  <tbody>\n",
       "    <tr>\n",
       "      <th>Action</th>\n",
       "      <td>234.41</td>\n",
       "    </tr>\n",
       "    <tr>\n",
       "      <th>Shooter</th>\n",
       "      <td>194.45</td>\n",
       "    </tr>\n",
       "    <tr>\n",
       "      <th>Sports</th>\n",
       "      <td>108.70</td>\n",
       "    </tr>\n",
       "    <tr>\n",
       "      <th>Role-Playing</th>\n",
       "      <td>83.78</td>\n",
       "    </tr>\n",
       "    <tr>\n",
       "      <th>Misc</th>\n",
       "      <td>69.81</td>\n",
       "    </tr>\n",
       "  </tbody>\n",
       "</table>\n",
       "</div>"
      ],
      "text/plain": [
       "              na_sales\n",
       "genre                 \n",
       "Action          234.41\n",
       "Shooter         194.45\n",
       "Sports          108.70\n",
       "Role-Playing     83.78\n",
       "Misc             69.81"
      ]
     },
     "execution_count": 56,
     "metadata": {},
     "output_type": "execute_result"
    }
   ],
   "source": [
    "actual_games.pivot_table(\n",
    "    index='genre', values='na_sales', aggfunc='sum').sort_values(\n",
    "    by='na_sales', ascending=False).head()"
   ]
  },
  {
   "cell_type": "code",
   "execution_count": 57,
   "metadata": {},
   "outputs": [
    {
     "data": {
      "text/html": [
       "<div>\n",
       "<style scoped>\n",
       "    .dataframe tbody tr th:only-of-type {\n",
       "        vertical-align: middle;\n",
       "    }\n",
       "\n",
       "    .dataframe tbody tr th {\n",
       "        vertical-align: top;\n",
       "    }\n",
       "\n",
       "    .dataframe thead th {\n",
       "        text-align: right;\n",
       "    }\n",
       "</style>\n",
       "<table border=\"1\" class=\"dataframe\">\n",
       "  <thead>\n",
       "    <tr style=\"text-align: right;\">\n",
       "      <th></th>\n",
       "      <th>eu_sales</th>\n",
       "    </tr>\n",
       "    <tr>\n",
       "      <th>genre</th>\n",
       "      <th></th>\n",
       "    </tr>\n",
       "  </thead>\n",
       "  <tbody>\n",
       "    <tr>\n",
       "      <th>Action</th>\n",
       "      <td>202.17</td>\n",
       "    </tr>\n",
       "    <tr>\n",
       "      <th>Shooter</th>\n",
       "      <td>148.05</td>\n",
       "    </tr>\n",
       "    <tr>\n",
       "      <th>Sports</th>\n",
       "      <td>88.67</td>\n",
       "    </tr>\n",
       "    <tr>\n",
       "      <th>Role-Playing</th>\n",
       "      <td>62.30</td>\n",
       "    </tr>\n",
       "    <tr>\n",
       "      <th>Racing</th>\n",
       "      <td>40.58</td>\n",
       "    </tr>\n",
       "  </tbody>\n",
       "</table>\n",
       "</div>"
      ],
      "text/plain": [
       "              eu_sales\n",
       "genre                 \n",
       "Action          202.17\n",
       "Shooter         148.05\n",
       "Sports           88.67\n",
       "Role-Playing     62.30\n",
       "Racing           40.58"
      ]
     },
     "execution_count": 57,
     "metadata": {},
     "output_type": "execute_result"
    }
   ],
   "source": [
    "actual_games.pivot_table(\n",
    "    index='genre', values='eu_sales', aggfunc='sum').sort_values(\n",
    "    by='eu_sales', ascending=False).head()"
   ]
  },
  {
   "cell_type": "code",
   "execution_count": 58,
   "metadata": {},
   "outputs": [
    {
     "data": {
      "text/html": [
       "<div>\n",
       "<style scoped>\n",
       "    .dataframe tbody tr th:only-of-type {\n",
       "        vertical-align: middle;\n",
       "    }\n",
       "\n",
       "    .dataframe tbody tr th {\n",
       "        vertical-align: top;\n",
       "    }\n",
       "\n",
       "    .dataframe thead th {\n",
       "        text-align: right;\n",
       "    }\n",
       "</style>\n",
       "<table border=\"1\" class=\"dataframe\">\n",
       "  <thead>\n",
       "    <tr style=\"text-align: right;\">\n",
       "      <th></th>\n",
       "      <th>jp_sales</th>\n",
       "    </tr>\n",
       "    <tr>\n",
       "      <th>genre</th>\n",
       "      <th></th>\n",
       "    </tr>\n",
       "  </thead>\n",
       "  <tbody>\n",
       "    <tr>\n",
       "      <th>Role-Playing</th>\n",
       "      <td>79.87</td>\n",
       "    </tr>\n",
       "    <tr>\n",
       "      <th>Action</th>\n",
       "      <td>63.63</td>\n",
       "    </tr>\n",
       "    <tr>\n",
       "      <th>Misc</th>\n",
       "      <td>17.85</td>\n",
       "    </tr>\n",
       "    <tr>\n",
       "      <th>Fighting</th>\n",
       "      <td>12.38</td>\n",
       "    </tr>\n",
       "    <tr>\n",
       "      <th>Platform</th>\n",
       "      <td>12.13</td>\n",
       "    </tr>\n",
       "  </tbody>\n",
       "</table>\n",
       "</div>"
      ],
      "text/plain": [
       "              jp_sales\n",
       "genre                 \n",
       "Role-Playing     79.87\n",
       "Action           63.63\n",
       "Misc             17.85\n",
       "Fighting         12.38\n",
       "Platform         12.13"
      ]
     },
     "execution_count": 58,
     "metadata": {},
     "output_type": "execute_result"
    }
   ],
   "source": [
    "actual_games.pivot_table(\n",
    "    index='genre', values='jp_sales', aggfunc='sum').sort_values(\n",
    "    by='jp_sales', ascending=False).head()"
   ]
  },
  {
   "cell_type": "markdown",
   "metadata": {},
   "source": [
    "Топ жанров в Европе и Северной Америке очень схожи, но есть некоторые отличия - в Америке в топе присутствует жанр `Misc`, а в Европе - `Racing`.\n",
    "\n",
    "В Японии топ жанров заметно отличается - на 1 месте жанр `Role-Playing`, который менее популярен в других регионах, также в топе присутствуют жанры `Fighting` и `Platform`, которые в топ других регионов не попали.\n",
    "\n",
    "Различия в жанровых предпочтениях могут быть связаны с культурными особенностями регионов."
   ]
  },
  {
   "cell_type": "markdown",
   "metadata": {},
   "source": [
    "### Определим, влияет ли рейтинг ESRB на продажи в отдельном регионе:"
   ]
  },
  {
   "cell_type": "code",
   "execution_count": 59,
   "metadata": {},
   "outputs": [
    {
     "data": {
      "text/plain": [
       "<AxesSubplot:xlabel='rating'>"
      ]
     },
     "execution_count": 59,
     "metadata": {},
     "output_type": "execute_result"
    },
    {
     "data": {
      "image/png": "[encoded data removed]",
      "text/plain": [
       "<Figure size 360x216 with 1 Axes>"
      ]
     },
     "metadata": {
      "needs_background": "light"
     },
     "output_type": "display_data"
    },
    {
     "data": {
      "image/png": "[encoded data removed]",
      "text/plain": [
       "<Figure size 360x216 with 1 Axes>"
      ]
     },
     "metadata": {
      "needs_background": "light"
     },
     "output_type": "display_data"
    },
    {
     "data": {
      "image/png": "[encoded data removed]",
      "text/plain": [
       "<Figure size 360x216 with 1 Axes>"
      ]
     },
     "metadata": {
      "needs_background": "light"
     },
     "output_type": "display_data"
    }
   ],
   "source": [
    "actual_games.pivot_table(\n",
    "    index='rating', values='na_sales', aggfunc='sum').plot(\n",
    "    kind='bar', figsize=(5, 3), stacked=False)\n",
    "\n",
    "actual_games.pivot_table(\n",
    "    index='rating', values='eu_sales', aggfunc='sum').plot(\n",
    "    kind='bar', figsize=(5, 3), stacked=False)\n",
    "\n",
    "actual_games.pivot_table(\n",
    "    index='rating', values='jp_sales', aggfunc='sum').plot(\n",
    "    kind='bar', figsize=(5, 3), stacked=False)"
   ]
  },
  {
   "cell_type": "markdown",
   "metadata": {},
   "source": [
    "Распределение продаж по рейтингу в Европе и Северной Америке практически идентичны - наиболее продаваемы игры с рейтингом `М`, т.е. «для взрослых».\n",
    "\n",
    "В Японии наиболее популярные игры имеют рейтинг `Т` - для подростков и `E` - для всех. Игры с рейтингом `Е10+` - для всех от 10 лет, менее популярны, чем в Европе и Америке.\n",
    "\n",
    "Также видим, что в Японии большое количество игр не имеют рейтинга."
   ]
  },
  {
   "cell_type": "markdown",
   "metadata": {},
   "source": [
    "## Проверим гипотезы"
   ]
  },
  {
   "cell_type": "markdown",
   "metadata": {},
   "source": [
    "Подготовим данные:"
   ]
  },
  {
   "cell_type": "code",
   "execution_count": 60,
   "metadata": {},
   "outputs": [],
   "source": [
    "actual_games_xbox = actual_games.query('platform == \"XOne\"').dropna(subset=['user_score']).reset_index(drop=True)\n",
    "actual_games_pc = actual_games.query('platform == \"PC\"').dropna(subset=['user_score']).reset_index(drop=True)"
   ]
  },
  {
   "cell_type": "code",
   "execution_count": 61,
   "metadata": {},
   "outputs": [],
   "source": [
    "actual_games_action = actual_games.query('genre == \"Action\"').dropna(subset=['user_score']).reset_index(drop=True)\n",
    "actual_games_sports = actual_games.query('genre == \"Sports\"').dropna(subset=['user_score']).reset_index(drop=True)"
   ]
  },
  {
   "cell_type": "code",
   "execution_count": 62,
   "metadata": {},
   "outputs": [],
   "source": [
    "alpha = 0.05 # критический уровень статистической значимости\n",
    "             # если p-value окажется меньше него - отвегнем гипотезу"
   ]
  },
  {
   "cell_type": "markdown",
   "metadata": {},
   "source": [
    "### Гипотеза #1"
   ]
  },
  {
   "cell_type": "markdown",
   "metadata": {},
   "source": [
    "Для сравнения двух выборок воспользуемся методом `ttest_ind`, который дает возможность сравнить средние значения массивов между собой.\n",
    "\n",
    "- Нулевая гипотеза - средние пользовательские рейтинги платформ Xbox One и PC равны;\n",
    "- Альтернативная гипотеза - рейтинги не равны."
   ]
  },
  {
   "cell_type": "code",
   "execution_count": 63,
   "metadata": {},
   "outputs": [
    {
     "data": {
      "text/plain": [
       "189.52889533506985"
      ]
     },
     "execution_count": 63,
     "metadata": {},
     "output_type": "execute_result"
    }
   ],
   "source": [
    "np.var(actual_games_xbox['user_score'], ddof=1)"
   ]
  },
  {
   "cell_type": "code",
   "execution_count": 64,
   "metadata": {},
   "outputs": [
    {
     "data": {
      "text/plain": [
       "259.23408111285266"
      ]
     },
     "execution_count": 64,
     "metadata": {},
     "output_type": "execute_result"
    }
   ],
   "source": [
    "np.var(actual_games_pc['user_score'], ddof=1)"
   ]
  },
  {
   "cell_type": "markdown",
   "metadata": {},
   "source": [
    "Дисперсии выборок считаем неравными."
   ]
  },
  {
   "cell_type": "code",
   "execution_count": 65,
   "metadata": {},
   "outputs": [],
   "source": [
    "result_platform = st.ttest_ind(actual_games_xbox['user_score'], actual_games_pc['user_score'], equal_var=False)"
   ]
  },
  {
   "cell_type": "code",
   "execution_count": 66,
   "metadata": {},
   "outputs": [
    {
     "data": {
      "text/plain": [
       "False"
      ]
     },
     "execution_count": 66,
     "metadata": {},
     "output_type": "execute_result"
    }
   ],
   "source": [
    "result_platform.pvalue < alpha"
   ]
  },
  {
   "cell_type": "markdown",
   "metadata": {},
   "source": [
    "Так как p-value оказался больше 0.05, мы не отвергаем нулевую гипотезу."
   ]
  },
  {
   "cell_type": "markdown",
   "metadata": {},
   "source": [
    "### Гипотеза #2"
   ]
  },
  {
   "cell_type": "markdown",
   "metadata": {},
   "source": [
    "Для сравнения двух выборок также воспользуемся методом `ttest_ind`.\n",
    "\n",
    "- Нулевая гипотеза - средние пользовательские рейтинги жанров `Action` и `Sports` равны;\n",
    "- Альтернативная гипотеза - рейтинги не равны.\n"
   ]
  },
  {
   "cell_type": "code",
   "execution_count": 67,
   "metadata": {},
   "outputs": [
    {
     "data": {
      "text/plain": [
       "180.52260826028433"
      ]
     },
     "execution_count": 67,
     "metadata": {},
     "output_type": "execute_result"
    }
   ],
   "source": [
    "np.var(actual_games_action['user_score'], ddof=1)"
   ]
  },
  {
   "cell_type": "code",
   "execution_count": 68,
   "metadata": {},
   "outputs": [
    {
     "data": {
      "text/plain": [
       "279.53052311610924"
      ]
     },
     "execution_count": 68,
     "metadata": {},
     "output_type": "execute_result"
    }
   ],
   "source": [
    "np.var(actual_games_sports['user_score'], ddof=1)"
   ]
  },
  {
   "cell_type": "markdown",
   "metadata": {},
   "source": [
    "Дисперсии выборок считаем неравными."
   ]
  },
  {
   "cell_type": "code",
   "execution_count": 69,
   "metadata": {},
   "outputs": [],
   "source": [
    "result_genre = st.ttest_ind(actual_games_action['user_score'], actual_games_sports['user_score'], equal_var=False)"
   ]
  },
  {
   "cell_type": "code",
   "execution_count": 70,
   "metadata": {},
   "outputs": [
    {
     "data": {
      "text/plain": [
       "True"
      ]
     },
     "execution_count": 70,
     "metadata": {},
     "output_type": "execute_result"
    }
   ],
   "source": [
    "result_genre.pvalue < alpha"
   ]
  },
  {
   "cell_type": "markdown",
   "metadata": {},
   "source": [
    "Так как p-value оказался меньше 0.05, мы отвергаем нулевую гипотезу."
   ]
  },
  {
   "cell_type": "markdown",
   "metadata": {},
   "source": [
    "В итоге мы выяснили, что средние пользовательские рейтинги жанров `Action` и `Sports`, скорее всего, не равны между собой, а средние пользовательские рейтинги платформ `Xbox One` и `PC`, вероятно, могут быть равны."
   ]
  },
  {
   "cell_type": "markdown",
   "metadata": {},
   "source": [
    "## Общий вывод"
   ]
  },
  {
   "cell_type": "markdown",
   "metadata": {},
   "source": [
    "Опишем выявленные закономерности, определяющие успешность игры:\n",
    "\n",
    "- выпущена на одной или нескольких из платформ: `PS3`, `X360`, `PS4`, `3DS`, `XOne`;\n",
    "\n",
    "- - для Европы и Северной Америки: `X360`, `PS3`, `PS4`;\n",
    "- - для Японии: `3DS`, `PS3`, `PSP`;\n",
    "\n",
    "- в жанре `Shooter`, `Platform` или `Sports` - наиболее прибыльные;\n",
    "\n",
    "- - для Европы и Северной Америки: `Action`, `Shooter`, `Sports`;\n",
    "- - для Японии: `Role-Plaing`, `Action`, `Misc`;\n",
    "\n",
    "- имеет высокие оценки критиков и пользователей;\n",
    "- рейтинг определен как `М`, `Т` или `Е` - для взрослых, подростков или для всех, соответственно."
   ]
  }
 ],
 "metadata": {
  "ExecuteTimeLog": [
   {
    "duration": 2113,
    "start_time": "2022-04-14T13:10:30.175Z"
   },
   {
    "duration": 53,
    "start_time": "2022-04-14T13:11:05.174Z"
   },
   {
    "duration": 100,
    "start_time": "2022-04-14T13:11:42.975Z"
   },
   {
    "duration": 4,
    "start_time": "2022-04-14T13:27:14.053Z"
   },
   {
    "duration": 73,
    "start_time": "2022-04-14T13:27:14.060Z"
   },
   {
    "duration": 26,
    "start_time": "2022-04-14T13:27:14.136Z"
   },
   {
    "duration": 22,
    "start_time": "2022-04-14T13:27:14.164Z"
   },
   {
    "duration": 12,
    "start_time": "2022-04-14T13:27:14.190Z"
   },
   {
    "duration": 5,
    "start_time": "2022-04-14T13:27:14.263Z"
   },
   {
    "duration": 5,
    "start_time": "2022-04-14T13:27:14.275Z"
   },
   {
    "duration": 24,
    "start_time": "2022-04-14T13:27:14.383Z"
   },
   {
    "duration": 6,
    "start_time": "2022-04-14T13:27:14.409Z"
   },
   {
    "duration": 13,
    "start_time": "2022-04-14T13:27:14.429Z"
   },
   {
    "duration": 9,
    "start_time": "2022-04-14T13:27:14.617Z"
   },
   {
    "duration": 25,
    "start_time": "2022-04-14T13:27:14.714Z"
   },
   {
    "duration": 6,
    "start_time": "2022-04-14T13:27:14.741Z"
   },
   {
    "duration": 22,
    "start_time": "2022-04-14T13:27:14.848Z"
   },
   {
    "duration": 6,
    "start_time": "2022-04-14T13:27:14.873Z"
   },
   {
    "duration": 8,
    "start_time": "2022-04-14T13:27:14.881Z"
   },
   {
    "duration": 10,
    "start_time": "2022-04-14T13:27:14.892Z"
   },
   {
    "duration": 35,
    "start_time": "2022-04-14T13:27:14.958Z"
   },
   {
    "duration": 7,
    "start_time": "2022-04-14T13:27:14.995Z"
   },
   {
    "duration": 5,
    "start_time": "2022-04-14T13:27:15.168Z"
   },
   {
    "duration": 12,
    "start_time": "2022-04-14T13:27:15.368Z"
   },
   {
    "duration": 29,
    "start_time": "2022-04-14T13:27:15.382Z"
   },
   {
    "duration": 4,
    "start_time": "2022-04-14T13:27:15.500Z"
   },
   {
    "duration": 46,
    "start_time": "2022-04-14T13:27:15.618Z"
   },
   {
    "duration": 45,
    "start_time": "2022-04-14T13:27:15.727Z"
   },
   {
    "duration": 6,
    "start_time": "2022-04-14T13:27:15.863Z"
   },
   {
    "duration": 22,
    "start_time": "2022-04-14T13:27:15.979Z"
   },
   {
    "duration": 14,
    "start_time": "2022-04-14T13:27:16.133Z"
   },
   {
    "duration": 23,
    "start_time": "2022-04-14T13:27:16.149Z"
   },
   {
    "duration": 215,
    "start_time": "2022-04-14T13:27:16.487Z"
   },
   {
    "duration": 23,
    "start_time": "2022-04-14T13:27:17.171Z"
   },
   {
    "duration": 10,
    "start_time": "2022-04-14T13:27:17.197Z"
   },
   {
    "duration": 34,
    "start_time": "2022-04-14T13:27:17.209Z"
   },
   {
    "duration": 899,
    "start_time": "2022-04-14T13:27:17.440Z"
   },
   {
    "duration": 18,
    "start_time": "2022-04-14T13:27:18.342Z"
   },
   {
    "duration": 31,
    "start_time": "2022-04-14T13:27:18.362Z"
   },
   {
    "duration": 23,
    "start_time": "2022-04-14T13:27:18.396Z"
   },
   {
    "duration": 577,
    "start_time": "2022-04-14T13:27:18.422Z"
   },
   {
    "duration": 9,
    "start_time": "2022-04-14T13:27:19.001Z"
   },
   {
    "duration": 41,
    "start_time": "2022-04-14T13:27:19.012Z"
   },
   {
    "duration": 233,
    "start_time": "2022-04-14T13:27:19.055Z"
   },
   {
    "duration": 9,
    "start_time": "2022-04-14T13:27:19.290Z"
   },
   {
    "duration": 25,
    "start_time": "2022-04-14T13:27:19.302Z"
   },
   {
    "duration": 12,
    "start_time": "2022-04-14T13:27:19.352Z"
   },
   {
    "duration": 377,
    "start_time": "2022-04-14T13:27:19.367Z"
   },
   {
    "duration": 8,
    "start_time": "2022-04-14T13:27:19.746Z"
   },
   {
    "duration": 14,
    "start_time": "2022-04-14T13:27:19.757Z"
   },
   {
    "duration": 460,
    "start_time": "2022-04-14T13:27:19.774Z"
   },
   {
    "duration": 354,
    "start_time": "2022-04-14T13:27:20.237Z"
   },
   {
    "duration": 20,
    "start_time": "2022-04-14T13:27:20.594Z"
   },
   {
    "duration": 44,
    "start_time": "2022-04-14T13:27:20.616Z"
   },
   {
    "duration": 26,
    "start_time": "2022-04-14T13:27:20.663Z"
   },
   {
    "duration": 19,
    "start_time": "2022-04-14T13:27:20.692Z"
   },
   {
    "duration": 46,
    "start_time": "2022-04-14T13:27:20.713Z"
   },
   {
    "duration": 20,
    "start_time": "2022-04-14T13:27:20.761Z"
   },
   {
    "duration": 891,
    "start_time": "2022-04-14T13:27:21.088Z"
   },
   {
    "duration": 16,
    "start_time": "2022-04-14T13:27:22.310Z"
   },
   {
    "duration": 21,
    "start_time": "2022-04-14T13:27:22.329Z"
   },
   {
    "duration": 4,
    "start_time": "2022-04-14T13:27:22.352Z"
   },
   {
    "duration": 6,
    "start_time": "2022-04-14T13:27:22.598Z"
   },
   {
    "duration": 8,
    "start_time": "2022-04-14T13:27:22.609Z"
   },
   {
    "duration": 5,
    "start_time": "2022-04-14T13:27:22.843Z"
   },
   {
    "duration": 8,
    "start_time": "2022-04-14T13:27:22.853Z"
   },
   {
    "duration": 7,
    "start_time": "2022-04-14T13:27:23.220Z"
   },
   {
    "duration": 14,
    "start_time": "2022-04-14T13:27:23.229Z"
   },
   {
    "duration": 7,
    "start_time": "2022-04-14T13:27:23.407Z"
   },
   {
    "duration": 4,
    "start_time": "2022-04-14T13:27:23.422Z"
   },
   {
    "duration": 8,
    "start_time": "2022-04-14T13:27:23.432Z"
   },
   {
    "duration": 25,
    "start_time": "2022-04-14T13:44:48.029Z"
   },
   {
    "duration": 19,
    "start_time": "2022-04-14T13:44:53.338Z"
   },
   {
    "duration": 6,
    "start_time": "2022-04-14T13:57:14.483Z"
   },
   {
    "duration": 5,
    "start_time": "2022-04-14T13:58:12.945Z"
   },
   {
    "duration": 6,
    "start_time": "2022-04-14T13:59:38.546Z"
   },
   {
    "duration": 5,
    "start_time": "2022-04-14T13:59:46.266Z"
   },
   {
    "duration": 1707,
    "start_time": "2022-04-14T14:38:35.211Z"
   },
   {
    "duration": 63,
    "start_time": "2022-04-14T14:38:36.920Z"
   },
   {
    "duration": 28,
    "start_time": "2022-04-14T14:38:36.986Z"
   },
   {
    "duration": 49,
    "start_time": "2022-04-14T14:38:37.016Z"
   },
   {
    "duration": 25,
    "start_time": "2022-04-14T14:38:37.069Z"
   },
   {
    "duration": 12,
    "start_time": "2022-04-14T14:38:37.096Z"
   },
   {
    "duration": 8,
    "start_time": "2022-04-14T14:38:37.110Z"
   },
   {
    "duration": 50,
    "start_time": "2022-04-14T14:38:37.120Z"
   },
   {
    "duration": 17,
    "start_time": "2022-04-14T14:38:37.172Z"
   },
   {
    "duration": 24,
    "start_time": "2022-04-14T14:38:37.191Z"
   },
   {
    "duration": 24,
    "start_time": "2022-04-14T14:38:37.217Z"
   },
   {
    "duration": 26,
    "start_time": "2022-04-14T14:38:37.253Z"
   },
   {
    "duration": 6,
    "start_time": "2022-04-14T14:38:37.282Z"
   },
   {
    "duration": 63,
    "start_time": "2022-04-14T14:38:37.292Z"
   },
   {
    "duration": 6,
    "start_time": "2022-04-14T14:38:37.359Z"
   },
   {
    "duration": 16,
    "start_time": "2022-04-14T14:38:37.367Z"
   },
   {
    "duration": 12,
    "start_time": "2022-04-14T14:38:37.385Z"
   },
   {
    "duration": 55,
    "start_time": "2022-04-14T14:38:37.399Z"
   },
   {
    "duration": 8,
    "start_time": "2022-04-14T14:38:37.456Z"
   },
   {
    "duration": 17,
    "start_time": "2022-04-14T14:38:37.466Z"
   },
   {
    "duration": 13,
    "start_time": "2022-04-14T14:38:37.486Z"
   },
   {
    "duration": 9,
    "start_time": "2022-04-14T14:38:37.502Z"
   },
   {
    "duration": 6,
    "start_time": "2022-04-14T14:38:37.514Z"
   },
   {
    "duration": 47,
    "start_time": "2022-04-14T14:38:37.552Z"
   },
   {
    "duration": 64,
    "start_time": "2022-04-14T14:38:37.601Z"
   },
   {
    "duration": 6,
    "start_time": "2022-04-14T14:38:37.667Z"
   },
   {
    "duration": 24,
    "start_time": "2022-04-14T14:38:37.675Z"
   },
   {
    "duration": 14,
    "start_time": "2022-04-14T14:38:37.701Z"
   },
   {
    "duration": 50,
    "start_time": "2022-04-14T14:38:37.717Z"
   },
   {
    "duration": 253,
    "start_time": "2022-04-14T14:38:37.770Z"
   },
   {
    "duration": 27,
    "start_time": "2022-04-14T14:38:38.026Z"
   },
   {
    "duration": 11,
    "start_time": "2022-04-14T14:38:38.055Z"
   },
   {
    "duration": 13,
    "start_time": "2022-04-14T14:38:38.068Z"
   },
   {
    "duration": 925,
    "start_time": "2022-04-14T14:38:38.083Z"
   },
   {
    "duration": 8,
    "start_time": "2022-04-14T14:38:39.010Z"
   },
   {
    "duration": 40,
    "start_time": "2022-04-14T14:38:39.020Z"
   },
   {
    "duration": 24,
    "start_time": "2022-04-14T14:38:39.061Z"
   },
   {
    "duration": 569,
    "start_time": "2022-04-14T14:38:39.086Z"
   },
   {
    "duration": 9,
    "start_time": "2022-04-14T14:38:39.657Z"
   },
   {
    "duration": 23,
    "start_time": "2022-04-14T14:38:39.668Z"
   },
   {
    "duration": 263,
    "start_time": "2022-04-14T14:38:39.698Z"
   },
   {
    "duration": 7,
    "start_time": "2022-04-14T14:38:39.963Z"
   },
   {
    "duration": 23,
    "start_time": "2022-04-14T14:38:39.973Z"
   },
   {
    "duration": 21,
    "start_time": "2022-04-14T14:38:39.998Z"
   },
   {
    "duration": 403,
    "start_time": "2022-04-14T14:38:40.022Z"
   },
   {
    "duration": 9,
    "start_time": "2022-04-14T14:38:40.427Z"
   },
   {
    "duration": 20,
    "start_time": "2022-04-14T14:38:40.438Z"
   },
   {
    "duration": 455,
    "start_time": "2022-04-14T14:38:40.460Z"
   },
   {
    "duration": 365,
    "start_time": "2022-04-14T14:38:40.917Z"
   },
   {
    "duration": 21,
    "start_time": "2022-04-14T14:38:41.284Z"
   },
   {
    "duration": 20,
    "start_time": "2022-04-14T14:38:41.308Z"
   },
   {
    "duration": 20,
    "start_time": "2022-04-14T14:38:41.353Z"
   },
   {
    "duration": 19,
    "start_time": "2022-04-14T14:38:41.375Z"
   },
   {
    "duration": 56,
    "start_time": "2022-04-14T14:38:41.396Z"
   },
   {
    "duration": 22,
    "start_time": "2022-04-14T14:38:41.454Z"
   },
   {
    "duration": 636,
    "start_time": "2022-04-14T14:38:41.478Z"
   },
   {
    "duration": 16,
    "start_time": "2022-04-14T14:38:42.116Z"
   },
   {
    "duration": 30,
    "start_time": "2022-04-14T14:38:42.135Z"
   },
   {
    "duration": 6,
    "start_time": "2022-04-14T14:38:42.167Z"
   },
   {
    "duration": 8,
    "start_time": "2022-04-14T14:38:42.175Z"
   },
   {
    "duration": 6,
    "start_time": "2022-04-14T14:38:42.185Z"
   },
   {
    "duration": 6,
    "start_time": "2022-04-14T14:38:42.193Z"
   },
   {
    "duration": 7,
    "start_time": "2022-04-14T14:38:42.201Z"
   },
   {
    "duration": 43,
    "start_time": "2022-04-14T14:38:42.210Z"
   },
   {
    "duration": 7,
    "start_time": "2022-04-14T14:38:42.256Z"
   },
   {
    "duration": 4,
    "start_time": "2022-04-14T14:38:42.265Z"
   },
   {
    "duration": 8,
    "start_time": "2022-04-14T14:38:42.271Z"
   },
   {
    "duration": 179,
    "start_time": "2022-04-24T00:17:34.055Z"
   },
   {
    "duration": 98,
    "start_time": "2022-04-24T00:36:12.248Z"
   },
   {
    "duration": 1369,
    "start_time": "2022-04-24T06:48:03.692Z"
   },
   {
    "duration": 49,
    "start_time": "2022-04-24T06:48:05.064Z"
   },
   {
    "duration": 21,
    "start_time": "2022-04-24T06:48:05.115Z"
   },
   {
    "duration": 17,
    "start_time": "2022-04-24T06:48:05.138Z"
   },
   {
    "duration": 11,
    "start_time": "2022-04-24T06:48:05.157Z"
   },
   {
    "duration": 8,
    "start_time": "2022-04-24T06:48:05.170Z"
   },
   {
    "duration": 8,
    "start_time": "2022-04-24T06:48:05.180Z"
   },
   {
    "duration": 50,
    "start_time": "2022-04-24T06:48:05.190Z"
   },
   {
    "duration": 5,
    "start_time": "2022-04-24T06:48:05.242Z"
   },
   {
    "duration": 14,
    "start_time": "2022-04-24T06:48:05.249Z"
   },
   {
    "duration": 16,
    "start_time": "2022-04-24T06:48:05.265Z"
   },
   {
    "duration": 19,
    "start_time": "2022-04-24T06:48:05.283Z"
   },
   {
    "duration": 6,
    "start_time": "2022-04-24T06:48:05.304Z"
   },
   {
    "duration": 18,
    "start_time": "2022-04-24T06:48:05.335Z"
   },
   {
    "duration": 5,
    "start_time": "2022-04-24T06:48:05.355Z"
   },
   {
    "duration": 8,
    "start_time": "2022-04-24T06:48:05.361Z"
   },
   {
    "duration": 7,
    "start_time": "2022-04-24T06:48:05.370Z"
   },
   {
    "duration": 55,
    "start_time": "2022-04-24T06:48:05.379Z"
   },
   {
    "duration": 6,
    "start_time": "2022-04-24T06:48:05.435Z"
   },
   {
    "duration": 11,
    "start_time": "2022-04-24T06:48:05.442Z"
   },
   {
    "duration": 12,
    "start_time": "2022-04-24T06:48:05.454Z"
   },
   {
    "duration": 8,
    "start_time": "2022-04-24T06:48:05.467Z"
   },
   {
    "duration": 6,
    "start_time": "2022-04-24T06:48:05.477Z"
   },
   {
    "duration": 58,
    "start_time": "2022-04-24T06:48:05.484Z"
   },
   {
    "duration": 36,
    "start_time": "2022-04-24T06:48:05.544Z"
   },
   {
    "duration": 6,
    "start_time": "2022-04-24T06:48:05.582Z"
   },
   {
    "duration": 25,
    "start_time": "2022-04-24T06:48:05.590Z"
   },
   {
    "duration": 12,
    "start_time": "2022-04-24T06:48:11.982Z"
   },
   {
    "duration": 22,
    "start_time": "2022-04-24T06:48:39.462Z"
   },
   {
    "duration": 229,
    "start_time": "2022-04-24T06:57:41.457Z"
   },
   {
    "duration": 133610,
    "start_time": "2022-04-24T06:57:52.796Z"
   },
   {
    "duration": 3,
    "start_time": "2022-04-24T07:02:33.834Z"
   },
   {
    "duration": 142,
    "start_time": "2022-04-24T07:02:57.067Z"
   },
   {
    "duration": 9,
    "start_time": "2022-04-24T07:03:08.477Z"
   },
   {
    "duration": 25358,
    "start_time": "2022-04-24T07:03:47.131Z"
   },
   {
    "duration": 26133,
    "start_time": "2022-04-24T07:04:29.438Z"
   },
   {
    "duration": 28382,
    "start_time": "2022-04-24T07:05:09.967Z"
   },
   {
    "duration": 9,
    "start_time": "2022-04-24T07:10:40.214Z"
   },
   {
    "duration": 3,
    "start_time": "2022-04-24T07:10:45.964Z"
   },
   {
    "duration": 62,
    "start_time": "2022-04-24T07:10:45.969Z"
   },
   {
    "duration": 15,
    "start_time": "2022-04-24T07:10:46.033Z"
   },
   {
    "duration": 31,
    "start_time": "2022-04-24T07:10:46.049Z"
   },
   {
    "duration": 15,
    "start_time": "2022-04-24T07:10:46.083Z"
   },
   {
    "duration": 7,
    "start_time": "2022-04-24T07:10:46.099Z"
   },
   {
    "duration": 26,
    "start_time": "2022-04-24T07:10:46.108Z"
   },
   {
    "duration": 28,
    "start_time": "2022-04-24T07:10:46.136Z"
   },
   {
    "duration": 6,
    "start_time": "2022-04-24T07:10:46.166Z"
   },
   {
    "duration": 17,
    "start_time": "2022-04-24T07:10:46.174Z"
   },
   {
    "duration": 8,
    "start_time": "2022-04-24T07:10:46.192Z"
   },
   {
    "duration": 41,
    "start_time": "2022-04-24T07:10:46.201Z"
   },
   {
    "duration": 5,
    "start_time": "2022-04-24T07:10:46.245Z"
   },
   {
    "duration": 31,
    "start_time": "2022-04-24T07:10:46.252Z"
   },
   {
    "duration": 5,
    "start_time": "2022-04-24T07:10:46.285Z"
   },
   {
    "duration": 11,
    "start_time": "2022-04-24T07:10:46.291Z"
   },
   {
    "duration": 9,
    "start_time": "2022-04-24T07:10:46.304Z"
   },
   {
    "duration": 31,
    "start_time": "2022-04-24T07:10:46.333Z"
   },
   {
    "duration": 6,
    "start_time": "2022-04-24T07:10:46.366Z"
   },
   {
    "duration": 7,
    "start_time": "2022-04-24T07:10:46.373Z"
   },
   {
    "duration": 12,
    "start_time": "2022-04-24T07:10:46.382Z"
   },
   {
    "duration": 13,
    "start_time": "2022-04-24T07:10:46.395Z"
   },
   {
    "duration": 24,
    "start_time": "2022-04-24T07:10:46.409Z"
   },
   {
    "duration": 44,
    "start_time": "2022-04-24T07:10:46.435Z"
   },
   {
    "duration": 59,
    "start_time": "2022-04-24T07:10:46.480Z"
   },
   {
    "duration": 5,
    "start_time": "2022-04-24T07:10:46.541Z"
   },
   {
    "duration": 23,
    "start_time": "2022-04-24T07:10:46.547Z"
   },
   {
    "duration": 11,
    "start_time": "2022-04-24T07:10:46.572Z"
   },
   {
    "duration": 15,
    "start_time": "2022-04-24T07:10:46.585Z"
   },
   {
    "duration": 179,
    "start_time": "2022-04-24T07:10:46.602Z"
   },
   {
    "duration": 19,
    "start_time": "2022-04-24T07:10:46.784Z"
   },
   {
    "duration": 8,
    "start_time": "2022-04-24T07:10:51.874Z"
   },
   {
    "duration": 8,
    "start_time": "2022-04-24T07:10:53.449Z"
   },
   {
    "duration": 24,
    "start_time": "2022-04-24T07:10:54.613Z"
   },
   {
    "duration": 11,
    "start_time": "2022-04-24T07:11:46.243Z"
   },
   {
    "duration": 33,
    "start_time": "2022-04-24T07:12:18.373Z"
   },
   {
    "duration": 3006,
    "start_time": "2022-04-24T07:12:24.215Z"
   },
   {
    "duration": 36,
    "start_time": "2022-04-24T07:12:46.942Z"
   },
   {
    "duration": 33,
    "start_time": "2022-04-24T07:12:54.786Z"
   },
   {
    "duration": 14,
    "start_time": "2022-04-24T07:13:18.402Z"
   },
   {
    "duration": 34,
    "start_time": "2022-04-24T07:13:26.194Z"
   },
   {
    "duration": 7,
    "start_time": "2022-04-24T07:13:39.973Z"
   },
   {
    "duration": 221,
    "start_time": "2022-04-24T07:25:02.256Z"
   },
   {
    "duration": 9,
    "start_time": "2022-04-24T07:25:15.669Z"
   },
   {
    "duration": 3,
    "start_time": "2022-04-24T07:25:23.935Z"
   },
   {
    "duration": 50,
    "start_time": "2022-04-24T07:25:23.943Z"
   },
   {
    "duration": 16,
    "start_time": "2022-04-24T07:25:23.995Z"
   },
   {
    "duration": 27,
    "start_time": "2022-04-24T07:25:24.013Z"
   },
   {
    "duration": 12,
    "start_time": "2022-04-24T07:25:24.042Z"
   },
   {
    "duration": 7,
    "start_time": "2022-04-24T07:25:24.055Z"
   },
   {
    "duration": 5,
    "start_time": "2022-04-24T07:25:24.064Z"
   },
   {
    "duration": 23,
    "start_time": "2022-04-24T07:25:24.071Z"
   },
   {
    "duration": 12,
    "start_time": "2022-04-24T07:25:24.096Z"
   },
   {
    "duration": 31,
    "start_time": "2022-04-24T07:25:24.109Z"
   },
   {
    "duration": 7,
    "start_time": "2022-04-24T07:25:24.143Z"
   },
   {
    "duration": 16,
    "start_time": "2022-04-24T07:25:24.152Z"
   },
   {
    "duration": 15,
    "start_time": "2022-04-24T07:25:24.170Z"
   },
   {
    "duration": 46,
    "start_time": "2022-04-24T07:25:24.187Z"
   },
   {
    "duration": 5,
    "start_time": "2022-04-24T07:25:24.235Z"
   },
   {
    "duration": 8,
    "start_time": "2022-04-24T07:25:24.242Z"
   },
   {
    "duration": 14,
    "start_time": "2022-04-24T07:25:24.251Z"
   },
   {
    "duration": 35,
    "start_time": "2022-04-24T07:25:24.267Z"
   },
   {
    "duration": 5,
    "start_time": "2022-04-24T07:25:24.304Z"
   },
   {
    "duration": 23,
    "start_time": "2022-04-24T07:25:24.312Z"
   },
   {
    "duration": 8,
    "start_time": "2022-04-24T07:25:24.337Z"
   },
   {
    "duration": 12,
    "start_time": "2022-04-24T07:25:24.347Z"
   },
   {
    "duration": 16,
    "start_time": "2022-04-24T07:25:24.361Z"
   },
   {
    "duration": 51,
    "start_time": "2022-04-24T07:25:24.379Z"
   },
   {
    "duration": 39,
    "start_time": "2022-04-24T07:25:24.432Z"
   },
   {
    "duration": 5,
    "start_time": "2022-04-24T07:25:24.473Z"
   },
   {
    "duration": 27,
    "start_time": "2022-04-24T07:25:24.479Z"
   },
   {
    "duration": 31,
    "start_time": "2022-04-24T07:25:24.507Z"
   },
   {
    "duration": 15,
    "start_time": "2022-04-24T07:25:24.539Z"
   },
   {
    "duration": 169,
    "start_time": "2022-04-24T07:25:24.556Z"
   },
   {
    "duration": 22,
    "start_time": "2022-04-24T07:25:24.727Z"
   },
   {
    "duration": 9,
    "start_time": "2022-04-24T07:25:24.750Z"
   },
   {
    "duration": 19,
    "start_time": "2022-04-24T07:25:24.761Z"
   },
   {
    "duration": 580,
    "start_time": "2022-04-24T07:25:24.781Z"
   },
   {
    "duration": 7,
    "start_time": "2022-04-24T07:25:25.363Z"
   },
   {
    "duration": 25,
    "start_time": "2022-04-24T07:25:25.371Z"
   },
   {
    "duration": 19,
    "start_time": "2022-04-24T07:25:25.397Z"
   },
   {
    "duration": 384,
    "start_time": "2022-04-24T07:25:25.417Z"
   },
   {
    "duration": 7,
    "start_time": "2022-04-24T07:25:25.803Z"
   },
   {
    "duration": 28,
    "start_time": "2022-04-24T07:25:25.812Z"
   },
   {
    "duration": 170,
    "start_time": "2022-04-24T07:25:25.842Z"
   },
   {
    "duration": 6,
    "start_time": "2022-04-24T07:25:26.013Z"
   },
   {
    "duration": 21,
    "start_time": "2022-04-24T07:25:26.021Z"
   },
   {
    "duration": 14,
    "start_time": "2022-04-24T07:25:26.044Z"
   },
   {
    "duration": 260,
    "start_time": "2022-04-24T07:25:26.060Z"
   },
   {
    "duration": 16,
    "start_time": "2022-04-24T07:25:26.322Z"
   },
   {
    "duration": 13,
    "start_time": "2022-04-24T07:25:26.339Z"
   },
   {
    "duration": 309,
    "start_time": "2022-04-24T07:25:26.354Z"
   },
   {
    "duration": 198,
    "start_time": "2022-04-24T07:25:26.665Z"
   },
   {
    "duration": 187,
    "start_time": "2022-04-24T07:25:33.146Z"
   },
   {
    "duration": 186,
    "start_time": "2022-04-24T07:25:46.756Z"
   },
   {
    "duration": 179,
    "start_time": "2022-04-24T07:25:59.443Z"
   },
   {
    "duration": 195,
    "start_time": "2022-04-24T07:26:05.316Z"
   },
   {
    "duration": 182,
    "start_time": "2022-04-24T07:27:15.792Z"
   },
   {
    "duration": 375,
    "start_time": "2022-04-24T07:35:27.629Z"
   },
   {
    "duration": 8863,
    "start_time": "2022-04-24T07:35:32.927Z"
   },
   {
    "duration": 22,
    "start_time": "2022-04-24T07:36:01.457Z"
   },
   {
    "duration": 194,
    "start_time": "2022-04-24T07:36:16.857Z"
   },
   {
    "duration": 198,
    "start_time": "2022-04-24T07:37:45.424Z"
   },
   {
    "duration": 210,
    "start_time": "2022-04-24T07:38:08.745Z"
   },
   {
    "duration": 1213,
    "start_time": "2022-04-24T08:14:29.078Z"
   },
   {
    "duration": 56,
    "start_time": "2022-04-24T08:14:30.294Z"
   },
   {
    "duration": 19,
    "start_time": "2022-04-24T08:14:30.352Z"
   },
   {
    "duration": 15,
    "start_time": "2022-04-24T08:14:30.373Z"
   },
   {
    "duration": 19,
    "start_time": "2022-04-24T08:14:30.391Z"
   },
   {
    "duration": 22,
    "start_time": "2022-04-24T08:14:30.412Z"
   },
   {
    "duration": 10,
    "start_time": "2022-04-24T08:14:30.436Z"
   },
   {
    "duration": 29,
    "start_time": "2022-04-24T08:14:30.448Z"
   },
   {
    "duration": 14,
    "start_time": "2022-04-24T08:14:30.479Z"
   },
   {
    "duration": 20,
    "start_time": "2022-04-24T08:14:30.495Z"
   },
   {
    "duration": 14,
    "start_time": "2022-04-24T08:14:30.517Z"
   },
   {
    "duration": 29,
    "start_time": "2022-04-24T08:14:30.533Z"
   },
   {
    "duration": 9,
    "start_time": "2022-04-24T08:14:30.564Z"
   },
   {
    "duration": 28,
    "start_time": "2022-04-24T08:14:30.576Z"
   },
   {
    "duration": 5,
    "start_time": "2022-04-24T08:14:30.606Z"
   },
   {
    "duration": 12,
    "start_time": "2022-04-24T08:14:30.612Z"
   },
   {
    "duration": 9,
    "start_time": "2022-04-24T08:14:30.625Z"
   },
   {
    "duration": 32,
    "start_time": "2022-04-24T08:14:30.636Z"
   },
   {
    "duration": 6,
    "start_time": "2022-04-24T08:14:30.670Z"
   },
   {
    "duration": 22,
    "start_time": "2022-04-24T08:14:30.677Z"
   },
   {
    "duration": 16,
    "start_time": "2022-04-24T08:14:30.701Z"
   },
   {
    "duration": 15,
    "start_time": "2022-04-24T08:14:30.719Z"
   },
   {
    "duration": 6,
    "start_time": "2022-04-24T08:14:30.736Z"
   },
   {
    "duration": 41,
    "start_time": "2022-04-24T08:14:30.744Z"
   },
   {
    "duration": 33,
    "start_time": "2022-04-24T08:14:30.787Z"
   },
   {
    "duration": 13,
    "start_time": "2022-04-24T08:14:30.822Z"
   },
   {
    "duration": 16,
    "start_time": "2022-04-24T08:14:30.837Z"
   },
   {
    "duration": 11,
    "start_time": "2022-04-24T08:14:30.854Z"
   },
   {
    "duration": 16,
    "start_time": "2022-04-24T08:14:30.866Z"
   },
   {
    "duration": 180,
    "start_time": "2022-04-24T08:14:30.884Z"
   },
   {
    "duration": 19,
    "start_time": "2022-04-24T08:14:31.066Z"
   },
   {
    "duration": 8,
    "start_time": "2022-04-24T08:14:31.086Z"
   },
   {
    "duration": 16,
    "start_time": "2022-04-24T08:14:31.095Z"
   },
   {
    "duration": 588,
    "start_time": "2022-04-24T08:14:31.113Z"
   },
   {
    "duration": 6,
    "start_time": "2022-04-24T08:14:31.703Z"
   },
   {
    "duration": 31,
    "start_time": "2022-04-24T08:14:31.711Z"
   },
   {
    "duration": 22,
    "start_time": "2022-04-24T08:14:31.744Z"
   },
   {
    "duration": 373,
    "start_time": "2022-04-24T08:14:31.767Z"
   },
   {
    "duration": 6,
    "start_time": "2022-04-24T08:14:32.142Z"
   },
   {
    "duration": 20,
    "start_time": "2022-04-24T08:14:32.150Z"
   },
   {
    "duration": 169,
    "start_time": "2022-04-24T08:14:32.174Z"
   },
   {
    "duration": 6,
    "start_time": "2022-04-24T08:14:32.345Z"
   },
   {
    "duration": 42,
    "start_time": "2022-04-24T08:14:32.352Z"
   },
   {
    "duration": 14,
    "start_time": "2022-04-24T08:14:32.396Z"
   },
   {
    "duration": 246,
    "start_time": "2022-04-24T08:14:32.412Z"
   },
   {
    "duration": 6,
    "start_time": "2022-04-24T08:14:32.660Z"
   },
   {
    "duration": 13,
    "start_time": "2022-04-24T08:14:32.668Z"
   },
   {
    "duration": 309,
    "start_time": "2022-04-24T08:14:32.683Z"
   },
   {
    "duration": 270,
    "start_time": "2022-04-24T08:14:32.994Z"
   },
   {
    "duration": 14,
    "start_time": "2022-04-24T08:14:33.266Z"
   },
   {
    "duration": 13,
    "start_time": "2022-04-24T08:14:33.282Z"
   },
   {
    "duration": 38,
    "start_time": "2022-04-24T08:14:33.296Z"
   },
   {
    "duration": 14,
    "start_time": "2022-04-24T08:14:33.336Z"
   },
   {
    "duration": 13,
    "start_time": "2022-04-24T08:14:33.352Z"
   },
   {
    "duration": 13,
    "start_time": "2022-04-24T08:14:33.367Z"
   },
   {
    "duration": 432,
    "start_time": "2022-04-24T08:14:33.381Z"
   },
   {
    "duration": 20,
    "start_time": "2022-04-24T08:14:33.815Z"
   },
   {
    "duration": 13,
    "start_time": "2022-04-24T08:14:33.837Z"
   },
   {
    "duration": 3,
    "start_time": "2022-04-24T08:14:33.852Z"
   },
   {
    "duration": 8,
    "start_time": "2022-04-24T08:14:33.856Z"
   },
   {
    "duration": 8,
    "start_time": "2022-04-24T08:14:33.865Z"
   },
   {
    "duration": 6,
    "start_time": "2022-04-24T08:14:33.874Z"
   },
   {
    "duration": 8,
    "start_time": "2022-04-24T08:14:33.882Z"
   },
   {
    "duration": 7,
    "start_time": "2022-04-24T08:14:33.892Z"
   },
   {
    "duration": 33,
    "start_time": "2022-04-24T08:14:33.900Z"
   },
   {
    "duration": 4,
    "start_time": "2022-04-24T08:14:33.935Z"
   },
   {
    "duration": 9,
    "start_time": "2022-04-24T08:14:33.941Z"
   },
   {
    "duration": 4,
    "start_time": "2022-04-24T08:16:33.530Z"
   },
   {
    "duration": 4,
    "start_time": "2022-04-24T08:16:47.527Z"
   },
   {
    "duration": 3,
    "start_time": "2022-04-24T08:47:25.057Z"
   },
   {
    "duration": 63,
    "start_time": "2022-04-24T08:47:25.062Z"
   },
   {
    "duration": 16,
    "start_time": "2022-04-24T08:47:25.126Z"
   },
   {
    "duration": 19,
    "start_time": "2022-04-24T08:47:25.144Z"
   },
   {
    "duration": 11,
    "start_time": "2022-04-24T08:47:25.165Z"
   },
   {
    "duration": 10,
    "start_time": "2022-04-24T08:47:25.177Z"
   },
   {
    "duration": 19,
    "start_time": "2022-04-24T08:47:25.189Z"
   },
   {
    "duration": 27,
    "start_time": "2022-04-24T08:47:25.210Z"
   },
   {
    "duration": 5,
    "start_time": "2022-04-24T08:47:25.239Z"
   },
   {
    "duration": 22,
    "start_time": "2022-04-24T08:47:25.246Z"
   },
   {
    "duration": 8,
    "start_time": "2022-04-24T08:47:25.270Z"
   },
   {
    "duration": 18,
    "start_time": "2022-04-24T08:47:25.280Z"
   },
   {
    "duration": 10,
    "start_time": "2022-04-24T08:47:25.300Z"
   },
   {
    "duration": 28,
    "start_time": "2022-04-24T08:47:25.312Z"
   },
   {
    "duration": 5,
    "start_time": "2022-04-24T08:47:25.341Z"
   },
   {
    "duration": 17,
    "start_time": "2022-04-24T08:47:25.348Z"
   },
   {
    "duration": 9,
    "start_time": "2022-04-24T08:47:25.366Z"
   },
   {
    "duration": 26,
    "start_time": "2022-04-24T08:47:25.377Z"
   },
   {
    "duration": 6,
    "start_time": "2022-04-24T08:47:30.416Z"
   },
   {
    "duration": 110,
    "start_time": "2022-04-24T08:55:12.024Z"
   },
   {
    "duration": 17,
    "start_time": "2022-04-24T08:55:31.198Z"
   },
   {
    "duration": 18,
    "start_time": "2022-04-24T08:56:03.980Z"
   },
   {
    "duration": 42,
    "start_time": "2022-04-24T08:56:23.290Z"
   },
   {
    "duration": 120,
    "start_time": "2022-04-24T08:56:53.706Z"
   },
   {
    "duration": 5,
    "start_time": "2022-04-24T08:59:25.907Z"
   },
   {
    "duration": 10,
    "start_time": "2022-04-24T09:04:06.500Z"
   },
   {
    "duration": 10,
    "start_time": "2022-04-24T09:04:25.811Z"
   },
   {
    "duration": 11,
    "start_time": "2022-04-24T09:05:05.574Z"
   },
   {
    "duration": 11,
    "start_time": "2022-04-24T09:05:30.319Z"
   },
   {
    "duration": 6,
    "start_time": "2022-04-24T09:06:11.655Z"
   },
   {
    "duration": 20,
    "start_time": "2022-04-24T09:06:50.379Z"
   },
   {
    "duration": 15,
    "start_time": "2022-04-24T09:07:13.371Z"
   },
   {
    "duration": 5,
    "start_time": "2022-04-24T09:11:14.838Z"
   },
   {
    "duration": 10,
    "start_time": "2022-04-24T09:11:41.169Z"
   },
   {
    "duration": 22,
    "start_time": "2022-04-24T09:11:47.951Z"
   },
   {
    "duration": 12,
    "start_time": "2022-04-24T09:12:10.890Z"
   },
   {
    "duration": 11,
    "start_time": "2022-04-24T09:12:29.168Z"
   },
   {
    "duration": 10,
    "start_time": "2022-04-24T09:12:40.740Z"
   },
   {
    "duration": 21,
    "start_time": "2022-04-24T09:12:47.401Z"
   },
   {
    "duration": 20,
    "start_time": "2022-04-24T09:13:47.828Z"
   },
   {
    "duration": 10,
    "start_time": "2022-04-24T09:14:29.383Z"
   },
   {
    "duration": 13,
    "start_time": "2022-04-24T09:17:04.440Z"
   },
   {
    "duration": 330,
    "start_time": "2022-04-24T09:19:36.597Z"
   },
   {
    "duration": 638,
    "start_time": "2022-04-24T09:20:07.587Z"
   },
   {
    "duration": 388,
    "start_time": "2022-04-24T09:25:07.875Z"
   },
   {
    "duration": 17,
    "start_time": "2022-04-24T09:25:41.515Z"
   },
   {
    "duration": 392,
    "start_time": "2022-04-24T09:26:02.254Z"
   },
   {
    "duration": 343,
    "start_time": "2022-04-24T09:32:03.286Z"
   },
   {
    "duration": 360,
    "start_time": "2022-04-24T09:32:18.493Z"
   },
   {
    "duration": 364,
    "start_time": "2022-04-24T09:32:26.674Z"
   },
   {
    "duration": 381,
    "start_time": "2022-04-24T09:32:39.565Z"
   },
   {
    "duration": 380,
    "start_time": "2022-04-24T09:32:46.153Z"
   },
   {
    "duration": 493,
    "start_time": "2022-04-24T09:33:13.435Z"
   },
   {
    "duration": 499,
    "start_time": "2022-04-24T09:33:30.832Z"
   },
   {
    "duration": 372,
    "start_time": "2022-04-24T09:33:45.905Z"
   },
   {
    "duration": 212,
    "start_time": "2022-04-24T09:40:45.805Z"
   },
   {
    "duration": 301,
    "start_time": "2022-04-24T09:41:07.505Z"
   },
   {
    "duration": 541,
    "start_time": "2022-04-24T09:41:21.929Z"
   },
   {
    "duration": 241,
    "start_time": "2022-04-24T09:41:31.428Z"
   },
   {
    "duration": 227,
    "start_time": "2022-04-24T09:41:39.575Z"
   },
   {
    "duration": 292,
    "start_time": "2022-04-24T09:42:21.166Z"
   },
   {
    "duration": 317,
    "start_time": "2022-04-24T09:42:30.594Z"
   },
   {
    "duration": 307,
    "start_time": "2022-04-24T09:42:43.879Z"
   },
   {
    "duration": 312,
    "start_time": "2022-04-24T09:43:26.705Z"
   },
   {
    "duration": 560,
    "start_time": "2022-04-24T09:43:41.058Z"
   },
   {
    "duration": 230,
    "start_time": "2022-04-24T09:43:52.396Z"
   },
   {
    "duration": 244,
    "start_time": "2022-04-24T09:44:50.829Z"
   },
   {
    "duration": 231,
    "start_time": "2022-04-24T09:44:57.070Z"
   },
   {
    "duration": 235,
    "start_time": "2022-04-24T09:45:22.305Z"
   },
   {
    "duration": 258,
    "start_time": "2022-04-24T09:46:01.425Z"
   },
   {
    "duration": 207,
    "start_time": "2022-04-24T09:46:07.617Z"
   },
   {
    "duration": 216,
    "start_time": "2022-04-24T09:46:42.190Z"
   },
   {
    "duration": 247,
    "start_time": "2022-04-24T09:46:50.223Z"
   },
   {
    "duration": 209,
    "start_time": "2022-04-24T09:46:58.791Z"
   },
   {
    "duration": 224,
    "start_time": "2022-04-24T09:47:06.113Z"
   },
   {
    "duration": 569,
    "start_time": "2022-04-24T09:47:33.848Z"
   },
   {
    "duration": 863,
    "start_time": "2022-04-24T09:47:40.799Z"
   },
   {
    "duration": 226,
    "start_time": "2022-04-24T09:49:07.877Z"
   },
   {
    "duration": 241,
    "start_time": "2022-04-24T09:49:24.240Z"
   },
   {
    "duration": 163,
    "start_time": "2022-04-24T09:50:11.920Z"
   },
   {
    "duration": 225,
    "start_time": "2022-04-24T09:50:32.409Z"
   },
   {
    "duration": 236,
    "start_time": "2022-04-24T09:50:37.528Z"
   },
   {
    "duration": 234,
    "start_time": "2022-04-24T09:50:42.278Z"
   },
   {
    "duration": 235,
    "start_time": "2022-04-24T09:50:47.596Z"
   },
   {
    "duration": 231,
    "start_time": "2022-04-24T09:50:54.231Z"
   },
   {
    "duration": 20,
    "start_time": "2022-04-24T09:51:26.559Z"
   },
   {
    "duration": 29,
    "start_time": "2022-04-24T09:51:34.439Z"
   },
   {
    "duration": 26,
    "start_time": "2022-04-24T09:51:43.627Z"
   },
   {
    "duration": 237,
    "start_time": "2022-04-24T09:52:03.286Z"
   },
   {
    "duration": 238,
    "start_time": "2022-04-24T09:52:34.847Z"
   },
   {
    "duration": 235,
    "start_time": "2022-04-24T09:52:44.188Z"
   },
   {
    "duration": 261,
    "start_time": "2022-04-24T09:53:04.738Z"
   },
   {
    "duration": 227,
    "start_time": "2022-04-24T09:53:43.859Z"
   },
   {
    "duration": 166,
    "start_time": "2022-04-24T09:54:42.509Z"
   },
   {
    "duration": 2665,
    "start_time": "2022-04-24T09:54:47.074Z"
   },
   {
    "duration": 234,
    "start_time": "2022-04-24T09:59:30.779Z"
   },
   {
    "duration": 518,
    "start_time": "2022-04-24T10:01:08.765Z"
   },
   {
    "duration": 275,
    "start_time": "2022-04-24T10:01:35.524Z"
   },
   {
    "duration": 284,
    "start_time": "2022-04-24T10:05:19.933Z"
   },
   {
    "duration": 317,
    "start_time": "2022-04-24T10:10:37.613Z"
   },
   {
    "duration": 312,
    "start_time": "2022-04-24T10:10:48.725Z"
   },
   {
    "duration": 19,
    "start_time": "2022-04-24T10:18:18.524Z"
   },
   {
    "duration": 371,
    "start_time": "2022-04-24T10:18:35.114Z"
   },
   {
    "duration": 7,
    "start_time": "2022-04-24T10:19:24.711Z"
   },
   {
    "duration": 3,
    "start_time": "2022-04-24T10:19:58.556Z"
   },
   {
    "duration": 44,
    "start_time": "2022-04-24T10:19:58.570Z"
   },
   {
    "duration": 16,
    "start_time": "2022-04-24T10:19:58.616Z"
   },
   {
    "duration": 17,
    "start_time": "2022-04-24T10:19:58.634Z"
   },
   {
    "duration": 12,
    "start_time": "2022-04-24T10:19:58.654Z"
   },
   {
    "duration": 5,
    "start_time": "2022-04-24T10:19:58.668Z"
   },
   {
    "duration": 7,
    "start_time": "2022-04-24T10:19:58.674Z"
   },
   {
    "duration": 22,
    "start_time": "2022-04-24T10:19:58.683Z"
   },
   {
    "duration": 6,
    "start_time": "2022-04-24T10:19:58.732Z"
   },
   {
    "duration": 11,
    "start_time": "2022-04-24T10:19:58.740Z"
   },
   {
    "duration": 7,
    "start_time": "2022-04-24T10:19:58.753Z"
   },
   {
    "duration": 17,
    "start_time": "2022-04-24T10:19:58.761Z"
   },
   {
    "duration": 8,
    "start_time": "2022-04-24T10:19:58.780Z"
   },
   {
    "duration": 45,
    "start_time": "2022-04-24T10:19:58.790Z"
   },
   {
    "duration": 5,
    "start_time": "2022-04-24T10:19:58.836Z"
   },
   {
    "duration": 7,
    "start_time": "2022-04-24T10:19:58.843Z"
   },
   {
    "duration": 6,
    "start_time": "2022-04-24T10:19:58.852Z"
   },
   {
    "duration": 23,
    "start_time": "2022-04-24T10:19:58.859Z"
   },
   {
    "duration": 6,
    "start_time": "2022-04-24T10:19:58.883Z"
   },
   {
    "duration": 42,
    "start_time": "2022-04-24T10:19:58.891Z"
   },
   {
    "duration": 9,
    "start_time": "2022-04-24T10:19:58.936Z"
   },
   {
    "duration": 13,
    "start_time": "2022-04-24T10:19:58.947Z"
   },
   {
    "duration": 4,
    "start_time": "2022-04-24T10:19:58.963Z"
   },
   {
    "duration": 37,
    "start_time": "2022-04-24T10:19:58.969Z"
   },
   {
    "duration": 35,
    "start_time": "2022-04-24T10:19:59.033Z"
   },
   {
    "duration": 6,
    "start_time": "2022-04-24T10:19:59.070Z"
   },
   {
    "duration": 20,
    "start_time": "2022-04-24T10:19:59.078Z"
   },
   {
    "duration": 34,
    "start_time": "2022-04-24T10:19:59.101Z"
   },
   {
    "duration": 15,
    "start_time": "2022-04-24T10:19:59.137Z"
   },
   {
    "duration": 161,
    "start_time": "2022-04-24T10:19:59.154Z"
   },
   {
    "duration": 364,
    "start_time": "2022-04-24T10:19:59.317Z"
   },
   {
    "duration": 17,
    "start_time": "2022-04-24T10:19:59.684Z"
   },
   {
    "duration": 7,
    "start_time": "2022-04-24T10:19:59.703Z"
   },
   {
    "duration": 30,
    "start_time": "2022-04-24T10:19:59.711Z"
   },
   {
    "duration": 900,
    "start_time": "2022-04-24T10:19:59.743Z"
   },
   {
    "duration": 254,
    "start_time": "2022-04-24T10:20:00.644Z"
   },
   {
    "duration": 6,
    "start_time": "2022-04-24T10:20:00.900Z"
   },
   {
    "duration": 29,
    "start_time": "2022-04-24T10:20:00.908Z"
   },
   {
    "duration": 21,
    "start_time": "2022-04-24T10:20:00.939Z"
   },
   {
    "duration": 8,
    "start_time": "2022-04-24T10:20:07.254Z"
   },
   {
    "duration": 4,
    "start_time": "2022-04-24T10:21:03.554Z"
   },
   {
    "duration": 374,
    "start_time": "2022-04-24T10:21:06.563Z"
   },
   {
    "duration": 17,
    "start_time": "2022-04-24T10:21:34.471Z"
   },
   {
    "duration": 311,
    "start_time": "2022-04-24T10:23:36.219Z"
   },
   {
    "duration": 365,
    "start_time": "2022-04-24T10:23:44.034Z"
   },
   {
    "duration": 373,
    "start_time": "2022-04-24T10:23:48.819Z"
   },
   {
    "duration": 372,
    "start_time": "2022-04-24T10:23:57.514Z"
   },
   {
    "duration": 380,
    "start_time": "2022-04-24T10:24:01.883Z"
   },
   {
    "duration": 359,
    "start_time": "2022-04-24T10:24:38.938Z"
   },
   {
    "duration": 367,
    "start_time": "2022-04-24T10:24:54.475Z"
   },
   {
    "duration": 359,
    "start_time": "2022-04-24T10:25:03.235Z"
   },
   {
    "duration": 351,
    "start_time": "2022-04-24T10:26:02.948Z"
   },
   {
    "duration": 361,
    "start_time": "2022-04-24T10:26:22.938Z"
   },
   {
    "duration": 154,
    "start_time": "2022-04-24T10:35:52.108Z"
   },
   {
    "duration": 170,
    "start_time": "2022-04-24T10:35:58.330Z"
   },
   {
    "duration": 150,
    "start_time": "2022-04-24T10:37:43.045Z"
   },
   {
    "duration": 122,
    "start_time": "2022-04-24T10:37:51.381Z"
   },
   {
    "duration": 161,
    "start_time": "2022-04-24T10:38:02.124Z"
   },
   {
    "duration": 122,
    "start_time": "2022-04-24T10:38:13.375Z"
   },
   {
    "duration": 128,
    "start_time": "2022-04-24T10:38:19.641Z"
   },
   {
    "duration": 155,
    "start_time": "2022-04-24T10:38:27.349Z"
   },
   {
    "duration": 157,
    "start_time": "2022-04-24T10:44:14.346Z"
   },
   {
    "duration": 157,
    "start_time": "2022-04-24T10:45:19.818Z"
   },
   {
    "duration": 157,
    "start_time": "2022-04-24T10:45:26.760Z"
   },
   {
    "duration": 158,
    "start_time": "2022-04-24T10:45:35.848Z"
   },
   {
    "duration": 161,
    "start_time": "2022-04-24T10:46:56.095Z"
   },
   {
    "duration": 156,
    "start_time": "2022-04-24T10:48:22.898Z"
   },
   {
    "duration": 625,
    "start_time": "2022-04-24T10:57:51.290Z"
   },
   {
    "duration": 178,
    "start_time": "2022-04-24T10:58:05.512Z"
   },
   {
    "duration": 177,
    "start_time": "2022-04-24T10:58:14.742Z"
   },
   {
    "duration": 165,
    "start_time": "2022-04-24T11:01:50.019Z"
   },
   {
    "duration": 164,
    "start_time": "2022-04-24T11:01:58.860Z"
   },
   {
    "duration": 1370,
    "start_time": "2022-04-24T11:04:01.427Z"
   },
   {
    "duration": 56,
    "start_time": "2022-04-24T11:04:02.799Z"
   },
   {
    "duration": 19,
    "start_time": "2022-04-24T11:04:02.857Z"
   },
   {
    "duration": 18,
    "start_time": "2022-04-24T11:04:02.878Z"
   },
   {
    "duration": 11,
    "start_time": "2022-04-24T11:04:02.898Z"
   },
   {
    "duration": 23,
    "start_time": "2022-04-24T11:04:02.910Z"
   },
   {
    "duration": 3,
    "start_time": "2022-04-24T11:04:02.935Z"
   },
   {
    "duration": 22,
    "start_time": "2022-04-24T11:04:02.940Z"
   },
   {
    "duration": 5,
    "start_time": "2022-04-24T11:04:02.964Z"
   },
   {
    "duration": 13,
    "start_time": "2022-04-24T11:04:02.971Z"
   },
   {
    "duration": 10,
    "start_time": "2022-04-24T11:04:02.986Z"
   },
   {
    "duration": 46,
    "start_time": "2022-04-24T11:04:02.998Z"
   },
   {
    "duration": 5,
    "start_time": "2022-04-24T11:04:03.045Z"
   },
   {
    "duration": 21,
    "start_time": "2022-04-24T11:04:03.053Z"
   },
   {
    "duration": 5,
    "start_time": "2022-04-24T11:04:03.075Z"
   },
   {
    "duration": 9,
    "start_time": "2022-04-24T11:04:03.082Z"
   },
   {
    "duration": 9,
    "start_time": "2022-04-24T11:04:03.092Z"
   },
   {
    "duration": 46,
    "start_time": "2022-04-24T11:04:03.103Z"
   },
   {
    "duration": 5,
    "start_time": "2022-04-24T11:04:03.151Z"
   },
   {
    "duration": 6,
    "start_time": "2022-04-24T11:04:03.158Z"
   },
   {
    "duration": 15,
    "start_time": "2022-04-24T11:04:03.166Z"
   },
   {
    "duration": 8,
    "start_time": "2022-04-24T11:04:03.183Z"
   },
   {
    "duration": 7,
    "start_time": "2022-04-24T11:04:03.193Z"
   },
   {
    "duration": 54,
    "start_time": "2022-04-24T11:04:03.202Z"
   },
   {
    "duration": 34,
    "start_time": "2022-04-24T11:04:03.258Z"
   },
   {
    "duration": 5,
    "start_time": "2022-04-24T11:04:03.294Z"
   },
   {
    "duration": 33,
    "start_time": "2022-04-24T11:04:03.301Z"
   },
   {
    "duration": 10,
    "start_time": "2022-04-24T11:04:03.336Z"
   },
   {
    "duration": 17,
    "start_time": "2022-04-24T11:04:03.348Z"
   },
   {
    "duration": 173,
    "start_time": "2022-04-24T11:04:03.367Z"
   },
   {
    "duration": 368,
    "start_time": "2022-04-24T11:04:03.543Z"
   },
   {
    "duration": 28,
    "start_time": "2022-04-24T11:04:03.913Z"
   },
   {
    "duration": 9,
    "start_time": "2022-04-24T11:04:03.943Z"
   },
   {
    "duration": 9,
    "start_time": "2022-04-24T11:04:03.953Z"
   },
   {
    "duration": 544,
    "start_time": "2022-04-24T11:04:03.964Z"
   },
   {
    "duration": 268,
    "start_time": "2022-04-24T11:04:04.510Z"
   },
   {
    "duration": 9,
    "start_time": "2022-04-24T11:04:04.780Z"
   },
   {
    "duration": 17,
    "start_time": "2022-04-24T11:04:04.790Z"
   },
   {
    "duration": 29,
    "start_time": "2022-04-24T11:04:04.809Z"
   },
   {
    "duration": 9,
    "start_time": "2022-04-24T11:04:04.840Z"
   },
   {
    "duration": 389,
    "start_time": "2022-04-24T11:04:04.855Z"
   },
   {
    "duration": 8,
    "start_time": "2022-04-24T11:04:05.246Z"
   },
   {
    "duration": 24,
    "start_time": "2022-04-24T11:04:05.256Z"
   },
   {
    "duration": 266,
    "start_time": "2022-04-24T11:04:05.282Z"
   },
   {
    "duration": 7,
    "start_time": "2022-04-24T11:04:05.550Z"
   },
   {
    "duration": 15,
    "start_time": "2022-04-24T11:04:05.559Z"
   },
   {
    "duration": 20,
    "start_time": "2022-04-24T11:04:05.576Z"
   },
   {
    "duration": 299,
    "start_time": "2022-04-24T11:04:05.598Z"
   },
   {
    "duration": 6,
    "start_time": "2022-04-24T11:04:05.899Z"
   },
   {
    "duration": 25,
    "start_time": "2022-04-24T11:04:05.907Z"
   },
   {
    "duration": 285,
    "start_time": "2022-04-24T11:04:05.934Z"
   },
   {
    "duration": 208,
    "start_time": "2022-04-24T11:04:06.220Z"
   },
   {
    "duration": 15,
    "start_time": "2022-04-24T11:04:06.429Z"
   },
   {
    "duration": 16,
    "start_time": "2022-04-24T11:04:06.446Z"
   },
   {
    "duration": 14,
    "start_time": "2022-04-24T11:04:06.464Z"
   },
   {
    "duration": 14,
    "start_time": "2022-04-24T11:04:06.479Z"
   },
   {
    "duration": 50,
    "start_time": "2022-04-24T11:04:06.495Z"
   },
   {
    "duration": 14,
    "start_time": "2022-04-24T11:04:06.547Z"
   },
   {
    "duration": 436,
    "start_time": "2022-04-24T11:04:06.563Z"
   },
   {
    "duration": 12,
    "start_time": "2022-04-24T11:04:07.001Z"
   },
   {
    "duration": 30,
    "start_time": "2022-04-24T11:04:07.015Z"
   },
   {
    "duration": 5,
    "start_time": "2022-04-24T11:04:07.047Z"
   },
   {
    "duration": 9,
    "start_time": "2022-04-24T11:04:07.053Z"
   },
   {
    "duration": 6,
    "start_time": "2022-04-24T11:04:07.064Z"
   },
   {
    "duration": 5,
    "start_time": "2022-04-24T11:04:07.071Z"
   },
   {
    "duration": 6,
    "start_time": "2022-04-24T11:04:07.078Z"
   },
   {
    "duration": 7,
    "start_time": "2022-04-24T11:04:07.085Z"
   },
   {
    "duration": 6,
    "start_time": "2022-04-24T11:04:07.093Z"
   },
   {
    "duration": 32,
    "start_time": "2022-04-24T11:04:07.101Z"
   },
   {
    "duration": 4,
    "start_time": "2022-04-24T11:04:07.135Z"
   },
   {
    "duration": 4,
    "start_time": "2022-04-24T11:24:21.549Z"
   },
   {
    "duration": 4,
    "start_time": "2022-04-24T11:24:26.947Z"
   },
   {
    "duration": 1260,
    "start_time": "2022-04-24T11:36:26.181Z"
   },
   {
    "duration": 55,
    "start_time": "2022-04-24T11:36:27.443Z"
   },
   {
    "duration": 19,
    "start_time": "2022-04-24T11:36:27.500Z"
   },
   {
    "duration": 16,
    "start_time": "2022-04-24T11:36:27.521Z"
   },
   {
    "duration": 11,
    "start_time": "2022-04-24T11:36:27.539Z"
   },
   {
    "duration": 5,
    "start_time": "2022-04-24T11:36:27.551Z"
   },
   {
    "duration": 5,
    "start_time": "2022-04-24T11:36:27.558Z"
   },
   {
    "duration": 21,
    "start_time": "2022-04-24T11:36:27.565Z"
   },
   {
    "duration": 5,
    "start_time": "2022-04-24T11:36:27.588Z"
   },
   {
    "duration": 42,
    "start_time": "2022-04-24T11:36:27.595Z"
   },
   {
    "duration": 7,
    "start_time": "2022-04-24T11:36:27.639Z"
   },
   {
    "duration": 21,
    "start_time": "2022-04-24T11:36:27.647Z"
   },
   {
    "duration": 4,
    "start_time": "2022-04-24T11:36:27.670Z"
   },
   {
    "duration": 20,
    "start_time": "2022-04-24T11:36:27.677Z"
   },
   {
    "duration": 38,
    "start_time": "2022-04-24T11:36:27.699Z"
   },
   {
    "duration": 7,
    "start_time": "2022-04-24T11:36:27.739Z"
   },
   {
    "duration": 8,
    "start_time": "2022-04-24T11:36:27.747Z"
   },
   {
    "duration": 25,
    "start_time": "2022-04-24T11:36:27.757Z"
   },
   {
    "duration": 6,
    "start_time": "2022-04-24T11:36:27.784Z"
   },
   {
    "duration": 10,
    "start_time": "2022-04-24T11:36:27.791Z"
   },
   {
    "duration": 37,
    "start_time": "2022-04-24T11:36:27.803Z"
   },
   {
    "duration": 8,
    "start_time": "2022-04-24T11:36:27.842Z"
   },
   {
    "duration": 11,
    "start_time": "2022-04-24T11:36:27.851Z"
   },
   {
    "duration": 40,
    "start_time": "2022-04-24T11:36:27.863Z"
   },
   {
    "duration": 60,
    "start_time": "2022-04-24T11:36:27.904Z"
   },
   {
    "duration": 5,
    "start_time": "2022-04-24T11:36:27.966Z"
   },
   {
    "duration": 19,
    "start_time": "2022-04-24T11:36:27.972Z"
   },
   {
    "duration": 9,
    "start_time": "2022-04-24T11:36:27.993Z"
   },
   {
    "duration": 39,
    "start_time": "2022-04-24T11:36:28.004Z"
   },
   {
    "duration": 169,
    "start_time": "2022-04-24T11:36:28.045Z"
   },
   {
    "duration": 389,
    "start_time": "2022-04-24T11:36:28.215Z"
   },
   {
    "duration": 30,
    "start_time": "2022-04-24T11:36:28.606Z"
   },
   {
    "duration": 7,
    "start_time": "2022-04-24T11:36:28.638Z"
   },
   {
    "duration": 11,
    "start_time": "2022-04-24T11:36:28.647Z"
   },
   {
    "duration": 559,
    "start_time": "2022-04-24T11:36:28.660Z"
   },
   {
    "duration": 273,
    "start_time": "2022-04-24T11:36:29.221Z"
   },
   {
    "duration": 7,
    "start_time": "2022-04-24T11:36:29.496Z"
   },
   {
    "duration": 17,
    "start_time": "2022-04-24T11:36:29.505Z"
   },
   {
    "duration": 22,
    "start_time": "2022-04-24T11:36:29.524Z"
   },
   {
    "duration": 7,
    "start_time": "2022-04-24T11:36:29.548Z"
   },
   {
    "duration": 396,
    "start_time": "2022-04-24T11:36:29.560Z"
   },
   {
    "duration": 7,
    "start_time": "2022-04-24T11:36:29.958Z"
   },
   {
    "duration": 20,
    "start_time": "2022-04-24T11:36:29.967Z"
   },
   {
    "duration": 288,
    "start_time": "2022-04-24T11:36:29.989Z"
   },
   {
    "duration": 6,
    "start_time": "2022-04-24T11:36:30.279Z"
   },
   {
    "duration": 29,
    "start_time": "2022-04-24T11:36:30.287Z"
   },
   {
    "duration": 24,
    "start_time": "2022-04-24T11:36:30.318Z"
   },
   {
    "duration": 301,
    "start_time": "2022-04-24T11:36:30.344Z"
   },
   {
    "duration": 7,
    "start_time": "2022-04-24T11:36:30.646Z"
   },
   {
    "duration": 21,
    "start_time": "2022-04-24T11:36:30.654Z"
   },
   {
    "duration": 313,
    "start_time": "2022-04-24T11:36:30.677Z"
   },
   {
    "duration": 208,
    "start_time": "2022-04-24T11:36:30.992Z"
   },
   {
    "duration": 14,
    "start_time": "2022-04-24T11:36:31.202Z"
   },
   {
    "duration": 16,
    "start_time": "2022-04-24T11:36:31.233Z"
   },
   {
    "duration": 16,
    "start_time": "2022-04-24T11:36:31.250Z"
   },
   {
    "duration": 15,
    "start_time": "2022-04-24T11:36:31.268Z"
   },
   {
    "duration": 50,
    "start_time": "2022-04-24T11:36:31.284Z"
   },
   {
    "duration": 14,
    "start_time": "2022-04-24T11:36:31.336Z"
   },
   {
    "duration": 475,
    "start_time": "2022-04-24T11:36:31.352Z"
   },
   {
    "duration": 15,
    "start_time": "2022-04-24T11:36:31.828Z"
   },
   {
    "duration": 36,
    "start_time": "2022-04-24T11:36:31.845Z"
   },
   {
    "duration": 6,
    "start_time": "2022-04-24T11:36:31.883Z"
   },
   {
    "duration": 19,
    "start_time": "2022-04-24T11:36:31.890Z"
   },
   {
    "duration": 11,
    "start_time": "2022-04-24T11:36:31.911Z"
   },
   {
    "duration": 8,
    "start_time": "2022-04-24T11:36:31.924Z"
   },
   {
    "duration": 12,
    "start_time": "2022-04-24T11:36:31.934Z"
   },
   {
    "duration": 10,
    "start_time": "2022-04-24T11:36:31.948Z"
   },
   {
    "duration": 8,
    "start_time": "2022-04-24T11:36:31.960Z"
   },
   {
    "duration": 12,
    "start_time": "2022-04-24T11:36:31.970Z"
   },
   {
    "duration": 8,
    "start_time": "2022-04-24T11:36:31.983Z"
   },
   {
    "duration": 78,
    "start_time": "2022-04-24T14:34:40.966Z"
   },
   {
    "duration": 1549,
    "start_time": "2022-04-24T14:34:44.790Z"
   },
   {
    "duration": 51,
    "start_time": "2022-04-24T14:34:46.342Z"
   },
   {
    "duration": 19,
    "start_time": "2022-04-24T14:34:46.396Z"
   },
   {
    "duration": 21,
    "start_time": "2022-04-24T14:34:46.426Z"
   },
   {
    "duration": 14,
    "start_time": "2022-04-24T14:34:46.451Z"
   },
   {
    "duration": 5,
    "start_time": "2022-04-24T14:34:46.467Z"
   },
   {
    "duration": 15,
    "start_time": "2022-04-24T14:34:46.474Z"
   },
   {
    "duration": 48,
    "start_time": "2022-04-24T14:34:46.491Z"
   },
   {
    "duration": 10,
    "start_time": "2022-04-24T14:34:46.541Z"
   },
   {
    "duration": 12,
    "start_time": "2022-04-24T14:34:46.553Z"
   },
   {
    "duration": 9,
    "start_time": "2022-04-24T14:34:46.567Z"
   },
   {
    "duration": 16,
    "start_time": "2022-04-24T14:34:46.578Z"
   },
   {
    "duration": 5,
    "start_time": "2022-04-24T14:34:46.596Z"
   },
   {
    "duration": 25,
    "start_time": "2022-04-24T14:34:46.627Z"
   },
   {
    "duration": 5,
    "start_time": "2022-04-24T14:34:46.655Z"
   },
   {
    "duration": 7,
    "start_time": "2022-04-24T14:34:46.662Z"
   },
   {
    "duration": 6,
    "start_time": "2022-04-24T14:34:46.672Z"
   },
   {
    "duration": 56,
    "start_time": "2022-04-24T14:34:46.681Z"
   },
   {
    "duration": 7,
    "start_time": "2022-04-24T14:34:46.739Z"
   },
   {
    "duration": 9,
    "start_time": "2022-04-24T14:34:46.748Z"
   },
   {
    "duration": 10,
    "start_time": "2022-04-24T14:34:46.759Z"
   },
   {
    "duration": 17,
    "start_time": "2022-04-24T14:34:46.771Z"
   },
   {
    "duration": 8,
    "start_time": "2022-04-24T14:34:46.790Z"
   },
   {
    "duration": 68,
    "start_time": "2022-04-24T14:34:46.801Z"
   },
   {
    "duration": 55,
    "start_time": "2022-04-24T14:34:46.871Z"
   },
   {
    "duration": 8,
    "start_time": "2022-04-24T14:34:46.930Z"
   },
   {
    "duration": 30,
    "start_time": "2022-04-24T14:34:46.940Z"
   },
   {
    "duration": 13,
    "start_time": "2022-04-24T14:34:46.972Z"
   },
   {
    "duration": 30,
    "start_time": "2022-04-24T14:34:46.987Z"
   },
   {
    "duration": 230,
    "start_time": "2022-04-24T14:34:47.023Z"
   },
   {
    "duration": 517,
    "start_time": "2022-04-24T14:34:47.255Z"
   },
   {
    "duration": 20,
    "start_time": "2022-04-24T14:34:47.774Z"
   },
   {
    "duration": 10,
    "start_time": "2022-04-24T14:34:47.796Z"
   },
   {
    "duration": 11,
    "start_time": "2022-04-24T14:34:47.824Z"
   },
   {
    "duration": 465,
    "start_time": "2022-04-24T14:34:47.839Z"
   },
   {
    "duration": 363,
    "start_time": "2022-04-24T14:34:48.306Z"
   },
   {
    "duration": 8,
    "start_time": "2022-04-24T14:34:48.670Z"
   },
   {
    "duration": 19,
    "start_time": "2022-04-24T14:34:48.679Z"
   },
   {
    "duration": 20,
    "start_time": "2022-04-24T14:34:48.699Z"
   },
   {
    "duration": 14,
    "start_time": "2022-04-24T14:34:48.721Z"
   },
   {
    "duration": 596,
    "start_time": "2022-04-24T14:34:48.742Z"
   },
   {
    "duration": 0,
    "start_time": "2022-04-24T14:34:49.340Z"
   },
   {
    "duration": 0,
    "start_time": "2022-04-24T14:34:49.342Z"
   },
   {
    "duration": 0,
    "start_time": "2022-04-24T14:34:49.345Z"
   },
   {
    "duration": 0,
    "start_time": "2022-04-24T14:34:49.345Z"
   },
   {
    "duration": 0,
    "start_time": "2022-04-24T14:34:49.347Z"
   },
   {
    "duration": 0,
    "start_time": "2022-04-24T14:34:49.347Z"
   },
   {
    "duration": 0,
    "start_time": "2022-04-24T14:34:49.349Z"
   },
   {
    "duration": 0,
    "start_time": "2022-04-24T14:34:49.350Z"
   },
   {
    "duration": 0,
    "start_time": "2022-04-24T14:34:49.351Z"
   },
   {
    "duration": 0,
    "start_time": "2022-04-24T14:34:49.352Z"
   },
   {
    "duration": 0,
    "start_time": "2022-04-24T14:34:49.353Z"
   },
   {
    "duration": 0,
    "start_time": "2022-04-24T14:34:49.355Z"
   },
   {
    "duration": 0,
    "start_time": "2022-04-24T14:34:49.356Z"
   },
   {
    "duration": 0,
    "start_time": "2022-04-24T14:34:49.357Z"
   },
   {
    "duration": 0,
    "start_time": "2022-04-24T14:34:49.358Z"
   },
   {
    "duration": 0,
    "start_time": "2022-04-24T14:34:49.359Z"
   },
   {
    "duration": 0,
    "start_time": "2022-04-24T14:34:49.360Z"
   },
   {
    "duration": 0,
    "start_time": "2022-04-24T14:34:49.361Z"
   },
   {
    "duration": 0,
    "start_time": "2022-04-24T14:34:49.362Z"
   },
   {
    "duration": 0,
    "start_time": "2022-04-24T14:34:49.363Z"
   },
   {
    "duration": 0,
    "start_time": "2022-04-24T14:34:49.364Z"
   },
   {
    "duration": 0,
    "start_time": "2022-04-24T14:34:49.365Z"
   },
   {
    "duration": 0,
    "start_time": "2022-04-24T14:34:49.365Z"
   },
   {
    "duration": 0,
    "start_time": "2022-04-24T14:34:49.367Z"
   },
   {
    "duration": 0,
    "start_time": "2022-04-24T14:34:49.368Z"
   },
   {
    "duration": 0,
    "start_time": "2022-04-24T14:34:49.369Z"
   },
   {
    "duration": 0,
    "start_time": "2022-04-24T14:34:49.370Z"
   },
   {
    "duration": 0,
    "start_time": "2022-04-24T14:34:49.371Z"
   },
   {
    "duration": 0,
    "start_time": "2022-04-24T14:34:49.372Z"
   },
   {
    "duration": 373,
    "start_time": "2022-04-24T14:35:06.340Z"
   },
   {
    "duration": 306,
    "start_time": "2022-04-24T14:35:08.821Z"
   },
   {
    "duration": 3,
    "start_time": "2022-04-24T14:35:12.316Z"
   },
   {
    "duration": 51,
    "start_time": "2022-04-24T14:35:12.320Z"
   },
   {
    "duration": 15,
    "start_time": "2022-04-24T14:35:12.373Z"
   },
   {
    "duration": 17,
    "start_time": "2022-04-24T14:35:12.390Z"
   },
   {
    "duration": 26,
    "start_time": "2022-04-24T14:35:12.410Z"
   },
   {
    "duration": 4,
    "start_time": "2022-04-24T14:35:12.440Z"
   },
   {
    "duration": 8,
    "start_time": "2022-04-24T14:35:12.446Z"
   },
   {
    "duration": 18,
    "start_time": "2022-04-24T14:35:12.456Z"
   },
   {
    "duration": 4,
    "start_time": "2022-04-24T14:35:12.476Z"
   },
   {
    "duration": 9,
    "start_time": "2022-04-24T14:35:12.481Z"
   },
   {
    "duration": 41,
    "start_time": "2022-04-24T14:35:12.491Z"
   },
   {
    "duration": 24,
    "start_time": "2022-04-24T14:35:12.533Z"
   },
   {
    "duration": 5,
    "start_time": "2022-04-24T14:35:12.561Z"
   },
   {
    "duration": 17,
    "start_time": "2022-04-24T14:35:12.567Z"
   },
   {
    "duration": 5,
    "start_time": "2022-04-24T14:35:12.586Z"
   },
   {
    "duration": 7,
    "start_time": "2022-04-24T14:35:12.592Z"
   },
   {
    "duration": 27,
    "start_time": "2022-04-24T14:35:12.601Z"
   },
   {
    "duration": 22,
    "start_time": "2022-04-24T14:35:12.632Z"
   },
   {
    "duration": 6,
    "start_time": "2022-04-24T14:35:12.655Z"
   },
   {
    "duration": 6,
    "start_time": "2022-04-24T14:35:12.663Z"
   },
   {
    "duration": 11,
    "start_time": "2022-04-24T14:35:12.671Z"
   },
   {
    "duration": 8,
    "start_time": "2022-04-24T14:35:12.683Z"
   },
   {
    "duration": 9,
    "start_time": "2022-04-24T14:35:12.692Z"
   },
   {
    "duration": 54,
    "start_time": "2022-04-24T14:35:12.702Z"
   },
   {
    "duration": 30,
    "start_time": "2022-04-24T14:35:12.758Z"
   },
   {
    "duration": 5,
    "start_time": "2022-04-24T14:35:12.790Z"
   },
   {
    "duration": 33,
    "start_time": "2022-04-24T14:35:12.796Z"
   },
   {
    "duration": 14,
    "start_time": "2022-04-24T14:35:12.831Z"
   },
   {
    "duration": 15,
    "start_time": "2022-04-24T14:35:12.846Z"
   },
   {
    "duration": 131,
    "start_time": "2022-04-24T14:35:12.863Z"
   },
   {
    "duration": 310,
    "start_time": "2022-04-24T14:35:12.995Z"
   },
   {
    "duration": 25,
    "start_time": "2022-04-24T14:35:13.306Z"
   },
   {
    "duration": 8,
    "start_time": "2022-04-24T14:35:13.333Z"
   },
   {
    "duration": 11,
    "start_time": "2022-04-24T14:35:13.344Z"
   },
   {
    "duration": 442,
    "start_time": "2022-04-24T14:35:13.356Z"
   },
   {
    "duration": 213,
    "start_time": "2022-04-24T14:35:13.800Z"
   },
   {
    "duration": 12,
    "start_time": "2022-04-24T14:35:14.017Z"
   },
   {
    "duration": 25,
    "start_time": "2022-04-24T14:35:14.031Z"
   },
   {
    "duration": 22,
    "start_time": "2022-04-24T14:35:14.058Z"
   },
   {
    "duration": 7,
    "start_time": "2022-04-24T14:35:14.082Z"
   },
   {
    "duration": 413,
    "start_time": "2022-04-24T14:35:14.090Z"
   },
   {
    "duration": 7,
    "start_time": "2022-04-24T14:35:14.505Z"
   },
   {
    "duration": 22,
    "start_time": "2022-04-24T14:35:14.513Z"
   },
   {
    "duration": 156,
    "start_time": "2022-04-24T14:35:14.536Z"
   },
   {
    "duration": 5,
    "start_time": "2022-04-24T14:35:14.693Z"
   },
   {
    "duration": 24,
    "start_time": "2022-04-24T14:35:14.700Z"
   },
   {
    "duration": 28,
    "start_time": "2022-04-24T14:35:14.728Z"
   },
   {
    "duration": 232,
    "start_time": "2022-04-24T14:35:14.758Z"
   },
   {
    "duration": 6,
    "start_time": "2022-04-24T14:35:14.992Z"
   },
   {
    "duration": 17,
    "start_time": "2022-04-24T14:35:14.999Z"
   },
   {
    "duration": 253,
    "start_time": "2022-04-24T14:35:15.023Z"
   },
   {
    "duration": 177,
    "start_time": "2022-04-24T14:35:15.278Z"
   },
   {
    "duration": 13,
    "start_time": "2022-04-24T14:35:15.457Z"
   },
   {
    "duration": 14,
    "start_time": "2022-04-24T14:35:15.472Z"
   },
   {
    "duration": 13,
    "start_time": "2022-04-24T14:35:15.487Z"
   },
   {
    "duration": 42,
    "start_time": "2022-04-24T14:35:15.502Z"
   },
   {
    "duration": 16,
    "start_time": "2022-04-24T14:35:15.546Z"
   },
   {
    "duration": 13,
    "start_time": "2022-04-24T14:35:15.563Z"
   },
   {
    "duration": 387,
    "start_time": "2022-04-24T14:35:15.578Z"
   },
   {
    "duration": 11,
    "start_time": "2022-04-24T14:35:15.967Z"
   },
   {
    "duration": 16,
    "start_time": "2022-04-24T14:35:15.979Z"
   },
   {
    "duration": 3,
    "start_time": "2022-04-24T14:35:15.996Z"
   },
   {
    "duration": 6,
    "start_time": "2022-04-24T14:35:16.000Z"
   },
   {
    "duration": 7,
    "start_time": "2022-04-24T14:35:16.026Z"
   },
   {
    "duration": 17,
    "start_time": "2022-04-24T14:35:16.034Z"
   },
   {
    "duration": 6,
    "start_time": "2022-04-24T14:35:16.053Z"
   },
   {
    "duration": 5,
    "start_time": "2022-04-24T14:35:16.061Z"
   },
   {
    "duration": 7,
    "start_time": "2022-04-24T14:35:16.067Z"
   },
   {
    "duration": 4,
    "start_time": "2022-04-24T14:35:16.075Z"
   },
   {
    "duration": 5,
    "start_time": "2022-04-24T14:35:16.081Z"
   },
   {
    "duration": 1304,
    "start_time": "2022-04-25T14:40:12.625Z"
   },
   {
    "duration": 37,
    "start_time": "2022-04-25T14:40:13.931Z"
   },
   {
    "duration": 18,
    "start_time": "2022-04-25T14:40:13.970Z"
   },
   {
    "duration": 30,
    "start_time": "2022-04-25T14:40:13.989Z"
   },
   {
    "duration": 9,
    "start_time": "2022-04-25T14:40:14.021Z"
   },
   {
    "duration": 5,
    "start_time": "2022-04-25T14:40:14.031Z"
   },
   {
    "duration": 4,
    "start_time": "2022-04-25T14:40:14.038Z"
   },
   {
    "duration": 20,
    "start_time": "2022-04-25T14:40:14.043Z"
   },
   {
    "duration": 4,
    "start_time": "2022-04-25T14:40:14.065Z"
   },
   {
    "duration": 40,
    "start_time": "2022-04-25T14:40:14.071Z"
   },
   {
    "duration": 7,
    "start_time": "2022-04-25T14:40:14.113Z"
   },
   {
    "duration": 17,
    "start_time": "2022-04-25T14:40:14.121Z"
   },
   {
    "duration": 4,
    "start_time": "2022-04-25T14:40:14.139Z"
   },
   {
    "duration": 19,
    "start_time": "2022-04-25T14:40:14.146Z"
   },
   {
    "duration": 6,
    "start_time": "2022-04-25T14:40:14.166Z"
   },
   {
    "duration": 41,
    "start_time": "2022-04-25T14:40:14.173Z"
   },
   {
    "duration": 7,
    "start_time": "2022-04-25T14:40:14.216Z"
   },
   {
    "duration": 25,
    "start_time": "2022-04-25T14:40:14.225Z"
   },
   {
    "duration": 6,
    "start_time": "2022-04-25T14:40:14.251Z"
   },
   {
    "duration": 8,
    "start_time": "2022-04-25T14:40:14.259Z"
   },
   {
    "duration": 16,
    "start_time": "2022-04-25T14:40:14.269Z"
   },
   {
    "duration": 7,
    "start_time": "2022-04-25T14:40:14.287Z"
   },
   {
    "duration": 3,
    "start_time": "2022-04-25T14:40:14.308Z"
   },
   {
    "duration": 45,
    "start_time": "2022-04-25T14:40:14.313Z"
   },
   {
    "duration": 33,
    "start_time": "2022-04-25T14:40:14.360Z"
   },
   {
    "duration": 12,
    "start_time": "2022-04-25T14:40:14.395Z"
   },
   {
    "duration": 15,
    "start_time": "2022-04-25T14:40:14.409Z"
   },
   {
    "duration": 10,
    "start_time": "2022-04-25T14:40:14.426Z"
   },
   {
    "duration": 14,
    "start_time": "2022-04-25T14:40:14.437Z"
   },
   {
    "duration": 172,
    "start_time": "2022-04-25T14:40:14.453Z"
   },
   {
    "duration": 353,
    "start_time": "2022-04-25T14:40:14.627Z"
   },
   {
    "duration": 26,
    "start_time": "2022-04-25T14:40:14.982Z"
   },
   {
    "duration": 7,
    "start_time": "2022-04-25T14:40:15.010Z"
   },
   {
    "duration": 14,
    "start_time": "2022-04-25T14:40:15.019Z"
   },
   {
    "duration": 522,
    "start_time": "2022-04-25T14:40:15.035Z"
   },
   {
    "duration": 273,
    "start_time": "2022-04-25T14:40:15.559Z"
   },
   {
    "duration": 8,
    "start_time": "2022-04-25T14:40:15.833Z"
   },
   {
    "duration": 16,
    "start_time": "2022-04-25T14:40:15.843Z"
   },
   {
    "duration": 16,
    "start_time": "2022-04-25T14:40:15.861Z"
   },
   {
    "duration": 10,
    "start_time": "2022-04-25T14:40:15.878Z"
   },
   {
    "duration": 364,
    "start_time": "2022-04-25T14:40:15.893Z"
   },
   {
    "duration": 6,
    "start_time": "2022-04-25T14:40:16.259Z"
   },
   {
    "duration": 17,
    "start_time": "2022-04-25T14:40:16.267Z"
   },
   {
    "duration": 257,
    "start_time": "2022-04-25T14:40:16.286Z"
   },
   {
    "duration": 6,
    "start_time": "2022-04-25T14:40:16.544Z"
   },
   {
    "duration": 16,
    "start_time": "2022-04-25T14:40:16.552Z"
   },
   {
    "duration": 10,
    "start_time": "2022-04-25T14:40:16.569Z"
   },
   {
    "duration": 272,
    "start_time": "2022-04-25T14:40:16.581Z"
   },
   {
    "duration": 6,
    "start_time": "2022-04-25T14:40:16.854Z"
   },
   {
    "duration": 10,
    "start_time": "2022-04-25T14:40:16.862Z"
   },
   {
    "duration": 309,
    "start_time": "2022-04-25T14:40:16.874Z"
   },
   {
    "duration": 210,
    "start_time": "2022-04-25T14:40:17.184Z"
   },
   {
    "duration": 18,
    "start_time": "2022-04-25T14:40:17.396Z"
   },
   {
    "duration": 15,
    "start_time": "2022-04-25T14:40:17.416Z"
   },
   {
    "duration": 17,
    "start_time": "2022-04-25T14:40:17.433Z"
   },
   {
    "duration": 25,
    "start_time": "2022-04-25T14:40:17.452Z"
   },
   {
    "duration": 37,
    "start_time": "2022-04-25T14:40:17.479Z"
   },
   {
    "duration": 13,
    "start_time": "2022-04-25T14:40:17.517Z"
   },
   {
    "duration": 438,
    "start_time": "2022-04-25T14:40:17.532Z"
   },
   {
    "duration": 11,
    "start_time": "2022-04-25T14:40:17.972Z"
   },
   {
    "duration": 25,
    "start_time": "2022-04-25T14:40:17.985Z"
   },
   {
    "duration": 3,
    "start_time": "2022-04-25T14:40:18.012Z"
   },
   {
    "duration": 9,
    "start_time": "2022-04-25T14:40:18.016Z"
   },
   {
    "duration": 7,
    "start_time": "2022-04-25T14:40:18.026Z"
   },
   {
    "duration": 4,
    "start_time": "2022-04-25T14:40:18.034Z"
   },
   {
    "duration": 7,
    "start_time": "2022-04-25T14:40:18.040Z"
   },
   {
    "duration": 4,
    "start_time": "2022-04-25T14:40:18.049Z"
   },
   {
    "duration": 5,
    "start_time": "2022-04-25T14:40:18.055Z"
   },
   {
    "duration": 5,
    "start_time": "2022-04-25T14:40:18.061Z"
   },
   {
    "duration": 40,
    "start_time": "2022-04-25T14:40:18.068Z"
   }
  ],
  "kernelspec": {
   "display_name": "Python 3",
   "language": "python",
   "name": "python3"
  },
  "language_info": {
   "codemirror_mode": {
    "name": "ipython",
    "version": 3
   },
   "file_extension": ".py",
   "mimetype": "text/x-python",
   "name": "python",
   "nbconvert_exporter": "python",
   "pygments_lexer": "ipython3",
   "version": "3.7.1"
  },
  "toc": {
   "base_numbering": 1,
   "nav_menu": {
    "height": "198px",
    "width": "323px"
   },
   "number_sections": true,
   "sideBar": true,
   "skip_h1_title": true,
   "title_cell": "Table of Contents",
   "title_sidebar": "Contents",
   "toc_cell": false,
   "toc_position": {},
   "toc_section_display": true,
   "toc_window_display": false
  }
 },
 "nbformat": 4,
 "nbformat_minor": 2
}
