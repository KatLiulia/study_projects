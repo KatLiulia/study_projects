{
 "cells": [
  {
   "cell_type": "markdown",
   "metadata": {
    "toc": true
   },
   "source": [
    "<h1>Содержание<span class=\"tocSkip\"></span></h1>\n",
    "<div class=\"toc\"><ul class=\"toc-item\"><li><span><a href=\"#Изучение-данных-из-файла\" data-toc-modified-id=\"Изучение-данных-из-файла-1\"><span class=\"toc-item-num\">1&nbsp;&nbsp;</span>Изучение данных из файла</a></span><ul class=\"toc-item\"><li><span><a href=\"#Вывод\" data-toc-modified-id=\"Вывод-1.1\"><span class=\"toc-item-num\">1.1&nbsp;&nbsp;</span>Вывод</a></span></li></ul></li><li><span><a href=\"#Предобработка-данных\" data-toc-modified-id=\"Предобработка-данных-2\"><span class=\"toc-item-num\">2&nbsp;&nbsp;</span>Предобработка данных</a></span></li><li><span><a href=\"#Расчёты-и-добавление-результатов-в-таблицу\" data-toc-modified-id=\"Расчёты-и-добавление-результатов-в-таблицу-3\"><span class=\"toc-item-num\">3&nbsp;&nbsp;</span>Расчёты и добавление результатов в таблицу</a></span><ul class=\"toc-item\"><li><span><a href=\"#Посчитаем-и-добавим-в-таблицу:-день-недели,-месяц-и-год-публикации-объявления-для-последующего-анализа.\" data-toc-modified-id=\"Посчитаем-и-добавим-в-таблицу:-день-недели,-месяц-и-год-публикации-объявления-для-последующего-анализа.-3.1\"><span class=\"toc-item-num\">3.1&nbsp;&nbsp;</span>Посчитаем и добавим в таблицу: день недели, месяц и год публикации объявления для последующего анализа.</a></span></li><li><span><a href=\"#Посчитаем-цену-квадратного-метра:\" data-toc-modified-id=\"Посчитаем-цену-квадратного-метра:-3.2\"><span class=\"toc-item-num\">3.2&nbsp;&nbsp;</span>Посчитаем цену квадратного метра:</a></span></li><li><span><a href=\"#Посчитаем-и-добавим-в-таблицу-столбец-с-обозначением-этажа-квартиры.\" data-toc-modified-id=\"Посчитаем-и-добавим-в-таблицу-столбец-с-обозначением-этажа-квартиры.-3.3\"><span class=\"toc-item-num\">3.3&nbsp;&nbsp;</span>Посчитаем и добавим в таблицу столбец с обозначением этажа квартиры.</a></span></li><li><span><a href=\"#Посчитаем-и-добавим-в-таблицу-соотношение-жилой-и-общей-площади,-а-также-отношение-площади-кухни-к-общей:\" data-toc-modified-id=\"Посчитаем-и-добавим-в-таблицу-соотношение-жилой-и-общей-площади,-а-также-отношение-площади-кухни-к-общей:-3.4\"><span class=\"toc-item-num\">3.4&nbsp;&nbsp;</span>Посчитаем и добавим в таблицу соотношение жилой и общей площади, а также отношение площади кухни к общей:</a></span></li></ul></li><li><span><a href=\"#Исследовательский-анализ-данных\" data-toc-modified-id=\"Исследовательский-анализ-данных-4\"><span class=\"toc-item-num\">4&nbsp;&nbsp;</span>Исследовательский анализ данных</a></span><ul class=\"toc-item\"><li><span><a href=\"#Изучим-следующие-параметры:-площадь,-цена,-число-комнат,-высота-потолков:\" data-toc-modified-id=\"Изучим-следующие-параметры:-площадь,-цена,-число-комнат,-высота-потолков:-4.1\"><span class=\"toc-item-num\">4.1&nbsp;&nbsp;</span>Изучим следующие параметры: площадь, цена, число комнат, высота потолков:</a></span></li><li><span><a href=\"#Проанализируем-время-продажи-квартиры:\" data-toc-modified-id=\"Проанализируем-время-продажи-квартиры:-4.2\"><span class=\"toc-item-num\">4.2&nbsp;&nbsp;</span>Проанализируем время продажи квартиры:</a></span></li><li><span><a href=\"#\" data-toc-modified-id=\"-4.3\"><span class=\"toc-item-num\">4.3&nbsp;&nbsp;</span></a></span><ul class=\"toc-item\"><li><span><a href=\"#Определим,-зависит-ли-цена-от-площади,-числа-комнат-и-удалённости-от-центра:\" data-toc-modified-id=\"Определим,-зависит-ли-цена-от-площади,-числа-комнат-и-удалённости-от-центра:-4.3.1\"><span class=\"toc-item-num\">4.3.1&nbsp;&nbsp;</span>Определим, зависит ли цена от площади, числа комнат и удалённости от центра:</a></span></li><li><span><a href=\"#Изучим-зависимость-цены-от-того,-на-каком-этаже-расположена-квартира:-первом,-последнем-или-другом.\" data-toc-modified-id=\"Изучим-зависимость-цены-от-того,-на-каком-этаже-расположена-квартира:-первом,-последнем-или-другом.-4.3.2\"><span class=\"toc-item-num\">4.3.2&nbsp;&nbsp;</span>Изучим зависимость цены от того, на каком этаже расположена квартира: первом, последнем или другом.</a></span></li><li><span><a href=\"#Также-изучим-зависимость-от-даты-размещения:-дня-недели,-месяца-и-года.\" data-toc-modified-id=\"Также-изучим-зависимость-от-даты-размещения:-дня-недели,-месяца-и-года.-4.3.3\"><span class=\"toc-item-num\">4.3.3&nbsp;&nbsp;</span>Также изучим зависимость от даты размещения: дня недели, месяца и года.</a></span></li></ul></li><li><span><a href=\"#Найдем-10-населённых-пунктов-с-наибольшим-числом-объявлений.-Посчитаем-среднюю-цену-квадратного-метра-в-этих-населённых-пунктах.\" data-toc-modified-id=\"Найдем-10-населённых-пунктов-с-наибольшим-числом-объявлений.-Посчитаем-среднюю-цену-квадратного-метра-в-этих-населённых-пунктах.-4.4\"><span class=\"toc-item-num\">4.4&nbsp;&nbsp;</span>Найдем 10 населённых пунктов с наибольшим числом объявлений. Посчитаем среднюю цену квадратного метра в этих населённых пунктах.</a></span></li><li><span><a href=\"#Изучим-предложения-квартир-в-Санкт-Петербурге.\" data-toc-modified-id=\"Изучим-предложения-квартир-в-Санкт-Петербурге.-4.5\"><span class=\"toc-item-num\">4.5&nbsp;&nbsp;</span>Изучим предложения квартир в Санкт-Петербурге.</a></span></li><li><span><a href=\"#Выделим-сегмент-квартир-в-центре:\" data-toc-modified-id=\"Выделим-сегмент-квартир-в-центре:-4.6\"><span class=\"toc-item-num\">4.6&nbsp;&nbsp;</span>Выделим сегмент квартир в центре:</a></span></li></ul></li><li><span><a href=\"#Общий-вывод\" data-toc-modified-id=\"Общий-вывод-5\"><span class=\"toc-item-num\">5&nbsp;&nbsp;</span>Общий вывод</a></span><ul class=\"toc-item\"><li><span><a href=\"#Параметры.\" data-toc-modified-id=\"Параметры.-5.1\"><span class=\"toc-item-num\">5.1&nbsp;&nbsp;</span>Параметры.</a></span></li></ul></li><li><span><a href=\"#Чек-лист-готовности-проекта\" data-toc-modified-id=\"Чек-лист-готовности-проекта-6\"><span class=\"toc-item-num\">6&nbsp;&nbsp;</span>Чек-лист готовности проекта</a></span></li></ul></div>"
   ]
  },
  {
   "cell_type": "markdown",
   "metadata": {},
   "source": [
    "# Исследование объявлений о продаже квартир\n",
    "\n",
    "В вашем распоряжении архив объявлений о продаже квартир в Санкт-Петербурге и соседних населённых пунктах за несколько лет — `realty_data`. Нужно научиться определять рыночную стоимость объектов недвижимости. Ваша задача — установить параметры. Это позволит построить автоматизированную систему: она отследит аномалии и мошенническую деятельность. \n",
    "\n",
    "По каждой квартире на продажу доступны два вида данных. Первые вписаны пользователем, вторые получены автоматически на основе картографических данных. Например, расстояние до центра, аэропорта, ближайшего парка и водоёма. "
   ]
  },
  {
   "cell_type": "markdown",
   "metadata": {},
   "source": [
    "**Описание данных**\n",
    "\n",
    "- `airports_nearest` — расстояние до ближайшего аэропорта в метрах (м)\n",
    "- `balcony` — число балконов\n",
    "- `ceiling_height` — высота потолков (м)\n",
    "- `cityCenters_nearest` — расстояние до центра города (м)\n",
    "- `days_exposition` — сколько дней было размещено объявление (от публикации до снятия)\n",
    "- `first_day_exposition` — дата публикации\n",
    "- `floor` — этаж\n",
    "- `floors_total` — всего этажей в доме\n",
    "- `is_apartment` — апартаменты (булев тип)\n",
    "- `kitchen_area` — площадь кухни в квадратных метрах (м²)\n",
    "- `last_price` — цена на момент снятия с публикации\n",
    "- `living_area` — жилая площадь в квадратных метрах (м²)\n",
    "- `locality_name` — название населённого пункта\n",
    "- `open_plan` — свободная планировка (булев тип)\n",
    "- `parks_around3000` — число парков в радиусе 3 км\n",
    "- `parks_nearest` — расстояние до ближайшего парка (м)\n",
    "- `ponds_around3000` — число водоёмов в радиусе 3 км\n",
    "- `ponds_nearest` — расстояние до ближайшего водоёма (м)\n",
    "- `rooms` — число комнат\n",
    "- `studio` — квартира-студия (булев тип)\n",
    "- `total_area` — площадь квартиры в квадратных метрах (м²)\n",
    "- `total_images` — число фотографий квартиры в объявлении"
   ]
  },
  {
   "cell_type": "code",
   "execution_count": 1,
   "metadata": {},
   "outputs": [],
   "source": [
    "import pandas as pd"
   ]
  },
  {
   "cell_type": "code",
   "execution_count": 2,
   "metadata": {},
   "outputs": [],
   "source": [
    "import seaborn as sns"
   ]
  },
  {
   "cell_type": "markdown",
   "metadata": {},
   "source": [
    "## Изучение данных из файла"
   ]
  },
  {
   "cell_type": "code",
   "execution_count": 3,
   "metadata": {},
   "outputs": [],
   "source": [
    "realty_data = pd.read_csv('/datasets/real_estate_data.csv', sep='\\t', decimal='.')"
   ]
  },
  {
   "cell_type": "code",
   "execution_count": 4,
   "metadata": {},
   "outputs": [
    {
     "data": {
      "text/html": [
       "<div>\n",
       "<style scoped>\n",
       "    .dataframe tbody tr th:only-of-type {\n",
       "        vertical-align: middle;\n",
       "    }\n",
       "\n",
       "    .dataframe tbody tr th {\n",
       "        vertical-align: top;\n",
       "    }\n",
       "\n",
       "    .dataframe thead th {\n",
       "        text-align: right;\n",
       "    }\n",
       "</style>\n",
       "<table border=\"1\" class=\"dataframe\">\n",
       "  <thead>\n",
       "    <tr style=\"text-align: right;\">\n",
       "      <th></th>\n",
       "      <th>total_images</th>\n",
       "      <th>last_price</th>\n",
       "      <th>total_area</th>\n",
       "      <th>first_day_exposition</th>\n",
       "      <th>rooms</th>\n",
       "      <th>ceiling_height</th>\n",
       "      <th>floors_total</th>\n",
       "      <th>living_area</th>\n",
       "      <th>floor</th>\n",
       "      <th>is_apartment</th>\n",
       "      <th>studio</th>\n",
       "      <th>open_plan</th>\n",
       "      <th>kitchen_area</th>\n",
       "      <th>balcony</th>\n",
       "      <th>locality_name</th>\n",
       "      <th>airports_nearest</th>\n",
       "      <th>cityCenters_nearest</th>\n",
       "      <th>parks_around3000</th>\n",
       "      <th>parks_nearest</th>\n",
       "      <th>ponds_around3000</th>\n",
       "      <th>ponds_nearest</th>\n",
       "      <th>days_exposition</th>\n",
       "    </tr>\n",
       "  </thead>\n",
       "  <tbody>\n",
       "    <tr>\n",
       "      <th>0</th>\n",
       "      <td>20</td>\n",
       "      <td>13000000.0</td>\n",
       "      <td>108.0</td>\n",
       "      <td>2019-03-07T00:00:00</td>\n",
       "      <td>3</td>\n",
       "      <td>2.70</td>\n",
       "      <td>16.0</td>\n",
       "      <td>51.0</td>\n",
       "      <td>8</td>\n",
       "      <td>NaN</td>\n",
       "      <td>False</td>\n",
       "      <td>False</td>\n",
       "      <td>25.0</td>\n",
       "      <td>NaN</td>\n",
       "      <td>Санкт-Петербург</td>\n",
       "      <td>18863.0</td>\n",
       "      <td>16028.0</td>\n",
       "      <td>1.0</td>\n",
       "      <td>482.0</td>\n",
       "      <td>2.0</td>\n",
       "      <td>755.0</td>\n",
       "      <td>NaN</td>\n",
       "    </tr>\n",
       "    <tr>\n",
       "      <th>1</th>\n",
       "      <td>7</td>\n",
       "      <td>3350000.0</td>\n",
       "      <td>40.4</td>\n",
       "      <td>2018-12-04T00:00:00</td>\n",
       "      <td>1</td>\n",
       "      <td>NaN</td>\n",
       "      <td>11.0</td>\n",
       "      <td>18.6</td>\n",
       "      <td>1</td>\n",
       "      <td>NaN</td>\n",
       "      <td>False</td>\n",
       "      <td>False</td>\n",
       "      <td>11.0</td>\n",
       "      <td>2.0</td>\n",
       "      <td>посёлок Шушары</td>\n",
       "      <td>12817.0</td>\n",
       "      <td>18603.0</td>\n",
       "      <td>0.0</td>\n",
       "      <td>NaN</td>\n",
       "      <td>0.0</td>\n",
       "      <td>NaN</td>\n",
       "      <td>81.0</td>\n",
       "    </tr>\n",
       "    <tr>\n",
       "      <th>2</th>\n",
       "      <td>10</td>\n",
       "      <td>5196000.0</td>\n",
       "      <td>56.0</td>\n",
       "      <td>2015-08-20T00:00:00</td>\n",
       "      <td>2</td>\n",
       "      <td>NaN</td>\n",
       "      <td>5.0</td>\n",
       "      <td>34.3</td>\n",
       "      <td>4</td>\n",
       "      <td>NaN</td>\n",
       "      <td>False</td>\n",
       "      <td>False</td>\n",
       "      <td>8.3</td>\n",
       "      <td>0.0</td>\n",
       "      <td>Санкт-Петербург</td>\n",
       "      <td>21741.0</td>\n",
       "      <td>13933.0</td>\n",
       "      <td>1.0</td>\n",
       "      <td>90.0</td>\n",
       "      <td>2.0</td>\n",
       "      <td>574.0</td>\n",
       "      <td>558.0</td>\n",
       "    </tr>\n",
       "    <tr>\n",
       "      <th>3</th>\n",
       "      <td>0</td>\n",
       "      <td>64900000.0</td>\n",
       "      <td>159.0</td>\n",
       "      <td>2015-07-24T00:00:00</td>\n",
       "      <td>3</td>\n",
       "      <td>NaN</td>\n",
       "      <td>14.0</td>\n",
       "      <td>NaN</td>\n",
       "      <td>9</td>\n",
       "      <td>NaN</td>\n",
       "      <td>False</td>\n",
       "      <td>False</td>\n",
       "      <td>NaN</td>\n",
       "      <td>0.0</td>\n",
       "      <td>Санкт-Петербург</td>\n",
       "      <td>28098.0</td>\n",
       "      <td>6800.0</td>\n",
       "      <td>2.0</td>\n",
       "      <td>84.0</td>\n",
       "      <td>3.0</td>\n",
       "      <td>234.0</td>\n",
       "      <td>424.0</td>\n",
       "    </tr>\n",
       "    <tr>\n",
       "      <th>4</th>\n",
       "      <td>2</td>\n",
       "      <td>10000000.0</td>\n",
       "      <td>100.0</td>\n",
       "      <td>2018-06-19T00:00:00</td>\n",
       "      <td>2</td>\n",
       "      <td>3.03</td>\n",
       "      <td>14.0</td>\n",
       "      <td>32.0</td>\n",
       "      <td>13</td>\n",
       "      <td>NaN</td>\n",
       "      <td>False</td>\n",
       "      <td>False</td>\n",
       "      <td>41.0</td>\n",
       "      <td>NaN</td>\n",
       "      <td>Санкт-Петербург</td>\n",
       "      <td>31856.0</td>\n",
       "      <td>8098.0</td>\n",
       "      <td>2.0</td>\n",
       "      <td>112.0</td>\n",
       "      <td>1.0</td>\n",
       "      <td>48.0</td>\n",
       "      <td>121.0</td>\n",
       "    </tr>\n",
       "  </tbody>\n",
       "</table>\n",
       "</div>"
      ],
      "text/plain": [
       "   total_images  last_price  total_area first_day_exposition  rooms  \\\n",
       "0            20  13000000.0       108.0  2019-03-07T00:00:00      3   \n",
       "1             7   3350000.0        40.4  2018-12-04T00:00:00      1   \n",
       "2            10   5196000.0        56.0  2015-08-20T00:00:00      2   \n",
       "3             0  64900000.0       159.0  2015-07-24T00:00:00      3   \n",
       "4             2  10000000.0       100.0  2018-06-19T00:00:00      2   \n",
       "\n",
       "   ceiling_height  floors_total  living_area  floor is_apartment  studio  \\\n",
       "0            2.70          16.0         51.0      8          NaN   False   \n",
       "1             NaN          11.0         18.6      1          NaN   False   \n",
       "2             NaN           5.0         34.3      4          NaN   False   \n",
       "3             NaN          14.0          NaN      9          NaN   False   \n",
       "4            3.03          14.0         32.0     13          NaN   False   \n",
       "\n",
       "   open_plan  kitchen_area  balcony    locality_name  airports_nearest  \\\n",
       "0      False          25.0      NaN  Санкт-Петербург           18863.0   \n",
       "1      False          11.0      2.0   посёлок Шушары           12817.0   \n",
       "2      False           8.3      0.0  Санкт-Петербург           21741.0   \n",
       "3      False           NaN      0.0  Санкт-Петербург           28098.0   \n",
       "4      False          41.0      NaN  Санкт-Петербург           31856.0   \n",
       "\n",
       "   cityCenters_nearest  parks_around3000  parks_nearest  ponds_around3000  \\\n",
       "0              16028.0               1.0          482.0               2.0   \n",
       "1              18603.0               0.0            NaN               0.0   \n",
       "2              13933.0               1.0           90.0               2.0   \n",
       "3               6800.0               2.0           84.0               3.0   \n",
       "4               8098.0               2.0          112.0               1.0   \n",
       "\n",
       "   ponds_nearest  days_exposition  \n",
       "0          755.0              NaN  \n",
       "1            NaN             81.0  \n",
       "2          574.0            558.0  \n",
       "3          234.0            424.0  \n",
       "4           48.0            121.0  "
      ]
     },
     "execution_count": 4,
     "metadata": {},
     "output_type": "execute_result"
    }
   ],
   "source": [
    "pd.set_option('display.max_columns', None)\n",
    "realty_data.head()"
   ]
  },
  {
   "cell_type": "code",
   "execution_count": 5,
   "metadata": {},
   "outputs": [
    {
     "name": "stdout",
     "output_type": "stream",
     "text": [
      "<class 'pandas.core.frame.DataFrame'>\n",
      "RangeIndex: 23699 entries, 0 to 23698\n",
      "Data columns (total 22 columns):\n",
      " #   Column                Non-Null Count  Dtype  \n",
      "---  ------                --------------  -----  \n",
      " 0   total_images          23699 non-null  int64  \n",
      " 1   last_price            23699 non-null  float64\n",
      " 2   total_area            23699 non-null  float64\n",
      " 3   first_day_exposition  23699 non-null  object \n",
      " 4   rooms                 23699 non-null  int64  \n",
      " 5   ceiling_height        14504 non-null  float64\n",
      " 6   floors_total          23613 non-null  float64\n",
      " 7   living_area           21796 non-null  float64\n",
      " 8   floor                 23699 non-null  int64  \n",
      " 9   is_apartment          2775 non-null   object \n",
      " 10  studio                23699 non-null  bool   \n",
      " 11  open_plan             23699 non-null  bool   \n",
      " 12  kitchen_area          21421 non-null  float64\n",
      " 13  balcony               12180 non-null  float64\n",
      " 14  locality_name         23650 non-null  object \n",
      " 15  airports_nearest      18157 non-null  float64\n",
      " 16  cityCenters_nearest   18180 non-null  float64\n",
      " 17  parks_around3000      18181 non-null  float64\n",
      " 18  parks_nearest         8079 non-null   float64\n",
      " 19  ponds_around3000      18181 non-null  float64\n",
      " 20  ponds_nearest         9110 non-null   float64\n",
      " 21  days_exposition       20518 non-null  float64\n",
      "dtypes: bool(2), float64(14), int64(3), object(3)\n",
      "memory usage: 3.7+ MB\n"
     ]
    }
   ],
   "source": [
    "realty_data.info()"
   ]
  },
  {
   "cell_type": "markdown",
   "metadata": {},
   "source": [
    "### Вывод"
   ]
  },
  {
   "cell_type": "markdown",
   "metadata": {},
   "source": [
    "Предварительно можем сказать, что во многих столбцах есть пропущенные значения. \n",
    "- больше всего пропущенных значений в `is_apartment`; \n",
    "- в столбце `first_day_exposition` дата в некорректной форме; \n",
    "- возможно будут неявные дубликаты в `locality_name`; \n",
    "- название столбца `cityCenters_nearest` написано не змеиным регистром; \n",
    "- `last_price`, `balcony`, `parks_around3000`, `ponds_around3000` можно будет перевести в тип int. "
   ]
  },
  {
   "cell_type": "markdown",
   "metadata": {},
   "source": [
    "## Предобработка данных"
   ]
  },
  {
   "cell_type": "code",
   "execution_count": 6,
   "metadata": {},
   "outputs": [
    {
     "data": {
      "text/plain": [
       "is_apartment            0.882906\n",
       "parks_nearest           0.659100\n",
       "ponds_nearest           0.615596\n",
       "balcony                 0.486054\n",
       "ceiling_height          0.387991\n",
       "airports_nearest        0.233850\n",
       "cityCenters_nearest     0.232879\n",
       "ponds_around3000        0.232837\n",
       "parks_around3000        0.232837\n",
       "days_exposition         0.134225\n",
       "kitchen_area            0.096122\n",
       "living_area             0.080299\n",
       "floors_total            0.003629\n",
       "locality_name           0.002068\n",
       "total_images            0.000000\n",
       "last_price              0.000000\n",
       "studio                  0.000000\n",
       "floor                   0.000000\n",
       "rooms                   0.000000\n",
       "first_day_exposition    0.000000\n",
       "total_area              0.000000\n",
       "open_plan               0.000000\n",
       "dtype: float64"
      ]
     },
     "execution_count": 6,
     "metadata": {},
     "output_type": "execute_result"
    }
   ],
   "source": [
    "realty_data.isna().mean().sort_values(ascending=False)"
   ]
  },
  {
   "cell_type": "markdown",
   "metadata": {},
   "source": [
    "Заменим некорректное название столбца `cityCenters_nearest` на `city_centers_nearest`:"
   ]
  },
  {
   "cell_type": "code",
   "execution_count": 7,
   "metadata": {},
   "outputs": [],
   "source": [
    "realty_data = realty_data.rename(columns={'cityCenters_nearest' : 'city_centers_nearest'})"
   ]
  },
  {
   "cell_type": "markdown",
   "metadata": {},
   "source": [
    "В столбце `is_apartment` очень много пропущенных значений, вероятно, они означают, что недвижимость не является апартаментами, а пользователи не сочли нужным это указывать. Заполним пропущенные значения в столбце как `False`."
   ]
  },
  {
   "cell_type": "code",
   "execution_count": 8,
   "metadata": {},
   "outputs": [],
   "source": [
    "realty_data['is_apartment'] = realty_data['is_apartment'].fillna(False)"
   ]
  },
  {
   "cell_type": "code",
   "execution_count": 9,
   "metadata": {},
   "outputs": [
    {
     "data": {
      "text/plain": [
       "dtype('bool')"
      ]
     },
     "execution_count": 9,
     "metadata": {},
     "output_type": "execute_result"
    }
   ],
   "source": [
    "realty_data['is_apartment'].dtypes #проверка"
   ]
  },
  {
   "cell_type": "code",
   "execution_count": 10,
   "metadata": {},
   "outputs": [
    {
     "data": {
      "text/plain": [
       "array([False,  True])"
      ]
     },
     "execution_count": 10,
     "metadata": {},
     "output_type": "execute_result"
    }
   ],
   "source": [
    "realty_data['is_apartment'].unique() #проверка"
   ]
  },
  {
   "cell_type": "code",
   "execution_count": 11,
   "metadata": {
    "scrolled": false
   },
   "outputs": [
    {
     "data": {
      "text/plain": [
       "array(['Бокситогорск', 'Волосово', 'Волхов', 'Всеволожск', 'Выборг',\n",
       "       'Высоцк', 'Гатчина', 'Зеленогорск', 'Ивангород', 'Каменногорск',\n",
       "       'Кингисепп', 'Кириши', 'Кировск', 'Колпино', 'Коммунар',\n",
       "       'Красное Село', 'Кронштадт', 'Кудрово', 'Лодейное Поле',\n",
       "       'Ломоносов', 'Луга', 'Любань', 'Мурино', 'Никольское',\n",
       "       'Новая Ладога', 'Отрадное', 'Павловск', 'Петергоф', 'Пикалёво',\n",
       "       'Подпорожье', 'Приморск', 'Приозерск', 'Пушкин', 'Санкт-Петербург',\n",
       "       'Светогорск', 'Сертолово', 'Сестрорецк', 'Сланцы', 'Сосновый Бор',\n",
       "       'Сясьстрой', 'Тихвин', 'Тосно', 'Шлиссельбург',\n",
       "       'городской поселок Большая Ижора', 'городской поселок Янино-1',\n",
       "       'городской посёлок Будогощь', 'городской посёлок Виллози',\n",
       "       'городской посёлок Лесогорский', 'городской посёлок Мга',\n",
       "       'городской посёлок Назия', 'городской посёлок Новоселье',\n",
       "       'городской посёлок Павлово', 'городской посёлок Рощино',\n",
       "       'городской посёлок Свирьстрой', 'городской посёлок Советский',\n",
       "       'городской посёлок Фёдоровское', 'городской посёлок Янино-1',\n",
       "       'деревня Агалатово', 'деревня Аро', 'деревня Батово',\n",
       "       'деревня Бегуницы', 'деревня Белогорка', 'деревня Большая Вруда',\n",
       "       'деревня Большая Пустомержа', 'деревня Большие Колпаны',\n",
       "       'деревня Большое Рейзино', 'деревня Большой Сабск', 'деревня Бор',\n",
       "       'деревня Борисова Грива', 'деревня Ваганово', 'деревня Вартемяги',\n",
       "       'деревня Вахнова Кара', 'деревня Выскатка', 'деревня Гарболово',\n",
       "       'деревня Глинка', 'деревня Горбунки', 'деревня Гостилицы',\n",
       "       'деревня Заклинье', 'деревня Заневка', 'деревня Зимитицы',\n",
       "       'деревня Извара', 'деревня Иссад', 'деревня Калитино',\n",
       "       'деревня Кальтино', 'деревня Камышовка', 'деревня Каськово',\n",
       "       'деревня Келози', 'деревня Кипень', 'деревня Кисельня',\n",
       "       'деревня Колтуши', 'деревня Коркино', 'деревня Котлы',\n",
       "       'деревня Кривко', 'деревня Кудрово', 'деревня Кузьмолово',\n",
       "       'деревня Курковицы', 'деревня Куровицы', 'деревня Куттузи',\n",
       "       'деревня Лаврики', 'деревня Лаголово', 'деревня Лампово',\n",
       "       'деревня Лесколово', 'деревня Лопухинка', 'деревня Лупполово',\n",
       "       'деревня Малая Романовка', 'деревня Малое Верево',\n",
       "       'деревня Малое Карлино', 'деревня Малые Колпаны',\n",
       "       'деревня Мануйлово', 'деревня Меньково', 'деревня Мины',\n",
       "       'деревня Мистолово', 'деревня Ненимяки', 'деревня Нижние Осельки',\n",
       "       'деревня Нижняя', 'деревня Низино', 'деревня Новое Девяткино',\n",
       "       'деревня Новолисино', 'деревня Нурма', 'деревня Оржицы',\n",
       "       'деревня Парицы', 'деревня Пельгора', 'деревня Пеники',\n",
       "       'деревня Пижма', 'деревня Пикколово', 'деревня Пудомяги',\n",
       "       'деревня Пустынка', 'деревня Пчева', 'деревня Рабитицы',\n",
       "       'деревня Разбегаево', 'деревня Раздолье', 'деревня Разметелево',\n",
       "       'деревня Рапполово', 'деревня Реброво', 'деревня Русско',\n",
       "       'деревня Сижно', 'деревня Снегирёвка', 'деревня Старая',\n",
       "       'деревня Старая Пустошь', 'деревня Старое Хинколово',\n",
       "       'деревня Старополье', 'деревня Старосиверская',\n",
       "       'деревня Старые Бегуницы', 'деревня Суоранда',\n",
       "       'деревня Сяськелево', 'деревня Тарасово', 'деревня Терпилицы',\n",
       "       'деревня Тихковицы', 'деревня Тойворово', 'деревня Торосово',\n",
       "       'деревня Торошковичи', 'деревня Трубников Бор',\n",
       "       'деревня Фалилеево', 'деревня Фёдоровское', 'деревня Хапо-Ое',\n",
       "       'деревня Хязельки', 'деревня Чудской Бор', 'деревня Шпаньково',\n",
       "       'деревня Щеглово', 'деревня Юкки', 'деревня Ялгино',\n",
       "       'деревня Яльгелево', 'деревня Ям-Тесово',\n",
       "       'коттеджный поселок Кивеннапа Север', 'коттеджный поселок Счастье',\n",
       "       'коттеджный посёлок Лесное', 'поселок Аннино', 'поселок Барышево',\n",
       "       'поселок Бугры', 'поселок Возрождение', 'поселок Войсковицы',\n",
       "       'поселок Володарское', 'поселок Гаврилово', 'поселок Гарболово',\n",
       "       'поселок Гладкое', 'поселок Глажево', 'поселок Глебычево',\n",
       "       'поселок Гончарово', 'поселок Громово', 'поселок Дружноселье',\n",
       "       'поселок Елизаветино', 'поселок Жилгородок', 'поселок Жилпосёлок',\n",
       "       'поселок Житково', 'поселок Заводской', 'поселок Запорожское',\n",
       "       'поселок Зимитицы', 'поселок Ильичёво', 'поселок Калитино',\n",
       "       'поселок Каложицы', 'поселок Кингисеппский', 'поселок Кирпичное',\n",
       "       'поселок Кобралово', 'поселок Кобринское', 'поселок Коммунары',\n",
       "       'поселок Коробицыно', 'поселок Котельский',\n",
       "       'поселок Красная Долина', 'поселок Красносельское',\n",
       "       'поселок Лесное', 'поселок Лисий Нос', 'поселок Лукаши',\n",
       "       'поселок Любань', 'поселок Мельниково', 'поселок Мичуринское',\n",
       "       'поселок Молодцово', 'поселок Мурино', 'поселок Новый Свет',\n",
       "       'поселок Новый Учхоз', 'поселок Оредеж',\n",
       "       'поселок Пансионат Зелёный Бор', 'поселок Первомайское',\n",
       "       'поселок Перово', 'поселок Петровское', 'поселок Победа',\n",
       "       'поселок Поляны', 'поселок Почап', 'поселок Починок',\n",
       "       'поселок Пушное', 'поселок Пчевжа', 'поселок Рабитицы',\n",
       "       'поселок Романовка', 'поселок Ромашки', 'поселок Рябово',\n",
       "       'поселок Севастьяново', 'поселок Селезнёво', 'поселок Сельцо',\n",
       "       'поселок Семиозерье', 'поселок Семрино', 'поселок Серебрянский',\n",
       "       'поселок Совхозный', 'поселок Старая Малукса',\n",
       "       'поселок Стеклянный', 'поселок Сумино', 'поселок Суходолье',\n",
       "       'поселок Тельмана', 'поселок Терволово', 'поселок Торковичи',\n",
       "       'поселок Тёсово-4', 'поселок Углово', 'поселок Усть-Луга',\n",
       "       'поселок Ушаки', 'поселок Цвелодубово', 'поселок Цвылёво',\n",
       "       'поселок городского типа Большая Ижора',\n",
       "       'поселок городского типа Вырица',\n",
       "       'поселок городского типа Дружная Горка',\n",
       "       'поселок городского типа Дубровка',\n",
       "       'поселок городского типа Ефимовский',\n",
       "       'поселок городского типа Кондратьево',\n",
       "       'поселок городского типа Красный Бор',\n",
       "       'поселок городского типа Кузьмоловский',\n",
       "       'поселок городского типа Лебяжье',\n",
       "       'поселок городского типа Лесогорский',\n",
       "       'поселок городского типа Назия',\n",
       "       'поселок городского типа Никольский',\n",
       "       'поселок городского типа Приладожский',\n",
       "       'поселок городского типа Рахья', 'поселок городского типа Рощино',\n",
       "       'поселок городского типа Рябово',\n",
       "       'поселок городского типа Синявино',\n",
       "       'поселок городского типа Советский',\n",
       "       'поселок городского типа Токсово',\n",
       "       'поселок городского типа Форносово',\n",
       "       'поселок городского типа имени Свердлова',\n",
       "       'поселок станции Вещево', 'поселок станции Корнево',\n",
       "       'поселок станции Лужайка', 'поселок станции Приветнинское',\n",
       "       'посёлок Александровская', 'посёлок Алексеевка', 'посёлок Аннино',\n",
       "       'посёлок Белоостров', 'посёлок Бугры', 'посёлок Возрождение',\n",
       "       'посёлок Войскорово', 'посёлок Высокоключевой',\n",
       "       'посёлок Гаврилово', 'посёлок Дзержинского', 'посёлок Жилгородок',\n",
       "       'посёлок Ильичёво', 'посёлок Кикерино', 'посёлок Кобралово',\n",
       "       'посёлок Коробицыно', 'посёлок Левашово', 'посёлок Ленинское',\n",
       "       'посёлок Лисий Нос', 'посёлок Мельниково', 'посёлок Металлострой',\n",
       "       'посёлок Мичуринское', 'посёлок Молодёжное', 'посёлок Мурино',\n",
       "       'посёлок Мыза-Ивановка', 'посёлок Новогорелово',\n",
       "       'посёлок Новый Свет', 'посёлок Пансионат Зелёный Бор',\n",
       "       'посёлок Парголово', 'посёлок Перово', 'посёлок Песочный',\n",
       "       'посёлок Петро-Славянка', 'посёлок Петровское',\n",
       "       'посёлок Платформа 69-й километр', 'посёлок Плодовое',\n",
       "       'посёлок Плоское', 'посёлок Победа', 'посёлок Поляны',\n",
       "       'посёлок Понтонный', 'посёлок Пригородный', 'посёлок Пудость',\n",
       "       'посёлок Репино', 'посёлок Ропша', 'посёлок Сапёрное',\n",
       "       'посёлок Сапёрный', 'посёлок Сосново', 'посёлок Старая Малукса',\n",
       "       'посёлок Стеклянный', 'посёлок Стрельна', 'посёлок Суйда',\n",
       "       'посёлок Сумино', 'посёлок Тельмана', 'посёлок Терволово',\n",
       "       'посёлок Торфяное', 'посёлок Усть-Ижора', 'посёлок Усть-Луга',\n",
       "       'посёлок Форт Красная Горка', 'посёлок Шугозеро', 'посёлок Шушары',\n",
       "       'посёлок Щеглово', 'посёлок городского типа Важины',\n",
       "       'посёлок городского типа Вознесенье',\n",
       "       'посёлок городского типа Вырица',\n",
       "       'посёлок городского типа Красный Бор',\n",
       "       'посёлок городского типа Кузнечное',\n",
       "       'посёлок городского типа Кузьмоловский',\n",
       "       'посёлок городского типа Лебяжье', 'посёлок городского типа Мга',\n",
       "       'посёлок городского типа Павлово',\n",
       "       'посёлок городского типа Рощино', 'посёлок городского типа Рябово',\n",
       "       'посёлок городского типа Сиверский',\n",
       "       'посёлок городского типа Тайцы', 'посёлок городского типа Токсово',\n",
       "       'посёлок городского типа Ульяновка',\n",
       "       'посёлок городского типа Форносово',\n",
       "       'посёлок городского типа имени Морозова',\n",
       "       'посёлок городского типа имени Свердлова',\n",
       "       'посёлок при железнодорожной станции Вещево',\n",
       "       'посёлок при железнодорожной станции Приветнинское',\n",
       "       'посёлок станции Громово', 'посёлок станции Свирь',\n",
       "       'садоводческое некоммерческое товарищество Лесная Поляна',\n",
       "       'садовое товарищество Новая Ропша',\n",
       "       'садовое товарищество Приладожский', 'садовое товарищество Рахья',\n",
       "       'садовое товарищество Садко', 'село Копорье', 'село Никольское',\n",
       "       'село Павлово', 'село Паша', 'село Путилово', 'село Рождествено',\n",
       "       'село Русско-Высоцкое', 'село Старая Ладога', 'село Шум', nan],\n",
       "      dtype=object)"
      ]
     },
     "execution_count": 11,
     "metadata": {},
     "output_type": "execute_result"
    }
   ],
   "source": [
    "realty_data['locality_name'].sort_values().unique()"
   ]
  },
  {
   "cell_type": "code",
   "execution_count": 12,
   "metadata": {},
   "outputs": [
    {
     "data": {
      "text/plain": [
       "365"
      ]
     },
     "execution_count": 12,
     "metadata": {},
     "output_type": "execute_result"
    }
   ],
   "source": [
    "len(realty_data['locality_name'].unique())"
   ]
  },
  {
   "cell_type": "markdown",
   "metadata": {},
   "source": [
    "В столбце с категориальными переменными `locality_name` могут быть неявные дубликаты из-за различий в написании одинаковых слов - в некотрых словах пишут букву `ё`, в некорых `е`. Заменим все `ё` на `е`."
   ]
  },
  {
   "cell_type": "code",
   "execution_count": 13,
   "metadata": {},
   "outputs": [],
   "source": [
    "realty_data['locality_name'] = realty_data['locality_name'].str.replace('ё', 'е') "
   ]
  },
  {
   "cell_type": "code",
   "execution_count": 14,
   "metadata": {},
   "outputs": [
    {
     "data": {
      "text/plain": [
       "331"
      ]
     },
     "execution_count": 14,
     "metadata": {},
     "output_type": "execute_result"
    }
   ],
   "source": [
    "len(realty_data['locality_name'].unique()) #проверка"
   ]
  },
  {
   "cell_type": "markdown",
   "metadata": {},
   "source": [
    "Заменим пропущенные значения на `unknown`:"
   ]
  },
  {
   "cell_type": "code",
   "execution_count": 15,
   "metadata": {},
   "outputs": [],
   "source": [
    "realty_data['locality_name'] = realty_data['locality_name'].fillna('unknown')"
   ]
  },
  {
   "cell_type": "markdown",
   "metadata": {},
   "source": [
    "В столбцах `balcony`, `parks_around3000`, `ponds_around3000` пропущенны значения, скорее всего, из-за отсутствия балконов в квартирах и парков/водоёмов поблизости, поэтому пользователи\n",
    "их не указали.\n",
    "\n",
    "Заменим пропущенные значения на `0`:"
   ]
  },
  {
   "cell_type": "code",
   "execution_count": 16,
   "metadata": {},
   "outputs": [],
   "source": [
    "realty_data['balcony'] = realty_data['balcony'].fillna(0)"
   ]
  },
  {
   "cell_type": "code",
   "execution_count": 17,
   "metadata": {},
   "outputs": [],
   "source": [
    "realty_data['parks_around3000'] = realty_data['parks_around3000'].fillna(0)"
   ]
  },
  {
   "cell_type": "code",
   "execution_count": 18,
   "metadata": {},
   "outputs": [],
   "source": [
    "realty_data['ponds_around3000'] = realty_data['ponds_around3000'].fillna(0)"
   ]
  },
  {
   "cell_type": "markdown",
   "metadata": {},
   "source": [
    "Приведем тип данных в столбце `first_day_exposition` в более удобный и корректный тип `datetime`:"
   ]
  },
  {
   "cell_type": "code",
   "execution_count": 19,
   "metadata": {},
   "outputs": [],
   "source": [
    "try:\n",
    "    realty_data['first_day_exposition'] = pd.to_datetime(realty_data['first_day_exposition'], format='%Y-%m-%dT%H:%M:%S')\n",
    "except:\n",
    "    print('error')"
   ]
  },
  {
   "cell_type": "markdown",
   "metadata": {},
   "source": [
    "Изменим тип данных `float` в `int` в столбцах, где удобнее иметь целочисленные значения и где нет пропущенных значений:"
   ]
  },
  {
   "cell_type": "code",
   "execution_count": 20,
   "metadata": {},
   "outputs": [],
   "source": [
    "try:\n",
    "    realty_data[['last_price', 'balcony', 'parks_around3000', 'ponds_around3000']] = realty_data[['last_price', 'balcony', 'parks_around3000', 'ponds_around3000']].astype('int')\n",
    "except:\n",
    "    print('error')"
   ]
  },
  {
   "cell_type": "markdown",
   "metadata": {},
   "source": [
    "В столбце `ceiling_height` присутствуют аномально большие значения, вероятно, некоторые значения были неправильно введены пользователями. "
   ]
  },
  {
   "cell_type": "code",
   "execution_count": 21,
   "metadata": {},
   "outputs": [
    {
     "data": {
      "text/plain": [
       "<AxesSubplot:>"
      ]
     },
     "execution_count": 21,
     "metadata": {},
     "output_type": "execute_result"
    },
    {
     "data": {
      "image/png": "[encoded data removed]",
      "text/plain": [
       "<Figure size 432x288 with 1 Axes>"
      ]
     },
     "metadata": {
      "needs_background": "light"
     },
     "output_type": "display_data"
    }
   ],
   "source": [
    "realty_data['ceiling_height'].plot() "
   ]
  },
  {
   "cell_type": "markdown",
   "metadata": {},
   "source": [
    "Поделим аномальные значения на 10:"
   ]
  },
  {
   "cell_type": "code",
   "execution_count": 22,
   "metadata": {},
   "outputs": [],
   "source": [
    "realty_data['ceiling_height'] = realty_data['ceiling_height'].where(realty_data['ceiling_height'] < 20, realty_data['ceiling_height']/10, errors='ignore')"
   ]
  },
  {
   "cell_type": "code",
   "execution_count": 23,
   "metadata": {
    "scrolled": true
   },
   "outputs": [
    {
     "data": {
      "text/plain": [
       "<AxesSubplot:>"
      ]
     },
     "execution_count": 23,
     "metadata": {},
     "output_type": "execute_result"
    },
    {
     "data": {
      "image/png": "[encoded data removed]",
      "text/plain": [
       "<Figure size 432x288 with 1 Axes>"
      ]
     },
     "metadata": {
      "needs_background": "light"
     },
     "output_type": "display_data"
    }
   ],
   "source": [
    "realty_data['ceiling_height'].plot() #проверка"
   ]
  },
  {
   "cell_type": "markdown",
   "metadata": {},
   "source": [
    "Заполним пропущенные значения в столбцах `kitchen_area` и `living_area` медианными значениями в зависимости от значений `total_area`:"
   ]
  },
  {
   "cell_type": "code",
   "execution_count": 24,
   "metadata": {},
   "outputs": [],
   "source": [
    "realty_data = realty_data.fillna({'living_area' : realty_data.groupby('total_area')['living_area'].transform('median')})"
   ]
  },
  {
   "cell_type": "code",
   "execution_count": 25,
   "metadata": {},
   "outputs": [],
   "source": [
    "realty_data = realty_data.fillna({'kitchen_area' : realty_data.groupby('total_area')['kitchen_area'].transform('median')})"
   ]
  },
  {
   "cell_type": "markdown",
   "metadata": {},
   "source": [
    "Осталось менее 1% пропусков:"
   ]
  },
  {
   "cell_type": "code",
   "execution_count": 26,
   "metadata": {},
   "outputs": [
    {
     "data": {
      "text/plain": [
       "living_area     0.006034\n",
       "kitchen_area    0.008650\n",
       "dtype: float64"
      ]
     },
     "execution_count": 26,
     "metadata": {},
     "output_type": "execute_result"
    }
   ],
   "source": [
    "realty_data[['living_area', 'kitchen_area']].isna().mean() #проверка"
   ]
  },
  {
   "cell_type": "markdown",
   "metadata": {},
   "source": [
    "Дубликаты не обнаружены:"
   ]
  },
  {
   "cell_type": "code",
   "execution_count": 27,
   "metadata": {},
   "outputs": [
    {
     "data": {
      "text/plain": [
       "0"
      ]
     },
     "execution_count": 27,
     "metadata": {},
     "output_type": "execute_result"
    }
   ],
   "source": [
    "realty_data.duplicated().sum()"
   ]
  },
  {
   "cell_type": "markdown",
   "metadata": {},
   "source": [
    "Проверим изменения:"
   ]
  },
  {
   "cell_type": "code",
   "execution_count": 28,
   "metadata": {},
   "outputs": [
    {
     "data": {
      "text/html": [
       "<div>\n",
       "<style scoped>\n",
       "    .dataframe tbody tr th:only-of-type {\n",
       "        vertical-align: middle;\n",
       "    }\n",
       "\n",
       "    .dataframe tbody tr th {\n",
       "        vertical-align: top;\n",
       "    }\n",
       "\n",
       "    .dataframe thead th {\n",
       "        text-align: right;\n",
       "    }\n",
       "</style>\n",
       "<table border=\"1\" class=\"dataframe\">\n",
       "  <thead>\n",
       "    <tr style=\"text-align: right;\">\n",
       "      <th></th>\n",
       "      <th>total_images</th>\n",
       "      <th>last_price</th>\n",
       "      <th>total_area</th>\n",
       "      <th>first_day_exposition</th>\n",
       "      <th>rooms</th>\n",
       "      <th>ceiling_height</th>\n",
       "      <th>floors_total</th>\n",
       "      <th>living_area</th>\n",
       "      <th>floor</th>\n",
       "      <th>is_apartment</th>\n",
       "      <th>studio</th>\n",
       "      <th>open_plan</th>\n",
       "      <th>kitchen_area</th>\n",
       "      <th>balcony</th>\n",
       "      <th>locality_name</th>\n",
       "      <th>airports_nearest</th>\n",
       "      <th>city_centers_nearest</th>\n",
       "      <th>parks_around3000</th>\n",
       "      <th>parks_nearest</th>\n",
       "      <th>ponds_around3000</th>\n",
       "      <th>ponds_nearest</th>\n",
       "      <th>days_exposition</th>\n",
       "    </tr>\n",
       "  </thead>\n",
       "  <tbody>\n",
       "    <tr>\n",
       "      <th>0</th>\n",
       "      <td>20</td>\n",
       "      <td>13000000</td>\n",
       "      <td>108.0</td>\n",
       "      <td>2019-03-07</td>\n",
       "      <td>3</td>\n",
       "      <td>2.70</td>\n",
       "      <td>16.0</td>\n",
       "      <td>51.0</td>\n",
       "      <td>8</td>\n",
       "      <td>False</td>\n",
       "      <td>False</td>\n",
       "      <td>False</td>\n",
       "      <td>25.0</td>\n",
       "      <td>0</td>\n",
       "      <td>Санкт-Петербург</td>\n",
       "      <td>18863.0</td>\n",
       "      <td>16028.0</td>\n",
       "      <td>1</td>\n",
       "      <td>482.0</td>\n",
       "      <td>2</td>\n",
       "      <td>755.0</td>\n",
       "      <td>NaN</td>\n",
       "    </tr>\n",
       "    <tr>\n",
       "      <th>1</th>\n",
       "      <td>7</td>\n",
       "      <td>3350000</td>\n",
       "      <td>40.4</td>\n",
       "      <td>2018-12-04</td>\n",
       "      <td>1</td>\n",
       "      <td>NaN</td>\n",
       "      <td>11.0</td>\n",
       "      <td>18.6</td>\n",
       "      <td>1</td>\n",
       "      <td>False</td>\n",
       "      <td>False</td>\n",
       "      <td>False</td>\n",
       "      <td>11.0</td>\n",
       "      <td>2</td>\n",
       "      <td>поселок Шушары</td>\n",
       "      <td>12817.0</td>\n",
       "      <td>18603.0</td>\n",
       "      <td>0</td>\n",
       "      <td>NaN</td>\n",
       "      <td>0</td>\n",
       "      <td>NaN</td>\n",
       "      <td>81.0</td>\n",
       "    </tr>\n",
       "    <tr>\n",
       "      <th>2</th>\n",
       "      <td>10</td>\n",
       "      <td>5196000</td>\n",
       "      <td>56.0</td>\n",
       "      <td>2015-08-20</td>\n",
       "      <td>2</td>\n",
       "      <td>NaN</td>\n",
       "      <td>5.0</td>\n",
       "      <td>34.3</td>\n",
       "      <td>4</td>\n",
       "      <td>False</td>\n",
       "      <td>False</td>\n",
       "      <td>False</td>\n",
       "      <td>8.3</td>\n",
       "      <td>0</td>\n",
       "      <td>Санкт-Петербург</td>\n",
       "      <td>21741.0</td>\n",
       "      <td>13933.0</td>\n",
       "      <td>1</td>\n",
       "      <td>90.0</td>\n",
       "      <td>2</td>\n",
       "      <td>574.0</td>\n",
       "      <td>558.0</td>\n",
       "    </tr>\n",
       "    <tr>\n",
       "      <th>3</th>\n",
       "      <td>0</td>\n",
       "      <td>64900000</td>\n",
       "      <td>159.0</td>\n",
       "      <td>2015-07-24</td>\n",
       "      <td>3</td>\n",
       "      <td>NaN</td>\n",
       "      <td>14.0</td>\n",
       "      <td>95.0</td>\n",
       "      <td>9</td>\n",
       "      <td>False</td>\n",
       "      <td>False</td>\n",
       "      <td>False</td>\n",
       "      <td>15.0</td>\n",
       "      <td>0</td>\n",
       "      <td>Санкт-Петербург</td>\n",
       "      <td>28098.0</td>\n",
       "      <td>6800.0</td>\n",
       "      <td>2</td>\n",
       "      <td>84.0</td>\n",
       "      <td>3</td>\n",
       "      <td>234.0</td>\n",
       "      <td>424.0</td>\n",
       "    </tr>\n",
       "    <tr>\n",
       "      <th>4</th>\n",
       "      <td>2</td>\n",
       "      <td>10000000</td>\n",
       "      <td>100.0</td>\n",
       "      <td>2018-06-19</td>\n",
       "      <td>2</td>\n",
       "      <td>3.03</td>\n",
       "      <td>14.0</td>\n",
       "      <td>32.0</td>\n",
       "      <td>13</td>\n",
       "      <td>False</td>\n",
       "      <td>False</td>\n",
       "      <td>False</td>\n",
       "      <td>41.0</td>\n",
       "      <td>0</td>\n",
       "      <td>Санкт-Петербург</td>\n",
       "      <td>31856.0</td>\n",
       "      <td>8098.0</td>\n",
       "      <td>2</td>\n",
       "      <td>112.0</td>\n",
       "      <td>1</td>\n",
       "      <td>48.0</td>\n",
       "      <td>121.0</td>\n",
       "    </tr>\n",
       "  </tbody>\n",
       "</table>\n",
       "</div>"
      ],
      "text/plain": [
       "   total_images  last_price  total_area first_day_exposition  rooms  \\\n",
       "0            20    13000000       108.0           2019-03-07      3   \n",
       "1             7     3350000        40.4           2018-12-04      1   \n",
       "2            10     5196000        56.0           2015-08-20      2   \n",
       "3             0    64900000       159.0           2015-07-24      3   \n",
       "4             2    10000000       100.0           2018-06-19      2   \n",
       "\n",
       "   ceiling_height  floors_total  living_area  floor  is_apartment  studio  \\\n",
       "0            2.70          16.0         51.0      8         False   False   \n",
       "1             NaN          11.0         18.6      1         False   False   \n",
       "2             NaN           5.0         34.3      4         False   False   \n",
       "3             NaN          14.0         95.0      9         False   False   \n",
       "4            3.03          14.0         32.0     13         False   False   \n",
       "\n",
       "   open_plan  kitchen_area  balcony    locality_name  airports_nearest  \\\n",
       "0      False          25.0        0  Санкт-Петербург           18863.0   \n",
       "1      False          11.0        2   поселок Шушары           12817.0   \n",
       "2      False           8.3        0  Санкт-Петербург           21741.0   \n",
       "3      False          15.0        0  Санкт-Петербург           28098.0   \n",
       "4      False          41.0        0  Санкт-Петербург           31856.0   \n",
       "\n",
       "   city_centers_nearest  parks_around3000  parks_nearest  ponds_around3000  \\\n",
       "0               16028.0                 1          482.0                 2   \n",
       "1               18603.0                 0            NaN                 0   \n",
       "2               13933.0                 1           90.0                 2   \n",
       "3                6800.0                 2           84.0                 3   \n",
       "4                8098.0                 2          112.0                 1   \n",
       "\n",
       "   ponds_nearest  days_exposition  \n",
       "0          755.0              NaN  \n",
       "1            NaN             81.0  \n",
       "2          574.0            558.0  \n",
       "3          234.0            424.0  \n",
       "4           48.0            121.0  "
      ]
     },
     "execution_count": 28,
     "metadata": {},
     "output_type": "execute_result"
    }
   ],
   "source": [
    "realty_data.head() "
   ]
  },
  {
   "cell_type": "code",
   "execution_count": 29,
   "metadata": {},
   "outputs": [
    {
     "data": {
      "text/plain": [
       "parks_nearest           0.659100\n",
       "ponds_nearest           0.615596\n",
       "ceiling_height          0.387991\n",
       "airports_nearest        0.233850\n",
       "city_centers_nearest    0.232879\n",
       "days_exposition         0.134225\n",
       "kitchen_area            0.008650\n",
       "living_area             0.006034\n",
       "floors_total            0.003629\n",
       "balcony                 0.000000\n",
       "ponds_around3000        0.000000\n",
       "parks_around3000        0.000000\n",
       "locality_name           0.000000\n",
       "total_images            0.000000\n",
       "last_price              0.000000\n",
       "studio                  0.000000\n",
       "is_apartment            0.000000\n",
       "floor                   0.000000\n",
       "rooms                   0.000000\n",
       "first_day_exposition    0.000000\n",
       "total_area              0.000000\n",
       "open_plan               0.000000\n",
       "dtype: float64"
      ]
     },
     "execution_count": 29,
     "metadata": {},
     "output_type": "execute_result"
    }
   ],
   "source": [
    "realty_data.isna().mean().sort_values(ascending=False) "
   ]
  },
  {
   "cell_type": "code",
   "execution_count": 30,
   "metadata": {},
   "outputs": [
    {
     "name": "stdout",
     "output_type": "stream",
     "text": [
      "<class 'pandas.core.frame.DataFrame'>\n",
      "RangeIndex: 23699 entries, 0 to 23698\n",
      "Data columns (total 22 columns):\n",
      " #   Column                Non-Null Count  Dtype         \n",
      "---  ------                --------------  -----         \n",
      " 0   total_images          23699 non-null  int64         \n",
      " 1   last_price            23699 non-null  int64         \n",
      " 2   total_area            23699 non-null  float64       \n",
      " 3   first_day_exposition  23699 non-null  datetime64[ns]\n",
      " 4   rooms                 23699 non-null  int64         \n",
      " 5   ceiling_height        14504 non-null  float64       \n",
      " 6   floors_total          23613 non-null  float64       \n",
      " 7   living_area           23556 non-null  float64       \n",
      " 8   floor                 23699 non-null  int64         \n",
      " 9   is_apartment          23699 non-null  bool          \n",
      " 10  studio                23699 non-null  bool          \n",
      " 11  open_plan             23699 non-null  bool          \n",
      " 12  kitchen_area          23494 non-null  float64       \n",
      " 13  balcony               23699 non-null  int64         \n",
      " 14  locality_name         23699 non-null  object        \n",
      " 15  airports_nearest      18157 non-null  float64       \n",
      " 16  city_centers_nearest  18180 non-null  float64       \n",
      " 17  parks_around3000      23699 non-null  int64         \n",
      " 18  parks_nearest         8079 non-null   float64       \n",
      " 19  ponds_around3000      23699 non-null  int64         \n",
      " 20  ponds_nearest         9110 non-null   float64       \n",
      " 21  days_exposition       20518 non-null  float64       \n",
      "dtypes: bool(3), datetime64[ns](1), float64(10), int64(7), object(1)\n",
      "memory usage: 3.5+ MB\n"
     ]
    }
   ],
   "source": [
    "realty_data.info() "
   ]
  },
  {
   "cell_type": "markdown",
   "metadata": {},
   "source": [
    "## Расчёты и добавление результатов в таблицу"
   ]
  },
  {
   "cell_type": "markdown",
   "metadata": {},
   "source": [
    "### Посчитаем и добавим в таблицу: день недели, месяц и год публикации объявления для последующего анализа."
   ]
  },
  {
   "cell_type": "code",
   "execution_count": 31,
   "metadata": {},
   "outputs": [],
   "source": [
    "realty_data['day_exposition'] = pd.DatetimeIndex(realty_data['first_day_exposition']).day\n",
    "realty_data['month_exposition'] = pd.DatetimeIndex(realty_data['first_day_exposition']).month\n",
    "realty_data['year_exposition'] = pd.DatetimeIndex(realty_data['first_day_exposition']).year"
   ]
  },
  {
   "cell_type": "markdown",
   "metadata": {},
   "source": [
    "### Посчитаем цену квадратного метра:"
   ]
  },
  {
   "cell_type": "code",
   "execution_count": 32,
   "metadata": {
    "scrolled": true
   },
   "outputs": [],
   "source": [
    "realty_data['price_sqr_m'] = realty_data['last_price']/realty_data['total_area']"
   ]
  },
  {
   "cell_type": "markdown",
   "metadata": {},
   "source": [
    "### Посчитаем и добавим в таблицу столбец с обозначением этажа квартиры.\n",
    "\n",
    "- первый этаж - 1 \n",
    "- последний этаж - 2 \n",
    "- другой - 3"
   ]
  },
  {
   "cell_type": "code",
   "execution_count": 33,
   "metadata": {},
   "outputs": [],
   "source": [
    "def find_floor(data):                      # функция для определения этажности\n",
    "    \n",
    "    floor = data['floor']\n",
    "    floors_total = data['floors_total']\n",
    "    \n",
    "    if floor == 1:\n",
    "        return 1\n",
    "    elif floor == floors_total:\n",
    "        return 2 \n",
    "    else:\n",
    "        return 3"
   ]
  },
  {
   "cell_type": "code",
   "execution_count": 34,
   "metadata": {},
   "outputs": [],
   "source": [
    "try:\n",
    "    realty_data['floor_name'] = realty_data.apply(find_floor, axis=1)\n",
    "except:\n",
    "    print('error')"
   ]
  },
  {
   "cell_type": "markdown",
   "metadata": {},
   "source": [
    "### Посчитаем и добавим в таблицу соотношение жилой и общей площади, а также отношение площади кухни к общей:"
   ]
  },
  {
   "cell_type": "code",
   "execution_count": 35,
   "metadata": {},
   "outputs": [],
   "source": [
    "realty_data['living_per_total_area'] = realty_data['living_area']/realty_data['total_area'] * 100"
   ]
  },
  {
   "cell_type": "code",
   "execution_count": 36,
   "metadata": {},
   "outputs": [],
   "source": [
    "realty_data['kitchen_per_total_area'] = realty_data['kitchen_area']/realty_data['total_area'] * 100"
   ]
  },
  {
   "cell_type": "code",
   "execution_count": 37,
   "metadata": {
    "scrolled": false
   },
   "outputs": [
    {
     "data": {
      "text/html": [
       "<div>\n",
       "<style scoped>\n",
       "    .dataframe tbody tr th:only-of-type {\n",
       "        vertical-align: middle;\n",
       "    }\n",
       "\n",
       "    .dataframe tbody tr th {\n",
       "        vertical-align: top;\n",
       "    }\n",
       "\n",
       "    .dataframe thead th {\n",
       "        text-align: right;\n",
       "    }\n",
       "</style>\n",
       "<table border=\"1\" class=\"dataframe\">\n",
       "  <thead>\n",
       "    <tr style=\"text-align: right;\">\n",
       "      <th></th>\n",
       "      <th>total_images</th>\n",
       "      <th>last_price</th>\n",
       "      <th>total_area</th>\n",
       "      <th>first_day_exposition</th>\n",
       "      <th>rooms</th>\n",
       "      <th>ceiling_height</th>\n",
       "      <th>floors_total</th>\n",
       "      <th>living_area</th>\n",
       "      <th>floor</th>\n",
       "      <th>is_apartment</th>\n",
       "      <th>studio</th>\n",
       "      <th>open_plan</th>\n",
       "      <th>kitchen_area</th>\n",
       "      <th>balcony</th>\n",
       "      <th>locality_name</th>\n",
       "      <th>airports_nearest</th>\n",
       "      <th>city_centers_nearest</th>\n",
       "      <th>parks_around3000</th>\n",
       "      <th>parks_nearest</th>\n",
       "      <th>ponds_around3000</th>\n",
       "      <th>ponds_nearest</th>\n",
       "      <th>days_exposition</th>\n",
       "      <th>day_exposition</th>\n",
       "      <th>month_exposition</th>\n",
       "      <th>year_exposition</th>\n",
       "      <th>price_sqr_m</th>\n",
       "      <th>floor_name</th>\n",
       "      <th>living_per_total_area</th>\n",
       "      <th>kitchen_per_total_area</th>\n",
       "    </tr>\n",
       "  </thead>\n",
       "  <tbody>\n",
       "    <tr>\n",
       "      <th>0</th>\n",
       "      <td>20</td>\n",
       "      <td>13000000</td>\n",
       "      <td>108.0</td>\n",
       "      <td>2019-03-07</td>\n",
       "      <td>3</td>\n",
       "      <td>2.70</td>\n",
       "      <td>16.0</td>\n",
       "      <td>51.0</td>\n",
       "      <td>8</td>\n",
       "      <td>False</td>\n",
       "      <td>False</td>\n",
       "      <td>False</td>\n",
       "      <td>25.0</td>\n",
       "      <td>0</td>\n",
       "      <td>Санкт-Петербург</td>\n",
       "      <td>18863.0</td>\n",
       "      <td>16028.0</td>\n",
       "      <td>1</td>\n",
       "      <td>482.0</td>\n",
       "      <td>2</td>\n",
       "      <td>755.0</td>\n",
       "      <td>NaN</td>\n",
       "      <td>7</td>\n",
       "      <td>3</td>\n",
       "      <td>2019</td>\n",
       "      <td>120370.370370</td>\n",
       "      <td>3</td>\n",
       "      <td>47.222222</td>\n",
       "      <td>23.148148</td>\n",
       "    </tr>\n",
       "    <tr>\n",
       "      <th>1</th>\n",
       "      <td>7</td>\n",
       "      <td>3350000</td>\n",
       "      <td>40.4</td>\n",
       "      <td>2018-12-04</td>\n",
       "      <td>1</td>\n",
       "      <td>NaN</td>\n",
       "      <td>11.0</td>\n",
       "      <td>18.6</td>\n",
       "      <td>1</td>\n",
       "      <td>False</td>\n",
       "      <td>False</td>\n",
       "      <td>False</td>\n",
       "      <td>11.0</td>\n",
       "      <td>2</td>\n",
       "      <td>поселок Шушары</td>\n",
       "      <td>12817.0</td>\n",
       "      <td>18603.0</td>\n",
       "      <td>0</td>\n",
       "      <td>NaN</td>\n",
       "      <td>0</td>\n",
       "      <td>NaN</td>\n",
       "      <td>81.0</td>\n",
       "      <td>4</td>\n",
       "      <td>12</td>\n",
       "      <td>2018</td>\n",
       "      <td>82920.792079</td>\n",
       "      <td>1</td>\n",
       "      <td>46.039604</td>\n",
       "      <td>27.227723</td>\n",
       "    </tr>\n",
       "    <tr>\n",
       "      <th>2</th>\n",
       "      <td>10</td>\n",
       "      <td>5196000</td>\n",
       "      <td>56.0</td>\n",
       "      <td>2015-08-20</td>\n",
       "      <td>2</td>\n",
       "      <td>NaN</td>\n",
       "      <td>5.0</td>\n",
       "      <td>34.3</td>\n",
       "      <td>4</td>\n",
       "      <td>False</td>\n",
       "      <td>False</td>\n",
       "      <td>False</td>\n",
       "      <td>8.3</td>\n",
       "      <td>0</td>\n",
       "      <td>Санкт-Петербург</td>\n",
       "      <td>21741.0</td>\n",
       "      <td>13933.0</td>\n",
       "      <td>1</td>\n",
       "      <td>90.0</td>\n",
       "      <td>2</td>\n",
       "      <td>574.0</td>\n",
       "      <td>558.0</td>\n",
       "      <td>20</td>\n",
       "      <td>8</td>\n",
       "      <td>2015</td>\n",
       "      <td>92785.714286</td>\n",
       "      <td>3</td>\n",
       "      <td>61.250000</td>\n",
       "      <td>14.821429</td>\n",
       "    </tr>\n",
       "    <tr>\n",
       "      <th>3</th>\n",
       "      <td>0</td>\n",
       "      <td>64900000</td>\n",
       "      <td>159.0</td>\n",
       "      <td>2015-07-24</td>\n",
       "      <td>3</td>\n",
       "      <td>NaN</td>\n",
       "      <td>14.0</td>\n",
       "      <td>95.0</td>\n",
       "      <td>9</td>\n",
       "      <td>False</td>\n",
       "      <td>False</td>\n",
       "      <td>False</td>\n",
       "      <td>15.0</td>\n",
       "      <td>0</td>\n",
       "      <td>Санкт-Петербург</td>\n",
       "      <td>28098.0</td>\n",
       "      <td>6800.0</td>\n",
       "      <td>2</td>\n",
       "      <td>84.0</td>\n",
       "      <td>3</td>\n",
       "      <td>234.0</td>\n",
       "      <td>424.0</td>\n",
       "      <td>24</td>\n",
       "      <td>7</td>\n",
       "      <td>2015</td>\n",
       "      <td>408176.100629</td>\n",
       "      <td>3</td>\n",
       "      <td>59.748428</td>\n",
       "      <td>9.433962</td>\n",
       "    </tr>\n",
       "    <tr>\n",
       "      <th>4</th>\n",
       "      <td>2</td>\n",
       "      <td>10000000</td>\n",
       "      <td>100.0</td>\n",
       "      <td>2018-06-19</td>\n",
       "      <td>2</td>\n",
       "      <td>3.03</td>\n",
       "      <td>14.0</td>\n",
       "      <td>32.0</td>\n",
       "      <td>13</td>\n",
       "      <td>False</td>\n",
       "      <td>False</td>\n",
       "      <td>False</td>\n",
       "      <td>41.0</td>\n",
       "      <td>0</td>\n",
       "      <td>Санкт-Петербург</td>\n",
       "      <td>31856.0</td>\n",
       "      <td>8098.0</td>\n",
       "      <td>2</td>\n",
       "      <td>112.0</td>\n",
       "      <td>1</td>\n",
       "      <td>48.0</td>\n",
       "      <td>121.0</td>\n",
       "      <td>19</td>\n",
       "      <td>6</td>\n",
       "      <td>2018</td>\n",
       "      <td>100000.000000</td>\n",
       "      <td>3</td>\n",
       "      <td>32.000000</td>\n",
       "      <td>41.000000</td>\n",
       "    </tr>\n",
       "  </tbody>\n",
       "</table>\n",
       "</div>"
      ],
      "text/plain": [
       "   total_images  last_price  total_area first_day_exposition  rooms  \\\n",
       "0            20    13000000       108.0           2019-03-07      3   \n",
       "1             7     3350000        40.4           2018-12-04      1   \n",
       "2            10     5196000        56.0           2015-08-20      2   \n",
       "3             0    64900000       159.0           2015-07-24      3   \n",
       "4             2    10000000       100.0           2018-06-19      2   \n",
       "\n",
       "   ceiling_height  floors_total  living_area  floor  is_apartment  studio  \\\n",
       "0            2.70          16.0         51.0      8         False   False   \n",
       "1             NaN          11.0         18.6      1         False   False   \n",
       "2             NaN           5.0         34.3      4         False   False   \n",
       "3             NaN          14.0         95.0      9         False   False   \n",
       "4            3.03          14.0         32.0     13         False   False   \n",
       "\n",
       "   open_plan  kitchen_area  balcony    locality_name  airports_nearest  \\\n",
       "0      False          25.0        0  Санкт-Петербург           18863.0   \n",
       "1      False          11.0        2   поселок Шушары           12817.0   \n",
       "2      False           8.3        0  Санкт-Петербург           21741.0   \n",
       "3      False          15.0        0  Санкт-Петербург           28098.0   \n",
       "4      False          41.0        0  Санкт-Петербург           31856.0   \n",
       "\n",
       "   city_centers_nearest  parks_around3000  parks_nearest  ponds_around3000  \\\n",
       "0               16028.0                 1          482.0                 2   \n",
       "1               18603.0                 0            NaN                 0   \n",
       "2               13933.0                 1           90.0                 2   \n",
       "3                6800.0                 2           84.0                 3   \n",
       "4                8098.0                 2          112.0                 1   \n",
       "\n",
       "   ponds_nearest  days_exposition  day_exposition  month_exposition  \\\n",
       "0          755.0              NaN               7                 3   \n",
       "1            NaN             81.0               4                12   \n",
       "2          574.0            558.0              20                 8   \n",
       "3          234.0            424.0              24                 7   \n",
       "4           48.0            121.0              19                 6   \n",
       "\n",
       "   year_exposition    price_sqr_m  floor_name  living_per_total_area  \\\n",
       "0             2019  120370.370370           3              47.222222   \n",
       "1             2018   82920.792079           1              46.039604   \n",
       "2             2015   92785.714286           3              61.250000   \n",
       "3             2015  408176.100629           3              59.748428   \n",
       "4             2018  100000.000000           3              32.000000   \n",
       "\n",
       "   kitchen_per_total_area  \n",
       "0               23.148148  \n",
       "1               27.227723  \n",
       "2               14.821429  \n",
       "3                9.433962  \n",
       "4               41.000000  "
      ]
     },
     "execution_count": 37,
     "metadata": {},
     "output_type": "execute_result"
    }
   ],
   "source": [
    "realty_data.head()  "
   ]
  },
  {
   "cell_type": "markdown",
   "metadata": {},
   "source": [
    "## Исследовательский анализ данных"
   ]
  },
  {
   "cell_type": "markdown",
   "metadata": {},
   "source": [
    "### Изучим следующие параметры: площадь, цена, число комнат, высота потолков:"
   ]
  },
  {
   "cell_type": "code",
   "execution_count": 38,
   "metadata": {},
   "outputs": [
    {
     "data": {
      "text/plain": [
       "count    23699.000000\n",
       "mean        60.348651\n",
       "std         35.654083\n",
       "min         12.000000\n",
       "25%         40.000000\n",
       "50%         52.000000\n",
       "75%         69.900000\n",
       "max        900.000000\n",
       "Name: total_area, dtype: float64"
      ]
     },
     "execution_count": 38,
     "metadata": {},
     "output_type": "execute_result"
    }
   ],
   "source": [
    "realty_data['total_area'].describe()"
   ]
  },
  {
   "cell_type": "code",
   "execution_count": 39,
   "metadata": {
    "scrolled": true
   },
   "outputs": [
    {
     "data": {
      "text/plain": [
       "<AxesSubplot:title={'center':'площадь'}, ylabel='Frequency'>"
      ]
     },
     "execution_count": 39,
     "metadata": {},
     "output_type": "execute_result"
    },
    {
     "data": {
      "image/png": "[encoded data removed]",
      "text/plain": [
       "<Figure size 432x288 with 1 Axes>"
      ]
     },
     "metadata": {
      "needs_background": "light"
     },
     "output_type": "display_data"
    }
   ],
   "source": [
    "realty_data['total_area'].plot(kind='hist', title='площадь', grid=True, bins=100, xlim=(0, 200))         "
   ]
  },
  {
   "cell_type": "markdown",
   "metadata": {},
   "source": [
    "Видим, что большинство значений находятся в диапазоне от 40 до 70 кв.м. Медианное значение - 52 кв.м."
   ]
  },
  {
   "cell_type": "code",
   "execution_count": 40,
   "metadata": {},
   "outputs": [
    {
     "data": {
      "text/plain": [
       "count    2.369900e+04\n",
       "mean     6.541549e+06\n",
       "std      1.088701e+07\n",
       "min      1.219000e+04\n",
       "25%      3.400000e+06\n",
       "50%      4.650000e+06\n",
       "75%      6.800000e+06\n",
       "max      7.630000e+08\n",
       "Name: last_price, dtype: float64"
      ]
     },
     "execution_count": 40,
     "metadata": {},
     "output_type": "execute_result"
    }
   ],
   "source": [
    "realty_data['last_price'].describe()"
   ]
  },
  {
   "cell_type": "code",
   "execution_count": 41,
   "metadata": {
    "scrolled": true
   },
   "outputs": [
    {
     "data": {
      "text/plain": [
       "<AxesSubplot:title={'center':'цена'}, ylabel='Frequency'>"
      ]
     },
     "execution_count": 41,
     "metadata": {},
     "output_type": "execute_result"
    },
    {
     "data": {
      "image/png": "[encoded data removed]",
      "text/plain": [
       "<Figure size 432x288 with 1 Axes>"
      ]
     },
     "metadata": {
      "needs_background": "light"
     },
     "output_type": "display_data"
    }
   ],
   "source": [
    "realty_data['last_price'].plot(kind='hist', title='цена', grid=True, bins=2000, xlim=(0, 50_000_000)) "
   ]
  },
  {
   "cell_type": "markdown",
   "metadata": {},
   "source": [
    "Межквартильный размах от 3,4 до 6,8 млн, медианное значение - 4,65 млн."
   ]
  },
  {
   "cell_type": "code",
   "execution_count": 42,
   "metadata": {},
   "outputs": [
    {
     "data": {
      "text/plain": [
       "count    23699.000000\n",
       "mean         2.070636\n",
       "std          1.078405\n",
       "min          0.000000\n",
       "25%          1.000000\n",
       "50%          2.000000\n",
       "75%          3.000000\n",
       "max         19.000000\n",
       "Name: rooms, dtype: float64"
      ]
     },
     "execution_count": 42,
     "metadata": {},
     "output_type": "execute_result"
    }
   ],
   "source": [
    "realty_data['rooms'].describe()"
   ]
  },
  {
   "cell_type": "code",
   "execution_count": 43,
   "metadata": {
    "scrolled": true
   },
   "outputs": [
    {
     "data": {
      "text/plain": [
       "<AxesSubplot:title={'center':'число комнат'}, ylabel='Frequency'>"
      ]
     },
     "execution_count": 43,
     "metadata": {},
     "output_type": "execute_result"
    },
    {
     "data": {
      "image/png": "[encoded data removed]",
      "text/plain": [
       "<Figure size 432x288 with 1 Axes>"
      ]
     },
     "metadata": {
      "needs_background": "light"
     },
     "output_type": "display_data"
    }
   ],
   "source": [
    "realty_data['rooms'].plot(kind='hist', title='число комнат', grid=True, bins=20, xlim=(0, 10)) "
   ]
  },
  {
   "cell_type": "markdown",
   "metadata": {},
   "source": [
    "Наблюдаем межквартильный размах от 1 до 3 комнат, медианное значение соответственно - 2 комнаты."
   ]
  },
  {
   "cell_type": "code",
   "execution_count": 44,
   "metadata": {},
   "outputs": [
    {
     "data": {
      "text/plain": [
       "count    14504.000000\n",
       "mean         2.729608\n",
       "std          0.319850\n",
       "min          1.000000\n",
       "25%          2.510000\n",
       "50%          2.650000\n",
       "75%          2.800000\n",
       "max         14.000000\n",
       "Name: ceiling_height, dtype: float64"
      ]
     },
     "execution_count": 44,
     "metadata": {},
     "output_type": "execute_result"
    }
   ],
   "source": [
    "realty_data['ceiling_height'].describe()"
   ]
  },
  {
   "cell_type": "code",
   "execution_count": 45,
   "metadata": {
    "scrolled": true
   },
   "outputs": [
    {
     "data": {
      "text/plain": [
       "<AxesSubplot:title={'center':'высота потолков'}, ylabel='Frequency'>"
      ]
     },
     "execution_count": 45,
     "metadata": {},
     "output_type": "execute_result"
    },
    {
     "data": {
      "image/png": "[encoded data removed]",
      "text/plain": [
       "<Figure size 432x288 with 1 Axes>"
      ]
     },
     "metadata": {
      "needs_background": "light"
     },
     "output_type": "display_data"
    }
   ],
   "source": [
    "realty_data['ceiling_height'].plot(kind='hist', title='высота потолков', grid=True, bins=50, xlim=(1, 10)) "
   ]
  },
  {
   "cell_type": "markdown",
   "metadata": {},
   "source": [
    "Наблюдаем межквартильный размах от 2.5 до 2.8 метров, медианное значение - 2.65 м."
   ]
  },
  {
   "cell_type": "markdown",
   "metadata": {},
   "source": [
    "В целом, данные выглядят достоверно, несмотря на некоторое количество выбросов."
   ]
  },
  {
   "cell_type": "markdown",
   "metadata": {},
   "source": [
    "### Проанализируем время продажи квартиры:"
   ]
  },
  {
   "cell_type": "code",
   "execution_count": 46,
   "metadata": {},
   "outputs": [
    {
     "data": {
      "text/plain": [
       "<AxesSubplot:title={'center':'время продажи'}, ylabel='Frequency'>"
      ]
     },
     "execution_count": 46,
     "metadata": {},
     "output_type": "execute_result"
    },
    {
     "data": {
      "image/png": "[encoded data removed]",
      "text/plain": [
       "<Figure size 432x288 with 1 Axes>"
      ]
     },
     "metadata": {
      "needs_background": "light"
     },
     "output_type": "display_data"
    }
   ],
   "source": [
    "realty_data['days_exposition'].plot(kind='hist', title='время продажи', grid=True, bins=100) "
   ]
  },
  {
   "cell_type": "code",
   "execution_count": 47,
   "metadata": {
    "scrolled": true
   },
   "outputs": [
    {
     "data": {
      "text/plain": [
       "<AxesSubplot:xlabel='days_exposition'>"
      ]
     },
     "execution_count": 47,
     "metadata": {},
     "output_type": "execute_result"
    },
    {
     "data": {
      "image/png": "[encoded data removed]",
      "text/plain": [
       "<Figure size 432x288 with 1 Axes>"
      ]
     },
     "metadata": {
      "needs_background": "light"
     },
     "output_type": "display_data"
    }
   ],
   "source": [
    "sns.boxplot(data=realty_data, x='days_exposition')"
   ]
  },
  {
   "cell_type": "markdown",
   "metadata": {},
   "source": [
    "Наблюдаем большое количество выбросов примерно после значения - 500 дней. Вряд ли такое большое количество квартир продавалось дольше полутора лет, возможно владелец просто забыл вовремя снять свое объявление с сайта.\n",
    "\n",
    "Чтобы не терять нужные данные в других столбцах, скорректируем выбивающихся значения, приблизив их к нормальным:"
   ]
  },
  {
   "cell_type": "code",
   "execution_count": 48,
   "metadata": {},
   "outputs": [],
   "source": [
    "realty_data['days_exposition'] = realty_data['days_exposition'].where(realty_data['days_exposition'] < 500, realty_data['days_exposition']/10, errors='ignore')"
   ]
  },
  {
   "cell_type": "code",
   "execution_count": 49,
   "metadata": {},
   "outputs": [
    {
     "data": {
      "text/plain": [
       "<AxesSubplot:title={'center':'время продажи'}, ylabel='Frequency'>"
      ]
     },
     "execution_count": 49,
     "metadata": {},
     "output_type": "execute_result"
    },
    {
     "data": {
      "image/png": "[encoded data removed]",
      "text/plain": [
       "<Figure size 432x288 with 1 Axes>"
      ]
     },
     "metadata": {
      "needs_background": "light"
     },
     "output_type": "display_data"
    }
   ],
   "source": [
    "realty_data['days_exposition'].plot(kind='hist', title='время продажи', grid=True, bins=100) "
   ]
  },
  {
   "cell_type": "code",
   "execution_count": 50,
   "metadata": {},
   "outputs": [
    {
     "data": {
      "text/plain": [
       "count    20518.000000\n",
       "mean       122.655459\n",
       "std        115.002777\n",
       "min          1.000000\n",
       "25%         45.000000\n",
       "50%         80.000000\n",
       "75%        168.000000\n",
       "max        499.000000\n",
       "Name: days_exposition, dtype: float64"
      ]
     },
     "execution_count": 50,
     "metadata": {},
     "output_type": "execute_result"
    }
   ],
   "source": [
    "realty_data['days_exposition'].describe()"
   ]
  },
  {
   "cell_type": "markdown",
   "metadata": {},
   "source": [
    "Можно сделать вывод, что обычно продажа занимает от 45 до 168 дней, в среднем - 80 дней. За пределами этих значений, можно сказать, что продажа прошла быстро или медленно."
   ]
  },
  {
   "cell_type": "markdown",
   "metadata": {},
   "source": [
    "####  Определим, зависит ли цена от площади, числа комнат и удалённости от центра:"
   ]
  },
  {
   "cell_type": "code",
   "execution_count": 51,
   "metadata": {},
   "outputs": [
    {
     "data": {
      "text/plain": [
       "array([[<AxesSubplot:xlabel='last_price', ylabel='last_price'>,\n",
       "        <AxesSubplot:xlabel='total_area', ylabel='last_price'>,\n",
       "        <AxesSubplot:xlabel='rooms', ylabel='last_price'>,\n",
       "        <AxesSubplot:xlabel='city_centers_nearest', ylabel='last_price'>],\n",
       "       [<AxesSubplot:xlabel='last_price', ylabel='total_area'>,\n",
       "        <AxesSubplot:xlabel='total_area', ylabel='total_area'>,\n",
       "        <AxesSubplot:xlabel='rooms', ylabel='total_area'>,\n",
       "        <AxesSubplot:xlabel='city_centers_nearest', ylabel='total_area'>],\n",
       "       [<AxesSubplot:xlabel='last_price', ylabel='rooms'>,\n",
       "        <AxesSubplot:xlabel='total_area', ylabel='rooms'>,\n",
       "        <AxesSubplot:xlabel='rooms', ylabel='rooms'>,\n",
       "        <AxesSubplot:xlabel='city_centers_nearest', ylabel='rooms'>],\n",
       "       [<AxesSubplot:xlabel='last_price', ylabel='city_centers_nearest'>,\n",
       "        <AxesSubplot:xlabel='total_area', ylabel='city_centers_nearest'>,\n",
       "        <AxesSubplot:xlabel='rooms', ylabel='city_centers_nearest'>,\n",
       "        <AxesSubplot:xlabel='city_centers_nearest', ylabel='city_centers_nearest'>]],\n",
       "      dtype=object)"
      ]
     },
     "execution_count": 51,
     "metadata": {},
     "output_type": "execute_result"
    },
    {
     "data": {
      "image/png": "[encoded data removed]",
      "text/plain": [
       "<Figure size 648x648 with 16 Axes>"
      ]
     },
     "metadata": {
      "needs_background": "light"
     },
     "output_type": "display_data"
    }
   ],
   "source": [
    "pd.plotting.scatter_matrix(realty_data[['last_price', 'total_area', 'rooms', 'city_centers_nearest']], figsize=(9, 9))"
   ]
  },
  {
   "cell_type": "code",
   "execution_count": 52,
   "metadata": {},
   "outputs": [
    {
     "data": {
      "text/html": [
       "<div>\n",
       "<style scoped>\n",
       "    .dataframe tbody tr th:only-of-type {\n",
       "        vertical-align: middle;\n",
       "    }\n",
       "\n",
       "    .dataframe tbody tr th {\n",
       "        vertical-align: top;\n",
       "    }\n",
       "\n",
       "    .dataframe thead th {\n",
       "        text-align: right;\n",
       "    }\n",
       "</style>\n",
       "<table border=\"1\" class=\"dataframe\">\n",
       "  <thead>\n",
       "    <tr style=\"text-align: right;\">\n",
       "      <th></th>\n",
       "      <th>last_price</th>\n",
       "      <th>total_area</th>\n",
       "      <th>rooms</th>\n",
       "      <th>city_centers_nearest</th>\n",
       "    </tr>\n",
       "  </thead>\n",
       "  <tbody>\n",
       "    <tr>\n",
       "      <th>last_price</th>\n",
       "      <td>1.000000</td>\n",
       "      <td>0.653675</td>\n",
       "      <td>0.363343</td>\n",
       "      <td>-0.206747</td>\n",
       "    </tr>\n",
       "    <tr>\n",
       "      <th>total_area</th>\n",
       "      <td>0.653675</td>\n",
       "      <td>1.000000</td>\n",
       "      <td>0.758344</td>\n",
       "      <td>-0.231446</td>\n",
       "    </tr>\n",
       "    <tr>\n",
       "      <th>rooms</th>\n",
       "      <td>0.363343</td>\n",
       "      <td>0.758344</td>\n",
       "      <td>1.000000</td>\n",
       "      <td>-0.184864</td>\n",
       "    </tr>\n",
       "    <tr>\n",
       "      <th>city_centers_nearest</th>\n",
       "      <td>-0.206747</td>\n",
       "      <td>-0.231446</td>\n",
       "      <td>-0.184864</td>\n",
       "      <td>1.000000</td>\n",
       "    </tr>\n",
       "  </tbody>\n",
       "</table>\n",
       "</div>"
      ],
      "text/plain": [
       "                      last_price  total_area     rooms  city_centers_nearest\n",
       "last_price              1.000000    0.653675  0.363343             -0.206747\n",
       "total_area              0.653675    1.000000  0.758344             -0.231446\n",
       "rooms                   0.363343    0.758344  1.000000             -0.184864\n",
       "city_centers_nearest   -0.206747   -0.231446 -0.184864              1.000000"
      ]
     },
     "execution_count": 52,
     "metadata": {},
     "output_type": "execute_result"
    }
   ],
   "source": [
    "(realty_data[['last_price', 'total_area', 'rooms', 'city_centers_nearest']]).corr()"
   ]
  },
  {
   "cell_type": "markdown",
   "metadata": {},
   "source": [
    "Обнаружена средняя положительная корреляция между ценой и площадью недвижимости - с увеличением площади цена обычно тоже растет. \n",
    "\n",
    "Небольшая зависимость есть между ценой и количеством комнат, пик стоимости приходится на недвижимость с 5-ю комнатами, далее наблюдается спад. \n",
    "\n",
    "Между ценой и расстоянием от центра корреляцию не наблюдаем, хотя, судя по графику, чем ближе к центру - тем цена выше."
   ]
  },
  {
   "cell_type": "markdown",
   "metadata": {},
   "source": [
    "#### Изучим зависимость цены от того, на каком этаже расположена квартира: первом, последнем или другом."
   ]
  },
  {
   "cell_type": "code",
   "execution_count": 53,
   "metadata": {},
   "outputs": [
    {
     "data": {
      "text/plain": [
       "<AxesSubplot:>"
      ]
     },
     "execution_count": 53,
     "metadata": {},
     "output_type": "execute_result"
    },
    {
     "data": {
      "image/png": "[encoded data removed]",
      "text/plain": [
       "<Figure size 432x288 with 1 Axes>"
      ]
     },
     "metadata": {
      "needs_background": "light"
     },
     "output_type": "display_data"
    }
   ],
   "source": [
    "realty_data.pivot_table(columns='floor_name', values='last_price', aggfunc='median').plot(kind='bar')"
   ]
  },
  {
   "cell_type": "code",
   "execution_count": 54,
   "metadata": {},
   "outputs": [
    {
     "data": {
      "text/html": [
       "<div>\n",
       "<style scoped>\n",
       "    .dataframe tbody tr th:only-of-type {\n",
       "        vertical-align: middle;\n",
       "    }\n",
       "\n",
       "    .dataframe tbody tr th {\n",
       "        vertical-align: top;\n",
       "    }\n",
       "\n",
       "    .dataframe thead th {\n",
       "        text-align: right;\n",
       "    }\n",
       "</style>\n",
       "<table border=\"1\" class=\"dataframe\">\n",
       "  <thead>\n",
       "    <tr style=\"text-align: right;\">\n",
       "      <th></th>\n",
       "      <th>last_price</th>\n",
       "      <th>floor_name</th>\n",
       "    </tr>\n",
       "  </thead>\n",
       "  <tbody>\n",
       "    <tr>\n",
       "      <th>last_price</th>\n",
       "      <td>1.000000</td>\n",
       "      <td>0.041284</td>\n",
       "    </tr>\n",
       "    <tr>\n",
       "      <th>floor_name</th>\n",
       "      <td>0.041284</td>\n",
       "      <td>1.000000</td>\n",
       "    </tr>\n",
       "  </tbody>\n",
       "</table>\n",
       "</div>"
      ],
      "text/plain": [
       "            last_price  floor_name\n",
       "last_price    1.000000    0.041284\n",
       "floor_name    0.041284    1.000000"
      ]
     },
     "execution_count": 54,
     "metadata": {},
     "output_type": "execute_result"
    }
   ],
   "source": [
    "(realty_data[['last_price', 'floor_name']]).corr()"
   ]
  },
  {
   "cell_type": "markdown",
   "metadata": {},
   "source": [
    "Между ценой на недвижимость и этажностью корреляция не обнаружена. По диаграмме можно заметить, что квартиры на первом и последнем этажах продаются дешевле, чем на всех остальных."
   ]
  },
  {
   "cell_type": "markdown",
   "metadata": {},
   "source": [
    "#### Также изучим зависимость от даты размещения: дня недели, месяца и года."
   ]
  },
  {
   "cell_type": "code",
   "execution_count": 55,
   "metadata": {},
   "outputs": [
    {
     "data": {
      "text/plain": [
       "<AxesSubplot:>"
      ]
     },
     "execution_count": 55,
     "metadata": {},
     "output_type": "execute_result"
    },
    {
     "data": {
      "image/png": "[encoded data removed]",
      "text/plain": [
       "<Figure size 432x288 with 1 Axes>"
      ]
     },
     "metadata": {
      "needs_background": "light"
     },
     "output_type": "display_data"
    }
   ],
   "source": [
    "realty_data.pivot_table(columns='year_exposition', values='last_price', aggfunc='median').plot(kind='bar')"
   ]
  },
  {
   "cell_type": "code",
   "execution_count": 56,
   "metadata": {},
   "outputs": [
    {
     "data": {
      "text/plain": [
       "<AxesSubplot:xlabel='month_exposition'>"
      ]
     },
     "execution_count": 56,
     "metadata": {},
     "output_type": "execute_result"
    },
    {
     "data": {
      "image/png": "[encoded data removed]",
      "text/plain": [
       "<Figure size 432x288 with 1 Axes>"
      ]
     },
     "metadata": {
      "needs_background": "light"
     },
     "output_type": "display_data"
    }
   ],
   "source": [
    "realty_data.pivot_table(index='month_exposition', values='last_price', aggfunc='median').plot(kind='bar', legend=False)"
   ]
  },
  {
   "cell_type": "code",
   "execution_count": 57,
   "metadata": {},
   "outputs": [
    {
     "data": {
      "text/plain": [
       "<AxesSubplot:xlabel='day_exposition'>"
      ]
     },
     "execution_count": 57,
     "metadata": {},
     "output_type": "execute_result"
    },
    {
     "data": {
      "image/png": "[encoded data removed]",
      "text/plain": [
       "<Figure size 432x288 with 1 Axes>"
      ]
     },
     "metadata": {
      "needs_background": "light"
     },
     "output_type": "display_data"
    }
   ],
   "source": [
    "realty_data.pivot_table(index='day_exposition', values='last_price', aggfunc='median').plot(kind='bar', legend=False)"
   ]
  },
  {
   "cell_type": "markdown",
   "metadata": {},
   "source": [
    "Серьезная зависимость между ценой на недвижимость, днем и месяцем размещения не обнаружена. По графику для года заметно, что после 2014 года цена достаточно сильно понизилась и далее до 2019 года держалась примерно на одном уровне."
   ]
  },
  {
   "cell_type": "markdown",
   "metadata": {},
   "source": [
    "### Найдем 10 населённых пунктов с наибольшим числом объявлений. Посчитаем среднюю цену квадратного метра в этих населённых пунктах."
   ]
  },
  {
   "cell_type": "code",
   "execution_count": 58,
   "metadata": {},
   "outputs": [],
   "source": [
    "locality_top = realty_data.pivot_table(index='locality_name', values='price_sqr_m', aggfunc=['count', 'mean']).reset_index().sort_values(by=[('count', 'price_sqr_m')], ascending=False)"
   ]
  },
  {
   "cell_type": "code",
   "execution_count": 59,
   "metadata": {},
   "outputs": [
    {
     "data": {
      "text/html": [
       "<div>\n",
       "<style scoped>\n",
       "    .dataframe tbody tr th:only-of-type {\n",
       "        vertical-align: middle;\n",
       "    }\n",
       "\n",
       "    .dataframe tbody tr th {\n",
       "        vertical-align: top;\n",
       "    }\n",
       "\n",
       "    .dataframe thead tr th {\n",
       "        text-align: left;\n",
       "    }\n",
       "</style>\n",
       "<table border=\"1\" class=\"dataframe\">\n",
       "  <thead>\n",
       "    <tr>\n",
       "      <th></th>\n",
       "      <th>locality_name</th>\n",
       "      <th>count</th>\n",
       "      <th>mean</th>\n",
       "    </tr>\n",
       "    <tr>\n",
       "      <th></th>\n",
       "      <th></th>\n",
       "      <th>price_sqr_m</th>\n",
       "      <th>price_sqr_m</th>\n",
       "    </tr>\n",
       "  </thead>\n",
       "  <tbody>\n",
       "    <tr>\n",
       "      <th>34</th>\n",
       "      <td>Санкт-Петербург</td>\n",
       "      <td>15721</td>\n",
       "      <td>114849.008794</td>\n",
       "    </tr>\n",
       "    <tr>\n",
       "      <th>217</th>\n",
       "      <td>поселок Мурино</td>\n",
       "      <td>556</td>\n",
       "      <td>85681.762601</td>\n",
       "    </tr>\n",
       "    <tr>\n",
       "      <th>277</th>\n",
       "      <td>поселок Шушары</td>\n",
       "      <td>440</td>\n",
       "      <td>78677.364217</td>\n",
       "    </tr>\n",
       "    <tr>\n",
       "      <th>4</th>\n",
       "      <td>Всеволожск</td>\n",
       "      <td>398</td>\n",
       "      <td>68654.473986</td>\n",
       "    </tr>\n",
       "    <tr>\n",
       "      <th>33</th>\n",
       "      <td>Пушкин</td>\n",
       "      <td>369</td>\n",
       "      <td>103125.819291</td>\n",
       "    </tr>\n",
       "    <tr>\n",
       "      <th>14</th>\n",
       "      <td>Колпино</td>\n",
       "      <td>338</td>\n",
       "      <td>75424.579098</td>\n",
       "    </tr>\n",
       "    <tr>\n",
       "      <th>224</th>\n",
       "      <td>поселок Парголово</td>\n",
       "      <td>327</td>\n",
       "      <td>90175.913458</td>\n",
       "    </tr>\n",
       "    <tr>\n",
       "      <th>7</th>\n",
       "      <td>Гатчина</td>\n",
       "      <td>307</td>\n",
       "      <td>68746.146763</td>\n",
       "    </tr>\n",
       "    <tr>\n",
       "      <th>93</th>\n",
       "      <td>деревня Кудрово</td>\n",
       "      <td>299</td>\n",
       "      <td>92473.547576</td>\n",
       "    </tr>\n",
       "    <tr>\n",
       "      <th>5</th>\n",
       "      <td>Выборг</td>\n",
       "      <td>237</td>\n",
       "      <td>58141.909153</td>\n",
       "    </tr>\n",
       "  </tbody>\n",
       "</table>\n",
       "</div>"
      ],
      "text/plain": [
       "         locality_name       count           mean\n",
       "                       price_sqr_m    price_sqr_m\n",
       "34     Санкт-Петербург       15721  114849.008794\n",
       "217     поселок Мурино         556   85681.762601\n",
       "277     поселок Шушары         440   78677.364217\n",
       "4           Всеволожск         398   68654.473986\n",
       "33              Пушкин         369  103125.819291\n",
       "14             Колпино         338   75424.579098\n",
       "224  поселок Парголово         327   90175.913458\n",
       "7              Гатчина         307   68746.146763\n",
       "93     деревня Кудрово         299   92473.547576\n",
       "5               Выборг         237   58141.909153"
      ]
     },
     "execution_count": 59,
     "metadata": {},
     "output_type": "execute_result"
    }
   ],
   "source": [
    "locality_top.head(10)"
   ]
  },
  {
   "cell_type": "markdown",
   "metadata": {},
   "source": [
    "Населённые пункты с самой высокой стоимостью жилья - Санкт-Петербург и Пушкин, с самой низкой - Выборг. "
   ]
  },
  {
   "cell_type": "markdown",
   "metadata": {},
   "source": [
    "### Изучим предложения квартир в Санкт-Петербурге. "
   ]
  },
  {
   "cell_type": "code",
   "execution_count": 60,
   "metadata": {},
   "outputs": [],
   "source": [
    "locality_spb = realty_data.query('locality_name == \"Санкт-Петербург\"').reset_index(drop=True)"
   ]
  },
  {
   "cell_type": "code",
   "execution_count": 61,
   "metadata": {},
   "outputs": [
    {
     "data": {
      "text/html": [
       "<div>\n",
       "<style scoped>\n",
       "    .dataframe tbody tr th:only-of-type {\n",
       "        vertical-align: middle;\n",
       "    }\n",
       "\n",
       "    .dataframe tbody tr th {\n",
       "        vertical-align: top;\n",
       "    }\n",
       "\n",
       "    .dataframe thead th {\n",
       "        text-align: right;\n",
       "    }\n",
       "</style>\n",
       "<table border=\"1\" class=\"dataframe\">\n",
       "  <thead>\n",
       "    <tr style=\"text-align: right;\">\n",
       "      <th></th>\n",
       "      <th>total_images</th>\n",
       "      <th>last_price</th>\n",
       "      <th>total_area</th>\n",
       "      <th>first_day_exposition</th>\n",
       "      <th>rooms</th>\n",
       "      <th>ceiling_height</th>\n",
       "      <th>floors_total</th>\n",
       "      <th>living_area</th>\n",
       "      <th>floor</th>\n",
       "      <th>is_apartment</th>\n",
       "      <th>studio</th>\n",
       "      <th>open_plan</th>\n",
       "      <th>kitchen_area</th>\n",
       "      <th>balcony</th>\n",
       "      <th>locality_name</th>\n",
       "      <th>airports_nearest</th>\n",
       "      <th>city_centers_nearest</th>\n",
       "      <th>parks_around3000</th>\n",
       "      <th>parks_nearest</th>\n",
       "      <th>ponds_around3000</th>\n",
       "      <th>ponds_nearest</th>\n",
       "      <th>days_exposition</th>\n",
       "      <th>day_exposition</th>\n",
       "      <th>month_exposition</th>\n",
       "      <th>year_exposition</th>\n",
       "      <th>price_sqr_m</th>\n",
       "      <th>floor_name</th>\n",
       "      <th>living_per_total_area</th>\n",
       "      <th>kitchen_per_total_area</th>\n",
       "    </tr>\n",
       "  </thead>\n",
       "  <tbody>\n",
       "    <tr>\n",
       "      <th>0</th>\n",
       "      <td>20</td>\n",
       "      <td>13000000</td>\n",
       "      <td>108.0</td>\n",
       "      <td>2019-03-07</td>\n",
       "      <td>3</td>\n",
       "      <td>2.70</td>\n",
       "      <td>16.0</td>\n",
       "      <td>51.0</td>\n",
       "      <td>8</td>\n",
       "      <td>False</td>\n",
       "      <td>False</td>\n",
       "      <td>False</td>\n",
       "      <td>25.0</td>\n",
       "      <td>0</td>\n",
       "      <td>Санкт-Петербург</td>\n",
       "      <td>18863.0</td>\n",
       "      <td>16028.0</td>\n",
       "      <td>1</td>\n",
       "      <td>482.0</td>\n",
       "      <td>2</td>\n",
       "      <td>755.0</td>\n",
       "      <td>NaN</td>\n",
       "      <td>7</td>\n",
       "      <td>3</td>\n",
       "      <td>2019</td>\n",
       "      <td>120370.370370</td>\n",
       "      <td>3</td>\n",
       "      <td>47.222222</td>\n",
       "      <td>23.148148</td>\n",
       "    </tr>\n",
       "    <tr>\n",
       "      <th>1</th>\n",
       "      <td>10</td>\n",
       "      <td>5196000</td>\n",
       "      <td>56.0</td>\n",
       "      <td>2015-08-20</td>\n",
       "      <td>2</td>\n",
       "      <td>NaN</td>\n",
       "      <td>5.0</td>\n",
       "      <td>34.3</td>\n",
       "      <td>4</td>\n",
       "      <td>False</td>\n",
       "      <td>False</td>\n",
       "      <td>False</td>\n",
       "      <td>8.3</td>\n",
       "      <td>0</td>\n",
       "      <td>Санкт-Петербург</td>\n",
       "      <td>21741.0</td>\n",
       "      <td>13933.0</td>\n",
       "      <td>1</td>\n",
       "      <td>90.0</td>\n",
       "      <td>2</td>\n",
       "      <td>574.0</td>\n",
       "      <td>55.8</td>\n",
       "      <td>20</td>\n",
       "      <td>8</td>\n",
       "      <td>2015</td>\n",
       "      <td>92785.714286</td>\n",
       "      <td>3</td>\n",
       "      <td>61.250000</td>\n",
       "      <td>14.821429</td>\n",
       "    </tr>\n",
       "    <tr>\n",
       "      <th>2</th>\n",
       "      <td>0</td>\n",
       "      <td>64900000</td>\n",
       "      <td>159.0</td>\n",
       "      <td>2015-07-24</td>\n",
       "      <td>3</td>\n",
       "      <td>NaN</td>\n",
       "      <td>14.0</td>\n",
       "      <td>95.0</td>\n",
       "      <td>9</td>\n",
       "      <td>False</td>\n",
       "      <td>False</td>\n",
       "      <td>False</td>\n",
       "      <td>15.0</td>\n",
       "      <td>0</td>\n",
       "      <td>Санкт-Петербург</td>\n",
       "      <td>28098.0</td>\n",
       "      <td>6800.0</td>\n",
       "      <td>2</td>\n",
       "      <td>84.0</td>\n",
       "      <td>3</td>\n",
       "      <td>234.0</td>\n",
       "      <td>424.0</td>\n",
       "      <td>24</td>\n",
       "      <td>7</td>\n",
       "      <td>2015</td>\n",
       "      <td>408176.100629</td>\n",
       "      <td>3</td>\n",
       "      <td>59.748428</td>\n",
       "      <td>9.433962</td>\n",
       "    </tr>\n",
       "    <tr>\n",
       "      <th>3</th>\n",
       "      <td>2</td>\n",
       "      <td>10000000</td>\n",
       "      <td>100.0</td>\n",
       "      <td>2018-06-19</td>\n",
       "      <td>2</td>\n",
       "      <td>3.03</td>\n",
       "      <td>14.0</td>\n",
       "      <td>32.0</td>\n",
       "      <td>13</td>\n",
       "      <td>False</td>\n",
       "      <td>False</td>\n",
       "      <td>False</td>\n",
       "      <td>41.0</td>\n",
       "      <td>0</td>\n",
       "      <td>Санкт-Петербург</td>\n",
       "      <td>31856.0</td>\n",
       "      <td>8098.0</td>\n",
       "      <td>2</td>\n",
       "      <td>112.0</td>\n",
       "      <td>1</td>\n",
       "      <td>48.0</td>\n",
       "      <td>121.0</td>\n",
       "      <td>19</td>\n",
       "      <td>6</td>\n",
       "      <td>2018</td>\n",
       "      <td>100000.000000</td>\n",
       "      <td>3</td>\n",
       "      <td>32.000000</td>\n",
       "      <td>41.000000</td>\n",
       "    </tr>\n",
       "    <tr>\n",
       "      <th>4</th>\n",
       "      <td>5</td>\n",
       "      <td>7915000</td>\n",
       "      <td>71.6</td>\n",
       "      <td>2019-04-18</td>\n",
       "      <td>2</td>\n",
       "      <td>NaN</td>\n",
       "      <td>24.0</td>\n",
       "      <td>44.3</td>\n",
       "      <td>22</td>\n",
       "      <td>False</td>\n",
       "      <td>False</td>\n",
       "      <td>False</td>\n",
       "      <td>18.9</td>\n",
       "      <td>2</td>\n",
       "      <td>Санкт-Петербург</td>\n",
       "      <td>23982.0</td>\n",
       "      <td>11634.0</td>\n",
       "      <td>0</td>\n",
       "      <td>NaN</td>\n",
       "      <td>0</td>\n",
       "      <td>NaN</td>\n",
       "      <td>NaN</td>\n",
       "      <td>18</td>\n",
       "      <td>4</td>\n",
       "      <td>2019</td>\n",
       "      <td>110544.692737</td>\n",
       "      <td>3</td>\n",
       "      <td>61.871508</td>\n",
       "      <td>26.396648</td>\n",
       "    </tr>\n",
       "  </tbody>\n",
       "</table>\n",
       "</div>"
      ],
      "text/plain": [
       "   total_images  last_price  total_area first_day_exposition  rooms  \\\n",
       "0            20    13000000       108.0           2019-03-07      3   \n",
       "1            10     5196000        56.0           2015-08-20      2   \n",
       "2             0    64900000       159.0           2015-07-24      3   \n",
       "3             2    10000000       100.0           2018-06-19      2   \n",
       "4             5     7915000        71.6           2019-04-18      2   \n",
       "\n",
       "   ceiling_height  floors_total  living_area  floor  is_apartment  studio  \\\n",
       "0            2.70          16.0         51.0      8         False   False   \n",
       "1             NaN           5.0         34.3      4         False   False   \n",
       "2             NaN          14.0         95.0      9         False   False   \n",
       "3            3.03          14.0         32.0     13         False   False   \n",
       "4             NaN          24.0         44.3     22         False   False   \n",
       "\n",
       "   open_plan  kitchen_area  balcony    locality_name  airports_nearest  \\\n",
       "0      False          25.0        0  Санкт-Петербург           18863.0   \n",
       "1      False           8.3        0  Санкт-Петербург           21741.0   \n",
       "2      False          15.0        0  Санкт-Петербург           28098.0   \n",
       "3      False          41.0        0  Санкт-Петербург           31856.0   \n",
       "4      False          18.9        2  Санкт-Петербург           23982.0   \n",
       "\n",
       "   city_centers_nearest  parks_around3000  parks_nearest  ponds_around3000  \\\n",
       "0               16028.0                 1          482.0                 2   \n",
       "1               13933.0                 1           90.0                 2   \n",
       "2                6800.0                 2           84.0                 3   \n",
       "3                8098.0                 2          112.0                 1   \n",
       "4               11634.0                 0            NaN                 0   \n",
       "\n",
       "   ponds_nearest  days_exposition  day_exposition  month_exposition  \\\n",
       "0          755.0              NaN               7                 3   \n",
       "1          574.0             55.8              20                 8   \n",
       "2          234.0            424.0              24                 7   \n",
       "3           48.0            121.0              19                 6   \n",
       "4            NaN              NaN              18                 4   \n",
       "\n",
       "   year_exposition    price_sqr_m  floor_name  living_per_total_area  \\\n",
       "0             2019  120370.370370           3              47.222222   \n",
       "1             2015   92785.714286           3              61.250000   \n",
       "2             2015  408176.100629           3              59.748428   \n",
       "3             2018  100000.000000           3              32.000000   \n",
       "4             2019  110544.692737           3              61.871508   \n",
       "\n",
       "   kitchen_per_total_area  \n",
       "0               23.148148  \n",
       "1               14.821429  \n",
       "2                9.433962  \n",
       "3               41.000000  \n",
       "4               26.396648  "
      ]
     },
     "execution_count": 61,
     "metadata": {},
     "output_type": "execute_result"
    }
   ],
   "source": [
    "locality_spb.head()"
   ]
  },
  {
   "cell_type": "code",
   "execution_count": 62,
   "metadata": {},
   "outputs": [],
   "source": [
    "locality_spb.dropna(subset=['city_centers_nearest'], inplace=True)"
   ]
  },
  {
   "cell_type": "markdown",
   "metadata": {},
   "source": [
    "Создадим столбец с расстоянием до центра в километрах:"
   ]
  },
  {
   "cell_type": "code",
   "execution_count": 63,
   "metadata": {},
   "outputs": [],
   "source": [
    "locality_spb['city_centers_km'] = locality_spb['city_centers_nearest']/1000\n",
    "locality_spb['city_centers_km'] = locality_spb['city_centers_km'].astype('int')"
   ]
  },
  {
   "cell_type": "code",
   "execution_count": 64,
   "metadata": {},
   "outputs": [
    {
     "data": {
      "text/html": [
       "<div>\n",
       "<style scoped>\n",
       "    .dataframe tbody tr th:only-of-type {\n",
       "        vertical-align: middle;\n",
       "    }\n",
       "\n",
       "    .dataframe tbody tr th {\n",
       "        vertical-align: top;\n",
       "    }\n",
       "\n",
       "    .dataframe thead th {\n",
       "        text-align: right;\n",
       "    }\n",
       "</style>\n",
       "<table border=\"1\" class=\"dataframe\">\n",
       "  <thead>\n",
       "    <tr style=\"text-align: right;\">\n",
       "      <th></th>\n",
       "      <th>city_centers_km</th>\n",
       "      <th>city_centers_nearest</th>\n",
       "    </tr>\n",
       "  </thead>\n",
       "  <tbody>\n",
       "    <tr>\n",
       "      <th>0</th>\n",
       "      <td>16</td>\n",
       "      <td>16028.0</td>\n",
       "    </tr>\n",
       "    <tr>\n",
       "      <th>1</th>\n",
       "      <td>13</td>\n",
       "      <td>13933.0</td>\n",
       "    </tr>\n",
       "    <tr>\n",
       "      <th>2</th>\n",
       "      <td>6</td>\n",
       "      <td>6800.0</td>\n",
       "    </tr>\n",
       "    <tr>\n",
       "      <th>3</th>\n",
       "      <td>8</td>\n",
       "      <td>8098.0</td>\n",
       "    </tr>\n",
       "    <tr>\n",
       "      <th>4</th>\n",
       "      <td>11</td>\n",
       "      <td>11634.0</td>\n",
       "    </tr>\n",
       "    <tr>\n",
       "      <th>...</th>\n",
       "      <td>...</td>\n",
       "      <td>...</td>\n",
       "    </tr>\n",
       "    <tr>\n",
       "      <th>15716</th>\n",
       "      <td>16</td>\n",
       "      <td>16081.0</td>\n",
       "    </tr>\n",
       "    <tr>\n",
       "      <th>15717</th>\n",
       "      <td>6</td>\n",
       "      <td>6263.0</td>\n",
       "    </tr>\n",
       "    <tr>\n",
       "      <th>15718</th>\n",
       "      <td>4</td>\n",
       "      <td>4489.0</td>\n",
       "    </tr>\n",
       "    <tr>\n",
       "      <th>15719</th>\n",
       "      <td>4</td>\n",
       "      <td>4232.0</td>\n",
       "    </tr>\n",
       "    <tr>\n",
       "      <th>15720</th>\n",
       "      <td>10</td>\n",
       "      <td>10364.0</td>\n",
       "    </tr>\n",
       "  </tbody>\n",
       "</table>\n",
       "<p>15660 rows × 2 columns</p>\n",
       "</div>"
      ],
      "text/plain": [
       "       city_centers_km  city_centers_nearest\n",
       "0                   16               16028.0\n",
       "1                   13               13933.0\n",
       "2                    6                6800.0\n",
       "3                    8                8098.0\n",
       "4                   11               11634.0\n",
       "...                ...                   ...\n",
       "15716               16               16081.0\n",
       "15717                6                6263.0\n",
       "15718                4                4489.0\n",
       "15719                4                4232.0\n",
       "15720               10               10364.0\n",
       "\n",
       "[15660 rows x 2 columns]"
      ]
     },
     "execution_count": 64,
     "metadata": {},
     "output_type": "execute_result"
    }
   ],
   "source": [
    "locality_spb[['city_centers_km', 'city_centers_nearest']]"
   ]
  },
  {
   "cell_type": "code",
   "execution_count": 65,
   "metadata": {},
   "outputs": [],
   "source": [
    "locality_spb['city_centers_km'] = locality_spb['city_centers_km'].replace(0, 0.001) \n",
    "# чтобы не делить на ноль"
   ]
  },
  {
   "cell_type": "code",
   "execution_count": 66,
   "metadata": {},
   "outputs": [
    {
     "data": {
      "text/plain": [
       "0.001"
      ]
     },
     "execution_count": 66,
     "metadata": {},
     "output_type": "execute_result"
    }
   ],
   "source": [
    "locality_spb['city_centers_km'].min()  # проверка"
   ]
  },
  {
   "cell_type": "markdown",
   "metadata": {},
   "source": [
    "Посчитаем среднюю цену для каждого километра:"
   ]
  },
  {
   "cell_type": "code",
   "execution_count": 67,
   "metadata": {},
   "outputs": [],
   "source": [
    "locality_spb['price_per_km'] = locality_spb['last_price']/locality_spb['city_centers_km']"
   ]
  },
  {
   "cell_type": "markdown",
   "metadata": {},
   "source": [
    "Выясним, какая область входит в центр:"
   ]
  },
  {
   "cell_type": "code",
   "execution_count": 68,
   "metadata": {},
   "outputs": [
    {
     "data": {
      "text/plain": [
       "<AxesSubplot:xlabel='last_price', ylabel='city_centers_km'>"
      ]
     },
     "execution_count": 68,
     "metadata": {},
     "output_type": "execute_result"
    },
    {
     "data": {
      "image/png": "[encoded data removed]",
      "text/plain": [
       "<Figure size 432x288 with 1 Axes>"
      ]
     },
     "metadata": {
      "needs_background": "light"
     },
     "output_type": "display_data"
    }
   ],
   "source": [
    "locality_spb.plot(kind='scatter', x='last_price', y='city_centers_km', xlim=(0, 100000000))"
   ]
  },
  {
   "cell_type": "code",
   "execution_count": 69,
   "metadata": {},
   "outputs": [
    {
     "data": {
      "text/plain": [
       "-0.2597024971359488"
      ]
     },
     "execution_count": 69,
     "metadata": {},
     "output_type": "execute_result"
    }
   ],
   "source": [
    "(locality_spb['last_price']).corr(locality_spb['city_centers_km'])"
   ]
  },
  {
   "cell_type": "code",
   "execution_count": 70,
   "metadata": {},
   "outputs": [
    {
     "data": {
      "text/plain": [
       "<AxesSubplot:xlabel='price_per_km', ylabel='city_centers_km'>"
      ]
     },
     "execution_count": 70,
     "metadata": {},
     "output_type": "execute_result"
    },
    {
     "data": {
      "image/png": "[encoded data removed]",
      "text/plain": [
       "<Figure size 432x288 with 1 Axes>"
      ]
     },
     "metadata": {
      "needs_background": "light"
     },
     "output_type": "display_data"
    }
   ],
   "source": [
    "locality_spb.plot(kind='scatter', x='price_per_km', y='city_centers_km', xlim=(0, 50000000))"
   ]
  },
  {
   "cell_type": "code",
   "execution_count": 71,
   "metadata": {},
   "outputs": [
    {
     "data": {
      "text/plain": [
       "-0.10919666915089843"
      ]
     },
     "execution_count": 71,
     "metadata": {},
     "output_type": "execute_result"
    }
   ],
   "source": [
    "(locality_spb['price_per_km']).corr(locality_spb['city_centers_km'])"
   ]
  },
  {
   "cell_type": "markdown",
   "metadata": {},
   "source": [
    "Заметное изменение гарифка происходит в районе 7 км. Запомним это расстояние как границу центральной зоны."
   ]
  },
  {
   "cell_type": "markdown",
   "metadata": {},
   "source": [
    "### Выделим сегмент квартир в центре:"
   ]
  },
  {
   "cell_type": "code",
   "execution_count": 72,
   "metadata": {},
   "outputs": [],
   "source": [
    "locality_spb_centers = locality_spb.query('city_centers_km < 8').reset_index(drop=True)"
   ]
  },
  {
   "cell_type": "code",
   "execution_count": 73,
   "metadata": {},
   "outputs": [
    {
     "data": {
      "text/html": [
       "<div>\n",
       "<style scoped>\n",
       "    .dataframe tbody tr th:only-of-type {\n",
       "        vertical-align: middle;\n",
       "    }\n",
       "\n",
       "    .dataframe tbody tr th {\n",
       "        vertical-align: top;\n",
       "    }\n",
       "\n",
       "    .dataframe thead th {\n",
       "        text-align: right;\n",
       "    }\n",
       "</style>\n",
       "<table border=\"1\" class=\"dataframe\">\n",
       "  <thead>\n",
       "    <tr style=\"text-align: right;\">\n",
       "      <th></th>\n",
       "      <th>total_images</th>\n",
       "      <th>last_price</th>\n",
       "      <th>total_area</th>\n",
       "      <th>first_day_exposition</th>\n",
       "      <th>rooms</th>\n",
       "      <th>ceiling_height</th>\n",
       "      <th>floors_total</th>\n",
       "      <th>living_area</th>\n",
       "      <th>floor</th>\n",
       "      <th>is_apartment</th>\n",
       "      <th>studio</th>\n",
       "      <th>open_plan</th>\n",
       "      <th>kitchen_area</th>\n",
       "      <th>balcony</th>\n",
       "      <th>locality_name</th>\n",
       "      <th>airports_nearest</th>\n",
       "      <th>city_centers_nearest</th>\n",
       "      <th>parks_around3000</th>\n",
       "      <th>parks_nearest</th>\n",
       "      <th>ponds_around3000</th>\n",
       "      <th>ponds_nearest</th>\n",
       "      <th>days_exposition</th>\n",
       "      <th>day_exposition</th>\n",
       "      <th>month_exposition</th>\n",
       "      <th>year_exposition</th>\n",
       "      <th>price_sqr_m</th>\n",
       "      <th>floor_name</th>\n",
       "      <th>living_per_total_area</th>\n",
       "      <th>kitchen_per_total_area</th>\n",
       "      <th>city_centers_km</th>\n",
       "      <th>price_per_km</th>\n",
       "    </tr>\n",
       "  </thead>\n",
       "  <tbody>\n",
       "    <tr>\n",
       "      <th>0</th>\n",
       "      <td>0</td>\n",
       "      <td>64900000</td>\n",
       "      <td>159.0</td>\n",
       "      <td>2015-07-24</td>\n",
       "      <td>3</td>\n",
       "      <td>NaN</td>\n",
       "      <td>14.0</td>\n",
       "      <td>95.0</td>\n",
       "      <td>9</td>\n",
       "      <td>False</td>\n",
       "      <td>False</td>\n",
       "      <td>False</td>\n",
       "      <td>15.0</td>\n",
       "      <td>0</td>\n",
       "      <td>Санкт-Петербург</td>\n",
       "      <td>28098.0</td>\n",
       "      <td>6800.0</td>\n",
       "      <td>2</td>\n",
       "      <td>84.0</td>\n",
       "      <td>3</td>\n",
       "      <td>234.0</td>\n",
       "      <td>424.0</td>\n",
       "      <td>24</td>\n",
       "      <td>7</td>\n",
       "      <td>2015</td>\n",
       "      <td>408176.100629</td>\n",
       "      <td>3</td>\n",
       "      <td>59.748428</td>\n",
       "      <td>9.433962</td>\n",
       "      <td>6.0</td>\n",
       "      <td>1.081667e+07</td>\n",
       "    </tr>\n",
       "    <tr>\n",
       "      <th>1</th>\n",
       "      <td>8</td>\n",
       "      <td>6500000</td>\n",
       "      <td>97.2</td>\n",
       "      <td>2015-10-31</td>\n",
       "      <td>2</td>\n",
       "      <td>NaN</td>\n",
       "      <td>3.0</td>\n",
       "      <td>46.5</td>\n",
       "      <td>1</td>\n",
       "      <td>False</td>\n",
       "      <td>False</td>\n",
       "      <td>False</td>\n",
       "      <td>19.6</td>\n",
       "      <td>0</td>\n",
       "      <td>Санкт-Петербург</td>\n",
       "      <td>20052.0</td>\n",
       "      <td>2336.0</td>\n",
       "      <td>3</td>\n",
       "      <td>411.0</td>\n",
       "      <td>3</td>\n",
       "      <td>124.0</td>\n",
       "      <td>265.0</td>\n",
       "      <td>31</td>\n",
       "      <td>10</td>\n",
       "      <td>2015</td>\n",
       "      <td>66872.427984</td>\n",
       "      <td>1</td>\n",
       "      <td>47.839506</td>\n",
       "      <td>20.164609</td>\n",
       "      <td>2.0</td>\n",
       "      <td>3.250000e+06</td>\n",
       "    </tr>\n",
       "    <tr>\n",
       "      <th>2</th>\n",
       "      <td>6</td>\n",
       "      <td>15500000</td>\n",
       "      <td>149.0</td>\n",
       "      <td>2017-06-26</td>\n",
       "      <td>5</td>\n",
       "      <td>NaN</td>\n",
       "      <td>5.0</td>\n",
       "      <td>104.0</td>\n",
       "      <td>4</td>\n",
       "      <td>False</td>\n",
       "      <td>False</td>\n",
       "      <td>False</td>\n",
       "      <td>17.0</td>\n",
       "      <td>0</td>\n",
       "      <td>Санкт-Петербург</td>\n",
       "      <td>23670.0</td>\n",
       "      <td>3502.0</td>\n",
       "      <td>0</td>\n",
       "      <td>NaN</td>\n",
       "      <td>1</td>\n",
       "      <td>779.0</td>\n",
       "      <td>64.4</td>\n",
       "      <td>26</td>\n",
       "      <td>6</td>\n",
       "      <td>2017</td>\n",
       "      <td>104026.845638</td>\n",
       "      <td>3</td>\n",
       "      <td>69.798658</td>\n",
       "      <td>11.409396</td>\n",
       "      <td>3.0</td>\n",
       "      <td>5.166667e+06</td>\n",
       "    </tr>\n",
       "    <tr>\n",
       "      <th>3</th>\n",
       "      <td>7</td>\n",
       "      <td>45000000</td>\n",
       "      <td>161.0</td>\n",
       "      <td>2017-10-17</td>\n",
       "      <td>3</td>\n",
       "      <td>3.2</td>\n",
       "      <td>8.0</td>\n",
       "      <td>38.0</td>\n",
       "      <td>4</td>\n",
       "      <td>False</td>\n",
       "      <td>False</td>\n",
       "      <td>False</td>\n",
       "      <td>50.0</td>\n",
       "      <td>0</td>\n",
       "      <td>Санкт-Петербург</td>\n",
       "      <td>32537.0</td>\n",
       "      <td>6589.0</td>\n",
       "      <td>0</td>\n",
       "      <td>NaN</td>\n",
       "      <td>3</td>\n",
       "      <td>99.0</td>\n",
       "      <td>54.1</td>\n",
       "      <td>17</td>\n",
       "      <td>10</td>\n",
       "      <td>2017</td>\n",
       "      <td>279503.105590</td>\n",
       "      <td>3</td>\n",
       "      <td>23.602484</td>\n",
       "      <td>31.055901</td>\n",
       "      <td>6.0</td>\n",
       "      <td>7.500000e+06</td>\n",
       "    </tr>\n",
       "    <tr>\n",
       "      <th>4</th>\n",
       "      <td>20</td>\n",
       "      <td>11795000</td>\n",
       "      <td>136.0</td>\n",
       "      <td>2017-09-22</td>\n",
       "      <td>6</td>\n",
       "      <td>3.0</td>\n",
       "      <td>2.0</td>\n",
       "      <td>94.0</td>\n",
       "      <td>2</td>\n",
       "      <td>False</td>\n",
       "      <td>False</td>\n",
       "      <td>False</td>\n",
       "      <td>11.0</td>\n",
       "      <td>1</td>\n",
       "      <td>Санкт-Петербург</td>\n",
       "      <td>16510.0</td>\n",
       "      <td>6582.0</td>\n",
       "      <td>1</td>\n",
       "      <td>526.0</td>\n",
       "      <td>0</td>\n",
       "      <td>NaN</td>\n",
       "      <td>NaN</td>\n",
       "      <td>22</td>\n",
       "      <td>9</td>\n",
       "      <td>2017</td>\n",
       "      <td>86727.941176</td>\n",
       "      <td>2</td>\n",
       "      <td>69.117647</td>\n",
       "      <td>8.088235</td>\n",
       "      <td>6.0</td>\n",
       "      <td>1.965833e+06</td>\n",
       "    </tr>\n",
       "  </tbody>\n",
       "</table>\n",
       "</div>"
      ],
      "text/plain": [
       "   total_images  last_price  total_area first_day_exposition  rooms  \\\n",
       "0             0    64900000       159.0           2015-07-24      3   \n",
       "1             8     6500000        97.2           2015-10-31      2   \n",
       "2             6    15500000       149.0           2017-06-26      5   \n",
       "3             7    45000000       161.0           2017-10-17      3   \n",
       "4            20    11795000       136.0           2017-09-22      6   \n",
       "\n",
       "   ceiling_height  floors_total  living_area  floor  is_apartment  studio  \\\n",
       "0             NaN          14.0         95.0      9         False   False   \n",
       "1             NaN           3.0         46.5      1         False   False   \n",
       "2             NaN           5.0        104.0      4         False   False   \n",
       "3             3.2           8.0         38.0      4         False   False   \n",
       "4             3.0           2.0         94.0      2         False   False   \n",
       "\n",
       "   open_plan  kitchen_area  balcony    locality_name  airports_nearest  \\\n",
       "0      False          15.0        0  Санкт-Петербург           28098.0   \n",
       "1      False          19.6        0  Санкт-Петербург           20052.0   \n",
       "2      False          17.0        0  Санкт-Петербург           23670.0   \n",
       "3      False          50.0        0  Санкт-Петербург           32537.0   \n",
       "4      False          11.0        1  Санкт-Петербург           16510.0   \n",
       "\n",
       "   city_centers_nearest  parks_around3000  parks_nearest  ponds_around3000  \\\n",
       "0                6800.0                 2           84.0                 3   \n",
       "1                2336.0                 3          411.0                 3   \n",
       "2                3502.0                 0            NaN                 1   \n",
       "3                6589.0                 0            NaN                 3   \n",
       "4                6582.0                 1          526.0                 0   \n",
       "\n",
       "   ponds_nearest  days_exposition  day_exposition  month_exposition  \\\n",
       "0          234.0            424.0              24                 7   \n",
       "1          124.0            265.0              31                10   \n",
       "2          779.0             64.4              26                 6   \n",
       "3           99.0             54.1              17                10   \n",
       "4            NaN              NaN              22                 9   \n",
       "\n",
       "   year_exposition    price_sqr_m  floor_name  living_per_total_area  \\\n",
       "0             2015  408176.100629           3              59.748428   \n",
       "1             2015   66872.427984           1              47.839506   \n",
       "2             2017  104026.845638           3              69.798658   \n",
       "3             2017  279503.105590           3              23.602484   \n",
       "4             2017   86727.941176           2              69.117647   \n",
       "\n",
       "   kitchen_per_total_area  city_centers_km  price_per_km  \n",
       "0                9.433962              6.0  1.081667e+07  \n",
       "1               20.164609              2.0  3.250000e+06  \n",
       "2               11.409396              3.0  5.166667e+06  \n",
       "3               31.055901              6.0  7.500000e+06  \n",
       "4                8.088235              6.0  1.965833e+06  "
      ]
     },
     "execution_count": 73,
     "metadata": {},
     "output_type": "execute_result"
    }
   ],
   "source": [
    "locality_spb_centers.head()"
   ]
  },
  {
   "cell_type": "markdown",
   "metadata": {},
   "source": [
    "Изучим параметры: площадь, цена, число комнат, высота потолков."
   ]
  },
  {
   "cell_type": "code",
   "execution_count": 74,
   "metadata": {},
   "outputs": [
    {
     "data": {
      "text/plain": [
       "<AxesSubplot:title={'center':'площадь'}, ylabel='Frequency'>"
      ]
     },
     "execution_count": 74,
     "metadata": {},
     "output_type": "execute_result"
    },
    {
     "data": {
      "image/png": "[encoded data removed]",
      "text/plain": [
       "<Figure size 432x288 with 1 Axes>"
      ]
     },
     "metadata": {
      "needs_background": "light"
     },
     "output_type": "display_data"
    }
   ],
   "source": [
    "locality_spb_centers['total_area'].plot(kind='hist', title='площадь', grid=True, bins=100, xlim=(0, 500))"
   ]
  },
  {
   "cell_type": "code",
   "execution_count": 75,
   "metadata": {},
   "outputs": [
    {
     "data": {
      "text/plain": [
       "count    3712.000000\n",
       "mean       92.328303\n",
       "std        60.531664\n",
       "min        12.000000\n",
       "25%        56.000000\n",
       "50%        77.760000\n",
       "75%       108.725000\n",
       "max       900.000000\n",
       "Name: total_area, dtype: float64"
      ]
     },
     "execution_count": 75,
     "metadata": {},
     "output_type": "execute_result"
    }
   ],
   "source": [
    "locality_spb_centers['total_area'].describe()"
   ]
  },
  {
   "cell_type": "markdown",
   "metadata": {},
   "source": [
    "Межквартильный размах от 56 до 109 кв.м, медианное значение - 77,7 кв.м\n",
    "\n",
    "В отличие от общей базы, здесь мы наблюдаем увеличение площади недвижимости. "
   ]
  },
  {
   "cell_type": "code",
   "execution_count": 76,
   "metadata": {
    "scrolled": true
   },
   "outputs": [
    {
     "data": {
      "text/plain": [
       "<AxesSubplot:title={'center':'цена'}, ylabel='Frequency'>"
      ]
     },
     "execution_count": 76,
     "metadata": {},
     "output_type": "execute_result"
    },
    {
     "data": {
      "image/png": "[encoded data removed]",
      "text/plain": [
       "<Figure size 432x288 with 1 Axes>"
      ]
     },
     "metadata": {
      "needs_background": "light"
     },
     "output_type": "display_data"
    }
   ],
   "source": [
    "locality_spb_centers['last_price'].plot(kind='hist', title='цена', grid=True, bins=1000, xlim=(0, 50000000)) "
   ]
  },
  {
   "cell_type": "code",
   "execution_count": 77,
   "metadata": {},
   "outputs": [
    {
     "data": {
      "text/plain": [
       "count    3.712000e+03\n",
       "mean     1.472962e+07\n",
       "std      2.470451e+07\n",
       "min      1.600000e+06\n",
       "25%      6.590000e+06\n",
       "50%      9.000000e+06\n",
       "75%      1.413138e+07\n",
       "max      7.630000e+08\n",
       "Name: last_price, dtype: float64"
      ]
     },
     "execution_count": 77,
     "metadata": {},
     "output_type": "execute_result"
    }
   ],
   "source": [
    "locality_spb_centers['last_price'].describe()"
   ]
  },
  {
   "cell_type": "markdown",
   "metadata": {},
   "source": [
    "Наиболее часто квартиры продаются с ценой от 6,6 до 14 млн, медианное значение - 9 кв.м\n",
    "\n",
    "Цена заметно повысилась относительно общей базы."
   ]
  },
  {
   "cell_type": "code",
   "execution_count": 78,
   "metadata": {
    "scrolled": true
   },
   "outputs": [
    {
     "data": {
      "text/plain": [
       "<AxesSubplot:title={'center':'число комнат'}, ylabel='Frequency'>"
      ]
     },
     "execution_count": 78,
     "metadata": {},
     "output_type": "execute_result"
    },
    {
     "data": {
      "image/png": "[encoded data removed]",
      "text/plain": [
       "<Figure size 432x288 with 1 Axes>"
      ]
     },
     "metadata": {
      "needs_background": "light"
     },
     "output_type": "display_data"
    }
   ],
   "source": [
    "locality_spb_centers['rooms'].plot(kind='hist', title='число комнат', grid=True, bins=20, xlim=(0, 10)) "
   ]
  },
  {
   "cell_type": "code",
   "execution_count": 79,
   "metadata": {},
   "outputs": [
    {
     "data": {
      "text/plain": [
       "count    3712.000000\n",
       "mean        2.813308\n",
       "std         1.456235\n",
       "min         0.000000\n",
       "25%         2.000000\n",
       "50%         3.000000\n",
       "75%         3.000000\n",
       "max        19.000000\n",
       "Name: rooms, dtype: float64"
      ]
     },
     "execution_count": 79,
     "metadata": {},
     "output_type": "execute_result"
    }
   ],
   "source": [
    "locality_spb_centers['rooms'].describe()"
   ]
  },
  {
   "cell_type": "markdown",
   "metadata": {},
   "source": [
    "Межквартильный размах от 2 до 3, медианное значение - 3 кв.м\n",
    "\n",
    "Есть небольшое различие с общей базой - вместо 2-комнатных квартир в центре популярнее 3-комнатные."
   ]
  },
  {
   "cell_type": "code",
   "execution_count": 80,
   "metadata": {
    "scrolled": true
   },
   "outputs": [
    {
     "data": {
      "text/plain": [
       "<AxesSubplot:title={'center':'высота потолков'}, ylabel='Frequency'>"
      ]
     },
     "execution_count": 80,
     "metadata": {},
     "output_type": "execute_result"
    },
    {
     "data": {
      "image/png": "[encoded data removed]",
      "text/plain": [
       "<Figure size 432x288 with 1 Axes>"
      ]
     },
     "metadata": {
      "needs_background": "light"
     },
     "output_type": "display_data"
    }
   ],
   "source": [
    "locality_spb_centers['ceiling_height'].plot(kind='hist', title='высота потолков', grid=True, bins=20, xlim=(2, 5)) "
   ]
  },
  {
   "cell_type": "code",
   "execution_count": 81,
   "metadata": {},
   "outputs": [
    {
     "data": {
      "text/plain": [
       "count    2408.000000\n",
       "mean        3.080494\n",
       "std         0.382029\n",
       "min         2.000000\n",
       "25%         2.800000\n",
       "50%         3.000000\n",
       "75%         3.270000\n",
       "max         6.000000\n",
       "Name: ceiling_height, dtype: float64"
      ]
     },
     "execution_count": 81,
     "metadata": {},
     "output_type": "execute_result"
    }
   ],
   "source": [
    "locality_spb_centers['ceiling_height'].describe()"
   ]
  },
  {
   "cell_type": "markdown",
   "metadata": {},
   "source": [
    "Межквартильный размах от 2,8 до 3,27 м, медианное значение - 3 м.\n",
    "\n",
    "В центре чаще встречаются объявления с более высокими потолками, чем в данных общей базы. Вероятно, это связано со старой застройкой в центре Петербурга, которой свойственны относительно высокие потолки."
   ]
  },
  {
   "cell_type": "markdown",
   "metadata": {},
   "source": [
    "Определим факторы, которые влияют на стоимость квартиры (число комнат, этаж, удалённость от центра, дата размещения объявления):"
   ]
  },
  {
   "cell_type": "code",
   "execution_count": 82,
   "metadata": {},
   "outputs": [
    {
     "data": {
      "text/plain": [
       "<AxesSubplot:>"
      ]
     },
     "execution_count": 82,
     "metadata": {},
     "output_type": "execute_result"
    },
    {
     "data": {
      "image/png": "[encoded data removed]",
      "text/plain": [
       "<Figure size 432x288 with 1 Axes>"
      ]
     },
     "metadata": {
      "needs_background": "light"
     },
     "output_type": "display_data"
    }
   ],
   "source": [
    "locality_spb_centers.pivot_table(columns='floor_name', values='last_price', aggfunc='median').plot(kind='bar')"
   ]
  },
  {
   "cell_type": "code",
   "execution_count": 83,
   "metadata": {},
   "outputs": [
    {
     "data": {
      "text/plain": [
       "array([[<AxesSubplot:xlabel='last_price', ylabel='last_price'>,\n",
       "        <AxesSubplot:xlabel='rooms', ylabel='last_price'>,\n",
       "        <AxesSubplot:xlabel='city_centers_nearest', ylabel='last_price'>],\n",
       "       [<AxesSubplot:xlabel='last_price', ylabel='rooms'>,\n",
       "        <AxesSubplot:xlabel='rooms', ylabel='rooms'>,\n",
       "        <AxesSubplot:xlabel='city_centers_nearest', ylabel='rooms'>],\n",
       "       [<AxesSubplot:xlabel='last_price', ylabel='city_centers_nearest'>,\n",
       "        <AxesSubplot:xlabel='rooms', ylabel='city_centers_nearest'>,\n",
       "        <AxesSubplot:xlabel='city_centers_nearest', ylabel='city_centers_nearest'>]],\n",
       "      dtype=object)"
      ]
     },
     "execution_count": 83,
     "metadata": {},
     "output_type": "execute_result"
    },
    {
     "data": {
      "image/png": "[encoded data removed]",
      "text/plain": [
       "<Figure size 432x432 with 9 Axes>"
      ]
     },
     "metadata": {
      "needs_background": "light"
     },
     "output_type": "display_data"
    }
   ],
   "source": [
    "pd.plotting.scatter_matrix(locality_spb_centers[['last_price', 'rooms', 'city_centers_nearest']], figsize=(6, 6))"
   ]
  },
  {
   "cell_type": "code",
   "execution_count": 84,
   "metadata": {},
   "outputs": [
    {
     "data": {
      "text/html": [
       "<div>\n",
       "<style scoped>\n",
       "    .dataframe tbody tr th:only-of-type {\n",
       "        vertical-align: middle;\n",
       "    }\n",
       "\n",
       "    .dataframe tbody tr th {\n",
       "        vertical-align: top;\n",
       "    }\n",
       "\n",
       "    .dataframe thead th {\n",
       "        text-align: right;\n",
       "    }\n",
       "</style>\n",
       "<table border=\"1\" class=\"dataframe\">\n",
       "  <thead>\n",
       "    <tr style=\"text-align: right;\">\n",
       "      <th></th>\n",
       "      <th>last_price</th>\n",
       "      <th>rooms</th>\n",
       "      <th>floor_name</th>\n",
       "      <th>city_centers_nearest</th>\n",
       "    </tr>\n",
       "  </thead>\n",
       "  <tbody>\n",
       "    <tr>\n",
       "      <th>last_price</th>\n",
       "      <td>1.000000</td>\n",
       "      <td>0.333342</td>\n",
       "      <td>0.030039</td>\n",
       "      <td>-0.048304</td>\n",
       "    </tr>\n",
       "    <tr>\n",
       "      <th>rooms</th>\n",
       "      <td>0.333342</td>\n",
       "      <td>1.000000</td>\n",
       "      <td>0.017030</td>\n",
       "      <td>-0.176458</td>\n",
       "    </tr>\n",
       "    <tr>\n",
       "      <th>floor_name</th>\n",
       "      <td>0.030039</td>\n",
       "      <td>0.017030</td>\n",
       "      <td>1.000000</td>\n",
       "      <td>0.105167</td>\n",
       "    </tr>\n",
       "    <tr>\n",
       "      <th>city_centers_nearest</th>\n",
       "      <td>-0.048304</td>\n",
       "      <td>-0.176458</td>\n",
       "      <td>0.105167</td>\n",
       "      <td>1.000000</td>\n",
       "    </tr>\n",
       "  </tbody>\n",
       "</table>\n",
       "</div>"
      ],
      "text/plain": [
       "                      last_price     rooms  floor_name  city_centers_nearest\n",
       "last_price              1.000000  0.333342    0.030039             -0.048304\n",
       "rooms                   0.333342  1.000000    0.017030             -0.176458\n",
       "floor_name              0.030039  0.017030    1.000000              0.105167\n",
       "city_centers_nearest   -0.048304 -0.176458    0.105167              1.000000"
      ]
     },
     "execution_count": 84,
     "metadata": {},
     "output_type": "execute_result"
    }
   ],
   "source": [
    "(locality_spb_centers[['last_price', 'rooms', 'floor_name', 'city_centers_nearest']]).corr()"
   ]
  },
  {
   "cell_type": "markdown",
   "metadata": {},
   "source": [
    "Небольшая корреляция есть между ценой и количеством комнат, пик стоимости приходится на недвижимость с 5-ю комнатами, далее наблюдается спад, так-же, как и в общей базе. \n",
    "\n",
    "Между ценой на недвижимость в центре и этажностью корреляция не обнаружена. По графику заметно, что квартиры на 1-м этаже в центре продаются сильно дешевле, чем на остальных этажах.\n",
    "\n",
    "Между ценой и расстоянием от центра корреляция не обнаружена. Скорее всего, потому, что в рамках 7 км от центра не должно быть сильных различий."
   ]
  },
  {
   "cell_type": "code",
   "execution_count": 85,
   "metadata": {},
   "outputs": [
    {
     "data": {
      "text/plain": [
       "<AxesSubplot:>"
      ]
     },
     "execution_count": 85,
     "metadata": {},
     "output_type": "execute_result"
    },
    {
     "data": {
      "image/png": "[encoded data removed]",
      "text/plain": [
       "<Figure size 432x288 with 1 Axes>"
      ]
     },
     "metadata": {
      "needs_background": "light"
     },
     "output_type": "display_data"
    }
   ],
   "source": [
    "locality_spb_centers.pivot_table(columns='year_exposition', values='last_price', aggfunc='median').plot(kind='bar')"
   ]
  },
  {
   "cell_type": "code",
   "execution_count": 86,
   "metadata": {},
   "outputs": [
    {
     "data": {
      "text/plain": [
       "<AxesSubplot:xlabel='month_exposition'>"
      ]
     },
     "execution_count": 86,
     "metadata": {},
     "output_type": "execute_result"
    },
    {
     "data": {
      "image/png": "[encoded data removed]",
      "text/plain": [
       "<Figure size 432x288 with 1 Axes>"
      ]
     },
     "metadata": {
      "needs_background": "light"
     },
     "output_type": "display_data"
    }
   ],
   "source": [
    "realty_data.pivot_table(index='month_exposition', values='last_price', aggfunc='median').plot(kind='bar', legend=False)"
   ]
  },
  {
   "cell_type": "code",
   "execution_count": 87,
   "metadata": {},
   "outputs": [
    {
     "data": {
      "text/plain": [
       "<AxesSubplot:xlabel='day_exposition'>"
      ]
     },
     "execution_count": 87,
     "metadata": {},
     "output_type": "execute_result"
    },
    {
     "data": {
      "image/png": "[encoded data removed]",
      "text/plain": [
       "<Figure size 432x288 with 1 Axes>"
      ]
     },
     "metadata": {
      "needs_background": "light"
     },
     "output_type": "display_data"
    }
   ],
   "source": [
    "realty_data.pivot_table(index='day_exposition', values='last_price', aggfunc='median').plot(kind='bar', legend=False)"
   ]
  },
  {
   "cell_type": "markdown",
   "metadata": {},
   "source": [
    "По диаграммам можно сделать такой-же вывод, что и для общей базы: после 2014 года цена сильно понизилась и до 2019 года держалась примерно на одном уровне.\n"
   ]
  },
  {
   "cell_type": "markdown",
   "metadata": {},
   "source": [
    "## Общий вывод"
   ]
  },
  {
   "cell_type": "markdown",
   "metadata": {},
   "source": [
    "По результатам исследования, можем выделить параметры для автоматизированной системы, которая по отклонениям сможет отследит аномалии и мошенническую деятельность."
   ]
  },
  {
   "cell_type": "markdown",
   "metadata": {},
   "source": [
    "### Параметры.\n",
    "\n",
    "**Площадь:**\n",
    "\n",
    "- Нормальное значение в диапазоне: 40 - 69 кв.м \n",
    "- Для центра: 56 - 109 кв.м\n",
    "\n",
    "**Цена:**\n",
    "\n",
    "- Нормальное значение в диапазоне: 3.4 - 6.8 млн. руб. \n",
    "- Для центра: 6.6 - 14 млн. руб.\n",
    "\n",
    "**Количество комнат:**\n",
    "\n",
    "- Нормальное значение в диапазоне: 1 - 3 комнаты \n",
    "- Для центра: 2 - 3 комнаты\n",
    "\n",
    "**Высота потолков:**\n",
    "\n",
    "- Нормальное значение в диапазоне: 2.5 - 2.8 м  \n",
    "- Для центра: 2.8 - 3.27 м\n"
   ]
  }
 ],
 "metadata": {
  "ExecuteTimeLog": [
   {
    "duration": 548,
    "start_time": "2022-03-07T10:45:43.592Z"
   },
   {
    "duration": 275,
    "start_time": "2022-03-07T10:46:27.059Z"
   },
   {
    "duration": 4,
    "start_time": "2022-03-07T10:46:34.874Z"
   },
   {
    "duration": 64,
    "start_time": "2022-03-07T10:46:37.009Z"
   },
   {
    "duration": 55,
    "start_time": "2022-03-07T10:47:30.834Z"
   },
   {
    "duration": 58,
    "start_time": "2022-03-07T10:48:39.983Z"
   },
   {
    "duration": 573,
    "start_time": "2022-03-07T10:49:09.796Z"
   },
   {
    "duration": 63,
    "start_time": "2022-03-07T10:49:12.132Z"
   },
   {
    "duration": 69,
    "start_time": "2022-03-07T10:51:34.852Z"
   },
   {
    "duration": 60,
    "start_time": "2022-03-07T10:51:40.234Z"
   },
   {
    "duration": 49,
    "start_time": "2022-03-07T10:52:20.281Z"
   },
   {
    "duration": 8,
    "start_time": "2022-03-07T10:52:25.474Z"
   },
   {
    "duration": 51,
    "start_time": "2022-03-07T10:52:33.740Z"
   },
   {
    "duration": 8,
    "start_time": "2022-03-07T10:52:35.642Z"
   },
   {
    "duration": 56,
    "start_time": "2022-03-07T10:52:50.545Z"
   },
   {
    "duration": 9,
    "start_time": "2022-03-07T10:52:52.373Z"
   },
   {
    "duration": 51,
    "start_time": "2022-03-07T10:52:57.035Z"
   },
   {
    "duration": 52,
    "start_time": "2022-03-07T10:53:31.343Z"
   },
   {
    "duration": 50,
    "start_time": "2022-03-07T10:57:26.797Z"
   },
   {
    "duration": 510,
    "start_time": "2022-03-07T10:57:33.915Z"
   },
   {
    "duration": 58,
    "start_time": "2022-03-07T10:57:36.106Z"
   },
   {
    "duration": 61,
    "start_time": "2022-03-07T10:57:37.904Z"
   },
   {
    "duration": 56,
    "start_time": "2022-03-07T10:57:59.411Z"
   },
   {
    "duration": 40,
    "start_time": "2022-03-07T10:58:02.913Z"
   },
   {
    "duration": 93,
    "start_time": "2022-03-07T10:58:19.971Z"
   },
   {
    "duration": 59,
    "start_time": "2022-03-07T10:58:40.223Z"
   },
   {
    "duration": 25,
    "start_time": "2022-03-07T11:05:18.487Z"
   },
   {
    "duration": 25,
    "start_time": "2022-03-07T11:06:27.650Z"
   },
   {
    "duration": 27,
    "start_time": "2022-03-07T11:08:03.738Z"
   },
   {
    "duration": 20,
    "start_time": "2022-03-07T11:09:25.763Z"
   },
   {
    "duration": 61,
    "start_time": "2022-03-07T11:13:13.194Z"
   },
   {
    "duration": 23,
    "start_time": "2022-03-07T11:13:15.010Z"
   },
   {
    "duration": 39,
    "start_time": "2022-03-07T11:14:11.898Z"
   },
   {
    "duration": 21,
    "start_time": "2022-03-07T11:14:15.329Z"
   },
   {
    "duration": 12,
    "start_time": "2022-03-07T11:14:18.542Z"
   },
   {
    "duration": 67,
    "start_time": "2022-03-07T11:14:21.842Z"
   },
   {
    "duration": 2142,
    "start_time": "2022-03-07T11:15:43.944Z"
   },
   {
    "duration": 10,
    "start_time": "2022-03-07T11:15:56.713Z"
   },
   {
    "duration": 72,
    "start_time": "2022-03-07T11:28:18.933Z"
   },
   {
    "duration": 9,
    "start_time": "2022-03-07T11:28:23.123Z"
   },
   {
    "duration": 9,
    "start_time": "2022-03-07T11:28:42.180Z"
   },
   {
    "duration": 5,
    "start_time": "2022-03-07T11:31:03.579Z"
   },
   {
    "duration": 15,
    "start_time": "2022-03-07T11:31:40.810Z"
   },
   {
    "duration": 38,
    "start_time": "2022-03-07T11:32:00.138Z"
   },
   {
    "duration": 37,
    "start_time": "2022-03-07T11:32:31.511Z"
   },
   {
    "duration": 6,
    "start_time": "2022-03-07T11:33:38.380Z"
   },
   {
    "duration": 285,
    "start_time": "2022-03-07T11:39:14.808Z"
   },
   {
    "duration": 16,
    "start_time": "2022-03-07T11:39:37.750Z"
   },
   {
    "duration": 16,
    "start_time": "2022-03-07T11:40:27.790Z"
   },
   {
    "duration": 17,
    "start_time": "2022-03-07T11:40:31.690Z"
   },
   {
    "duration": 16,
    "start_time": "2022-03-07T11:40:33.060Z"
   },
   {
    "duration": 16,
    "start_time": "2022-03-07T11:40:34.319Z"
   },
   {
    "duration": 16,
    "start_time": "2022-03-07T11:40:35.743Z"
   },
   {
    "duration": 15,
    "start_time": "2022-03-07T11:40:43.320Z"
   },
   {
    "duration": 15,
    "start_time": "2022-03-07T11:40:47.349Z"
   },
   {
    "duration": 15,
    "start_time": "2022-03-07T11:40:48.309Z"
   },
   {
    "duration": 15,
    "start_time": "2022-03-07T11:40:49.159Z"
   },
   {
    "duration": 16,
    "start_time": "2022-03-07T11:40:51.099Z"
   },
   {
    "duration": 14,
    "start_time": "2022-03-07T11:40:56.903Z"
   },
   {
    "duration": 14,
    "start_time": "2022-03-07T11:40:57.830Z"
   },
   {
    "duration": 17,
    "start_time": "2022-03-07T11:41:05.099Z"
   },
   {
    "duration": 14,
    "start_time": "2022-03-07T11:41:06.290Z"
   },
   {
    "duration": 4,
    "start_time": "2022-03-07T11:44:21.720Z"
   },
   {
    "duration": 218,
    "start_time": "2022-03-07T11:44:47.590Z"
   },
   {
    "duration": 310,
    "start_time": "2022-03-07T11:44:52.220Z"
   },
   {
    "duration": 11,
    "start_time": "2022-03-07T11:45:01.381Z"
   },
   {
    "duration": 40,
    "start_time": "2022-03-07T11:45:30.300Z"
   },
   {
    "duration": 6,
    "start_time": "2022-03-07T11:46:16.400Z"
   },
   {
    "duration": 6,
    "start_time": "2022-03-07T11:48:29.129Z"
   },
   {
    "duration": 4,
    "start_time": "2022-03-07T11:48:52.180Z"
   },
   {
    "duration": 5,
    "start_time": "2022-03-07T11:49:52.510Z"
   },
   {
    "duration": 5,
    "start_time": "2022-03-07T11:49:56.157Z"
   },
   {
    "duration": 7,
    "start_time": "2022-03-07T11:50:04.560Z"
   },
   {
    "duration": 6,
    "start_time": "2022-03-07T11:50:08.460Z"
   },
   {
    "duration": 65,
    "start_time": "2022-03-07T11:50:14.750Z"
   },
   {
    "duration": 21,
    "start_time": "2022-03-07T11:50:16.820Z"
   },
   {
    "duration": 6,
    "start_time": "2022-03-07T11:50:23.881Z"
   },
   {
    "duration": 5,
    "start_time": "2022-03-07T11:50:27.991Z"
   },
   {
    "duration": 11,
    "start_time": "2022-03-07T11:50:41.591Z"
   },
   {
    "duration": 13,
    "start_time": "2022-03-07T11:51:24.559Z"
   },
   {
    "duration": 219,
    "start_time": "2022-03-07T11:52:43.630Z"
   },
   {
    "duration": 23,
    "start_time": "2022-03-07T11:52:57.550Z"
   },
   {
    "duration": 359,
    "start_time": "2022-03-08T06:34:35.670Z"
   },
   {
    "duration": 744,
    "start_time": "2022-03-08T06:34:49.148Z"
   },
   {
    "duration": 80,
    "start_time": "2022-03-08T06:34:51.309Z"
   },
   {
    "duration": 46,
    "start_time": "2022-03-08T06:34:53.255Z"
   },
   {
    "duration": 18,
    "start_time": "2022-03-08T06:34:55.933Z"
   },
   {
    "duration": 15,
    "start_time": "2022-03-08T06:35:02.047Z"
   },
   {
    "duration": 8,
    "start_time": "2022-03-08T06:35:05.237Z"
   },
   {
    "duration": 6,
    "start_time": "2022-03-08T06:35:07.385Z"
   },
   {
    "duration": 7,
    "start_time": "2022-03-08T06:35:09.875Z"
   },
   {
    "duration": 28,
    "start_time": "2022-03-08T06:35:15.395Z"
   },
   {
    "duration": 8,
    "start_time": "2022-03-08T06:35:19.142Z"
   },
   {
    "duration": 5,
    "start_time": "2022-03-08T06:36:06.726Z"
   },
   {
    "duration": 6,
    "start_time": "2022-03-08T06:36:10.266Z"
   },
   {
    "duration": 5,
    "start_time": "2022-03-08T06:36:28.296Z"
   },
   {
    "duration": 56,
    "start_time": "2022-03-08T06:38:20.546Z"
   },
   {
    "duration": 12,
    "start_time": "2022-03-08T06:39:17.605Z"
   },
   {
    "duration": 11,
    "start_time": "2022-03-08T06:39:42.948Z"
   },
   {
    "duration": 4,
    "start_time": "2022-03-08T06:42:59.195Z"
   },
   {
    "duration": 12,
    "start_time": "2022-03-08T06:43:06.479Z"
   },
   {
    "duration": 40,
    "start_time": "2022-03-08T06:43:36.726Z"
   },
   {
    "duration": 8,
    "start_time": "2022-03-08T06:43:54.485Z"
   },
   {
    "duration": 34,
    "start_time": "2022-03-08T06:44:03.666Z"
   },
   {
    "duration": 12,
    "start_time": "2022-03-08T06:44:14.607Z"
   },
   {
    "duration": 9,
    "start_time": "2022-03-08T06:45:12.425Z"
   },
   {
    "duration": 12,
    "start_time": "2022-03-08T06:45:16.486Z"
   },
   {
    "duration": 4,
    "start_time": "2022-03-08T06:45:40.056Z"
   },
   {
    "duration": 6,
    "start_time": "2022-03-08T06:45:42.745Z"
   },
   {
    "duration": 725,
    "start_time": "2022-03-08T06:46:38.817Z"
   },
   {
    "duration": 85,
    "start_time": "2022-03-08T06:46:39.545Z"
   },
   {
    "duration": 53,
    "start_time": "2022-03-08T06:46:39.633Z"
   },
   {
    "duration": 15,
    "start_time": "2022-03-08T06:46:39.689Z"
   },
   {
    "duration": 12,
    "start_time": "2022-03-08T06:46:39.706Z"
   },
   {
    "duration": 36,
    "start_time": "2022-03-08T06:46:39.720Z"
   },
   {
    "duration": 7,
    "start_time": "2022-03-08T06:46:39.758Z"
   },
   {
    "duration": 6,
    "start_time": "2022-03-08T06:46:39.767Z"
   },
   {
    "duration": 26,
    "start_time": "2022-03-08T06:46:39.778Z"
   },
   {
    "duration": 45,
    "start_time": "2022-03-08T06:46:39.806Z"
   },
   {
    "duration": 12,
    "start_time": "2022-03-08T06:46:51.654Z"
   },
   {
    "duration": 11,
    "start_time": "2022-03-08T06:47:25.764Z"
   },
   {
    "duration": 13,
    "start_time": "2022-03-08T06:47:28.363Z"
   },
   {
    "duration": 3,
    "start_time": "2022-03-08T06:48:45.037Z"
   },
   {
    "duration": 88,
    "start_time": "2022-03-08T06:48:45.044Z"
   },
   {
    "duration": 39,
    "start_time": "2022-03-08T06:48:45.135Z"
   },
   {
    "duration": 17,
    "start_time": "2022-03-08T06:48:45.178Z"
   },
   {
    "duration": 14,
    "start_time": "2022-03-08T06:48:45.198Z"
   },
   {
    "duration": 9,
    "start_time": "2022-03-08T06:48:45.252Z"
   },
   {
    "duration": 8,
    "start_time": "2022-03-08T06:48:45.264Z"
   },
   {
    "duration": 8,
    "start_time": "2022-03-08T06:48:45.274Z"
   },
   {
    "duration": 71,
    "start_time": "2022-03-08T06:48:45.287Z"
   },
   {
    "duration": 6,
    "start_time": "2022-03-08T06:48:45.361Z"
   },
   {
    "duration": 14,
    "start_time": "2022-03-08T06:48:45.370Z"
   },
   {
    "duration": 72,
    "start_time": "2022-03-08T06:48:45.386Z"
   },
   {
    "duration": 11,
    "start_time": "2022-03-08T06:48:50.153Z"
   },
   {
    "duration": 9,
    "start_time": "2022-03-08T06:54:18.255Z"
   },
   {
    "duration": 332,
    "start_time": "2022-03-08T06:54:50.575Z"
   },
   {
    "duration": 9,
    "start_time": "2022-03-08T06:55:40.565Z"
   },
   {
    "duration": 34,
    "start_time": "2022-03-08T06:55:45.185Z"
   },
   {
    "duration": 12,
    "start_time": "2022-03-08T06:57:03.136Z"
   },
   {
    "duration": 15,
    "start_time": "2022-03-08T06:57:20.655Z"
   },
   {
    "duration": 11,
    "start_time": "2022-03-08T07:01:45.478Z"
   },
   {
    "duration": 36,
    "start_time": "2022-03-08T07:01:48.804Z"
   },
   {
    "duration": 13,
    "start_time": "2022-03-08T07:01:59.118Z"
   },
   {
    "duration": 14,
    "start_time": "2022-03-08T07:02:02.455Z"
   },
   {
    "duration": 13,
    "start_time": "2022-03-08T07:08:05.318Z"
   },
   {
    "duration": 13,
    "start_time": "2022-03-08T07:09:26.485Z"
   },
   {
    "duration": 13,
    "start_time": "2022-03-08T07:09:30.921Z"
   },
   {
    "duration": 10,
    "start_time": "2022-03-08T07:10:20.966Z"
   },
   {
    "duration": 5,
    "start_time": "2022-03-08T07:11:48.359Z"
   },
   {
    "duration": 5,
    "start_time": "2022-03-08T07:11:50.387Z"
   },
   {
    "duration": 10,
    "start_time": "2022-03-08T07:11:57.238Z"
   },
   {
    "duration": 14,
    "start_time": "2022-03-08T07:12:04.192Z"
   },
   {
    "duration": 6,
    "start_time": "2022-03-08T07:13:56.717Z"
   },
   {
    "duration": 27,
    "start_time": "2022-03-08T07:14:04.298Z"
   },
   {
    "duration": 244,
    "start_time": "2022-03-08T07:14:33.812Z"
   },
   {
    "duration": 6,
    "start_time": "2022-03-08T07:16:23.589Z"
   },
   {
    "duration": 689,
    "start_time": "2022-03-08T07:16:44.996Z"
   },
   {
    "duration": 81,
    "start_time": "2022-03-08T07:16:45.688Z"
   },
   {
    "duration": 48,
    "start_time": "2022-03-08T07:16:45.772Z"
   },
   {
    "duration": 35,
    "start_time": "2022-03-08T07:16:45.823Z"
   },
   {
    "duration": 13,
    "start_time": "2022-03-08T07:16:45.860Z"
   },
   {
    "duration": 10,
    "start_time": "2022-03-08T07:16:45.875Z"
   },
   {
    "duration": 8,
    "start_time": "2022-03-08T07:16:45.887Z"
   },
   {
    "duration": 6,
    "start_time": "2022-03-08T07:16:45.897Z"
   },
   {
    "duration": 47,
    "start_time": "2022-03-08T07:16:45.906Z"
   },
   {
    "duration": 8,
    "start_time": "2022-03-08T07:16:49.854Z"
   },
   {
    "duration": 28,
    "start_time": "2022-03-08T07:16:53.746Z"
   },
   {
    "duration": 17,
    "start_time": "2022-03-08T07:37:24.376Z"
   },
   {
    "duration": 7,
    "start_time": "2022-03-08T07:37:28.147Z"
   },
   {
    "duration": 27,
    "start_time": "2022-03-08T07:37:32.798Z"
   },
   {
    "duration": 6,
    "start_time": "2022-03-08T07:41:28.275Z"
   },
   {
    "duration": 8,
    "start_time": "2022-03-08T07:41:31.782Z"
   },
   {
    "duration": 28,
    "start_time": "2022-03-08T07:41:35.032Z"
   },
   {
    "duration": 14,
    "start_time": "2022-03-08T07:41:58.861Z"
   },
   {
    "duration": 34,
    "start_time": "2022-03-08T07:42:00.892Z"
   },
   {
    "duration": 730,
    "start_time": "2022-03-08T07:42:37.846Z"
   },
   {
    "duration": 83,
    "start_time": "2022-03-08T07:42:38.579Z"
   },
   {
    "duration": 43,
    "start_time": "2022-03-08T07:42:38.665Z"
   },
   {
    "duration": 14,
    "start_time": "2022-03-08T07:42:38.711Z"
   },
   {
    "duration": 31,
    "start_time": "2022-03-08T07:42:38.727Z"
   },
   {
    "duration": 10,
    "start_time": "2022-03-08T07:42:38.761Z"
   },
   {
    "duration": 7,
    "start_time": "2022-03-08T07:42:38.773Z"
   },
   {
    "duration": 5,
    "start_time": "2022-03-08T07:42:38.784Z"
   },
   {
    "duration": 5,
    "start_time": "2022-03-08T07:42:38.791Z"
   },
   {
    "duration": 54,
    "start_time": "2022-03-08T07:42:38.798Z"
   },
   {
    "duration": 29,
    "start_time": "2022-03-08T07:42:38.855Z"
   },
   {
    "duration": 16,
    "start_time": "2022-03-08T07:42:38.886Z"
   },
   {
    "duration": 9,
    "start_time": "2022-03-08T07:42:38.905Z"
   },
   {
    "duration": 37,
    "start_time": "2022-03-08T07:42:38.916Z"
   },
   {
    "duration": 6,
    "start_time": "2022-03-08T07:42:38.955Z"
   },
   {
    "duration": 4,
    "start_time": "2022-03-08T07:42:38.963Z"
   },
   {
    "duration": 5,
    "start_time": "2022-03-08T07:42:38.969Z"
   },
   {
    "duration": 11,
    "start_time": "2022-03-08T07:42:38.976Z"
   },
   {
    "duration": 71,
    "start_time": "2022-03-08T07:42:38.989Z"
   },
   {
    "duration": 11,
    "start_time": "2022-03-08T07:42:39.063Z"
   },
   {
    "duration": 18,
    "start_time": "2022-03-08T07:42:39.076Z"
   },
   {
    "duration": 12,
    "start_time": "2022-03-08T07:46:28.885Z"
   },
   {
    "duration": 33,
    "start_time": "2022-03-08T07:49:23.700Z"
   },
   {
    "duration": 10,
    "start_time": "2022-03-08T07:49:26.173Z"
   },
   {
    "duration": 11,
    "start_time": "2022-03-08T07:51:38.544Z"
   },
   {
    "duration": 7,
    "start_time": "2022-03-08T07:53:32.033Z"
   },
   {
    "duration": 12,
    "start_time": "2022-03-08T07:54:24.367Z"
   },
   {
    "duration": 11,
    "start_time": "2022-03-08T07:54:31.617Z"
   },
   {
    "duration": 33,
    "start_time": "2022-03-08T07:54:39.058Z"
   },
   {
    "duration": 15,
    "start_time": "2022-03-08T07:55:04.665Z"
   },
   {
    "duration": 666,
    "start_time": "2022-03-08T07:55:40.702Z"
   },
   {
    "duration": 81,
    "start_time": "2022-03-08T07:55:41.370Z"
   },
   {
    "duration": 48,
    "start_time": "2022-03-08T07:55:41.453Z"
   },
   {
    "duration": 16,
    "start_time": "2022-03-08T07:55:41.504Z"
   },
   {
    "duration": 39,
    "start_time": "2022-03-08T07:55:41.523Z"
   },
   {
    "duration": 12,
    "start_time": "2022-03-08T07:55:41.564Z"
   },
   {
    "duration": 8,
    "start_time": "2022-03-08T07:55:41.579Z"
   },
   {
    "duration": 6,
    "start_time": "2022-03-08T07:55:41.593Z"
   },
   {
    "duration": 52,
    "start_time": "2022-03-08T07:55:41.603Z"
   },
   {
    "duration": 7,
    "start_time": "2022-03-08T07:55:41.658Z"
   },
   {
    "duration": 28,
    "start_time": "2022-03-08T07:55:41.668Z"
   },
   {
    "duration": 53,
    "start_time": "2022-03-08T07:55:41.698Z"
   },
   {
    "duration": 9,
    "start_time": "2022-03-08T07:55:41.754Z"
   },
   {
    "duration": 6,
    "start_time": "2022-03-08T07:55:41.765Z"
   },
   {
    "duration": 5,
    "start_time": "2022-03-08T07:55:41.773Z"
   },
   {
    "duration": 5,
    "start_time": "2022-03-08T07:55:41.780Z"
   },
   {
    "duration": 5,
    "start_time": "2022-03-08T07:55:41.787Z"
   },
   {
    "duration": 15,
    "start_time": "2022-03-08T07:55:41.794Z"
   },
   {
    "duration": 14,
    "start_time": "2022-03-08T07:55:41.851Z"
   },
   {
    "duration": 34,
    "start_time": "2022-03-08T07:55:41.867Z"
   },
   {
    "duration": 12,
    "start_time": "2022-03-08T07:55:41.903Z"
   },
   {
    "duration": 43,
    "start_time": "2022-03-08T07:55:41.918Z"
   },
   {
    "duration": 10,
    "start_time": "2022-03-08T08:14:37.302Z"
   },
   {
    "duration": 839,
    "start_time": "2022-03-08T09:06:55.574Z"
   },
   {
    "duration": 86,
    "start_time": "2022-03-08T09:06:56.416Z"
   },
   {
    "duration": 59,
    "start_time": "2022-03-08T09:06:56.505Z"
   },
   {
    "duration": 15,
    "start_time": "2022-03-08T09:06:56.567Z"
   },
   {
    "duration": 80,
    "start_time": "2022-03-08T09:06:56.584Z"
   },
   {
    "duration": -43,
    "start_time": "2022-03-08T09:06:56.710Z"
   },
   {
    "duration": -58,
    "start_time": "2022-03-08T09:06:56.726Z"
   },
   {
    "duration": -56,
    "start_time": "2022-03-08T09:06:56.726Z"
   },
   {
    "duration": -103,
    "start_time": "2022-03-08T09:06:56.774Z"
   },
   {
    "duration": -101,
    "start_time": "2022-03-08T09:06:56.774Z"
   },
   {
    "duration": -161,
    "start_time": "2022-03-08T09:06:56.835Z"
   },
   {
    "duration": -187,
    "start_time": "2022-03-08T09:06:56.862Z"
   },
   {
    "duration": -185,
    "start_time": "2022-03-08T09:06:56.862Z"
   },
   {
    "duration": -215,
    "start_time": "2022-03-08T09:06:56.893Z"
   },
   {
    "duration": -214,
    "start_time": "2022-03-08T09:06:56.893Z"
   },
   {
    "duration": -247,
    "start_time": "2022-03-08T09:06:56.927Z"
   },
   {
    "duration": -246,
    "start_time": "2022-03-08T09:06:56.927Z"
   },
   {
    "duration": -260,
    "start_time": "2022-03-08T09:06:56.943Z"
   },
   {
    "duration": -259,
    "start_time": "2022-03-08T09:06:56.943Z"
   },
   {
    "duration": -306,
    "start_time": "2022-03-08T09:06:56.991Z"
   },
   {
    "duration": -311,
    "start_time": "2022-03-08T09:06:56.997Z"
   },
   {
    "duration": -326,
    "start_time": "2022-03-08T09:06:57.013Z"
   },
   {
    "duration": 20,
    "start_time": "2022-03-08T09:10:26.735Z"
   },
   {
    "duration": 20,
    "start_time": "2022-03-08T09:10:51.903Z"
   },
   {
    "duration": 728,
    "start_time": "2022-03-08T09:11:16.742Z"
   },
   {
    "duration": 81,
    "start_time": "2022-03-08T09:11:17.473Z"
   },
   {
    "duration": 44,
    "start_time": "2022-03-08T09:11:17.557Z"
   },
   {
    "duration": 47,
    "start_time": "2022-03-08T09:11:17.606Z"
   },
   {
    "duration": 20,
    "start_time": "2022-03-08T09:11:17.656Z"
   },
   {
    "duration": 11,
    "start_time": "2022-03-08T09:11:17.679Z"
   },
   {
    "duration": 9,
    "start_time": "2022-03-08T09:11:17.692Z"
   },
   {
    "duration": 47,
    "start_time": "2022-03-08T09:11:17.704Z"
   },
   {
    "duration": 6,
    "start_time": "2022-03-08T09:11:17.757Z"
   },
   {
    "duration": 28,
    "start_time": "2022-03-08T09:11:17.766Z"
   },
   {
    "duration": 7,
    "start_time": "2022-03-08T09:11:17.796Z"
   },
   {
    "duration": 60,
    "start_time": "2022-03-08T09:11:17.805Z"
   },
   {
    "duration": 8,
    "start_time": "2022-03-08T09:11:17.867Z"
   },
   {
    "duration": 8,
    "start_time": "2022-03-08T09:11:17.878Z"
   },
   {
    "duration": 6,
    "start_time": "2022-03-08T09:11:17.889Z"
   },
   {
    "duration": 6,
    "start_time": "2022-03-08T09:11:17.898Z"
   },
   {
    "duration": 46,
    "start_time": "2022-03-08T09:11:17.907Z"
   },
   {
    "duration": 31,
    "start_time": "2022-03-08T09:11:17.958Z"
   },
   {
    "duration": 16,
    "start_time": "2022-03-08T09:11:17.992Z"
   },
   {
    "duration": 13,
    "start_time": "2022-03-08T09:11:53.471Z"
   },
   {
    "duration": 34,
    "start_time": "2022-03-08T09:11:57.133Z"
   },
   {
    "duration": 29,
    "start_time": "2022-03-08T09:17:13.152Z"
   },
   {
    "duration": 47,
    "start_time": "2022-03-08T09:18:50.013Z"
   },
   {
    "duration": 411,
    "start_time": "2022-03-08T09:31:30.732Z"
   },
   {
    "duration": 50,
    "start_time": "2022-03-08T09:31:50.642Z"
   },
   {
    "duration": 11,
    "start_time": "2022-03-08T09:32:24.192Z"
   },
   {
    "duration": 11,
    "start_time": "2022-03-08T09:33:16.712Z"
   },
   {
    "duration": 10,
    "start_time": "2022-03-08T09:33:24.105Z"
   },
   {
    "duration": 11,
    "start_time": "2022-03-08T09:33:35.892Z"
   },
   {
    "duration": 11,
    "start_time": "2022-03-08T09:33:47.882Z"
   },
   {
    "duration": 11,
    "start_time": "2022-03-08T09:35:02.132Z"
   },
   {
    "duration": 11,
    "start_time": "2022-03-08T09:35:16.513Z"
   },
   {
    "duration": 11,
    "start_time": "2022-03-08T09:36:25.843Z"
   },
   {
    "duration": 73,
    "start_time": "2022-03-08T09:46:22.076Z"
   },
   {
    "duration": 9,
    "start_time": "2022-03-08T09:47:42.333Z"
   },
   {
    "duration": 6,
    "start_time": "2022-03-08T09:54:13.963Z"
   },
   {
    "duration": 258,
    "start_time": "2022-03-08T09:54:40.503Z"
   },
   {
    "duration": 5,
    "start_time": "2022-03-08T10:00:43.566Z"
   },
   {
    "duration": 385,
    "start_time": "2022-03-08T10:10:27.262Z"
   },
   {
    "duration": 271,
    "start_time": "2022-03-08T10:10:49.972Z"
   },
   {
    "duration": 261,
    "start_time": "2022-03-08T10:10:55.472Z"
   },
   {
    "duration": 266,
    "start_time": "2022-03-08T10:11:04.548Z"
   },
   {
    "duration": 271,
    "start_time": "2022-03-08T10:11:27.448Z"
   },
   {
    "duration": 12,
    "start_time": "2022-03-08T10:13:31.262Z"
   },
   {
    "duration": 10,
    "start_time": "2022-03-08T10:13:44.766Z"
   },
   {
    "duration": 264,
    "start_time": "2022-03-08T10:14:01.173Z"
   },
   {
    "duration": 8,
    "start_time": "2022-03-08T10:14:18.653Z"
   },
   {
    "duration": 269,
    "start_time": "2022-03-08T10:14:21.682Z"
   },
   {
    "duration": 10,
    "start_time": "2022-03-08T10:14:29.593Z"
   },
   {
    "duration": 14,
    "start_time": "2022-03-08T10:14:45.016Z"
   },
   {
    "duration": 11,
    "start_time": "2022-03-08T10:14:57.463Z"
   },
   {
    "duration": 8,
    "start_time": "2022-03-08T10:17:15.571Z"
   },
   {
    "duration": 75,
    "start_time": "2022-03-08T10:22:25.085Z"
   },
   {
    "duration": 8,
    "start_time": "2022-03-08T10:23:36.150Z"
   },
   {
    "duration": 304,
    "start_time": "2022-03-08T10:23:51.502Z"
   },
   {
    "duration": 77,
    "start_time": "2022-03-08T10:25:37.880Z"
   },
   {
    "duration": 5,
    "start_time": "2022-03-08T10:25:45.743Z"
   },
   {
    "duration": 250,
    "start_time": "2022-03-08T10:26:00.352Z"
   },
   {
    "duration": 247,
    "start_time": "2022-03-08T10:26:05.802Z"
   },
   {
    "duration": 509,
    "start_time": "2022-03-08T10:26:26.902Z"
   },
   {
    "duration": 239,
    "start_time": "2022-03-08T10:32:25.936Z"
   },
   {
    "duration": 248,
    "start_time": "2022-03-08T10:34:10.272Z"
   },
   {
    "duration": 37,
    "start_time": "2022-03-08T10:34:25.596Z"
   },
   {
    "duration": 34,
    "start_time": "2022-03-08T10:34:33.713Z"
   },
   {
    "duration": 272,
    "start_time": "2022-03-08T10:34:44.485Z"
   },
   {
    "duration": 5,
    "start_time": "2022-03-08T10:35:07.680Z"
   },
   {
    "duration": 8,
    "start_time": "2022-03-08T10:35:13.921Z"
   },
   {
    "duration": 8,
    "start_time": "2022-03-08T10:35:38.832Z"
   },
   {
    "duration": 6,
    "start_time": "2022-03-08T10:36:06.372Z"
   },
   {
    "duration": 6,
    "start_time": "2022-03-08T10:36:25.962Z"
   },
   {
    "duration": 914,
    "start_time": "2022-03-08T10:36:42.852Z"
   },
   {
    "duration": 210,
    "start_time": "2022-03-08T10:48:29.265Z"
   },
   {
    "duration": 161,
    "start_time": "2022-03-08T10:48:55.585Z"
   },
   {
    "duration": 1118,
    "start_time": "2022-03-08T10:49:01.041Z"
   },
   {
    "duration": 25,
    "start_time": "2022-03-08T10:49:15.952Z"
   },
   {
    "duration": 790,
    "start_time": "2022-03-08T10:49:33.519Z"
   },
   {
    "duration": 85,
    "start_time": "2022-03-08T10:49:34.312Z"
   },
   {
    "duration": 55,
    "start_time": "2022-03-08T10:49:34.400Z"
   },
   {
    "duration": 17,
    "start_time": "2022-03-08T10:49:34.459Z"
   },
   {
    "duration": 13,
    "start_time": "2022-03-08T10:49:34.478Z"
   },
   {
    "duration": 10,
    "start_time": "2022-03-08T10:49:34.494Z"
   },
   {
    "duration": 48,
    "start_time": "2022-03-08T10:49:34.507Z"
   },
   {
    "duration": 14,
    "start_time": "2022-03-08T10:49:34.559Z"
   },
   {
    "duration": 8,
    "start_time": "2022-03-08T10:49:34.577Z"
   },
   {
    "duration": 27,
    "start_time": "2022-03-08T10:49:34.588Z"
   },
   {
    "duration": 36,
    "start_time": "2022-03-08T10:49:34.617Z"
   },
   {
    "duration": 20,
    "start_time": "2022-03-08T10:49:34.656Z"
   },
   {
    "duration": 8,
    "start_time": "2022-03-08T10:49:34.678Z"
   },
   {
    "duration": 8,
    "start_time": "2022-03-08T10:49:34.689Z"
   },
   {
    "duration": 5,
    "start_time": "2022-03-08T10:49:34.700Z"
   },
   {
    "duration": 5,
    "start_time": "2022-03-08T10:49:34.707Z"
   },
   {
    "duration": 40,
    "start_time": "2022-03-08T10:49:34.714Z"
   },
   {
    "duration": 12,
    "start_time": "2022-03-08T10:49:34.756Z"
   },
   {
    "duration": 14,
    "start_time": "2022-03-08T10:49:34.770Z"
   },
   {
    "duration": 10,
    "start_time": "2022-03-08T10:49:40.198Z"
   },
   {
    "duration": 214,
    "start_time": "2022-03-08T10:49:43.409Z"
   },
   {
    "duration": 5,
    "start_time": "2022-03-08T10:49:51.882Z"
   },
   {
    "duration": 120,
    "start_time": "2022-03-08T10:49:51.890Z"
   },
   {
    "duration": 60,
    "start_time": "2022-03-08T10:49:52.014Z"
   },
   {
    "duration": 18,
    "start_time": "2022-03-08T10:49:52.078Z"
   },
   {
    "duration": 13,
    "start_time": "2022-03-08T10:49:52.099Z"
   },
   {
    "duration": 9,
    "start_time": "2022-03-08T10:49:52.150Z"
   },
   {
    "duration": 12,
    "start_time": "2022-03-08T10:49:52.162Z"
   },
   {
    "duration": 8,
    "start_time": "2022-03-08T10:49:52.177Z"
   },
   {
    "duration": 8,
    "start_time": "2022-03-08T10:49:52.190Z"
   },
   {
    "duration": 84,
    "start_time": "2022-03-08T10:49:52.201Z"
   },
   {
    "duration": 8,
    "start_time": "2022-03-08T10:49:52.288Z"
   },
   {
    "duration": 21,
    "start_time": "2022-03-08T10:49:52.299Z"
   },
   {
    "duration": 10,
    "start_time": "2022-03-08T10:49:52.352Z"
   },
   {
    "duration": 11,
    "start_time": "2022-03-08T10:49:52.365Z"
   },
   {
    "duration": 7,
    "start_time": "2022-03-08T10:49:52.379Z"
   },
   {
    "duration": 8,
    "start_time": "2022-03-08T10:49:52.388Z"
   },
   {
    "duration": 10,
    "start_time": "2022-03-08T10:49:52.398Z"
   },
   {
    "duration": 53,
    "start_time": "2022-03-08T10:49:52.410Z"
   },
   {
    "duration": 16,
    "start_time": "2022-03-08T10:49:52.467Z"
   },
   {
    "duration": 10,
    "start_time": "2022-03-08T10:49:57.059Z"
   },
   {
    "duration": 451,
    "start_time": "2022-03-08T10:50:09.742Z"
   },
   {
    "duration": 389,
    "start_time": "2022-03-08T10:50:33.502Z"
   },
   {
    "duration": 11,
    "start_time": "2022-03-08T10:51:24.549Z"
   },
   {
    "duration": 274,
    "start_time": "2022-03-08T10:51:48.461Z"
   },
   {
    "duration": 7,
    "start_time": "2022-03-08T10:51:59.020Z"
   },
   {
    "duration": 386,
    "start_time": "2022-03-08T10:52:02.069Z"
   },
   {
    "duration": 10,
    "start_time": "2022-03-08T10:52:10.851Z"
   },
   {
    "duration": 7,
    "start_time": "2022-03-08T10:54:19.298Z"
   },
   {
    "duration": 261,
    "start_time": "2022-03-08T10:54:21.497Z"
   },
   {
    "duration": 10,
    "start_time": "2022-03-08T10:54:28.738Z"
   },
   {
    "duration": 729,
    "start_time": "2022-03-08T10:55:17.149Z"
   },
   {
    "duration": 85,
    "start_time": "2022-03-08T10:55:17.881Z"
   },
   {
    "duration": 54,
    "start_time": "2022-03-08T10:55:17.970Z"
   },
   {
    "duration": 42,
    "start_time": "2022-03-08T10:55:18.027Z"
   },
   {
    "duration": 18,
    "start_time": "2022-03-08T10:55:18.072Z"
   },
   {
    "duration": 12,
    "start_time": "2022-03-08T10:55:18.093Z"
   },
   {
    "duration": 9,
    "start_time": "2022-03-08T10:55:18.108Z"
   },
   {
    "duration": 7,
    "start_time": "2022-03-08T10:55:18.152Z"
   },
   {
    "duration": 13,
    "start_time": "2022-03-08T10:55:18.164Z"
   },
   {
    "duration": 41,
    "start_time": "2022-03-08T10:55:18.181Z"
   },
   {
    "duration": 34,
    "start_time": "2022-03-08T10:55:18.225Z"
   },
   {
    "duration": 24,
    "start_time": "2022-03-08T10:55:18.261Z"
   },
   {
    "duration": 7,
    "start_time": "2022-03-08T10:55:18.288Z"
   },
   {
    "duration": 12,
    "start_time": "2022-03-08T10:55:18.298Z"
   },
   {
    "duration": 39,
    "start_time": "2022-03-08T10:55:18.312Z"
   },
   {
    "duration": 4,
    "start_time": "2022-03-08T10:55:18.354Z"
   },
   {
    "duration": 15,
    "start_time": "2022-03-08T10:55:18.360Z"
   },
   {
    "duration": 13,
    "start_time": "2022-03-08T10:55:18.377Z"
   },
   {
    "duration": 23,
    "start_time": "2022-03-08T10:55:18.393Z"
   },
   {
    "duration": 11,
    "start_time": "2022-03-08T10:55:32.737Z"
   },
   {
    "duration": 394,
    "start_time": "2022-03-08T11:00:50.109Z"
   },
   {
    "duration": 12,
    "start_time": "2022-03-08T11:02:16.956Z"
   },
   {
    "duration": 338,
    "start_time": "2022-03-08T11:02:19.827Z"
   },
   {
    "duration": 38,
    "start_time": "2022-03-08T11:02:46.918Z"
   },
   {
    "duration": 38,
    "start_time": "2022-03-08T11:02:50.505Z"
   },
   {
    "duration": 13,
    "start_time": "2022-03-08T11:03:03.335Z"
   },
   {
    "duration": 13,
    "start_time": "2022-03-08T11:03:58.357Z"
   },
   {
    "duration": 7,
    "start_time": "2022-03-08T12:29:20.019Z"
   },
   {
    "duration": 332,
    "start_time": "2022-03-08T12:37:00.586Z"
   },
   {
    "duration": 15,
    "start_time": "2022-03-08T12:37:21.787Z"
   },
   {
    "duration": 5,
    "start_time": "2022-03-08T12:45:29.912Z"
   },
   {
    "duration": 8,
    "start_time": "2022-03-08T12:45:32.391Z"
   },
   {
    "duration": 269,
    "start_time": "2022-03-08T12:45:49.400Z"
   },
   {
    "duration": 5,
    "start_time": "2022-03-08T12:46:00.552Z"
   },
   {
    "duration": 8,
    "start_time": "2022-03-08T12:46:02.372Z"
   },
   {
    "duration": 58,
    "start_time": "2022-03-08T12:46:13.832Z"
   },
   {
    "duration": 37,
    "start_time": "2022-03-08T12:46:47.690Z"
   },
   {
    "duration": 11,
    "start_time": "2022-03-08T12:46:57.812Z"
   },
   {
    "duration": 16,
    "start_time": "2022-03-08T12:47:25.760Z"
   },
   {
    "duration": 11,
    "start_time": "2022-03-08T12:48:59.202Z"
   },
   {
    "duration": 12,
    "start_time": "2022-03-08T12:49:11.564Z"
   },
   {
    "duration": 313,
    "start_time": "2022-03-08T12:50:23.441Z"
   },
   {
    "duration": 12,
    "start_time": "2022-03-08T12:56:35.127Z"
   },
   {
    "duration": 8,
    "start_time": "2022-03-08T12:57:01.495Z"
   },
   {
    "duration": 6,
    "start_time": "2022-03-08T12:57:15.562Z"
   },
   {
    "duration": 6,
    "start_time": "2022-03-08T12:57:52.388Z"
   },
   {
    "duration": 6,
    "start_time": "2022-03-08T12:59:59.107Z"
   },
   {
    "duration": 7,
    "start_time": "2022-03-08T13:00:09.152Z"
   },
   {
    "duration": 6,
    "start_time": "2022-03-08T13:00:18.850Z"
   },
   {
    "duration": 35,
    "start_time": "2022-03-08T13:01:13.517Z"
   },
   {
    "duration": 122,
    "start_time": "2022-03-08T13:08:30.448Z"
   },
   {
    "duration": 270,
    "start_time": "2022-03-08T13:08:49.498Z"
   },
   {
    "duration": 5,
    "start_time": "2022-03-08T13:09:10.337Z"
   },
   {
    "duration": 30806,
    "start_time": "2022-03-08T13:09:47.137Z"
   },
   {
    "duration": 716,
    "start_time": "2022-03-08T13:11:39.050Z"
   },
   {
    "duration": 85,
    "start_time": "2022-03-08T13:11:39.769Z"
   },
   {
    "duration": 42,
    "start_time": "2022-03-08T13:11:39.857Z"
   },
   {
    "duration": 14,
    "start_time": "2022-03-08T13:11:39.902Z"
   },
   {
    "duration": 41,
    "start_time": "2022-03-08T13:11:39.918Z"
   },
   {
    "duration": 10,
    "start_time": "2022-03-08T13:11:39.961Z"
   },
   {
    "duration": 9,
    "start_time": "2022-03-08T13:11:39.973Z"
   },
   {
    "duration": 5,
    "start_time": "2022-03-08T13:11:39.988Z"
   },
   {
    "duration": 7,
    "start_time": "2022-03-08T13:11:39.997Z"
   },
   {
    "duration": 29,
    "start_time": "2022-03-08T13:11:40.052Z"
   },
   {
    "duration": 8,
    "start_time": "2022-03-08T13:11:40.085Z"
   },
   {
    "duration": 55,
    "start_time": "2022-03-08T13:11:40.096Z"
   },
   {
    "duration": 8,
    "start_time": "2022-03-08T13:11:40.154Z"
   },
   {
    "duration": 7,
    "start_time": "2022-03-08T13:11:40.165Z"
   },
   {
    "duration": 8,
    "start_time": "2022-03-08T13:11:40.175Z"
   },
   {
    "duration": 6,
    "start_time": "2022-03-08T13:11:40.185Z"
   },
   {
    "duration": 5,
    "start_time": "2022-03-08T13:11:40.194Z"
   },
   {
    "duration": 11,
    "start_time": "2022-03-08T13:11:40.251Z"
   },
   {
    "duration": 15,
    "start_time": "2022-03-08T13:11:40.265Z"
   },
   {
    "duration": 384,
    "start_time": "2022-03-08T13:11:40.283Z"
   },
   {
    "duration": 10,
    "start_time": "2022-03-08T13:11:40.670Z"
   },
   {
    "duration": 300,
    "start_time": "2022-03-08T13:11:40.682Z"
   },
   {
    "duration": 36,
    "start_time": "2022-03-08T13:11:40.987Z"
   },
   {
    "duration": 53,
    "start_time": "2022-03-08T13:11:41.026Z"
   },
   {
    "duration": 12,
    "start_time": "2022-03-08T13:11:41.082Z"
   },
   {
    "duration": 12,
    "start_time": "2022-03-08T13:11:41.096Z"
   },
   {
    "duration": 6,
    "start_time": "2022-03-08T13:11:54.131Z"
   },
   {
    "duration": 59,
    "start_time": "2022-03-08T13:11:56.866Z"
   },
   {
    "duration": 39,
    "start_time": "2022-03-08T13:12:03.890Z"
   },
   {
    "duration": 575,
    "start_time": "2022-03-08T13:12:12.411Z"
   },
   {
    "duration": 327,
    "start_time": "2022-03-08T13:12:15.020Z"
   },
   {
    "duration": 29077,
    "start_time": "2022-03-08T13:12:33.744Z"
   },
   {
    "duration": 719,
    "start_time": "2022-03-08T13:13:42.864Z"
   },
   {
    "duration": 81,
    "start_time": "2022-03-08T13:13:43.586Z"
   },
   {
    "duration": 43,
    "start_time": "2022-03-08T13:13:43.670Z"
   },
   {
    "duration": 35,
    "start_time": "2022-03-08T13:13:43.716Z"
   },
   {
    "duration": 13,
    "start_time": "2022-03-08T13:13:43.753Z"
   },
   {
    "duration": 9,
    "start_time": "2022-03-08T13:13:43.769Z"
   },
   {
    "duration": 7,
    "start_time": "2022-03-08T13:13:43.780Z"
   },
   {
    "duration": 8,
    "start_time": "2022-03-08T13:13:43.791Z"
   },
   {
    "duration": 6,
    "start_time": "2022-03-08T13:13:43.802Z"
   },
   {
    "duration": 29,
    "start_time": "2022-03-08T13:13:43.852Z"
   },
   {
    "duration": 7,
    "start_time": "2022-03-08T13:13:43.884Z"
   },
   {
    "duration": 18,
    "start_time": "2022-03-08T13:13:43.894Z"
   },
   {
    "duration": 7,
    "start_time": "2022-03-08T13:13:43.952Z"
   },
   {
    "duration": 7,
    "start_time": "2022-03-08T13:13:43.961Z"
   },
   {
    "duration": 5,
    "start_time": "2022-03-08T13:13:43.970Z"
   },
   {
    "duration": 5,
    "start_time": "2022-03-08T13:13:43.977Z"
   },
   {
    "duration": 12,
    "start_time": "2022-03-08T13:13:43.984Z"
   },
   {
    "duration": 16,
    "start_time": "2022-03-08T13:13:43.999Z"
   },
   {
    "duration": 15,
    "start_time": "2022-03-08T13:13:44.051Z"
   },
   {
    "duration": 385,
    "start_time": "2022-03-08T13:13:44.069Z"
   },
   {
    "duration": 8,
    "start_time": "2022-03-08T13:13:44.456Z"
   },
   {
    "duration": 296,
    "start_time": "2022-03-08T13:13:44.467Z"
   },
   {
    "duration": 34,
    "start_time": "2022-03-08T13:13:44.768Z"
   },
   {
    "duration": 58,
    "start_time": "2022-03-08T13:13:44.805Z"
   },
   {
    "duration": 12,
    "start_time": "2022-03-08T13:13:44.866Z"
   },
   {
    "duration": 12,
    "start_time": "2022-03-08T13:13:44.880Z"
   },
   {
    "duration": 5,
    "start_time": "2022-03-08T13:13:44.894Z"
   },
   {
    "duration": 326,
    "start_time": "2022-03-08T13:19:18.923Z"
   },
   {
    "duration": 6,
    "start_time": "2022-03-08T13:19:29.153Z"
   },
   {
    "duration": 6,
    "start_time": "2022-03-08T13:19:33.451Z"
   },
   {
    "duration": 5,
    "start_time": "2022-03-08T13:21:54.172Z"
   },
   {
    "duration": 173,
    "start_time": "2022-03-08T13:25:49.702Z"
   },
   {
    "duration": 8,
    "start_time": "2022-03-08T13:28:14.922Z"
   },
   {
    "duration": 5974,
    "start_time": "2022-03-08T13:28:29.033Z"
   },
   {
    "duration": 14,
    "start_time": "2022-03-08T13:29:12.022Z"
   },
   {
    "duration": 9,
    "start_time": "2022-03-08T13:31:07.673Z"
   },
   {
    "duration": 233,
    "start_time": "2022-03-08T13:31:25.931Z"
   },
   {
    "duration": 4,
    "start_time": "2022-03-08T13:37:32.572Z"
   },
   {
    "duration": 131,
    "start_time": "2022-03-08T13:37:34.502Z"
   },
   {
    "duration": 8,
    "start_time": "2022-03-08T13:38:43.752Z"
   },
   {
    "duration": 5,
    "start_time": "2022-03-08T13:39:10.992Z"
   },
   {
    "duration": 127,
    "start_time": "2022-03-08T13:39:12.979Z"
   },
   {
    "duration": 128,
    "start_time": "2022-03-08T13:39:23.473Z"
   },
   {
    "duration": 7,
    "start_time": "2022-03-08T13:40:49.862Z"
   },
   {
    "duration": 4,
    "start_time": "2022-03-08T13:41:15.540Z"
   },
   {
    "duration": 168,
    "start_time": "2022-03-08T13:41:17.625Z"
   },
   {
    "duration": 5,
    "start_time": "2022-03-08T13:42:42.871Z"
   },
   {
    "duration": 131,
    "start_time": "2022-03-08T13:42:47.102Z"
   },
   {
    "duration": 4,
    "start_time": "2022-03-08T13:47:08.985Z"
   },
   {
    "duration": 128,
    "start_time": "2022-03-08T13:47:11.404Z"
   },
   {
    "duration": 227,
    "start_time": "2022-03-08T13:49:18.548Z"
   },
   {
    "duration": 6,
    "start_time": "2022-03-08T13:49:23.159Z"
   },
   {
    "duration": 5,
    "start_time": "2022-03-08T13:49:48.468Z"
   },
   {
    "duration": 6,
    "start_time": "2022-03-08T13:49:51.511Z"
   },
   {
    "duration": 4,
    "start_time": "2022-03-08T13:49:55.007Z"
   },
   {
    "duration": 132,
    "start_time": "2022-03-08T13:50:00.047Z"
   },
   {
    "duration": 4,
    "start_time": "2022-03-08T13:50:15.225Z"
   },
   {
    "duration": 161,
    "start_time": "2022-03-08T13:50:16.887Z"
   },
   {
    "duration": 4,
    "start_time": "2022-03-08T13:50:57.320Z"
   },
   {
    "duration": 125,
    "start_time": "2022-03-08T13:50:59.559Z"
   },
   {
    "duration": 353,
    "start_time": "2022-03-08T13:51:08.738Z"
   },
   {
    "duration": 143,
    "start_time": "2022-03-08T13:52:24.832Z"
   },
   {
    "duration": 403,
    "start_time": "2022-03-08T13:52:53.576Z"
   },
   {
    "duration": 5,
    "start_time": "2022-03-08T13:55:33.224Z"
   },
   {
    "duration": 732,
    "start_time": "2022-03-08T13:56:27.645Z"
   },
   {
    "duration": 85,
    "start_time": "2022-03-08T13:56:28.379Z"
   },
   {
    "duration": 53,
    "start_time": "2022-03-08T13:56:28.467Z"
   },
   {
    "duration": 35,
    "start_time": "2022-03-08T13:56:28.522Z"
   },
   {
    "duration": 13,
    "start_time": "2022-03-08T13:56:28.559Z"
   },
   {
    "duration": 9,
    "start_time": "2022-03-08T13:56:28.574Z"
   },
   {
    "duration": 8,
    "start_time": "2022-03-08T13:56:28.585Z"
   },
   {
    "duration": 6,
    "start_time": "2022-03-08T13:56:28.595Z"
   },
   {
    "duration": 47,
    "start_time": "2022-03-08T13:56:28.605Z"
   },
   {
    "duration": 28,
    "start_time": "2022-03-08T13:56:28.655Z"
   },
   {
    "duration": 7,
    "start_time": "2022-03-08T13:56:28.685Z"
   },
   {
    "duration": 18,
    "start_time": "2022-03-08T13:56:28.694Z"
   },
   {
    "duration": 9,
    "start_time": "2022-03-08T13:56:28.751Z"
   },
   {
    "duration": 6,
    "start_time": "2022-03-08T13:56:28.763Z"
   },
   {
    "duration": 8,
    "start_time": "2022-03-08T13:56:28.772Z"
   },
   {
    "duration": 9,
    "start_time": "2022-03-08T13:56:28.783Z"
   },
   {
    "duration": 5,
    "start_time": "2022-03-08T13:56:28.794Z"
   },
   {
    "duration": 14,
    "start_time": "2022-03-08T13:56:28.801Z"
   },
   {
    "duration": 47,
    "start_time": "2022-03-08T13:56:28.816Z"
   },
   {
    "duration": 369,
    "start_time": "2022-03-08T13:56:28.865Z"
   },
   {
    "duration": 16,
    "start_time": "2022-03-08T13:56:29.237Z"
   },
   {
    "duration": 282,
    "start_time": "2022-03-08T13:56:29.255Z"
   },
   {
    "duration": 42,
    "start_time": "2022-03-08T13:56:29.539Z"
   },
   {
    "duration": 35,
    "start_time": "2022-03-08T13:56:29.583Z"
   },
   {
    "duration": 36,
    "start_time": "2022-03-08T13:56:29.621Z"
   },
   {
    "duration": 12,
    "start_time": "2022-03-08T13:56:29.660Z"
   },
   {
    "duration": 5,
    "start_time": "2022-03-08T13:56:29.676Z"
   },
   {
    "duration": 5,
    "start_time": "2022-03-08T14:00:26.534Z"
   },
   {
    "duration": 169,
    "start_time": "2022-03-08T14:00:28.706Z"
   },
   {
    "duration": 3481,
    "start_time": "2022-03-08T14:00:34.244Z"
   },
   {
    "duration": 4,
    "start_time": "2022-03-08T14:02:44.295Z"
   },
   {
    "duration": 133,
    "start_time": "2022-03-08T14:02:46.414Z"
   },
   {
    "duration": 5,
    "start_time": "2022-03-08T14:03:50.795Z"
   },
   {
    "duration": 121,
    "start_time": "2022-03-08T14:03:53.556Z"
   },
   {
    "duration": 14,
    "start_time": "2022-03-08T14:10:57.812Z"
   },
   {
    "duration": 403,
    "start_time": "2022-03-08T14:11:41.356Z"
   },
   {
    "duration": 361,
    "start_time": "2022-03-08T14:12:58.202Z"
   },
   {
    "duration": 35,
    "start_time": "2022-03-08T14:14:38.680Z"
   },
   {
    "duration": 7,
    "start_time": "2022-03-08T14:17:22.353Z"
   },
   {
    "duration": 5,
    "start_time": "2022-03-08T14:18:13.403Z"
   },
   {
    "duration": 6,
    "start_time": "2022-03-08T14:18:15.643Z"
   },
   {
    "duration": 34,
    "start_time": "2022-03-08T14:18:19.182Z"
   },
   {
    "duration": 36,
    "start_time": "2022-03-08T14:19:25.902Z"
   },
   {
    "duration": 135,
    "start_time": "2022-03-08T14:19:41.262Z"
   },
   {
    "duration": 757,
    "start_time": "2022-03-08T14:21:11.155Z"
   },
   {
    "duration": 7,
    "start_time": "2022-03-08T14:21:42.200Z"
   },
   {
    "duration": 804,
    "start_time": "2022-03-08T14:21:58.832Z"
   },
   {
    "duration": 5,
    "start_time": "2022-03-08T14:23:53.669Z"
   },
   {
    "duration": 759,
    "start_time": "2022-03-08T14:24:05.452Z"
   },
   {
    "duration": 86,
    "start_time": "2022-03-08T14:24:06.213Z"
   },
   {
    "duration": 54,
    "start_time": "2022-03-08T14:24:06.302Z"
   },
   {
    "duration": 15,
    "start_time": "2022-03-08T14:24:06.359Z"
   },
   {
    "duration": 12,
    "start_time": "2022-03-08T14:24:06.377Z"
   },
   {
    "duration": 9,
    "start_time": "2022-03-08T14:24:06.392Z"
   },
   {
    "duration": 7,
    "start_time": "2022-03-08T14:24:06.403Z"
   },
   {
    "duration": 6,
    "start_time": "2022-03-08T14:24:06.452Z"
   },
   {
    "duration": 6,
    "start_time": "2022-03-08T14:24:06.462Z"
   },
   {
    "duration": 26,
    "start_time": "2022-03-08T14:24:06.471Z"
   },
   {
    "duration": 6,
    "start_time": "2022-03-08T14:24:06.499Z"
   },
   {
    "duration": 57,
    "start_time": "2022-03-08T14:24:06.508Z"
   },
   {
    "duration": 7,
    "start_time": "2022-03-08T14:24:06.567Z"
   },
   {
    "duration": 6,
    "start_time": "2022-03-08T14:24:06.576Z"
   },
   {
    "duration": 5,
    "start_time": "2022-03-08T14:24:06.585Z"
   },
   {
    "duration": 4,
    "start_time": "2022-03-08T14:24:06.593Z"
   },
   {
    "duration": 5,
    "start_time": "2022-03-08T14:24:06.600Z"
   },
   {
    "duration": 55,
    "start_time": "2022-03-08T14:24:06.607Z"
   },
   {
    "duration": 16,
    "start_time": "2022-03-08T14:24:06.665Z"
   },
   {
    "duration": 418,
    "start_time": "2022-03-08T14:24:06.684Z"
   },
   {
    "duration": 10,
    "start_time": "2022-03-08T14:24:07.105Z"
   },
   {
    "duration": 312,
    "start_time": "2022-03-08T14:24:07.117Z"
   },
   {
    "duration": 44,
    "start_time": "2022-03-08T14:24:07.432Z"
   },
   {
    "duration": 41,
    "start_time": "2022-03-08T14:24:07.478Z"
   },
   {
    "duration": 35,
    "start_time": "2022-03-08T14:24:07.522Z"
   },
   {
    "duration": 12,
    "start_time": "2022-03-08T14:24:07.560Z"
   },
   {
    "duration": 5,
    "start_time": "2022-03-08T14:24:07.577Z"
   },
   {
    "duration": 5,
    "start_time": "2022-03-08T14:24:07.584Z"
   },
   {
    "duration": 859,
    "start_time": "2022-03-08T14:24:07.592Z"
   },
   {
    "duration": 5,
    "start_time": "2022-03-08T14:24:08.454Z"
   },
   {
    "duration": 82,
    "start_time": "2022-03-08T14:24:08.462Z"
   },
   {
    "duration": -371,
    "start_time": "2022-03-08T14:24:08.918Z"
   },
   {
    "duration": 37,
    "start_time": "2022-03-08T14:24:26.401Z"
   },
   {
    "duration": 470,
    "start_time": "2022-03-08T14:47:13.339Z"
   },
   {
    "duration": 316,
    "start_time": "2022-03-08T14:47:16.356Z"
   },
   {
    "duration": 31529,
    "start_time": "2022-03-08T14:47:33.026Z"
   },
   {
    "duration": 687,
    "start_time": "2022-03-08T14:48:49.086Z"
   },
   {
    "duration": 84,
    "start_time": "2022-03-08T14:48:49.776Z"
   },
   {
    "duration": 45,
    "start_time": "2022-03-08T14:48:49.862Z"
   },
   {
    "duration": 41,
    "start_time": "2022-03-08T14:48:49.911Z"
   },
   {
    "duration": 13,
    "start_time": "2022-03-08T14:48:49.955Z"
   },
   {
    "duration": 11,
    "start_time": "2022-03-08T14:48:49.971Z"
   },
   {
    "duration": 9,
    "start_time": "2022-03-08T14:48:49.985Z"
   },
   {
    "duration": 7,
    "start_time": "2022-03-08T14:48:49.997Z"
   },
   {
    "duration": 6,
    "start_time": "2022-03-08T14:48:50.051Z"
   },
   {
    "duration": 28,
    "start_time": "2022-03-08T14:48:50.061Z"
   },
   {
    "duration": 8,
    "start_time": "2022-03-08T14:48:50.091Z"
   },
   {
    "duration": 51,
    "start_time": "2022-03-08T14:48:50.101Z"
   },
   {
    "duration": 8,
    "start_time": "2022-03-08T14:48:50.155Z"
   },
   {
    "duration": 7,
    "start_time": "2022-03-08T14:48:50.165Z"
   },
   {
    "duration": 9,
    "start_time": "2022-03-08T14:48:50.174Z"
   },
   {
    "duration": 5,
    "start_time": "2022-03-08T14:48:50.185Z"
   },
   {
    "duration": 4,
    "start_time": "2022-03-08T14:48:50.192Z"
   },
   {
    "duration": 10,
    "start_time": "2022-03-08T14:48:50.199Z"
   },
   {
    "duration": 46,
    "start_time": "2022-03-08T14:48:50.212Z"
   },
   {
    "duration": 362,
    "start_time": "2022-03-08T14:48:50.260Z"
   },
   {
    "duration": 8,
    "start_time": "2022-03-08T14:48:50.625Z"
   },
   {
    "duration": 283,
    "start_time": "2022-03-08T14:48:50.635Z"
   },
   {
    "duration": 47,
    "start_time": "2022-03-08T14:48:50.920Z"
   },
   {
    "duration": 35,
    "start_time": "2022-03-08T14:48:50.970Z"
   },
   {
    "duration": 12,
    "start_time": "2022-03-08T14:48:51.008Z"
   },
   {
    "duration": 39,
    "start_time": "2022-03-08T14:48:51.022Z"
   },
   {
    "duration": 5,
    "start_time": "2022-03-08T14:48:51.066Z"
   },
   {
    "duration": 7,
    "start_time": "2022-03-08T14:48:51.074Z"
   },
   {
    "duration": 878,
    "start_time": "2022-03-08T14:48:51.084Z"
   },
   {
    "duration": 6,
    "start_time": "2022-03-08T14:48:51.965Z"
   },
   {
    "duration": 323,
    "start_time": "2022-03-08T14:48:54.985Z"
   },
   {
    "duration": 75,
    "start_time": "2022-03-08T14:49:15.445Z"
   },
   {
    "duration": 91,
    "start_time": "2022-03-08T14:50:07.976Z"
   },
   {
    "duration": 6,
    "start_time": "2022-03-08T14:50:33.476Z"
   },
   {
    "duration": 37,
    "start_time": "2022-03-08T14:50:39.265Z"
   },
   {
    "duration": 6,
    "start_time": "2022-03-08T14:51:12.281Z"
   },
   {
    "duration": 5,
    "start_time": "2022-03-08T14:51:13.956Z"
   },
   {
    "duration": 39,
    "start_time": "2022-03-08T14:51:17.098Z"
   },
   {
    "duration": 7,
    "start_time": "2022-03-08T14:51:38.966Z"
   },
   {
    "duration": 41,
    "start_time": "2022-03-08T14:51:46.445Z"
   },
   {
    "duration": 7,
    "start_time": "2022-03-08T14:52:25.398Z"
   },
   {
    "duration": 8,
    "start_time": "2022-03-08T14:52:34.006Z"
   },
   {
    "duration": 304,
    "start_time": "2022-03-08T14:53:28.066Z"
   },
   {
    "duration": 314,
    "start_time": "2022-03-08T14:53:43.775Z"
   },
   {
    "duration": 5,
    "start_time": "2022-03-08T14:54:12.385Z"
   },
   {
    "duration": 7,
    "start_time": "2022-03-08T14:54:28.906Z"
   },
   {
    "duration": 732,
    "start_time": "2022-03-08T14:55:17.768Z"
   },
   {
    "duration": 83,
    "start_time": "2022-03-08T14:55:18.502Z"
   },
   {
    "duration": 46,
    "start_time": "2022-03-08T14:55:18.588Z"
   },
   {
    "duration": 28,
    "start_time": "2022-03-08T14:55:18.636Z"
   },
   {
    "duration": 12,
    "start_time": "2022-03-08T14:55:18.667Z"
   },
   {
    "duration": 9,
    "start_time": "2022-03-08T14:55:18.682Z"
   },
   {
    "duration": 6,
    "start_time": "2022-03-08T14:55:18.693Z"
   },
   {
    "duration": 6,
    "start_time": "2022-03-08T14:55:18.703Z"
   },
   {
    "duration": 44,
    "start_time": "2022-03-08T14:55:18.711Z"
   },
   {
    "duration": 28,
    "start_time": "2022-03-08T14:55:18.758Z"
   },
   {
    "duration": 6,
    "start_time": "2022-03-08T14:55:18.788Z"
   },
   {
    "duration": 55,
    "start_time": "2022-03-08T14:55:18.796Z"
   },
   {
    "duration": 6,
    "start_time": "2022-03-08T14:55:18.854Z"
   },
   {
    "duration": 8,
    "start_time": "2022-03-08T14:55:18.863Z"
   },
   {
    "duration": 6,
    "start_time": "2022-03-08T14:55:18.873Z"
   },
   {
    "duration": 5,
    "start_time": "2022-03-08T14:55:18.881Z"
   },
   {
    "duration": 6,
    "start_time": "2022-03-08T14:55:18.888Z"
   },
   {
    "duration": 13,
    "start_time": "2022-03-08T14:55:18.896Z"
   },
   {
    "duration": 53,
    "start_time": "2022-03-08T14:55:18.911Z"
   },
   {
    "duration": 367,
    "start_time": "2022-03-08T14:55:18.967Z"
   },
   {
    "duration": 16,
    "start_time": "2022-03-08T14:55:19.336Z"
   },
   {
    "duration": 283,
    "start_time": "2022-03-08T14:55:19.355Z"
   },
   {
    "duration": 33,
    "start_time": "2022-03-08T14:55:19.651Z"
   },
   {
    "duration": 36,
    "start_time": "2022-03-08T14:55:19.687Z"
   },
   {
    "duration": 35,
    "start_time": "2022-03-08T14:55:19.725Z"
   },
   {
    "duration": 11,
    "start_time": "2022-03-08T14:55:19.763Z"
   },
   {
    "duration": 5,
    "start_time": "2022-03-08T14:55:19.776Z"
   },
   {
    "duration": 6,
    "start_time": "2022-03-08T14:55:19.783Z"
   },
   {
    "duration": 831,
    "start_time": "2022-03-08T14:55:19.791Z"
   },
   {
    "duration": 5,
    "start_time": "2022-03-08T14:55:20.624Z"
   },
   {
    "duration": 21,
    "start_time": "2022-03-08T14:55:20.632Z"
   },
   {
    "duration": 37,
    "start_time": "2022-03-08T14:55:20.655Z"
   },
   {
    "duration": 272,
    "start_time": "2022-03-08T15:27:36.439Z"
   },
   {
    "duration": 326,
    "start_time": "2022-03-08T15:29:09.359Z"
   },
   {
    "duration": 775,
    "start_time": "2022-03-08T15:29:15.958Z"
   },
   {
    "duration": 253,
    "start_time": "2022-03-08T15:29:35.389Z"
   },
   {
    "duration": 36,
    "start_time": "2022-03-08T15:29:46.368Z"
   },
   {
    "duration": 278,
    "start_time": "2022-03-08T15:30:28.918Z"
   },
   {
    "duration": 290,
    "start_time": "2022-03-08T15:31:12.309Z"
   },
   {
    "duration": 311,
    "start_time": "2022-03-08T15:31:41.959Z"
   },
   {
    "duration": 295,
    "start_time": "2022-03-08T15:31:45.088Z"
   },
   {
    "duration": 279,
    "start_time": "2022-03-08T15:32:44.458Z"
   },
   {
    "duration": 606,
    "start_time": "2022-03-08T15:34:17.167Z"
   },
   {
    "duration": 290,
    "start_time": "2022-03-08T15:34:41.429Z"
   },
   {
    "duration": 3265,
    "start_time": "2022-03-08T15:34:49.488Z"
   },
   {
    "duration": 405,
    "start_time": "2022-03-08T15:35:12.800Z"
   },
   {
    "duration": 266,
    "start_time": "2022-03-08T15:35:44.888Z"
   },
   {
    "duration": 209,
    "start_time": "2022-03-08T15:36:15.276Z"
   },
   {
    "duration": 553,
    "start_time": "2022-03-08T15:36:24.400Z"
   },
   {
    "duration": 248,
    "start_time": "2022-03-08T15:36:37.988Z"
   },
   {
    "duration": 280,
    "start_time": "2022-03-08T15:36:46.805Z"
   },
   {
    "duration": 292,
    "start_time": "2022-03-08T15:37:42.848Z"
   },
   {
    "duration": 306,
    "start_time": "2022-03-08T15:37:52.309Z"
   },
   {
    "duration": 300,
    "start_time": "2022-03-08T15:37:57.157Z"
   },
   {
    "duration": 435,
    "start_time": "2022-03-08T15:38:08.058Z"
   },
   {
    "duration": 323,
    "start_time": "2022-03-08T15:38:13.968Z"
   },
   {
    "duration": 329,
    "start_time": "2022-03-08T15:38:26.487Z"
   },
   {
    "duration": 336,
    "start_time": "2022-03-08T15:38:36.288Z"
   },
   {
    "duration": 355,
    "start_time": "2022-03-08T15:38:43.018Z"
   },
   {
    "duration": 817,
    "start_time": "2022-03-08T15:39:01.516Z"
   },
   {
    "duration": 545,
    "start_time": "2022-03-08T15:39:28.548Z"
   },
   {
    "duration": 702,
    "start_time": "2022-03-08T15:40:01.649Z"
   },
   {
    "duration": 715,
    "start_time": "2022-03-08T15:40:27.739Z"
   },
   {
    "duration": 307,
    "start_time": "2022-03-08T15:40:32.679Z"
   },
   {
    "duration": 305,
    "start_time": "2022-03-08T15:40:44.798Z"
   },
   {
    "duration": 295,
    "start_time": "2022-03-08T15:40:49.688Z"
   },
   {
    "duration": 573,
    "start_time": "2022-03-08T15:41:11.949Z"
   },
   {
    "duration": 534,
    "start_time": "2022-03-08T15:41:24.479Z"
   },
   {
    "duration": 547,
    "start_time": "2022-03-08T15:41:31.019Z"
   },
   {
    "duration": 494,
    "start_time": "2022-03-08T15:41:44.668Z"
   },
   {
    "duration": 302,
    "start_time": "2022-03-08T15:41:53.259Z"
   },
   {
    "duration": 314,
    "start_time": "2022-03-08T15:42:24.389Z"
   },
   {
    "duration": 406,
    "start_time": "2022-03-08T15:42:36.648Z"
   },
   {
    "duration": 473,
    "start_time": "2022-03-08T15:42:42.288Z"
   },
   {
    "duration": 308,
    "start_time": "2022-03-08T15:42:47.066Z"
   },
   {
    "duration": 299,
    "start_time": "2022-03-08T15:43:00.439Z"
   },
   {
    "duration": 286,
    "start_time": "2022-03-08T15:43:04.838Z"
   },
   {
    "duration": 325,
    "start_time": "2022-03-08T15:43:08.616Z"
   },
   {
    "duration": 330,
    "start_time": "2022-03-08T15:43:14.998Z"
   },
   {
    "duration": 456,
    "start_time": "2022-03-08T15:43:19.774Z"
   },
   {
    "duration": 578,
    "start_time": "2022-03-08T15:43:35.949Z"
   },
   {
    "duration": 333,
    "start_time": "2022-03-08T15:43:42.928Z"
   },
   {
    "duration": 266,
    "start_time": "2022-03-08T15:43:59.128Z"
   },
   {
    "duration": 335,
    "start_time": "2022-03-08T15:44:04.118Z"
   },
   {
    "duration": 333,
    "start_time": "2022-03-08T15:44:10.938Z"
   },
   {
    "duration": 301,
    "start_time": "2022-03-08T15:44:34.597Z"
   },
   {
    "duration": 393,
    "start_time": "2022-03-08T15:44:50.009Z"
   },
   {
    "duration": 366,
    "start_time": "2022-03-08T15:44:59.839Z"
   },
   {
    "duration": 325,
    "start_time": "2022-03-08T15:45:03.448Z"
   },
   {
    "duration": 822,
    "start_time": "2022-03-08T15:45:30.099Z"
   },
   {
    "duration": 294,
    "start_time": "2022-03-08T15:45:37.849Z"
   },
   {
    "duration": 309,
    "start_time": "2022-03-08T15:45:43.458Z"
   },
   {
    "duration": 295,
    "start_time": "2022-03-08T15:45:58.913Z"
   },
   {
    "duration": 492,
    "start_time": "2022-03-08T15:46:11.259Z"
   },
   {
    "duration": 585,
    "start_time": "2022-03-08T15:46:14.766Z"
   },
   {
    "duration": 87,
    "start_time": "2022-03-08T15:46:30.829Z"
   },
   {
    "duration": 79,
    "start_time": "2022-03-08T15:46:37.649Z"
   },
   {
    "duration": 567,
    "start_time": "2022-03-08T15:46:44.248Z"
   },
   {
    "duration": 578,
    "start_time": "2022-03-08T15:46:55.150Z"
   },
   {
    "duration": 546,
    "start_time": "2022-03-08T15:47:01.833Z"
   },
   {
    "duration": 571,
    "start_time": "2022-03-08T15:47:09.162Z"
   },
   {
    "duration": 533,
    "start_time": "2022-03-08T15:47:14.960Z"
   },
   {
    "duration": 3091,
    "start_time": "2022-03-08T15:47:26.663Z"
   },
   {
    "duration": 29214,
    "start_time": "2022-03-08T15:47:35.939Z"
   },
   {
    "duration": 3651,
    "start_time": "2022-03-08T15:48:12.919Z"
   },
   {
    "duration": 518,
    "start_time": "2022-03-09T13:05:44.512Z"
   },
   {
    "duration": 69,
    "start_time": "2022-03-09T13:05:45.031Z"
   },
   {
    "duration": 29,
    "start_time": "2022-03-09T13:05:45.102Z"
   },
   {
    "duration": 10,
    "start_time": "2022-03-09T13:05:45.133Z"
   },
   {
    "duration": 19,
    "start_time": "2022-03-09T13:05:45.144Z"
   },
   {
    "duration": 8,
    "start_time": "2022-03-09T13:05:45.165Z"
   },
   {
    "duration": 17,
    "start_time": "2022-03-09T13:05:45.174Z"
   },
   {
    "duration": 9,
    "start_time": "2022-03-09T13:05:45.192Z"
   },
   {
    "duration": 21,
    "start_time": "2022-03-09T13:05:45.203Z"
   },
   {
    "duration": 28,
    "start_time": "2022-03-09T13:05:45.226Z"
   },
   {
    "duration": 18,
    "start_time": "2022-03-09T13:05:45.255Z"
   },
   {
    "duration": 21,
    "start_time": "2022-03-09T13:05:45.275Z"
   },
   {
    "duration": 19,
    "start_time": "2022-03-09T13:05:45.298Z"
   },
   {
    "duration": 10,
    "start_time": "2022-03-09T13:05:45.318Z"
   },
   {
    "duration": 14,
    "start_time": "2022-03-09T13:05:45.330Z"
   },
   {
    "duration": 7,
    "start_time": "2022-03-09T13:05:45.345Z"
   },
   {
    "duration": 14,
    "start_time": "2022-03-09T13:05:45.354Z"
   },
   {
    "duration": 15,
    "start_time": "2022-03-09T13:05:45.369Z"
   },
   {
    "duration": 17,
    "start_time": "2022-03-09T13:05:45.386Z"
   },
   {
    "duration": 246,
    "start_time": "2022-03-09T13:05:45.405Z"
   },
   {
    "duration": 12,
    "start_time": "2022-03-09T13:05:45.652Z"
   },
   {
    "duration": 198,
    "start_time": "2022-03-09T13:05:45.665Z"
   },
   {
    "duration": 26,
    "start_time": "2022-03-09T13:05:45.864Z"
   },
   {
    "duration": 25,
    "start_time": "2022-03-09T13:05:45.891Z"
   },
   {
    "duration": 9,
    "start_time": "2022-03-09T13:05:45.917Z"
   },
   {
    "duration": 37,
    "start_time": "2022-03-09T13:05:45.927Z"
   },
   {
    "duration": 6,
    "start_time": "2022-03-09T13:31:49.272Z"
   },
   {
    "duration": 35,
    "start_time": "2022-03-09T13:31:59.520Z"
   },
   {
    "duration": 12,
    "start_time": "2022-03-09T13:32:45.220Z"
   },
   {
    "duration": 40,
    "start_time": "2022-03-09T13:32:57.580Z"
   },
   {
    "duration": 5,
    "start_time": "2022-03-09T13:33:46.221Z"
   },
   {
    "duration": 5,
    "start_time": "2022-03-09T13:33:48.417Z"
   },
   {
    "duration": 540,
    "start_time": "2022-03-09T13:33:51.276Z"
   },
   {
    "duration": 4,
    "start_time": "2022-03-09T13:33:53.659Z"
   },
   {
    "duration": 5,
    "start_time": "2022-03-09T13:33:56.959Z"
   },
   {
    "duration": 23,
    "start_time": "2022-03-09T13:33:59.133Z"
   },
   {
    "duration": 356,
    "start_time": "2022-03-09T13:34:48.553Z"
   },
   {
    "duration": 288,
    "start_time": "2022-03-09T13:34:51.930Z"
   },
   {
    "duration": 221,
    "start_time": "2022-03-09T13:34:53.989Z"
   },
   {
    "duration": 1881,
    "start_time": "2022-03-09T13:34:56.106Z"
   },
   {
    "duration": 255,
    "start_time": "2022-03-09T13:35:58.560Z"
   },
   {
    "duration": 9,
    "start_time": "2022-03-09T13:38:54.271Z"
   },
   {
    "duration": 9,
    "start_time": "2022-03-09T13:39:31.363Z"
   },
   {
    "duration": 8,
    "start_time": "2022-03-09T13:39:39.735Z"
   },
   {
    "duration": 9,
    "start_time": "2022-03-09T13:39:47.110Z"
   },
   {
    "duration": 360,
    "start_time": "2022-03-09T13:41:06.772Z"
   },
   {
    "duration": 3717,
    "start_time": "2022-03-09T13:41:20.538Z"
   },
   {
    "duration": 288,
    "start_time": "2022-03-09T13:45:21.732Z"
   },
   {
    "duration": 218,
    "start_time": "2022-03-09T13:45:40.021Z"
   },
   {
    "duration": 209,
    "start_time": "2022-03-09T13:45:48.033Z"
   },
   {
    "duration": 186,
    "start_time": "2022-03-09T13:45:55.403Z"
   },
   {
    "duration": 211,
    "start_time": "2022-03-09T13:46:06.242Z"
   },
   {
    "duration": 230,
    "start_time": "2022-03-09T13:46:14.302Z"
   },
   {
    "duration": 205,
    "start_time": "2022-03-09T13:46:20.311Z"
   },
   {
    "duration": 209,
    "start_time": "2022-03-09T13:46:35.473Z"
   },
   {
    "duration": 9,
    "start_time": "2022-03-09T13:48:38.992Z"
   },
   {
    "duration": 9,
    "start_time": "2022-03-09T13:49:51.447Z"
   },
   {
    "duration": 1372,
    "start_time": "2022-03-09T13:49:54.422Z"
   },
   {
    "duration": 380,
    "start_time": "2022-03-09T13:50:05.947Z"
   },
   {
    "duration": 370,
    "start_time": "2022-03-09T13:50:48.812Z"
   },
   {
    "duration": 309,
    "start_time": "2022-03-09T14:17:28.498Z"
   },
   {
    "duration": 233,
    "start_time": "2022-03-09T14:17:41.886Z"
   },
   {
    "duration": 26,
    "start_time": "2022-03-09T14:18:29.698Z"
   },
   {
    "duration": 403,
    "start_time": "2022-03-09T14:19:19.981Z"
   },
   {
    "duration": 30,
    "start_time": "2022-03-09T14:20:06.595Z"
   },
   {
    "duration": 1217,
    "start_time": "2022-03-09T14:21:22.908Z"
   },
   {
    "duration": 9,
    "start_time": "2022-03-09T14:21:35.368Z"
   },
   {
    "duration": 1320,
    "start_time": "2022-03-09T14:22:15.468Z"
   },
   {
    "duration": 9,
    "start_time": "2022-03-09T14:22:36.788Z"
   },
   {
    "duration": 250,
    "start_time": "2022-03-09T14:23:18.398Z"
   },
   {
    "duration": 199,
    "start_time": "2022-03-09T14:23:27.379Z"
   },
   {
    "duration": 7,
    "start_time": "2022-03-09T14:24:03.640Z"
   },
   {
    "duration": 29,
    "start_time": "2022-03-09T14:24:11.471Z"
   },
   {
    "duration": 193,
    "start_time": "2022-03-09T14:24:15.381Z"
   },
   {
    "duration": 4766,
    "start_time": "2022-03-09T14:27:32.501Z"
   },
   {
    "duration": 5206,
    "start_time": "2022-03-09T14:27:49.087Z"
   },
   {
    "duration": 5919,
    "start_time": "2022-03-09T14:28:57.075Z"
   },
   {
    "duration": 269,
    "start_time": "2022-03-09T14:31:32.259Z"
   },
   {
    "duration": 200,
    "start_time": "2022-03-09T14:31:40.050Z"
   },
   {
    "duration": 6080,
    "start_time": "2022-03-09T14:32:01.468Z"
   },
   {
    "duration": 189,
    "start_time": "2022-03-09T14:32:25.320Z"
   },
   {
    "duration": 11,
    "start_time": "2022-03-09T14:33:01.690Z"
   },
   {
    "duration": 313,
    "start_time": "2022-03-09T14:33:26.320Z"
   },
   {
    "duration": 5084,
    "start_time": "2022-03-09T14:33:39.423Z"
   },
   {
    "duration": 234,
    "start_time": "2022-03-09T14:34:06.720Z"
   },
   {
    "duration": 5578,
    "start_time": "2022-03-09T14:34:17.678Z"
   },
   {
    "duration": 9,
    "start_time": "2022-03-09T14:35:01.210Z"
   },
   {
    "duration": 195,
    "start_time": "2022-03-09T14:36:15.927Z"
   },
   {
    "duration": 219,
    "start_time": "2022-03-09T14:36:56.929Z"
   },
   {
    "duration": 2,
    "start_time": "2022-03-09T14:39:06.310Z"
   },
   {
    "duration": 6101,
    "start_time": "2022-03-09T14:39:24.661Z"
   },
   {
    "duration": 11,
    "start_time": "2022-03-09T14:40:34.491Z"
   },
   {
    "duration": 616,
    "start_time": "2022-03-12T09:15:17.025Z"
   },
   {
    "duration": 75,
    "start_time": "2022-03-12T09:15:17.643Z"
   },
   {
    "duration": 32,
    "start_time": "2022-03-12T09:15:17.720Z"
   },
   {
    "duration": 12,
    "start_time": "2022-03-12T09:15:17.754Z"
   },
   {
    "duration": 39,
    "start_time": "2022-03-12T09:15:17.768Z"
   },
   {
    "duration": 8,
    "start_time": "2022-03-12T09:15:17.810Z"
   },
   {
    "duration": 7,
    "start_time": "2022-03-12T09:15:17.819Z"
   },
   {
    "duration": 10,
    "start_time": "2022-03-12T09:15:17.827Z"
   },
   {
    "duration": 7,
    "start_time": "2022-03-12T09:15:17.840Z"
   },
   {
    "duration": 25,
    "start_time": "2022-03-12T09:15:17.849Z"
   },
   {
    "duration": 30,
    "start_time": "2022-03-12T09:15:17.876Z"
   },
   {
    "duration": 21,
    "start_time": "2022-03-12T09:15:17.908Z"
   },
   {
    "duration": 15,
    "start_time": "2022-03-12T09:15:17.931Z"
   },
   {
    "duration": 33,
    "start_time": "2022-03-12T09:15:17.948Z"
   },
   {
    "duration": 23,
    "start_time": "2022-03-12T09:15:17.983Z"
   },
   {
    "duration": 13,
    "start_time": "2022-03-12T09:15:18.008Z"
   },
   {
    "duration": 10,
    "start_time": "2022-03-12T09:15:18.023Z"
   },
   {
    "duration": 31,
    "start_time": "2022-03-12T09:15:18.035Z"
   },
   {
    "duration": 22,
    "start_time": "2022-03-12T09:15:18.068Z"
   },
   {
    "duration": 261,
    "start_time": "2022-03-12T09:15:18.093Z"
   },
   {
    "duration": 8,
    "start_time": "2022-03-12T09:15:18.356Z"
   },
   {
    "duration": 198,
    "start_time": "2022-03-12T09:15:18.365Z"
   },
   {
    "duration": 37,
    "start_time": "2022-03-12T09:15:18.565Z"
   },
   {
    "duration": 26,
    "start_time": "2022-03-12T09:15:18.604Z"
   },
   {
    "duration": 10,
    "start_time": "2022-03-12T09:15:18.632Z"
   },
   {
    "duration": 14,
    "start_time": "2022-03-12T09:15:18.643Z"
   },
   {
    "duration": 39,
    "start_time": "2022-03-12T09:15:18.662Z"
   },
   {
    "duration": 5,
    "start_time": "2022-03-12T09:15:18.703Z"
   },
   {
    "duration": 9,
    "start_time": "2022-03-12T09:15:18.709Z"
   },
   {
    "duration": 556,
    "start_time": "2022-03-12T09:15:18.719Z"
   },
   {
    "duration": 5,
    "start_time": "2022-03-12T09:15:19.276Z"
   },
   {
    "duration": 19,
    "start_time": "2022-03-12T09:15:19.283Z"
   },
   {
    "duration": 38,
    "start_time": "2022-03-12T09:15:19.304Z"
   },
   {
    "duration": 14,
    "start_time": "2022-03-12T09:15:19.343Z"
   },
   {
    "duration": 344,
    "start_time": "2022-03-12T09:15:19.359Z"
   },
   {
    "duration": 9,
    "start_time": "2022-03-12T09:15:19.704Z"
   },
   {
    "duration": 3395,
    "start_time": "2022-03-12T09:15:19.715Z"
   },
   {
    "duration": 8,
    "start_time": "2022-03-12T09:15:23.112Z"
   },
   {
    "duration": 332,
    "start_time": "2022-03-12T09:15:23.122Z"
   },
   {
    "duration": 8,
    "start_time": "2022-03-12T09:15:23.456Z"
   },
   {
    "duration": 290,
    "start_time": "2022-03-12T09:15:23.466Z"
   },
   {
    "duration": 355,
    "start_time": "2022-03-12T09:15:23.758Z"
   },
   {
    "duration": 10,
    "start_time": "2022-03-12T09:15:24.114Z"
   },
   {
    "duration": 5591,
    "start_time": "2022-03-12T09:15:24.125Z"
   },
   {
    "duration": 12,
    "start_time": "2022-03-12T09:15:29.718Z"
   },
   {
    "duration": 27,
    "start_time": "2022-03-12T09:15:29.732Z"
   },
   {
    "duration": 6505,
    "start_time": "2022-03-12T09:15:29.761Z"
   },
   {
    "duration": 12,
    "start_time": "2022-03-12T09:15:36.268Z"
   },
   {
    "duration": 15,
    "start_time": "2022-03-12T09:24:15.027Z"
   },
   {
    "duration": 15,
    "start_time": "2022-03-12T09:24:23.664Z"
   },
   {
    "duration": 14,
    "start_time": "2022-03-12T09:24:29.358Z"
   },
   {
    "duration": 17,
    "start_time": "2022-03-12T09:26:25.719Z"
   },
   {
    "duration": 15,
    "start_time": "2022-03-12T09:26:51.572Z"
   },
   {
    "duration": 16,
    "start_time": "2022-03-12T09:26:59.093Z"
   },
   {
    "duration": 14,
    "start_time": "2022-03-12T09:27:04.275Z"
   },
   {
    "duration": 12,
    "start_time": "2022-03-12T09:27:08.222Z"
   },
   {
    "duration": 204,
    "start_time": "2022-03-12T09:27:33.933Z"
   },
   {
    "duration": 272,
    "start_time": "2022-03-12T09:27:49.402Z"
   },
   {
    "duration": 167,
    "start_time": "2022-03-12T09:27:54.802Z"
   },
   {
    "duration": 189,
    "start_time": "2022-03-12T09:28:01.813Z"
   },
   {
    "duration": 18,
    "start_time": "2022-03-12T09:29:14.681Z"
   },
   {
    "duration": 5675,
    "start_time": "2022-03-12T09:29:24.840Z"
   },
   {
    "duration": 256,
    "start_time": "2022-03-12T09:29:45.137Z"
   },
   {
    "duration": 227,
    "start_time": "2022-03-12T09:29:50.279Z"
   },
   {
    "duration": 13,
    "start_time": "2022-03-12T09:30:17.163Z"
   },
   {
    "duration": 295,
    "start_time": "2022-03-12T09:30:33.440Z"
   },
   {
    "duration": 215,
    "start_time": "2022-03-12T09:43:50.833Z"
   },
   {
    "duration": 263,
    "start_time": "2022-03-12T09:47:45.119Z"
   },
   {
    "duration": 208,
    "start_time": "2022-03-12T09:50:52.009Z"
   },
   {
    "duration": 871,
    "start_time": "2022-03-12T09:51:08.511Z"
   },
   {
    "duration": 12,
    "start_time": "2022-03-12T09:55:23.053Z"
   },
   {
    "duration": 15,
    "start_time": "2022-03-12T09:55:38.680Z"
   },
   {
    "duration": 23,
    "start_time": "2022-03-12T09:56:16.309Z"
   },
   {
    "duration": 31,
    "start_time": "2022-03-12T09:56:30.541Z"
   },
   {
    "duration": 40,
    "start_time": "2022-03-12T09:59:05.687Z"
   },
   {
    "duration": 44,
    "start_time": "2022-03-12T10:02:26.949Z"
   },
   {
    "duration": 25,
    "start_time": "2022-03-12T10:04:02.531Z"
   },
   {
    "duration": 39,
    "start_time": "2022-03-12T10:04:36.128Z"
   },
   {
    "duration": 25,
    "start_time": "2022-03-12T10:04:47.988Z"
   },
   {
    "duration": 35,
    "start_time": "2022-03-12T10:06:11.550Z"
   },
   {
    "duration": 170,
    "start_time": "2022-03-12T10:06:59.950Z"
   },
   {
    "duration": 17,
    "start_time": "2022-03-12T10:07:17.460Z"
   },
   {
    "duration": 276,
    "start_time": "2022-03-12T10:07:46.655Z"
   },
   {
    "duration": 16,
    "start_time": "2022-03-12T10:07:57.659Z"
   },
   {
    "duration": 18,
    "start_time": "2022-03-12T10:08:12.491Z"
   },
   {
    "duration": 17,
    "start_time": "2022-03-12T10:08:33.389Z"
   },
   {
    "duration": 15,
    "start_time": "2022-03-12T10:08:44.279Z"
   },
   {
    "duration": 265,
    "start_time": "2022-03-12T10:09:56.276Z"
   },
   {
    "duration": 17,
    "start_time": "2022-03-12T10:10:06.966Z"
   },
   {
    "duration": 10,
    "start_time": "2022-03-12T10:10:17.684Z"
   },
   {
    "duration": 7,
    "start_time": "2022-03-12T10:15:44.129Z"
   },
   {
    "duration": 279,
    "start_time": "2022-03-12T10:16:16.942Z"
   },
   {
    "duration": 18,
    "start_time": "2022-03-12T10:16:26.582Z"
   },
   {
    "duration": 14,
    "start_time": "2022-03-12T10:17:12.854Z"
   },
   {
    "duration": 15,
    "start_time": "2022-03-12T10:17:36.544Z"
   },
   {
    "duration": 17,
    "start_time": "2022-03-12T10:19:10.307Z"
   },
   {
    "duration": 19,
    "start_time": "2022-03-12T10:19:21.156Z"
   },
   {
    "duration": 16,
    "start_time": "2022-03-12T10:19:28.427Z"
   },
   {
    "duration": 15,
    "start_time": "2022-03-12T10:19:56.926Z"
   },
   {
    "duration": 17,
    "start_time": "2022-03-12T10:20:03.168Z"
   },
   {
    "duration": 19,
    "start_time": "2022-03-12T10:20:15.338Z"
   },
   {
    "duration": 5960,
    "start_time": "2022-03-12T10:20:28.826Z"
   },
   {
    "duration": 15,
    "start_time": "2022-03-12T10:20:43.733Z"
   },
   {
    "duration": 262,
    "start_time": "2022-03-12T10:20:50.885Z"
   },
   {
    "duration": 13,
    "start_time": "2022-03-12T10:20:55.679Z"
   },
   {
    "duration": 17,
    "start_time": "2022-03-12T10:21:13.727Z"
   },
   {
    "duration": 4,
    "start_time": "2022-03-12T10:23:35.778Z"
   },
   {
    "duration": 5,
    "start_time": "2022-03-12T10:23:49.755Z"
   },
   {
    "duration": 4,
    "start_time": "2022-03-12T10:23:55.695Z"
   },
   {
    "duration": 17,
    "start_time": "2022-03-12T10:26:57.781Z"
   },
   {
    "duration": 3,
    "start_time": "2022-03-12T10:27:00.992Z"
   },
   {
    "duration": 228,
    "start_time": "2022-03-12T10:27:32.140Z"
   },
   {
    "duration": 16,
    "start_time": "2022-03-12T10:27:41.426Z"
   },
   {
    "duration": 38,
    "start_time": "2022-03-12T10:28:38.297Z"
   },
   {
    "duration": 379,
    "start_time": "2022-03-12T10:30:08.670Z"
   },
   {
    "duration": 82,
    "start_time": "2022-03-12T10:31:01.578Z"
   },
   {
    "duration": 242,
    "start_time": "2022-03-12T10:31:09.920Z"
   },
   {
    "duration": 31,
    "start_time": "2022-03-12T10:31:32.961Z"
   },
   {
    "duration": 234,
    "start_time": "2022-03-12T10:31:49.727Z"
   },
   {
    "duration": 28,
    "start_time": "2022-03-12T10:31:56.981Z"
   },
   {
    "duration": 24,
    "start_time": "2022-03-12T10:32:38.121Z"
   },
   {
    "duration": 29,
    "start_time": "2022-03-12T10:32:45.608Z"
   },
   {
    "duration": 22,
    "start_time": "2022-03-12T10:33:05.791Z"
   },
   {
    "duration": 27,
    "start_time": "2022-03-12T10:33:37.184Z"
   },
   {
    "duration": 228,
    "start_time": "2022-03-12T10:33:57.905Z"
   },
   {
    "duration": 31,
    "start_time": "2022-03-12T10:35:03.125Z"
   },
   {
    "duration": 26,
    "start_time": "2022-03-12T10:35:28.075Z"
   },
   {
    "duration": 5,
    "start_time": "2022-03-12T10:35:55.784Z"
   },
   {
    "duration": 248,
    "start_time": "2022-03-12T10:36:00.864Z"
   },
   {
    "duration": 231,
    "start_time": "2022-03-12T10:36:33.625Z"
   },
   {
    "duration": 23,
    "start_time": "2022-03-12T10:41:03.463Z"
   },
   {
    "duration": 5,
    "start_time": "2022-03-12T10:41:09.764Z"
   },
   {
    "duration": 23,
    "start_time": "2022-03-12T10:41:41.144Z"
   },
   {
    "duration": 16,
    "start_time": "2022-03-12T10:42:31.025Z"
   },
   {
    "duration": 23,
    "start_time": "2022-03-12T10:42:42.349Z"
   },
   {
    "duration": 11,
    "start_time": "2022-03-12T10:42:44.875Z"
   },
   {
    "duration": 12,
    "start_time": "2022-03-12T10:42:55.374Z"
   },
   {
    "duration": 11,
    "start_time": "2022-03-12T10:52:18.313Z"
   },
   {
    "duration": 40,
    "start_time": "2022-03-12T10:52:20.868Z"
   },
   {
    "duration": 24,
    "start_time": "2022-03-12T10:52:33.558Z"
   },
   {
    "duration": 12,
    "start_time": "2022-03-12T10:58:00.792Z"
   },
   {
    "duration": 5,
    "start_time": "2022-03-12T11:06:03.921Z"
   },
   {
    "duration": 18,
    "start_time": "2022-03-12T11:06:25.590Z"
   },
   {
    "duration": 67,
    "start_time": "2022-03-12T11:07:29.816Z"
   },
   {
    "duration": 251,
    "start_time": "2022-03-12T11:07:36.275Z"
   },
   {
    "duration": 4,
    "start_time": "2022-03-12T11:07:54.594Z"
   },
   {
    "duration": 314,
    "start_time": "2022-03-12T13:33:01.020Z"
   },
   {
    "duration": 653,
    "start_time": "2022-03-12T13:33:26.017Z"
   },
   {
    "duration": 84,
    "start_time": "2022-03-12T13:33:26.672Z"
   },
   {
    "duration": 39,
    "start_time": "2022-03-12T13:33:26.758Z"
   },
   {
    "duration": 14,
    "start_time": "2022-03-12T13:33:26.799Z"
   },
   {
    "duration": 10,
    "start_time": "2022-03-12T13:33:26.815Z"
   },
   {
    "duration": 7,
    "start_time": "2022-03-12T13:33:26.827Z"
   },
   {
    "duration": 43,
    "start_time": "2022-03-12T13:33:26.836Z"
   },
   {
    "duration": 4,
    "start_time": "2022-03-12T13:33:26.881Z"
   },
   {
    "duration": 8,
    "start_time": "2022-03-12T13:33:26.888Z"
   },
   {
    "duration": 23,
    "start_time": "2022-03-12T13:33:26.898Z"
   },
   {
    "duration": 6,
    "start_time": "2022-03-12T13:33:26.923Z"
   },
   {
    "duration": 15,
    "start_time": "2022-03-12T13:33:26.931Z"
   },
   {
    "duration": 31,
    "start_time": "2022-03-12T13:33:26.948Z"
   },
   {
    "duration": 6,
    "start_time": "2022-03-12T13:33:26.981Z"
   },
   {
    "duration": 8,
    "start_time": "2022-03-12T13:33:26.989Z"
   },
   {
    "duration": 5,
    "start_time": "2022-03-12T13:33:26.998Z"
   },
   {
    "duration": 5,
    "start_time": "2022-03-12T13:33:27.005Z"
   },
   {
    "duration": 10,
    "start_time": "2022-03-12T13:33:27.011Z"
   },
   {
    "duration": 12,
    "start_time": "2022-03-12T13:33:27.023Z"
   },
   {
    "duration": 291,
    "start_time": "2022-03-12T13:33:27.037Z"
   },
   {
    "duration": 7,
    "start_time": "2022-03-12T13:33:27.330Z"
   },
   {
    "duration": 221,
    "start_time": "2022-03-12T13:33:27.338Z"
   },
   {
    "duration": 37,
    "start_time": "2022-03-12T13:33:27.561Z"
   },
   {
    "duration": 22,
    "start_time": "2022-03-12T13:33:27.600Z"
   },
   {
    "duration": 11,
    "start_time": "2022-03-12T13:33:27.624Z"
   },
   {
    "duration": 9,
    "start_time": "2022-03-12T13:33:27.637Z"
   },
   {
    "duration": 14,
    "start_time": "2022-03-12T13:33:27.678Z"
   },
   {
    "duration": 5,
    "start_time": "2022-03-12T13:33:27.694Z"
   },
   {
    "duration": 5,
    "start_time": "2022-03-12T13:33:27.700Z"
   },
   {
    "duration": 619,
    "start_time": "2022-03-12T13:33:27.707Z"
   },
   {
    "duration": 5,
    "start_time": "2022-03-12T13:33:28.327Z"
   },
   {
    "duration": 17,
    "start_time": "2022-03-12T13:33:28.334Z"
   },
   {
    "duration": 38,
    "start_time": "2022-03-12T13:33:28.353Z"
   },
   {
    "duration": 9,
    "start_time": "2022-03-12T13:33:28.393Z"
   },
   {
    "duration": 403,
    "start_time": "2022-03-12T13:33:28.404Z"
   },
   {
    "duration": 9,
    "start_time": "2022-03-12T13:33:28.809Z"
   },
   {
    "duration": 3945,
    "start_time": "2022-03-12T13:33:28.820Z"
   },
   {
    "duration": 16,
    "start_time": "2022-03-12T13:33:32.767Z"
   },
   {
    "duration": 258,
    "start_time": "2022-03-12T13:33:32.785Z"
   },
   {
    "duration": 11,
    "start_time": "2022-03-12T13:33:33.046Z"
   },
   {
    "duration": 496,
    "start_time": "2022-03-12T13:33:33.059Z"
   },
   {
    "duration": 415,
    "start_time": "2022-03-12T13:33:33.558Z"
   },
   {
    "duration": 10,
    "start_time": "2022-03-12T13:33:33.977Z"
   },
   {
    "duration": 5866,
    "start_time": "2022-03-12T13:33:33.988Z"
   },
   {
    "duration": 23,
    "start_time": "2022-03-12T13:33:39.855Z"
   },
   {
    "duration": 6886,
    "start_time": "2022-03-12T13:33:39.880Z"
   },
   {
    "duration": 16,
    "start_time": "2022-03-12T13:33:46.768Z"
   },
   {
    "duration": 41,
    "start_time": "2022-03-12T13:33:46.786Z"
   },
   {
    "duration": 20,
    "start_time": "2022-03-12T13:33:46.829Z"
   },
   {
    "duration": 33,
    "start_time": "2022-03-12T13:33:46.851Z"
   },
   {
    "duration": 40,
    "start_time": "2022-03-12T13:33:46.886Z"
   },
   {
    "duration": 701,
    "start_time": "2022-03-12T13:33:46.927Z"
   },
   {
    "duration": 285,
    "start_time": "2022-03-12T13:33:47.630Z"
   },
   {
    "duration": -2913,
    "start_time": "2022-03-12T13:33:50.830Z"
   },
   {
    "duration": -2920,
    "start_time": "2022-03-12T13:33:50.838Z"
   },
   {
    "duration": 5,
    "start_time": "2022-03-12T13:45:25.107Z"
   },
   {
    "duration": 15,
    "start_time": "2022-03-12T13:45:29.313Z"
   },
   {
    "duration": 5,
    "start_time": "2022-03-12T13:46:29.454Z"
   },
   {
    "duration": 6505,
    "start_time": "2022-03-12T13:46:53.870Z"
   },
   {
    "duration": 9,
    "start_time": "2022-03-12T13:47:10.991Z"
   },
   {
    "duration": 26,
    "start_time": "2022-03-12T13:47:13.231Z"
   },
   {
    "duration": 4,
    "start_time": "2022-03-12T13:47:19.847Z"
   },
   {
    "duration": 5,
    "start_time": "2022-03-12T13:47:23.661Z"
   },
   {
    "duration": 273,
    "start_time": "2022-03-12T13:47:46.411Z"
   },
   {
    "duration": 261,
    "start_time": "2022-03-12T13:48:21.371Z"
   },
   {
    "duration": 12,
    "start_time": "2022-03-12T14:05:23.517Z"
   },
   {
    "duration": 5,
    "start_time": "2022-03-12T14:07:28.849Z"
   },
   {
    "duration": 11,
    "start_time": "2022-03-12T14:07:34.238Z"
   },
   {
    "duration": 3,
    "start_time": "2022-03-12T14:07:49.159Z"
   },
   {
    "duration": 88,
    "start_time": "2022-03-12T14:07:49.164Z"
   },
   {
    "duration": 28,
    "start_time": "2022-03-12T14:07:49.254Z"
   },
   {
    "duration": 13,
    "start_time": "2022-03-12T14:07:49.284Z"
   },
   {
    "duration": 11,
    "start_time": "2022-03-12T14:07:49.299Z"
   },
   {
    "duration": 6,
    "start_time": "2022-03-12T14:07:49.312Z"
   },
   {
    "duration": 7,
    "start_time": "2022-03-12T14:07:49.320Z"
   },
   {
    "duration": 9,
    "start_time": "2022-03-12T14:07:49.330Z"
   },
   {
    "duration": 38,
    "start_time": "2022-03-12T14:07:49.342Z"
   },
   {
    "duration": 27,
    "start_time": "2022-03-12T14:07:49.382Z"
   },
   {
    "duration": 5,
    "start_time": "2022-03-12T14:07:49.411Z"
   },
   {
    "duration": 21,
    "start_time": "2022-03-12T14:07:49.418Z"
   },
   {
    "duration": 38,
    "start_time": "2022-03-12T14:07:49.442Z"
   },
   {
    "duration": 7,
    "start_time": "2022-03-12T14:07:49.481Z"
   },
   {
    "duration": 6,
    "start_time": "2022-03-12T14:07:49.490Z"
   },
   {
    "duration": 7,
    "start_time": "2022-03-12T14:07:49.498Z"
   },
   {
    "duration": 15,
    "start_time": "2022-03-12T14:07:49.506Z"
   },
   {
    "duration": 11,
    "start_time": "2022-03-12T14:07:49.523Z"
   },
   {
    "duration": 12,
    "start_time": "2022-03-12T14:07:49.536Z"
   },
   {
    "duration": 229,
    "start_time": "2022-03-12T14:07:49.550Z"
   },
   {
    "duration": 6,
    "start_time": "2022-03-12T14:07:49.781Z"
   },
   {
    "duration": 215,
    "start_time": "2022-03-12T14:08:07.550Z"
   },
   {
    "duration": 13,
    "start_time": "2022-03-12T14:08:15.188Z"
   },
   {
    "duration": 4,
    "start_time": "2022-03-12T14:09:07.186Z"
   },
   {
    "duration": 9,
    "start_time": "2022-03-12T14:09:13.516Z"
   },
   {
    "duration": 26,
    "start_time": "2022-03-12T14:09:32.524Z"
   },
   {
    "duration": 262,
    "start_time": "2022-03-12T14:10:06.358Z"
   },
   {
    "duration": 686,
    "start_time": "2022-03-12T14:10:50.280Z"
   },
   {
    "duration": 87,
    "start_time": "2022-03-12T14:10:50.968Z"
   },
   {
    "duration": 31,
    "start_time": "2022-03-12T14:10:51.058Z"
   },
   {
    "duration": 30,
    "start_time": "2022-03-12T14:10:51.091Z"
   },
   {
    "duration": 12,
    "start_time": "2022-03-12T14:10:51.123Z"
   },
   {
    "duration": 11,
    "start_time": "2022-03-12T14:10:51.137Z"
   },
   {
    "duration": 19,
    "start_time": "2022-03-12T14:10:51.150Z"
   },
   {
    "duration": 13,
    "start_time": "2022-03-12T14:10:51.176Z"
   },
   {
    "duration": 5,
    "start_time": "2022-03-12T14:10:51.192Z"
   },
   {
    "duration": 32,
    "start_time": "2022-03-12T14:10:51.200Z"
   },
   {
    "duration": 5,
    "start_time": "2022-03-12T14:10:51.234Z"
   },
   {
    "duration": 39,
    "start_time": "2022-03-12T14:10:51.241Z"
   },
   {
    "duration": 6,
    "start_time": "2022-03-12T14:10:51.282Z"
   },
   {
    "duration": 8,
    "start_time": "2022-03-12T14:10:51.289Z"
   },
   {
    "duration": 11,
    "start_time": "2022-03-12T14:10:51.299Z"
   },
   {
    "duration": 11,
    "start_time": "2022-03-12T14:10:51.312Z"
   },
   {
    "duration": 9,
    "start_time": "2022-03-12T14:10:51.325Z"
   },
   {
    "duration": 13,
    "start_time": "2022-03-12T14:10:51.336Z"
   },
   {
    "duration": 33,
    "start_time": "2022-03-12T14:10:51.351Z"
   },
   {
    "duration": 299,
    "start_time": "2022-03-12T14:10:51.386Z"
   },
   {
    "duration": 7,
    "start_time": "2022-03-12T14:10:51.687Z"
   },
   {
    "duration": 238,
    "start_time": "2022-03-12T14:10:51.696Z"
   },
   {
    "duration": 45,
    "start_time": "2022-03-12T14:10:51.936Z"
   },
   {
    "duration": 12,
    "start_time": "2022-03-12T14:10:51.983Z"
   },
   {
    "duration": 4,
    "start_time": "2022-03-12T14:10:51.997Z"
   },
   {
    "duration": 13,
    "start_time": "2022-03-12T14:10:52.003Z"
   },
   {
    "duration": 58,
    "start_time": "2022-03-12T14:10:52.020Z"
   },
   {
    "duration": 22,
    "start_time": "2022-03-12T14:10:52.080Z"
   },
   {
    "duration": 12,
    "start_time": "2022-03-12T14:10:52.103Z"
   },
   {
    "duration": 10,
    "start_time": "2022-03-12T14:10:52.117Z"
   },
   {
    "duration": 14,
    "start_time": "2022-03-12T14:10:52.129Z"
   },
   {
    "duration": 5,
    "start_time": "2022-03-12T14:10:52.177Z"
   },
   {
    "duration": 7,
    "start_time": "2022-03-12T14:10:52.184Z"
   },
   {
    "duration": 603,
    "start_time": "2022-03-12T14:10:52.193Z"
   },
   {
    "duration": 5,
    "start_time": "2022-03-12T14:10:52.798Z"
   },
   {
    "duration": 7,
    "start_time": "2022-03-12T14:10:52.805Z"
   },
   {
    "duration": 29,
    "start_time": "2022-03-12T14:10:52.814Z"
   },
   {
    "duration": 34,
    "start_time": "2022-03-12T14:10:52.844Z"
   },
   {
    "duration": 430,
    "start_time": "2022-03-12T14:10:52.880Z"
   },
   {
    "duration": 9,
    "start_time": "2022-03-12T14:10:53.312Z"
   },
   {
    "duration": 4075,
    "start_time": "2022-03-12T14:10:53.323Z"
   },
   {
    "duration": 9,
    "start_time": "2022-03-12T14:10:57.399Z"
   },
   {
    "duration": 399,
    "start_time": "2022-03-12T14:10:57.410Z"
   },
   {
    "duration": 10,
    "start_time": "2022-03-12T14:10:57.811Z"
   },
   {
    "duration": 360,
    "start_time": "2022-03-12T14:10:57.823Z"
   },
   {
    "duration": 434,
    "start_time": "2022-03-12T14:10:58.185Z"
   },
   {
    "duration": 10,
    "start_time": "2022-03-12T14:10:58.621Z"
   },
   {
    "duration": 6503,
    "start_time": "2022-03-12T14:10:58.633Z"
   },
   {
    "duration": 13,
    "start_time": "2022-03-12T14:11:05.138Z"
   },
   {
    "duration": 6537,
    "start_time": "2022-03-12T14:11:05.153Z"
   },
   {
    "duration": 15,
    "start_time": "2022-03-12T14:11:11.692Z"
   },
   {
    "duration": 24,
    "start_time": "2022-03-12T14:11:11.710Z"
   },
   {
    "duration": 40,
    "start_time": "2022-03-12T14:11:11.737Z"
   },
   {
    "duration": 12,
    "start_time": "2022-03-12T14:11:11.780Z"
   },
   {
    "duration": 30,
    "start_time": "2022-03-12T14:11:11.794Z"
   },
   {
    "duration": 402,
    "start_time": "2022-03-12T14:11:11.826Z"
   },
   {
    "duration": -2196,
    "start_time": "2022-03-12T14:11:14.426Z"
   },
   {
    "duration": 7,
    "start_time": "2022-03-12T14:14:08.465Z"
   },
   {
    "duration": 14,
    "start_time": "2022-03-12T14:14:12.685Z"
   },
   {
    "duration": 26,
    "start_time": "2022-03-12T14:14:39.368Z"
   },
   {
    "duration": 10,
    "start_time": "2022-03-12T14:14:58.130Z"
   },
   {
    "duration": 398,
    "start_time": "2022-03-12T14:15:17.419Z"
   },
   {
    "duration": 314,
    "start_time": "2022-03-12T14:15:42.229Z"
   },
   {
    "duration": 263,
    "start_time": "2022-03-12T14:19:14.940Z"
   },
   {
    "duration": 266,
    "start_time": "2022-03-12T14:19:29.486Z"
   },
   {
    "duration": 10,
    "start_time": "2022-03-12T14:19:40.837Z"
   },
   {
    "duration": 686,
    "start_time": "2022-03-12T14:20:39.566Z"
   },
   {
    "duration": 77,
    "start_time": "2022-03-12T14:20:40.254Z"
   },
   {
    "duration": 34,
    "start_time": "2022-03-12T14:20:40.334Z"
   },
   {
    "duration": 26,
    "start_time": "2022-03-12T14:20:40.369Z"
   },
   {
    "duration": 22,
    "start_time": "2022-03-12T14:20:40.397Z"
   },
   {
    "duration": 29,
    "start_time": "2022-03-12T14:20:40.422Z"
   },
   {
    "duration": 9,
    "start_time": "2022-03-12T14:20:40.453Z"
   },
   {
    "duration": 6,
    "start_time": "2022-03-12T14:20:40.466Z"
   },
   {
    "duration": 7,
    "start_time": "2022-03-12T14:20:40.474Z"
   },
   {
    "duration": 25,
    "start_time": "2022-03-12T14:20:40.482Z"
   },
   {
    "duration": 5,
    "start_time": "2022-03-12T14:20:40.509Z"
   },
   {
    "duration": 19,
    "start_time": "2022-03-12T14:20:40.516Z"
   },
   {
    "duration": 11,
    "start_time": "2022-03-12T14:20:40.537Z"
   },
   {
    "duration": 6,
    "start_time": "2022-03-12T14:20:40.577Z"
   },
   {
    "duration": 9,
    "start_time": "2022-03-12T14:20:40.586Z"
   },
   {
    "duration": 6,
    "start_time": "2022-03-12T14:20:40.597Z"
   },
   {
    "duration": 5,
    "start_time": "2022-03-12T14:20:40.605Z"
   },
   {
    "duration": 11,
    "start_time": "2022-03-12T14:20:40.612Z"
   },
   {
    "duration": 15,
    "start_time": "2022-03-12T14:20:40.625Z"
   },
   {
    "duration": 327,
    "start_time": "2022-03-12T14:20:40.642Z"
   },
   {
    "duration": 8,
    "start_time": "2022-03-12T14:20:40.976Z"
   },
   {
    "duration": 263,
    "start_time": "2022-03-12T14:20:40.986Z"
   },
   {
    "duration": 65,
    "start_time": "2022-03-12T14:20:41.254Z"
   },
   {
    "duration": 38,
    "start_time": "2022-03-12T14:20:42.115Z"
   },
   {
    "duration": 21,
    "start_time": "2022-03-12T14:20:42.155Z"
   },
   {
    "duration": 11,
    "start_time": "2022-03-12T14:20:42.178Z"
   },
   {
    "duration": 11,
    "start_time": "2022-03-12T14:20:42.191Z"
   },
   {
    "duration": 14,
    "start_time": "2022-03-12T14:20:42.204Z"
   },
   {
    "duration": 4,
    "start_time": "2022-03-12T14:20:42.220Z"
   },
   {
    "duration": 12,
    "start_time": "2022-03-12T14:20:42.226Z"
   },
   {
    "duration": 656,
    "start_time": "2022-03-12T14:20:42.240Z"
   },
   {
    "duration": 4,
    "start_time": "2022-03-12T14:20:42.898Z"
   },
   {
    "duration": 9,
    "start_time": "2022-03-12T14:20:42.904Z"
   },
   {
    "duration": 28,
    "start_time": "2022-03-12T14:20:42.914Z"
   },
   {
    "duration": 9,
    "start_time": "2022-03-12T14:20:42.945Z"
   },
   {
    "duration": 443,
    "start_time": "2022-03-12T14:20:42.956Z"
   },
   {
    "duration": 9,
    "start_time": "2022-03-12T14:20:43.400Z"
   },
   {
    "duration": 4021,
    "start_time": "2022-03-12T14:20:43.411Z"
   },
   {
    "duration": 8,
    "start_time": "2022-03-12T14:20:47.434Z"
   },
   {
    "duration": 398,
    "start_time": "2022-03-12T14:20:47.444Z"
   },
   {
    "duration": 10,
    "start_time": "2022-03-12T14:20:47.844Z"
   },
   {
    "duration": 319,
    "start_time": "2022-03-12T14:20:47.855Z"
   },
   {
    "duration": 415,
    "start_time": "2022-03-12T14:20:48.177Z"
   },
   {
    "duration": 9,
    "start_time": "2022-03-12T14:20:48.594Z"
   },
   {
    "duration": 5821,
    "start_time": "2022-03-12T14:20:48.605Z"
   },
   {
    "duration": 13,
    "start_time": "2022-03-12T14:20:54.428Z"
   },
   {
    "duration": 6171,
    "start_time": "2022-03-12T14:20:54.442Z"
   },
   {
    "duration": 12,
    "start_time": "2022-03-12T14:21:00.617Z"
   },
   {
    "duration": 24,
    "start_time": "2022-03-12T14:21:00.631Z"
   },
   {
    "duration": 28,
    "start_time": "2022-03-12T14:21:00.656Z"
   },
   {
    "duration": 13,
    "start_time": "2022-03-12T14:21:00.686Z"
   },
   {
    "duration": 28,
    "start_time": "2022-03-12T14:21:00.701Z"
   },
   {
    "duration": 11,
    "start_time": "2022-03-12T14:21:48.315Z"
   },
   {
    "duration": 12,
    "start_time": "2022-03-12T14:22:33.883Z"
   },
   {
    "duration": 65,
    "start_time": "2022-03-12T14:24:18.313Z"
   },
   {
    "duration": 6,
    "start_time": "2022-03-12T14:27:57.221Z"
   },
   {
    "duration": 122,
    "start_time": "2022-03-12T14:28:31.440Z"
   },
   {
    "duration": 125,
    "start_time": "2022-03-12T14:28:44.332Z"
   },
   {
    "duration": 7,
    "start_time": "2022-03-12T14:30:34.167Z"
   },
   {
    "duration": 8,
    "start_time": "2022-03-12T14:32:03.909Z"
   },
   {
    "duration": 26,
    "start_time": "2022-03-12T14:32:24.981Z"
   },
   {
    "duration": 3,
    "start_time": "2022-03-12T14:32:33.748Z"
   },
   {
    "duration": 93,
    "start_time": "2022-03-12T14:32:33.753Z"
   },
   {
    "duration": 30,
    "start_time": "2022-03-12T14:32:33.848Z"
   },
   {
    "duration": 27,
    "start_time": "2022-03-12T14:32:33.880Z"
   },
   {
    "duration": 22,
    "start_time": "2022-03-12T14:32:33.908Z"
   },
   {
    "duration": 15,
    "start_time": "2022-03-12T14:32:33.932Z"
   },
   {
    "duration": 11,
    "start_time": "2022-03-12T14:32:33.949Z"
   },
   {
    "duration": 12,
    "start_time": "2022-03-12T14:32:33.962Z"
   },
   {
    "duration": 20,
    "start_time": "2022-03-12T14:32:33.977Z"
   },
   {
    "duration": 41,
    "start_time": "2022-03-12T14:32:33.999Z"
   },
   {
    "duration": 30,
    "start_time": "2022-03-12T14:32:34.042Z"
   },
   {
    "duration": 29,
    "start_time": "2022-03-12T14:32:34.074Z"
   },
   {
    "duration": 24,
    "start_time": "2022-03-12T14:32:34.105Z"
   },
   {
    "duration": 30,
    "start_time": "2022-03-12T14:32:34.131Z"
   },
   {
    "duration": 22,
    "start_time": "2022-03-12T14:32:34.162Z"
   },
   {
    "duration": 30,
    "start_time": "2022-03-12T14:32:34.186Z"
   },
   {
    "duration": 39,
    "start_time": "2022-03-12T14:32:34.218Z"
   },
   {
    "duration": 16,
    "start_time": "2022-03-12T14:32:34.259Z"
   },
   {
    "duration": 33,
    "start_time": "2022-03-12T14:32:34.277Z"
   },
   {
    "duration": 210,
    "start_time": "2022-03-12T14:32:34.312Z"
   },
   {
    "duration": 7,
    "start_time": "2022-03-12T14:32:34.524Z"
   },
   {
    "duration": 228,
    "start_time": "2022-03-12T14:32:34.532Z"
   },
   {
    "duration": 43,
    "start_time": "2022-03-12T14:32:34.762Z"
   },
   {
    "duration": 28,
    "start_time": "2022-03-12T14:32:34.806Z"
   },
   {
    "duration": 21,
    "start_time": "2022-03-12T14:32:34.835Z"
   },
   {
    "duration": 27,
    "start_time": "2022-03-12T14:32:34.858Z"
   },
   {
    "duration": 10,
    "start_time": "2022-03-12T14:32:34.889Z"
   },
   {
    "duration": 14,
    "start_time": "2022-03-12T14:32:34.901Z"
   },
   {
    "duration": 5,
    "start_time": "2022-03-12T14:32:34.917Z"
   },
   {
    "duration": 25,
    "start_time": "2022-03-12T14:32:34.923Z"
   },
   {
    "duration": 532,
    "start_time": "2022-03-12T14:32:34.950Z"
   },
   {
    "duration": 6,
    "start_time": "2022-03-12T14:32:35.484Z"
   },
   {
    "duration": 18,
    "start_time": "2022-03-12T14:32:35.492Z"
   },
   {
    "duration": 37,
    "start_time": "2022-03-12T14:32:35.512Z"
   },
   {
    "duration": 24,
    "start_time": "2022-03-12T14:32:35.551Z"
   },
   {
    "duration": 565,
    "start_time": "2022-03-12T14:32:35.577Z"
   },
   {
    "duration": 10,
    "start_time": "2022-03-12T14:32:36.144Z"
   },
   {
    "duration": 4070,
    "start_time": "2022-03-12T14:32:36.155Z"
   },
   {
    "duration": 10,
    "start_time": "2022-03-12T14:32:40.227Z"
   },
   {
    "duration": 268,
    "start_time": "2022-03-12T14:32:40.239Z"
   },
   {
    "duration": 12,
    "start_time": "2022-03-12T14:32:40.509Z"
   },
   {
    "duration": 345,
    "start_time": "2022-03-12T14:32:40.523Z"
   },
   {
    "duration": 644,
    "start_time": "2022-03-12T14:32:40.870Z"
   },
   {
    "duration": 9,
    "start_time": "2022-03-12T14:32:41.516Z"
   },
   {
    "duration": 5901,
    "start_time": "2022-03-12T14:32:41.527Z"
   },
   {
    "duration": 21,
    "start_time": "2022-03-12T14:32:47.429Z"
   },
   {
    "duration": 6527,
    "start_time": "2022-03-12T14:32:47.453Z"
   },
   {
    "duration": 13,
    "start_time": "2022-03-12T14:32:53.981Z"
   },
   {
    "duration": 24,
    "start_time": "2022-03-12T14:32:53.996Z"
   },
   {
    "duration": 11,
    "start_time": "2022-03-12T14:32:54.022Z"
   },
   {
    "duration": 10,
    "start_time": "2022-03-12T14:32:59.470Z"
   },
   {
    "duration": 25,
    "start_time": "2022-03-12T14:33:01.607Z"
   },
   {
    "duration": 6,
    "start_time": "2022-03-12T14:33:14.568Z"
   },
   {
    "duration": 10,
    "start_time": "2022-03-12T14:34:39.574Z"
   },
   {
    "duration": 8,
    "start_time": "2022-03-12T14:34:41.720Z"
   },
   {
    "duration": 5,
    "start_time": "2022-03-12T14:34:48.785Z"
   },
   {
    "duration": 5,
    "start_time": "2022-03-12T14:34:55.963Z"
   },
   {
    "duration": 25,
    "start_time": "2022-03-12T14:35:00.140Z"
   },
   {
    "duration": 9,
    "start_time": "2022-03-12T14:35:17.538Z"
   },
   {
    "duration": 25,
    "start_time": "2022-03-12T14:35:19.336Z"
   },
   {
    "duration": 4,
    "start_time": "2022-03-12T14:35:26.542Z"
   },
   {
    "duration": 25,
    "start_time": "2022-03-12T14:35:29.176Z"
   },
   {
    "duration": 6,
    "start_time": "2022-03-12T14:35:43.037Z"
   },
   {
    "duration": 26,
    "start_time": "2022-03-12T14:35:47.504Z"
   },
   {
    "duration": 736,
    "start_time": "2022-03-12T14:36:00.126Z"
   },
   {
    "duration": 30,
    "start_time": "2022-03-12T14:36:29.406Z"
   },
   {
    "duration": 6,
    "start_time": "2022-03-12T14:36:47.453Z"
   },
   {
    "duration": 7,
    "start_time": "2022-03-12T14:36:57.825Z"
   },
   {
    "duration": 8,
    "start_time": "2022-03-12T14:37:12.844Z"
   },
   {
    "duration": 6,
    "start_time": "2022-03-12T14:37:22.686Z"
   },
   {
    "duration": 6,
    "start_time": "2022-03-12T14:37:32.174Z"
   },
   {
    "duration": 44,
    "start_time": "2022-03-12T14:38:02.156Z"
   },
   {
    "duration": 11,
    "start_time": "2022-03-12T14:38:35.384Z"
   },
   {
    "duration": 10,
    "start_time": "2022-03-12T14:38:52.721Z"
   },
   {
    "duration": 26,
    "start_time": "2022-03-12T14:38:54.787Z"
   },
   {
    "duration": 255,
    "start_time": "2022-03-12T14:44:18.133Z"
   },
   {
    "duration": 262,
    "start_time": "2022-03-12T14:44:40.862Z"
   },
   {
    "duration": 8,
    "start_time": "2022-03-12T14:45:20.153Z"
   },
   {
    "duration": 262,
    "start_time": "2022-03-12T14:45:48.631Z"
   },
   {
    "duration": 8,
    "start_time": "2022-03-12T14:45:54.276Z"
   },
   {
    "duration": 25,
    "start_time": "2022-03-12T14:45:56.132Z"
   },
   {
    "duration": 8,
    "start_time": "2022-03-12T14:46:06.843Z"
   },
   {
    "duration": 25,
    "start_time": "2022-03-12T14:46:58.263Z"
   },
   {
    "duration": 5,
    "start_time": "2022-03-12T14:48:00.632Z"
   },
   {
    "duration": 25,
    "start_time": "2022-03-12T14:49:21.411Z"
   },
   {
    "duration": 400,
    "start_time": "2022-03-12T14:49:36.845Z"
   },
   {
    "duration": 9,
    "start_time": "2022-03-12T14:58:46.907Z"
   },
   {
    "duration": 276,
    "start_time": "2022-03-12T14:59:16.817Z"
   },
   {
    "duration": 4,
    "start_time": "2022-03-12T14:59:54.186Z"
   },
   {
    "duration": 16,
    "start_time": "2022-03-12T14:59:56.396Z"
   },
   {
    "duration": 300,
    "start_time": "2022-03-12T15:00:31.316Z"
   },
   {
    "duration": 262,
    "start_time": "2022-03-12T15:00:37.327Z"
   },
   {
    "duration": 10,
    "start_time": "2022-03-12T15:01:07.216Z"
   },
   {
    "duration": 40,
    "start_time": "2022-03-12T15:01:09.165Z"
   },
   {
    "duration": 9,
    "start_time": "2022-03-12T15:01:11.863Z"
   },
   {
    "duration": 5,
    "start_time": "2022-03-12T15:01:14.733Z"
   },
   {
    "duration": 279,
    "start_time": "2022-03-12T15:01:18.193Z"
   },
   {
    "duration": 250,
    "start_time": "2022-03-12T15:01:41.489Z"
   },
   {
    "duration": 6,
    "start_time": "2022-03-12T15:02:09.480Z"
   },
   {
    "duration": 5,
    "start_time": "2022-03-12T15:02:39.814Z"
   },
   {
    "duration": 26,
    "start_time": "2022-03-12T15:02:50.136Z"
   },
   {
    "duration": 8,
    "start_time": "2022-03-12T15:03:14.175Z"
   },
   {
    "duration": 5,
    "start_time": "2022-03-12T15:04:09.174Z"
   },
   {
    "duration": 7,
    "start_time": "2022-03-12T15:04:17.164Z"
   },
   {
    "duration": 11,
    "start_time": "2022-03-12T15:04:20.896Z"
   },
   {
    "duration": 513,
    "start_time": "2022-03-12T15:05:01.911Z"
   },
   {
    "duration": 3306,
    "start_time": "2022-03-12T15:06:54.637Z"
   },
   {
    "duration": 6,
    "start_time": "2022-03-12T15:08:11.781Z"
   },
   {
    "duration": 610,
    "start_time": "2022-03-12T15:09:25.331Z"
   },
   {
    "duration": 88,
    "start_time": "2022-03-12T15:09:25.946Z"
   },
   {
    "duration": 30,
    "start_time": "2022-03-12T15:09:26.037Z"
   },
   {
    "duration": 31,
    "start_time": "2022-03-12T15:09:26.069Z"
   },
   {
    "duration": 13,
    "start_time": "2022-03-12T15:09:26.102Z"
   },
   {
    "duration": 27,
    "start_time": "2022-03-12T15:09:26.117Z"
   },
   {
    "duration": 7,
    "start_time": "2022-03-12T15:09:26.146Z"
   },
   {
    "duration": 25,
    "start_time": "2022-03-12T15:09:26.156Z"
   },
   {
    "duration": 24,
    "start_time": "2022-03-12T15:09:26.184Z"
   },
   {
    "duration": 53,
    "start_time": "2022-03-12T15:09:26.210Z"
   },
   {
    "duration": 10,
    "start_time": "2022-03-12T15:09:26.265Z"
   },
   {
    "duration": 16,
    "start_time": "2022-03-12T15:09:26.277Z"
   },
   {
    "duration": 19,
    "start_time": "2022-03-12T15:09:26.296Z"
   },
   {
    "duration": 10,
    "start_time": "2022-03-12T15:09:26.317Z"
   },
   {
    "duration": 5,
    "start_time": "2022-03-12T15:09:26.329Z"
   },
   {
    "duration": 9,
    "start_time": "2022-03-12T15:09:26.336Z"
   },
   {
    "duration": 7,
    "start_time": "2022-03-12T15:09:26.347Z"
   },
   {
    "duration": 21,
    "start_time": "2022-03-12T15:09:26.357Z"
   },
   {
    "duration": 14,
    "start_time": "2022-03-12T15:09:26.382Z"
   },
   {
    "duration": 300,
    "start_time": "2022-03-12T15:09:26.398Z"
   },
   {
    "duration": 7,
    "start_time": "2022-03-12T15:09:26.701Z"
   },
   {
    "duration": 228,
    "start_time": "2022-03-12T15:09:26.710Z"
   },
   {
    "duration": 46,
    "start_time": "2022-03-12T15:09:26.940Z"
   },
   {
    "duration": 29,
    "start_time": "2022-03-12T15:09:26.988Z"
   },
   {
    "duration": 22,
    "start_time": "2022-03-12T15:09:27.019Z"
   },
   {
    "duration": 36,
    "start_time": "2022-03-12T15:09:27.045Z"
   },
   {
    "duration": 10,
    "start_time": "2022-03-12T15:09:27.083Z"
   },
   {
    "duration": 14,
    "start_time": "2022-03-12T15:09:27.095Z"
   },
   {
    "duration": 4,
    "start_time": "2022-03-12T15:09:27.111Z"
   },
   {
    "duration": 5,
    "start_time": "2022-03-12T15:09:27.117Z"
   },
   {
    "duration": 607,
    "start_time": "2022-03-12T15:09:27.124Z"
   },
   {
    "duration": 5,
    "start_time": "2022-03-12T15:09:27.733Z"
   },
   {
    "duration": 7,
    "start_time": "2022-03-12T15:09:27.740Z"
   },
   {
    "duration": 38,
    "start_time": "2022-03-12T15:09:27.749Z"
   },
   {
    "duration": 9,
    "start_time": "2022-03-12T15:09:27.789Z"
   },
   {
    "duration": 444,
    "start_time": "2022-03-12T15:09:27.800Z"
   },
   {
    "duration": 10,
    "start_time": "2022-03-12T15:09:28.246Z"
   },
   {
    "duration": 4215,
    "start_time": "2022-03-12T15:09:28.258Z"
   },
   {
    "duration": 12,
    "start_time": "2022-03-12T15:09:32.478Z"
   },
   {
    "duration": 401,
    "start_time": "2022-03-12T15:09:32.492Z"
   },
   {
    "duration": 11,
    "start_time": "2022-03-12T15:09:32.895Z"
   },
   {
    "duration": 349,
    "start_time": "2022-03-12T15:09:32.908Z"
   },
   {
    "duration": 433,
    "start_time": "2022-03-12T15:09:33.258Z"
   },
   {
    "duration": 10,
    "start_time": "2022-03-12T15:09:33.693Z"
   },
   {
    "duration": 5882,
    "start_time": "2022-03-12T15:09:33.704Z"
   },
   {
    "duration": 13,
    "start_time": "2022-03-12T15:09:39.587Z"
   },
   {
    "duration": 6758,
    "start_time": "2022-03-12T15:09:39.602Z"
   },
   {
    "duration": 21,
    "start_time": "2022-03-12T15:09:46.362Z"
   },
   {
    "duration": 23,
    "start_time": "2022-03-12T15:09:46.385Z"
   },
   {
    "duration": 12,
    "start_time": "2022-03-12T15:10:47.981Z"
   },
   {
    "duration": 11,
    "start_time": "2022-03-12T15:11:16.784Z"
   },
   {
    "duration": 26,
    "start_time": "2022-03-12T15:11:19.172Z"
   },
   {
    "duration": 156559,
    "start_time": "2022-03-12T15:11:22.971Z"
   },
   {
    "duration": 221,
    "start_time": "2022-03-12T15:14:27.930Z"
   },
   {
    "duration": 12,
    "start_time": "2022-03-12T15:16:34.098Z"
   },
   {
    "duration": 2,
    "start_time": "2022-03-12T15:16:48.047Z"
   },
   {
    "duration": 7,
    "start_time": "2022-03-12T15:16:55.089Z"
   },
   {
    "duration": 13,
    "start_time": "2022-03-12T15:16:59.509Z"
   },
   {
    "duration": 7,
    "start_time": "2022-03-12T15:20:23.103Z"
   },
   {
    "duration": 15,
    "start_time": "2022-03-12T15:20:28.383Z"
   },
   {
    "duration": 466,
    "start_time": "2022-03-12T15:25:50.969Z"
   },
   {
    "duration": 655,
    "start_time": "2022-03-12T15:26:47.836Z"
   },
   {
    "duration": 425,
    "start_time": "2022-03-12T15:28:29.255Z"
   },
   {
    "duration": 437,
    "start_time": "2022-03-12T15:28:32.796Z"
   },
   {
    "duration": 11,
    "start_time": "2022-03-12T15:28:47.726Z"
   },
   {
    "duration": 91,
    "start_time": "2022-03-12T15:29:14.100Z"
   },
   {
    "duration": 6,
    "start_time": "2022-03-12T15:29:17.608Z"
   },
   {
    "duration": 6,
    "start_time": "2022-03-12T15:29:37.300Z"
   },
   {
    "duration": 5,
    "start_time": "2022-03-12T15:29:52.170Z"
   },
   {
    "duration": 6,
    "start_time": "2022-03-12T15:30:26.779Z"
   },
   {
    "duration": 306,
    "start_time": "2022-03-12T15:32:55.438Z"
   },
   {
    "duration": 639,
    "start_time": "2022-03-12T15:33:10.943Z"
   },
   {
    "duration": 72,
    "start_time": "2022-03-12T15:33:11.584Z"
   },
   {
    "duration": 30,
    "start_time": "2022-03-12T15:33:11.658Z"
   },
   {
    "duration": 11,
    "start_time": "2022-03-12T15:33:11.690Z"
   },
   {
    "duration": 11,
    "start_time": "2022-03-12T15:33:11.703Z"
   },
   {
    "duration": 10,
    "start_time": "2022-03-12T15:33:11.715Z"
   },
   {
    "duration": 6,
    "start_time": "2022-03-12T15:33:11.727Z"
   },
   {
    "duration": 43,
    "start_time": "2022-03-12T15:33:11.734Z"
   },
   {
    "duration": 5,
    "start_time": "2022-03-12T15:33:11.780Z"
   },
   {
    "duration": 22,
    "start_time": "2022-03-12T15:33:11.787Z"
   },
   {
    "duration": 5,
    "start_time": "2022-03-12T15:33:11.811Z"
   },
   {
    "duration": 15,
    "start_time": "2022-03-12T15:33:11.818Z"
   },
   {
    "duration": 7,
    "start_time": "2022-03-12T15:33:11.835Z"
   },
   {
    "duration": 36,
    "start_time": "2022-03-12T15:33:11.844Z"
   },
   {
    "duration": 9,
    "start_time": "2022-03-12T15:33:11.882Z"
   },
   {
    "duration": 6,
    "start_time": "2022-03-12T15:33:11.893Z"
   },
   {
    "duration": 6,
    "start_time": "2022-03-12T15:33:11.901Z"
   },
   {
    "duration": 13,
    "start_time": "2022-03-12T15:33:11.909Z"
   },
   {
    "duration": 18,
    "start_time": "2022-03-12T15:33:11.924Z"
   },
   {
    "duration": 300,
    "start_time": "2022-03-12T15:33:11.944Z"
   },
   {
    "duration": 5,
    "start_time": "2022-03-12T15:33:12.246Z"
   },
   {
    "duration": 224,
    "start_time": "2022-03-12T15:33:12.253Z"
   },
   {
    "duration": 37,
    "start_time": "2022-03-12T15:33:12.479Z"
   },
   {
    "duration": 30,
    "start_time": "2022-03-12T15:33:12.518Z"
   },
   {
    "duration": 47,
    "start_time": "2022-03-12T15:33:12.550Z"
   },
   {
    "duration": 9,
    "start_time": "2022-03-12T15:33:12.599Z"
   },
   {
    "duration": 17,
    "start_time": "2022-03-12T15:33:12.611Z"
   },
   {
    "duration": 13,
    "start_time": "2022-03-12T15:33:12.630Z"
   },
   {
    "duration": 32,
    "start_time": "2022-03-12T15:33:12.645Z"
   },
   {
    "duration": 4,
    "start_time": "2022-03-12T15:33:12.679Z"
   },
   {
    "duration": 571,
    "start_time": "2022-03-12T15:33:12.685Z"
   },
   {
    "duration": 5,
    "start_time": "2022-03-12T15:33:13.257Z"
   },
   {
    "duration": 13,
    "start_time": "2022-03-12T15:33:13.264Z"
   },
   {
    "duration": 24,
    "start_time": "2022-03-12T15:33:13.279Z"
   },
   {
    "duration": 12,
    "start_time": "2022-03-12T15:33:13.305Z"
   },
   {
    "duration": 414,
    "start_time": "2022-03-12T15:33:13.319Z"
   },
   {
    "duration": 9,
    "start_time": "2022-03-12T15:33:13.735Z"
   },
   {
    "duration": 3944,
    "start_time": "2022-03-12T15:33:13.746Z"
   },
   {
    "duration": 8,
    "start_time": "2022-03-12T15:33:17.692Z"
   },
   {
    "duration": 368,
    "start_time": "2022-03-12T15:33:17.702Z"
   },
   {
    "duration": 11,
    "start_time": "2022-03-12T15:33:18.072Z"
   },
   {
    "duration": 337,
    "start_time": "2022-03-12T15:33:18.085Z"
   },
   {
    "duration": 410,
    "start_time": "2022-03-12T15:33:18.424Z"
   },
   {
    "duration": 10,
    "start_time": "2022-03-12T15:33:18.836Z"
   },
   {
    "duration": 5707,
    "start_time": "2022-03-12T15:33:18.848Z"
   },
   {
    "duration": 12,
    "start_time": "2022-03-12T15:33:24.557Z"
   },
   {
    "duration": 6124,
    "start_time": "2022-03-12T15:33:24.570Z"
   },
   {
    "duration": 12,
    "start_time": "2022-03-12T15:33:30.696Z"
   },
   {
    "duration": 30,
    "start_time": "2022-03-12T15:33:30.709Z"
   },
   {
    "duration": 9,
    "start_time": "2022-03-12T15:33:30.741Z"
   },
   {
    "duration": 31,
    "start_time": "2022-03-12T15:33:30.753Z"
   },
   {
    "duration": 32,
    "start_time": "2022-03-12T15:33:30.787Z"
   },
   {
    "duration": 245,
    "start_time": "2022-03-12T15:33:30.821Z"
   },
   {
    "duration": 16,
    "start_time": "2022-03-12T15:33:31.068Z"
   },
   {
    "duration": 7,
    "start_time": "2022-03-12T15:33:44.314Z"
   },
   {
    "duration": 357,
    "start_time": "2022-03-12T15:33:48.614Z"
   },
   {
    "duration": 5875,
    "start_time": "2022-03-12T15:34:21.994Z"
   },
   {
    "duration": 5,
    "start_time": "2022-03-12T15:35:02.585Z"
   },
   {
    "duration": 14734,
    "start_time": "2022-03-12T15:35:07.325Z"
   },
   {
    "duration": -1872,
    "start_time": "2022-03-12T15:35:23.935Z"
   },
   {
    "duration": 6,
    "start_time": "2022-03-12T15:35:27.274Z"
   },
   {
    "duration": 464,
    "start_time": "2022-03-12T15:35:53.994Z"
   },
   {
    "duration": 466,
    "start_time": "2022-03-12T15:36:23.908Z"
   },
   {
    "duration": 10,
    "start_time": "2022-03-12T15:37:35.470Z"
   },
   {
    "duration": 26,
    "start_time": "2022-03-12T15:37:55.218Z"
   },
   {
    "duration": 463,
    "start_time": "2022-03-12T15:38:39.598Z"
   },
   {
    "duration": 525,
    "start_time": "2022-03-12T15:41:20.201Z"
   },
   {
    "duration": 468,
    "start_time": "2022-03-12T15:41:36.781Z"
   },
   {
    "duration": 482,
    "start_time": "2022-03-12T15:42:00.949Z"
   },
   {
    "duration": 352,
    "start_time": "2022-03-12T15:42:05.388Z"
   },
   {
    "duration": 6,
    "start_time": "2022-03-12T15:45:27.256Z"
   },
   {
    "duration": 5,
    "start_time": "2022-03-12T15:45:32.015Z"
   },
   {
    "duration": 5,
    "start_time": "2022-03-12T15:45:40.205Z"
   },
   {
    "duration": 512,
    "start_time": "2022-03-12T15:46:03.905Z"
   },
   {
    "duration": 3,
    "start_time": "2022-03-12T15:46:43.105Z"
   },
   {
    "duration": 201,
    "start_time": "2022-03-12T15:48:09.296Z"
   },
   {
    "duration": 424,
    "start_time": "2022-03-12T15:49:27.880Z"
   },
   {
    "duration": 443,
    "start_time": "2022-03-12T15:49:39.071Z"
   },
   {
    "duration": 500,
    "start_time": "2022-03-12T15:49:44.632Z"
   },
   {
    "duration": 445,
    "start_time": "2022-03-12T15:49:49.040Z"
   },
   {
    "duration": 457,
    "start_time": "2022-03-12T15:49:58.480Z"
   },
   {
    "duration": 444,
    "start_time": "2022-03-12T15:50:11.750Z"
   },
   {
    "duration": 463,
    "start_time": "2022-03-12T15:50:16.650Z"
   },
   {
    "duration": 5,
    "start_time": "2022-03-12T15:52:35.481Z"
   },
   {
    "duration": 469,
    "start_time": "2022-03-12T15:53:17.241Z"
   },
   {
    "duration": 518,
    "start_time": "2022-03-12T15:53:43.926Z"
   },
   {
    "duration": 556,
    "start_time": "2022-03-12T15:54:00.753Z"
   },
   {
    "duration": 461,
    "start_time": "2022-03-12T15:54:38.695Z"
   },
   {
    "duration": 476,
    "start_time": "2022-03-12T15:54:48.626Z"
   },
   {
    "duration": 460,
    "start_time": "2022-03-12T15:55:22.706Z"
   },
   {
    "duration": 439,
    "start_time": "2022-03-12T15:55:31.497Z"
   },
   {
    "duration": 452,
    "start_time": "2022-03-12T15:55:41.816Z"
   },
   {
    "duration": 466,
    "start_time": "2022-03-12T15:57:33.797Z"
   },
   {
    "duration": 466,
    "start_time": "2022-03-12T15:57:39.333Z"
   },
   {
    "duration": 452,
    "start_time": "2022-03-12T15:57:43.005Z"
   },
   {
    "duration": 468,
    "start_time": "2022-03-12T15:57:49.236Z"
   },
   {
    "duration": 474,
    "start_time": "2022-03-12T15:57:55.416Z"
   },
   {
    "duration": 7,
    "start_time": "2022-03-12T16:00:03.443Z"
   },
   {
    "duration": 277,
    "start_time": "2022-03-12T16:01:55.238Z"
   },
   {
    "duration": 9,
    "start_time": "2022-03-12T16:02:55.775Z"
   },
   {
    "duration": 28,
    "start_time": "2022-03-12T16:03:27.837Z"
   },
   {
    "duration": 639,
    "start_time": "2022-03-12T16:05:19.597Z"
   },
   {
    "duration": 407,
    "start_time": "2022-03-12T16:07:23.464Z"
   },
   {
    "duration": 435,
    "start_time": "2022-03-12T16:07:34.086Z"
   },
   {
    "duration": 410,
    "start_time": "2022-03-12T16:07:42.185Z"
   },
   {
    "duration": 4239,
    "start_time": "2022-03-12T16:07:49.650Z"
   },
   {
    "duration": 4558,
    "start_time": "2022-03-12T16:08:02.467Z"
   },
   {
    "duration": 4567,
    "start_time": "2022-03-12T16:08:16.546Z"
   },
   {
    "duration": 2613,
    "start_time": "2022-03-12T16:08:33.106Z"
   },
   {
    "duration": 258,
    "start_time": "2022-03-12T16:08:55.973Z"
   },
   {
    "duration": 318,
    "start_time": "2022-03-12T16:08:58.765Z"
   },
   {
    "duration": 258,
    "start_time": "2022-03-12T16:09:13.157Z"
   },
   {
    "duration": 275,
    "start_time": "2022-03-12T16:09:18.666Z"
   },
   {
    "duration": 212,
    "start_time": "2022-03-12T16:09:31.926Z"
   },
   {
    "duration": 241,
    "start_time": "2022-03-12T16:09:40.714Z"
   },
   {
    "duration": 239,
    "start_time": "2022-03-12T16:09:47.054Z"
   },
   {
    "duration": 278,
    "start_time": "2022-03-12T16:09:59.023Z"
   },
   {
    "duration": 246,
    "start_time": "2022-03-12T16:10:04.466Z"
   },
   {
    "duration": 303,
    "start_time": "2022-03-12T16:10:26.905Z"
   },
   {
    "duration": 354,
    "start_time": "2022-03-12T16:10:32.085Z"
   },
   {
    "duration": 233,
    "start_time": "2022-03-12T16:10:47.746Z"
   },
   {
    "duration": 239,
    "start_time": "2022-03-12T16:10:54.316Z"
   },
   {
    "duration": 265,
    "start_time": "2022-03-12T16:11:00.339Z"
   },
   {
    "duration": 267,
    "start_time": "2022-03-12T16:11:32.827Z"
   },
   {
    "duration": 294,
    "start_time": "2022-03-12T16:11:42.884Z"
   },
   {
    "duration": 258,
    "start_time": "2022-03-12T16:11:49.116Z"
   },
   {
    "duration": 241,
    "start_time": "2022-03-12T16:11:55.165Z"
   },
   {
    "duration": 271,
    "start_time": "2022-03-12T16:12:05.597Z"
   },
   {
    "duration": 2351,
    "start_time": "2022-03-12T16:15:16.222Z"
   },
   {
    "duration": 12,
    "start_time": "2022-03-12T16:16:24.373Z"
   },
   {
    "duration": 2285,
    "start_time": "2022-03-12T16:16:58.175Z"
   },
   {
    "duration": 13,
    "start_time": "2022-03-12T16:17:03.031Z"
   },
   {
    "duration": 535,
    "start_time": "2022-03-13T14:46:12.695Z"
   },
   {
    "duration": 62,
    "start_time": "2022-03-13T14:46:13.232Z"
   },
   {
    "duration": 27,
    "start_time": "2022-03-13T14:46:13.296Z"
   },
   {
    "duration": 20,
    "start_time": "2022-03-13T14:46:13.325Z"
   },
   {
    "duration": 9,
    "start_time": "2022-03-13T14:46:13.347Z"
   },
   {
    "duration": 8,
    "start_time": "2022-03-13T14:46:13.358Z"
   },
   {
    "duration": 5,
    "start_time": "2022-03-13T14:46:13.367Z"
   },
   {
    "duration": 8,
    "start_time": "2022-03-13T14:46:13.374Z"
   },
   {
    "duration": 5,
    "start_time": "2022-03-13T14:46:13.384Z"
   },
   {
    "duration": 55,
    "start_time": "2022-03-13T14:46:13.391Z"
   },
   {
    "duration": 4,
    "start_time": "2022-03-13T14:46:13.448Z"
   },
   {
    "duration": 15,
    "start_time": "2022-03-13T14:46:13.453Z"
   },
   {
    "duration": 7,
    "start_time": "2022-03-13T14:46:13.469Z"
   },
   {
    "duration": 7,
    "start_time": "2022-03-13T14:46:13.477Z"
   },
   {
    "duration": 8,
    "start_time": "2022-03-13T14:46:13.486Z"
   },
   {
    "duration": 6,
    "start_time": "2022-03-13T14:46:13.496Z"
   },
   {
    "duration": 8,
    "start_time": "2022-03-13T14:46:13.504Z"
   },
   {
    "duration": 30,
    "start_time": "2022-03-13T14:46:13.513Z"
   },
   {
    "duration": 13,
    "start_time": "2022-03-13T14:46:13.545Z"
   },
   {
    "duration": 259,
    "start_time": "2022-03-13T14:46:13.560Z"
   },
   {
    "duration": 6,
    "start_time": "2022-03-13T14:46:13.821Z"
   },
   {
    "duration": 196,
    "start_time": "2022-03-13T14:46:13.829Z"
   },
   {
    "duration": 35,
    "start_time": "2022-03-13T14:46:14.026Z"
   },
   {
    "duration": 24,
    "start_time": "2022-03-13T14:46:14.063Z"
   },
   {
    "duration": 20,
    "start_time": "2022-03-13T14:46:14.089Z"
   },
   {
    "duration": 35,
    "start_time": "2022-03-13T14:46:14.110Z"
   },
   {
    "duration": 8,
    "start_time": "2022-03-13T14:46:14.148Z"
   },
   {
    "duration": 12,
    "start_time": "2022-03-13T14:46:14.158Z"
   },
   {
    "duration": 4,
    "start_time": "2022-03-13T14:46:14.172Z"
   },
   {
    "duration": 3,
    "start_time": "2022-03-13T14:46:24.114Z"
   },
   {
    "duration": 519,
    "start_time": "2022-03-13T14:46:26.764Z"
   },
   {
    "duration": 12,
    "start_time": "2022-03-13T14:46:35.682Z"
   },
   {
    "duration": 3,
    "start_time": "2022-03-13T14:49:12.502Z"
   },
   {
    "duration": 65,
    "start_time": "2022-03-13T14:49:12.507Z"
   },
   {
    "duration": 20,
    "start_time": "2022-03-13T14:49:12.575Z"
   },
   {
    "duration": 13,
    "start_time": "2022-03-13T14:49:12.598Z"
   },
   {
    "duration": 33,
    "start_time": "2022-03-13T14:49:12.612Z"
   },
   {
    "duration": 8,
    "start_time": "2022-03-13T14:49:12.647Z"
   },
   {
    "duration": 14,
    "start_time": "2022-03-13T14:49:12.656Z"
   },
   {
    "duration": 12,
    "start_time": "2022-03-13T14:49:12.671Z"
   },
   {
    "duration": 9,
    "start_time": "2022-03-13T14:49:12.686Z"
   },
   {
    "duration": 41,
    "start_time": "2022-03-13T14:49:12.698Z"
   },
   {
    "duration": 5,
    "start_time": "2022-03-13T14:49:12.741Z"
   },
   {
    "duration": 18,
    "start_time": "2022-03-13T14:49:12.748Z"
   },
   {
    "duration": 6,
    "start_time": "2022-03-13T14:49:12.768Z"
   },
   {
    "duration": 10,
    "start_time": "2022-03-13T14:49:12.777Z"
   },
   {
    "duration": 5,
    "start_time": "2022-03-13T14:49:12.789Z"
   },
   {
    "duration": 7,
    "start_time": "2022-03-13T14:49:12.796Z"
   },
   {
    "duration": 7,
    "start_time": "2022-03-13T14:49:12.805Z"
   },
   {
    "duration": 32,
    "start_time": "2022-03-13T14:49:12.813Z"
   },
   {
    "duration": 12,
    "start_time": "2022-03-13T14:49:12.847Z"
   },
   {
    "duration": 710,
    "start_time": "2022-03-13T14:49:12.860Z"
   },
   {
    "duration": 5,
    "start_time": "2022-03-13T14:49:13.572Z"
   },
   {
    "duration": 205,
    "start_time": "2022-03-13T14:49:13.579Z"
   },
   {
    "duration": 32,
    "start_time": "2022-03-13T14:49:13.786Z"
   },
   {
    "duration": 40,
    "start_time": "2022-03-13T14:49:13.820Z"
   },
   {
    "duration": 19,
    "start_time": "2022-03-13T14:49:13.864Z"
   },
   {
    "duration": 10,
    "start_time": "2022-03-13T14:49:13.885Z"
   },
   {
    "duration": 9,
    "start_time": "2022-03-13T14:49:13.896Z"
   },
   {
    "duration": 38,
    "start_time": "2022-03-13T14:49:13.907Z"
   },
   {
    "duration": 8,
    "start_time": "2022-03-13T14:49:13.946Z"
   },
   {
    "duration": 13,
    "start_time": "2022-03-13T14:49:13.956Z"
   },
   {
    "duration": 470,
    "start_time": "2022-03-13T14:49:13.971Z"
   },
   {
    "duration": 5,
    "start_time": "2022-03-13T14:49:14.442Z"
   },
   {
    "duration": 7,
    "start_time": "2022-03-13T14:49:14.448Z"
   },
   {
    "duration": 26,
    "start_time": "2022-03-13T14:49:14.456Z"
   },
   {
    "duration": 8,
    "start_time": "2022-03-13T14:49:14.484Z"
   },
   {
    "duration": 367,
    "start_time": "2022-03-13T14:49:14.493Z"
   },
   {
    "duration": 9,
    "start_time": "2022-03-13T14:49:14.861Z"
   },
   {
    "duration": 3399,
    "start_time": "2022-03-13T14:49:14.872Z"
   },
   {
    "duration": 9,
    "start_time": "2022-03-13T14:49:18.272Z"
   },
   {
    "duration": 741,
    "start_time": "2022-03-13T14:49:18.282Z"
   },
   {
    "duration": 18,
    "start_time": "2022-03-13T14:49:19.025Z"
   },
   {
    "duration": 280,
    "start_time": "2022-03-13T14:49:19.044Z"
   },
   {
    "duration": 371,
    "start_time": "2022-03-13T14:49:19.326Z"
   },
   {
    "duration": 8,
    "start_time": "2022-03-13T14:49:19.699Z"
   },
   {
    "duration": 4945,
    "start_time": "2022-03-13T14:49:19.708Z"
   },
   {
    "duration": 11,
    "start_time": "2022-03-13T14:49:24.655Z"
   },
   {
    "duration": 5519,
    "start_time": "2022-03-13T14:49:24.668Z"
   },
   {
    "duration": 11,
    "start_time": "2022-03-13T14:49:30.189Z"
   },
   {
    "duration": 37,
    "start_time": "2022-03-13T14:49:30.202Z"
   },
   {
    "duration": 9,
    "start_time": "2022-03-13T14:49:30.241Z"
   },
   {
    "duration": 21,
    "start_time": "2022-03-13T14:49:30.252Z"
   },
   {
    "duration": 22,
    "start_time": "2022-03-13T14:49:30.275Z"
   },
   {
    "duration": 9,
    "start_time": "2022-03-13T14:50:59.964Z"
   },
   {
    "duration": 5,
    "start_time": "2022-03-13T14:51:46.302Z"
   },
   {
    "duration": 14,
    "start_time": "2022-03-13T14:52:01.722Z"
   },
   {
    "duration": 7,
    "start_time": "2022-03-13T14:52:27.872Z"
   },
   {
    "duration": 6,
    "start_time": "2022-03-13T14:53:23.302Z"
   },
   {
    "duration": 5,
    "start_time": "2022-03-13T14:53:35.331Z"
   },
   {
    "duration": 5,
    "start_time": "2022-03-13T14:53:39.633Z"
   },
   {
    "duration": 181,
    "start_time": "2022-03-13T14:53:42.541Z"
   },
   {
    "duration": 408,
    "start_time": "2022-03-13T14:53:45.951Z"
   },
   {
    "duration": 230,
    "start_time": "2022-03-13T14:59:24.193Z"
   },
   {
    "duration": 16001,
    "start_time": "2022-03-13T14:59:57.721Z"
   },
   {
    "duration": 186,
    "start_time": "2022-03-13T15:00:31.677Z"
   },
   {
    "duration": 546,
    "start_time": "2022-03-13T15:01:03.799Z"
   },
   {
    "duration": 70,
    "start_time": "2022-03-13T15:01:04.347Z"
   },
   {
    "duration": 34,
    "start_time": "2022-03-13T15:01:04.419Z"
   },
   {
    "duration": 10,
    "start_time": "2022-03-13T15:01:04.455Z"
   },
   {
    "duration": 8,
    "start_time": "2022-03-13T15:01:04.467Z"
   },
   {
    "duration": 10,
    "start_time": "2022-03-13T15:01:04.477Z"
   },
   {
    "duration": 6,
    "start_time": "2022-03-13T15:01:04.488Z"
   },
   {
    "duration": 7,
    "start_time": "2022-03-13T15:01:04.495Z"
   },
   {
    "duration": 5,
    "start_time": "2022-03-13T15:01:04.540Z"
   },
   {
    "duration": 24,
    "start_time": "2022-03-13T15:01:04.547Z"
   },
   {
    "duration": 6,
    "start_time": "2022-03-13T15:01:04.573Z"
   },
   {
    "duration": 12,
    "start_time": "2022-03-13T15:01:04.581Z"
   },
   {
    "duration": 14,
    "start_time": "2022-03-13T15:01:04.595Z"
   },
   {
    "duration": 5,
    "start_time": "2022-03-13T15:01:04.639Z"
   },
   {
    "duration": 22,
    "start_time": "2022-03-13T15:01:04.646Z"
   },
   {
    "duration": 8,
    "start_time": "2022-03-13T15:01:04.670Z"
   },
   {
    "duration": 13,
    "start_time": "2022-03-13T15:01:04.679Z"
   },
   {
    "duration": 11,
    "start_time": "2022-03-13T15:01:04.693Z"
   },
   {
    "duration": 14,
    "start_time": "2022-03-13T15:01:04.706Z"
   },
   {
    "duration": 249,
    "start_time": "2022-03-13T15:01:04.722Z"
   },
   {
    "duration": 8,
    "start_time": "2022-03-13T15:01:04.974Z"
   },
   {
    "duration": 215,
    "start_time": "2022-03-13T15:01:04.984Z"
   },
   {
    "duration": 40,
    "start_time": "2022-03-13T15:01:05.201Z"
   },
   {
    "duration": 27,
    "start_time": "2022-03-13T15:01:05.243Z"
   },
   {
    "duration": 19,
    "start_time": "2022-03-13T15:01:05.272Z"
   },
   {
    "duration": 11,
    "start_time": "2022-03-13T15:01:05.293Z"
   },
   {
    "duration": 11,
    "start_time": "2022-03-13T15:01:05.342Z"
   },
   {
    "duration": 13,
    "start_time": "2022-03-13T15:01:05.355Z"
   },
   {
    "duration": 5,
    "start_time": "2022-03-13T15:01:05.370Z"
   },
   {
    "duration": 9,
    "start_time": "2022-03-13T15:01:05.376Z"
   },
   {
    "duration": 584,
    "start_time": "2022-03-13T15:01:05.386Z"
   },
   {
    "duration": 5,
    "start_time": "2022-03-13T15:01:05.972Z"
   },
   {
    "duration": 8,
    "start_time": "2022-03-13T15:01:05.979Z"
   },
   {
    "duration": 34,
    "start_time": "2022-03-13T15:01:05.988Z"
   },
   {
    "duration": 19,
    "start_time": "2022-03-13T15:01:06.025Z"
   },
   {
    "duration": 375,
    "start_time": "2022-03-13T15:01:06.046Z"
   },
   {
    "duration": 8,
    "start_time": "2022-03-13T15:01:06.422Z"
   },
   {
    "duration": 3574,
    "start_time": "2022-03-13T15:01:06.438Z"
   },
   {
    "duration": 10,
    "start_time": "2022-03-13T15:01:10.014Z"
   },
   {
    "duration": 376,
    "start_time": "2022-03-13T15:01:10.038Z"
   },
   {
    "duration": 10,
    "start_time": "2022-03-13T15:01:10.416Z"
   },
   {
    "duration": 305,
    "start_time": "2022-03-13T15:01:10.427Z"
   },
   {
    "duration": 408,
    "start_time": "2022-03-13T15:01:10.737Z"
   },
   {
    "duration": 9,
    "start_time": "2022-03-13T15:01:11.147Z"
   },
   {
    "duration": 5294,
    "start_time": "2022-03-13T15:01:11.158Z"
   },
   {
    "duration": 12,
    "start_time": "2022-03-13T15:01:16.454Z"
   },
   {
    "duration": 5843,
    "start_time": "2022-03-13T15:01:16.467Z"
   },
   {
    "duration": 11,
    "start_time": "2022-03-13T15:01:22.311Z"
   },
   {
    "duration": 29,
    "start_time": "2022-03-13T15:01:22.324Z"
   },
   {
    "duration": 9,
    "start_time": "2022-03-13T15:01:22.354Z"
   },
   {
    "duration": 15,
    "start_time": "2022-03-13T15:01:22.365Z"
   },
   {
    "duration": 21,
    "start_time": "2022-03-13T15:01:22.381Z"
   },
   {
    "duration": 210,
    "start_time": "2022-03-13T15:01:22.403Z"
   },
   {
    "duration": 8,
    "start_time": "2022-03-13T15:01:22.614Z"
   },
   {
    "duration": 16,
    "start_time": "2022-03-13T15:01:22.624Z"
   },
   {
    "duration": 15,
    "start_time": "2022-03-13T15:01:22.642Z"
   },
   {
    "duration": 5,
    "start_time": "2022-03-13T15:01:22.658Z"
   },
   {
    "duration": 5,
    "start_time": "2022-03-13T15:01:22.665Z"
   },
   {
    "duration": 6,
    "start_time": "2022-03-13T15:01:22.672Z"
   },
   {
    "duration": 209,
    "start_time": "2022-03-13T15:01:22.680Z"
   },
   {
    "duration": 450,
    "start_time": "2022-03-13T15:01:22.890Z"
   },
   {
    "duration": 5,
    "start_time": "2022-03-13T15:01:23.342Z"
   },
   {
    "duration": 430,
    "start_time": "2022-03-13T15:01:23.349Z"
   },
   {
    "duration": 5,
    "start_time": "2022-03-13T15:01:23.781Z"
   },
   {
    "duration": 9,
    "start_time": "2022-03-13T15:01:23.787Z"
   },
   {
    "duration": 21,
    "start_time": "2022-03-13T15:01:23.798Z"
   },
   {
    "duration": 378,
    "start_time": "2022-03-13T15:01:23.821Z"
   },
   {
    "duration": 1969,
    "start_time": "2022-03-13T15:01:24.201Z"
   },
   {
    "duration": 219,
    "start_time": "2022-03-13T15:01:26.171Z"
   },
   {
    "duration": 231,
    "start_time": "2022-03-13T15:01:26.392Z"
   },
   {
    "duration": 2188,
    "start_time": "2022-03-13T15:01:26.624Z"
   },
   {
    "duration": 10,
    "start_time": "2022-03-13T15:01:28.814Z"
   },
   {
    "duration": 2013,
    "start_time": "2022-03-13T15:01:28.838Z"
   },
   {
    "duration": 11,
    "start_time": "2022-03-13T15:01:30.853Z"
   },
   {
    "duration": 9,
    "start_time": "2022-03-13T15:06:48.428Z"
   },
   {
    "duration": 1230,
    "start_time": "2022-03-13T15:07:55.272Z"
   },
   {
    "duration": 518,
    "start_time": "2022-03-13T15:09:37.393Z"
   },
   {
    "duration": 498,
    "start_time": "2022-03-13T15:09:45.229Z"
   },
   {
    "duration": 507,
    "start_time": "2022-03-13T15:09:58.872Z"
   },
   {
    "duration": 502,
    "start_time": "2022-03-13T15:10:08.121Z"
   },
   {
    "duration": 495,
    "start_time": "2022-03-13T15:10:47.355Z"
   },
   {
    "duration": 844,
    "start_time": "2022-03-13T15:11:43.831Z"
   },
   {
    "duration": 435,
    "start_time": "2022-03-13T15:11:54.330Z"
   },
   {
    "duration": 467,
    "start_time": "2022-03-13T15:12:00.140Z"
   },
   {
    "duration": 497,
    "start_time": "2022-03-13T15:12:12.286Z"
   },
   {
    "duration": 469,
    "start_time": "2022-03-13T15:12:20.620Z"
   },
   {
    "duration": 449,
    "start_time": "2022-03-13T15:12:25.228Z"
   },
   {
    "duration": 467,
    "start_time": "2022-03-13T15:12:36.234Z"
   },
   {
    "duration": 510,
    "start_time": "2022-03-13T15:12:42.686Z"
   },
   {
    "duration": 473,
    "start_time": "2022-03-13T15:12:59.525Z"
   },
   {
    "duration": 487,
    "start_time": "2022-03-13T15:13:10.877Z"
   },
   {
    "duration": 3637,
    "start_time": "2022-03-13T15:16:41.559Z"
   },
   {
    "duration": 3075,
    "start_time": "2022-03-13T15:17:05.796Z"
   },
   {
    "duration": 11,
    "start_time": "2022-03-13T15:17:44.635Z"
   },
   {
    "duration": 1230,
    "start_time": "2022-03-13T15:18:17.336Z"
   },
   {
    "duration": 1059,
    "start_time": "2022-03-13T15:18:40.936Z"
   },
   {
    "duration": 1460,
    "start_time": "2022-03-13T15:18:48.574Z"
   },
   {
    "duration": 1287,
    "start_time": "2022-03-13T15:19:03.783Z"
   },
   {
    "duration": 7,
    "start_time": "2022-03-13T15:20:26.336Z"
   },
   {
    "duration": 23,
    "start_time": "2022-03-13T15:20:29.388Z"
   },
   {
    "duration": 352,
    "start_time": "2022-03-13T15:20:38.778Z"
   },
   {
    "duration": 57,
    "start_time": "2022-03-13T15:40:08.300Z"
   },
   {
    "duration": 195,
    "start_time": "2022-03-13T15:41:15.008Z"
   },
   {
    "duration": 5,
    "start_time": "2022-03-13T15:45:07.712Z"
   },
   {
    "duration": 3,
    "start_time": "2022-03-13T15:47:54.933Z"
   },
   {
    "duration": 811,
    "start_time": "2022-03-14T13:38:29.317Z"
   },
   {
    "duration": 78,
    "start_time": "2022-03-14T13:38:30.131Z"
   },
   {
    "duration": 39,
    "start_time": "2022-03-14T13:38:30.212Z"
   },
   {
    "duration": 37,
    "start_time": "2022-03-14T13:38:30.254Z"
   },
   {
    "duration": 15,
    "start_time": "2022-03-14T13:38:30.293Z"
   },
   {
    "duration": 31,
    "start_time": "2022-03-14T13:38:30.310Z"
   },
   {
    "duration": 33,
    "start_time": "2022-03-14T13:38:30.344Z"
   },
   {
    "duration": 41,
    "start_time": "2022-03-14T13:38:30.379Z"
   },
   {
    "duration": 30,
    "start_time": "2022-03-14T13:38:30.425Z"
   },
   {
    "duration": 35,
    "start_time": "2022-03-14T13:38:30.458Z"
   },
   {
    "duration": 34,
    "start_time": "2022-03-14T13:38:30.495Z"
   },
   {
    "duration": 45,
    "start_time": "2022-03-14T13:38:30.532Z"
   },
   {
    "duration": 32,
    "start_time": "2022-03-14T13:38:30.579Z"
   },
   {
    "duration": 34,
    "start_time": "2022-03-14T13:38:30.614Z"
   },
   {
    "duration": 24,
    "start_time": "2022-03-14T13:38:30.650Z"
   },
   {
    "duration": 27,
    "start_time": "2022-03-14T13:38:30.676Z"
   },
   {
    "duration": 50,
    "start_time": "2022-03-14T13:38:30.705Z"
   },
   {
    "duration": 48,
    "start_time": "2022-03-14T13:38:30.758Z"
   },
   {
    "duration": 28,
    "start_time": "2022-03-14T13:38:30.809Z"
   },
   {
    "duration": 384,
    "start_time": "2022-03-14T13:38:30.840Z"
   },
   {
    "duration": 8,
    "start_time": "2022-03-14T13:38:31.226Z"
   },
   {
    "duration": 305,
    "start_time": "2022-03-14T13:38:31.236Z"
   },
   {
    "duration": 62,
    "start_time": "2022-03-14T13:38:31.543Z"
   },
   {
    "duration": 32,
    "start_time": "2022-03-14T13:38:31.608Z"
   },
   {
    "duration": 43,
    "start_time": "2022-03-14T13:38:31.643Z"
   },
   {
    "duration": 12,
    "start_time": "2022-03-14T13:38:31.689Z"
   },
   {
    "duration": 35,
    "start_time": "2022-03-14T13:38:31.705Z"
   },
   {
    "duration": 27,
    "start_time": "2022-03-14T13:38:31.742Z"
   },
   {
    "duration": 32,
    "start_time": "2022-03-14T13:38:31.772Z"
   },
   {
    "duration": 39,
    "start_time": "2022-03-14T13:38:31.806Z"
   },
   {
    "duration": 894,
    "start_time": "2022-03-14T13:38:31.847Z"
   },
   {
    "duration": 6,
    "start_time": "2022-03-14T13:38:32.743Z"
   },
   {
    "duration": 33,
    "start_time": "2022-03-14T13:38:32.752Z"
   },
   {
    "duration": 68,
    "start_time": "2022-03-14T13:38:32.788Z"
   },
   {
    "duration": 17,
    "start_time": "2022-03-14T13:38:32.858Z"
   },
   {
    "duration": 561,
    "start_time": "2022-03-14T13:38:32.877Z"
   },
   {
    "duration": 11,
    "start_time": "2022-03-14T13:38:33.441Z"
   },
   {
    "duration": 8024,
    "start_time": "2022-03-14T14:10:44.147Z"
   },
   {
    "duration": 793,
    "start_time": "2022-03-14T14:11:16.240Z"
   },
   {
    "duration": 95,
    "start_time": "2022-03-14T14:11:17.036Z"
   },
   {
    "duration": 53,
    "start_time": "2022-03-14T14:11:17.134Z"
   },
   {
    "duration": 15,
    "start_time": "2022-03-14T14:11:17.190Z"
   },
   {
    "duration": 13,
    "start_time": "2022-03-14T14:11:17.207Z"
   },
   {
    "duration": 9,
    "start_time": "2022-03-14T14:11:17.222Z"
   },
   {
    "duration": 7,
    "start_time": "2022-03-14T14:11:17.234Z"
   },
   {
    "duration": 6,
    "start_time": "2022-03-14T14:11:17.286Z"
   },
   {
    "duration": 9,
    "start_time": "2022-03-14T14:11:17.296Z"
   },
   {
    "duration": 28,
    "start_time": "2022-03-14T14:11:17.308Z"
   },
   {
    "duration": 6,
    "start_time": "2022-03-14T14:11:17.339Z"
   },
   {
    "duration": 24,
    "start_time": "2022-03-14T14:11:17.383Z"
   },
   {
    "duration": 19,
    "start_time": "2022-03-14T14:11:17.410Z"
   },
   {
    "duration": 8,
    "start_time": "2022-03-14T14:11:17.432Z"
   },
   {
    "duration": 8,
    "start_time": "2022-03-14T14:11:17.443Z"
   },
   {
    "duration": 5,
    "start_time": "2022-03-14T14:11:17.482Z"
   },
   {
    "duration": 10,
    "start_time": "2022-03-14T14:11:17.490Z"
   },
   {
    "duration": 19,
    "start_time": "2022-03-14T14:11:17.502Z"
   },
   {
    "duration": 23,
    "start_time": "2022-03-14T14:11:17.527Z"
   },
   {
    "duration": 391,
    "start_time": "2022-03-14T14:11:17.552Z"
   },
   {
    "duration": 9,
    "start_time": "2022-03-14T14:11:17.945Z"
   },
   {
    "duration": 309,
    "start_time": "2022-03-14T14:11:17.956Z"
   },
   {
    "duration": 50,
    "start_time": "2022-03-14T14:11:18.281Z"
   },
   {
    "duration": 63,
    "start_time": "2022-03-14T14:11:18.335Z"
   },
   {
    "duration": 27,
    "start_time": "2022-03-14T14:11:18.401Z"
   },
   {
    "duration": 35,
    "start_time": "2022-03-14T14:11:18.430Z"
   },
   {
    "duration": 25,
    "start_time": "2022-03-14T14:11:18.468Z"
   },
   {
    "duration": 20,
    "start_time": "2022-03-14T14:11:18.496Z"
   },
   {
    "duration": 6,
    "start_time": "2022-03-14T14:11:18.519Z"
   },
   {
    "duration": 36,
    "start_time": "2022-03-14T14:11:18.528Z"
   },
   {
    "duration": 1233,
    "start_time": "2022-03-14T14:11:18.567Z"
   },
   {
    "duration": 7,
    "start_time": "2022-03-14T14:11:19.803Z"
   },
   {
    "duration": 26,
    "start_time": "2022-03-14T14:11:19.813Z"
   },
   {
    "duration": 53,
    "start_time": "2022-03-14T14:11:19.841Z"
   },
   {
    "duration": 24,
    "start_time": "2022-03-14T14:11:19.897Z"
   },
   {
    "duration": 575,
    "start_time": "2022-03-14T14:11:19.924Z"
   },
   {
    "duration": 11,
    "start_time": "2022-03-14T14:11:20.502Z"
   },
   {
    "duration": 5396,
    "start_time": "2022-03-14T14:11:20.516Z"
   },
   {
    "duration": 11,
    "start_time": "2022-03-14T14:11:25.915Z"
   },
   {
    "duration": 467,
    "start_time": "2022-03-14T14:11:25.929Z"
   },
   {
    "duration": 14,
    "start_time": "2022-03-14T14:11:26.399Z"
   },
   {
    "duration": 436,
    "start_time": "2022-03-14T14:11:26.416Z"
   },
   {
    "duration": 547,
    "start_time": "2022-03-14T14:11:26.855Z"
   },
   {
    "duration": 11,
    "start_time": "2022-03-14T14:11:27.405Z"
   },
   {
    "duration": 8374,
    "start_time": "2022-03-14T14:11:27.418Z"
   },
   {
    "duration": 16,
    "start_time": "2022-03-14T14:11:35.794Z"
   },
   {
    "duration": 665,
    "start_time": "2022-03-14T14:11:35.812Z"
   },
   {
    "duration": 11,
    "start_time": "2022-03-14T14:11:36.482Z"
   },
   {
    "duration": 8887,
    "start_time": "2022-03-14T14:11:36.495Z"
   },
   {
    "duration": 15,
    "start_time": "2022-03-14T14:11:45.385Z"
   },
   {
    "duration": 28,
    "start_time": "2022-03-14T14:11:45.403Z"
   },
   {
    "duration": 13,
    "start_time": "2022-03-14T14:11:45.433Z"
   },
   {
    "duration": 48,
    "start_time": "2022-03-14T14:11:45.448Z"
   },
   {
    "duration": 34,
    "start_time": "2022-03-14T14:11:45.498Z"
   },
   {
    "duration": 13,
    "start_time": "2022-03-14T14:11:45.535Z"
   },
   {
    "duration": 314,
    "start_time": "2022-03-14T14:11:45.551Z"
   },
   {
    "duration": 14,
    "start_time": "2022-03-14T14:11:45.868Z"
   },
   {
    "duration": 31,
    "start_time": "2022-03-14T14:11:45.885Z"
   },
   {
    "duration": 6,
    "start_time": "2022-03-14T14:11:45.918Z"
   },
   {
    "duration": 11,
    "start_time": "2022-03-14T14:11:45.926Z"
   },
   {
    "duration": 6,
    "start_time": "2022-03-14T14:11:45.939Z"
   },
   {
    "duration": 8,
    "start_time": "2022-03-14T14:11:45.948Z"
   },
   {
    "duration": 578,
    "start_time": "2022-03-14T14:11:45.958Z"
   },
   {
    "duration": 7,
    "start_time": "2022-03-14T14:11:46.539Z"
   },
   {
    "duration": 627,
    "start_time": "2022-03-14T14:11:46.548Z"
   },
   {
    "duration": 7,
    "start_time": "2022-03-14T14:11:47.182Z"
   },
   {
    "duration": 11,
    "start_time": "2022-03-14T14:11:47.191Z"
   },
   {
    "duration": 34,
    "start_time": "2022-03-14T14:11:47.210Z"
   },
   {
    "duration": 600,
    "start_time": "2022-03-14T14:11:47.247Z"
   },
   {
    "duration": 2943,
    "start_time": "2022-03-14T14:11:47.850Z"
   },
   {
    "duration": 318,
    "start_time": "2022-03-14T14:11:50.796Z"
   },
   {
    "duration": 347,
    "start_time": "2022-03-14T14:11:51.117Z"
   },
   {
    "duration": 1688,
    "start_time": "2022-03-14T14:11:51.467Z"
   },
   {
    "duration": 2180,
    "start_time": "2022-03-14T14:11:53.157Z"
   },
   {
    "duration": 19,
    "start_time": "2022-03-14T14:11:55.340Z"
   },
   {
    "duration": 2840,
    "start_time": "2022-03-14T14:11:55.362Z"
   },
   {
    "duration": 14,
    "start_time": "2022-03-14T14:11:58.204Z"
   },
   {
    "duration": 4,
    "start_time": "2022-03-14T14:12:55.398Z"
   },
   {
    "duration": 11,
    "start_time": "2022-03-14T14:13:39.316Z"
   },
   {
    "duration": 4,
    "start_time": "2022-03-14T14:14:25.407Z"
   },
   {
    "duration": 10,
    "start_time": "2022-03-14T14:14:27.483Z"
   },
   {
    "duration": 4,
    "start_time": "2022-03-14T14:15:58.884Z"
   },
   {
    "duration": 13,
    "start_time": "2022-03-14T14:16:01.193Z"
   },
   {
    "duration": 4,
    "start_time": "2022-03-14T14:16:43.313Z"
   },
   {
    "duration": 10,
    "start_time": "2022-03-14T14:16:45.440Z"
   },
   {
    "duration": 4,
    "start_time": "2022-03-14T14:17:03.823Z"
   },
   {
    "duration": 10,
    "start_time": "2022-03-14T14:17:06.056Z"
   },
   {
    "duration": 4,
    "start_time": "2022-03-14T14:17:21.494Z"
   },
   {
    "duration": 10,
    "start_time": "2022-03-14T14:17:23.264Z"
   },
   {
    "duration": 4,
    "start_time": "2022-03-14T14:17:37.774Z"
   },
   {
    "duration": 19,
    "start_time": "2022-03-14T14:17:40.672Z"
   },
   {
    "duration": 379,
    "start_time": "2022-03-14T14:19:09.421Z"
   },
   {
    "duration": 5,
    "start_time": "2022-03-14T14:19:13.662Z"
   },
   {
    "duration": 12,
    "start_time": "2022-03-14T14:19:15.650Z"
   },
   {
    "duration": 4,
    "start_time": "2022-03-14T14:19:33.651Z"
   },
   {
    "duration": 285,
    "start_time": "2022-03-14T14:19:35.659Z"
   },
   {
    "duration": 4,
    "start_time": "2022-03-14T14:19:40.340Z"
   },
   {
    "duration": 12,
    "start_time": "2022-03-14T14:19:42.203Z"
   },
   {
    "duration": 4,
    "start_time": "2022-03-14T14:19:50.076Z"
   },
   {
    "duration": 12,
    "start_time": "2022-03-14T14:19:51.736Z"
   },
   {
    "duration": 5,
    "start_time": "2022-03-14T14:46:07.612Z"
   },
   {
    "duration": 285,
    "start_time": "2022-03-14T14:46:37.972Z"
   },
   {
    "duration": 12,
    "start_time": "2022-03-14T14:54:28.233Z"
   },
   {
    "duration": 11,
    "start_time": "2022-03-14T14:57:21.180Z"
   },
   {
    "duration": 11,
    "start_time": "2022-03-14T14:57:31.654Z"
   },
   {
    "duration": 12,
    "start_time": "2022-03-14T14:57:40.642Z"
   },
   {
    "duration": 14,
    "start_time": "2022-03-14T15:20:08.567Z"
   },
   {
    "duration": 3011,
    "start_time": "2022-03-14T15:24:18.659Z"
   },
   {
    "duration": 16,
    "start_time": "2022-03-14T15:24:59.655Z"
   },
   {
    "duration": 847,
    "start_time": "2022-03-14T15:54:17.394Z"
   },
   {
    "duration": 83,
    "start_time": "2022-03-14T15:54:18.244Z"
   },
   {
    "duration": 52,
    "start_time": "2022-03-14T15:54:18.330Z"
   },
   {
    "duration": 15,
    "start_time": "2022-03-14T15:54:18.385Z"
   },
   {
    "duration": 13,
    "start_time": "2022-03-14T15:54:18.402Z"
   },
   {
    "duration": 10,
    "start_time": "2022-03-14T15:54:18.417Z"
   },
   {
    "duration": 7,
    "start_time": "2022-03-14T15:54:18.430Z"
   },
   {
    "duration": 44,
    "start_time": "2022-03-14T15:54:18.440Z"
   },
   {
    "duration": 8,
    "start_time": "2022-03-14T15:54:18.488Z"
   },
   {
    "duration": 30,
    "start_time": "2022-03-14T15:54:18.499Z"
   },
   {
    "duration": 6,
    "start_time": "2022-03-14T15:54:18.531Z"
   },
   {
    "duration": 54,
    "start_time": "2022-03-14T15:54:18.540Z"
   },
   {
    "duration": 9,
    "start_time": "2022-03-14T15:54:18.597Z"
   },
   {
    "duration": 9,
    "start_time": "2022-03-14T15:54:18.609Z"
   },
   {
    "duration": 10,
    "start_time": "2022-03-14T15:54:18.620Z"
   },
   {
    "duration": 6,
    "start_time": "2022-03-14T15:54:18.632Z"
   },
   {
    "duration": 41,
    "start_time": "2022-03-14T15:54:18.641Z"
   },
   {
    "duration": 17,
    "start_time": "2022-03-14T15:54:18.685Z"
   },
   {
    "duration": 20,
    "start_time": "2022-03-14T15:54:18.705Z"
   },
   {
    "duration": 422,
    "start_time": "2022-03-14T15:54:18.727Z"
   },
   {
    "duration": 8,
    "start_time": "2022-03-14T15:54:19.152Z"
   },
   {
    "duration": 307,
    "start_time": "2022-03-14T15:54:19.162Z"
   },
   {
    "duration": 58,
    "start_time": "2022-03-14T15:54:19.472Z"
   },
   {
    "duration": 61,
    "start_time": "2022-03-14T15:54:19.533Z"
   },
   {
    "duration": 29,
    "start_time": "2022-03-14T15:54:19.597Z"
   },
   {
    "duration": 12,
    "start_time": "2022-03-14T15:54:19.628Z"
   },
   {
    "duration": 40,
    "start_time": "2022-03-14T15:54:19.646Z"
   },
   {
    "duration": 16,
    "start_time": "2022-03-14T15:54:19.690Z"
   },
   {
    "duration": 5,
    "start_time": "2022-03-14T15:54:19.709Z"
   },
   {
    "duration": 6,
    "start_time": "2022-03-14T15:54:19.717Z"
   },
   {
    "duration": 915,
    "start_time": "2022-03-14T15:54:19.725Z"
   },
   {
    "duration": 6,
    "start_time": "2022-03-14T15:54:20.642Z"
   },
   {
    "duration": 11,
    "start_time": "2022-03-14T15:54:20.651Z"
   },
   {
    "duration": 42,
    "start_time": "2022-03-14T15:54:20.665Z"
   },
   {
    "duration": 10,
    "start_time": "2022-03-14T15:54:20.709Z"
   },
   {
    "duration": 592,
    "start_time": "2022-03-14T15:54:20.722Z"
   },
   {
    "duration": 10,
    "start_time": "2022-03-14T15:54:21.317Z"
   },
   {
    "duration": 5732,
    "start_time": "2022-03-14T15:54:21.329Z"
   },
   {
    "duration": 18,
    "start_time": "2022-03-14T15:54:27.064Z"
   },
   {
    "duration": 462,
    "start_time": "2022-03-14T15:54:27.084Z"
   },
   {
    "duration": 15,
    "start_time": "2022-03-14T15:54:27.549Z"
   },
   {
    "duration": 436,
    "start_time": "2022-03-14T15:54:27.583Z"
   },
   {
    "duration": 576,
    "start_time": "2022-03-14T15:54:28.021Z"
   },
   {
    "duration": 13,
    "start_time": "2022-03-14T15:54:28.600Z"
   },
   {
    "duration": 8050,
    "start_time": "2022-03-14T15:54:28.615Z"
   },
   {
    "duration": 27,
    "start_time": "2022-03-14T15:54:36.668Z"
   },
   {
    "duration": 653,
    "start_time": "2022-03-14T15:54:36.698Z"
   },
   {
    "duration": 30,
    "start_time": "2022-03-14T15:54:37.354Z"
   },
   {
    "duration": 9088,
    "start_time": "2022-03-14T15:54:37.387Z"
   },
   {
    "duration": 16,
    "start_time": "2022-03-14T15:54:46.478Z"
   },
   {
    "duration": 30,
    "start_time": "2022-03-14T15:54:46.496Z"
   },
   {
    "duration": 15,
    "start_time": "2022-03-14T15:54:46.528Z"
   },
   {
    "duration": 57,
    "start_time": "2022-03-14T15:54:46.546Z"
   },
   {
    "duration": 32,
    "start_time": "2022-03-14T15:54:46.606Z"
   },
   {
    "duration": 12,
    "start_time": "2022-03-14T15:54:46.640Z"
   },
   {
    "duration": 29,
    "start_time": "2022-03-14T15:54:46.655Z"
   },
   {
    "duration": 20,
    "start_time": "2022-03-14T15:54:46.687Z"
   },
   {
    "duration": 4,
    "start_time": "2022-03-14T15:54:46.710Z"
   },
   {
    "duration": 9,
    "start_time": "2022-03-14T15:54:46.716Z"
   },
   {
    "duration": 7,
    "start_time": "2022-03-14T15:54:46.727Z"
   },
   {
    "duration": 703,
    "start_time": "2022-03-14T15:54:46.737Z"
   },
   {
    "duration": 7,
    "start_time": "2022-03-14T15:54:47.443Z"
   },
   {
    "duration": 689,
    "start_time": "2022-03-14T15:54:47.452Z"
   },
   {
    "duration": 8,
    "start_time": "2022-03-14T15:54:48.145Z"
   },
   {
    "duration": 31,
    "start_time": "2022-03-14T15:54:48.156Z"
   },
   {
    "duration": 51,
    "start_time": "2022-03-14T15:54:48.190Z"
   },
   {
    "duration": 601,
    "start_time": "2022-03-14T15:54:48.243Z"
   },
   {
    "duration": 13,
    "start_time": "2022-03-14T15:54:48.846Z"
   },
   {
    "duration": 3389,
    "start_time": "2022-03-14T15:54:48.882Z"
   },
   {
    "duration": 16,
    "start_time": "2022-03-14T15:54:52.274Z"
   },
   {
    "duration": 367,
    "start_time": "2022-03-14T15:54:52.293Z"
   },
   {
    "duration": 23,
    "start_time": "2022-03-14T15:54:52.662Z"
   },
   {
    "duration": 339,
    "start_time": "2022-03-14T15:54:52.687Z"
   },
   {
    "duration": 11,
    "start_time": "2022-03-14T15:54:53.029Z"
   },
   {
    "duration": 3199,
    "start_time": "2022-03-14T15:54:53.043Z"
   },
   {
    "duration": 17,
    "start_time": "2022-03-14T15:54:56.244Z"
   },
   {
    "duration": 3235,
    "start_time": "2022-03-14T15:54:56.263Z"
   },
   {
    "duration": 20,
    "start_time": "2022-03-14T15:54:59.502Z"
   },
   {
    "duration": 34,
    "start_time": "2022-03-14T15:59:05.880Z"
   },
   {
    "duration": 802,
    "start_time": "2022-03-14T16:04:59.869Z"
   },
   {
    "duration": 86,
    "start_time": "2022-03-14T16:05:00.674Z"
   },
   {
    "duration": 47,
    "start_time": "2022-03-14T16:05:00.764Z"
   },
   {
    "duration": 17,
    "start_time": "2022-03-14T16:05:00.814Z"
   },
   {
    "duration": 18,
    "start_time": "2022-03-14T16:05:00.834Z"
   },
   {
    "duration": 10,
    "start_time": "2022-03-14T16:05:00.882Z"
   },
   {
    "duration": 8,
    "start_time": "2022-03-14T16:05:00.895Z"
   },
   {
    "duration": 10,
    "start_time": "2022-03-14T16:05:00.907Z"
   },
   {
    "duration": 12,
    "start_time": "2022-03-14T16:05:00.920Z"
   },
   {
    "duration": 61,
    "start_time": "2022-03-14T16:05:00.934Z"
   },
   {
    "duration": 7,
    "start_time": "2022-03-14T16:05:00.998Z"
   },
   {
    "duration": 28,
    "start_time": "2022-03-14T16:05:01.007Z"
   },
   {
    "duration": 14,
    "start_time": "2022-03-14T16:05:01.037Z"
   },
   {
    "duration": 15,
    "start_time": "2022-03-14T16:05:01.053Z"
   },
   {
    "duration": 25,
    "start_time": "2022-03-14T16:05:01.070Z"
   },
   {
    "duration": 11,
    "start_time": "2022-03-14T16:05:01.097Z"
   },
   {
    "duration": 13,
    "start_time": "2022-03-14T16:05:01.110Z"
   },
   {
    "duration": 18,
    "start_time": "2022-03-14T16:05:01.126Z"
   },
   {
    "duration": 31,
    "start_time": "2022-03-14T16:05:01.146Z"
   },
   {
    "duration": 369,
    "start_time": "2022-03-14T16:05:01.179Z"
   },
   {
    "duration": 8,
    "start_time": "2022-03-14T16:05:01.551Z"
   },
   {
    "duration": 306,
    "start_time": "2022-03-14T16:05:01.561Z"
   },
   {
    "duration": 42,
    "start_time": "2022-03-14T16:05:01.869Z"
   },
   {
    "duration": 29,
    "start_time": "2022-03-14T16:05:01.914Z"
   },
   {
    "duration": 41,
    "start_time": "2022-03-14T16:05:01.946Z"
   },
   {
    "duration": 12,
    "start_time": "2022-03-14T16:05:01.996Z"
   },
   {
    "duration": 30,
    "start_time": "2022-03-14T16:05:02.011Z"
   },
   {
    "duration": 6,
    "start_time": "2022-03-14T16:05:02.043Z"
   },
   {
    "duration": 31,
    "start_time": "2022-03-14T16:05:02.051Z"
   },
   {
    "duration": 916,
    "start_time": "2022-03-14T16:05:02.085Z"
   },
   {
    "duration": 6,
    "start_time": "2022-03-14T16:05:03.004Z"
   },
   {
    "duration": 15,
    "start_time": "2022-03-14T16:05:03.012Z"
   },
   {
    "duration": 42,
    "start_time": "2022-03-14T16:05:03.029Z"
   },
   {
    "duration": 16,
    "start_time": "2022-03-14T16:05:03.074Z"
   },
   {
    "duration": 561,
    "start_time": "2022-03-14T16:05:03.093Z"
   },
   {
    "duration": 26,
    "start_time": "2022-03-14T16:05:03.656Z"
   },
   {
    "duration": 6541,
    "start_time": "2022-03-14T16:05:03.685Z"
   },
   {
    "duration": 10,
    "start_time": "2022-03-14T16:05:10.228Z"
   },
   {
    "duration": 491,
    "start_time": "2022-03-14T16:05:10.241Z"
   },
   {
    "duration": 12,
    "start_time": "2022-03-14T16:05:10.735Z"
   },
   {
    "duration": 461,
    "start_time": "2022-03-14T16:05:10.750Z"
   },
   {
    "duration": 859,
    "start_time": "2022-03-14T16:05:11.214Z"
   },
   {
    "duration": 15,
    "start_time": "2022-03-14T16:05:12.083Z"
   },
   {
    "duration": 11233,
    "start_time": "2022-03-14T16:05:12.101Z"
   },
   {
    "duration": 16,
    "start_time": "2022-03-14T16:05:23.337Z"
   },
   {
    "duration": 715,
    "start_time": "2022-03-14T16:05:23.356Z"
   },
   {
    "duration": 16,
    "start_time": "2022-03-14T16:05:24.074Z"
   },
   {
    "duration": 8839,
    "start_time": "2022-03-14T16:05:24.093Z"
   },
   {
    "duration": 15,
    "start_time": "2022-03-14T16:05:32.934Z"
   },
   {
    "duration": 59,
    "start_time": "2022-03-14T16:05:32.951Z"
   },
   {
    "duration": 14,
    "start_time": "2022-03-14T16:05:33.013Z"
   },
   {
    "duration": 18,
    "start_time": "2022-03-14T16:05:33.030Z"
   },
   {
    "duration": 57,
    "start_time": "2022-03-14T16:05:33.051Z"
   },
   {
    "duration": 11,
    "start_time": "2022-03-14T16:05:33.111Z"
   },
   {
    "duration": 7,
    "start_time": "2022-03-14T16:05:33.124Z"
   },
   {
    "duration": 54,
    "start_time": "2022-03-14T16:05:33.133Z"
   },
   {
    "duration": 5,
    "start_time": "2022-03-14T16:05:33.190Z"
   },
   {
    "duration": 7,
    "start_time": "2022-03-14T16:05:33.198Z"
   },
   {
    "duration": 6,
    "start_time": "2022-03-14T16:05:33.208Z"
   },
   {
    "duration": 596,
    "start_time": "2022-03-14T16:05:33.217Z"
   },
   {
    "duration": 8,
    "start_time": "2022-03-14T16:05:33.815Z"
   },
   {
    "duration": 622,
    "start_time": "2022-03-14T16:05:33.825Z"
   },
   {
    "duration": 8,
    "start_time": "2022-03-14T16:05:34.450Z"
   },
   {
    "duration": 32,
    "start_time": "2022-03-14T16:05:34.461Z"
   },
   {
    "duration": 38,
    "start_time": "2022-03-14T16:05:34.495Z"
   },
   {
    "duration": 577,
    "start_time": "2022-03-14T16:05:34.535Z"
   },
   {
    "duration": 11,
    "start_time": "2022-03-14T16:05:35.114Z"
   },
   {
    "duration": 3058,
    "start_time": "2022-03-14T16:05:35.127Z"
   },
   {
    "duration": 11,
    "start_time": "2022-03-14T16:05:38.187Z"
   },
   {
    "duration": 347,
    "start_time": "2022-03-14T16:05:38.201Z"
   },
   {
    "duration": 10,
    "start_time": "2022-03-14T16:05:38.551Z"
   },
   {
    "duration": 359,
    "start_time": "2022-03-14T16:05:38.563Z"
   },
   {
    "duration": 13,
    "start_time": "2022-03-14T16:05:38.925Z"
   },
   {
    "duration": 3161,
    "start_time": "2022-03-14T16:05:38.941Z"
   },
   {
    "duration": 15,
    "start_time": "2022-03-14T16:05:42.104Z"
   },
   {
    "duration": 3408,
    "start_time": "2022-03-14T16:05:42.122Z"
   },
   {
    "duration": 15,
    "start_time": "2022-03-14T16:05:45.532Z"
   },
   {
    "duration": 411,
    "start_time": "2022-03-24T16:11:41.086Z"
   },
   {
    "duration": 76,
    "start_time": "2022-03-24T16:11:41.499Z"
   },
   {
    "duration": 34,
    "start_time": "2022-03-24T16:11:41.577Z"
   },
   {
    "duration": 18,
    "start_time": "2022-03-24T16:11:41.613Z"
   },
   {
    "duration": 9,
    "start_time": "2022-03-24T16:11:41.632Z"
   },
   {
    "duration": 7,
    "start_time": "2022-03-24T16:11:41.642Z"
   },
   {
    "duration": 9,
    "start_time": "2022-03-24T16:11:41.650Z"
   },
   {
    "duration": 23,
    "start_time": "2022-03-24T16:11:41.660Z"
   },
   {
    "duration": 15,
    "start_time": "2022-03-24T16:11:41.690Z"
   },
   {
    "duration": 21,
    "start_time": "2022-03-24T16:11:41.707Z"
   },
   {
    "duration": 4,
    "start_time": "2022-03-24T16:11:41.729Z"
   },
   {
    "duration": 12,
    "start_time": "2022-03-24T16:11:41.734Z"
   },
   {
    "duration": 4,
    "start_time": "2022-03-24T16:11:41.747Z"
   },
   {
    "duration": 7,
    "start_time": "2022-03-24T16:11:41.753Z"
   },
   {
    "duration": 28,
    "start_time": "2022-03-24T16:11:41.761Z"
   },
   {
    "duration": 10,
    "start_time": "2022-03-24T16:11:41.790Z"
   },
   {
    "duration": 3,
    "start_time": "2022-03-24T16:11:41.802Z"
   },
   {
    "duration": 12,
    "start_time": "2022-03-24T16:11:41.807Z"
   },
   {
    "duration": 11,
    "start_time": "2022-03-24T16:11:41.820Z"
   },
   {
    "duration": 730,
    "start_time": "2022-03-24T16:11:41.833Z"
   },
   {
    "duration": 16,
    "start_time": "2022-03-24T16:11:42.565Z"
   },
   {
    "duration": 114,
    "start_time": "2022-03-24T16:11:42.584Z"
   },
   {
    "duration": 22,
    "start_time": "2022-03-24T16:11:42.700Z"
   },
   {
    "duration": 18,
    "start_time": "2022-03-24T16:11:42.723Z"
   },
   {
    "duration": 9,
    "start_time": "2022-03-24T16:11:42.743Z"
   },
   {
    "duration": 33,
    "start_time": "2022-03-24T16:11:42.754Z"
   },
   {
    "duration": 12,
    "start_time": "2022-03-24T16:11:42.789Z"
   },
   {
    "duration": 5,
    "start_time": "2022-03-24T16:11:42.805Z"
   },
   {
    "duration": 4,
    "start_time": "2022-03-24T16:11:42.811Z"
   },
   {
    "duration": 338,
    "start_time": "2022-03-24T16:11:42.816Z"
   },
   {
    "duration": 4,
    "start_time": "2022-03-24T16:11:43.155Z"
   },
   {
    "duration": 8,
    "start_time": "2022-03-24T16:11:43.160Z"
   },
   {
    "duration": 31,
    "start_time": "2022-03-24T16:11:43.169Z"
   },
   {
    "duration": 8,
    "start_time": "2022-03-24T16:11:43.202Z"
   },
   {
    "duration": 243,
    "start_time": "2022-03-24T16:11:43.212Z"
   },
   {
    "duration": 9,
    "start_time": "2022-03-24T16:11:43.457Z"
   },
   {
    "duration": 2288,
    "start_time": "2022-03-24T16:11:43.468Z"
   },
   {
    "duration": 7,
    "start_time": "2022-03-24T16:11:45.758Z"
   },
   {
    "duration": 154,
    "start_time": "2022-03-24T16:11:45.767Z"
   },
   {
    "duration": 9,
    "start_time": "2022-03-24T16:11:45.922Z"
   },
   {
    "duration": 199,
    "start_time": "2022-03-24T16:11:45.932Z"
   },
   {
    "duration": 222,
    "start_time": "2022-03-24T16:11:46.133Z"
   },
   {
    "duration": 8,
    "start_time": "2022-03-24T16:11:46.356Z"
   },
   {
    "duration": 1695,
    "start_time": "2022-03-24T16:11:46.366Z"
   },
   {
    "duration": 11,
    "start_time": "2022-03-24T16:11:48.063Z"
   },
   {
    "duration": 132,
    "start_time": "2022-03-24T16:11:48.076Z"
   },
   {
    "duration": 8,
    "start_time": "2022-03-24T16:11:48.209Z"
   },
   {
    "duration": 1630,
    "start_time": "2022-03-24T16:11:48.218Z"
   },
   {
    "duration": 14,
    "start_time": "2022-03-24T16:11:49.850Z"
   },
   {
    "duration": 36,
    "start_time": "2022-03-24T16:11:49.865Z"
   },
   {
    "duration": 9,
    "start_time": "2022-03-24T16:11:49.903Z"
   },
   {
    "duration": 14,
    "start_time": "2022-03-24T16:11:49.914Z"
   },
   {
    "duration": 22,
    "start_time": "2022-03-24T16:11:49.929Z"
   },
   {
    "duration": 17,
    "start_time": "2022-03-24T16:11:49.952Z"
   },
   {
    "duration": 16,
    "start_time": "2022-03-24T16:11:49.971Z"
   },
   {
    "duration": 21,
    "start_time": "2022-03-24T16:11:49.989Z"
   },
   {
    "duration": 8,
    "start_time": "2022-03-24T16:11:50.012Z"
   },
   {
    "duration": 11,
    "start_time": "2022-03-24T16:11:50.022Z"
   },
   {
    "duration": 8,
    "start_time": "2022-03-24T16:11:50.035Z"
   },
   {
    "duration": 193,
    "start_time": "2022-03-24T16:11:50.046Z"
   },
   {
    "duration": 6,
    "start_time": "2022-03-24T16:11:50.241Z"
   },
   {
    "duration": 210,
    "start_time": "2022-03-24T16:11:50.249Z"
   },
   {
    "duration": 5,
    "start_time": "2022-03-24T16:11:50.461Z"
   },
   {
    "duration": 20,
    "start_time": "2022-03-24T16:11:50.468Z"
   },
   {
    "duration": 31,
    "start_time": "2022-03-24T16:11:50.490Z"
   },
   {
    "duration": 220,
    "start_time": "2022-03-24T16:11:50.522Z"
   },
   {
    "duration": 8,
    "start_time": "2022-03-24T16:11:50.743Z"
   },
   {
    "duration": 1442,
    "start_time": "2022-03-24T16:11:50.753Z"
   },
   {
    "duration": 8,
    "start_time": "2022-03-24T16:11:52.197Z"
   },
   {
    "duration": 172,
    "start_time": "2022-03-24T16:11:52.206Z"
   },
   {
    "duration": 10,
    "start_time": "2022-03-24T16:11:52.383Z"
   },
   {
    "duration": 212,
    "start_time": "2022-03-24T16:11:52.395Z"
   },
   {
    "duration": 7,
    "start_time": "2022-03-24T16:11:52.609Z"
   },
   {
    "duration": 1286,
    "start_time": "2022-03-24T16:11:52.618Z"
   },
   {
    "duration": 10,
    "start_time": "2022-03-24T16:11:53.905Z"
   },
   {
    "duration": 921,
    "start_time": "2022-03-24T16:11:53.916Z"
   },
   {
    "duration": 11,
    "start_time": "2022-03-24T16:11:54.839Z"
   },
   {
    "duration": 21,
    "start_time": "2022-03-24T18:11:48.679Z"
   },
   {
    "duration": 425,
    "start_time": "2022-03-24T19:12:18.356Z"
   },
   {
    "duration": 77,
    "start_time": "2022-03-24T19:12:18.783Z"
   },
   {
    "duration": 24,
    "start_time": "2022-03-24T19:12:18.861Z"
   },
   {
    "duration": 13,
    "start_time": "2022-03-24T19:12:18.887Z"
   },
   {
    "duration": 8,
    "start_time": "2022-03-24T19:12:18.901Z"
   },
   {
    "duration": 6,
    "start_time": "2022-03-24T19:12:18.910Z"
   },
   {
    "duration": 8,
    "start_time": "2022-03-24T19:12:18.917Z"
   },
   {
    "duration": 8,
    "start_time": "2022-03-24T19:12:18.926Z"
   },
   {
    "duration": 5,
    "start_time": "2022-03-24T19:12:18.935Z"
   },
   {
    "duration": 44,
    "start_time": "2022-03-24T19:12:18.942Z"
   },
   {
    "duration": 4,
    "start_time": "2022-03-24T19:12:18.987Z"
   },
   {
    "duration": 12,
    "start_time": "2022-03-24T19:12:18.992Z"
   },
   {
    "duration": 6,
    "start_time": "2022-03-24T19:12:19.005Z"
   },
   {
    "duration": 8,
    "start_time": "2022-03-24T19:12:19.012Z"
   },
   {
    "duration": 5,
    "start_time": "2022-03-24T19:12:19.021Z"
   },
   {
    "duration": 4,
    "start_time": "2022-03-24T19:12:19.027Z"
   },
   {
    "duration": 8,
    "start_time": "2022-03-24T19:12:19.032Z"
   },
   {
    "duration": 9,
    "start_time": "2022-03-24T19:12:19.041Z"
   },
   {
    "duration": 31,
    "start_time": "2022-03-24T19:12:19.051Z"
   },
   {
    "duration": 378,
    "start_time": "2022-03-24T19:12:19.084Z"
   },
   {
    "duration": 6,
    "start_time": "2022-03-24T19:12:19.464Z"
   },
   {
    "duration": 116,
    "start_time": "2022-03-24T19:12:19.471Z"
   },
   {
    "duration": 22,
    "start_time": "2022-03-24T19:12:19.588Z"
   },
   {
    "duration": 18,
    "start_time": "2022-03-24T19:12:19.611Z"
   },
   {
    "duration": 10,
    "start_time": "2022-03-24T19:12:19.630Z"
   },
   {
    "duration": 12,
    "start_time": "2022-03-24T19:12:19.642Z"
   },
   {
    "duration": 35,
    "start_time": "2022-03-24T19:12:19.655Z"
   },
   {
    "duration": 3,
    "start_time": "2022-03-24T19:12:19.693Z"
   },
   {
    "duration": 6,
    "start_time": "2022-03-24T19:12:19.698Z"
   },
   {
    "duration": 278,
    "start_time": "2022-03-24T19:12:19.705Z"
   },
   {
    "duration": 4,
    "start_time": "2022-03-24T19:12:19.984Z"
   },
   {
    "duration": 6,
    "start_time": "2022-03-24T19:12:19.989Z"
   },
   {
    "duration": 23,
    "start_time": "2022-03-24T19:12:19.996Z"
   },
   {
    "duration": 9,
    "start_time": "2022-03-24T19:12:20.021Z"
   },
   {
    "duration": 274,
    "start_time": "2022-03-24T19:12:20.032Z"
   },
   {
    "duration": 8,
    "start_time": "2022-03-24T19:12:20.308Z"
   },
   {
    "duration": 2075,
    "start_time": "2022-03-24T19:12:20.317Z"
   },
   {
    "duration": 8,
    "start_time": "2022-03-24T19:12:22.394Z"
   },
   {
    "duration": 147,
    "start_time": "2022-03-24T19:12:22.403Z"
   },
   {
    "duration": 8,
    "start_time": "2022-03-24T19:12:22.551Z"
   },
   {
    "duration": 177,
    "start_time": "2022-03-24T19:12:22.561Z"
   },
   {
    "duration": 211,
    "start_time": "2022-03-24T19:12:22.739Z"
   },
   {
    "duration": 8,
    "start_time": "2022-03-24T19:12:22.952Z"
   },
   {
    "duration": 1509,
    "start_time": "2022-03-24T19:12:22.962Z"
   },
   {
    "duration": 11,
    "start_time": "2022-03-24T19:12:24.480Z"
   },
   {
    "duration": 143,
    "start_time": "2022-03-24T19:12:24.492Z"
   },
   {
    "duration": 8,
    "start_time": "2022-03-24T19:12:24.636Z"
   },
   {
    "duration": 1665,
    "start_time": "2022-03-24T19:12:24.645Z"
   },
   {
    "duration": 12,
    "start_time": "2022-03-24T19:12:26.311Z"
   },
   {
    "duration": 20,
    "start_time": "2022-03-24T19:12:26.324Z"
   },
   {
    "duration": 8,
    "start_time": "2022-03-24T19:12:26.346Z"
   },
   {
    "duration": 13,
    "start_time": "2022-03-24T19:12:26.356Z"
   },
   {
    "duration": 26,
    "start_time": "2022-03-24T19:12:26.371Z"
   },
   {
    "duration": 6,
    "start_time": "2022-03-24T19:12:26.399Z"
   },
   {
    "duration": 7,
    "start_time": "2022-03-24T19:12:26.407Z"
   },
   {
    "duration": 12,
    "start_time": "2022-03-24T19:12:26.415Z"
   },
   {
    "duration": 7,
    "start_time": "2022-03-24T19:12:26.428Z"
   },
   {
    "duration": 4,
    "start_time": "2022-03-24T19:12:26.436Z"
   },
   {
    "duration": 6,
    "start_time": "2022-03-24T19:12:26.441Z"
   },
   {
    "duration": 140,
    "start_time": "2022-03-24T19:12:26.449Z"
   },
   {
    "duration": 5,
    "start_time": "2022-03-24T19:12:26.590Z"
   },
   {
    "duration": 214,
    "start_time": "2022-03-24T19:12:26.597Z"
   },
   {
    "duration": 5,
    "start_time": "2022-03-24T19:12:26.813Z"
   },
   {
    "duration": 60,
    "start_time": "2022-03-24T19:12:26.821Z"
   },
   {
    "duration": 21,
    "start_time": "2022-03-24T19:12:26.883Z"
   },
   {
    "duration": 295,
    "start_time": "2022-03-24T19:12:26.906Z"
   },
   {
    "duration": 8,
    "start_time": "2022-03-24T19:12:27.202Z"
   },
   {
    "duration": 1350,
    "start_time": "2022-03-24T19:12:27.211Z"
   },
   {
    "duration": 7,
    "start_time": "2022-03-24T19:12:28.563Z"
   },
   {
    "duration": 143,
    "start_time": "2022-03-24T19:12:28.571Z"
   },
   {
    "duration": 8,
    "start_time": "2022-03-24T19:12:28.716Z"
   },
   {
    "duration": 148,
    "start_time": "2022-03-24T19:12:28.725Z"
   },
   {
    "duration": 11,
    "start_time": "2022-03-24T19:12:28.875Z"
   },
   {
    "duration": 1039,
    "start_time": "2022-03-24T19:12:28.888Z"
   },
   {
    "duration": 10,
    "start_time": "2022-03-24T19:12:29.928Z"
   },
   {
    "duration": 852,
    "start_time": "2022-03-24T19:12:29.939Z"
   },
   {
    "duration": 10,
    "start_time": "2022-03-24T19:12:30.792Z"
   },
   {
    "duration": 576,
    "start_time": "2022-03-26T07:40:54.824Z"
   },
   {
    "duration": 117,
    "start_time": "2022-03-26T07:40:55.404Z"
   },
   {
    "duration": 61,
    "start_time": "2022-03-26T07:40:55.523Z"
   },
   {
    "duration": 29,
    "start_time": "2022-03-26T07:40:55.587Z"
   },
   {
    "duration": 19,
    "start_time": "2022-03-26T07:40:55.620Z"
   },
   {
    "duration": 7,
    "start_time": "2022-03-26T07:40:55.666Z"
   },
   {
    "duration": 9,
    "start_time": "2022-03-26T07:40:55.676Z"
   },
   {
    "duration": 14,
    "start_time": "2022-03-26T07:40:55.688Z"
   },
   {
    "duration": 7,
    "start_time": "2022-03-26T07:40:55.704Z"
   },
   {
    "duration": 65,
    "start_time": "2022-03-26T07:40:55.713Z"
   },
   {
    "duration": 8,
    "start_time": "2022-03-26T07:40:55.780Z"
   },
   {
    "duration": 27,
    "start_time": "2022-03-26T07:40:55.794Z"
   },
   {
    "duration": 8,
    "start_time": "2022-03-26T07:40:55.823Z"
   },
   {
    "duration": 37,
    "start_time": "2022-03-26T07:40:55.838Z"
   },
   {
    "duration": 16,
    "start_time": "2022-03-26T07:40:55.877Z"
   },
   {
    "duration": 16,
    "start_time": "2022-03-26T07:40:55.897Z"
   },
   {
    "duration": 17,
    "start_time": "2022-03-26T07:40:55.915Z"
   },
   {
    "duration": 19,
    "start_time": "2022-03-26T07:40:55.935Z"
   },
   {
    "duration": 30,
    "start_time": "2022-03-26T07:40:55.955Z"
   },
   {
    "duration": 869,
    "start_time": "2022-03-26T07:40:55.988Z"
   },
   {
    "duration": 14,
    "start_time": "2022-03-26T07:40:56.860Z"
   },
   {
    "duration": 228,
    "start_time": "2022-03-26T07:40:56.878Z"
   },
   {
    "duration": 58,
    "start_time": "2022-03-26T07:40:57.109Z"
   },
   {
    "duration": 40,
    "start_time": "2022-03-26T07:40:57.170Z"
   },
   {
    "duration": 14,
    "start_time": "2022-03-26T07:40:57.213Z"
   },
   {
    "duration": 54,
    "start_time": "2022-03-26T07:40:57.229Z"
   },
   {
    "duration": 18,
    "start_time": "2022-03-26T07:40:57.286Z"
   },
   {
    "duration": 7,
    "start_time": "2022-03-26T07:40:57.306Z"
   },
   {
    "duration": 8,
    "start_time": "2022-03-26T07:40:57.315Z"
   },
   {
    "duration": 626,
    "start_time": "2022-03-26T07:40:57.325Z"
   },
   {
    "duration": 11,
    "start_time": "2022-03-26T07:40:57.953Z"
   },
   {
    "duration": 7,
    "start_time": "2022-03-26T07:40:57.968Z"
   },
   {
    "duration": 46,
    "start_time": "2022-03-26T07:40:57.977Z"
   },
   {
    "duration": 47,
    "start_time": "2022-03-26T07:40:58.026Z"
   },
   {
    "duration": 490,
    "start_time": "2022-03-26T07:40:58.077Z"
   },
   {
    "duration": 14,
    "start_time": "2022-03-26T07:40:58.570Z"
   },
   {
    "duration": 4781,
    "start_time": "2022-03-26T07:40:58.587Z"
   },
   {
    "duration": 14,
    "start_time": "2022-03-26T07:41:03.371Z"
   },
   {
    "duration": 297,
    "start_time": "2022-03-26T07:41:03.389Z"
   },
   {
    "duration": 16,
    "start_time": "2022-03-26T07:41:03.689Z"
   },
   {
    "duration": 463,
    "start_time": "2022-03-26T07:41:03.713Z"
   },
   {
    "duration": 96,
    "start_time": "2022-03-26T07:41:24.642Z"
   },
   {
    "duration": 465,
    "start_time": "2022-03-26T07:41:31.547Z"
   },
   {
    "duration": 467,
    "start_time": "2022-03-26T07:41:46.713Z"
   },
   {
    "duration": 536,
    "start_time": "2022-03-26T07:41:56.924Z"
   },
   {
    "duration": 608,
    "start_time": "2022-03-26T07:42:15.528Z"
   },
   {
    "duration": 386,
    "start_time": "2022-03-26T07:42:31.014Z"
   },
   {
    "duration": 385,
    "start_time": "2022-03-26T07:42:50.815Z"
   },
   {
    "duration": 617,
    "start_time": "2022-03-26T07:44:26.425Z"
   },
   {
    "duration": 166,
    "start_time": "2022-03-26T07:45:20.177Z"
   },
   {
    "duration": 4,
    "start_time": "2022-03-26T07:45:40.764Z"
   },
   {
    "duration": 165,
    "start_time": "2022-03-26T07:46:18.425Z"
   },
   {
    "duration": 365,
    "start_time": "2022-03-26T07:46:34.512Z"
   },
   {
    "duration": 515,
    "start_time": "2022-03-26T07:46:42.604Z"
   },
   {
    "duration": 398,
    "start_time": "2022-03-26T07:47:00.633Z"
   },
   {
    "duration": 8,
    "start_time": "2022-03-26T07:54:27.924Z"
   },
   {
    "duration": 416,
    "start_time": "2022-03-26T07:54:30.171Z"
   },
   {
    "duration": 414,
    "start_time": "2022-03-26T07:55:04.401Z"
   },
   {
    "duration": 2222,
    "start_time": "2022-03-26T07:55:13.283Z"
   },
   {
    "duration": 370,
    "start_time": "2022-03-26T07:55:34.300Z"
   },
   {
    "duration": 402,
    "start_time": "2022-03-26T07:55:43.112Z"
   },
   {
    "duration": 14,
    "start_time": "2022-03-26T07:55:57.928Z"
   },
   {
    "duration": 548,
    "start_time": "2022-03-26T08:03:34.726Z"
   },
   {
    "duration": 923,
    "start_time": "2022-03-26T08:03:35.277Z"
   },
   {
    "duration": 99,
    "start_time": "2022-03-26T08:03:36.202Z"
   },
   {
    "duration": 37,
    "start_time": "2022-03-26T08:03:36.303Z"
   },
   {
    "duration": 38,
    "start_time": "2022-03-26T08:03:36.343Z"
   },
   {
    "duration": 14,
    "start_time": "2022-03-26T08:03:36.383Z"
   },
   {
    "duration": 5,
    "start_time": "2022-03-26T08:03:36.399Z"
   },
   {
    "duration": 9,
    "start_time": "2022-03-26T08:03:36.406Z"
   },
   {
    "duration": 5,
    "start_time": "2022-03-26T08:03:36.417Z"
   },
   {
    "duration": 47,
    "start_time": "2022-03-26T08:03:36.424Z"
   },
   {
    "duration": 24,
    "start_time": "2022-03-26T08:03:36.473Z"
   },
   {
    "duration": 6,
    "start_time": "2022-03-26T08:03:36.500Z"
   },
   {
    "duration": 16,
    "start_time": "2022-03-26T08:03:36.508Z"
   },
   {
    "duration": 9,
    "start_time": "2022-03-26T08:03:36.566Z"
   },
   {
    "duration": 6,
    "start_time": "2022-03-26T08:03:36.578Z"
   },
   {
    "duration": 5,
    "start_time": "2022-03-26T08:03:36.586Z"
   },
   {
    "duration": 5,
    "start_time": "2022-03-26T08:03:36.594Z"
   },
   {
    "duration": 4,
    "start_time": "2022-03-26T08:03:36.602Z"
   },
   {
    "duration": 13,
    "start_time": "2022-03-26T08:03:36.608Z"
   },
   {
    "duration": 54,
    "start_time": "2022-03-26T08:03:36.623Z"
   },
   {
    "duration": 202,
    "start_time": "2022-03-26T08:03:36.679Z"
   },
   {
    "duration": 7,
    "start_time": "2022-03-26T08:03:36.883Z"
   },
   {
    "duration": 213,
    "start_time": "2022-03-26T08:03:36.892Z"
   },
   {
    "duration": 33,
    "start_time": "2022-03-26T08:03:37.107Z"
   },
   {
    "duration": 42,
    "start_time": "2022-03-26T08:03:37.143Z"
   },
   {
    "duration": 14,
    "start_time": "2022-03-26T08:03:37.187Z"
   },
   {
    "duration": 20,
    "start_time": "2022-03-26T08:03:37.203Z"
   },
   {
    "duration": 49,
    "start_time": "2022-03-26T08:03:37.225Z"
   },
   {
    "duration": 6,
    "start_time": "2022-03-26T08:03:37.276Z"
   },
   {
    "duration": 5,
    "start_time": "2022-03-26T08:03:37.284Z"
   },
   {
    "duration": 511,
    "start_time": "2022-03-26T08:03:37.292Z"
   },
   {
    "duration": 6,
    "start_time": "2022-03-26T08:03:37.806Z"
   },
   {
    "duration": 6,
    "start_time": "2022-03-26T08:03:37.814Z"
   },
   {
    "duration": 57,
    "start_time": "2022-03-26T08:03:37.822Z"
   },
   {
    "duration": 11,
    "start_time": "2022-03-26T08:03:37.881Z"
   },
   {
    "duration": 398,
    "start_time": "2022-03-26T08:03:37.895Z"
   },
   {
    "duration": 11,
    "start_time": "2022-03-26T08:03:38.296Z"
   },
   {
    "duration": 3799,
    "start_time": "2022-03-26T08:03:38.309Z"
   },
   {
    "duration": 11,
    "start_time": "2022-03-26T08:03:42.110Z"
   },
   {
    "duration": 255,
    "start_time": "2022-03-26T08:03:42.122Z"
   },
   {
    "duration": 13,
    "start_time": "2022-03-26T08:03:42.383Z"
   },
   {
    "duration": 333,
    "start_time": "2022-03-26T08:03:42.398Z"
   },
   {
    "duration": 603,
    "start_time": "2022-03-26T08:03:42.734Z"
   },
   {
    "duration": 176,
    "start_time": "2022-03-26T08:03:43.339Z"
   },
   {
    "duration": 8,
    "start_time": "2022-03-26T08:03:43.518Z"
   },
   {
    "duration": 387,
    "start_time": "2022-03-26T08:03:43.528Z"
   },
   {
    "duration": 13,
    "start_time": "2022-03-26T08:03:43.918Z"
   },
   {
    "duration": 13,
    "start_time": "2022-03-26T08:03:43.933Z"
   },
   {
    "duration": 23,
    "start_time": "2022-03-26T08:04:44.138Z"
   },
   {
    "duration": 14,
    "start_time": "2022-03-26T08:05:15.235Z"
   },
   {
    "duration": 4,
    "start_time": "2022-03-26T08:07:28.651Z"
   },
   {
    "duration": 4,
    "start_time": "2022-03-26T08:07:28.659Z"
   },
   {
    "duration": 105,
    "start_time": "2022-03-26T08:07:28.667Z"
   },
   {
    "duration": 35,
    "start_time": "2022-03-26T08:07:28.775Z"
   },
   {
    "duration": 22,
    "start_time": "2022-03-26T08:07:28.812Z"
   },
   {
    "duration": 42,
    "start_time": "2022-03-26T08:07:28.837Z"
   },
   {
    "duration": 9,
    "start_time": "2022-03-26T08:07:28.882Z"
   },
   {
    "duration": 12,
    "start_time": "2022-03-26T08:07:28.894Z"
   },
   {
    "duration": 8,
    "start_time": "2022-03-26T08:07:28.912Z"
   },
   {
    "duration": 50,
    "start_time": "2022-03-26T08:07:28.922Z"
   },
   {
    "duration": 27,
    "start_time": "2022-03-26T08:07:28.974Z"
   },
   {
    "duration": 7,
    "start_time": "2022-03-26T08:07:29.004Z"
   },
   {
    "duration": 58,
    "start_time": "2022-03-26T08:07:29.013Z"
   },
   {
    "duration": 9,
    "start_time": "2022-03-26T08:07:29.073Z"
   },
   {
    "duration": 7,
    "start_time": "2022-03-26T08:07:29.084Z"
   },
   {
    "duration": 6,
    "start_time": "2022-03-26T08:07:29.093Z"
   },
   {
    "duration": 8,
    "start_time": "2022-03-26T08:07:29.101Z"
   },
   {
    "duration": 7,
    "start_time": "2022-03-26T08:07:29.112Z"
   },
   {
    "duration": 49,
    "start_time": "2022-03-26T08:07:29.124Z"
   },
   {
    "duration": 11,
    "start_time": "2022-03-26T08:07:29.176Z"
   },
   {
    "duration": 222,
    "start_time": "2022-03-26T08:07:29.189Z"
   },
   {
    "duration": 8,
    "start_time": "2022-03-26T08:07:29.414Z"
   },
   {
    "duration": 300,
    "start_time": "2022-03-26T08:07:29.425Z"
   },
   {
    "duration": 59,
    "start_time": "2022-03-26T08:07:29.728Z"
   },
   {
    "duration": 34,
    "start_time": "2022-03-26T08:07:29.790Z"
   },
   {
    "duration": 14,
    "start_time": "2022-03-26T08:07:29.826Z"
   },
   {
    "duration": 18,
    "start_time": "2022-03-26T08:07:29.868Z"
   },
   {
    "duration": 21,
    "start_time": "2022-03-26T08:07:29.889Z"
   },
   {
    "duration": 26,
    "start_time": "2022-03-26T08:07:29.912Z"
   },
   {
    "duration": 36,
    "start_time": "2022-03-26T08:07:29.941Z"
   },
   {
    "duration": 491,
    "start_time": "2022-03-26T08:07:29.982Z"
   },
   {
    "duration": 6,
    "start_time": "2022-03-26T08:07:30.476Z"
   },
   {
    "duration": 26,
    "start_time": "2022-03-26T08:07:30.485Z"
   },
   {
    "duration": 68,
    "start_time": "2022-03-26T08:07:30.514Z"
   },
   {
    "duration": 11,
    "start_time": "2022-03-26T08:07:30.584Z"
   },
   {
    "duration": 561,
    "start_time": "2022-03-26T08:07:30.597Z"
   },
   {
    "duration": 18,
    "start_time": "2022-03-26T08:07:31.160Z"
   },
   {
    "duration": 4481,
    "start_time": "2022-03-26T08:07:31.180Z"
   },
   {
    "duration": 12,
    "start_time": "2022-03-26T08:07:35.663Z"
   },
   {
    "duration": 250,
    "start_time": "2022-03-26T08:07:35.677Z"
   },
   {
    "duration": 14,
    "start_time": "2022-03-26T08:07:35.929Z"
   },
   {
    "duration": 327,
    "start_time": "2022-03-26T08:07:35.945Z"
   },
   {
    "duration": 388,
    "start_time": "2022-03-26T08:07:36.274Z"
   },
   {
    "duration": 174,
    "start_time": "2022-03-26T08:07:36.666Z"
   },
   {
    "duration": 7,
    "start_time": "2022-03-26T08:07:36.845Z"
   },
   {
    "duration": 620,
    "start_time": "2022-03-26T08:07:36.854Z"
   },
   {
    "duration": 13,
    "start_time": "2022-03-26T08:07:37.476Z"
   },
   {
    "duration": 13,
    "start_time": "2022-03-26T08:07:37.492Z"
   },
   {
    "duration": 68,
    "start_time": "2022-03-26T08:08:07.114Z"
   },
   {
    "duration": 146,
    "start_time": "2022-03-26T08:11:29.642Z"
   },
   {
    "duration": 9,
    "start_time": "2022-03-26T08:17:17.222Z"
   },
   {
    "duration": 42,
    "start_time": "2022-03-26T08:17:27.421Z"
   },
   {
    "duration": 1173,
    "start_time": "2022-03-26T08:18:53.670Z"
   },
   {
    "duration": 161,
    "start_time": "2022-03-26T08:19:01.382Z"
   },
   {
    "duration": 52,
    "start_time": "2022-03-26T08:19:25.332Z"
   },
   {
    "duration": 47,
    "start_time": "2022-03-26T08:19:30.627Z"
   },
   {
    "duration": 48,
    "start_time": "2022-03-26T08:19:40.580Z"
   },
   {
    "duration": 29,
    "start_time": "2022-03-26T08:20:15.352Z"
   },
   {
    "duration": 62,
    "start_time": "2022-03-26T08:20:19.831Z"
   },
   {
    "duration": 63,
    "start_time": "2022-03-26T08:21:14.574Z"
   },
   {
    "duration": 10,
    "start_time": "2022-03-26T08:24:23.443Z"
   },
   {
    "duration": 8,
    "start_time": "2022-03-26T08:24:44.413Z"
   },
   {
    "duration": 3,
    "start_time": "2022-03-26T08:26:39.441Z"
   },
   {
    "duration": 9,
    "start_time": "2022-03-26T08:32:20.153Z"
   },
   {
    "duration": 10,
    "start_time": "2022-03-26T08:32:29.300Z"
   },
   {
    "duration": 9,
    "start_time": "2022-03-26T08:38:26.083Z"
   },
   {
    "duration": 8,
    "start_time": "2022-03-26T08:38:33.600Z"
   },
   {
    "duration": 8,
    "start_time": "2022-03-26T08:38:40.979Z"
   },
   {
    "duration": 9,
    "start_time": "2022-03-26T08:38:51.621Z"
   },
   {
    "duration": 10,
    "start_time": "2022-03-26T08:39:17.458Z"
   },
   {
    "duration": 15,
    "start_time": "2022-03-26T08:40:57.945Z"
   },
   {
    "duration": 7,
    "start_time": "2022-03-26T08:41:22.397Z"
   },
   {
    "duration": 11,
    "start_time": "2022-03-26T08:42:06.141Z"
   },
   {
    "duration": 10,
    "start_time": "2022-03-26T08:42:48.213Z"
   },
   {
    "duration": 17,
    "start_time": "2022-03-26T08:43:14.153Z"
   },
   {
    "duration": 15,
    "start_time": "2022-03-26T08:43:32.412Z"
   },
   {
    "duration": 10,
    "start_time": "2022-03-26T08:44:03.784Z"
   },
   {
    "duration": 9,
    "start_time": "2022-03-26T08:44:21.513Z"
   },
   {
    "duration": 9,
    "start_time": "2022-03-26T08:44:30.783Z"
   },
   {
    "duration": 9,
    "start_time": "2022-03-26T08:44:51.613Z"
   },
   {
    "duration": 8,
    "start_time": "2022-03-26T08:45:00.943Z"
   },
   {
    "duration": 11,
    "start_time": "2022-03-26T08:45:10.681Z"
   },
   {
    "duration": 11,
    "start_time": "2022-03-26T08:47:45.884Z"
   },
   {
    "duration": 9,
    "start_time": "2022-03-26T08:47:56.573Z"
   },
   {
    "duration": 13,
    "start_time": "2022-03-26T08:48:19.878Z"
   },
   {
    "duration": 41,
    "start_time": "2022-03-26T08:50:00.336Z"
   },
   {
    "duration": 6,
    "start_time": "2022-03-26T08:51:20.759Z"
   },
   {
    "duration": 10,
    "start_time": "2022-03-26T08:51:27.465Z"
   },
   {
    "duration": 8,
    "start_time": "2022-03-26T08:51:30.538Z"
   },
   {
    "duration": 38,
    "start_time": "2022-03-26T08:51:45.058Z"
   },
   {
    "duration": 12,
    "start_time": "2022-03-26T08:51:51.968Z"
   },
   {
    "duration": 538,
    "start_time": "2022-03-26T08:52:50.929Z"
   },
   {
    "duration": 1863,
    "start_time": "2022-03-26T08:52:51.471Z"
   },
   {
    "duration": 119,
    "start_time": "2022-03-26T08:52:53.337Z"
   },
   {
    "duration": 61,
    "start_time": "2022-03-26T08:52:53.458Z"
   },
   {
    "duration": 50,
    "start_time": "2022-03-26T08:52:53.524Z"
   },
   {
    "duration": 18,
    "start_time": "2022-03-26T08:52:53.576Z"
   },
   {
    "duration": 6,
    "start_time": "2022-03-26T08:52:53.596Z"
   },
   {
    "duration": 9,
    "start_time": "2022-03-26T08:52:53.604Z"
   },
   {
    "duration": 54,
    "start_time": "2022-03-26T08:52:53.615Z"
   },
   {
    "duration": 8,
    "start_time": "2022-03-26T08:52:53.672Z"
   },
   {
    "duration": 26,
    "start_time": "2022-03-26T08:52:53.683Z"
   },
   {
    "duration": 7,
    "start_time": "2022-03-26T08:52:53.711Z"
   },
   {
    "duration": 51,
    "start_time": "2022-03-26T08:52:53.720Z"
   },
   {
    "duration": 8,
    "start_time": "2022-03-26T08:52:53.775Z"
   },
   {
    "duration": 125,
    "start_time": "2022-03-26T08:52:53.785Z"
   },
   {
    "duration": 5,
    "start_time": "2022-03-26T08:52:53.913Z"
   },
   {
    "duration": 6,
    "start_time": "2022-03-26T08:52:53.920Z"
   },
   {
    "duration": 8,
    "start_time": "2022-03-26T08:52:53.928Z"
   },
   {
    "duration": 14,
    "start_time": "2022-03-26T08:52:53.938Z"
   },
   {
    "duration": 14,
    "start_time": "2022-03-26T08:52:53.955Z"
   },
   {
    "duration": 207,
    "start_time": "2022-03-26T08:52:53.971Z"
   },
   {
    "duration": 8,
    "start_time": "2022-03-26T08:52:54.181Z"
   },
   {
    "duration": 252,
    "start_time": "2022-03-26T08:52:54.191Z"
   },
   {
    "duration": 4,
    "start_time": "2022-03-26T08:52:54.446Z"
   },
   {
    "duration": 11,
    "start_time": "2022-03-26T08:52:54.468Z"
   },
   {
    "duration": 3,
    "start_time": "2022-03-26T08:52:54.481Z"
   },
   {
    "duration": 7,
    "start_time": "2022-03-26T08:52:54.487Z"
   },
   {
    "duration": 4,
    "start_time": "2022-03-26T08:52:54.497Z"
   },
   {
    "duration": 3,
    "start_time": "2022-03-26T08:53:42.799Z"
   },
   {
    "duration": 92,
    "start_time": "2022-03-26T08:58:30.049Z"
   },
   {
    "duration": 150,
    "start_time": "2022-03-26T08:58:34.138Z"
   },
   {
    "duration": 14,
    "start_time": "2022-03-26T08:59:11.166Z"
   },
   {
    "duration": 13,
    "start_time": "2022-03-26T08:59:37.734Z"
   },
   {
    "duration": 6,
    "start_time": "2022-03-26T08:59:51.925Z"
   },
   {
    "duration": 13,
    "start_time": "2022-03-26T08:59:58.676Z"
   },
   {
    "duration": 6,
    "start_time": "2022-03-26T09:00:35.273Z"
   },
   {
    "duration": 6,
    "start_time": "2022-03-26T09:00:42.236Z"
   },
   {
    "duration": 6,
    "start_time": "2022-03-26T09:00:45.655Z"
   },
   {
    "duration": 6,
    "start_time": "2022-03-26T09:00:52.176Z"
   },
   {
    "duration": 9,
    "start_time": "2022-03-26T09:00:55.016Z"
   },
   {
    "duration": 4,
    "start_time": "2022-03-26T09:01:03.046Z"
   },
   {
    "duration": 5,
    "start_time": "2022-03-26T09:01:03.053Z"
   },
   {
    "duration": 108,
    "start_time": "2022-03-26T09:01:03.061Z"
   },
   {
    "duration": 33,
    "start_time": "2022-03-26T09:01:03.171Z"
   },
   {
    "duration": 23,
    "start_time": "2022-03-26T09:01:03.207Z"
   },
   {
    "duration": 43,
    "start_time": "2022-03-26T09:01:03.232Z"
   },
   {
    "duration": 5,
    "start_time": "2022-03-26T09:01:03.278Z"
   },
   {
    "duration": 11,
    "start_time": "2022-03-26T09:01:03.285Z"
   },
   {
    "duration": 8,
    "start_time": "2022-03-26T09:01:03.298Z"
   },
   {
    "duration": 6,
    "start_time": "2022-03-26T09:01:03.310Z"
   },
   {
    "duration": 62,
    "start_time": "2022-03-26T09:01:03.318Z"
   },
   {
    "duration": 7,
    "start_time": "2022-03-26T09:01:03.383Z"
   },
   {
    "duration": 18,
    "start_time": "2022-03-26T09:01:03.393Z"
   },
   {
    "duration": 7,
    "start_time": "2022-03-26T09:01:03.414Z"
   },
   {
    "duration": 45,
    "start_time": "2022-03-26T09:01:03.423Z"
   },
   {
    "duration": 4,
    "start_time": "2022-03-26T09:01:03.471Z"
   },
   {
    "duration": 6,
    "start_time": "2022-03-26T09:01:03.478Z"
   },
   {
    "duration": 6,
    "start_time": "2022-03-26T09:01:03.486Z"
   },
   {
    "duration": 16,
    "start_time": "2022-03-26T09:01:03.494Z"
   },
   {
    "duration": 16,
    "start_time": "2022-03-26T09:01:03.512Z"
   },
   {
    "duration": 210,
    "start_time": "2022-03-26T09:01:03.531Z"
   },
   {
    "duration": 6,
    "start_time": "2022-03-26T09:01:03.744Z"
   },
   {
    "duration": 200,
    "start_time": "2022-03-26T09:01:03.767Z"
   },
   {
    "duration": 3,
    "start_time": "2022-03-26T09:01:03.970Z"
   },
   {
    "duration": 13,
    "start_time": "2022-03-26T09:01:19.198Z"
   },
   {
    "duration": 6,
    "start_time": "2022-03-26T09:01:22.464Z"
   },
   {
    "duration": 21,
    "start_time": "2022-03-26T09:01:24.185Z"
   },
   {
    "duration": 6,
    "start_time": "2022-03-26T09:01:29.636Z"
   },
   {
    "duration": 34,
    "start_time": "2022-03-26T09:02:00.106Z"
   },
   {
    "duration": 32,
    "start_time": "2022-03-26T09:02:02.154Z"
   },
   {
    "duration": 12,
    "start_time": "2022-03-26T09:04:13.184Z"
   },
   {
    "duration": 16,
    "start_time": "2022-03-26T09:04:28.436Z"
   },
   {
    "duration": 15,
    "start_time": "2022-03-26T09:04:33.275Z"
   },
   {
    "duration": 16,
    "start_time": "2022-03-26T09:05:02.009Z"
   },
   {
    "duration": 14,
    "start_time": "2022-03-26T09:05:50.719Z"
   },
   {
    "duration": 7,
    "start_time": "2022-03-26T09:05:56.238Z"
   },
   {
    "duration": 11,
    "start_time": "2022-03-26T09:07:12.101Z"
   },
   {
    "duration": 10,
    "start_time": "2022-03-26T09:07:35.827Z"
   },
   {
    "duration": 14,
    "start_time": "2022-03-26T09:07:59.049Z"
   },
   {
    "duration": 11,
    "start_time": "2022-03-26T09:08:28.682Z"
   },
   {
    "duration": 28,
    "start_time": "2022-03-26T09:08:36.338Z"
   },
   {
    "duration": 2401,
    "start_time": "2022-03-26T09:12:35.478Z"
   },
   {
    "duration": 1573,
    "start_time": "2022-03-26T09:12:53.398Z"
   },
   {
    "duration": 12,
    "start_time": "2022-03-26T09:13:06.741Z"
   },
   {
    "duration": 1577,
    "start_time": "2022-03-26T09:13:32.390Z"
   },
   {
    "duration": 11,
    "start_time": "2022-03-26T09:13:36.937Z"
   },
   {
    "duration": 9,
    "start_time": "2022-03-26T09:15:35.291Z"
   },
   {
    "duration": 11,
    "start_time": "2022-03-26T09:15:50.857Z"
   },
   {
    "duration": 21,
    "start_time": "2022-03-26T09:15:55.957Z"
   },
   {
    "duration": 19,
    "start_time": "2022-03-26T09:16:17.317Z"
   },
   {
    "duration": 22,
    "start_time": "2022-03-26T09:16:29.994Z"
   },
   {
    "duration": 20,
    "start_time": "2022-03-26T09:18:12.765Z"
   },
   {
    "duration": 3,
    "start_time": "2022-03-26T09:29:04.429Z"
   },
   {
    "duration": 4,
    "start_time": "2022-03-26T09:29:26.669Z"
   },
   {
    "duration": 15,
    "start_time": "2022-03-26T09:29:43.529Z"
   },
   {
    "duration": 12,
    "start_time": "2022-03-26T09:34:11.586Z"
   },
   {
    "duration": 25,
    "start_time": "2022-03-26T09:34:42.819Z"
   },
   {
    "duration": 9,
    "start_time": "2022-03-26T09:35:35.727Z"
   },
   {
    "duration": 10,
    "start_time": "2022-03-26T09:35:40.159Z"
   },
   {
    "duration": 8,
    "start_time": "2022-03-26T09:35:55.531Z"
   },
   {
    "duration": 7,
    "start_time": "2022-03-26T09:36:06.579Z"
   },
   {
    "duration": 14,
    "start_time": "2022-03-26T09:36:21.803Z"
   },
   {
    "duration": 9,
    "start_time": "2022-03-26T09:36:24.128Z"
   },
   {
    "duration": 7,
    "start_time": "2022-03-26T09:36:37.109Z"
   },
   {
    "duration": 12,
    "start_time": "2022-03-26T09:36:45.929Z"
   },
   {
    "duration": 16,
    "start_time": "2022-03-26T09:37:16.997Z"
   },
   {
    "duration": 5,
    "start_time": "2022-03-26T09:37:36.319Z"
   },
   {
    "duration": 5,
    "start_time": "2022-03-26T09:37:57.109Z"
   },
   {
    "duration": 20,
    "start_time": "2022-03-26T09:38:44.008Z"
   },
   {
    "duration": 15,
    "start_time": "2022-03-26T09:39:16.520Z"
   },
   {
    "duration": 22,
    "start_time": "2022-03-26T09:39:28.588Z"
   },
   {
    "duration": 17,
    "start_time": "2022-03-26T09:39:42.730Z"
   },
   {
    "duration": 4,
    "start_time": "2022-03-26T09:40:59.250Z"
   },
   {
    "duration": 10,
    "start_time": "2022-03-26T09:42:07.969Z"
   },
   {
    "duration": 8,
    "start_time": "2022-03-26T09:42:15.293Z"
   },
   {
    "duration": 8,
    "start_time": "2022-03-26T09:42:28.840Z"
   },
   {
    "duration": 7,
    "start_time": "2022-03-26T09:42:59.553Z"
   },
   {
    "duration": 6,
    "start_time": "2022-03-26T09:44:05.919Z"
   },
   {
    "duration": 483,
    "start_time": "2022-03-26T09:44:18.189Z"
   },
   {
    "duration": 988,
    "start_time": "2022-03-26T09:44:18.675Z"
   },
   {
    "duration": 103,
    "start_time": "2022-03-26T09:44:19.665Z"
   },
   {
    "duration": 38,
    "start_time": "2022-03-26T09:44:19.770Z"
   },
   {
    "duration": 24,
    "start_time": "2022-03-26T09:44:19.811Z"
   },
   {
    "duration": 43,
    "start_time": "2022-03-26T09:44:19.838Z"
   },
   {
    "duration": 8,
    "start_time": "2022-03-26T09:44:19.883Z"
   },
   {
    "duration": 8,
    "start_time": "2022-03-26T09:44:19.893Z"
   },
   {
    "duration": 8,
    "start_time": "2022-03-26T09:44:19.903Z"
   },
   {
    "duration": 11,
    "start_time": "2022-03-26T09:44:19.914Z"
   },
   {
    "duration": 62,
    "start_time": "2022-03-26T09:44:19.927Z"
   },
   {
    "duration": 7,
    "start_time": "2022-03-26T09:44:19.991Z"
   },
   {
    "duration": 26,
    "start_time": "2022-03-26T09:44:20.000Z"
   },
   {
    "duration": 7,
    "start_time": "2022-03-26T09:44:20.031Z"
   },
   {
    "duration": 7,
    "start_time": "2022-03-26T09:44:20.068Z"
   },
   {
    "duration": 5,
    "start_time": "2022-03-26T09:44:20.085Z"
   },
   {
    "duration": 11,
    "start_time": "2022-03-26T09:44:20.093Z"
   },
   {
    "duration": 5,
    "start_time": "2022-03-26T09:44:20.107Z"
   },
   {
    "duration": 18,
    "start_time": "2022-03-26T09:44:20.114Z"
   },
   {
    "duration": 42,
    "start_time": "2022-03-26T09:44:20.135Z"
   },
   {
    "duration": 216,
    "start_time": "2022-03-26T09:44:20.179Z"
   },
   {
    "duration": 11,
    "start_time": "2022-03-26T09:44:20.397Z"
   },
   {
    "duration": 212,
    "start_time": "2022-03-26T09:44:20.411Z"
   },
   {
    "duration": 3,
    "start_time": "2022-03-26T09:44:20.625Z"
   },
   {
    "duration": 9,
    "start_time": "2022-03-26T09:44:20.630Z"
   },
   {
    "duration": 44,
    "start_time": "2022-03-26T09:44:20.641Z"
   },
   {
    "duration": 6,
    "start_time": "2022-03-26T09:44:20.687Z"
   },
   {
    "duration": 259,
    "start_time": "2022-03-26T09:44:58.475Z"
   },
   {
    "duration": 7,
    "start_time": "2022-03-26T09:46:04.594Z"
   },
   {
    "duration": 7,
    "start_time": "2022-03-26T09:49:09.845Z"
   },
   {
    "duration": 8,
    "start_time": "2022-03-26T09:49:15.528Z"
   },
   {
    "duration": 7,
    "start_time": "2022-03-26T09:49:21.765Z"
   },
   {
    "duration": 6,
    "start_time": "2022-03-26T09:49:34.446Z"
   },
   {
    "duration": 9,
    "start_time": "2022-03-26T09:50:24.507Z"
   },
   {
    "duration": 7,
    "start_time": "2022-03-26T09:50:37.609Z"
   },
   {
    "duration": 6,
    "start_time": "2022-03-26T09:50:43.366Z"
   },
   {
    "duration": 6,
    "start_time": "2022-03-26T09:51:00.060Z"
   },
   {
    "duration": 7,
    "start_time": "2022-03-26T09:51:14.807Z"
   },
   {
    "duration": 7,
    "start_time": "2022-03-26T09:51:24.178Z"
   },
   {
    "duration": 7,
    "start_time": "2022-03-26T09:51:32.028Z"
   },
   {
    "duration": 7,
    "start_time": "2022-03-26T09:51:35.437Z"
   },
   {
    "duration": 16,
    "start_time": "2022-03-26T09:51:49.127Z"
   },
   {
    "duration": 9,
    "start_time": "2022-03-26T09:52:10.477Z"
   },
   {
    "duration": 6,
    "start_time": "2022-03-26T09:52:20.533Z"
   },
   {
    "duration": 4,
    "start_time": "2022-03-26T09:53:39.049Z"
   },
   {
    "duration": 379,
    "start_time": "2022-03-26T09:53:41.279Z"
   },
   {
    "duration": 5,
    "start_time": "2022-03-26T09:53:56.469Z"
   },
   {
    "duration": 123,
    "start_time": "2022-03-26T09:55:31.581Z"
   },
   {
    "duration": 5,
    "start_time": "2022-03-26T10:17:22.745Z"
   },
   {
    "duration": 195,
    "start_time": "2022-03-26T10:17:29.234Z"
   },
   {
    "duration": 4,
    "start_time": "2022-03-26T10:17:58.385Z"
   },
   {
    "duration": 129,
    "start_time": "2022-03-26T10:18:00.287Z"
   },
   {
    "duration": 8,
    "start_time": "2022-03-26T10:18:16.261Z"
   },
   {
    "duration": 127,
    "start_time": "2022-03-26T10:18:29.052Z"
   },
   {
    "duration": 88,
    "start_time": "2022-03-26T10:23:56.245Z"
   },
   {
    "duration": 13,
    "start_time": "2022-03-26T10:24:06.955Z"
   },
   {
    "duration": 7,
    "start_time": "2022-03-26T10:24:10.113Z"
   },
   {
    "duration": 15,
    "start_time": "2022-03-26T10:24:18.369Z"
   },
   {
    "duration": 6,
    "start_time": "2022-03-26T10:24:20.673Z"
   },
   {
    "duration": 13,
    "start_time": "2022-03-26T10:24:24.329Z"
   },
   {
    "duration": 6,
    "start_time": "2022-03-26T10:24:26.383Z"
   },
   {
    "duration": 11,
    "start_time": "2022-03-26T10:24:58.144Z"
   },
   {
    "duration": 7,
    "start_time": "2022-03-26T10:25:01.433Z"
   },
   {
    "duration": 510,
    "start_time": "2022-03-26T10:27:45.193Z"
   },
   {
    "duration": 1019,
    "start_time": "2022-03-26T10:27:45.707Z"
   },
   {
    "duration": 101,
    "start_time": "2022-03-26T10:27:46.728Z"
   },
   {
    "duration": 51,
    "start_time": "2022-03-26T10:27:46.832Z"
   },
   {
    "duration": 22,
    "start_time": "2022-03-26T10:27:46.885Z"
   },
   {
    "duration": 14,
    "start_time": "2022-03-26T10:27:46.909Z"
   },
   {
    "duration": 6,
    "start_time": "2022-03-26T10:27:46.925Z"
   },
   {
    "duration": 8,
    "start_time": "2022-03-26T10:27:46.969Z"
   },
   {
    "duration": 7,
    "start_time": "2022-03-26T10:27:46.980Z"
   },
   {
    "duration": 6,
    "start_time": "2022-03-26T10:27:46.991Z"
   },
   {
    "duration": 28,
    "start_time": "2022-03-26T10:27:46.999Z"
   },
   {
    "duration": 43,
    "start_time": "2022-03-26T10:27:47.030Z"
   },
   {
    "duration": 17,
    "start_time": "2022-03-26T10:27:47.075Z"
   },
   {
    "duration": 8,
    "start_time": "2022-03-26T10:27:47.094Z"
   },
   {
    "duration": 6,
    "start_time": "2022-03-26T10:27:47.104Z"
   },
   {
    "duration": 12,
    "start_time": "2022-03-26T10:27:47.112Z"
   },
   {
    "duration": 45,
    "start_time": "2022-03-26T10:27:47.126Z"
   },
   {
    "duration": 14,
    "start_time": "2022-03-26T10:27:47.174Z"
   },
   {
    "duration": 19,
    "start_time": "2022-03-26T10:27:47.190Z"
   },
   {
    "duration": 23,
    "start_time": "2022-03-26T10:27:47.211Z"
   },
   {
    "duration": 211,
    "start_time": "2022-03-26T10:27:47.236Z"
   },
   {
    "duration": 19,
    "start_time": "2022-03-26T10:27:47.450Z"
   },
   {
    "duration": 316,
    "start_time": "2022-03-26T10:27:47.471Z"
   },
   {
    "duration": 4,
    "start_time": "2022-03-26T10:27:47.790Z"
   },
   {
    "duration": 16,
    "start_time": "2022-03-26T10:27:47.796Z"
   },
   {
    "duration": 5,
    "start_time": "2022-03-26T10:27:54.589Z"
   },
   {
    "duration": 248,
    "start_time": "2022-03-26T10:28:06.444Z"
   },
   {
    "duration": 19,
    "start_time": "2022-03-26T10:28:13.932Z"
   },
   {
    "duration": 6,
    "start_time": "2022-03-26T10:28:17.579Z"
   },
   {
    "duration": 2293,
    "start_time": "2022-03-26T10:28:19.644Z"
   },
   {
    "duration": 2267,
    "start_time": "2022-03-26T10:28:42.910Z"
   },
   {
    "duration": 17,
    "start_time": "2022-03-26T10:29:27.235Z"
   },
   {
    "duration": 4,
    "start_time": "2022-03-26T10:29:33.769Z"
   },
   {
    "duration": 6,
    "start_time": "2022-03-26T10:29:33.776Z"
   },
   {
    "duration": 116,
    "start_time": "2022-03-26T10:29:33.785Z"
   },
   {
    "duration": 36,
    "start_time": "2022-03-26T10:29:33.903Z"
   },
   {
    "duration": 45,
    "start_time": "2022-03-26T10:29:33.944Z"
   },
   {
    "duration": 19,
    "start_time": "2022-03-26T10:29:33.991Z"
   },
   {
    "duration": 6,
    "start_time": "2022-03-26T10:29:34.013Z"
   },
   {
    "duration": 47,
    "start_time": "2022-03-26T10:29:34.021Z"
   },
   {
    "duration": 6,
    "start_time": "2022-03-26T10:29:34.070Z"
   },
   {
    "duration": 6,
    "start_time": "2022-03-26T10:29:34.080Z"
   },
   {
    "duration": 26,
    "start_time": "2022-03-26T10:29:34.087Z"
   },
   {
    "duration": 6,
    "start_time": "2022-03-26T10:29:34.115Z"
   },
   {
    "duration": 16,
    "start_time": "2022-03-26T10:29:34.167Z"
   },
   {
    "duration": 9,
    "start_time": "2022-03-26T10:29:34.185Z"
   },
   {
    "duration": 6,
    "start_time": "2022-03-26T10:29:34.197Z"
   },
   {
    "duration": 6,
    "start_time": "2022-03-26T10:29:34.205Z"
   },
   {
    "duration": 5,
    "start_time": "2022-03-26T10:29:34.213Z"
   },
   {
    "duration": 48,
    "start_time": "2022-03-26T10:29:34.221Z"
   },
   {
    "duration": 12,
    "start_time": "2022-03-26T10:29:34.271Z"
   },
   {
    "duration": 12,
    "start_time": "2022-03-26T10:29:34.286Z"
   },
   {
    "duration": 236,
    "start_time": "2022-03-26T10:29:34.300Z"
   },
   {
    "duration": 9,
    "start_time": "2022-03-26T10:29:34.538Z"
   },
   {
    "duration": 249,
    "start_time": "2022-03-26T10:29:34.551Z"
   },
   {
    "duration": 8,
    "start_time": "2022-03-26T10:29:39.253Z"
   },
   {
    "duration": 14,
    "start_time": "2022-03-26T10:29:43.636Z"
   },
   {
    "duration": 11,
    "start_time": "2022-03-26T10:29:45.892Z"
   },
   {
    "duration": 7,
    "start_time": "2022-03-26T10:29:54.366Z"
   },
   {
    "duration": 32,
    "start_time": "2022-03-26T10:30:35.325Z"
   },
   {
    "duration": 46,
    "start_time": "2022-03-26T10:30:38.642Z"
   },
   {
    "duration": 14,
    "start_time": "2022-03-26T10:30:45.743Z"
   },
   {
    "duration": 19,
    "start_time": "2022-03-26T10:30:49.077Z"
   },
   {
    "duration": 1392,
    "start_time": "2022-03-26T10:31:57.123Z"
   },
   {
    "duration": 10,
    "start_time": "2022-03-26T10:32:03.602Z"
   },
   {
    "duration": 525,
    "start_time": "2022-03-26T10:51:54.975Z"
   },
   {
    "duration": 989,
    "start_time": "2022-03-26T10:51:55.503Z"
   },
   {
    "duration": 288,
    "start_time": "2022-03-26T10:51:56.495Z"
   },
   {
    "duration": 38,
    "start_time": "2022-03-26T10:51:56.785Z"
   },
   {
    "duration": 42,
    "start_time": "2022-03-26T10:51:56.826Z"
   },
   {
    "duration": 13,
    "start_time": "2022-03-26T10:51:56.871Z"
   },
   {
    "duration": 6,
    "start_time": "2022-03-26T10:51:56.887Z"
   },
   {
    "duration": 9,
    "start_time": "2022-03-26T10:51:56.895Z"
   },
   {
    "duration": 6,
    "start_time": "2022-03-26T10:51:56.907Z"
   },
   {
    "duration": 52,
    "start_time": "2022-03-26T10:51:56.915Z"
   },
   {
    "duration": 26,
    "start_time": "2022-03-26T10:51:56.970Z"
   },
   {
    "duration": 7,
    "start_time": "2022-03-26T10:51:56.999Z"
   },
   {
    "duration": 20,
    "start_time": "2022-03-26T10:51:57.009Z"
   },
   {
    "duration": 6,
    "start_time": "2022-03-26T10:51:57.067Z"
   },
   {
    "duration": 8,
    "start_time": "2022-03-26T10:51:57.076Z"
   },
   {
    "duration": 8,
    "start_time": "2022-03-26T10:51:57.086Z"
   },
   {
    "duration": 5,
    "start_time": "2022-03-26T10:51:57.096Z"
   },
   {
    "duration": 5,
    "start_time": "2022-03-26T10:51:57.103Z"
   },
   {
    "duration": 11,
    "start_time": "2022-03-26T10:51:57.110Z"
   },
   {
    "duration": 14,
    "start_time": "2022-03-26T10:51:57.168Z"
   },
   {
    "duration": 204,
    "start_time": "2022-03-26T10:51:57.184Z"
   },
   {
    "duration": 9,
    "start_time": "2022-03-26T10:51:57.390Z"
   },
   {
    "duration": 215,
    "start_time": "2022-03-26T10:51:57.401Z"
   },
   {
    "duration": 14,
    "start_time": "2022-03-26T10:51:57.619Z"
   },
   {
    "duration": 11,
    "start_time": "2022-03-26T10:51:57.635Z"
   },
   {
    "duration": 26,
    "start_time": "2022-03-26T10:51:57.648Z"
   },
   {
    "duration": 39,
    "start_time": "2022-03-26T10:51:57.676Z"
   },
   {
    "duration": 52,
    "start_time": "2022-03-26T10:51:57.717Z"
   },
   {
    "duration": 12,
    "start_time": "2022-03-26T10:51:57.771Z"
   },
   {
    "duration": 18,
    "start_time": "2022-03-26T10:51:57.785Z"
   },
   {
    "duration": 16,
    "start_time": "2022-03-26T10:51:57.805Z"
   },
   {
    "duration": 43,
    "start_time": "2022-03-26T10:51:57.823Z"
   },
   {
    "duration": 6,
    "start_time": "2022-03-26T10:51:57.869Z"
   },
   {
    "duration": 759,
    "start_time": "2022-03-26T10:51:57.877Z"
   },
   {
    "duration": 8,
    "start_time": "2022-03-26T10:51:58.638Z"
   },
   {
    "duration": 19,
    "start_time": "2022-03-26T10:51:58.649Z"
   },
   {
    "duration": 36,
    "start_time": "2022-03-26T10:51:58.670Z"
   },
   {
    "duration": 14,
    "start_time": "2022-03-26T10:51:58.708Z"
   },
   {
    "duration": 544,
    "start_time": "2022-03-26T10:51:58.724Z"
   },
   {
    "duration": 14,
    "start_time": "2022-03-26T10:51:59.270Z"
   },
   {
    "duration": 6029,
    "start_time": "2022-03-26T10:51:59.292Z"
   },
   {
    "duration": 12,
    "start_time": "2022-03-26T10:52:05.324Z"
   },
   {
    "duration": 286,
    "start_time": "2022-03-26T10:52:05.338Z"
   },
   {
    "duration": 12,
    "start_time": "2022-03-26T10:52:05.626Z"
   },
   {
    "duration": 335,
    "start_time": "2022-03-26T10:52:05.641Z"
   },
   {
    "duration": 548,
    "start_time": "2022-03-26T10:52:05.979Z"
   },
   {
    "duration": 184,
    "start_time": "2022-03-26T10:52:06.530Z"
   },
   {
    "duration": 8,
    "start_time": "2022-03-26T10:52:06.717Z"
   },
   {
    "duration": 406,
    "start_time": "2022-03-26T10:52:06.728Z"
   },
   {
    "duration": 13,
    "start_time": "2022-03-26T10:52:07.137Z"
   },
   {
    "duration": 170,
    "start_time": "2022-03-26T10:52:12.949Z"
   },
   {
    "duration": 8,
    "start_time": "2022-03-26T10:52:29.038Z"
   },
   {
    "duration": 410,
    "start_time": "2022-03-26T10:52:34.011Z"
   },
   {
    "duration": 313,
    "start_time": "2022-03-26T10:52:44.328Z"
   },
   {
    "duration": 1891,
    "start_time": "2022-03-26T10:52:58.868Z"
   },
   {
    "duration": 616,
    "start_time": "2022-03-26T10:53:10.259Z"
   },
   {
    "duration": 308,
    "start_time": "2022-03-26T10:53:20.979Z"
   },
   {
    "duration": 16,
    "start_time": "2022-03-26T10:53:39.269Z"
   },
   {
    "duration": 177,
    "start_time": "2022-03-26T10:53:56.639Z"
   },
   {
    "duration": 8,
    "start_time": "2022-03-26T10:54:10.629Z"
   },
   {
    "duration": 189,
    "start_time": "2022-03-26T10:54:13.558Z"
   },
   {
    "duration": 11,
    "start_time": "2022-03-26T10:54:19.969Z"
   },
   {
    "duration": 177,
    "start_time": "2022-03-26T10:54:23.269Z"
   },
   {
    "duration": 13,
    "start_time": "2022-03-26T10:54:30.819Z"
   },
   {
    "duration": 320,
    "start_time": "2022-03-26T10:54:37.589Z"
   },
   {
    "duration": 3,
    "start_time": "2022-03-26T10:55:42.877Z"
   },
   {
    "duration": 102,
    "start_time": "2022-03-26T10:55:42.893Z"
   },
   {
    "duration": 184,
    "start_time": "2022-03-26T10:55:42.999Z"
   },
   {
    "duration": 37,
    "start_time": "2022-03-26T10:55:43.186Z"
   },
   {
    "duration": 85,
    "start_time": "2022-03-26T10:55:43.226Z"
   },
   {
    "duration": 80,
    "start_time": "2022-03-26T10:55:43.316Z"
   },
   {
    "duration": 52,
    "start_time": "2022-03-26T10:55:43.398Z"
   },
   {
    "duration": 73,
    "start_time": "2022-03-26T10:55:43.452Z"
   },
   {
    "duration": 69,
    "start_time": "2022-03-26T10:55:43.528Z"
   },
   {
    "duration": 66,
    "start_time": "2022-03-26T10:55:43.599Z"
   },
   {
    "duration": 76,
    "start_time": "2022-03-26T10:55:43.668Z"
   },
   {
    "duration": 70,
    "start_time": "2022-03-26T10:55:43.747Z"
   },
   {
    "duration": 76,
    "start_time": "2022-03-26T10:55:43.819Z"
   },
   {
    "duration": 66,
    "start_time": "2022-03-26T10:55:43.898Z"
   },
   {
    "duration": 67,
    "start_time": "2022-03-26T10:55:43.969Z"
   },
   {
    "duration": 77,
    "start_time": "2022-03-26T10:55:44.038Z"
   },
   {
    "duration": 100,
    "start_time": "2022-03-26T10:55:44.118Z"
   },
   {
    "duration": 72,
    "start_time": "2022-03-26T10:55:44.220Z"
   },
   {
    "duration": 77,
    "start_time": "2022-03-26T10:55:44.294Z"
   },
   {
    "duration": 94,
    "start_time": "2022-03-26T10:55:44.373Z"
   },
   {
    "duration": 257,
    "start_time": "2022-03-26T10:55:44.470Z"
   },
   {
    "duration": 7,
    "start_time": "2022-03-26T10:55:44.730Z"
   },
   {
    "duration": 263,
    "start_time": "2022-03-26T10:55:44.739Z"
   },
   {
    "duration": 17,
    "start_time": "2022-03-26T10:55:45.005Z"
   },
   {
    "duration": 18,
    "start_time": "2022-03-26T10:55:45.024Z"
   },
   {
    "duration": 24,
    "start_time": "2022-03-26T10:55:45.045Z"
   },
   {
    "duration": 47,
    "start_time": "2022-03-26T10:55:45.072Z"
   },
   {
    "duration": 53,
    "start_time": "2022-03-26T10:55:45.122Z"
   },
   {
    "duration": 18,
    "start_time": "2022-03-26T10:55:45.179Z"
   },
   {
    "duration": 19,
    "start_time": "2022-03-26T10:55:45.199Z"
   },
   {
    "duration": 53,
    "start_time": "2022-03-26T10:55:45.220Z"
   },
   {
    "duration": 6,
    "start_time": "2022-03-26T10:55:45.276Z"
   },
   {
    "duration": 12,
    "start_time": "2022-03-26T10:55:45.285Z"
   },
   {
    "duration": 537,
    "start_time": "2022-03-26T10:55:45.300Z"
   },
   {
    "duration": 7,
    "start_time": "2022-03-26T10:55:45.839Z"
   },
   {
    "duration": 20,
    "start_time": "2022-03-26T10:55:45.849Z"
   },
   {
    "duration": 41,
    "start_time": "2022-03-26T10:55:45.872Z"
   },
   {
    "duration": 13,
    "start_time": "2022-03-26T10:55:45.915Z"
   },
   {
    "duration": 789,
    "start_time": "2022-03-26T10:55:45.930Z"
   },
   {
    "duration": 15,
    "start_time": "2022-03-26T10:55:46.722Z"
   },
   {
    "duration": 4486,
    "start_time": "2022-03-26T10:55:46.739Z"
   },
   {
    "duration": 12,
    "start_time": "2022-03-26T10:55:51.230Z"
   },
   {
    "duration": 271,
    "start_time": "2022-03-26T10:55:51.245Z"
   },
   {
    "duration": 13,
    "start_time": "2022-03-26T10:55:51.518Z"
   },
   {
    "duration": 345,
    "start_time": "2022-03-26T10:55:51.533Z"
   },
   {
    "duration": 408,
    "start_time": "2022-03-26T10:55:51.880Z"
   },
   {
    "duration": 245,
    "start_time": "2022-03-26T10:55:52.291Z"
   },
   {
    "duration": 8,
    "start_time": "2022-03-26T10:55:52.539Z"
   },
   {
    "duration": 334,
    "start_time": "2022-03-26T10:55:52.549Z"
   },
   {
    "duration": 13,
    "start_time": "2022-03-26T10:55:52.885Z"
   },
   {
    "duration": 479,
    "start_time": "2022-03-26T10:56:06.038Z"
   },
   {
    "duration": 681,
    "start_time": "2022-03-26T10:58:04.786Z"
   },
   {
    "duration": 379,
    "start_time": "2022-03-26T10:58:35.966Z"
   },
   {
    "duration": 391,
    "start_time": "2022-03-26T10:59:26.941Z"
   },
   {
    "duration": 397,
    "start_time": "2022-03-26T11:01:00.813Z"
   },
   {
    "duration": 406,
    "start_time": "2022-03-26T11:02:01.615Z"
   },
   {
    "duration": 72,
    "start_time": "2022-03-26T11:59:20.406Z"
   },
   {
    "duration": 475,
    "start_time": "2022-03-26T11:59:38.511Z"
   },
   {
    "duration": 1328,
    "start_time": "2022-03-26T11:59:38.988Z"
   },
   {
    "duration": 105,
    "start_time": "2022-03-26T11:59:40.318Z"
   },
   {
    "duration": 57,
    "start_time": "2022-03-26T11:59:40.425Z"
   },
   {
    "duration": 23,
    "start_time": "2022-03-26T11:59:40.487Z"
   },
   {
    "duration": 16,
    "start_time": "2022-03-26T11:59:40.512Z"
   },
   {
    "duration": 6,
    "start_time": "2022-03-26T11:59:40.530Z"
   },
   {
    "duration": 45,
    "start_time": "2022-03-26T11:59:40.538Z"
   },
   {
    "duration": 8,
    "start_time": "2022-03-26T11:59:40.585Z"
   },
   {
    "duration": 6,
    "start_time": "2022-03-26T11:59:40.594Z"
   },
   {
    "duration": 23,
    "start_time": "2022-03-26T11:59:40.602Z"
   },
   {
    "duration": 7,
    "start_time": "2022-03-26T11:59:40.627Z"
   },
   {
    "duration": 17,
    "start_time": "2022-03-26T11:59:40.680Z"
   },
   {
    "duration": 6,
    "start_time": "2022-03-26T11:59:40.702Z"
   },
   {
    "duration": 7,
    "start_time": "2022-03-26T11:59:40.710Z"
   },
   {
    "duration": 5,
    "start_time": "2022-03-26T11:59:40.719Z"
   },
   {
    "duration": 4,
    "start_time": "2022-03-26T11:59:40.726Z"
   },
   {
    "duration": 35,
    "start_time": "2022-03-26T11:59:40.732Z"
   },
   {
    "duration": 16,
    "start_time": "2022-03-26T11:59:40.770Z"
   },
   {
    "duration": 15,
    "start_time": "2022-03-26T11:59:40.789Z"
   },
   {
    "duration": 230,
    "start_time": "2022-03-26T11:59:40.806Z"
   },
   {
    "duration": 11,
    "start_time": "2022-03-26T11:59:41.039Z"
   },
   {
    "duration": 207,
    "start_time": "2022-03-26T11:59:41.052Z"
   },
   {
    "duration": 14,
    "start_time": "2022-03-26T11:59:41.262Z"
   },
   {
    "duration": 20,
    "start_time": "2022-03-26T11:59:41.283Z"
   },
   {
    "duration": 9,
    "start_time": "2022-03-26T11:59:41.305Z"
   },
   {
    "duration": 57,
    "start_time": "2022-03-26T11:59:41.316Z"
   },
   {
    "duration": 30,
    "start_time": "2022-03-26T11:59:41.376Z"
   },
   {
    "duration": 13,
    "start_time": "2022-03-26T11:59:41.408Z"
   },
   {
    "duration": 52,
    "start_time": "2022-03-26T11:59:41.423Z"
   },
   {
    "duration": 17,
    "start_time": "2022-03-26T11:59:41.477Z"
   },
   {
    "duration": 4,
    "start_time": "2022-03-26T11:59:41.496Z"
   },
   {
    "duration": 6,
    "start_time": "2022-03-26T11:59:41.502Z"
   },
   {
    "duration": 500,
    "start_time": "2022-03-26T11:59:41.510Z"
   },
   {
    "duration": 5,
    "start_time": "2022-03-26T11:59:42.013Z"
   },
   {
    "duration": 14,
    "start_time": "2022-03-26T11:59:42.020Z"
   },
   {
    "duration": 50,
    "start_time": "2022-03-26T11:59:42.036Z"
   },
   {
    "duration": 10,
    "start_time": "2022-03-26T11:59:42.089Z"
   },
   {
    "duration": 409,
    "start_time": "2022-03-26T11:59:42.101Z"
   },
   {
    "duration": 12,
    "start_time": "2022-03-26T11:59:42.513Z"
   },
   {
    "duration": 4173,
    "start_time": "2022-03-26T11:59:42.530Z"
   },
   {
    "duration": 13,
    "start_time": "2022-03-26T11:59:46.705Z"
   },
   {
    "duration": 292,
    "start_time": "2022-03-26T11:59:46.721Z"
   },
   {
    "duration": 14,
    "start_time": "2022-03-26T11:59:47.016Z"
   },
   {
    "duration": 349,
    "start_time": "2022-03-26T11:59:47.032Z"
   },
   {
    "duration": 3,
    "start_time": "2022-03-26T12:03:44.019Z"
   },
   {
    "duration": 26,
    "start_time": "2022-03-26T12:03:44.025Z"
   },
   {
    "duration": 127,
    "start_time": "2022-03-26T12:03:44.053Z"
   },
   {
    "duration": 34,
    "start_time": "2022-03-26T12:03:44.183Z"
   },
   {
    "duration": 30,
    "start_time": "2022-03-26T12:03:44.219Z"
   },
   {
    "duration": 16,
    "start_time": "2022-03-26T12:03:44.269Z"
   },
   {
    "duration": 17,
    "start_time": "2022-03-26T12:03:44.287Z"
   },
   {
    "duration": 24,
    "start_time": "2022-03-26T12:03:44.306Z"
   },
   {
    "duration": 36,
    "start_time": "2022-03-26T12:03:44.332Z"
   },
   {
    "duration": 18,
    "start_time": "2022-03-26T12:03:44.369Z"
   },
   {
    "duration": 39,
    "start_time": "2022-03-26T12:03:44.389Z"
   },
   {
    "duration": 7,
    "start_time": "2022-03-26T12:03:44.432Z"
   },
   {
    "duration": 27,
    "start_time": "2022-03-26T12:03:44.441Z"
   },
   {
    "duration": 152,
    "start_time": "2022-03-26T12:03:44.470Z"
   },
   {
    "duration": 23,
    "start_time": "2022-03-26T12:03:44.624Z"
   },
   {
    "duration": 13,
    "start_time": "2022-03-26T12:03:44.649Z"
   },
   {
    "duration": 24,
    "start_time": "2022-03-26T12:03:44.664Z"
   },
   {
    "duration": 21,
    "start_time": "2022-03-26T12:03:44.690Z"
   },
   {
    "duration": 23,
    "start_time": "2022-03-26T12:03:44.713Z"
   },
   {
    "duration": 25,
    "start_time": "2022-03-26T12:03:44.738Z"
   },
   {
    "duration": 193,
    "start_time": "2022-03-26T12:03:44.766Z"
   },
   {
    "duration": 7,
    "start_time": "2022-03-26T12:03:44.967Z"
   },
   {
    "duration": 206,
    "start_time": "2022-03-26T12:03:44.976Z"
   },
   {
    "duration": 12,
    "start_time": "2022-03-26T12:03:45.185Z"
   },
   {
    "duration": 18,
    "start_time": "2022-03-26T12:03:45.199Z"
   },
   {
    "duration": 24,
    "start_time": "2022-03-26T12:03:45.219Z"
   },
   {
    "duration": 52,
    "start_time": "2022-03-26T12:03:45.246Z"
   },
   {
    "duration": 40,
    "start_time": "2022-03-26T12:03:45.300Z"
   },
   {
    "duration": 31,
    "start_time": "2022-03-26T12:03:45.342Z"
   },
   {
    "duration": 18,
    "start_time": "2022-03-26T12:03:45.380Z"
   },
   {
    "duration": 15,
    "start_time": "2022-03-26T12:03:45.401Z"
   },
   {
    "duration": 20,
    "start_time": "2022-03-26T12:03:45.419Z"
   },
   {
    "duration": 10,
    "start_time": "2022-03-26T12:03:45.441Z"
   },
   {
    "duration": 496,
    "start_time": "2022-03-26T12:03:45.454Z"
   },
   {
    "duration": 6,
    "start_time": "2022-03-26T12:03:45.953Z"
   },
   {
    "duration": 12,
    "start_time": "2022-03-26T12:03:45.968Z"
   },
   {
    "duration": 40,
    "start_time": "2022-03-26T12:03:45.982Z"
   },
   {
    "duration": 11,
    "start_time": "2022-03-26T12:03:46.024Z"
   },
   {
    "duration": 459,
    "start_time": "2022-03-26T12:03:46.038Z"
   },
   {
    "duration": 14,
    "start_time": "2022-03-26T12:03:46.500Z"
   },
   {
    "duration": 4163,
    "start_time": "2022-03-26T12:03:46.517Z"
   },
   {
    "duration": 12,
    "start_time": "2022-03-26T12:03:50.683Z"
   },
   {
    "duration": 262,
    "start_time": "2022-03-26T12:03:50.697Z"
   },
   {
    "duration": 23,
    "start_time": "2022-03-26T12:03:50.962Z"
   },
   {
    "duration": 317,
    "start_time": "2022-03-26T12:03:50.987Z"
   },
   {
    "duration": 403,
    "start_time": "2022-03-26T12:03:51.306Z"
   },
   {
    "duration": 178,
    "start_time": "2022-03-26T12:03:51.712Z"
   },
   {
    "duration": 6,
    "start_time": "2022-03-26T12:04:01.682Z"
   },
   {
    "duration": 6,
    "start_time": "2022-03-26T12:04:05.005Z"
   },
   {
    "duration": 11,
    "start_time": "2022-03-26T12:04:08.265Z"
   },
   {
    "duration": 7,
    "start_time": "2022-03-26T12:04:10.755Z"
   },
   {
    "duration": 383,
    "start_time": "2022-03-26T12:04:22.952Z"
   },
   {
    "duration": 13,
    "start_time": "2022-03-26T12:04:27.045Z"
   },
   {
    "duration": 671,
    "start_time": "2022-03-26T12:04:50.472Z"
   },
   {
    "duration": 386,
    "start_time": "2022-03-26T12:05:15.752Z"
   },
   {
    "duration": 3,
    "start_time": "2022-03-26T12:05:47.693Z"
   },
   {
    "duration": 6,
    "start_time": "2022-03-26T12:05:47.699Z"
   },
   {
    "duration": 115,
    "start_time": "2022-03-26T12:05:47.707Z"
   },
   {
    "duration": 47,
    "start_time": "2022-03-26T12:05:47.824Z"
   },
   {
    "duration": 24,
    "start_time": "2022-03-26T12:05:47.875Z"
   },
   {
    "duration": 14,
    "start_time": "2022-03-26T12:05:47.901Z"
   },
   {
    "duration": 6,
    "start_time": "2022-03-26T12:05:47.917Z"
   },
   {
    "duration": 50,
    "start_time": "2022-03-26T12:05:47.925Z"
   },
   {
    "duration": 12,
    "start_time": "2022-03-26T12:05:47.978Z"
   },
   {
    "duration": 6,
    "start_time": "2022-03-26T12:05:47.994Z"
   },
   {
    "duration": 25,
    "start_time": "2022-03-26T12:05:48.002Z"
   },
   {
    "duration": 54,
    "start_time": "2022-03-26T12:05:48.029Z"
   },
   {
    "duration": 18,
    "start_time": "2022-03-26T12:05:48.085Z"
   },
   {
    "duration": 7,
    "start_time": "2022-03-26T12:05:48.106Z"
   },
   {
    "duration": 12,
    "start_time": "2022-03-26T12:05:48.115Z"
   },
   {
    "duration": 5,
    "start_time": "2022-03-26T12:05:48.129Z"
   },
   {
    "duration": 6,
    "start_time": "2022-03-26T12:05:48.179Z"
   },
   {
    "duration": 11,
    "start_time": "2022-03-26T12:05:48.187Z"
   },
   {
    "duration": 10,
    "start_time": "2022-03-26T12:05:48.201Z"
   },
   {
    "duration": 15,
    "start_time": "2022-03-26T12:05:48.213Z"
   },
   {
    "duration": 230,
    "start_time": "2022-03-26T12:05:48.230Z"
   },
   {
    "duration": 12,
    "start_time": "2022-03-26T12:05:48.462Z"
   },
   {
    "duration": 203,
    "start_time": "2022-03-26T12:05:48.477Z"
   },
   {
    "duration": 13,
    "start_time": "2022-03-26T12:05:48.682Z"
   },
   {
    "duration": 12,
    "start_time": "2022-03-26T12:05:48.701Z"
   },
   {
    "duration": 10,
    "start_time": "2022-03-26T12:05:48.715Z"
   },
   {
    "duration": 69,
    "start_time": "2022-03-26T12:05:48.728Z"
   },
   {
    "duration": 32,
    "start_time": "2022-03-26T12:05:48.800Z"
   },
   {
    "duration": 40,
    "start_time": "2022-03-26T12:05:48.835Z"
   },
   {
    "duration": 18,
    "start_time": "2022-03-26T12:05:48.878Z"
   },
   {
    "duration": 16,
    "start_time": "2022-03-26T12:05:48.899Z"
   },
   {
    "duration": 6,
    "start_time": "2022-03-26T12:05:48.916Z"
   },
   {
    "duration": 42,
    "start_time": "2022-03-26T12:05:48.924Z"
   },
   {
    "duration": 615,
    "start_time": "2022-03-26T12:05:48.969Z"
   },
   {
    "duration": 6,
    "start_time": "2022-03-26T12:05:49.586Z"
   },
   {
    "duration": 8,
    "start_time": "2022-03-26T12:05:49.594Z"
   },
   {
    "duration": 38,
    "start_time": "2022-03-26T12:05:49.604Z"
   },
   {
    "duration": 11,
    "start_time": "2022-03-26T12:05:49.644Z"
   },
   {
    "duration": 548,
    "start_time": "2022-03-26T12:05:49.657Z"
   },
   {
    "duration": 62,
    "start_time": "2022-03-26T12:05:50.207Z"
   },
   {
    "duration": 4253,
    "start_time": "2022-03-26T12:05:50.275Z"
   },
   {
    "duration": 12,
    "start_time": "2022-03-26T12:05:54.530Z"
   },
   {
    "duration": 265,
    "start_time": "2022-03-26T12:05:54.544Z"
   },
   {
    "duration": 12,
    "start_time": "2022-03-26T12:05:54.811Z"
   },
   {
    "duration": 400,
    "start_time": "2022-03-26T12:05:54.826Z"
   },
   {
    "duration": 395,
    "start_time": "2022-03-26T12:05:55.229Z"
   },
   {
    "duration": 183,
    "start_time": "2022-03-26T12:05:55.627Z"
   },
   {
    "duration": 8,
    "start_time": "2022-03-26T12:06:37.146Z"
   },
   {
    "duration": 140,
    "start_time": "2022-03-26T12:06:40.183Z"
   },
   {
    "duration": 714,
    "start_time": "2022-03-26T12:06:54.980Z"
   },
   {
    "duration": 701,
    "start_time": "2022-03-26T12:07:10.485Z"
   },
   {
    "duration": 12,
    "start_time": "2022-03-26T12:07:15.625Z"
   },
   {
    "duration": 14,
    "start_time": "2022-03-26T12:07:33.723Z"
   },
   {
    "duration": 3,
    "start_time": "2022-03-26T12:09:31.385Z"
   },
   {
    "duration": 276,
    "start_time": "2022-03-26T12:10:30.206Z"
   },
   {
    "duration": 1504,
    "start_time": "2022-03-26T12:11:14.958Z"
   },
   {
    "duration": 9,
    "start_time": "2022-03-26T12:11:21.795Z"
   },
   {
    "duration": 7,
    "start_time": "2022-03-26T12:11:54.196Z"
   },
   {
    "duration": 7,
    "start_time": "2022-03-26T12:12:06.096Z"
   },
   {
    "duration": 8,
    "start_time": "2022-03-26T12:12:26.481Z"
   },
   {
    "duration": 8,
    "start_time": "2022-03-26T12:12:54.006Z"
   },
   {
    "duration": 8,
    "start_time": "2022-03-26T12:13:13.966Z"
   },
   {
    "duration": 8,
    "start_time": "2022-03-26T12:13:28.544Z"
   },
   {
    "duration": 8,
    "start_time": "2022-03-26T12:13:48.144Z"
   },
   {
    "duration": 10,
    "start_time": "2022-03-26T12:18:03.219Z"
   },
   {
    "duration": 367,
    "start_time": "2022-03-26T12:18:05.595Z"
   },
   {
    "duration": 14,
    "start_time": "2022-03-26T12:18:10.393Z"
   },
   {
    "duration": 4,
    "start_time": "2022-03-26T12:18:44.387Z"
   },
   {
    "duration": 4,
    "start_time": "2022-03-26T12:18:44.402Z"
   },
   {
    "duration": 103,
    "start_time": "2022-03-26T12:18:44.409Z"
   },
   {
    "duration": 30,
    "start_time": "2022-03-26T12:18:44.514Z"
   },
   {
    "duration": 36,
    "start_time": "2022-03-26T12:18:44.547Z"
   },
   {
    "duration": 15,
    "start_time": "2022-03-26T12:18:44.586Z"
   },
   {
    "duration": 6,
    "start_time": "2022-03-26T12:18:44.604Z"
   },
   {
    "duration": 9,
    "start_time": "2022-03-26T12:18:44.613Z"
   },
   {
    "duration": 10,
    "start_time": "2022-03-26T12:18:44.670Z"
   },
   {
    "duration": 6,
    "start_time": "2022-03-26T12:18:44.686Z"
   },
   {
    "duration": 23,
    "start_time": "2022-03-26T12:18:44.694Z"
   },
   {
    "duration": 6,
    "start_time": "2022-03-26T12:18:44.719Z"
   },
   {
    "duration": 62,
    "start_time": "2022-03-26T12:18:44.727Z"
   },
   {
    "duration": 7,
    "start_time": "2022-03-26T12:18:44.792Z"
   },
   {
    "duration": 6,
    "start_time": "2022-03-26T12:18:44.801Z"
   },
   {
    "duration": 7,
    "start_time": "2022-03-26T12:18:44.809Z"
   },
   {
    "duration": 9,
    "start_time": "2022-03-26T12:18:44.818Z"
   },
   {
    "duration": 5,
    "start_time": "2022-03-26T12:18:44.829Z"
   },
   {
    "duration": 16,
    "start_time": "2022-03-26T12:18:44.867Z"
   },
   {
    "duration": 12,
    "start_time": "2022-03-26T12:18:44.885Z"
   },
   {
    "duration": 230,
    "start_time": "2022-03-26T12:18:44.902Z"
   },
   {
    "duration": 8,
    "start_time": "2022-03-26T12:18:45.135Z"
   },
   {
    "duration": 198,
    "start_time": "2022-03-26T12:18:45.172Z"
   },
   {
    "duration": 14,
    "start_time": "2022-03-26T12:18:45.373Z"
   },
   {
    "duration": 10,
    "start_time": "2022-03-26T12:18:45.389Z"
   },
   {
    "duration": 9,
    "start_time": "2022-03-26T12:18:45.401Z"
   },
   {
    "duration": 70,
    "start_time": "2022-03-26T12:18:45.412Z"
   },
   {
    "duration": 28,
    "start_time": "2022-03-26T12:18:45.484Z"
   },
   {
    "duration": 13,
    "start_time": "2022-03-26T12:18:45.515Z"
   },
   {
    "duration": 53,
    "start_time": "2022-03-26T12:18:45.530Z"
   },
   {
    "duration": 16,
    "start_time": "2022-03-26T12:18:45.585Z"
   },
   {
    "duration": 5,
    "start_time": "2022-03-26T12:18:45.603Z"
   },
   {
    "duration": 8,
    "start_time": "2022-03-26T12:18:45.610Z"
   },
   {
    "duration": 505,
    "start_time": "2022-03-26T12:18:45.621Z"
   },
   {
    "duration": 6,
    "start_time": "2022-03-26T12:18:46.128Z"
   },
   {
    "duration": 7,
    "start_time": "2022-03-26T12:18:46.140Z"
   },
   {
    "duration": 38,
    "start_time": "2022-03-26T12:18:46.172Z"
   },
   {
    "duration": 12,
    "start_time": "2022-03-26T12:18:46.212Z"
   },
   {
    "duration": 407,
    "start_time": "2022-03-26T12:18:46.226Z"
   },
   {
    "duration": 13,
    "start_time": "2022-03-26T12:18:46.635Z"
   },
   {
    "duration": 4366,
    "start_time": "2022-03-26T12:18:46.650Z"
   },
   {
    "duration": 11,
    "start_time": "2022-03-26T12:18:51.019Z"
   },
   {
    "duration": 475,
    "start_time": "2022-03-26T12:18:51.032Z"
   },
   {
    "duration": 13,
    "start_time": "2022-03-26T12:18:51.509Z"
   },
   {
    "duration": 334,
    "start_time": "2022-03-26T12:18:51.524Z"
   },
   {
    "duration": 399,
    "start_time": "2022-03-26T12:18:51.860Z"
   },
   {
    "duration": 176,
    "start_time": "2022-03-26T12:18:52.270Z"
   },
   {
    "duration": 7,
    "start_time": "2022-03-26T12:18:52.448Z"
   },
   {
    "duration": 6,
    "start_time": "2022-03-26T12:18:52.470Z"
   },
   {
    "duration": 434,
    "start_time": "2022-03-26T12:18:52.479Z"
   },
   {
    "duration": 12,
    "start_time": "2022-03-26T12:18:52.916Z"
   },
   {
    "duration": 569,
    "start_time": "2022-03-26T12:27:10.128Z"
   },
   {
    "duration": 1307,
    "start_time": "2022-03-26T12:27:10.700Z"
   },
   {
    "duration": 108,
    "start_time": "2022-03-26T12:27:12.010Z"
   },
   {
    "duration": 62,
    "start_time": "2022-03-26T12:27:12.122Z"
   },
   {
    "duration": 21,
    "start_time": "2022-03-26T12:27:12.187Z"
   },
   {
    "duration": 13,
    "start_time": "2022-03-26T12:27:12.211Z"
   },
   {
    "duration": 52,
    "start_time": "2022-03-26T12:27:12.226Z"
   },
   {
    "duration": 19,
    "start_time": "2022-03-26T12:27:12.281Z"
   },
   {
    "duration": 6,
    "start_time": "2022-03-26T12:27:12.303Z"
   },
   {
    "duration": 6,
    "start_time": "2022-03-26T12:27:12.313Z"
   },
   {
    "duration": 53,
    "start_time": "2022-03-26T12:27:12.321Z"
   },
   {
    "duration": 8,
    "start_time": "2022-03-26T12:27:12.377Z"
   },
   {
    "duration": 33,
    "start_time": "2022-03-26T12:27:12.388Z"
   },
   {
    "duration": 10,
    "start_time": "2022-03-26T12:27:12.423Z"
   },
   {
    "duration": 11,
    "start_time": "2022-03-26T12:27:12.436Z"
   },
   {
    "duration": 5,
    "start_time": "2022-03-26T12:27:12.474Z"
   },
   {
    "duration": 14,
    "start_time": "2022-03-26T12:27:12.482Z"
   },
   {
    "duration": 7,
    "start_time": "2022-03-26T12:27:12.499Z"
   },
   {
    "duration": 12,
    "start_time": "2022-03-26T12:27:12.508Z"
   },
   {
    "duration": 14,
    "start_time": "2022-03-26T12:27:12.523Z"
   },
   {
    "duration": 248,
    "start_time": "2022-03-26T12:27:12.540Z"
   },
   {
    "duration": 8,
    "start_time": "2022-03-26T12:27:12.791Z"
   },
   {
    "duration": 219,
    "start_time": "2022-03-26T12:27:12.802Z"
   },
   {
    "duration": 16,
    "start_time": "2022-03-26T12:27:13.023Z"
   },
   {
    "duration": 28,
    "start_time": "2022-03-26T12:27:13.043Z"
   },
   {
    "duration": 12,
    "start_time": "2022-03-26T12:27:13.074Z"
   },
   {
    "duration": 39,
    "start_time": "2022-03-26T12:27:13.088Z"
   },
   {
    "duration": 65,
    "start_time": "2022-03-26T12:27:13.139Z"
   },
   {
    "duration": 13,
    "start_time": "2022-03-26T12:27:13.206Z"
   },
   {
    "duration": 19,
    "start_time": "2022-03-26T12:27:13.221Z"
   },
   {
    "duration": 47,
    "start_time": "2022-03-26T12:27:13.242Z"
   },
   {
    "duration": 7,
    "start_time": "2022-03-26T12:27:13.291Z"
   },
   {
    "duration": 5,
    "start_time": "2022-03-26T12:27:13.300Z"
   },
   {
    "duration": 597,
    "start_time": "2022-03-26T12:27:13.308Z"
   },
   {
    "duration": 5,
    "start_time": "2022-03-26T12:27:13.908Z"
   },
   {
    "duration": 7,
    "start_time": "2022-03-26T12:27:13.916Z"
   },
   {
    "duration": 69,
    "start_time": "2022-03-26T12:27:13.925Z"
   },
   {
    "duration": 13,
    "start_time": "2022-03-26T12:27:13.997Z"
   },
   {
    "duration": 496,
    "start_time": "2022-03-26T12:27:14.013Z"
   },
   {
    "duration": 13,
    "start_time": "2022-03-26T12:27:14.512Z"
   },
   {
    "duration": 5592,
    "start_time": "2022-03-26T12:27:14.528Z"
   },
   {
    "duration": 12,
    "start_time": "2022-03-26T12:27:20.123Z"
   },
   {
    "duration": 290,
    "start_time": "2022-03-26T12:27:20.138Z"
   },
   {
    "duration": 13,
    "start_time": "2022-03-26T12:27:20.431Z"
   },
   {
    "duration": 372,
    "start_time": "2022-03-26T12:27:20.447Z"
   },
   {
    "duration": 572,
    "start_time": "2022-03-26T12:27:20.822Z"
   },
   {
    "duration": 200,
    "start_time": "2022-03-26T12:27:21.397Z"
   },
   {
    "duration": 9,
    "start_time": "2022-03-26T12:27:21.599Z"
   },
   {
    "duration": 505,
    "start_time": "2022-03-26T12:27:21.611Z"
   },
   {
    "duration": 14,
    "start_time": "2022-03-26T12:27:22.119Z"
   },
   {
    "duration": 2797,
    "start_time": "2022-03-26T12:27:22.136Z"
   },
   {
    "duration": 18,
    "start_time": "2022-03-26T12:27:24.936Z"
   },
   {
    "duration": 264,
    "start_time": "2022-03-26T12:27:24.957Z"
   },
   {
    "duration": 13,
    "start_time": "2022-03-26T12:27:25.223Z"
   },
   {
    "duration": 3400,
    "start_time": "2022-03-26T12:27:25.238Z"
   },
   {
    "duration": 31,
    "start_time": "2022-03-26T12:27:28.641Z"
   },
   {
    "duration": 34,
    "start_time": "2022-03-26T12:27:28.675Z"
   },
   {
    "duration": 14,
    "start_time": "2022-03-26T12:27:28.712Z"
   },
   {
    "duration": 50,
    "start_time": "2022-03-26T12:27:28.729Z"
   },
   {
    "duration": 50,
    "start_time": "2022-03-26T12:27:28.786Z"
   },
   {
    "duration": 13,
    "start_time": "2022-03-26T12:27:28.839Z"
   },
   {
    "duration": 7,
    "start_time": "2022-03-26T12:27:28.869Z"
   },
   {
    "duration": 37,
    "start_time": "2022-03-26T12:27:28.879Z"
   },
   {
    "duration": 15,
    "start_time": "2022-03-26T12:27:28.918Z"
   },
   {
    "duration": 9,
    "start_time": "2022-03-26T12:27:28.936Z"
   },
   {
    "duration": 30,
    "start_time": "2022-03-26T12:27:28.947Z"
   },
   {
    "duration": 259,
    "start_time": "2022-03-26T12:27:28.979Z"
   },
   {
    "duration": 9,
    "start_time": "2022-03-26T12:27:29.241Z"
   },
   {
    "duration": 273,
    "start_time": "2022-03-26T12:27:29.271Z"
   },
   {
    "duration": 21,
    "start_time": "2022-03-26T12:27:29.547Z"
   },
   {
    "duration": 19,
    "start_time": "2022-03-26T12:27:29.571Z"
   },
   {
    "duration": 46,
    "start_time": "2022-03-26T12:27:29.593Z"
   },
   {
    "duration": 432,
    "start_time": "2022-03-26T12:27:29.642Z"
   },
   {
    "duration": 14,
    "start_time": "2022-03-26T12:27:30.076Z"
   },
   {
    "duration": 4348,
    "start_time": "2022-03-26T12:27:30.093Z"
   },
   {
    "duration": 11,
    "start_time": "2022-03-26T12:27:34.444Z"
   },
   {
    "duration": 235,
    "start_time": "2022-03-26T12:27:34.468Z"
   },
   {
    "duration": 11,
    "start_time": "2022-03-26T12:27:34.705Z"
   },
   {
    "duration": 274,
    "start_time": "2022-03-26T12:27:34.718Z"
   },
   {
    "duration": 11,
    "start_time": "2022-03-26T12:27:34.995Z"
   },
   {
    "duration": 1558,
    "start_time": "2022-03-26T12:27:35.009Z"
   },
   {
    "duration": 18,
    "start_time": "2022-03-26T12:27:36.576Z"
   },
   {
    "duration": 1904,
    "start_time": "2022-03-26T12:27:36.597Z"
   },
   {
    "duration": 21,
    "start_time": "2022-03-26T12:27:38.504Z"
   },
   {
    "duration": 19,
    "start_time": "2022-03-26T13:29:44.293Z"
   },
   {
    "duration": 222,
    "start_time": "2022-03-26T13:31:35.458Z"
   },
   {
    "duration": 0,
    "start_time": "2022-03-26T13:32:22.048Z"
   },
   {
    "duration": 0,
    "start_time": "2022-03-26T13:36:30.024Z"
   },
   {
    "duration": 577,
    "start_time": "2022-03-26T13:36:41.839Z"
   },
   {
    "duration": 1031,
    "start_time": "2022-03-26T13:36:42.419Z"
   },
   {
    "duration": 110,
    "start_time": "2022-03-26T13:36:43.452Z"
   },
   {
    "duration": 42,
    "start_time": "2022-03-26T13:36:43.567Z"
   },
   {
    "duration": 30,
    "start_time": "2022-03-26T13:36:43.613Z"
   },
   {
    "duration": 40,
    "start_time": "2022-03-26T13:36:43.645Z"
   },
   {
    "duration": 7,
    "start_time": "2022-03-26T13:36:43.691Z"
   },
   {
    "duration": 11,
    "start_time": "2022-03-26T13:36:43.700Z"
   },
   {
    "duration": 9,
    "start_time": "2022-03-26T13:36:43.714Z"
   },
   {
    "duration": 52,
    "start_time": "2022-03-26T13:36:43.726Z"
   },
   {
    "duration": 34,
    "start_time": "2022-03-26T13:36:43.780Z"
   },
   {
    "duration": 9,
    "start_time": "2022-03-26T13:36:43.817Z"
   },
   {
    "duration": 52,
    "start_time": "2022-03-26T13:36:43.828Z"
   },
   {
    "duration": 7,
    "start_time": "2022-03-26T13:36:43.886Z"
   },
   {
    "duration": 8,
    "start_time": "2022-03-26T13:36:43.896Z"
   },
   {
    "duration": 7,
    "start_time": "2022-03-26T13:36:43.906Z"
   },
   {
    "duration": 9,
    "start_time": "2022-03-26T13:36:43.915Z"
   },
   {
    "duration": 10,
    "start_time": "2022-03-26T13:36:43.926Z"
   },
   {
    "duration": 44,
    "start_time": "2022-03-26T13:36:43.938Z"
   },
   {
    "duration": 17,
    "start_time": "2022-03-26T13:36:43.986Z"
   },
   {
    "duration": 311,
    "start_time": "2022-03-26T13:36:44.006Z"
   },
   {
    "duration": 11,
    "start_time": "2022-03-26T13:36:44.320Z"
   },
   {
    "duration": 255,
    "start_time": "2022-03-26T13:36:44.334Z"
   },
   {
    "duration": 15,
    "start_time": "2022-03-26T13:36:44.593Z"
   },
   {
    "duration": 11,
    "start_time": "2022-03-26T13:36:44.610Z"
   },
   {
    "duration": 10,
    "start_time": "2022-03-26T13:36:44.623Z"
   },
   {
    "duration": 68,
    "start_time": "2022-03-26T13:36:44.635Z"
   },
   {
    "duration": 29,
    "start_time": "2022-03-26T13:36:44.706Z"
   },
   {
    "duration": 43,
    "start_time": "2022-03-26T13:36:44.738Z"
   },
   {
    "duration": 22,
    "start_time": "2022-03-26T13:36:44.784Z"
   },
   {
    "duration": 16,
    "start_time": "2022-03-26T13:36:44.808Z"
   },
   {
    "duration": 6,
    "start_time": "2022-03-26T13:36:44.826Z"
   },
   {
    "duration": 44,
    "start_time": "2022-03-26T13:36:44.834Z"
   },
   {
    "duration": 514,
    "start_time": "2022-03-26T13:36:44.883Z"
   },
   {
    "duration": 6,
    "start_time": "2022-03-26T13:36:45.400Z"
   },
   {
    "duration": 13,
    "start_time": "2022-03-26T13:36:45.408Z"
   },
   {
    "duration": 51,
    "start_time": "2022-03-26T13:36:45.423Z"
   },
   {
    "duration": 14,
    "start_time": "2022-03-26T13:36:45.476Z"
   },
   {
    "duration": 440,
    "start_time": "2022-03-26T13:36:45.493Z"
   },
   {
    "duration": 14,
    "start_time": "2022-03-26T13:36:45.936Z"
   },
   {
    "duration": 4479,
    "start_time": "2022-03-26T13:36:45.973Z"
   },
   {
    "duration": 28,
    "start_time": "2022-03-26T13:36:50.456Z"
   },
   {
    "duration": 269,
    "start_time": "2022-03-26T13:36:50.487Z"
   },
   {
    "duration": 23,
    "start_time": "2022-03-26T13:36:50.759Z"
   },
   {
    "duration": 352,
    "start_time": "2022-03-26T13:36:50.787Z"
   },
   {
    "duration": 583,
    "start_time": "2022-03-26T13:36:51.142Z"
   },
   {
    "duration": 240,
    "start_time": "2022-03-26T13:36:51.727Z"
   },
   {
    "duration": 8,
    "start_time": "2022-03-26T13:36:51.970Z"
   },
   {
    "duration": 579,
    "start_time": "2022-03-26T13:36:51.981Z"
   },
   {
    "duration": 20,
    "start_time": "2022-03-26T13:36:52.567Z"
   },
   {
    "duration": 3485,
    "start_time": "2022-03-26T13:36:52.589Z"
   },
   {
    "duration": 25,
    "start_time": "2022-03-26T13:36:56.079Z"
   },
   {
    "duration": 327,
    "start_time": "2022-03-26T13:37:12.309Z"
   },
   {
    "duration": 148,
    "start_time": "2022-03-26T13:37:45.529Z"
   },
   {
    "duration": 443,
    "start_time": "2022-03-26T13:37:48.917Z"
   },
   {
    "duration": 207,
    "start_time": "2022-03-26T13:38:16.584Z"
   },
   {
    "duration": 190,
    "start_time": "2022-03-26T13:38:19.553Z"
   },
   {
    "duration": 398,
    "start_time": "2022-03-26T13:40:33.167Z"
   },
   {
    "duration": 22,
    "start_time": "2022-03-26T13:40:51.089Z"
   },
   {
    "duration": 13,
    "start_time": "2022-03-26T13:41:05.492Z"
   },
   {
    "duration": 524,
    "start_time": "2022-03-26T13:42:43.296Z"
   },
   {
    "duration": 961,
    "start_time": "2022-03-26T13:42:43.824Z"
   },
   {
    "duration": 103,
    "start_time": "2022-03-26T13:42:44.787Z"
   },
   {
    "duration": 38,
    "start_time": "2022-03-26T13:42:44.892Z"
   },
   {
    "duration": 37,
    "start_time": "2022-03-26T13:42:44.933Z"
   },
   {
    "duration": 17,
    "start_time": "2022-03-26T13:42:44.974Z"
   },
   {
    "duration": 6,
    "start_time": "2022-03-26T13:42:44.994Z"
   },
   {
    "duration": 21,
    "start_time": "2022-03-26T13:42:45.003Z"
   },
   {
    "duration": 8,
    "start_time": "2022-03-26T13:42:45.027Z"
   },
   {
    "duration": 41,
    "start_time": "2022-03-26T13:42:45.037Z"
   },
   {
    "duration": 29,
    "start_time": "2022-03-26T13:42:45.081Z"
   },
   {
    "duration": 7,
    "start_time": "2022-03-26T13:42:45.113Z"
   },
   {
    "duration": 50,
    "start_time": "2022-03-26T13:42:45.122Z"
   },
   {
    "duration": 8,
    "start_time": "2022-03-26T13:42:45.183Z"
   },
   {
    "duration": 13,
    "start_time": "2022-03-26T13:42:45.194Z"
   },
   {
    "duration": 8,
    "start_time": "2022-03-26T13:42:45.210Z"
   },
   {
    "duration": 9,
    "start_time": "2022-03-26T13:42:45.221Z"
   },
   {
    "duration": 5,
    "start_time": "2022-03-26T13:42:45.233Z"
   },
   {
    "duration": 43,
    "start_time": "2022-03-26T13:42:45.241Z"
   },
   {
    "duration": 18,
    "start_time": "2022-03-26T13:42:45.287Z"
   },
   {
    "duration": 308,
    "start_time": "2022-03-26T13:42:45.308Z"
   },
   {
    "duration": 8,
    "start_time": "2022-03-26T13:42:45.618Z"
   },
   {
    "duration": 209,
    "start_time": "2022-03-26T13:42:45.628Z"
   },
   {
    "duration": 13,
    "start_time": "2022-03-26T13:42:45.839Z"
   },
   {
    "duration": 11,
    "start_time": "2022-03-26T13:42:45.867Z"
   },
   {
    "duration": 13,
    "start_time": "2022-03-26T13:42:45.882Z"
   },
   {
    "duration": 31,
    "start_time": "2022-03-26T13:42:45.897Z"
   },
   {
    "duration": 64,
    "start_time": "2022-03-26T13:42:45.930Z"
   },
   {
    "duration": 12,
    "start_time": "2022-03-26T13:42:45.996Z"
   },
   {
    "duration": 18,
    "start_time": "2022-03-26T13:42:46.010Z"
   },
   {
    "duration": 49,
    "start_time": "2022-03-26T13:42:46.030Z"
   },
   {
    "duration": 6,
    "start_time": "2022-03-26T13:42:46.081Z"
   },
   {
    "duration": 7,
    "start_time": "2022-03-26T13:42:46.089Z"
   },
   {
    "duration": 481,
    "start_time": "2022-03-26T13:42:46.098Z"
   },
   {
    "duration": 6,
    "start_time": "2022-03-26T13:42:46.581Z"
   },
   {
    "duration": 9,
    "start_time": "2022-03-26T13:42:46.589Z"
   },
   {
    "duration": 34,
    "start_time": "2022-03-26T13:42:46.600Z"
   },
   {
    "duration": 41,
    "start_time": "2022-03-26T13:42:46.636Z"
   },
   {
    "duration": 417,
    "start_time": "2022-03-26T13:42:46.682Z"
   },
   {
    "duration": 12,
    "start_time": "2022-03-26T13:42:47.102Z"
   },
   {
    "duration": 4112,
    "start_time": "2022-03-26T13:42:47.120Z"
   },
   {
    "duration": 12,
    "start_time": "2022-03-26T13:42:51.234Z"
   },
   {
    "duration": 269,
    "start_time": "2022-03-26T13:42:51.248Z"
   },
   {
    "duration": 13,
    "start_time": "2022-03-26T13:42:51.519Z"
   },
   {
    "duration": 333,
    "start_time": "2022-03-26T13:42:51.534Z"
   },
   {
    "duration": 538,
    "start_time": "2022-03-26T13:42:51.870Z"
   },
   {
    "duration": 172,
    "start_time": "2022-03-26T13:42:52.410Z"
   },
   {
    "duration": 7,
    "start_time": "2022-03-26T13:42:52.584Z"
   },
   {
    "duration": 409,
    "start_time": "2022-03-26T13:42:52.594Z"
   },
   {
    "duration": 12,
    "start_time": "2022-03-26T13:42:53.006Z"
   },
   {
    "duration": 2648,
    "start_time": "2022-03-26T13:42:53.020Z"
   },
   {
    "duration": 20,
    "start_time": "2022-03-26T13:42:55.670Z"
   },
   {
    "duration": 236,
    "start_time": "2022-03-26T13:42:55.692Z"
   },
   {
    "duration": 12,
    "start_time": "2022-03-26T13:42:55.930Z"
   },
   {
    "duration": 5,
    "start_time": "2022-03-26T13:47:03.589Z"
   },
   {
    "duration": 668,
    "start_time": "2022-03-26T13:47:10.605Z"
   },
   {
    "duration": 215,
    "start_time": "2022-03-26T13:47:19.867Z"
   },
   {
    "duration": 12,
    "start_time": "2022-03-26T13:47:42.385Z"
   },
   {
    "duration": 153,
    "start_time": "2022-03-26T13:54:42.281Z"
   },
   {
    "duration": 486,
    "start_time": "2022-03-26T13:55:55.918Z"
   },
   {
    "duration": 1003,
    "start_time": "2022-03-26T13:55:56.408Z"
   },
   {
    "duration": 98,
    "start_time": "2022-03-26T13:55:57.414Z"
   },
   {
    "duration": 36,
    "start_time": "2022-03-26T13:55:57.515Z"
   },
   {
    "duration": 24,
    "start_time": "2022-03-26T13:55:57.568Z"
   },
   {
    "duration": 14,
    "start_time": "2022-03-26T13:55:57.595Z"
   },
   {
    "duration": 7,
    "start_time": "2022-03-26T13:55:57.611Z"
   },
   {
    "duration": 8,
    "start_time": "2022-03-26T13:55:57.620Z"
   },
   {
    "duration": 13,
    "start_time": "2022-03-26T13:55:57.670Z"
   },
   {
    "duration": 6,
    "start_time": "2022-03-26T13:55:57.686Z"
   },
   {
    "duration": 24,
    "start_time": "2022-03-26T13:55:57.694Z"
   },
   {
    "duration": 7,
    "start_time": "2022-03-26T13:55:57.720Z"
   },
   {
    "duration": 59,
    "start_time": "2022-03-26T13:55:57.729Z"
   },
   {
    "duration": 9,
    "start_time": "2022-03-26T13:55:57.794Z"
   },
   {
    "duration": 10,
    "start_time": "2022-03-26T13:55:57.806Z"
   },
   {
    "duration": 5,
    "start_time": "2022-03-26T13:55:57.818Z"
   },
   {
    "duration": 4,
    "start_time": "2022-03-26T13:55:57.825Z"
   },
   {
    "duration": 5,
    "start_time": "2022-03-26T13:55:57.831Z"
   },
   {
    "duration": 47,
    "start_time": "2022-03-26T13:55:57.837Z"
   },
   {
    "duration": 14,
    "start_time": "2022-03-26T13:55:57.886Z"
   },
   {
    "duration": 214,
    "start_time": "2022-03-26T13:55:57.903Z"
   },
   {
    "duration": 7,
    "start_time": "2022-03-26T13:55:58.120Z"
   },
   {
    "duration": 214,
    "start_time": "2022-03-26T13:55:58.130Z"
   },
   {
    "duration": 33,
    "start_time": "2022-03-26T13:55:58.347Z"
   },
   {
    "duration": 12,
    "start_time": "2022-03-26T13:55:58.383Z"
   },
   {
    "duration": 10,
    "start_time": "2022-03-26T13:55:58.398Z"
   },
   {
    "duration": 61,
    "start_time": "2022-03-26T13:55:58.411Z"
   },
   {
    "duration": 33,
    "start_time": "2022-03-26T13:55:58.475Z"
   },
   {
    "duration": 13,
    "start_time": "2022-03-26T13:55:58.510Z"
   },
   {
    "duration": 44,
    "start_time": "2022-03-26T13:55:58.524Z"
   },
   {
    "duration": 20,
    "start_time": "2022-03-26T13:55:58.570Z"
   },
   {
    "duration": 7,
    "start_time": "2022-03-26T13:55:58.592Z"
   },
   {
    "duration": 15,
    "start_time": "2022-03-26T13:55:58.601Z"
   },
   {
    "duration": 551,
    "start_time": "2022-03-26T13:55:58.618Z"
   },
   {
    "duration": 6,
    "start_time": "2022-03-26T13:55:59.173Z"
   },
   {
    "duration": 13,
    "start_time": "2022-03-26T13:55:59.183Z"
   },
   {
    "duration": 45,
    "start_time": "2022-03-26T13:55:59.198Z"
   },
   {
    "duration": 26,
    "start_time": "2022-03-26T13:55:59.245Z"
   },
   {
    "duration": 431,
    "start_time": "2022-03-26T13:55:59.273Z"
   },
   {
    "duration": 13,
    "start_time": "2022-03-26T13:55:59.707Z"
   },
   {
    "duration": 4134,
    "start_time": "2022-03-26T13:55:59.730Z"
   },
   {
    "duration": 12,
    "start_time": "2022-03-26T13:56:03.876Z"
   },
   {
    "duration": 252,
    "start_time": "2022-03-26T13:56:03.891Z"
   },
   {
    "duration": 23,
    "start_time": "2022-03-26T13:56:04.145Z"
   },
   {
    "duration": 321,
    "start_time": "2022-03-26T13:56:04.170Z"
   },
   {
    "duration": 567,
    "start_time": "2022-03-26T13:56:04.494Z"
   },
   {
    "duration": 183,
    "start_time": "2022-03-26T13:56:05.063Z"
   },
   {
    "duration": 7,
    "start_time": "2022-03-26T13:56:05.248Z"
   },
   {
    "duration": 383,
    "start_time": "2022-03-26T13:56:05.272Z"
   },
   {
    "duration": 26,
    "start_time": "2022-03-26T13:56:05.657Z"
   },
   {
    "duration": 2547,
    "start_time": "2022-03-26T13:56:05.685Z"
   },
   {
    "duration": 18,
    "start_time": "2022-03-26T13:56:08.235Z"
   },
   {
    "duration": 209,
    "start_time": "2022-03-26T13:56:08.255Z"
   },
   {
    "duration": 21,
    "start_time": "2022-03-26T13:56:08.467Z"
   },
   {
    "duration": 2989,
    "start_time": "2022-03-26T13:56:08.490Z"
   },
   {
    "duration": 17,
    "start_time": "2022-03-26T13:56:11.481Z"
   },
   {
    "duration": 29,
    "start_time": "2022-03-26T13:56:11.500Z"
   },
   {
    "duration": 40,
    "start_time": "2022-03-26T13:56:11.531Z"
   },
   {
    "duration": 28,
    "start_time": "2022-03-26T13:56:11.573Z"
   },
   {
    "duration": 33,
    "start_time": "2022-03-26T13:56:11.603Z"
   },
   {
    "duration": 32,
    "start_time": "2022-03-26T13:56:11.638Z"
   },
   {
    "duration": 6,
    "start_time": "2022-03-26T13:56:11.673Z"
   },
   {
    "duration": 17,
    "start_time": "2022-03-26T13:56:11.682Z"
   },
   {
    "duration": 10,
    "start_time": "2022-03-26T13:56:11.701Z"
   },
   {
    "duration": 8,
    "start_time": "2022-03-26T13:56:11.713Z"
   },
   {
    "duration": 47,
    "start_time": "2022-03-26T13:56:11.723Z"
   },
   {
    "duration": 255,
    "start_time": "2022-03-26T13:56:11.775Z"
   },
   {
    "duration": 7,
    "start_time": "2022-03-26T13:56:12.032Z"
   },
   {
    "duration": 265,
    "start_time": "2022-03-26T13:56:12.041Z"
   },
   {
    "duration": 7,
    "start_time": "2022-03-26T13:56:12.309Z"
   },
   {
    "duration": 15,
    "start_time": "2022-03-26T13:56:12.319Z"
   },
   {
    "duration": 69,
    "start_time": "2022-03-26T13:56:12.336Z"
   },
   {
    "duration": 415,
    "start_time": "2022-03-26T13:56:12.408Z"
   },
   {
    "duration": 13,
    "start_time": "2022-03-26T13:56:12.825Z"
   },
   {
    "duration": 2249,
    "start_time": "2022-03-26T13:56:12.841Z"
   },
   {
    "duration": 12,
    "start_time": "2022-03-26T13:56:15.093Z"
   },
   {
    "duration": 252,
    "start_time": "2022-03-26T13:56:15.107Z"
   },
   {
    "duration": 20,
    "start_time": "2022-03-26T13:56:15.361Z"
   },
   {
    "duration": 267,
    "start_time": "2022-03-26T13:56:15.383Z"
   },
   {
    "duration": 23,
    "start_time": "2022-03-26T13:56:15.653Z"
   },
   {
    "duration": 203,
    "start_time": "2022-03-26T13:56:15.683Z"
   },
   {
    "duration": 1195,
    "start_time": "2022-03-26T13:57:08.437Z"
   },
   {
    "duration": 880,
    "start_time": "2022-03-26T13:57:33.651Z"
   },
   {
    "duration": 17,
    "start_time": "2022-03-26T13:57:40.764Z"
   },
   {
    "duration": 104652,
    "start_time": "2022-03-26T14:04:08.982Z"
   },
   {
    "duration": 0,
    "start_time": "2022-03-26T14:05:53.640Z"
   },
   {
    "duration": 26,
    "start_time": "2022-03-26T14:07:06.977Z"
   },
   {
    "duration": 517,
    "start_time": "2022-03-26T14:07:21.722Z"
   },
   {
    "duration": 1002,
    "start_time": "2022-03-26T14:07:22.243Z"
   },
   {
    "duration": 101,
    "start_time": "2022-03-26T14:07:23.248Z"
   },
   {
    "duration": 49,
    "start_time": "2022-03-26T14:07:23.351Z"
   },
   {
    "duration": 20,
    "start_time": "2022-03-26T14:07:23.403Z"
   },
   {
    "duration": 42,
    "start_time": "2022-03-26T14:07:23.425Z"
   },
   {
    "duration": 6,
    "start_time": "2022-03-26T14:07:23.469Z"
   },
   {
    "duration": 24,
    "start_time": "2022-03-26T14:07:23.480Z"
   },
   {
    "duration": 18,
    "start_time": "2022-03-26T14:07:23.508Z"
   },
   {
    "duration": 23,
    "start_time": "2022-03-26T14:07:23.528Z"
   },
   {
    "duration": 50,
    "start_time": "2022-03-26T14:07:23.553Z"
   },
   {
    "duration": 8,
    "start_time": "2022-03-26T14:07:23.605Z"
   },
   {
    "duration": 18,
    "start_time": "2022-03-26T14:07:23.616Z"
   },
   {
    "duration": 20,
    "start_time": "2022-03-26T14:07:23.640Z"
   },
   {
    "duration": 17,
    "start_time": "2022-03-26T14:07:23.662Z"
   },
   {
    "duration": 22,
    "start_time": "2022-03-26T14:07:23.685Z"
   },
   {
    "duration": 17,
    "start_time": "2022-03-26T14:07:23.709Z"
   },
   {
    "duration": 19,
    "start_time": "2022-03-26T14:07:23.728Z"
   },
   {
    "duration": 41,
    "start_time": "2022-03-26T14:07:23.749Z"
   },
   {
    "duration": 34,
    "start_time": "2022-03-26T14:07:23.792Z"
   },
   {
    "duration": 212,
    "start_time": "2022-03-26T14:07:23.829Z"
   },
   {
    "duration": 10,
    "start_time": "2022-03-26T14:07:24.043Z"
   },
   {
    "duration": 200,
    "start_time": "2022-03-26T14:07:24.070Z"
   },
   {
    "duration": 17,
    "start_time": "2022-03-26T14:07:24.272Z"
   },
   {
    "duration": 13,
    "start_time": "2022-03-26T14:07:24.291Z"
   },
   {
    "duration": 10,
    "start_time": "2022-03-26T14:07:24.306Z"
   },
   {
    "duration": 73,
    "start_time": "2022-03-26T14:07:24.318Z"
   },
   {
    "duration": 29,
    "start_time": "2022-03-26T14:07:24.393Z"
   },
   {
    "duration": 13,
    "start_time": "2022-03-26T14:07:24.425Z"
   },
   {
    "duration": 42,
    "start_time": "2022-03-26T14:07:24.441Z"
   },
   {
    "duration": 16,
    "start_time": "2022-03-26T14:07:24.485Z"
   },
   {
    "duration": 5,
    "start_time": "2022-03-26T14:07:24.503Z"
   },
   {
    "duration": 5,
    "start_time": "2022-03-26T14:07:24.510Z"
   },
   {
    "duration": 522,
    "start_time": "2022-03-26T14:07:24.517Z"
   },
   {
    "duration": 8,
    "start_time": "2022-03-26T14:07:25.041Z"
   },
   {
    "duration": 18,
    "start_time": "2022-03-26T14:07:25.051Z"
   },
   {
    "duration": 42,
    "start_time": "2022-03-26T14:07:25.071Z"
   },
   {
    "duration": 12,
    "start_time": "2022-03-26T14:07:25.115Z"
   },
   {
    "duration": 431,
    "start_time": "2022-03-26T14:07:25.130Z"
   },
   {
    "duration": 13,
    "start_time": "2022-03-26T14:07:25.568Z"
   },
   {
    "duration": 6179,
    "start_time": "2022-03-26T14:07:25.588Z"
   },
   {
    "duration": 13,
    "start_time": "2022-03-26T14:07:31.771Z"
   },
   {
    "duration": 265,
    "start_time": "2022-03-26T14:07:31.786Z"
   },
   {
    "duration": 23,
    "start_time": "2022-03-26T14:07:32.054Z"
   },
   {
    "duration": 326,
    "start_time": "2022-03-26T14:07:32.080Z"
   },
   {
    "duration": 554,
    "start_time": "2022-03-26T14:07:32.408Z"
   },
   {
    "duration": 184,
    "start_time": "2022-03-26T14:07:32.968Z"
   },
   {
    "duration": 13,
    "start_time": "2022-03-26T14:07:33.154Z"
   },
   {
    "duration": 413,
    "start_time": "2022-03-26T14:07:33.172Z"
   },
   {
    "duration": 13,
    "start_time": "2022-03-26T14:07:33.587Z"
   },
   {
    "duration": 2609,
    "start_time": "2022-03-26T14:07:33.603Z"
   },
   {
    "duration": 18,
    "start_time": "2022-03-26T14:07:36.215Z"
   },
   {
    "duration": 288,
    "start_time": "2022-03-26T14:07:36.235Z"
   },
   {
    "duration": 16,
    "start_time": "2022-03-26T14:07:36.526Z"
   },
   {
    "duration": 2953,
    "start_time": "2022-03-26T14:07:36.545Z"
   },
   {
    "duration": 259,
    "start_time": "2022-03-26T14:08:16.611Z"
   },
   {
    "duration": 320,
    "start_time": "2022-03-26T14:08:29.814Z"
   },
   {
    "duration": 560,
    "start_time": "2022-03-26T14:08:59.099Z"
   },
   {
    "duration": 257,
    "start_time": "2022-03-26T14:09:12.091Z"
   },
   {
    "duration": 426,
    "start_time": "2022-03-26T14:09:30.784Z"
   },
   {
    "duration": 169,
    "start_time": "2022-03-26T14:11:40.049Z"
   },
   {
    "duration": 375,
    "start_time": "2022-03-26T14:11:54.731Z"
   },
   {
    "duration": 231,
    "start_time": "2022-03-26T14:12:51.009Z"
   },
   {
    "duration": 383,
    "start_time": "2022-03-26T14:13:03.883Z"
   },
   {
    "duration": 524,
    "start_time": "2022-03-26T14:13:12.510Z"
   },
   {
    "duration": 386,
    "start_time": "2022-03-26T14:13:21.537Z"
   },
   {
    "duration": 243,
    "start_time": "2022-03-26T14:14:00.341Z"
   },
   {
    "duration": 513,
    "start_time": "2022-03-26T14:24:05.787Z"
   },
   {
    "duration": 1011,
    "start_time": "2022-03-26T14:24:06.304Z"
   },
   {
    "duration": 107,
    "start_time": "2022-03-26T14:24:07.317Z"
   },
   {
    "duration": 48,
    "start_time": "2022-03-26T14:24:07.426Z"
   },
   {
    "duration": 22,
    "start_time": "2022-03-26T14:24:07.477Z"
   },
   {
    "duration": 15,
    "start_time": "2022-03-26T14:24:07.502Z"
   },
   {
    "duration": 7,
    "start_time": "2022-03-26T14:24:07.519Z"
   },
   {
    "duration": 48,
    "start_time": "2022-03-26T14:24:07.529Z"
   },
   {
    "duration": 10,
    "start_time": "2022-03-26T14:24:07.580Z"
   },
   {
    "duration": 7,
    "start_time": "2022-03-26T14:24:07.593Z"
   },
   {
    "duration": 24,
    "start_time": "2022-03-26T14:24:07.602Z"
   },
   {
    "duration": 16,
    "start_time": "2022-03-26T14:24:07.668Z"
   },
   {
    "duration": 17,
    "start_time": "2022-03-26T14:24:07.687Z"
   },
   {
    "duration": 7,
    "start_time": "2022-03-26T14:24:07.709Z"
   },
   {
    "duration": 7,
    "start_time": "2022-03-26T14:24:07.718Z"
   },
   {
    "duration": 44,
    "start_time": "2022-03-26T14:24:07.728Z"
   },
   {
    "duration": 20,
    "start_time": "2022-03-26T14:24:07.774Z"
   },
   {
    "duration": 5,
    "start_time": "2022-03-26T14:24:07.796Z"
   },
   {
    "duration": 12,
    "start_time": "2022-03-26T14:24:07.803Z"
   },
   {
    "duration": 14,
    "start_time": "2022-03-26T14:24:07.817Z"
   },
   {
    "duration": 226,
    "start_time": "2022-03-26T14:24:07.833Z"
   },
   {
    "duration": 17,
    "start_time": "2022-03-26T14:24:08.061Z"
   },
   {
    "duration": 215,
    "start_time": "2022-03-26T14:24:08.081Z"
   },
   {
    "duration": 14,
    "start_time": "2022-03-26T14:24:08.298Z"
   },
   {
    "duration": 11,
    "start_time": "2022-03-26T14:24:08.314Z"
   },
   {
    "duration": 10,
    "start_time": "2022-03-26T14:24:08.327Z"
   },
   {
    "duration": 61,
    "start_time": "2022-03-26T14:24:08.339Z"
   },
   {
    "duration": 30,
    "start_time": "2022-03-26T14:24:08.402Z"
   },
   {
    "duration": 47,
    "start_time": "2022-03-26T14:24:08.435Z"
   },
   {
    "duration": 20,
    "start_time": "2022-03-26T14:24:08.484Z"
   },
   {
    "duration": 16,
    "start_time": "2022-03-26T14:24:08.513Z"
   },
   {
    "duration": 5,
    "start_time": "2022-03-26T14:24:08.531Z"
   },
   {
    "duration": 12,
    "start_time": "2022-03-26T14:24:08.569Z"
   },
   {
    "duration": 501,
    "start_time": "2022-03-26T14:24:08.584Z"
   },
   {
    "duration": 6,
    "start_time": "2022-03-26T14:24:09.088Z"
   },
   {
    "duration": 9,
    "start_time": "2022-03-26T14:24:09.096Z"
   },
   {
    "duration": 35,
    "start_time": "2022-03-26T14:24:09.108Z"
   },
   {
    "duration": 17,
    "start_time": "2022-03-26T14:24:09.169Z"
   },
   {
    "duration": 404,
    "start_time": "2022-03-26T14:24:09.188Z"
   },
   {
    "duration": 12,
    "start_time": "2022-03-26T14:24:09.594Z"
   },
   {
    "duration": 4348,
    "start_time": "2022-03-26T14:24:09.614Z"
   },
   {
    "duration": 16,
    "start_time": "2022-03-26T14:24:13.969Z"
   },
   {
    "duration": 267,
    "start_time": "2022-03-26T14:24:13.987Z"
   },
   {
    "duration": 23,
    "start_time": "2022-03-26T14:24:14.256Z"
   },
   {
    "duration": 338,
    "start_time": "2022-03-26T14:24:14.281Z"
   },
   {
    "duration": 569,
    "start_time": "2022-03-26T14:24:14.621Z"
   },
   {
    "duration": 186,
    "start_time": "2022-03-26T14:24:15.192Z"
   },
   {
    "duration": 8,
    "start_time": "2022-03-26T14:24:15.380Z"
   },
   {
    "duration": 406,
    "start_time": "2022-03-26T14:24:15.390Z"
   },
   {
    "duration": 14,
    "start_time": "2022-03-26T14:24:15.799Z"
   },
   {
    "duration": 3884,
    "start_time": "2022-03-26T14:24:15.816Z"
   },
   {
    "duration": 19,
    "start_time": "2022-03-26T14:24:19.703Z"
   },
   {
    "duration": 209,
    "start_time": "2022-03-26T14:24:19.724Z"
   },
   {
    "duration": 15,
    "start_time": "2022-03-26T14:24:19.935Z"
   },
   {
    "duration": 307,
    "start_time": "2022-03-26T14:24:19.952Z"
   },
   {
    "duration": 256,
    "start_time": "2022-03-26T14:24:20.261Z"
   },
   {
    "duration": 409,
    "start_time": "2022-03-26T14:24:20.519Z"
   },
   {
    "duration": 43,
    "start_time": "2022-03-26T14:24:20.930Z"
   },
   {
    "duration": 17,
    "start_time": "2022-03-26T14:24:20.976Z"
   },
   {
    "duration": 218,
    "start_time": "2022-03-26T14:24:20.996Z"
   },
   {
    "duration": 50,
    "start_time": "2022-03-26T14:24:21.217Z"
   },
   {
    "duration": 16,
    "start_time": "2022-03-26T14:24:21.270Z"
   },
   {
    "duration": 15,
    "start_time": "2022-03-26T14:24:21.288Z"
   },
   {
    "duration": 22,
    "start_time": "2022-03-26T14:24:21.306Z"
   },
   {
    "duration": 10,
    "start_time": "2022-03-26T14:24:21.331Z"
   },
   {
    "duration": 36,
    "start_time": "2022-03-26T14:24:21.343Z"
   },
   {
    "duration": 7,
    "start_time": "2022-03-26T14:24:21.381Z"
   },
   {
    "duration": 265,
    "start_time": "2022-03-26T14:24:21.390Z"
   },
   {
    "duration": 12,
    "start_time": "2022-03-26T14:24:21.657Z"
   },
   {
    "duration": 270,
    "start_time": "2022-03-26T14:24:21.671Z"
   },
   {
    "duration": 8,
    "start_time": "2022-03-26T14:24:21.944Z"
   },
   {
    "duration": 16,
    "start_time": "2022-03-26T14:24:21.970Z"
   },
   {
    "duration": 44,
    "start_time": "2022-03-26T14:24:21.989Z"
   },
   {
    "duration": 435,
    "start_time": "2022-03-26T14:24:22.035Z"
   },
   {
    "duration": 12,
    "start_time": "2022-03-26T14:24:22.477Z"
   },
   {
    "duration": 2089,
    "start_time": "2022-03-26T14:24:22.491Z"
   },
   {
    "duration": 11,
    "start_time": "2022-03-26T14:24:24.583Z"
   },
   {
    "duration": 504,
    "start_time": "2022-03-26T14:24:24.596Z"
   },
   {
    "duration": 11,
    "start_time": "2022-03-26T14:24:25.102Z"
   },
   {
    "duration": 279,
    "start_time": "2022-03-26T14:24:25.115Z"
   },
   {
    "duration": 12,
    "start_time": "2022-03-26T14:24:25.396Z"
   },
   {
    "duration": 219,
    "start_time": "2022-03-26T14:24:25.410Z"
   },
   {
    "duration": 900,
    "start_time": "2022-03-26T14:24:25.631Z"
   },
   {
    "duration": 15,
    "start_time": "2022-03-26T14:24:26.534Z"
   },
   {
    "duration": 303,
    "start_time": "2022-03-26T14:24:26.551Z"
   },
   {
    "duration": 247,
    "start_time": "2022-03-26T14:24:26.857Z"
   },
   {
    "duration": 534,
    "start_time": "2022-03-26T14:24:27.107Z"
   },
   {
    "duration": 553,
    "start_time": "2022-03-26T14:37:55.758Z"
   },
   {
    "duration": 1059,
    "start_time": "2022-03-26T14:37:56.314Z"
   },
   {
    "duration": 107,
    "start_time": "2022-03-26T14:37:57.375Z"
   },
   {
    "duration": 39,
    "start_time": "2022-03-26T14:37:57.484Z"
   },
   {
    "duration": 46,
    "start_time": "2022-03-26T14:37:57.526Z"
   },
   {
    "duration": 18,
    "start_time": "2022-03-26T14:37:57.574Z"
   },
   {
    "duration": 8,
    "start_time": "2022-03-26T14:37:57.595Z"
   },
   {
    "duration": 9,
    "start_time": "2022-03-26T14:37:57.606Z"
   },
   {
    "duration": 6,
    "start_time": "2022-03-26T14:37:57.619Z"
   },
   {
    "duration": 52,
    "start_time": "2022-03-26T14:37:57.628Z"
   },
   {
    "duration": 29,
    "start_time": "2022-03-26T14:37:57.684Z"
   },
   {
    "duration": 7,
    "start_time": "2022-03-26T14:37:57.715Z"
   },
   {
    "duration": 61,
    "start_time": "2022-03-26T14:37:57.725Z"
   },
   {
    "duration": 7,
    "start_time": "2022-03-26T14:37:57.793Z"
   },
   {
    "duration": 8,
    "start_time": "2022-03-26T14:37:57.803Z"
   },
   {
    "duration": 6,
    "start_time": "2022-03-26T14:37:57.814Z"
   },
   {
    "duration": 5,
    "start_time": "2022-03-26T14:37:57.822Z"
   },
   {
    "duration": 49,
    "start_time": "2022-03-26T14:37:57.829Z"
   },
   {
    "duration": 18,
    "start_time": "2022-03-26T14:37:57.880Z"
   },
   {
    "duration": 13,
    "start_time": "2022-03-26T14:37:57.900Z"
   },
   {
    "duration": 289,
    "start_time": "2022-03-26T14:37:57.916Z"
   },
   {
    "duration": 8,
    "start_time": "2022-03-26T14:37:58.208Z"
   },
   {
    "duration": 209,
    "start_time": "2022-03-26T14:37:58.218Z"
   },
   {
    "duration": 13,
    "start_time": "2022-03-26T14:37:58.430Z"
   },
   {
    "duration": 29,
    "start_time": "2022-03-26T14:37:58.445Z"
   },
   {
    "duration": 10,
    "start_time": "2022-03-26T14:37:58.478Z"
   },
   {
    "duration": 43,
    "start_time": "2022-03-26T14:37:58.491Z"
   },
   {
    "duration": 59,
    "start_time": "2022-03-26T14:37:58.537Z"
   },
   {
    "duration": 13,
    "start_time": "2022-03-26T14:37:58.598Z"
   },
   {
    "duration": 54,
    "start_time": "2022-03-26T14:37:58.614Z"
   },
   {
    "duration": 20,
    "start_time": "2022-03-26T14:37:58.672Z"
   },
   {
    "duration": 6,
    "start_time": "2022-03-26T14:37:58.695Z"
   },
   {
    "duration": 6,
    "start_time": "2022-03-26T14:37:58.703Z"
   },
   {
    "duration": 548,
    "start_time": "2022-03-26T14:37:58.713Z"
   },
   {
    "duration": 10,
    "start_time": "2022-03-26T14:37:59.264Z"
   },
   {
    "duration": 22,
    "start_time": "2022-03-26T14:37:59.276Z"
   },
   {
    "duration": 35,
    "start_time": "2022-03-26T14:37:59.301Z"
   },
   {
    "duration": 36,
    "start_time": "2022-03-26T14:37:59.339Z"
   },
   {
    "duration": 481,
    "start_time": "2022-03-26T14:37:59.377Z"
   },
   {
    "duration": 17,
    "start_time": "2022-03-26T14:37:59.861Z"
   },
   {
    "duration": 4326,
    "start_time": "2022-03-26T14:37:59.886Z"
   },
   {
    "duration": 14,
    "start_time": "2022-03-26T14:38:04.215Z"
   },
   {
    "duration": 288,
    "start_time": "2022-03-26T14:38:04.231Z"
   },
   {
    "duration": 13,
    "start_time": "2022-03-26T14:38:04.522Z"
   },
   {
    "duration": 349,
    "start_time": "2022-03-26T14:38:04.537Z"
   },
   {
    "duration": 566,
    "start_time": "2022-03-26T14:38:04.889Z"
   },
   {
    "duration": 195,
    "start_time": "2022-03-26T14:38:05.457Z"
   },
   {
    "duration": 18,
    "start_time": "2022-03-26T14:38:05.655Z"
   },
   {
    "duration": 408,
    "start_time": "2022-03-26T14:38:05.675Z"
   },
   {
    "duration": 15,
    "start_time": "2022-03-26T14:38:06.087Z"
   },
   {
    "duration": 3147,
    "start_time": "2022-03-26T14:38:06.105Z"
   },
   {
    "duration": 21,
    "start_time": "2022-03-26T14:38:09.255Z"
   },
   {
    "duration": 215,
    "start_time": "2022-03-26T14:38:09.280Z"
   },
   {
    "duration": 13,
    "start_time": "2022-03-26T14:38:09.497Z"
   },
   {
    "duration": 292,
    "start_time": "2022-03-26T14:38:09.512Z"
   },
   {
    "duration": 275,
    "start_time": "2022-03-26T14:38:09.806Z"
   },
   {
    "duration": 408,
    "start_time": "2022-03-26T14:38:10.086Z"
   },
   {
    "duration": 31,
    "start_time": "2022-03-26T14:38:10.496Z"
   },
   {
    "duration": 14,
    "start_time": "2022-03-26T14:38:10.529Z"
   },
   {
    "duration": 193,
    "start_time": "2022-03-26T14:38:10.567Z"
   },
   {
    "duration": 50,
    "start_time": "2022-03-26T14:38:10.769Z"
   },
   {
    "duration": 10,
    "start_time": "2022-03-26T14:38:10.821Z"
   },
   {
    "duration": 7,
    "start_time": "2022-03-26T14:38:10.833Z"
   },
   {
    "duration": 24,
    "start_time": "2022-03-26T14:38:10.868Z"
   },
   {
    "duration": 10,
    "start_time": "2022-03-26T14:38:10.894Z"
   },
   {
    "duration": 8,
    "start_time": "2022-03-26T14:38:10.906Z"
   },
   {
    "duration": 5,
    "start_time": "2022-03-26T14:38:10.916Z"
   },
   {
    "duration": 309,
    "start_time": "2022-03-26T14:38:10.923Z"
   },
   {
    "duration": 9,
    "start_time": "2022-03-26T14:38:11.235Z"
   },
   {
    "duration": 271,
    "start_time": "2022-03-26T14:38:11.246Z"
   },
   {
    "duration": 8,
    "start_time": "2022-03-26T14:38:11.520Z"
   },
   {
    "duration": 12,
    "start_time": "2022-03-26T14:38:11.530Z"
   },
   {
    "duration": 46,
    "start_time": "2022-03-26T14:38:11.567Z"
   },
   {
    "duration": 579,
    "start_time": "2022-03-26T14:38:11.615Z"
   },
   {
    "duration": 14,
    "start_time": "2022-03-26T14:38:12.196Z"
   },
   {
    "duration": 2499,
    "start_time": "2022-03-26T14:38:12.212Z"
   },
   {
    "duration": 11,
    "start_time": "2022-03-26T14:38:14.713Z"
   },
   {
    "duration": 474,
    "start_time": "2022-03-26T14:38:14.726Z"
   },
   {
    "duration": 11,
    "start_time": "2022-03-26T14:38:15.203Z"
   },
   {
    "duration": 279,
    "start_time": "2022-03-26T14:38:15.216Z"
   },
   {
    "duration": 15,
    "start_time": "2022-03-26T14:38:15.498Z"
   },
   {
    "duration": 240,
    "start_time": "2022-03-26T14:38:15.515Z"
   },
   {
    "duration": 942,
    "start_time": "2022-03-26T14:38:15.758Z"
   },
   {
    "duration": 16,
    "start_time": "2022-03-26T14:38:16.702Z"
   },
   {
    "duration": 338,
    "start_time": "2022-03-26T14:38:16.721Z"
   },
   {
    "duration": 279,
    "start_time": "2022-03-26T14:38:17.071Z"
   },
   {
    "duration": 585,
    "start_time": "2022-03-26T14:38:17.352Z"
   },
   {
    "duration": 377,
    "start_time": "2022-03-26T14:48:37.692Z"
   },
   {
    "duration": 495,
    "start_time": "2022-03-26T14:50:19.202Z"
   },
   {
    "duration": 1043,
    "start_time": "2022-03-26T14:50:19.700Z"
   },
   {
    "duration": 106,
    "start_time": "2022-03-26T14:50:20.745Z"
   },
   {
    "duration": 44,
    "start_time": "2022-03-26T14:50:20.854Z"
   },
   {
    "duration": 22,
    "start_time": "2022-03-26T14:50:20.901Z"
   },
   {
    "duration": 13,
    "start_time": "2022-03-26T14:50:20.925Z"
   },
   {
    "duration": 9,
    "start_time": "2022-03-26T14:50:20.969Z"
   },
   {
    "duration": 9,
    "start_time": "2022-03-26T14:50:20.983Z"
   },
   {
    "duration": 6,
    "start_time": "2022-03-26T14:50:20.994Z"
   },
   {
    "duration": 13,
    "start_time": "2022-03-26T14:50:21.002Z"
   },
   {
    "duration": 56,
    "start_time": "2022-03-26T14:50:21.017Z"
   },
   {
    "duration": 8,
    "start_time": "2022-03-26T14:50:21.076Z"
   },
   {
    "duration": 16,
    "start_time": "2022-03-26T14:50:21.086Z"
   },
   {
    "duration": 6,
    "start_time": "2022-03-26T14:50:21.107Z"
   },
   {
    "duration": 6,
    "start_time": "2022-03-26T14:50:21.115Z"
   },
   {
    "duration": 47,
    "start_time": "2022-03-26T14:50:21.124Z"
   },
   {
    "duration": 7,
    "start_time": "2022-03-26T14:50:21.173Z"
   },
   {
    "duration": 5,
    "start_time": "2022-03-26T14:50:21.184Z"
   },
   {
    "duration": 13,
    "start_time": "2022-03-26T14:50:21.192Z"
   },
   {
    "duration": 14,
    "start_time": "2022-03-26T14:50:21.208Z"
   },
   {
    "duration": 237,
    "start_time": "2022-03-26T14:50:21.224Z"
   },
   {
    "duration": 15,
    "start_time": "2022-03-26T14:50:21.468Z"
   },
   {
    "duration": 205,
    "start_time": "2022-03-26T14:50:21.486Z"
   },
   {
    "duration": 13,
    "start_time": "2022-03-26T14:50:21.693Z"
   },
   {
    "duration": 12,
    "start_time": "2022-03-26T14:50:21.708Z"
   },
   {
    "duration": 10,
    "start_time": "2022-03-26T14:50:21.722Z"
   },
   {
    "duration": 66,
    "start_time": "2022-03-26T14:50:21.735Z"
   },
   {
    "duration": 30,
    "start_time": "2022-03-26T14:50:21.804Z"
   },
   {
    "duration": 16,
    "start_time": "2022-03-26T14:50:21.868Z"
   },
   {
    "duration": 19,
    "start_time": "2022-03-26T14:50:21.887Z"
   },
   {
    "duration": 17,
    "start_time": "2022-03-26T14:50:21.909Z"
   },
   {
    "duration": 5,
    "start_time": "2022-03-26T14:50:21.927Z"
   },
   {
    "duration": 8,
    "start_time": "2022-03-26T14:50:21.975Z"
   },
   {
    "duration": 478,
    "start_time": "2022-03-26T14:50:21.985Z"
   },
   {
    "duration": 9,
    "start_time": "2022-03-26T14:50:22.465Z"
   },
   {
    "duration": 16,
    "start_time": "2022-03-26T14:50:22.476Z"
   },
   {
    "duration": 33,
    "start_time": "2022-03-26T14:50:22.494Z"
   },
   {
    "duration": 11,
    "start_time": "2022-03-26T14:50:22.529Z"
   },
   {
    "duration": 450,
    "start_time": "2022-03-26T14:50:22.542Z"
   },
   {
    "duration": 11,
    "start_time": "2022-03-26T14:50:22.994Z"
   },
   {
    "duration": 4104,
    "start_time": "2022-03-26T14:50:23.012Z"
   },
   {
    "duration": 12,
    "start_time": "2022-03-26T14:50:27.119Z"
   },
   {
    "duration": 269,
    "start_time": "2022-03-26T14:50:27.134Z"
   },
   {
    "duration": 11,
    "start_time": "2022-03-26T14:50:27.406Z"
   },
   {
    "duration": 337,
    "start_time": "2022-03-26T14:50:27.420Z"
   },
   {
    "duration": 716,
    "start_time": "2022-03-26T14:50:27.759Z"
   },
   {
    "duration": 312,
    "start_time": "2022-03-26T14:50:28.479Z"
   },
   {
    "duration": 7,
    "start_time": "2022-03-26T14:50:28.794Z"
   },
   {
    "duration": 812,
    "start_time": "2022-03-26T14:50:28.803Z"
   },
   {
    "duration": 16,
    "start_time": "2022-03-26T14:50:29.674Z"
   },
   {
    "duration": 4215,
    "start_time": "2022-03-26T14:50:29.693Z"
   },
   {
    "duration": 15,
    "start_time": "2022-03-26T14:50:33.911Z"
   },
   {
    "duration": 212,
    "start_time": "2022-03-26T14:50:33.929Z"
   },
   {
    "duration": 31,
    "start_time": "2022-03-26T14:50:34.144Z"
   },
   {
    "duration": 310,
    "start_time": "2022-03-26T14:50:34.177Z"
   },
   {
    "duration": 269,
    "start_time": "2022-03-26T14:50:34.490Z"
   },
   {
    "duration": 410,
    "start_time": "2022-03-26T14:50:34.761Z"
   },
   {
    "duration": 31,
    "start_time": "2022-03-26T14:50:35.173Z"
   },
   {
    "duration": 14,
    "start_time": "2022-03-26T14:50:35.206Z"
   },
   {
    "duration": 279,
    "start_time": "2022-03-26T14:50:35.222Z"
   },
   {
    "duration": 94,
    "start_time": "2022-03-26T14:50:35.503Z"
   },
   {
    "duration": 10,
    "start_time": "2022-03-26T14:50:35.600Z"
   },
   {
    "duration": 11,
    "start_time": "2022-03-26T14:50:35.670Z"
   },
   {
    "duration": 23,
    "start_time": "2022-03-26T14:50:35.683Z"
   },
   {
    "duration": 11,
    "start_time": "2022-03-26T14:50:35.709Z"
   },
   {
    "duration": 50,
    "start_time": "2022-03-26T14:50:35.722Z"
   },
   {
    "duration": 13,
    "start_time": "2022-03-26T14:50:35.775Z"
   },
   {
    "duration": 405,
    "start_time": "2022-03-26T14:50:35.790Z"
   },
   {
    "duration": 8,
    "start_time": "2022-03-26T14:50:36.197Z"
   },
   {
    "duration": 270,
    "start_time": "2022-03-26T14:50:36.207Z"
   },
   {
    "duration": 8,
    "start_time": "2022-03-26T14:50:36.483Z"
   },
   {
    "duration": 17,
    "start_time": "2022-03-26T14:50:36.494Z"
   },
   {
    "duration": 68,
    "start_time": "2022-03-26T14:50:36.513Z"
   },
   {
    "duration": 414,
    "start_time": "2022-03-26T14:50:36.584Z"
   },
   {
    "duration": 12,
    "start_time": "2022-03-26T14:50:37.001Z"
   },
   {
    "duration": 2153,
    "start_time": "2022-03-26T14:50:37.015Z"
   },
   {
    "duration": 13,
    "start_time": "2022-03-26T14:50:39.172Z"
   },
   {
    "duration": 470,
    "start_time": "2022-03-26T14:50:39.188Z"
   },
   {
    "duration": 19,
    "start_time": "2022-03-26T14:50:39.670Z"
   },
   {
    "duration": 274,
    "start_time": "2022-03-26T14:50:39.691Z"
   },
   {
    "duration": 17,
    "start_time": "2022-03-26T14:50:39.970Z"
   },
   {
    "duration": 243,
    "start_time": "2022-03-26T14:50:39.990Z"
   },
   {
    "duration": 892,
    "start_time": "2022-03-26T14:50:40.235Z"
   },
   {
    "duration": 15,
    "start_time": "2022-03-26T14:50:41.129Z"
   },
   {
    "duration": 291,
    "start_time": "2022-03-26T14:50:41.147Z"
   },
   {
    "duration": 253,
    "start_time": "2022-03-26T14:50:41.441Z"
   },
   {
    "duration": 388,
    "start_time": "2022-03-26T14:50:41.696Z"
   },
   {
    "duration": 380,
    "start_time": "2022-03-26T14:53:00.331Z"
   },
   {
    "duration": 377,
    "start_time": "2022-03-26T18:07:32.795Z"
   },
   {
    "duration": 800,
    "start_time": "2022-03-26T18:07:33.173Z"
   },
   {
    "duration": 87,
    "start_time": "2022-03-26T18:07:33.974Z"
   },
   {
    "duration": 21,
    "start_time": "2022-03-26T18:07:34.063Z"
   },
   {
    "duration": 14,
    "start_time": "2022-03-26T18:07:34.086Z"
   },
   {
    "duration": 8,
    "start_time": "2022-03-26T18:07:34.101Z"
   },
   {
    "duration": 3,
    "start_time": "2022-03-26T18:07:34.111Z"
   },
   {
    "duration": 5,
    "start_time": "2022-03-26T18:07:34.116Z"
   },
   {
    "duration": 4,
    "start_time": "2022-03-26T18:07:34.122Z"
   },
   {
    "duration": 4,
    "start_time": "2022-03-26T18:07:34.128Z"
   },
   {
    "duration": 49,
    "start_time": "2022-03-26T18:07:34.134Z"
   },
   {
    "duration": 5,
    "start_time": "2022-03-26T18:07:34.184Z"
   },
   {
    "duration": 13,
    "start_time": "2022-03-26T18:07:34.190Z"
   },
   {
    "duration": 9,
    "start_time": "2022-03-26T18:07:34.205Z"
   },
   {
    "duration": 6,
    "start_time": "2022-03-26T18:07:34.215Z"
   },
   {
    "duration": 5,
    "start_time": "2022-03-26T18:07:34.223Z"
   },
   {
    "duration": 5,
    "start_time": "2022-03-26T18:07:34.229Z"
   },
   {
    "duration": 7,
    "start_time": "2022-03-26T18:07:34.235Z"
   },
   {
    "duration": 12,
    "start_time": "2022-03-26T18:07:34.243Z"
   },
   {
    "duration": 29,
    "start_time": "2022-03-26T18:07:34.256Z"
   },
   {
    "duration": 121,
    "start_time": "2022-03-26T18:07:34.286Z"
   },
   {
    "duration": 5,
    "start_time": "2022-03-26T18:07:34.409Z"
   },
   {
    "duration": 110,
    "start_time": "2022-03-26T18:07:34.415Z"
   },
   {
    "duration": 8,
    "start_time": "2022-03-26T18:07:34.527Z"
   },
   {
    "duration": 7,
    "start_time": "2022-03-26T18:07:34.536Z"
   },
   {
    "duration": 6,
    "start_time": "2022-03-26T18:07:34.544Z"
   },
   {
    "duration": 36,
    "start_time": "2022-03-26T18:07:34.551Z"
   },
   {
    "duration": 17,
    "start_time": "2022-03-26T18:07:34.591Z"
   },
   {
    "duration": 8,
    "start_time": "2022-03-26T18:07:34.609Z"
   },
   {
    "duration": 9,
    "start_time": "2022-03-26T18:07:34.619Z"
   },
   {
    "duration": 9,
    "start_time": "2022-03-26T18:07:34.630Z"
   },
   {
    "duration": 3,
    "start_time": "2022-03-26T18:07:34.641Z"
   },
   {
    "duration": 36,
    "start_time": "2022-03-26T18:07:34.645Z"
   },
   {
    "duration": 256,
    "start_time": "2022-03-26T18:07:34.682Z"
   },
   {
    "duration": 4,
    "start_time": "2022-03-26T18:07:34.939Z"
   },
   {
    "duration": 6,
    "start_time": "2022-03-26T18:07:34.944Z"
   },
   {
    "duration": 33,
    "start_time": "2022-03-26T18:07:34.951Z"
   },
   {
    "duration": 9,
    "start_time": "2022-03-26T18:07:34.985Z"
   },
   {
    "duration": 200,
    "start_time": "2022-03-26T18:07:34.995Z"
   },
   {
    "duration": 7,
    "start_time": "2022-03-26T18:07:35.197Z"
   },
   {
    "duration": 2019,
    "start_time": "2022-03-26T18:07:35.205Z"
   },
   {
    "duration": 7,
    "start_time": "2022-03-26T18:07:37.226Z"
   },
   {
    "duration": 140,
    "start_time": "2022-03-26T18:07:37.235Z"
   },
   {
    "duration": 8,
    "start_time": "2022-03-26T18:07:37.380Z"
   },
   {
    "duration": 172,
    "start_time": "2022-03-26T18:07:37.389Z"
   },
   {
    "duration": 319,
    "start_time": "2022-03-26T18:07:37.563Z"
   },
   {
    "duration": 109,
    "start_time": "2022-03-26T18:07:37.884Z"
   },
   {
    "duration": 4,
    "start_time": "2022-03-26T18:07:37.995Z"
   },
   {
    "duration": 209,
    "start_time": "2022-03-26T18:07:38.000Z"
   },
   {
    "duration": 7,
    "start_time": "2022-03-26T18:07:38.211Z"
   },
   {
    "duration": 1369,
    "start_time": "2022-03-26T18:07:38.220Z"
   },
   {
    "duration": 11,
    "start_time": "2022-03-26T18:07:39.590Z"
   },
   {
    "duration": 125,
    "start_time": "2022-03-26T18:07:39.602Z"
   },
   {
    "duration": 8,
    "start_time": "2022-03-26T18:07:39.728Z"
   },
   {
    "duration": 153,
    "start_time": "2022-03-26T18:07:39.738Z"
   },
   {
    "duration": 128,
    "start_time": "2022-03-26T18:07:39.893Z"
   },
   {
    "duration": 201,
    "start_time": "2022-03-26T18:07:40.023Z"
   },
   {
    "duration": 17,
    "start_time": "2022-03-26T18:07:40.226Z"
   },
   {
    "duration": 7,
    "start_time": "2022-03-26T18:07:40.245Z"
   },
   {
    "duration": 159,
    "start_time": "2022-03-26T18:07:40.253Z"
   },
   {
    "duration": 20,
    "start_time": "2022-03-26T18:07:40.413Z"
   },
   {
    "duration": 7,
    "start_time": "2022-03-26T18:07:40.435Z"
   },
   {
    "duration": 4,
    "start_time": "2022-03-26T18:07:40.444Z"
   },
   {
    "duration": 12,
    "start_time": "2022-03-26T18:07:40.449Z"
   },
   {
    "duration": 6,
    "start_time": "2022-03-26T18:07:40.481Z"
   },
   {
    "duration": 8,
    "start_time": "2022-03-26T18:07:40.489Z"
   },
   {
    "duration": 8,
    "start_time": "2022-03-26T18:07:40.499Z"
   },
   {
    "duration": 143,
    "start_time": "2022-03-26T18:07:40.508Z"
   },
   {
    "duration": 5,
    "start_time": "2022-03-26T18:07:40.653Z"
   },
   {
    "duration": 143,
    "start_time": "2022-03-26T18:07:40.659Z"
   },
   {
    "duration": 5,
    "start_time": "2022-03-26T18:07:40.804Z"
   },
   {
    "duration": 8,
    "start_time": "2022-03-26T18:07:40.810Z"
   },
   {
    "duration": 20,
    "start_time": "2022-03-26T18:07:40.819Z"
   },
   {
    "duration": 222,
    "start_time": "2022-03-26T18:07:40.841Z"
   },
   {
    "duration": 17,
    "start_time": "2022-03-26T18:07:41.064Z"
   },
   {
    "duration": 992,
    "start_time": "2022-03-26T18:07:41.083Z"
   },
   {
    "duration": 7,
    "start_time": "2022-03-26T18:07:42.080Z"
   },
   {
    "duration": 274,
    "start_time": "2022-03-26T18:07:42.088Z"
   },
   {
    "duration": 18,
    "start_time": "2022-03-26T18:07:42.363Z"
   },
   {
    "duration": 129,
    "start_time": "2022-03-26T18:07:42.382Z"
   },
   {
    "duration": 7,
    "start_time": "2022-03-26T18:07:42.513Z"
   },
   {
    "duration": 118,
    "start_time": "2022-03-26T18:07:42.525Z"
   },
   {
    "duration": 453,
    "start_time": "2022-03-26T18:07:42.645Z"
   },
   {
    "duration": 9,
    "start_time": "2022-03-26T18:07:43.100Z"
   },
   {
    "duration": 150,
    "start_time": "2022-03-26T18:07:43.110Z"
   },
   {
    "duration": 121,
    "start_time": "2022-03-26T18:07:43.262Z"
   },
   {
    "duration": 203,
    "start_time": "2022-03-26T18:07:43.385Z"
   }
  ],
  "kernelspec": {
   "display_name": "Python 3",
   "language": "python",
   "name": "python3"
  },
  "language_info": {
   "codemirror_mode": {
    "name": "ipython",
    "version": 3
   },
   "file_extension": ".py",
   "mimetype": "text/x-python",
   "name": "python",
   "nbconvert_exporter": "python",
   "pygments_lexer": "ipython3",
   "version": "3.7.1"
  },
  "toc": {
   "base_numbering": 1,
   "nav_menu": {},
   "number_sections": true,
   "sideBar": true,
   "skip_h1_title": true,
   "title_cell": "Содержание",
   "title_sidebar": "Contents",
   "toc_cell": true,
   "toc_position": {
    "height": "calc(100% - 180px)",
    "left": "10px",
    "top": "150px",
    "width": "188px"
   },
   "toc_section_display": true,
   "toc_window_display": true
  }
 },
 "nbformat": 4,
 "nbformat_minor": 4
}
