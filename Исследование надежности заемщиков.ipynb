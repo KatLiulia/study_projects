{
 "cells": [
  {
   "cell_type": "markdown",
   "metadata": {},
   "source": [
    "# Исследование надежности заемщиков"
   ]
  },
  {
   "cell_type": "markdown",
   "metadata": {},
   "source": [
    "### Шаг 1. Обзор данных"
   ]
  },
  {
   "cell_type": "markdown",
   "metadata": {},
   "source": [
    "#### Описание проекта\n",
    "\n",
    "Заказчик — кредитный отдел банка. Нужно разобраться, влияет ли семейное положение и количество детей клиента на факт погашения кредита в срок. Входные данные от банка — статистика о платёжеспособности клиентов.\n",
    "\n",
    "В конце исследования ответим на вопросы:\n",
    "* Есть ли зависимость между количеством детей и возвратом кредита в срок?\n",
    "* Есть ли зависимость между семейным положением и возвратом кредита в срок?\n",
    "* Есть ли зависимость между уровнем дохода и возвратом кредита в срок?\n",
    "* Как разные цели кредита влияют на его возврат в срок?\n",
    "\n",
    "Результаты исследования будут учтены при построении модели кредитного скоринга — специальной системы, которая оценивает способность потенциального заёмщика вернуть кредит банку."
   ]
  },
  {
   "cell_type": "markdown",
   "metadata": {},
   "source": [
    "#### Описание данных:\n",
    "\n",
    "* **`children`** — количество детей в семье\n",
    "* `days_employed` — общий трудовой стаж в днях\n",
    "* `dob_years` — возраст клиента в годах\n",
    "* `education` — уровень образования клиента\n",
    "* `education_id` — идентификатор уровня образования\n",
    "* **`family_status`** — семейное положение\n",
    "* `family_status_id` — идентификатор семейного положения\n",
    "* `gender` — пол клиента\n",
    "* `income_type` — тип занятости\n",
    "* **`debt`** — имел ли задолженность по возврату кредитов\n",
    "* `total_income` — ежемесячный доход\n",
    "* `purpose` — цель получения кредита"
   ]
  },
  {
   "cell_type": "code",
   "execution_count": 1,
   "metadata": {
    "scrolled": true
   },
   "outputs": [],
   "source": [
    "import pandas as pd"
   ]
  },
  {
   "cell_type": "code",
   "execution_count": 2,
   "metadata": {},
   "outputs": [],
   "source": [
    "bank_statistics = pd.read_csv('/datasets/data.csv')   \n",
    "# bank_statistics - статистика о платёжеспособности клиентов банка"
   ]
  },
  {
   "cell_type": "code",
   "execution_count": 3,
   "metadata": {},
   "outputs": [
    {
     "name": "stdout",
     "output_type": "stream",
     "text": [
      "<class 'pandas.core.frame.DataFrame'>\n",
      "RangeIndex: 21525 entries, 0 to 21524\n",
      "Data columns (total 12 columns):\n",
      "children            21525 non-null int64\n",
      "days_employed       19351 non-null float64\n",
      "dob_years           21525 non-null int64\n",
      "education           21525 non-null object\n",
      "education_id        21525 non-null int64\n",
      "family_status       21525 non-null object\n",
      "family_status_id    21525 non-null int64\n",
      "gender              21525 non-null object\n",
      "income_type         21525 non-null object\n",
      "debt                21525 non-null int64\n",
      "total_income        19351 non-null float64\n",
      "purpose             21525 non-null object\n",
      "dtypes: float64(2), int64(5), object(5)\n",
      "memory usage: 2.0+ MB\n"
     ]
    }
   ],
   "source": [
    "bank_statistics.info()\n",
    "#изучаем данные"
   ]
  },
  {
   "cell_type": "code",
   "execution_count": 4,
   "metadata": {
    "scrolled": true
   },
   "outputs": [
    {
     "data": {
      "text/html": [
       "<div>\n",
       "<style scoped>\n",
       "    .dataframe tbody tr th:only-of-type {\n",
       "        vertical-align: middle;\n",
       "    }\n",
       "\n",
       "    .dataframe tbody tr th {\n",
       "        vertical-align: top;\n",
       "    }\n",
       "\n",
       "    .dataframe thead th {\n",
       "        text-align: right;\n",
       "    }\n",
       "</style>\n",
       "<table border=\"1\" class=\"dataframe\">\n",
       "  <thead>\n",
       "    <tr style=\"text-align: right;\">\n",
       "      <th></th>\n",
       "      <th>children</th>\n",
       "      <th>days_employed</th>\n",
       "      <th>dob_years</th>\n",
       "      <th>education</th>\n",
       "      <th>education_id</th>\n",
       "      <th>family_status</th>\n",
       "      <th>family_status_id</th>\n",
       "      <th>gender</th>\n",
       "      <th>income_type</th>\n",
       "      <th>debt</th>\n",
       "      <th>total_income</th>\n",
       "      <th>purpose</th>\n",
       "    </tr>\n",
       "  </thead>\n",
       "  <tbody>\n",
       "    <tr>\n",
       "      <td>0</td>\n",
       "      <td>1</td>\n",
       "      <td>-8437.673028</td>\n",
       "      <td>42</td>\n",
       "      <td>высшее</td>\n",
       "      <td>0</td>\n",
       "      <td>женат / замужем</td>\n",
       "      <td>0</td>\n",
       "      <td>F</td>\n",
       "      <td>сотрудник</td>\n",
       "      <td>0</td>\n",
       "      <td>253875.639453</td>\n",
       "      <td>покупка жилья</td>\n",
       "    </tr>\n",
       "    <tr>\n",
       "      <td>1</td>\n",
       "      <td>1</td>\n",
       "      <td>-4024.803754</td>\n",
       "      <td>36</td>\n",
       "      <td>среднее</td>\n",
       "      <td>1</td>\n",
       "      <td>женат / замужем</td>\n",
       "      <td>0</td>\n",
       "      <td>F</td>\n",
       "      <td>сотрудник</td>\n",
       "      <td>0</td>\n",
       "      <td>112080.014102</td>\n",
       "      <td>приобретение автомобиля</td>\n",
       "    </tr>\n",
       "    <tr>\n",
       "      <td>2</td>\n",
       "      <td>0</td>\n",
       "      <td>-5623.422610</td>\n",
       "      <td>33</td>\n",
       "      <td>Среднее</td>\n",
       "      <td>1</td>\n",
       "      <td>женат / замужем</td>\n",
       "      <td>0</td>\n",
       "      <td>M</td>\n",
       "      <td>сотрудник</td>\n",
       "      <td>0</td>\n",
       "      <td>145885.952297</td>\n",
       "      <td>покупка жилья</td>\n",
       "    </tr>\n",
       "    <tr>\n",
       "      <td>3</td>\n",
       "      <td>3</td>\n",
       "      <td>-4124.747207</td>\n",
       "      <td>32</td>\n",
       "      <td>среднее</td>\n",
       "      <td>1</td>\n",
       "      <td>женат / замужем</td>\n",
       "      <td>0</td>\n",
       "      <td>M</td>\n",
       "      <td>сотрудник</td>\n",
       "      <td>0</td>\n",
       "      <td>267628.550329</td>\n",
       "      <td>дополнительное образование</td>\n",
       "    </tr>\n",
       "    <tr>\n",
       "      <td>4</td>\n",
       "      <td>0</td>\n",
       "      <td>340266.072047</td>\n",
       "      <td>53</td>\n",
       "      <td>среднее</td>\n",
       "      <td>1</td>\n",
       "      <td>гражданский брак</td>\n",
       "      <td>1</td>\n",
       "      <td>F</td>\n",
       "      <td>пенсионер</td>\n",
       "      <td>0</td>\n",
       "      <td>158616.077870</td>\n",
       "      <td>сыграть свадьбу</td>\n",
       "    </tr>\n",
       "  </tbody>\n",
       "</table>\n",
       "</div>"
      ],
      "text/plain": [
       "   children  days_employed  dob_years education  education_id  \\\n",
       "0         1   -8437.673028         42    высшее             0   \n",
       "1         1   -4024.803754         36   среднее             1   \n",
       "2         0   -5623.422610         33   Среднее             1   \n",
       "3         3   -4124.747207         32   среднее             1   \n",
       "4         0  340266.072047         53   среднее             1   \n",
       "\n",
       "      family_status  family_status_id gender income_type  debt   total_income  \\\n",
       "0   женат / замужем                 0      F   сотрудник     0  253875.639453   \n",
       "1   женат / замужем                 0      F   сотрудник     0  112080.014102   \n",
       "2   женат / замужем                 0      M   сотрудник     0  145885.952297   \n",
       "3   женат / замужем                 0      M   сотрудник     0  267628.550329   \n",
       "4  гражданский брак                 1      F   пенсионер     0  158616.077870   \n",
       "\n",
       "                      purpose  \n",
       "0               покупка жилья  \n",
       "1     приобретение автомобиля  \n",
       "2               покупка жилья  \n",
       "3  дополнительное образование  \n",
       "4             сыграть свадьбу  "
      ]
     },
     "execution_count": 4,
     "metadata": {},
     "output_type": "execute_result"
    }
   ],
   "source": [
    "bank_statistics.head()"
   ]
  },
  {
   "cell_type": "markdown",
   "metadata": {},
   "source": [
    "После ознакомления с данными, сразу видим аномалии в столбце `days_employed` - отрицательные значения, и вероятное наличие дубликатов в столбце `education` из-за различного регистра. Далее проверим остальные столбцы на аномалии и дубликаты, которые не так заметны, и исправим проблемы в данных."
   ]
  },
  {
   "cell_type": "markdown",
   "metadata": {},
   "source": [
    "### Шаг 2.1 Заполнение пропусков"
   ]
  },
  {
   "cell_type": "markdown",
   "metadata": {},
   "source": [
    "\n",
    "После ознакомления с данными наблюдаем пропущенные значения в двух столбцах: `days_employed`, `total_income`. \n",
    "\n",
    "Возможная причина отсутствия информации в столбцах со стажем и доходом - заемщики не являются зарплатными клиентами банка, поэтому эти данные в статистике банка отсутствуют.\n",
    "\n",
    "Находим точное количество пропусков:"
   ]
  },
  {
   "cell_type": "code",
   "execution_count": 5,
   "metadata": {},
   "outputs": [
    {
     "data": {
      "text/plain": [
       "children               0\n",
       "days_employed       2174\n",
       "dob_years              0\n",
       "education              0\n",
       "education_id           0\n",
       "family_status          0\n",
       "family_status_id       0\n",
       "gender                 0\n",
       "income_type            0\n",
       "debt                   0\n",
       "total_income        2174\n",
       "purpose                0\n",
       "dtype: int64"
      ]
     },
     "execution_count": 5,
     "metadata": {},
     "output_type": "execute_result"
    }
   ],
   "source": [
    "bank_statistics.isna().sum()"
   ]
  },
  {
   "cell_type": "markdown",
   "metadata": {},
   "source": [
    "Значения пропущены в столбцах с количественными переменными, мы можем заполнить пропуски медианным значением для каждого из двух столбцов. Такой способ даст более корректный результат в случае присутствия в столбцах аномальных значений, чем заполнение пропусков средним значением по столбцу."
   ]
  },
  {
   "cell_type": "code",
   "execution_count": 6,
   "metadata": {},
   "outputs": [],
   "source": [
    "days_employed_median = bank_statistics['days_employed'].median()\n",
    "total_income_median = bank_statistics['total_income'].median()"
   ]
  },
  {
   "cell_type": "code",
   "execution_count": 7,
   "metadata": {},
   "outputs": [],
   "source": [
    "# заполняем отсутствующие значения\n",
    "bank_statistics['days_employed'] = bank_statistics['days_employed'].fillna(days_employed_median)\n",
    "bank_statistics['total_income'] = bank_statistics['total_income'].fillna(total_income_median)"
   ]
  },
  {
   "cell_type": "code",
   "execution_count": 8,
   "metadata": {},
   "outputs": [
    {
     "name": "stdout",
     "output_type": "stream",
     "text": [
      "<class 'pandas.core.frame.DataFrame'>\n",
      "RangeIndex: 21525 entries, 0 to 21524\n",
      "Data columns (total 12 columns):\n",
      "children            21525 non-null int64\n",
      "days_employed       21525 non-null float64\n",
      "dob_years           21525 non-null int64\n",
      "education           21525 non-null object\n",
      "education_id        21525 non-null int64\n",
      "family_status       21525 non-null object\n",
      "family_status_id    21525 non-null int64\n",
      "gender              21525 non-null object\n",
      "income_type         21525 non-null object\n",
      "debt                21525 non-null int64\n",
      "total_income        21525 non-null float64\n",
      "purpose             21525 non-null object\n",
      "dtypes: float64(2), int64(5), object(5)\n",
      "memory usage: 2.0+ MB\n"
     ]
    }
   ],
   "source": [
    "# проверка\n",
    "bank_statistics.info()"
   ]
  },
  {
   "cell_type": "code",
   "execution_count": 9,
   "metadata": {},
   "outputs": [
    {
     "data": {
      "text/plain": [
       "children            0\n",
       "days_employed       0\n",
       "dob_years           0\n",
       "education           0\n",
       "education_id        0\n",
       "family_status       0\n",
       "family_status_id    0\n",
       "gender              0\n",
       "income_type         0\n",
       "debt                0\n",
       "total_income        0\n",
       "purpose             0\n",
       "dtype: int64"
      ]
     },
     "execution_count": 9,
     "metadata": {},
     "output_type": "execute_result"
    }
   ],
   "source": [
    "bank_statistics.isna().sum()"
   ]
  },
  {
   "cell_type": "markdown",
   "metadata": {},
   "source": [
    "### Шаг 2.2 Проверка данных на аномалии и исправления."
   ]
  },
  {
   "cell_type": "markdown",
   "metadata": {},
   "source": [
    "В данных могут встречаться артефакты (аномалии) — значения, которые не отражают действительность и появились по какой-то ошибке. \n",
    "Например, отрицательное количество дней трудового стажа в столбце `days_employed`. \n",
    "\n",
    "\n",
    "Возможно, причина таких аномалий в ошибках при внесении информации в клиентскую базу."
   ]
  },
  {
   "cell_type": "code",
   "execution_count": 10,
   "metadata": {},
   "outputs": [
    {
     "data": {
      "text/html": [
       "<div>\n",
       "<style scoped>\n",
       "    .dataframe tbody tr th:only-of-type {\n",
       "        vertical-align: middle;\n",
       "    }\n",
       "\n",
       "    .dataframe tbody tr th {\n",
       "        vertical-align: top;\n",
       "    }\n",
       "\n",
       "    .dataframe thead th {\n",
       "        text-align: right;\n",
       "    }\n",
       "</style>\n",
       "<table border=\"1\" class=\"dataframe\">\n",
       "  <thead>\n",
       "    <tr style=\"text-align: right;\">\n",
       "      <th></th>\n",
       "      <th>children</th>\n",
       "      <th>dob_years</th>\n",
       "      <th>education_id</th>\n",
       "      <th>family_status_id</th>\n",
       "      <th>debt</th>\n",
       "      <th>total_income</th>\n",
       "    </tr>\n",
       "    <tr>\n",
       "      <th>days_employed</th>\n",
       "      <th></th>\n",
       "      <th></th>\n",
       "      <th></th>\n",
       "      <th></th>\n",
       "      <th></th>\n",
       "      <th></th>\n",
       "    </tr>\n",
       "  </thead>\n",
       "  <tbody>\n",
       "    <tr>\n",
       "      <td>-18388.949901</td>\n",
       "      <td>1</td>\n",
       "      <td>61</td>\n",
       "      <td>1</td>\n",
       "      <td>0</td>\n",
       "      <td>0</td>\n",
       "      <td>186178.934089</td>\n",
       "    </tr>\n",
       "    <tr>\n",
       "      <td>-17615.563266</td>\n",
       "      <td>0</td>\n",
       "      <td>61</td>\n",
       "      <td>1</td>\n",
       "      <td>0</td>\n",
       "      <td>0</td>\n",
       "      <td>122560.741753</td>\n",
       "    </tr>\n",
       "    <tr>\n",
       "      <td>-16593.472817</td>\n",
       "      <td>0</td>\n",
       "      <td>60</td>\n",
       "      <td>0</td>\n",
       "      <td>0</td>\n",
       "      <td>0</td>\n",
       "      <td>124697.846781</td>\n",
       "    </tr>\n",
       "    <tr>\n",
       "      <td>-16264.699501</td>\n",
       "      <td>0</td>\n",
       "      <td>59</td>\n",
       "      <td>1</td>\n",
       "      <td>0</td>\n",
       "      <td>0</td>\n",
       "      <td>51238.967133</td>\n",
       "    </tr>\n",
       "    <tr>\n",
       "      <td>-16119.687737</td>\n",
       "      <td>0</td>\n",
       "      <td>64</td>\n",
       "      <td>1</td>\n",
       "      <td>0</td>\n",
       "      <td>0</td>\n",
       "      <td>91527.685995</td>\n",
       "    </tr>\n",
       "  </tbody>\n",
       "</table>\n",
       "</div>"
      ],
      "text/plain": [
       "               children  dob_years  education_id  family_status_id  debt  \\\n",
       "days_employed                                                              \n",
       "-18388.949901         1         61             1                 0     0   \n",
       "-17615.563266         0         61             1                 0     0   \n",
       "-16593.472817         0         60             0                 0     0   \n",
       "-16264.699501         0         59             1                 0     0   \n",
       "-16119.687737         0         64             1                 0     0   \n",
       "\n",
       "                total_income  \n",
       "days_employed                 \n",
       "-18388.949901  186178.934089  \n",
       "-17615.563266  122560.741753  \n",
       "-16593.472817  124697.846781  \n",
       "-16264.699501   51238.967133  \n",
       "-16119.687737   91527.685995  "
      ]
     },
     "execution_count": 10,
     "metadata": {},
     "output_type": "execute_result"
    }
   ],
   "source": [
    "bank_statistics.groupby('days_employed').sum().head()"
   ]
  },
  {
   "cell_type": "markdown",
   "metadata": {},
   "source": [
    "Воспользуемся методом `apply` и функцией `abs`, чтобы избавиться от отрицательных значений в столбце `days_employed`."
   ]
  },
  {
   "cell_type": "code",
   "execution_count": 11,
   "metadata": {},
   "outputs": [],
   "source": [
    "bank_statistics['days_employed'] = bank_statistics['days_employed'].apply(abs)"
   ]
  },
  {
   "cell_type": "code",
   "execution_count": 12,
   "metadata": {},
   "outputs": [
    {
     "data": {
      "text/html": [
       "<div>\n",
       "<style scoped>\n",
       "    .dataframe tbody tr th:only-of-type {\n",
       "        vertical-align: middle;\n",
       "    }\n",
       "\n",
       "    .dataframe tbody tr th {\n",
       "        vertical-align: top;\n",
       "    }\n",
       "\n",
       "    .dataframe thead th {\n",
       "        text-align: right;\n",
       "    }\n",
       "</style>\n",
       "<table border=\"1\" class=\"dataframe\">\n",
       "  <thead>\n",
       "    <tr style=\"text-align: right;\">\n",
       "      <th></th>\n",
       "      <th>children</th>\n",
       "      <th>dob_years</th>\n",
       "      <th>education_id</th>\n",
       "      <th>family_status_id</th>\n",
       "      <th>debt</th>\n",
       "      <th>total_income</th>\n",
       "    </tr>\n",
       "    <tr>\n",
       "      <th>days_employed</th>\n",
       "      <th></th>\n",
       "      <th></th>\n",
       "      <th></th>\n",
       "      <th></th>\n",
       "      <th></th>\n",
       "      <th></th>\n",
       "    </tr>\n",
       "  </thead>\n",
       "  <tbody>\n",
       "    <tr>\n",
       "      <td>24.141633</td>\n",
       "      <td>1</td>\n",
       "      <td>31</td>\n",
       "      <td>1</td>\n",
       "      <td>0</td>\n",
       "      <td>1</td>\n",
       "      <td>166952.415427</td>\n",
       "    </tr>\n",
       "    <tr>\n",
       "      <td>24.240695</td>\n",
       "      <td>0</td>\n",
       "      <td>32</td>\n",
       "      <td>0</td>\n",
       "      <td>4</td>\n",
       "      <td>0</td>\n",
       "      <td>124115.373655</td>\n",
       "    </tr>\n",
       "    <tr>\n",
       "      <td>30.195337</td>\n",
       "      <td>2</td>\n",
       "      <td>47</td>\n",
       "      <td>1</td>\n",
       "      <td>1</td>\n",
       "      <td>0</td>\n",
       "      <td>231461.185606</td>\n",
       "    </tr>\n",
       "    <tr>\n",
       "      <td>33.520665</td>\n",
       "      <td>0</td>\n",
       "      <td>43</td>\n",
       "      <td>1</td>\n",
       "      <td>4</td>\n",
       "      <td>1</td>\n",
       "      <td>128555.897209</td>\n",
       "    </tr>\n",
       "    <tr>\n",
       "      <td>34.701045</td>\n",
       "      <td>1</td>\n",
       "      <td>31</td>\n",
       "      <td>0</td>\n",
       "      <td>0</td>\n",
       "      <td>0</td>\n",
       "      <td>90557.994311</td>\n",
       "    </tr>\n",
       "  </tbody>\n",
       "</table>\n",
       "</div>"
      ],
      "text/plain": [
       "               children  dob_years  education_id  family_status_id  debt  \\\n",
       "days_employed                                                              \n",
       "24.141633             1         31             1                 0     1   \n",
       "24.240695             0         32             0                 4     0   \n",
       "30.195337             2         47             1                 1     0   \n",
       "33.520665             0         43             1                 4     1   \n",
       "34.701045             1         31             0                 0     0   \n",
       "\n",
       "                total_income  \n",
       "days_employed                 \n",
       "24.141633      166952.415427  \n",
       "24.240695      124115.373655  \n",
       "30.195337      231461.185606  \n",
       "33.520665      128555.897209  \n",
       "34.701045       90557.994311  "
      ]
     },
     "execution_count": 12,
     "metadata": {},
     "output_type": "execute_result"
    }
   ],
   "source": [
    "# проверка\n",
    "bank_statistics.groupby('days_employed').sum().head()"
   ]
  },
  {
   "cell_type": "markdown",
   "metadata": {},
   "source": [
    "Возможные дальнейшие преобразования в столбце `days_employed` не проводим, т.к. эти данные не пригодятся нам в дальнейшем исследовании."
   ]
  },
  {
   "cell_type": "markdown",
   "metadata": {},
   "source": [
    "В столбце `children` найден артефакт - отрицательное кол-во детей. Возможно, это ошибка ввода данных. \n",
    "Также среди значений есть подозрительно большое число 20, возможно, что это ошибочно записанное число 2.\n",
    "\n",
    "Исправим аномалии с помощью метода `replace`, заменим значение `-1` на `1` и значение `20` на `2`."
   ]
  },
  {
   "cell_type": "code",
   "execution_count": 13,
   "metadata": {},
   "outputs": [
    {
     "data": {
      "text/plain": [
       "array([ 1,  0,  3,  2, -1,  4, 20,  5])"
      ]
     },
     "execution_count": 13,
     "metadata": {},
     "output_type": "execute_result"
    }
   ],
   "source": [
    "bank_statistics['children'].unique()"
   ]
  },
  {
   "cell_type": "code",
   "execution_count": 14,
   "metadata": {},
   "outputs": [],
   "source": [
    "bank_statistics['children'] = bank_statistics['children'].replace(-1, 1)"
   ]
  },
  {
   "cell_type": "code",
   "execution_count": 15,
   "metadata": {},
   "outputs": [],
   "source": [
    "bank_statistics['children'] = bank_statistics['children'].replace(20, 2)"
   ]
  },
  {
   "cell_type": "code",
   "execution_count": 16,
   "metadata": {},
   "outputs": [
    {
     "data": {
      "text/plain": [
       "0    14149\n",
       "1     4865\n",
       "2     2131\n",
       "3      330\n",
       "4       41\n",
       "5        9\n",
       "Name: children, dtype: int64"
      ]
     },
     "execution_count": 16,
     "metadata": {},
     "output_type": "execute_result"
    }
   ],
   "source": [
    "# проверка\n",
    "bank_statistics['children'].value_counts()"
   ]
  },
  {
   "cell_type": "markdown",
   "metadata": {},
   "source": [
    "Находим аномалию в столбце `gender`. Т.к. сама строка имеет ценные для исследования данные, то удалять ее не рационально. "
   ]
  },
  {
   "cell_type": "code",
   "execution_count": 17,
   "metadata": {},
   "outputs": [
    {
     "data": {
      "text/plain": [
       "array(['F', 'M', 'XNA'], dtype=object)"
      ]
     },
     "execution_count": 17,
     "metadata": {},
     "output_type": "execute_result"
    }
   ],
   "source": [
    "bank_statistics['gender'].unique()"
   ]
  },
  {
   "cell_type": "markdown",
   "metadata": {},
   "source": [
    "Заменим значение в строке на `'unknown'` методом `replace`."
   ]
  },
  {
   "cell_type": "code",
   "execution_count": 18,
   "metadata": {},
   "outputs": [
    {
     "data": {
      "text/html": [
       "<div>\n",
       "<style scoped>\n",
       "    .dataframe tbody tr th:only-of-type {\n",
       "        vertical-align: middle;\n",
       "    }\n",
       "\n",
       "    .dataframe tbody tr th {\n",
       "        vertical-align: top;\n",
       "    }\n",
       "\n",
       "    .dataframe thead th {\n",
       "        text-align: right;\n",
       "    }\n",
       "</style>\n",
       "<table border=\"1\" class=\"dataframe\">\n",
       "  <thead>\n",
       "    <tr style=\"text-align: right;\">\n",
       "      <th></th>\n",
       "      <th>children</th>\n",
       "      <th>days_employed</th>\n",
       "      <th>dob_years</th>\n",
       "      <th>education</th>\n",
       "      <th>education_id</th>\n",
       "      <th>family_status</th>\n",
       "      <th>family_status_id</th>\n",
       "      <th>gender</th>\n",
       "      <th>income_type</th>\n",
       "      <th>debt</th>\n",
       "      <th>total_income</th>\n",
       "      <th>purpose</th>\n",
       "    </tr>\n",
       "  </thead>\n",
       "  <tbody>\n",
       "    <tr>\n",
       "      <td>10701</td>\n",
       "      <td>0</td>\n",
       "      <td>2358.600502</td>\n",
       "      <td>24</td>\n",
       "      <td>неоконченное высшее</td>\n",
       "      <td>2</td>\n",
       "      <td>гражданский брак</td>\n",
       "      <td>1</td>\n",
       "      <td>XNA</td>\n",
       "      <td>компаньон</td>\n",
       "      <td>0</td>\n",
       "      <td>203905.157261</td>\n",
       "      <td>покупка недвижимости</td>\n",
       "    </tr>\n",
       "  </tbody>\n",
       "</table>\n",
       "</div>"
      ],
      "text/plain": [
       "       children  days_employed  dob_years            education  education_id  \\\n",
       "10701         0    2358.600502         24  неоконченное высшее             2   \n",
       "\n",
       "          family_status  family_status_id gender income_type  debt  \\\n",
       "10701  гражданский брак                 1    XNA   компаньон     0   \n",
       "\n",
       "        total_income               purpose  \n",
       "10701  203905.157261  покупка недвижимости  "
      ]
     },
     "execution_count": 18,
     "metadata": {},
     "output_type": "execute_result"
    }
   ],
   "source": [
    "bank_statistics[bank_statistics['gender'] == 'XNA']"
   ]
  },
  {
   "cell_type": "code",
   "execution_count": 19,
   "metadata": {},
   "outputs": [],
   "source": [
    "bank_statistics['gender'] = bank_statistics['gender'].replace('XNA', 'unknown')"
   ]
  },
  {
   "cell_type": "code",
   "execution_count": 20,
   "metadata": {},
   "outputs": [
    {
     "data": {
      "text/plain": [
       "array(['F', 'M', 'unknown'], dtype=object)"
      ]
     },
     "execution_count": 20,
     "metadata": {},
     "output_type": "execute_result"
    }
   ],
   "source": [
    "# проверка\n",
    "bank_statistics['gender'].unique()"
   ]
  },
  {
   "cell_type": "code",
   "execution_count": 21,
   "metadata": {},
   "outputs": [
    {
     "data": {
      "text/plain": [
       "array([0, 1])"
      ]
     },
     "execution_count": 21,
     "metadata": {},
     "output_type": "execute_result"
    }
   ],
   "source": [
    "# аномалий в данных не обнаружено\n",
    "bank_statistics['debt'].unique()"
   ]
  },
  {
   "cell_type": "markdown",
   "metadata": {},
   "source": [
    "Находим ошибку в столбце `dob_years` - на некоторых строках возраст указан как 0 лет."
   ]
  },
  {
   "cell_type": "code",
   "execution_count": 22,
   "metadata": {},
   "outputs": [
    {
     "data": {
      "text/html": [
       "<div>\n",
       "<style scoped>\n",
       "    .dataframe tbody tr th:only-of-type {\n",
       "        vertical-align: middle;\n",
       "    }\n",
       "\n",
       "    .dataframe tbody tr th {\n",
       "        vertical-align: top;\n",
       "    }\n",
       "\n",
       "    .dataframe thead th {\n",
       "        text-align: right;\n",
       "    }\n",
       "</style>\n",
       "<table border=\"1\" class=\"dataframe\">\n",
       "  <thead>\n",
       "    <tr style=\"text-align: right;\">\n",
       "      <th></th>\n",
       "      <th></th>\n",
       "      <th>children</th>\n",
       "      <th>days_employed</th>\n",
       "      <th>education_id</th>\n",
       "      <th>family_status_id</th>\n",
       "      <th>debt</th>\n",
       "      <th>total_income</th>\n",
       "    </tr>\n",
       "    <tr>\n",
       "      <th>dob_years</th>\n",
       "      <th>income_type</th>\n",
       "      <th></th>\n",
       "      <th></th>\n",
       "      <th></th>\n",
       "      <th></th>\n",
       "      <th></th>\n",
       "      <th></th>\n",
       "    </tr>\n",
       "  </thead>\n",
       "  <tbody>\n",
       "    <tr>\n",
       "      <td rowspan=\"4\" valign=\"top\">0</td>\n",
       "      <td>госслужащий</td>\n",
       "      <td>5</td>\n",
       "      <td>3.527257e+04</td>\n",
       "      <td>2</td>\n",
       "      <td>8</td>\n",
       "      <td>0</td>\n",
       "      <td>8.818397e+05</td>\n",
       "    </tr>\n",
       "    <tr>\n",
       "      <td>компаньон</td>\n",
       "      <td>12</td>\n",
       "      <td>3.460632e+04</td>\n",
       "      <td>9</td>\n",
       "      <td>18</td>\n",
       "      <td>1</td>\n",
       "      <td>3.632562e+06</td>\n",
       "    </tr>\n",
       "    <tr>\n",
       "      <td>пенсионер</td>\n",
       "      <td>0</td>\n",
       "      <td>6.166748e+06</td>\n",
       "      <td>14</td>\n",
       "      <td>33</td>\n",
       "      <td>1</td>\n",
       "      <td>2.789434e+06</td>\n",
       "    </tr>\n",
       "    <tr>\n",
       "      <td>сотрудник</td>\n",
       "      <td>33</td>\n",
       "      <td>1.013725e+05</td>\n",
       "      <td>43</td>\n",
       "      <td>66</td>\n",
       "      <td>6</td>\n",
       "      <td>8.555097e+06</td>\n",
       "    </tr>\n",
       "    <tr>\n",
       "      <td>19</td>\n",
       "      <td>госслужащий</td>\n",
       "      <td>0</td>\n",
       "      <td>5.099699e+02</td>\n",
       "      <td>2</td>\n",
       "      <td>4</td>\n",
       "      <td>0</td>\n",
       "      <td>7.578742e+04</td>\n",
       "    </tr>\n",
       "    <tr>\n",
       "      <td>...</td>\n",
       "      <td>...</td>\n",
       "      <td>...</td>\n",
       "      <td>...</td>\n",
       "      <td>...</td>\n",
       "      <td>...</td>\n",
       "      <td>...</td>\n",
       "      <td>...</td>\n",
       "    </tr>\n",
       "    <tr>\n",
       "      <td>73</td>\n",
       "      <td>пенсионер</td>\n",
       "      <td>1</td>\n",
       "      <td>2.194711e+06</td>\n",
       "      <td>9</td>\n",
       "      <td>7</td>\n",
       "      <td>0</td>\n",
       "      <td>7.665975e+05</td>\n",
       "    </tr>\n",
       "    <tr>\n",
       "      <td rowspan=\"3\" valign=\"top\">74</td>\n",
       "      <td>компаньон</td>\n",
       "      <td>0</td>\n",
       "      <td>1.729633e+03</td>\n",
       "      <td>1</td>\n",
       "      <td>0</td>\n",
       "      <td>0</td>\n",
       "      <td>1.248301e+05</td>\n",
       "    </tr>\n",
       "    <tr>\n",
       "      <td>пенсионер</td>\n",
       "      <td>0</td>\n",
       "      <td>1.439163e+06</td>\n",
       "      <td>3</td>\n",
       "      <td>2</td>\n",
       "      <td>0</td>\n",
       "      <td>2.777069e+05</td>\n",
       "    </tr>\n",
       "    <tr>\n",
       "      <td>сотрудник</td>\n",
       "      <td>0</td>\n",
       "      <td>6.682868e+03</td>\n",
       "      <td>1</td>\n",
       "      <td>1</td>\n",
       "      <td>0</td>\n",
       "      <td>9.894591e+04</td>\n",
       "    </tr>\n",
       "    <tr>\n",
       "      <td>75</td>\n",
       "      <td>госслужащий</td>\n",
       "      <td>0</td>\n",
       "      <td>1.678970e+03</td>\n",
       "      <td>1</td>\n",
       "      <td>2</td>\n",
       "      <td>0</td>\n",
       "      <td>1.532826e+05</td>\n",
       "    </tr>\n",
       "  </tbody>\n",
       "</table>\n",
       "<p>221 rows × 6 columns</p>\n",
       "</div>"
      ],
      "text/plain": [
       "                       children  days_employed  education_id  \\\n",
       "dob_years income_type                                          \n",
       "0         госслужащий         5   3.527257e+04             2   \n",
       "          компаньон          12   3.460632e+04             9   \n",
       "          пенсионер           0   6.166748e+06            14   \n",
       "          сотрудник          33   1.013725e+05            43   \n",
       "19        госслужащий         0   5.099699e+02             2   \n",
       "...                         ...            ...           ...   \n",
       "73        пенсионер           1   2.194711e+06             9   \n",
       "74        компаньон           0   1.729633e+03             1   \n",
       "          пенсионер           0   1.439163e+06             3   \n",
       "          сотрудник           0   6.682868e+03             1   \n",
       "75        госслужащий         0   1.678970e+03             1   \n",
       "\n",
       "                       family_status_id  debt  total_income  \n",
       "dob_years income_type                                        \n",
       "0         госслужащий                 8     0  8.818397e+05  \n",
       "          компаньон                  18     1  3.632562e+06  \n",
       "          пенсионер                  33     1  2.789434e+06  \n",
       "          сотрудник                  66     6  8.555097e+06  \n",
       "19        госслужащий                 4     0  7.578742e+04  \n",
       "...                                 ...   ...           ...  \n",
       "73        пенсионер                   7     0  7.665975e+05  \n",
       "74        компаньон                   0     0  1.248301e+05  \n",
       "          пенсионер                   2     0  2.777069e+05  \n",
       "          сотрудник                   1     0  9.894591e+04  \n",
       "75        госслужащий                 2     0  1.532826e+05  \n",
       "\n",
       "[221 rows x 6 columns]"
      ]
     },
     "execution_count": 22,
     "metadata": {},
     "output_type": "execute_result"
    }
   ],
   "source": [
    "bank_statistics.groupby(['dob_years', 'income_type']).sum()"
   ]
  },
  {
   "cell_type": "code",
   "execution_count": 23,
   "metadata": {},
   "outputs": [
    {
     "data": {
      "text/plain": [
       "60.0"
      ]
     },
     "execution_count": 23,
     "metadata": {},
     "output_type": "execute_result"
    }
   ],
   "source": [
    "# находим медианное значение для категории 'пенсионер'\n",
    "bank_statistics[(bank_statistics['income_type'] == 'пенсионер') & (bank_statistics['dob_years'] != 0)]['dob_years'].median()"
   ]
  },
  {
   "cell_type": "code",
   "execution_count": 24,
   "metadata": {},
   "outputs": [
    {
     "data": {
      "text/plain": [
       "39.0"
      ]
     },
     "execution_count": 24,
     "metadata": {},
     "output_type": "execute_result"
    }
   ],
   "source": [
    "# находим медианное значение для остальных категорий\n",
    "bank_statistics[(bank_statistics['income_type'] != 'пенсионер') & (bank_statistics['dob_years'] != 0)]['dob_years'].median()"
   ]
  },
  {
   "cell_type": "markdown",
   "metadata": {},
   "source": [
    "Применим два способа замены: через методы `loc` и `replace`, т.к. одного метода `replace` недостаточно."
   ]
  },
  {
   "cell_type": "code",
   "execution_count": 25,
   "metadata": {},
   "outputs": [],
   "source": [
    "bank_statistics.loc[((bank_statistics['dob_years'] == 0) & (bank_statistics['income_type'] == 'пенсионер')), 'dob_years'] = 60"
   ]
  },
  {
   "cell_type": "code",
   "execution_count": 26,
   "metadata": {},
   "outputs": [],
   "source": [
    "bank_statistics['dob_years'] = bank_statistics['dob_years'].replace(0, 39)"
   ]
  },
  {
   "cell_type": "code",
   "execution_count": 27,
   "metadata": {},
   "outputs": [
    {
     "data": {
      "text/html": [
       "<div>\n",
       "<style scoped>\n",
       "    .dataframe tbody tr th:only-of-type {\n",
       "        vertical-align: middle;\n",
       "    }\n",
       "\n",
       "    .dataframe tbody tr th {\n",
       "        vertical-align: top;\n",
       "    }\n",
       "\n",
       "    .dataframe thead th {\n",
       "        text-align: right;\n",
       "    }\n",
       "</style>\n",
       "<table border=\"1\" class=\"dataframe\">\n",
       "  <thead>\n",
       "    <tr style=\"text-align: right;\">\n",
       "      <th></th>\n",
       "      <th></th>\n",
       "      <th>children</th>\n",
       "      <th>days_employed</th>\n",
       "      <th>education_id</th>\n",
       "      <th>family_status_id</th>\n",
       "      <th>debt</th>\n",
       "      <th>total_income</th>\n",
       "    </tr>\n",
       "    <tr>\n",
       "      <th>dob_years</th>\n",
       "      <th>income_type</th>\n",
       "      <th></th>\n",
       "      <th></th>\n",
       "      <th></th>\n",
       "      <th></th>\n",
       "      <th></th>\n",
       "      <th></th>\n",
       "    </tr>\n",
       "  </thead>\n",
       "  <tbody>\n",
       "    <tr>\n",
       "      <td rowspan=\"3\" valign=\"top\">19</td>\n",
       "      <td>госслужащий</td>\n",
       "      <td>0</td>\n",
       "      <td>5.099699e+02</td>\n",
       "      <td>2</td>\n",
       "      <td>4</td>\n",
       "      <td>0</td>\n",
       "      <td>7.578742e+04</td>\n",
       "    </tr>\n",
       "    <tr>\n",
       "      <td>компаньон</td>\n",
       "      <td>0</td>\n",
       "      <td>3.675963e+03</td>\n",
       "      <td>9</td>\n",
       "      <td>15</td>\n",
       "      <td>0</td>\n",
       "      <td>8.398840e+05</td>\n",
       "    </tr>\n",
       "    <tr>\n",
       "      <td>сотрудник</td>\n",
       "      <td>0</td>\n",
       "      <td>5.255252e+03</td>\n",
       "      <td>8</td>\n",
       "      <td>13</td>\n",
       "      <td>1</td>\n",
       "      <td>6.101043e+05</td>\n",
       "    </tr>\n",
       "    <tr>\n",
       "      <td rowspan=\"2\" valign=\"top\">20</td>\n",
       "      <td>госслужащий</td>\n",
       "      <td>0</td>\n",
       "      <td>1.291342e+03</td>\n",
       "      <td>1</td>\n",
       "      <td>8</td>\n",
       "      <td>0</td>\n",
       "      <td>3.198307e+05</td>\n",
       "    </tr>\n",
       "    <tr>\n",
       "      <td>компаньон</td>\n",
       "      <td>2</td>\n",
       "      <td>8.879091e+03</td>\n",
       "      <td>17</td>\n",
       "      <td>39</td>\n",
       "      <td>3</td>\n",
       "      <td>2.085864e+06</td>\n",
       "    </tr>\n",
       "    <tr>\n",
       "      <td>...</td>\n",
       "      <td>...</td>\n",
       "      <td>...</td>\n",
       "      <td>...</td>\n",
       "      <td>...</td>\n",
       "      <td>...</td>\n",
       "      <td>...</td>\n",
       "      <td>...</td>\n",
       "    </tr>\n",
       "    <tr>\n",
       "      <td>73</td>\n",
       "      <td>пенсионер</td>\n",
       "      <td>1</td>\n",
       "      <td>2.194711e+06</td>\n",
       "      <td>9</td>\n",
       "      <td>7</td>\n",
       "      <td>0</td>\n",
       "      <td>7.665975e+05</td>\n",
       "    </tr>\n",
       "    <tr>\n",
       "      <td rowspan=\"3\" valign=\"top\">74</td>\n",
       "      <td>компаньон</td>\n",
       "      <td>0</td>\n",
       "      <td>1.729633e+03</td>\n",
       "      <td>1</td>\n",
       "      <td>0</td>\n",
       "      <td>0</td>\n",
       "      <td>1.248301e+05</td>\n",
       "    </tr>\n",
       "    <tr>\n",
       "      <td>пенсионер</td>\n",
       "      <td>0</td>\n",
       "      <td>1.439163e+06</td>\n",
       "      <td>3</td>\n",
       "      <td>2</td>\n",
       "      <td>0</td>\n",
       "      <td>2.777069e+05</td>\n",
       "    </tr>\n",
       "    <tr>\n",
       "      <td>сотрудник</td>\n",
       "      <td>0</td>\n",
       "      <td>6.682868e+03</td>\n",
       "      <td>1</td>\n",
       "      <td>1</td>\n",
       "      <td>0</td>\n",
       "      <td>9.894591e+04</td>\n",
       "    </tr>\n",
       "    <tr>\n",
       "      <td>75</td>\n",
       "      <td>госслужащий</td>\n",
       "      <td>0</td>\n",
       "      <td>1.678970e+03</td>\n",
       "      <td>1</td>\n",
       "      <td>2</td>\n",
       "      <td>0</td>\n",
       "      <td>1.532826e+05</td>\n",
       "    </tr>\n",
       "  </tbody>\n",
       "</table>\n",
       "<p>217 rows × 6 columns</p>\n",
       "</div>"
      ],
      "text/plain": [
       "                       children  days_employed  education_id  \\\n",
       "dob_years income_type                                          \n",
       "19        госслужащий         0   5.099699e+02             2   \n",
       "          компаньон           0   3.675963e+03             9   \n",
       "          сотрудник           0   5.255252e+03             8   \n",
       "20        госслужащий         0   1.291342e+03             1   \n",
       "          компаньон           2   8.879091e+03            17   \n",
       "...                         ...            ...           ...   \n",
       "73        пенсионер           1   2.194711e+06             9   \n",
       "74        компаньон           0   1.729633e+03             1   \n",
       "          пенсионер           0   1.439163e+06             3   \n",
       "          сотрудник           0   6.682868e+03             1   \n",
       "75        госслужащий         0   1.678970e+03             1   \n",
       "\n",
       "                       family_status_id  debt  total_income  \n",
       "dob_years income_type                                        \n",
       "19        госслужащий                 4     0  7.578742e+04  \n",
       "          компаньон                  15     0  8.398840e+05  \n",
       "          сотрудник                  13     1  6.101043e+05  \n",
       "20        госслужащий                 8     0  3.198307e+05  \n",
       "          компаньон                  39     3  2.085864e+06  \n",
       "...                                 ...   ...           ...  \n",
       "73        пенсионер                   7     0  7.665975e+05  \n",
       "74        компаньон                   0     0  1.248301e+05  \n",
       "          пенсионер                   2     0  2.777069e+05  \n",
       "          сотрудник                   1     0  9.894591e+04  \n",
       "75        госслужащий                 2     0  1.532826e+05  \n",
       "\n",
       "[217 rows x 6 columns]"
      ]
     },
     "execution_count": 27,
     "metadata": {},
     "output_type": "execute_result"
    }
   ],
   "source": [
    "# проверка\n",
    "bank_statistics.groupby(['dob_years', 'income_type']).sum()"
   ]
  },
  {
   "cell_type": "markdown",
   "metadata": {},
   "source": [
    "### Шаг 2.3. Изменение типов данных"
   ]
  },
  {
   "cell_type": "markdown",
   "metadata": {},
   "source": [
    "Заменим вещественный тип данных в столбце `total_income` на целочисленный с помощью метода `astype`. \n",
    "\n",
    "Дабавим конструкцию `try...except` на случай возможной ошибки."
   ]
  },
  {
   "cell_type": "code",
   "execution_count": 28,
   "metadata": {},
   "outputs": [
    {
     "data": {
      "text/plain": [
       "dtype('float64')"
      ]
     },
     "execution_count": 28,
     "metadata": {},
     "output_type": "execute_result"
    }
   ],
   "source": [
    "bank_statistics['total_income'].dtypes"
   ]
  },
  {
   "cell_type": "code",
   "execution_count": 29,
   "metadata": {},
   "outputs": [],
   "source": [
    "try:\n",
    "    bank_statistics['total_income'] = bank_statistics['total_income'].astype('int')\n",
    "except: \n",
    "    print('error')"
   ]
  },
  {
   "cell_type": "code",
   "execution_count": 30,
   "metadata": {},
   "outputs": [
    {
     "data": {
      "text/plain": [
       "dtype('int64')"
      ]
     },
     "execution_count": 30,
     "metadata": {},
     "output_type": "execute_result"
    }
   ],
   "source": [
    "# проверка\n",
    "bank_statistics['total_income'].dtypes"
   ]
  },
  {
   "cell_type": "markdown",
   "metadata": {},
   "source": [
    "### Шаг 2.4. Удаление дубликатов"
   ]
  },
  {
   "cell_type": "markdown",
   "metadata": {},
   "source": [
    "С помощью метода `unique` будем находить уникальные значения в столбцах для проверки наличия неявных дубликатов в них."
   ]
  },
  {
   "cell_type": "code",
   "execution_count": 31,
   "metadata": {},
   "outputs": [
    {
     "data": {
      "text/plain": [
       "array(['высшее', 'среднее', 'Среднее', 'СРЕДНЕЕ', 'ВЫСШЕЕ',\n",
       "       'неоконченное высшее', 'начальное', 'Высшее',\n",
       "       'НЕОКОНЧЕННОЕ ВЫСШЕЕ', 'Неоконченное высшее', 'НАЧАЛЬНОЕ',\n",
       "       'Начальное', 'Ученая степень', 'УЧЕНАЯ СТЕПЕНЬ', 'ученая степень'],\n",
       "      dtype=object)"
      ]
     },
     "execution_count": 31,
     "metadata": {},
     "output_type": "execute_result"
    }
   ],
   "source": [
    "bank_statistics['education'].unique()"
   ]
  },
  {
   "cell_type": "markdown",
   "metadata": {},
   "source": [
    "С названиями в столбце `'education'` всё в порядке, но небходимо исправить регистр написания.\n",
    "\n",
    "Используем метод `lower`."
   ]
  },
  {
   "cell_type": "code",
   "execution_count": 32,
   "metadata": {},
   "outputs": [],
   "source": [
    "bank_statistics['education'] = bank_statistics['education'].str.lower()"
   ]
  },
  {
   "cell_type": "code",
   "execution_count": 33,
   "metadata": {},
   "outputs": [
    {
     "data": {
      "text/plain": [
       "array(['высшее', 'среднее', 'неоконченное высшее', 'начальное',\n",
       "       'ученая степень'], dtype=object)"
      ]
     },
     "execution_count": 33,
     "metadata": {},
     "output_type": "execute_result"
    }
   ],
   "source": [
    "# проверка\n",
    "bank_statistics['education'].unique()"
   ]
  },
  {
   "cell_type": "code",
   "execution_count": 34,
   "metadata": {},
   "outputs": [
    {
     "data": {
      "text/plain": [
       "array(['женат / замужем', 'гражданский брак', 'вдовец / вдова',\n",
       "       'в разводе', 'Не женат / не замужем'], dtype=object)"
      ]
     },
     "execution_count": 34,
     "metadata": {},
     "output_type": "execute_result"
    }
   ],
   "source": [
    "# неявных дубликатов не обнаружено\n",
    "bank_statistics['family_status'].unique()"
   ]
  },
  {
   "cell_type": "code",
   "execution_count": 35,
   "metadata": {},
   "outputs": [
    {
     "data": {
      "text/plain": [
       "array(['сотрудник', 'пенсионер', 'компаньон', 'госслужащий',\n",
       "       'безработный', 'предприниматель', 'студент', 'в декрете'],\n",
       "      dtype=object)"
      ]
     },
     "execution_count": 35,
     "metadata": {},
     "output_type": "execute_result"
    }
   ],
   "source": [
    "# неявных дубликатов не обнаружено\n",
    "bank_statistics['income_type'].unique()"
   ]
  },
  {
   "cell_type": "markdown",
   "metadata": {},
   "source": [
    "Когда неявные дубликаты устранены, найдем полные дубликаты и удалим их методом `drop_duplicates` и `reset_index`, чтобы исправить индексацию."
   ]
  },
  {
   "cell_type": "code",
   "execution_count": 36,
   "metadata": {},
   "outputs": [
    {
     "data": {
      "text/plain": [
       "71"
      ]
     },
     "execution_count": 36,
     "metadata": {},
     "output_type": "execute_result"
    }
   ],
   "source": [
    "bank_statistics.duplicated().sum()"
   ]
  },
  {
   "cell_type": "code",
   "execution_count": 37,
   "metadata": {},
   "outputs": [],
   "source": [
    "bank_statistics = bank_statistics.drop_duplicates().reset_index(drop=True)"
   ]
  },
  {
   "cell_type": "code",
   "execution_count": 38,
   "metadata": {},
   "outputs": [
    {
     "data": {
      "text/plain": [
       "0"
      ]
     },
     "execution_count": 38,
     "metadata": {},
     "output_type": "execute_result"
    }
   ],
   "source": [
    "# проверка\n",
    "bank_statistics.duplicated().sum()"
   ]
  },
  {
   "cell_type": "markdown",
   "metadata": {},
   "source": [
    "Причин возникновения дубликатов может быть несколько, предположительно, в банке может отсутствовать регламент записи данных клиентов для сотрудников, или данные собирают из информации, что клиент сам о себе написал. В обоих случаях возможно возникновение большого кол-ва неявных дубликатов. Также дубликаты могли появиться в следствии сбоев в системе банка."
   ]
  },
  {
   "cell_type": "markdown",
   "metadata": {},
   "source": [
    "### Шаг 2.5. Формирование дополнительных датафреймов словарей, декомпозиция исходного датафрейма"
   ]
  },
  {
   "cell_type": "markdown",
   "metadata": {},
   "source": [
    "Создадим два новых датафрейма со столбцами:\n",
    "\n",
    "1) `education_id` и `education`\n",
    "\n",
    "2) `family_status_id` и `family_status`"
   ]
  },
  {
   "cell_type": "code",
   "execution_count": 39,
   "metadata": {},
   "outputs": [],
   "source": [
    "education = bank_statistics[['education_id', 'education']]"
   ]
  },
  {
   "cell_type": "code",
   "execution_count": 40,
   "metadata": {},
   "outputs": [
    {
     "data": {
      "text/plain": [
       "21449"
      ]
     },
     "execution_count": 40,
     "metadata": {},
     "output_type": "execute_result"
    }
   ],
   "source": [
    "education.duplicated().sum()"
   ]
  },
  {
   "cell_type": "code",
   "execution_count": 41,
   "metadata": {},
   "outputs": [],
   "source": [
    "education = education.drop_duplicates().reset_index(drop=True)  #удалим дубликаты"
   ]
  },
  {
   "cell_type": "code",
   "execution_count": 42,
   "metadata": {},
   "outputs": [
    {
     "data": {
      "text/plain": [
       "0"
      ]
     },
     "execution_count": 42,
     "metadata": {},
     "output_type": "execute_result"
    }
   ],
   "source": [
    "education.duplicated().sum()"
   ]
  },
  {
   "cell_type": "code",
   "execution_count": 43,
   "metadata": {},
   "outputs": [
    {
     "data": {
      "text/html": [
       "<div>\n",
       "<style scoped>\n",
       "    .dataframe tbody tr th:only-of-type {\n",
       "        vertical-align: middle;\n",
       "    }\n",
       "\n",
       "    .dataframe tbody tr th {\n",
       "        vertical-align: top;\n",
       "    }\n",
       "\n",
       "    .dataframe thead th {\n",
       "        text-align: right;\n",
       "    }\n",
       "</style>\n",
       "<table border=\"1\" class=\"dataframe\">\n",
       "  <thead>\n",
       "    <tr style=\"text-align: right;\">\n",
       "      <th></th>\n",
       "      <th>education_id</th>\n",
       "      <th>education</th>\n",
       "    </tr>\n",
       "  </thead>\n",
       "  <tbody>\n",
       "    <tr>\n",
       "      <td>0</td>\n",
       "      <td>0</td>\n",
       "      <td>высшее</td>\n",
       "    </tr>\n",
       "    <tr>\n",
       "      <td>1</td>\n",
       "      <td>1</td>\n",
       "      <td>среднее</td>\n",
       "    </tr>\n",
       "    <tr>\n",
       "      <td>2</td>\n",
       "      <td>2</td>\n",
       "      <td>неоконченное высшее</td>\n",
       "    </tr>\n",
       "    <tr>\n",
       "      <td>3</td>\n",
       "      <td>3</td>\n",
       "      <td>начальное</td>\n",
       "    </tr>\n",
       "    <tr>\n",
       "      <td>4</td>\n",
       "      <td>4</td>\n",
       "      <td>ученая степень</td>\n",
       "    </tr>\n",
       "  </tbody>\n",
       "</table>\n",
       "</div>"
      ],
      "text/plain": [
       "   education_id            education\n",
       "0             0               высшее\n",
       "1             1              среднее\n",
       "2             2  неоконченное высшее\n",
       "3             3            начальное\n",
       "4             4       ученая степень"
      ]
     },
     "execution_count": 43,
     "metadata": {},
     "output_type": "execute_result"
    }
   ],
   "source": [
    "# проверка\n",
    "education"
   ]
  },
  {
   "cell_type": "code",
   "execution_count": 44,
   "metadata": {},
   "outputs": [],
   "source": [
    "family_status = bank_statistics[['family_status_id', 'family_status']]"
   ]
  },
  {
   "cell_type": "code",
   "execution_count": 45,
   "metadata": {},
   "outputs": [
    {
     "data": {
      "text/plain": [
       "21449"
      ]
     },
     "execution_count": 45,
     "metadata": {},
     "output_type": "execute_result"
    }
   ],
   "source": [
    "family_status.duplicated().sum()"
   ]
  },
  {
   "cell_type": "code",
   "execution_count": 46,
   "metadata": {},
   "outputs": [],
   "source": [
    "family_status = family_status.drop_duplicates().reset_index(drop=True)  #удалим дубликаты"
   ]
  },
  {
   "cell_type": "code",
   "execution_count": 47,
   "metadata": {},
   "outputs": [
    {
     "data": {
      "text/plain": [
       "0"
      ]
     },
     "execution_count": 47,
     "metadata": {},
     "output_type": "execute_result"
    }
   ],
   "source": [
    "family_status.duplicated().sum()"
   ]
  },
  {
   "cell_type": "code",
   "execution_count": 48,
   "metadata": {},
   "outputs": [
    {
     "data": {
      "text/html": [
       "<div>\n",
       "<style scoped>\n",
       "    .dataframe tbody tr th:only-of-type {\n",
       "        vertical-align: middle;\n",
       "    }\n",
       "\n",
       "    .dataframe tbody tr th {\n",
       "        vertical-align: top;\n",
       "    }\n",
       "\n",
       "    .dataframe thead th {\n",
       "        text-align: right;\n",
       "    }\n",
       "</style>\n",
       "<table border=\"1\" class=\"dataframe\">\n",
       "  <thead>\n",
       "    <tr style=\"text-align: right;\">\n",
       "      <th></th>\n",
       "      <th>family_status_id</th>\n",
       "      <th>family_status</th>\n",
       "    </tr>\n",
       "  </thead>\n",
       "  <tbody>\n",
       "    <tr>\n",
       "      <td>0</td>\n",
       "      <td>0</td>\n",
       "      <td>женат / замужем</td>\n",
       "    </tr>\n",
       "    <tr>\n",
       "      <td>1</td>\n",
       "      <td>1</td>\n",
       "      <td>гражданский брак</td>\n",
       "    </tr>\n",
       "    <tr>\n",
       "      <td>2</td>\n",
       "      <td>2</td>\n",
       "      <td>вдовец / вдова</td>\n",
       "    </tr>\n",
       "    <tr>\n",
       "      <td>3</td>\n",
       "      <td>3</td>\n",
       "      <td>в разводе</td>\n",
       "    </tr>\n",
       "    <tr>\n",
       "      <td>4</td>\n",
       "      <td>4</td>\n",
       "      <td>Не женат / не замужем</td>\n",
       "    </tr>\n",
       "  </tbody>\n",
       "</table>\n",
       "</div>"
      ],
      "text/plain": [
       "   family_status_id          family_status\n",
       "0                 0        женат / замужем\n",
       "1                 1       гражданский брак\n",
       "2                 2         вдовец / вдова\n",
       "3                 3              в разводе\n",
       "4                 4  Не женат / не замужем"
      ]
     },
     "execution_count": 48,
     "metadata": {},
     "output_type": "execute_result"
    }
   ],
   "source": [
    "# проверка\n",
    "family_status"
   ]
  },
  {
   "cell_type": "markdown",
   "metadata": {},
   "source": [
    "Удалим из исходного датафрейма столбцы `education` и `family_status`, оставив только их идентификаторы: `education_id` и `family_status_id`."
   ]
  },
  {
   "cell_type": "code",
   "execution_count": 49,
   "metadata": {},
   "outputs": [],
   "source": [
    "bank_statistics = bank_statistics.drop(columns=['education', 'family_status'])"
   ]
  },
  {
   "cell_type": "code",
   "execution_count": 50,
   "metadata": {},
   "outputs": [
    {
     "data": {
      "text/html": [
       "<div>\n",
       "<style scoped>\n",
       "    .dataframe tbody tr th:only-of-type {\n",
       "        vertical-align: middle;\n",
       "    }\n",
       "\n",
       "    .dataframe tbody tr th {\n",
       "        vertical-align: top;\n",
       "    }\n",
       "\n",
       "    .dataframe thead th {\n",
       "        text-align: right;\n",
       "    }\n",
       "</style>\n",
       "<table border=\"1\" class=\"dataframe\">\n",
       "  <thead>\n",
       "    <tr style=\"text-align: right;\">\n",
       "      <th></th>\n",
       "      <th>children</th>\n",
       "      <th>days_employed</th>\n",
       "      <th>dob_years</th>\n",
       "      <th>education_id</th>\n",
       "      <th>family_status_id</th>\n",
       "      <th>gender</th>\n",
       "      <th>income_type</th>\n",
       "      <th>debt</th>\n",
       "      <th>total_income</th>\n",
       "      <th>purpose</th>\n",
       "    </tr>\n",
       "  </thead>\n",
       "  <tbody>\n",
       "    <tr>\n",
       "      <td>0</td>\n",
       "      <td>1</td>\n",
       "      <td>8437.673028</td>\n",
       "      <td>42</td>\n",
       "      <td>0</td>\n",
       "      <td>0</td>\n",
       "      <td>F</td>\n",
       "      <td>сотрудник</td>\n",
       "      <td>0</td>\n",
       "      <td>253875</td>\n",
       "      <td>покупка жилья</td>\n",
       "    </tr>\n",
       "    <tr>\n",
       "      <td>1</td>\n",
       "      <td>1</td>\n",
       "      <td>4024.803754</td>\n",
       "      <td>36</td>\n",
       "      <td>1</td>\n",
       "      <td>0</td>\n",
       "      <td>F</td>\n",
       "      <td>сотрудник</td>\n",
       "      <td>0</td>\n",
       "      <td>112080</td>\n",
       "      <td>приобретение автомобиля</td>\n",
       "    </tr>\n",
       "    <tr>\n",
       "      <td>2</td>\n",
       "      <td>0</td>\n",
       "      <td>5623.422610</td>\n",
       "      <td>33</td>\n",
       "      <td>1</td>\n",
       "      <td>0</td>\n",
       "      <td>M</td>\n",
       "      <td>сотрудник</td>\n",
       "      <td>0</td>\n",
       "      <td>145885</td>\n",
       "      <td>покупка жилья</td>\n",
       "    </tr>\n",
       "    <tr>\n",
       "      <td>3</td>\n",
       "      <td>3</td>\n",
       "      <td>4124.747207</td>\n",
       "      <td>32</td>\n",
       "      <td>1</td>\n",
       "      <td>0</td>\n",
       "      <td>M</td>\n",
       "      <td>сотрудник</td>\n",
       "      <td>0</td>\n",
       "      <td>267628</td>\n",
       "      <td>дополнительное образование</td>\n",
       "    </tr>\n",
       "    <tr>\n",
       "      <td>4</td>\n",
       "      <td>0</td>\n",
       "      <td>340266.072047</td>\n",
       "      <td>53</td>\n",
       "      <td>1</td>\n",
       "      <td>1</td>\n",
       "      <td>F</td>\n",
       "      <td>пенсионер</td>\n",
       "      <td>0</td>\n",
       "      <td>158616</td>\n",
       "      <td>сыграть свадьбу</td>\n",
       "    </tr>\n",
       "  </tbody>\n",
       "</table>\n",
       "</div>"
      ],
      "text/plain": [
       "   children  days_employed  dob_years  education_id  family_status_id gender  \\\n",
       "0         1    8437.673028         42             0                 0      F   \n",
       "1         1    4024.803754         36             1                 0      F   \n",
       "2         0    5623.422610         33             1                 0      M   \n",
       "3         3    4124.747207         32             1                 0      M   \n",
       "4         0  340266.072047         53             1                 1      F   \n",
       "\n",
       "  income_type  debt  total_income                     purpose  \n",
       "0   сотрудник     0        253875               покупка жилья  \n",
       "1   сотрудник     0        112080     приобретение автомобиля  \n",
       "2   сотрудник     0        145885               покупка жилья  \n",
       "3   сотрудник     0        267628  дополнительное образование  \n",
       "4   пенсионер     0        158616             сыграть свадьбу  "
      ]
     },
     "execution_count": 50,
     "metadata": {},
     "output_type": "execute_result"
    }
   ],
   "source": [
    "# проверка\n",
    "bank_statistics.head()"
   ]
  },
  {
   "cell_type": "markdown",
   "metadata": {},
   "source": [
    "### Шаг 2.6. Категоризация дохода"
   ]
  },
  {
   "cell_type": "markdown",
   "metadata": {},
   "source": [
    "На основании диапазонов, указанных ниже, создадим столбец `total_income_category` с категориями:\n",
    "* 0–30000 — 'E'\n",
    "* 30001–50000 — 'D'\n",
    "* 50001–200000 — 'C'\n",
    "* 200001–1000000 — 'B'\n",
    "* 1000001 и выше — 'A'\n",
    "\n"
   ]
  },
  {
   "cell_type": "code",
   "execution_count": 51,
   "metadata": {},
   "outputs": [],
   "source": [
    "def total_income_category(total_income): # функция для категоризации значений total_income\n",
    "       \n",
    "    if total_income <= 30_000:\n",
    "        return 'E'\n",
    "    elif total_income <= 50_000:\n",
    "        return 'D'\n",
    "    elif total_income <= 200_000:\n",
    "        return 'C'\n",
    "    elif total_income <= 1_000_000:\n",
    "        return 'B'\n",
    "    elif total_income > 1_000_000:\n",
    "        return 'A'\n",
    "    return 'other'"
   ]
  },
  {
   "cell_type": "code",
   "execution_count": 52,
   "metadata": {},
   "outputs": [],
   "source": [
    "bank_statistics['total_income_category'] = bank_statistics['total_income'].apply(total_income_category)"
   ]
  },
  {
   "cell_type": "code",
   "execution_count": 53,
   "metadata": {},
   "outputs": [
    {
     "data": {
      "text/html": [
       "<div>\n",
       "<style scoped>\n",
       "    .dataframe tbody tr th:only-of-type {\n",
       "        vertical-align: middle;\n",
       "    }\n",
       "\n",
       "    .dataframe tbody tr th {\n",
       "        vertical-align: top;\n",
       "    }\n",
       "\n",
       "    .dataframe thead th {\n",
       "        text-align: right;\n",
       "    }\n",
       "</style>\n",
       "<table border=\"1\" class=\"dataframe\">\n",
       "  <thead>\n",
       "    <tr style=\"text-align: right;\">\n",
       "      <th></th>\n",
       "      <th>children</th>\n",
       "      <th>days_employed</th>\n",
       "      <th>dob_years</th>\n",
       "      <th>education_id</th>\n",
       "      <th>family_status_id</th>\n",
       "      <th>gender</th>\n",
       "      <th>income_type</th>\n",
       "      <th>debt</th>\n",
       "      <th>total_income</th>\n",
       "      <th>purpose</th>\n",
       "      <th>total_income_category</th>\n",
       "    </tr>\n",
       "  </thead>\n",
       "  <tbody>\n",
       "    <tr>\n",
       "      <td>0</td>\n",
       "      <td>1</td>\n",
       "      <td>8437.673028</td>\n",
       "      <td>42</td>\n",
       "      <td>0</td>\n",
       "      <td>0</td>\n",
       "      <td>F</td>\n",
       "      <td>сотрудник</td>\n",
       "      <td>0</td>\n",
       "      <td>253875</td>\n",
       "      <td>покупка жилья</td>\n",
       "      <td>B</td>\n",
       "    </tr>\n",
       "    <tr>\n",
       "      <td>1</td>\n",
       "      <td>1</td>\n",
       "      <td>4024.803754</td>\n",
       "      <td>36</td>\n",
       "      <td>1</td>\n",
       "      <td>0</td>\n",
       "      <td>F</td>\n",
       "      <td>сотрудник</td>\n",
       "      <td>0</td>\n",
       "      <td>112080</td>\n",
       "      <td>приобретение автомобиля</td>\n",
       "      <td>C</td>\n",
       "    </tr>\n",
       "    <tr>\n",
       "      <td>2</td>\n",
       "      <td>0</td>\n",
       "      <td>5623.422610</td>\n",
       "      <td>33</td>\n",
       "      <td>1</td>\n",
       "      <td>0</td>\n",
       "      <td>M</td>\n",
       "      <td>сотрудник</td>\n",
       "      <td>0</td>\n",
       "      <td>145885</td>\n",
       "      <td>покупка жилья</td>\n",
       "      <td>C</td>\n",
       "    </tr>\n",
       "    <tr>\n",
       "      <td>3</td>\n",
       "      <td>3</td>\n",
       "      <td>4124.747207</td>\n",
       "      <td>32</td>\n",
       "      <td>1</td>\n",
       "      <td>0</td>\n",
       "      <td>M</td>\n",
       "      <td>сотрудник</td>\n",
       "      <td>0</td>\n",
       "      <td>267628</td>\n",
       "      <td>дополнительное образование</td>\n",
       "      <td>B</td>\n",
       "    </tr>\n",
       "    <tr>\n",
       "      <td>4</td>\n",
       "      <td>0</td>\n",
       "      <td>340266.072047</td>\n",
       "      <td>53</td>\n",
       "      <td>1</td>\n",
       "      <td>1</td>\n",
       "      <td>F</td>\n",
       "      <td>пенсионер</td>\n",
       "      <td>0</td>\n",
       "      <td>158616</td>\n",
       "      <td>сыграть свадьбу</td>\n",
       "      <td>C</td>\n",
       "    </tr>\n",
       "  </tbody>\n",
       "</table>\n",
       "</div>"
      ],
      "text/plain": [
       "   children  days_employed  dob_years  education_id  family_status_id gender  \\\n",
       "0         1    8437.673028         42             0                 0      F   \n",
       "1         1    4024.803754         36             1                 0      F   \n",
       "2         0    5623.422610         33             1                 0      M   \n",
       "3         3    4124.747207         32             1                 0      M   \n",
       "4         0  340266.072047         53             1                 1      F   \n",
       "\n",
       "  income_type  debt  total_income                     purpose  \\\n",
       "0   сотрудник     0        253875               покупка жилья   \n",
       "1   сотрудник     0        112080     приобретение автомобиля   \n",
       "2   сотрудник     0        145885               покупка жилья   \n",
       "3   сотрудник     0        267628  дополнительное образование   \n",
       "4   пенсионер     0        158616             сыграть свадьбу   \n",
       "\n",
       "  total_income_category  \n",
       "0                     B  \n",
       "1                     C  \n",
       "2                     C  \n",
       "3                     B  \n",
       "4                     C  "
      ]
     },
     "execution_count": 53,
     "metadata": {},
     "output_type": "execute_result"
    }
   ],
   "source": [
    "# проверка\n",
    "bank_statistics.head()"
   ]
  },
  {
   "cell_type": "code",
   "execution_count": 54,
   "metadata": {},
   "outputs": [
    {
     "data": {
      "text/plain": [
       "array(['A', 'B', 'C', 'D', 'E'], dtype=object)"
      ]
     },
     "execution_count": 54,
     "metadata": {},
     "output_type": "execute_result"
    }
   ],
   "source": [
    "# проверка\n",
    "bank_statistics['total_income_category'].sort_values().unique()"
   ]
  },
  {
   "cell_type": "markdown",
   "metadata": {},
   "source": [
    "### Шаг 2.7. Категоризация целей кредита"
   ]
  },
  {
   "cell_type": "markdown",
   "metadata": {},
   "source": [
    "Создадим функцию, которая на основании данных из столбца `purpose` сформирует новый столбец `purpose_category`, в который войдут следующие категории: операции с автомобилем, операции с недвижимостью, проведение свадьбы, получение образования."
   ]
  },
  {
   "cell_type": "code",
   "execution_count": 55,
   "metadata": {},
   "outputs": [],
   "source": [
    "def purpose_rename(purpose):  \n",
    "       \n",
    "    if 'авто' in purpose:\n",
    "        return 'операции с автомобилем' \n",
    "    elif 'недвиж' in purpose or 'жиль' in purpose:\n",
    "        return 'операции с недвижимостью' \n",
    "    elif 'образов' in purpose:\n",
    "        return 'получение образования'\n",
    "    elif 'свадьб' in purpose:\n",
    "        return 'проведение свадьб' \n",
    "    return 'error' "
   ]
  },
  {
   "cell_type": "code",
   "execution_count": 56,
   "metadata": {},
   "outputs": [],
   "source": [
    "bank_statistics['purpose_category'] = bank_statistics['purpose'].apply(purpose_rename)"
   ]
  },
  {
   "cell_type": "code",
   "execution_count": 57,
   "metadata": {},
   "outputs": [
    {
     "data": {
      "text/html": [
       "<div>\n",
       "<style scoped>\n",
       "    .dataframe tbody tr th:only-of-type {\n",
       "        vertical-align: middle;\n",
       "    }\n",
       "\n",
       "    .dataframe tbody tr th {\n",
       "        vertical-align: top;\n",
       "    }\n",
       "\n",
       "    .dataframe thead th {\n",
       "        text-align: right;\n",
       "    }\n",
       "</style>\n",
       "<table border=\"1\" class=\"dataframe\">\n",
       "  <thead>\n",
       "    <tr style=\"text-align: right;\">\n",
       "      <th></th>\n",
       "      <th>children</th>\n",
       "      <th>days_employed</th>\n",
       "      <th>dob_years</th>\n",
       "      <th>education_id</th>\n",
       "      <th>family_status_id</th>\n",
       "      <th>gender</th>\n",
       "      <th>income_type</th>\n",
       "      <th>debt</th>\n",
       "      <th>total_income</th>\n",
       "      <th>purpose</th>\n",
       "      <th>total_income_category</th>\n",
       "      <th>purpose_category</th>\n",
       "    </tr>\n",
       "  </thead>\n",
       "  <tbody>\n",
       "    <tr>\n",
       "      <td>0</td>\n",
       "      <td>1</td>\n",
       "      <td>8437.673028</td>\n",
       "      <td>42</td>\n",
       "      <td>0</td>\n",
       "      <td>0</td>\n",
       "      <td>F</td>\n",
       "      <td>сотрудник</td>\n",
       "      <td>0</td>\n",
       "      <td>253875</td>\n",
       "      <td>покупка жилья</td>\n",
       "      <td>B</td>\n",
       "      <td>операции с недвижимостью</td>\n",
       "    </tr>\n",
       "    <tr>\n",
       "      <td>1</td>\n",
       "      <td>1</td>\n",
       "      <td>4024.803754</td>\n",
       "      <td>36</td>\n",
       "      <td>1</td>\n",
       "      <td>0</td>\n",
       "      <td>F</td>\n",
       "      <td>сотрудник</td>\n",
       "      <td>0</td>\n",
       "      <td>112080</td>\n",
       "      <td>приобретение автомобиля</td>\n",
       "      <td>C</td>\n",
       "      <td>операции с автомобилем</td>\n",
       "    </tr>\n",
       "    <tr>\n",
       "      <td>2</td>\n",
       "      <td>0</td>\n",
       "      <td>5623.422610</td>\n",
       "      <td>33</td>\n",
       "      <td>1</td>\n",
       "      <td>0</td>\n",
       "      <td>M</td>\n",
       "      <td>сотрудник</td>\n",
       "      <td>0</td>\n",
       "      <td>145885</td>\n",
       "      <td>покупка жилья</td>\n",
       "      <td>C</td>\n",
       "      <td>операции с недвижимостью</td>\n",
       "    </tr>\n",
       "    <tr>\n",
       "      <td>3</td>\n",
       "      <td>3</td>\n",
       "      <td>4124.747207</td>\n",
       "      <td>32</td>\n",
       "      <td>1</td>\n",
       "      <td>0</td>\n",
       "      <td>M</td>\n",
       "      <td>сотрудник</td>\n",
       "      <td>0</td>\n",
       "      <td>267628</td>\n",
       "      <td>дополнительное образование</td>\n",
       "      <td>B</td>\n",
       "      <td>получение образования</td>\n",
       "    </tr>\n",
       "    <tr>\n",
       "      <td>4</td>\n",
       "      <td>0</td>\n",
       "      <td>340266.072047</td>\n",
       "      <td>53</td>\n",
       "      <td>1</td>\n",
       "      <td>1</td>\n",
       "      <td>F</td>\n",
       "      <td>пенсионер</td>\n",
       "      <td>0</td>\n",
       "      <td>158616</td>\n",
       "      <td>сыграть свадьбу</td>\n",
       "      <td>C</td>\n",
       "      <td>проведение свадьб</td>\n",
       "    </tr>\n",
       "  </tbody>\n",
       "</table>\n",
       "</div>"
      ],
      "text/plain": [
       "   children  days_employed  dob_years  education_id  family_status_id gender  \\\n",
       "0         1    8437.673028         42             0                 0      F   \n",
       "1         1    4024.803754         36             1                 0      F   \n",
       "2         0    5623.422610         33             1                 0      M   \n",
       "3         3    4124.747207         32             1                 0      M   \n",
       "4         0  340266.072047         53             1                 1      F   \n",
       "\n",
       "  income_type  debt  total_income                     purpose  \\\n",
       "0   сотрудник     0        253875               покупка жилья   \n",
       "1   сотрудник     0        112080     приобретение автомобиля   \n",
       "2   сотрудник     0        145885               покупка жилья   \n",
       "3   сотрудник     0        267628  дополнительное образование   \n",
       "4   пенсионер     0        158616             сыграть свадьбу   \n",
       "\n",
       "  total_income_category          purpose_category  \n",
       "0                     B  операции с недвижимостью  \n",
       "1                     C    операции с автомобилем  \n",
       "2                     C  операции с недвижимостью  \n",
       "3                     B     получение образования  \n",
       "4                     C         проведение свадьб  "
      ]
     },
     "execution_count": 57,
     "metadata": {},
     "output_type": "execute_result"
    }
   ],
   "source": [
    "# проверка\n",
    "bank_statistics.head()"
   ]
  },
  {
   "cell_type": "code",
   "execution_count": 58,
   "metadata": {},
   "outputs": [
    {
     "data": {
      "text/plain": [
       "array(['операции с недвижимостью', 'операции с автомобилем',\n",
       "       'получение образования', 'проведение свадьб'], dtype=object)"
      ]
     },
     "execution_count": 58,
     "metadata": {},
     "output_type": "execute_result"
    }
   ],
   "source": [
    "# проверка\n",
    "bank_statistics['purpose_category'].unique()"
   ]
  },
  {
   "cell_type": "markdown",
   "metadata": {},
   "source": [
    "### Ответы на вопросы."
   ]
  },
  {
   "cell_type": "markdown",
   "metadata": {},
   "source": [
    "Для анализа данных используем метод `pivot_table`, т.к. он позволяет создавать более удобные для анализа таблицы.\n",
    "\n",
    "Также посчитаем столбец `'ratio'` с отношением кол-ва задолженностей ко всем значениям в группе для более точного сравнения категорий."
   ]
  },
  {
   "cell_type": "markdown",
   "metadata": {},
   "source": [
    "##### Вопрос 1:\n",
    "\n",
    "**Есть ли зависимость между количеством детей и возвратом кредита в срок?**"
   ]
  },
  {
   "cell_type": "code",
   "execution_count": 59,
   "metadata": {},
   "outputs": [],
   "source": [
    "children_ratio = bank_statistics.pivot_table(index='children', values='debt', aggfunc=('sum', 'count', 'mean'))"
   ]
  },
  {
   "cell_type": "code",
   "execution_count": 60,
   "metadata": {
    "scrolled": true
   },
   "outputs": [],
   "source": [
    "children_ratio['ratio'] = children_ratio['mean']/children_ratio['mean'].sum()\n",
    "children_ratio = children_ratio.style.format({'ratio': '{:.1%}'})"
   ]
  },
  {
   "cell_type": "code",
   "execution_count": 61,
   "metadata": {},
   "outputs": [
    {
     "data": {
      "text/html": [
       "<style  type=\"text/css\" >\n",
       "</style><table id=\"T_f0d0a3ca_9cb3_11ec_a783_02420a390e27\" ><thead>    <tr>        <th class=\"blank level0\" ></th>        <th class=\"col_heading level0 col0\" >count</th>        <th class=\"col_heading level0 col1\" >mean</th>        <th class=\"col_heading level0 col2\" >sum</th>        <th class=\"col_heading level0 col3\" >ratio</th>    </tr>    <tr>        <th class=\"index_name level0\" >children</th>        <th class=\"blank\" ></th>        <th class=\"blank\" ></th>        <th class=\"blank\" ></th>        <th class=\"blank\" ></th>    </tr></thead><tbody>\n",
       "                <tr>\n",
       "                        <th id=\"T_f0d0a3ca_9cb3_11ec_a783_02420a390e27level0_row0\" class=\"row_heading level0 row0\" >0</th>\n",
       "                        <td id=\"T_f0d0a3ca_9cb3_11ec_a783_02420a390e27row0_col0\" class=\"data row0 col0\" >14091</td>\n",
       "                        <td id=\"T_f0d0a3ca_9cb3_11ec_a783_02420a390e27row0_col1\" class=\"data row0 col1\" >0.0754382</td>\n",
       "                        <td id=\"T_f0d0a3ca_9cb3_11ec_a783_02420a390e27row0_col2\" class=\"data row0 col2\" >1063</td>\n",
       "                        <td id=\"T_f0d0a3ca_9cb3_11ec_a783_02420a390e27row0_col3\" class=\"data row0 col3\" >17.1%</td>\n",
       "            </tr>\n",
       "            <tr>\n",
       "                        <th id=\"T_f0d0a3ca_9cb3_11ec_a783_02420a390e27level0_row1\" class=\"row_heading level0 row1\" >1</th>\n",
       "                        <td id=\"T_f0d0a3ca_9cb3_11ec_a783_02420a390e27row1_col0\" class=\"data row1 col0\" >4855</td>\n",
       "                        <td id=\"T_f0d0a3ca_9cb3_11ec_a783_02420a390e27row1_col1\" class=\"data row1 col1\" >0.0916581</td>\n",
       "                        <td id=\"T_f0d0a3ca_9cb3_11ec_a783_02420a390e27row1_col2\" class=\"data row1 col2\" >445</td>\n",
       "                        <td id=\"T_f0d0a3ca_9cb3_11ec_a783_02420a390e27row1_col3\" class=\"data row1 col3\" >20.8%</td>\n",
       "            </tr>\n",
       "            <tr>\n",
       "                        <th id=\"T_f0d0a3ca_9cb3_11ec_a783_02420a390e27level0_row2\" class=\"row_heading level0 row2\" >2</th>\n",
       "                        <td id=\"T_f0d0a3ca_9cb3_11ec_a783_02420a390e27row2_col0\" class=\"data row2 col0\" >2128</td>\n",
       "                        <td id=\"T_f0d0a3ca_9cb3_11ec_a783_02420a390e27row2_col1\" class=\"data row2 col1\" >0.0949248</td>\n",
       "                        <td id=\"T_f0d0a3ca_9cb3_11ec_a783_02420a390e27row2_col2\" class=\"data row2 col2\" >202</td>\n",
       "                        <td id=\"T_f0d0a3ca_9cb3_11ec_a783_02420a390e27row2_col3\" class=\"data row2 col3\" >21.5%</td>\n",
       "            </tr>\n",
       "            <tr>\n",
       "                        <th id=\"T_f0d0a3ca_9cb3_11ec_a783_02420a390e27level0_row3\" class=\"row_heading level0 row3\" >3</th>\n",
       "                        <td id=\"T_f0d0a3ca_9cb3_11ec_a783_02420a390e27row3_col0\" class=\"data row3 col0\" >330</td>\n",
       "                        <td id=\"T_f0d0a3ca_9cb3_11ec_a783_02420a390e27row3_col1\" class=\"data row3 col1\" >0.0818182</td>\n",
       "                        <td id=\"T_f0d0a3ca_9cb3_11ec_a783_02420a390e27row3_col2\" class=\"data row3 col2\" >27</td>\n",
       "                        <td id=\"T_f0d0a3ca_9cb3_11ec_a783_02420a390e27row3_col3\" class=\"data row3 col3\" >18.5%</td>\n",
       "            </tr>\n",
       "            <tr>\n",
       "                        <th id=\"T_f0d0a3ca_9cb3_11ec_a783_02420a390e27level0_row4\" class=\"row_heading level0 row4\" >4</th>\n",
       "                        <td id=\"T_f0d0a3ca_9cb3_11ec_a783_02420a390e27row4_col0\" class=\"data row4 col0\" >41</td>\n",
       "                        <td id=\"T_f0d0a3ca_9cb3_11ec_a783_02420a390e27row4_col1\" class=\"data row4 col1\" >0.097561</td>\n",
       "                        <td id=\"T_f0d0a3ca_9cb3_11ec_a783_02420a390e27row4_col2\" class=\"data row4 col2\" >4</td>\n",
       "                        <td id=\"T_f0d0a3ca_9cb3_11ec_a783_02420a390e27row4_col3\" class=\"data row4 col3\" >22.1%</td>\n",
       "            </tr>\n",
       "            <tr>\n",
       "                        <th id=\"T_f0d0a3ca_9cb3_11ec_a783_02420a390e27level0_row5\" class=\"row_heading level0 row5\" >5</th>\n",
       "                        <td id=\"T_f0d0a3ca_9cb3_11ec_a783_02420a390e27row5_col0\" class=\"data row5 col0\" >9</td>\n",
       "                        <td id=\"T_f0d0a3ca_9cb3_11ec_a783_02420a390e27row5_col1\" class=\"data row5 col1\" >0</td>\n",
       "                        <td id=\"T_f0d0a3ca_9cb3_11ec_a783_02420a390e27row5_col2\" class=\"data row5 col2\" >0</td>\n",
       "                        <td id=\"T_f0d0a3ca_9cb3_11ec_a783_02420a390e27row5_col3\" class=\"data row5 col3\" >0.0%</td>\n",
       "            </tr>\n",
       "    </tbody></table>"
      ],
      "text/plain": [
       "<pandas.io.formats.style.Styler at 0x7fa57d424450>"
      ]
     },
     "execution_count": 61,
     "metadata": {},
     "output_type": "execute_result"
    }
   ],
   "source": [
    "children_ratio"
   ]
  },
  {
   "cell_type": "markdown",
   "metadata": {},
   "source": [
    "##### Вывод 1:"
   ]
  },
  {
   "cell_type": "markdown",
   "metadata": {},
   "source": [
    "Зависимость между количеством детей и возвратом кредита в срок:\n",
    "- Заёмщики без детей оказались немного надежнее для банка, чем клиенты с детьми. \n",
    "- У клиентов с 5-ю детьми задолженностей не обнаружено, что скорее всего связано с недостаточным для анализа количеством клиентов в этой категории, их всего 9."
   ]
  },
  {
   "cell_type": "markdown",
   "metadata": {},
   "source": [
    "##### Вопрос 2:\n",
    "\n",
    "**Есть ли зависимость между семейным положением и возвратом кредита в срок?**"
   ]
  },
  {
   "cell_type": "code",
   "execution_count": 62,
   "metadata": {},
   "outputs": [],
   "source": [
    "family_status_ratio = bank_statistics.pivot_table(index=['family_status_id'], values='debt', aggfunc=('sum', 'count', 'mean'))"
   ]
  },
  {
   "cell_type": "code",
   "execution_count": 63,
   "metadata": {},
   "outputs": [],
   "source": [
    "family_status_ratio['ratio'] = family_status_ratio['mean']/family_status_ratio['mean'].sum()\n",
    "family_status_ratio = family_status_ratio.style.format({'ratio': '{:.1%}'})"
   ]
  },
  {
   "cell_type": "code",
   "execution_count": 64,
   "metadata": {},
   "outputs": [
    {
     "data": {
      "text/html": [
       "<div>\n",
       "<style scoped>\n",
       "    .dataframe tbody tr th:only-of-type {\n",
       "        vertical-align: middle;\n",
       "    }\n",
       "\n",
       "    .dataframe tbody tr th {\n",
       "        vertical-align: top;\n",
       "    }\n",
       "\n",
       "    .dataframe thead th {\n",
       "        text-align: right;\n",
       "    }\n",
       "</style>\n",
       "<table border=\"1\" class=\"dataframe\">\n",
       "  <thead>\n",
       "    <tr style=\"text-align: right;\">\n",
       "      <th></th>\n",
       "      <th>family_status_id</th>\n",
       "      <th>family_status</th>\n",
       "    </tr>\n",
       "  </thead>\n",
       "  <tbody>\n",
       "    <tr>\n",
       "      <td>0</td>\n",
       "      <td>0</td>\n",
       "      <td>женат / замужем</td>\n",
       "    </tr>\n",
       "    <tr>\n",
       "      <td>1</td>\n",
       "      <td>1</td>\n",
       "      <td>гражданский брак</td>\n",
       "    </tr>\n",
       "    <tr>\n",
       "      <td>2</td>\n",
       "      <td>2</td>\n",
       "      <td>вдовец / вдова</td>\n",
       "    </tr>\n",
       "    <tr>\n",
       "      <td>3</td>\n",
       "      <td>3</td>\n",
       "      <td>в разводе</td>\n",
       "    </tr>\n",
       "    <tr>\n",
       "      <td>4</td>\n",
       "      <td>4</td>\n",
       "      <td>Не женат / не замужем</td>\n",
       "    </tr>\n",
       "  </tbody>\n",
       "</table>\n",
       "</div>"
      ],
      "text/plain": [
       "   family_status_id          family_status\n",
       "0                 0        женат / замужем\n",
       "1                 1       гражданский брак\n",
       "2                 2         вдовец / вдова\n",
       "3                 3              в разводе\n",
       "4                 4  Не женат / не замужем"
      ]
     },
     "execution_count": 64,
     "metadata": {},
     "output_type": "execute_result"
    }
   ],
   "source": [
    "family_status"
   ]
  },
  {
   "cell_type": "code",
   "execution_count": 65,
   "metadata": {},
   "outputs": [
    {
     "data": {
      "text/html": [
       "<style  type=\"text/css\" >\n",
       "</style><table id=\"T_f0dcb872_9cb3_11ec_a783_02420a390e27\" ><thead>    <tr>        <th class=\"blank level0\" ></th>        <th class=\"col_heading level0 col0\" >count</th>        <th class=\"col_heading level0 col1\" >mean</th>        <th class=\"col_heading level0 col2\" >sum</th>        <th class=\"col_heading level0 col3\" >ratio</th>    </tr>    <tr>        <th class=\"index_name level0\" >family_status_id</th>        <th class=\"blank\" ></th>        <th class=\"blank\" ></th>        <th class=\"blank\" ></th>        <th class=\"blank\" ></th>    </tr></thead><tbody>\n",
       "                <tr>\n",
       "                        <th id=\"T_f0dcb872_9cb3_11ec_a783_02420a390e27level0_row0\" class=\"row_heading level0 row0\" >0</th>\n",
       "                        <td id=\"T_f0dcb872_9cb3_11ec_a783_02420a390e27row0_col0\" class=\"data row0 col0\" >12339</td>\n",
       "                        <td id=\"T_f0dcb872_9cb3_11ec_a783_02420a390e27row0_col1\" class=\"data row0 col1\" >0.0754518</td>\n",
       "                        <td id=\"T_f0dcb872_9cb3_11ec_a783_02420a390e27row0_col2\" class=\"data row0 col2\" >931</td>\n",
       "                        <td id=\"T_f0dcb872_9cb3_11ec_a783_02420a390e27row0_col3\" class=\"data row0 col3\" >18.7%</td>\n",
       "            </tr>\n",
       "            <tr>\n",
       "                        <th id=\"T_f0dcb872_9cb3_11ec_a783_02420a390e27level0_row1\" class=\"row_heading level0 row1\" >1</th>\n",
       "                        <td id=\"T_f0dcb872_9cb3_11ec_a783_02420a390e27row1_col0\" class=\"data row1 col0\" >4151</td>\n",
       "                        <td id=\"T_f0dcb872_9cb3_11ec_a783_02420a390e27row1_col1\" class=\"data row1 col1\" >0.0934715</td>\n",
       "                        <td id=\"T_f0dcb872_9cb3_11ec_a783_02420a390e27row1_col2\" class=\"data row1 col2\" >388</td>\n",
       "                        <td id=\"T_f0dcb872_9cb3_11ec_a783_02420a390e27row1_col3\" class=\"data row1 col3\" >23.2%</td>\n",
       "            </tr>\n",
       "            <tr>\n",
       "                        <th id=\"T_f0dcb872_9cb3_11ec_a783_02420a390e27level0_row2\" class=\"row_heading level0 row2\" >2</th>\n",
       "                        <td id=\"T_f0dcb872_9cb3_11ec_a783_02420a390e27row2_col0\" class=\"data row2 col0\" >959</td>\n",
       "                        <td id=\"T_f0dcb872_9cb3_11ec_a783_02420a390e27row2_col1\" class=\"data row2 col1\" >0.0656934</td>\n",
       "                        <td id=\"T_f0dcb872_9cb3_11ec_a783_02420a390e27row2_col2\" class=\"data row2 col2\" >63</td>\n",
       "                        <td id=\"T_f0dcb872_9cb3_11ec_a783_02420a390e27row2_col3\" class=\"data row2 col3\" >16.3%</td>\n",
       "            </tr>\n",
       "            <tr>\n",
       "                        <th id=\"T_f0dcb872_9cb3_11ec_a783_02420a390e27level0_row3\" class=\"row_heading level0 row3\" >3</th>\n",
       "                        <td id=\"T_f0dcb872_9cb3_11ec_a783_02420a390e27row3_col0\" class=\"data row3 col0\" >1195</td>\n",
       "                        <td id=\"T_f0dcb872_9cb3_11ec_a783_02420a390e27row3_col1\" class=\"data row3 col1\" >0.0711297</td>\n",
       "                        <td id=\"T_f0dcb872_9cb3_11ec_a783_02420a390e27row3_col2\" class=\"data row3 col2\" >85</td>\n",
       "                        <td id=\"T_f0dcb872_9cb3_11ec_a783_02420a390e27row3_col3\" class=\"data row3 col3\" >17.6%</td>\n",
       "            </tr>\n",
       "            <tr>\n",
       "                        <th id=\"T_f0dcb872_9cb3_11ec_a783_02420a390e27level0_row4\" class=\"row_heading level0 row4\" >4</th>\n",
       "                        <td id=\"T_f0dcb872_9cb3_11ec_a783_02420a390e27row4_col0\" class=\"data row4 col0\" >2810</td>\n",
       "                        <td id=\"T_f0dcb872_9cb3_11ec_a783_02420a390e27row4_col1\" class=\"data row4 col1\" >0.0975089</td>\n",
       "                        <td id=\"T_f0dcb872_9cb3_11ec_a783_02420a390e27row4_col2\" class=\"data row4 col2\" >274</td>\n",
       "                        <td id=\"T_f0dcb872_9cb3_11ec_a783_02420a390e27row4_col3\" class=\"data row4 col3\" >24.2%</td>\n",
       "            </tr>\n",
       "    </tbody></table>"
      ],
      "text/plain": [
       "<pandas.io.formats.style.Styler at 0x7fa57a332fd0>"
      ]
     },
     "execution_count": 65,
     "metadata": {},
     "output_type": "execute_result"
    }
   ],
   "source": [
    "family_status_ratio"
   ]
  },
  {
   "cell_type": "markdown",
   "metadata": {},
   "source": [
    "##### Вывод 2:"
   ]
  },
  {
   "cell_type": "markdown",
   "metadata": {},
   "source": [
    "Зависимость между семейным положением и возвратом кредита в срок: \n",
    "\n",
    "- Клиенты, которые не состоят в браке, чаще имели задолженность по выплатам, в отличие от клиентов, которые находятся/находились в браке, те реже имели задолженность."
   ]
  },
  {
   "cell_type": "markdown",
   "metadata": {},
   "source": [
    "##### Вопрос 3: \n",
    "\n",
    "**Есть ли зависимость между уровнем дохода и возвратом кредита в срок?**"
   ]
  },
  {
   "cell_type": "code",
   "execution_count": 66,
   "metadata": {},
   "outputs": [],
   "source": [
    "total_income_ratio = bank_statistics.pivot_table(index='total_income_category', values='debt', aggfunc=('sum', 'count', 'mean'))"
   ]
  },
  {
   "cell_type": "code",
   "execution_count": 67,
   "metadata": {},
   "outputs": [],
   "source": [
    "total_income_ratio['ratio'] = total_income_ratio['mean']/total_income_ratio['mean'].sum()\n",
    "total_income_ratio = total_income_ratio.style.format({'ratio': '{:.1%}'})"
   ]
  },
  {
   "cell_type": "code",
   "execution_count": 68,
   "metadata": {
    "scrolled": true
   },
   "outputs": [
    {
     "data": {
      "text/html": [
       "<style  type=\"text/css\" >\n",
       "</style><table id=\"T_f0e9f49c_9cb3_11ec_a783_02420a390e27\" ><thead>    <tr>        <th class=\"blank level0\" ></th>        <th class=\"col_heading level0 col0\" >count</th>        <th class=\"col_heading level0 col1\" >mean</th>        <th class=\"col_heading level0 col2\" >sum</th>        <th class=\"col_heading level0 col3\" >ratio</th>    </tr>    <tr>        <th class=\"index_name level0\" >total_income_category</th>        <th class=\"blank\" ></th>        <th class=\"blank\" ></th>        <th class=\"blank\" ></th>        <th class=\"blank\" ></th>    </tr></thead><tbody>\n",
       "                <tr>\n",
       "                        <th id=\"T_f0e9f49c_9cb3_11ec_a783_02420a390e27level0_row0\" class=\"row_heading level0 row0\" >A</th>\n",
       "                        <td id=\"T_f0e9f49c_9cb3_11ec_a783_02420a390e27row0_col0\" class=\"data row0 col0\" >25</td>\n",
       "                        <td id=\"T_f0e9f49c_9cb3_11ec_a783_02420a390e27row0_col1\" class=\"data row0 col1\" >0.08</td>\n",
       "                        <td id=\"T_f0e9f49c_9cb3_11ec_a783_02420a390e27row0_col2\" class=\"data row0 col2\" >2</td>\n",
       "                        <td id=\"T_f0e9f49c_9cb3_11ec_a783_02420a390e27row0_col3\" class=\"data row0 col3\" >20.7%</td>\n",
       "            </tr>\n",
       "            <tr>\n",
       "                        <th id=\"T_f0e9f49c_9cb3_11ec_a783_02420a390e27level0_row1\" class=\"row_heading level0 row1\" >B</th>\n",
       "                        <td id=\"T_f0e9f49c_9cb3_11ec_a783_02420a390e27row1_col0\" class=\"data row1 col0\" >5041</td>\n",
       "                        <td id=\"T_f0e9f49c_9cb3_11ec_a783_02420a390e27row1_col1\" class=\"data row1 col1\" >0.0706209</td>\n",
       "                        <td id=\"T_f0e9f49c_9cb3_11ec_a783_02420a390e27row1_col2\" class=\"data row1 col2\" >356</td>\n",
       "                        <td id=\"T_f0e9f49c_9cb3_11ec_a783_02420a390e27row1_col3\" class=\"data row1 col3\" >18.3%</td>\n",
       "            </tr>\n",
       "            <tr>\n",
       "                        <th id=\"T_f0e9f49c_9cb3_11ec_a783_02420a390e27level0_row2\" class=\"row_heading level0 row2\" >C</th>\n",
       "                        <td id=\"T_f0e9f49c_9cb3_11ec_a783_02420a390e27row2_col0\" class=\"data row2 col0\" >16016</td>\n",
       "                        <td id=\"T_f0e9f49c_9cb3_11ec_a783_02420a390e27row2_col1\" class=\"data row2 col1\" >0.0849151</td>\n",
       "                        <td id=\"T_f0e9f49c_9cb3_11ec_a783_02420a390e27row2_col2\" class=\"data row2 col2\" >1360</td>\n",
       "                        <td id=\"T_f0e9f49c_9cb3_11ec_a783_02420a390e27row2_col3\" class=\"data row2 col3\" >22.0%</td>\n",
       "            </tr>\n",
       "            <tr>\n",
       "                        <th id=\"T_f0e9f49c_9cb3_11ec_a783_02420a390e27level0_row3\" class=\"row_heading level0 row3\" >D</th>\n",
       "                        <td id=\"T_f0e9f49c_9cb3_11ec_a783_02420a390e27row3_col0\" class=\"data row3 col0\" >350</td>\n",
       "                        <td id=\"T_f0e9f49c_9cb3_11ec_a783_02420a390e27row3_col1\" class=\"data row3 col1\" >0.06</td>\n",
       "                        <td id=\"T_f0e9f49c_9cb3_11ec_a783_02420a390e27row3_col2\" class=\"data row3 col2\" >21</td>\n",
       "                        <td id=\"T_f0e9f49c_9cb3_11ec_a783_02420a390e27row3_col3\" class=\"data row3 col3\" >15.5%</td>\n",
       "            </tr>\n",
       "            <tr>\n",
       "                        <th id=\"T_f0e9f49c_9cb3_11ec_a783_02420a390e27level0_row4\" class=\"row_heading level0 row4\" >E</th>\n",
       "                        <td id=\"T_f0e9f49c_9cb3_11ec_a783_02420a390e27row4_col0\" class=\"data row4 col0\" >22</td>\n",
       "                        <td id=\"T_f0e9f49c_9cb3_11ec_a783_02420a390e27row4_col1\" class=\"data row4 col1\" >0.0909091</td>\n",
       "                        <td id=\"T_f0e9f49c_9cb3_11ec_a783_02420a390e27row4_col2\" class=\"data row4 col2\" >2</td>\n",
       "                        <td id=\"T_f0e9f49c_9cb3_11ec_a783_02420a390e27row4_col3\" class=\"data row4 col3\" >23.5%</td>\n",
       "            </tr>\n",
       "    </tbody></table>"
      ],
      "text/plain": [
       "<pandas.io.formats.style.Styler at 0x7fa57a319dd0>"
      ]
     },
     "execution_count": 68,
     "metadata": {},
     "output_type": "execute_result"
    }
   ],
   "source": [
    "total_income_ratio"
   ]
  },
  {
   "cell_type": "markdown",
   "metadata": {},
   "source": [
    "##### Вывод 3:"
   ]
  },
  {
   "cell_type": "markdown",
   "metadata": {},
   "source": [
    "Зависимость между уровнем дохода и возвратом кредита в срок:\n",
    "\n",
    "- Чаще кредит в срок возвращали клиенты с ежемесячным доходом 30к-50к ('D') и 200к-1000к ('B').\n",
    "- Клиентов с доходом менее 30.000 в месяц ('Е') немного, возможно, клиенты из этой категории редко берут или получают одобрение на кредит. Но те, кто брали, реже возвращали долг вовремя.\n",
    "- Также мало данных по клиентам с доходом свыше 1 млн. ('A')."
   ]
  },
  {
   "cell_type": "markdown",
   "metadata": {},
   "source": [
    "##### Вопрос 4:\n",
    "\n",
    "**Как разные цели кредита влияют на его возврат в срок?**"
   ]
  },
  {
   "cell_type": "code",
   "execution_count": 69,
   "metadata": {},
   "outputs": [],
   "source": [
    "purpose_ratio = bank_statistics.pivot_table(index='purpose_category', values='debt', aggfunc=('sum', 'count', 'mean'))"
   ]
  },
  {
   "cell_type": "code",
   "execution_count": 70,
   "metadata": {},
   "outputs": [],
   "source": [
    "purpose_ratio['ratio'] = purpose_ratio['mean']/purpose_ratio['mean'].sum()\n",
    "purpose_ratio = purpose_ratio.style.format({'ratio': '{:.1%}'})"
   ]
  },
  {
   "cell_type": "code",
   "execution_count": 71,
   "metadata": {},
   "outputs": [
    {
     "data": {
      "text/html": [
       "<style  type=\"text/css\" >\n",
       "</style><table id=\"T_f0f23774_9cb3_11ec_a783_02420a390e27\" ><thead>    <tr>        <th class=\"blank level0\" ></th>        <th class=\"col_heading level0 col0\" >count</th>        <th class=\"col_heading level0 col1\" >mean</th>        <th class=\"col_heading level0 col2\" >sum</th>        <th class=\"col_heading level0 col3\" >ratio</th>    </tr>    <tr>        <th class=\"index_name level0\" >purpose_category</th>        <th class=\"blank\" ></th>        <th class=\"blank\" ></th>        <th class=\"blank\" ></th>        <th class=\"blank\" ></th>    </tr></thead><tbody>\n",
       "                <tr>\n",
       "                        <th id=\"T_f0f23774_9cb3_11ec_a783_02420a390e27level0_row0\" class=\"row_heading level0 row0\" >операции с автомобилем</th>\n",
       "                        <td id=\"T_f0f23774_9cb3_11ec_a783_02420a390e27row0_col0\" class=\"data row0 col0\" >4306</td>\n",
       "                        <td id=\"T_f0f23774_9cb3_11ec_a783_02420a390e27row0_col1\" class=\"data row0 col1\" >0.0935903</td>\n",
       "                        <td id=\"T_f0f23774_9cb3_11ec_a783_02420a390e27row0_col2\" class=\"data row0 col2\" >403</td>\n",
       "                        <td id=\"T_f0f23774_9cb3_11ec_a783_02420a390e27row0_col3\" class=\"data row0 col3\" >27.7%</td>\n",
       "            </tr>\n",
       "            <tr>\n",
       "                        <th id=\"T_f0f23774_9cb3_11ec_a783_02420a390e27level0_row1\" class=\"row_heading level0 row1\" >операции с недвижимостью</th>\n",
       "                        <td id=\"T_f0f23774_9cb3_11ec_a783_02420a390e27row1_col0\" class=\"data row1 col0\" >10811</td>\n",
       "                        <td id=\"T_f0f23774_9cb3_11ec_a783_02420a390e27row1_col1\" class=\"data row1 col1\" >0.0723337</td>\n",
       "                        <td id=\"T_f0f23774_9cb3_11ec_a783_02420a390e27row1_col2\" class=\"data row1 col2\" >782</td>\n",
       "                        <td id=\"T_f0f23774_9cb3_11ec_a783_02420a390e27row1_col3\" class=\"data row1 col3\" >21.4%</td>\n",
       "            </tr>\n",
       "            <tr>\n",
       "                        <th id=\"T_f0f23774_9cb3_11ec_a783_02420a390e27level0_row2\" class=\"row_heading level0 row2\" >получение образования</th>\n",
       "                        <td id=\"T_f0f23774_9cb3_11ec_a783_02420a390e27row2_col0\" class=\"data row2 col0\" >4013</td>\n",
       "                        <td id=\"T_f0f23774_9cb3_11ec_a783_02420a390e27row2_col1\" class=\"data row2 col1\" >0.0922003</td>\n",
       "                        <td id=\"T_f0f23774_9cb3_11ec_a783_02420a390e27row2_col2\" class=\"data row2 col2\" >370</td>\n",
       "                        <td id=\"T_f0f23774_9cb3_11ec_a783_02420a390e27row2_col3\" class=\"data row2 col3\" >27.3%</td>\n",
       "            </tr>\n",
       "            <tr>\n",
       "                        <th id=\"T_f0f23774_9cb3_11ec_a783_02420a390e27level0_row3\" class=\"row_heading level0 row3\" >проведение свадьб</th>\n",
       "                        <td id=\"T_f0f23774_9cb3_11ec_a783_02420a390e27row3_col0\" class=\"data row3 col0\" >2324</td>\n",
       "                        <td id=\"T_f0f23774_9cb3_11ec_a783_02420a390e27row3_col1\" class=\"data row3 col1\" >0.0800344</td>\n",
       "                        <td id=\"T_f0f23774_9cb3_11ec_a783_02420a390e27row3_col2\" class=\"data row3 col2\" >186</td>\n",
       "                        <td id=\"T_f0f23774_9cb3_11ec_a783_02420a390e27row3_col3\" class=\"data row3 col3\" >23.7%</td>\n",
       "            </tr>\n",
       "    </tbody></table>"
      ],
      "text/plain": [
       "<pandas.io.formats.style.Styler at 0x7fa57a317e90>"
      ]
     },
     "execution_count": 71,
     "metadata": {},
     "output_type": "execute_result"
    }
   ],
   "source": [
    "purpose_ratio"
   ]
  },
  {
   "cell_type": "markdown",
   "metadata": {},
   "source": [
    "##### Вывод 4:"
   ]
  },
  {
   "cell_type": "markdown",
   "metadata": {},
   "source": [
    "Зависимость между целью кредита и возвратом кредита в срок:\n",
    "\n",
    "- Клиенты с целями, связанными с получением образования и операциями с автомобилем, реже возвращают кредит в срок.\n",
    "- Кредиты на операции с недвижимостью выплачивались более своевременно."
   ]
  },
  {
   "cell_type": "markdown",
   "metadata": {},
   "source": [
    "## Общий вывод:"
   ]
  },
  {
   "cell_type": "markdown",
   "metadata": {},
   "source": [
    "Исходя из полученных данных, можем собрать образ исправного плательщика, а также клиента, который с большей вероятностью станет задолженником по кредиту.\n",
    "\n",
    "- С меньшей вероятностью долг по кредиту образуется у клиента без детей, который состоит в браке, имеет ежемесячный доход в диапазоне 200к-1000к рублей и берет кредит на операции с недвижимостью.\n",
    "\n",
    "\n",
    "- С большей вероятностью долг по кредиту образуется у клиента с детьми, не состоящего в браке, с ежемесячным доходом до 30к и с целью кредита, связанной с образованием или операциями с автомобилем.\n",
    "\n"
   ]
  }
 ],
 "metadata": {
  "ExecuteTimeLog": [
   {
    "duration": 596,
    "start_time": "2022-02-19T14:05:37.190Z"
   },
   {
    "duration": 57,
    "start_time": "2022-02-19T14:05:56.523Z"
   },
   {
    "duration": 56,
    "start_time": "2022-02-19T14:08:58.894Z"
   },
   {
    "duration": 11,
    "start_time": "2022-02-19T14:09:02.846Z"
   },
   {
    "duration": 53,
    "start_time": "2022-02-19T14:13:40.725Z"
   },
   {
    "duration": 12,
    "start_time": "2022-02-19T14:13:46.946Z"
   },
   {
    "duration": 741,
    "start_time": "2022-02-20T07:25:39.671Z"
   },
   {
    "duration": 46,
    "start_time": "2022-02-20T07:29:11.773Z"
   },
   {
    "duration": 13,
    "start_time": "2022-02-20T07:29:14.440Z"
   },
   {
    "duration": 21,
    "start_time": "2022-02-20T07:29:19.075Z"
   },
   {
    "duration": 13,
    "start_time": "2022-02-20T07:29:21.883Z"
   },
   {
    "duration": 22,
    "start_time": "2022-02-20T07:39:53.756Z"
   },
   {
    "duration": 12,
    "start_time": "2022-02-20T07:40:03.161Z"
   },
   {
    "duration": 12,
    "start_time": "2022-02-20T07:40:12.267Z"
   },
   {
    "duration": 5,
    "start_time": "2022-02-20T07:43:47.777Z"
   },
   {
    "duration": 5,
    "start_time": "2022-02-20T07:43:49.908Z"
   },
   {
    "duration": 4,
    "start_time": "2022-02-20T07:44:43.910Z"
   },
   {
    "duration": 4,
    "start_time": "2022-02-20T07:44:49.360Z"
   },
   {
    "duration": 5,
    "start_time": "2022-02-20T07:45:19.970Z"
   },
   {
    "duration": 8,
    "start_time": "2022-02-20T07:46:33.669Z"
   },
   {
    "duration": 6,
    "start_time": "2022-02-20T07:46:50.887Z"
   },
   {
    "duration": 6,
    "start_time": "2022-02-20T07:46:54.025Z"
   },
   {
    "duration": 13,
    "start_time": "2022-02-20T07:47:23.947Z"
   },
   {
    "duration": 5,
    "start_time": "2022-02-20T07:47:56.436Z"
   },
   {
    "duration": 13,
    "start_time": "2022-02-20T07:48:04.427Z"
   },
   {
    "duration": 21,
    "start_time": "2022-02-20T07:48:25.975Z"
   },
   {
    "duration": 12,
    "start_time": "2022-02-20T07:48:34.925Z"
   },
   {
    "duration": 6,
    "start_time": "2022-02-20T07:49:44.505Z"
   },
   {
    "duration": 6,
    "start_time": "2022-02-20T07:49:56.078Z"
   },
   {
    "duration": 5,
    "start_time": "2022-02-20T07:49:58.757Z"
   },
   {
    "duration": 11,
    "start_time": "2022-02-20T07:50:01.188Z"
   },
   {
    "duration": 13,
    "start_time": "2022-02-20T07:50:19.799Z"
   },
   {
    "duration": 12,
    "start_time": "2022-02-20T07:57:17.138Z"
   },
   {
    "duration": 6,
    "start_time": "2022-02-20T08:04:14.729Z"
   },
   {
    "duration": 24,
    "start_time": "2022-02-20T08:04:26.320Z"
   },
   {
    "duration": 25,
    "start_time": "2022-02-20T08:04:43.609Z"
   },
   {
    "duration": 5,
    "start_time": "2022-02-20T08:14:15.107Z"
   },
   {
    "duration": 8,
    "start_time": "2022-02-20T08:14:27.389Z"
   },
   {
    "duration": 374,
    "start_time": "2022-02-20T08:15:12.077Z"
   },
   {
    "duration": 8,
    "start_time": "2022-02-20T08:15:31.522Z"
   },
   {
    "duration": 9,
    "start_time": "2022-02-20T08:16:09.678Z"
   },
   {
    "duration": 15,
    "start_time": "2022-02-20T08:16:24.184Z"
   },
   {
    "duration": 267,
    "start_time": "2022-02-20T08:17:43.812Z"
   },
   {
    "duration": 9,
    "start_time": "2022-02-20T08:17:51.638Z"
   },
   {
    "duration": 8,
    "start_time": "2022-02-20T08:18:34.584Z"
   },
   {
    "duration": 8,
    "start_time": "2022-02-20T08:21:26.218Z"
   },
   {
    "duration": 8,
    "start_time": "2022-02-20T08:22:14.806Z"
   },
   {
    "duration": 8,
    "start_time": "2022-02-20T08:22:52.938Z"
   },
   {
    "duration": 294,
    "start_time": "2022-02-20T08:25:49.616Z"
   },
   {
    "duration": 301,
    "start_time": "2022-02-20T08:29:47.366Z"
   },
   {
    "duration": 312,
    "start_time": "2022-02-20T08:30:10.226Z"
   },
   {
    "duration": 17,
    "start_time": "2022-02-20T08:32:33.602Z"
   },
   {
    "duration": 8,
    "start_time": "2022-02-20T08:33:07.637Z"
   },
   {
    "duration": 12,
    "start_time": "2022-02-20T08:33:11.671Z"
   },
   {
    "duration": 10,
    "start_time": "2022-02-20T08:33:14.757Z"
   },
   {
    "duration": 24,
    "start_time": "2022-02-20T08:33:28.224Z"
   },
   {
    "duration": 7,
    "start_time": "2022-02-20T08:34:58.530Z"
   },
   {
    "duration": 9,
    "start_time": "2022-02-20T08:35:00.348Z"
   },
   {
    "duration": 16,
    "start_time": "2022-02-20T08:35:02.369Z"
   },
   {
    "duration": 10,
    "start_time": "2022-02-20T08:35:05.721Z"
   },
   {
    "duration": 8,
    "start_time": "2022-02-20T08:36:08.137Z"
   },
   {
    "duration": 24,
    "start_time": "2022-02-20T08:36:23.909Z"
   },
   {
    "duration": 16,
    "start_time": "2022-02-20T08:36:45.649Z"
   },
   {
    "duration": 17,
    "start_time": "2022-02-20T08:37:03.899Z"
   },
   {
    "duration": 23,
    "start_time": "2022-02-20T08:37:49.789Z"
   },
   {
    "duration": 15,
    "start_time": "2022-02-20T08:38:11.217Z"
   },
   {
    "duration": 8,
    "start_time": "2022-02-20T08:38:33.636Z"
   },
   {
    "duration": 77,
    "start_time": "2022-02-20T08:38:56.408Z"
   },
   {
    "duration": 8,
    "start_time": "2022-02-20T08:39:11.230Z"
   },
   {
    "duration": 19,
    "start_time": "2022-02-20T08:40:37.168Z"
   },
   {
    "duration": 16,
    "start_time": "2022-02-20T08:40:39.918Z"
   },
   {
    "duration": 18,
    "start_time": "2022-02-20T08:40:42.659Z"
   },
   {
    "duration": 24,
    "start_time": "2022-02-20T08:40:45.739Z"
   },
   {
    "duration": 10,
    "start_time": "2022-02-20T08:41:35.186Z"
   },
   {
    "duration": 9,
    "start_time": "2022-02-20T08:42:25.625Z"
   },
   {
    "duration": 9,
    "start_time": "2022-02-20T08:46:07.207Z"
   },
   {
    "duration": 8,
    "start_time": "2022-02-20T08:47:05.077Z"
   },
   {
    "duration": 8,
    "start_time": "2022-02-20T08:48:51.536Z"
   },
   {
    "duration": 6,
    "start_time": "2022-02-20T08:50:34.035Z"
   },
   {
    "duration": 7,
    "start_time": "2022-02-20T08:50:42.538Z"
   },
   {
    "duration": 5,
    "start_time": "2022-02-20T08:51:54.738Z"
   },
   {
    "duration": 6,
    "start_time": "2022-02-20T08:51:56.867Z"
   },
   {
    "duration": 5,
    "start_time": "2022-02-20T08:52:15.505Z"
   },
   {
    "duration": 7,
    "start_time": "2022-02-20T08:52:17.557Z"
   },
   {
    "duration": 48,
    "start_time": "2022-02-20T08:52:25.276Z"
   },
   {
    "duration": 24,
    "start_time": "2022-02-20T08:52:33.522Z"
   },
   {
    "duration": 6,
    "start_time": "2022-02-20T08:52:44.291Z"
   },
   {
    "duration": 6,
    "start_time": "2022-02-20T08:52:50.607Z"
   },
   {
    "duration": 6,
    "start_time": "2022-02-20T08:53:31.385Z"
   },
   {
    "duration": 287,
    "start_time": "2022-02-20T08:54:05.897Z"
   },
   {
    "duration": 268,
    "start_time": "2022-02-20T08:54:22.838Z"
   },
   {
    "duration": 8,
    "start_time": "2022-02-20T08:56:06.740Z"
   },
   {
    "duration": 7,
    "start_time": "2022-02-20T08:56:08.956Z"
   },
   {
    "duration": 4,
    "start_time": "2022-02-20T08:56:24.949Z"
   },
   {
    "duration": 7,
    "start_time": "2022-02-20T08:56:27.126Z"
   },
   {
    "duration": 7,
    "start_time": "2022-02-20T08:56:54.657Z"
   },
   {
    "duration": 18,
    "start_time": "2022-02-20T09:33:45.516Z"
   },
   {
    "duration": 19,
    "start_time": "2022-02-20T09:34:06.366Z"
   },
   {
    "duration": 286,
    "start_time": "2022-02-20T09:34:44.708Z"
   },
   {
    "duration": 8377,
    "start_time": "2022-02-20T09:35:13.328Z"
   },
   {
    "duration": 19,
    "start_time": "2022-02-20T09:36:51.768Z"
   },
   {
    "duration": 8,
    "start_time": "2022-02-20T09:37:08.080Z"
   },
   {
    "duration": 782,
    "start_time": "2022-02-20T09:38:32.234Z"
   },
   {
    "duration": 13,
    "start_time": "2022-02-20T09:38:33.018Z"
   },
   {
    "duration": 36,
    "start_time": "2022-02-20T09:38:33.034Z"
   },
   {
    "duration": 40,
    "start_time": "2022-02-20T09:38:33.072Z"
   },
   {
    "duration": 7,
    "start_time": "2022-02-20T09:38:33.114Z"
   },
   {
    "duration": 534,
    "start_time": "2022-02-20T09:38:33.123Z"
   },
   {
    "duration": -818,
    "start_time": "2022-02-20T09:38:34.478Z"
   },
   {
    "duration": -832,
    "start_time": "2022-02-20T09:38:34.493Z"
   },
   {
    "duration": -863,
    "start_time": "2022-02-20T09:38:34.525Z"
   },
   {
    "duration": -877,
    "start_time": "2022-02-20T09:38:34.540Z"
   },
   {
    "duration": -882,
    "start_time": "2022-02-20T09:38:34.546Z"
   },
   {
    "duration": -884,
    "start_time": "2022-02-20T09:38:34.551Z"
   },
   {
    "duration": -953,
    "start_time": "2022-02-20T09:38:34.622Z"
   },
   {
    "duration": -978,
    "start_time": "2022-02-20T09:38:34.648Z"
   },
   {
    "duration": -982,
    "start_time": "2022-02-20T09:38:34.654Z"
   },
   {
    "duration": -1016,
    "start_time": "2022-02-20T09:38:34.689Z"
   },
   {
    "duration": 5,
    "start_time": "2022-02-20T09:39:11.567Z"
   },
   {
    "duration": 13,
    "start_time": "2022-02-20T09:39:16.382Z"
   },
   {
    "duration": 12,
    "start_time": "2022-02-20T09:39:21.715Z"
   },
   {
    "duration": 39,
    "start_time": "2022-02-20T09:39:30.096Z"
   },
   {
    "duration": 7,
    "start_time": "2022-02-20T09:39:33.304Z"
   },
   {
    "duration": 5,
    "start_time": "2022-02-20T09:39:35.295Z"
   },
   {
    "duration": 7,
    "start_time": "2022-02-20T09:39:40.755Z"
   },
   {
    "duration": 20,
    "start_time": "2022-02-20T09:39:57.915Z"
   },
   {
    "duration": 23,
    "start_time": "2022-02-20T09:40:24.286Z"
   },
   {
    "duration": 12,
    "start_time": "2022-02-20T09:40:38.549Z"
   },
   {
    "duration": 10,
    "start_time": "2022-02-20T09:40:46.896Z"
   },
   {
    "duration": 23,
    "start_time": "2022-02-20T09:40:56.204Z"
   },
   {
    "duration": 29,
    "start_time": "2022-02-20T09:41:39.246Z"
   },
   {
    "duration": 37,
    "start_time": "2022-02-20T09:43:42.549Z"
   },
   {
    "duration": 28,
    "start_time": "2022-02-20T09:47:27.916Z"
   },
   {
    "duration": 12,
    "start_time": "2022-02-20T09:48:05.038Z"
   },
   {
    "duration": 313,
    "start_time": "2022-02-20T09:48:19.035Z"
   },
   {
    "duration": 47,
    "start_time": "2022-02-20T09:48:26.527Z"
   },
   {
    "duration": 21,
    "start_time": "2022-02-20T09:48:51.510Z"
   },
   {
    "duration": 21,
    "start_time": "2022-02-20T09:48:58.156Z"
   },
   {
    "duration": 24,
    "start_time": "2022-02-20T09:49:10.268Z"
   },
   {
    "duration": 20,
    "start_time": "2022-02-20T09:49:19.960Z"
   },
   {
    "duration": 5,
    "start_time": "2022-02-20T09:49:24.941Z"
   },
   {
    "duration": 22,
    "start_time": "2022-02-20T09:49:28.069Z"
   },
   {
    "duration": 31,
    "start_time": "2022-02-20T09:49:45.717Z"
   },
   {
    "duration": 30,
    "start_time": "2022-02-20T09:50:53.581Z"
   },
   {
    "duration": 30,
    "start_time": "2022-02-20T09:51:16.221Z"
   },
   {
    "duration": 36,
    "start_time": "2022-02-20T09:51:30.485Z"
   },
   {
    "duration": 21,
    "start_time": "2022-02-20T09:51:39.287Z"
   },
   {
    "duration": 11,
    "start_time": "2022-02-20T09:57:39.477Z"
   },
   {
    "duration": 18,
    "start_time": "2022-02-20T09:57:41.839Z"
   },
   {
    "duration": 8,
    "start_time": "2022-02-20T09:59:19.903Z"
   },
   {
    "duration": 5,
    "start_time": "2022-02-20T10:01:15.216Z"
   },
   {
    "duration": 24,
    "start_time": "2022-02-20T10:01:35.104Z"
   },
   {
    "duration": 13,
    "start_time": "2022-02-20T10:01:46.368Z"
   },
   {
    "duration": 380,
    "start_time": "2022-02-20T10:02:58.646Z"
   },
   {
    "duration": 7,
    "start_time": "2022-02-20T10:03:05.048Z"
   },
   {
    "duration": 5,
    "start_time": "2022-02-20T10:04:07.436Z"
   },
   {
    "duration": 12,
    "start_time": "2022-02-20T10:04:15.787Z"
   },
   {
    "duration": 21,
    "start_time": "2022-02-20T10:09:40.357Z"
   },
   {
    "duration": 14,
    "start_time": "2022-02-20T10:09:43.695Z"
   },
   {
    "duration": 9,
    "start_time": "2022-02-20T10:09:50.309Z"
   },
   {
    "duration": 20,
    "start_time": "2022-02-20T10:11:13.047Z"
   },
   {
    "duration": 19,
    "start_time": "2022-02-20T10:11:35.505Z"
   },
   {
    "duration": 17,
    "start_time": "2022-02-20T10:11:52.336Z"
   },
   {
    "duration": 18,
    "start_time": "2022-02-20T10:12:03.066Z"
   },
   {
    "duration": 38,
    "start_time": "2022-02-20T10:13:41.849Z"
   },
   {
    "duration": 20,
    "start_time": "2022-02-20T10:14:05.957Z"
   },
   {
    "duration": 19,
    "start_time": "2022-02-20T10:14:08.596Z"
   },
   {
    "duration": 38,
    "start_time": "2022-02-20T10:14:53.967Z"
   },
   {
    "duration": 19,
    "start_time": "2022-02-20T10:15:46.945Z"
   },
   {
    "duration": 38,
    "start_time": "2022-02-20T10:15:55.455Z"
   },
   {
    "duration": 23,
    "start_time": "2022-02-20T10:16:05.286Z"
   },
   {
    "duration": 25,
    "start_time": "2022-02-20T10:16:07.569Z"
   },
   {
    "duration": 21,
    "start_time": "2022-02-20T10:18:30.215Z"
   },
   {
    "duration": 710,
    "start_time": "2022-02-20T10:21:07.407Z"
   },
   {
    "duration": 16,
    "start_time": "2022-02-20T10:21:14.876Z"
   },
   {
    "duration": 30,
    "start_time": "2022-02-20T10:21:32.367Z"
   },
   {
    "duration": 14,
    "start_time": "2022-02-20T10:23:26.204Z"
   },
   {
    "duration": 25,
    "start_time": "2022-02-20T10:23:49.932Z"
   },
   {
    "duration": 23,
    "start_time": "2022-02-20T10:23:54.965Z"
   },
   {
    "duration": 10,
    "start_time": "2022-02-20T10:25:04.356Z"
   },
   {
    "duration": 17,
    "start_time": "2022-02-20T10:25:15.406Z"
   },
   {
    "duration": 55,
    "start_time": "2022-02-20T10:25:31.296Z"
   },
   {
    "duration": 5,
    "start_time": "2022-02-20T10:25:39.536Z"
   },
   {
    "duration": 8,
    "start_time": "2022-02-20T10:25:48.353Z"
   },
   {
    "duration": 4,
    "start_time": "2022-02-20T10:25:53.433Z"
   },
   {
    "duration": 4,
    "start_time": "2022-02-20T10:25:58.066Z"
   },
   {
    "duration": 33,
    "start_time": "2022-02-20T10:26:02.345Z"
   },
   {
    "duration": 14,
    "start_time": "2022-02-20T10:26:06.595Z"
   },
   {
    "duration": 18,
    "start_time": "2022-02-20T10:26:13.176Z"
   },
   {
    "duration": 15,
    "start_time": "2022-02-20T10:26:16.444Z"
   },
   {
    "duration": 6,
    "start_time": "2022-02-20T10:27:37.416Z"
   },
   {
    "duration": 16,
    "start_time": "2022-02-20T10:27:42.246Z"
   },
   {
    "duration": 16,
    "start_time": "2022-02-20T10:27:56.446Z"
   },
   {
    "duration": 6,
    "start_time": "2022-02-20T10:28:18.537Z"
   },
   {
    "duration": 28,
    "start_time": "2022-02-20T10:28:30.564Z"
   },
   {
    "duration": 25,
    "start_time": "2022-02-20T10:28:40.897Z"
   },
   {
    "duration": 19,
    "start_time": "2022-02-20T10:28:43.166Z"
   },
   {
    "duration": 688,
    "start_time": "2022-02-20T10:29:25.419Z"
   },
   {
    "duration": 12,
    "start_time": "2022-02-20T10:29:26.110Z"
   },
   {
    "duration": 29,
    "start_time": "2022-02-20T10:29:26.125Z"
   },
   {
    "duration": 10,
    "start_time": "2022-02-20T10:29:26.157Z"
   },
   {
    "duration": 5,
    "start_time": "2022-02-20T10:29:26.169Z"
   },
   {
    "duration": 31,
    "start_time": "2022-02-20T10:29:26.176Z"
   },
   {
    "duration": 12,
    "start_time": "2022-02-20T10:29:26.210Z"
   },
   {
    "duration": 12,
    "start_time": "2022-02-20T10:29:26.224Z"
   },
   {
    "duration": 24,
    "start_time": "2022-02-20T10:29:26.238Z"
   },
   {
    "duration": 76,
    "start_time": "2022-02-20T10:29:26.264Z"
   },
   {
    "duration": 7,
    "start_time": "2022-02-20T10:29:26.342Z"
   },
   {
    "duration": 25,
    "start_time": "2022-02-20T10:29:26.352Z"
   },
   {
    "duration": 8,
    "start_time": "2022-02-20T10:29:26.379Z"
   },
   {
    "duration": 4,
    "start_time": "2022-02-20T10:29:26.408Z"
   },
   {
    "duration": 13,
    "start_time": "2022-02-20T10:29:26.414Z"
   },
   {
    "duration": 9,
    "start_time": "2022-02-20T10:29:26.429Z"
   },
   {
    "duration": 17,
    "start_time": "2022-02-20T10:29:26.440Z"
   },
   {
    "duration": 17,
    "start_time": "2022-02-20T10:29:34.458Z"
   },
   {
    "duration": 20,
    "start_time": "2022-02-20T10:29:58.948Z"
   },
   {
    "duration": 20,
    "start_time": "2022-02-20T10:30:01.599Z"
   },
   {
    "duration": 23,
    "start_time": "2022-02-20T10:30:04.356Z"
   },
   {
    "duration": 13,
    "start_time": "2022-02-20T10:30:08.728Z"
   },
   {
    "duration": 19,
    "start_time": "2022-02-20T10:30:17.059Z"
   },
   {
    "duration": 50,
    "start_time": "2022-02-20T10:33:04.150Z"
   },
   {
    "duration": 11,
    "start_time": "2022-02-20T10:33:04.203Z"
   },
   {
    "duration": 33,
    "start_time": "2022-02-20T10:33:04.217Z"
   },
   {
    "duration": 20,
    "start_time": "2022-02-20T10:33:04.253Z"
   },
   {
    "duration": 6,
    "start_time": "2022-02-20T10:33:04.275Z"
   },
   {
    "duration": 6,
    "start_time": "2022-02-20T10:33:04.283Z"
   },
   {
    "duration": 25,
    "start_time": "2022-02-20T10:33:04.291Z"
   },
   {
    "duration": 11,
    "start_time": "2022-02-20T10:33:04.318Z"
   },
   {
    "duration": 23,
    "start_time": "2022-02-20T10:33:04.332Z"
   },
   {
    "duration": 70,
    "start_time": "2022-02-20T10:33:04.357Z"
   },
   {
    "duration": 8,
    "start_time": "2022-02-20T10:33:04.429Z"
   },
   {
    "duration": 29,
    "start_time": "2022-02-20T10:33:04.439Z"
   },
   {
    "duration": 8,
    "start_time": "2022-02-20T10:33:04.470Z"
   },
   {
    "duration": 5,
    "start_time": "2022-02-20T10:33:04.508Z"
   },
   {
    "duration": 11,
    "start_time": "2022-02-20T10:33:04.515Z"
   },
   {
    "duration": 12,
    "start_time": "2022-02-20T10:33:04.528Z"
   },
   {
    "duration": 18,
    "start_time": "2022-02-20T10:33:04.543Z"
   },
   {
    "duration": 34,
    "start_time": "2022-02-20T10:33:04.564Z"
   },
   {
    "duration": 20,
    "start_time": "2022-02-20T10:33:04.608Z"
   },
   {
    "duration": 10,
    "start_time": "2022-02-20T10:33:04.632Z"
   },
   {
    "duration": 21,
    "start_time": "2022-02-20T10:33:04.644Z"
   },
   {
    "duration": 46,
    "start_time": "2022-02-20T10:33:04.667Z"
   },
   {
    "duration": 14,
    "start_time": "2022-02-20T10:33:04.716Z"
   },
   {
    "duration": 9,
    "start_time": "2022-02-20T10:33:04.732Z"
   },
   {
    "duration": 26,
    "start_time": "2022-02-20T10:33:04.743Z"
   },
   {
    "duration": 43,
    "start_time": "2022-02-20T10:33:04.770Z"
   },
   {
    "duration": 20,
    "start_time": "2022-02-20T10:33:25.179Z"
   },
   {
    "duration": 6,
    "start_time": "2022-02-20T10:33:41.930Z"
   },
   {
    "duration": 18,
    "start_time": "2022-02-20T10:33:44.408Z"
   },
   {
    "duration": 6,
    "start_time": "2022-02-20T10:33:51.460Z"
   },
   {
    "duration": 18,
    "start_time": "2022-02-20T10:33:53.988Z"
   },
   {
    "duration": 5,
    "start_time": "2022-02-20T10:34:00.041Z"
   },
   {
    "duration": 15,
    "start_time": "2022-02-20T10:34:04.040Z"
   },
   {
    "duration": 18,
    "start_time": "2022-02-20T10:34:09.879Z"
   },
   {
    "duration": 15,
    "start_time": "2022-02-20T10:35:58.070Z"
   },
   {
    "duration": 17,
    "start_time": "2022-02-20T10:37:16.837Z"
   },
   {
    "duration": 26,
    "start_time": "2022-02-20T10:37:20.747Z"
   },
   {
    "duration": 22,
    "start_time": "2022-02-20T10:37:54.002Z"
   },
   {
    "duration": 29,
    "start_time": "2022-02-20T10:39:20.938Z"
   },
   {
    "duration": 11,
    "start_time": "2022-02-20T10:48:17.749Z"
   },
   {
    "duration": 10,
    "start_time": "2022-02-20T10:49:11.740Z"
   },
   {
    "duration": 9,
    "start_time": "2022-02-20T10:49:26.729Z"
   },
   {
    "duration": 16,
    "start_time": "2022-02-20T10:49:49.910Z"
   },
   {
    "duration": 29,
    "start_time": "2022-02-20T10:50:39.838Z"
   },
   {
    "duration": 17,
    "start_time": "2022-02-20T10:51:15.619Z"
   },
   {
    "duration": 4,
    "start_time": "2022-02-20T10:55:50.283Z"
   },
   {
    "duration": 4,
    "start_time": "2022-02-20T10:59:05.601Z"
   },
   {
    "duration": 672,
    "start_time": "2022-02-20T10:59:14.749Z"
   },
   {
    "duration": 4,
    "start_time": "2022-02-20T11:00:22.762Z"
   },
   {
    "duration": 12,
    "start_time": "2022-02-20T11:00:24.790Z"
   },
   {
    "duration": 26,
    "start_time": "2022-02-20T11:00:57.510Z"
   },
   {
    "duration": 9,
    "start_time": "2022-02-20T11:01:07.909Z"
   },
   {
    "duration": 25,
    "start_time": "2022-02-20T11:01:11.731Z"
   },
   {
    "duration": 91,
    "start_time": "2022-02-20T11:02:35.610Z"
   },
   {
    "duration": 10,
    "start_time": "2022-02-20T11:03:41.960Z"
   },
   {
    "duration": 12,
    "start_time": "2022-02-20T11:03:52.829Z"
   },
   {
    "duration": 11,
    "start_time": "2022-02-20T11:04:12.647Z"
   },
   {
    "duration": 96,
    "start_time": "2022-02-20T11:04:15.918Z"
   },
   {
    "duration": 4,
    "start_time": "2022-02-20T11:06:24.709Z"
   },
   {
    "duration": 5,
    "start_time": "2022-02-20T11:07:16.626Z"
   },
   {
    "duration": 27,
    "start_time": "2022-02-20T11:07:21.856Z"
   },
   {
    "duration": 10,
    "start_time": "2022-02-20T11:09:45.868Z"
   },
   {
    "duration": 9,
    "start_time": "2022-02-20T11:09:54.970Z"
   },
   {
    "duration": 343,
    "start_time": "2022-02-20T11:10:13.047Z"
   },
   {
    "duration": 9,
    "start_time": "2022-02-20T11:10:36.307Z"
   },
   {
    "duration": 10,
    "start_time": "2022-02-20T11:10:38.368Z"
   },
   {
    "duration": 10,
    "start_time": "2022-02-20T11:10:40.438Z"
   },
   {
    "duration": 4,
    "start_time": "2022-02-20T11:11:41.949Z"
   },
   {
    "duration": 10,
    "start_time": "2022-02-20T11:12:45.158Z"
   },
   {
    "duration": 5,
    "start_time": "2022-02-20T11:12:52.248Z"
   },
   {
    "duration": 12,
    "start_time": "2022-02-20T11:13:26.669Z"
   },
   {
    "duration": 11,
    "start_time": "2022-02-20T11:14:00.378Z"
   },
   {
    "duration": 6,
    "start_time": "2022-02-20T11:17:49.788Z"
   },
   {
    "duration": 21,
    "start_time": "2022-02-20T11:17:52.959Z"
   },
   {
    "duration": 27,
    "start_time": "2022-02-20T11:18:01.568Z"
   },
   {
    "duration": 5,
    "start_time": "2022-02-20T11:18:16.771Z"
   },
   {
    "duration": 26,
    "start_time": "2022-02-20T11:18:20.198Z"
   },
   {
    "duration": 4,
    "start_time": "2022-02-20T11:18:46.805Z"
   },
   {
    "duration": 27,
    "start_time": "2022-02-20T11:19:05.928Z"
   },
   {
    "duration": 34,
    "start_time": "2022-02-20T11:19:18.167Z"
   },
   {
    "duration": 26,
    "start_time": "2022-02-20T11:19:29.528Z"
   },
   {
    "duration": 4,
    "start_time": "2022-02-20T11:19:57.589Z"
   },
   {
    "duration": 5,
    "start_time": "2022-02-20T11:20:07.168Z"
   },
   {
    "duration": 27,
    "start_time": "2022-02-20T11:20:11.397Z"
   },
   {
    "duration": 24,
    "start_time": "2022-02-20T11:20:26.171Z"
   },
   {
    "duration": 28,
    "start_time": "2022-02-20T11:20:29.206Z"
   },
   {
    "duration": 19,
    "start_time": "2022-02-20T11:20:31.365Z"
   },
   {
    "duration": 702,
    "start_time": "2022-02-20T12:15:17.125Z"
   },
   {
    "duration": 15,
    "start_time": "2022-02-20T12:15:17.829Z"
   },
   {
    "duration": 30,
    "start_time": "2022-02-20T12:15:17.846Z"
   },
   {
    "duration": 29,
    "start_time": "2022-02-20T12:15:17.879Z"
   },
   {
    "duration": 6,
    "start_time": "2022-02-20T12:15:17.911Z"
   },
   {
    "duration": 6,
    "start_time": "2022-02-20T12:15:17.920Z"
   },
   {
    "duration": 14,
    "start_time": "2022-02-20T12:15:17.928Z"
   },
   {
    "duration": 11,
    "start_time": "2022-02-20T12:15:17.944Z"
   },
   {
    "duration": 54,
    "start_time": "2022-02-20T12:15:17.958Z"
   },
   {
    "duration": 39,
    "start_time": "2022-02-20T12:15:18.016Z"
   },
   {
    "duration": 7,
    "start_time": "2022-02-20T12:15:18.057Z"
   },
   {
    "duration": 43,
    "start_time": "2022-02-20T12:15:18.066Z"
   },
   {
    "duration": 7,
    "start_time": "2022-02-20T12:15:18.111Z"
   },
   {
    "duration": 7,
    "start_time": "2022-02-20T12:15:18.120Z"
   },
   {
    "duration": 9,
    "start_time": "2022-02-20T12:15:18.129Z"
   },
   {
    "duration": 6,
    "start_time": "2022-02-20T12:15:18.140Z"
   },
   {
    "duration": 17,
    "start_time": "2022-02-20T12:15:18.148Z"
   },
   {
    "duration": 51,
    "start_time": "2022-02-20T12:15:18.167Z"
   },
   {
    "duration": 13,
    "start_time": "2022-02-20T12:15:18.219Z"
   },
   {
    "duration": 13,
    "start_time": "2022-02-20T12:15:18.234Z"
   },
   {
    "duration": 22,
    "start_time": "2022-02-20T12:15:18.249Z"
   },
   {
    "duration": 40,
    "start_time": "2022-02-20T12:15:18.273Z"
   },
   {
    "duration": 13,
    "start_time": "2022-02-20T12:15:18.316Z"
   },
   {
    "duration": 9,
    "start_time": "2022-02-20T12:15:18.331Z"
   },
   {
    "duration": 28,
    "start_time": "2022-02-20T12:15:18.342Z"
   },
   {
    "duration": 39,
    "start_time": "2022-02-20T12:15:18.372Z"
   },
   {
    "duration": 15,
    "start_time": "2022-02-20T12:15:18.414Z"
   },
   {
    "duration": 27,
    "start_time": "2022-02-20T12:15:18.431Z"
   },
   {
    "duration": 3,
    "start_time": "2022-02-20T12:15:18.461Z"
   },
   {
    "duration": 49,
    "start_time": "2022-02-20T12:15:18.466Z"
   },
   {
    "duration": 9,
    "start_time": "2022-02-20T12:15:18.517Z"
   },
   {
    "duration": 25,
    "start_time": "2022-02-20T12:15:18.528Z"
   },
   {
    "duration": 20,
    "start_time": "2022-02-20T12:15:18.556Z"
   },
   {
    "duration": 19,
    "start_time": "2022-02-20T12:15:25.897Z"
   },
   {
    "duration": 27,
    "start_time": "2022-02-20T12:15:44.231Z"
   },
   {
    "duration": 7848,
    "start_time": "2022-02-20T12:22:12.879Z"
   },
   {
    "duration": 13,
    "start_time": "2022-02-20T12:22:32.505Z"
   },
   {
    "duration": 5,
    "start_time": "2022-02-20T12:22:42.952Z"
   },
   {
    "duration": 5,
    "start_time": "2022-02-20T12:22:45.065Z"
   },
   {
    "duration": 12,
    "start_time": "2022-02-20T12:24:33.928Z"
   },
   {
    "duration": 12,
    "start_time": "2022-02-20T12:24:39.438Z"
   },
   {
    "duration": 91,
    "start_time": "2022-02-20T12:28:22.751Z"
   },
   {
    "duration": 276,
    "start_time": "2022-02-20T12:28:35.241Z"
   },
   {
    "duration": 6,
    "start_time": "2022-02-20T12:29:00.581Z"
   },
   {
    "duration": 21,
    "start_time": "2022-02-20T12:29:03.758Z"
   },
   {
    "duration": 3,
    "start_time": "2022-02-20T12:34:11.830Z"
   },
   {
    "duration": 3,
    "start_time": "2022-02-20T12:41:01.007Z"
   },
   {
    "duration": 4,
    "start_time": "2022-02-20T12:44:38.924Z"
   },
   {
    "duration": 11,
    "start_time": "2022-02-20T12:44:57.538Z"
   },
   {
    "duration": 691,
    "start_time": "2022-02-20T12:45:31.359Z"
   },
   {
    "duration": 15,
    "start_time": "2022-02-20T12:45:32.052Z"
   },
   {
    "duration": 45,
    "start_time": "2022-02-20T12:45:32.070Z"
   },
   {
    "duration": 22,
    "start_time": "2022-02-20T12:45:32.118Z"
   },
   {
    "duration": 7,
    "start_time": "2022-02-20T12:45:32.142Z"
   },
   {
    "duration": 16,
    "start_time": "2022-02-20T12:45:32.151Z"
   },
   {
    "duration": 17,
    "start_time": "2022-02-20T12:45:32.170Z"
   },
   {
    "duration": 22,
    "start_time": "2022-02-20T12:45:32.190Z"
   },
   {
    "duration": 36,
    "start_time": "2022-02-20T12:45:32.215Z"
   },
   {
    "duration": 36,
    "start_time": "2022-02-20T12:45:32.253Z"
   },
   {
    "duration": 22,
    "start_time": "2022-02-20T12:45:32.291Z"
   },
   {
    "duration": 19,
    "start_time": "2022-02-20T12:45:32.315Z"
   },
   {
    "duration": 7,
    "start_time": "2022-02-20T12:45:32.336Z"
   },
   {
    "duration": 13,
    "start_time": "2022-02-20T12:45:32.346Z"
   },
   {
    "duration": 30,
    "start_time": "2022-02-20T12:45:32.361Z"
   },
   {
    "duration": 17,
    "start_time": "2022-02-20T12:45:32.393Z"
   },
   {
    "duration": 45,
    "start_time": "2022-02-20T12:45:32.412Z"
   },
   {
    "duration": 51,
    "start_time": "2022-02-20T12:45:32.459Z"
   },
   {
    "duration": 20,
    "start_time": "2022-02-20T12:45:32.512Z"
   },
   {
    "duration": 40,
    "start_time": "2022-02-20T12:45:32.534Z"
   },
   {
    "duration": 48,
    "start_time": "2022-02-20T12:45:32.576Z"
   },
   {
    "duration": 23,
    "start_time": "2022-02-20T12:45:32.626Z"
   },
   {
    "duration": 16,
    "start_time": "2022-02-20T12:45:32.651Z"
   },
   {
    "duration": 39,
    "start_time": "2022-02-20T12:45:32.670Z"
   },
   {
    "duration": 45,
    "start_time": "2022-02-20T12:45:32.711Z"
   },
   {
    "duration": 35,
    "start_time": "2022-02-20T12:45:32.759Z"
   },
   {
    "duration": 3,
    "start_time": "2022-02-20T12:45:32.798Z"
   },
   {
    "duration": 34,
    "start_time": "2022-02-20T12:45:32.803Z"
   },
   {
    "duration": 17,
    "start_time": "2022-02-20T12:45:39.384Z"
   },
   {
    "duration": 19,
    "start_time": "2022-02-20T12:45:59.118Z"
   },
   {
    "duration": 4,
    "start_time": "2022-02-20T12:46:38.300Z"
   },
   {
    "duration": 11,
    "start_time": "2022-02-20T12:46:41.109Z"
   },
   {
    "duration": 19,
    "start_time": "2022-02-20T12:46:45.119Z"
   },
   {
    "duration": 51,
    "start_time": "2022-02-20T12:47:02.171Z"
   },
   {
    "duration": 13,
    "start_time": "2022-02-20T12:47:02.224Z"
   },
   {
    "duration": 45,
    "start_time": "2022-02-20T12:47:02.239Z"
   },
   {
    "duration": 11,
    "start_time": "2022-02-20T12:47:02.287Z"
   },
   {
    "duration": 23,
    "start_time": "2022-02-20T12:47:02.299Z"
   },
   {
    "duration": 32,
    "start_time": "2022-02-20T12:47:02.325Z"
   },
   {
    "duration": 34,
    "start_time": "2022-02-20T12:47:02.359Z"
   },
   {
    "duration": 38,
    "start_time": "2022-02-20T12:47:02.395Z"
   },
   {
    "duration": 43,
    "start_time": "2022-02-20T12:47:02.438Z"
   },
   {
    "duration": 62,
    "start_time": "2022-02-20T12:47:02.485Z"
   },
   {
    "duration": 7,
    "start_time": "2022-02-20T12:47:02.549Z"
   },
   {
    "duration": 38,
    "start_time": "2022-02-20T12:47:02.558Z"
   },
   {
    "duration": 15,
    "start_time": "2022-02-20T12:47:02.598Z"
   },
   {
    "duration": 17,
    "start_time": "2022-02-20T12:47:02.615Z"
   },
   {
    "duration": 26,
    "start_time": "2022-02-20T12:47:02.634Z"
   },
   {
    "duration": 17,
    "start_time": "2022-02-20T12:47:02.662Z"
   },
   {
    "duration": 39,
    "start_time": "2022-02-20T12:47:02.682Z"
   },
   {
    "duration": 33,
    "start_time": "2022-02-20T12:47:02.724Z"
   },
   {
    "duration": 22,
    "start_time": "2022-02-20T12:47:02.759Z"
   },
   {
    "duration": 42,
    "start_time": "2022-02-20T12:47:02.783Z"
   },
   {
    "duration": 47,
    "start_time": "2022-02-20T12:47:02.827Z"
   },
   {
    "duration": 25,
    "start_time": "2022-02-20T12:47:02.876Z"
   },
   {
    "duration": 32,
    "start_time": "2022-02-20T12:47:02.903Z"
   },
   {
    "duration": 17,
    "start_time": "2022-02-20T12:47:02.938Z"
   },
   {
    "duration": 41,
    "start_time": "2022-02-20T12:47:02.957Z"
   },
   {
    "duration": 36,
    "start_time": "2022-02-20T12:47:03.000Z"
   },
   {
    "duration": 2,
    "start_time": "2022-02-20T12:47:03.040Z"
   },
   {
    "duration": 730,
    "start_time": "2022-02-20T12:47:27.512Z"
   },
   {
    "duration": 15,
    "start_time": "2022-02-20T12:47:28.244Z"
   },
   {
    "duration": 50,
    "start_time": "2022-02-20T12:47:28.262Z"
   },
   {
    "duration": 12,
    "start_time": "2022-02-20T12:47:28.314Z"
   },
   {
    "duration": 7,
    "start_time": "2022-02-20T12:47:28.327Z"
   },
   {
    "duration": 9,
    "start_time": "2022-02-20T12:47:28.336Z"
   },
   {
    "duration": 13,
    "start_time": "2022-02-20T12:47:28.347Z"
   },
   {
    "duration": 12,
    "start_time": "2022-02-20T12:47:28.363Z"
   },
   {
    "duration": 23,
    "start_time": "2022-02-20T12:47:28.410Z"
   },
   {
    "duration": 43,
    "start_time": "2022-02-20T12:47:28.437Z"
   },
   {
    "duration": 29,
    "start_time": "2022-02-20T12:47:28.483Z"
   },
   {
    "duration": 20,
    "start_time": "2022-02-20T12:47:28.515Z"
   },
   {
    "duration": 9,
    "start_time": "2022-02-20T12:47:28.537Z"
   },
   {
    "duration": 7,
    "start_time": "2022-02-20T12:47:28.547Z"
   },
   {
    "duration": 11,
    "start_time": "2022-02-20T12:47:28.555Z"
   },
   {
    "duration": 38,
    "start_time": "2022-02-20T12:47:28.569Z"
   },
   {
    "duration": 13,
    "start_time": "2022-02-20T12:47:28.610Z"
   },
   {
    "duration": 21,
    "start_time": "2022-02-20T12:47:28.625Z"
   },
   {
    "duration": 13,
    "start_time": "2022-02-20T12:47:28.648Z"
   },
   {
    "duration": 22,
    "start_time": "2022-02-20T12:47:28.663Z"
   },
   {
    "duration": 40,
    "start_time": "2022-02-20T12:47:28.686Z"
   },
   {
    "duration": 19,
    "start_time": "2022-02-20T12:47:28.728Z"
   },
   {
    "duration": 16,
    "start_time": "2022-02-20T12:47:28.749Z"
   },
   {
    "duration": 41,
    "start_time": "2022-02-20T12:47:28.767Z"
   },
   {
    "duration": 17,
    "start_time": "2022-02-20T12:47:28.810Z"
   },
   {
    "duration": 28,
    "start_time": "2022-02-20T12:47:28.829Z"
   },
   {
    "duration": 2,
    "start_time": "2022-02-20T12:47:28.861Z"
   },
   {
    "duration": 17,
    "start_time": "2022-02-20T12:47:28.866Z"
   },
   {
    "duration": 32,
    "start_time": "2022-02-20T12:47:28.885Z"
   },
   {
    "duration": 25,
    "start_time": "2022-02-20T12:47:51.011Z"
   },
   {
    "duration": 13,
    "start_time": "2022-02-20T12:48:21.544Z"
   },
   {
    "duration": 31,
    "start_time": "2022-02-20T12:48:21.560Z"
   },
   {
    "duration": 17,
    "start_time": "2022-02-20T12:48:21.594Z"
   },
   {
    "duration": 29,
    "start_time": "2022-02-20T12:48:21.613Z"
   },
   {
    "duration": 2,
    "start_time": "2022-02-20T12:48:21.644Z"
   },
   {
    "duration": 17,
    "start_time": "2022-02-20T12:48:21.648Z"
   },
   {
    "duration": 4,
    "start_time": "2022-02-20T12:48:21.667Z"
   },
   {
    "duration": 50,
    "start_time": "2022-02-20T12:48:21.673Z"
   },
   {
    "duration": 22,
    "start_time": "2022-02-20T12:48:21.727Z"
   },
   {
    "duration": 20,
    "start_time": "2022-02-20T12:48:21.752Z"
   },
   {
    "duration": 33,
    "start_time": "2022-02-20T12:48:21.775Z"
   },
   {
    "duration": 11,
    "start_time": "2022-02-20T12:48:21.849Z"
   },
   {
    "duration": 10,
    "start_time": "2022-02-20T12:48:21.862Z"
   },
   {
    "duration": 16,
    "start_time": "2022-02-20T12:48:21.878Z"
   },
   {
    "duration": 11,
    "start_time": "2022-02-20T12:48:21.896Z"
   },
   {
    "duration": 19,
    "start_time": "2022-02-20T12:48:21.917Z"
   },
   {
    "duration": 4,
    "start_time": "2022-02-20T12:58:25.031Z"
   },
   {
    "duration": 845,
    "start_time": "2022-02-20T13:01:23.678Z"
   },
   {
    "duration": 15,
    "start_time": "2022-02-20T13:01:24.525Z"
   },
   {
    "duration": 31,
    "start_time": "2022-02-20T13:01:24.542Z"
   },
   {
    "duration": 36,
    "start_time": "2022-02-20T13:01:24.576Z"
   },
   {
    "duration": 6,
    "start_time": "2022-02-20T13:01:24.614Z"
   },
   {
    "duration": 13,
    "start_time": "2022-02-20T13:01:24.622Z"
   },
   {
    "duration": 19,
    "start_time": "2022-02-20T13:01:24.637Z"
   },
   {
    "duration": 11,
    "start_time": "2022-02-20T13:01:24.658Z"
   },
   {
    "duration": 45,
    "start_time": "2022-02-20T13:01:24.671Z"
   },
   {
    "duration": 39,
    "start_time": "2022-02-20T13:01:24.719Z"
   },
   {
    "duration": 8,
    "start_time": "2022-02-20T13:01:24.760Z"
   },
   {
    "duration": 41,
    "start_time": "2022-02-20T13:01:24.770Z"
   },
   {
    "duration": 7,
    "start_time": "2022-02-20T13:01:24.813Z"
   },
   {
    "duration": 10,
    "start_time": "2022-02-20T13:01:24.821Z"
   },
   {
    "duration": 8,
    "start_time": "2022-02-20T13:01:24.833Z"
   },
   {
    "duration": 6,
    "start_time": "2022-02-20T13:01:24.843Z"
   },
   {
    "duration": 21,
    "start_time": "2022-02-20T13:01:24.851Z"
   },
   {
    "duration": 40,
    "start_time": "2022-02-20T13:01:24.875Z"
   },
   {
    "duration": 12,
    "start_time": "2022-02-20T13:01:24.917Z"
   },
   {
    "duration": 14,
    "start_time": "2022-02-20T13:01:24.931Z"
   },
   {
    "duration": 25,
    "start_time": "2022-02-20T13:01:24.947Z"
   },
   {
    "duration": 36,
    "start_time": "2022-02-20T13:01:24.974Z"
   },
   {
    "duration": 14,
    "start_time": "2022-02-20T13:01:25.012Z"
   },
   {
    "duration": 9,
    "start_time": "2022-02-20T13:01:25.028Z"
   },
   {
    "duration": 19,
    "start_time": "2022-02-20T13:01:25.040Z"
   },
   {
    "duration": 15,
    "start_time": "2022-02-20T13:01:25.060Z"
   },
   {
    "duration": 26,
    "start_time": "2022-02-20T13:01:25.107Z"
   },
   {
    "duration": 3,
    "start_time": "2022-02-20T13:01:25.135Z"
   },
   {
    "duration": 21,
    "start_time": "2022-02-20T13:01:25.140Z"
   },
   {
    "duration": 6,
    "start_time": "2022-02-20T13:01:25.163Z"
   },
   {
    "duration": 51,
    "start_time": "2022-02-20T13:01:25.171Z"
   },
   {
    "duration": 19,
    "start_time": "2022-02-20T13:01:25.224Z"
   },
   {
    "duration": 20,
    "start_time": "2022-02-20T13:01:41.397Z"
   },
   {
    "duration": 5,
    "start_time": "2022-02-20T13:01:45.317Z"
   },
   {
    "duration": 5,
    "start_time": "2022-02-20T13:01:47.766Z"
   },
   {
    "duration": 11,
    "start_time": "2022-02-20T13:01:50.986Z"
   },
   {
    "duration": 11,
    "start_time": "2022-02-20T13:01:54.357Z"
   },
   {
    "duration": 6,
    "start_time": "2022-02-20T13:01:58.098Z"
   },
   {
    "duration": 19,
    "start_time": "2022-02-20T13:01:59.978Z"
   },
   {
    "duration": 4,
    "start_time": "2022-02-20T13:08:04.408Z"
   },
   {
    "duration": 10,
    "start_time": "2022-02-20T13:08:06.478Z"
   },
   {
    "duration": 25,
    "start_time": "2022-02-20T13:08:09.326Z"
   },
   {
    "duration": 19,
    "start_time": "2022-02-20T13:08:55.638Z"
   },
   {
    "duration": 26,
    "start_time": "2022-02-20T13:09:39.348Z"
   },
   {
    "duration": 19,
    "start_time": "2022-02-20T13:09:43.260Z"
   },
   {
    "duration": 4,
    "start_time": "2022-02-20T13:10:32.257Z"
   },
   {
    "duration": 11,
    "start_time": "2022-02-20T13:10:34.504Z"
   },
   {
    "duration": 19,
    "start_time": "2022-02-20T13:10:36.269Z"
   },
   {
    "duration": 22,
    "start_time": "2022-02-20T13:10:53.427Z"
   },
   {
    "duration": 18,
    "start_time": "2022-02-20T13:10:58.136Z"
   },
   {
    "duration": 18,
    "start_time": "2022-02-20T13:36:33.416Z"
   },
   {
    "duration": 21,
    "start_time": "2022-02-20T13:49:00.557Z"
   },
   {
    "duration": 16,
    "start_time": "2022-02-20T13:50:17.038Z"
   },
   {
    "duration": 16,
    "start_time": "2022-02-20T13:51:47.096Z"
   },
   {
    "duration": 348,
    "start_time": "2022-02-20T13:52:30.237Z"
   },
   {
    "duration": 299,
    "start_time": "2022-02-20T13:53:11.785Z"
   },
   {
    "duration": 258,
    "start_time": "2022-02-20T13:53:21.288Z"
   },
   {
    "duration": 17,
    "start_time": "2022-02-20T13:53:29.698Z"
   },
   {
    "duration": 16,
    "start_time": "2022-02-20T13:54:05.788Z"
   },
   {
    "duration": 14,
    "start_time": "2022-02-20T13:54:20.407Z"
   },
   {
    "duration": 16,
    "start_time": "2022-02-20T13:55:58.326Z"
   },
   {
    "duration": 15,
    "start_time": "2022-02-20T13:56:13.538Z"
   },
   {
    "duration": 18,
    "start_time": "2022-02-20T14:01:45.021Z"
   },
   {
    "duration": 16,
    "start_time": "2022-02-20T14:01:59.954Z"
   },
   {
    "duration": 17,
    "start_time": "2022-02-20T14:05:27.678Z"
   },
   {
    "duration": 1003,
    "start_time": "2022-02-20T14:16:24.921Z"
   },
   {
    "duration": 14,
    "start_time": "2022-02-20T14:16:25.927Z"
   },
   {
    "duration": 34,
    "start_time": "2022-02-20T14:16:25.945Z"
   },
   {
    "duration": 33,
    "start_time": "2022-02-20T14:16:25.983Z"
   },
   {
    "duration": 6,
    "start_time": "2022-02-20T14:16:26.019Z"
   },
   {
    "duration": 7,
    "start_time": "2022-02-20T14:16:26.027Z"
   },
   {
    "duration": 19,
    "start_time": "2022-02-20T14:16:26.036Z"
   },
   {
    "duration": 12,
    "start_time": "2022-02-20T14:16:26.057Z"
   },
   {
    "duration": 35,
    "start_time": "2022-02-20T14:16:26.106Z"
   },
   {
    "duration": 66,
    "start_time": "2022-02-20T14:16:26.144Z"
   },
   {
    "duration": 11,
    "start_time": "2022-02-20T14:16:26.213Z"
   },
   {
    "duration": 28,
    "start_time": "2022-02-20T14:16:26.227Z"
   },
   {
    "duration": 8,
    "start_time": "2022-02-20T14:16:26.258Z"
   },
   {
    "duration": 5,
    "start_time": "2022-02-20T14:16:26.268Z"
   },
   {
    "duration": 35,
    "start_time": "2022-02-20T14:16:26.275Z"
   },
   {
    "duration": 8,
    "start_time": "2022-02-20T14:16:26.312Z"
   },
   {
    "duration": 33,
    "start_time": "2022-02-20T14:16:26.322Z"
   },
   {
    "duration": 27,
    "start_time": "2022-02-20T14:16:26.358Z"
   },
   {
    "duration": 37,
    "start_time": "2022-02-20T14:16:26.387Z"
   },
   {
    "duration": 17,
    "start_time": "2022-02-20T14:16:26.426Z"
   },
   {
    "duration": 19,
    "start_time": "2022-02-20T14:16:26.446Z"
   },
   {
    "duration": 48,
    "start_time": "2022-02-20T14:16:26.467Z"
   },
   {
    "duration": 13,
    "start_time": "2022-02-20T14:16:26.517Z"
   },
   {
    "duration": 5,
    "start_time": "2022-02-20T14:16:26.532Z"
   },
   {
    "duration": 17,
    "start_time": "2022-02-20T14:16:26.539Z"
   },
   {
    "duration": 13,
    "start_time": "2022-02-20T14:16:26.558Z"
   },
   {
    "duration": 54,
    "start_time": "2022-02-20T14:16:26.575Z"
   },
   {
    "duration": 3,
    "start_time": "2022-02-20T14:16:26.632Z"
   },
   {
    "duration": 14,
    "start_time": "2022-02-20T14:16:26.637Z"
   },
   {
    "duration": 4,
    "start_time": "2022-02-20T14:16:26.653Z"
   },
   {
    "duration": 51,
    "start_time": "2022-02-20T14:16:26.659Z"
   },
   {
    "duration": 21,
    "start_time": "2022-02-20T14:16:26.712Z"
   },
   {
    "duration": 19,
    "start_time": "2022-02-20T14:16:26.735Z"
   },
   {
    "duration": 5,
    "start_time": "2022-02-20T14:16:26.756Z"
   },
   {
    "duration": 45,
    "start_time": "2022-02-20T14:16:26.763Z"
   },
   {
    "duration": 5,
    "start_time": "2022-02-20T14:16:26.810Z"
   },
   {
    "duration": 13,
    "start_time": "2022-02-20T14:16:26.817Z"
   },
   {
    "duration": 10,
    "start_time": "2022-02-20T14:16:26.832Z"
   },
   {
    "duration": 19,
    "start_time": "2022-02-20T14:16:26.844Z"
   },
   {
    "duration": 4,
    "start_time": "2022-02-20T14:16:26.865Z"
   },
   {
    "duration": 44,
    "start_time": "2022-02-20T14:16:26.871Z"
   },
   {
    "duration": 23,
    "start_time": "2022-02-20T14:16:26.917Z"
   },
   {
    "duration": 18,
    "start_time": "2022-02-20T14:16:26.942Z"
   },
   {
    "duration": 3,
    "start_time": "2022-02-20T14:16:26.962Z"
   },
   {
    "duration": 41,
    "start_time": "2022-02-20T14:16:26.967Z"
   },
   {
    "duration": 22,
    "start_time": "2022-02-20T14:16:27.010Z"
   },
   {
    "duration": 21,
    "start_time": "2022-02-20T14:16:27.034Z"
   },
   {
    "duration": 14,
    "start_time": "2022-02-20T14:16:27.058Z"
   },
   {
    "duration": 45,
    "start_time": "2022-02-20T14:16:27.075Z"
   },
   {
    "duration": 16,
    "start_time": "2022-02-20T14:16:27.122Z"
   },
   {
    "duration": 16,
    "start_time": "2022-02-20T14:16:27.140Z"
   },
   {
    "duration": 11,
    "start_time": "2022-02-20T14:24:58.275Z"
   },
   {
    "duration": 336,
    "start_time": "2022-02-20T14:25:26.052Z"
   },
   {
    "duration": 137,
    "start_time": "2022-02-20T14:26:04.111Z"
   },
   {
    "duration": 14,
    "start_time": "2022-02-20T14:26:11.649Z"
   },
   {
    "duration": 258,
    "start_time": "2022-02-20T14:26:45.720Z"
   },
   {
    "duration": 312,
    "start_time": "2022-02-20T14:26:49.350Z"
   },
   {
    "duration": 16,
    "start_time": "2022-02-20T14:30:55.383Z"
   },
   {
    "duration": 18,
    "start_time": "2022-02-20T14:31:09.121Z"
   },
   {
    "duration": 15,
    "start_time": "2022-02-20T14:31:32.257Z"
   },
   {
    "duration": 446,
    "start_time": "2022-02-21T11:54:29.260Z"
   },
   {
    "duration": 851,
    "start_time": "2022-02-21T11:54:57.636Z"
   },
   {
    "duration": 16,
    "start_time": "2022-02-21T11:55:08.301Z"
   },
   {
    "duration": 18,
    "start_time": "2022-02-21T11:55:41.430Z"
   },
   {
    "duration": 10,
    "start_time": "2022-02-21T11:55:44.090Z"
   },
   {
    "duration": 7,
    "start_time": "2022-02-21T11:56:16.300Z"
   },
   {
    "duration": 7,
    "start_time": "2022-02-21T11:56:53.350Z"
   },
   {
    "duration": 23,
    "start_time": "2022-02-21T11:56:57.130Z"
   },
   {
    "duration": 5,
    "start_time": "2022-02-21T11:57:36.690Z"
   },
   {
    "duration": 6,
    "start_time": "2022-02-21T11:57:38.699Z"
   },
   {
    "duration": 7,
    "start_time": "2022-02-21T11:58:00.970Z"
   },
   {
    "duration": 7,
    "start_time": "2022-02-21T12:02:42.019Z"
   },
   {
    "duration": 5,
    "start_time": "2022-02-21T12:07:16.203Z"
   },
   {
    "duration": 8,
    "start_time": "2022-02-21T12:14:08.949Z"
   },
   {
    "duration": 450,
    "start_time": "2022-02-21T12:15:03.817Z"
   },
   {
    "duration": 8,
    "start_time": "2022-02-21T12:15:44.115Z"
   },
   {
    "duration": 679,
    "start_time": "2022-02-21T12:15:49.740Z"
   },
   {
    "duration": 674,
    "start_time": "2022-02-21T12:16:17.234Z"
   },
   {
    "duration": 10,
    "start_time": "2022-02-21T12:16:22.170Z"
   },
   {
    "duration": 425,
    "start_time": "2022-02-21T12:16:24.069Z"
   },
   {
    "duration": 294,
    "start_time": "2022-02-21T12:16:49.259Z"
   },
   {
    "duration": 42,
    "start_time": "2022-02-21T12:36:24.420Z"
   },
   {
    "duration": 931,
    "start_time": "2022-02-21T12:55:33.608Z"
   },
   {
    "duration": 17,
    "start_time": "2022-02-21T12:55:34.542Z"
   },
   {
    "duration": 43,
    "start_time": "2022-02-21T12:55:34.562Z"
   },
   {
    "duration": 43,
    "start_time": "2022-02-21T12:55:34.608Z"
   },
   {
    "duration": 8,
    "start_time": "2022-02-21T12:55:34.654Z"
   },
   {
    "duration": 9,
    "start_time": "2022-02-21T12:55:34.664Z"
   },
   {
    "duration": 14,
    "start_time": "2022-02-21T12:55:34.675Z"
   },
   {
    "duration": 12,
    "start_time": "2022-02-21T12:55:34.691Z"
   },
   {
    "duration": 18,
    "start_time": "2022-02-21T12:56:51.589Z"
   },
   {
    "duration": 19,
    "start_time": "2022-02-21T12:56:59.450Z"
   },
   {
    "duration": 33,
    "start_time": "2022-02-21T12:57:11.006Z"
   },
   {
    "duration": 34,
    "start_time": "2022-02-21T13:08:14.799Z"
   },
   {
    "duration": 39,
    "start_time": "2022-02-21T13:10:12.445Z"
   },
   {
    "duration": 33,
    "start_time": "2022-02-21T13:10:22.848Z"
   },
   {
    "duration": 33,
    "start_time": "2022-02-21T13:10:33.249Z"
   },
   {
    "duration": 13,
    "start_time": "2022-02-21T13:16:29.138Z"
   },
   {
    "duration": 10,
    "start_time": "2022-02-21T13:16:33.497Z"
   },
   {
    "duration": 41,
    "start_time": "2022-02-21T13:16:36.727Z"
   },
   {
    "duration": 31,
    "start_time": "2022-02-21T13:17:21.958Z"
   },
   {
    "duration": 16,
    "start_time": "2022-02-21T13:18:08.335Z"
   },
   {
    "duration": 29,
    "start_time": "2022-02-21T13:18:23.192Z"
   },
   {
    "duration": 30,
    "start_time": "2022-02-21T13:18:38.009Z"
   },
   {
    "duration": 9,
    "start_time": "2022-02-21T13:18:45.849Z"
   },
   {
    "duration": 8,
    "start_time": "2022-02-21T13:19:29.328Z"
   },
   {
    "duration": 6,
    "start_time": "2022-02-21T13:24:08.661Z"
   },
   {
    "duration": 9,
    "start_time": "2022-02-21T13:24:55.332Z"
   },
   {
    "duration": 5,
    "start_time": "2022-02-21T13:29:21.759Z"
   },
   {
    "duration": 19,
    "start_time": "2022-02-21T13:29:23.878Z"
   },
   {
    "duration": 8,
    "start_time": "2022-02-21T13:35:11.787Z"
   },
   {
    "duration": 16,
    "start_time": "2022-02-21T13:35:15.069Z"
   },
   {
    "duration": 9,
    "start_time": "2022-02-21T13:35:17.366Z"
   },
   {
    "duration": 8,
    "start_time": "2022-02-21T13:38:04.197Z"
   },
   {
    "duration": 7,
    "start_time": "2022-02-21T13:42:31.386Z"
   },
   {
    "duration": 19,
    "start_time": "2022-02-21T13:42:34.463Z"
   },
   {
    "duration": 6,
    "start_time": "2022-02-21T13:42:39.687Z"
   },
   {
    "duration": 7,
    "start_time": "2022-02-21T13:42:52.078Z"
   },
   {
    "duration": 7,
    "start_time": "2022-02-21T13:43:30.188Z"
   },
   {
    "duration": 7,
    "start_time": "2022-02-21T13:44:40.007Z"
   },
   {
    "duration": 38,
    "start_time": "2022-02-21T13:45:04.989Z"
   },
   {
    "duration": 873,
    "start_time": "2022-02-21T13:49:30.872Z"
   },
   {
    "duration": 17,
    "start_time": "2022-02-21T13:49:31.748Z"
   },
   {
    "duration": 67,
    "start_time": "2022-02-21T13:49:31.768Z"
   },
   {
    "duration": 23,
    "start_time": "2022-02-21T13:49:31.839Z"
   },
   {
    "duration": 11,
    "start_time": "2022-02-21T13:49:31.865Z"
   },
   {
    "duration": 13,
    "start_time": "2022-02-21T13:49:31.878Z"
   },
   {
    "duration": 31,
    "start_time": "2022-02-21T13:49:31.894Z"
   },
   {
    "duration": 20,
    "start_time": "2022-02-21T13:49:31.928Z"
   },
   {
    "duration": 35,
    "start_time": "2022-02-21T13:49:31.952Z"
   },
   {
    "duration": 9,
    "start_time": "2022-02-21T13:49:31.990Z"
   },
   {
    "duration": 53,
    "start_time": "2022-02-21T13:49:32.001Z"
   },
   {
    "duration": 6,
    "start_time": "2022-02-21T13:49:32.057Z"
   },
   {
    "duration": 12,
    "start_time": "2022-02-21T13:49:32.066Z"
   },
   {
    "duration": 12,
    "start_time": "2022-02-21T13:49:32.081Z"
   },
   {
    "duration": 12,
    "start_time": "2022-02-21T13:49:32.096Z"
   },
   {
    "duration": 54,
    "start_time": "2022-02-21T13:49:32.110Z"
   },
   {
    "duration": 6,
    "start_time": "2022-02-21T13:49:32.167Z"
   },
   {
    "duration": 13,
    "start_time": "2022-02-21T13:49:32.176Z"
   },
   {
    "duration": 22,
    "start_time": "2022-02-21T13:49:32.192Z"
   },
   {
    "duration": 36,
    "start_time": "2022-02-21T14:01:49.135Z"
   },
   {
    "duration": 965,
    "start_time": "2022-02-21T14:02:59.200Z"
   },
   {
    "duration": 17,
    "start_time": "2022-02-21T14:03:00.168Z"
   },
   {
    "duration": 60,
    "start_time": "2022-02-21T14:03:00.190Z"
   },
   {
    "duration": 20,
    "start_time": "2022-02-21T14:03:00.254Z"
   },
   {
    "duration": 19,
    "start_time": "2022-02-21T14:03:00.278Z"
   },
   {
    "duration": 12,
    "start_time": "2022-02-21T14:03:00.299Z"
   },
   {
    "duration": 35,
    "start_time": "2022-02-21T14:03:00.313Z"
   },
   {
    "duration": 14,
    "start_time": "2022-02-21T14:03:00.351Z"
   },
   {
    "duration": 45,
    "start_time": "2022-02-21T14:03:00.371Z"
   },
   {
    "duration": 30,
    "start_time": "2022-02-21T14:03:00.420Z"
   },
   {
    "duration": 53,
    "start_time": "2022-02-21T14:03:00.453Z"
   },
   {
    "duration": 7,
    "start_time": "2022-02-21T14:03:00.509Z"
   },
   {
    "duration": 19,
    "start_time": "2022-02-21T14:03:00.518Z"
   },
   {
    "duration": 23,
    "start_time": "2022-02-21T14:03:00.540Z"
   },
   {
    "duration": 18,
    "start_time": "2022-02-21T14:03:00.566Z"
   },
   {
    "duration": 29,
    "start_time": "2022-02-21T14:03:00.587Z"
   },
   {
    "duration": 11,
    "start_time": "2022-02-21T14:03:00.619Z"
   },
   {
    "duration": 22,
    "start_time": "2022-02-21T14:03:00.634Z"
   },
   {
    "duration": 18,
    "start_time": "2022-02-21T14:03:00.659Z"
   },
   {
    "duration": 22,
    "start_time": "2022-02-21T14:03:00.680Z"
   },
   {
    "duration": 31,
    "start_time": "2022-02-21T14:03:00.705Z"
   },
   {
    "duration": 12,
    "start_time": "2022-02-21T14:03:00.739Z"
   },
   {
    "duration": 38,
    "start_time": "2022-02-21T14:03:00.754Z"
   },
   {
    "duration": 28,
    "start_time": "2022-02-21T14:03:00.794Z"
   },
   {
    "duration": 26,
    "start_time": "2022-02-21T14:03:00.825Z"
   },
   {
    "duration": 14,
    "start_time": "2022-02-21T14:03:00.853Z"
   },
   {
    "duration": 56,
    "start_time": "2022-02-21T14:03:07.419Z"
   },
   {
    "duration": 9,
    "start_time": "2022-02-21T14:03:10.638Z"
   },
   {
    "duration": 378,
    "start_time": "2022-02-21T14:03:17.856Z"
   },
   {
    "duration": 34,
    "start_time": "2022-02-21T14:03:26.027Z"
   },
   {
    "duration": 56,
    "start_time": "2022-02-21T14:03:51.068Z"
   },
   {
    "duration": 22,
    "start_time": "2022-02-21T14:05:06.446Z"
   },
   {
    "duration": 51,
    "start_time": "2022-02-21T14:05:13.141Z"
   },
   {
    "duration": 16,
    "start_time": "2022-02-21T14:05:34.908Z"
   },
   {
    "duration": 1364,
    "start_time": "2022-02-21T14:05:38.778Z"
   },
   {
    "duration": 1170,
    "start_time": "2022-02-21T14:10:38.338Z"
   },
   {
    "duration": 1251,
    "start_time": "2022-02-21T14:10:48.978Z"
   },
   {
    "duration": 1069,
    "start_time": "2022-02-21T14:14:10.691Z"
   },
   {
    "duration": 10,
    "start_time": "2022-02-21T14:14:53.578Z"
   },
   {
    "duration": 1072,
    "start_time": "2022-02-21T14:14:57.364Z"
   },
   {
    "duration": 8,
    "start_time": "2022-02-21T14:15:14.478Z"
   },
   {
    "duration": 1207,
    "start_time": "2022-02-21T14:15:17.919Z"
   },
   {
    "duration": 7,
    "start_time": "2022-02-21T14:15:34.058Z"
   },
   {
    "duration": 87,
    "start_time": "2022-02-21T14:15:50.721Z"
   },
   {
    "duration": 8,
    "start_time": "2022-02-21T14:16:00.305Z"
   },
   {
    "duration": 392,
    "start_time": "2022-02-21T14:16:19.767Z"
   },
   {
    "duration": 38,
    "start_time": "2022-02-21T14:16:51.534Z"
   },
   {
    "duration": 36,
    "start_time": "2022-02-21T14:17:13.331Z"
   },
   {
    "duration": 332,
    "start_time": "2022-02-21T14:17:46.339Z"
   },
   {
    "duration": 14,
    "start_time": "2022-02-21T14:18:10.509Z"
   },
   {
    "duration": 12,
    "start_time": "2022-02-21T14:18:15.998Z"
   },
   {
    "duration": 11,
    "start_time": "2022-02-21T14:19:16.138Z"
   },
   {
    "duration": 8,
    "start_time": "2022-02-21T14:20:12.769Z"
   },
   {
    "duration": 6,
    "start_time": "2022-02-21T14:20:25.918Z"
   },
   {
    "duration": 8,
    "start_time": "2022-02-21T14:21:35.417Z"
   },
   {
    "duration": 290,
    "start_time": "2022-02-21T14:21:40.838Z"
   },
   {
    "duration": 92,
    "start_time": "2022-02-21T14:24:52.679Z"
   },
   {
    "duration": 10,
    "start_time": "2022-02-21T14:25:12.978Z"
   },
   {
    "duration": 285,
    "start_time": "2022-02-21T14:25:16.538Z"
   },
   {
    "duration": 292,
    "start_time": "2022-02-21T14:25:33.608Z"
   },
   {
    "duration": 61,
    "start_time": "2022-02-21T14:29:50.419Z"
   },
   {
    "duration": 16,
    "start_time": "2022-02-21T14:29:52.368Z"
   },
   {
    "duration": 12,
    "start_time": "2022-02-21T14:32:31.278Z"
   },
   {
    "duration": 13,
    "start_time": "2022-02-21T14:32:39.876Z"
   },
   {
    "duration": 12,
    "start_time": "2022-02-21T14:32:47.968Z"
   },
   {
    "duration": 27,
    "start_time": "2022-02-21T14:34:55.878Z"
   },
   {
    "duration": 11,
    "start_time": "2022-02-21T14:35:22.978Z"
   },
   {
    "duration": 91,
    "start_time": "2022-02-21T14:35:30.978Z"
   },
   {
    "duration": 7,
    "start_time": "2022-02-21T14:35:45.066Z"
   },
   {
    "duration": 287,
    "start_time": "2022-02-21T14:35:49.208Z"
   },
   {
    "duration": 5383,
    "start_time": "2022-02-21T14:36:44.449Z"
   },
   {
    "duration": 4233,
    "start_time": "2022-02-21T14:37:16.978Z"
   },
   {
    "duration": 325,
    "start_time": "2022-02-21T14:37:21.256Z"
   },
   {
    "duration": 288,
    "start_time": "2022-02-21T14:37:34.618Z"
   },
   {
    "duration": 10,
    "start_time": "2022-02-21T14:41:12.586Z"
   },
   {
    "duration": 39,
    "start_time": "2022-02-21T14:41:19.588Z"
   },
   {
    "duration": 56,
    "start_time": "2022-02-21T14:41:46.388Z"
   },
   {
    "duration": 41,
    "start_time": "2022-02-21T14:41:55.265Z"
   },
   {
    "duration": 14,
    "start_time": "2022-02-21T14:42:28.238Z"
   },
   {
    "duration": 11,
    "start_time": "2022-02-21T14:42:31.988Z"
   },
   {
    "duration": 42,
    "start_time": "2022-02-21T14:42:35.902Z"
   },
   {
    "duration": 426,
    "start_time": "2022-02-21T14:44:10.584Z"
   },
   {
    "duration": 877,
    "start_time": "2022-02-21T14:44:17.801Z"
   },
   {
    "duration": 45,
    "start_time": "2022-02-21T14:44:23.472Z"
   },
   {
    "duration": 61,
    "start_time": "2022-02-21T15:04:25.742Z"
   },
   {
    "duration": 37,
    "start_time": "2022-02-21T15:04:41.398Z"
   },
   {
    "duration": 9,
    "start_time": "2022-02-21T15:04:44.816Z"
   },
   {
    "duration": 323,
    "start_time": "2022-02-21T15:04:48.446Z"
   },
   {
    "duration": 5,
    "start_time": "2022-02-21T15:12:34.736Z"
   },
   {
    "duration": 8429,
    "start_time": "2022-02-21T15:13:54.878Z"
   },
   {
    "duration": 201,
    "start_time": "2022-02-21T15:14:03.108Z"
   },
   {
    "duration": 15,
    "start_time": "2022-02-21T15:14:04.106Z"
   },
   {
    "duration": 8,
    "start_time": "2022-02-21T15:14:06.561Z"
   },
   {
    "duration": 705,
    "start_time": "2022-02-21T15:17:53.625Z"
   },
   {
    "duration": 5,
    "start_time": "2022-02-21T15:18:00.759Z"
   },
   {
    "duration": 13,
    "start_time": "2022-02-21T15:18:04.264Z"
   },
   {
    "duration": 22,
    "start_time": "2022-02-21T15:18:07.759Z"
   },
   {
    "duration": 9,
    "start_time": "2022-02-21T15:18:16.398Z"
   },
   {
    "duration": 898,
    "start_time": "2022-02-21T15:29:27.692Z"
   },
   {
    "duration": 16,
    "start_time": "2022-02-21T15:29:28.592Z"
   },
   {
    "duration": 61,
    "start_time": "2022-02-21T15:29:28.612Z"
   },
   {
    "duration": 38,
    "start_time": "2022-02-21T15:29:28.676Z"
   },
   {
    "duration": 19,
    "start_time": "2022-02-21T15:29:28.716Z"
   },
   {
    "duration": 11,
    "start_time": "2022-02-21T15:29:28.737Z"
   },
   {
    "duration": 42,
    "start_time": "2022-02-21T15:29:28.750Z"
   },
   {
    "duration": 21,
    "start_time": "2022-02-21T15:29:28.795Z"
   },
   {
    "duration": 40,
    "start_time": "2022-02-21T15:29:28.820Z"
   },
   {
    "duration": 10,
    "start_time": "2022-02-21T15:29:28.862Z"
   },
   {
    "duration": 39,
    "start_time": "2022-02-21T15:29:28.874Z"
   },
   {
    "duration": 5,
    "start_time": "2022-02-21T15:29:28.916Z"
   },
   {
    "duration": 27,
    "start_time": "2022-02-21T15:29:28.924Z"
   },
   {
    "duration": 11,
    "start_time": "2022-02-21T15:29:28.953Z"
   },
   {
    "duration": 7,
    "start_time": "2022-02-21T15:29:28.967Z"
   },
   {
    "duration": 19,
    "start_time": "2022-02-21T15:29:28.976Z"
   },
   {
    "duration": 12,
    "start_time": "2022-02-21T15:29:28.997Z"
   },
   {
    "duration": 46,
    "start_time": "2022-02-21T15:29:29.011Z"
   },
   {
    "duration": 9,
    "start_time": "2022-02-21T15:29:29.059Z"
   },
   {
    "duration": 39,
    "start_time": "2022-02-21T15:29:29.071Z"
   },
   {
    "duration": 47,
    "start_time": "2022-02-21T15:29:29.113Z"
   },
   {
    "duration": 18,
    "start_time": "2022-02-21T15:29:37.333Z"
   },
   {
    "duration": 10,
    "start_time": "2022-02-21T15:33:53.475Z"
   },
   {
    "duration": 40,
    "start_time": "2022-02-21T15:33:55.942Z"
   },
   {
    "duration": 79,
    "start_time": "2022-02-21T15:34:59.798Z"
   },
   {
    "duration": 20,
    "start_time": "2022-02-21T15:34:59.880Z"
   },
   {
    "duration": 64,
    "start_time": "2022-02-21T15:34:59.904Z"
   },
   {
    "duration": 14,
    "start_time": "2022-02-21T15:34:59.972Z"
   },
   {
    "duration": 7,
    "start_time": "2022-02-21T15:34:59.990Z"
   },
   {
    "duration": 14,
    "start_time": "2022-02-21T15:34:59.999Z"
   },
   {
    "duration": 44,
    "start_time": "2022-02-21T15:35:00.016Z"
   },
   {
    "duration": 18,
    "start_time": "2022-02-21T15:35:00.063Z"
   },
   {
    "duration": 66,
    "start_time": "2022-02-21T15:35:00.085Z"
   },
   {
    "duration": 10,
    "start_time": "2022-02-21T15:35:00.154Z"
   },
   {
    "duration": 32,
    "start_time": "2022-02-21T15:35:00.167Z"
   },
   {
    "duration": 6,
    "start_time": "2022-02-21T15:35:00.202Z"
   },
   {
    "duration": 43,
    "start_time": "2022-02-21T15:35:00.210Z"
   },
   {
    "duration": 21,
    "start_time": "2022-02-21T15:35:00.255Z"
   },
   {
    "duration": 12,
    "start_time": "2022-02-21T15:35:00.279Z"
   },
   {
    "duration": 31,
    "start_time": "2022-02-21T15:35:00.293Z"
   },
   {
    "duration": 22,
    "start_time": "2022-02-21T15:35:00.327Z"
   },
   {
    "duration": 23,
    "start_time": "2022-02-21T15:35:00.352Z"
   },
   {
    "duration": 18,
    "start_time": "2022-02-21T15:35:00.378Z"
   },
   {
    "duration": 44,
    "start_time": "2022-02-21T15:35:00.399Z"
   },
   {
    "duration": 13,
    "start_time": "2022-02-21T15:35:00.448Z"
   },
   {
    "duration": 19,
    "start_time": "2022-02-21T15:35:00.463Z"
   },
   {
    "duration": 37,
    "start_time": "2022-02-21T15:35:07.542Z"
   },
   {
    "duration": 12,
    "start_time": "2022-02-21T15:41:00.897Z"
   },
   {
    "duration": 38,
    "start_time": "2022-02-21T15:41:05.548Z"
   },
   {
    "duration": 370,
    "start_time": "2022-02-21T15:41:39.118Z"
   },
   {
    "duration": 276,
    "start_time": "2022-02-21T15:41:49.788Z"
   },
   {
    "duration": 333,
    "start_time": "2022-02-21T15:41:55.376Z"
   },
   {
    "duration": 5,
    "start_time": "2022-02-21T15:42:07.242Z"
   },
   {
    "duration": 916,
    "start_time": "2022-02-21T15:42:36.877Z"
   },
   {
    "duration": 15,
    "start_time": "2022-02-21T15:42:37.796Z"
   },
   {
    "duration": 63,
    "start_time": "2022-02-21T15:42:37.814Z"
   },
   {
    "duration": 19,
    "start_time": "2022-02-21T15:42:37.880Z"
   },
   {
    "duration": 17,
    "start_time": "2022-02-21T15:42:37.902Z"
   },
   {
    "duration": 7,
    "start_time": "2022-02-21T15:42:37.921Z"
   },
   {
    "duration": 29,
    "start_time": "2022-02-21T15:42:37.931Z"
   },
   {
    "duration": 13,
    "start_time": "2022-02-21T15:42:37.963Z"
   },
   {
    "duration": 33,
    "start_time": "2022-02-21T15:42:37.980Z"
   },
   {
    "duration": 38,
    "start_time": "2022-02-21T15:42:38.016Z"
   },
   {
    "duration": 39,
    "start_time": "2022-02-21T15:42:38.056Z"
   },
   {
    "duration": 6,
    "start_time": "2022-02-21T15:42:38.098Z"
   },
   {
    "duration": 6,
    "start_time": "2022-02-21T15:42:38.106Z"
   },
   {
    "duration": 37,
    "start_time": "2022-02-21T15:42:38.115Z"
   },
   {
    "duration": 11,
    "start_time": "2022-02-21T15:42:38.154Z"
   },
   {
    "duration": 21,
    "start_time": "2022-02-21T15:42:38.167Z"
   },
   {
    "duration": 8,
    "start_time": "2022-02-21T15:42:38.191Z"
   },
   {
    "duration": 16,
    "start_time": "2022-02-21T15:42:38.202Z"
   },
   {
    "duration": 6,
    "start_time": "2022-02-21T15:42:38.249Z"
   },
   {
    "duration": 44,
    "start_time": "2022-02-21T15:42:38.258Z"
   },
   {
    "duration": 12,
    "start_time": "2022-02-21T15:42:38.304Z"
   },
   {
    "duration": 41,
    "start_time": "2022-02-21T15:42:38.318Z"
   },
   {
    "duration": 12,
    "start_time": "2022-02-21T15:42:43.166Z"
   },
   {
    "duration": 6,
    "start_time": "2022-02-21T15:42:46.536Z"
   },
   {
    "duration": 40,
    "start_time": "2022-02-21T15:42:49.205Z"
   },
   {
    "duration": 18,
    "start_time": "2022-02-21T15:46:25.665Z"
   },
   {
    "duration": 566,
    "start_time": "2022-02-21T15:46:47.455Z"
   },
   {
    "duration": 292,
    "start_time": "2022-02-21T15:46:52.785Z"
   },
   {
    "duration": 286,
    "start_time": "2022-02-21T15:48:59.374Z"
   },
   {
    "duration": 27,
    "start_time": "2022-02-21T15:49:13.734Z"
   },
   {
    "duration": 37,
    "start_time": "2022-02-21T15:49:44.824Z"
   },
   {
    "duration": 897,
    "start_time": "2022-02-21T15:50:45.497Z"
   },
   {
    "duration": 15,
    "start_time": "2022-02-21T15:50:46.397Z"
   },
   {
    "duration": 60,
    "start_time": "2022-02-21T15:50:46.415Z"
   },
   {
    "duration": 13,
    "start_time": "2022-02-21T15:50:46.478Z"
   },
   {
    "duration": 6,
    "start_time": "2022-02-21T15:50:46.494Z"
   },
   {
    "duration": 6,
    "start_time": "2022-02-21T15:50:46.503Z"
   },
   {
    "duration": 18,
    "start_time": "2022-02-21T15:50:46.547Z"
   },
   {
    "duration": 11,
    "start_time": "2022-02-21T15:50:46.567Z"
   },
   {
    "duration": 32,
    "start_time": "2022-02-21T15:50:46.582Z"
   },
   {
    "duration": 9,
    "start_time": "2022-02-21T15:50:46.649Z"
   },
   {
    "duration": 33,
    "start_time": "2022-02-21T15:50:46.661Z"
   },
   {
    "duration": 7,
    "start_time": "2022-02-21T15:50:46.696Z"
   },
   {
    "duration": 6,
    "start_time": "2022-02-21T15:50:46.705Z"
   },
   {
    "duration": 9,
    "start_time": "2022-02-21T15:50:46.749Z"
   },
   {
    "duration": 6,
    "start_time": "2022-02-21T15:50:46.761Z"
   },
   {
    "duration": 23,
    "start_time": "2022-02-21T15:50:46.769Z"
   },
   {
    "duration": 7,
    "start_time": "2022-02-21T15:50:46.795Z"
   },
   {
    "duration": 45,
    "start_time": "2022-02-21T15:50:46.805Z"
   },
   {
    "duration": 33,
    "start_time": "2022-02-21T15:50:46.853Z"
   },
   {
    "duration": 38,
    "start_time": "2022-02-21T15:50:46.888Z"
   },
   {
    "duration": 12,
    "start_time": "2022-02-21T15:50:46.928Z"
   },
   {
    "duration": 14,
    "start_time": "2022-02-21T15:50:46.949Z"
   },
   {
    "duration": 10,
    "start_time": "2022-02-21T15:50:46.965Z"
   },
   {
    "duration": 10,
    "start_time": "2022-02-21T15:50:46.978Z"
   },
   {
    "duration": 68,
    "start_time": "2022-02-21T15:50:46.991Z"
   },
   {
    "duration": 5,
    "start_time": "2022-02-21T15:50:47.061Z"
   },
   {
    "duration": 15,
    "start_time": "2022-02-21T15:50:47.072Z"
   },
   {
    "duration": 7,
    "start_time": "2022-02-21T15:50:47.090Z"
   },
   {
    "duration": 61,
    "start_time": "2022-02-21T15:50:47.100Z"
   },
   {
    "duration": 9,
    "start_time": "2022-02-21T15:50:47.165Z"
   },
   {
    "duration": 8,
    "start_time": "2022-02-21T15:50:47.177Z"
   },
   {
    "duration": 21,
    "start_time": "2022-02-21T15:50:47.188Z"
   },
   {
    "duration": 50,
    "start_time": "2022-02-21T15:50:47.212Z"
   },
   {
    "duration": 36,
    "start_time": "2022-02-21T15:50:47.265Z"
   },
   {
    "duration": 48,
    "start_time": "2022-02-21T15:50:47.303Z"
   },
   {
    "duration": 6,
    "start_time": "2022-02-21T15:50:47.354Z"
   },
   {
    "duration": 18,
    "start_time": "2022-02-21T15:50:47.363Z"
   },
   {
    "duration": 13,
    "start_time": "2022-02-21T15:50:47.384Z"
   },
   {
    "duration": 17,
    "start_time": "2022-02-21T15:50:47.400Z"
   },
   {
    "duration": 35,
    "start_time": "2022-02-21T15:50:47.419Z"
   },
   {
    "duration": 27,
    "start_time": "2022-02-21T15:50:47.457Z"
   },
   {
    "duration": 4,
    "start_time": "2022-02-21T15:50:47.487Z"
   },
   {
    "duration": 18,
    "start_time": "2022-02-21T15:50:47.494Z"
   },
   {
    "duration": 55,
    "start_time": "2022-02-21T15:50:47.515Z"
   },
   {
    "duration": 6,
    "start_time": "2022-02-21T15:50:47.573Z"
   },
   {
    "duration": 6,
    "start_time": "2022-02-21T15:50:47.581Z"
   },
   {
    "duration": 22,
    "start_time": "2022-02-21T15:50:47.590Z"
   },
   {
    "duration": 56,
    "start_time": "2022-02-21T15:50:47.614Z"
   },
   {
    "duration": 8,
    "start_time": "2022-02-21T15:50:47.673Z"
   },
   {
    "duration": 22,
    "start_time": "2022-02-21T15:50:47.683Z"
   },
   {
    "duration": 52,
    "start_time": "2022-02-21T15:50:47.707Z"
   },
   {
    "duration": 18,
    "start_time": "2022-02-21T15:50:47.761Z"
   },
   {
    "duration": 20,
    "start_time": "2022-02-21T15:50:47.782Z"
   },
   {
    "duration": 56,
    "start_time": "2022-02-21T15:50:47.804Z"
   },
   {
    "duration": 384,
    "start_time": "2022-02-21T15:52:26.854Z"
   },
   {
    "duration": 282,
    "start_time": "2022-02-21T16:01:16.303Z"
   },
   {
    "duration": 291,
    "start_time": "2022-02-21T16:02:50.643Z"
   },
   {
    "duration": 19,
    "start_time": "2022-02-21T16:03:12.701Z"
   },
   {
    "duration": 36,
    "start_time": "2022-02-21T16:03:21.103Z"
   },
   {
    "duration": 21,
    "start_time": "2022-02-21T16:03:39.832Z"
   },
   {
    "duration": 349,
    "start_time": "2022-02-22T13:53:13.896Z"
   },
   {
    "duration": 866,
    "start_time": "2022-02-22T13:53:25.591Z"
   },
   {
    "duration": 15,
    "start_time": "2022-02-22T13:53:26.460Z"
   },
   {
    "duration": 51,
    "start_time": "2022-02-22T13:53:26.478Z"
   },
   {
    "duration": 13,
    "start_time": "2022-02-22T13:53:26.532Z"
   },
   {
    "duration": 7,
    "start_time": "2022-02-22T13:53:26.548Z"
   },
   {
    "duration": 6,
    "start_time": "2022-02-22T13:53:26.558Z"
   },
   {
    "duration": 60,
    "start_time": "2022-02-22T13:53:26.567Z"
   },
   {
    "duration": 12,
    "start_time": "2022-02-22T13:53:26.630Z"
   },
   {
    "duration": 31,
    "start_time": "2022-02-22T13:53:26.646Z"
   },
   {
    "duration": 10,
    "start_time": "2022-02-22T13:53:26.680Z"
   },
   {
    "duration": 63,
    "start_time": "2022-02-22T13:53:26.692Z"
   },
   {
    "duration": 6,
    "start_time": "2022-02-22T13:53:26.757Z"
   },
   {
    "duration": 6,
    "start_time": "2022-02-22T13:53:26.766Z"
   },
   {
    "duration": 12,
    "start_time": "2022-02-22T13:53:26.774Z"
   },
   {
    "duration": 40,
    "start_time": "2022-02-22T13:53:26.789Z"
   },
   {
    "duration": 21,
    "start_time": "2022-02-22T13:53:26.831Z"
   },
   {
    "duration": 11,
    "start_time": "2022-02-22T13:53:26.855Z"
   },
   {
    "duration": 10,
    "start_time": "2022-02-22T13:53:26.869Z"
   },
   {
    "duration": 6,
    "start_time": "2022-02-22T13:53:26.881Z"
   },
   {
    "duration": 41,
    "start_time": "2022-02-22T13:53:26.927Z"
   },
   {
    "duration": 12,
    "start_time": "2022-02-22T13:53:26.971Z"
   },
   {
    "duration": 48,
    "start_time": "2022-02-22T13:53:26.985Z"
   },
   {
    "duration": 11,
    "start_time": "2022-02-22T13:53:27.036Z"
   },
   {
    "duration": 5,
    "start_time": "2022-02-22T13:53:27.050Z"
   },
   {
    "duration": 68,
    "start_time": "2022-02-22T13:53:27.057Z"
   },
   {
    "duration": 6,
    "start_time": "2022-02-22T13:53:27.128Z"
   },
   {
    "duration": 302,
    "start_time": "2022-02-22T13:53:31.326Z"
   },
   {
    "duration": 6,
    "start_time": "2022-02-22T13:54:25.448Z"
   },
   {
    "duration": 6,
    "start_time": "2022-02-22T13:54:33.132Z"
   },
   {
    "duration": 64,
    "start_time": "2022-02-22T13:55:00.433Z"
   },
   {
    "duration": 26,
    "start_time": "2022-02-22T13:55:00.500Z"
   },
   {
    "duration": 34,
    "start_time": "2022-02-22T13:55:00.530Z"
   },
   {
    "duration": 13,
    "start_time": "2022-02-22T13:55:00.567Z"
   },
   {
    "duration": 12,
    "start_time": "2022-02-22T13:55:00.583Z"
   },
   {
    "duration": 8,
    "start_time": "2022-02-22T13:55:00.626Z"
   },
   {
    "duration": 23,
    "start_time": "2022-02-22T13:55:00.637Z"
   },
   {
    "duration": 15,
    "start_time": "2022-02-22T13:55:00.663Z"
   },
   {
    "duration": 64,
    "start_time": "2022-02-22T13:55:00.680Z"
   },
   {
    "duration": 8,
    "start_time": "2022-02-22T13:55:00.747Z"
   },
   {
    "duration": 32,
    "start_time": "2022-02-22T13:55:00.758Z"
   },
   {
    "duration": 34,
    "start_time": "2022-02-22T13:55:00.792Z"
   },
   {
    "duration": 4,
    "start_time": "2022-02-22T13:55:00.829Z"
   },
   {
    "duration": 24,
    "start_time": "2022-02-22T13:55:00.836Z"
   },
   {
    "duration": 21,
    "start_time": "2022-02-22T13:55:00.863Z"
   },
   {
    "duration": 24,
    "start_time": "2022-02-22T13:55:00.887Z"
   },
   {
    "duration": 12,
    "start_time": "2022-02-22T13:55:00.927Z"
   },
   {
    "duration": 36,
    "start_time": "2022-02-22T13:55:00.942Z"
   },
   {
    "duration": 11,
    "start_time": "2022-02-22T13:55:00.982Z"
   },
   {
    "duration": 43,
    "start_time": "2022-02-22T13:55:00.996Z"
   },
   {
    "duration": 12,
    "start_time": "2022-02-22T13:55:01.042Z"
   },
   {
    "duration": 21,
    "start_time": "2022-02-22T13:55:01.057Z"
   },
   {
    "duration": 30,
    "start_time": "2022-02-22T13:55:01.080Z"
   },
   {
    "duration": 14,
    "start_time": "2022-02-22T13:55:01.113Z"
   },
   {
    "duration": 36,
    "start_time": "2022-02-22T13:55:01.129Z"
   },
   {
    "duration": 5,
    "start_time": "2022-02-22T13:55:01.168Z"
   },
   {
    "duration": 20,
    "start_time": "2022-02-22T13:55:01.175Z"
   },
   {
    "duration": 259,
    "start_time": "2022-02-22T14:15:59.512Z"
   },
   {
    "duration": 65,
    "start_time": "2022-02-22T14:16:04.893Z"
   },
   {
    "duration": 15,
    "start_time": "2022-02-22T14:16:04.961Z"
   },
   {
    "duration": 61,
    "start_time": "2022-02-22T14:16:04.979Z"
   },
   {
    "duration": 13,
    "start_time": "2022-02-22T14:16:05.043Z"
   },
   {
    "duration": 8,
    "start_time": "2022-02-22T14:16:05.059Z"
   },
   {
    "duration": 21,
    "start_time": "2022-02-22T14:16:05.070Z"
   },
   {
    "duration": 19,
    "start_time": "2022-02-22T14:16:05.126Z"
   },
   {
    "duration": 15,
    "start_time": "2022-02-22T14:16:05.148Z"
   },
   {
    "duration": 75,
    "start_time": "2022-02-22T14:16:05.167Z"
   },
   {
    "duration": 11,
    "start_time": "2022-02-22T14:16:05.246Z"
   },
   {
    "duration": 32,
    "start_time": "2022-02-22T14:16:05.260Z"
   },
   {
    "duration": 6,
    "start_time": "2022-02-22T14:16:05.327Z"
   },
   {
    "duration": 13,
    "start_time": "2022-02-22T14:16:05.335Z"
   },
   {
    "duration": 11,
    "start_time": "2022-02-22T14:16:05.351Z"
   },
   {
    "duration": 11,
    "start_time": "2022-02-22T14:16:05.365Z"
   },
   {
    "duration": 58,
    "start_time": "2022-02-22T14:16:05.379Z"
   },
   {
    "duration": 12,
    "start_time": "2022-02-22T14:16:05.440Z"
   },
   {
    "duration": 12,
    "start_time": "2022-02-22T14:16:05.455Z"
   },
   {
    "duration": 17,
    "start_time": "2022-02-22T14:16:05.470Z"
   },
   {
    "duration": 73,
    "start_time": "2022-02-22T14:16:05.489Z"
   },
   {
    "duration": 16,
    "start_time": "2022-02-22T14:16:05.565Z"
   },
   {
    "duration": 43,
    "start_time": "2022-02-22T14:16:05.584Z"
   },
   {
    "duration": 11,
    "start_time": "2022-02-22T14:16:05.630Z"
   },
   {
    "duration": 10,
    "start_time": "2022-02-22T14:16:05.644Z"
   },
   {
    "duration": 42,
    "start_time": "2022-02-22T14:16:05.656Z"
   },
   {
    "duration": 29,
    "start_time": "2022-02-22T14:16:05.701Z"
   },
   {
    "duration": 5,
    "start_time": "2022-02-22T14:16:05.736Z"
   },
   {
    "duration": 9,
    "start_time": "2022-02-22T14:16:05.745Z"
   },
   {
    "duration": 10,
    "start_time": "2022-02-22T14:16:05.757Z"
   },
   {
    "duration": 71,
    "start_time": "2022-02-22T14:16:05.770Z"
   },
   {
    "duration": 13,
    "start_time": "2022-02-22T14:16:05.844Z"
   },
   {
    "duration": 11,
    "start_time": "2022-02-22T14:16:05.861Z"
   },
   {
    "duration": 10,
    "start_time": "2022-02-22T14:16:05.876Z"
   },
   {
    "duration": 35,
    "start_time": "2022-02-22T14:16:05.928Z"
   },
   {
    "duration": 28,
    "start_time": "2022-02-22T14:16:05.965Z"
   },
   {
    "duration": 55,
    "start_time": "2022-02-22T14:16:05.996Z"
   },
   {
    "duration": 5,
    "start_time": "2022-02-22T14:16:06.054Z"
   },
   {
    "duration": 31,
    "start_time": "2022-02-22T14:16:06.062Z"
   },
   {
    "duration": 17,
    "start_time": "2022-02-22T14:16:06.096Z"
   },
   {
    "duration": 29,
    "start_time": "2022-02-22T14:16:06.126Z"
   },
   {
    "duration": 23,
    "start_time": "2022-02-22T14:16:06.158Z"
   },
   {
    "duration": 40,
    "start_time": "2022-02-22T14:16:06.183Z"
   },
   {
    "duration": 13,
    "start_time": "2022-02-22T14:16:06.226Z"
   },
   {
    "duration": 33,
    "start_time": "2022-02-22T14:16:06.241Z"
   },
   {
    "duration": 35,
    "start_time": "2022-02-22T14:16:06.276Z"
   },
   {
    "duration": 23,
    "start_time": "2022-02-22T14:16:06.314Z"
   },
   {
    "duration": 21,
    "start_time": "2022-02-22T14:16:06.339Z"
   },
   {
    "duration": 44,
    "start_time": "2022-02-22T14:16:06.363Z"
   },
   {
    "duration": 38,
    "start_time": "2022-02-22T14:16:06.410Z"
   },
   {
    "duration": 38,
    "start_time": "2022-02-22T14:16:06.450Z"
   },
   {
    "duration": 32,
    "start_time": "2022-02-22T14:16:06.490Z"
   },
   {
    "duration": 30,
    "start_time": "2022-02-22T14:16:06.524Z"
   },
   {
    "duration": 23,
    "start_time": "2022-02-22T14:16:06.557Z"
   },
   {
    "duration": 236,
    "start_time": "2022-02-22T14:16:11.371Z"
   },
   {
    "duration": 33,
    "start_time": "2022-02-22T14:19:54.349Z"
   },
   {
    "duration": 32,
    "start_time": "2022-02-22T14:20:48.332Z"
   },
   {
    "duration": 19,
    "start_time": "2022-02-22T14:42:25.088Z"
   },
   {
    "duration": 30,
    "start_time": "2022-02-22T14:43:13.361Z"
   },
   {
    "duration": 30,
    "start_time": "2022-02-22T14:43:57.181Z"
   },
   {
    "duration": 29,
    "start_time": "2022-02-22T14:44:06.280Z"
   },
   {
    "duration": 24,
    "start_time": "2022-02-22T14:44:23.160Z"
   },
   {
    "duration": 29,
    "start_time": "2022-02-22T14:44:31.601Z"
   },
   {
    "duration": 259,
    "start_time": "2022-02-22T14:46:03.799Z"
   },
   {
    "duration": 32,
    "start_time": "2022-02-22T14:46:28.874Z"
   },
   {
    "duration": 24,
    "start_time": "2022-02-22T14:47:14.238Z"
   },
   {
    "duration": 9,
    "start_time": "2022-02-22T14:47:19.898Z"
   },
   {
    "duration": 5,
    "start_time": "2022-02-22T14:47:43.722Z"
   },
   {
    "duration": 11,
    "start_time": "2022-02-22T14:47:58.785Z"
   },
   {
    "duration": 24,
    "start_time": "2022-02-22T14:48:02.653Z"
   },
   {
    "duration": 16,
    "start_time": "2022-02-22T14:49:27.816Z"
   },
   {
    "duration": 24,
    "start_time": "2022-02-22T14:50:38.910Z"
   },
   {
    "duration": 13,
    "start_time": "2022-02-22T14:50:40.811Z"
   },
   {
    "duration": 178,
    "start_time": "2022-02-22T14:51:07.201Z"
   },
   {
    "duration": 12,
    "start_time": "2022-02-22T14:51:10.361Z"
   },
   {
    "duration": 259,
    "start_time": "2022-02-22T14:51:28.082Z"
   },
   {
    "duration": 12,
    "start_time": "2022-02-22T14:51:38.502Z"
   },
   {
    "duration": 25,
    "start_time": "2022-02-22T14:52:17.851Z"
   },
   {
    "duration": 24,
    "start_time": "2022-02-22T14:52:23.302Z"
   },
   {
    "duration": 12,
    "start_time": "2022-02-22T14:52:25.231Z"
   },
   {
    "duration": 12,
    "start_time": "2022-02-22T14:52:34.531Z"
   },
   {
    "duration": 16,
    "start_time": "2022-02-22T14:53:09.632Z"
   },
   {
    "duration": 11,
    "start_time": "2022-02-22T14:53:16.261Z"
   },
   {
    "duration": 12,
    "start_time": "2022-02-22T15:01:06.003Z"
   },
   {
    "duration": 15,
    "start_time": "2022-02-22T15:02:38.070Z"
   },
   {
    "duration": 841,
    "start_time": "2022-02-22T15:03:11.459Z"
   },
   {
    "duration": 17,
    "start_time": "2022-02-22T15:03:12.303Z"
   },
   {
    "duration": 45,
    "start_time": "2022-02-22T15:03:12.327Z"
   },
   {
    "duration": 13,
    "start_time": "2022-02-22T15:03:12.375Z"
   },
   {
    "duration": 38,
    "start_time": "2022-02-22T15:03:12.391Z"
   },
   {
    "duration": 10,
    "start_time": "2022-02-22T15:03:12.432Z"
   },
   {
    "duration": 18,
    "start_time": "2022-02-22T15:03:12.444Z"
   },
   {
    "duration": 15,
    "start_time": "2022-02-22T15:03:12.465Z"
   },
   {
    "duration": 68,
    "start_time": "2022-02-22T15:03:12.486Z"
   },
   {
    "duration": 10,
    "start_time": "2022-02-22T15:03:12.558Z"
   },
   {
    "duration": 61,
    "start_time": "2022-02-22T15:03:12.570Z"
   },
   {
    "duration": 6,
    "start_time": "2022-02-22T15:03:12.633Z"
   },
   {
    "duration": 7,
    "start_time": "2022-02-22T15:03:12.641Z"
   },
   {
    "duration": 9,
    "start_time": "2022-02-22T15:03:12.650Z"
   },
   {
    "duration": 7,
    "start_time": "2022-02-22T15:03:12.661Z"
   },
   {
    "duration": 61,
    "start_time": "2022-02-22T15:03:12.670Z"
   },
   {
    "duration": 6,
    "start_time": "2022-02-22T15:03:12.734Z"
   },
   {
    "duration": 14,
    "start_time": "2022-02-22T15:03:12.743Z"
   },
   {
    "duration": 6,
    "start_time": "2022-02-22T15:03:12.760Z"
   },
   {
    "duration": 74,
    "start_time": "2022-02-22T15:03:12.768Z"
   },
   {
    "duration": 13,
    "start_time": "2022-02-22T15:03:12.844Z"
   },
   {
    "duration": 14,
    "start_time": "2022-02-22T15:03:12.859Z"
   },
   {
    "duration": 10,
    "start_time": "2022-02-22T15:03:12.876Z"
   },
   {
    "duration": 42,
    "start_time": "2022-02-22T15:03:12.888Z"
   },
   {
    "duration": 38,
    "start_time": "2022-02-22T15:03:12.933Z"
   },
   {
    "duration": 6,
    "start_time": "2022-02-22T15:03:12.973Z"
   },
   {
    "duration": 40,
    "start_time": "2022-02-22T15:03:12.988Z"
   },
   {
    "duration": 6,
    "start_time": "2022-02-22T15:03:13.031Z"
   },
   {
    "duration": 13,
    "start_time": "2022-02-22T15:03:13.040Z"
   },
   {
    "duration": 22,
    "start_time": "2022-02-22T15:03:13.055Z"
   },
   {
    "duration": 20,
    "start_time": "2022-02-22T15:03:13.079Z"
   },
   {
    "duration": 29,
    "start_time": "2022-02-22T15:03:13.102Z"
   },
   {
    "duration": 8,
    "start_time": "2022-02-22T15:03:13.134Z"
   },
   {
    "duration": 23,
    "start_time": "2022-02-22T15:03:13.145Z"
   },
   {
    "duration": 64,
    "start_time": "2022-02-22T15:03:13.171Z"
   },
   {
    "duration": 23,
    "start_time": "2022-02-22T15:03:13.237Z"
   },
   {
    "duration": 6,
    "start_time": "2022-02-22T15:03:13.262Z"
   },
   {
    "duration": 16,
    "start_time": "2022-02-22T15:03:13.270Z"
   },
   {
    "duration": 6,
    "start_time": "2022-02-22T15:03:13.288Z"
   },
   {
    "duration": 45,
    "start_time": "2022-02-22T15:03:13.296Z"
   },
   {
    "duration": 11,
    "start_time": "2022-02-22T15:03:13.343Z"
   },
   {
    "duration": 27,
    "start_time": "2022-02-22T15:03:13.356Z"
   },
   {
    "duration": 40,
    "start_time": "2022-02-22T15:03:13.386Z"
   },
   {
    "duration": 13,
    "start_time": "2022-02-22T15:03:13.428Z"
   },
   {
    "duration": 29,
    "start_time": "2022-02-22T15:03:13.444Z"
   },
   {
    "duration": 22,
    "start_time": "2022-02-22T15:03:13.475Z"
   },
   {
    "duration": 4,
    "start_time": "2022-02-22T15:03:13.526Z"
   },
   {
    "duration": 16,
    "start_time": "2022-02-22T15:03:13.533Z"
   },
   {
    "duration": 36,
    "start_time": "2022-02-22T15:03:13.552Z"
   },
   {
    "duration": 36,
    "start_time": "2022-02-22T15:03:13.590Z"
   },
   {
    "duration": 18,
    "start_time": "2022-02-22T15:03:49.992Z"
   },
   {
    "duration": 6427,
    "start_time": "2022-02-22T15:04:18.966Z"
   },
   {
    "duration": 6342,
    "start_time": "2022-02-22T15:04:52.098Z"
   },
   {
    "duration": 252,
    "start_time": "2022-02-22T15:05:56.171Z"
   },
   {
    "duration": 6253,
    "start_time": "2022-02-22T15:06:06.682Z"
   },
   {
    "duration": 6404,
    "start_time": "2022-02-22T15:06:31.558Z"
   },
   {
    "duration": 6967,
    "start_time": "2022-02-22T15:07:01.021Z"
   },
   {
    "duration": 20,
    "start_time": "2022-02-22T15:07:12.570Z"
   },
   {
    "duration": 12,
    "start_time": "2022-02-22T15:07:15.360Z"
   },
   {
    "duration": 7,
    "start_time": "2022-02-22T15:08:11.917Z"
   },
   {
    "duration": 6,
    "start_time": "2022-02-22T15:08:39.785Z"
   },
   {
    "duration": 18,
    "start_time": "2022-02-22T15:09:03.967Z"
   },
   {
    "duration": 13,
    "start_time": "2022-02-22T15:10:40.120Z"
   },
   {
    "duration": 23,
    "start_time": "2022-02-22T15:12:02.914Z"
   },
   {
    "duration": 9,
    "start_time": "2022-02-22T15:12:19.332Z"
   },
   {
    "duration": 13,
    "start_time": "2022-02-22T15:23:14.025Z"
   },
   {
    "duration": 25,
    "start_time": "2022-02-22T15:25:14.068Z"
   },
   {
    "duration": 14,
    "start_time": "2022-02-22T15:25:29.202Z"
   },
   {
    "duration": 26,
    "start_time": "2022-02-22T15:26:22.946Z"
   },
   {
    "duration": 13,
    "start_time": "2022-02-22T15:26:39.646Z"
   },
   {
    "duration": 11,
    "start_time": "2022-02-22T15:31:23.154Z"
   },
   {
    "duration": 913,
    "start_time": "2022-02-22T15:34:45.406Z"
   },
   {
    "duration": 17,
    "start_time": "2022-02-22T15:34:46.321Z"
   },
   {
    "duration": 59,
    "start_time": "2022-02-22T15:34:46.342Z"
   },
   {
    "duration": 26,
    "start_time": "2022-02-22T15:34:46.403Z"
   },
   {
    "duration": 6,
    "start_time": "2022-02-22T15:34:46.431Z"
   },
   {
    "duration": 11,
    "start_time": "2022-02-22T15:34:46.440Z"
   },
   {
    "duration": 17,
    "start_time": "2022-02-22T15:34:46.454Z"
   },
   {
    "duration": 13,
    "start_time": "2022-02-22T15:34:46.474Z"
   },
   {
    "duration": 31,
    "start_time": "2022-02-22T15:34:46.526Z"
   },
   {
    "duration": 10,
    "start_time": "2022-02-22T15:34:46.560Z"
   },
   {
    "duration": 58,
    "start_time": "2022-02-22T15:34:46.573Z"
   },
   {
    "duration": 6,
    "start_time": "2022-02-22T15:34:46.634Z"
   },
   {
    "duration": 7,
    "start_time": "2022-02-22T15:34:46.642Z"
   },
   {
    "duration": 11,
    "start_time": "2022-02-22T15:34:46.651Z"
   },
   {
    "duration": 8,
    "start_time": "2022-02-22T15:34:46.664Z"
   },
   {
    "duration": 64,
    "start_time": "2022-02-22T15:34:46.675Z"
   },
   {
    "duration": 5,
    "start_time": "2022-02-22T15:34:46.742Z"
   },
   {
    "duration": 11,
    "start_time": "2022-02-22T15:34:46.751Z"
   },
   {
    "duration": 9,
    "start_time": "2022-02-22T15:34:46.765Z"
   },
   {
    "duration": 70,
    "start_time": "2022-02-22T15:34:46.776Z"
   },
   {
    "duration": 13,
    "start_time": "2022-02-22T15:34:46.849Z"
   },
   {
    "duration": 17,
    "start_time": "2022-02-22T15:34:46.865Z"
   },
   {
    "duration": 45,
    "start_time": "2022-02-22T15:34:46.885Z"
   },
   {
    "duration": 14,
    "start_time": "2022-02-22T15:34:46.933Z"
   },
   {
    "duration": 45,
    "start_time": "2022-02-22T15:34:46.950Z"
   },
   {
    "duration": 5,
    "start_time": "2022-02-22T15:34:46.998Z"
   },
   {
    "duration": 6,
    "start_time": "2022-02-22T15:34:47.028Z"
   },
   {
    "duration": 14,
    "start_time": "2022-02-22T15:34:47.037Z"
   },
   {
    "duration": 23,
    "start_time": "2022-02-22T15:34:47.053Z"
   },
   {
    "duration": 19,
    "start_time": "2022-02-22T15:34:47.079Z"
   },
   {
    "duration": 30,
    "start_time": "2022-02-22T15:34:47.100Z"
   },
   {
    "duration": 7,
    "start_time": "2022-02-22T15:34:47.133Z"
   },
   {
    "duration": 9,
    "start_time": "2022-02-22T15:34:47.143Z"
   },
   {
    "duration": 74,
    "start_time": "2022-02-22T15:34:47.154Z"
   },
   {
    "duration": 28,
    "start_time": "2022-02-22T15:34:47.231Z"
   },
   {
    "duration": 25,
    "start_time": "2022-02-22T15:34:47.262Z"
   },
   {
    "duration": 6,
    "start_time": "2022-02-22T15:34:47.290Z"
   },
   {
    "duration": 24,
    "start_time": "2022-02-22T15:34:47.298Z"
   },
   {
    "duration": 10,
    "start_time": "2022-02-22T15:34:47.324Z"
   },
   {
    "duration": 14,
    "start_time": "2022-02-22T15:34:47.337Z"
   },
   {
    "duration": 8,
    "start_time": "2022-02-22T15:34:47.354Z"
   },
   {
    "duration": 27,
    "start_time": "2022-02-22T15:34:47.364Z"
   },
   {
    "duration": 5,
    "start_time": "2022-02-22T15:34:47.394Z"
   },
   {
    "duration": 18,
    "start_time": "2022-02-22T15:34:47.402Z"
   },
   {
    "duration": 29,
    "start_time": "2022-02-22T15:34:47.422Z"
   },
   {
    "duration": 35,
    "start_time": "2022-02-22T15:34:47.453Z"
   },
   {
    "duration": 6,
    "start_time": "2022-02-22T15:34:47.492Z"
   },
   {
    "duration": 20,
    "start_time": "2022-02-22T15:34:47.500Z"
   },
   {
    "duration": 29,
    "start_time": "2022-02-22T15:34:47.527Z"
   },
   {
    "duration": 7,
    "start_time": "2022-02-22T15:34:47.559Z"
   },
   {
    "duration": 33,
    "start_time": "2022-02-22T15:34:47.569Z"
   },
   {
    "duration": 21,
    "start_time": "2022-02-22T15:34:47.605Z"
   },
   {
    "duration": 26,
    "start_time": "2022-02-22T15:34:47.629Z"
   },
   {
    "duration": 12,
    "start_time": "2022-02-22T15:34:47.657Z"
   },
   {
    "duration": 47,
    "start_time": "2022-02-22T15:34:47.672Z"
   },
   {
    "duration": 12,
    "start_time": "2022-02-22T15:34:47.722Z"
   },
   {
    "duration": 38,
    "start_time": "2022-02-22T15:34:47.736Z"
   },
   {
    "duration": 16,
    "start_time": "2022-02-22T15:34:47.777Z"
   },
   {
    "duration": 6,
    "start_time": "2022-02-22T15:45:16.417Z"
   },
   {
    "duration": 6,
    "start_time": "2022-02-22T15:45:18.898Z"
   },
   {
    "duration": 8,
    "start_time": "2022-02-22T15:45:21.026Z"
   },
   {
    "duration": 872,
    "start_time": "2022-02-22T15:47:09.600Z"
   },
   {
    "duration": 18,
    "start_time": "2022-02-22T15:47:10.475Z"
   },
   {
    "duration": 63,
    "start_time": "2022-02-22T15:47:10.497Z"
   },
   {
    "duration": 14,
    "start_time": "2022-02-22T15:47:10.562Z"
   },
   {
    "duration": 6,
    "start_time": "2022-02-22T15:47:10.579Z"
   },
   {
    "duration": 41,
    "start_time": "2022-02-22T15:47:10.587Z"
   },
   {
    "duration": 15,
    "start_time": "2022-02-22T15:47:10.631Z"
   },
   {
    "duration": 13,
    "start_time": "2022-02-22T15:47:10.649Z"
   },
   {
    "duration": 62,
    "start_time": "2022-02-22T15:47:10.666Z"
   },
   {
    "duration": 10,
    "start_time": "2022-02-22T15:47:10.731Z"
   },
   {
    "duration": 35,
    "start_time": "2022-02-22T15:47:10.743Z"
   },
   {
    "duration": 7,
    "start_time": "2022-02-22T15:47:10.781Z"
   },
   {
    "duration": 40,
    "start_time": "2022-02-22T15:47:10.791Z"
   },
   {
    "duration": 6,
    "start_time": "2022-02-22T15:47:10.834Z"
   },
   {
    "duration": 13,
    "start_time": "2022-02-22T15:47:10.843Z"
   },
   {
    "duration": 9,
    "start_time": "2022-02-22T15:47:10.859Z"
   },
   {
    "duration": 63,
    "start_time": "2022-02-22T15:47:10.871Z"
   },
   {
    "duration": 9,
    "start_time": "2022-02-22T15:47:10.938Z"
   },
   {
    "duration": 10,
    "start_time": "2022-02-22T15:47:10.949Z"
   },
   {
    "duration": 8,
    "start_time": "2022-02-22T15:47:10.962Z"
   },
   {
    "duration": 81,
    "start_time": "2022-02-22T15:47:10.972Z"
   },
   {
    "duration": 12,
    "start_time": "2022-02-22T15:47:11.055Z"
   },
   {
    "duration": 12,
    "start_time": "2022-02-22T15:47:11.070Z"
   },
   {
    "duration": 45,
    "start_time": "2022-02-22T15:47:11.085Z"
   },
   {
    "duration": 12,
    "start_time": "2022-02-22T15:47:11.132Z"
   },
   {
    "duration": 44,
    "start_time": "2022-02-22T15:47:11.147Z"
   },
   {
    "duration": 6,
    "start_time": "2022-02-22T15:47:11.197Z"
   },
   {
    "duration": 6,
    "start_time": "2022-02-22T15:47:11.225Z"
   },
   {
    "duration": 8,
    "start_time": "2022-02-22T15:47:11.234Z"
   },
   {
    "duration": 8,
    "start_time": "2022-02-22T15:47:11.244Z"
   },
   {
    "duration": 17,
    "start_time": "2022-02-22T15:47:11.255Z"
   },
   {
    "duration": 55,
    "start_time": "2022-02-22T15:47:11.274Z"
   },
   {
    "duration": 7,
    "start_time": "2022-02-22T15:47:11.332Z"
   },
   {
    "duration": 7,
    "start_time": "2022-02-22T15:47:11.341Z"
   },
   {
    "duration": 26,
    "start_time": "2022-02-22T15:47:11.351Z"
   },
   {
    "duration": 67,
    "start_time": "2022-02-22T15:47:11.379Z"
   },
   {
    "duration": 26,
    "start_time": "2022-02-22T15:47:11.448Z"
   },
   {
    "duration": 5,
    "start_time": "2022-02-22T15:47:11.477Z"
   },
   {
    "duration": 19,
    "start_time": "2022-02-22T15:47:11.485Z"
   },
   {
    "duration": 5,
    "start_time": "2022-02-22T15:47:11.527Z"
   },
   {
    "duration": 22,
    "start_time": "2022-02-22T15:47:11.535Z"
   },
   {
    "duration": 9,
    "start_time": "2022-02-22T15:47:11.560Z"
   },
   {
    "duration": 30,
    "start_time": "2022-02-22T15:47:11.571Z"
   },
   {
    "duration": 5,
    "start_time": "2022-02-22T15:47:11.627Z"
   },
   {
    "duration": 15,
    "start_time": "2022-02-22T15:47:11.635Z"
   },
   {
    "duration": 28,
    "start_time": "2022-02-22T15:47:11.652Z"
   },
   {
    "duration": 53,
    "start_time": "2022-02-22T15:47:11.683Z"
   },
   {
    "duration": 5,
    "start_time": "2022-02-22T15:47:11.738Z"
   },
   {
    "duration": 18,
    "start_time": "2022-02-22T15:47:11.745Z"
   },
   {
    "duration": 34,
    "start_time": "2022-02-22T15:47:11.766Z"
   },
   {
    "duration": 29,
    "start_time": "2022-02-22T15:47:11.802Z"
   },
   {
    "duration": 26,
    "start_time": "2022-02-22T15:47:11.835Z"
   },
   {
    "duration": 17,
    "start_time": "2022-02-22T15:47:11.863Z"
   },
   {
    "duration": 65,
    "start_time": "2022-02-22T15:47:11.883Z"
   },
   {
    "duration": 13,
    "start_time": "2022-02-22T15:47:11.951Z"
   },
   {
    "duration": 32,
    "start_time": "2022-02-22T15:47:11.967Z"
   },
   {
    "duration": 33,
    "start_time": "2022-02-22T15:47:12.002Z"
   },
   {
    "duration": 25,
    "start_time": "2022-02-22T15:47:12.037Z"
   },
   {
    "duration": 12,
    "start_time": "2022-02-22T15:47:12.064Z"
   },
   {
    "duration": 12,
    "start_time": "2022-02-22T16:14:37.649Z"
   },
   {
    "duration": 7,
    "start_time": "2022-02-22T16:15:00.060Z"
   },
   {
    "duration": 10,
    "start_time": "2022-02-22T16:15:30.560Z"
   },
   {
    "duration": 7,
    "start_time": "2022-02-22T16:19:41.340Z"
   },
   {
    "duration": 12,
    "start_time": "2022-02-22T16:19:44.054Z"
   },
   {
    "duration": 7,
    "start_time": "2022-02-22T16:20:09.086Z"
   },
   {
    "duration": 12,
    "start_time": "2022-02-22T16:20:10.890Z"
   },
   {
    "duration": 23,
    "start_time": "2022-02-22T16:20:14.616Z"
   },
   {
    "duration": 8,
    "start_time": "2022-02-22T16:20:16.365Z"
   },
   {
    "duration": 11,
    "start_time": "2022-02-22T16:20:18.302Z"
   },
   {
    "duration": 7,
    "start_time": "2022-02-22T16:21:01.966Z"
   },
   {
    "duration": 12,
    "start_time": "2022-02-22T16:21:07.886Z"
   },
   {
    "duration": 15,
    "start_time": "2022-02-22T16:21:44.576Z"
   },
   {
    "duration": 9,
    "start_time": "2022-02-22T16:22:01.185Z"
   },
   {
    "duration": 15,
    "start_time": "2022-02-22T16:22:05.360Z"
   },
   {
    "duration": 7,
    "start_time": "2022-02-22T16:22:45.873Z"
   },
   {
    "duration": 26,
    "start_time": "2022-02-22T16:22:50.000Z"
   },
   {
    "duration": 8,
    "start_time": "2022-02-22T16:22:52.133Z"
   },
   {
    "duration": 11,
    "start_time": "2022-02-22T16:22:54.030Z"
   },
   {
    "duration": 8,
    "start_time": "2022-02-22T16:23:36.808Z"
   },
   {
    "duration": 11,
    "start_time": "2022-02-22T16:23:40.852Z"
   },
   {
    "duration": 7,
    "start_time": "2022-02-22T16:24:06.808Z"
   },
   {
    "duration": 11,
    "start_time": "2022-02-22T16:24:08.526Z"
   },
   {
    "duration": 7255,
    "start_time": "2022-02-22T16:26:58.004Z"
   },
   {
    "duration": 11,
    "start_time": "2022-02-22T16:27:15.974Z"
   },
   {
    "duration": 14,
    "start_time": "2022-02-22T16:28:12.254Z"
   },
   {
    "duration": 12,
    "start_time": "2022-02-22T16:28:39.063Z"
   },
   {
    "duration": 12,
    "start_time": "2022-02-22T16:28:53.991Z"
   },
   {
    "duration": 863,
    "start_time": "2022-02-22T17:19:53.925Z"
   },
   {
    "duration": 15,
    "start_time": "2022-02-22T17:19:54.790Z"
   },
   {
    "duration": 54,
    "start_time": "2022-02-22T17:19:54.809Z"
   },
   {
    "duration": 13,
    "start_time": "2022-02-22T17:19:54.866Z"
   },
   {
    "duration": 7,
    "start_time": "2022-02-22T17:19:54.882Z"
   },
   {
    "duration": 40,
    "start_time": "2022-02-22T17:19:54.891Z"
   },
   {
    "duration": 19,
    "start_time": "2022-02-22T17:19:54.934Z"
   },
   {
    "duration": 12,
    "start_time": "2022-02-22T17:19:54.956Z"
   },
   {
    "duration": 62,
    "start_time": "2022-02-22T17:19:54.972Z"
   },
   {
    "duration": 11,
    "start_time": "2022-02-22T17:19:55.038Z"
   },
   {
    "duration": 34,
    "start_time": "2022-02-22T17:19:55.051Z"
   },
   {
    "duration": 7,
    "start_time": "2022-02-22T17:19:55.088Z"
   },
   {
    "duration": 5,
    "start_time": "2022-02-22T17:19:55.127Z"
   },
   {
    "duration": 8,
    "start_time": "2022-02-22T17:19:55.134Z"
   },
   {
    "duration": 10,
    "start_time": "2022-02-22T17:19:55.144Z"
   },
   {
    "duration": 8,
    "start_time": "2022-02-22T17:19:55.157Z"
   },
   {
    "duration": 62,
    "start_time": "2022-02-22T17:19:55.168Z"
   },
   {
    "duration": 8,
    "start_time": "2022-02-22T17:19:55.233Z"
   },
   {
    "duration": 9,
    "start_time": "2022-02-22T17:19:55.244Z"
   },
   {
    "duration": 6,
    "start_time": "2022-02-22T17:19:55.256Z"
   },
   {
    "duration": 84,
    "start_time": "2022-02-22T17:19:55.264Z"
   },
   {
    "duration": 11,
    "start_time": "2022-02-22T17:19:55.351Z"
   },
   {
    "duration": 14,
    "start_time": "2022-02-22T17:19:55.364Z"
   },
   {
    "duration": 11,
    "start_time": "2022-02-22T17:19:55.381Z"
   },
   {
    "duration": 8,
    "start_time": "2022-02-22T17:19:55.426Z"
   },
   {
    "duration": 39,
    "start_time": "2022-02-22T17:19:55.436Z"
   },
   {
    "duration": 5,
    "start_time": "2022-02-22T17:19:55.481Z"
   },
   {
    "duration": 37,
    "start_time": "2022-02-22T17:19:55.489Z"
   },
   {
    "duration": 11,
    "start_time": "2022-02-22T17:19:55.529Z"
   },
   {
    "duration": 7,
    "start_time": "2022-02-22T17:19:55.543Z"
   },
   {
    "duration": 17,
    "start_time": "2022-02-22T17:19:55.552Z"
   },
   {
    "duration": 13,
    "start_time": "2022-02-22T17:19:55.571Z"
   },
   {
    "duration": 42,
    "start_time": "2022-02-22T17:19:55.587Z"
   },
   {
    "duration": 7,
    "start_time": "2022-02-22T17:19:55.631Z"
   },
   {
    "duration": 25,
    "start_time": "2022-02-22T17:19:55.641Z"
   },
   {
    "duration": 61,
    "start_time": "2022-02-22T17:19:55.669Z"
   },
   {
    "duration": 28,
    "start_time": "2022-02-22T17:19:55.733Z"
   },
   {
    "duration": 6,
    "start_time": "2022-02-22T17:19:55.763Z"
   },
   {
    "duration": 15,
    "start_time": "2022-02-22T17:19:55.771Z"
   },
   {
    "duration": 39,
    "start_time": "2022-02-22T17:19:55.789Z"
   },
   {
    "duration": 22,
    "start_time": "2022-02-22T17:19:55.830Z"
   },
   {
    "duration": 13,
    "start_time": "2022-02-22T17:19:55.855Z"
   },
   {
    "duration": 29,
    "start_time": "2022-02-22T17:19:55.870Z"
   },
   {
    "duration": 24,
    "start_time": "2022-02-22T17:19:55.902Z"
   },
   {
    "duration": 14,
    "start_time": "2022-02-22T17:19:55.928Z"
   },
   {
    "duration": 31,
    "start_time": "2022-02-22T17:19:55.944Z"
   },
   {
    "duration": 22,
    "start_time": "2022-02-22T17:19:55.977Z"
   },
   {
    "duration": 5,
    "start_time": "2022-02-22T17:19:56.027Z"
   },
   {
    "duration": 18,
    "start_time": "2022-02-22T17:19:56.034Z"
   },
   {
    "duration": 30,
    "start_time": "2022-02-22T17:19:56.054Z"
   },
   {
    "duration": 40,
    "start_time": "2022-02-22T17:19:56.087Z"
   },
   {
    "duration": 27,
    "start_time": "2022-02-22T17:19:56.130Z"
   },
   {
    "duration": 11,
    "start_time": "2022-02-22T17:19:56.160Z"
   },
   {
    "duration": 11,
    "start_time": "2022-02-22T17:19:56.174Z"
   },
   {
    "duration": 59,
    "start_time": "2022-02-22T17:19:56.188Z"
   },
   {
    "duration": 20,
    "start_time": "2022-02-22T17:19:56.249Z"
   },
   {
    "duration": 38,
    "start_time": "2022-02-22T17:19:56.272Z"
   },
   {
    "duration": 43,
    "start_time": "2022-02-22T17:19:56.313Z"
   },
   {
    "duration": 19,
    "start_time": "2022-02-22T17:19:56.359Z"
   },
   {
    "duration": 51,
    "start_time": "2022-02-22T17:19:56.380Z"
   },
   {
    "duration": 53,
    "start_time": "2022-02-22T17:19:56.433Z"
   },
   {
    "duration": 8,
    "start_time": "2022-02-22T17:19:56.488Z"
   },
   {
    "duration": 34,
    "start_time": "2022-02-22T17:19:56.499Z"
   },
   {
    "duration": 6,
    "start_time": "2022-02-22T17:26:54.801Z"
   },
   {
    "duration": 932,
    "start_time": "2022-02-22T17:31:50.513Z"
   },
   {
    "duration": 18,
    "start_time": "2022-02-22T17:31:51.447Z"
   },
   {
    "duration": 63,
    "start_time": "2022-02-22T17:31:51.468Z"
   },
   {
    "duration": 16,
    "start_time": "2022-02-22T17:31:51.534Z"
   },
   {
    "duration": 6,
    "start_time": "2022-02-22T17:31:51.553Z"
   },
   {
    "duration": 7,
    "start_time": "2022-02-22T17:31:51.562Z"
   },
   {
    "duration": 15,
    "start_time": "2022-02-22T17:31:51.571Z"
   },
   {
    "duration": 50,
    "start_time": "2022-02-22T17:31:51.588Z"
   },
   {
    "duration": 32,
    "start_time": "2022-02-22T17:31:51.642Z"
   },
   {
    "duration": 10,
    "start_time": "2022-02-22T17:31:51.677Z"
   },
   {
    "duration": 65,
    "start_time": "2022-02-22T17:31:51.690Z"
   },
   {
    "duration": 6,
    "start_time": "2022-02-22T17:31:51.757Z"
   },
   {
    "duration": 6,
    "start_time": "2022-02-22T17:31:51.765Z"
   },
   {
    "duration": 8,
    "start_time": "2022-02-22T17:31:51.773Z"
   },
   {
    "duration": 47,
    "start_time": "2022-02-22T17:31:51.783Z"
   },
   {
    "duration": 6,
    "start_time": "2022-02-22T17:31:51.832Z"
   },
   {
    "duration": 26,
    "start_time": "2022-02-22T17:31:51.841Z"
   },
   {
    "duration": 15,
    "start_time": "2022-02-22T17:31:51.870Z"
   },
   {
    "duration": 15,
    "start_time": "2022-02-22T17:31:51.888Z"
   },
   {
    "duration": 24,
    "start_time": "2022-02-22T17:31:51.906Z"
   },
   {
    "duration": 41,
    "start_time": "2022-02-22T17:31:51.932Z"
   },
   {
    "duration": 13,
    "start_time": "2022-02-22T17:31:51.975Z"
   },
   {
    "duration": 47,
    "start_time": "2022-02-22T17:31:51.990Z"
   },
   {
    "duration": 10,
    "start_time": "2022-02-22T17:31:52.040Z"
   },
   {
    "duration": 6,
    "start_time": "2022-02-22T17:31:52.053Z"
   },
   {
    "duration": 66,
    "start_time": "2022-02-22T17:31:52.062Z"
   },
   {
    "duration": 6,
    "start_time": "2022-02-22T17:31:52.134Z"
   },
   {
    "duration": 7,
    "start_time": "2022-02-22T17:31:52.143Z"
   },
   {
    "duration": 11,
    "start_time": "2022-02-22T17:31:52.152Z"
   },
   {
    "duration": 9,
    "start_time": "2022-02-22T17:31:52.166Z"
   },
   {
    "duration": 55,
    "start_time": "2022-02-22T17:31:52.177Z"
   },
   {
    "duration": 10,
    "start_time": "2022-02-22T17:31:52.234Z"
   },
   {
    "duration": 10,
    "start_time": "2022-02-22T17:31:52.247Z"
   },
   {
    "duration": 11,
    "start_time": "2022-02-22T17:31:52.259Z"
   },
   {
    "duration": 61,
    "start_time": "2022-02-22T17:31:52.272Z"
   },
   {
    "duration": 30,
    "start_time": "2022-02-22T17:31:52.336Z"
   },
   {
    "duration": 27,
    "start_time": "2022-02-22T17:31:52.369Z"
   },
   {
    "duration": 31,
    "start_time": "2022-02-22T17:31:52.398Z"
   },
   {
    "duration": 14,
    "start_time": "2022-02-22T17:31:52.432Z"
   },
   {
    "duration": 7,
    "start_time": "2022-02-22T17:31:52.448Z"
   },
   {
    "duration": 16,
    "start_time": "2022-02-22T17:31:52.457Z"
   },
   {
    "duration": 10,
    "start_time": "2022-02-22T17:31:52.476Z"
   },
   {
    "duration": 63,
    "start_time": "2022-02-22T17:31:52.488Z"
   },
   {
    "duration": 20,
    "start_time": "2022-02-22T17:31:52.554Z"
   },
   {
    "duration": 23,
    "start_time": "2022-02-22T17:31:52.577Z"
   },
   {
    "duration": 39,
    "start_time": "2022-02-22T17:31:52.603Z"
   },
   {
    "duration": 22,
    "start_time": "2022-02-22T17:31:52.644Z"
   },
   {
    "duration": 6,
    "start_time": "2022-02-22T17:31:52.669Z"
   },
   {
    "duration": 20,
    "start_time": "2022-02-22T17:31:52.677Z"
   },
   {
    "duration": 55,
    "start_time": "2022-02-22T17:31:52.700Z"
   },
   {
    "duration": 10,
    "start_time": "2022-02-22T17:31:52.758Z"
   },
   {
    "duration": 27,
    "start_time": "2022-02-22T17:31:52.770Z"
   },
   {
    "duration": 12,
    "start_time": "2022-02-22T17:31:52.826Z"
   },
   {
    "duration": 10,
    "start_time": "2022-02-22T17:31:52.840Z"
   },
   {
    "duration": 27,
    "start_time": "2022-02-22T17:31:52.853Z"
   },
   {
    "duration": 7,
    "start_time": "2022-02-22T17:31:52.882Z"
   },
   {
    "duration": 40,
    "start_time": "2022-02-22T17:31:52.892Z"
   },
   {
    "duration": 27,
    "start_time": "2022-02-22T17:31:52.935Z"
   },
   {
    "duration": 6,
    "start_time": "2022-02-22T17:31:52.965Z"
   },
   {
    "duration": 18,
    "start_time": "2022-02-22T17:31:52.974Z"
   },
   {
    "duration": 26,
    "start_time": "2022-02-22T17:31:53.027Z"
   },
   {
    "duration": 8,
    "start_time": "2022-02-22T17:31:53.055Z"
   },
   {
    "duration": 16,
    "start_time": "2022-02-22T17:31:53.066Z"
   },
   {
    "duration": 825,
    "start_time": "2022-03-04T17:20:37.841Z"
   },
   {
    "duration": 15,
    "start_time": "2022-03-04T17:20:38.669Z"
   },
   {
    "duration": 40,
    "start_time": "2022-03-04T17:20:38.687Z"
   },
   {
    "duration": 10,
    "start_time": "2022-03-04T17:20:38.729Z"
   },
   {
    "duration": 4,
    "start_time": "2022-03-04T17:20:38.741Z"
   },
   {
    "duration": 7,
    "start_time": "2022-03-04T17:20:38.747Z"
   },
   {
    "duration": 11,
    "start_time": "2022-03-04T17:20:38.757Z"
   },
   {
    "duration": 18,
    "start_time": "2022-03-04T17:20:38.803Z"
   },
   {
    "duration": 22,
    "start_time": "2022-03-04T17:20:38.823Z"
   },
   {
    "duration": 8,
    "start_time": "2022-03-04T17:20:38.847Z"
   },
   {
    "duration": 48,
    "start_time": "2022-03-04T17:20:38.857Z"
   },
   {
    "duration": 5,
    "start_time": "2022-03-04T17:20:38.907Z"
   },
   {
    "duration": 8,
    "start_time": "2022-03-04T17:20:38.913Z"
   },
   {
    "duration": 4,
    "start_time": "2022-03-04T17:20:38.923Z"
   },
   {
    "duration": 11,
    "start_time": "2022-03-04T17:20:38.929Z"
   },
   {
    "duration": 10,
    "start_time": "2022-03-04T17:20:38.942Z"
   },
   {
    "duration": 16,
    "start_time": "2022-03-04T17:20:38.953Z"
   },
   {
    "duration": 10,
    "start_time": "2022-03-04T17:20:38.971Z"
   },
   {
    "duration": 20,
    "start_time": "2022-03-04T17:20:38.983Z"
   },
   {
    "duration": 7,
    "start_time": "2022-03-04T17:20:39.005Z"
   },
   {
    "duration": 28,
    "start_time": "2022-03-04T17:20:39.014Z"
   },
   {
    "duration": 8,
    "start_time": "2022-03-04T17:20:39.043Z"
   },
   {
    "duration": 11,
    "start_time": "2022-03-04T17:20:39.055Z"
   },
   {
    "duration": 34,
    "start_time": "2022-03-04T17:20:39.068Z"
   },
   {
    "duration": 3,
    "start_time": "2022-03-04T17:20:39.104Z"
   },
   {
    "duration": 27,
    "start_time": "2022-03-04T17:20:39.109Z"
   },
   {
    "duration": 4,
    "start_time": "2022-03-04T17:20:39.137Z"
   },
   {
    "duration": 6,
    "start_time": "2022-03-04T17:20:39.143Z"
   },
   {
    "duration": 9,
    "start_time": "2022-03-04T17:20:39.151Z"
   },
   {
    "duration": 9,
    "start_time": "2022-03-04T17:20:39.162Z"
   },
   {
    "duration": 17,
    "start_time": "2022-03-04T17:20:39.202Z"
   },
   {
    "duration": 10,
    "start_time": "2022-03-04T17:20:39.221Z"
   },
   {
    "duration": 7,
    "start_time": "2022-03-04T17:20:39.233Z"
   },
   {
    "duration": 6,
    "start_time": "2022-03-04T17:20:39.242Z"
   },
   {
    "duration": 51,
    "start_time": "2022-03-04T17:20:39.250Z"
   },
   {
    "duration": 24,
    "start_time": "2022-03-04T17:20:39.304Z"
   },
   {
    "duration": 22,
    "start_time": "2022-03-04T17:20:39.330Z"
   },
   {
    "duration": 5,
    "start_time": "2022-03-04T17:20:39.354Z"
   },
   {
    "duration": 11,
    "start_time": "2022-03-04T17:20:39.361Z"
   },
   {
    "duration": 30,
    "start_time": "2022-03-04T17:20:39.374Z"
   },
   {
    "duration": 11,
    "start_time": "2022-03-04T17:20:39.406Z"
   },
   {
    "duration": 6,
    "start_time": "2022-03-04T17:20:39.419Z"
   },
   {
    "duration": 26,
    "start_time": "2022-03-04T17:20:39.427Z"
   },
   {
    "duration": 5,
    "start_time": "2022-03-04T17:20:39.455Z"
   },
   {
    "duration": 15,
    "start_time": "2022-03-04T17:20:39.462Z"
   },
   {
    "duration": 37,
    "start_time": "2022-03-04T17:20:39.479Z"
   },
   {
    "duration": 14,
    "start_time": "2022-03-04T17:20:39.518Z"
   },
   {
    "duration": 7,
    "start_time": "2022-03-04T17:20:39.533Z"
   },
   {
    "duration": 12,
    "start_time": "2022-03-04T17:20:39.542Z"
   },
   {
    "duration": 22,
    "start_time": "2022-03-04T17:20:39.556Z"
   },
   {
    "duration": 27,
    "start_time": "2022-03-04T17:20:39.580Z"
   },
   {
    "duration": 14,
    "start_time": "2022-03-04T17:20:39.608Z"
   },
   {
    "duration": 7,
    "start_time": "2022-03-04T17:20:39.624Z"
   },
   {
    "duration": 11,
    "start_time": "2022-03-04T17:20:39.632Z"
   },
   {
    "duration": 24,
    "start_time": "2022-03-04T17:20:39.645Z"
   },
   {
    "duration": 35,
    "start_time": "2022-03-04T17:20:39.670Z"
   },
   {
    "duration": 8,
    "start_time": "2022-03-04T17:20:39.707Z"
   },
   {
    "duration": 14,
    "start_time": "2022-03-04T17:20:39.717Z"
   },
   {
    "duration": 4,
    "start_time": "2022-03-04T17:20:39.732Z"
   },
   {
    "duration": 11,
    "start_time": "2022-03-04T17:20:39.738Z"
   },
   {
    "duration": 17,
    "start_time": "2022-03-04T17:20:39.750Z"
   },
   {
    "duration": 4,
    "start_time": "2022-03-04T17:20:39.769Z"
   },
   {
    "duration": 30,
    "start_time": "2022-03-04T17:20:39.774Z"
   },
   {
    "duration": 656,
    "start_time": "2022-03-05T11:51:38.401Z"
   },
   {
    "duration": 12,
    "start_time": "2022-03-05T11:51:42.690Z"
   },
   {
    "duration": 30,
    "start_time": "2022-03-05T11:51:46.871Z"
   },
   {
    "duration": 284,
    "start_time": "2022-03-05T11:52:18.551Z"
   },
   {
    "duration": 13,
    "start_time": "2022-03-05T11:52:37.358Z"
   },
   {
    "duration": 11,
    "start_time": "2022-03-05T11:54:32.570Z"
   },
   {
    "duration": 11,
    "start_time": "2022-03-05T11:54:45.928Z"
   },
   {
    "duration": 52,
    "start_time": "2022-03-05T12:15:13.058Z"
   },
   {
    "duration": 339,
    "start_time": "2022-03-05T12:15:13.112Z"
   },
   {
    "duration": 27,
    "start_time": "2022-03-05T12:15:13.454Z"
   },
   {
    "duration": 35,
    "start_time": "2022-03-05T12:15:13.483Z"
   },
   {
    "duration": 23,
    "start_time": "2022-03-05T12:15:13.521Z"
   },
   {
    "duration": 30,
    "start_time": "2022-03-05T12:15:13.546Z"
   },
   {
    "duration": 35,
    "start_time": "2022-03-05T12:15:13.578Z"
   },
   {
    "duration": 24,
    "start_time": "2022-03-05T12:15:13.616Z"
   },
   {
    "duration": 43,
    "start_time": "2022-03-05T12:15:13.643Z"
   },
   {
    "duration": 8,
    "start_time": "2022-03-05T12:15:13.689Z"
   },
   {
    "duration": 45,
    "start_time": "2022-03-05T12:15:13.699Z"
   },
   {
    "duration": 8,
    "start_time": "2022-03-05T12:15:13.746Z"
   },
   {
    "duration": 22,
    "start_time": "2022-03-05T12:15:13.756Z"
   },
   {
    "duration": 33,
    "start_time": "2022-03-05T12:15:13.779Z"
   },
   {
    "duration": 27,
    "start_time": "2022-03-05T12:15:13.814Z"
   },
   {
    "duration": 199,
    "start_time": "2022-03-05T12:15:13.843Z"
   },
   {
    "duration": 33,
    "start_time": "2022-03-05T12:15:14.044Z"
   },
   {
    "duration": 18,
    "start_time": "2022-03-05T12:15:14.079Z"
   },
   {
    "duration": 23,
    "start_time": "2022-03-05T12:15:14.099Z"
   },
   {
    "duration": 28,
    "start_time": "2022-03-05T12:15:14.123Z"
   },
   {
    "duration": 55,
    "start_time": "2022-03-05T12:15:14.153Z"
   },
   {
    "duration": 11,
    "start_time": "2022-03-05T12:15:14.210Z"
   },
   {
    "duration": 35,
    "start_time": "2022-03-05T12:15:14.223Z"
   },
   {
    "duration": 21,
    "start_time": "2022-03-05T12:15:14.260Z"
   },
   {
    "duration": 25,
    "start_time": "2022-03-05T12:15:14.283Z"
   },
   {
    "duration": 42,
    "start_time": "2022-03-05T12:15:14.310Z"
   },
   {
    "duration": 6,
    "start_time": "2022-03-05T12:15:14.355Z"
   },
   {
    "duration": 28,
    "start_time": "2022-03-05T12:15:14.363Z"
   },
   {
    "duration": 23,
    "start_time": "2022-03-05T12:15:14.394Z"
   },
   {
    "duration": 30,
    "start_time": "2022-03-05T12:15:14.419Z"
   },
   {
    "duration": 35,
    "start_time": "2022-03-05T12:15:14.451Z"
   },
   {
    "duration": 33,
    "start_time": "2022-03-05T12:15:14.488Z"
   },
   {
    "duration": 24,
    "start_time": "2022-03-05T12:15:14.523Z"
   },
   {
    "duration": 21,
    "start_time": "2022-03-05T12:15:14.549Z"
   },
   {
    "duration": 49,
    "start_time": "2022-03-05T12:15:14.572Z"
   },
   {
    "duration": 28,
    "start_time": "2022-03-05T12:15:14.623Z"
   },
   {
    "duration": 25,
    "start_time": "2022-03-05T12:15:14.653Z"
   },
   {
    "duration": 5,
    "start_time": "2022-03-05T12:15:14.680Z"
   },
   {
    "duration": 7,
    "start_time": "2022-03-05T12:16:00.891Z"
   },
   {
    "duration": 11,
    "start_time": "2022-03-05T12:16:03.360Z"
   },
   {
    "duration": 7,
    "start_time": "2022-03-05T12:16:29.021Z"
   },
   {
    "duration": 7,
    "start_time": "2022-03-05T12:16:31.398Z"
   },
   {
    "duration": 7,
    "start_time": "2022-03-05T12:17:59.542Z"
   },
   {
    "duration": 8,
    "start_time": "2022-03-05T12:19:23.542Z"
   },
   {
    "duration": 8,
    "start_time": "2022-03-05T12:19:25.688Z"
   },
   {
    "duration": 8,
    "start_time": "2022-03-05T12:19:27.530Z"
   },
   {
    "duration": 6,
    "start_time": "2022-03-05T12:19:29.446Z"
   },
   {
    "duration": 7,
    "start_time": "2022-03-05T12:19:32.108Z"
   },
   {
    "duration": 7,
    "start_time": "2022-03-05T12:21:24.544Z"
   },
   {
    "duration": 223,
    "start_time": "2022-03-05T12:25:21.971Z"
   },
   {
    "duration": 290,
    "start_time": "2022-03-05T12:25:58.147Z"
   },
   {
    "duration": 3,
    "start_time": "2022-03-05T12:26:26.393Z"
   },
   {
    "duration": 51,
    "start_time": "2022-03-05T12:26:33.010Z"
   },
   {
    "duration": 11,
    "start_time": "2022-03-05T12:26:33.063Z"
   },
   {
    "duration": 14,
    "start_time": "2022-03-05T12:26:33.076Z"
   },
   {
    "duration": 20,
    "start_time": "2022-03-05T12:26:33.091Z"
   },
   {
    "duration": 9,
    "start_time": "2022-03-05T12:26:33.113Z"
   },
   {
    "duration": 13,
    "start_time": "2022-03-05T12:26:33.124Z"
   },
   {
    "duration": 23,
    "start_time": "2022-03-05T12:26:33.139Z"
   },
   {
    "duration": 18,
    "start_time": "2022-03-05T12:26:33.164Z"
   },
   {
    "duration": 36,
    "start_time": "2022-03-05T12:26:33.185Z"
   },
   {
    "duration": 8,
    "start_time": "2022-03-05T12:26:33.223Z"
   },
   {
    "duration": 28,
    "start_time": "2022-03-05T12:26:33.233Z"
   },
   {
    "duration": 5,
    "start_time": "2022-03-05T12:26:33.263Z"
   },
   {
    "duration": 34,
    "start_time": "2022-03-05T12:26:33.270Z"
   },
   {
    "duration": 12,
    "start_time": "2022-03-05T12:26:33.306Z"
   },
   {
    "duration": 10,
    "start_time": "2022-03-05T12:26:33.320Z"
   },
   {
    "duration": 10,
    "start_time": "2022-03-05T12:26:33.332Z"
   },
   {
    "duration": 16,
    "start_time": "2022-03-05T12:26:33.345Z"
   },
   {
    "duration": 14,
    "start_time": "2022-03-05T12:26:33.363Z"
   },
   {
    "duration": 24,
    "start_time": "2022-03-05T12:26:33.379Z"
   },
   {
    "duration": 4,
    "start_time": "2022-03-05T12:26:33.404Z"
   },
   {
    "duration": 35,
    "start_time": "2022-03-05T12:26:33.410Z"
   },
   {
    "duration": 9,
    "start_time": "2022-03-05T12:26:33.447Z"
   },
   {
    "duration": 13,
    "start_time": "2022-03-05T12:26:33.457Z"
   },
   {
    "duration": 35,
    "start_time": "2022-03-05T12:26:33.472Z"
   },
   {
    "duration": 9,
    "start_time": "2022-03-05T12:26:33.509Z"
   },
   {
    "duration": 32,
    "start_time": "2022-03-05T12:26:33.520Z"
   },
   {
    "duration": 4,
    "start_time": "2022-03-05T12:26:33.554Z"
   },
   {
    "duration": 9,
    "start_time": "2022-03-05T12:26:33.560Z"
   },
   {
    "duration": 9,
    "start_time": "2022-03-05T12:26:33.571Z"
   },
   {
    "duration": 5,
    "start_time": "2022-03-05T12:26:33.602Z"
   },
   {
    "duration": 15,
    "start_time": "2022-03-05T12:26:33.609Z"
   },
   {
    "duration": 14,
    "start_time": "2022-03-05T12:26:33.628Z"
   },
   {
    "duration": 8,
    "start_time": "2022-03-05T12:26:33.645Z"
   },
   {
    "duration": 20,
    "start_time": "2022-03-05T12:26:33.655Z"
   },
   {
    "duration": 34,
    "start_time": "2022-03-05T12:26:33.677Z"
   },
   {
    "duration": 39,
    "start_time": "2022-03-05T12:26:33.713Z"
   },
   {
    "duration": 17,
    "start_time": "2022-03-05T12:26:33.754Z"
   },
   {
    "duration": 15,
    "start_time": "2022-03-05T12:26:33.772Z"
   },
   {
    "duration": 17,
    "start_time": "2022-03-05T12:26:33.789Z"
   },
   {
    "duration": 21,
    "start_time": "2022-03-05T12:26:33.807Z"
   },
   {
    "duration": 19,
    "start_time": "2022-03-05T12:26:33.830Z"
   },
   {
    "duration": 17,
    "start_time": "2022-03-05T12:26:33.850Z"
   },
   {
    "duration": 12,
    "start_time": "2022-03-05T12:26:33.869Z"
   },
   {
    "duration": 22,
    "start_time": "2022-03-05T12:26:33.883Z"
   },
   {
    "duration": 16,
    "start_time": "2022-03-05T12:26:33.907Z"
   },
   {
    "duration": 20,
    "start_time": "2022-03-05T12:26:33.925Z"
   },
   {
    "duration": 24,
    "start_time": "2022-03-05T12:26:33.947Z"
   },
   {
    "duration": 20,
    "start_time": "2022-03-05T12:26:33.973Z"
   },
   {
    "duration": 40,
    "start_time": "2022-03-05T12:26:33.995Z"
   },
   {
    "duration": 18,
    "start_time": "2022-03-05T12:28:42.294Z"
   },
   {
    "duration": 10,
    "start_time": "2022-03-05T12:29:27.721Z"
   },
   {
    "duration": 4,
    "start_time": "2022-03-05T12:30:34.621Z"
   },
   {
    "duration": 11,
    "start_time": "2022-03-05T12:34:52.974Z"
   },
   {
    "duration": 12,
    "start_time": "2022-03-05T12:35:45.009Z"
   },
   {
    "duration": 17,
    "start_time": "2022-03-05T12:35:53.799Z"
   },
   {
    "duration": 48,
    "start_time": "2022-03-05T12:38:31.150Z"
   },
   {
    "duration": 12,
    "start_time": "2022-03-05T12:38:31.200Z"
   },
   {
    "duration": 23,
    "start_time": "2022-03-05T12:38:31.214Z"
   },
   {
    "duration": 16,
    "start_time": "2022-03-05T12:38:31.239Z"
   },
   {
    "duration": 12,
    "start_time": "2022-03-05T12:38:31.257Z"
   },
   {
    "duration": 34,
    "start_time": "2022-03-05T12:38:31.271Z"
   },
   {
    "duration": 21,
    "start_time": "2022-03-05T12:38:31.307Z"
   },
   {
    "duration": 15,
    "start_time": "2022-03-05T12:38:31.330Z"
   },
   {
    "duration": 24,
    "start_time": "2022-03-05T12:38:31.349Z"
   },
   {
    "duration": 13,
    "start_time": "2022-03-05T12:38:31.403Z"
   },
   {
    "duration": 41,
    "start_time": "2022-03-05T12:38:31.418Z"
   },
   {
    "duration": 16,
    "start_time": "2022-03-05T12:38:31.461Z"
   },
   {
    "duration": 22,
    "start_time": "2022-03-05T12:38:31.479Z"
   },
   {
    "duration": 23,
    "start_time": "2022-03-05T12:38:31.504Z"
   },
   {
    "duration": 35,
    "start_time": "2022-03-05T12:38:31.529Z"
   },
   {
    "duration": 29,
    "start_time": "2022-03-05T12:38:31.566Z"
   },
   {
    "duration": 27,
    "start_time": "2022-03-05T12:38:31.597Z"
   },
   {
    "duration": 8,
    "start_time": "2022-03-05T12:38:31.626Z"
   },
   {
    "duration": 19,
    "start_time": "2022-03-05T12:38:31.636Z"
   },
   {
    "duration": 13,
    "start_time": "2022-03-05T12:38:31.657Z"
   },
   {
    "duration": 38,
    "start_time": "2022-03-05T12:38:31.672Z"
   },
   {
    "duration": 9,
    "start_time": "2022-03-05T12:38:31.712Z"
   },
   {
    "duration": 32,
    "start_time": "2022-03-05T12:38:31.723Z"
   },
   {
    "duration": 23,
    "start_time": "2022-03-05T12:38:31.757Z"
   },
   {
    "duration": 15,
    "start_time": "2022-03-05T12:38:31.784Z"
   },
   {
    "duration": 32,
    "start_time": "2022-03-05T12:38:31.802Z"
   },
   {
    "duration": 4,
    "start_time": "2022-03-05T12:38:31.836Z"
   },
   {
    "duration": 20,
    "start_time": "2022-03-05T12:38:31.842Z"
   },
   {
    "duration": 14,
    "start_time": "2022-03-05T12:38:31.864Z"
   },
   {
    "duration": 12,
    "start_time": "2022-03-05T12:38:31.880Z"
   },
   {
    "duration": 37,
    "start_time": "2022-03-05T12:38:31.894Z"
   },
   {
    "duration": 18,
    "start_time": "2022-03-05T12:38:31.933Z"
   },
   {
    "duration": 31,
    "start_time": "2022-03-05T12:38:31.953Z"
   },
   {
    "duration": 13,
    "start_time": "2022-03-05T12:38:31.985Z"
   },
   {
    "duration": 27,
    "start_time": "2022-03-05T12:38:32.000Z"
   },
   {
    "duration": 21,
    "start_time": "2022-03-05T12:38:32.029Z"
   },
   {
    "duration": 17,
    "start_time": "2022-03-05T12:38:32.053Z"
   },
   {
    "duration": 5,
    "start_time": "2022-03-05T12:38:32.072Z"
   },
   {
    "duration": 28,
    "start_time": "2022-03-05T12:38:32.079Z"
   },
   {
    "duration": 20,
    "start_time": "2022-03-05T12:38:32.109Z"
   },
   {
    "duration": 16,
    "start_time": "2022-03-05T12:38:32.131Z"
   },
   {
    "duration": 19,
    "start_time": "2022-03-05T12:38:32.149Z"
   },
   {
    "duration": 11,
    "start_time": "2022-03-05T12:38:32.170Z"
   },
   {
    "duration": 15,
    "start_time": "2022-03-05T12:38:32.184Z"
   },
   {
    "duration": 20,
    "start_time": "2022-03-05T12:38:32.201Z"
   },
   {
    "duration": 10,
    "start_time": "2022-03-05T12:38:32.223Z"
   },
   {
    "duration": 14,
    "start_time": "2022-03-05T12:38:32.235Z"
   },
   {
    "duration": 34,
    "start_time": "2022-03-05T12:38:32.251Z"
   },
   {
    "duration": 23,
    "start_time": "2022-03-05T12:38:32.287Z"
   },
   {
    "duration": 14,
    "start_time": "2022-03-05T12:38:32.313Z"
   },
   {
    "duration": 22,
    "start_time": "2022-03-05T12:38:32.330Z"
   },
   {
    "duration": 42,
    "start_time": "2022-03-05T12:38:32.355Z"
   },
   {
    "duration": 37,
    "start_time": "2022-03-05T12:38:32.399Z"
   },
   {
    "duration": 24,
    "start_time": "2022-03-05T12:38:32.439Z"
   },
   {
    "duration": 20,
    "start_time": "2022-03-05T12:38:32.465Z"
   },
   {
    "duration": 20,
    "start_time": "2022-03-05T12:38:32.487Z"
   },
   {
    "duration": 16,
    "start_time": "2022-03-05T12:38:32.510Z"
   },
   {
    "duration": 20,
    "start_time": "2022-03-05T12:39:06.184Z"
   },
   {
    "duration": 6,
    "start_time": "2022-03-05T12:39:08.328Z"
   },
   {
    "duration": 10,
    "start_time": "2022-03-05T12:39:11.159Z"
   },
   {
    "duration": 5,
    "start_time": "2022-03-05T12:40:40.286Z"
   },
   {
    "duration": 10,
    "start_time": "2022-03-05T12:40:49.605Z"
   },
   {
    "duration": 244,
    "start_time": "2022-03-05T12:41:56.797Z"
   },
   {
    "duration": 513,
    "start_time": "2022-03-05T12:42:20.626Z"
   },
   {
    "duration": 13,
    "start_time": "2022-03-05T12:42:37.259Z"
   },
   {
    "duration": 3,
    "start_time": "2022-03-05T12:42:57.473Z"
   },
   {
    "duration": 11,
    "start_time": "2022-03-05T12:43:09.162Z"
   },
   {
    "duration": 76,
    "start_time": "2022-03-05T12:43:42.633Z"
   },
   {
    "duration": 18,
    "start_time": "2022-03-05T12:43:42.711Z"
   },
   {
    "duration": 20,
    "start_time": "2022-03-05T12:43:42.732Z"
   },
   {
    "duration": 12,
    "start_time": "2022-03-05T12:43:42.753Z"
   },
   {
    "duration": 5,
    "start_time": "2022-03-05T12:43:42.767Z"
   },
   {
    "duration": 31,
    "start_time": "2022-03-05T12:43:42.773Z"
   },
   {
    "duration": 14,
    "start_time": "2022-03-05T12:43:42.806Z"
   },
   {
    "duration": 10,
    "start_time": "2022-03-05T12:43:42.822Z"
   },
   {
    "duration": 70,
    "start_time": "2022-03-05T12:43:42.835Z"
   },
   {
    "duration": 8,
    "start_time": "2022-03-05T12:43:42.907Z"
   },
   {
    "duration": 28,
    "start_time": "2022-03-05T12:43:42.917Z"
   },
   {
    "duration": 6,
    "start_time": "2022-03-05T12:43:42.948Z"
   },
   {
    "duration": 45,
    "start_time": "2022-03-05T12:43:42.956Z"
   },
   {
    "duration": 4,
    "start_time": "2022-03-05T12:43:43.003Z"
   },
   {
    "duration": 13,
    "start_time": "2022-03-05T12:43:43.009Z"
   },
   {
    "duration": 11,
    "start_time": "2022-03-05T12:43:43.025Z"
   },
   {
    "duration": 25,
    "start_time": "2022-03-05T12:43:43.038Z"
   },
   {
    "duration": 36,
    "start_time": "2022-03-05T12:43:43.065Z"
   },
   {
    "duration": 9,
    "start_time": "2022-03-05T12:43:43.104Z"
   },
   {
    "duration": 11,
    "start_time": "2022-03-05T12:43:43.115Z"
   },
   {
    "duration": 29,
    "start_time": "2022-03-05T12:43:43.128Z"
   },
   {
    "duration": 9,
    "start_time": "2022-03-05T12:43:43.159Z"
   },
   {
    "duration": 41,
    "start_time": "2022-03-05T12:43:43.171Z"
   },
   {
    "duration": 8,
    "start_time": "2022-03-05T12:43:43.215Z"
   },
   {
    "duration": 8,
    "start_time": "2022-03-05T12:43:43.224Z"
   },
   {
    "duration": 26,
    "start_time": "2022-03-05T12:43:43.234Z"
   },
   {
    "duration": 4,
    "start_time": "2022-03-05T12:43:43.262Z"
   },
   {
    "duration": 33,
    "start_time": "2022-03-05T12:43:43.268Z"
   },
   {
    "duration": 8,
    "start_time": "2022-03-05T12:43:43.303Z"
   },
   {
    "duration": 9,
    "start_time": "2022-03-05T12:43:43.313Z"
   },
   {
    "duration": 16,
    "start_time": "2022-03-05T12:43:43.324Z"
   },
   {
    "duration": 77,
    "start_time": "2022-03-05T12:43:43.342Z"
   },
   {
    "duration": 6,
    "start_time": "2022-03-05T12:43:43.422Z"
   },
   {
    "duration": 7,
    "start_time": "2022-03-05T12:43:43.430Z"
   },
   {
    "duration": 21,
    "start_time": "2022-03-05T12:43:43.438Z"
   },
   {
    "duration": 54,
    "start_time": "2022-03-05T12:43:43.461Z"
   },
   {
    "duration": 19,
    "start_time": "2022-03-05T12:43:43.518Z"
   },
   {
    "duration": 5,
    "start_time": "2022-03-05T12:43:43.539Z"
   },
   {
    "duration": 19,
    "start_time": "2022-03-05T12:43:43.546Z"
   },
   {
    "duration": 10,
    "start_time": "2022-03-05T12:43:43.567Z"
   },
   {
    "duration": 6,
    "start_time": "2022-03-05T12:43:43.600Z"
   },
   {
    "duration": 9,
    "start_time": "2022-03-05T12:43:43.608Z"
   },
   {
    "duration": 7,
    "start_time": "2022-03-05T12:43:43.620Z"
   },
   {
    "duration": 17,
    "start_time": "2022-03-05T12:43:43.629Z"
   },
   {
    "duration": 13,
    "start_time": "2022-03-05T12:43:43.648Z"
   },
   {
    "duration": 10,
    "start_time": "2022-03-05T12:43:43.663Z"
   },
   {
    "duration": 29,
    "start_time": "2022-03-05T12:43:43.675Z"
   },
   {
    "duration": 8,
    "start_time": "2022-03-05T12:43:43.706Z"
   },
   {
    "duration": 20,
    "start_time": "2022-03-05T12:43:43.716Z"
   },
   {
    "duration": 11,
    "start_time": "2022-03-05T12:43:43.738Z"
   },
   {
    "duration": 16,
    "start_time": "2022-03-05T12:43:43.751Z"
   },
   {
    "duration": 24,
    "start_time": "2022-03-05T12:43:43.769Z"
   },
   {
    "duration": 26,
    "start_time": "2022-03-05T12:43:43.794Z"
   },
   {
    "duration": 8,
    "start_time": "2022-03-05T12:43:43.821Z"
   },
   {
    "duration": 29,
    "start_time": "2022-03-05T12:43:43.831Z"
   },
   {
    "duration": 18,
    "start_time": "2022-03-05T12:43:43.865Z"
   },
   {
    "duration": 14,
    "start_time": "2022-03-05T12:43:43.885Z"
   },
   {
    "duration": 24,
    "start_time": "2022-03-05T12:43:43.900Z"
   },
   {
    "duration": 2,
    "start_time": "2022-03-05T12:43:43.926Z"
   },
   {
    "duration": 10,
    "start_time": "2022-03-05T12:43:51.963Z"
   },
   {
    "duration": 10,
    "start_time": "2022-03-05T12:44:17.211Z"
   },
   {
    "duration": 10,
    "start_time": "2022-03-05T12:47:00.400Z"
   },
   {
    "duration": 5,
    "start_time": "2022-03-05T12:47:10.221Z"
   },
   {
    "duration": 8,
    "start_time": "2022-03-05T12:47:12.051Z"
   },
   {
    "duration": 322,
    "start_time": "2022-03-05T12:52:01.801Z"
   },
   {
    "duration": 3,
    "start_time": "2022-03-05T12:52:05.922Z"
   },
   {
    "duration": 671,
    "start_time": "2022-03-05T12:52:22.161Z"
   },
   {
    "duration": 15,
    "start_time": "2022-03-05T12:52:22.834Z"
   },
   {
    "duration": 35,
    "start_time": "2022-03-05T12:52:22.852Z"
   },
   {
    "duration": 17,
    "start_time": "2022-03-05T12:52:22.890Z"
   },
   {
    "duration": 10,
    "start_time": "2022-03-05T12:52:22.909Z"
   },
   {
    "duration": 14,
    "start_time": "2022-03-05T12:52:22.921Z"
   },
   {
    "duration": 30,
    "start_time": "2022-03-05T12:52:22.937Z"
   },
   {
    "duration": 14,
    "start_time": "2022-03-05T12:52:22.969Z"
   },
   {
    "duration": 32,
    "start_time": "2022-03-05T12:52:22.986Z"
   },
   {
    "duration": 7,
    "start_time": "2022-03-05T12:52:23.021Z"
   },
   {
    "duration": 33,
    "start_time": "2022-03-05T12:52:23.030Z"
   },
   {
    "duration": 5,
    "start_time": "2022-03-05T12:52:23.065Z"
   },
   {
    "duration": 13,
    "start_time": "2022-03-05T12:52:23.072Z"
   },
   {
    "duration": 16,
    "start_time": "2022-03-05T12:52:23.087Z"
   },
   {
    "duration": 24,
    "start_time": "2022-03-05T12:52:23.105Z"
   },
   {
    "duration": 16,
    "start_time": "2022-03-05T12:52:23.131Z"
   },
   {
    "duration": 30,
    "start_time": "2022-03-05T12:52:23.149Z"
   },
   {
    "duration": 13,
    "start_time": "2022-03-05T12:52:23.181Z"
   },
   {
    "duration": 17,
    "start_time": "2022-03-05T12:52:23.196Z"
   },
   {
    "duration": 20,
    "start_time": "2022-03-05T12:52:23.214Z"
   },
   {
    "duration": 37,
    "start_time": "2022-03-05T12:52:23.235Z"
   },
   {
    "duration": 9,
    "start_time": "2022-03-05T12:52:23.273Z"
   },
   {
    "duration": 12,
    "start_time": "2022-03-05T12:52:23.284Z"
   },
   {
    "duration": 13,
    "start_time": "2022-03-05T12:52:23.298Z"
   },
   {
    "duration": 9,
    "start_time": "2022-03-05T12:52:23.313Z"
   },
   {
    "duration": 33,
    "start_time": "2022-03-05T12:52:23.324Z"
   },
   {
    "duration": 4,
    "start_time": "2022-03-05T12:52:23.361Z"
   },
   {
    "duration": 19,
    "start_time": "2022-03-05T12:52:23.367Z"
   },
   {
    "duration": 19,
    "start_time": "2022-03-05T12:52:23.388Z"
   },
   {
    "duration": 22,
    "start_time": "2022-03-05T12:52:23.409Z"
   },
   {
    "duration": 26,
    "start_time": "2022-03-05T12:52:23.433Z"
   },
   {
    "duration": 21,
    "start_time": "2022-03-05T12:52:23.461Z"
   },
   {
    "duration": 19,
    "start_time": "2022-03-05T12:52:23.484Z"
   },
   {
    "duration": 19,
    "start_time": "2022-03-05T12:52:23.505Z"
   },
   {
    "duration": 28,
    "start_time": "2022-03-05T12:52:23.526Z"
   },
   {
    "duration": 22,
    "start_time": "2022-03-05T12:52:23.555Z"
   },
   {
    "duration": 23,
    "start_time": "2022-03-05T12:52:23.579Z"
   },
   {
    "duration": 5,
    "start_time": "2022-03-05T12:52:23.603Z"
   },
   {
    "duration": 19,
    "start_time": "2022-03-05T12:52:23.610Z"
   },
   {
    "duration": 15,
    "start_time": "2022-03-05T12:52:23.631Z"
   },
   {
    "duration": 15,
    "start_time": "2022-03-05T12:52:23.649Z"
   },
   {
    "duration": 30,
    "start_time": "2022-03-05T12:52:23.666Z"
   },
   {
    "duration": 17,
    "start_time": "2022-03-05T12:52:23.698Z"
   },
   {
    "duration": 19,
    "start_time": "2022-03-05T12:52:23.718Z"
   },
   {
    "duration": 17,
    "start_time": "2022-03-05T12:52:23.739Z"
   },
   {
    "duration": 14,
    "start_time": "2022-03-05T12:52:23.759Z"
   },
   {
    "duration": 22,
    "start_time": "2022-03-05T12:52:23.775Z"
   },
   {
    "duration": 16,
    "start_time": "2022-03-05T12:52:23.799Z"
   },
   {
    "duration": 31,
    "start_time": "2022-03-05T12:52:23.817Z"
   },
   {
    "duration": 18,
    "start_time": "2022-03-05T12:52:23.849Z"
   },
   {
    "duration": 25,
    "start_time": "2022-03-05T12:52:23.869Z"
   },
   {
    "duration": 27,
    "start_time": "2022-03-05T12:52:23.896Z"
   },
   {
    "duration": 26,
    "start_time": "2022-03-05T12:52:23.925Z"
   },
   {
    "duration": 5,
    "start_time": "2022-03-05T12:52:23.953Z"
   },
   {
    "duration": 22,
    "start_time": "2022-03-05T12:52:23.960Z"
   },
   {
    "duration": 28,
    "start_time": "2022-03-05T12:52:23.984Z"
   },
   {
    "duration": 25,
    "start_time": "2022-03-05T12:52:24.014Z"
   },
   {
    "duration": 37,
    "start_time": "2022-03-05T12:52:24.041Z"
   },
   {
    "duration": 3,
    "start_time": "2022-03-05T12:52:24.079Z"
   },
   {
    "duration": 474,
    "start_time": "2022-03-05T12:52:24.084Z"
   },
   {
    "duration": 20,
    "start_time": "2022-03-05T12:52:29.880Z"
   },
   {
    "duration": 22,
    "start_time": "2022-03-05T12:55:11.149Z"
   },
   {
    "duration": 9,
    "start_time": "2022-03-05T12:55:26.760Z"
   },
   {
    "duration": 5,
    "start_time": "2022-03-05T12:55:32.888Z"
   },
   {
    "duration": 6,
    "start_time": "2022-03-05T12:55:34.839Z"
   },
   {
    "duration": 17,
    "start_time": "2022-03-05T12:56:11.643Z"
   },
   {
    "duration": 6,
    "start_time": "2022-03-05T12:56:14.161Z"
   },
   {
    "duration": 9,
    "start_time": "2022-03-05T12:56:16.270Z"
   },
   {
    "duration": 6,
    "start_time": "2022-03-05T12:56:30.210Z"
   },
   {
    "duration": 47,
    "start_time": "2022-03-05T12:57:14.539Z"
   },
   {
    "duration": 12,
    "start_time": "2022-03-05T12:57:14.588Z"
   },
   {
    "duration": 13,
    "start_time": "2022-03-05T12:57:14.602Z"
   },
   {
    "duration": 13,
    "start_time": "2022-03-05T12:57:14.618Z"
   },
   {
    "duration": 10,
    "start_time": "2022-03-05T12:57:14.632Z"
   },
   {
    "duration": 6,
    "start_time": "2022-03-05T12:57:14.644Z"
   },
   {
    "duration": 14,
    "start_time": "2022-03-05T12:57:14.652Z"
   },
   {
    "duration": 42,
    "start_time": "2022-03-05T12:57:14.668Z"
   },
   {
    "duration": 23,
    "start_time": "2022-03-05T12:57:14.714Z"
   },
   {
    "duration": 9,
    "start_time": "2022-03-05T12:57:14.740Z"
   },
   {
    "duration": 53,
    "start_time": "2022-03-05T12:57:14.751Z"
   },
   {
    "duration": 6,
    "start_time": "2022-03-05T12:57:14.807Z"
   },
   {
    "duration": 5,
    "start_time": "2022-03-05T12:57:14.815Z"
   },
   {
    "duration": 5,
    "start_time": "2022-03-05T12:57:14.822Z"
   },
   {
    "duration": 9,
    "start_time": "2022-03-05T12:57:14.829Z"
   },
   {
    "duration": 6,
    "start_time": "2022-03-05T12:57:14.840Z"
   },
   {
    "duration": 57,
    "start_time": "2022-03-05T12:57:14.848Z"
   },
   {
    "duration": 6,
    "start_time": "2022-03-05T12:57:14.907Z"
   },
   {
    "duration": 15,
    "start_time": "2022-03-05T12:57:14.915Z"
   },
   {
    "duration": 9,
    "start_time": "2022-03-05T12:57:14.933Z"
   },
   {
    "duration": 27,
    "start_time": "2022-03-05T12:57:14.961Z"
   },
   {
    "duration": 13,
    "start_time": "2022-03-05T12:57:15.001Z"
   },
   {
    "duration": 12,
    "start_time": "2022-03-05T12:57:15.051Z"
   },
   {
    "duration": 15,
    "start_time": "2022-03-05T12:57:15.066Z"
   },
   {
    "duration": 14,
    "start_time": "2022-03-05T12:57:15.084Z"
   },
   {
    "duration": 88,
    "start_time": "2022-03-05T12:57:15.100Z"
   },
   {
    "duration": 16,
    "start_time": "2022-03-05T12:57:15.190Z"
   },
   {
    "duration": 5,
    "start_time": "2022-03-05T12:57:15.208Z"
   },
   {
    "duration": 5,
    "start_time": "2022-03-05T12:57:15.216Z"
   },
   {
    "duration": 9,
    "start_time": "2022-03-05T12:57:15.223Z"
   },
   {
    "duration": 13,
    "start_time": "2022-03-05T12:57:15.234Z"
   },
   {
    "duration": 10,
    "start_time": "2022-03-05T12:57:15.250Z"
   },
   {
    "duration": 43,
    "start_time": "2022-03-05T12:57:15.262Z"
   },
   {
    "duration": 11,
    "start_time": "2022-03-05T12:57:15.307Z"
   },
   {
    "duration": 23,
    "start_time": "2022-03-05T12:57:15.320Z"
   },
   {
    "duration": 19,
    "start_time": "2022-03-05T12:57:15.344Z"
   },
   {
    "duration": 46,
    "start_time": "2022-03-05T12:57:15.365Z"
   },
   {
    "duration": 5,
    "start_time": "2022-03-05T12:57:15.412Z"
   },
   {
    "duration": 9,
    "start_time": "2022-03-05T12:57:15.420Z"
   },
   {
    "duration": 7,
    "start_time": "2022-03-05T12:57:15.431Z"
   },
   {
    "duration": 8,
    "start_time": "2022-03-05T12:57:15.440Z"
   },
   {
    "duration": 12,
    "start_time": "2022-03-05T12:57:15.450Z"
   },
   {
    "duration": 39,
    "start_time": "2022-03-05T12:57:15.463Z"
   },
   {
    "duration": 7,
    "start_time": "2022-03-05T12:57:15.504Z"
   },
   {
    "duration": 7,
    "start_time": "2022-03-05T12:57:15.513Z"
   },
   {
    "duration": 12,
    "start_time": "2022-03-05T12:57:15.522Z"
   },
   {
    "duration": 15,
    "start_time": "2022-03-05T12:57:15.536Z"
   },
   {
    "duration": 14,
    "start_time": "2022-03-05T12:57:15.553Z"
   },
   {
    "duration": 32,
    "start_time": "2022-03-05T12:57:15.570Z"
   },
   {
    "duration": 4,
    "start_time": "2022-03-05T12:57:15.604Z"
   },
   {
    "duration": 14,
    "start_time": "2022-03-05T12:57:15.610Z"
   },
   {
    "duration": 16,
    "start_time": "2022-03-05T12:57:15.626Z"
   },
   {
    "duration": 32,
    "start_time": "2022-03-05T12:57:15.644Z"
   },
   {
    "duration": 26,
    "start_time": "2022-03-05T12:57:15.679Z"
   },
   {
    "duration": 16,
    "start_time": "2022-03-05T12:57:15.707Z"
   },
   {
    "duration": 15,
    "start_time": "2022-03-05T12:57:15.726Z"
   },
   {
    "duration": 13,
    "start_time": "2022-03-05T12:57:15.743Z"
   },
   {
    "duration": 20,
    "start_time": "2022-03-05T12:57:15.758Z"
   },
   {
    "duration": 2,
    "start_time": "2022-03-05T12:57:15.801Z"
   },
   {
    "duration": 9,
    "start_time": "2022-03-05T12:57:15.806Z"
   },
   {
    "duration": 20,
    "start_time": "2022-03-05T12:57:15.819Z"
   },
   {
    "duration": 46,
    "start_time": "2022-03-05T12:57:15.841Z"
   },
   {
    "duration": 7,
    "start_time": "2022-03-05T12:57:15.890Z"
   },
   {
    "duration": 8,
    "start_time": "2022-03-05T12:57:20.221Z"
   },
   {
    "duration": 16,
    "start_time": "2022-03-05T13:01:20.149Z"
   },
   {
    "duration": 6,
    "start_time": "2022-03-05T13:01:25.540Z"
   },
   {
    "duration": 8,
    "start_time": "2022-03-05T13:01:28.060Z"
   },
   {
    "duration": 7,
    "start_time": "2022-03-05T13:01:59.141Z"
   },
   {
    "duration": 18,
    "start_time": "2022-03-05T13:04:40.967Z"
   },
   {
    "duration": 5,
    "start_time": "2022-03-05T13:04:43.048Z"
   },
   {
    "duration": 7,
    "start_time": "2022-03-05T13:04:49.858Z"
   },
   {
    "duration": 19,
    "start_time": "2022-03-05T13:05:10.026Z"
   },
   {
    "duration": 18,
    "start_time": "2022-03-05T13:05:35.938Z"
   },
   {
    "duration": 5,
    "start_time": "2022-03-05T13:05:59.509Z"
   },
   {
    "duration": 8,
    "start_time": "2022-03-05T13:06:01.919Z"
   },
   {
    "duration": 244,
    "start_time": "2022-03-05T13:06:09.406Z"
   },
   {
    "duration": 222,
    "start_time": "2022-03-05T13:07:02.128Z"
   },
   {
    "duration": 19,
    "start_time": "2022-03-05T13:07:08.564Z"
   },
   {
    "duration": 7,
    "start_time": "2022-03-05T13:07:10.489Z"
   },
   {
    "duration": 11,
    "start_time": "2022-03-05T13:07:12.557Z"
   },
   {
    "duration": 21,
    "start_time": "2022-03-05T13:07:26.977Z"
   },
   {
    "duration": 5,
    "start_time": "2022-03-05T13:07:29.253Z"
   },
   {
    "duration": 6,
    "start_time": "2022-03-05T13:07:32.170Z"
   },
   {
    "duration": 19,
    "start_time": "2022-03-05T13:08:28.961Z"
   },
   {
    "duration": 5,
    "start_time": "2022-03-05T13:08:40.779Z"
   },
   {
    "duration": 6,
    "start_time": "2022-03-05T13:08:43.036Z"
   },
   {
    "duration": 637,
    "start_time": "2022-03-05T13:09:12.432Z"
   },
   {
    "duration": 11,
    "start_time": "2022-03-05T13:09:13.071Z"
   },
   {
    "duration": 20,
    "start_time": "2022-03-05T13:09:13.102Z"
   },
   {
    "duration": 16,
    "start_time": "2022-03-05T13:09:13.124Z"
   },
   {
    "duration": 6,
    "start_time": "2022-03-05T13:09:13.142Z"
   },
   {
    "duration": 17,
    "start_time": "2022-03-05T13:09:13.150Z"
   },
   {
    "duration": 33,
    "start_time": "2022-03-05T13:09:13.169Z"
   },
   {
    "duration": 11,
    "start_time": "2022-03-05T13:09:13.204Z"
   },
   {
    "duration": 24,
    "start_time": "2022-03-05T13:09:13.218Z"
   },
   {
    "duration": 7,
    "start_time": "2022-03-05T13:09:13.244Z"
   },
   {
    "duration": 53,
    "start_time": "2022-03-05T13:09:13.253Z"
   },
   {
    "duration": 5,
    "start_time": "2022-03-05T13:09:13.307Z"
   },
   {
    "duration": 12,
    "start_time": "2022-03-05T13:09:13.314Z"
   },
   {
    "duration": 8,
    "start_time": "2022-03-05T13:09:13.327Z"
   },
   {
    "duration": 11,
    "start_time": "2022-03-05T13:09:13.336Z"
   },
   {
    "duration": 8,
    "start_time": "2022-03-05T13:09:13.349Z"
   },
   {
    "duration": 43,
    "start_time": "2022-03-05T13:09:13.359Z"
   },
   {
    "duration": 6,
    "start_time": "2022-03-05T13:09:13.405Z"
   },
   {
    "duration": 9,
    "start_time": "2022-03-05T13:09:13.413Z"
   },
   {
    "duration": 9,
    "start_time": "2022-03-05T13:09:13.424Z"
   },
   {
    "duration": 45,
    "start_time": "2022-03-05T13:09:13.435Z"
   },
   {
    "duration": 13,
    "start_time": "2022-03-05T13:09:13.501Z"
   },
   {
    "duration": 19,
    "start_time": "2022-03-05T13:09:13.516Z"
   },
   {
    "duration": 11,
    "start_time": "2022-03-05T13:09:13.537Z"
   },
   {
    "duration": 11,
    "start_time": "2022-03-05T13:09:13.550Z"
   },
   {
    "duration": 50,
    "start_time": "2022-03-05T13:09:13.563Z"
   },
   {
    "duration": 4,
    "start_time": "2022-03-05T13:09:13.618Z"
   },
   {
    "duration": 6,
    "start_time": "2022-03-05T13:09:13.625Z"
   },
   {
    "duration": 9,
    "start_time": "2022-03-05T13:09:13.633Z"
   },
   {
    "duration": 15,
    "start_time": "2022-03-05T13:09:13.644Z"
   },
   {
    "duration": 14,
    "start_time": "2022-03-05T13:09:13.660Z"
   },
   {
    "duration": 26,
    "start_time": "2022-03-05T13:09:13.677Z"
   },
   {
    "duration": 5,
    "start_time": "2022-03-05T13:09:13.705Z"
   },
   {
    "duration": 14,
    "start_time": "2022-03-05T13:09:13.712Z"
   },
   {
    "duration": 20,
    "start_time": "2022-03-05T13:09:13.728Z"
   },
   {
    "duration": 21,
    "start_time": "2022-03-05T13:09:13.750Z"
   },
   {
    "duration": 38,
    "start_time": "2022-03-05T13:09:13.772Z"
   },
   {
    "duration": 4,
    "start_time": "2022-03-05T13:09:13.812Z"
   },
   {
    "duration": 13,
    "start_time": "2022-03-05T13:09:13.818Z"
   },
   {
    "duration": 10,
    "start_time": "2022-03-05T13:09:13.832Z"
   },
   {
    "duration": 11,
    "start_time": "2022-03-05T13:09:13.843Z"
   },
   {
    "duration": 11,
    "start_time": "2022-03-05T13:09:13.856Z"
   },
   {
    "duration": 32,
    "start_time": "2022-03-05T13:09:13.869Z"
   },
   {
    "duration": 13,
    "start_time": "2022-03-05T13:09:13.903Z"
   },
   {
    "duration": 9,
    "start_time": "2022-03-05T13:09:13.918Z"
   },
   {
    "duration": 7,
    "start_time": "2022-03-05T13:09:13.928Z"
   },
   {
    "duration": 14,
    "start_time": "2022-03-05T13:09:13.936Z"
   },
   {
    "duration": 8,
    "start_time": "2022-03-05T13:09:13.953Z"
   },
   {
    "duration": 16,
    "start_time": "2022-03-05T13:09:13.963Z"
   },
   {
    "duration": 22,
    "start_time": "2022-03-05T13:09:13.981Z"
   },
   {
    "duration": 12,
    "start_time": "2022-03-05T13:09:14.005Z"
   },
   {
    "duration": 18,
    "start_time": "2022-03-05T13:09:14.019Z"
   },
   {
    "duration": 20,
    "start_time": "2022-03-05T13:09:14.039Z"
   },
   {
    "duration": 5,
    "start_time": "2022-03-05T13:09:14.061Z"
   },
   {
    "duration": 40,
    "start_time": "2022-03-05T13:09:14.068Z"
   },
   {
    "duration": 18,
    "start_time": "2022-03-05T13:09:14.111Z"
   },
   {
    "duration": 9,
    "start_time": "2022-03-05T13:09:14.132Z"
   },
   {
    "duration": 23,
    "start_time": "2022-03-05T13:09:14.143Z"
   },
   {
    "duration": 3,
    "start_time": "2022-03-05T13:09:14.167Z"
   },
   {
    "duration": 474,
    "start_time": "2022-03-05T13:09:14.172Z"
   },
   {
    "duration": 21,
    "start_time": "2022-03-05T13:09:14.648Z"
   },
   {
    "duration": 37,
    "start_time": "2022-03-05T13:09:14.671Z"
   },
   {
    "duration": 5,
    "start_time": "2022-03-05T13:09:14.710Z"
   },
   {
    "duration": 9,
    "start_time": "2022-03-05T13:09:14.718Z"
   },
   {
    "duration": 8,
    "start_time": "2022-03-05T13:09:14.729Z"
   },
   {
    "duration": 20,
    "start_time": "2022-03-05T13:09:14.740Z"
   },
   {
    "duration": 42,
    "start_time": "2022-03-05T13:09:14.763Z"
   },
   {
    "duration": 9,
    "start_time": "2022-03-05T13:09:14.807Z"
   },
   {
    "duration": 21,
    "start_time": "2022-03-05T13:09:14.818Z"
   },
   {
    "duration": 5,
    "start_time": "2022-03-05T13:09:14.841Z"
   },
   {
    "duration": 13,
    "start_time": "2022-03-05T13:09:14.848Z"
   },
   {
    "duration": 614,
    "start_time": "2022-03-05T13:48:26.317Z"
   },
   {
    "duration": 50,
    "start_time": "2022-03-05T13:48:26.934Z"
   },
   {
    "duration": 17,
    "start_time": "2022-03-05T13:48:26.986Z"
   },
   {
    "duration": 32,
    "start_time": "2022-03-05T13:48:32.226Z"
   },
   {
    "duration": 13,
    "start_time": "2022-03-05T13:48:57.302Z"
   },
   {
    "duration": 623,
    "start_time": "2022-03-05T15:06:50.336Z"
   },
   {
    "duration": 58,
    "start_time": "2022-03-05T15:06:50.961Z"
   },
   {
    "duration": 12,
    "start_time": "2022-03-05T15:06:51.022Z"
   },
   {
    "duration": 35,
    "start_time": "2022-03-05T15:06:51.036Z"
   },
   {
    "duration": 26,
    "start_time": "2022-03-05T15:06:51.072Z"
   },
   {
    "duration": 22,
    "start_time": "2022-03-05T15:06:51.100Z"
   },
   {
    "duration": 17,
    "start_time": "2022-03-05T15:06:51.124Z"
   },
   {
    "duration": 32,
    "start_time": "2022-03-05T15:06:51.144Z"
   },
   {
    "duration": 19,
    "start_time": "2022-03-05T15:06:51.180Z"
   },
   {
    "duration": 35,
    "start_time": "2022-03-05T15:06:51.202Z"
   },
   {
    "duration": 7,
    "start_time": "2022-03-05T15:06:51.239Z"
   },
   {
    "duration": 38,
    "start_time": "2022-03-05T15:06:51.248Z"
   },
   {
    "duration": 5,
    "start_time": "2022-03-05T15:06:51.288Z"
   },
   {
    "duration": 21,
    "start_time": "2022-03-05T15:06:51.294Z"
   },
   {
    "duration": 15,
    "start_time": "2022-03-05T15:06:51.316Z"
   },
   {
    "duration": 16,
    "start_time": "2022-03-05T15:06:51.333Z"
   },
   {
    "duration": 11,
    "start_time": "2022-03-05T15:06:51.351Z"
   },
   {
    "duration": 21,
    "start_time": "2022-03-05T15:06:51.363Z"
   },
   {
    "duration": 5,
    "start_time": "2022-03-05T15:06:51.386Z"
   },
   {
    "duration": 20,
    "start_time": "2022-03-05T15:06:51.393Z"
   },
   {
    "duration": 19,
    "start_time": "2022-03-05T15:06:51.415Z"
   },
   {
    "duration": 44,
    "start_time": "2022-03-05T15:06:51.436Z"
   },
   {
    "duration": 8,
    "start_time": "2022-03-05T15:06:51.482Z"
   },
   {
    "duration": 19,
    "start_time": "2022-03-05T15:06:51.492Z"
   },
   {
    "duration": 11,
    "start_time": "2022-03-05T15:06:51.512Z"
   },
   {
    "duration": 26,
    "start_time": "2022-03-05T15:06:51.524Z"
   },
   {
    "duration": 35,
    "start_time": "2022-03-05T15:06:51.555Z"
   },
   {
    "duration": 4,
    "start_time": "2022-03-05T15:06:51.593Z"
   },
   {
    "duration": 8,
    "start_time": "2022-03-05T15:06:51.599Z"
   },
   {
    "duration": 12,
    "start_time": "2022-03-05T15:06:51.609Z"
   },
   {
    "duration": 22,
    "start_time": "2022-03-05T15:06:51.622Z"
   },
   {
    "duration": 31,
    "start_time": "2022-03-05T15:06:51.647Z"
   },
   {
    "duration": 19,
    "start_time": "2022-03-05T15:06:51.680Z"
   },
   {
    "duration": 22,
    "start_time": "2022-03-05T15:06:51.701Z"
   },
   {
    "duration": 16,
    "start_time": "2022-03-05T15:06:51.725Z"
   },
   {
    "duration": 28,
    "start_time": "2022-03-05T15:06:51.743Z"
   },
   {
    "duration": 28,
    "start_time": "2022-03-05T15:06:51.773Z"
   },
   {
    "duration": 17,
    "start_time": "2022-03-05T15:06:51.803Z"
   },
   {
    "duration": 4,
    "start_time": "2022-03-05T15:06:51.823Z"
   },
   {
    "duration": 21,
    "start_time": "2022-03-05T15:06:51.829Z"
   },
   {
    "duration": 18,
    "start_time": "2022-03-05T15:06:51.852Z"
   },
   {
    "duration": 24,
    "start_time": "2022-03-05T15:06:51.872Z"
   },
   {
    "duration": 18,
    "start_time": "2022-03-05T15:06:51.898Z"
   },
   {
    "duration": 14,
    "start_time": "2022-03-05T15:06:51.918Z"
   },
   {
    "duration": 23,
    "start_time": "2022-03-05T15:06:51.934Z"
   },
   {
    "duration": 14,
    "start_time": "2022-03-05T15:06:51.958Z"
   },
   {
    "duration": 12,
    "start_time": "2022-03-05T15:06:51.974Z"
   },
   {
    "duration": 17,
    "start_time": "2022-03-05T15:06:51.987Z"
   },
   {
    "duration": 22,
    "start_time": "2022-03-05T15:06:52.006Z"
   },
   {
    "duration": 42,
    "start_time": "2022-03-05T15:06:52.030Z"
   },
   {
    "duration": 9,
    "start_time": "2022-03-05T15:06:52.073Z"
   },
   {
    "duration": 24,
    "start_time": "2022-03-05T15:06:52.084Z"
   },
   {
    "duration": 33,
    "start_time": "2022-03-05T15:06:52.109Z"
   },
   {
    "duration": 24,
    "start_time": "2022-03-05T15:06:52.144Z"
   },
   {
    "duration": 10,
    "start_time": "2022-03-05T15:06:52.171Z"
   },
   {
    "duration": 30,
    "start_time": "2022-03-05T15:06:52.183Z"
   },
   {
    "duration": 29,
    "start_time": "2022-03-05T15:06:52.215Z"
   },
   {
    "duration": 12,
    "start_time": "2022-03-05T15:06:52.246Z"
   },
   {
    "duration": 31,
    "start_time": "2022-03-05T15:06:52.260Z"
   },
   {
    "duration": 496,
    "start_time": "2022-03-05T15:06:52.293Z"
   },
   {
    "duration": 21,
    "start_time": "2022-03-05T15:06:52.791Z"
   },
   {
    "duration": 33,
    "start_time": "2022-03-05T15:06:52.814Z"
   },
   {
    "duration": 17,
    "start_time": "2022-03-05T15:06:52.850Z"
   },
   {
    "duration": 40,
    "start_time": "2022-03-05T15:06:52.869Z"
   },
   {
    "duration": 31,
    "start_time": "2022-03-05T15:06:52.912Z"
   },
   {
    "duration": 40,
    "start_time": "2022-03-05T15:06:52.946Z"
   },
   {
    "duration": 14,
    "start_time": "2022-03-05T15:06:52.989Z"
   },
   {
    "duration": 30,
    "start_time": "2022-03-05T15:06:53.005Z"
   },
   {
    "duration": 29,
    "start_time": "2022-03-05T15:06:53.038Z"
   },
   {
    "duration": 14,
    "start_time": "2022-03-05T15:06:53.069Z"
   },
   {
    "duration": 32,
    "start_time": "2022-03-05T15:06:53.084Z"
   },
   {
    "duration": 693,
    "start_time": "2022-03-05T18:41:56.696Z"
   },
   {
    "duration": 62,
    "start_time": "2022-03-05T18:41:57.392Z"
   },
   {
    "duration": 15,
    "start_time": "2022-03-05T18:41:57.457Z"
   },
   {
    "duration": 27,
    "start_time": "2022-03-05T18:41:57.475Z"
   },
   {
    "duration": 12,
    "start_time": "2022-03-05T18:41:57.504Z"
   },
   {
    "duration": 6,
    "start_time": "2022-03-05T18:41:57.551Z"
   },
   {
    "duration": 6,
    "start_time": "2022-03-05T18:41:57.560Z"
   },
   {
    "duration": 20,
    "start_time": "2022-03-05T18:41:57.568Z"
   },
   {
    "duration": 12,
    "start_time": "2022-03-05T18:41:57.592Z"
   },
   {
    "duration": 61,
    "start_time": "2022-03-05T18:41:57.607Z"
   },
   {
    "duration": 8,
    "start_time": "2022-03-05T18:41:57.671Z"
   },
   {
    "duration": 30,
    "start_time": "2022-03-05T18:41:57.682Z"
   },
   {
    "duration": 5,
    "start_time": "2022-03-05T18:41:57.715Z"
   },
   {
    "duration": 5,
    "start_time": "2022-03-05T18:41:57.750Z"
   },
   {
    "duration": 5,
    "start_time": "2022-03-05T18:41:57.757Z"
   },
   {
    "duration": 8,
    "start_time": "2022-03-05T18:41:57.764Z"
   },
   {
    "duration": 7,
    "start_time": "2022-03-05T18:41:57.774Z"
   },
   {
    "duration": 17,
    "start_time": "2022-03-05T18:41:57.783Z"
   },
   {
    "duration": 53,
    "start_time": "2022-03-05T18:41:57.802Z"
   },
   {
    "duration": 8,
    "start_time": "2022-03-05T18:41:57.857Z"
   },
   {
    "duration": 6,
    "start_time": "2022-03-05T18:41:57.867Z"
   },
   {
    "duration": 33,
    "start_time": "2022-03-05T18:41:57.875Z"
   },
   {
    "duration": 45,
    "start_time": "2022-03-05T18:41:57.910Z"
   },
   {
    "duration": 11,
    "start_time": "2022-03-05T18:41:57.958Z"
   },
   {
    "duration": 10,
    "start_time": "2022-03-05T18:41:57.971Z"
   },
   {
    "duration": 6,
    "start_time": "2022-03-05T18:41:57.983Z"
   },
   {
    "duration": 74,
    "start_time": "2022-03-05T18:41:57.995Z"
   },
   {
    "duration": 5,
    "start_time": "2022-03-05T18:41:58.072Z"
   },
   {
    "duration": 7,
    "start_time": "2022-03-05T18:41:58.080Z"
   },
   {
    "duration": 6,
    "start_time": "2022-03-05T18:41:58.090Z"
   },
   {
    "duration": 9,
    "start_time": "2022-03-05T18:41:58.099Z"
   },
   {
    "duration": 17,
    "start_time": "2022-03-05T18:41:58.153Z"
   },
   {
    "duration": 12,
    "start_time": "2022-03-05T18:41:58.173Z"
   },
   {
    "duration": 7,
    "start_time": "2022-03-05T18:41:58.189Z"
   },
   {
    "duration": 10,
    "start_time": "2022-03-05T18:41:58.198Z"
   },
   {
    "duration": 26,
    "start_time": "2022-03-05T18:41:58.251Z"
   },
   {
    "duration": 26,
    "start_time": "2022-03-05T18:41:58.280Z"
   },
   {
    "duration": 44,
    "start_time": "2022-03-05T18:41:58.308Z"
   },
   {
    "duration": 5,
    "start_time": "2022-03-05T18:41:58.355Z"
   },
   {
    "duration": 11,
    "start_time": "2022-03-05T18:41:58.362Z"
   },
   {
    "duration": 7,
    "start_time": "2022-03-05T18:41:58.375Z"
   },
   {
    "duration": 7,
    "start_time": "2022-03-05T18:41:58.384Z"
   },
   {
    "duration": 8,
    "start_time": "2022-03-05T18:41:58.393Z"
   },
   {
    "duration": 48,
    "start_time": "2022-03-05T18:41:58.404Z"
   },
   {
    "duration": 11,
    "start_time": "2022-03-05T18:41:58.454Z"
   },
   {
    "duration": 7,
    "start_time": "2022-03-05T18:41:58.468Z"
   },
   {
    "duration": 8,
    "start_time": "2022-03-05T18:41:58.477Z"
   },
   {
    "duration": 11,
    "start_time": "2022-03-05T18:41:58.487Z"
   },
   {
    "duration": 52,
    "start_time": "2022-03-05T18:41:58.501Z"
   },
   {
    "duration": 17,
    "start_time": "2022-03-05T18:41:58.555Z"
   },
   {
    "duration": 9,
    "start_time": "2022-03-05T18:41:58.574Z"
   },
   {
    "duration": 15,
    "start_time": "2022-03-05T18:41:58.585Z"
   },
   {
    "duration": 17,
    "start_time": "2022-03-05T18:41:58.602Z"
   },
   {
    "duration": 47,
    "start_time": "2022-03-05T18:41:58.621Z"
   },
   {
    "duration": 5,
    "start_time": "2022-03-05T18:41:58.670Z"
   },
   {
    "duration": 13,
    "start_time": "2022-03-05T18:41:58.677Z"
   },
   {
    "duration": 18,
    "start_time": "2022-03-05T18:41:58.693Z"
   },
   {
    "duration": 40,
    "start_time": "2022-03-05T18:41:58.713Z"
   },
   {
    "duration": 28,
    "start_time": "2022-03-05T18:41:58.756Z"
   },
   {
    "duration": 690,
    "start_time": "2022-03-05T18:41:58.786Z"
   },
   {
    "duration": 21,
    "start_time": "2022-03-05T18:41:59.479Z"
   },
   {
    "duration": 28,
    "start_time": "2022-03-05T18:41:59.502Z"
   },
   {
    "duration": 22,
    "start_time": "2022-03-05T18:41:59.532Z"
   },
   {
    "duration": 9,
    "start_time": "2022-03-05T18:41:59.556Z"
   },
   {
    "duration": 10,
    "start_time": "2022-03-05T18:41:59.567Z"
   },
   {
    "duration": 26,
    "start_time": "2022-03-05T18:41:59.579Z"
   },
   {
    "duration": 45,
    "start_time": "2022-03-05T18:41:59.607Z"
   },
   {
    "duration": 10,
    "start_time": "2022-03-05T18:41:59.655Z"
   },
   {
    "duration": 29,
    "start_time": "2022-03-05T18:41:59.668Z"
   },
   {
    "duration": 6,
    "start_time": "2022-03-05T18:41:59.699Z"
   },
   {
    "duration": 49,
    "start_time": "2022-03-05T18:41:59.707Z"
   },
   {
    "duration": 450,
    "start_time": "2022-03-20T15:33:31.023Z"
   }
  ],
  "kernelspec": {
   "display_name": "Python 3",
   "language": "python",
   "name": "python3"
  },
  "language_info": {
   "codemirror_mode": {
    "name": "ipython",
    "version": 3
   },
   "file_extension": ".py",
   "mimetype": "text/x-python",
   "name": "python",
   "nbconvert_exporter": "python",
   "pygments_lexer": "ipython3",
   "version": "3.7.1"
  },
  "toc": {
   "base_numbering": 1,
   "nav_menu": {},
   "number_sections": true,
   "sideBar": true,
   "skip_h1_title": true,
   "title_cell": "Table of Contents",
   "title_sidebar": "Contents",
   "toc_cell": false,
   "toc_position": {},
   "toc_section_display": true,
   "toc_window_display": false
  }
 },
 "nbformat": 4,
 "nbformat_minor": 5
}
