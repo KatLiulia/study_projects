{
 "cells": [
  {
   "cell_type": "markdown",
   "metadata": {
    "toc": true
   },
   "source": [
    "<h1>Содержание<span class=\"tocSkip\"></span></h1>\n",
    "<div class=\"toc\"><ul class=\"toc-item\"><li><span><a href=\"#Подготовка\" data-toc-modified-id=\"Подготовка-1\"><span class=\"toc-item-num\">1&nbsp;&nbsp;</span>Подготовка</a></span></li><li><span><a href=\"#Анализ\" data-toc-modified-id=\"Анализ-2\"><span class=\"toc-item-num\">2&nbsp;&nbsp;</span>Анализ</a></span></li><li><span><a href=\"#Обучение\" data-toc-modified-id=\"Обучение-3\"><span class=\"toc-item-num\">3&nbsp;&nbsp;</span>Обучение</a></span><ul class=\"toc-item\"><li><span><a href=\"#Модель-Случайный-лес\" data-toc-modified-id=\"Модель-Случайный-лес-3.1\"><span class=\"toc-item-num\">3.1&nbsp;&nbsp;</span>Модель Случайный лес</a></span></li><li><span><a href=\"#Модель-LightGBM\" data-toc-modified-id=\"Модель-LightGBM-3.2\"><span class=\"toc-item-num\">3.2&nbsp;&nbsp;</span>Модель LightGBM</a></span></li></ul></li><li><span><a href=\"#Тестирование\" data-toc-modified-id=\"Тестирование-4\"><span class=\"toc-item-num\">4&nbsp;&nbsp;</span>Тестирование</a></span></li><li><span><a href=\"#Чек-лист-проверки\" data-toc-modified-id=\"Чек-лист-проверки-5\"><span class=\"toc-item-num\">5&nbsp;&nbsp;</span>Чек-лист проверки</a></span></li></ul></div>"
   ]
  },
  {
   "cell_type": "markdown",
   "metadata": {},
   "source": [
    "#  Прогнозирование заказов такси"
   ]
  },
  {
   "cell_type": "markdown",
   "metadata": {},
   "source": [
    "Компания собрала исторические данные о заказах такси в аэропортах. Чтобы привлекать больше водителей в период пиковой нагрузки, нужно спрогнозировать количество заказов такси на следующий час. Постройте модель для такого предсказания.\n",
    "\n",
    "Значение метрики *RMSE* на тестовой выборке должно быть не больше 48.\n",
    "\n",
    "Количество заказов находится в столбце `num_orders`."
   ]
  },
  {
   "cell_type": "markdown",
   "metadata": {},
   "source": [
    "## Подготовка"
   ]
  },
  {
   "cell_type": "code",
   "execution_count": 1,
   "metadata": {},
   "outputs": [],
   "source": [
    "import pandas as pd\n",
    "import matplotlib.pyplot as plt\n",
    "\n",
    "from statsmodels.tsa.seasonal import seasonal_decompose\n",
    "\n",
    "from sklearn.model_selection import train_test_split\n",
    "from sklearn.model_selection import GridSearchCV\n",
    "from sklearn.model_selection import TimeSeriesSplit\n",
    "\n",
    "from lightgbm import LGBMRegressor\n",
    "from sklearn.ensemble import RandomForestRegressor\n",
    "\n",
    "from sklearn.metrics import mean_squared_error\n",
    "from sklearn.metrics import make_scorer"
   ]
  },
  {
   "cell_type": "code",
   "execution_count": 2,
   "metadata": {},
   "outputs": [],
   "source": [
    "state = 12345"
   ]
  },
  {
   "cell_type": "code",
   "execution_count": 3,
   "metadata": {},
   "outputs": [],
   "source": [
    "df_taxi = pd.read_csv('/datasets/taxi.csv', index_col=[0], parse_dates=[0])"
   ]
  },
  {
   "cell_type": "code",
   "execution_count": 4,
   "metadata": {},
   "outputs": [
    {
     "data": {
      "text/html": [
       "<div>\n",
       "<style scoped>\n",
       "    .dataframe tbody tr th:only-of-type {\n",
       "        vertical-align: middle;\n",
       "    }\n",
       "\n",
       "    .dataframe tbody tr th {\n",
       "        vertical-align: top;\n",
       "    }\n",
       "\n",
       "    .dataframe thead th {\n",
       "        text-align: right;\n",
       "    }\n",
       "</style>\n",
       "<table border=\"1\" class=\"dataframe\">\n",
       "  <thead>\n",
       "    <tr style=\"text-align: right;\">\n",
       "      <th></th>\n",
       "      <th>num_orders</th>\n",
       "    </tr>\n",
       "    <tr>\n",
       "      <th>datetime</th>\n",
       "      <th></th>\n",
       "    </tr>\n",
       "  </thead>\n",
       "  <tbody>\n",
       "    <tr>\n",
       "      <th>2018-03-01 00:00:00</th>\n",
       "      <td>9</td>\n",
       "    </tr>\n",
       "    <tr>\n",
       "      <th>2018-03-01 00:10:00</th>\n",
       "      <td>14</td>\n",
       "    </tr>\n",
       "    <tr>\n",
       "      <th>2018-03-01 00:20:00</th>\n",
       "      <td>28</td>\n",
       "    </tr>\n",
       "  </tbody>\n",
       "</table>\n",
       "</div>"
      ],
      "text/plain": [
       "                     num_orders\n",
       "datetime                       \n",
       "2018-03-01 00:00:00           9\n",
       "2018-03-01 00:10:00          14\n",
       "2018-03-01 00:20:00          28"
      ]
     },
     "execution_count": 4,
     "metadata": {},
     "output_type": "execute_result"
    }
   ],
   "source": [
    "df_taxi.head(3)"
   ]
  },
  {
   "cell_type": "markdown",
   "metadata": {},
   "source": [
    "Выполним ресемплирование данных по одному часу:"
   ]
  },
  {
   "cell_type": "code",
   "execution_count": 5,
   "metadata": {},
   "outputs": [],
   "source": [
    "df_taxi = df_taxi.resample('1H').sum()"
   ]
  },
  {
   "cell_type": "code",
   "execution_count": 6,
   "metadata": {
    "scrolled": true
   },
   "outputs": [
    {
     "data": {
      "text/html": [
       "<div>\n",
       "<style scoped>\n",
       "    .dataframe tbody tr th:only-of-type {\n",
       "        vertical-align: middle;\n",
       "    }\n",
       "\n",
       "    .dataframe tbody tr th {\n",
       "        vertical-align: top;\n",
       "    }\n",
       "\n",
       "    .dataframe thead th {\n",
       "        text-align: right;\n",
       "    }\n",
       "</style>\n",
       "<table border=\"1\" class=\"dataframe\">\n",
       "  <thead>\n",
       "    <tr style=\"text-align: right;\">\n",
       "      <th></th>\n",
       "      <th>num_orders</th>\n",
       "    </tr>\n",
       "    <tr>\n",
       "      <th>datetime</th>\n",
       "      <th></th>\n",
       "    </tr>\n",
       "  </thead>\n",
       "  <tbody>\n",
       "    <tr>\n",
       "      <th>2018-03-01 00:00:00</th>\n",
       "      <td>124</td>\n",
       "    </tr>\n",
       "    <tr>\n",
       "      <th>2018-03-01 01:00:00</th>\n",
       "      <td>85</td>\n",
       "    </tr>\n",
       "    <tr>\n",
       "      <th>2018-03-01 02:00:00</th>\n",
       "      <td>71</td>\n",
       "    </tr>\n",
       "  </tbody>\n",
       "</table>\n",
       "</div>"
      ],
      "text/plain": [
       "                     num_orders\n",
       "datetime                       \n",
       "2018-03-01 00:00:00         124\n",
       "2018-03-01 01:00:00          85\n",
       "2018-03-01 02:00:00          71"
      ]
     },
     "execution_count": 6,
     "metadata": {},
     "output_type": "execute_result"
    }
   ],
   "source": [
    "df_taxi.head(3)"
   ]
  },
  {
   "cell_type": "code",
   "execution_count": 7,
   "metadata": {
    "scrolled": true
   },
   "outputs": [
    {
     "name": "stdout",
     "output_type": "stream",
     "text": [
      "<class 'pandas.core.frame.DataFrame'>\n",
      "DatetimeIndex: 4416 entries, 2018-03-01 00:00:00 to 2018-08-31 23:00:00\n",
      "Freq: H\n",
      "Data columns (total 1 columns):\n",
      " #   Column      Non-Null Count  Dtype\n",
      "---  ------      --------------  -----\n",
      " 0   num_orders  4416 non-null   int64\n",
      "dtypes: int64(1)\n",
      "memory usage: 69.0 KB\n"
     ]
    }
   ],
   "source": [
    "df_taxi.info()"
   ]
  },
  {
   "cell_type": "markdown",
   "metadata": {},
   "source": [
    "Функция для создания признаков:"
   ]
  },
  {
   "cell_type": "code",
   "execution_count": 8,
   "metadata": {},
   "outputs": [],
   "source": [
    "def make_features(data, max_lag, rolling_mean_size):\n",
    "    \n",
    "    data['month'] = data.index.month\n",
    "    data['day'] = data.index.day\n",
    "    data['dayofweek'] = data.index.dayofweek\n",
    "    \n",
    "    for lag in range(1, max_lag + 1):\n",
    "        data['lag_{}'.format(lag)] = data['num_orders'].shift(lag)\n",
    "\n",
    "    data['rolling_mean'] = data['num_orders'].shift().rolling(rolling_mean_size).mean()"
   ]
  },
  {
   "cell_type": "code",
   "execution_count": 9,
   "metadata": {},
   "outputs": [],
   "source": [
    "make_features(df_taxi, 24, 40)"
   ]
  },
  {
   "cell_type": "code",
   "execution_count": 10,
   "metadata": {},
   "outputs": [],
   "source": [
    "df_taxi = df_taxi.dropna()"
   ]
  },
  {
   "cell_type": "code",
   "execution_count": 11,
   "metadata": {},
   "outputs": [
    {
     "data": {
      "text/html": [
       "<div>\n",
       "<style scoped>\n",
       "    .dataframe tbody tr th:only-of-type {\n",
       "        vertical-align: middle;\n",
       "    }\n",
       "\n",
       "    .dataframe tbody tr th {\n",
       "        vertical-align: top;\n",
       "    }\n",
       "\n",
       "    .dataframe thead th {\n",
       "        text-align: right;\n",
       "    }\n",
       "</style>\n",
       "<table border=\"1\" class=\"dataframe\">\n",
       "  <thead>\n",
       "    <tr style=\"text-align: right;\">\n",
       "      <th></th>\n",
       "      <th>num_orders</th>\n",
       "      <th>month</th>\n",
       "      <th>day</th>\n",
       "      <th>dayofweek</th>\n",
       "      <th>lag_1</th>\n",
       "      <th>lag_2</th>\n",
       "      <th>lag_3</th>\n",
       "      <th>lag_4</th>\n",
       "      <th>lag_5</th>\n",
       "      <th>lag_6</th>\n",
       "      <th>...</th>\n",
       "      <th>lag_16</th>\n",
       "      <th>lag_17</th>\n",
       "      <th>lag_18</th>\n",
       "      <th>lag_19</th>\n",
       "      <th>lag_20</th>\n",
       "      <th>lag_21</th>\n",
       "      <th>lag_22</th>\n",
       "      <th>lag_23</th>\n",
       "      <th>lag_24</th>\n",
       "      <th>rolling_mean</th>\n",
       "    </tr>\n",
       "    <tr>\n",
       "      <th>datetime</th>\n",
       "      <th></th>\n",
       "      <th></th>\n",
       "      <th></th>\n",
       "      <th></th>\n",
       "      <th></th>\n",
       "      <th></th>\n",
       "      <th></th>\n",
       "      <th></th>\n",
       "      <th></th>\n",
       "      <th></th>\n",
       "      <th></th>\n",
       "      <th></th>\n",
       "      <th></th>\n",
       "      <th></th>\n",
       "      <th></th>\n",
       "      <th></th>\n",
       "      <th></th>\n",
       "      <th></th>\n",
       "      <th></th>\n",
       "      <th></th>\n",
       "      <th></th>\n",
       "    </tr>\n",
       "  </thead>\n",
       "  <tbody>\n",
       "    <tr>\n",
       "      <th>2018-03-02 16:00:00</th>\n",
       "      <td>82</td>\n",
       "      <td>3</td>\n",
       "      <td>2</td>\n",
       "      <td>4</td>\n",
       "      <td>59.0</td>\n",
       "      <td>44.0</td>\n",
       "      <td>45.0</td>\n",
       "      <td>36.0</td>\n",
       "      <td>91.0</td>\n",
       "      <td>54.0</td>\n",
       "      <td>...</td>\n",
       "      <td>90.0</td>\n",
       "      <td>58.0</td>\n",
       "      <td>113.0</td>\n",
       "      <td>66.0</td>\n",
       "      <td>61.0</td>\n",
       "      <td>45.0</td>\n",
       "      <td>73.0</td>\n",
       "      <td>44.0</td>\n",
       "      <td>43.0</td>\n",
       "      <td>54.55</td>\n",
       "    </tr>\n",
       "    <tr>\n",
       "      <th>2018-03-02 17:00:00</th>\n",
       "      <td>83</td>\n",
       "      <td>3</td>\n",
       "      <td>2</td>\n",
       "      <td>4</td>\n",
       "      <td>82.0</td>\n",
       "      <td>59.0</td>\n",
       "      <td>44.0</td>\n",
       "      <td>45.0</td>\n",
       "      <td>36.0</td>\n",
       "      <td>91.0</td>\n",
       "      <td>...</td>\n",
       "      <td>120.0</td>\n",
       "      <td>90.0</td>\n",
       "      <td>58.0</td>\n",
       "      <td>113.0</td>\n",
       "      <td>66.0</td>\n",
       "      <td>61.0</td>\n",
       "      <td>45.0</td>\n",
       "      <td>73.0</td>\n",
       "      <td>44.0</td>\n",
       "      <td>53.50</td>\n",
       "    </tr>\n",
       "    <tr>\n",
       "      <th>2018-03-02 18:00:00</th>\n",
       "      <td>89</td>\n",
       "      <td>3</td>\n",
       "      <td>2</td>\n",
       "      <td>4</td>\n",
       "      <td>83.0</td>\n",
       "      <td>82.0</td>\n",
       "      <td>59.0</td>\n",
       "      <td>44.0</td>\n",
       "      <td>45.0</td>\n",
       "      <td>36.0</td>\n",
       "      <td>...</td>\n",
       "      <td>75.0</td>\n",
       "      <td>120.0</td>\n",
       "      <td>90.0</td>\n",
       "      <td>58.0</td>\n",
       "      <td>113.0</td>\n",
       "      <td>66.0</td>\n",
       "      <td>61.0</td>\n",
       "      <td>45.0</td>\n",
       "      <td>73.0</td>\n",
       "      <td>53.45</td>\n",
       "    </tr>\n",
       "  </tbody>\n",
       "</table>\n",
       "<p>3 rows × 29 columns</p>\n",
       "</div>"
      ],
      "text/plain": [
       "                     num_orders  month  day  dayofweek  lag_1  lag_2  lag_3  \\\n",
       "datetime                                                                      \n",
       "2018-03-02 16:00:00          82      3    2          4   59.0   44.0   45.0   \n",
       "2018-03-02 17:00:00          83      3    2          4   82.0   59.0   44.0   \n",
       "2018-03-02 18:00:00          89      3    2          4   83.0   82.0   59.0   \n",
       "\n",
       "                     lag_4  lag_5  lag_6  ...  lag_16  lag_17  lag_18  lag_19  \\\n",
       "datetime                                  ...                                   \n",
       "2018-03-02 16:00:00   36.0   91.0   54.0  ...    90.0    58.0   113.0    66.0   \n",
       "2018-03-02 17:00:00   45.0   36.0   91.0  ...   120.0    90.0    58.0   113.0   \n",
       "2018-03-02 18:00:00   44.0   45.0   36.0  ...    75.0   120.0    90.0    58.0   \n",
       "\n",
       "                     lag_20  lag_21  lag_22  lag_23  lag_24  rolling_mean  \n",
       "datetime                                                                   \n",
       "2018-03-02 16:00:00    61.0    45.0    73.0    44.0    43.0         54.55  \n",
       "2018-03-02 17:00:00    66.0    61.0    45.0    73.0    44.0         53.50  \n",
       "2018-03-02 18:00:00   113.0    66.0    61.0    45.0    73.0         53.45  \n",
       "\n",
       "[3 rows x 29 columns]"
      ]
     },
     "execution_count": 11,
     "metadata": {},
     "output_type": "execute_result"
    }
   ],
   "source": [
    "df_taxi.head(3)"
   ]
  },
  {
   "cell_type": "markdown",
   "metadata": {},
   "source": [
    "Разделим данные на выборки, где тестовая выборка составляет 10% от исходных данных"
   ]
  },
  {
   "cell_type": "code",
   "execution_count": 12,
   "metadata": {},
   "outputs": [],
   "source": [
    "train, test = train_test_split(df_taxi, shuffle=False, test_size=0.1)"
   ]
  },
  {
   "cell_type": "code",
   "execution_count": 13,
   "metadata": {},
   "outputs": [
    {
     "data": {
      "text/html": [
       "<div>\n",
       "<style scoped>\n",
       "    .dataframe tbody tr th:only-of-type {\n",
       "        vertical-align: middle;\n",
       "    }\n",
       "\n",
       "    .dataframe tbody tr th {\n",
       "        vertical-align: top;\n",
       "    }\n",
       "\n",
       "    .dataframe thead th {\n",
       "        text-align: right;\n",
       "    }\n",
       "</style>\n",
       "<table border=\"1\" class=\"dataframe\">\n",
       "  <thead>\n",
       "    <tr style=\"text-align: right;\">\n",
       "      <th></th>\n",
       "      <th>num_orders</th>\n",
       "      <th>month</th>\n",
       "      <th>day</th>\n",
       "      <th>dayofweek</th>\n",
       "      <th>lag_1</th>\n",
       "      <th>lag_2</th>\n",
       "      <th>lag_3</th>\n",
       "      <th>lag_4</th>\n",
       "      <th>lag_5</th>\n",
       "      <th>lag_6</th>\n",
       "      <th>...</th>\n",
       "      <th>lag_16</th>\n",
       "      <th>lag_17</th>\n",
       "      <th>lag_18</th>\n",
       "      <th>lag_19</th>\n",
       "      <th>lag_20</th>\n",
       "      <th>lag_21</th>\n",
       "      <th>lag_22</th>\n",
       "      <th>lag_23</th>\n",
       "      <th>lag_24</th>\n",
       "      <th>rolling_mean</th>\n",
       "    </tr>\n",
       "    <tr>\n",
       "      <th>datetime</th>\n",
       "      <th></th>\n",
       "      <th></th>\n",
       "      <th></th>\n",
       "      <th></th>\n",
       "      <th></th>\n",
       "      <th></th>\n",
       "      <th></th>\n",
       "      <th></th>\n",
       "      <th></th>\n",
       "      <th></th>\n",
       "      <th></th>\n",
       "      <th></th>\n",
       "      <th></th>\n",
       "      <th></th>\n",
       "      <th></th>\n",
       "      <th></th>\n",
       "      <th></th>\n",
       "      <th></th>\n",
       "      <th></th>\n",
       "      <th></th>\n",
       "      <th></th>\n",
       "    </tr>\n",
       "  </thead>\n",
       "  <tbody>\n",
       "    <tr>\n",
       "      <th>2018-08-13 15:00:00</th>\n",
       "      <td>175</td>\n",
       "      <td>8</td>\n",
       "      <td>13</td>\n",
       "      <td>0</td>\n",
       "      <td>102.0</td>\n",
       "      <td>119.0</td>\n",
       "      <td>92.0</td>\n",
       "      <td>144.0</td>\n",
       "      <td>156.0</td>\n",
       "      <td>137.0</td>\n",
       "      <td>...</td>\n",
       "      <td>185.0</td>\n",
       "      <td>118.0</td>\n",
       "      <td>135.0</td>\n",
       "      <td>98.0</td>\n",
       "      <td>82.0</td>\n",
       "      <td>78.0</td>\n",
       "      <td>115.0</td>\n",
       "      <td>153.0</td>\n",
       "      <td>149.0</td>\n",
       "      <td>126.775</td>\n",
       "    </tr>\n",
       "    <tr>\n",
       "      <th>2018-08-13 16:00:00</th>\n",
       "      <td>144</td>\n",
       "      <td>8</td>\n",
       "      <td>13</td>\n",
       "      <td>0</td>\n",
       "      <td>175.0</td>\n",
       "      <td>102.0</td>\n",
       "      <td>119.0</td>\n",
       "      <td>92.0</td>\n",
       "      <td>144.0</td>\n",
       "      <td>156.0</td>\n",
       "      <td>...</td>\n",
       "      <td>160.0</td>\n",
       "      <td>185.0</td>\n",
       "      <td>118.0</td>\n",
       "      <td>135.0</td>\n",
       "      <td>98.0</td>\n",
       "      <td>82.0</td>\n",
       "      <td>78.0</td>\n",
       "      <td>115.0</td>\n",
       "      <td>153.0</td>\n",
       "      <td>127.275</td>\n",
       "    </tr>\n",
       "    <tr>\n",
       "      <th>2018-08-13 17:00:00</th>\n",
       "      <td>152</td>\n",
       "      <td>8</td>\n",
       "      <td>13</td>\n",
       "      <td>0</td>\n",
       "      <td>144.0</td>\n",
       "      <td>175.0</td>\n",
       "      <td>102.0</td>\n",
       "      <td>119.0</td>\n",
       "      <td>92.0</td>\n",
       "      <td>144.0</td>\n",
       "      <td>...</td>\n",
       "      <td>273.0</td>\n",
       "      <td>160.0</td>\n",
       "      <td>185.0</td>\n",
       "      <td>118.0</td>\n",
       "      <td>135.0</td>\n",
       "      <td>98.0</td>\n",
       "      <td>82.0</td>\n",
       "      <td>78.0</td>\n",
       "      <td>115.0</td>\n",
       "      <td>126.525</td>\n",
       "    </tr>\n",
       "  </tbody>\n",
       "</table>\n",
       "<p>3 rows × 29 columns</p>\n",
       "</div>"
      ],
      "text/plain": [
       "                     num_orders  month  day  dayofweek  lag_1  lag_2  lag_3  \\\n",
       "datetime                                                                      \n",
       "2018-08-13 15:00:00         175      8   13          0  102.0  119.0   92.0   \n",
       "2018-08-13 16:00:00         144      8   13          0  175.0  102.0  119.0   \n",
       "2018-08-13 17:00:00         152      8   13          0  144.0  175.0  102.0   \n",
       "\n",
       "                     lag_4  lag_5  lag_6  ...  lag_16  lag_17  lag_18  lag_19  \\\n",
       "datetime                                  ...                                   \n",
       "2018-08-13 15:00:00  144.0  156.0  137.0  ...   185.0   118.0   135.0    98.0   \n",
       "2018-08-13 16:00:00   92.0  144.0  156.0  ...   160.0   185.0   118.0   135.0   \n",
       "2018-08-13 17:00:00  119.0   92.0  144.0  ...   273.0   160.0   185.0   118.0   \n",
       "\n",
       "                     lag_20  lag_21  lag_22  lag_23  lag_24  rolling_mean  \n",
       "datetime                                                                   \n",
       "2018-08-13 15:00:00    82.0    78.0   115.0   153.0   149.0       126.775  \n",
       "2018-08-13 16:00:00    98.0    82.0    78.0   115.0   153.0       127.275  \n",
       "2018-08-13 17:00:00   135.0    98.0    82.0    78.0   115.0       126.525  \n",
       "\n",
       "[3 rows x 29 columns]"
      ]
     },
     "execution_count": 13,
     "metadata": {},
     "output_type": "execute_result"
    }
   ],
   "source": [
    "train.tail(3) #проверка"
   ]
  },
  {
   "cell_type": "code",
   "execution_count": 14,
   "metadata": {},
   "outputs": [
    {
     "data": {
      "text/html": [
       "<div>\n",
       "<style scoped>\n",
       "    .dataframe tbody tr th:only-of-type {\n",
       "        vertical-align: middle;\n",
       "    }\n",
       "\n",
       "    .dataframe tbody tr th {\n",
       "        vertical-align: top;\n",
       "    }\n",
       "\n",
       "    .dataframe thead th {\n",
       "        text-align: right;\n",
       "    }\n",
       "</style>\n",
       "<table border=\"1\" class=\"dataframe\">\n",
       "  <thead>\n",
       "    <tr style=\"text-align: right;\">\n",
       "      <th></th>\n",
       "      <th>num_orders</th>\n",
       "      <th>month</th>\n",
       "      <th>day</th>\n",
       "      <th>dayofweek</th>\n",
       "      <th>lag_1</th>\n",
       "      <th>lag_2</th>\n",
       "      <th>lag_3</th>\n",
       "      <th>lag_4</th>\n",
       "      <th>lag_5</th>\n",
       "      <th>lag_6</th>\n",
       "      <th>...</th>\n",
       "      <th>lag_16</th>\n",
       "      <th>lag_17</th>\n",
       "      <th>lag_18</th>\n",
       "      <th>lag_19</th>\n",
       "      <th>lag_20</th>\n",
       "      <th>lag_21</th>\n",
       "      <th>lag_22</th>\n",
       "      <th>lag_23</th>\n",
       "      <th>lag_24</th>\n",
       "      <th>rolling_mean</th>\n",
       "    </tr>\n",
       "    <tr>\n",
       "      <th>datetime</th>\n",
       "      <th></th>\n",
       "      <th></th>\n",
       "      <th></th>\n",
       "      <th></th>\n",
       "      <th></th>\n",
       "      <th></th>\n",
       "      <th></th>\n",
       "      <th></th>\n",
       "      <th></th>\n",
       "      <th></th>\n",
       "      <th></th>\n",
       "      <th></th>\n",
       "      <th></th>\n",
       "      <th></th>\n",
       "      <th></th>\n",
       "      <th></th>\n",
       "      <th></th>\n",
       "      <th></th>\n",
       "      <th></th>\n",
       "      <th></th>\n",
       "      <th></th>\n",
       "    </tr>\n",
       "  </thead>\n",
       "  <tbody>\n",
       "    <tr>\n",
       "      <th>2018-08-13 18:00:00</th>\n",
       "      <td>104</td>\n",
       "      <td>8</td>\n",
       "      <td>13</td>\n",
       "      <td>0</td>\n",
       "      <td>152.0</td>\n",
       "      <td>144.0</td>\n",
       "      <td>175.0</td>\n",
       "      <td>102.0</td>\n",
       "      <td>119.0</td>\n",
       "      <td>92.0</td>\n",
       "      <td>...</td>\n",
       "      <td>437.0</td>\n",
       "      <td>273.0</td>\n",
       "      <td>160.0</td>\n",
       "      <td>185.0</td>\n",
       "      <td>118.0</td>\n",
       "      <td>135.0</td>\n",
       "      <td>98.0</td>\n",
       "      <td>82.0</td>\n",
       "      <td>78.0</td>\n",
       "      <td>125.900</td>\n",
       "    </tr>\n",
       "    <tr>\n",
       "      <th>2018-08-13 19:00:00</th>\n",
       "      <td>91</td>\n",
       "      <td>8</td>\n",
       "      <td>13</td>\n",
       "      <td>0</td>\n",
       "      <td>104.0</td>\n",
       "      <td>152.0</td>\n",
       "      <td>144.0</td>\n",
       "      <td>175.0</td>\n",
       "      <td>102.0</td>\n",
       "      <td>119.0</td>\n",
       "      <td>...</td>\n",
       "      <td>168.0</td>\n",
       "      <td>437.0</td>\n",
       "      <td>273.0</td>\n",
       "      <td>160.0</td>\n",
       "      <td>185.0</td>\n",
       "      <td>118.0</td>\n",
       "      <td>135.0</td>\n",
       "      <td>98.0</td>\n",
       "      <td>82.0</td>\n",
       "      <td>124.575</td>\n",
       "    </tr>\n",
       "    <tr>\n",
       "      <th>2018-08-13 20:00:00</th>\n",
       "      <td>82</td>\n",
       "      <td>8</td>\n",
       "      <td>13</td>\n",
       "      <td>0</td>\n",
       "      <td>91.0</td>\n",
       "      <td>104.0</td>\n",
       "      <td>152.0</td>\n",
       "      <td>144.0</td>\n",
       "      <td>175.0</td>\n",
       "      <td>102.0</td>\n",
       "      <td>...</td>\n",
       "      <td>143.0</td>\n",
       "      <td>168.0</td>\n",
       "      <td>437.0</td>\n",
       "      <td>273.0</td>\n",
       "      <td>160.0</td>\n",
       "      <td>185.0</td>\n",
       "      <td>118.0</td>\n",
       "      <td>135.0</td>\n",
       "      <td>98.0</td>\n",
       "      <td>123.450</td>\n",
       "    </tr>\n",
       "  </tbody>\n",
       "</table>\n",
       "<p>3 rows × 29 columns</p>\n",
       "</div>"
      ],
      "text/plain": [
       "                     num_orders  month  day  dayofweek  lag_1  lag_2  lag_3  \\\n",
       "datetime                                                                      \n",
       "2018-08-13 18:00:00         104      8   13          0  152.0  144.0  175.0   \n",
       "2018-08-13 19:00:00          91      8   13          0  104.0  152.0  144.0   \n",
       "2018-08-13 20:00:00          82      8   13          0   91.0  104.0  152.0   \n",
       "\n",
       "                     lag_4  lag_5  lag_6  ...  lag_16  lag_17  lag_18  lag_19  \\\n",
       "datetime                                  ...                                   \n",
       "2018-08-13 18:00:00  102.0  119.0   92.0  ...   437.0   273.0   160.0   185.0   \n",
       "2018-08-13 19:00:00  175.0  102.0  119.0  ...   168.0   437.0   273.0   160.0   \n",
       "2018-08-13 20:00:00  144.0  175.0  102.0  ...   143.0   168.0   437.0   273.0   \n",
       "\n",
       "                     lag_20  lag_21  lag_22  lag_23  lag_24  rolling_mean  \n",
       "datetime                                                                   \n",
       "2018-08-13 18:00:00   118.0   135.0    98.0    82.0    78.0       125.900  \n",
       "2018-08-13 19:00:00   185.0   118.0   135.0    98.0    82.0       124.575  \n",
       "2018-08-13 20:00:00   160.0   185.0   118.0   135.0    98.0       123.450  \n",
       "\n",
       "[3 rows x 29 columns]"
      ]
     },
     "execution_count": 14,
     "metadata": {},
     "output_type": "execute_result"
    }
   ],
   "source": [
    "test.head(3) "
   ]
  },
  {
   "cell_type": "code",
   "execution_count": 15,
   "metadata": {},
   "outputs": [],
   "source": [
    "features_train = train.drop(['num_orders'], axis=1)\n",
    "target_train = train['num_orders']\n",
    "\n",
    "features_test = test.drop(['num_orders'], axis=1)\n",
    "target_test = test['num_orders']"
   ]
  },
  {
   "cell_type": "markdown",
   "metadata": {},
   "source": [
    "Краткие выводы о проделанной работе:\n",
    "\n",
    "- импортировали библиотеки\n",
    "- прочли данные - исторические данные о заказах такси в аэропортах\n",
    "- выполнили ресемплирование данных по одному часу\n",
    "- сгенерировали новые признаки\n",
    "- разделили данные на выборки"
   ]
  },
  {
   "cell_type": "markdown",
   "metadata": {},
   "source": [
    "## Анализ"
   ]
  },
  {
   "cell_type": "markdown",
   "metadata": {},
   "source": [
    "Проверим, в хронологическом ли порядке расположены даты и время. Если порядок соблюдён, атрибут `is_monotonic` вернёт True, если нет — False."
   ]
  },
  {
   "cell_type": "code",
   "execution_count": 16,
   "metadata": {},
   "outputs": [
    {
     "data": {
      "text/plain": [
       "True"
      ]
     },
     "execution_count": 16,
     "metadata": {},
     "output_type": "execute_result"
    }
   ],
   "source": [
    "df_taxi.index.is_monotonic"
   ]
  },
  {
   "cell_type": "markdown",
   "metadata": {},
   "source": [
    "Изучим тренд и сезонность в целевом признаке: "
   ]
  },
  {
   "cell_type": "code",
   "execution_count": 17,
   "metadata": {},
   "outputs": [
    {
     "data": {
      "image/png": "[encoded data removed]",
      "text/plain": [
       "<Figure size 1080x288 with 1 Axes>"
      ]
     },
     "metadata": {
      "needs_background": "light"
     },
     "output_type": "display_data"
    }
   ],
   "source": [
    "df_taxi['num_orders'].plot(figsize=(15, 4))\n",
    "plt.ylabel('Количество заказов')\n",
    "plt.xlabel('Месяц')\n",
    "plt.title('Количество заказов (до декомпозиции)');"
   ]
  },
  {
   "cell_type": "markdown",
   "metadata": {},
   "source": [
    "По графику с исходными данными о заказах заметен рост их количества с течением времени. Посмотрим на графики после декомпозиции временного ряда:"
   ]
  },
  {
   "cell_type": "code",
   "execution_count": 18,
   "metadata": {},
   "outputs": [],
   "source": [
    "decomposed = seasonal_decompose(df_taxi['num_orders'])"
   ]
  },
  {
   "cell_type": "code",
   "execution_count": 19,
   "metadata": {
    "scrolled": true
   },
   "outputs": [
    {
     "data": {
      "image/png": "[encoded data removed]",
      "text/plain": [
       "<Figure size 1080x288 with 1 Axes>"
      ]
     },
     "metadata": {
      "needs_background": "light"
     },
     "output_type": "display_data"
    }
   ],
   "source": [
    "plt.figure(figsize=(15, 4))\n",
    "decomposed.trend.plot()\n",
    "plt.ylabel('Количество заказов')\n",
    "plt.xlabel('Месяц')\n",
    "plt.title('Тренд');"
   ]
  },
  {
   "cell_type": "markdown",
   "metadata": {},
   "source": [
    "Наблюдаем растущий тренд в период с марта по конец августа."
   ]
  },
  {
   "cell_type": "code",
   "execution_count": 20,
   "metadata": {
    "scrolled": false
   },
   "outputs": [
    {
     "data": {
      "image/png": "[encoded data removed]",
      "text/plain": [
       "<Figure size 1080x288 with 1 Axes>"
      ]
     },
     "metadata": {
      "needs_background": "light"
     },
     "output_type": "display_data"
    }
   ],
   "source": [
    "plt.figure(figsize=(15, 4))\n",
    "decomposed.seasonal['2018-04-01':'2018-04-05'].plot()\n",
    "plt.ylabel('Количество заказов')\n",
    "plt.xlabel('Дни')\n",
    "plt.title('Сезонность');"
   ]
  },
  {
   "cell_type": "code",
   "execution_count": 21,
   "metadata": {},
   "outputs": [
    {
     "data": {
      "image/png": "[encoded data removed]",
      "text/plain": [
       "<Figure size 1080x288 with 1 Axes>"
      ]
     },
     "metadata": {
      "needs_background": "light"
     },
     "output_type": "display_data"
    }
   ],
   "source": [
    "plt.figure(figsize=(15, 4))\n",
    "decomposed.seasonal['2018-04-01':'2018-04-01'].plot()\n",
    "plt.ylabel('Количество заказов')\n",
    "plt.xlabel('Часы')\n",
    "plt.title('Сезонность');"
   ]
  },
  {
   "cell_type": "markdown",
   "metadata": {},
   "source": [
    "На графике сезонности заметна цикличность количества заказов - минимальный спрос каждый день приходится на 6 утра, а максимальный на 12 ночи."
   ]
  },
  {
   "cell_type": "markdown",
   "metadata": {},
   "source": [
    "Изучим график скользящей средней по количеству заказов `num_orders`:"
   ]
  },
  {
   "cell_type": "code",
   "execution_count": 22,
   "metadata": {
    "scrolled": true
   },
   "outputs": [
    {
     "data": {
      "image/png": "[encoded data removed]",
      "text/plain": [
       "<Figure size 1080x288 with 1 Axes>"
      ]
     },
     "metadata": {
      "needs_background": "light"
     },
     "output_type": "display_data"
    }
   ],
   "source": [
    "df_taxi['rolling_mean'].plot(figsize=(15, 4))\n",
    "plt.ylabel('Количество заказов')\n",
    "plt.xlabel('Месяц')\n",
    "plt.title('Количество заказов');"
   ]
  },
  {
   "cell_type": "markdown",
   "metadata": {},
   "source": [
    "График выглядит идентично графику тренда, заметен рост с уровня 60 примерно в 3 раза."
   ]
  },
  {
   "cell_type": "markdown",
   "metadata": {},
   "source": [
    "Выводы:\n",
    "\n",
    "- изучили графики тренда и сезонности в целевом признаке\n",
    "- определили растущий тренд и закономерности по дням\n",
    "- график сезонности стационарен\n",
    "- изучили график скользящей средней - график нестационарен"
   ]
  },
  {
   "cell_type": "markdown",
   "metadata": {},
   "source": [
    "## Обучение"
   ]
  },
  {
   "cell_type": "markdown",
   "metadata": {},
   "source": [
    "Обучим разные модели и подберем гиперпараметры:"
   ]
  },
  {
   "cell_type": "code",
   "execution_count": 23,
   "metadata": {},
   "outputs": [],
   "source": [
    "scorer = make_scorer(mean_squared_error, greater_is_better=False, squared=False)"
   ]
  },
  {
   "cell_type": "markdown",
   "metadata": {},
   "source": [
    "### Модель Случайный лес"
   ]
  },
  {
   "cell_type": "code",
   "execution_count": 24,
   "metadata": {},
   "outputs": [],
   "source": [
    "rfr = RandomForestRegressor(random_state=state)\n",
    "\n",
    "parametrs = {'n_estimators': range (120, 131, 10),  # параметры были уменьшены для ускорения кода на время проверки\n",
    "              'max_depth': range (20, 31, 5)}"
   ]
  },
  {
   "cell_type": "code",
   "execution_count": 25,
   "metadata": {},
   "outputs": [
    {
     "data": {
      "text/plain": [
       "{'max_depth': 30, 'n_estimators': 130}"
      ]
     },
     "execution_count": 25,
     "metadata": {},
     "output_type": "execute_result"
    }
   ],
   "source": [
    "tscv = TimeSeriesSplit(n_splits=2)\n",
    "\n",
    "grid = GridSearchCV(rfr, parametrs, cv=tscv, scoring=scorer)\n",
    "grid.fit(features_train, target_train)\n",
    "\n",
    "grid.best_params_"
   ]
  },
  {
   "cell_type": "code",
   "execution_count": 26,
   "metadata": {},
   "outputs": [
    {
     "data": {
      "text/plain": [
       "28.273513865912758"
      ]
     },
     "execution_count": 26,
     "metadata": {},
     "output_type": "execute_result"
    }
   ],
   "source": [
    "grid.best_score_ * -1"
   ]
  },
  {
   "cell_type": "markdown",
   "metadata": {},
   "source": [
    "### Модель LightGBM"
   ]
  },
  {
   "cell_type": "code",
   "execution_count": 27,
   "metadata": {},
   "outputs": [],
   "source": [
    "lgr = LGBMRegressor(random_state=state)\n",
    "\n",
    "parametrs = {'n_estimators': range (140, 151, 10),\n",
    "              'max_depth': range (10, 21, 5),\n",
    "              'num_leaves': range (10, 21, 5)}"
   ]
  },
  {
   "cell_type": "code",
   "execution_count": 28,
   "metadata": {},
   "outputs": [
    {
     "data": {
      "text/plain": [
       "{'max_depth': 15, 'n_estimators': 150, 'num_leaves': 15}"
      ]
     },
     "execution_count": 28,
     "metadata": {},
     "output_type": "execute_result"
    }
   ],
   "source": [
    "tscv = TimeSeriesSplit(n_splits=2)\n",
    "\n",
    "grid = GridSearchCV(lgr, parametrs, cv=tscv, scoring=scorer)\n",
    "grid.fit(features_train, target_train)\n",
    "\n",
    "grid.best_params_"
   ]
  },
  {
   "cell_type": "code",
   "execution_count": 29,
   "metadata": {},
   "outputs": [
    {
     "data": {
      "text/plain": [
       "27.944591348672354"
      ]
     },
     "execution_count": 29,
     "metadata": {},
     "output_type": "execute_result"
    }
   ],
   "source": [
    "grid.best_score_ * -1"
   ]
  },
  {
   "cell_type": "markdown",
   "metadata": {},
   "source": [
    "Выводы:\n",
    "\n",
    "- подобрали гиперпараметры для моделей Случайный лес и LGBMRegressor\n",
    "- протестировали результаты на валидационной выборке\n",
    " - для модели `RandomForestRegressor` RMSE равен 28.27\n",
    " - для модели `LGBMRegressor` RMSE равен 27.94\n",
    " \n",
    "Выбираем модель с наилучшим результатом - `LGBMRegressor`."
   ]
  },
  {
   "cell_type": "markdown",
   "metadata": {},
   "source": [
    "## Тестирование"
   ]
  },
  {
   "cell_type": "code",
   "execution_count": 30,
   "metadata": {},
   "outputs": [],
   "source": [
    "model_lgr = LGBMRegressor(num_leaves=15, max_depth=15 , n_estimators=150, random_state=state)"
   ]
  },
  {
   "cell_type": "code",
   "execution_count": 31,
   "metadata": {},
   "outputs": [
    {
     "data": {
      "text/plain": [
       "LGBMRegressor(max_depth=15, n_estimators=150, num_leaves=15, random_state=12345)"
      ]
     },
     "execution_count": 31,
     "metadata": {},
     "output_type": "execute_result"
    }
   ],
   "source": [
    "model_lgr.fit(features_train, target_train)"
   ]
  },
  {
   "cell_type": "code",
   "execution_count": 32,
   "metadata": {},
   "outputs": [],
   "source": [
    "predictions = model_lgr.predict(features_test)"
   ]
  },
  {
   "cell_type": "code",
   "execution_count": 33,
   "metadata": {},
   "outputs": [
    {
     "data": {
      "image/png": "[encoded data removed]",
      "text/plain": [
       "<Figure size 1080x288 with 1 Axes>"
      ]
     },
     "metadata": {
      "needs_background": "light"
     },
     "output_type": "display_data"
    }
   ],
   "source": [
    "pd.DataFrame({'Target': target_test, 'Prediction': predictions}).plot(\n",
    "    figsize=(15, 4), title='Сравнение предсказаний модели с правильными ответами');"
   ]
  },
  {
   "cell_type": "markdown",
   "metadata": {},
   "source": [
    "Графики имеют схожий вид, заметно, что предсказание совпадает со многими средними значениями, но\n",
    "нестандартно высокие/низкие значения не угадывает."
   ]
  },
  {
   "cell_type": "code",
   "execution_count": 34,
   "metadata": {},
   "outputs": [
    {
     "name": "stdout",
     "output_type": "stream",
     "text": [
      "RMSE: 42.52577844870991\n"
     ]
    }
   ],
   "source": [
    "print('RMSE:', mean_squared_error(target_test, predictions)**0.5)"
   ]
  },
  {
   "cell_type": "markdown",
   "metadata": {},
   "source": [
    "Значение метрики RMSE на тестовой выборке меньше 48 и равно 42,5."
   ]
  }
 ],
 "metadata": {
  "ExecuteTimeLog": [
   {
    "duration": 1158,
    "start_time": "2022-07-11T13:08:50.644Z"
   },
   {
    "duration": 91,
    "start_time": "2022-07-11T13:09:08.420Z"
   },
   {
    "duration": 9,
    "start_time": "2022-07-11T13:09:15.964Z"
   },
   {
    "duration": 9,
    "start_time": "2022-07-11T13:09:19.460Z"
   },
   {
    "duration": 85,
    "start_time": "2022-07-11T13:09:56.681Z"
   },
   {
    "duration": 14,
    "start_time": "2022-07-11T13:10:07.622Z"
   },
   {
    "duration": 9,
    "start_time": "2022-07-11T13:10:35.461Z"
   },
   {
    "duration": 40,
    "start_time": "2022-07-11T13:11:28.021Z"
   },
   {
    "duration": 35,
    "start_time": "2022-07-11T13:11:34.101Z"
   },
   {
    "duration": 7,
    "start_time": "2022-07-11T13:11:36.130Z"
   },
   {
    "duration": 32,
    "start_time": "2022-07-11T13:14:43.970Z"
   },
   {
    "duration": 7,
    "start_time": "2022-07-11T13:14:45.428Z"
   },
   {
    "duration": 7,
    "start_time": "2022-07-11T13:16:00.228Z"
   },
   {
    "duration": 7,
    "start_time": "2022-07-11T13:16:04.030Z"
   },
   {
    "duration": 35,
    "start_time": "2022-07-11T13:16:14.841Z"
   },
   {
    "duration": 8,
    "start_time": "2022-07-11T13:16:16.102Z"
   },
   {
    "duration": 4,
    "start_time": "2022-07-11T13:16:18.707Z"
   },
   {
    "duration": 11,
    "start_time": "2022-07-11T13:16:19.860Z"
   },
   {
    "duration": 8,
    "start_time": "2022-07-11T13:16:34.890Z"
   },
   {
    "duration": 32,
    "start_time": "2022-07-11T13:16:38.390Z"
   },
   {
    "duration": 4,
    "start_time": "2022-07-11T13:16:40.348Z"
   },
   {
    "duration": 6,
    "start_time": "2022-07-11T13:16:43.330Z"
   },
   {
    "duration": 14,
    "start_time": "2022-07-11T13:16:54.131Z"
   },
   {
    "duration": 6,
    "start_time": "2022-07-11T13:17:04.231Z"
   },
   {
    "duration": 37,
    "start_time": "2022-07-11T13:17:06.889Z"
   },
   {
    "duration": 7,
    "start_time": "2022-07-11T13:17:09.752Z"
   },
   {
    "duration": 9,
    "start_time": "2022-07-11T13:17:11.603Z"
   },
   {
    "duration": 7,
    "start_time": "2022-07-11T13:17:27.260Z"
   },
   {
    "duration": 33,
    "start_time": "2022-07-11T13:19:56.929Z"
   },
   {
    "duration": 4,
    "start_time": "2022-07-11T13:22:37.346Z"
   },
   {
    "duration": 6,
    "start_time": "2022-07-11T13:23:04.336Z"
   },
   {
    "duration": 10,
    "start_time": "2022-07-11T13:23:17.295Z"
   },
   {
    "duration": 676,
    "start_time": "2022-07-11T13:24:26.104Z"
   },
   {
    "duration": 3,
    "start_time": "2022-07-11T13:25:40.073Z"
   },
   {
    "duration": 27,
    "start_time": "2022-07-11T13:28:21.359Z"
   },
   {
    "duration": 1051,
    "start_time": "2022-07-11T13:28:31.576Z"
   },
   {
    "duration": 4,
    "start_time": "2022-07-11T13:28:36.311Z"
   },
   {
    "duration": 38,
    "start_time": "2022-07-11T13:28:37.370Z"
   },
   {
    "duration": 9,
    "start_time": "2022-07-11T13:28:39.039Z"
   },
   {
    "duration": 4,
    "start_time": "2022-07-11T13:28:45.231Z"
   },
   {
    "duration": 4,
    "start_time": "2022-07-11T13:28:46.740Z"
   },
   {
    "duration": 506,
    "start_time": "2022-07-11T13:32:35.895Z"
   },
   {
    "duration": 3,
    "start_time": "2022-07-11T13:33:51.247Z"
   },
   {
    "duration": 4,
    "start_time": "2022-07-11T13:33:57.384Z"
   },
   {
    "duration": 6,
    "start_time": "2022-07-11T13:35:36.832Z"
   },
   {
    "duration": 292,
    "start_time": "2022-07-11T13:35:38.607Z"
   },
   {
    "duration": 277,
    "start_time": "2022-07-11T13:35:43.000Z"
   },
   {
    "duration": 22,
    "start_time": "2022-07-11T13:35:46.906Z"
   },
   {
    "duration": 339,
    "start_time": "2022-07-11T13:36:49.027Z"
   },
   {
    "duration": 42,
    "start_time": "2022-07-11T13:37:16.684Z"
   },
   {
    "duration": 8,
    "start_time": "2022-07-11T13:37:19.441Z"
   },
   {
    "duration": 219,
    "start_time": "2022-07-11T13:37:23.356Z"
   },
   {
    "duration": 5,
    "start_time": "2022-07-11T13:37:53.561Z"
   },
   {
    "duration": 301,
    "start_time": "2022-07-11T13:38:04.427Z"
   },
   {
    "duration": 5,
    "start_time": "2022-07-11T13:38:07.870Z"
   },
   {
    "duration": 287,
    "start_time": "2022-07-11T13:38:09.667Z"
   },
   {
    "duration": 5,
    "start_time": "2022-07-11T13:38:28.192Z"
   },
   {
    "duration": 5,
    "start_time": "2022-07-11T13:38:34.184Z"
   },
   {
    "duration": 271,
    "start_time": "2022-07-11T13:38:36.390Z"
   },
   {
    "duration": 4,
    "start_time": "2022-07-11T13:38:47.736Z"
   },
   {
    "duration": 367,
    "start_time": "2022-07-11T13:38:50.040Z"
   },
   {
    "duration": 249,
    "start_time": "2022-07-11T13:39:38.287Z"
   },
   {
    "duration": 267,
    "start_time": "2022-07-11T13:39:43.737Z"
   },
   {
    "duration": 356,
    "start_time": "2022-07-11T13:39:48.344Z"
   },
   {
    "duration": 288,
    "start_time": "2022-07-11T13:39:53.878Z"
   },
   {
    "duration": 344,
    "start_time": "2022-07-11T13:39:59.384Z"
   },
   {
    "duration": 6,
    "start_time": "2022-07-11T13:40:09.950Z"
   },
   {
    "duration": 318,
    "start_time": "2022-07-11T13:40:11.760Z"
   },
   {
    "duration": 7,
    "start_time": "2022-07-11T13:40:19.198Z"
   },
   {
    "duration": 325,
    "start_time": "2022-07-11T13:40:20.307Z"
   },
   {
    "duration": 6,
    "start_time": "2022-07-11T13:40:29.498Z"
   },
   {
    "duration": 658,
    "start_time": "2022-07-11T13:40:30.671Z"
   },
   {
    "duration": 6,
    "start_time": "2022-07-11T13:40:42.439Z"
   },
   {
    "duration": 324,
    "start_time": "2022-07-11T13:40:43.897Z"
   },
   {
    "duration": 35,
    "start_time": "2022-07-11T13:41:14.105Z"
   },
   {
    "duration": 39,
    "start_time": "2022-07-11T13:42:46.399Z"
   },
   {
    "duration": 6,
    "start_time": "2022-07-11T13:42:47.550Z"
   },
   {
    "duration": 7,
    "start_time": "2022-07-11T13:42:50.830Z"
   },
   {
    "duration": 7,
    "start_time": "2022-07-11T13:42:51.887Z"
   },
   {
    "duration": 10,
    "start_time": "2022-07-11T13:43:06.398Z"
   },
   {
    "duration": 116,
    "start_time": "2022-07-11T13:44:12.440Z"
   },
   {
    "duration": 6,
    "start_time": "2022-07-11T13:44:16.520Z"
   },
   {
    "duration": 318,
    "start_time": "2022-07-11T13:44:17.924Z"
   },
   {
    "duration": 6,
    "start_time": "2022-07-11T13:44:33.526Z"
   },
   {
    "duration": 329,
    "start_time": "2022-07-11T13:44:34.666Z"
   },
   {
    "duration": 6,
    "start_time": "2022-07-11T13:45:04.358Z"
   },
   {
    "duration": 9,
    "start_time": "2022-07-11T13:45:05.625Z"
   },
   {
    "duration": 33,
    "start_time": "2022-07-11T13:45:16.437Z"
   },
   {
    "duration": 9,
    "start_time": "2022-07-11T13:45:18.006Z"
   },
   {
    "duration": 7,
    "start_time": "2022-07-11T13:45:19.226Z"
   },
   {
    "duration": 7,
    "start_time": "2022-07-11T13:45:26.925Z"
   },
   {
    "duration": 312,
    "start_time": "2022-07-11T13:45:29.030Z"
   },
   {
    "duration": 5,
    "start_time": "2022-07-11T13:45:46.549Z"
   },
   {
    "duration": 308,
    "start_time": "2022-07-11T13:45:47.630Z"
   },
   {
    "duration": 5,
    "start_time": "2022-07-11T13:45:56.207Z"
   },
   {
    "duration": 305,
    "start_time": "2022-07-11T13:45:57.289Z"
   },
   {
    "duration": 39,
    "start_time": "2022-07-11T13:47:05.397Z"
   },
   {
    "duration": 17,
    "start_time": "2022-07-11T13:47:37.072Z"
   },
   {
    "duration": 17,
    "start_time": "2022-07-11T13:47:57.711Z"
   },
   {
    "duration": 13,
    "start_time": "2022-07-11T13:49:15.921Z"
   },
   {
    "duration": 10,
    "start_time": "2022-07-11T13:49:32.788Z"
   },
   {
    "duration": 11,
    "start_time": "2022-07-11T13:50:17.931Z"
   },
   {
    "duration": 44,
    "start_time": "2022-07-11T13:50:49.198Z"
   },
   {
    "duration": 38,
    "start_time": "2022-07-11T13:51:43.208Z"
   },
   {
    "duration": 6,
    "start_time": "2022-07-11T13:51:45.940Z"
   },
   {
    "duration": 219,
    "start_time": "2022-07-11T13:51:49.848Z"
   },
   {
    "duration": 3,
    "start_time": "2022-07-11T13:52:26.150Z"
   },
   {
    "duration": 453,
    "start_time": "2022-07-11T13:52:30.087Z"
   },
   {
    "duration": 249,
    "start_time": "2022-07-11T13:52:56.505Z"
   },
   {
    "duration": 254,
    "start_time": "2022-07-11T13:53:04.422Z"
   },
   {
    "duration": 215,
    "start_time": "2022-07-11T13:53:15.681Z"
   },
   {
    "duration": 506,
    "start_time": "2022-07-11T13:53:32.238Z"
   },
   {
    "duration": 359,
    "start_time": "2022-07-11T13:53:37.037Z"
   },
   {
    "duration": 220,
    "start_time": "2022-07-11T13:53:40.447Z"
   },
   {
    "duration": 181,
    "start_time": "2022-07-11T13:54:41.948Z"
   },
   {
    "duration": 271,
    "start_time": "2022-07-11T13:55:03.029Z"
   },
   {
    "duration": 196,
    "start_time": "2022-07-11T13:55:11.137Z"
   },
   {
    "duration": 208,
    "start_time": "2022-07-11T13:55:22.619Z"
   },
   {
    "duration": 187,
    "start_time": "2022-07-11T13:55:27.676Z"
   },
   {
    "duration": 257,
    "start_time": "2022-07-11T13:55:31.620Z"
   },
   {
    "duration": 201,
    "start_time": "2022-07-11T13:55:45.118Z"
   },
   {
    "duration": 196,
    "start_time": "2022-07-11T13:55:52.437Z"
   },
   {
    "duration": 221,
    "start_time": "2022-07-11T13:55:56.427Z"
   },
   {
    "duration": 229,
    "start_time": "2022-07-11T13:56:03.598Z"
   },
   {
    "duration": 204,
    "start_time": "2022-07-11T13:56:12.887Z"
   },
   {
    "duration": 240,
    "start_time": "2022-07-11T13:56:25.247Z"
   },
   {
    "duration": 267,
    "start_time": "2022-07-11T13:56:35.397Z"
   },
   {
    "duration": 238,
    "start_time": "2022-07-11T13:56:52.297Z"
   },
   {
    "duration": 232,
    "start_time": "2022-07-11T13:57:01.017Z"
   },
   {
    "duration": 238,
    "start_time": "2022-07-11T13:57:14.671Z"
   },
   {
    "duration": 230,
    "start_time": "2022-07-11T13:57:20.247Z"
   },
   {
    "duration": 203,
    "start_time": "2022-07-11T13:57:24.087Z"
   },
   {
    "duration": 165,
    "start_time": "2022-07-11T13:57:45.712Z"
   },
   {
    "duration": 176,
    "start_time": "2022-07-11T13:58:04.581Z"
   },
   {
    "duration": 149,
    "start_time": "2022-07-11T13:58:10.548Z"
   },
   {
    "duration": 234,
    "start_time": "2022-07-11T13:58:56.001Z"
   },
   {
    "duration": 203,
    "start_time": "2022-07-11T13:59:08.021Z"
   },
   {
    "duration": 217,
    "start_time": "2022-07-11T13:59:14.427Z"
   },
   {
    "duration": 253,
    "start_time": "2022-07-11T14:01:50.236Z"
   },
   {
    "duration": 5,
    "start_time": "2022-07-11T14:03:17.746Z"
   },
   {
    "duration": 5,
    "start_time": "2022-07-11T14:03:18.858Z"
   },
   {
    "duration": 11,
    "start_time": "2022-07-11T14:03:26.322Z"
   },
   {
    "duration": 4,
    "start_time": "2022-07-11T14:03:31.056Z"
   },
   {
    "duration": 214,
    "start_time": "2022-07-11T14:03:35.023Z"
   },
   {
    "duration": 14,
    "start_time": "2022-07-11T14:03:39.290Z"
   },
   {
    "duration": 4,
    "start_time": "2022-07-11T14:03:49.857Z"
   },
   {
    "duration": 4,
    "start_time": "2022-07-11T14:03:54.025Z"
   },
   {
    "duration": 3,
    "start_time": "2022-07-11T14:04:12.076Z"
   },
   {
    "duration": 224,
    "start_time": "2022-07-11T14:04:13.253Z"
   },
   {
    "duration": 5,
    "start_time": "2022-07-11T14:05:27.715Z"
   },
   {
    "duration": 280,
    "start_time": "2022-07-11T14:05:28.863Z"
   },
   {
    "duration": 5,
    "start_time": "2022-07-11T14:05:35.680Z"
   },
   {
    "duration": 4,
    "start_time": "2022-07-11T14:05:39.426Z"
   },
   {
    "duration": 5,
    "start_time": "2022-07-11T14:05:40.529Z"
   },
   {
    "duration": 2155,
    "start_time": "2022-07-11T14:05:45.898Z"
   },
   {
    "duration": 531,
    "start_time": "2022-07-11T14:06:51.618Z"
   },
   {
    "duration": 608,
    "start_time": "2022-07-11T14:07:03.536Z"
   },
   {
    "duration": 294,
    "start_time": "2022-07-11T14:07:25.405Z"
   },
   {
    "duration": 265,
    "start_time": "2022-07-11T14:07:31.065Z"
   },
   {
    "duration": 257,
    "start_time": "2022-07-11T14:07:47.728Z"
   },
   {
    "duration": 245,
    "start_time": "2022-07-11T14:07:55.837Z"
   },
   {
    "duration": 1132,
    "start_time": "2022-07-11T14:11:42.944Z"
   },
   {
    "duration": 15,
    "start_time": "2022-07-11T14:12:05.404Z"
   },
   {
    "duration": 8,
    "start_time": "2022-07-11T14:12:33.013Z"
   },
   {
    "duration": 12,
    "start_time": "2022-07-11T14:12:36.194Z"
   },
   {
    "duration": 12,
    "start_time": "2022-07-11T14:12:48.215Z"
   },
   {
    "duration": 252,
    "start_time": "2022-07-11T14:15:14.004Z"
   },
   {
    "duration": 11,
    "start_time": "2022-07-11T14:15:21.146Z"
   },
   {
    "duration": 8,
    "start_time": "2022-07-11T14:15:44.447Z"
   },
   {
    "duration": 204,
    "start_time": "2022-07-11T14:15:46.715Z"
   },
   {
    "duration": 7,
    "start_time": "2022-07-11T14:16:25.474Z"
   },
   {
    "duration": 11,
    "start_time": "2022-07-11T14:16:27.954Z"
   },
   {
    "duration": 210,
    "start_time": "2022-07-11T14:17:15.823Z"
   },
   {
    "duration": 255,
    "start_time": "2022-07-11T14:17:41.917Z"
   },
   {
    "duration": 207,
    "start_time": "2022-07-11T14:17:47.976Z"
   },
   {
    "duration": 1728,
    "start_time": "2022-07-12T13:33:03.100Z"
   },
   {
    "duration": 3,
    "start_time": "2022-07-12T13:33:04.831Z"
   },
   {
    "duration": 111,
    "start_time": "2022-07-12T13:33:04.836Z"
   },
   {
    "duration": 14,
    "start_time": "2022-07-12T13:33:04.950Z"
   },
   {
    "duration": 41,
    "start_time": "2022-07-12T13:33:04.967Z"
   },
   {
    "duration": 20,
    "start_time": "2022-07-12T13:33:05.010Z"
   },
   {
    "duration": 24,
    "start_time": "2022-07-12T13:33:05.032Z"
   },
   {
    "duration": 33,
    "start_time": "2022-07-12T13:33:05.058Z"
   },
   {
    "duration": 32,
    "start_time": "2022-07-12T13:33:05.093Z"
   },
   {
    "duration": 15,
    "start_time": "2022-07-12T13:33:05.127Z"
   },
   {
    "duration": 30,
    "start_time": "2022-07-12T13:33:05.144Z"
   },
   {
    "duration": 17,
    "start_time": "2022-07-12T13:33:05.176Z"
   },
   {
    "duration": 23,
    "start_time": "2022-07-12T13:33:05.195Z"
   },
   {
    "duration": 20,
    "start_time": "2022-07-12T13:33:05.220Z"
   },
   {
    "duration": 289,
    "start_time": "2022-07-12T13:33:05.242Z"
   },
   {
    "duration": 170,
    "start_time": "2022-07-12T13:33:05.533Z"
   },
   {
    "duration": 360,
    "start_time": "2022-07-12T13:33:05.705Z"
   },
   {
    "duration": 4,
    "start_time": "2022-07-12T13:33:06.068Z"
   },
   {
    "duration": 6106,
    "start_time": "2022-07-12T13:33:06.074Z"
   },
   {
    "duration": 0,
    "start_time": "2022-07-12T13:33:12.182Z"
   },
   {
    "duration": 0,
    "start_time": "2022-07-12T13:33:12.184Z"
   },
   {
    "duration": 29,
    "start_time": "2022-07-12T13:35:31.732Z"
   },
   {
    "duration": 16,
    "start_time": "2022-07-12T13:36:13.251Z"
   },
   {
    "duration": 13,
    "start_time": "2022-07-12T13:36:17.384Z"
   },
   {
    "duration": 20,
    "start_time": "2022-07-12T13:36:21.346Z"
   },
   {
    "duration": 28,
    "start_time": "2022-07-12T13:36:29.236Z"
   },
   {
    "duration": 7,
    "start_time": "2022-07-12T13:36:44.338Z"
   },
   {
    "duration": 12,
    "start_time": "2022-07-12T13:36:46.094Z"
   },
   {
    "duration": 4,
    "start_time": "2022-07-12T13:38:01.668Z"
   },
   {
    "duration": 8,
    "start_time": "2022-07-12T13:38:06.941Z"
   },
   {
    "duration": 7,
    "start_time": "2022-07-12T13:46:21.194Z"
   },
   {
    "duration": 257,
    "start_time": "2022-07-12T13:46:22.306Z"
   },
   {
    "duration": 258,
    "start_time": "2022-07-12T13:47:25.184Z"
   },
   {
    "duration": 247,
    "start_time": "2022-07-12T13:47:35.133Z"
   },
   {
    "duration": 271,
    "start_time": "2022-07-12T13:49:52.725Z"
   },
   {
    "duration": 237,
    "start_time": "2022-07-12T13:49:57.356Z"
   },
   {
    "duration": 16,
    "start_time": "2022-07-12T13:50:05.758Z"
   },
   {
    "duration": 19,
    "start_time": "2022-07-12T13:54:53.944Z"
   },
   {
    "duration": 284,
    "start_time": "2022-07-12T13:55:48.784Z"
   },
   {
    "duration": 185,
    "start_time": "2022-07-12T13:55:53.721Z"
   },
   {
    "duration": 175,
    "start_time": "2022-07-12T13:56:12.882Z"
   },
   {
    "duration": 156,
    "start_time": "2022-07-12T13:56:22.352Z"
   },
   {
    "duration": 168,
    "start_time": "2022-07-12T13:56:27.613Z"
   },
   {
    "duration": 186,
    "start_time": "2022-07-12T13:56:32.082Z"
   },
   {
    "duration": 187,
    "start_time": "2022-07-12T13:57:27.450Z"
   },
   {
    "duration": 180,
    "start_time": "2022-07-12T13:57:34.082Z"
   },
   {
    "duration": 187,
    "start_time": "2022-07-12T13:57:39.412Z"
   },
   {
    "duration": 183,
    "start_time": "2022-07-12T13:57:47.450Z"
   },
   {
    "duration": 186,
    "start_time": "2022-07-12T13:57:53.162Z"
   },
   {
    "duration": 175,
    "start_time": "2022-07-12T13:58:43.290Z"
   },
   {
    "duration": 8,
    "start_time": "2022-07-12T13:59:25.625Z"
   },
   {
    "duration": 14,
    "start_time": "2022-07-12T13:59:29.002Z"
   },
   {
    "duration": 39,
    "start_time": "2022-07-12T13:59:38.761Z"
   },
   {
    "duration": 7,
    "start_time": "2022-07-12T13:59:41.480Z"
   },
   {
    "duration": 9,
    "start_time": "2022-07-12T13:59:42.962Z"
   },
   {
    "duration": 15,
    "start_time": "2022-07-12T13:59:49.730Z"
   },
   {
    "duration": 7,
    "start_time": "2022-07-12T13:59:52.864Z"
   },
   {
    "duration": 15,
    "start_time": "2022-07-12T13:59:54.829Z"
   },
   {
    "duration": 5,
    "start_time": "2022-07-12T14:00:00.983Z"
   },
   {
    "duration": 7,
    "start_time": "2022-07-12T14:00:02.042Z"
   },
   {
    "duration": 261,
    "start_time": "2022-07-12T14:00:05.025Z"
   },
   {
    "duration": 157,
    "start_time": "2022-07-12T14:00:13.002Z"
   },
   {
    "duration": 33,
    "start_time": "2022-07-12T14:00:36.573Z"
   },
   {
    "duration": 3,
    "start_time": "2022-07-12T14:02:33.519Z"
   },
   {
    "duration": 19246,
    "start_time": "2022-07-12T14:02:34.878Z"
   },
   {
    "duration": 4,
    "start_time": "2022-07-12T14:15:33.033Z"
   },
   {
    "duration": 87341,
    "start_time": "2022-07-12T14:15:34.567Z"
   },
   {
    "duration": 4,
    "start_time": "2022-07-12T14:18:07.925Z"
   },
   {
    "duration": 93678,
    "start_time": "2022-07-12T14:18:09.129Z"
   },
   {
    "duration": 4,
    "start_time": "2022-07-12T14:20:45.937Z"
   },
   {
    "duration": 94606,
    "start_time": "2022-07-12T14:20:46.933Z"
   },
   {
    "duration": 3,
    "start_time": "2022-07-12T14:23:23.192Z"
   },
   {
    "duration": 193372,
    "start_time": "2022-07-12T14:23:24.175Z"
   },
   {
    "duration": 6,
    "start_time": "2022-07-12T14:26:37.549Z"
   },
   {
    "duration": 4,
    "start_time": "2022-07-12T14:27:56.343Z"
   },
   {
    "duration": 6821,
    "start_time": "2022-07-12T14:27:57.481Z"
   },
   {
    "duration": 3,
    "start_time": "2022-07-12T14:28:11.303Z"
   },
   {
    "duration": 13544,
    "start_time": "2022-07-12T14:28:12.598Z"
   },
   {
    "duration": 3,
    "start_time": "2022-07-12T14:28:32.671Z"
   },
   {
    "duration": 7033,
    "start_time": "2022-07-12T14:28:33.742Z"
   },
   {
    "duration": 3,
    "start_time": "2022-07-12T14:28:42.514Z"
   },
   {
    "duration": 5531,
    "start_time": "2022-07-12T14:28:43.720Z"
   },
   {
    "duration": 4,
    "start_time": "2022-07-12T14:28:51.628Z"
   },
   {
    "duration": 13,
    "start_time": "2022-07-12T14:29:56.551Z"
   },
   {
    "duration": 26,
    "start_time": "2022-07-12T14:30:20.655Z"
   },
   {
    "duration": 4,
    "start_time": "2022-07-12T14:30:24.454Z"
   },
   {
    "duration": 118700,
    "start_time": "2022-07-12T14:30:26.430Z"
   },
   {
    "duration": 3,
    "start_time": "2022-07-12T14:32:25.133Z"
   },
   {
    "duration": 92,
    "start_time": "2022-07-12T14:32:25.138Z"
   },
   {
    "duration": 0,
    "start_time": "2022-07-12T14:32:25.232Z"
   },
   {
    "duration": 4,
    "start_time": "2022-07-12T14:36:13.412Z"
   },
   {
    "duration": 107710,
    "start_time": "2022-07-12T14:36:14.822Z"
   },
   {
    "duration": 228,
    "start_time": "2022-07-12T14:38:02.535Z"
   },
   {
    "duration": 11,
    "start_time": "2022-07-12T14:38:02.765Z"
   },
   {
    "duration": 4,
    "start_time": "2022-07-12T14:38:02.778Z"
   },
   {
    "duration": 3,
    "start_time": "2022-07-12T14:40:16.660Z"
   },
   {
    "duration": 48423,
    "start_time": "2022-07-12T14:40:17.808Z"
   },
   {
    "duration": 4,
    "start_time": "2022-07-12T14:41:06.233Z"
   },
   {
    "duration": 4,
    "start_time": "2022-07-12T14:42:16.096Z"
   },
   {
    "duration": 3,
    "start_time": "2022-07-12T14:42:33.407Z"
   },
   {
    "duration": 89607,
    "start_time": "2022-07-12T14:42:34.727Z"
   },
   {
    "duration": 4,
    "start_time": "2022-07-12T14:44:49.776Z"
   },
   {
    "duration": 65255,
    "start_time": "2022-07-12T14:44:51.377Z"
   },
   {
    "duration": 5,
    "start_time": "2022-07-12T14:46:38.987Z"
   },
   {
    "duration": 24138,
    "start_time": "2022-07-12T14:46:40.095Z"
   },
   {
    "duration": 4,
    "start_time": "2022-07-12T14:47:37.197Z"
   },
   {
    "duration": 37797,
    "start_time": "2022-07-12T14:47:38.537Z"
   },
   {
    "duration": 6,
    "start_time": "2022-07-12T14:51:45.427Z"
   },
   {
    "duration": 4,
    "start_time": "2022-07-12T14:51:46.708Z"
   },
   {
    "duration": 17,
    "start_time": "2022-07-12T14:51:48.097Z"
   },
   {
    "duration": 23,
    "start_time": "2022-07-12T14:51:49.927Z"
   },
   {
    "duration": 23,
    "start_time": "2022-07-12T14:51:51.129Z"
   },
   {
    "duration": 6,
    "start_time": "2022-07-12T14:52:49.503Z"
   },
   {
    "duration": 3,
    "start_time": "2022-07-12T14:53:01.878Z"
   },
   {
    "duration": 157,
    "start_time": "2022-07-12T14:53:05.127Z"
   },
   {
    "duration": 13,
    "start_time": "2022-07-12T14:53:15.967Z"
   },
   {
    "duration": 4,
    "start_time": "2022-07-12T14:53:27.799Z"
   },
   {
    "duration": 3,
    "start_time": "2022-07-12T14:54:01.417Z"
   },
   {
    "duration": 2766,
    "start_time": "2022-07-12T14:54:02.665Z"
   },
   {
    "duration": 15,
    "start_time": "2022-07-12T14:54:09.116Z"
   },
   {
    "duration": 5,
    "start_time": "2022-07-12T14:54:11.125Z"
   },
   {
    "duration": 25,
    "start_time": "2022-07-12T14:54:50.743Z"
   },
   {
    "duration": 5,
    "start_time": "2022-07-12T14:54:52.203Z"
   },
   {
    "duration": 4,
    "start_time": "2022-07-12T14:56:06.695Z"
   },
   {
    "duration": 8,
    "start_time": "2022-07-12T14:56:09.096Z"
   },
   {
    "duration": 4,
    "start_time": "2022-07-12T14:56:17.746Z"
   },
   {
    "duration": 4595,
    "start_time": "2022-07-12T14:56:18.993Z"
   },
   {
    "duration": 3,
    "start_time": "2022-07-12T14:56:23.590Z"
   },
   {
    "duration": 4519,
    "start_time": "2022-07-12T14:56:31.515Z"
   },
   {
    "duration": 3,
    "start_time": "2022-07-12T14:56:36.036Z"
   },
   {
    "duration": 138,
    "start_time": "2022-07-12T14:56:36.041Z"
   },
   {
    "duration": 8,
    "start_time": "2022-07-12T14:56:36.181Z"
   },
   {
    "duration": 6,
    "start_time": "2022-07-12T14:56:36.191Z"
   },
   {
    "duration": 7,
    "start_time": "2022-07-12T14:56:36.199Z"
   },
   {
    "duration": 15423,
    "start_time": "2022-07-12T14:56:36.208Z"
   },
   {
    "duration": 3,
    "start_time": "2022-07-12T14:56:51.634Z"
   },
   {
    "duration": 387,
    "start_time": "2022-07-12T14:56:51.639Z"
   },
   {
    "duration": 13,
    "start_time": "2022-07-12T14:56:52.029Z"
   },
   {
    "duration": 8,
    "start_time": "2022-07-12T14:56:52.044Z"
   },
   {
    "duration": 75,
    "start_time": "2022-07-12T14:56:52.054Z"
   },
   {
    "duration": 5,
    "start_time": "2022-07-12T14:56:52.132Z"
   },
   {
    "duration": 18,
    "start_time": "2022-07-12T14:57:26.243Z"
   },
   {
    "duration": 17,
    "start_time": "2022-07-12T14:57:32.745Z"
   },
   {
    "duration": 1558,
    "start_time": "2022-07-12T14:57:54.006Z"
   },
   {
    "duration": 3,
    "start_time": "2022-07-12T14:57:55.567Z"
   },
   {
    "duration": 46,
    "start_time": "2022-07-12T14:57:55.571Z"
   },
   {
    "duration": 13,
    "start_time": "2022-07-12T14:57:55.619Z"
   },
   {
    "duration": 11,
    "start_time": "2022-07-12T14:57:55.635Z"
   },
   {
    "duration": 15,
    "start_time": "2022-07-12T14:57:55.648Z"
   },
   {
    "duration": 11,
    "start_time": "2022-07-12T14:57:55.665Z"
   },
   {
    "duration": 4,
    "start_time": "2022-07-12T14:57:55.678Z"
   },
   {
    "duration": 13,
    "start_time": "2022-07-12T14:57:55.684Z"
   },
   {
    "duration": 31,
    "start_time": "2022-07-12T14:57:55.699Z"
   },
   {
    "duration": 14,
    "start_time": "2022-07-12T14:57:55.732Z"
   },
   {
    "duration": 6,
    "start_time": "2022-07-12T14:57:55.748Z"
   },
   {
    "duration": 7,
    "start_time": "2022-07-12T14:57:57.658Z"
   },
   {
    "duration": 3,
    "start_time": "2022-07-12T14:58:06.029Z"
   },
   {
    "duration": 123,
    "start_time": "2022-07-12T14:58:07.247Z"
   },
   {
    "duration": 10,
    "start_time": "2022-07-12T14:58:08.639Z"
   },
   {
    "duration": 5,
    "start_time": "2022-07-12T14:58:09.819Z"
   },
   {
    "duration": 3,
    "start_time": "2022-07-12T14:58:14.806Z"
   },
   {
    "duration": 254,
    "start_time": "2022-07-12T14:58:15.878Z"
   },
   {
    "duration": 15,
    "start_time": "2022-07-12T14:58:16.918Z"
   },
   {
    "duration": 4,
    "start_time": "2022-07-12T14:58:18.066Z"
   },
   {
    "duration": 135,
    "start_time": "2022-07-12T14:58:45.888Z"
   },
   {
    "duration": 1547,
    "start_time": "2022-07-12T14:59:32.799Z"
   },
   {
    "duration": 3,
    "start_time": "2022-07-12T14:59:34.349Z"
   },
   {
    "duration": 45,
    "start_time": "2022-07-12T14:59:34.354Z"
   },
   {
    "duration": 10,
    "start_time": "2022-07-12T14:59:34.401Z"
   },
   {
    "duration": 11,
    "start_time": "2022-07-12T14:59:34.413Z"
   },
   {
    "duration": 9,
    "start_time": "2022-07-12T14:59:34.426Z"
   },
   {
    "duration": 20,
    "start_time": "2022-07-12T14:59:34.438Z"
   },
   {
    "duration": 4,
    "start_time": "2022-07-12T14:59:34.460Z"
   },
   {
    "duration": 14,
    "start_time": "2022-07-12T14:59:34.466Z"
   },
   {
    "duration": 8,
    "start_time": "2022-07-12T14:59:34.482Z"
   },
   {
    "duration": 43,
    "start_time": "2022-07-12T14:59:34.491Z"
   },
   {
    "duration": 6,
    "start_time": "2022-07-12T14:59:34.537Z"
   },
   {
    "duration": 9,
    "start_time": "2022-07-12T14:59:34.546Z"
   },
   {
    "duration": 18,
    "start_time": "2022-07-12T14:59:34.557Z"
   },
   {
    "duration": 20,
    "start_time": "2022-07-12T14:59:34.577Z"
   },
   {
    "duration": 32,
    "start_time": "2022-07-12T14:59:34.599Z"
   },
   {
    "duration": 7,
    "start_time": "2022-07-12T14:59:34.634Z"
   },
   {
    "duration": 11,
    "start_time": "2022-07-12T14:59:34.643Z"
   },
   {
    "duration": 10,
    "start_time": "2022-07-12T14:59:34.656Z"
   },
   {
    "duration": 280,
    "start_time": "2022-07-12T14:59:34.668Z"
   },
   {
    "duration": 157,
    "start_time": "2022-07-12T14:59:34.950Z"
   },
   {
    "duration": 184,
    "start_time": "2022-07-12T14:59:35.109Z"
   },
   {
    "duration": 337,
    "start_time": "2022-07-12T14:59:35.295Z"
   },
   {
    "duration": 4,
    "start_time": "2022-07-12T14:59:35.634Z"
   },
   {
    "duration": 6786,
    "start_time": "2022-07-12T14:59:35.640Z"
   },
   {
    "duration": 3,
    "start_time": "2022-07-12T14:59:42.428Z"
   },
   {
    "duration": 154,
    "start_time": "2022-07-12T14:59:42.434Z"
   },
   {
    "duration": 10,
    "start_time": "2022-07-12T14:59:42.591Z"
   },
   {
    "duration": 5,
    "start_time": "2022-07-12T14:59:42.604Z"
   },
   {
    "duration": 11,
    "start_time": "2022-07-12T14:59:42.624Z"
   },
   {
    "duration": 15089,
    "start_time": "2022-07-12T14:59:42.638Z"
   },
   {
    "duration": 4,
    "start_time": "2022-07-12T14:59:57.730Z"
   },
   {
    "duration": 296,
    "start_time": "2022-07-12T14:59:57.738Z"
   },
   {
    "duration": 90,
    "start_time": "2022-07-12T14:59:58.036Z"
   },
   {
    "duration": 6,
    "start_time": "2022-07-12T14:59:58.129Z"
   },
   {
    "duration": 10,
    "start_time": "2022-07-12T14:59:58.137Z"
   },
   {
    "duration": 78,
    "start_time": "2022-07-12T14:59:58.149Z"
   },
   {
    "duration": 11,
    "start_time": "2022-07-12T15:00:37.708Z"
   },
   {
    "duration": 12,
    "start_time": "2022-07-12T15:00:50.357Z"
   },
   {
    "duration": 14,
    "start_time": "2022-07-12T15:01:00.282Z"
   },
   {
    "duration": 1524,
    "start_time": "2022-07-12T15:07:27.673Z"
   },
   {
    "duration": 3,
    "start_time": "2022-07-12T15:07:29.200Z"
   },
   {
    "duration": 56,
    "start_time": "2022-07-12T15:07:29.205Z"
   },
   {
    "duration": 12,
    "start_time": "2022-07-12T15:07:29.263Z"
   },
   {
    "duration": 9,
    "start_time": "2022-07-12T15:07:29.277Z"
   },
   {
    "duration": 12,
    "start_time": "2022-07-12T15:07:29.287Z"
   },
   {
    "duration": 27,
    "start_time": "2022-07-12T15:07:29.301Z"
   },
   {
    "duration": 5,
    "start_time": "2022-07-12T15:07:29.330Z"
   },
   {
    "duration": 25,
    "start_time": "2022-07-12T15:07:29.338Z"
   },
   {
    "duration": 9,
    "start_time": "2022-07-12T15:07:29.365Z"
   },
   {
    "duration": 12,
    "start_time": "2022-07-12T15:07:29.375Z"
   },
   {
    "duration": 6,
    "start_time": "2022-07-12T15:07:29.388Z"
   },
   {
    "duration": 35,
    "start_time": "2022-07-12T15:07:29.395Z"
   },
   {
    "duration": 19,
    "start_time": "2022-07-12T15:07:29.435Z"
   },
   {
    "duration": 25,
    "start_time": "2022-07-12T15:07:29.456Z"
   },
   {
    "duration": 17,
    "start_time": "2022-07-12T15:07:29.482Z"
   },
   {
    "duration": 16,
    "start_time": "2022-07-12T15:07:29.500Z"
   },
   {
    "duration": 9,
    "start_time": "2022-07-12T15:07:29.524Z"
   },
   {
    "duration": 9,
    "start_time": "2022-07-12T15:07:29.535Z"
   },
   {
    "duration": 12,
    "start_time": "2022-07-12T15:07:29.546Z"
   },
   {
    "duration": 288,
    "start_time": "2022-07-12T15:07:29.560Z"
   },
   {
    "duration": 164,
    "start_time": "2022-07-12T15:07:29.850Z"
   },
   {
    "duration": 184,
    "start_time": "2022-07-12T15:07:30.015Z"
   },
   {
    "duration": 314,
    "start_time": "2022-07-12T15:07:30.202Z"
   },
   {
    "duration": 5,
    "start_time": "2022-07-12T15:07:30.518Z"
   },
   {
    "duration": 2363,
    "start_time": "2022-07-12T15:07:30.526Z"
   },
   {
    "duration": 3,
    "start_time": "2022-07-12T15:07:32.890Z"
   },
   {
    "duration": 159,
    "start_time": "2022-07-12T15:07:32.895Z"
   },
   {
    "duration": 12,
    "start_time": "2022-07-12T15:07:33.055Z"
   },
   {
    "duration": 6,
    "start_time": "2022-07-12T15:07:33.068Z"
   },
   {
    "duration": 11,
    "start_time": "2022-07-12T15:07:33.075Z"
   },
   {
    "duration": 18544,
    "start_time": "2022-07-12T15:07:33.087Z"
   },
   {
    "duration": 3,
    "start_time": "2022-07-12T15:07:51.633Z"
   },
   {
    "duration": 295,
    "start_time": "2022-07-12T15:07:51.639Z"
   },
   {
    "duration": 99,
    "start_time": "2022-07-12T15:07:51.936Z"
   },
   {
    "duration": 14,
    "start_time": "2022-07-12T15:07:52.037Z"
   },
   {
    "duration": 8,
    "start_time": "2022-07-12T15:07:52.053Z"
   },
   {
    "duration": 205,
    "start_time": "2022-07-12T15:07:52.063Z"
   },
   {
    "duration": 0,
    "start_time": "2022-07-12T15:07:52.269Z"
   },
   {
    "duration": 220,
    "start_time": "2022-07-12T15:08:22.613Z"
   },
   {
    "duration": 8,
    "start_time": "2022-07-12T15:08:24.584Z"
   },
   {
    "duration": 5,
    "start_time": "2022-07-12T15:08:26.462Z"
   },
   {
    "duration": 13,
    "start_time": "2022-07-12T15:09:39.484Z"
   },
   {
    "duration": 49,
    "start_time": "2022-07-12T15:11:32.985Z"
   },
   {
    "duration": 121,
    "start_time": "2022-07-12T15:11:38.743Z"
   },
   {
    "duration": 15,
    "start_time": "2022-07-12T15:11:52.773Z"
   },
   {
    "duration": 24,
    "start_time": "2022-07-12T15:12:15.219Z"
   },
   {
    "duration": 5,
    "start_time": "2022-07-12T15:12:16.530Z"
   },
   {
    "duration": 1496,
    "start_time": "2022-07-12T15:12:41.174Z"
   },
   {
    "duration": 3,
    "start_time": "2022-07-12T15:12:42.672Z"
   },
   {
    "duration": 51,
    "start_time": "2022-07-12T15:12:42.676Z"
   },
   {
    "duration": 13,
    "start_time": "2022-07-12T15:12:42.730Z"
   },
   {
    "duration": 11,
    "start_time": "2022-07-12T15:12:42.745Z"
   },
   {
    "duration": 16,
    "start_time": "2022-07-12T15:12:42.759Z"
   },
   {
    "duration": 13,
    "start_time": "2022-07-12T15:12:42.777Z"
   },
   {
    "duration": 5,
    "start_time": "2022-07-12T15:12:42.792Z"
   },
   {
    "duration": 35,
    "start_time": "2022-07-12T15:12:42.799Z"
   },
   {
    "duration": 17,
    "start_time": "2022-07-12T15:12:42.836Z"
   },
   {
    "duration": 18,
    "start_time": "2022-07-12T15:12:42.855Z"
   },
   {
    "duration": 6,
    "start_time": "2022-07-12T15:12:42.875Z"
   },
   {
    "duration": 7,
    "start_time": "2022-07-12T15:12:42.883Z"
   },
   {
    "duration": 13,
    "start_time": "2022-07-12T15:12:42.894Z"
   },
   {
    "duration": 34,
    "start_time": "2022-07-12T15:12:42.909Z"
   },
   {
    "duration": 40,
    "start_time": "2022-07-12T15:12:42.945Z"
   },
   {
    "duration": 15,
    "start_time": "2022-07-12T15:12:42.987Z"
   },
   {
    "duration": 8,
    "start_time": "2022-07-12T15:12:43.003Z"
   },
   {
    "duration": 10,
    "start_time": "2022-07-12T15:12:43.013Z"
   },
   {
    "duration": 15,
    "start_time": "2022-07-12T15:12:43.025Z"
   },
   {
    "duration": 253,
    "start_time": "2022-07-12T15:12:43.042Z"
   },
   {
    "duration": 160,
    "start_time": "2022-07-12T15:12:43.297Z"
   },
   {
    "duration": 169,
    "start_time": "2022-07-12T15:12:43.459Z"
   },
   {
    "duration": 321,
    "start_time": "2022-07-12T15:12:43.630Z"
   },
   {
    "duration": 3,
    "start_time": "2022-07-12T15:12:43.954Z"
   },
   {
    "duration": 2438,
    "start_time": "2022-07-12T15:12:43.959Z"
   },
   {
    "duration": 3,
    "start_time": "2022-07-12T15:12:46.398Z"
   },
   {
    "duration": 154,
    "start_time": "2022-07-12T15:12:46.403Z"
   },
   {
    "duration": 12,
    "start_time": "2022-07-12T15:12:46.559Z"
   },
   {
    "duration": 4,
    "start_time": "2022-07-12T15:12:46.572Z"
   },
   {
    "duration": 5,
    "start_time": "2022-07-12T15:12:46.577Z"
   },
   {
    "duration": 14958,
    "start_time": "2022-07-12T15:12:46.584Z"
   },
   {
    "duration": 3,
    "start_time": "2022-07-12T15:13:01.625Z"
   },
   {
    "duration": 303,
    "start_time": "2022-07-12T15:13:01.631Z"
   },
   {
    "duration": 94,
    "start_time": "2022-07-12T15:13:01.936Z"
   },
   {
    "duration": 6,
    "start_time": "2022-07-12T15:13:02.032Z"
   },
   {
    "duration": 84,
    "start_time": "2022-07-12T15:13:02.040Z"
   },
   {
    "duration": 6,
    "start_time": "2022-07-12T15:13:02.127Z"
   },
   {
    "duration": 16,
    "start_time": "2022-07-12T15:14:01.937Z"
   },
   {
    "duration": 1704,
    "start_time": "2022-07-13T09:53:36.531Z"
   },
   {
    "duration": 2231,
    "start_time": "2022-07-13T14:00:38.050Z"
   },
   {
    "duration": 3,
    "start_time": "2022-07-13T14:00:40.283Z"
   },
   {
    "duration": 118,
    "start_time": "2022-07-13T14:00:40.288Z"
   },
   {
    "duration": 10,
    "start_time": "2022-07-13T14:00:40.409Z"
   },
   {
    "duration": 40,
    "start_time": "2022-07-13T14:00:40.421Z"
   },
   {
    "duration": 7,
    "start_time": "2022-07-13T14:00:40.463Z"
   },
   {
    "duration": 14,
    "start_time": "2022-07-13T14:00:40.471Z"
   },
   {
    "duration": 6,
    "start_time": "2022-07-13T14:00:40.486Z"
   },
   {
    "duration": 28,
    "start_time": "2022-07-13T14:00:40.493Z"
   },
   {
    "duration": 6,
    "start_time": "2022-07-13T14:00:40.523Z"
   },
   {
    "duration": 32,
    "start_time": "2022-07-13T14:00:40.531Z"
   },
   {
    "duration": 25,
    "start_time": "2022-07-13T14:00:40.565Z"
   },
   {
    "duration": 6,
    "start_time": "2022-07-13T14:00:40.591Z"
   },
   {
    "duration": 7,
    "start_time": "2022-07-13T14:00:40.599Z"
   },
   {
    "duration": 29,
    "start_time": "2022-07-13T14:00:40.607Z"
   },
   {
    "duration": 33,
    "start_time": "2022-07-13T14:00:40.638Z"
   },
   {
    "duration": 23,
    "start_time": "2022-07-13T14:00:40.673Z"
   },
   {
    "duration": 37,
    "start_time": "2022-07-13T14:00:40.698Z"
   },
   {
    "duration": 23,
    "start_time": "2022-07-13T14:00:40.737Z"
   },
   {
    "duration": 24,
    "start_time": "2022-07-13T14:00:40.762Z"
   },
   {
    "duration": 268,
    "start_time": "2022-07-13T14:00:40.788Z"
   },
   {
    "duration": 6,
    "start_time": "2022-07-13T14:00:41.058Z"
   },
   {
    "duration": 262,
    "start_time": "2022-07-13T14:00:41.066Z"
   },
   {
    "duration": 244,
    "start_time": "2022-07-13T14:00:41.330Z"
   },
   {
    "duration": 196,
    "start_time": "2022-07-13T14:00:41.576Z"
   },
   {
    "duration": 239,
    "start_time": "2022-07-13T14:00:41.774Z"
   },
   {
    "duration": 10,
    "start_time": "2022-07-13T14:00:42.015Z"
   },
   {
    "duration": 9135,
    "start_time": "2022-07-13T14:00:42.029Z"
   },
   {
    "duration": 3,
    "start_time": "2022-07-13T14:00:51.166Z"
   },
   {
    "duration": 551,
    "start_time": "2022-07-13T14:00:51.171Z"
   },
   {
    "duration": 26,
    "start_time": "2022-07-13T14:00:51.723Z"
   },
   {
    "duration": 6,
    "start_time": "2022-07-13T14:00:51.754Z"
   },
   {
    "duration": 5,
    "start_time": "2022-07-13T14:00:51.762Z"
   },
   {
    "duration": 147001,
    "start_time": "2022-07-13T14:00:51.771Z"
   },
   {
    "duration": 0,
    "start_time": "2022-07-13T14:03:18.774Z"
   },
   {
    "duration": 0,
    "start_time": "2022-07-13T14:03:18.775Z"
   },
   {
    "duration": 0,
    "start_time": "2022-07-13T14:03:18.776Z"
   },
   {
    "duration": 0,
    "start_time": "2022-07-13T14:03:18.777Z"
   },
   {
    "duration": 0,
    "start_time": "2022-07-13T14:03:18.779Z"
   },
   {
    "duration": 0,
    "start_time": "2022-07-13T14:03:18.780Z"
   },
   {
    "duration": 3,
    "start_time": "2022-07-13T14:03:23.919Z"
   },
   {
    "duration": 105903,
    "start_time": "2022-07-13T14:03:25.150Z"
   },
   {
    "duration": 104,
    "start_time": "2022-07-13T14:05:11.057Z"
   },
   {
    "duration": 65,
    "start_time": "2022-07-13T14:05:11.164Z"
   },
   {
    "duration": 90,
    "start_time": "2022-07-13T14:05:11.234Z"
   },
   {
    "duration": 7,
    "start_time": "2022-07-13T14:05:11.326Z"
   },
   {
    "duration": 5,
    "start_time": "2022-07-13T14:06:18.223Z"
   },
   {
    "duration": 36,
    "start_time": "2022-07-13T14:06:18.231Z"
   },
   {
    "duration": 67,
    "start_time": "2022-07-13T14:06:18.270Z"
   },
   {
    "duration": 12,
    "start_time": "2022-07-13T14:06:18.339Z"
   },
   {
    "duration": 43,
    "start_time": "2022-07-13T14:06:18.354Z"
   },
   {
    "duration": 30,
    "start_time": "2022-07-13T14:06:18.399Z"
   },
   {
    "duration": 48,
    "start_time": "2022-07-13T14:06:18.431Z"
   },
   {
    "duration": 29,
    "start_time": "2022-07-13T14:06:18.481Z"
   },
   {
    "duration": 55,
    "start_time": "2022-07-13T14:06:18.511Z"
   },
   {
    "duration": 30,
    "start_time": "2022-07-13T14:06:18.568Z"
   },
   {
    "duration": 50,
    "start_time": "2022-07-13T14:06:18.603Z"
   },
   {
    "duration": 43,
    "start_time": "2022-07-13T14:06:18.655Z"
   },
   {
    "duration": 25,
    "start_time": "2022-07-13T14:06:18.700Z"
   },
   {
    "duration": 40,
    "start_time": "2022-07-13T14:06:18.728Z"
   },
   {
    "duration": 30,
    "start_time": "2022-07-13T14:06:18.770Z"
   },
   {
    "duration": 21,
    "start_time": "2022-07-13T14:06:18.802Z"
   },
   {
    "duration": 47,
    "start_time": "2022-07-13T14:06:18.828Z"
   },
   {
    "duration": 25,
    "start_time": "2022-07-13T14:06:18.878Z"
   },
   {
    "duration": 30,
    "start_time": "2022-07-13T14:06:18.906Z"
   },
   {
    "duration": 338,
    "start_time": "2022-07-13T14:06:18.942Z"
   },
   {
    "duration": 10,
    "start_time": "2022-07-13T14:06:19.283Z"
   },
   {
    "duration": 299,
    "start_time": "2022-07-13T14:06:19.296Z"
   },
   {
    "duration": 190,
    "start_time": "2022-07-13T14:06:19.597Z"
   },
   {
    "duration": 222,
    "start_time": "2022-07-13T14:06:19.789Z"
   },
   {
    "duration": 362,
    "start_time": "2022-07-13T14:06:20.013Z"
   },
   {
    "duration": 4,
    "start_time": "2022-07-13T14:06:20.377Z"
   },
   {
    "duration": 3653,
    "start_time": "2022-07-13T14:06:20.383Z"
   },
   {
    "duration": 5,
    "start_time": "2022-07-13T14:06:24.038Z"
   },
   {
    "duration": 400,
    "start_time": "2022-07-13T14:06:24.049Z"
   },
   {
    "duration": 16,
    "start_time": "2022-07-13T14:06:24.452Z"
   },
   {
    "duration": 57,
    "start_time": "2022-07-13T14:06:24.471Z"
   },
   {
    "duration": 13,
    "start_time": "2022-07-13T14:06:24.531Z"
   },
   {
    "duration": 403713,
    "start_time": "2022-07-13T14:06:24.550Z"
   },
   {
    "duration": 0,
    "start_time": "2022-07-13T14:13:08.265Z"
   },
   {
    "duration": 0,
    "start_time": "2022-07-13T14:13:08.266Z"
   },
   {
    "duration": 0,
    "start_time": "2022-07-13T14:13:08.267Z"
   },
   {
    "duration": 0,
    "start_time": "2022-07-13T14:13:08.269Z"
   },
   {
    "duration": 0,
    "start_time": "2022-07-13T14:13:08.271Z"
   },
   {
    "duration": 0,
    "start_time": "2022-07-13T14:13:08.272Z"
   },
   {
    "duration": 1559,
    "start_time": "2022-07-13T14:13:20.950Z"
   },
   {
    "duration": 3,
    "start_time": "2022-07-13T14:13:22.512Z"
   },
   {
    "duration": 51,
    "start_time": "2022-07-13T14:13:22.517Z"
   },
   {
    "duration": 11,
    "start_time": "2022-07-13T14:13:22.570Z"
   },
   {
    "duration": 9,
    "start_time": "2022-07-13T14:13:22.583Z"
   },
   {
    "duration": 7,
    "start_time": "2022-07-13T14:13:22.594Z"
   },
   {
    "duration": 30,
    "start_time": "2022-07-13T14:13:22.603Z"
   },
   {
    "duration": 11,
    "start_time": "2022-07-13T14:13:22.635Z"
   },
   {
    "duration": 13,
    "start_time": "2022-07-13T14:13:22.648Z"
   },
   {
    "duration": 8,
    "start_time": "2022-07-13T14:13:22.664Z"
   },
   {
    "duration": 13,
    "start_time": "2022-07-13T14:13:22.674Z"
   },
   {
    "duration": 42,
    "start_time": "2022-07-13T14:13:22.688Z"
   },
   {
    "duration": 16,
    "start_time": "2022-07-13T14:13:22.733Z"
   },
   {
    "duration": 18,
    "start_time": "2022-07-13T14:13:22.751Z"
   },
   {
    "duration": 12,
    "start_time": "2022-07-13T14:13:22.771Z"
   },
   {
    "duration": 40,
    "start_time": "2022-07-13T14:13:22.785Z"
   },
   {
    "duration": 19,
    "start_time": "2022-07-13T14:13:22.827Z"
   },
   {
    "duration": 7,
    "start_time": "2022-07-13T14:13:22.850Z"
   },
   {
    "duration": 7,
    "start_time": "2022-07-13T14:13:22.859Z"
   },
   {
    "duration": 302,
    "start_time": "2022-07-13T14:13:22.868Z"
   },
   {
    "duration": 8,
    "start_time": "2022-07-13T14:13:23.172Z"
   },
   {
    "duration": 273,
    "start_time": "2022-07-13T14:13:23.181Z"
   },
   {
    "duration": 233,
    "start_time": "2022-07-13T14:13:23.456Z"
   },
   {
    "duration": 188,
    "start_time": "2022-07-13T14:13:23.691Z"
   },
   {
    "duration": 253,
    "start_time": "2022-07-13T14:13:23.881Z"
   },
   {
    "duration": 4,
    "start_time": "2022-07-13T14:13:24.136Z"
   },
   {
    "duration": 2550,
    "start_time": "2022-07-13T14:13:24.143Z"
   },
   {
    "duration": 3,
    "start_time": "2022-07-13T14:13:26.698Z"
   },
   {
    "duration": 177,
    "start_time": "2022-07-13T14:13:26.704Z"
   },
   {
    "duration": 13,
    "start_time": "2022-07-13T14:13:26.883Z"
   },
   {
    "duration": 38,
    "start_time": "2022-07-13T14:13:26.898Z"
   },
   {
    "duration": 64,
    "start_time": "2022-07-13T14:13:26.949Z"
   },
   {
    "duration": 36,
    "start_time": "2022-07-13T14:13:27.016Z"
   },
   {
    "duration": 108472,
    "start_time": "2022-07-13T14:13:27.055Z"
   },
   {
    "duration": 94,
    "start_time": "2022-07-13T14:15:15.530Z"
   },
   {
    "duration": 6,
    "start_time": "2022-07-13T14:15:15.626Z"
   },
   {
    "duration": 30,
    "start_time": "2022-07-13T14:15:15.634Z"
   },
   {
    "duration": 6,
    "start_time": "2022-07-13T14:15:15.725Z"
   },
   {
    "duration": 5,
    "start_time": "2022-07-13T14:15:25.251Z"
   },
   {
    "duration": 7,
    "start_time": "2022-07-13T14:15:25.261Z"
   },
   {
    "duration": 57,
    "start_time": "2022-07-13T14:15:25.271Z"
   },
   {
    "duration": 9,
    "start_time": "2022-07-13T14:15:25.330Z"
   },
   {
    "duration": 23,
    "start_time": "2022-07-13T14:15:25.341Z"
   },
   {
    "duration": 12,
    "start_time": "2022-07-13T14:15:25.366Z"
   },
   {
    "duration": 15,
    "start_time": "2022-07-13T14:15:25.380Z"
   },
   {
    "duration": 6,
    "start_time": "2022-07-13T14:15:25.423Z"
   },
   {
    "duration": 20,
    "start_time": "2022-07-13T14:15:25.431Z"
   },
   {
    "duration": 8,
    "start_time": "2022-07-13T14:15:25.453Z"
   },
   {
    "duration": 18,
    "start_time": "2022-07-13T14:15:25.463Z"
   },
   {
    "duration": 9,
    "start_time": "2022-07-13T14:15:25.483Z"
   },
   {
    "duration": 30,
    "start_time": "2022-07-13T14:15:25.495Z"
   },
   {
    "duration": 22,
    "start_time": "2022-07-13T14:15:25.528Z"
   },
   {
    "duration": 20,
    "start_time": "2022-07-13T14:15:25.552Z"
   },
   {
    "duration": 41,
    "start_time": "2022-07-13T14:15:25.574Z"
   },
   {
    "duration": 36,
    "start_time": "2022-07-13T14:15:25.617Z"
   },
   {
    "duration": 20,
    "start_time": "2022-07-13T14:15:25.655Z"
   },
   {
    "duration": 7,
    "start_time": "2022-07-13T14:15:25.679Z"
   },
   {
    "duration": 273,
    "start_time": "2022-07-13T14:15:25.688Z"
   },
   {
    "duration": 12,
    "start_time": "2022-07-13T14:15:25.964Z"
   },
   {
    "duration": 359,
    "start_time": "2022-07-13T14:15:25.978Z"
   },
   {
    "duration": 164,
    "start_time": "2022-07-13T14:15:26.340Z"
   },
   {
    "duration": 242,
    "start_time": "2022-07-13T14:15:26.505Z"
   },
   {
    "duration": 402,
    "start_time": "2022-07-13T14:15:26.751Z"
   },
   {
    "duration": 4,
    "start_time": "2022-07-13T14:15:27.156Z"
   },
   {
    "duration": 2529,
    "start_time": "2022-07-13T14:15:27.163Z"
   },
   {
    "duration": 4,
    "start_time": "2022-07-13T14:15:29.694Z"
   },
   {
    "duration": 170,
    "start_time": "2022-07-13T14:15:29.700Z"
   },
   {
    "duration": 13,
    "start_time": "2022-07-13T14:15:29.872Z"
   },
   {
    "duration": 8,
    "start_time": "2022-07-13T14:15:29.887Z"
   },
   {
    "duration": 26,
    "start_time": "2022-07-13T14:15:29.897Z"
   },
   {
    "duration": 21,
    "start_time": "2022-07-13T14:15:29.925Z"
   },
   {
    "duration": 18266,
    "start_time": "2022-07-13T14:15:29.948Z"
   },
   {
    "duration": 0,
    "start_time": "2022-07-13T14:15:48.222Z"
   },
   {
    "duration": 0,
    "start_time": "2022-07-13T14:15:48.224Z"
   },
   {
    "duration": 0,
    "start_time": "2022-07-13T14:15:48.226Z"
   },
   {
    "duration": 0,
    "start_time": "2022-07-13T14:15:48.228Z"
   },
   {
    "duration": 52,
    "start_time": "2022-07-13T14:19:00.711Z"
   },
   {
    "duration": 1305,
    "start_time": "2022-07-13T14:19:15.484Z"
   },
   {
    "duration": 3,
    "start_time": "2022-07-13T14:19:16.791Z"
   },
   {
    "duration": 45,
    "start_time": "2022-07-13T14:19:16.795Z"
   },
   {
    "duration": 10,
    "start_time": "2022-07-13T14:19:16.842Z"
   },
   {
    "duration": 11,
    "start_time": "2022-07-13T14:19:16.854Z"
   },
   {
    "duration": 8,
    "start_time": "2022-07-13T14:19:16.867Z"
   },
   {
    "duration": 10,
    "start_time": "2022-07-13T14:19:16.877Z"
   },
   {
    "duration": 9,
    "start_time": "2022-07-13T14:19:16.889Z"
   },
   {
    "duration": 31,
    "start_time": "2022-07-13T14:19:16.922Z"
   },
   {
    "duration": 11,
    "start_time": "2022-07-13T14:19:16.957Z"
   },
   {
    "duration": 23,
    "start_time": "2022-07-13T14:19:16.970Z"
   },
   {
    "duration": 28,
    "start_time": "2022-07-13T14:19:16.995Z"
   },
   {
    "duration": 4,
    "start_time": "2022-07-13T14:19:17.025Z"
   },
   {
    "duration": 26,
    "start_time": "2022-07-13T14:19:17.031Z"
   },
   {
    "duration": 23,
    "start_time": "2022-07-13T14:19:17.059Z"
   },
   {
    "duration": 22,
    "start_time": "2022-07-13T14:19:17.084Z"
   },
   {
    "duration": 23,
    "start_time": "2022-07-13T14:19:17.123Z"
   },
   {
    "duration": 10,
    "start_time": "2022-07-13T14:19:17.148Z"
   },
   {
    "duration": 10,
    "start_time": "2022-07-13T14:19:17.159Z"
   },
   {
    "duration": 253,
    "start_time": "2022-07-13T14:19:17.171Z"
   },
   {
    "duration": 6,
    "start_time": "2022-07-13T14:19:17.426Z"
   },
   {
    "duration": 229,
    "start_time": "2022-07-13T14:19:17.434Z"
   },
   {
    "duration": 225,
    "start_time": "2022-07-13T14:19:17.665Z"
   },
   {
    "duration": 174,
    "start_time": "2022-07-13T14:19:17.892Z"
   },
   {
    "duration": 235,
    "start_time": "2022-07-13T14:19:18.068Z"
   },
   {
    "duration": 241,
    "start_time": "2022-07-13T14:19:32.351Z"
   },
   {
    "duration": 230,
    "start_time": "2022-07-13T14:19:51.074Z"
   },
   {
    "duration": 168,
    "start_time": "2022-07-13T14:20:16.171Z"
   },
   {
    "duration": 172,
    "start_time": "2022-07-13T14:20:37.714Z"
   },
   {
    "duration": 160,
    "start_time": "2022-07-13T14:20:45.430Z"
   },
   {
    "duration": 167,
    "start_time": "2022-07-13T14:20:49.423Z"
   },
   {
    "duration": 246,
    "start_time": "2022-07-13T14:20:53.480Z"
   },
   {
    "duration": 164,
    "start_time": "2022-07-13T14:21:00.482Z"
   },
   {
    "duration": 185,
    "start_time": "2022-07-13T14:21:03.809Z"
   },
   {
    "duration": 266,
    "start_time": "2022-07-13T14:24:16.675Z"
   },
   {
    "duration": 234,
    "start_time": "2022-07-13T14:24:26.089Z"
   },
   {
    "duration": 264,
    "start_time": "2022-07-13T14:25:42.969Z"
   },
   {
    "duration": 227,
    "start_time": "2022-07-13T14:26:46.104Z"
   },
   {
    "duration": 327,
    "start_time": "2022-07-13T14:27:14.401Z"
   },
   {
    "duration": 249,
    "start_time": "2022-07-13T14:27:17.267Z"
   },
   {
    "duration": 231,
    "start_time": "2022-07-13T14:27:24.408Z"
   },
   {
    "duration": 234,
    "start_time": "2022-07-13T14:27:37.108Z"
   },
   {
    "duration": 153,
    "start_time": "2022-07-13T14:28:25.419Z"
   },
   {
    "duration": 155,
    "start_time": "2022-07-13T14:28:42.149Z"
   },
   {
    "duration": 166,
    "start_time": "2022-07-13T14:28:53.910Z"
   },
   {
    "duration": 149,
    "start_time": "2022-07-13T14:29:01.170Z"
   },
   {
    "duration": 279,
    "start_time": "2022-07-13T14:29:29.063Z"
   },
   {
    "duration": 3,
    "start_time": "2022-07-13T14:33:04.739Z"
   },
   {
    "duration": 582772,
    "start_time": "2022-07-13T14:33:07.318Z"
   },
   {
    "duration": 21,
    "start_time": "2022-07-13T14:42:54.173Z"
   },
   {
    "duration": 297843,
    "start_time": "2022-07-13T14:44:09.001Z"
   },
   {
    "duration": 3,
    "start_time": "2022-07-13T14:49:15.100Z"
   },
   {
    "duration": 187970,
    "start_time": "2022-07-13T14:49:18.675Z"
   },
   {
    "duration": 4,
    "start_time": "2022-07-13T14:53:53.682Z"
   },
   {
    "duration": 68251,
    "start_time": "2022-07-13T14:53:57.249Z"
   },
   {
    "duration": 3,
    "start_time": "2022-07-13T14:56:02.205Z"
   },
   {
    "duration": 66469,
    "start_time": "2022-07-13T14:56:15.002Z"
   },
   {
    "duration": 3,
    "start_time": "2022-07-13T14:58:48.732Z"
   },
   {
    "duration": 97844,
    "start_time": "2022-07-13T14:58:50.982Z"
   },
   {
    "duration": 3,
    "start_time": "2022-07-13T15:00:28.828Z"
   },
   {
    "duration": 291001,
    "start_time": "2022-07-13T15:00:28.833Z"
   },
   {
    "duration": 9,
    "start_time": "2022-07-13T15:13:00.312Z"
   },
   {
    "duration": 3,
    "start_time": "2022-07-13T15:13:04.232Z"
   },
   {
    "duration": 5341,
    "start_time": "2022-07-13T15:13:05.793Z"
   },
   {
    "duration": 92,
    "start_time": "2022-07-13T15:13:11.136Z"
   },
   {
    "duration": 4,
    "start_time": "2022-07-13T15:13:11.229Z"
   },
   {
    "duration": 3,
    "start_time": "2022-07-13T15:14:38.316Z"
   },
   {
    "duration": 1247287,
    "start_time": "2022-07-13T15:14:39.445Z"
   },
   {
    "duration": 3,
    "start_time": "2022-07-13T15:35:26.734Z"
   },
   {
    "duration": 1190,
    "start_time": "2022-07-13T15:35:26.739Z"
   },
   {
    "duration": 92,
    "start_time": "2022-07-13T15:35:27.931Z"
   },
   {
    "duration": 4,
    "start_time": "2022-07-13T15:35:28.025Z"
   },
   {
    "duration": 3,
    "start_time": "2022-07-13T15:38:40.324Z"
   },
   {
    "duration": 74526,
    "start_time": "2022-07-13T15:38:45.014Z"
   },
   {
    "duration": 3,
    "start_time": "2022-07-13T15:42:53.031Z"
   },
   {
    "duration": 61527,
    "start_time": "2022-07-13T15:42:55.304Z"
   },
   {
    "duration": 3,
    "start_time": "2022-07-13T15:43:56.833Z"
   },
   {
    "duration": 698,
    "start_time": "2022-07-13T15:43:56.837Z"
   },
   {
    "duration": 89,
    "start_time": "2022-07-13T15:43:57.537Z"
   },
   {
    "duration": 6,
    "start_time": "2022-07-13T15:43:57.628Z"
   },
   {
    "duration": 4,
    "start_time": "2022-07-13T15:44:19.965Z"
   },
   {
    "duration": 65848,
    "start_time": "2022-07-13T15:44:21.984Z"
   },
   {
    "duration": 1473,
    "start_time": "2022-07-13T15:49:18.955Z"
   },
   {
    "duration": 2,
    "start_time": "2022-07-13T15:49:20.431Z"
   },
   {
    "duration": 49,
    "start_time": "2022-07-13T15:49:20.435Z"
   },
   {
    "duration": 10,
    "start_time": "2022-07-13T15:49:20.487Z"
   },
   {
    "duration": 9,
    "start_time": "2022-07-13T15:49:20.499Z"
   },
   {
    "duration": 15,
    "start_time": "2022-07-13T15:49:20.509Z"
   },
   {
    "duration": 12,
    "start_time": "2022-07-13T15:49:20.526Z"
   },
   {
    "duration": 6,
    "start_time": "2022-07-13T15:49:20.539Z"
   },
   {
    "duration": 28,
    "start_time": "2022-07-13T15:49:20.546Z"
   },
   {
    "duration": 10,
    "start_time": "2022-07-13T15:49:20.577Z"
   },
   {
    "duration": 46,
    "start_time": "2022-07-13T15:49:20.589Z"
   },
   {
    "duration": 7,
    "start_time": "2022-07-13T15:49:20.637Z"
   },
   {
    "duration": 5,
    "start_time": "2022-07-13T15:49:20.645Z"
   },
   {
    "duration": 24,
    "start_time": "2022-07-13T15:49:20.652Z"
   },
   {
    "duration": 23,
    "start_time": "2022-07-13T15:49:20.678Z"
   },
   {
    "duration": 22,
    "start_time": "2022-07-13T15:49:20.724Z"
   },
   {
    "duration": 22,
    "start_time": "2022-07-13T15:49:20.747Z"
   },
   {
    "duration": 10,
    "start_time": "2022-07-13T15:49:20.770Z"
   },
   {
    "duration": 5,
    "start_time": "2022-07-13T15:49:20.782Z"
   },
   {
    "duration": 293,
    "start_time": "2022-07-13T15:49:20.789Z"
   },
   {
    "duration": 8,
    "start_time": "2022-07-13T15:49:21.083Z"
   },
   {
    "duration": 250,
    "start_time": "2022-07-13T15:49:21.093Z"
   },
   {
    "duration": 235,
    "start_time": "2022-07-13T15:49:21.345Z"
   },
   {
    "duration": 181,
    "start_time": "2022-07-13T15:49:21.582Z"
   },
   {
    "duration": 236,
    "start_time": "2022-07-13T15:49:21.765Z"
   },
   {
    "duration": 4,
    "start_time": "2022-07-13T15:49:22.002Z"
   },
   {
    "duration": 105380,
    "start_time": "2022-07-13T15:49:22.008Z"
   },
   {
    "duration": 3,
    "start_time": "2022-07-13T15:51:07.392Z"
   },
   {
    "duration": 5335,
    "start_time": "2022-07-13T15:51:07.397Z"
   },
   {
    "duration": 96,
    "start_time": "2022-07-13T15:51:12.733Z"
   },
   {
    "duration": 4,
    "start_time": "2022-07-13T15:51:12.831Z"
   },
   {
    "duration": 21,
    "start_time": "2022-07-13T15:51:12.837Z"
   },
   {
    "duration": 64071,
    "start_time": "2022-07-13T15:51:12.859Z"
   },
   {
    "duration": 4,
    "start_time": "2022-07-13T15:52:16.932Z"
   },
   {
    "duration": 790,
    "start_time": "2022-07-13T15:52:16.939Z"
   },
   {
    "duration": 9,
    "start_time": "2022-07-13T15:52:17.731Z"
   },
   {
    "duration": 6,
    "start_time": "2022-07-13T15:52:17.824Z"
   },
   {
    "duration": 16,
    "start_time": "2022-07-13T15:52:17.832Z"
   },
   {
    "duration": 167,
    "start_time": "2022-07-13T15:52:17.850Z"
   },
   {
    "duration": 0,
    "start_time": "2022-07-13T15:52:18.019Z"
   },
   {
    "duration": 0,
    "start_time": "2022-07-13T15:52:18.020Z"
   },
   {
    "duration": 188,
    "start_time": "2022-07-13T15:54:31.758Z"
   },
   {
    "duration": 86,
    "start_time": "2022-07-13T15:54:54.199Z"
   },
   {
    "duration": 9,
    "start_time": "2022-07-13T15:55:05.501Z"
   },
   {
    "duration": 5,
    "start_time": "2022-07-13T15:55:10.139Z"
   },
   {
    "duration": 6,
    "start_time": "2022-07-13T15:55:23.300Z"
   },
   {
    "duration": 124,
    "start_time": "2022-07-13T15:55:30.141Z"
   },
   {
    "duration": 4,
    "start_time": "2022-07-13T15:55:38.520Z"
   },
   {
    "duration": 327,
    "start_time": "2022-07-13T15:56:51.783Z"
   },
   {
    "duration": 243,
    "start_time": "2022-07-13T15:57:12.546Z"
   },
   {
    "duration": 147,
    "start_time": "2022-07-13T15:57:26.495Z"
   },
   {
    "duration": 78,
    "start_time": "2022-07-13T15:58:32.078Z"
   },
   {
    "duration": 318,
    "start_time": "2022-07-13T15:58:36.407Z"
   },
   {
    "duration": 243,
    "start_time": "2022-07-13T16:12:08.667Z"
   },
   {
    "duration": 150,
    "start_time": "2022-07-13T16:12:11.479Z"
   },
   {
    "duration": 1482,
    "start_time": "2022-07-13T16:12:57.776Z"
   },
   {
    "duration": 3,
    "start_time": "2022-07-13T16:12:59.259Z"
   },
   {
    "duration": 43,
    "start_time": "2022-07-13T16:12:59.264Z"
   },
   {
    "duration": 11,
    "start_time": "2022-07-13T16:12:59.310Z"
   },
   {
    "duration": 10,
    "start_time": "2022-07-13T16:12:59.324Z"
   },
   {
    "duration": 7,
    "start_time": "2022-07-13T16:12:59.335Z"
   },
   {
    "duration": 12,
    "start_time": "2022-07-13T16:12:59.344Z"
   },
   {
    "duration": 6,
    "start_time": "2022-07-13T16:12:59.358Z"
   },
   {
    "duration": 26,
    "start_time": "2022-07-13T16:12:59.365Z"
   },
   {
    "duration": 12,
    "start_time": "2022-07-13T16:12:59.422Z"
   },
   {
    "duration": 23,
    "start_time": "2022-07-13T16:12:59.436Z"
   },
   {
    "duration": 6,
    "start_time": "2022-07-13T16:12:59.461Z"
   },
   {
    "duration": 7,
    "start_time": "2022-07-13T16:12:59.468Z"
   },
   {
    "duration": 51,
    "start_time": "2022-07-13T16:12:59.476Z"
   },
   {
    "duration": 24,
    "start_time": "2022-07-13T16:12:59.529Z"
   },
   {
    "duration": 24,
    "start_time": "2022-07-13T16:12:59.555Z"
   },
   {
    "duration": 44,
    "start_time": "2022-07-13T16:12:59.581Z"
   },
   {
    "duration": 10,
    "start_time": "2022-07-13T16:12:59.626Z"
   },
   {
    "duration": 6,
    "start_time": "2022-07-13T16:12:59.638Z"
   },
   {
    "duration": 296,
    "start_time": "2022-07-13T16:12:59.646Z"
   },
   {
    "duration": 6,
    "start_time": "2022-07-13T16:12:59.944Z"
   },
   {
    "duration": 249,
    "start_time": "2022-07-13T16:12:59.952Z"
   },
   {
    "duration": 248,
    "start_time": "2022-07-13T16:13:00.204Z"
   },
   {
    "duration": 182,
    "start_time": "2022-07-13T16:13:00.454Z"
   },
   {
    "duration": 272,
    "start_time": "2022-07-13T16:13:00.638Z"
   },
   {
    "duration": 11,
    "start_time": "2022-07-13T16:13:00.912Z"
   },
   {
    "duration": 106468,
    "start_time": "2022-07-13T16:13:00.926Z"
   },
   {
    "duration": 3,
    "start_time": "2022-07-13T16:14:47.397Z"
   },
   {
    "duration": 5052,
    "start_time": "2022-07-13T16:14:47.401Z"
   },
   {
    "duration": 95,
    "start_time": "2022-07-13T16:14:52.455Z"
   },
   {
    "duration": 5,
    "start_time": "2022-07-13T16:14:52.551Z"
   },
   {
    "duration": 7,
    "start_time": "2022-07-13T16:14:52.557Z"
   },
   {
    "duration": 46840,
    "start_time": "2022-07-13T16:14:52.565Z"
   },
   {
    "duration": 0,
    "start_time": "2022-07-13T16:15:39.407Z"
   },
   {
    "duration": 0,
    "start_time": "2022-07-13T16:15:39.409Z"
   },
   {
    "duration": 0,
    "start_time": "2022-07-13T16:15:39.409Z"
   },
   {
    "duration": 0,
    "start_time": "2022-07-13T16:15:39.410Z"
   },
   {
    "duration": 86,
    "start_time": "2022-07-13T16:15:41.892Z"
   },
   {
    "duration": 146,
    "start_time": "2022-07-13T16:15:43.199Z"
   },
   {
    "duration": 149,
    "start_time": "2022-07-13T16:15:56.162Z"
   },
   {
    "duration": 14,
    "start_time": "2022-07-13T16:17:02.043Z"
   },
   {
    "duration": 152,
    "start_time": "2022-07-13T16:17:12.462Z"
   },
   {
    "duration": 140,
    "start_time": "2022-07-13T16:17:24.122Z"
   },
   {
    "duration": 181,
    "start_time": "2022-07-13T16:21:33.266Z"
   },
   {
    "duration": 144,
    "start_time": "2022-07-13T16:23:12.706Z"
   },
   {
    "duration": 1447,
    "start_time": "2022-07-13T16:24:10.928Z"
   },
   {
    "duration": 3,
    "start_time": "2022-07-13T16:24:12.377Z"
   },
   {
    "duration": 40,
    "start_time": "2022-07-13T16:24:12.382Z"
   },
   {
    "duration": 11,
    "start_time": "2022-07-13T16:24:12.424Z"
   },
   {
    "duration": 10,
    "start_time": "2022-07-13T16:24:12.437Z"
   },
   {
    "duration": 7,
    "start_time": "2022-07-13T16:24:12.448Z"
   },
   {
    "duration": 19,
    "start_time": "2022-07-13T16:24:12.457Z"
   },
   {
    "duration": 12,
    "start_time": "2022-07-13T16:24:12.478Z"
   },
   {
    "duration": 42,
    "start_time": "2022-07-13T16:24:12.491Z"
   },
   {
    "duration": 12,
    "start_time": "2022-07-13T16:24:12.535Z"
   },
   {
    "duration": 24,
    "start_time": "2022-07-13T16:24:12.549Z"
   },
   {
    "duration": 7,
    "start_time": "2022-07-13T16:24:12.575Z"
   },
   {
    "duration": 7,
    "start_time": "2022-07-13T16:24:12.583Z"
   },
   {
    "duration": 51,
    "start_time": "2022-07-13T16:24:12.594Z"
   },
   {
    "duration": 25,
    "start_time": "2022-07-13T16:24:12.647Z"
   },
   {
    "duration": 22,
    "start_time": "2022-07-13T16:24:12.674Z"
   },
   {
    "duration": 38,
    "start_time": "2022-07-13T16:24:12.698Z"
   },
   {
    "duration": 15,
    "start_time": "2022-07-13T16:24:12.738Z"
   },
   {
    "duration": 12,
    "start_time": "2022-07-13T16:24:12.754Z"
   },
   {
    "duration": 257,
    "start_time": "2022-07-13T16:24:12.768Z"
   },
   {
    "duration": 8,
    "start_time": "2022-07-13T16:24:13.027Z"
   },
   {
    "duration": 246,
    "start_time": "2022-07-13T16:24:13.036Z"
   },
   {
    "duration": 245,
    "start_time": "2022-07-13T16:24:13.283Z"
   },
   {
    "duration": 179,
    "start_time": "2022-07-13T16:24:13.530Z"
   },
   {
    "duration": 262,
    "start_time": "2022-07-13T16:24:13.711Z"
   },
   {
    "duration": 3,
    "start_time": "2022-07-13T16:24:13.975Z"
   },
   {
    "duration": 104044,
    "start_time": "2022-07-13T16:24:13.980Z"
   },
   {
    "duration": 3,
    "start_time": "2022-07-13T16:25:58.025Z"
   },
   {
    "duration": 5138,
    "start_time": "2022-07-13T16:25:58.029Z"
   },
   {
    "duration": 99,
    "start_time": "2022-07-13T16:26:03.168Z"
   },
   {
    "duration": 4,
    "start_time": "2022-07-13T16:26:03.269Z"
   },
   {
    "duration": 6,
    "start_time": "2022-07-13T16:26:03.275Z"
   },
   {
    "duration": 60841,
    "start_time": "2022-07-13T16:26:03.283Z"
   },
   {
    "duration": 3,
    "start_time": "2022-07-13T16:27:04.126Z"
   },
   {
    "duration": 699,
    "start_time": "2022-07-13T16:27:04.130Z"
   },
   {
    "duration": 96,
    "start_time": "2022-07-13T16:27:04.831Z"
   },
   {
    "duration": 5,
    "start_time": "2022-07-13T16:27:04.929Z"
   },
   {
    "duration": 122,
    "start_time": "2022-07-13T16:27:04.936Z"
   },
   {
    "duration": 148,
    "start_time": "2022-07-13T16:27:05.059Z"
   },
   {
    "duration": 225,
    "start_time": "2022-07-13T16:27:05.208Z"
   },
   {
    "duration": 4,
    "start_time": "2022-07-13T16:27:05.437Z"
   },
   {
    "duration": 2199,
    "start_time": "2022-07-13T17:23:15.854Z"
   },
   {
    "duration": 3,
    "start_time": "2022-07-13T17:23:18.055Z"
   },
   {
    "duration": 93,
    "start_time": "2022-07-13T17:23:18.060Z"
   },
   {
    "duration": 13,
    "start_time": "2022-07-13T17:23:18.156Z"
   },
   {
    "duration": 12,
    "start_time": "2022-07-13T17:23:18.171Z"
   },
   {
    "duration": 7,
    "start_time": "2022-07-13T17:23:18.184Z"
   },
   {
    "duration": 15,
    "start_time": "2022-07-13T17:23:18.192Z"
   },
   {
    "duration": 4,
    "start_time": "2022-07-13T17:23:18.209Z"
   },
   {
    "duration": 53,
    "start_time": "2022-07-13T17:23:18.215Z"
   },
   {
    "duration": 12,
    "start_time": "2022-07-13T17:23:18.271Z"
   },
   {
    "duration": 23,
    "start_time": "2022-07-13T17:23:18.284Z"
   },
   {
    "duration": 6,
    "start_time": "2022-07-13T17:23:18.309Z"
   },
   {
    "duration": 31,
    "start_time": "2022-07-13T17:23:18.317Z"
   },
   {
    "duration": 27,
    "start_time": "2022-07-13T17:23:18.350Z"
   },
   {
    "duration": 24,
    "start_time": "2022-07-13T17:23:18.379Z"
   },
   {
    "duration": 47,
    "start_time": "2022-07-13T17:23:18.404Z"
   },
   {
    "duration": 27,
    "start_time": "2022-07-13T17:23:18.453Z"
   },
   {
    "duration": 10,
    "start_time": "2022-07-13T17:23:18.482Z"
   },
   {
    "duration": 9,
    "start_time": "2022-07-13T17:23:18.493Z"
   },
   {
    "duration": 290,
    "start_time": "2022-07-13T17:23:18.504Z"
   },
   {
    "duration": 9,
    "start_time": "2022-07-13T17:23:18.796Z"
   },
   {
    "duration": 308,
    "start_time": "2022-07-13T17:23:18.807Z"
   },
   {
    "duration": 253,
    "start_time": "2022-07-13T17:23:19.118Z"
   },
   {
    "duration": 198,
    "start_time": "2022-07-13T17:23:19.373Z"
   },
   {
    "duration": 237,
    "start_time": "2022-07-13T17:23:19.573Z"
   },
   {
    "duration": 3,
    "start_time": "2022-07-13T17:23:19.812Z"
   },
   {
    "duration": 6,
    "start_time": "2022-07-13T17:23:19.816Z"
   },
   {
    "duration": 135,
    "start_time": "2022-07-13T17:23:19.825Z"
   },
   {
    "duration": 0,
    "start_time": "2022-07-13T17:23:19.962Z"
   },
   {
    "duration": 0,
    "start_time": "2022-07-13T17:23:19.963Z"
   },
   {
    "duration": 0,
    "start_time": "2022-07-13T17:23:19.965Z"
   },
   {
    "duration": 0,
    "start_time": "2022-07-13T17:23:19.966Z"
   },
   {
    "duration": 0,
    "start_time": "2022-07-13T17:23:19.967Z"
   },
   {
    "duration": 0,
    "start_time": "2022-07-13T17:23:19.969Z"
   },
   {
    "duration": 0,
    "start_time": "2022-07-13T17:23:19.969Z"
   },
   {
    "duration": 0,
    "start_time": "2022-07-13T17:23:19.971Z"
   },
   {
    "duration": 0,
    "start_time": "2022-07-13T17:23:19.972Z"
   },
   {
    "duration": 0,
    "start_time": "2022-07-13T17:23:19.973Z"
   },
   {
    "duration": 0,
    "start_time": "2022-07-13T17:23:19.974Z"
   },
   {
    "duration": 0,
    "start_time": "2022-07-13T17:23:19.975Z"
   },
   {
    "duration": 0,
    "start_time": "2022-07-13T17:23:19.976Z"
   },
   {
    "duration": 0,
    "start_time": "2022-07-13T17:23:19.977Z"
   },
   {
    "duration": 0,
    "start_time": "2022-07-13T17:23:19.978Z"
   },
   {
    "duration": 0,
    "start_time": "2022-07-13T17:23:19.980Z"
   },
   {
    "duration": 1610,
    "start_time": "2022-07-13T17:24:09.704Z"
   },
   {
    "duration": 3,
    "start_time": "2022-07-13T17:24:11.316Z"
   },
   {
    "duration": 46,
    "start_time": "2022-07-13T17:24:11.321Z"
   },
   {
    "duration": 12,
    "start_time": "2022-07-13T17:24:11.369Z"
   },
   {
    "duration": 12,
    "start_time": "2022-07-13T17:24:11.383Z"
   },
   {
    "duration": 7,
    "start_time": "2022-07-13T17:24:11.397Z"
   },
   {
    "duration": 44,
    "start_time": "2022-07-13T17:24:11.406Z"
   },
   {
    "duration": 5,
    "start_time": "2022-07-13T17:24:11.452Z"
   },
   {
    "duration": 28,
    "start_time": "2022-07-13T17:24:11.459Z"
   },
   {
    "duration": 12,
    "start_time": "2022-07-13T17:24:11.491Z"
   },
   {
    "duration": 45,
    "start_time": "2022-07-13T17:24:11.506Z"
   },
   {
    "duration": 7,
    "start_time": "2022-07-13T17:24:11.553Z"
   },
   {
    "duration": 6,
    "start_time": "2022-07-13T17:24:11.562Z"
   },
   {
    "duration": 23,
    "start_time": "2022-07-13T17:24:11.570Z"
   },
   {
    "duration": 50,
    "start_time": "2022-07-13T17:24:11.595Z"
   },
   {
    "duration": 23,
    "start_time": "2022-07-13T17:24:11.647Z"
   },
   {
    "duration": 24,
    "start_time": "2022-07-13T17:24:11.672Z"
   },
   {
    "duration": 11,
    "start_time": "2022-07-13T17:24:11.699Z"
   },
   {
    "duration": 36,
    "start_time": "2022-07-13T17:24:11.711Z"
   },
   {
    "duration": 251,
    "start_time": "2022-07-13T17:24:11.749Z"
   },
   {
    "duration": 7,
    "start_time": "2022-07-13T17:24:12.002Z"
   },
   {
    "duration": 263,
    "start_time": "2022-07-13T17:24:12.011Z"
   },
   {
    "duration": 256,
    "start_time": "2022-07-13T17:24:12.276Z"
   },
   {
    "duration": 180,
    "start_time": "2022-07-13T17:24:12.533Z"
   },
   {
    "duration": 238,
    "start_time": "2022-07-13T17:24:12.715Z"
   },
   {
    "duration": 3,
    "start_time": "2022-07-13T17:24:12.955Z"
   },
   {
    "duration": 9,
    "start_time": "2022-07-13T17:24:12.960Z"
   },
   {
    "duration": 109056,
    "start_time": "2022-07-13T17:24:12.972Z"
   },
   {
    "duration": 16,
    "start_time": "2022-07-13T17:26:02.030Z"
   },
   {
    "duration": 5416,
    "start_time": "2022-07-13T17:26:02.048Z"
   },
   {
    "duration": 99,
    "start_time": "2022-07-13T17:26:07.466Z"
   },
   {
    "duration": 4,
    "start_time": "2022-07-13T17:26:07.567Z"
   },
   {
    "duration": 7,
    "start_time": "2022-07-13T17:26:07.573Z"
   },
   {
    "duration": 30127,
    "start_time": "2022-07-13T17:26:07.581Z"
   },
   {
    "duration": 0,
    "start_time": "2022-07-13T17:26:37.710Z"
   },
   {
    "duration": 0,
    "start_time": "2022-07-13T17:26:37.712Z"
   },
   {
    "duration": 0,
    "start_time": "2022-07-13T17:26:37.713Z"
   },
   {
    "duration": 0,
    "start_time": "2022-07-13T17:26:37.715Z"
   },
   {
    "duration": 0,
    "start_time": "2022-07-13T17:26:37.716Z"
   },
   {
    "duration": 0,
    "start_time": "2022-07-13T17:26:37.719Z"
   },
   {
    "duration": 0,
    "start_time": "2022-07-13T17:26:37.720Z"
   },
   {
    "duration": 0,
    "start_time": "2022-07-13T17:26:37.721Z"
   },
   {
    "duration": 0,
    "start_time": "2022-07-13T17:26:37.722Z"
   },
   {
    "duration": 0,
    "start_time": "2022-07-13T17:26:37.723Z"
   },
   {
    "duration": 1678,
    "start_time": "2022-07-13T17:30:02.117Z"
   },
   {
    "duration": 2,
    "start_time": "2022-07-13T17:30:03.798Z"
   },
   {
    "duration": 43,
    "start_time": "2022-07-13T17:30:03.802Z"
   },
   {
    "duration": 11,
    "start_time": "2022-07-13T17:30:03.848Z"
   },
   {
    "duration": 16,
    "start_time": "2022-07-13T17:30:03.861Z"
   },
   {
    "duration": 8,
    "start_time": "2022-07-13T17:30:03.879Z"
   },
   {
    "duration": 18,
    "start_time": "2022-07-13T17:30:03.889Z"
   },
   {
    "duration": 10,
    "start_time": "2022-07-13T17:30:03.909Z"
   },
   {
    "duration": 31,
    "start_time": "2022-07-13T17:30:03.947Z"
   },
   {
    "duration": 16,
    "start_time": "2022-07-13T17:30:03.981Z"
   },
   {
    "duration": 26,
    "start_time": "2022-07-13T17:30:03.998Z"
   },
   {
    "duration": 8,
    "start_time": "2022-07-13T17:30:04.046Z"
   },
   {
    "duration": 13,
    "start_time": "2022-07-13T17:30:04.056Z"
   },
   {
    "duration": 29,
    "start_time": "2022-07-13T17:30:04.071Z"
   },
   {
    "duration": 51,
    "start_time": "2022-07-13T17:30:04.102Z"
   },
   {
    "duration": 23,
    "start_time": "2022-07-13T17:30:04.155Z"
   },
   {
    "duration": 22,
    "start_time": "2022-07-13T17:30:04.180Z"
   },
   {
    "duration": 9,
    "start_time": "2022-07-13T17:30:04.204Z"
   },
   {
    "duration": 33,
    "start_time": "2022-07-13T17:30:04.214Z"
   },
   {
    "duration": 275,
    "start_time": "2022-07-13T17:30:04.248Z"
   },
   {
    "duration": 21,
    "start_time": "2022-07-13T17:30:04.525Z"
   },
   {
    "duration": 255,
    "start_time": "2022-07-13T17:30:04.549Z"
   },
   {
    "duration": 246,
    "start_time": "2022-07-13T17:30:04.806Z"
   },
   {
    "duration": 174,
    "start_time": "2022-07-13T17:30:05.054Z"
   },
   {
    "duration": 242,
    "start_time": "2022-07-13T17:30:05.229Z"
   },
   {
    "duration": 3,
    "start_time": "2022-07-13T17:30:05.472Z"
   },
   {
    "duration": 15,
    "start_time": "2022-07-13T17:30:05.477Z"
   },
   {
    "duration": 111652,
    "start_time": "2022-07-13T17:30:05.495Z"
   },
   {
    "duration": 3,
    "start_time": "2022-07-13T17:31:57.150Z"
   },
   {
    "duration": 5492,
    "start_time": "2022-07-13T17:31:57.156Z"
   },
   {
    "duration": 103,
    "start_time": "2022-07-13T17:32:02.650Z"
   },
   {
    "duration": 5,
    "start_time": "2022-07-13T17:32:02.755Z"
   },
   {
    "duration": 19,
    "start_time": "2022-07-13T17:32:02.762Z"
   },
   {
    "duration": 222004,
    "start_time": "2022-07-13T17:32:02.784Z"
   },
   {
    "duration": 0,
    "start_time": "2022-07-13T17:35:44.791Z"
   },
   {
    "duration": 0,
    "start_time": "2022-07-13T17:35:44.793Z"
   },
   {
    "duration": 0,
    "start_time": "2022-07-13T17:35:44.795Z"
   },
   {
    "duration": 0,
    "start_time": "2022-07-13T17:35:44.796Z"
   },
   {
    "duration": 0,
    "start_time": "2022-07-13T17:35:44.798Z"
   },
   {
    "duration": 0,
    "start_time": "2022-07-13T17:35:44.800Z"
   },
   {
    "duration": 0,
    "start_time": "2022-07-13T17:35:44.802Z"
   },
   {
    "duration": 0,
    "start_time": "2022-07-13T17:35:44.804Z"
   },
   {
    "duration": 0,
    "start_time": "2022-07-13T17:35:44.805Z"
   },
   {
    "duration": 0,
    "start_time": "2022-07-13T17:35:44.807Z"
   },
   {
    "duration": 95,
    "start_time": "2022-07-13T17:35:54.763Z"
   },
   {
    "duration": 154,
    "start_time": "2022-07-13T17:35:58.287Z"
   },
   {
    "duration": 236,
    "start_time": "2022-07-13T17:35:59.813Z"
   },
   {
    "duration": 7,
    "start_time": "2022-07-13T17:36:03.912Z"
   },
   {
    "duration": 563,
    "start_time": "2022-07-13T17:36:08.690Z"
   },
   {
    "duration": 33,
    "start_time": "2022-07-13T17:36:55.545Z"
   },
   {
    "duration": 33,
    "start_time": "2022-07-13T17:38:06.280Z"
   },
   {
    "duration": 35,
    "start_time": "2022-07-13T17:38:22.795Z"
   },
   {
    "duration": 1572,
    "start_time": "2022-07-13T17:40:34.965Z"
   },
   {
    "duration": 3,
    "start_time": "2022-07-13T17:40:36.539Z"
   },
   {
    "duration": 54,
    "start_time": "2022-07-13T17:40:36.545Z"
   },
   {
    "duration": 11,
    "start_time": "2022-07-13T17:40:36.601Z"
   },
   {
    "duration": 30,
    "start_time": "2022-07-13T17:40:36.614Z"
   },
   {
    "duration": 15,
    "start_time": "2022-07-13T17:40:36.646Z"
   },
   {
    "duration": 15,
    "start_time": "2022-07-13T17:40:36.663Z"
   },
   {
    "duration": 19,
    "start_time": "2022-07-13T17:40:36.680Z"
   },
   {
    "duration": 28,
    "start_time": "2022-07-13T17:40:36.700Z"
   },
   {
    "duration": 19,
    "start_time": "2022-07-13T17:40:36.731Z"
   },
   {
    "duration": 23,
    "start_time": "2022-07-13T17:40:36.752Z"
   },
   {
    "duration": 7,
    "start_time": "2022-07-13T17:40:36.777Z"
   },
   {
    "duration": 8,
    "start_time": "2022-07-13T17:40:36.786Z"
   },
   {
    "duration": 63,
    "start_time": "2022-07-13T17:40:36.796Z"
   },
   {
    "duration": 24,
    "start_time": "2022-07-13T17:40:36.860Z"
   },
   {
    "duration": 61,
    "start_time": "2022-07-13T17:40:36.885Z"
   },
   {
    "duration": 35,
    "start_time": "2022-07-13T17:40:36.948Z"
   },
   {
    "duration": 7,
    "start_time": "2022-07-13T17:40:36.985Z"
   },
   {
    "duration": 9,
    "start_time": "2022-07-13T17:40:36.994Z"
   },
   {
    "duration": 302,
    "start_time": "2022-07-13T17:40:37.005Z"
   },
   {
    "duration": 8,
    "start_time": "2022-07-13T17:40:37.309Z"
   },
   {
    "duration": 270,
    "start_time": "2022-07-13T17:40:37.319Z"
   },
   {
    "duration": 255,
    "start_time": "2022-07-13T17:40:37.591Z"
   },
   {
    "duration": 183,
    "start_time": "2022-07-13T17:40:37.848Z"
   },
   {
    "duration": 251,
    "start_time": "2022-07-13T17:40:38.033Z"
   },
   {
    "duration": 3,
    "start_time": "2022-07-13T17:40:38.286Z"
   },
   {
    "duration": 13,
    "start_time": "2022-07-13T17:40:38.291Z"
   },
   {
    "duration": 87822,
    "start_time": "2022-07-13T17:40:38.308Z"
   },
   {
    "duration": 3,
    "start_time": "2022-07-13T17:42:06.132Z"
   },
   {
    "duration": 4644,
    "start_time": "2022-07-13T17:42:06.147Z"
   },
   {
    "duration": 22,
    "start_time": "2022-07-13T17:42:10.794Z"
   },
   {
    "duration": 4,
    "start_time": "2022-07-13T17:42:10.818Z"
   },
   {
    "duration": 21,
    "start_time": "2022-07-13T17:42:10.824Z"
   },
   {
    "duration": 145452,
    "start_time": "2022-07-13T17:42:10.848Z"
   },
   {
    "duration": 0,
    "start_time": "2022-07-13T17:44:36.302Z"
   },
   {
    "duration": 0,
    "start_time": "2022-07-13T17:44:36.304Z"
   },
   {
    "duration": 0,
    "start_time": "2022-07-13T17:44:36.306Z"
   },
   {
    "duration": 0,
    "start_time": "2022-07-13T17:44:36.307Z"
   },
   {
    "duration": 0,
    "start_time": "2022-07-13T17:44:36.309Z"
   },
   {
    "duration": 0,
    "start_time": "2022-07-13T17:44:36.311Z"
   },
   {
    "duration": 0,
    "start_time": "2022-07-13T17:44:36.312Z"
   },
   {
    "duration": 0,
    "start_time": "2022-07-13T17:44:36.314Z"
   },
   {
    "duration": 0,
    "start_time": "2022-07-13T17:44:36.315Z"
   },
   {
    "duration": 3,
    "start_time": "2022-07-13T17:44:47.368Z"
   },
   {
    "duration": 69409,
    "start_time": "2022-07-13T17:44:51.239Z"
   },
   {
    "duration": 0,
    "start_time": "2022-07-13T17:46:00.651Z"
   },
   {
    "duration": 0,
    "start_time": "2022-07-13T17:46:00.652Z"
   },
   {
    "duration": 4,
    "start_time": "2022-07-13T17:46:07.899Z"
   },
   {
    "duration": 141478,
    "start_time": "2022-07-13T17:46:08.686Z"
   },
   {
    "duration": 86,
    "start_time": "2022-07-13T17:48:30.166Z"
   },
   {
    "duration": 10,
    "start_time": "2022-07-13T17:48:30.255Z"
   },
   {
    "duration": 1574,
    "start_time": "2022-07-13T17:51:22.042Z"
   },
   {
    "duration": 3,
    "start_time": "2022-07-13T17:51:23.618Z"
   },
   {
    "duration": 44,
    "start_time": "2022-07-13T17:51:23.623Z"
   },
   {
    "duration": 11,
    "start_time": "2022-07-13T17:51:23.669Z"
   },
   {
    "duration": 14,
    "start_time": "2022-07-13T17:51:23.682Z"
   },
   {
    "duration": 8,
    "start_time": "2022-07-13T17:51:23.698Z"
   },
   {
    "duration": 46,
    "start_time": "2022-07-13T17:51:23.708Z"
   },
   {
    "duration": 9,
    "start_time": "2022-07-13T17:51:23.756Z"
   },
   {
    "duration": 25,
    "start_time": "2022-07-13T17:51:23.767Z"
   },
   {
    "duration": 12,
    "start_time": "2022-07-13T17:51:23.795Z"
   },
   {
    "duration": 63,
    "start_time": "2022-07-13T17:51:23.809Z"
   },
   {
    "duration": 10,
    "start_time": "2022-07-13T17:51:23.875Z"
   },
   {
    "duration": 17,
    "start_time": "2022-07-13T17:51:23.888Z"
   },
   {
    "duration": 39,
    "start_time": "2022-07-13T17:51:23.907Z"
   },
   {
    "duration": 26,
    "start_time": "2022-07-13T17:51:23.948Z"
   },
   {
    "duration": 34,
    "start_time": "2022-07-13T17:51:23.976Z"
   },
   {
    "duration": 51,
    "start_time": "2022-07-13T17:51:24.012Z"
   },
   {
    "duration": 11,
    "start_time": "2022-07-13T17:51:24.065Z"
   },
   {
    "duration": 11,
    "start_time": "2022-07-13T17:51:24.078Z"
   },
   {
    "duration": 295,
    "start_time": "2022-07-13T17:51:24.092Z"
   },
   {
    "duration": 10,
    "start_time": "2022-07-13T17:51:24.389Z"
   },
   {
    "duration": 289,
    "start_time": "2022-07-13T17:51:24.401Z"
   },
   {
    "duration": 265,
    "start_time": "2022-07-13T17:51:24.692Z"
   },
   {
    "duration": 188,
    "start_time": "2022-07-13T17:51:24.958Z"
   },
   {
    "duration": 279,
    "start_time": "2022-07-13T17:51:25.148Z"
   },
   {
    "duration": 3,
    "start_time": "2022-07-13T17:51:25.429Z"
   },
   {
    "duration": 111828,
    "start_time": "2022-07-13T17:51:25.445Z"
   },
   {
    "duration": 3,
    "start_time": "2022-07-13T17:53:17.278Z"
   },
   {
    "duration": 5433,
    "start_time": "2022-07-13T17:53:17.283Z"
   },
   {
    "duration": 99,
    "start_time": "2022-07-13T17:53:22.718Z"
   },
   {
    "duration": 6,
    "start_time": "2022-07-13T17:53:22.819Z"
   },
   {
    "duration": 20,
    "start_time": "2022-07-13T17:53:22.826Z"
   },
   {
    "duration": 1336654,
    "start_time": "2022-07-13T17:53:22.847Z"
   },
   {
    "duration": 0,
    "start_time": "2022-07-13T18:15:39.504Z"
   },
   {
    "duration": 0,
    "start_time": "2022-07-13T18:15:39.505Z"
   },
   {
    "duration": 0,
    "start_time": "2022-07-13T18:15:39.506Z"
   },
   {
    "duration": 0,
    "start_time": "2022-07-13T18:15:39.508Z"
   },
   {
    "duration": 0,
    "start_time": "2022-07-13T18:15:39.509Z"
   },
   {
    "duration": 0,
    "start_time": "2022-07-13T18:15:39.510Z"
   },
   {
    "duration": 0,
    "start_time": "2022-07-13T18:15:39.512Z"
   },
   {
    "duration": 0,
    "start_time": "2022-07-13T18:15:39.513Z"
   },
   {
    "duration": 1513,
    "start_time": "2022-07-13T18:15:49.408Z"
   },
   {
    "duration": 3,
    "start_time": "2022-07-13T18:15:50.923Z"
   },
   {
    "duration": 59,
    "start_time": "2022-07-13T18:15:50.928Z"
   },
   {
    "duration": 12,
    "start_time": "2022-07-13T18:15:50.991Z"
   },
   {
    "duration": 17,
    "start_time": "2022-07-13T18:15:51.005Z"
   },
   {
    "duration": 7,
    "start_time": "2022-07-13T18:15:51.024Z"
   },
   {
    "duration": 22,
    "start_time": "2022-07-13T18:15:51.033Z"
   },
   {
    "duration": 8,
    "start_time": "2022-07-13T18:15:51.057Z"
   },
   {
    "duration": 35,
    "start_time": "2022-07-13T18:15:51.067Z"
   },
   {
    "duration": 13,
    "start_time": "2022-07-13T18:15:51.106Z"
   },
   {
    "duration": 48,
    "start_time": "2022-07-13T18:15:51.120Z"
   },
   {
    "duration": 7,
    "start_time": "2022-07-13T18:15:51.172Z"
   },
   {
    "duration": 7,
    "start_time": "2022-07-13T18:15:51.181Z"
   },
   {
    "duration": 57,
    "start_time": "2022-07-13T18:15:51.190Z"
   },
   {
    "duration": 24,
    "start_time": "2022-07-13T18:15:51.249Z"
   },
   {
    "duration": 30,
    "start_time": "2022-07-13T18:15:51.275Z"
   },
   {
    "duration": 46,
    "start_time": "2022-07-13T18:15:51.307Z"
   },
   {
    "duration": 13,
    "start_time": "2022-07-13T18:15:51.355Z"
   },
   {
    "duration": 8,
    "start_time": "2022-07-13T18:15:51.370Z"
   },
   {
    "duration": 299,
    "start_time": "2022-07-13T18:15:51.380Z"
   },
   {
    "duration": 8,
    "start_time": "2022-07-13T18:15:51.680Z"
   },
   {
    "duration": 263,
    "start_time": "2022-07-13T18:15:51.690Z"
   },
   {
    "duration": 273,
    "start_time": "2022-07-13T18:15:51.955Z"
   },
   {
    "duration": 178,
    "start_time": "2022-07-13T18:15:52.230Z"
   },
   {
    "duration": 243,
    "start_time": "2022-07-13T18:15:52.410Z"
   },
   {
    "duration": 4,
    "start_time": "2022-07-13T18:15:52.654Z"
   },
   {
    "duration": 113453,
    "start_time": "2022-07-13T18:15:52.660Z"
   },
   {
    "duration": 3,
    "start_time": "2022-07-13T18:17:46.116Z"
   },
   {
    "duration": 5378,
    "start_time": "2022-07-13T18:17:46.121Z"
   },
   {
    "duration": 115,
    "start_time": "2022-07-13T18:17:51.501Z"
   },
   {
    "duration": 5,
    "start_time": "2022-07-13T18:17:51.618Z"
   },
   {
    "duration": 21,
    "start_time": "2022-07-13T18:17:51.625Z"
   },
   {
    "duration": 16,
    "start_time": "2022-07-13T18:17:51.649Z"
   },
   {
    "duration": 14,
    "start_time": "2022-07-13T18:17:51.667Z"
   },
   {
    "duration": 137772,
    "start_time": "2022-07-13T18:17:51.683Z"
   },
   {
    "duration": 96,
    "start_time": "2022-07-13T18:20:09.457Z"
   },
   {
    "duration": 4,
    "start_time": "2022-07-13T18:20:09.555Z"
   },
   {
    "duration": 155,
    "start_time": "2022-07-13T18:20:09.561Z"
   },
   {
    "duration": 158,
    "start_time": "2022-07-13T18:20:09.718Z"
   },
   {
    "duration": 232,
    "start_time": "2022-07-13T18:20:09.878Z"
   },
   {
    "duration": 5,
    "start_time": "2022-07-13T18:20:10.111Z"
   },
   {
    "duration": 1766,
    "start_time": "2022-07-14T12:25:14.754Z"
   },
   {
    "duration": 4,
    "start_time": "2022-07-14T12:25:16.523Z"
   },
   {
    "duration": 120,
    "start_time": "2022-07-14T12:25:16.529Z"
   },
   {
    "duration": 13,
    "start_time": "2022-07-14T12:25:16.651Z"
   },
   {
    "duration": 10,
    "start_time": "2022-07-14T12:25:16.666Z"
   },
   {
    "duration": 7,
    "start_time": "2022-07-14T12:25:16.678Z"
   },
   {
    "duration": 34,
    "start_time": "2022-07-14T12:25:16.687Z"
   },
   {
    "duration": 9,
    "start_time": "2022-07-14T12:25:16.724Z"
   },
   {
    "duration": 29,
    "start_time": "2022-07-14T12:25:16.735Z"
   },
   {
    "duration": 12,
    "start_time": "2022-07-14T12:25:16.766Z"
   },
   {
    "duration": 43,
    "start_time": "2022-07-14T12:25:16.780Z"
   },
   {
    "duration": 7,
    "start_time": "2022-07-14T12:25:16.825Z"
   },
   {
    "duration": 15,
    "start_time": "2022-07-14T12:25:16.834Z"
   },
   {
    "duration": 37,
    "start_time": "2022-07-14T12:25:16.852Z"
   },
   {
    "duration": 43,
    "start_time": "2022-07-14T12:25:16.891Z"
   },
   {
    "duration": 36,
    "start_time": "2022-07-14T12:25:16.937Z"
   },
   {
    "duration": 24,
    "start_time": "2022-07-14T12:25:16.975Z"
   },
   {
    "duration": 28,
    "start_time": "2022-07-14T12:25:17.001Z"
   },
   {
    "duration": 22,
    "start_time": "2022-07-14T12:25:17.031Z"
   },
   {
    "duration": 265,
    "start_time": "2022-07-14T12:25:17.055Z"
   },
   {
    "duration": 8,
    "start_time": "2022-07-14T12:25:17.323Z"
   },
   {
    "duration": 265,
    "start_time": "2022-07-14T12:25:17.332Z"
   },
   {
    "duration": 240,
    "start_time": "2022-07-14T12:25:17.599Z"
   },
   {
    "duration": 177,
    "start_time": "2022-07-14T12:25:17.841Z"
   },
   {
    "duration": 242,
    "start_time": "2022-07-14T12:25:18.022Z"
   },
   {
    "duration": 3,
    "start_time": "2022-07-14T12:25:18.266Z"
   },
   {
    "duration": 128167,
    "start_time": "2022-07-14T12:25:18.271Z"
   },
   {
    "duration": 3,
    "start_time": "2022-07-14T12:27:26.439Z"
   },
   {
    "duration": 3967,
    "start_time": "2022-07-14T12:27:26.443Z"
   },
   {
    "duration": 27,
    "start_time": "2022-07-14T12:27:30.412Z"
   },
   {
    "duration": 22,
    "start_time": "2022-07-14T12:27:30.441Z"
   },
   {
    "duration": 31,
    "start_time": "2022-07-14T12:27:30.465Z"
   },
   {
    "duration": 314836,
    "start_time": "2022-07-14T12:27:30.498Z"
   },
   {
    "duration": 2,
    "start_time": "2022-07-14T12:32:45.336Z"
   },
   {
    "duration": 707,
    "start_time": "2022-07-14T12:32:45.424Z"
   },
   {
    "duration": 91,
    "start_time": "2022-07-14T12:32:46.133Z"
   },
   {
    "duration": 5,
    "start_time": "2022-07-14T12:32:46.226Z"
   },
   {
    "duration": 22,
    "start_time": "2022-07-14T12:32:46.232Z"
   },
   {
    "duration": 345,
    "start_time": "2022-07-14T12:32:46.256Z"
   },
   {
    "duration": 5,
    "start_time": "2022-07-14T12:32:46.604Z"
   },
   {
    "duration": 4,
    "start_time": "2022-07-14T12:34:06.863Z"
   },
   {
    "duration": 248,
    "start_time": "2022-07-14T12:35:20.475Z"
   },
   {
    "duration": 247,
    "start_time": "2022-07-14T12:35:42.325Z"
   },
   {
    "duration": 234,
    "start_time": "2022-07-14T12:35:47.580Z"
   },
   {
    "duration": 4,
    "start_time": "2022-07-14T12:41:26.266Z"
   },
   {
    "duration": 3,
    "start_time": "2022-07-14T12:42:10.744Z"
   },
   {
    "duration": 144,
    "start_time": "2022-07-14T12:42:41.995Z"
   },
   {
    "duration": 4,
    "start_time": "2022-07-14T12:43:07.815Z"
   },
   {
    "duration": 172951,
    "start_time": "2022-07-14T12:43:11.174Z"
   },
   {
    "duration": 4,
    "start_time": "2022-07-14T12:46:04.127Z"
   },
   {
    "duration": 4,
    "start_time": "2022-07-14T12:46:28.455Z"
   },
   {
    "duration": 4,
    "start_time": "2022-07-14T12:48:44.715Z"
   },
   {
    "duration": 3,
    "start_time": "2022-07-14T12:51:08.658Z"
   },
   {
    "duration": 5594,
    "start_time": "2022-07-14T12:51:09.786Z"
   },
   {
    "duration": 28,
    "start_time": "2022-07-14T12:51:15.382Z"
   },
   {
    "duration": 13,
    "start_time": "2022-07-14T12:51:15.412Z"
   },
   {
    "duration": 3,
    "start_time": "2022-07-14T12:51:30.501Z"
   },
   {
    "duration": 3,
    "start_time": "2022-07-14T12:53:30.305Z"
   },
   {
    "duration": 476,
    "start_time": "2022-07-14T12:53:31.452Z"
   },
   {
    "duration": 11,
    "start_time": "2022-07-14T12:53:32.447Z"
   },
   {
    "duration": 5,
    "start_time": "2022-07-14T12:53:33.752Z"
   },
   {
    "duration": 1435,
    "start_time": "2022-07-14T12:56:14.805Z"
   },
   {
    "duration": 3,
    "start_time": "2022-07-14T12:56:16.242Z"
   },
   {
    "duration": 51,
    "start_time": "2022-07-14T12:56:16.247Z"
   },
   {
    "duration": 11,
    "start_time": "2022-07-14T12:56:16.300Z"
   },
   {
    "duration": 10,
    "start_time": "2022-07-14T12:56:16.313Z"
   },
   {
    "duration": 7,
    "start_time": "2022-07-14T12:56:16.324Z"
   },
   {
    "duration": 13,
    "start_time": "2022-07-14T12:56:16.333Z"
   },
   {
    "duration": 6,
    "start_time": "2022-07-14T12:56:16.348Z"
   },
   {
    "duration": 27,
    "start_time": "2022-07-14T12:56:16.355Z"
   },
   {
    "duration": 10,
    "start_time": "2022-07-14T12:56:16.385Z"
   },
   {
    "duration": 48,
    "start_time": "2022-07-14T12:56:16.397Z"
   },
   {
    "duration": 10,
    "start_time": "2022-07-14T12:56:16.447Z"
   },
   {
    "duration": 25,
    "start_time": "2022-07-14T12:56:16.458Z"
   },
   {
    "duration": 45,
    "start_time": "2022-07-14T12:56:16.484Z"
   },
   {
    "duration": 7,
    "start_time": "2022-07-14T12:56:16.531Z"
   },
   {
    "duration": 9,
    "start_time": "2022-07-14T12:56:16.539Z"
   },
   {
    "duration": 266,
    "start_time": "2022-07-14T12:56:16.550Z"
   },
   {
    "duration": 10,
    "start_time": "2022-07-14T12:56:16.817Z"
   },
   {
    "duration": 270,
    "start_time": "2022-07-14T12:56:16.829Z"
   },
   {
    "duration": 257,
    "start_time": "2022-07-14T12:56:17.100Z"
   },
   {
    "duration": 182,
    "start_time": "2022-07-14T12:56:17.359Z"
   },
   {
    "duration": 256,
    "start_time": "2022-07-14T12:56:17.543Z"
   },
   {
    "duration": 3,
    "start_time": "2022-07-14T12:56:17.801Z"
   },
   {
    "duration": 17,
    "start_time": "2022-07-14T12:56:17.806Z"
   },
   {
    "duration": 201549,
    "start_time": "2022-07-14T12:56:17.825Z"
   },
   {
    "duration": 4,
    "start_time": "2022-07-14T12:59:39.376Z"
   },
   {
    "duration": 6,
    "start_time": "2022-07-14T12:59:39.383Z"
   },
   {
    "duration": 47,
    "start_time": "2022-07-14T12:59:39.391Z"
   },
   {
    "duration": 0,
    "start_time": "2022-07-14T12:59:39.440Z"
   },
   {
    "duration": 0,
    "start_time": "2022-07-14T12:59:39.441Z"
   },
   {
    "duration": 0,
    "start_time": "2022-07-14T12:59:39.442Z"
   },
   {
    "duration": 0,
    "start_time": "2022-07-14T12:59:39.443Z"
   },
   {
    "duration": 107306,
    "start_time": "2022-07-14T13:00:14.721Z"
   },
   {
    "duration": 4,
    "start_time": "2022-07-14T13:02:02.030Z"
   },
   {
    "duration": 156,
    "start_time": "2022-07-14T13:02:02.035Z"
   },
   {
    "duration": 3,
    "start_time": "2022-07-14T13:02:39.236Z"
   },
   {
    "duration": 181977,
    "start_time": "2022-07-14T13:02:40.453Z"
   },
   {
    "duration": 4,
    "start_time": "2022-07-14T13:05:42.433Z"
   },
   {
    "duration": 3,
    "start_time": "2022-07-14T13:07:56.973Z"
   },
   {
    "duration": 238336,
    "start_time": "2022-07-14T13:07:58.091Z"
   },
   {
    "duration": 3,
    "start_time": "2022-07-14T13:11:56.430Z"
   },
   {
    "duration": 11,
    "start_time": "2022-07-14T13:11:56.435Z"
   },
   {
    "duration": 127915,
    "start_time": "2022-07-14T13:11:56.448Z"
   },
   {
    "duration": 4,
    "start_time": "2022-07-14T13:14:04.364Z"
   },
   {
    "duration": 3,
    "start_time": "2022-07-14T13:16:39.262Z"
   },
   {
    "duration": 124128,
    "start_time": "2022-07-14T13:16:42.132Z"
   },
   {
    "duration": 4,
    "start_time": "2022-07-14T13:18:46.262Z"
   },
   {
    "duration": 7,
    "start_time": "2022-07-14T13:18:46.268Z"
   },
   {
    "duration": 1154,
    "start_time": "2022-07-14T13:18:46.277Z"
   },
   {
    "duration": 11,
    "start_time": "2022-07-14T13:18:47.433Z"
   },
   {
    "duration": 0,
    "start_time": "2022-07-14T13:18:47.445Z"
   },
   {
    "duration": 0,
    "start_time": "2022-07-14T13:18:47.446Z"
   },
   {
    "duration": 11,
    "start_time": "2022-07-14T13:20:20.273Z"
   },
   {
    "duration": 271,
    "start_time": "2022-07-14T13:20:27.678Z"
   },
   {
    "duration": 4,
    "start_time": "2022-07-14T13:20:29.357Z"
   },
   {
    "duration": 1451,
    "start_time": "2022-07-14T13:29:36.314Z"
   },
   {
    "duration": 3,
    "start_time": "2022-07-14T13:29:37.767Z"
   },
   {
    "duration": 52,
    "start_time": "2022-07-14T13:29:37.772Z"
   },
   {
    "duration": 10,
    "start_time": "2022-07-14T13:29:37.825Z"
   },
   {
    "duration": 9,
    "start_time": "2022-07-14T13:29:37.837Z"
   },
   {
    "duration": 8,
    "start_time": "2022-07-14T13:29:37.848Z"
   },
   {
    "duration": 13,
    "start_time": "2022-07-14T13:29:37.857Z"
   },
   {
    "duration": 5,
    "start_time": "2022-07-14T13:29:37.871Z"
   },
   {
    "duration": 51,
    "start_time": "2022-07-14T13:29:37.878Z"
   },
   {
    "duration": 12,
    "start_time": "2022-07-14T13:29:37.931Z"
   },
   {
    "duration": 24,
    "start_time": "2022-07-14T13:29:37.944Z"
   },
   {
    "duration": 5,
    "start_time": "2022-07-14T13:29:37.970Z"
   },
   {
    "duration": 23,
    "start_time": "2022-07-14T13:29:37.977Z"
   },
   {
    "duration": 22,
    "start_time": "2022-07-14T13:29:38.025Z"
   },
   {
    "duration": 5,
    "start_time": "2022-07-14T13:29:38.049Z"
   },
   {
    "duration": 8,
    "start_time": "2022-07-14T13:29:38.056Z"
   },
   {
    "duration": 270,
    "start_time": "2022-07-14T13:29:38.066Z"
   },
   {
    "duration": 7,
    "start_time": "2022-07-14T13:29:38.338Z"
   },
   {
    "duration": 244,
    "start_time": "2022-07-14T13:29:38.347Z"
   },
   {
    "duration": 264,
    "start_time": "2022-07-14T13:29:38.593Z"
   },
   {
    "duration": 236,
    "start_time": "2022-07-14T13:29:38.858Z"
   },
   {
    "duration": 271,
    "start_time": "2022-07-14T13:29:39.096Z"
   },
   {
    "duration": 3,
    "start_time": "2022-07-14T13:29:39.368Z"
   },
   {
    "duration": 6,
    "start_time": "2022-07-14T13:29:39.373Z"
   },
   {
    "duration": 43258,
    "start_time": "2022-07-14T13:29:39.380Z"
   },
   {
    "duration": 3,
    "start_time": "2022-07-14T13:30:22.640Z"
   },
   {
    "duration": 7,
    "start_time": "2022-07-14T13:30:22.645Z"
   },
   {
    "duration": 31677,
    "start_time": "2022-07-14T13:30:22.653Z"
   },
   {
    "duration": 5,
    "start_time": "2022-07-14T13:30:54.331Z"
   },
   {
    "duration": 10,
    "start_time": "2022-07-14T13:30:54.337Z"
   },
   {
    "duration": 982,
    "start_time": "2022-07-14T13:30:54.349Z"
   },
   {
    "duration": 92,
    "start_time": "2022-07-14T13:30:55.333Z"
   },
   {
    "duration": 287,
    "start_time": "2022-07-14T13:30:55.426Z"
   },
   {
    "duration": 4,
    "start_time": "2022-07-14T13:30:55.716Z"
   },
   {
    "duration": 67,
    "start_time": "2022-07-14T13:36:54.130Z"
   }
  ],
  "kernelspec": {
   "display_name": "Python 3",
   "language": "python",
   "name": "python3"
  },
  "language_info": {
   "codemirror_mode": {
    "name": "ipython",
    "version": 3
   },
   "file_extension": ".py",
   "mimetype": "text/x-python",
   "name": "python",
   "nbconvert_exporter": "python",
   "pygments_lexer": "ipython3",
   "version": "3.7.1"
  },
  "toc": {
   "base_numbering": 1,
   "nav_menu": {},
   "number_sections": true,
   "sideBar": true,
   "skip_h1_title": true,
   "title_cell": "Содержание",
   "title_sidebar": "Contents",
   "toc_cell": true,
   "toc_position": {
    "height": "calc(100% - 180px)",
    "left": "10px",
    "top": "150px",
    "width": "165px"
   },
   "toc_section_display": true,
   "toc_window_display": true
  }
 },
 "nbformat": 4,
 "nbformat_minor": 2
}
